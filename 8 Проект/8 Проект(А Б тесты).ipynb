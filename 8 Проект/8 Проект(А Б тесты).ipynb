{
 "cells": [
  {
   "cell_type": "markdown",
   "id": "8fc5811c",
   "metadata": {},
   "source": [
    "Приоритизируем данные гипотезы. Запустим А/В тест и проанализируем результаты. В файле hypothesis 9 гипотез по увеличению выручки интернет-магазина с указаными параметрами Reach, Impact, Confidence, Effort. Решим следущие задачи.\n"
   ]
  },
  {
   "cell_type": "markdown",
   "id": "ee29852d",
   "metadata": {},
   "source": [
    "Применим фреймворк ICE для приоритизации гипотез. Отсортируйте их по убыванию приоритета.\n",
    "\n",
    "Применим фреймворк RICE для приоритизации гипотез. Отсортируйте их по убыванию приоритета.\n",
    "\n",
    "Укажим, как изменилась приоритизация гипотез при применении RICE вместо ICE. Объясните, почему так произошло."
   ]
  },
  {
   "cell_type": "markdown",
   "id": "2f830620",
   "metadata": {},
   "source": [
    "Анализ A/B-теста"
   ]
  },
  {
   "cell_type": "markdown",
   "id": "7be34a06",
   "metadata": {},
   "source": [
    "Описание данных\n",
    "\n",
    "Данные для первой части\n",
    "\n",
    "Файл /datasets/hypothesis.csv. Скачать датасет\n",
    "\n",
    "Hypothesis — краткое описание гипотезы;\n",
    "\n",
    "Reach — охват пользователей по 10-балльной шкале;\n",
    "\n",
    "Impact — влияние на пользователей по 10-балльной шкале;\n",
    "\n",
    "Confidence — уверенность в гипотезе по 10-балльной шкале;\n",
    "\n",
    "Efforts — затраты ресурсов на проверку гипотезы по 10-балльной шкале. Чем больше значение Efforts, тем дороже проверка гипотезы.\n",
    "\n",
    "Данные для второй части\n",
    "\n",
    "Файл /datasets/orders.csv. Скачать датасет\n",
    "\n",
    "transactionId — идентификатор заказа;\n",
    "\n",
    "visitorId — идентификатор пользователя, совершившего заказ;\n",
    "\n",
    "date — дата, когда был совершён заказ;\n",
    "\n",
    "revenue — выручка заказа;\n",
    "\n",
    "group — группа A/B-теста, в которую попал заказ.\n",
    "\n",
    "Файл /datasets/visitors.csv. Скачать датасет\n",
    "\n",
    "date — дата;\n",
    "\n",
    "group — группа A/B-теста;\n",
    "\n",
    "visitors — количество пользователей в указанную дату в указанной группе A/B-теста"
   ]
  },
  {
   "cell_type": "code",
   "execution_count": 1,
   "id": "99f8fe4e",
   "metadata": {},
   "outputs": [],
   "source": [
    "import pandas as pd\n",
    "import numpy as np\n",
    "import scipy.stats as stats\n",
    "import datetime as dt\n",
    "\n",
    "from pandas.plotting import register_matplotlib_converters\n",
    "import warnings\n",
    "from collections import defaultdict\n",
    "import matplotlib.pyplot as plt"
   ]
  },
  {
   "cell_type": "markdown",
   "id": "6fc53f09",
   "metadata": {},
   "source": [
    "Посмотрим данные в файле ('hypothesis.csv')"
   ]
  },
  {
   "cell_type": "code",
   "execution_count": 2,
   "id": "f0bef675",
   "metadata": {},
   "outputs": [
    {
     "data": {
      "text/html": [
       "<div>\n",
       "<style scoped>\n",
       "    .dataframe tbody tr th:only-of-type {\n",
       "        vertical-align: middle;\n",
       "    }\n",
       "\n",
       "    .dataframe tbody tr th {\n",
       "        vertical-align: top;\n",
       "    }\n",
       "\n",
       "    .dataframe thead th {\n",
       "        text-align: right;\n",
       "    }\n",
       "</style>\n",
       "<table border=\"1\" class=\"dataframe\">\n",
       "  <thead>\n",
       "    <tr style=\"text-align: right;\">\n",
       "      <th></th>\n",
       "      <th>Hypothesis</th>\n",
       "      <th>Reach</th>\n",
       "      <th>Impact</th>\n",
       "      <th>Confidence</th>\n",
       "      <th>Efforts</th>\n",
       "    </tr>\n",
       "  </thead>\n",
       "  <tbody>\n",
       "    <tr>\n",
       "      <th>0</th>\n",
       "      <td>Добавить два новых канала привлечения трафика,...</td>\n",
       "      <td>3</td>\n",
       "      <td>10</td>\n",
       "      <td>8</td>\n",
       "      <td>6</td>\n",
       "    </tr>\n",
       "    <tr>\n",
       "      <th>1</th>\n",
       "      <td>Запустить собственную службу доставки, что сок...</td>\n",
       "      <td>2</td>\n",
       "      <td>5</td>\n",
       "      <td>4</td>\n",
       "      <td>10</td>\n",
       "    </tr>\n",
       "    <tr>\n",
       "      <th>2</th>\n",
       "      <td>Добавить блоки рекомендаций товаров на сайт ин...</td>\n",
       "      <td>8</td>\n",
       "      <td>3</td>\n",
       "      <td>7</td>\n",
       "      <td>3</td>\n",
       "    </tr>\n",
       "    <tr>\n",
       "      <th>3</th>\n",
       "      <td>Изменить структура категорий, что увеличит кон...</td>\n",
       "      <td>8</td>\n",
       "      <td>3</td>\n",
       "      <td>3</td>\n",
       "      <td>8</td>\n",
       "    </tr>\n",
       "    <tr>\n",
       "      <th>4</th>\n",
       "      <td>Изменить цвет фона главной страницы, чтобы уве...</td>\n",
       "      <td>3</td>\n",
       "      <td>1</td>\n",
       "      <td>1</td>\n",
       "      <td>1</td>\n",
       "    </tr>\n",
       "    <tr>\n",
       "      <th>5</th>\n",
       "      <td>Добавить страницу отзывов клиентов о магазине,...</td>\n",
       "      <td>3</td>\n",
       "      <td>2</td>\n",
       "      <td>2</td>\n",
       "      <td>3</td>\n",
       "    </tr>\n",
       "    <tr>\n",
       "      <th>6</th>\n",
       "      <td>Показать на главной странице баннеры с актуаль...</td>\n",
       "      <td>5</td>\n",
       "      <td>3</td>\n",
       "      <td>8</td>\n",
       "      <td>3</td>\n",
       "    </tr>\n",
       "    <tr>\n",
       "      <th>7</th>\n",
       "      <td>Добавить форму подписки на все основные страни...</td>\n",
       "      <td>10</td>\n",
       "      <td>7</td>\n",
       "      <td>8</td>\n",
       "      <td>5</td>\n",
       "    </tr>\n",
       "    <tr>\n",
       "      <th>8</th>\n",
       "      <td>Запустить акцию, дающую скидку на товар в день...</td>\n",
       "      <td>1</td>\n",
       "      <td>9</td>\n",
       "      <td>9</td>\n",
       "      <td>5</td>\n",
       "    </tr>\n",
       "  </tbody>\n",
       "</table>\n",
       "</div>"
      ],
      "text/plain": [
       "                                          Hypothesis  Reach  Impact  \\\n",
       "0  Добавить два новых канала привлечения трафика,...      3      10   \n",
       "1  Запустить собственную службу доставки, что сок...      2       5   \n",
       "2  Добавить блоки рекомендаций товаров на сайт ин...      8       3   \n",
       "3  Изменить структура категорий, что увеличит кон...      8       3   \n",
       "4  Изменить цвет фона главной страницы, чтобы уве...      3       1   \n",
       "5  Добавить страницу отзывов клиентов о магазине,...      3       2   \n",
       "6  Показать на главной странице баннеры с актуаль...      5       3   \n",
       "7  Добавить форму подписки на все основные страни...     10       7   \n",
       "8  Запустить акцию, дающую скидку на товар в день...      1       9   \n",
       "\n",
       "   Confidence  Efforts  \n",
       "0           8        6  \n",
       "1           4       10  \n",
       "2           7        3  \n",
       "3           3        8  \n",
       "4           1        1  \n",
       "5           2        3  \n",
       "6           8        3  \n",
       "7           8        5  \n",
       "8           9        5  "
      ]
     },
     "execution_count": 2,
     "metadata": {},
     "output_type": "execute_result"
    }
   ],
   "source": [
    "hypothesis = pd.read_csv('/datasets/hypothesis.csv')\n",
    "hypothesis"
   ]
  },
  {
   "cell_type": "markdown",
   "id": "5acc2fae",
   "metadata": {},
   "source": [
    "Посмотрим данные в файле 'orders.csv'"
   ]
  },
  {
   "cell_type": "code",
   "execution_count": 3,
   "id": "76002051",
   "metadata": {},
   "outputs": [
    {
     "data": {
      "text/html": [
       "<div>\n",
       "<style scoped>\n",
       "    .dataframe tbody tr th:only-of-type {\n",
       "        vertical-align: middle;\n",
       "    }\n",
       "\n",
       "    .dataframe tbody tr th {\n",
       "        vertical-align: top;\n",
       "    }\n",
       "\n",
       "    .dataframe thead th {\n",
       "        text-align: right;\n",
       "    }\n",
       "</style>\n",
       "<table border=\"1\" class=\"dataframe\">\n",
       "  <thead>\n",
       "    <tr style=\"text-align: right;\">\n",
       "      <th></th>\n",
       "      <th>transactionId</th>\n",
       "      <th>visitorId</th>\n",
       "      <th>date</th>\n",
       "      <th>revenue</th>\n",
       "      <th>group</th>\n",
       "    </tr>\n",
       "  </thead>\n",
       "  <tbody>\n",
       "    <tr>\n",
       "      <th>0</th>\n",
       "      <td>3667963787</td>\n",
       "      <td>3312258926</td>\n",
       "      <td>2019-08-15</td>\n",
       "      <td>1650</td>\n",
       "      <td>B</td>\n",
       "    </tr>\n",
       "    <tr>\n",
       "      <th>1</th>\n",
       "      <td>2804400009</td>\n",
       "      <td>3642806036</td>\n",
       "      <td>2019-08-15</td>\n",
       "      <td>730</td>\n",
       "      <td>B</td>\n",
       "    </tr>\n",
       "    <tr>\n",
       "      <th>2</th>\n",
       "      <td>2961555356</td>\n",
       "      <td>4069496402</td>\n",
       "      <td>2019-08-15</td>\n",
       "      <td>400</td>\n",
       "      <td>A</td>\n",
       "    </tr>\n",
       "    <tr>\n",
       "      <th>3</th>\n",
       "      <td>3797467345</td>\n",
       "      <td>1196621759</td>\n",
       "      <td>2019-08-15</td>\n",
       "      <td>9759</td>\n",
       "      <td>B</td>\n",
       "    </tr>\n",
       "    <tr>\n",
       "      <th>4</th>\n",
       "      <td>2282983706</td>\n",
       "      <td>2322279887</td>\n",
       "      <td>2019-08-15</td>\n",
       "      <td>2308</td>\n",
       "      <td>B</td>\n",
       "    </tr>\n",
       "    <tr>\n",
       "      <th>...</th>\n",
       "      <td>...</td>\n",
       "      <td>...</td>\n",
       "      <td>...</td>\n",
       "      <td>...</td>\n",
       "      <td>...</td>\n",
       "    </tr>\n",
       "    <tr>\n",
       "      <th>1192</th>\n",
       "      <td>2662137336</td>\n",
       "      <td>3733762160</td>\n",
       "      <td>2019-08-14</td>\n",
       "      <td>6490</td>\n",
       "      <td>B</td>\n",
       "    </tr>\n",
       "    <tr>\n",
       "      <th>1193</th>\n",
       "      <td>2203539145</td>\n",
       "      <td>370388673</td>\n",
       "      <td>2019-08-14</td>\n",
       "      <td>3190</td>\n",
       "      <td>A</td>\n",
       "    </tr>\n",
       "    <tr>\n",
       "      <th>1194</th>\n",
       "      <td>1807773912</td>\n",
       "      <td>573423106</td>\n",
       "      <td>2019-08-14</td>\n",
       "      <td>10550</td>\n",
       "      <td>A</td>\n",
       "    </tr>\n",
       "    <tr>\n",
       "      <th>1195</th>\n",
       "      <td>1947021204</td>\n",
       "      <td>1614305549</td>\n",
       "      <td>2019-08-14</td>\n",
       "      <td>100</td>\n",
       "      <td>A</td>\n",
       "    </tr>\n",
       "    <tr>\n",
       "      <th>1196</th>\n",
       "      <td>3936777065</td>\n",
       "      <td>2108080724</td>\n",
       "      <td>2019-08-15</td>\n",
       "      <td>202740</td>\n",
       "      <td>B</td>\n",
       "    </tr>\n",
       "  </tbody>\n",
       "</table>\n",
       "<p>1197 rows × 5 columns</p>\n",
       "</div>"
      ],
      "text/plain": [
       "      transactionId   visitorId        date  revenue group\n",
       "0        3667963787  3312258926  2019-08-15     1650     B\n",
       "1        2804400009  3642806036  2019-08-15      730     B\n",
       "2        2961555356  4069496402  2019-08-15      400     A\n",
       "3        3797467345  1196621759  2019-08-15     9759     B\n",
       "4        2282983706  2322279887  2019-08-15     2308     B\n",
       "...             ...         ...         ...      ...   ...\n",
       "1192     2662137336  3733762160  2019-08-14     6490     B\n",
       "1193     2203539145   370388673  2019-08-14     3190     A\n",
       "1194     1807773912   573423106  2019-08-14    10550     A\n",
       "1195     1947021204  1614305549  2019-08-14      100     A\n",
       "1196     3936777065  2108080724  2019-08-15   202740     B\n",
       "\n",
       "[1197 rows x 5 columns]"
      ]
     },
     "execution_count": 3,
     "metadata": {},
     "output_type": "execute_result"
    }
   ],
   "source": [
    "orders = pd.read_csv('/datasets/orders.csv')\n",
    "orders"
   ]
  },
  {
   "cell_type": "code",
   "execution_count": 4,
   "id": "ae96444a",
   "metadata": {},
   "outputs": [
    {
     "name": "stdout",
     "output_type": "stream",
     "text": [
      "<class 'pandas.core.frame.DataFrame'>\n",
      "RangeIndex: 1197 entries, 0 to 1196\n",
      "Data columns (total 5 columns):\n",
      " #   Column         Non-Null Count  Dtype \n",
      "---  ------         --------------  ----- \n",
      " 0   transactionId  1197 non-null   int64 \n",
      " 1   visitorId      1197 non-null   int64 \n",
      " 2   date           1197 non-null   object\n",
      " 3   revenue        1197 non-null   int64 \n",
      " 4   group          1197 non-null   object\n",
      "dtypes: int64(3), object(2)\n",
      "memory usage: 46.9+ KB\n"
     ]
    }
   ],
   "source": [
    "#Посмотрим информацию таблицы orders\n",
    "orders.info()"
   ]
  },
  {
   "cell_type": "code",
   "execution_count": 5,
   "id": "32fe9c7e",
   "metadata": {},
   "outputs": [
    {
     "data": {
      "text/html": [
       "<div>\n",
       "<style scoped>\n",
       "    .dataframe tbody tr th:only-of-type {\n",
       "        vertical-align: middle;\n",
       "    }\n",
       "\n",
       "    .dataframe tbody tr th {\n",
       "        vertical-align: top;\n",
       "    }\n",
       "\n",
       "    .dataframe thead th {\n",
       "        text-align: right;\n",
       "    }\n",
       "</style>\n",
       "<table border=\"1\" class=\"dataframe\">\n",
       "  <thead>\n",
       "    <tr style=\"text-align: right;\">\n",
       "      <th></th>\n",
       "      <th>transactionId</th>\n",
       "      <th>visitorId</th>\n",
       "      <th>date</th>\n",
       "      <th>revenue</th>\n",
       "      <th>group</th>\n",
       "    </tr>\n",
       "  </thead>\n",
       "  <tbody>\n",
       "  </tbody>\n",
       "</table>\n",
       "</div>"
      ],
      "text/plain": [
       "Empty DataFrame\n",
       "Columns: [transactionId, visitorId, date, revenue, group]\n",
       "Index: []"
      ]
     },
     "execution_count": 5,
     "metadata": {},
     "output_type": "execute_result"
    }
   ],
   "source": [
    "#Посмотрим дубликаты таблицы orders\n",
    "orders[orders.duplicated() == True]"
   ]
  },
  {
   "cell_type": "markdown",
   "id": "b7db31c6",
   "metadata": {},
   "source": [
    "Посмотрим данные в файле 'visitors.csv'"
   ]
  },
  {
   "cell_type": "code",
   "execution_count": 6,
   "id": "45067f92",
   "metadata": {},
   "outputs": [
    {
     "data": {
      "text/html": [
       "<div>\n",
       "<style scoped>\n",
       "    .dataframe tbody tr th:only-of-type {\n",
       "        vertical-align: middle;\n",
       "    }\n",
       "\n",
       "    .dataframe tbody tr th {\n",
       "        vertical-align: top;\n",
       "    }\n",
       "\n",
       "    .dataframe thead th {\n",
       "        text-align: right;\n",
       "    }\n",
       "</style>\n",
       "<table border=\"1\" class=\"dataframe\">\n",
       "  <thead>\n",
       "    <tr style=\"text-align: right;\">\n",
       "      <th></th>\n",
       "      <th>date</th>\n",
       "      <th>group</th>\n",
       "      <th>visitors</th>\n",
       "    </tr>\n",
       "  </thead>\n",
       "  <tbody>\n",
       "    <tr>\n",
       "      <th>0</th>\n",
       "      <td>2019-08-01</td>\n",
       "      <td>A</td>\n",
       "      <td>719</td>\n",
       "    </tr>\n",
       "    <tr>\n",
       "      <th>1</th>\n",
       "      <td>2019-08-02</td>\n",
       "      <td>A</td>\n",
       "      <td>619</td>\n",
       "    </tr>\n",
       "    <tr>\n",
       "      <th>2</th>\n",
       "      <td>2019-08-03</td>\n",
       "      <td>A</td>\n",
       "      <td>507</td>\n",
       "    </tr>\n",
       "    <tr>\n",
       "      <th>3</th>\n",
       "      <td>2019-08-04</td>\n",
       "      <td>A</td>\n",
       "      <td>717</td>\n",
       "    </tr>\n",
       "    <tr>\n",
       "      <th>4</th>\n",
       "      <td>2019-08-05</td>\n",
       "      <td>A</td>\n",
       "      <td>756</td>\n",
       "    </tr>\n",
       "    <tr>\n",
       "      <th>...</th>\n",
       "      <td>...</td>\n",
       "      <td>...</td>\n",
       "      <td>...</td>\n",
       "    </tr>\n",
       "    <tr>\n",
       "      <th>57</th>\n",
       "      <td>2019-08-27</td>\n",
       "      <td>B</td>\n",
       "      <td>720</td>\n",
       "    </tr>\n",
       "    <tr>\n",
       "      <th>58</th>\n",
       "      <td>2019-08-28</td>\n",
       "      <td>B</td>\n",
       "      <td>654</td>\n",
       "    </tr>\n",
       "    <tr>\n",
       "      <th>59</th>\n",
       "      <td>2019-08-29</td>\n",
       "      <td>B</td>\n",
       "      <td>531</td>\n",
       "    </tr>\n",
       "    <tr>\n",
       "      <th>60</th>\n",
       "      <td>2019-08-30</td>\n",
       "      <td>B</td>\n",
       "      <td>490</td>\n",
       "    </tr>\n",
       "    <tr>\n",
       "      <th>61</th>\n",
       "      <td>2019-08-31</td>\n",
       "      <td>B</td>\n",
       "      <td>718</td>\n",
       "    </tr>\n",
       "  </tbody>\n",
       "</table>\n",
       "<p>62 rows × 3 columns</p>\n",
       "</div>"
      ],
      "text/plain": [
       "          date group  visitors\n",
       "0   2019-08-01     A       719\n",
       "1   2019-08-02     A       619\n",
       "2   2019-08-03     A       507\n",
       "3   2019-08-04     A       717\n",
       "4   2019-08-05     A       756\n",
       "..         ...   ...       ...\n",
       "57  2019-08-27     B       720\n",
       "58  2019-08-28     B       654\n",
       "59  2019-08-29     B       531\n",
       "60  2019-08-30     B       490\n",
       "61  2019-08-31     B       718\n",
       "\n",
       "[62 rows x 3 columns]"
      ]
     },
     "execution_count": 6,
     "metadata": {},
     "output_type": "execute_result"
    }
   ],
   "source": [
    "visitors = pd.read_csv('/datasets/visitors.csv')\n",
    "visitors"
   ]
  },
  {
   "cell_type": "code",
   "execution_count": 7,
   "id": "fffec52d",
   "metadata": {},
   "outputs": [
    {
     "name": "stdout",
     "output_type": "stream",
     "text": [
      "<class 'pandas.core.frame.DataFrame'>\n",
      "RangeIndex: 62 entries, 0 to 61\n",
      "Data columns (total 3 columns):\n",
      " #   Column    Non-Null Count  Dtype \n",
      "---  ------    --------------  ----- \n",
      " 0   date      62 non-null     object\n",
      " 1   group     62 non-null     object\n",
      " 2   visitors  62 non-null     int64 \n",
      "dtypes: int64(1), object(2)\n",
      "memory usage: 1.6+ KB\n"
     ]
    }
   ],
   "source": [
    "#Посмотрим информацию таблицы visitors\n",
    "visitors.info()"
   ]
  },
  {
   "cell_type": "code",
   "execution_count": 8,
   "id": "70ba37ae",
   "metadata": {},
   "outputs": [
    {
     "data": {
      "text/html": [
       "<div>\n",
       "<style scoped>\n",
       "    .dataframe tbody tr th:only-of-type {\n",
       "        vertical-align: middle;\n",
       "    }\n",
       "\n",
       "    .dataframe tbody tr th {\n",
       "        vertical-align: top;\n",
       "    }\n",
       "\n",
       "    .dataframe thead th {\n",
       "        text-align: right;\n",
       "    }\n",
       "</style>\n",
       "<table border=\"1\" class=\"dataframe\">\n",
       "  <thead>\n",
       "    <tr style=\"text-align: right;\">\n",
       "      <th></th>\n",
       "      <th>date</th>\n",
       "      <th>group</th>\n",
       "      <th>visitors</th>\n",
       "    </tr>\n",
       "  </thead>\n",
       "  <tbody>\n",
       "  </tbody>\n",
       "</table>\n",
       "</div>"
      ],
      "text/plain": [
       "Empty DataFrame\n",
       "Columns: [date, group, visitors]\n",
       "Index: []"
      ]
     },
     "execution_count": 8,
     "metadata": {},
     "output_type": "execute_result"
    }
   ],
   "source": [
    "#Посмотрим дубликаты таблицы visitors\n",
    "visitors[visitors.duplicated() == True]"
   ]
  },
  {
   "cell_type": "markdown",
   "id": "7717cae5",
   "metadata": {},
   "source": [
    "Все данные в таблицах изучены, пропущенных значений нет и дубликатов тоже"
   ]
  },
  {
   "cell_type": "markdown",
   "id": "d36947fc",
   "metadata": {},
   "source": [
    " Расчет приоритизации (использование методики ICE):"
   ]
  },
  {
   "cell_type": "code",
   "execution_count": 9,
   "id": "f484d2e3",
   "metadata": {},
   "outputs": [
    {
     "data": {
      "text/html": [
       "<div>\n",
       "<style scoped>\n",
       "    .dataframe tbody tr th:only-of-type {\n",
       "        vertical-align: middle;\n",
       "    }\n",
       "\n",
       "    .dataframe tbody tr th {\n",
       "        vertical-align: top;\n",
       "    }\n",
       "\n",
       "    .dataframe thead th {\n",
       "        text-align: right;\n",
       "    }\n",
       "</style>\n",
       "<table border=\"1\" class=\"dataframe\">\n",
       "  <thead>\n",
       "    <tr style=\"text-align: right;\">\n",
       "      <th></th>\n",
       "      <th>ICE_order</th>\n",
       "      <th>Hypothesis</th>\n",
       "      <th>priority_ICE</th>\n",
       "    </tr>\n",
       "  </thead>\n",
       "  <tbody>\n",
       "    <tr>\n",
       "      <th>0</th>\n",
       "      <td>1</td>\n",
       "      <td>Изменить цвет фона главной страницы, чтобы увеличить вовлеченность пользователей</td>\n",
       "      <td>1.00</td>\n",
       "    </tr>\n",
       "    <tr>\n",
       "      <th>1</th>\n",
       "      <td>2</td>\n",
       "      <td>Изменить структура категорий, что увеличит конверсию, т.к. пользователи быстрее найдут нужный товар</td>\n",
       "      <td>1.12</td>\n",
       "    </tr>\n",
       "    <tr>\n",
       "      <th>2</th>\n",
       "      <td>3</td>\n",
       "      <td>Добавить страницу отзывов клиентов о магазине, что позволит увеличить количество заказов</td>\n",
       "      <td>1.33</td>\n",
       "    </tr>\n",
       "    <tr>\n",
       "      <th>3</th>\n",
       "      <td>4</td>\n",
       "      <td>Запустить собственную службу доставки, что сократит срок доставки заказов</td>\n",
       "      <td>2.00</td>\n",
       "    </tr>\n",
       "    <tr>\n",
       "      <th>4</th>\n",
       "      <td>5</td>\n",
       "      <td>Добавить блоки рекомендаций товаров на сайт интернет магазина, чтобы повысить конверсию и средний чек заказа</td>\n",
       "      <td>7.00</td>\n",
       "    </tr>\n",
       "    <tr>\n",
       "      <th>5</th>\n",
       "      <td>6</td>\n",
       "      <td>Показать на главной странице баннеры с актуальными акциями и распродажами, чтобы увеличить конверсию</td>\n",
       "      <td>8.00</td>\n",
       "    </tr>\n",
       "    <tr>\n",
       "      <th>6</th>\n",
       "      <td>7</td>\n",
       "      <td>Добавить форму подписки на все основные страницы, чтобы собрать базу клиентов для email-рассылок</td>\n",
       "      <td>11.20</td>\n",
       "    </tr>\n",
       "    <tr>\n",
       "      <th>7</th>\n",
       "      <td>8</td>\n",
       "      <td>Добавить два новых канала привлечения трафика, что позволит привлекать на 30% больше пользователей</td>\n",
       "      <td>13.33</td>\n",
       "    </tr>\n",
       "    <tr>\n",
       "      <th>8</th>\n",
       "      <td>9</td>\n",
       "      <td>Запустить акцию, дающую скидку на товар в день рождения</td>\n",
       "      <td>16.20</td>\n",
       "    </tr>\n",
       "  </tbody>\n",
       "</table>\n",
       "</div>"
      ],
      "text/plain": [
       "   ICE_order  \\\n",
       "0  1           \n",
       "1  2           \n",
       "2  3           \n",
       "3  4           \n",
       "4  5           \n",
       "5  6           \n",
       "6  7           \n",
       "7  8           \n",
       "8  9           \n",
       "\n",
       "                                                                                                     Hypothesis  \\\n",
       "0  Изменить цвет фона главной страницы, чтобы увеличить вовлеченность пользователей                               \n",
       "1  Изменить структура категорий, что увеличит конверсию, т.к. пользователи быстрее найдут нужный товар            \n",
       "2  Добавить страницу отзывов клиентов о магазине, что позволит увеличить количество заказов                       \n",
       "3  Запустить собственную службу доставки, что сократит срок доставки заказов                                      \n",
       "4  Добавить блоки рекомендаций товаров на сайт интернет магазина, чтобы повысить конверсию и средний чек заказа   \n",
       "5  Показать на главной странице баннеры с актуальными акциями и распродажами, чтобы увеличить конверсию           \n",
       "6  Добавить форму подписки на все основные страницы, чтобы собрать базу клиентов для email-рассылок               \n",
       "7  Добавить два новых канала привлечения трафика, что позволит привлекать на 30% больше пользователей             \n",
       "8  Запустить акцию, дающую скидку на товар в день рождения                                                        \n",
       "\n",
       "   priority_ICE  \n",
       "0  1.00          \n",
       "1  1.12          \n",
       "2  1.33          \n",
       "3  2.00          \n",
       "4  7.00          \n",
       "5  8.00          \n",
       "6  11.20         \n",
       "7  13.33         \n",
       "8  16.20         "
      ]
     },
     "execution_count": 9,
     "metadata": {},
     "output_type": "execute_result"
    }
   ],
   "source": [
    "pd.options.display.max_colwidth = 1\n",
    "hypothesis['priority_ICE'] = hypothesis['Impact'] * hypothesis['Confidence'] / hypothesis['Efforts']\n",
    "hypothesis = hypothesis.round(2).sort_values(by='priority_ICE')\n",
    "hypothesis.index = range(len(hypothesis))\n",
    "hypothesis_ICE = hypothesis[['Hypothesis', 'priority_ICE']].reset_index()\n",
    "hypothesis_ICE.columns = ['ICE_order', 'Hypothesis', 'priority_ICE']\n",
    "hypothesis_ICE['ICE_order'] += 1\n",
    "hypothesis_ICE"
   ]
  },
  {
   "cell_type": "markdown",
   "id": "b5d71948",
   "metadata": {},
   "source": [
    " Расчет приоритизации (использование методики RICE):"
   ]
  },
  {
   "cell_type": "code",
   "execution_count": 10,
   "id": "8e3863b9",
   "metadata": {},
   "outputs": [
    {
     "data": {
      "text/html": [
       "<div>\n",
       "<style scoped>\n",
       "    .dataframe tbody tr th:only-of-type {\n",
       "        vertical-align: middle;\n",
       "    }\n",
       "\n",
       "    .dataframe tbody tr th {\n",
       "        vertical-align: top;\n",
       "    }\n",
       "\n",
       "    .dataframe thead th {\n",
       "        text-align: right;\n",
       "    }\n",
       "</style>\n",
       "<table border=\"1\" class=\"dataframe\">\n",
       "  <thead>\n",
       "    <tr style=\"text-align: right;\">\n",
       "      <th></th>\n",
       "      <th>RICE_order</th>\n",
       "      <th>Hypothesis</th>\n",
       "      <th>priority_RICE</th>\n",
       "    </tr>\n",
       "  </thead>\n",
       "  <tbody>\n",
       "    <tr>\n",
       "      <th>8</th>\n",
       "      <td>9</td>\n",
       "      <td>Добавить форму подписки на все основные страницы, чтобы собрать базу клиентов для email-рассылок</td>\n",
       "      <td>112.0</td>\n",
       "    </tr>\n",
       "    <tr>\n",
       "      <th>7</th>\n",
       "      <td>8</td>\n",
       "      <td>Добавить блоки рекомендаций товаров на сайт интернет магазина, чтобы повысить конверсию и средний чек заказа</td>\n",
       "      <td>56.0</td>\n",
       "    </tr>\n",
       "    <tr>\n",
       "      <th>5</th>\n",
       "      <td>6</td>\n",
       "      <td>Показать на главной странице баннеры с актуальными акциями и распродажами, чтобы увеличить конверсию</td>\n",
       "      <td>40.0</td>\n",
       "    </tr>\n",
       "    <tr>\n",
       "      <th>6</th>\n",
       "      <td>7</td>\n",
       "      <td>Добавить два новых канала привлечения трафика, что позволит привлекать на 30% больше пользователей</td>\n",
       "      <td>40.0</td>\n",
       "    </tr>\n",
       "    <tr>\n",
       "      <th>4</th>\n",
       "      <td>5</td>\n",
       "      <td>Запустить акцию, дающую скидку на товар в день рождения</td>\n",
       "      <td>16.2</td>\n",
       "    </tr>\n",
       "    <tr>\n",
       "      <th>3</th>\n",
       "      <td>4</td>\n",
       "      <td>Изменить структура категорий, что увеличит конверсию, т.к. пользователи быстрее найдут нужный товар</td>\n",
       "      <td>9.0</td>\n",
       "    </tr>\n",
       "    <tr>\n",
       "      <th>1</th>\n",
       "      <td>2</td>\n",
       "      <td>Добавить страницу отзывов клиентов о магазине, что позволит увеличить количество заказов</td>\n",
       "      <td>4.0</td>\n",
       "    </tr>\n",
       "    <tr>\n",
       "      <th>2</th>\n",
       "      <td>3</td>\n",
       "      <td>Запустить собственную службу доставки, что сократит срок доставки заказов</td>\n",
       "      <td>4.0</td>\n",
       "    </tr>\n",
       "    <tr>\n",
       "      <th>0</th>\n",
       "      <td>1</td>\n",
       "      <td>Изменить цвет фона главной страницы, чтобы увеличить вовлеченность пользователей</td>\n",
       "      <td>3.0</td>\n",
       "    </tr>\n",
       "  </tbody>\n",
       "</table>\n",
       "</div>"
      ],
      "text/plain": [
       "   RICE_order  \\\n",
       "8  9            \n",
       "7  8            \n",
       "5  6            \n",
       "6  7            \n",
       "4  5            \n",
       "3  4            \n",
       "1  2            \n",
       "2  3            \n",
       "0  1            \n",
       "\n",
       "                                                                                                     Hypothesis  \\\n",
       "8  Добавить форму подписки на все основные страницы, чтобы собрать базу клиентов для email-рассылок               \n",
       "7  Добавить блоки рекомендаций товаров на сайт интернет магазина, чтобы повысить конверсию и средний чек заказа   \n",
       "5  Показать на главной странице баннеры с актуальными акциями и распродажами, чтобы увеличить конверсию           \n",
       "6  Добавить два новых канала привлечения трафика, что позволит привлекать на 30% больше пользователей             \n",
       "4  Запустить акцию, дающую скидку на товар в день рождения                                                        \n",
       "3  Изменить структура категорий, что увеличит конверсию, т.к. пользователи быстрее найдут нужный товар            \n",
       "1  Добавить страницу отзывов клиентов о магазине, что позволит увеличить количество заказов                       \n",
       "2  Запустить собственную службу доставки, что сократит срок доставки заказов                                      \n",
       "0  Изменить цвет фона главной страницы, чтобы увеличить вовлеченность пользователей                               \n",
       "\n",
       "   priority_RICE  \n",
       "8  112.0          \n",
       "7  56.0           \n",
       "5  40.0           \n",
       "6  40.0           \n",
       "4  16.2           \n",
       "3  9.0            \n",
       "1  4.0            \n",
       "2  4.0            \n",
       "0  3.0            "
      ]
     },
     "execution_count": 10,
     "metadata": {},
     "output_type": "execute_result"
    }
   ],
   "source": [
    "pd.options.display.max_colwidth = 1\n",
    "hypothesis['priority_RICE'] = hypothesis['Reach']*hypothesis['Impact']*hypothesis['Confidence']/hypothesis['Efforts']\n",
    "hypothesis = hypothesis.round(2).sort_values(by='priority_RICE')\n",
    "hypothesis.index = range(len(hypothesis))\n",
    "hypothesis_RICE = hypothesis[['Hypothesis', 'priority_RICE']].reset_index()\n",
    "hypothesis_RICE.columns = ['RICE_order', 'Hypothesis', 'priority_RICE']\n",
    "hypothesis_RICE['RICE_order'] += 1\n",
    "hypothesis_RICE.sort_values(by = 'priority_RICE', ascending=False)"
   ]
  },
  {
   "cell_type": "markdown",
   "id": "940a8894",
   "metadata": {},
   "source": [
    " Сравнительный анализ:"
   ]
  },
  {
   "cell_type": "code",
   "execution_count": 11,
   "id": "64ab1922",
   "metadata": {},
   "outputs": [
    {
     "data": {
      "text/html": [
       "<div>\n",
       "<style scoped>\n",
       "    .dataframe tbody tr th:only-of-type {\n",
       "        vertical-align: middle;\n",
       "    }\n",
       "\n",
       "    .dataframe tbody tr th {\n",
       "        vertical-align: top;\n",
       "    }\n",
       "\n",
       "    .dataframe thead th {\n",
       "        text-align: right;\n",
       "    }\n",
       "</style>\n",
       "<table border=\"1\" class=\"dataframe\">\n",
       "  <thead>\n",
       "    <tr style=\"text-align: right;\">\n",
       "      <th></th>\n",
       "      <th>Hypothesis</th>\n",
       "      <th>ICE_order</th>\n",
       "      <th>RICE_order</th>\n",
       "      <th>Short_descr</th>\n",
       "    </tr>\n",
       "  </thead>\n",
       "  <tbody>\n",
       "    <tr>\n",
       "      <th>8</th>\n",
       "      <td>Запустить акцию, дающую скидку на товар в день рождения</td>\n",
       "      <td>9</td>\n",
       "      <td>5</td>\n",
       "      <td>Акция скидка ДР</td>\n",
       "    </tr>\n",
       "    <tr>\n",
       "      <th>7</th>\n",
       "      <td>Добавить два новых канала привлечения трафика, что позволит привлекать на 30% больше пользователей</td>\n",
       "      <td>8</td>\n",
       "      <td>7</td>\n",
       "      <td>+2 канала трафика</td>\n",
       "    </tr>\n",
       "    <tr>\n",
       "      <th>6</th>\n",
       "      <td>Добавить форму подписки на все основные страницы, чтобы собрать базу клиентов для email-рассылок</td>\n",
       "      <td>7</td>\n",
       "      <td>9</td>\n",
       "      <td>Подписка</td>\n",
       "    </tr>\n",
       "    <tr>\n",
       "      <th>5</th>\n",
       "      <td>Показать на главной странице баннеры с актуальными акциями и распродажами, чтобы увеличить конверсию</td>\n",
       "      <td>6</td>\n",
       "      <td>6</td>\n",
       "      <td>Баннеры акций</td>\n",
       "    </tr>\n",
       "    <tr>\n",
       "      <th>4</th>\n",
       "      <td>Добавить блоки рекомендаций товаров на сайт интернет магазина, чтобы повысить конверсию и средний чек заказа</td>\n",
       "      <td>5</td>\n",
       "      <td>8</td>\n",
       "      <td>Блоки реком-ий</td>\n",
       "    </tr>\n",
       "    <tr>\n",
       "      <th>3</th>\n",
       "      <td>Запустить собственную службу доставки, что сократит срок доставки заказов</td>\n",
       "      <td>4</td>\n",
       "      <td>3</td>\n",
       "      <td>Служба доставки</td>\n",
       "    </tr>\n",
       "    <tr>\n",
       "      <th>2</th>\n",
       "      <td>Добавить страницу отзывов клиентов о магазине, что позволит увеличить количество заказов</td>\n",
       "      <td>3</td>\n",
       "      <td>2</td>\n",
       "      <td>Страница отзывов</td>\n",
       "    </tr>\n",
       "    <tr>\n",
       "      <th>1</th>\n",
       "      <td>Изменить структура категорий, что увеличит конверсию, т.к. пользователи быстрее найдут нужный товар</td>\n",
       "      <td>2</td>\n",
       "      <td>4</td>\n",
       "      <td>Стр-ра категорий</td>\n",
       "    </tr>\n",
       "    <tr>\n",
       "      <th>0</th>\n",
       "      <td>Изменить цвет фона главной страницы, чтобы увеличить вовлеченность пользователей</td>\n",
       "      <td>1</td>\n",
       "      <td>1</td>\n",
       "      <td>Цвет фона</td>\n",
       "    </tr>\n",
       "  </tbody>\n",
       "</table>\n",
       "</div>"
      ],
      "text/plain": [
       "                                                                                                     Hypothesis  \\\n",
       "8  Запустить акцию, дающую скидку на товар в день рождения                                                        \n",
       "7  Добавить два новых канала привлечения трафика, что позволит привлекать на 30% больше пользователей             \n",
       "6  Добавить форму подписки на все основные страницы, чтобы собрать базу клиентов для email-рассылок               \n",
       "5  Показать на главной странице баннеры с актуальными акциями и распродажами, чтобы увеличить конверсию           \n",
       "4  Добавить блоки рекомендаций товаров на сайт интернет магазина, чтобы повысить конверсию и средний чек заказа   \n",
       "3  Запустить собственную службу доставки, что сократит срок доставки заказов                                      \n",
       "2  Добавить страницу отзывов клиентов о магазине, что позволит увеличить количество заказов                       \n",
       "1  Изменить структура категорий, что увеличит конверсию, т.к. пользователи быстрее найдут нужный товар            \n",
       "0  Изменить цвет фона главной страницы, чтобы увеличить вовлеченность пользователей                               \n",
       "\n",
       "   ICE_order  RICE_order        Short_descr  \n",
       "8  9          5           Акция скидка ДР    \n",
       "7  8          7           +2 канала трафика  \n",
       "6  7          9           Подписка           \n",
       "5  6          6           Баннеры акций      \n",
       "4  5          8           Блоки реком-ий     \n",
       "3  4          3           Служба доставки    \n",
       "2  3          2           Страница отзывов   \n",
       "1  2          4           Стр-ра категорий   \n",
       "0  1          1           Цвет фона          "
      ]
     },
     "execution_count": 11,
     "metadata": {},
     "output_type": "execute_result"
    }
   ],
   "source": [
    "pd.options.display.max_colwidth = 1\n",
    "df_common = hypothesis_ICE.merge(hypothesis_RICE, on='Hypothesis').sort_values(by='priority_ICE', ascending=False)\n",
    "df_common = df_common[['Hypothesis', 'ICE_order', 'RICE_order']]\n",
    "df_common['Short_descr'] = ['Акция скидка ДР', '+2 канала трафика', 'Подписка', 'Баннеры акций', 'Блоки реком-ий', \n",
    "                            'Служба доставки', 'Страница отзывов', 'Стр-ра категорий', 'Цвет фона']\n",
    "df_common"
   ]
  },
  {
   "cell_type": "markdown",
   "id": "d705a06d",
   "metadata": {},
   "source": [
    "Итог:\n",
    "параметр охвата (Reach), использующийся в методе RICE изменил всю приоритетность, полученную по методу ICE:\n",
    "\n",
    "без учета охвата на первом месте идет акция со скидкой имениннику, но параметр Reach справедливо понизил приоритет этой акции, т.к. и правда, охват её минимальный (по сравнению с другими гипотезами увеличения выручки);\n",
    "\n",
    "также произошло и с гипотезой о добавлении 2х каналов трафика, с организацией своей службы доставки и с идеей о добавлении страницы отзывов;\n",
    "\n",
    "без изменений осталась рейтинговая позиция гипотез о добавлении баннеров с актуальными акциями на главную страницу и идея с изменением цвета фона главной страницы);\n",
    "\n",
    "выросли в рейтинге (стали более приоритетными) RICE (по сравнению с ICE) гипотеза о добавлении формы подписки на все основные страницы ресурса, о добавлении блоков рекомендаций товаров и предложение об изменении структуры категорий."
   ]
  },
  {
   "cell_type": "markdown",
   "id": "3f7853be",
   "metadata": {},
   "source": [
    "2. Анализ A/B-теста"
   ]
  },
  {
   "cell_type": "markdown",
   "id": "7b80b5ec",
   "metadata": {},
   "source": [
    "Но если выбрать опцию для отображения параметр Full_df и отсортировать датафрейм по visitorId, то мы сразу же заметим, что есть пользователи, которые относятся как к группе А, так и к группе B (например, id пользователя 8300375).\n",
    "\n",
    "\n",
    "Оценим сколько у нас таких пользователей:"
   ]
  },
  {
   "cell_type": "code",
   "execution_count": 12,
   "id": "aa82f90e",
   "metadata": {},
   "outputs": [
    {
     "data": {
      "text/html": [
       "<div>\n",
       "<style scoped>\n",
       "    .dataframe tbody tr th:only-of-type {\n",
       "        vertical-align: middle;\n",
       "    }\n",
       "\n",
       "    .dataframe tbody tr th {\n",
       "        vertical-align: top;\n",
       "    }\n",
       "\n",
       "    .dataframe thead th {\n",
       "        text-align: right;\n",
       "    }\n",
       "</style>\n",
       "<table border=\"1\" class=\"dataframe\">\n",
       "  <thead>\n",
       "    <tr style=\"text-align: right;\">\n",
       "      <th></th>\n",
       "      <th>visitorId</th>\n",
       "      <th>group</th>\n",
       "      <th>count</th>\n",
       "    </tr>\n",
       "  </thead>\n",
       "  <tbody>\n",
       "    <tr>\n",
       "      <th>45</th>\n",
       "      <td>199603092</td>\n",
       "      <td>A</td>\n",
       "      <td>4</td>\n",
       "    </tr>\n",
       "    <tr>\n",
       "      <th>58</th>\n",
       "      <td>237748145</td>\n",
       "      <td>A</td>\n",
       "      <td>4</td>\n",
       "    </tr>\n",
       "    <tr>\n",
       "      <th>63</th>\n",
       "      <td>249864742</td>\n",
       "      <td>B</td>\n",
       "      <td>3</td>\n",
       "    </tr>\n",
       "    <tr>\n",
       "      <th>94</th>\n",
       "      <td>366673373</td>\n",
       "      <td>A</td>\n",
       "      <td>2</td>\n",
       "    </tr>\n",
       "    <tr>\n",
       "      <th>104</th>\n",
       "      <td>393266494</td>\n",
       "      <td>B</td>\n",
       "      <td>2</td>\n",
       "    </tr>\n",
       "  </tbody>\n",
       "</table>\n",
       "</div>"
      ],
      "text/plain": [
       "     visitorId group  count\n",
       "45   199603092  A     4    \n",
       "58   237748145  A     4    \n",
       "63   249864742  B     3    \n",
       "94   366673373  A     2    \n",
       "104  393266494  B     2    "
      ]
     },
     "execution_count": 12,
     "metadata": {},
     "output_type": "execute_result"
    }
   ],
   "source": [
    "# формируем группу риска (пользователи с более чем 1 заказом)\n",
    "\n",
    "sizes = orders.groupby(['visitorId', 'group']).size().reset_index()\n",
    "sizes.columns = ['visitorId', 'group', 'count']\n",
    "sizes = sizes.query('count > 1').sort_values(by='visitorId')\n",
    "sizes.head()"
   ]
  },
  {
   "cell_type": "markdown",
   "id": "8ebbce15",
   "metadata": {},
   "source": [
    "Формируем словарь \"пользователь - группы, в которых он появлялся\" и если одному пользователю принадлежит более 1 значения групп, добавляем его в список broken_users:"
   ]
  },
  {
   "cell_type": "code",
   "execution_count": 13,
   "id": "2aa4d8eb",
   "metadata": {},
   "outputs": [
    {
     "name": "stdout",
     "output_type": "stream",
     "text": [
      "Пользователи, которые видели обе версии сайта:  1230306981, 2038680547, 2378935119, 2458001652, 4256040402\n"
     ]
    }
   ],
   "source": [
    "\n",
    "potentially_broken_users_list = list(zip(sizes['visitorId'], sizes['group']))\n",
    "potentially_broken_users_dict = defaultdict(list)\n",
    "for user, group in potentially_broken_users_list:\n",
    "    potentially_broken_users_dict[user].append(group)\n",
    "\n",
    "broken_users = [user for user in potentially_broken_users_dict if len(potentially_broken_users_dict[user]) > 1]\n",
    "print('Пользователи, которые видели обе версии сайта: ', ', '.join(str(el) for el in broken_users))"
   ]
  },
  {
   "cell_type": "code",
   "execution_count": 14,
   "id": "85181503",
   "metadata": {},
   "outputs": [
    {
     "data": {
      "text/plain": [
       "[1230306981, 2038680547, 2378935119, 2458001652, 4256040402]"
      ]
     },
     "execution_count": 14,
     "metadata": {},
     "output_type": "execute_result"
    }
   ],
   "source": [
    "broken_users"
   ]
  },
  {
   "cell_type": "markdown",
   "id": "13aecf9d",
   "metadata": {},
   "source": [
    "Посмотрим данные по ним по датафрейму orders"
   ]
  },
  {
   "cell_type": "code",
   "execution_count": 15,
   "id": "9e0d2703",
   "metadata": {
    "scrolled": true
   },
   "outputs": [
    {
     "name": "stdout",
     "output_type": "stream",
     "text": [
      "Количество строк в датафрейме orders по этим пользователям: 44\n",
      "<class 'pandas.core.frame.DataFrame'>\n",
      "Int64Index: 44 entries, 32 to 1091\n",
      "Data columns (total 5 columns):\n",
      " #   Column         Non-Null Count  Dtype \n",
      "---  ------         --------------  ----- \n",
      " 0   transactionId  44 non-null     int64 \n",
      " 1   visitorId      44 non-null     int64 \n",
      " 2   date           44 non-null     object\n",
      " 3   revenue        44 non-null     int64 \n",
      " 4   group          44 non-null     object\n",
      "dtypes: int64(3), object(2)\n",
      "memory usage: 2.1+ KB\n"
     ]
    }
   ],
   "source": [
    "broken_orders = orders.query('visitorId in @broken_users')\n",
    "print('Количество строк в датафрейме orders по этим пользователям: {}'.format(broken_orders.shape[0]))\n",
    "broken_orders.info()"
   ]
  },
  {
   "cell_type": "markdown",
   "id": "7127edd6",
   "metadata": {},
   "source": [
    "Посмотрим, сколько заказов они сделали, на какую сумму и по каким группам:"
   ]
  },
  {
   "cell_type": "code",
   "execution_count": 16,
   "id": "0915f995",
   "metadata": {},
   "outputs": [
    {
     "data": {
      "text/html": [
       "<div>\n",
       "<style scoped>\n",
       "    .dataframe tbody tr th:only-of-type {\n",
       "        vertical-align: middle;\n",
       "    }\n",
       "\n",
       "    .dataframe tbody tr th {\n",
       "        vertical-align: top;\n",
       "    }\n",
       "\n",
       "    .dataframe thead th {\n",
       "        text-align: right;\n",
       "    }\n",
       "</style>\n",
       "<table border=\"1\" class=\"dataframe\">\n",
       "  <thead>\n",
       "    <tr style=\"text-align: right;\">\n",
       "      <th></th>\n",
       "      <th></th>\n",
       "      <th></th>\n",
       "      <th>transactionId</th>\n",
       "      <th>revenue</th>\n",
       "    </tr>\n",
       "    <tr>\n",
       "      <th>visitorId</th>\n",
       "      <th>group</th>\n",
       "      <th>date</th>\n",
       "      <th></th>\n",
       "      <th></th>\n",
       "    </tr>\n",
       "  </thead>\n",
       "  <tbody>\n",
       "    <tr>\n",
       "      <th rowspan=\"2\" valign=\"top\">1230306981</th>\n",
       "      <th>A</th>\n",
       "      <th>2019-08-09</th>\n",
       "      <td>3</td>\n",
       "      <td>18440</td>\n",
       "    </tr>\n",
       "    <tr>\n",
       "      <th>B</th>\n",
       "      <th>2019-08-09</th>\n",
       "      <td>2</td>\n",
       "      <td>12840</td>\n",
       "    </tr>\n",
       "    <tr>\n",
       "      <th rowspan=\"3\" valign=\"top\">2038680547</th>\n",
       "      <th rowspan=\"3\" valign=\"top\">A</th>\n",
       "      <th>2019-08-04</th>\n",
       "      <td>2</td>\n",
       "      <td>4070</td>\n",
       "    </tr>\n",
       "    <tr>\n",
       "      <th>2019-08-17</th>\n",
       "      <td>1</td>\n",
       "      <td>3470</td>\n",
       "    </tr>\n",
       "    <tr>\n",
       "      <th>2019-08-22</th>\n",
       "      <td>1</td>\n",
       "      <td>760</td>\n",
       "    </tr>\n",
       "  </tbody>\n",
       "</table>\n",
       "</div>"
      ],
      "text/plain": [
       "                             transactionId  revenue\n",
       "visitorId  group date                              \n",
       "1230306981 A     2019-08-09  3              18440  \n",
       "           B     2019-08-09  2              12840  \n",
       "2038680547 A     2019-08-04  2              4070   \n",
       "                 2019-08-17  1              3470   \n",
       "                 2019-08-22  1              760    "
      ]
     },
     "execution_count": 16,
     "metadata": {},
     "output_type": "execute_result"
    }
   ],
   "source": [
    "broken_orders_grouped = (broken_orders\n",
    "                        .groupby(['visitorId', 'group', 'date'])\n",
    "                        .agg({'transactionId': 'nunique', 'revenue': 'sum'})\n",
    "                   )\n",
    "broken_orders_grouped.head()"
   ]
  },
  {
   "cell_type": "markdown",
   "id": "4bbde54a",
   "metadata": {},
   "source": [
    "Они сделали в общей сложности 44 заказа и принесли компании немало выручки. Получается, что данные \"испорчены\" этими пользователями.\n",
    "\n",
    "В связи с этим, создадим копии наших основных датафреймов orders и visitors и в них уберем данные по этим пользователям из датафрейма orders и для корректности из таблицы visitors удалим по 1 broken-посетителю в соответствующих группах и в соответствии с датами, полученными выше. В конце выполнения задачи, рассчитаем стат. значимость для обоих наборов данных: с этими \"неправильными\" пользователями и без них, - чтобы проследить, влияют ли они на конечный результат."
   ]
  },
  {
   "cell_type": "code",
   "execution_count": 17,
   "id": "dc1f5276",
   "metadata": {},
   "outputs": [
    {
     "data": {
      "text/html": [
       "<div>\n",
       "<style scoped>\n",
       "    .dataframe tbody tr th:only-of-type {\n",
       "        vertical-align: middle;\n",
       "    }\n",
       "\n",
       "    .dataframe tbody tr th {\n",
       "        vertical-align: top;\n",
       "    }\n",
       "\n",
       "    .dataframe thead th {\n",
       "        text-align: right;\n",
       "    }\n",
       "</style>\n",
       "<table border=\"1\" class=\"dataframe\">\n",
       "  <thead>\n",
       "    <tr style=\"text-align: right;\">\n",
       "      <th></th>\n",
       "      <th>visitorId</th>\n",
       "      <th>group</th>\n",
       "    </tr>\n",
       "  </thead>\n",
       "  <tbody>\n",
       "    <tr>\n",
       "      <th>2</th>\n",
       "      <td>8300375</td>\n",
       "      <td>2</td>\n",
       "    </tr>\n",
       "    <tr>\n",
       "      <th>44</th>\n",
       "      <td>199603092</td>\n",
       "      <td>2</td>\n",
       "    </tr>\n",
       "    <tr>\n",
       "      <th>51</th>\n",
       "      <td>232979603</td>\n",
       "      <td>2</td>\n",
       "    </tr>\n",
       "    <tr>\n",
       "      <th>55</th>\n",
       "      <td>237748145</td>\n",
       "      <td>2</td>\n",
       "    </tr>\n",
       "    <tr>\n",
       "      <th>66</th>\n",
       "      <td>276558944</td>\n",
       "      <td>2</td>\n",
       "    </tr>\n",
       "  </tbody>\n",
       "</table>\n",
       "</div>"
      ],
      "text/plain": [
       "    visitorId  group\n",
       "2   8300375    2    \n",
       "44  199603092  2    \n",
       "51  232979603  2    \n",
       "55  237748145  2    \n",
       "66  276558944  2    "
      ]
     },
     "execution_count": 17,
     "metadata": {},
     "output_type": "execute_result"
    }
   ],
   "source": [
    "#(2)\n",
    "orders_grouped = (orders\n",
    "                        .groupby(['visitorId'])\n",
    "                        .agg({'group': 'nunique'})\n",
    "                        .reset_index()\n",
    "                   )\n",
    "orders_grouped = orders_grouped.query('group > 1').sort_values(by='visitorId')\n",
    "orders_grouped.head()"
   ]
  },
  {
   "cell_type": "code",
   "execution_count": 18,
   "id": "c01877e2",
   "metadata": {},
   "outputs": [
    {
     "data": {
      "text/plain": [
       "58"
      ]
     },
     "execution_count": 18,
     "metadata": {},
     "output_type": "execute_result"
    }
   ],
   "source": [
    "#(2)\n",
    "potentially_broken_users_list1 = list(orders_grouped['visitorId'])\n",
    "len(potentially_broken_users_list1)"
   ]
  },
  {
   "cell_type": "code",
   "execution_count": 19,
   "id": "5fadb09f",
   "metadata": {},
   "outputs": [
    {
     "data": {
      "text/html": [
       "<div>\n",
       "<style scoped>\n",
       "    .dataframe tbody tr th:only-of-type {\n",
       "        vertical-align: middle;\n",
       "    }\n",
       "\n",
       "    .dataframe tbody tr th {\n",
       "        vertical-align: top;\n",
       "    }\n",
       "\n",
       "    .dataframe thead th {\n",
       "        text-align: right;\n",
       "    }\n",
       "</style>\n",
       "<table border=\"1\" class=\"dataframe\">\n",
       "  <thead>\n",
       "    <tr style=\"text-align: right;\">\n",
       "      <th></th>\n",
       "      <th>transactionId</th>\n",
       "      <th>visitorId</th>\n",
       "      <th>date</th>\n",
       "      <th>revenue</th>\n",
       "      <th>group</th>\n",
       "    </tr>\n",
       "  </thead>\n",
       "  <tbody>\n",
       "    <tr>\n",
       "      <th>2</th>\n",
       "      <td>2961555356</td>\n",
       "      <td>4069496402</td>\n",
       "      <td>2019-08-15</td>\n",
       "      <td>400</td>\n",
       "      <td>A</td>\n",
       "    </tr>\n",
       "    <tr>\n",
       "      <th>20</th>\n",
       "      <td>2904772834</td>\n",
       "      <td>963407295</td>\n",
       "      <td>2019-08-15</td>\n",
       "      <td>300</td>\n",
       "      <td>B</td>\n",
       "    </tr>\n",
       "    <tr>\n",
       "      <th>23</th>\n",
       "      <td>4252514150</td>\n",
       "      <td>351125977</td>\n",
       "      <td>2019-08-15</td>\n",
       "      <td>15185</td>\n",
       "      <td>B</td>\n",
       "    </tr>\n",
       "    <tr>\n",
       "      <th>24</th>\n",
       "      <td>1162046357</td>\n",
       "      <td>3234906277</td>\n",
       "      <td>2019-08-15</td>\n",
       "      <td>7555</td>\n",
       "      <td>B</td>\n",
       "    </tr>\n",
       "    <tr>\n",
       "      <th>26</th>\n",
       "      <td>2223239646</td>\n",
       "      <td>199603092</td>\n",
       "      <td>2019-08-15</td>\n",
       "      <td>3488</td>\n",
       "      <td>A</td>\n",
       "    </tr>\n",
       "  </tbody>\n",
       "</table>\n",
       "</div>"
      ],
      "text/plain": [
       "    transactionId   visitorId        date  revenue group\n",
       "2   2961555356     4069496402  2019-08-15  400      A   \n",
       "20  2904772834     963407295   2019-08-15  300      B   \n",
       "23  4252514150     351125977   2019-08-15  15185    B   \n",
       "24  1162046357     3234906277  2019-08-15  7555     B   \n",
       "26  2223239646     199603092   2019-08-15  3488     A   "
      ]
     },
     "execution_count": 19,
     "metadata": {},
     "output_type": "execute_result"
    }
   ],
   "source": [
    "#(2)\n",
    "orders_grouped_f = orders.query('visitorId in @potentially_broken_users_list1 ')\n",
    "orders_grouped_f.head()"
   ]
  },
  {
   "cell_type": "code",
   "execution_count": 20,
   "id": "be9e87ac",
   "metadata": {},
   "outputs": [
    {
     "name": "stdout",
     "output_type": "stream",
     "text": [
      "<class 'pandas.core.frame.DataFrame'>\n",
      "Int64Index: 181 entries, 2 to 1195\n",
      "Data columns (total 5 columns):\n",
      " #   Column         Non-Null Count  Dtype \n",
      "---  ------         --------------  ----- \n",
      " 0   transactionId  181 non-null    int64 \n",
      " 1   visitorId      181 non-null    int64 \n",
      " 2   date           181 non-null    object\n",
      " 3   revenue        181 non-null    int64 \n",
      " 4   group          181 non-null    object\n",
      "dtypes: int64(3), object(2)\n",
      "memory usage: 8.5+ KB\n"
     ]
    }
   ],
   "source": [
    "orders_grouped_f.info()"
   ]
  },
  {
   "cell_type": "code",
   "execution_count": null,
   "id": "01a5f614",
   "metadata": {},
   "outputs": [],
   "source": []
  },
  {
   "cell_type": "code",
   "execution_count": 21,
   "id": "9f4e75ae",
   "metadata": {},
   "outputs": [
    {
     "data": {
      "text/html": [
       "<div>\n",
       "<style scoped>\n",
       "    .dataframe tbody tr th:only-of-type {\n",
       "        vertical-align: middle;\n",
       "    }\n",
       "\n",
       "    .dataframe tbody tr th {\n",
       "        vertical-align: top;\n",
       "    }\n",
       "\n",
       "    .dataframe thead th {\n",
       "        text-align: right;\n",
       "    }\n",
       "</style>\n",
       "<table border=\"1\" class=\"dataframe\">\n",
       "  <thead>\n",
       "    <tr style=\"text-align: right;\">\n",
       "      <th></th>\n",
       "      <th></th>\n",
       "      <th></th>\n",
       "      <th>transactionId</th>\n",
       "      <th>revenue</th>\n",
       "    </tr>\n",
       "    <tr>\n",
       "      <th>visitorId</th>\n",
       "      <th>group</th>\n",
       "      <th>date</th>\n",
       "      <th></th>\n",
       "      <th></th>\n",
       "    </tr>\n",
       "  </thead>\n",
       "  <tbody>\n",
       "    <tr>\n",
       "      <th rowspan=\"2\" valign=\"top\">8300375</th>\n",
       "      <th>A</th>\n",
       "      <th>2019-08-07</th>\n",
       "      <td>1</td>\n",
       "      <td>1790</td>\n",
       "    </tr>\n",
       "    <tr>\n",
       "      <th>B</th>\n",
       "      <th>2019-08-01</th>\n",
       "      <td>1</td>\n",
       "      <td>10510</td>\n",
       "    </tr>\n",
       "    <tr>\n",
       "      <th rowspan=\"3\" valign=\"top\">199603092</th>\n",
       "      <th rowspan=\"3\" valign=\"top\">A</th>\n",
       "      <th>2019-08-12</th>\n",
       "      <td>1</td>\n",
       "      <td>6438</td>\n",
       "    </tr>\n",
       "    <tr>\n",
       "      <th>2019-08-15</th>\n",
       "      <td>1</td>\n",
       "      <td>3488</td>\n",
       "    </tr>\n",
       "    <tr>\n",
       "      <th>2019-08-22</th>\n",
       "      <td>1</td>\n",
       "      <td>6976</td>\n",
       "    </tr>\n",
       "  </tbody>\n",
       "</table>\n",
       "</div>"
      ],
      "text/plain": [
       "                            transactionId  revenue\n",
       "visitorId group date                              \n",
       "8300375   A     2019-08-07  1              1790   \n",
       "          B     2019-08-01  1              10510  \n",
       "199603092 A     2019-08-12  1              6438   \n",
       "                2019-08-15  1              3488   \n",
       "                2019-08-22  1              6976   "
      ]
     },
     "execution_count": 21,
     "metadata": {},
     "output_type": "execute_result"
    }
   ],
   "source": [
    "#Посмотрим, сколько заказов они сделали, на какую сумму и по каким группам:(2)\n",
    "broken_orders_grouped1 = (orders_grouped_f\n",
    "                        .groupby(['visitorId', 'group', 'date'])\n",
    "                        .agg({'transactionId': 'nunique', 'revenue': 'sum'})\n",
    "                   )\n",
    "broken_orders_grouped1.head()"
   ]
  },
  {
   "cell_type": "markdown",
   "id": "2cf6c711",
   "metadata": {},
   "source": [
    "Чистим датафреймы:\n",
    "\n",
    "orders:"
   ]
  },
  {
   "cell_type": "code",
   "execution_count": 22,
   "id": "683c2741",
   "metadata": {},
   "outputs": [
    {
     "data": {
      "text/html": [
       "<div>\n",
       "<style scoped>\n",
       "    .dataframe tbody tr th:only-of-type {\n",
       "        vertical-align: middle;\n",
       "    }\n",
       "\n",
       "    .dataframe tbody tr th {\n",
       "        vertical-align: top;\n",
       "    }\n",
       "\n",
       "    .dataframe thead th {\n",
       "        text-align: right;\n",
       "    }\n",
       "</style>\n",
       "<table border=\"1\" class=\"dataframe\">\n",
       "  <thead>\n",
       "    <tr style=\"text-align: right;\">\n",
       "      <th></th>\n",
       "      <th>transactionId</th>\n",
       "      <th>visitorId</th>\n",
       "      <th>date</th>\n",
       "      <th>revenue</th>\n",
       "      <th>group</th>\n",
       "    </tr>\n",
       "  </thead>\n",
       "  <tbody>\n",
       "    <tr>\n",
       "      <th>0</th>\n",
       "      <td>3667963787</td>\n",
       "      <td>3312258926</td>\n",
       "      <td>2019-08-15</td>\n",
       "      <td>1650</td>\n",
       "      <td>B</td>\n",
       "    </tr>\n",
       "    <tr>\n",
       "      <th>1</th>\n",
       "      <td>2804400009</td>\n",
       "      <td>3642806036</td>\n",
       "      <td>2019-08-15</td>\n",
       "      <td>730</td>\n",
       "      <td>B</td>\n",
       "    </tr>\n",
       "    <tr>\n",
       "      <th>3</th>\n",
       "      <td>3797467345</td>\n",
       "      <td>1196621759</td>\n",
       "      <td>2019-08-15</td>\n",
       "      <td>9759</td>\n",
       "      <td>B</td>\n",
       "    </tr>\n",
       "    <tr>\n",
       "      <th>4</th>\n",
       "      <td>2282983706</td>\n",
       "      <td>2322279887</td>\n",
       "      <td>2019-08-15</td>\n",
       "      <td>2308</td>\n",
       "      <td>B</td>\n",
       "    </tr>\n",
       "    <tr>\n",
       "      <th>5</th>\n",
       "      <td>182168103</td>\n",
       "      <td>935554773</td>\n",
       "      <td>2019-08-15</td>\n",
       "      <td>2210</td>\n",
       "      <td>B</td>\n",
       "    </tr>\n",
       "    <tr>\n",
       "      <th>...</th>\n",
       "      <td>...</td>\n",
       "      <td>...</td>\n",
       "      <td>...</td>\n",
       "      <td>...</td>\n",
       "      <td>...</td>\n",
       "    </tr>\n",
       "    <tr>\n",
       "      <th>1191</th>\n",
       "      <td>3592955527</td>\n",
       "      <td>608641596</td>\n",
       "      <td>2019-08-14</td>\n",
       "      <td>16490</td>\n",
       "      <td>B</td>\n",
       "    </tr>\n",
       "    <tr>\n",
       "      <th>1192</th>\n",
       "      <td>2662137336</td>\n",
       "      <td>3733762160</td>\n",
       "      <td>2019-08-14</td>\n",
       "      <td>6490</td>\n",
       "      <td>B</td>\n",
       "    </tr>\n",
       "    <tr>\n",
       "      <th>1193</th>\n",
       "      <td>2203539145</td>\n",
       "      <td>370388673</td>\n",
       "      <td>2019-08-14</td>\n",
       "      <td>3190</td>\n",
       "      <td>A</td>\n",
       "    </tr>\n",
       "    <tr>\n",
       "      <th>1194</th>\n",
       "      <td>1807773912</td>\n",
       "      <td>573423106</td>\n",
       "      <td>2019-08-14</td>\n",
       "      <td>10550</td>\n",
       "      <td>A</td>\n",
       "    </tr>\n",
       "    <tr>\n",
       "      <th>1196</th>\n",
       "      <td>3936777065</td>\n",
       "      <td>2108080724</td>\n",
       "      <td>2019-08-15</td>\n",
       "      <td>202740</td>\n",
       "      <td>B</td>\n",
       "    </tr>\n",
       "  </tbody>\n",
       "</table>\n",
       "<p>1016 rows × 5 columns</p>\n",
       "</div>"
      ],
      "text/plain": [
       "      transactionId   visitorId        date  revenue group\n",
       "0     3667963787     3312258926  2019-08-15  1650     B   \n",
       "1     2804400009     3642806036  2019-08-15  730      B   \n",
       "3     3797467345     1196621759  2019-08-15  9759     B   \n",
       "4     2282983706     2322279887  2019-08-15  2308     B   \n",
       "5     182168103      935554773   2019-08-15  2210     B   \n",
       "...         ...            ...          ...   ...    ..   \n",
       "1191  3592955527     608641596   2019-08-14  16490    B   \n",
       "1192  2662137336     3733762160  2019-08-14  6490     B   \n",
       "1193  2203539145     370388673   2019-08-14  3190     A   \n",
       "1194  1807773912     573423106   2019-08-14  10550    A   \n",
       "1196  3936777065     2108080724  2019-08-15  202740   B   \n",
       "\n",
       "[1016 rows x 5 columns]"
      ]
     },
     "execution_count": 22,
     "metadata": {},
     "output_type": "execute_result"
    }
   ],
   "source": [
    "orders_filt = orders.query('visitorId not in @potentially_broken_users_list1')\n",
    "orders_filt"
   ]
  },
  {
   "cell_type": "markdown",
   "id": "4cb09ebc",
   "metadata": {},
   "source": [
    "visitors:\n",
    "Сначала добавим к нашему кастомному датафрейму столбец count, где проставим значение -1, и возьмем только столбцы group, date и count:"
   ]
  },
  {
   "cell_type": "code",
   "execution_count": 23,
   "id": "404caa22",
   "metadata": {},
   "outputs": [
    {
     "name": "stdout",
     "output_type": "stream",
     "text": [
      "<class 'pandas.core.frame.DataFrame'>\n",
      "RangeIndex: 170 entries, 0 to 169\n",
      "Data columns (total 3 columns):\n",
      " #   Column  Non-Null Count  Dtype \n",
      "---  ------  --------------  ----- \n",
      " 0   date    170 non-null    object\n",
      " 1   count   170 non-null    int64 \n",
      " 2   group   170 non-null    object\n",
      "dtypes: int64(1), object(2)\n",
      "memory usage: 4.1+ KB\n",
      "None\n"
     ]
    },
    {
     "data": {
      "text/html": [
       "<div>\n",
       "<style scoped>\n",
       "    .dataframe tbody tr th:only-of-type {\n",
       "        vertical-align: middle;\n",
       "    }\n",
       "\n",
       "    .dataframe tbody tr th {\n",
       "        vertical-align: top;\n",
       "    }\n",
       "\n",
       "    .dataframe thead th {\n",
       "        text-align: right;\n",
       "    }\n",
       "</style>\n",
       "<table border=\"1\" class=\"dataframe\">\n",
       "  <thead>\n",
       "    <tr style=\"text-align: right;\">\n",
       "      <th></th>\n",
       "      <th>date</th>\n",
       "      <th>count</th>\n",
       "      <th>group</th>\n",
       "    </tr>\n",
       "  </thead>\n",
       "  <tbody>\n",
       "    <tr>\n",
       "      <th>0</th>\n",
       "      <td>2019-08-07</td>\n",
       "      <td>-1</td>\n",
       "      <td>A</td>\n",
       "    </tr>\n",
       "    <tr>\n",
       "      <th>1</th>\n",
       "      <td>2019-08-01</td>\n",
       "      <td>-1</td>\n",
       "      <td>B</td>\n",
       "    </tr>\n",
       "    <tr>\n",
       "      <th>2</th>\n",
       "      <td>2019-08-12</td>\n",
       "      <td>-1</td>\n",
       "      <td>A</td>\n",
       "    </tr>\n",
       "    <tr>\n",
       "      <th>3</th>\n",
       "      <td>2019-08-15</td>\n",
       "      <td>-1</td>\n",
       "      <td>A</td>\n",
       "    </tr>\n",
       "    <tr>\n",
       "      <th>4</th>\n",
       "      <td>2019-08-22</td>\n",
       "      <td>-1</td>\n",
       "      <td>A</td>\n",
       "    </tr>\n",
       "  </tbody>\n",
       "</table>\n",
       "</div>"
      ],
      "text/plain": [
       "         date  count group\n",
       "0  2019-08-07 -1      A   \n",
       "1  2019-08-01 -1      B   \n",
       "2  2019-08-12 -1      A   \n",
       "3  2019-08-15 -1      A   \n",
       "4  2019-08-22 -1      A   "
      ]
     },
     "execution_count": 23,
     "metadata": {},
     "output_type": "execute_result"
    }
   ],
   "source": [
    "broken_orders_grouped1 = broken_orders_grouped1.reset_index()\n",
    "broken_orders_grouped1['count'] = -1\n",
    "broken_orders_grouped1 = broken_orders_grouped1[[ 'date', 'count','group' ]]\n",
    "print(broken_orders_grouped1.info())\n",
    "broken_orders_grouped1.head()"
   ]
  },
  {
   "cell_type": "markdown",
   "id": "ea4c7905",
   "metadata": {},
   "source": [
    "Объединим наш начальный датайфрейм visitors с полученным выше:"
   ]
  },
  {
   "cell_type": "code",
   "execution_count": 24,
   "id": "b80363ae",
   "metadata": {},
   "outputs": [
    {
     "data": {
      "text/html": [
       "<div>\n",
       "<style scoped>\n",
       "    .dataframe tbody tr th:only-of-type {\n",
       "        vertical-align: middle;\n",
       "    }\n",
       "\n",
       "    .dataframe tbody tr th {\n",
       "        vertical-align: top;\n",
       "    }\n",
       "\n",
       "    .dataframe thead th {\n",
       "        text-align: right;\n",
       "    }\n",
       "</style>\n",
       "<table border=\"1\" class=\"dataframe\">\n",
       "  <thead>\n",
       "    <tr style=\"text-align: right;\">\n",
       "      <th></th>\n",
       "      <th>date</th>\n",
       "      <th>group</th>\n",
       "      <th>visitors</th>\n",
       "      <th>count</th>\n",
       "    </tr>\n",
       "  </thead>\n",
       "  <tbody>\n",
       "    <tr>\n",
       "      <th>0</th>\n",
       "      <td>2019-08-01</td>\n",
       "      <td>A</td>\n",
       "      <td>719</td>\n",
       "      <td>-1.0</td>\n",
       "    </tr>\n",
       "    <tr>\n",
       "      <th>1</th>\n",
       "      <td>2019-08-02</td>\n",
       "      <td>A</td>\n",
       "      <td>619</td>\n",
       "      <td>-1.0</td>\n",
       "    </tr>\n",
       "    <tr>\n",
       "      <th>2</th>\n",
       "      <td>2019-08-03</td>\n",
       "      <td>A</td>\n",
       "      <td>507</td>\n",
       "      <td>0.0</td>\n",
       "    </tr>\n",
       "    <tr>\n",
       "      <th>3</th>\n",
       "      <td>2019-08-04</td>\n",
       "      <td>A</td>\n",
       "      <td>717</td>\n",
       "      <td>-1.0</td>\n",
       "    </tr>\n",
       "    <tr>\n",
       "      <th>4</th>\n",
       "      <td>2019-08-04</td>\n",
       "      <td>A</td>\n",
       "      <td>717</td>\n",
       "      <td>-1.0</td>\n",
       "    </tr>\n",
       "  </tbody>\n",
       "</table>\n",
       "</div>"
      ],
      "text/plain": [
       "         date group  visitors  count\n",
       "0  2019-08-01  A     719      -1.0  \n",
       "1  2019-08-02  A     619      -1.0  \n",
       "2  2019-08-03  A     507       0.0  \n",
       "3  2019-08-04  A     717      -1.0  \n",
       "4  2019-08-04  A     717      -1.0  "
      ]
     },
     "execution_count": 24,
     "metadata": {},
     "output_type": "execute_result"
    }
   ],
   "source": [
    "visitors_filt = visitors.merge(broken_orders_grouped1, on=['date', 'group'], how='left').fillna(0)\n",
    "visitors_filt.head()"
   ]
  },
  {
   "cell_type": "markdown",
   "id": "89e43a36",
   "metadata": {},
   "source": [
    "Теперь добавим новый столбец, где построчно просуммируем значения столбцов visitors и count:"
   ]
  },
  {
   "cell_type": "code",
   "execution_count": 25,
   "id": "91ae7ae2",
   "metadata": {},
   "outputs": [
    {
     "data": {
      "text/html": [
       "<div>\n",
       "<style scoped>\n",
       "    .dataframe tbody tr th:only-of-type {\n",
       "        vertical-align: middle;\n",
       "    }\n",
       "\n",
       "    .dataframe tbody tr th {\n",
       "        vertical-align: top;\n",
       "    }\n",
       "\n",
       "    .dataframe thead th {\n",
       "        text-align: right;\n",
       "    }\n",
       "</style>\n",
       "<table border=\"1\" class=\"dataframe\">\n",
       "  <thead>\n",
       "    <tr style=\"text-align: right;\">\n",
       "      <th></th>\n",
       "      <th>date</th>\n",
       "      <th>group</th>\n",
       "      <th>visitors</th>\n",
       "    </tr>\n",
       "  </thead>\n",
       "  <tbody>\n",
       "    <tr>\n",
       "      <th>0</th>\n",
       "      <td>2019-08-01</td>\n",
       "      <td>A</td>\n",
       "      <td>719</td>\n",
       "    </tr>\n",
       "    <tr>\n",
       "      <th>1</th>\n",
       "      <td>2019-08-02</td>\n",
       "      <td>A</td>\n",
       "      <td>619</td>\n",
       "    </tr>\n",
       "    <tr>\n",
       "      <th>2</th>\n",
       "      <td>2019-08-03</td>\n",
       "      <td>A</td>\n",
       "      <td>507</td>\n",
       "    </tr>\n",
       "    <tr>\n",
       "      <th>3</th>\n",
       "      <td>2019-08-04</td>\n",
       "      <td>A</td>\n",
       "      <td>717</td>\n",
       "    </tr>\n",
       "    <tr>\n",
       "      <th>4</th>\n",
       "      <td>2019-08-05</td>\n",
       "      <td>A</td>\n",
       "      <td>756</td>\n",
       "    </tr>\n",
       "  </tbody>\n",
       "</table>\n",
       "</div>"
      ],
      "text/plain": [
       "         date group  visitors\n",
       "0  2019-08-01  A     719     \n",
       "1  2019-08-02  A     619     \n",
       "2  2019-08-03  A     507     \n",
       "3  2019-08-04  A     717     \n",
       "4  2019-08-05  A     756     "
      ]
     },
     "execution_count": 25,
     "metadata": {},
     "output_type": "execute_result"
    }
   ],
   "source": [
    "visitors_filt['visitors_'] = visitors_filt['visitors'] + visitors_filt['count']\n",
    "visitors.head()"
   ]
  },
  {
   "cell_type": "markdown",
   "id": "20855670",
   "metadata": {},
   "source": [
    "Отбросим старый столбец visitors и вспомогательный столбец count, переименуем новый столбец visitors_ в visitors:"
   ]
  },
  {
   "cell_type": "code",
   "execution_count": 26,
   "id": "4dce5a5d",
   "metadata": {},
   "outputs": [
    {
     "data": {
      "text/html": [
       "<div>\n",
       "<style scoped>\n",
       "    .dataframe tbody tr th:only-of-type {\n",
       "        vertical-align: middle;\n",
       "    }\n",
       "\n",
       "    .dataframe tbody tr th {\n",
       "        vertical-align: top;\n",
       "    }\n",
       "\n",
       "    .dataframe thead th {\n",
       "        text-align: right;\n",
       "    }\n",
       "</style>\n",
       "<table border=\"1\" class=\"dataframe\">\n",
       "  <thead>\n",
       "    <tr style=\"text-align: right;\">\n",
       "      <th></th>\n",
       "      <th>date</th>\n",
       "      <th>group</th>\n",
       "      <th>visitors</th>\n",
       "    </tr>\n",
       "  </thead>\n",
       "  <tbody>\n",
       "    <tr>\n",
       "      <th>0</th>\n",
       "      <td>2019-08-01</td>\n",
       "      <td>A</td>\n",
       "      <td>718</td>\n",
       "    </tr>\n",
       "    <tr>\n",
       "      <th>1</th>\n",
       "      <td>2019-08-02</td>\n",
       "      <td>A</td>\n",
       "      <td>618</td>\n",
       "    </tr>\n",
       "    <tr>\n",
       "      <th>2</th>\n",
       "      <td>2019-08-03</td>\n",
       "      <td>A</td>\n",
       "      <td>507</td>\n",
       "    </tr>\n",
       "    <tr>\n",
       "      <th>3</th>\n",
       "      <td>2019-08-04</td>\n",
       "      <td>A</td>\n",
       "      <td>716</td>\n",
       "    </tr>\n",
       "    <tr>\n",
       "      <th>4</th>\n",
       "      <td>2019-08-04</td>\n",
       "      <td>A</td>\n",
       "      <td>716</td>\n",
       "    </tr>\n",
       "  </tbody>\n",
       "</table>\n",
       "</div>"
      ],
      "text/plain": [
       "         date group  visitors\n",
       "0  2019-08-01  A     718     \n",
       "1  2019-08-02  A     618     \n",
       "2  2019-08-03  A     507     \n",
       "3  2019-08-04  A     716     \n",
       "4  2019-08-04  A     716     "
      ]
     },
     "execution_count": 26,
     "metadata": {},
     "output_type": "execute_result"
    }
   ],
   "source": [
    "visitors_filt = visitors_filt.drop(['visitors', 'count'], axis=1)\n",
    "visitors_filt.columns = ['date', 'group', 'visitors']\n",
    "visitors_filt['visitors'] = visitors_filt['visitors'].astype(int)\n",
    "visitors_filt.head()"
   ]
  },
  {
   "cell_type": "markdown",
   "id": "964b89b4",
   "metadata": {},
   "source": [
    "Готово. Датафрейм visitors тоже почищен от заранее некорректных данных."
   ]
  },
  {
   "cell_type": "markdown",
   "id": "af623c82",
   "metadata": {},
   "source": [
    "1 Кумулятивная выручка в разбивке по группам:"
   ]
  },
  {
   "cell_type": "code",
   "execution_count": 27,
   "id": "2b0f5167",
   "metadata": {},
   "outputs": [
    {
     "data": {
      "text/html": [
       "<div>\n",
       "<style scoped>\n",
       "    .dataframe tbody tr th:only-of-type {\n",
       "        vertical-align: middle;\n",
       "    }\n",
       "\n",
       "    .dataframe tbody tr th {\n",
       "        vertical-align: top;\n",
       "    }\n",
       "\n",
       "    .dataframe thead th {\n",
       "        text-align: right;\n",
       "    }\n",
       "</style>\n",
       "<table border=\"1\" class=\"dataframe\">\n",
       "  <thead>\n",
       "    <tr style=\"text-align: right;\">\n",
       "      <th></th>\n",
       "      <th>group</th>\n",
       "      <th>date</th>\n",
       "      <th>revenue</th>\n",
       "    </tr>\n",
       "  </thead>\n",
       "  <tbody>\n",
       "    <tr>\n",
       "      <th>0</th>\n",
       "      <td>A</td>\n",
       "      <td>01-08</td>\n",
       "      <td>142779</td>\n",
       "    </tr>\n",
       "    <tr>\n",
       "      <th>1</th>\n",
       "      <td>A</td>\n",
       "      <td>02-08</td>\n",
       "      <td>234381</td>\n",
       "    </tr>\n",
       "    <tr>\n",
       "      <th>2</th>\n",
       "      <td>A</td>\n",
       "      <td>03-08</td>\n",
       "      <td>346854</td>\n",
       "    </tr>\n",
       "    <tr>\n",
       "      <th>3</th>\n",
       "      <td>A</td>\n",
       "      <td>04-08</td>\n",
       "      <td>388030</td>\n",
       "    </tr>\n",
       "    <tr>\n",
       "      <th>4</th>\n",
       "      <td>A</td>\n",
       "      <td>05-08</td>\n",
       "      <td>474413</td>\n",
       "    </tr>\n",
       "  </tbody>\n",
       "</table>\n",
       "</div>"
      ],
      "text/plain": [
       "  group   date  revenue\n",
       "0  A     01-08  142779 \n",
       "1  A     02-08  234381 \n",
       "2  A     03-08  346854 \n",
       "3  A     04-08  388030 \n",
       "4  A     05-08  474413 "
      ]
     },
     "execution_count": 27,
     "metadata": {},
     "output_type": "execute_result"
    }
   ],
   "source": [
    "cum_rev = orders_filt.groupby(['group', 'date'])['revenue'].sum().groupby(level=[0]).cumsum().to_frame()\n",
    "cum_rev = cum_rev.reset_index()\n",
    "cum_rev['date'] = cum_rev['date'].apply(lambda x: x.split('-')[2] + '-' + x.split('-')[1])\n",
    "cum_rev.head()"
   ]
  },
  {
   "cell_type": "code",
   "execution_count": 28,
   "id": "b5e9b0b1",
   "metadata": {},
   "outputs": [],
   "source": [
    "# создаем массив уникальных пар значений дат и групп теста\n",
    "datesGroups = orders_filt[['date','group']].drop_duplicates() "
   ]
  },
  {
   "cell_type": "code",
   "execution_count": 29,
   "id": "5d278958",
   "metadata": {},
   "outputs": [],
   "source": [
    "## получаем агрегированные кумулятивные по дням данные о заказах \n",
    "ordersAggregated = datesGroups.apply(\n",
    "    lambda x: orders_filt[\n",
    "        np.logical_and(\n",
    "            orders_filt['date'] <= x['date'], orders_filt['group'] == x['group']\n",
    "        )\n",
    "    ].agg(\n",
    "        {\n",
    "            'date': 'max',\n",
    "            'group': 'max',\n",
    "            'transactionId': 'nunique',\n",
    "            'visitorId': 'nunique',\n",
    "            'revenue': 'sum',\n",
    "        }\n",
    "    ),\n",
    "    axis=1,\n",
    ").sort_values(by=['date', 'group'])"
   ]
  },
  {
   "cell_type": "code",
   "execution_count": 30,
   "id": "749acca0",
   "metadata": {},
   "outputs": [
    {
     "data": {
      "text/html": [
       "<div>\n",
       "<style scoped>\n",
       "    .dataframe tbody tr th:only-of-type {\n",
       "        vertical-align: middle;\n",
       "    }\n",
       "\n",
       "    .dataframe tbody tr th {\n",
       "        vertical-align: top;\n",
       "    }\n",
       "\n",
       "    .dataframe thead th {\n",
       "        text-align: right;\n",
       "    }\n",
       "</style>\n",
       "<table border=\"1\" class=\"dataframe\">\n",
       "  <thead>\n",
       "    <tr style=\"text-align: right;\">\n",
       "      <th></th>\n",
       "      <th>date</th>\n",
       "      <th>group</th>\n",
       "      <th>transactionId</th>\n",
       "      <th>visitorId</th>\n",
       "      <th>revenue</th>\n",
       "    </tr>\n",
       "  </thead>\n",
       "  <tbody>\n",
       "    <tr>\n",
       "      <th>55</th>\n",
       "      <td>2019-08-01</td>\n",
       "      <td>A</td>\n",
       "      <td>23</td>\n",
       "      <td>19</td>\n",
       "      <td>142779</td>\n",
       "    </tr>\n",
       "    <tr>\n",
       "      <th>66</th>\n",
       "      <td>2019-08-01</td>\n",
       "      <td>B</td>\n",
       "      <td>17</td>\n",
       "      <td>17</td>\n",
       "      <td>59758</td>\n",
       "    </tr>\n",
       "    <tr>\n",
       "      <th>175</th>\n",
       "      <td>2019-08-02</td>\n",
       "      <td>A</td>\n",
       "      <td>42</td>\n",
       "      <td>36</td>\n",
       "      <td>234381</td>\n",
       "    </tr>\n",
       "    <tr>\n",
       "      <th>173</th>\n",
       "      <td>2019-08-02</td>\n",
       "      <td>B</td>\n",
       "      <td>40</td>\n",
       "      <td>39</td>\n",
       "      <td>221801</td>\n",
       "    </tr>\n",
       "    <tr>\n",
       "      <th>291</th>\n",
       "      <td>2019-08-03</td>\n",
       "      <td>A</td>\n",
       "      <td>66</td>\n",
       "      <td>60</td>\n",
       "      <td>346854</td>\n",
       "    </tr>\n",
       "    <tr>\n",
       "      <th>...</th>\n",
       "      <td>...</td>\n",
       "      <td>...</td>\n",
       "      <td>...</td>\n",
       "      <td>...</td>\n",
       "      <td>...</td>\n",
       "    </tr>\n",
       "    <tr>\n",
       "      <th>533</th>\n",
       "      <td>2019-08-29</td>\n",
       "      <td>B</td>\n",
       "      <td>510</td>\n",
       "      <td>490</td>\n",
       "      <td>4746610</td>\n",
       "    </tr>\n",
       "    <tr>\n",
       "      <th>757</th>\n",
       "      <td>2019-08-30</td>\n",
       "      <td>A</td>\n",
       "      <td>460</td>\n",
       "      <td>437</td>\n",
       "      <td>3311413</td>\n",
       "    </tr>\n",
       "    <tr>\n",
       "      <th>690</th>\n",
       "      <td>2019-08-30</td>\n",
       "      <td>B</td>\n",
       "      <td>531</td>\n",
       "      <td>511</td>\n",
       "      <td>4955833</td>\n",
       "    </tr>\n",
       "    <tr>\n",
       "      <th>958</th>\n",
       "      <td>2019-08-31</td>\n",
       "      <td>A</td>\n",
       "      <td>468</td>\n",
       "      <td>445</td>\n",
       "      <td>3364656</td>\n",
       "    </tr>\n",
       "    <tr>\n",
       "      <th>930</th>\n",
       "      <td>2019-08-31</td>\n",
       "      <td>B</td>\n",
       "      <td>548</td>\n",
       "      <td>528</td>\n",
       "      <td>5068972</td>\n",
       "    </tr>\n",
       "  </tbody>\n",
       "</table>\n",
       "<p>62 rows × 5 columns</p>\n",
       "</div>"
      ],
      "text/plain": [
       "           date group  transactionId  visitorId  revenue\n",
       "55   2019-08-01  A     23             19         142779 \n",
       "66   2019-08-01  B     17             17         59758  \n",
       "175  2019-08-02  A     42             36         234381 \n",
       "173  2019-08-02  B     40             39         221801 \n",
       "291  2019-08-03  A     66             60         346854 \n",
       "..          ... ..     ..             ..            ... \n",
       "533  2019-08-29  B     510            490        4746610\n",
       "757  2019-08-30  A     460            437        3311413\n",
       "690  2019-08-30  B     531            511        4955833\n",
       "958  2019-08-31  A     468            445        3364656\n",
       "930  2019-08-31  B     548            528        5068972\n",
       "\n",
       "[62 rows x 5 columns]"
      ]
     },
     "execution_count": 30,
     "metadata": {},
     "output_type": "execute_result"
    }
   ],
   "source": [
    "ordersAggregated"
   ]
  },
  {
   "cell_type": "code",
   "execution_count": 31,
   "id": "3ce42da0",
   "metadata": {},
   "outputs": [],
   "source": [
    "#получаем агрегированные кумулятивные по дням данные о посетителях интернет-магазина\n",
    "visitorsAggregated = datesGroups.apply(\n",
    "    lambda x: visitors_filt[\n",
    "        np.logical_and(\n",
    "            visitors_filt['date'] <= x['date'], visitors_filt['group'] == x['group']\n",
    "        )\n",
    "    ].agg({'date': 'max', 'group': 'max', 'visitors': 'sum'}),\n",
    "    axis=1,\n",
    ").sort_values(by=['date', 'group'])"
   ]
  },
  {
   "cell_type": "code",
   "execution_count": 32,
   "id": "2b16d48a",
   "metadata": {},
   "outputs": [
    {
     "data": {
      "text/html": [
       "<div>\n",
       "<style scoped>\n",
       "    .dataframe tbody tr th:only-of-type {\n",
       "        vertical-align: middle;\n",
       "    }\n",
       "\n",
       "    .dataframe tbody tr th {\n",
       "        vertical-align: top;\n",
       "    }\n",
       "\n",
       "    .dataframe thead th {\n",
       "        text-align: right;\n",
       "    }\n",
       "</style>\n",
       "<table border=\"1\" class=\"dataframe\">\n",
       "  <thead>\n",
       "    <tr style=\"text-align: right;\">\n",
       "      <th></th>\n",
       "      <th>date</th>\n",
       "      <th>group</th>\n",
       "      <th>orders</th>\n",
       "      <th>buyers</th>\n",
       "      <th>revenue</th>\n",
       "      <th>visitors</th>\n",
       "    </tr>\n",
       "  </thead>\n",
       "  <tbody>\n",
       "    <tr>\n",
       "      <th>0</th>\n",
       "      <td>2019-08-01</td>\n",
       "      <td>A</td>\n",
       "      <td>23</td>\n",
       "      <td>19</td>\n",
       "      <td>142779</td>\n",
       "      <td>718</td>\n",
       "    </tr>\n",
       "    <tr>\n",
       "      <th>1</th>\n",
       "      <td>2019-08-01</td>\n",
       "      <td>B</td>\n",
       "      <td>17</td>\n",
       "      <td>17</td>\n",
       "      <td>59758</td>\n",
       "      <td>2136</td>\n",
       "    </tr>\n",
       "    <tr>\n",
       "      <th>2</th>\n",
       "      <td>2019-08-02</td>\n",
       "      <td>A</td>\n",
       "      <td>42</td>\n",
       "      <td>36</td>\n",
       "      <td>234381</td>\n",
       "      <td>1336</td>\n",
       "    </tr>\n",
       "    <tr>\n",
       "      <th>3</th>\n",
       "      <td>2019-08-02</td>\n",
       "      <td>B</td>\n",
       "      <td>40</td>\n",
       "      <td>39</td>\n",
       "      <td>221801</td>\n",
       "      <td>2716</td>\n",
       "    </tr>\n",
       "    <tr>\n",
       "      <th>4</th>\n",
       "      <td>2019-08-03</td>\n",
       "      <td>A</td>\n",
       "      <td>66</td>\n",
       "      <td>60</td>\n",
       "      <td>346854</td>\n",
       "      <td>1843</td>\n",
       "    </tr>\n",
       "  </tbody>\n",
       "</table>\n",
       "</div>"
      ],
      "text/plain": [
       "         date group  orders  buyers  revenue  visitors\n",
       "0  2019-08-01  A     23      19      142779   718     \n",
       "1  2019-08-01  B     17      17      59758    2136    \n",
       "2  2019-08-02  A     42      36      234381   1336    \n",
       "3  2019-08-02  B     40      39      221801   2716    \n",
       "4  2019-08-03  A     66      60      346854   1843    "
      ]
     },
     "execution_count": 32,
     "metadata": {},
     "output_type": "execute_result"
    }
   ],
   "source": [
    "# объединяем кумулятивные данные в одной таблице и присваиваем ее столбцам понятные названия\n",
    "cumulativeData = ordersAggregated.merge(visitorsAggregated, left_on=['date', 'group'], right_on=['date', 'group'])\n",
    "cumulativeData.columns = ['date', 'group', 'orders', 'buyers', 'revenue', 'visitors']\n",
    "cumulativeData.head()"
   ]
  },
  {
   "cell_type": "markdown",
   "id": "3c0c2f18",
   "metadata": {},
   "source": [
    "Построим графики кумулятивной выручки по дням и группам A/B-тестирования:"
   ]
  },
  {
   "cell_type": "code",
   "execution_count": 33,
   "id": "2e0236fb",
   "metadata": {},
   "outputs": [
    {
     "data": {
      "image/png": "[encoded data removed]",
      "text/plain": [
       "<Figure size 1080x504 with 1 Axes>"
      ]
     },
     "metadata": {
      "needs_background": "light"
     },
     "output_type": "display_data"
    }
   ],
   "source": [
    "# датафрейм с кумулятивным количеством заказов и кумулятивной выручкой по дням в группе А\n",
    "cumulativeRevenueA = cumulativeData[cumulativeData['group']=='A'][['date','revenue', 'orders']]\n",
    "\n",
    "# датафрейм с кумулятивным количеством заказов и кумулятивной выручкой по дням в группе B\n",
    "cumulativeRevenueB = cumulativeData[cumulativeData['group']=='B'][['date','revenue', 'orders']]\n",
    "\n",
    "# Строим график выручки группы А\n",
    "plt.figure(figsize=(15,7))\n",
    "plt.plot(cumulativeRevenueA['date'], cumulativeRevenueA['revenue'], label='A');\n",
    "\n",
    "# Строим график выручки группы B\n",
    "\n",
    "plt.plot(cumulativeRevenueB['date'], cumulativeRevenueB['revenue'], label='B');\n",
    "\n",
    "plt.xlabel('дата', fontsize=14)\n",
    "plt.ylabel('выручка', fontsize=14)\n",
    "plt.xticks(rotation=90)\n",
    "plt.title('кумулятивная выручка по дням и группам A/B-тестирования', fontsize=15)\n",
    "plt.legend();"
   ]
  },
  {
   "cell_type": "markdown",
   "id": "a9353be9",
   "metadata": {},
   "source": [
    "Выручка почти равномерно увеличивается в течение всего теста. Хороший знак.\n",
    "Однако графики выручки в В группе в нескольких точках резко растут. Это может сигнализировать о всплесках числа заказов, либо о появлении очень дорогих заказов в выборке. "
   ]
  },
  {
   "cell_type": "markdown",
   "id": "56e8e698",
   "metadata": {},
   "source": [
    "2 Построим графики среднего чека по группам — разделим кумулятивную выручку на кумулятивное число заказов:"
   ]
  },
  {
   "cell_type": "code",
   "execution_count": 34,
   "id": "a572b38a",
   "metadata": {},
   "outputs": [
    {
     "data": {
      "image/png": "[encoded data removed]",
      "text/plain": [
       "<Figure size 1080x504 with 1 Axes>"
      ]
     },
     "metadata": {
      "needs_background": "light"
     },
     "output_type": "display_data"
    }
   ],
   "source": [
    "plt.figure(figsize=(15,7))\n",
    "plt.plot(cumulativeRevenueA['date'], cumulativeRevenueA['revenue']/cumulativeRevenueA['orders'], label='A')\n",
    "plt.plot(cumulativeRevenueB['date'], cumulativeRevenueB['revenue']/cumulativeRevenueB['orders'], label='B')\n",
    "plt.xlabel('дата', fontsize=14)\n",
    "plt.ylabel('Средний чек', fontsize=14)\n",
    "plt.xticks(rotation=90)\n",
    "plt.title('график среднего чека по группам', fontsize=15)\n",
    "plt.legend();"
   ]
  },
  {
   "cell_type": "markdown",
   "id": "3346eb4d",
   "metadata": {},
   "source": [
    "Средний чек тоже становится равномерным ближе к концу теста: установился для группы А и продолжает падать для группы B. Возможно, в группу B в середине теста попали крупные заказы (резкий всплеск на графике). Тогда ей нужно больше данных, чтобы прийти к реальному среднему чеку и установиться на его уровне."
   ]
  },
  {
   "cell_type": "markdown",
   "id": "6d370bf8",
   "metadata": {},
   "source": [
    "3 Построим график относительного различия для среднего чека. Добавим горизонтальную ось методом axhline() "
   ]
  },
  {
   "cell_type": "code",
   "execution_count": 35,
   "id": "6f805478",
   "metadata": {},
   "outputs": [
    {
     "data": {
      "image/png": "[encoded data removed]",
      "text/plain": [
       "<Figure size 1080x504 with 1 Axes>"
      ]
     },
     "metadata": {
      "needs_background": "light"
     },
     "output_type": "display_data"
    }
   ],
   "source": [
    "# собираем данные в одном датафрейме\n",
    "mergedCumulativeRevenue = cumulativeRevenueA.merge(cumulativeRevenueB, left_on='date', right_on='date', how='left', suffixes=['A', 'B'])\n",
    "\n",
    "# cтроим отношение средних чеков\n",
    "plt.figure(figsize=(15,7))\n",
    "plt.plot(mergedCumulativeRevenue['date'], (mergedCumulativeRevenue['revenueB']/mergedCumulativeRevenue['ordersB'])/(mergedCumulativeRevenue['revenueA']/mergedCumulativeRevenue['ordersA'])-1)\n",
    "\n",
    "# добавляем ось X\n",
    "plt.axhline(y=0, color='black', linestyle='--')\n",
    "plt.xlabel('дата', fontsize=14)\n",
    "plt.ylabel('относительное различие', fontsize=14)\n",
    "plt.xticks(rotation=90)\n",
    "plt.title('Отношение средних чеков', fontsize=15);\n"
   ]
  },
  {
   "cell_type": "markdown",
   "id": "e3e39a9b",
   "metadata": {},
   "source": [
    "В нескольких точках график различия между сегментами резко «скачет». Где-то уж точно спрятались крупные заказы и выбросы! Найдём их позже."
   ]
  },
  {
   "cell_type": "markdown",
   "id": "8f69be34",
   "metadata": {},
   "source": [
    "4 Проанализируем график кумулятивной конверсии. "
   ]
  },
  {
   "cell_type": "code",
   "execution_count": 36,
   "id": "a06f31fb",
   "metadata": {},
   "outputs": [
    {
     "data": {
      "image/png": "[encoded data removed]",
      "text/plain": [
       "<Figure size 1080x504 with 1 Axes>"
      ]
     },
     "metadata": {
      "needs_background": "light"
     },
     "output_type": "display_data"
    }
   ],
   "source": [
    "# считаем кумулятивную конверсию\n",
    "cumulativeData['conversion'] = cumulativeData['orders']/cumulativeData['visitors']\n",
    "\n",
    "# отделяем данные по группе A\n",
    "cumulativeDataA = cumulativeData[cumulativeData['group']=='A']\n",
    "\n",
    "# отделяем данные по группе B\n",
    "cumulativeDataB = cumulativeData[cumulativeData['group']=='B']\n",
    "\n",
    "# строим графики\n",
    "plt.figure(figsize=(15,7))\n",
    "plt.plot(cumulativeDataA['date'], cumulativeDataA['conversion'], label='A')\n",
    "plt.plot(cumulativeDataB['date'], cumulativeDataB['conversion'], label='B')\n",
    "plt.xlabel('дата', fontsize=14)\n",
    "plt.ylabel('Кумулятивная конверсия', fontsize=14)\n",
    "plt.xticks(rotation=90)\n",
    "plt.title('кумулятивная конверсия', fontsize=15)\n",
    "plt.legend();\n"
   ]
  },
  {
   "cell_type": "markdown",
   "id": "8410aa97",
   "metadata": {},
   "source": [
    "Симметричный график получился! Группы колебались, но затем конверсия группы В вырвалась вперёд и зафиксировалась, а конверсия группы А просела и также зафиксировалась."
   ]
  },
  {
   "cell_type": "markdown",
   "id": "bca3fc7f",
   "metadata": {},
   "source": [
    "5 Построим график относительного различия кумулятивных конверсий:"
   ]
  },
  {
   "cell_type": "code",
   "execution_count": 37,
   "id": "48556ded",
   "metadata": {},
   "outputs": [
    {
     "data": {
      "image/png": "[encoded data removed]",
      "text/plain": [
       "<Figure size 1080x504 with 1 Axes>"
      ]
     },
     "metadata": {
      "needs_background": "light"
     },
     "output_type": "display_data"
    }
   ],
   "source": [
    "mergedCumulativeConversions = cumulativeDataA[['date','conversion']].merge(cumulativeDataB[['date','conversion']], left_on='date', right_on='date', how='left', suffixes=['A', 'B'])\n",
    "plt.figure(figsize=(15,7))\n",
    "plt.plot(mergedCumulativeConversions['date'], mergedCumulativeConversions['conversionB']/mergedCumulativeConversions['conversionA']-1, label=\"Относительный прирост конверсии группы B относительно группы A\")\n",
    "plt.legend()\n",
    "plt.xlabel('дата', fontsize=15)\n",
    "plt.ylabel('относительное различие кумулятивных конверсий', fontsize=15)\n",
    "plt.xticks(rotation=90)\n",
    "plt.title('График относительного различия кумулятивных конверсий', fontsize=15)\n",
    "plt.axhline(y=0, color='black', linestyle='--')\n",
    "plt.axhline(y=-0.1, color='grey', linestyle='--');"
   ]
  },
  {
   "cell_type": "markdown",
   "id": "bc1569d3",
   "metadata": {},
   "source": [
    "В начале теста группа B значительно проигрывала группе A, затем вырвалась вперёд. Потом её конверсия снова падала, но теперь постепенно растёт.\n",
    "В целом отношение конверсии ещё не установилось, и сейчас делать какие-либо выводы по тесту нельзя. Впрочем, сперва стоит проанализировать аномалии, возможно, они изменят картину"
   ]
  },
  {
   "cell_type": "markdown",
   "id": "ea169601",
   "metadata": {},
   "source": [
    "6 Постройте точечный график количества заказов по пользователям. Сделайте выводы и предположения."
   ]
  },
  {
   "cell_type": "code",
   "execution_count": 38,
   "id": "805656bc",
   "metadata": {},
   "outputs": [
    {
     "data": {
      "image/png": "[encoded data removed]",
      "text/plain": [
       "<Figure size 1080x504 with 1 Axes>"
      ]
     },
     "metadata": {
      "needs_background": "light"
     },
     "output_type": "display_data"
    }
   ],
   "source": [
    "ordersByUsers = (\n",
    "   orders_filt.groupby('visitorId', as_index=False)\n",
    "    .agg({'transactionId': 'nunique'})\n",
    ")\n",
    "x_values = pd.Series(range(0,len(ordersByUsers)))\n",
    "plt.figure(figsize=(15,7))\n",
    "plt.scatter(x_values, ordersByUsers['transactionId'])\n",
    "plt.xlabel('Пользователи', fontsize=15)\n",
    "plt.ylabel('количество заказов', fontsize=15)\n",
    "plt.title('График количества заказов по пользователям', fontsize=15);"
   ]
  },
  {
   "cell_type": "markdown",
   "id": "195b25bf",
   "metadata": {},
   "source": [
    "Большинство покупателей заказывали только один раз. Однако доля пользователей с 2 заказами тоже значительна."
   ]
  },
  {
   "cell_type": "markdown",
   "id": "fe365631",
   "metadata": {},
   "source": [
    "7 Посчитаем выборочные перцентили количества заказов на одного пользователя:"
   ]
  },
  {
   "cell_type": "code",
   "execution_count": 39,
   "id": "3f0e8270",
   "metadata": {},
   "outputs": [
    {
     "name": "stdout",
     "output_type": "stream",
     "text": [
      "[1. 2.]\n"
     ]
    }
   ],
   "source": [
    "print(np.percentile(ordersByUsers['transactionId'], [95,99]))"
   ]
  },
  {
   "cell_type": "markdown",
   "id": "a4e0a956",
   "metadata": {},
   "source": [
    "Большая часть клиентов сделали по 1 заказу.\n",
    "95ый перцентиль равен 1 заказам, 99ый - 2."
   ]
  },
  {
   "cell_type": "markdown",
   "id": "e246bcfa",
   "metadata": {},
   "source": [
    "8 Постройте точечный график стоимостей заказов. Сделайте выводы и предположения.\n"
   ]
  },
  {
   "cell_type": "code",
   "execution_count": 40,
   "id": "1094bddd",
   "metadata": {},
   "outputs": [
    {
     "data": {
      "image/png": "[encoded data removed]",
      "text/plain": [
       "<Figure size 1080x504 with 1 Axes>"
      ]
     },
     "metadata": {
      "needs_background": "light"
     },
     "output_type": "display_data"
    }
   ],
   "source": [
    "ordersByrevenue = (\n",
    "   orders_filt.groupby('visitorId', as_index=False)\n",
    "    .agg({'revenue': 'sum'})\n",
    ")\n",
    "x_values = pd.Series(range(0,len(ordersByrevenue)))\n",
    "plt.figure(figsize=(15,7))\n",
    "plt.scatter(x_values, ordersByrevenue['revenue']) \n",
    "plt.xlabel('Пользователи', fontsize=15)\n",
    "plt.ylabel('Стоимость заказов', fontsize=15)\n",
    "plt.title('График стоимостей заказов', fontsize=15);"
   ]
  },
  {
   "cell_type": "code",
   "execution_count": 41,
   "id": "16eccaa9",
   "metadata": {},
   "outputs": [
    {
     "data": {
      "text/html": [
       "<div>\n",
       "<style scoped>\n",
       "    .dataframe tbody tr th:only-of-type {\n",
       "        vertical-align: middle;\n",
       "    }\n",
       "\n",
       "    .dataframe tbody tr th {\n",
       "        vertical-align: top;\n",
       "    }\n",
       "\n",
       "    .dataframe thead th {\n",
       "        text-align: right;\n",
       "    }\n",
       "</style>\n",
       "<table border=\"1\" class=\"dataframe\">\n",
       "  <thead>\n",
       "    <tr style=\"text-align: right;\">\n",
       "      <th></th>\n",
       "      <th>visitorId</th>\n",
       "      <th>revenue</th>\n",
       "    </tr>\n",
       "  </thead>\n",
       "  <tbody>\n",
       "    <tr>\n",
       "      <th>0</th>\n",
       "      <td>5114589</td>\n",
       "      <td>570</td>\n",
       "    </tr>\n",
       "    <tr>\n",
       "      <th>1</th>\n",
       "      <td>6958315</td>\n",
       "      <td>1490</td>\n",
       "    </tr>\n",
       "    <tr>\n",
       "      <th>2</th>\n",
       "      <td>11685486</td>\n",
       "      <td>6201</td>\n",
       "    </tr>\n",
       "    <tr>\n",
       "      <th>3</th>\n",
       "      <td>39475350</td>\n",
       "      <td>3990</td>\n",
       "    </tr>\n",
       "    <tr>\n",
       "      <th>4</th>\n",
       "      <td>47206413</td>\n",
       "      <td>730</td>\n",
       "    </tr>\n",
       "    <tr>\n",
       "      <th>...</th>\n",
       "      <td>...</td>\n",
       "      <td>...</td>\n",
       "    </tr>\n",
       "    <tr>\n",
       "      <th>968</th>\n",
       "      <td>4259830713</td>\n",
       "      <td>3190</td>\n",
       "    </tr>\n",
       "    <tr>\n",
       "      <th>969</th>\n",
       "      <td>4278982564</td>\n",
       "      <td>24744</td>\n",
       "    </tr>\n",
       "    <tr>\n",
       "      <th>970</th>\n",
       "      <td>4279090005</td>\n",
       "      <td>6716</td>\n",
       "    </tr>\n",
       "    <tr>\n",
       "      <th>971</th>\n",
       "      <td>4281247801</td>\n",
       "      <td>2640</td>\n",
       "    </tr>\n",
       "    <tr>\n",
       "      <th>972</th>\n",
       "      <td>4283872382</td>\n",
       "      <td>3806</td>\n",
       "    </tr>\n",
       "  </tbody>\n",
       "</table>\n",
       "<p>973 rows × 2 columns</p>\n",
       "</div>"
      ],
      "text/plain": [
       "      visitorId  revenue\n",
       "0    5114589     570    \n",
       "1    6958315     1490   \n",
       "2    11685486    6201   \n",
       "3    39475350    3990   \n",
       "4    47206413    730    \n",
       "..        ...    ...    \n",
       "968  4259830713  3190   \n",
       "969  4278982564  24744  \n",
       "970  4279090005  6716   \n",
       "971  4281247801  2640   \n",
       "972  4283872382  3806   \n",
       "\n",
       "[973 rows x 2 columns]"
      ]
     },
     "execution_count": 41,
     "metadata": {},
     "output_type": "execute_result"
    }
   ],
   "source": [
    "ordersByrevenue"
   ]
  },
  {
   "cell_type": "markdown",
   "id": "46350921",
   "metadata": {},
   "source": [
    "9 Посчитайте 95-й и 99-й перцентили стоимости заказов. Выберите границу для определения аномальных заказов."
   ]
  },
  {
   "cell_type": "code",
   "execution_count": 42,
   "id": "5dee4b28",
   "metadata": {},
   "outputs": [
    {
     "name": "stdout",
     "output_type": "stream",
     "text": [
      "[28910. 59082.]\n"
     ]
    }
   ],
   "source": [
    "print(np.percentile(ordersByrevenue['revenue'], [95,99]))"
   ]
  },
  {
   "cell_type": "markdown",
   "id": "c538aff9",
   "metadata": {},
   "source": [
    "Сумма по большей части заказов не превышает 28910 рублей. Есть выбросы и до 1,3 млн, но это что-то очень интересное. Вполне возможно, что это один из тех клиентов, которые совершили по 11 заказов.\n",
    "95ый процентиль равен приблизительно 28910 рублей, 99ый - 59082 руб."
   ]
  },
  {
   "cell_type": "markdown",
   "id": "9eafcb8e",
   "metadata": {},
   "source": [
    "10 Посчитайте статистическую значимость различий в конверсии между группами по «сырым» данным."
   ]
  },
  {
   "cell_type": "code",
   "execution_count": 43,
   "id": "156e2084",
   "metadata": {},
   "outputs": [
    {
     "name": "stderr",
     "output_type": "stream",
     "text": [
      "/tmp/ipykernel_240/3460513467.py:24: UserWarning: Boolean Series key will be reindexed to match DataFrame index.\n",
      "  orders_filt[orders['group'] == 'A'][['date', 'transactionId', 'visitorId', 'revenue']]\n"
     ]
    },
    {
     "data": {
      "text/html": [
       "<div>\n",
       "<style scoped>\n",
       "    .dataframe tbody tr th:only-of-type {\n",
       "        vertical-align: middle;\n",
       "    }\n",
       "\n",
       "    .dataframe tbody tr th {\n",
       "        vertical-align: top;\n",
       "    }\n",
       "\n",
       "    .dataframe thead th {\n",
       "        text-align: right;\n",
       "    }\n",
       "</style>\n",
       "<table border=\"1\" class=\"dataframe\">\n",
       "  <thead>\n",
       "    <tr style=\"text-align: right;\">\n",
       "      <th></th>\n",
       "      <th>date</th>\n",
       "      <th>ordersPerDateA</th>\n",
       "      <th>revenuePerDateA</th>\n",
       "      <th>ordersPerDateB</th>\n",
       "      <th>revenuePerDateB</th>\n",
       "      <th>ordersCummulativeA</th>\n",
       "      <th>revenueCummulativeA</th>\n",
       "      <th>ordersCummulativeB</th>\n",
       "      <th>revenueCummulativeB</th>\n",
       "      <th>visitorsPerDateA</th>\n",
       "      <th>visitorsPerDateB</th>\n",
       "      <th>visitorsCummulativeA</th>\n",
       "      <th>visitorsCummulativeB</th>\n",
       "    </tr>\n",
       "  </thead>\n",
       "  <tbody>\n",
       "    <tr>\n",
       "      <th>0</th>\n",
       "      <td>2019-08-01</td>\n",
       "      <td>23</td>\n",
       "      <td>142779</td>\n",
       "      <td>17</td>\n",
       "      <td>59758</td>\n",
       "      <td>23</td>\n",
       "      <td>142779</td>\n",
       "      <td>17</td>\n",
       "      <td>59758</td>\n",
       "      <td>718</td>\n",
       "      <td>712</td>\n",
       "      <td>718</td>\n",
       "      <td>2136</td>\n",
       "    </tr>\n",
       "    <tr>\n",
       "      <th>1</th>\n",
       "      <td>2019-08-01</td>\n",
       "      <td>23</td>\n",
       "      <td>142779</td>\n",
       "      <td>17</td>\n",
       "      <td>59758</td>\n",
       "      <td>23</td>\n",
       "      <td>142779</td>\n",
       "      <td>17</td>\n",
       "      <td>59758</td>\n",
       "      <td>718</td>\n",
       "      <td>712</td>\n",
       "      <td>718</td>\n",
       "      <td>2136</td>\n",
       "    </tr>\n",
       "    <tr>\n",
       "      <th>2</th>\n",
       "      <td>2019-08-01</td>\n",
       "      <td>23</td>\n",
       "      <td>142779</td>\n",
       "      <td>17</td>\n",
       "      <td>59758</td>\n",
       "      <td>23</td>\n",
       "      <td>142779</td>\n",
       "      <td>17</td>\n",
       "      <td>59758</td>\n",
       "      <td>718</td>\n",
       "      <td>712</td>\n",
       "      <td>718</td>\n",
       "      <td>2136</td>\n",
       "    </tr>\n",
       "    <tr>\n",
       "      <th>3</th>\n",
       "      <td>2019-08-01</td>\n",
       "      <td>23</td>\n",
       "      <td>142779</td>\n",
       "      <td>17</td>\n",
       "      <td>59758</td>\n",
       "      <td>23</td>\n",
       "      <td>142779</td>\n",
       "      <td>17</td>\n",
       "      <td>59758</td>\n",
       "      <td>718</td>\n",
       "      <td>712</td>\n",
       "      <td>718</td>\n",
       "      <td>2136</td>\n",
       "    </tr>\n",
       "    <tr>\n",
       "      <th>4</th>\n",
       "      <td>2019-08-01</td>\n",
       "      <td>23</td>\n",
       "      <td>142779</td>\n",
       "      <td>17</td>\n",
       "      <td>59758</td>\n",
       "      <td>23</td>\n",
       "      <td>142779</td>\n",
       "      <td>17</td>\n",
       "      <td>59758</td>\n",
       "      <td>718</td>\n",
       "      <td>712</td>\n",
       "      <td>718</td>\n",
       "      <td>2136</td>\n",
       "    </tr>\n",
       "    <tr>\n",
       "      <th>5</th>\n",
       "      <td>2019-08-01</td>\n",
       "      <td>23</td>\n",
       "      <td>142779</td>\n",
       "      <td>17</td>\n",
       "      <td>59758</td>\n",
       "      <td>23</td>\n",
       "      <td>142779</td>\n",
       "      <td>17</td>\n",
       "      <td>59758</td>\n",
       "      <td>718</td>\n",
       "      <td>712</td>\n",
       "      <td>718</td>\n",
       "      <td>2136</td>\n",
       "    </tr>\n",
       "    <tr>\n",
       "      <th>6</th>\n",
       "      <td>2019-08-01</td>\n",
       "      <td>23</td>\n",
       "      <td>142779</td>\n",
       "      <td>17</td>\n",
       "      <td>59758</td>\n",
       "      <td>23</td>\n",
       "      <td>142779</td>\n",
       "      <td>17</td>\n",
       "      <td>59758</td>\n",
       "      <td>718</td>\n",
       "      <td>712</td>\n",
       "      <td>718</td>\n",
       "      <td>2136</td>\n",
       "    </tr>\n",
       "    <tr>\n",
       "      <th>7</th>\n",
       "      <td>2019-08-01</td>\n",
       "      <td>23</td>\n",
       "      <td>142779</td>\n",
       "      <td>17</td>\n",
       "      <td>59758</td>\n",
       "      <td>23</td>\n",
       "      <td>142779</td>\n",
       "      <td>17</td>\n",
       "      <td>59758</td>\n",
       "      <td>718</td>\n",
       "      <td>712</td>\n",
       "      <td>718</td>\n",
       "      <td>2136</td>\n",
       "    </tr>\n",
       "    <tr>\n",
       "      <th>8</th>\n",
       "      <td>2019-08-01</td>\n",
       "      <td>23</td>\n",
       "      <td>142779</td>\n",
       "      <td>17</td>\n",
       "      <td>59758</td>\n",
       "      <td>23</td>\n",
       "      <td>142779</td>\n",
       "      <td>17</td>\n",
       "      <td>59758</td>\n",
       "      <td>718</td>\n",
       "      <td>712</td>\n",
       "      <td>718</td>\n",
       "      <td>2136</td>\n",
       "    </tr>\n",
       "    <tr>\n",
       "      <th>9</th>\n",
       "      <td>2019-08-02</td>\n",
       "      <td>19</td>\n",
       "      <td>91602</td>\n",
       "      <td>23</td>\n",
       "      <td>162043</td>\n",
       "      <td>42</td>\n",
       "      <td>234381</td>\n",
       "      <td>40</td>\n",
       "      <td>221801</td>\n",
       "      <td>618</td>\n",
       "      <td>580</td>\n",
       "      <td>1336</td>\n",
       "      <td>2716</td>\n",
       "    </tr>\n",
       "    <tr>\n",
       "      <th>10</th>\n",
       "      <td>2019-08-03</td>\n",
       "      <td>24</td>\n",
       "      <td>112473</td>\n",
       "      <td>14</td>\n",
       "      <td>67049</td>\n",
       "      <td>66</td>\n",
       "      <td>346854</td>\n",
       "      <td>54</td>\n",
       "      <td>288850</td>\n",
       "      <td>507</td>\n",
       "      <td>508</td>\n",
       "      <td>1843</td>\n",
       "      <td>3732</td>\n",
       "    </tr>\n",
       "    <tr>\n",
       "      <th>11</th>\n",
       "      <td>2019-08-03</td>\n",
       "      <td>24</td>\n",
       "      <td>112473</td>\n",
       "      <td>14</td>\n",
       "      <td>67049</td>\n",
       "      <td>66</td>\n",
       "      <td>346854</td>\n",
       "      <td>54</td>\n",
       "      <td>288850</td>\n",
       "      <td>507</td>\n",
       "      <td>508</td>\n",
       "      <td>1843</td>\n",
       "      <td>3732</td>\n",
       "    </tr>\n",
       "    <tr>\n",
       "      <th>12</th>\n",
       "      <td>2019-08-03</td>\n",
       "      <td>24</td>\n",
       "      <td>112473</td>\n",
       "      <td>14</td>\n",
       "      <td>67049</td>\n",
       "      <td>66</td>\n",
       "      <td>346854</td>\n",
       "      <td>54</td>\n",
       "      <td>288850</td>\n",
       "      <td>507</td>\n",
       "      <td>508</td>\n",
       "      <td>1843</td>\n",
       "      <td>3732</td>\n",
       "    </tr>\n",
       "    <tr>\n",
       "      <th>13</th>\n",
       "      <td>2019-08-03</td>\n",
       "      <td>24</td>\n",
       "      <td>112473</td>\n",
       "      <td>14</td>\n",
       "      <td>67049</td>\n",
       "      <td>66</td>\n",
       "      <td>346854</td>\n",
       "      <td>54</td>\n",
       "      <td>288850</td>\n",
       "      <td>507</td>\n",
       "      <td>508</td>\n",
       "      <td>1843</td>\n",
       "      <td>3732</td>\n",
       "    </tr>\n",
       "    <tr>\n",
       "      <th>14</th>\n",
       "      <td>2019-08-04</td>\n",
       "      <td>11</td>\n",
       "      <td>41176</td>\n",
       "      <td>14</td>\n",
       "      <td>96890</td>\n",
       "      <td>77</td>\n",
       "      <td>388030</td>\n",
       "      <td>68</td>\n",
       "      <td>385740</td>\n",
       "      <td>716</td>\n",
       "      <td>769</td>\n",
       "      <td>4707</td>\n",
       "      <td>6039</td>\n",
       "    </tr>\n",
       "    <tr>\n",
       "      <th>15</th>\n",
       "      <td>2019-08-04</td>\n",
       "      <td>11</td>\n",
       "      <td>41176</td>\n",
       "      <td>14</td>\n",
       "      <td>96890</td>\n",
       "      <td>77</td>\n",
       "      <td>388030</td>\n",
       "      <td>68</td>\n",
       "      <td>385740</td>\n",
       "      <td>716</td>\n",
       "      <td>769</td>\n",
       "      <td>4707</td>\n",
       "      <td>6039</td>\n",
       "    </tr>\n",
       "    <tr>\n",
       "      <th>16</th>\n",
       "      <td>2019-08-04</td>\n",
       "      <td>11</td>\n",
       "      <td>41176</td>\n",
       "      <td>14</td>\n",
       "      <td>96890</td>\n",
       "      <td>77</td>\n",
       "      <td>388030</td>\n",
       "      <td>68</td>\n",
       "      <td>385740</td>\n",
       "      <td>716</td>\n",
       "      <td>769</td>\n",
       "      <td>4707</td>\n",
       "      <td>6039</td>\n",
       "    </tr>\n",
       "    <tr>\n",
       "      <th>17</th>\n",
       "      <td>2019-08-04</td>\n",
       "      <td>11</td>\n",
       "      <td>41176</td>\n",
       "      <td>14</td>\n",
       "      <td>96890</td>\n",
       "      <td>77</td>\n",
       "      <td>388030</td>\n",
       "      <td>68</td>\n",
       "      <td>385740</td>\n",
       "      <td>716</td>\n",
       "      <td>769</td>\n",
       "      <td>4707</td>\n",
       "      <td>6039</td>\n",
       "    </tr>\n",
       "    <tr>\n",
       "      <th>18</th>\n",
       "      <td>2019-08-04</td>\n",
       "      <td>11</td>\n",
       "      <td>41176</td>\n",
       "      <td>14</td>\n",
       "      <td>96890</td>\n",
       "      <td>77</td>\n",
       "      <td>388030</td>\n",
       "      <td>68</td>\n",
       "      <td>385740</td>\n",
       "      <td>716</td>\n",
       "      <td>769</td>\n",
       "      <td>4707</td>\n",
       "      <td>6039</td>\n",
       "    </tr>\n",
       "    <tr>\n",
       "      <th>19</th>\n",
       "      <td>2019-08-04</td>\n",
       "      <td>11</td>\n",
       "      <td>41176</td>\n",
       "      <td>14</td>\n",
       "      <td>96890</td>\n",
       "      <td>77</td>\n",
       "      <td>388030</td>\n",
       "      <td>68</td>\n",
       "      <td>385740</td>\n",
       "      <td>716</td>\n",
       "      <td>769</td>\n",
       "      <td>4707</td>\n",
       "      <td>6039</td>\n",
       "    </tr>\n",
       "  </tbody>\n",
       "</table>\n",
       "</div>"
      ],
      "text/plain": [
       "          date  ordersPerDateA  revenuePerDateA  ordersPerDateB  \\\n",
       "0   2019-08-01  23              142779           17               \n",
       "1   2019-08-01  23              142779           17               \n",
       "2   2019-08-01  23              142779           17               \n",
       "3   2019-08-01  23              142779           17               \n",
       "4   2019-08-01  23              142779           17               \n",
       "5   2019-08-01  23              142779           17               \n",
       "6   2019-08-01  23              142779           17               \n",
       "7   2019-08-01  23              142779           17               \n",
       "8   2019-08-01  23              142779           17               \n",
       "9   2019-08-02  19              91602            23               \n",
       "10  2019-08-03  24              112473           14               \n",
       "11  2019-08-03  24              112473           14               \n",
       "12  2019-08-03  24              112473           14               \n",
       "13  2019-08-03  24              112473           14               \n",
       "14  2019-08-04  11              41176            14               \n",
       "15  2019-08-04  11              41176            14               \n",
       "16  2019-08-04  11              41176            14               \n",
       "17  2019-08-04  11              41176            14               \n",
       "18  2019-08-04  11              41176            14               \n",
       "19  2019-08-04  11              41176            14               \n",
       "\n",
       "    revenuePerDateB  ordersCummulativeA  revenueCummulativeA  \\\n",
       "0   59758            23                  142779                \n",
       "1   59758            23                  142779                \n",
       "2   59758            23                  142779                \n",
       "3   59758            23                  142779                \n",
       "4   59758            23                  142779                \n",
       "5   59758            23                  142779                \n",
       "6   59758            23                  142779                \n",
       "7   59758            23                  142779                \n",
       "8   59758            23                  142779                \n",
       "9   162043           42                  234381                \n",
       "10  67049            66                  346854                \n",
       "11  67049            66                  346854                \n",
       "12  67049            66                  346854                \n",
       "13  67049            66                  346854                \n",
       "14  96890            77                  388030                \n",
       "15  96890            77                  388030                \n",
       "16  96890            77                  388030                \n",
       "17  96890            77                  388030                \n",
       "18  96890            77                  388030                \n",
       "19  96890            77                  388030                \n",
       "\n",
       "    ordersCummulativeB  revenueCummulativeB  visitorsPerDateA  \\\n",
       "0   17                  59758                718                \n",
       "1   17                  59758                718                \n",
       "2   17                  59758                718                \n",
       "3   17                  59758                718                \n",
       "4   17                  59758                718                \n",
       "5   17                  59758                718                \n",
       "6   17                  59758                718                \n",
       "7   17                  59758                718                \n",
       "8   17                  59758                718                \n",
       "9   40                  221801               618                \n",
       "10  54                  288850               507                \n",
       "11  54                  288850               507                \n",
       "12  54                  288850               507                \n",
       "13  54                  288850               507                \n",
       "14  68                  385740               716                \n",
       "15  68                  385740               716                \n",
       "16  68                  385740               716                \n",
       "17  68                  385740               716                \n",
       "18  68                  385740               716                \n",
       "19  68                  385740               716                \n",
       "\n",
       "    visitorsPerDateB  visitorsCummulativeA  visitorsCummulativeB  \n",
       "0   712               718                   2136                  \n",
       "1   712               718                   2136                  \n",
       "2   712               718                   2136                  \n",
       "3   712               718                   2136                  \n",
       "4   712               718                   2136                  \n",
       "5   712               718                   2136                  \n",
       "6   712               718                   2136                  \n",
       "7   712               718                   2136                  \n",
       "8   712               718                   2136                  \n",
       "9   580               1336                  2716                  \n",
       "10  508               1843                  3732                  \n",
       "11  508               1843                  3732                  \n",
       "12  508               1843                  3732                  \n",
       "13  508               1843                  3732                  \n",
       "14  769               4707                  6039                  \n",
       "15  769               4707                  6039                  \n",
       "16  769               4707                  6039                  \n",
       "17  769               4707                  6039                  \n",
       "18  769               4707                  6039                  \n",
       "19  769               4707                  6039                  "
      ]
     },
     "execution_count": 43,
     "metadata": {},
     "output_type": "execute_result"
    }
   ],
   "source": [
    "\n",
    "visitorsADaily = visitors_filt[visitors_filt['group'] == 'A'][['date', 'visitors']]\n",
    "visitorsADaily.columns = ['date', 'visitorsPerDateA']\n",
    "\n",
    "visitorsACummulative = visitorsADaily.apply(\n",
    "    lambda x: visitorsADaily[visitorsADaily['date'] <= x['date']].agg(\n",
    "        {'date': 'max', 'visitorsPerDateA': 'sum'}\n",
    "    ),\n",
    "    axis=1,\n",
    ")\n",
    "visitorsACummulative.columns = ['date', 'visitorsCummulativeA']\n",
    "\n",
    "visitorsBDaily = visitors_filt[visitors_filt['group'] == 'B'][['date', 'visitors']]\n",
    "visitorsBDaily.columns = ['date', 'visitorsPerDateB']\n",
    "\n",
    "visitorsBCummulative = visitorsBDaily.apply(\n",
    "    lambda x: visitorsBDaily[visitorsBDaily['date'] <= x['date']].agg(\n",
    "        {'date': 'max', 'visitorsPerDateB': 'sum'}\n",
    "    ),\n",
    "    axis=1,\n",
    ")\n",
    "visitorsBCummulative.columns = ['date', 'visitorsCummulativeB']\n",
    "\n",
    "ordersADaily = (\n",
    "    orders_filt[orders['group'] == 'A'][['date', 'transactionId', 'visitorId', 'revenue']]\n",
    "    .groupby('date', as_index=False)\n",
    "    .agg({'transactionId': pd.Series.nunique, 'revenue': 'sum'})\n",
    ")\n",
    "ordersADaily.columns = ['date', 'ordersPerDateA', 'revenuePerDateA']\n",
    "\n",
    "ordersACummulative = ordersADaily.apply(\n",
    "    lambda x: ordersADaily[ordersADaily['date'] <= x['date']].agg(\n",
    "        {'date': 'max', 'ordersPerDateA': 'sum', 'revenuePerDateA': 'sum'}\n",
    "    ),\n",
    "    axis=1,\n",
    ").sort_values(by=['date'])\n",
    "ordersACummulative.columns = [\n",
    "    'date',\n",
    "    'ordersCummulativeA',\n",
    "    'revenueCummulativeA',\n",
    "]\n",
    "\n",
    "ordersBDaily = (\n",
    "    orders_filt[orders_filt['group'] == 'B'][['date', 'transactionId', 'visitorId', 'revenue']]\n",
    "    .groupby('date', as_index=False)\n",
    "    .agg({'transactionId': pd.Series.nunique, 'revenue': 'sum'})\n",
    ")\n",
    "ordersBDaily.columns = ['date', 'ordersPerDateB', 'revenuePerDateB']\n",
    "\n",
    "ordersBCummulative = ordersBDaily.apply(\n",
    "    lambda x: ordersBDaily[ordersBDaily['date'] <= x['date']].agg(\n",
    "        {'date': 'max', 'ordersPerDateB': 'sum', 'revenuePerDateB': 'sum'}\n",
    "    ),\n",
    "    axis=1,\n",
    ").sort_values(by=['date'])\n",
    "ordersBCummulative.columns = [\n",
    "    'date',\n",
    "    'ordersCummulativeB',\n",
    "    'revenueCummulativeB',\n",
    "]\n",
    "\n",
    "data = (\n",
    "    ordersADaily.merge(\n",
    "        ordersBDaily, left_on='date', right_on='date', how='left'\n",
    "    )\n",
    "    .merge(ordersACummulative, left_on='date', right_on='date', how='left')\n",
    "    .merge(ordersBCummulative, left_on='date', right_on='date', how='left')\n",
    "    .merge(visitorsADaily, left_on='date', right_on='date', how='left')\n",
    "    .merge(visitorsBDaily, left_on='date', right_on='date', how='left')\n",
    "    .merge(visitorsACummulative, left_on='date', right_on='date', how='left')\n",
    "    .merge(visitorsBCummulative, left_on='date', right_on='date', how='left')\n",
    ")\n",
    "\n",
    "data.head(20)"
   ]
  },
  {
   "cell_type": "markdown",
   "id": "aea5d0a7",
   "metadata": {},
   "source": [
    "Создадим переменные ordersByUsersA и ordersByUsersB со столбцами ['userId', 'orders']. В них для пользователей, которые заказывали хотя бы 1 раз, укажем число совершённых заказов."
   ]
  },
  {
   "cell_type": "code",
   "execution_count": 44,
   "id": "91f5c5ff",
   "metadata": {},
   "outputs": [],
   "source": [
    "ordersByUsersA = (\n",
    "    orders_filt[orders_filt['group'] == 'A']\n",
    "    .groupby('visitorId', as_index=False)\n",
    "    .agg({'transactionId': pd.Series.nunique})\n",
    ")\n",
    "ordersByUsersA.columns = ['userId', 'orders']\n",
    "\n",
    "ordersByUsersB = (\n",
    "    orders_filt[orders_filt['group'] == 'B']\n",
    "    .groupby('visitorId', as_index=False)\n",
    "    .agg({'transactionId': pd.Series.nunique})\n",
    ")\n",
    "ordersByUsersB.columns = ['userId', 'orders'] "
   ]
  },
  {
   "cell_type": "markdown",
   "id": "b1b3afe3",
   "metadata": {},
   "source": [
    "Создадим объект pd.Series нужной длины:"
   ]
  },
  {
   "cell_type": "code",
   "execution_count": 45,
   "id": "7a955386",
   "metadata": {},
   "outputs": [
    {
     "data": {
      "text/plain": [
       "0          0\n",
       "1          0\n",
       "2          0\n",
       "3          0\n",
       "4          0\n",
       "          ..\n",
       "4588983    0\n",
       "4588984    0\n",
       "4588985    0\n",
       "4588986    0\n",
       "4588987    0\n",
       "Name: orders, Length: 4588988, dtype: int64"
      ]
     },
     "execution_count": 45,
     "metadata": {},
     "output_type": "execute_result"
    }
   ],
   "source": [
    "pd.Series(0, index=np.arange(data['visitorsPerDateA'].sum() - len(ordersByUsersA['orders'])), name='orders')"
   ]
  },
  {
   "cell_type": "code",
   "execution_count": 46,
   "id": "9a78a5ba",
   "metadata": {},
   "outputs": [
    {
     "data": {
      "text/plain": [
       "[0      1\n",
       " 1      1\n",
       " 2      1\n",
       " 3      1\n",
       " 4      1\n",
       "       ..\n",
       " 440    1\n",
       " 441    1\n",
       " 442    1\n",
       " 443    1\n",
       " 444    1\n",
       " Name: orders, Length: 445, dtype: int64,\n",
       " 0          0\n",
       " 1          0\n",
       " 2          0\n",
       " 3          0\n",
       " 4          0\n",
       "           ..\n",
       " 4588983    0\n",
       " 4588984    0\n",
       " 4588985    0\n",
       " 4588986    0\n",
       " 4588987    0\n",
       " Name: orders, Length: 4588988, dtype: int64]"
      ]
     },
     "execution_count": 46,
     "metadata": {},
     "output_type": "execute_result"
    }
   ],
   "source": [
    "[ordersByUsersA['orders'],pd.Series(0, index=np.arange(data['visitorsPerDateA'].sum() - len(ordersByUsersA['orders'])), name='orders')] "
   ]
  },
  {
   "cell_type": "code",
   "execution_count": 47,
   "id": "2f224b73",
   "metadata": {},
   "outputs": [],
   "source": [
    "sampleA = pd.concat([ordersByUsersA['orders'],pd.Series(0, index=np.arange(data['visitorsPerDateA'].sum() - len(ordersByUsersA['orders'])), name='orders')],axis=0)\n",
    "\n",
    "sampleB = pd.concat([ordersByUsersB['orders'],pd.Series(0, index=np.arange(data['visitorsPerDateB'].sum() - len(ordersByUsersB['orders'])), name='orders')],axis=0)"
   ]
  },
  {
   "cell_type": "markdown",
   "id": "acc5bfc4",
   "metadata": {},
   "source": [
    "Объявим переменные sampleA и sampleB, в которых пользователям из разных групп будет соответствовать количество заказов. Тем, кто ничего не заказал, будут соответствовать нули. Это нужно, чтобы подготовить выборки к проверке критерием Манна-Уитни."
   ]
  },
  {
   "cell_type": "markdown",
   "id": "ba5d82d0",
   "metadata": {},
   "source": [
    "Сформулируем гипотезы. Нулевая: различий в конверсии между группами нет. Альтернативная: различия в конверсии между группами есть. Уровень статистической значимости, alpha = 0,05"
   ]
  },
  {
   "cell_type": "code",
   "execution_count": 48,
   "id": "b69a1c49",
   "metadata": {},
   "outputs": [],
   "source": [
    "\n",
    "sampleA = pd.concat(\n",
    "    [\n",
    "        ordersByUsersA['orders'],\n",
    "        pd.Series(\n",
    "            0,\n",
    "            index=np.arange(\n",
    "                data['visitorsPerDateA'].sum() - len(ordersByUsersA['orders'])\n",
    "            ),\n",
    "            name='orders',\n",
    "        ),\n",
    "    ],\n",
    "    axis=0,\n",
    ")\n",
    "\n",
    "sampleB = pd.concat(\n",
    "    [\n",
    "        ordersByUsersB['orders'],\n",
    "        pd.Series(\n",
    "            0,\n",
    "            index=np.arange(\n",
    "                data['visitorsPerDateB'].sum() - len(ordersByUsersB['orders'])\n",
    "            ),\n",
    "            name='orders',\n",
    "        ),\n",
    "    ],\n",
    "    axis=0,\n",
    ")\n"
   ]
  },
  {
   "cell_type": "markdown",
   "id": "a22329d0",
   "metadata": {},
   "source": [
    "Выведем относительный прирост конверсии группы B: конверсия группы B / конверсия группы A - 1. Округлим до трёх знаков после запятой."
   ]
  },
  {
   "cell_type": "code",
   "execution_count": 49,
   "id": "ed9bdab0",
   "metadata": {},
   "outputs": [
    {
     "name": "stdout",
     "output_type": "stream",
     "text": [
      "0.962\n",
      "0.174\n"
     ]
    }
   ],
   "source": [
    "print(\"{0:.3f}\".format(stats.mannwhitneyu(sampleA, sampleB)[1]))\n",
    "\n",
    "print(\"{0:.3f}\".format(sampleB.mean() / sampleA.mean() - 1))"
   ]
  },
  {
   "cell_type": "markdown",
   "id": "316cae0a",
   "metadata": {},
   "source": [
    "Вывод: По «сырым» данным различий в конверсии групп A и B нет.\n",
    "Первое число — p-value = 0.962 больше 0.05. Значит, нулевую гипотезу о том, что статистически значимых различий в конверсии между группами не отвергаем. Однако относительный выигрыш группы B равен 17,4 %."
   ]
  },
  {
   "cell_type": "markdown",
   "id": "78032fea",
   "metadata": {},
   "source": [
    "Найдём относительные различия в среднем чеке между группами по \"сырым\" данным."
   ]
  },
  {
   "cell_type": "code",
   "execution_count": 50,
   "id": "765b5d54",
   "metadata": {},
   "outputs": [
    {
     "name": "stdout",
     "output_type": "stream",
     "text": [
      "0.829\n",
      "0.287\n"
     ]
    }
   ],
   "source": [
    "print('{0:.3f}'.format(stats.mannwhitneyu(orders_filt[orders_filt['group']=='A']['revenue'], orders_filt[orders_filt['group']=='B']['revenue'])[1]))\n",
    "print('{0:.3f}'.format(orders_filt[orders_filt['group']=='B']['revenue'].mean()/orders_filt[orders_filt['group']=='A']['revenue'].mean()-1))"
   ]
  },
  {
   "cell_type": "markdown",
   "id": "5482f0ed",
   "metadata": {},
   "source": [
    "P-value значительно больше 0.05. Значит, что статистически значимых различий в конверсии между группами не отвергаем. .  Средний чек группы B значительно ниже среднего чека группы A."
   ]
  },
  {
   "cell_type": "markdown",
   "id": "c9faaf30",
   "metadata": {},
   "source": [
    "Примем за аномальных пользователей тех, кто совершил от 3 заказов или совершил заказ дороже 59082 рублей. Так мы уберём 5% пользователей с наибольшим числом заказов и от 1% до 5% пользователей с дорогими заказами. Сделаем срезы пользователей с числом заказов больше 2 — usersWithManyOrders и пользователей, совершивших заказы дороже 59082 — usersWithExpensiveOrders. Объединим их в таблице abnormalUsers."
   ]
  },
  {
   "cell_type": "code",
   "execution_count": 51,
   "id": "00f6dece",
   "metadata": {},
   "outputs": [
    {
     "name": "stdout",
     "output_type": "stream",
     "text": [
      "1099    148427295\n",
      "33      249864742\n",
      "58      611059232\n",
      "949     887908475\n",
      "744     888512513\n",
      "dtype: int64\n",
      "17\n"
     ]
    }
   ],
   "source": [
    "usersWithManyOrders = pd.concat(\n",
    "    [\n",
    "        ordersByUsersA[ordersByUsersA['orders'] > 2]['userId'],\n",
    "        ordersByUsersB[ordersByUsersB['orders'] > 2]['userId'],\n",
    "    ],\n",
    "    axis=0,\n",
    ")\n",
    "usersWithExpensiveOrders = orders[orders['revenue'] > 59082]['visitorId']\n",
    "abnormalUsers = (\n",
    "    pd.concat([usersWithManyOrders, usersWithExpensiveOrders], axis=0)\n",
    "    .drop_duplicates()\n",
    "    .sort_values()\n",
    ")\n",
    "print(abnormalUsers.head(5))\n",
    "print(abnormalUsers.shape[0]) "
   ]
  },
  {
   "cell_type": "markdown",
   "id": "c5f59a0e",
   "metadata": {},
   "source": [
    "Всего 17 аномальных пользователей."
   ]
  },
  {
   "cell_type": "code",
   "execution_count": 52,
   "id": "383bd822",
   "metadata": {},
   "outputs": [],
   "source": [
    "sampleAFiltered = pd.concat(\n",
    "    [\n",
    "        ordersByUsersA[\n",
    "            np.logical_not(ordersByUsersA['userId'].isin(abnormalUsers))\n",
    "        ]['orders'],\n",
    "        pd.Series(\n",
    "            0,\n",
    "            index=np.arange(\n",
    "                data['visitorsPerDateA'].sum() - len(ordersByUsersA['orders'])\n",
    "            ),\n",
    "            name='orders',\n",
    "        ),\n",
    "    ],\n",
    "    axis=0,\n",
    ")\n",
    "\n",
    "sampleBFiltered = pd.concat(\n",
    "    [\n",
    "        ordersByUsersB[\n",
    "            np.logical_not(ordersByUsersB['userId'].isin(abnormalUsers))\n",
    "        ]['orders'],\n",
    "        pd.Series(\n",
    "            0,\n",
    "            index=np.arange(\n",
    "                data['visitorsPerDateB'].sum() - len(ordersByUsersB['orders'])\n",
    "            ),\n",
    "            name='orders',\n",
    "        ),\n",
    "    ],\n",
    "    axis=0,\n",
    ")"
   ]
  },
  {
   "cell_type": "code",
   "execution_count": 53,
   "id": "7f79ff13",
   "metadata": {
    "scrolled": true
   },
   "outputs": [
    {
     "name": "stdout",
     "output_type": "stream",
     "text": [
      "0.959\n",
      "0.206\n"
     ]
    }
   ],
   "source": [
    "print('{0:.3f}'.format(stats.mannwhitneyu(sampleAFiltered, sampleBFiltered)[1]))\n",
    "print('{0:.3f}'.format(sampleBFiltered.mean()/sampleAFiltered.mean()-1)) "
   ]
  },
  {
   "cell_type": "markdown",
   "id": "f9c613ee",
   "metadata": {},
   "source": [
    "Результаты по конверсии практически не изменились. нулевую гипотезу о том, что статистически значимых различий в конверсии между группами есть,не отвергаем. Относительный выигрыш группы B равен 20,6 %."
   ]
  },
  {
   "cell_type": "markdown",
   "id": "7525007b",
   "metadata": {},
   "source": [
    "Результаты по конверсии практически не изменились. Произошло ли что-нибудь с результатами по среднему чеку?"
   ]
  },
  {
   "cell_type": "code",
   "execution_count": 54,
   "id": "e58cc9c8",
   "metadata": {},
   "outputs": [
    {
     "name": "stdout",
     "output_type": "stream",
     "text": [
      "0.827\n",
      "-0.017\n"
     ]
    }
   ],
   "source": [
    "print(\n",
    "    '{0:.3f}'.format(\n",
    "        stats.mannwhitneyu(\n",
    "            orders_filt[\n",
    "                np.logical_and(\n",
    "                    orders_filt['group'] == 'A',\n",
    "                    np.logical_not(orders_filt['visitorId'].isin(abnormalUsers)),\n",
    "                )\n",
    "            ]['revenue'],\n",
    "            orders_filt[\n",
    "                np.logical_and(\n",
    "                    orders_filt['group'] == 'B',\n",
    "                    np.logical_not(orders_filt['visitorId'].isin(abnormalUsers)),\n",
    "                )\n",
    "            ]['revenue'],\n",
    "        )[1]\n",
    "    )\n",
    ")\n",
    "\n",
    "print(\n",
    "    \"{0:.3f}\".format(\n",
    "        orders_filt[\n",
    "            np.logical_and(\n",
    "                orders_filt['group'] == 'B',\n",
    "                np.logical_not(orders_filt['visitorId'].isin(abnormalUsers)),\n",
    "            )\n",
    "        ]['revenue'].mean()\n",
    "        / orders_filt[\n",
    "            np.logical_and(\n",
    "                orders_filt['group'] == 'A',\n",
    "                np.logical_not(orders_filt['visitorId'].isin(abnormalUsers)),\n",
    "            )\n",
    "        ]['revenue'].mean()\n",
    "        - 1\n",
    "    )\n",
    ")"
   ]
  },
  {
   "cell_type": "markdown",
   "id": "1aa7087b",
   "metadata": {},
   "source": [
    "P-value увеличился, но и разница между сегментами сократилась с 17% до 1,7%."
   ]
  },
  {
   "cell_type": "markdown",
   "id": "ee45531a",
   "metadata": {},
   "source": [
    "Сравним эти результаты с теми, которые мы получили бы, если бы изначально не убирали пользователей, которые одновременно относятся как к группе А, так и к группе В:"
   ]
  },
  {
   "cell_type": "code",
   "execution_count": 55,
   "id": "1575d05e",
   "metadata": {},
   "outputs": [
    {
     "data": {
      "text/html": [
       "<div>\n",
       "<style scoped>\n",
       "    .dataframe tbody tr th:only-of-type {\n",
       "        vertical-align: middle;\n",
       "    }\n",
       "\n",
       "    .dataframe tbody tr th {\n",
       "        vertical-align: top;\n",
       "    }\n",
       "\n",
       "    .dataframe thead th {\n",
       "        text-align: right;\n",
       "    }\n",
       "</style>\n",
       "<table border=\"1\" class=\"dataframe\">\n",
       "  <thead>\n",
       "    <tr style=\"text-align: right;\">\n",
       "      <th></th>\n",
       "      <th>date</th>\n",
       "      <th>ordersPerDateA</th>\n",
       "      <th>revenuePerDateA</th>\n",
       "      <th>ordersPerDateB</th>\n",
       "      <th>revenuePerDateB</th>\n",
       "      <th>ordersCummulativeA</th>\n",
       "      <th>revenueCummulativeA</th>\n",
       "      <th>ordersCummulativeB</th>\n",
       "      <th>revenueCummulativeB</th>\n",
       "      <th>visitorsPerDateA</th>\n",
       "      <th>visitorsPerDateB</th>\n",
       "      <th>visitorsCummulativeA</th>\n",
       "      <th>visitorsCummulativeB</th>\n",
       "    </tr>\n",
       "  </thead>\n",
       "  <tbody>\n",
       "    <tr>\n",
       "      <th>0</th>\n",
       "      <td>2019-08-01</td>\n",
       "      <td>24</td>\n",
       "      <td>148579</td>\n",
       "      <td>21</td>\n",
       "      <td>101217</td>\n",
       "      <td>24</td>\n",
       "      <td>148579</td>\n",
       "      <td>21</td>\n",
       "      <td>101217</td>\n",
       "      <td>719</td>\n",
       "      <td>713</td>\n",
       "      <td>719</td>\n",
       "      <td>713</td>\n",
       "    </tr>\n",
       "    <tr>\n",
       "      <th>1</th>\n",
       "      <td>2019-08-02</td>\n",
       "      <td>20</td>\n",
       "      <td>93822</td>\n",
       "      <td>24</td>\n",
       "      <td>165531</td>\n",
       "      <td>44</td>\n",
       "      <td>242401</td>\n",
       "      <td>45</td>\n",
       "      <td>266748</td>\n",
       "      <td>619</td>\n",
       "      <td>581</td>\n",
       "      <td>1338</td>\n",
       "      <td>1294</td>\n",
       "    </tr>\n",
       "    <tr>\n",
       "      <th>2</th>\n",
       "      <td>2019-08-03</td>\n",
       "      <td>24</td>\n",
       "      <td>112473</td>\n",
       "      <td>16</td>\n",
       "      <td>114248</td>\n",
       "      <td>68</td>\n",
       "      <td>354874</td>\n",
       "      <td>61</td>\n",
       "      <td>380996</td>\n",
       "      <td>507</td>\n",
       "      <td>509</td>\n",
       "      <td>1845</td>\n",
       "      <td>1803</td>\n",
       "    </tr>\n",
       "    <tr>\n",
       "      <th>3</th>\n",
       "      <td>2019-08-04</td>\n",
       "      <td>16</td>\n",
       "      <td>70825</td>\n",
       "      <td>17</td>\n",
       "      <td>108571</td>\n",
       "      <td>84</td>\n",
       "      <td>425699</td>\n",
       "      <td>78</td>\n",
       "      <td>489567</td>\n",
       "      <td>717</td>\n",
       "      <td>770</td>\n",
       "      <td>2562</td>\n",
       "      <td>2573</td>\n",
       "    </tr>\n",
       "    <tr>\n",
       "      <th>4</th>\n",
       "      <td>2019-08-05</td>\n",
       "      <td>25</td>\n",
       "      <td>124218</td>\n",
       "      <td>23</td>\n",
       "      <td>92428</td>\n",
       "      <td>109</td>\n",
       "      <td>549917</td>\n",
       "      <td>101</td>\n",
       "      <td>581995</td>\n",
       "      <td>756</td>\n",
       "      <td>707</td>\n",
       "      <td>3318</td>\n",
       "      <td>3280</td>\n",
       "    </tr>\n",
       "  </tbody>\n",
       "</table>\n",
       "</div>"
      ],
      "text/plain": [
       "         date  ordersPerDateA  revenuePerDateA  ordersPerDateB  \\\n",
       "0  2019-08-01  24              148579           21               \n",
       "1  2019-08-02  20              93822            24               \n",
       "2  2019-08-03  24              112473           16               \n",
       "3  2019-08-04  16              70825            17               \n",
       "4  2019-08-05  25              124218           23               \n",
       "\n",
       "   revenuePerDateB  ordersCummulativeA  revenueCummulativeA  \\\n",
       "0  101217           24                  148579                \n",
       "1  165531           44                  242401                \n",
       "2  114248           68                  354874                \n",
       "3  108571           84                  425699                \n",
       "4  92428            109                 549917                \n",
       "\n",
       "   ordersCummulativeB  revenueCummulativeB  visitorsPerDateA  \\\n",
       "0  21                  101217               719                \n",
       "1  45                  266748               619                \n",
       "2  61                  380996               507                \n",
       "3  78                  489567               717                \n",
       "4  101                 581995               756                \n",
       "\n",
       "   visitorsPerDateB  visitorsCummulativeA  visitorsCummulativeB  \n",
       "0  713               719                   713                   \n",
       "1  581               1338                  1294                  \n",
       "2  509               1845                  1803                  \n",
       "3  770               2562                  2573                  \n",
       "4  707               3318                  3280                  "
      ]
     },
     "execution_count": 55,
     "metadata": {},
     "output_type": "execute_result"
    }
   ],
   "source": [
    "\n",
    "visitorsADaily = visitors[visitors['group'] == 'A'][['date', 'visitors']]\n",
    "visitorsADaily.columns = ['date', 'visitorsPerDateA']\n",
    "\n",
    "visitorsACummulative = visitorsADaily.apply(\n",
    "    lambda x: visitorsADaily[visitorsADaily['date'] <= x['date']].agg(\n",
    "        {'date': 'max', 'visitorsPerDateA': 'sum'}\n",
    "    ),\n",
    "    axis=1,\n",
    ")\n",
    "visitorsACummulative.columns = ['date', 'visitorsCummulativeA']\n",
    "\n",
    "visitorsBDaily = visitors[visitors['group'] == 'B'][['date', 'visitors']]\n",
    "visitorsBDaily.columns = ['date', 'visitorsPerDateB']\n",
    "\n",
    "visitorsBCummulative = visitorsBDaily.apply(\n",
    "    lambda x: visitorsBDaily[visitorsBDaily['date'] <= x['date']].agg(\n",
    "        {'date': 'max', 'visitorsPerDateB': 'sum'}\n",
    "    ),\n",
    "    axis=1,\n",
    ")\n",
    "visitorsBCummulative.columns = ['date', 'visitorsCummulativeB']\n",
    "\n",
    "ordersADaily = (\n",
    "    orders[orders['group'] == 'A'][['date', 'transactionId', 'visitorId', 'revenue']]\n",
    "    .groupby('date', as_index=False)\n",
    "    .agg({'transactionId': pd.Series.nunique, 'revenue': 'sum'})\n",
    ")\n",
    "ordersADaily.columns = ['date', 'ordersPerDateA', 'revenuePerDateA']\n",
    "\n",
    "ordersACummulative = ordersADaily.apply(\n",
    "    lambda x: ordersADaily[ordersADaily['date'] <= x['date']].agg(\n",
    "        {'date': 'max', 'ordersPerDateA': 'sum', 'revenuePerDateA': 'sum'}\n",
    "    ),\n",
    "    axis=1,\n",
    ").sort_values(by=['date'])\n",
    "ordersACummulative.columns = [\n",
    "    'date',\n",
    "    'ordersCummulativeA',\n",
    "    'revenueCummulativeA',\n",
    "]\n",
    "\n",
    "ordersBDaily = (\n",
    "    orders[orders['group'] == 'B'][['date', 'transactionId', 'visitorId', 'revenue']]\n",
    "    .groupby('date', as_index=False)\n",
    "    .agg({'transactionId': pd.Series.nunique, 'revenue': 'sum'})\n",
    ")\n",
    "ordersBDaily.columns = ['date', 'ordersPerDateB', 'revenuePerDateB']\n",
    "\n",
    "ordersBCummulative = ordersBDaily.apply(\n",
    "    lambda x: ordersBDaily[ordersBDaily['date'] <= x['date']].agg(\n",
    "        {'date': 'max', 'ordersPerDateB': 'sum', 'revenuePerDateB': 'sum'}\n",
    "    ),\n",
    "    axis=1,\n",
    ").sort_values(by=['date'])\n",
    "ordersBCummulative.columns = [\n",
    "    'date',\n",
    "    'ordersCummulativeB',\n",
    "    'revenueCummulativeB',\n",
    "]\n",
    "\n",
    "data = (\n",
    "    ordersADaily.merge(\n",
    "        ordersBDaily, left_on='date', right_on='date', how='left'\n",
    "    )\n",
    "    .merge(ordersACummulative, left_on='date', right_on='date', how='left')\n",
    "    .merge(ordersBCummulative, left_on='date', right_on='date', how='left')\n",
    "    .merge(visitorsADaily, left_on='date', right_on='date', how='left')\n",
    "    .merge(visitorsBDaily, left_on='date', right_on='date', how='left')\n",
    "    .merge(visitorsACummulative, left_on='date', right_on='date', how='left')\n",
    "    .merge(visitorsBCummulative, left_on='date', right_on='date', how='left')\n",
    ")\n",
    "\n",
    "data.head(5)"
   ]
  },
  {
   "cell_type": "code",
   "execution_count": 56,
   "id": "93c97272",
   "metadata": {},
   "outputs": [],
   "source": [
    "ordersByUsersA = (\n",
    "    orders[orders['group'] == 'A']\n",
    "    .groupby('visitorId', as_index=False)\n",
    "    .agg({'transactionId': pd.Series.nunique})\n",
    ")\n",
    "ordersByUsersA.columns = ['userId', 'orders']\n",
    "\n",
    "ordersByUsersB = (\n",
    "    orders[orders['group'] == 'B']\n",
    "    .groupby('visitorId', as_index=False)\n",
    "    .agg({'transactionId': pd.Series.nunique})\n",
    ")\n",
    "ordersByUsersB.columns = ['userId', 'orders'] "
   ]
  },
  {
   "cell_type": "code",
   "execution_count": 57,
   "id": "14c3125f",
   "metadata": {},
   "outputs": [
    {
     "data": {
      "text/plain": [
       "0        0\n",
       "1        0\n",
       "2        0\n",
       "3        0\n",
       "4        0\n",
       "        ..\n",
       "18228    0\n",
       "18229    0\n",
       "18230    0\n",
       "18231    0\n",
       "18232    0\n",
       "Name: orders, Length: 18233, dtype: int64"
      ]
     },
     "execution_count": 57,
     "metadata": {},
     "output_type": "execute_result"
    }
   ],
   "source": [
    "pd.Series(0, index=np.arange(data['visitorsPerDateA'].sum() - len(ordersByUsersA['orders'])), name='orders')"
   ]
  },
  {
   "cell_type": "code",
   "execution_count": 58,
   "id": "2e98a8ff",
   "metadata": {},
   "outputs": [
    {
     "data": {
      "text/plain": [
       "[0      1\n",
       " 1      1\n",
       " 2      1\n",
       " 3      1\n",
       " 4      1\n",
       "       ..\n",
       " 498    1\n",
       " 499    7\n",
       " 500    1\n",
       " 501    1\n",
       " 502    1\n",
       " Name: orders, Length: 503, dtype: int64,\n",
       " 0        0\n",
       " 1        0\n",
       " 2        0\n",
       " 3        0\n",
       " 4        0\n",
       "         ..\n",
       " 18228    0\n",
       " 18229    0\n",
       " 18230    0\n",
       " 18231    0\n",
       " 18232    0\n",
       " Name: orders, Length: 18233, dtype: int64]"
      ]
     },
     "execution_count": 58,
     "metadata": {},
     "output_type": "execute_result"
    }
   ],
   "source": [
    "[ordersByUsersA['orders'],pd.Series(0, index=np.arange(data['visitorsPerDateA'].sum() - len(ordersByUsersA['orders'])), name='orders')] "
   ]
  },
  {
   "cell_type": "code",
   "execution_count": 59,
   "id": "7f27183b",
   "metadata": {},
   "outputs": [],
   "source": [
    "sampleA = pd.concat([ordersByUsersA['orders'],pd.Series(0, index=np.arange(data['visitorsPerDateA'].sum() - len(ordersByUsersA['orders'])), name='orders')],axis=0)\n",
    "\n",
    "sampleB = pd.concat([ordersByUsersB['orders'],pd.Series(0, index=np.arange(data['visitorsPerDateB'].sum() - len(ordersByUsersB['orders'])), name='orders')],axis=0)"
   ]
  },
  {
   "cell_type": "code",
   "execution_count": 60,
   "id": "f22c7b5b",
   "metadata": {},
   "outputs": [],
   "source": [
    "\n",
    "sampleA = pd.concat(\n",
    "    [\n",
    "        ordersByUsersA['orders'],\n",
    "        pd.Series(\n",
    "            0,\n",
    "            index=np.arange(\n",
    "                data['visitorsPerDateA'].sum() - len(ordersByUsersA['orders'])\n",
    "            ),\n",
    "            name='orders',\n",
    "        ),\n",
    "    ],\n",
    "    axis=0,\n",
    ")\n",
    "\n",
    "sampleB = pd.concat(\n",
    "    [\n",
    "        ordersByUsersB['orders'],\n",
    "        pd.Series(\n",
    "            0,\n",
    "            index=np.arange(\n",
    "                data['visitorsPerDateB'].sum() - len(ordersByUsersB['orders'])\n",
    "            ),\n",
    "            name='orders',\n",
    "        ),\n",
    "    ],\n",
    "    axis=0,\n",
    ")\n"
   ]
  },
  {
   "cell_type": "code",
   "execution_count": 61,
   "id": "3ba73205",
   "metadata": {},
   "outputs": [
    {
     "name": "stdout",
     "output_type": "stream",
     "text": [
      "0.017\n",
      "0.138\n"
     ]
    }
   ],
   "source": [
    "print(\"{0:.3f}\".format(stats.mannwhitneyu(sampleA, sampleB)[1]))\n",
    "\n",
    "print(\"{0:.3f}\".format(sampleB.mean() / sampleA.mean() - 1))"
   ]
  },
  {
   "cell_type": "markdown",
   "id": "12af843c",
   "metadata": {},
   "source": [
    "Вывод: По «сырым» данным различий в конверсии (без удаления пользователей), групп A и B нет. Первое число — p-value = 0.017 меньше 0.05. Значит, нулевую гипотезу о том, что статистически значимых различий в конверсии между группами нет,отвергаем. Однако относительный выигрыш группы B равен 13,8 %."
   ]
  },
  {
   "cell_type": "code",
   "execution_count": 62,
   "id": "f17a351b",
   "metadata": {},
   "outputs": [
    {
     "name": "stdout",
     "output_type": "stream",
     "text": [
      "0.729\n",
      "0.259\n"
     ]
    }
   ],
   "source": [
    "print('{0:.3f}'.format(stats.mannwhitneyu(orders[orders['group']=='A']['revenue'], orders[orders['group']=='B']['revenue'])[1]))\n",
    "print('{0:.3f}'.format(orders[orders['group']=='B']['revenue'].mean()/orders[orders['group']=='A']['revenue'].mean()-1))"
   ]
  },
  {
   "cell_type": "markdown",
   "id": "1f8f402a",
   "metadata": {},
   "source": [
    "P-value значительно больше 0.05. Значит, причин отвергать нулевую гипотезу и считать, что в среднем чеке есть различия, нет. Средний чек группы B значительно ниже среднего чека группы A."
   ]
  },
  {
   "cell_type": "code",
   "execution_count": 63,
   "id": "c98d1c0c",
   "metadata": {},
   "outputs": [
    {
     "name": "stdout",
     "output_type": "stream",
     "text": [
      "18    199603092\n",
      "23    237748145\n",
      "37    249864742\n",
      "68    457167155\n",
      "68    611059232\n",
      "dtype: int64\n",
      "27\n"
     ]
    }
   ],
   "source": [
    "usersWithManyOrders = pd.concat(\n",
    "    [\n",
    "        ordersByUsersA[ordersByUsersA['orders'] > 2]['userId'],\n",
    "        ordersByUsersB[ordersByUsersB['orders'] > 2]['userId'],\n",
    "    ],\n",
    "    axis=0,\n",
    ")\n",
    "usersWithExpensiveOrders = orders[orders['revenue'] > 67750]['visitorId']\n",
    "abnormalUsers = (\n",
    "    pd.concat([usersWithManyOrders, usersWithExpensiveOrders], axis=0)\n",
    "    .drop_duplicates()\n",
    "    .sort_values()\n",
    ")\n",
    "print(abnormalUsers.head(5))\n",
    "print(abnormalUsers.shape[0]) "
   ]
  },
  {
   "cell_type": "markdown",
   "id": "0641d87b",
   "metadata": {},
   "source": [
    "Всего 27 аномальных пользователей."
   ]
  },
  {
   "cell_type": "code",
   "execution_count": 64,
   "id": "3c8276f5",
   "metadata": {},
   "outputs": [],
   "source": [
    "sampleAFiltered = pd.concat(\n",
    "    [\n",
    "        ordersByUsersA[\n",
    "            np.logical_not(ordersByUsersA['userId'].isin(abnormalUsers))\n",
    "        ]['orders'],\n",
    "        pd.Series(\n",
    "            0,\n",
    "            index=np.arange(\n",
    "                data['visitorsPerDateA'].sum() - len(ordersByUsersA['orders'])\n",
    "            ),\n",
    "            name='orders',\n",
    "        ),\n",
    "    ],\n",
    "    axis=0,\n",
    ")\n",
    "\n",
    "sampleBFiltered = pd.concat(\n",
    "    [\n",
    "        ordersByUsersB[\n",
    "            np.logical_not(ordersByUsersB['userId'].isin(abnormalUsers))\n",
    "        ]['orders'],\n",
    "        pd.Series(\n",
    "            0,\n",
    "            index=np.arange(\n",
    "                data['visitorsPerDateB'].sum() - len(ordersByUsersB['orders'])\n",
    "            ),\n",
    "            name='orders',\n",
    "        ),\n",
    "    ],\n",
    "    axis=0,\n",
    ")"
   ]
  },
  {
   "cell_type": "code",
   "execution_count": 65,
   "id": "72286052",
   "metadata": {},
   "outputs": [
    {
     "name": "stdout",
     "output_type": "stream",
     "text": [
      "0.012\n",
      "0.169\n"
     ]
    }
   ],
   "source": [
    "print('{0:.3f}'.format(stats.mannwhitneyu(sampleAFiltered, sampleBFiltered)[1]))\n",
    "print('{0:.3f}'.format(sampleBFiltered.mean()/sampleAFiltered.mean()-1)) "
   ]
  },
  {
   "cell_type": "markdown",
   "id": "90698c55",
   "metadata": {},
   "source": [
    "Результаты по конверсии практически не изменились. нулевую гипотезу о том, что статистически значимых различий в конверсии между группами нет,отвергаем. Относительный выигрыш группы B равен 16,9 %."
   ]
  },
  {
   "cell_type": "code",
   "execution_count": 66,
   "id": "9e53c174",
   "metadata": {},
   "outputs": [
    {
     "name": "stdout",
     "output_type": "stream",
     "text": [
      "0.705\n",
      "-0.057\n"
     ]
    }
   ],
   "source": [
    "print(\n",
    "    '{0:.3f}'.format(\n",
    "        stats.mannwhitneyu(\n",
    "            orders[\n",
    "                np.logical_and(\n",
    "                    orders['group'] == 'A',\n",
    "                    np.logical_not(orders['visitorId'].isin(abnormalUsers)),\n",
    "                )\n",
    "            ]['revenue'],\n",
    "            orders[\n",
    "                np.logical_and(\n",
    "                    orders['group'] == 'B',\n",
    "                    np.logical_not(orders['visitorId'].isin(abnormalUsers)),\n",
    "                )\n",
    "            ]['revenue'],\n",
    "        )[1]\n",
    "    )\n",
    ")\n",
    "\n",
    "print(\n",
    "    \"{0:.3f}\".format(\n",
    "        orders[\n",
    "            np.logical_and(\n",
    "                orders['group'] == 'B',\n",
    "                np.logical_not(orders['visitorId'].isin(abnormalUsers)),\n",
    "            )\n",
    "        ]['revenue'].mean()\n",
    "        / orders[\n",
    "            np.logical_and(\n",
    "                orders['group'] == 'A',\n",
    "                np.logical_not(orders['visitorId'].isin(abnormalUsers)),\n",
    "            )\n",
    "        ]['revenue'].mean()\n",
    "        - 1\n",
    "    )\n",
    ")"
   ]
  },
  {
   "cell_type": "markdown",
   "id": "17e255fa",
   "metadata": {},
   "source": [
    "P-value увеличился, но и разница между сегментами сократилась с 17% до 6%."
   ]
  },
  {
   "cell_type": "markdown",
   "id": "81226ecd",
   "metadata": {},
   "source": [
    "#Результаты если бы изначально не убирали пользователей\n",
    "\n",
    "P-value по конверсии до очистки данных (без удаления сомнительных пользователей): 0,017\n",
    "\n",
    "Отношения средних B/A по конверсии (до очистки данных): 0,138\n",
    "\n",
    "P-value по конверсии после очистки данных: 0.012\n",
    "\n",
    "Отношения средних B/A по конверсии (после очистки данных): 0,169\n",
    "\n",
    "P-value по среднему чеку до очистки данных: 0.729\n",
    "\n",
    "Отношения средних B/A по среднему чеку (до очистки данных): 0,259\n",
    "\n",
    "P-value по среднему чеку после очистки данных: 0.705\n",
    "\n",
    "Отношения средних B/A по среднему чеку (после очистки данных): -0,057"
   ]
  },
  {
   "cell_type": "markdown",
   "id": "c5f9aaa1",
   "metadata": {},
   "source": [
    "#Результаты если убирали пользователей\n",
    "\n",
    "P-value по конверсии до очистки данных (без удаления сомнительных пользователей): 0,962\n",
    "\n",
    "Отношения средних B/A по конверсии (до очистки данных): 0,174\n",
    "\n",
    "P-value по конверсии после очистки данных: 0.829\n",
    "\n",
    "Отношения средних B/A по конверсии (после очистки данных): 0,287\n",
    "\n",
    "P-value по среднему чеку до очистки данных: 0.959\n",
    "\n",
    "Отношения средних B/A по среднему чеку (до очистки данных): 0,206\n",
    "\n",
    "P-value по среднему чеку после очистки данных: 0.827\n",
    "\n",
    "Отношения средних B/A по среднему чеку (после очистки данных): -0,017"
   ]
  },
  {
   "cell_type": "markdown",
   "id": "0d3e39b1",
   "metadata": {},
   "source": [
    "- по конверсии между группами A и B по сырым данным, нет статистически значимые различия;\n",
    "\n",
    "- по конверсии между группами A и B по очищенным данным есть статистически значимые различия\n",
    "\n",
    "- по среднему чеку между группами A и B (как по сырым данным, так и по очищенным) нет статистически значимых различий."
   ]
  },
  {
   "cell_type": "markdown",
   "id": "c955ba14",
   "metadata": {},
   "source": [
    "Данный тест можно остановить и считать успешно проведенным. Конверсия из пользователя в покупателя у группы B статистически значимо выше, чем у группы A. При этом средний чек между группами не отличается.\n",
    "\n",
    "Помимо этого, в процессе работы с данными было выяснено, что некоторые пользователи от сессии к сессии могли видеть как одну версию сайта, так и другую, что нарушает один из основных принцип работы A/B-теста - один пользователь видит только одну версию на всём протяжении теста.\n",
    "В связи с этим, нам необходимо проверить корректность отработки метода показа пользователям одной или другой версии сайта и поправить его, чтобы одному и тому же пользователю показывалась только та версия сайта, которую он увидел при первом визите."
   ]
  },
  {
   "cell_type": "markdown",
   "id": "dcda2d02",
   "metadata": {},
   "source": [
    "По приоритезации гипотез\n",
    "\n",
    "Итог: параметр охвата (Reach), использующийся в методе RICE изменил всю приоритетность, полученную по методу ICE:\n",
    "\n",
    "без учета охвата на первом месте идет акция со скидкой имениннику, но параметр Reach справедливо понизил приоритет этой акции, т.к. и правда, охват её минимальный;\n",
    "\n",
    "также произошло и с гипотезой о добавлении 2х каналов трафика, с организацией своей службы доставки и с идеей о добавлении страницы отзывов;\n",
    "\n",
    "без изменений осталась рейтинговая позиция гипотез о добавлении баннеров с актуальными акциями на главную страницу и идея с изменением цвета фона главной страницы);\n",
    "\n",
    "выросли в рейтинге (стали более приоритетными) RICE (по сравнению с ICE) гипотеза о добавлении формы подписки на все основные страницы ресурса, о добавлении блоков рекомендаций товаров и предложение об изменении структуры категорий."
   ]
  },
  {
   "cell_type": "markdown",
   "id": "461ada59",
   "metadata": {},
   "source": [
    "Данный тест можно остановить и считать успешно проведенным. Конверсия из пользователя в покупателя у группы B статистически значимо выше, чем у группы A. При этом средний чек между группами не отличается."
   ]
  },
  {
   "cell_type": "code",
   "execution_count": null,
   "id": "002bac07",
   "metadata": {},
   "outputs": [],
   "source": []
  },
  {
   "cell_type": "code",
   "execution_count": null,
   "id": "695557ab",
   "metadata": {},
   "outputs": [],
   "source": []
  }
 ],
 "metadata": {
  "ExecuteTimeLog": [
   {
    "duration": 1141,
    "start_time": "2022-06-04T04:03:33.367Z"
   },
   {
    "duration": 112,
    "start_time": "2022-06-04T04:03:34.510Z"
   },
   {
    "duration": 0,
    "start_time": "2022-06-04T04:03:34.627Z"
   },
   {
    "duration": 0,
    "start_time": "2022-06-04T04:03:34.628Z"
   },
   {
    "duration": 0,
    "start_time": "2022-06-04T04:03:34.630Z"
   },
   {
    "duration": 0,
    "start_time": "2022-06-04T04:03:34.631Z"
   },
   {
    "duration": 0,
    "start_time": "2022-06-04T04:03:34.632Z"
   },
   {
    "duration": 0,
    "start_time": "2022-06-04T04:03:34.634Z"
   },
   {
    "duration": 0,
    "start_time": "2022-06-04T04:03:34.635Z"
   },
   {
    "duration": 0,
    "start_time": "2022-06-04T04:03:34.636Z"
   },
   {
    "duration": 0,
    "start_time": "2022-06-04T04:03:34.637Z"
   },
   {
    "duration": 0,
    "start_time": "2022-06-04T04:03:34.638Z"
   },
   {
    "duration": 0,
    "start_time": "2022-06-04T04:03:34.640Z"
   },
   {
    "duration": 0,
    "start_time": "2022-06-04T04:03:34.641Z"
   },
   {
    "duration": 0,
    "start_time": "2022-06-04T04:03:34.642Z"
   },
   {
    "duration": 0,
    "start_time": "2022-06-04T04:03:34.643Z"
   },
   {
    "duration": 0,
    "start_time": "2022-06-04T04:03:34.644Z"
   },
   {
    "duration": 0,
    "start_time": "2022-06-04T04:03:34.645Z"
   },
   {
    "duration": 0,
    "start_time": "2022-06-04T04:03:34.646Z"
   },
   {
    "duration": 0,
    "start_time": "2022-06-04T04:03:34.647Z"
   },
   {
    "duration": 0,
    "start_time": "2022-06-04T04:03:34.648Z"
   },
   {
    "duration": 0,
    "start_time": "2022-06-04T04:03:34.649Z"
   },
   {
    "duration": 0,
    "start_time": "2022-06-04T04:03:34.649Z"
   },
   {
    "duration": 0,
    "start_time": "2022-06-04T04:03:34.651Z"
   },
   {
    "duration": 0,
    "start_time": "2022-06-04T04:03:34.652Z"
   },
   {
    "duration": 0,
    "start_time": "2022-06-04T04:03:34.653Z"
   },
   {
    "duration": 0,
    "start_time": "2022-06-04T04:03:34.655Z"
   },
   {
    "duration": 0,
    "start_time": "2022-06-04T04:03:34.656Z"
   },
   {
    "duration": 0,
    "start_time": "2022-06-04T04:03:34.657Z"
   },
   {
    "duration": 0,
    "start_time": "2022-06-04T04:03:34.658Z"
   },
   {
    "duration": 0,
    "start_time": "2022-06-04T04:03:34.659Z"
   },
   {
    "duration": 0,
    "start_time": "2022-06-04T04:03:34.660Z"
   },
   {
    "duration": 0,
    "start_time": "2022-06-04T04:03:34.662Z"
   },
   {
    "duration": 0,
    "start_time": "2022-06-04T04:03:34.663Z"
   },
   {
    "duration": 0,
    "start_time": "2022-06-04T04:03:34.664Z"
   },
   {
    "duration": 1,
    "start_time": "2022-06-04T04:03:34.665Z"
   },
   {
    "duration": 0,
    "start_time": "2022-06-04T04:03:34.727Z"
   },
   {
    "duration": 0,
    "start_time": "2022-06-04T04:03:34.729Z"
   },
   {
    "duration": 0,
    "start_time": "2022-06-04T04:03:34.730Z"
   },
   {
    "duration": 0,
    "start_time": "2022-06-04T04:03:34.731Z"
   },
   {
    "duration": 0,
    "start_time": "2022-06-04T04:03:34.733Z"
   },
   {
    "duration": 0,
    "start_time": "2022-06-04T04:03:34.734Z"
   },
   {
    "duration": 0,
    "start_time": "2022-06-04T04:03:34.735Z"
   },
   {
    "duration": 0,
    "start_time": "2022-06-04T04:03:34.737Z"
   },
   {
    "duration": 0,
    "start_time": "2022-06-04T04:03:34.738Z"
   },
   {
    "duration": 0,
    "start_time": "2022-06-04T04:03:34.739Z"
   },
   {
    "duration": 0,
    "start_time": "2022-06-04T04:03:34.741Z"
   },
   {
    "duration": 0,
    "start_time": "2022-06-04T04:03:34.742Z"
   },
   {
    "duration": 0,
    "start_time": "2022-06-04T04:03:34.744Z"
   },
   {
    "duration": 0,
    "start_time": "2022-06-04T04:03:34.745Z"
   },
   {
    "duration": 0,
    "start_time": "2022-06-04T04:03:34.746Z"
   },
   {
    "duration": 0,
    "start_time": "2022-06-04T04:03:34.747Z"
   },
   {
    "duration": 0,
    "start_time": "2022-06-04T04:03:34.748Z"
   },
   {
    "duration": 0,
    "start_time": "2022-06-04T04:03:34.749Z"
   },
   {
    "duration": 0,
    "start_time": "2022-06-04T04:03:34.750Z"
   },
   {
    "duration": 0,
    "start_time": "2022-06-04T04:03:34.751Z"
   },
   {
    "duration": 0,
    "start_time": "2022-06-04T04:03:34.752Z"
   },
   {
    "duration": 0,
    "start_time": "2022-06-04T04:03:34.753Z"
   },
   {
    "duration": 966,
    "start_time": "2022-06-04T04:05:57.468Z"
   },
   {
    "duration": 72,
    "start_time": "2022-06-04T04:05:58.436Z"
   },
   {
    "duration": 147,
    "start_time": "2022-06-04T04:05:58.509Z"
   },
   {
    "duration": 9,
    "start_time": "2022-06-04T04:05:58.657Z"
   },
   {
    "duration": 66,
    "start_time": "2022-06-04T04:05:58.668Z"
   },
   {
    "duration": 10,
    "start_time": "2022-06-04T04:05:58.736Z"
   },
   {
    "duration": 15,
    "start_time": "2022-06-04T04:05:58.747Z"
   },
   {
    "duration": 15,
    "start_time": "2022-06-04T04:05:58.763Z"
   },
   {
    "duration": 15,
    "start_time": "2022-06-04T04:05:58.779Z"
   },
   {
    "duration": 36,
    "start_time": "2022-06-04T04:05:58.796Z"
   },
   {
    "duration": 5,
    "start_time": "2022-06-04T04:05:58.833Z"
   },
   {
    "duration": 12,
    "start_time": "2022-06-04T04:05:58.839Z"
   },
   {
    "duration": 13,
    "start_time": "2022-06-04T04:05:58.852Z"
   },
   {
    "duration": 8,
    "start_time": "2022-06-04T04:05:58.868Z"
   },
   {
    "duration": 10,
    "start_time": "2022-06-04T04:05:58.877Z"
   },
   {
    "duration": 44,
    "start_time": "2022-06-04T04:05:58.888Z"
   },
   {
    "duration": 17,
    "start_time": "2022-06-04T04:05:58.934Z"
   },
   {
    "duration": 10,
    "start_time": "2022-06-04T04:05:58.952Z"
   },
   {
    "duration": 21,
    "start_time": "2022-06-04T04:05:58.963Z"
   },
   {
    "duration": 6,
    "start_time": "2022-06-04T04:05:58.985Z"
   },
   {
    "duration": 146,
    "start_time": "2022-06-04T04:05:58.992Z"
   },
   {
    "duration": 10,
    "start_time": "2022-06-04T04:05:59.139Z"
   },
   {
    "duration": 115,
    "start_time": "2022-06-04T04:05:59.150Z"
   },
   {
    "duration": 31,
    "start_time": "2022-06-04T04:05:59.267Z"
   },
   {
    "duration": 233,
    "start_time": "2022-06-04T04:05:59.299Z"
   },
   {
    "duration": 286,
    "start_time": "2022-06-04T04:05:59.533Z"
   },
   {
    "duration": 340,
    "start_time": "2022-06-04T04:05:59.820Z"
   },
   {
    "duration": 257,
    "start_time": "2022-06-04T04:06:00.162Z"
   },
   {
    "duration": 378,
    "start_time": "2022-06-04T04:06:00.421Z"
   },
   {
    "duration": 130,
    "start_time": "2022-06-04T04:06:00.800Z"
   },
   {
    "duration": 4,
    "start_time": "2022-06-04T04:06:00.931Z"
   },
   {
    "duration": 128,
    "start_time": "2022-06-04T04:06:00.937Z"
   },
   {
    "duration": 9,
    "start_time": "2022-06-04T04:06:01.067Z"
   },
   {
    "duration": 4,
    "start_time": "2022-06-04T04:06:01.078Z"
   },
   {
    "duration": 232,
    "start_time": "2022-06-04T04:06:01.084Z"
   },
   {
    "duration": 140,
    "start_time": "2022-06-04T04:06:01.318Z"
   },
   {
    "duration": 5,
    "start_time": "2022-06-04T04:06:01.460Z"
   },
   {
    "duration": 20,
    "start_time": "2022-06-04T04:06:01.467Z"
   },
   {
    "duration": 12,
    "start_time": "2022-06-04T04:06:01.489Z"
   },
   {
    "duration": 15,
    "start_time": "2022-06-04T04:06:01.503Z"
   },
   {
    "duration": 84,
    "start_time": "2022-06-04T04:06:01.521Z"
   },
   {
    "duration": 9,
    "start_time": "2022-06-04T04:06:01.606Z"
   },
   {
    "duration": 25,
    "start_time": "2022-06-04T04:06:01.617Z"
   },
   {
    "duration": 36,
    "start_time": "2022-06-04T04:06:01.644Z"
   },
   {
    "duration": 129,
    "start_time": "2022-06-04T04:06:01.682Z"
   },
   {
    "duration": 18,
    "start_time": "2022-06-04T04:06:01.813Z"
   },
   {
    "duration": 224,
    "start_time": "2022-06-04T04:06:01.833Z"
   },
   {
    "duration": 121,
    "start_time": "2022-06-04T04:06:02.058Z"
   },
   {
    "duration": 6,
    "start_time": "2022-06-04T04:06:02.180Z"
   },
   {
    "duration": 12,
    "start_time": "2022-06-04T04:06:02.188Z"
   },
   {
    "duration": 7,
    "start_time": "2022-06-04T04:06:02.201Z"
   },
   {
    "duration": 18,
    "start_time": "2022-06-04T04:06:02.209Z"
   },
   {
    "duration": 30,
    "start_time": "2022-06-04T04:06:02.228Z"
   },
   {
    "duration": 10,
    "start_time": "2022-06-04T04:06:02.259Z"
   },
   {
    "duration": 12,
    "start_time": "2022-06-04T04:06:02.270Z"
   },
   {
    "duration": 9,
    "start_time": "2022-06-04T04:06:02.283Z"
   },
   {
    "duration": 44,
    "start_time": "2022-06-04T04:06:02.294Z"
   },
   {
    "duration": 12,
    "start_time": "2022-06-04T04:06:02.339Z"
   },
   {
    "duration": 1006,
    "start_time": "2022-06-04T04:26:56.074Z"
   },
   {
    "duration": 35,
    "start_time": "2022-06-04T04:26:57.082Z"
   },
   {
    "duration": 46,
    "start_time": "2022-06-04T04:26:57.118Z"
   },
   {
    "duration": 11,
    "start_time": "2022-06-04T04:26:57.166Z"
   },
   {
    "duration": 58,
    "start_time": "2022-06-04T04:26:57.178Z"
   },
   {
    "duration": 12,
    "start_time": "2022-06-04T04:26:57.238Z"
   },
   {
    "duration": 19,
    "start_time": "2022-06-04T04:26:57.252Z"
   },
   {
    "duration": 29,
    "start_time": "2022-06-04T04:26:57.273Z"
   },
   {
    "duration": 27,
    "start_time": "2022-06-04T04:26:57.303Z"
   },
   {
    "duration": 34,
    "start_time": "2022-06-04T04:26:57.333Z"
   },
   {
    "duration": 36,
    "start_time": "2022-06-04T04:26:57.368Z"
   },
   {
    "duration": 31,
    "start_time": "2022-06-04T04:26:57.406Z"
   },
   {
    "duration": 39,
    "start_time": "2022-06-04T04:26:57.439Z"
   },
   {
    "duration": 21,
    "start_time": "2022-06-04T04:26:57.479Z"
   },
   {
    "duration": 34,
    "start_time": "2022-06-04T04:26:57.501Z"
   },
   {
    "duration": 41,
    "start_time": "2022-06-04T04:26:57.537Z"
   },
   {
    "duration": 30,
    "start_time": "2022-06-04T04:26:57.580Z"
   },
   {
    "duration": 39,
    "start_time": "2022-06-04T04:26:57.612Z"
   },
   {
    "duration": 17,
    "start_time": "2022-06-04T04:26:57.653Z"
   },
   {
    "duration": 41,
    "start_time": "2022-06-04T04:26:57.672Z"
   },
   {
    "duration": 148,
    "start_time": "2022-06-04T04:26:57.714Z"
   },
   {
    "duration": 8,
    "start_time": "2022-06-04T04:26:57.864Z"
   },
   {
    "duration": 124,
    "start_time": "2022-06-04T04:26:57.874Z"
   },
   {
    "duration": 24,
    "start_time": "2022-06-04T04:26:57.999Z"
   },
   {
    "duration": 253,
    "start_time": "2022-06-04T04:26:58.024Z"
   },
   {
    "duration": 283,
    "start_time": "2022-06-04T04:26:58.278Z"
   },
   {
    "duration": 308,
    "start_time": "2022-06-04T04:26:58.562Z"
   },
   {
    "duration": 250,
    "start_time": "2022-06-04T04:26:58.873Z"
   },
   {
    "duration": 368,
    "start_time": "2022-06-04T04:26:59.127Z"
   },
   {
    "duration": 122,
    "start_time": "2022-06-04T04:26:59.496Z"
   },
   {
    "duration": 4,
    "start_time": "2022-06-04T04:26:59.626Z"
   },
   {
    "duration": 117,
    "start_time": "2022-06-04T04:26:59.632Z"
   },
   {
    "duration": 8,
    "start_time": "2022-06-04T04:26:59.750Z"
   },
   {
    "duration": 27,
    "start_time": "2022-06-04T04:26:59.760Z"
   },
   {
    "duration": 239,
    "start_time": "2022-06-04T04:26:59.789Z"
   },
   {
    "duration": 121,
    "start_time": "2022-06-04T04:27:00.030Z"
   },
   {
    "duration": 7,
    "start_time": "2022-06-04T04:27:00.152Z"
   },
   {
    "duration": 36,
    "start_time": "2022-06-04T04:27:00.160Z"
   },
   {
    "duration": 31,
    "start_time": "2022-06-04T04:27:00.197Z"
   },
   {
    "duration": 30,
    "start_time": "2022-06-04T04:27:00.230Z"
   },
   {
    "duration": 91,
    "start_time": "2022-06-04T04:27:00.262Z"
   },
   {
    "duration": 28,
    "start_time": "2022-06-04T04:27:00.355Z"
   },
   {
    "duration": 36,
    "start_time": "2022-06-04T04:27:00.384Z"
   },
   {
    "duration": 32,
    "start_time": "2022-06-04T04:27:00.422Z"
   },
   {
    "duration": 92,
    "start_time": "2022-06-04T04:27:00.455Z"
   },
   {
    "duration": 12,
    "start_time": "2022-06-04T04:27:00.549Z"
   },
   {
    "duration": 214,
    "start_time": "2022-06-04T04:27:00.562Z"
   },
   {
    "duration": 151,
    "start_time": "2022-06-04T04:27:00.778Z"
   },
   {
    "duration": 6,
    "start_time": "2022-06-04T04:27:00.930Z"
   },
   {
    "duration": 54,
    "start_time": "2022-06-04T04:27:00.938Z"
   },
   {
    "duration": 29,
    "start_time": "2022-06-04T04:27:00.994Z"
   },
   {
    "duration": 26,
    "start_time": "2022-06-04T04:27:01.024Z"
   },
   {
    "duration": 68,
    "start_time": "2022-06-04T04:27:01.052Z"
   },
   {
    "duration": 8,
    "start_time": "2022-06-04T04:27:01.122Z"
   },
   {
    "duration": 18,
    "start_time": "2022-06-04T04:27:01.131Z"
   },
   {
    "duration": 35,
    "start_time": "2022-06-04T04:27:01.150Z"
   },
   {
    "duration": 41,
    "start_time": "2022-06-04T04:27:01.187Z"
   },
   {
    "duration": 19,
    "start_time": "2022-06-04T04:27:01.230Z"
   },
   {
    "duration": 53,
    "start_time": "2022-06-04T20:47:12.730Z"
   },
   {
    "duration": 1219,
    "start_time": "2022-06-04T20:47:37.877Z"
   },
   {
    "duration": 70,
    "start_time": "2022-06-04T20:47:39.681Z"
   },
   {
    "duration": 96,
    "start_time": "2022-06-04T20:47:40.975Z"
   },
   {
    "duration": 11,
    "start_time": "2022-06-04T20:47:42.981Z"
   },
   {
    "duration": 23,
    "start_time": "2022-06-04T20:49:00.950Z"
   },
   {
    "duration": 68,
    "start_time": "2022-06-04T20:49:58.591Z"
   },
   {
    "duration": 9,
    "start_time": "2022-06-04T20:49:59.639Z"
   },
   {
    "duration": 7,
    "start_time": "2022-06-04T20:50:36.778Z"
   },
   {
    "duration": 27,
    "start_time": "2022-06-04T20:51:13.560Z"
   },
   {
    "duration": 16,
    "start_time": "2022-06-04T20:54:30.349Z"
   },
   {
    "duration": 16,
    "start_time": "2022-06-04T20:54:42.449Z"
   },
   {
    "duration": 15,
    "start_time": "2022-06-04T20:55:00.640Z"
   },
   {
    "duration": 66,
    "start_time": "2022-06-04T20:57:11.829Z"
   },
   {
    "duration": 16,
    "start_time": "2022-06-04T20:58:10.641Z"
   },
   {
    "duration": 14,
    "start_time": "2022-06-04T20:59:17.829Z"
   },
   {
    "duration": 14,
    "start_time": "2022-06-04T21:00:04.521Z"
   },
   {
    "duration": 14,
    "start_time": "2022-06-04T21:00:12.088Z"
   },
   {
    "duration": 5,
    "start_time": "2022-06-04T21:00:13.429Z"
   },
   {
    "duration": 15,
    "start_time": "2022-06-04T21:02:33.830Z"
   },
   {
    "duration": 5,
    "start_time": "2022-06-04T21:02:36.791Z"
   },
   {
    "duration": 11,
    "start_time": "2022-06-04T21:02:38.540Z"
   },
   {
    "duration": 4,
    "start_time": "2022-06-04T21:03:57.181Z"
   },
   {
    "duration": 12,
    "start_time": "2022-06-04T21:04:18.530Z"
   },
   {
    "duration": 10,
    "start_time": "2022-06-04T21:04:31.670Z"
   },
   {
    "duration": 14,
    "start_time": "2022-06-04T21:04:47.919Z"
   },
   {
    "duration": 19,
    "start_time": "2022-06-04T21:05:28.000Z"
   },
   {
    "duration": 99,
    "start_time": "2022-06-04T21:11:28.916Z"
   },
   {
    "duration": 15,
    "start_time": "2022-06-04T21:13:31.509Z"
   },
   {
    "duration": 14,
    "start_time": "2022-06-04T21:15:41.230Z"
   },
   {
    "duration": 16,
    "start_time": "2022-06-04T21:16:41.190Z"
   },
   {
    "duration": 17,
    "start_time": "2022-06-04T21:19:47.909Z"
   },
   {
    "duration": 17,
    "start_time": "2022-06-04T21:20:06.789Z"
   },
   {
    "duration": 24,
    "start_time": "2022-06-04T21:20:18.788Z"
   },
   {
    "duration": 14,
    "start_time": "2022-06-04T21:21:02.988Z"
   },
   {
    "duration": 12,
    "start_time": "2022-06-04T21:21:15.018Z"
   },
   {
    "duration": 18,
    "start_time": "2022-06-04T21:21:34.482Z"
   },
   {
    "duration": 11,
    "start_time": "2022-06-04T21:22:54.736Z"
   },
   {
    "duration": 32,
    "start_time": "2022-06-04T21:24:37.496Z"
   },
   {
    "duration": 131,
    "start_time": "2022-06-04T21:25:27.900Z"
   },
   {
    "duration": 22,
    "start_time": "2022-06-04T21:25:42.027Z"
   },
   {
    "duration": 19,
    "start_time": "2022-06-04T21:27:04.747Z"
   },
   {
    "duration": 15,
    "start_time": "2022-06-04T21:27:23.110Z"
   },
   {
    "duration": 13,
    "start_time": "2022-06-04T21:31:21.377Z"
   },
   {
    "duration": 30,
    "start_time": "2022-06-04T21:31:59.988Z"
   },
   {
    "duration": 23,
    "start_time": "2022-06-04T21:34:05.286Z"
   },
   {
    "duration": 22,
    "start_time": "2022-06-04T21:34:54.526Z"
   },
   {
    "duration": 25,
    "start_time": "2022-06-04T21:35:03.587Z"
   },
   {
    "duration": 26,
    "start_time": "2022-06-04T21:35:13.884Z"
   },
   {
    "duration": 27,
    "start_time": "2022-06-04T21:35:21.027Z"
   },
   {
    "duration": 18,
    "start_time": "2022-06-04T21:36:45.828Z"
   },
   {
    "duration": 13,
    "start_time": "2022-06-04T21:37:52.656Z"
   },
   {
    "duration": 19,
    "start_time": "2022-06-04T21:38:06.226Z"
   },
   {
    "duration": 14,
    "start_time": "2022-06-04T21:38:27.748Z"
   },
   {
    "duration": 16,
    "start_time": "2022-06-04T21:38:37.786Z"
   },
   {
    "duration": 27,
    "start_time": "2022-06-04T21:39:35.306Z"
   },
   {
    "duration": 20,
    "start_time": "2022-06-04T21:39:45.598Z"
   },
   {
    "duration": 16,
    "start_time": "2022-06-04T21:41:27.016Z"
   },
   {
    "duration": 13,
    "start_time": "2022-06-04T21:42:06.071Z"
   },
   {
    "duration": 8,
    "start_time": "2022-06-04T21:44:31.185Z"
   },
   {
    "duration": 17,
    "start_time": "2022-06-04T21:44:45.985Z"
   },
   {
    "duration": 18,
    "start_time": "2022-06-04T21:45:18.626Z"
   },
   {
    "duration": 17,
    "start_time": "2022-06-04T21:46:22.345Z"
   },
   {
    "duration": 18,
    "start_time": "2022-06-04T21:46:44.354Z"
   },
   {
    "duration": 16,
    "start_time": "2022-06-04T21:47:33.026Z"
   },
   {
    "duration": 23,
    "start_time": "2022-06-04T21:50:07.280Z"
   },
   {
    "duration": 45,
    "start_time": "2022-06-04T21:51:29.306Z"
   },
   {
    "duration": 17,
    "start_time": "2022-06-04T21:51:44.977Z"
   },
   {
    "duration": 125,
    "start_time": "2022-06-04T21:52:18.395Z"
   },
   {
    "duration": 17,
    "start_time": "2022-06-04T21:53:54.997Z"
   },
   {
    "duration": 22,
    "start_time": "2022-06-04T21:56:24.790Z"
   },
   {
    "duration": 16,
    "start_time": "2022-06-04T21:56:54.459Z"
   },
   {
    "duration": 22,
    "start_time": "2022-06-04T22:00:21.430Z"
   },
   {
    "duration": 18,
    "start_time": "2022-06-04T22:01:49.180Z"
   },
   {
    "duration": 25,
    "start_time": "2022-06-04T22:02:17.960Z"
   },
   {
    "duration": 20,
    "start_time": "2022-06-04T22:05:38.428Z"
   },
   {
    "duration": 16,
    "start_time": "2022-06-04T22:07:18.721Z"
   },
   {
    "duration": 14,
    "start_time": "2022-06-04T22:07:28.112Z"
   },
   {
    "duration": 21,
    "start_time": "2022-06-04T22:07:38.982Z"
   },
   {
    "duration": 18,
    "start_time": "2022-06-04T22:11:14.313Z"
   },
   {
    "duration": 18,
    "start_time": "2022-06-04T22:12:43.411Z"
   },
   {
    "duration": 17,
    "start_time": "2022-06-04T22:12:53.275Z"
   },
   {
    "duration": 10,
    "start_time": "2022-06-04T22:13:15.547Z"
   },
   {
    "duration": 14,
    "start_time": "2022-06-04T22:23:28.042Z"
   },
   {
    "duration": 15,
    "start_time": "2022-06-04T22:23:59.261Z"
   },
   {
    "duration": 18,
    "start_time": "2022-06-04T22:24:19.502Z"
   },
   {
    "duration": 17,
    "start_time": "2022-06-04T22:25:25.346Z"
   },
   {
    "duration": 17,
    "start_time": "2022-06-04T22:25:37.612Z"
   },
   {
    "duration": 18,
    "start_time": "2022-06-04T22:26:56.489Z"
   },
   {
    "duration": 14,
    "start_time": "2022-06-04T22:27:12.713Z"
   },
   {
    "duration": 16,
    "start_time": "2022-06-04T22:28:13.294Z"
   },
   {
    "duration": 13,
    "start_time": "2022-06-04T22:29:39.625Z"
   },
   {
    "duration": 21,
    "start_time": "2022-06-04T22:30:50.391Z"
   },
   {
    "duration": 12,
    "start_time": "2022-06-04T22:32:12.488Z"
   },
   {
    "duration": 14,
    "start_time": "2022-06-04T22:32:18.647Z"
   },
   {
    "duration": 16,
    "start_time": "2022-06-04T22:32:35.987Z"
   },
   {
    "duration": 17,
    "start_time": "2022-06-04T22:36:37.391Z"
   },
   {
    "duration": 12,
    "start_time": "2022-06-04T22:36:47.187Z"
   },
   {
    "duration": 16,
    "start_time": "2022-06-04T22:38:44.105Z"
   },
   {
    "duration": 12,
    "start_time": "2022-06-04T22:39:14.353Z"
   },
   {
    "duration": 19,
    "start_time": "2022-06-04T22:39:48.393Z"
   },
   {
    "duration": 16,
    "start_time": "2022-06-04T22:40:32.554Z"
   },
   {
    "duration": 10,
    "start_time": "2022-06-04T22:40:44.642Z"
   },
   {
    "duration": 16,
    "start_time": "2022-06-04T22:40:56.286Z"
   },
   {
    "duration": 15,
    "start_time": "2022-06-04T22:41:25.316Z"
   },
   {
    "duration": 15,
    "start_time": "2022-06-04T22:41:39.342Z"
   },
   {
    "duration": 10,
    "start_time": "2022-06-04T22:41:48.554Z"
   },
   {
    "duration": 13,
    "start_time": "2022-06-04T22:42:41.437Z"
   },
   {
    "duration": 15,
    "start_time": "2022-06-04T22:43:29.756Z"
   },
   {
    "duration": 18,
    "start_time": "2022-06-04T22:44:12.116Z"
   },
   {
    "duration": 10,
    "start_time": "2022-06-04T22:44:13.194Z"
   },
   {
    "duration": 11,
    "start_time": "2022-06-04T22:44:17.745Z"
   },
   {
    "duration": 9,
    "start_time": "2022-06-04T22:44:19.688Z"
   },
   {
    "duration": 16,
    "start_time": "2022-06-04T22:44:25.755Z"
   },
   {
    "duration": 16,
    "start_time": "2022-06-04T22:45:39.926Z"
   },
   {
    "duration": 15,
    "start_time": "2022-06-04T22:46:37.042Z"
   },
   {
    "duration": 17,
    "start_time": "2022-06-04T22:49:24.634Z"
   },
   {
    "duration": 16,
    "start_time": "2022-06-04T22:50:55.403Z"
   },
   {
    "duration": 8,
    "start_time": "2022-06-04T22:51:18.788Z"
   },
   {
    "duration": 95,
    "start_time": "2022-06-04T22:51:26.194Z"
   },
   {
    "duration": 12,
    "start_time": "2022-06-04T22:56:45.223Z"
   },
   {
    "duration": 8,
    "start_time": "2022-06-04T22:56:51.390Z"
   },
   {
    "duration": 141,
    "start_time": "2022-06-04T22:56:55.156Z"
   },
   {
    "duration": 1114,
    "start_time": "2022-06-04T22:57:34.629Z"
   },
   {
    "duration": 33,
    "start_time": "2022-06-04T22:57:35.745Z"
   },
   {
    "duration": 44,
    "start_time": "2022-06-04T22:57:35.779Z"
   },
   {
    "duration": 12,
    "start_time": "2022-06-04T22:57:35.825Z"
   },
   {
    "duration": 25,
    "start_time": "2022-06-04T22:57:35.840Z"
   },
   {
    "duration": 31,
    "start_time": "2022-06-04T22:57:35.867Z"
   },
   {
    "duration": 16,
    "start_time": "2022-06-04T22:57:35.900Z"
   },
   {
    "duration": 13,
    "start_time": "2022-06-04T22:57:35.917Z"
   },
   {
    "duration": 36,
    "start_time": "2022-06-04T22:57:35.931Z"
   },
   {
    "duration": 34,
    "start_time": "2022-06-04T22:57:35.968Z"
   },
   {
    "duration": 19,
    "start_time": "2022-06-04T22:57:36.003Z"
   },
   {
    "duration": 35,
    "start_time": "2022-06-04T22:57:36.024Z"
   },
   {
    "duration": 11,
    "start_time": "2022-06-04T22:57:36.060Z"
   },
   {
    "duration": 21,
    "start_time": "2022-06-04T22:57:36.073Z"
   },
   {
    "duration": 32,
    "start_time": "2022-06-04T22:57:36.095Z"
   },
   {
    "duration": 26,
    "start_time": "2022-06-04T22:57:36.129Z"
   },
   {
    "duration": 22,
    "start_time": "2022-06-04T22:57:36.157Z"
   },
   {
    "duration": 156,
    "start_time": "2022-06-04T22:57:36.180Z"
   },
   {
    "duration": 0,
    "start_time": "2022-06-04T22:57:36.339Z"
   },
   {
    "duration": 0,
    "start_time": "2022-06-04T22:57:36.341Z"
   },
   {
    "duration": 0,
    "start_time": "2022-06-04T22:57:36.343Z"
   },
   {
    "duration": 0,
    "start_time": "2022-06-04T22:57:36.344Z"
   },
   {
    "duration": 0,
    "start_time": "2022-06-04T22:57:36.346Z"
   },
   {
    "duration": 0,
    "start_time": "2022-06-04T22:57:36.348Z"
   },
   {
    "duration": 0,
    "start_time": "2022-06-04T22:57:36.348Z"
   },
   {
    "duration": 0,
    "start_time": "2022-06-04T22:57:36.350Z"
   },
   {
    "duration": 0,
    "start_time": "2022-06-04T22:57:36.351Z"
   },
   {
    "duration": 0,
    "start_time": "2022-06-04T22:57:36.354Z"
   },
   {
    "duration": 0,
    "start_time": "2022-06-04T22:57:36.355Z"
   },
   {
    "duration": 0,
    "start_time": "2022-06-04T22:57:36.356Z"
   },
   {
    "duration": 0,
    "start_time": "2022-06-04T22:57:36.358Z"
   },
   {
    "duration": 0,
    "start_time": "2022-06-04T22:57:36.359Z"
   },
   {
    "duration": 0,
    "start_time": "2022-06-04T22:57:36.360Z"
   },
   {
    "duration": 0,
    "start_time": "2022-06-04T22:57:36.362Z"
   },
   {
    "duration": 0,
    "start_time": "2022-06-04T22:57:36.363Z"
   },
   {
    "duration": 0,
    "start_time": "2022-06-04T22:57:36.364Z"
   },
   {
    "duration": 0,
    "start_time": "2022-06-04T22:57:36.365Z"
   },
   {
    "duration": 0,
    "start_time": "2022-06-04T22:57:36.366Z"
   },
   {
    "duration": 0,
    "start_time": "2022-06-04T22:57:36.368Z"
   },
   {
    "duration": 0,
    "start_time": "2022-06-04T22:57:36.369Z"
   },
   {
    "duration": 0,
    "start_time": "2022-06-04T22:57:36.371Z"
   },
   {
    "duration": 0,
    "start_time": "2022-06-04T22:57:36.372Z"
   },
   {
    "duration": 0,
    "start_time": "2022-06-04T22:57:36.373Z"
   },
   {
    "duration": 0,
    "start_time": "2022-06-04T22:57:36.374Z"
   },
   {
    "duration": 0,
    "start_time": "2022-06-04T22:57:36.375Z"
   },
   {
    "duration": 0,
    "start_time": "2022-06-04T22:57:36.428Z"
   },
   {
    "duration": 0,
    "start_time": "2022-06-04T22:57:36.430Z"
   },
   {
    "duration": 0,
    "start_time": "2022-06-04T22:57:36.431Z"
   },
   {
    "duration": 0,
    "start_time": "2022-06-04T22:57:36.432Z"
   },
   {
    "duration": 0,
    "start_time": "2022-06-04T22:57:36.433Z"
   },
   {
    "duration": 0,
    "start_time": "2022-06-04T22:57:36.435Z"
   },
   {
    "duration": 0,
    "start_time": "2022-06-04T22:57:36.436Z"
   },
   {
    "duration": 0,
    "start_time": "2022-06-04T22:57:36.437Z"
   },
   {
    "duration": 0,
    "start_time": "2022-06-04T22:57:36.438Z"
   },
   {
    "duration": 0,
    "start_time": "2022-06-04T22:57:36.440Z"
   },
   {
    "duration": 0,
    "start_time": "2022-06-04T22:57:36.442Z"
   },
   {
    "duration": 0,
    "start_time": "2022-06-04T22:57:36.443Z"
   },
   {
    "duration": 0,
    "start_time": "2022-06-04T22:57:36.444Z"
   },
   {
    "duration": 339,
    "start_time": "2022-06-04T23:01:42.051Z"
   },
   {
    "duration": 13,
    "start_time": "2022-06-04T23:01:48.499Z"
   },
   {
    "duration": 8,
    "start_time": "2022-06-04T23:01:51.585Z"
   },
   {
    "duration": 16,
    "start_time": "2022-06-04T23:02:00.552Z"
   },
   {
    "duration": 5,
    "start_time": "2022-06-04T23:02:01.012Z"
   },
   {
    "duration": 166,
    "start_time": "2022-06-04T23:02:01.750Z"
   },
   {
    "duration": 13,
    "start_time": "2022-06-04T23:02:02.832Z"
   },
   {
    "duration": 337,
    "start_time": "2022-06-04T23:02:03.354Z"
   },
   {
    "duration": 9,
    "start_time": "2022-06-04T23:02:04.199Z"
   },
   {
    "duration": 381,
    "start_time": "2022-06-04T23:02:39.609Z"
   },
   {
    "duration": 1135,
    "start_time": "2022-06-05T11:12:09.891Z"
   },
   {
    "duration": 67,
    "start_time": "2022-06-05T11:12:12.357Z"
   },
   {
    "duration": 86,
    "start_time": "2022-06-05T11:12:12.895Z"
   },
   {
    "duration": 11,
    "start_time": "2022-06-05T11:12:13.337Z"
   },
   {
    "duration": 8,
    "start_time": "2022-06-05T11:12:13.632Z"
   },
   {
    "duration": 68,
    "start_time": "2022-06-05T11:12:14.229Z"
   },
   {
    "duration": 9,
    "start_time": "2022-06-05T11:12:14.592Z"
   },
   {
    "duration": 9,
    "start_time": "2022-06-05T11:12:14.994Z"
   },
   {
    "duration": 17,
    "start_time": "2022-06-05T11:12:17.499Z"
   },
   {
    "duration": 17,
    "start_time": "2022-06-05T11:12:19.358Z"
   },
   {
    "duration": 15,
    "start_time": "2022-06-05T11:12:21.508Z"
   },
   {
    "duration": 16,
    "start_time": "2022-06-05T11:12:23.607Z"
   },
   {
    "duration": 36,
    "start_time": "2022-06-05T11:14:02.987Z"
   },
   {
    "duration": 16,
    "start_time": "2022-06-05T11:15:24.844Z"
   },
   {
    "duration": 113,
    "start_time": "2022-06-05T11:15:46.933Z"
   },
   {
    "duration": 18,
    "start_time": "2022-06-05T11:15:59.747Z"
   },
   {
    "duration": 14,
    "start_time": "2022-06-05T11:16:07.536Z"
   },
   {
    "duration": 10,
    "start_time": "2022-06-05T11:16:26.734Z"
   },
   {
    "duration": 21,
    "start_time": "2022-06-05T11:16:38.763Z"
   },
   {
    "duration": 16,
    "start_time": "2022-06-05T11:17:07.863Z"
   },
   {
    "duration": 14,
    "start_time": "2022-06-05T11:17:25.093Z"
   },
   {
    "duration": 1033,
    "start_time": "2022-06-05T11:34:38.057Z"
   },
   {
    "duration": 35,
    "start_time": "2022-06-05T11:34:39.091Z"
   },
   {
    "duration": 43,
    "start_time": "2022-06-05T11:34:39.127Z"
   },
   {
    "duration": 10,
    "start_time": "2022-06-05T11:34:39.172Z"
   },
   {
    "duration": 12,
    "start_time": "2022-06-05T11:34:39.183Z"
   },
   {
    "duration": 20,
    "start_time": "2022-06-05T11:34:39.197Z"
   },
   {
    "duration": 11,
    "start_time": "2022-06-05T11:34:39.219Z"
   },
   {
    "duration": 9,
    "start_time": "2022-06-05T11:34:39.232Z"
   },
   {
    "duration": 20,
    "start_time": "2022-06-05T11:34:39.243Z"
   },
   {
    "duration": 16,
    "start_time": "2022-06-05T11:34:39.266Z"
   },
   {
    "duration": 20,
    "start_time": "2022-06-05T11:34:39.283Z"
   },
   {
    "duration": 17,
    "start_time": "2022-06-05T11:34:39.305Z"
   },
   {
    "duration": 9,
    "start_time": "2022-06-05T11:34:39.323Z"
   },
   {
    "duration": 137,
    "start_time": "2022-06-05T11:34:39.334Z"
   },
   {
    "duration": 0,
    "start_time": "2022-06-05T11:34:39.474Z"
   },
   {
    "duration": 0,
    "start_time": "2022-06-05T11:34:39.475Z"
   },
   {
    "duration": 0,
    "start_time": "2022-06-05T11:34:39.476Z"
   },
   {
    "duration": 0,
    "start_time": "2022-06-05T11:34:39.477Z"
   },
   {
    "duration": 0,
    "start_time": "2022-06-05T11:34:39.478Z"
   },
   {
    "duration": 0,
    "start_time": "2022-06-05T11:34:39.479Z"
   },
   {
    "duration": 0,
    "start_time": "2022-06-05T11:34:39.480Z"
   },
   {
    "duration": 0,
    "start_time": "2022-06-05T11:34:39.481Z"
   },
   {
    "duration": 0,
    "start_time": "2022-06-05T11:34:39.482Z"
   },
   {
    "duration": 0,
    "start_time": "2022-06-05T11:34:39.483Z"
   },
   {
    "duration": 0,
    "start_time": "2022-06-05T11:34:39.484Z"
   },
   {
    "duration": 0,
    "start_time": "2022-06-05T11:34:39.485Z"
   },
   {
    "duration": 0,
    "start_time": "2022-06-05T11:34:39.485Z"
   },
   {
    "duration": 0,
    "start_time": "2022-06-05T11:34:39.486Z"
   },
   {
    "duration": 0,
    "start_time": "2022-06-05T11:34:39.487Z"
   },
   {
    "duration": 0,
    "start_time": "2022-06-05T11:34:39.488Z"
   },
   {
    "duration": 0,
    "start_time": "2022-06-05T11:34:39.489Z"
   },
   {
    "duration": 0,
    "start_time": "2022-06-05T11:34:39.490Z"
   },
   {
    "duration": 0,
    "start_time": "2022-06-05T11:34:39.491Z"
   },
   {
    "duration": 0,
    "start_time": "2022-06-05T11:34:39.492Z"
   },
   {
    "duration": 0,
    "start_time": "2022-06-05T11:34:39.493Z"
   },
   {
    "duration": 0,
    "start_time": "2022-06-05T11:34:39.494Z"
   },
   {
    "duration": 0,
    "start_time": "2022-06-05T11:34:39.495Z"
   },
   {
    "duration": 0,
    "start_time": "2022-06-05T11:34:39.496Z"
   },
   {
    "duration": 0,
    "start_time": "2022-06-05T11:34:39.497Z"
   },
   {
    "duration": 0,
    "start_time": "2022-06-05T11:34:39.497Z"
   },
   {
    "duration": 0,
    "start_time": "2022-06-05T11:34:39.498Z"
   },
   {
    "duration": 0,
    "start_time": "2022-06-05T11:34:39.500Z"
   },
   {
    "duration": 0,
    "start_time": "2022-06-05T11:34:39.501Z"
   },
   {
    "duration": 0,
    "start_time": "2022-06-05T11:34:39.501Z"
   },
   {
    "duration": 0,
    "start_time": "2022-06-05T11:34:39.502Z"
   },
   {
    "duration": 0,
    "start_time": "2022-06-05T11:34:39.555Z"
   },
   {
    "duration": 0,
    "start_time": "2022-06-05T11:34:39.556Z"
   },
   {
    "duration": 0,
    "start_time": "2022-06-05T11:34:39.557Z"
   },
   {
    "duration": 0,
    "start_time": "2022-06-05T11:34:39.558Z"
   },
   {
    "duration": 0,
    "start_time": "2022-06-05T11:34:39.559Z"
   },
   {
    "duration": 0,
    "start_time": "2022-06-05T11:34:39.560Z"
   },
   {
    "duration": 0,
    "start_time": "2022-06-05T11:34:39.561Z"
   },
   {
    "duration": 0,
    "start_time": "2022-06-05T11:34:39.562Z"
   },
   {
    "duration": 0,
    "start_time": "2022-06-05T11:34:39.563Z"
   },
   {
    "duration": 0,
    "start_time": "2022-06-05T11:34:39.564Z"
   },
   {
    "duration": 0,
    "start_time": "2022-06-05T11:34:39.565Z"
   },
   {
    "duration": 0,
    "start_time": "2022-06-05T11:34:39.566Z"
   },
   {
    "duration": 11,
    "start_time": "2022-06-05T11:35:05.097Z"
   },
   {
    "duration": 14,
    "start_time": "2022-06-05T11:38:09.994Z"
   },
   {
    "duration": 90,
    "start_time": "2022-06-05T11:39:39.128Z"
   },
   {
    "duration": 14,
    "start_time": "2022-06-05T11:39:52.451Z"
   },
   {
    "duration": 12,
    "start_time": "2022-06-05T11:41:21.939Z"
   },
   {
    "duration": 12,
    "start_time": "2022-06-05T11:41:38.496Z"
   },
   {
    "duration": 19,
    "start_time": "2022-06-05T11:43:01.798Z"
   },
   {
    "duration": 13,
    "start_time": "2022-06-05T11:43:38.008Z"
   },
   {
    "duration": 12,
    "start_time": "2022-06-05T11:43:46.801Z"
   },
   {
    "duration": 9,
    "start_time": "2022-06-05T11:48:22.899Z"
   },
   {
    "duration": 20,
    "start_time": "2022-06-05T11:59:04.095Z"
   },
   {
    "duration": 12,
    "start_time": "2022-06-05T11:59:35.760Z"
   },
   {
    "duration": 13,
    "start_time": "2022-06-05T12:00:18.316Z"
   },
   {
    "duration": 8,
    "start_time": "2022-06-05T12:00:34.808Z"
   },
   {
    "duration": 12,
    "start_time": "2022-06-05T12:01:34.944Z"
   },
   {
    "duration": 6,
    "start_time": "2022-06-05T12:01:39.907Z"
   },
   {
    "duration": 156,
    "start_time": "2022-06-05T12:01:41.107Z"
   },
   {
    "duration": 14,
    "start_time": "2022-06-05T12:01:45.608Z"
   },
   {
    "duration": 132,
    "start_time": "2022-06-05T12:01:49.196Z"
   },
   {
    "duration": 12,
    "start_time": "2022-06-05T12:01:54.708Z"
   },
   {
    "duration": 278,
    "start_time": "2022-06-05T12:02:03.293Z"
   },
   {
    "duration": 353,
    "start_time": "2022-06-05T12:02:22.292Z"
   },
   {
    "duration": 256,
    "start_time": "2022-06-05T12:02:30.698Z"
   },
   {
    "duration": 242,
    "start_time": "2022-06-05T12:08:21.454Z"
   },
   {
    "duration": 257,
    "start_time": "2022-06-05T12:21:13.598Z"
   },
   {
    "duration": 244,
    "start_time": "2022-06-05T12:25:23.281Z"
   },
   {
    "duration": 270,
    "start_time": "2022-06-05T12:26:47.827Z"
   },
   {
    "duration": 313,
    "start_time": "2022-06-05T12:28:10.899Z"
   },
   {
    "duration": 361,
    "start_time": "2022-06-05T12:28:25.345Z"
   },
   {
    "duration": 257,
    "start_time": "2022-06-05T12:28:37.640Z"
   },
   {
    "duration": 316,
    "start_time": "2022-06-05T12:28:59.791Z"
   },
   {
    "duration": 311,
    "start_time": "2022-06-05T12:30:55.392Z"
   },
   {
    "duration": 285,
    "start_time": "2022-06-05T12:31:55.455Z"
   },
   {
    "duration": 295,
    "start_time": "2022-06-05T12:32:13.030Z"
   },
   {
    "duration": 265,
    "start_time": "2022-06-05T12:35:08.286Z"
   },
   {
    "duration": 270,
    "start_time": "2022-06-05T12:36:09.462Z"
   },
   {
    "duration": 391,
    "start_time": "2022-06-05T12:37:09.196Z"
   },
   {
    "duration": 433,
    "start_time": "2022-06-05T12:38:28.834Z"
   },
   {
    "duration": 247,
    "start_time": "2022-06-05T12:39:12.162Z"
   },
   {
    "duration": 321,
    "start_time": "2022-06-05T12:39:30.546Z"
   },
   {
    "duration": 239,
    "start_time": "2022-06-05T12:40:13.513Z"
   },
   {
    "duration": 307,
    "start_time": "2022-06-05T12:42:01.394Z"
   },
   {
    "duration": 328,
    "start_time": "2022-06-05T12:42:13.397Z"
   },
   {
    "duration": 350,
    "start_time": "2022-06-05T12:44:06.803Z"
   },
   {
    "duration": 279,
    "start_time": "2022-06-05T12:44:15.586Z"
   },
   {
    "duration": 1230,
    "start_time": "2022-06-05T20:31:13.354Z"
   },
   {
    "duration": 81,
    "start_time": "2022-06-05T20:31:16.544Z"
   },
   {
    "duration": 90,
    "start_time": "2022-06-05T20:31:19.885Z"
   },
   {
    "duration": 11,
    "start_time": "2022-06-05T20:31:22.502Z"
   },
   {
    "duration": 10,
    "start_time": "2022-06-05T20:31:24.546Z"
   },
   {
    "duration": 72,
    "start_time": "2022-06-05T20:31:25.562Z"
   },
   {
    "duration": 12,
    "start_time": "2022-06-05T20:31:26.021Z"
   },
   {
    "duration": 8,
    "start_time": "2022-06-05T20:31:26.585Z"
   },
   {
    "duration": 17,
    "start_time": "2022-06-05T20:31:28.696Z"
   },
   {
    "duration": 17,
    "start_time": "2022-06-05T20:31:30.541Z"
   },
   {
    "duration": 17,
    "start_time": "2022-06-05T20:31:32.204Z"
   },
   {
    "duration": 22,
    "start_time": "2022-06-05T20:31:34.364Z"
   },
   {
    "duration": 12,
    "start_time": "2022-06-05T20:31:35.196Z"
   },
   {
    "duration": 12,
    "start_time": "2022-06-05T20:31:37.781Z"
   },
   {
    "duration": 11,
    "start_time": "2022-06-05T20:31:45.516Z"
   },
   {
    "duration": 19,
    "start_time": "2022-06-05T20:31:46.887Z"
   },
   {
    "duration": 15,
    "start_time": "2022-06-05T20:31:47.911Z"
   },
   {
    "duration": 9,
    "start_time": "2022-06-05T20:31:49.154Z"
   },
   {
    "duration": 21,
    "start_time": "2022-06-05T20:31:51.702Z"
   },
   {
    "duration": 8,
    "start_time": "2022-06-05T20:31:52.453Z"
   },
   {
    "duration": 162,
    "start_time": "2022-06-05T20:31:53.192Z"
   },
   {
    "duration": 13,
    "start_time": "2022-06-05T20:31:54.574Z"
   },
   {
    "duration": 148,
    "start_time": "2022-06-05T20:31:55.903Z"
   },
   {
    "duration": 13,
    "start_time": "2022-06-05T20:31:58.539Z"
   },
   {
    "duration": 329,
    "start_time": "2022-06-05T20:32:04.091Z"
   },
   {
    "duration": 334,
    "start_time": "2022-06-05T20:32:11.293Z"
   },
   {
    "duration": 491,
    "start_time": "2022-06-05T20:32:15.875Z"
   },
   {
    "duration": 399,
    "start_time": "2022-06-05T20:34:47.763Z"
   },
   {
    "duration": 297,
    "start_time": "2022-06-05T20:34:58.675Z"
   },
   {
    "duration": 575,
    "start_time": "2022-06-05T20:35:14.085Z"
   },
   {
    "duration": 444,
    "start_time": "2022-06-05T20:39:02.174Z"
   },
   {
    "duration": 276,
    "start_time": "2022-06-05T20:39:49.772Z"
   },
   {
    "duration": 562,
    "start_time": "2022-06-05T20:40:17.877Z"
   },
   {
    "duration": 32,
    "start_time": "2022-06-05T20:41:10.297Z"
   },
   {
    "duration": 430,
    "start_time": "2022-06-05T20:41:21.148Z"
   },
   {
    "duration": 481,
    "start_time": "2022-06-05T20:41:34.586Z"
   },
   {
    "duration": 464,
    "start_time": "2022-06-05T20:41:59.904Z"
   },
   {
    "duration": 504,
    "start_time": "2022-06-05T20:42:50.365Z"
   },
   {
    "duration": 447,
    "start_time": "2022-06-05T20:45:30.645Z"
   },
   {
    "duration": 418,
    "start_time": "2022-06-05T20:45:48.937Z"
   },
   {
    "duration": 777,
    "start_time": "2022-06-05T20:46:18.776Z"
   },
   {
    "duration": 614,
    "start_time": "2022-06-05T20:46:31.694Z"
   },
   {
    "duration": 484,
    "start_time": "2022-06-05T20:46:41.696Z"
   },
   {
    "duration": 485,
    "start_time": "2022-06-05T20:47:05.979Z"
   },
   {
    "duration": 469,
    "start_time": "2022-06-05T20:47:25.187Z"
   },
   {
    "duration": 491,
    "start_time": "2022-06-05T20:47:37.884Z"
   },
   {
    "duration": 319,
    "start_time": "2022-06-05T20:47:46.974Z"
   },
   {
    "duration": 438,
    "start_time": "2022-06-05T20:48:06.807Z"
   },
   {
    "duration": 433,
    "start_time": "2022-06-05T20:48:19.265Z"
   },
   {
    "duration": 344,
    "start_time": "2022-06-05T20:48:32.316Z"
   },
   {
    "duration": 451,
    "start_time": "2022-06-05T20:48:48.940Z"
   },
   {
    "duration": 139,
    "start_time": "2022-06-05T20:48:53.395Z"
   },
   {
    "duration": 176,
    "start_time": "2022-06-05T20:51:30.357Z"
   },
   {
    "duration": 228,
    "start_time": "2022-06-05T20:51:37.855Z"
   },
   {
    "duration": 6,
    "start_time": "2022-06-05T20:51:47.826Z"
   },
   {
    "duration": 61,
    "start_time": "2022-06-05T20:54:09.115Z"
   },
   {
    "duration": 132,
    "start_time": "2022-06-05T20:54:21.406Z"
   },
   {
    "duration": 164,
    "start_time": "2022-06-05T20:55:34.342Z"
   },
   {
    "duration": 212,
    "start_time": "2022-06-05T20:56:07.948Z"
   },
   {
    "duration": 167,
    "start_time": "2022-06-05T20:56:37.672Z"
   },
   {
    "duration": 5,
    "start_time": "2022-06-05T20:56:43.824Z"
   },
   {
    "duration": 162,
    "start_time": "2022-06-05T20:56:46.248Z"
   },
   {
    "duration": 9,
    "start_time": "2022-06-05T20:56:48.084Z"
   },
   {
    "duration": 3,
    "start_time": "2022-06-05T20:56:53.624Z"
   },
   {
    "duration": 2294,
    "start_time": "2022-06-05T21:01:16.156Z"
   },
   {
    "duration": 137,
    "start_time": "2022-06-05T21:01:30.977Z"
   },
   {
    "duration": 59,
    "start_time": "2022-06-05T21:02:36.204Z"
   },
   {
    "duration": 1180,
    "start_time": "2022-06-05T21:02:50.524Z"
   },
   {
    "duration": 77,
    "start_time": "2022-06-05T21:02:51.706Z"
   },
   {
    "duration": 77,
    "start_time": "2022-06-05T21:02:51.785Z"
   },
   {
    "duration": 10,
    "start_time": "2022-06-05T21:02:51.864Z"
   },
   {
    "duration": 8,
    "start_time": "2022-06-05T21:02:52.015Z"
   },
   {
    "duration": 62,
    "start_time": "2022-06-05T21:02:52.425Z"
   },
   {
    "duration": 10,
    "start_time": "2022-06-05T21:02:52.644Z"
   },
   {
    "duration": 7,
    "start_time": "2022-06-05T21:02:52.916Z"
   },
   {
    "duration": 15,
    "start_time": "2022-06-05T21:02:53.850Z"
   },
   {
    "duration": 17,
    "start_time": "2022-06-05T21:02:54.714Z"
   },
   {
    "duration": 15,
    "start_time": "2022-06-05T21:02:55.572Z"
   },
   {
    "duration": 18,
    "start_time": "2022-06-05T21:02:58.024Z"
   },
   {
    "duration": 11,
    "start_time": "2022-06-05T21:02:58.586Z"
   },
   {
    "duration": 12,
    "start_time": "2022-06-05T21:03:09.696Z"
   },
   {
    "duration": 19,
    "start_time": "2022-06-05T21:03:12.074Z"
   },
   {
    "duration": 12,
    "start_time": "2022-06-05T21:03:13.096Z"
   },
   {
    "duration": 8,
    "start_time": "2022-06-05T21:03:13.523Z"
   },
   {
    "duration": 15,
    "start_time": "2022-06-05T21:03:14.412Z"
   },
   {
    "duration": 5,
    "start_time": "2022-06-05T21:03:14.644Z"
   },
   {
    "duration": 177,
    "start_time": "2022-06-05T21:03:14.894Z"
   },
   {
    "duration": 10,
    "start_time": "2022-06-05T21:03:15.076Z"
   },
   {
    "duration": 138,
    "start_time": "2022-06-05T21:03:15.326Z"
   },
   {
    "duration": 12,
    "start_time": "2022-06-05T21:03:15.614Z"
   },
   {
    "duration": 361,
    "start_time": "2022-06-05T21:03:16.353Z"
   },
   {
    "duration": 318,
    "start_time": "2022-06-05T21:03:18.276Z"
   },
   {
    "duration": 459,
    "start_time": "2022-06-05T21:03:19.824Z"
   },
   {
    "duration": 309,
    "start_time": "2022-06-05T21:03:20.950Z"
   },
   {
    "duration": 428,
    "start_time": "2022-06-05T21:03:21.843Z"
   },
   {
    "duration": 156,
    "start_time": "2022-06-05T21:03:23.175Z"
   },
   {
    "duration": 4,
    "start_time": "2022-06-05T21:03:24.140Z"
   },
   {
    "duration": 169,
    "start_time": "2022-06-05T21:03:25.973Z"
   },
   {
    "duration": 9,
    "start_time": "2022-06-05T21:03:26.514Z"
   },
   {
    "duration": 5,
    "start_time": "2022-06-05T21:03:27.495Z"
   },
   {
    "duration": 2352,
    "start_time": "2022-06-05T21:03:29.951Z"
   },
   {
    "duration": 122,
    "start_time": "2022-06-05T21:03:32.305Z"
   },
   {
    "duration": 58,
    "start_time": "2022-06-05T21:03:46.117Z"
   },
   {
    "duration": 15,
    "start_time": "2022-06-05T21:03:50.994Z"
   },
   {
    "duration": 1384,
    "start_time": "2022-06-05T21:03:59.617Z"
   },
   {
    "duration": 79,
    "start_time": "2022-06-05T21:04:01.003Z"
   },
   {
    "duration": 79,
    "start_time": "2022-06-05T21:04:01.084Z"
   },
   {
    "duration": 11,
    "start_time": "2022-06-05T21:04:01.165Z"
   },
   {
    "duration": 15,
    "start_time": "2022-06-05T21:04:01.177Z"
   },
   {
    "duration": 65,
    "start_time": "2022-06-05T21:04:01.194Z"
   },
   {
    "duration": 11,
    "start_time": "2022-06-05T21:04:01.261Z"
   },
   {
    "duration": 11,
    "start_time": "2022-06-05T21:04:01.274Z"
   },
   {
    "duration": 20,
    "start_time": "2022-06-05T21:04:01.287Z"
   },
   {
    "duration": 32,
    "start_time": "2022-06-05T21:04:01.310Z"
   },
   {
    "duration": 25,
    "start_time": "2022-06-05T21:04:01.344Z"
   },
   {
    "duration": 49,
    "start_time": "2022-06-05T21:04:01.371Z"
   },
   {
    "duration": 11,
    "start_time": "2022-06-05T21:04:01.422Z"
   },
   {
    "duration": 21,
    "start_time": "2022-06-05T21:04:01.436Z"
   },
   {
    "duration": 47,
    "start_time": "2022-06-05T21:04:01.459Z"
   },
   {
    "duration": 11,
    "start_time": "2022-06-05T21:04:01.508Z"
   },
   {
    "duration": 27,
    "start_time": "2022-06-05T21:04:01.521Z"
   },
   {
    "duration": 32,
    "start_time": "2022-06-05T21:04:01.549Z"
   },
   {
    "duration": 23,
    "start_time": "2022-06-05T21:04:01.584Z"
   },
   {
    "duration": 199,
    "start_time": "2022-06-05T21:04:01.609Z"
   },
   {
    "duration": 12,
    "start_time": "2022-06-05T21:04:01.810Z"
   },
   {
    "duration": 170,
    "start_time": "2022-06-05T21:04:01.824Z"
   },
   {
    "duration": 12,
    "start_time": "2022-06-05T21:04:01.996Z"
   },
   {
    "duration": 350,
    "start_time": "2022-06-05T21:04:02.010Z"
   },
   {
    "duration": 401,
    "start_time": "2022-06-05T21:04:02.362Z"
   },
   {
    "duration": 433,
    "start_time": "2022-06-05T21:04:02.765Z"
   },
   {
    "duration": 356,
    "start_time": "2022-06-05T21:04:03.200Z"
   },
   {
    "duration": 465,
    "start_time": "2022-06-05T21:04:03.560Z"
   },
   {
    "duration": 182,
    "start_time": "2022-06-05T21:04:04.027Z"
   },
   {
    "duration": 5,
    "start_time": "2022-06-05T21:04:04.211Z"
   },
   {
    "duration": 206,
    "start_time": "2022-06-05T21:04:04.217Z"
   },
   {
    "duration": 17,
    "start_time": "2022-06-05T21:04:04.425Z"
   },
   {
    "duration": 5,
    "start_time": "2022-06-05T21:04:04.443Z"
   },
   {
    "duration": 2358,
    "start_time": "2022-06-05T21:04:04.450Z"
   },
   {
    "duration": 153,
    "start_time": "2022-06-05T21:04:06.809Z"
   },
   {
    "duration": 1257,
    "start_time": "2022-06-05T21:06:42.781Z"
   },
   {
    "duration": 83,
    "start_time": "2022-06-05T21:06:44.040Z"
   },
   {
    "duration": 79,
    "start_time": "2022-06-05T21:06:44.124Z"
   },
   {
    "duration": 11,
    "start_time": "2022-06-05T21:06:44.205Z"
   },
   {
    "duration": 13,
    "start_time": "2022-06-05T21:06:44.217Z"
   },
   {
    "duration": 67,
    "start_time": "2022-06-05T21:06:44.456Z"
   },
   {
    "duration": 10,
    "start_time": "2022-06-05T21:06:44.646Z"
   },
   {
    "duration": 8,
    "start_time": "2022-06-05T21:06:44.845Z"
   },
   {
    "duration": 18,
    "start_time": "2022-06-05T21:06:45.775Z"
   },
   {
    "duration": 21,
    "start_time": "2022-06-05T21:06:46.592Z"
   },
   {
    "duration": 17,
    "start_time": "2022-06-05T21:06:47.395Z"
   },
   {
    "duration": 15,
    "start_time": "2022-06-05T21:06:48.385Z"
   },
   {
    "duration": 11,
    "start_time": "2022-06-05T21:06:48.572Z"
   },
   {
    "duration": 11,
    "start_time": "2022-06-05T21:06:49.437Z"
   },
   {
    "duration": 19,
    "start_time": "2022-06-05T21:06:49.815Z"
   },
   {
    "duration": 13,
    "start_time": "2022-06-05T21:06:50.204Z"
   },
   {
    "duration": 9,
    "start_time": "2022-06-05T21:06:50.673Z"
   },
   {
    "duration": 15,
    "start_time": "2022-06-05T21:06:51.460Z"
   },
   {
    "duration": 5,
    "start_time": "2022-06-05T21:06:51.642Z"
   },
   {
    "duration": 155,
    "start_time": "2022-06-05T21:06:51.842Z"
   },
   {
    "duration": 10,
    "start_time": "2022-06-05T21:06:52.038Z"
   },
   {
    "duration": 131,
    "start_time": "2022-06-05T21:06:52.251Z"
   },
   {
    "duration": 12,
    "start_time": "2022-06-05T21:06:52.475Z"
   },
   {
    "duration": 341,
    "start_time": "2022-06-05T21:06:53.148Z"
   },
   {
    "duration": 335,
    "start_time": "2022-06-05T21:06:54.957Z"
   },
   {
    "duration": 482,
    "start_time": "2022-06-05T21:06:55.916Z"
   },
   {
    "duration": 339,
    "start_time": "2022-06-05T21:06:57.073Z"
   },
   {
    "duration": 472,
    "start_time": "2022-06-05T21:06:57.917Z"
   },
   {
    "duration": 169,
    "start_time": "2022-06-05T21:06:59.224Z"
   },
   {
    "duration": 4,
    "start_time": "2022-06-05T21:07:00.023Z"
   },
   {
    "duration": 182,
    "start_time": "2022-06-05T21:07:02.024Z"
   },
   {
    "duration": 12,
    "start_time": "2022-06-05T21:07:02.440Z"
   },
   {
    "duration": 5,
    "start_time": "2022-06-05T21:07:03.445Z"
   },
   {
    "duration": 2279,
    "start_time": "2022-06-05T21:07:07.725Z"
   },
   {
    "duration": 129,
    "start_time": "2022-06-05T21:07:10.005Z"
   },
   {
    "duration": 57,
    "start_time": "2022-06-05T21:08:04.045Z"
   },
   {
    "duration": 1161,
    "start_time": "2022-06-05T21:08:28.544Z"
   },
   {
    "duration": 78,
    "start_time": "2022-06-05T21:08:29.706Z"
   },
   {
    "duration": 81,
    "start_time": "2022-06-05T21:08:29.786Z"
   },
   {
    "duration": 12,
    "start_time": "2022-06-05T21:08:29.869Z"
   },
   {
    "duration": 14,
    "start_time": "2022-06-05T21:08:29.884Z"
   },
   {
    "duration": 61,
    "start_time": "2022-06-05T21:08:29.900Z"
   },
   {
    "duration": 10,
    "start_time": "2022-06-05T21:08:30.647Z"
   },
   {
    "duration": 17,
    "start_time": "2022-06-05T21:08:30.659Z"
   },
   {
    "duration": 24,
    "start_time": "2022-06-05T21:08:30.677Z"
   },
   {
    "duration": 29,
    "start_time": "2022-06-05T21:08:30.702Z"
   },
   {
    "duration": 25,
    "start_time": "2022-06-05T21:08:30.733Z"
   },
   {
    "duration": 17,
    "start_time": "2022-06-05T21:08:31.912Z"
   },
   {
    "duration": 11,
    "start_time": "2022-06-05T21:08:31.931Z"
   },
   {
    "duration": 15,
    "start_time": "2022-06-05T21:08:31.943Z"
   },
   {
    "duration": 19,
    "start_time": "2022-06-05T21:08:31.959Z"
   },
   {
    "duration": 11,
    "start_time": "2022-06-05T21:08:31.980Z"
   },
   {
    "duration": 8,
    "start_time": "2022-06-05T21:08:31.992Z"
   },
   {
    "duration": 15,
    "start_time": "2022-06-05T21:08:32.002Z"
   },
   {
    "duration": 24,
    "start_time": "2022-06-05T21:08:32.019Z"
   },
   {
    "duration": 167,
    "start_time": "2022-06-05T21:08:32.044Z"
   },
   {
    "duration": 9,
    "start_time": "2022-06-05T21:08:32.213Z"
   },
   {
    "duration": 139,
    "start_time": "2022-06-05T21:08:32.605Z"
   },
   {
    "duration": 12,
    "start_time": "2022-06-05T21:08:32.746Z"
   },
   {
    "duration": 354,
    "start_time": "2022-06-05T21:08:32.760Z"
   },
   {
    "duration": 417,
    "start_time": "2022-06-05T21:08:33.116Z"
   },
   {
    "duration": 1330,
    "start_time": "2022-06-06T21:19:47.990Z"
   },
   {
    "duration": 77,
    "start_time": "2022-06-06T21:19:51.222Z"
   },
   {
    "duration": 97,
    "start_time": "2022-06-06T21:19:52.552Z"
   },
   {
    "duration": 11,
    "start_time": "2022-06-06T21:19:52.750Z"
   },
   {
    "duration": 14,
    "start_time": "2022-06-06T21:19:53.032Z"
   },
   {
    "duration": 55,
    "start_time": "2022-06-06T21:19:53.541Z"
   },
   {
    "duration": 16,
    "start_time": "2022-06-06T21:19:53.719Z"
   },
   {
    "duration": 8,
    "start_time": "2022-06-06T21:19:54.038Z"
   },
   {
    "duration": 19,
    "start_time": "2022-06-06T21:19:55.274Z"
   },
   {
    "duration": 16,
    "start_time": "2022-06-06T21:20:00.872Z"
   },
   {
    "duration": 14,
    "start_time": "2022-06-06T21:20:01.750Z"
   },
   {
    "duration": 15,
    "start_time": "2022-06-06T21:20:03.091Z"
   },
   {
    "duration": 5,
    "start_time": "2022-06-06T21:20:03.571Z"
   },
   {
    "duration": 15,
    "start_time": "2022-06-06T21:20:04.241Z"
   },
   {
    "duration": 16,
    "start_time": "2022-06-06T21:20:04.791Z"
   },
   {
    "duration": 13,
    "start_time": "2022-06-06T21:20:06.154Z"
   },
   {
    "duration": 15,
    "start_time": "2022-06-06T21:20:07.346Z"
   },
   {
    "duration": 30,
    "start_time": "2022-06-06T21:20:08.019Z"
   },
   {
    "duration": 13,
    "start_time": "2022-06-06T21:20:08.759Z"
   },
   {
    "duration": 14,
    "start_time": "2022-06-06T21:20:09.432Z"
   },
   {
    "duration": 11,
    "start_time": "2022-06-06T21:20:10.139Z"
   },
   {
    "duration": 21,
    "start_time": "2022-06-06T21:20:11.432Z"
   },
   {
    "duration": 6,
    "start_time": "2022-06-06T21:20:11.790Z"
   },
   {
    "duration": 165,
    "start_time": "2022-06-06T21:20:12.556Z"
   },
   {
    "duration": 13,
    "start_time": "2022-06-06T21:20:12.951Z"
   },
   {
    "duration": 132,
    "start_time": "2022-06-06T21:20:13.670Z"
   },
   {
    "duration": 17,
    "start_time": "2022-06-06T21:20:14.234Z"
   },
   {
    "duration": 311,
    "start_time": "2022-06-06T21:20:15.670Z"
   },
   {
    "duration": 309,
    "start_time": "2022-06-06T21:20:17.911Z"
   },
   {
    "duration": 497,
    "start_time": "2022-06-06T21:20:18.989Z"
   },
   {
    "duration": 315,
    "start_time": "2022-06-06T21:20:19.871Z"
   },
   {
    "duration": 500,
    "start_time": "2022-06-06T21:20:20.882Z"
   },
   {
    "duration": 176,
    "start_time": "2022-06-06T21:20:22.110Z"
   },
   {
    "duration": 4,
    "start_time": "2022-06-06T21:20:22.790Z"
   },
   {
    "duration": 161,
    "start_time": "2022-06-06T21:20:23.993Z"
   },
   {
    "duration": 13,
    "start_time": "2022-06-06T21:20:24.238Z"
   },
   {
    "duration": 4,
    "start_time": "2022-06-06T21:20:24.710Z"
   },
   {
    "duration": 218,
    "start_time": "2022-06-06T21:20:26.003Z"
   },
   {
    "duration": 157,
    "start_time": "2022-06-06T21:20:26.320Z"
   },
   {
    "duration": 6,
    "start_time": "2022-06-06T21:20:26.761Z"
   },
   {
    "duration": 7,
    "start_time": "2022-06-06T21:20:26.992Z"
   },
   {
    "duration": 13,
    "start_time": "2022-06-06T21:20:27.231Z"
   },
   {
    "duration": 6,
    "start_time": "2022-06-06T21:20:28.471Z"
   },
   {
    "duration": 52,
    "start_time": "2022-06-06T21:20:28.952Z"
   },
   {
    "duration": 10,
    "start_time": "2022-06-06T21:20:29.835Z"
   },
   {
    "duration": 8,
    "start_time": "2022-06-06T21:20:30.870Z"
   },
   {
    "duration": 8,
    "start_time": "2022-06-06T21:20:31.592Z"
   },
   {
    "duration": 78,
    "start_time": "2022-06-06T21:20:31.804Z"
   },
   {
    "duration": 18,
    "start_time": "2022-06-06T21:20:33.034Z"
   },
   {
    "duration": 205,
    "start_time": "2022-06-06T21:20:34.072Z"
   },
   {
    "duration": 144,
    "start_time": "2022-06-06T21:20:34.283Z"
   },
   {
    "duration": 7,
    "start_time": "2022-06-06T21:20:34.550Z"
   },
   {
    "duration": 7,
    "start_time": "2022-06-06T21:20:34.789Z"
   },
   {
    "duration": 8,
    "start_time": "2022-06-06T21:20:35.045Z"
   },
   {
    "duration": 7,
    "start_time": "2022-06-06T21:20:35.279Z"
   },
   {
    "duration": 27,
    "start_time": "2022-06-06T21:20:35.542Z"
   },
   {
    "duration": 10,
    "start_time": "2022-06-06T21:20:35.994Z"
   },
   {
    "duration": 11,
    "start_time": "2022-06-06T21:20:36.470Z"
   },
   {
    "duration": 9,
    "start_time": "2022-06-06T21:20:36.958Z"
   },
   {
    "duration": 25,
    "start_time": "2022-06-06T21:20:37.191Z"
   },
   {
    "duration": 16,
    "start_time": "2022-06-06T21:20:37.682Z"
   },
   {
    "duration": 989,
    "start_time": "2022-06-07T12:30:32.667Z"
   },
   {
    "duration": 35,
    "start_time": "2022-06-07T12:30:33.658Z"
   },
   {
    "duration": 54,
    "start_time": "2022-06-07T12:30:33.694Z"
   },
   {
    "duration": 14,
    "start_time": "2022-06-07T12:30:33.750Z"
   },
   {
    "duration": 50,
    "start_time": "2022-06-07T12:30:33.765Z"
   },
   {
    "duration": 80,
    "start_time": "2022-06-07T12:30:33.816Z"
   },
   {
    "duration": 29,
    "start_time": "2022-06-07T12:30:33.899Z"
   },
   {
    "duration": 44,
    "start_time": "2022-06-07T12:30:33.930Z"
   },
   {
    "duration": 49,
    "start_time": "2022-06-07T12:30:33.975Z"
   },
   {
    "duration": 43,
    "start_time": "2022-06-07T12:30:34.026Z"
   },
   {
    "duration": 40,
    "start_time": "2022-06-07T12:30:34.071Z"
   },
   {
    "duration": 61,
    "start_time": "2022-06-07T12:30:34.112Z"
   },
   {
    "duration": 17,
    "start_time": "2022-06-07T12:30:34.174Z"
   },
   {
    "duration": 28,
    "start_time": "2022-06-07T12:30:34.192Z"
   },
   {
    "duration": 37,
    "start_time": "2022-06-07T12:30:34.222Z"
   },
   {
    "duration": 39,
    "start_time": "2022-06-07T12:30:34.261Z"
   },
   {
    "duration": 50,
    "start_time": "2022-06-07T12:30:34.301Z"
   },
   {
    "duration": 29,
    "start_time": "2022-06-07T12:30:34.353Z"
   },
   {
    "duration": 35,
    "start_time": "2022-06-07T12:30:34.384Z"
   },
   {
    "duration": 38,
    "start_time": "2022-06-07T12:30:34.421Z"
   },
   {
    "duration": 32,
    "start_time": "2022-06-07T12:30:34.461Z"
   },
   {
    "duration": 37,
    "start_time": "2022-06-07T12:30:34.494Z"
   },
   {
    "duration": 22,
    "start_time": "2022-06-07T12:30:34.532Z"
   },
   {
    "duration": 170,
    "start_time": "2022-06-07T12:30:34.556Z"
   },
   {
    "duration": 9,
    "start_time": "2022-06-07T12:30:34.727Z"
   },
   {
    "duration": 149,
    "start_time": "2022-06-07T12:30:34.738Z"
   },
   {
    "duration": 41,
    "start_time": "2022-06-07T12:30:34.888Z"
   },
   {
    "duration": 305,
    "start_time": "2022-06-07T12:30:34.932Z"
   },
   {
    "duration": 357,
    "start_time": "2022-06-07T12:30:35.239Z"
   },
   {
    "duration": 454,
    "start_time": "2022-06-07T12:30:35.598Z"
   },
   {
    "duration": 329,
    "start_time": "2022-06-07T12:30:36.053Z"
   },
   {
    "duration": 435,
    "start_time": "2022-06-07T12:30:36.384Z"
   },
   {
    "duration": 153,
    "start_time": "2022-06-07T12:30:36.826Z"
   },
   {
    "duration": 3,
    "start_time": "2022-06-07T12:30:36.981Z"
   },
   {
    "duration": 156,
    "start_time": "2022-06-07T12:30:36.986Z"
   },
   {
    "duration": 9,
    "start_time": "2022-06-07T12:30:37.143Z"
   },
   {
    "duration": 8,
    "start_time": "2022-06-07T12:30:37.153Z"
   },
   {
    "duration": 235,
    "start_time": "2022-06-07T12:30:37.162Z"
   },
   {
    "duration": 124,
    "start_time": "2022-06-07T12:30:37.398Z"
   },
   {
    "duration": 6,
    "start_time": "2022-06-07T12:30:37.526Z"
   },
   {
    "duration": 10,
    "start_time": "2022-06-07T12:30:37.533Z"
   },
   {
    "duration": 11,
    "start_time": "2022-06-07T12:30:37.545Z"
   },
   {
    "duration": 8,
    "start_time": "2022-06-07T12:30:37.557Z"
   },
   {
    "duration": 52,
    "start_time": "2022-06-07T12:30:37.567Z"
   },
   {
    "duration": 14,
    "start_time": "2022-06-07T12:30:37.620Z"
   },
   {
    "duration": 7,
    "start_time": "2022-06-07T12:30:37.636Z"
   },
   {
    "duration": 15,
    "start_time": "2022-06-07T12:30:37.645Z"
   },
   {
    "duration": 60,
    "start_time": "2022-06-07T12:30:37.661Z"
   },
   {
    "duration": 12,
    "start_time": "2022-06-07T12:30:37.723Z"
   },
   {
    "duration": 194,
    "start_time": "2022-06-07T12:30:37.736Z"
   },
   {
    "duration": 117,
    "start_time": "2022-06-07T12:30:37.931Z"
   },
   {
    "duration": 6,
    "start_time": "2022-06-07T12:30:38.050Z"
   },
   {
    "duration": 9,
    "start_time": "2022-06-07T12:30:38.057Z"
   },
   {
    "duration": 7,
    "start_time": "2022-06-07T12:30:38.067Z"
   },
   {
    "duration": 12,
    "start_time": "2022-06-07T12:30:38.075Z"
   },
   {
    "duration": 34,
    "start_time": "2022-06-07T12:30:38.089Z"
   },
   {
    "duration": 9,
    "start_time": "2022-06-07T12:30:38.127Z"
   },
   {
    "duration": 11,
    "start_time": "2022-06-07T12:30:38.137Z"
   },
   {
    "duration": 8,
    "start_time": "2022-06-07T12:30:38.149Z"
   },
   {
    "duration": 26,
    "start_time": "2022-06-07T12:30:38.158Z"
   },
   {
    "duration": 11,
    "start_time": "2022-06-07T12:30:38.186Z"
   },
   {
    "duration": 1015,
    "start_time": "2022-06-07T13:18:21.458Z"
   },
   {
    "duration": 35,
    "start_time": "2022-06-07T13:18:22.475Z"
   },
   {
    "duration": 45,
    "start_time": "2022-06-07T13:18:22.511Z"
   },
   {
    "duration": 10,
    "start_time": "2022-06-07T13:18:22.558Z"
   },
   {
    "duration": 17,
    "start_time": "2022-06-07T13:18:22.570Z"
   },
   {
    "duration": 36,
    "start_time": "2022-06-07T13:18:22.588Z"
   },
   {
    "duration": 9,
    "start_time": "2022-06-07T13:18:22.625Z"
   },
   {
    "duration": 30,
    "start_time": "2022-06-07T13:18:22.636Z"
   },
   {
    "duration": 30,
    "start_time": "2022-06-07T13:18:22.668Z"
   },
   {
    "duration": 16,
    "start_time": "2022-06-07T13:18:22.700Z"
   },
   {
    "duration": 17,
    "start_time": "2022-06-07T13:18:22.718Z"
   },
   {
    "duration": 24,
    "start_time": "2022-06-07T13:18:22.736Z"
   },
   {
    "duration": 5,
    "start_time": "2022-06-07T13:18:22.761Z"
   },
   {
    "duration": 28,
    "start_time": "2022-06-07T13:18:22.768Z"
   },
   {
    "duration": 20,
    "start_time": "2022-06-07T13:18:22.797Z"
   },
   {
    "duration": 12,
    "start_time": "2022-06-07T13:18:22.819Z"
   },
   {
    "duration": 27,
    "start_time": "2022-06-07T13:18:22.833Z"
   },
   {
    "duration": 39,
    "start_time": "2022-06-07T13:18:22.861Z"
   },
   {
    "duration": 30,
    "start_time": "2022-06-07T13:18:22.902Z"
   },
   {
    "duration": 26,
    "start_time": "2022-06-07T13:18:22.933Z"
   },
   {
    "duration": 15,
    "start_time": "2022-06-07T13:18:22.961Z"
   },
   {
    "duration": 30,
    "start_time": "2022-06-07T13:18:22.978Z"
   },
   {
    "duration": 16,
    "start_time": "2022-06-07T13:18:23.009Z"
   },
   {
    "duration": 149,
    "start_time": "2022-06-07T13:18:23.026Z"
   },
   {
    "duration": 10,
    "start_time": "2022-06-07T13:18:23.176Z"
   },
   {
    "duration": 122,
    "start_time": "2022-06-07T13:18:23.187Z"
   },
   {
    "duration": 16,
    "start_time": "2022-06-07T13:18:23.311Z"
   },
   {
    "duration": 292,
    "start_time": "2022-06-07T13:18:23.328Z"
   },
   {
    "duration": 373,
    "start_time": "2022-06-07T13:18:23.626Z"
   },
   {
    "duration": 426,
    "start_time": "2022-06-07T13:18:24.001Z"
   },
   {
    "duration": 283,
    "start_time": "2022-06-07T13:18:24.428Z"
   },
   {
    "duration": 422,
    "start_time": "2022-06-07T13:18:24.713Z"
   },
   {
    "duration": 166,
    "start_time": "2022-06-07T13:18:25.136Z"
   },
   {
    "duration": 4,
    "start_time": "2022-06-07T13:18:25.304Z"
   },
   {
    "duration": 176,
    "start_time": "2022-06-07T13:18:25.310Z"
   },
   {
    "duration": 9,
    "start_time": "2022-06-07T13:18:25.487Z"
   },
   {
    "duration": 8,
    "start_time": "2022-06-07T13:18:25.498Z"
   },
   {
    "duration": 213,
    "start_time": "2022-06-07T13:18:25.508Z"
   },
   {
    "duration": 154,
    "start_time": "2022-06-07T13:18:25.727Z"
   },
   {
    "duration": 5,
    "start_time": "2022-06-07T13:18:25.883Z"
   },
   {
    "duration": 6,
    "start_time": "2022-06-07T13:18:25.892Z"
   },
   {
    "duration": 28,
    "start_time": "2022-06-07T13:18:25.899Z"
   },
   {
    "duration": 6,
    "start_time": "2022-06-07T13:18:25.928Z"
   },
   {
    "duration": 56,
    "start_time": "2022-06-07T13:18:25.935Z"
   },
   {
    "duration": 10,
    "start_time": "2022-06-07T13:18:25.992Z"
   },
   {
    "duration": 24,
    "start_time": "2022-06-07T13:18:26.003Z"
   },
   {
    "duration": 8,
    "start_time": "2022-06-07T13:18:26.028Z"
   },
   {
    "duration": 55,
    "start_time": "2022-06-07T13:18:26.037Z"
   },
   {
    "duration": 11,
    "start_time": "2022-06-07T13:18:26.093Z"
   },
   {
    "duration": 270,
    "start_time": "2022-06-07T13:18:26.106Z"
   },
   {
    "duration": 159,
    "start_time": "2022-06-07T13:18:26.378Z"
   },
   {
    "duration": 6,
    "start_time": "2022-06-07T13:18:26.538Z"
   },
   {
    "duration": 8,
    "start_time": "2022-06-07T13:18:26.546Z"
   },
   {
    "duration": 8,
    "start_time": "2022-06-07T13:18:26.555Z"
   },
   {
    "duration": 6,
    "start_time": "2022-06-07T13:18:26.564Z"
   },
   {
    "duration": 29,
    "start_time": "2022-06-07T13:18:26.571Z"
   },
   {
    "duration": 31,
    "start_time": "2022-06-07T13:18:26.602Z"
   },
   {
    "duration": 8,
    "start_time": "2022-06-07T13:18:26.635Z"
   },
   {
    "duration": 11,
    "start_time": "2022-06-07T13:18:26.645Z"
   },
   {
    "duration": 31,
    "start_time": "2022-06-07T13:18:26.658Z"
   },
   {
    "duration": 12,
    "start_time": "2022-06-07T13:18:26.691Z"
   },
   {
    "duration": 918,
    "start_time": "2022-06-10T07:20:19.889Z"
   },
   {
    "duration": 113,
    "start_time": "2022-06-10T07:20:20.809Z"
   },
   {
    "duration": 91,
    "start_time": "2022-06-10T07:20:20.924Z"
   },
   {
    "duration": 10,
    "start_time": "2022-06-10T07:20:21.017Z"
   },
   {
    "duration": 20,
    "start_time": "2022-06-10T07:20:21.028Z"
   },
   {
    "duration": 59,
    "start_time": "2022-06-10T07:20:21.050Z"
   },
   {
    "duration": 9,
    "start_time": "2022-06-10T07:20:21.110Z"
   },
   {
    "duration": 11,
    "start_time": "2022-06-10T07:20:21.120Z"
   },
   {
    "duration": 16,
    "start_time": "2022-06-10T07:20:21.133Z"
   },
   {
    "duration": 17,
    "start_time": "2022-06-10T07:20:21.152Z"
   },
   {
    "duration": 12,
    "start_time": "2022-06-10T07:20:21.171Z"
   },
   {
    "duration": 12,
    "start_time": "2022-06-10T07:20:21.185Z"
   },
   {
    "duration": 4,
    "start_time": "2022-06-10T07:20:21.199Z"
   },
   {
    "duration": 24,
    "start_time": "2022-06-10T07:20:21.204Z"
   },
   {
    "duration": 12,
    "start_time": "2022-06-10T07:20:21.229Z"
   },
   {
    "duration": 17,
    "start_time": "2022-06-10T07:20:21.242Z"
   },
   {
    "duration": 15,
    "start_time": "2022-06-10T07:20:21.261Z"
   },
   {
    "duration": 4,
    "start_time": "2022-06-10T07:20:21.277Z"
   },
   {
    "duration": 15,
    "start_time": "2022-06-10T07:20:21.283Z"
   },
   {
    "duration": 32,
    "start_time": "2022-06-10T07:20:21.299Z"
   },
   {
    "duration": 17,
    "start_time": "2022-06-10T07:20:21.333Z"
   },
   {
    "duration": 11,
    "start_time": "2022-06-10T07:20:21.352Z"
   },
   {
    "duration": 20,
    "start_time": "2022-06-10T07:20:21.365Z"
   },
   {
    "duration": 11,
    "start_time": "2022-06-10T07:20:21.386Z"
   },
   {
    "duration": 30,
    "start_time": "2022-06-10T07:20:21.398Z"
   },
   {
    "duration": 11,
    "start_time": "2022-06-10T07:20:21.429Z"
   },
   {
    "duration": 17,
    "start_time": "2022-06-10T07:20:21.442Z"
   },
   {
    "duration": 4,
    "start_time": "2022-06-10T07:20:21.463Z"
   },
   {
    "duration": 151,
    "start_time": "2022-06-10T07:20:21.469Z"
   },
   {
    "duration": 12,
    "start_time": "2022-06-10T07:20:21.622Z"
   },
   {
    "duration": 122,
    "start_time": "2022-06-10T07:20:21.636Z"
   },
   {
    "duration": 12,
    "start_time": "2022-06-10T07:20:21.760Z"
   },
   {
    "duration": 294,
    "start_time": "2022-06-10T07:20:21.773Z"
   },
   {
    "duration": 281,
    "start_time": "2022-06-10T07:20:22.069Z"
   },
   {
    "duration": 359,
    "start_time": "2022-06-10T07:20:22.352Z"
   },
   {
    "duration": 291,
    "start_time": "2022-06-10T07:20:22.713Z"
   },
   {
    "duration": 415,
    "start_time": "2022-06-10T07:20:23.005Z"
   },
   {
    "duration": 163,
    "start_time": "2022-06-10T07:20:23.421Z"
   },
   {
    "duration": 4,
    "start_time": "2022-06-10T07:20:23.585Z"
   },
   {
    "duration": 157,
    "start_time": "2022-06-10T07:20:23.590Z"
   },
   {
    "duration": 7,
    "start_time": "2022-06-10T07:20:23.749Z"
   },
   {
    "duration": 5,
    "start_time": "2022-06-10T07:20:23.758Z"
   },
   {
    "duration": 342,
    "start_time": "2022-06-10T07:20:23.765Z"
   },
   {
    "duration": 129,
    "start_time": "2022-06-10T07:20:24.109Z"
   },
   {
    "duration": 30,
    "start_time": "2022-06-10T07:20:24.239Z"
   },
   {
    "duration": 30,
    "start_time": "2022-06-10T07:20:24.270Z"
   },
   {
    "duration": 145,
    "start_time": "2022-06-10T07:20:24.301Z"
   },
   {
    "duration": 137,
    "start_time": "2022-06-10T07:20:24.448Z"
   },
   {
    "duration": 5824,
    "start_time": "2022-06-10T07:20:24.586Z"
   },
   {
    "duration": 19,
    "start_time": "2022-06-10T07:20:30.412Z"
   },
   {
    "duration": 35,
    "start_time": "2022-06-10T07:20:30.432Z"
   },
   {
    "duration": 150,
    "start_time": "2022-06-10T07:20:30.468Z"
   },
   {
    "duration": 5950,
    "start_time": "2022-06-10T07:20:30.620Z"
   },
   {
    "duration": 13,
    "start_time": "2022-06-10T07:20:36.572Z"
   },
   {
    "duration": 222,
    "start_time": "2022-06-10T07:20:36.587Z"
   },
   {
    "duration": 153,
    "start_time": "2022-06-10T07:20:36.810Z"
   },
   {
    "duration": 6,
    "start_time": "2022-06-10T07:20:36.965Z"
   },
   {
    "duration": 9,
    "start_time": "2022-06-10T07:20:36.972Z"
   },
   {
    "duration": 6,
    "start_time": "2022-06-10T07:20:36.983Z"
   },
   {
    "duration": 7,
    "start_time": "2022-06-10T07:20:36.990Z"
   },
   {
    "duration": 42,
    "start_time": "2022-06-10T07:20:36.998Z"
   },
   {
    "duration": 9,
    "start_time": "2022-06-10T07:20:37.041Z"
   },
   {
    "duration": 8,
    "start_time": "2022-06-10T07:20:37.051Z"
   },
   {
    "duration": 8,
    "start_time": "2022-06-10T07:20:37.060Z"
   },
   {
    "duration": 24,
    "start_time": "2022-06-10T07:20:37.070Z"
   },
   {
    "duration": 35,
    "start_time": "2022-06-10T07:20:37.095Z"
   },
   {
    "duration": 1019,
    "start_time": "2022-06-10T07:24:16.974Z"
   },
   {
    "duration": 80,
    "start_time": "2022-06-10T07:24:17.995Z"
   },
   {
    "duration": 46,
    "start_time": "2022-06-10T07:24:18.076Z"
   },
   {
    "duration": 10,
    "start_time": "2022-06-10T07:24:18.123Z"
   },
   {
    "duration": 14,
    "start_time": "2022-06-10T07:24:18.135Z"
   },
   {
    "duration": 27,
    "start_time": "2022-06-10T07:24:18.150Z"
   },
   {
    "duration": 8,
    "start_time": "2022-06-10T07:24:18.178Z"
   },
   {
    "duration": 10,
    "start_time": "2022-06-10T07:24:18.188Z"
   },
   {
    "duration": 15,
    "start_time": "2022-06-10T07:24:18.199Z"
   },
   {
    "duration": 15,
    "start_time": "2022-06-10T07:24:18.217Z"
   },
   {
    "duration": 12,
    "start_time": "2022-06-10T07:24:18.234Z"
   },
   {
    "duration": 15,
    "start_time": "2022-06-10T07:24:18.248Z"
   },
   {
    "duration": 4,
    "start_time": "2022-06-10T07:24:18.264Z"
   },
   {
    "duration": 6,
    "start_time": "2022-06-10T07:24:18.270Z"
   },
   {
    "duration": 13,
    "start_time": "2022-06-10T07:24:18.277Z"
   },
   {
    "duration": 11,
    "start_time": "2022-06-10T07:24:18.292Z"
   },
   {
    "duration": 33,
    "start_time": "2022-06-10T07:24:18.304Z"
   },
   {
    "duration": 4,
    "start_time": "2022-06-10T07:24:18.339Z"
   },
   {
    "duration": 11,
    "start_time": "2022-06-10T07:24:18.344Z"
   },
   {
    "duration": 18,
    "start_time": "2022-06-10T07:24:18.356Z"
   },
   {
    "duration": 12,
    "start_time": "2022-06-10T07:24:18.375Z"
   },
   {
    "duration": 14,
    "start_time": "2022-06-10T07:24:18.388Z"
   },
   {
    "duration": 34,
    "start_time": "2022-06-10T07:24:18.403Z"
   },
   {
    "duration": 14,
    "start_time": "2022-06-10T07:24:18.439Z"
   },
   {
    "duration": 20,
    "start_time": "2022-06-10T07:24:18.455Z"
   },
   {
    "duration": 11,
    "start_time": "2022-06-10T07:24:18.476Z"
   },
   {
    "duration": 13,
    "start_time": "2022-06-10T07:24:18.488Z"
   },
   {
    "duration": 5,
    "start_time": "2022-06-10T07:24:18.504Z"
   },
   {
    "duration": 157,
    "start_time": "2022-06-10T07:24:18.510Z"
   },
   {
    "duration": 10,
    "start_time": "2022-06-10T07:24:18.669Z"
   },
   {
    "duration": 118,
    "start_time": "2022-06-10T07:24:18.681Z"
   },
   {
    "duration": 14,
    "start_time": "2022-06-10T07:24:18.800Z"
   },
   {
    "duration": 297,
    "start_time": "2022-06-10T07:24:18.816Z"
   },
   {
    "duration": 299,
    "start_time": "2022-06-10T07:24:19.115Z"
   },
   {
    "duration": 404,
    "start_time": "2022-06-10T07:24:19.416Z"
   },
   {
    "duration": 280,
    "start_time": "2022-06-10T07:24:19.827Z"
   },
   {
    "duration": 399,
    "start_time": "2022-06-10T07:24:20.109Z"
   },
   {
    "duration": 163,
    "start_time": "2022-06-10T07:24:20.510Z"
   },
   {
    "duration": 4,
    "start_time": "2022-06-10T07:24:20.675Z"
   },
   {
    "duration": 163,
    "start_time": "2022-06-10T07:24:20.681Z"
   },
   {
    "duration": 9,
    "start_time": "2022-06-10T07:24:20.845Z"
   },
   {
    "duration": 5,
    "start_time": "2022-06-10T07:24:20.856Z"
   },
   {
    "duration": 606,
    "start_time": "2022-06-10T07:24:20.863Z"
   },
   {
    "duration": 226,
    "start_time": "2022-06-10T07:24:21.528Z"
   },
   {
    "duration": 30,
    "start_time": "2022-06-10T07:24:21.755Z"
   },
   {
    "duration": 68,
    "start_time": "2022-06-10T07:24:21.787Z"
   },
   {
    "duration": 170,
    "start_time": "2022-06-10T07:24:21.858Z"
   },
   {
    "duration": 137,
    "start_time": "2022-06-10T07:24:22.030Z"
   },
   {
    "duration": 5921,
    "start_time": "2022-06-10T07:24:22.168Z"
   },
   {
    "duration": 9,
    "start_time": "2022-06-10T07:24:28.091Z"
   },
   {
    "duration": 13,
    "start_time": "2022-06-10T07:24:28.102Z"
   },
   {
    "duration": 136,
    "start_time": "2022-06-10T07:24:28.126Z"
   },
   {
    "duration": 996,
    "start_time": "2022-06-10T07:24:34.898Z"
   },
   {
    "duration": 83,
    "start_time": "2022-06-10T07:24:35.896Z"
   },
   {
    "duration": 50,
    "start_time": "2022-06-10T07:24:35.980Z"
   },
   {
    "duration": 10,
    "start_time": "2022-06-10T07:24:36.032Z"
   },
   {
    "duration": 11,
    "start_time": "2022-06-10T07:24:36.043Z"
   },
   {
    "duration": 21,
    "start_time": "2022-06-10T07:24:36.055Z"
   },
   {
    "duration": 9,
    "start_time": "2022-06-10T07:24:36.077Z"
   },
   {
    "duration": 14,
    "start_time": "2022-06-10T07:24:36.087Z"
   },
   {
    "duration": 14,
    "start_time": "2022-06-10T07:24:36.102Z"
   },
   {
    "duration": 15,
    "start_time": "2022-06-10T07:24:36.126Z"
   },
   {
    "duration": 17,
    "start_time": "2022-06-10T07:24:36.142Z"
   },
   {
    "duration": 10,
    "start_time": "2022-06-10T07:24:36.160Z"
   },
   {
    "duration": 9,
    "start_time": "2022-06-10T07:24:36.171Z"
   },
   {
    "duration": 17,
    "start_time": "2022-06-10T07:24:36.182Z"
   },
   {
    "duration": 21,
    "start_time": "2022-06-10T07:24:36.201Z"
   },
   {
    "duration": 18,
    "start_time": "2022-06-10T07:24:36.228Z"
   },
   {
    "duration": 13,
    "start_time": "2022-06-10T07:24:36.248Z"
   },
   {
    "duration": 5,
    "start_time": "2022-06-10T07:24:36.264Z"
   },
   {
    "duration": 18,
    "start_time": "2022-06-10T07:24:36.271Z"
   },
   {
    "duration": 37,
    "start_time": "2022-06-10T07:24:36.291Z"
   },
   {
    "duration": 22,
    "start_time": "2022-06-10T07:24:36.330Z"
   },
   {
    "duration": 23,
    "start_time": "2022-06-10T07:24:36.353Z"
   },
   {
    "duration": 40,
    "start_time": "2022-06-10T07:24:36.378Z"
   },
   {
    "duration": 25,
    "start_time": "2022-06-10T07:24:36.420Z"
   },
   {
    "duration": 16,
    "start_time": "2022-06-10T07:24:36.446Z"
   },
   {
    "duration": 23,
    "start_time": "2022-06-10T07:24:36.464Z"
   },
   {
    "duration": 18,
    "start_time": "2022-06-10T07:24:36.488Z"
   },
   {
    "duration": 7,
    "start_time": "2022-06-10T07:24:36.510Z"
   },
   {
    "duration": 158,
    "start_time": "2022-06-10T07:24:36.518Z"
   },
   {
    "duration": 8,
    "start_time": "2022-06-10T07:24:36.678Z"
   },
   {
    "duration": 113,
    "start_time": "2022-06-10T07:24:36.688Z"
   },
   {
    "duration": 17,
    "start_time": "2022-06-10T07:24:36.803Z"
   },
   {
    "duration": 305,
    "start_time": "2022-06-10T07:24:36.822Z"
   },
   {
    "duration": 316,
    "start_time": "2022-06-10T07:24:37.128Z"
   },
   {
    "duration": 365,
    "start_time": "2022-06-10T07:24:37.447Z"
   },
   {
    "duration": 277,
    "start_time": "2022-06-10T07:24:37.814Z"
   },
   {
    "duration": 401,
    "start_time": "2022-06-10T07:24:38.093Z"
   },
   {
    "duration": 164,
    "start_time": "2022-06-10T07:24:38.496Z"
   },
   {
    "duration": 4,
    "start_time": "2022-06-10T07:24:38.661Z"
   },
   {
    "duration": 151,
    "start_time": "2022-06-10T07:24:38.666Z"
   },
   {
    "duration": 10,
    "start_time": "2022-06-10T07:24:38.826Z"
   },
   {
    "duration": 9,
    "start_time": "2022-06-10T07:24:38.837Z"
   },
   {
    "duration": 334,
    "start_time": "2022-06-10T07:24:38.847Z"
   },
   {
    "duration": 114,
    "start_time": "2022-06-10T07:24:39.182Z"
   },
   {
    "duration": 39,
    "start_time": "2022-06-10T07:24:39.297Z"
   },
   {
    "duration": 30,
    "start_time": "2022-06-10T07:24:39.338Z"
   },
   {
    "duration": 142,
    "start_time": "2022-06-10T07:24:39.369Z"
   },
   {
    "duration": 136,
    "start_time": "2022-06-10T07:24:39.512Z"
   },
   {
    "duration": 5727,
    "start_time": "2022-06-10T07:24:39.650Z"
   },
   {
    "duration": 9,
    "start_time": "2022-06-10T07:24:45.378Z"
   },
   {
    "duration": 12,
    "start_time": "2022-06-10T07:24:45.388Z"
   },
   {
    "duration": 145,
    "start_time": "2022-06-10T07:24:45.401Z"
   },
   {
    "duration": 5821,
    "start_time": "2022-06-10T07:24:45.547Z"
   },
   {
    "duration": 11,
    "start_time": "2022-06-10T07:24:51.370Z"
   },
   {
    "duration": 206,
    "start_time": "2022-06-10T07:24:51.383Z"
   },
   {
    "duration": 125,
    "start_time": "2022-06-10T07:24:51.591Z"
   },
   {
    "duration": 11,
    "start_time": "2022-06-10T07:24:51.717Z"
   },
   {
    "duration": 6,
    "start_time": "2022-06-10T07:24:51.729Z"
   },
   {
    "duration": 11,
    "start_time": "2022-06-10T07:24:51.736Z"
   },
   {
    "duration": 5,
    "start_time": "2022-06-10T07:24:51.748Z"
   },
   {
    "duration": 26,
    "start_time": "2022-06-10T07:24:51.755Z"
   },
   {
    "duration": 9,
    "start_time": "2022-06-10T07:24:51.783Z"
   },
   {
    "duration": 19,
    "start_time": "2022-06-10T07:24:51.794Z"
   },
   {
    "duration": 8,
    "start_time": "2022-06-10T07:24:51.828Z"
   },
   {
    "duration": 28,
    "start_time": "2022-06-10T07:24:51.837Z"
   },
   {
    "duration": 13,
    "start_time": "2022-06-10T07:24:51.866Z"
   },
   {
    "duration": 1135,
    "start_time": "2022-09-19T12:47:37.322Z"
   },
   {
    "duration": 122,
    "start_time": "2022-09-19T12:47:38.459Z"
   },
   {
    "duration": 94,
    "start_time": "2022-09-19T12:47:38.582Z"
   },
   {
    "duration": 9,
    "start_time": "2022-09-19T12:47:38.678Z"
   },
   {
    "duration": 17,
    "start_time": "2022-09-19T12:47:38.689Z"
   },
   {
    "duration": 76,
    "start_time": "2022-09-19T12:47:38.707Z"
   },
   {
    "duration": 9,
    "start_time": "2022-09-19T12:47:38.784Z"
   },
   {
    "duration": 22,
    "start_time": "2022-09-19T12:47:38.794Z"
   },
   {
    "duration": 43,
    "start_time": "2022-09-19T12:47:38.817Z"
   },
   {
    "duration": 25,
    "start_time": "2022-09-19T12:47:38.862Z"
   },
   {
    "duration": 30,
    "start_time": "2022-09-19T12:47:38.889Z"
   },
   {
    "duration": 30,
    "start_time": "2022-09-19T12:47:38.921Z"
   },
   {
    "duration": 5,
    "start_time": "2022-09-19T12:47:38.953Z"
   },
   {
    "duration": 7,
    "start_time": "2022-09-19T12:47:38.961Z"
   },
   {
    "duration": 17,
    "start_time": "2022-09-19T12:47:38.970Z"
   },
   {
    "duration": 25,
    "start_time": "2022-09-19T12:47:38.988Z"
   },
   {
    "duration": 50,
    "start_time": "2022-09-19T12:47:39.015Z"
   },
   {
    "duration": 13,
    "start_time": "2022-09-19T12:47:39.067Z"
   },
   {
    "duration": 50,
    "start_time": "2022-09-19T12:47:39.082Z"
   },
   {
    "duration": 35,
    "start_time": "2022-09-19T12:47:39.134Z"
   },
   {
    "duration": 38,
    "start_time": "2022-09-19T12:47:39.170Z"
   },
   {
    "duration": 19,
    "start_time": "2022-09-19T12:47:39.210Z"
   },
   {
    "duration": 40,
    "start_time": "2022-09-19T12:47:39.231Z"
   },
   {
    "duration": 10,
    "start_time": "2022-09-19T12:47:39.273Z"
   },
   {
    "duration": 12,
    "start_time": "2022-09-19T12:47:39.285Z"
   },
   {
    "duration": 12,
    "start_time": "2022-09-19T12:47:39.298Z"
   },
   {
    "duration": 33,
    "start_time": "2022-09-19T12:47:39.311Z"
   },
   {
    "duration": 5,
    "start_time": "2022-09-19T12:47:39.345Z"
   },
   {
    "duration": 146,
    "start_time": "2022-09-19T12:47:39.352Z"
   },
   {
    "duration": 9,
    "start_time": "2022-09-19T12:47:39.499Z"
   },
   {
    "duration": 119,
    "start_time": "2022-09-19T12:47:39.509Z"
   },
   {
    "duration": 24,
    "start_time": "2022-09-19T12:47:39.630Z"
   },
   {
    "duration": 316,
    "start_time": "2022-09-19T12:47:39.655Z"
   },
   {
    "duration": 306,
    "start_time": "2022-09-19T12:47:39.973Z"
   },
   {
    "duration": 372,
    "start_time": "2022-09-19T12:47:40.281Z"
   },
   {
    "duration": 304,
    "start_time": "2022-09-19T12:47:40.654Z"
   },
   {
    "duration": 431,
    "start_time": "2022-09-19T12:47:40.959Z"
   },
   {
    "duration": 184,
    "start_time": "2022-09-19T12:47:41.391Z"
   },
   {
    "duration": 4,
    "start_time": "2022-09-19T12:47:41.576Z"
   },
   {
    "duration": 180,
    "start_time": "2022-09-19T12:47:41.582Z"
   },
   {
    "duration": 7,
    "start_time": "2022-09-19T12:47:41.766Z"
   },
   {
    "duration": 17,
    "start_time": "2022-09-19T12:47:41.775Z"
   },
   {
    "duration": 399,
    "start_time": "2022-09-19T12:47:41.793Z"
   },
   {
    "duration": 138,
    "start_time": "2022-09-19T12:47:42.193Z"
   },
   {
    "duration": 30,
    "start_time": "2022-09-19T12:47:42.333Z"
   },
   {
    "duration": 29,
    "start_time": "2022-09-19T12:47:42.365Z"
   },
   {
    "duration": 157,
    "start_time": "2022-09-19T12:47:42.396Z"
   },
   {
    "duration": 133,
    "start_time": "2022-09-19T12:47:42.554Z"
   },
   {
    "duration": 6371,
    "start_time": "2022-09-19T12:47:42.689Z"
   },
   {
    "duration": 11,
    "start_time": "2022-09-19T12:47:49.062Z"
   },
   {
    "duration": 11,
    "start_time": "2022-09-19T12:47:49.075Z"
   },
   {
    "duration": 172,
    "start_time": "2022-09-19T12:47:49.088Z"
   },
   {
    "duration": 6263,
    "start_time": "2022-09-19T12:47:49.261Z"
   },
   {
    "duration": 18,
    "start_time": "2022-09-19T12:47:55.525Z"
   },
   {
    "duration": 229,
    "start_time": "2022-09-19T12:47:55.544Z"
   },
   {
    "duration": 128,
    "start_time": "2022-09-19T12:47:55.775Z"
   },
   {
    "duration": 6,
    "start_time": "2022-09-19T12:47:55.905Z"
   },
   {
    "duration": 9,
    "start_time": "2022-09-19T12:47:55.922Z"
   },
   {
    "duration": 12,
    "start_time": "2022-09-19T12:47:55.933Z"
   },
   {
    "duration": 6,
    "start_time": "2022-09-19T12:47:55.946Z"
   },
   {
    "duration": 28,
    "start_time": "2022-09-19T12:47:55.954Z"
   },
   {
    "duration": 9,
    "start_time": "2022-09-19T12:47:55.984Z"
   },
   {
    "duration": 35,
    "start_time": "2022-09-19T12:47:55.995Z"
   },
   {
    "duration": 19,
    "start_time": "2022-09-19T12:47:56.032Z"
   },
   {
    "duration": 26,
    "start_time": "2022-09-19T12:47:56.053Z"
   },
   {
    "duration": 12,
    "start_time": "2022-09-19T12:47:56.081Z"
   }
  ],
  "kernelspec": {
   "display_name": "Python 3 (ipykernel)",
   "language": "python",
   "name": "python3"
  },
  "language_info": {
   "codemirror_mode": {
    "name": "ipython",
    "version": 3
   },
   "file_extension": ".py",
   "mimetype": "text/x-python",
   "name": "python",
   "nbconvert_exporter": "python",
   "pygments_lexer": "ipython3",
   "version": "3.9.7"
  },
  "toc": {
   "base_numbering": 1,
   "nav_menu": {},
   "number_sections": true,
   "sideBar": true,
   "skip_h1_title": true,
   "title_cell": "Table of Contents",
   "title_sidebar": "Contents",
   "toc_cell": false,
   "toc_position": {},
   "toc_section_display": true,
   "toc_window_display": false
  }
 },
 "nbformat": 4,
 "nbformat_minor": 5
}
