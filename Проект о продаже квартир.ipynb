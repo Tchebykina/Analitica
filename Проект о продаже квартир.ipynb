{
 "cells": [
  {
   "cell_type": "markdown",
   "metadata": {
    "toc": true
   },
   "source": [
    "<h1>Содержание<span class=\"tocSkip\"></span></h1>\n",
    "<div class=\"toc\"><ul class=\"toc-item\"><li><span><a href=\"#Изучение-данных-из-файла\" data-toc-modified-id=\"Изучение-данных-из-файла-1\"><span class=\"toc-item-num\">1&nbsp;&nbsp;</span>Изучение данных из файла</a></span><ul class=\"toc-item\"><li><span><a href=\"#Вывод\" data-toc-modified-id=\"Вывод-1.1\"><span class=\"toc-item-num\">1.1&nbsp;&nbsp;</span>Вывод</a></span></li></ul></li><li><span><a href=\"#Предобработка-данных\" data-toc-modified-id=\"Предобработка-данных-2\"><span class=\"toc-item-num\">2&nbsp;&nbsp;</span>Предобработка данных</a></span></li><li><span><a href=\"#Расчёты-и-добавление-результатов-в-таблицу\" data-toc-modified-id=\"Расчёты-и-добавление-результатов-в-таблицу-3\"><span class=\"toc-item-num\">3&nbsp;&nbsp;</span>Расчёты и добавление результатов в таблицу</a></span></li><li><span><a href=\"#Исследовательский-анализ-данных\" data-toc-modified-id=\"Исследовательский-анализ-данных-4\"><span class=\"toc-item-num\">4&nbsp;&nbsp;</span>Исследовательский анализ данных</a></span></li><li><span><a href=\"#Общий-вывод\" data-toc-modified-id=\"Общий-вывод-5\"><span class=\"toc-item-num\">5&nbsp;&nbsp;</span>Общий вывод</a></span></li><li><span><a href=\"#Чек-лист-готовности-проекта\" data-toc-modified-id=\"Чек-лист-готовности-проекта-6\"><span class=\"toc-item-num\">6&nbsp;&nbsp;</span>Чек-лист готовности проекта</a></span></li></ul></div>"
   ]
  },
  {
   "cell_type": "markdown",
   "metadata": {},
   "source": [
    "# Исследование объявлений о продаже квартир\n",
    "\n",
    "В вашем распоряжении данные сервиса Яндекc Недвижимость — архив объявлений о продаже квартир в Санкт-Петербурге и соседних населённых пунктах за несколько лет. Нужно научиться определять рыночную стоимость объектов недвижимости. Ваша задача — установить параметры. Это позволит построить автоматизированную систему: она отследит аномалии и мошенническую деятельность. \n",
    "\n",
    "По каждой квартире на продажу доступны два вида данных. Первые вписаны пользователем, вторые получены автоматически на основе картографических данных. Например, расстояние до центра, аэропорта, ближайшего парка и водоёма. \n",
    "\n",
    "В процессе изучения данных сделаем следущее:\n",
    "* Изучим данные из файла\n",
    "* Сделаем предобработку данных\n",
    "* Проведем дополнительные расчеты и добавим их\n",
    "* Исследуем анализ данных"
   ]
  },
  {
   "cell_type": "markdown",
   "metadata": {},
   "source": [
    "## Изучение данных из файла"
   ]
  },
  {
   "cell_type": "code",
   "execution_count": 1,
   "metadata": {
    "scrolled": false
   },
   "outputs": [
    {
     "data": {
      "text/html": [
       "<div>\n",
       "<style scoped>\n",
       "    .dataframe tbody tr th:only-of-type {\n",
       "        vertical-align: middle;\n",
       "    }\n",
       "\n",
       "    .dataframe tbody tr th {\n",
       "        vertical-align: top;\n",
       "    }\n",
       "\n",
       "    .dataframe thead th {\n",
       "        text-align: right;\n",
       "    }\n",
       "</style>\n",
       "<table border=\"1\" class=\"dataframe\">\n",
       "  <thead>\n",
       "    <tr style=\"text-align: right;\">\n",
       "      <th></th>\n",
       "      <th>total_images</th>\n",
       "      <th>last_price</th>\n",
       "      <th>total_area</th>\n",
       "      <th>first_day_exposition</th>\n",
       "      <th>rooms</th>\n",
       "      <th>ceiling_height</th>\n",
       "      <th>floors_total</th>\n",
       "      <th>living_area</th>\n",
       "      <th>floor</th>\n",
       "      <th>is_apartment</th>\n",
       "      <th>...</th>\n",
       "      <th>kitchen_area</th>\n",
       "      <th>balcony</th>\n",
       "      <th>locality_name</th>\n",
       "      <th>airports_nearest</th>\n",
       "      <th>cityCenters_nearest</th>\n",
       "      <th>parks_around3000</th>\n",
       "      <th>parks_nearest</th>\n",
       "      <th>ponds_around3000</th>\n",
       "      <th>ponds_nearest</th>\n",
       "      <th>days_exposition</th>\n",
       "    </tr>\n",
       "  </thead>\n",
       "  <tbody>\n",
       "    <tr>\n",
       "      <th>0</th>\n",
       "      <td>20</td>\n",
       "      <td>13000000.0</td>\n",
       "      <td>108.00</td>\n",
       "      <td>2019-03-07T00:00:00</td>\n",
       "      <td>3</td>\n",
       "      <td>2.70</td>\n",
       "      <td>16.0</td>\n",
       "      <td>51.00</td>\n",
       "      <td>8</td>\n",
       "      <td>NaN</td>\n",
       "      <td>...</td>\n",
       "      <td>25.00</td>\n",
       "      <td>NaN</td>\n",
       "      <td>Санкт-Петербург</td>\n",
       "      <td>18863.0</td>\n",
       "      <td>16028.0</td>\n",
       "      <td>1.0</td>\n",
       "      <td>482.0</td>\n",
       "      <td>2.0</td>\n",
       "      <td>755.0</td>\n",
       "      <td>NaN</td>\n",
       "    </tr>\n",
       "    <tr>\n",
       "      <th>1</th>\n",
       "      <td>7</td>\n",
       "      <td>3350000.0</td>\n",
       "      <td>40.40</td>\n",
       "      <td>2018-12-04T00:00:00</td>\n",
       "      <td>1</td>\n",
       "      <td>NaN</td>\n",
       "      <td>11.0</td>\n",
       "      <td>18.60</td>\n",
       "      <td>1</td>\n",
       "      <td>NaN</td>\n",
       "      <td>...</td>\n",
       "      <td>11.00</td>\n",
       "      <td>2.0</td>\n",
       "      <td>посёлок Шушары</td>\n",
       "      <td>12817.0</td>\n",
       "      <td>18603.0</td>\n",
       "      <td>0.0</td>\n",
       "      <td>NaN</td>\n",
       "      <td>0.0</td>\n",
       "      <td>NaN</td>\n",
       "      <td>81.0</td>\n",
       "    </tr>\n",
       "    <tr>\n",
       "      <th>2</th>\n",
       "      <td>10</td>\n",
       "      <td>5196000.0</td>\n",
       "      <td>56.00</td>\n",
       "      <td>2015-08-20T00:00:00</td>\n",
       "      <td>2</td>\n",
       "      <td>NaN</td>\n",
       "      <td>5.0</td>\n",
       "      <td>34.30</td>\n",
       "      <td>4</td>\n",
       "      <td>NaN</td>\n",
       "      <td>...</td>\n",
       "      <td>8.30</td>\n",
       "      <td>0.0</td>\n",
       "      <td>Санкт-Петербург</td>\n",
       "      <td>21741.0</td>\n",
       "      <td>13933.0</td>\n",
       "      <td>1.0</td>\n",
       "      <td>90.0</td>\n",
       "      <td>2.0</td>\n",
       "      <td>574.0</td>\n",
       "      <td>558.0</td>\n",
       "    </tr>\n",
       "    <tr>\n",
       "      <th>3</th>\n",
       "      <td>0</td>\n",
       "      <td>64900000.0</td>\n",
       "      <td>159.00</td>\n",
       "      <td>2015-07-24T00:00:00</td>\n",
       "      <td>3</td>\n",
       "      <td>NaN</td>\n",
       "      <td>14.0</td>\n",
       "      <td>NaN</td>\n",
       "      <td>9</td>\n",
       "      <td>NaN</td>\n",
       "      <td>...</td>\n",
       "      <td>NaN</td>\n",
       "      <td>0.0</td>\n",
       "      <td>Санкт-Петербург</td>\n",
       "      <td>28098.0</td>\n",
       "      <td>6800.0</td>\n",
       "      <td>2.0</td>\n",
       "      <td>84.0</td>\n",
       "      <td>3.0</td>\n",
       "      <td>234.0</td>\n",
       "      <td>424.0</td>\n",
       "    </tr>\n",
       "    <tr>\n",
       "      <th>4</th>\n",
       "      <td>2</td>\n",
       "      <td>10000000.0</td>\n",
       "      <td>100.00</td>\n",
       "      <td>2018-06-19T00:00:00</td>\n",
       "      <td>2</td>\n",
       "      <td>3.03</td>\n",
       "      <td>14.0</td>\n",
       "      <td>32.00</td>\n",
       "      <td>13</td>\n",
       "      <td>NaN</td>\n",
       "      <td>...</td>\n",
       "      <td>41.00</td>\n",
       "      <td>NaN</td>\n",
       "      <td>Санкт-Петербург</td>\n",
       "      <td>31856.0</td>\n",
       "      <td>8098.0</td>\n",
       "      <td>2.0</td>\n",
       "      <td>112.0</td>\n",
       "      <td>1.0</td>\n",
       "      <td>48.0</td>\n",
       "      <td>121.0</td>\n",
       "    </tr>\n",
       "    <tr>\n",
       "      <th>5</th>\n",
       "      <td>10</td>\n",
       "      <td>2890000.0</td>\n",
       "      <td>30.40</td>\n",
       "      <td>2018-09-10T00:00:00</td>\n",
       "      <td>1</td>\n",
       "      <td>NaN</td>\n",
       "      <td>12.0</td>\n",
       "      <td>14.40</td>\n",
       "      <td>5</td>\n",
       "      <td>NaN</td>\n",
       "      <td>...</td>\n",
       "      <td>9.10</td>\n",
       "      <td>NaN</td>\n",
       "      <td>городской посёлок Янино-1</td>\n",
       "      <td>NaN</td>\n",
       "      <td>NaN</td>\n",
       "      <td>NaN</td>\n",
       "      <td>NaN</td>\n",
       "      <td>NaN</td>\n",
       "      <td>NaN</td>\n",
       "      <td>55.0</td>\n",
       "    </tr>\n",
       "    <tr>\n",
       "      <th>6</th>\n",
       "      <td>6</td>\n",
       "      <td>3700000.0</td>\n",
       "      <td>37.30</td>\n",
       "      <td>2017-11-02T00:00:00</td>\n",
       "      <td>1</td>\n",
       "      <td>NaN</td>\n",
       "      <td>26.0</td>\n",
       "      <td>10.60</td>\n",
       "      <td>6</td>\n",
       "      <td>NaN</td>\n",
       "      <td>...</td>\n",
       "      <td>14.40</td>\n",
       "      <td>1.0</td>\n",
       "      <td>посёлок Парголово</td>\n",
       "      <td>52996.0</td>\n",
       "      <td>19143.0</td>\n",
       "      <td>0.0</td>\n",
       "      <td>NaN</td>\n",
       "      <td>0.0</td>\n",
       "      <td>NaN</td>\n",
       "      <td>155.0</td>\n",
       "    </tr>\n",
       "    <tr>\n",
       "      <th>7</th>\n",
       "      <td>5</td>\n",
       "      <td>7915000.0</td>\n",
       "      <td>71.60</td>\n",
       "      <td>2019-04-18T00:00:00</td>\n",
       "      <td>2</td>\n",
       "      <td>NaN</td>\n",
       "      <td>24.0</td>\n",
       "      <td>NaN</td>\n",
       "      <td>22</td>\n",
       "      <td>NaN</td>\n",
       "      <td>...</td>\n",
       "      <td>18.90</td>\n",
       "      <td>2.0</td>\n",
       "      <td>Санкт-Петербург</td>\n",
       "      <td>23982.0</td>\n",
       "      <td>11634.0</td>\n",
       "      <td>0.0</td>\n",
       "      <td>NaN</td>\n",
       "      <td>0.0</td>\n",
       "      <td>NaN</td>\n",
       "      <td>NaN</td>\n",
       "    </tr>\n",
       "    <tr>\n",
       "      <th>8</th>\n",
       "      <td>20</td>\n",
       "      <td>2900000.0</td>\n",
       "      <td>33.16</td>\n",
       "      <td>2018-05-23T00:00:00</td>\n",
       "      <td>1</td>\n",
       "      <td>NaN</td>\n",
       "      <td>27.0</td>\n",
       "      <td>15.43</td>\n",
       "      <td>26</td>\n",
       "      <td>NaN</td>\n",
       "      <td>...</td>\n",
       "      <td>8.81</td>\n",
       "      <td>NaN</td>\n",
       "      <td>посёлок Мурино</td>\n",
       "      <td>NaN</td>\n",
       "      <td>NaN</td>\n",
       "      <td>NaN</td>\n",
       "      <td>NaN</td>\n",
       "      <td>NaN</td>\n",
       "      <td>NaN</td>\n",
       "      <td>189.0</td>\n",
       "    </tr>\n",
       "    <tr>\n",
       "      <th>9</th>\n",
       "      <td>18</td>\n",
       "      <td>5400000.0</td>\n",
       "      <td>61.00</td>\n",
       "      <td>2017-02-26T00:00:00</td>\n",
       "      <td>3</td>\n",
       "      <td>2.50</td>\n",
       "      <td>9.0</td>\n",
       "      <td>43.60</td>\n",
       "      <td>7</td>\n",
       "      <td>NaN</td>\n",
       "      <td>...</td>\n",
       "      <td>6.50</td>\n",
       "      <td>2.0</td>\n",
       "      <td>Санкт-Петербург</td>\n",
       "      <td>50898.0</td>\n",
       "      <td>15008.0</td>\n",
       "      <td>0.0</td>\n",
       "      <td>NaN</td>\n",
       "      <td>0.0</td>\n",
       "      <td>NaN</td>\n",
       "      <td>289.0</td>\n",
       "    </tr>\n",
       "  </tbody>\n",
       "</table>\n",
       "<p>10 rows × 22 columns</p>\n",
       "</div>"
      ],
      "text/plain": [
       "   total_images  last_price  total_area first_day_exposition  rooms  \\\n",
       "0            20  13000000.0      108.00  2019-03-07T00:00:00      3   \n",
       "1             7   3350000.0       40.40  2018-12-04T00:00:00      1   \n",
       "2            10   5196000.0       56.00  2015-08-20T00:00:00      2   \n",
       "3             0  64900000.0      159.00  2015-07-24T00:00:00      3   \n",
       "4             2  10000000.0      100.00  2018-06-19T00:00:00      2   \n",
       "5            10   2890000.0       30.40  2018-09-10T00:00:00      1   \n",
       "6             6   3700000.0       37.30  2017-11-02T00:00:00      1   \n",
       "7             5   7915000.0       71.60  2019-04-18T00:00:00      2   \n",
       "8            20   2900000.0       33.16  2018-05-23T00:00:00      1   \n",
       "9            18   5400000.0       61.00  2017-02-26T00:00:00      3   \n",
       "\n",
       "   ceiling_height  floors_total  living_area  floor is_apartment  ...  \\\n",
       "0            2.70          16.0        51.00      8          NaN  ...   \n",
       "1             NaN          11.0        18.60      1          NaN  ...   \n",
       "2             NaN           5.0        34.30      4          NaN  ...   \n",
       "3             NaN          14.0          NaN      9          NaN  ...   \n",
       "4            3.03          14.0        32.00     13          NaN  ...   \n",
       "5             NaN          12.0        14.40      5          NaN  ...   \n",
       "6             NaN          26.0        10.60      6          NaN  ...   \n",
       "7             NaN          24.0          NaN     22          NaN  ...   \n",
       "8             NaN          27.0        15.43     26          NaN  ...   \n",
       "9            2.50           9.0        43.60      7          NaN  ...   \n",
       "\n",
       "   kitchen_area  balcony              locality_name  airports_nearest  \\\n",
       "0         25.00      NaN            Санкт-Петербург           18863.0   \n",
       "1         11.00      2.0             посёлок Шушары           12817.0   \n",
       "2          8.30      0.0            Санкт-Петербург           21741.0   \n",
       "3           NaN      0.0            Санкт-Петербург           28098.0   \n",
       "4         41.00      NaN            Санкт-Петербург           31856.0   \n",
       "5          9.10      NaN  городской посёлок Янино-1               NaN   \n",
       "6         14.40      1.0          посёлок Парголово           52996.0   \n",
       "7         18.90      2.0            Санкт-Петербург           23982.0   \n",
       "8          8.81      NaN             посёлок Мурино               NaN   \n",
       "9          6.50      2.0            Санкт-Петербург           50898.0   \n",
       "\n",
       "  cityCenters_nearest  parks_around3000  parks_nearest  ponds_around3000  \\\n",
       "0             16028.0               1.0          482.0               2.0   \n",
       "1             18603.0               0.0            NaN               0.0   \n",
       "2             13933.0               1.0           90.0               2.0   \n",
       "3              6800.0               2.0           84.0               3.0   \n",
       "4              8098.0               2.0          112.0               1.0   \n",
       "5                 NaN               NaN            NaN               NaN   \n",
       "6             19143.0               0.0            NaN               0.0   \n",
       "7             11634.0               0.0            NaN               0.0   \n",
       "8                 NaN               NaN            NaN               NaN   \n",
       "9             15008.0               0.0            NaN               0.0   \n",
       "\n",
       "   ponds_nearest  days_exposition  \n",
       "0          755.0              NaN  \n",
       "1            NaN             81.0  \n",
       "2          574.0            558.0  \n",
       "3          234.0            424.0  \n",
       "4           48.0            121.0  \n",
       "5            NaN             55.0  \n",
       "6            NaN            155.0  \n",
       "7            NaN              NaN  \n",
       "8            NaN            189.0  \n",
       "9            NaN            289.0  \n",
       "\n",
       "[10 rows x 22 columns]"
      ]
     },
     "execution_count": 1,
     "metadata": {},
     "output_type": "execute_result"
    }
   ],
   "source": [
    "import pandas as pd\n",
    "import numpy as np\n",
    "import matplotlib.pyplot as plt\n",
    "data = pd.read_csv('/datasets/real_estate_data.csv', sep='\\t')\n",
    "data.head(10)"
   ]
  },
  {
   "cell_type": "code",
   "execution_count": 2,
   "metadata": {},
   "outputs": [
    {
     "data": {
      "text/plain": [
       "array([nan, False, True], dtype=object)"
      ]
     },
     "execution_count": 2,
     "metadata": {},
     "output_type": "execute_result"
    }
   ],
   "source": [
    "data['is_apartment'].unique()"
   ]
  },
  {
   "cell_type": "markdown",
   "metadata": {},
   "source": [
    "В таблице видим много значений NaN"
   ]
  },
  {
   "cell_type": "markdown",
   "metadata": {},
   "source": [
    "Выведем общую информацию о датафрейме:"
   ]
  },
  {
   "cell_type": "code",
   "execution_count": 3,
   "metadata": {},
   "outputs": [
    {
     "data": {
      "text/html": [
       "<div>\n",
       "<style scoped>\n",
       "    .dataframe tbody tr th:only-of-type {\n",
       "        vertical-align: middle;\n",
       "    }\n",
       "\n",
       "    .dataframe tbody tr th {\n",
       "        vertical-align: top;\n",
       "    }\n",
       "\n",
       "    .dataframe thead th {\n",
       "        text-align: right;\n",
       "    }\n",
       "</style>\n",
       "<table border=\"1\" class=\"dataframe\">\n",
       "  <thead>\n",
       "    <tr style=\"text-align: right;\">\n",
       "      <th></th>\n",
       "      <th>total_images</th>\n",
       "      <th>last_price</th>\n",
       "      <th>total_area</th>\n",
       "      <th>rooms</th>\n",
       "      <th>ceiling_height</th>\n",
       "      <th>floors_total</th>\n",
       "      <th>living_area</th>\n",
       "      <th>floor</th>\n",
       "      <th>kitchen_area</th>\n",
       "      <th>balcony</th>\n",
       "      <th>airports_nearest</th>\n",
       "      <th>cityCenters_nearest</th>\n",
       "      <th>parks_around3000</th>\n",
       "      <th>parks_nearest</th>\n",
       "      <th>ponds_around3000</th>\n",
       "      <th>ponds_nearest</th>\n",
       "      <th>days_exposition</th>\n",
       "    </tr>\n",
       "  </thead>\n",
       "  <tbody>\n",
       "    <tr>\n",
       "      <th>count</th>\n",
       "      <td>23699.000000</td>\n",
       "      <td>2.369900e+04</td>\n",
       "      <td>23699.000000</td>\n",
       "      <td>23699.000000</td>\n",
       "      <td>14504.000000</td>\n",
       "      <td>23613.000000</td>\n",
       "      <td>21796.000000</td>\n",
       "      <td>23699.000000</td>\n",
       "      <td>21421.000000</td>\n",
       "      <td>12180.000000</td>\n",
       "      <td>18157.000000</td>\n",
       "      <td>18180.000000</td>\n",
       "      <td>18181.000000</td>\n",
       "      <td>8079.000000</td>\n",
       "      <td>18181.000000</td>\n",
       "      <td>9110.000000</td>\n",
       "      <td>20518.000000</td>\n",
       "    </tr>\n",
       "    <tr>\n",
       "      <th>mean</th>\n",
       "      <td>9.858475</td>\n",
       "      <td>6.541549e+06</td>\n",
       "      <td>60.348651</td>\n",
       "      <td>2.070636</td>\n",
       "      <td>2.771499</td>\n",
       "      <td>10.673824</td>\n",
       "      <td>34.457852</td>\n",
       "      <td>5.892358</td>\n",
       "      <td>10.569807</td>\n",
       "      <td>1.150082</td>\n",
       "      <td>28793.672193</td>\n",
       "      <td>14191.277833</td>\n",
       "      <td>0.611408</td>\n",
       "      <td>490.804555</td>\n",
       "      <td>0.770255</td>\n",
       "      <td>517.980900</td>\n",
       "      <td>180.888634</td>\n",
       "    </tr>\n",
       "    <tr>\n",
       "      <th>std</th>\n",
       "      <td>5.682529</td>\n",
       "      <td>1.088701e+07</td>\n",
       "      <td>35.654083</td>\n",
       "      <td>1.078405</td>\n",
       "      <td>1.261056</td>\n",
       "      <td>6.597173</td>\n",
       "      <td>22.030445</td>\n",
       "      <td>4.885249</td>\n",
       "      <td>5.905438</td>\n",
       "      <td>1.071300</td>\n",
       "      <td>12630.880622</td>\n",
       "      <td>8608.386210</td>\n",
       "      <td>0.802074</td>\n",
       "      <td>342.317995</td>\n",
       "      <td>0.938346</td>\n",
       "      <td>277.720643</td>\n",
       "      <td>219.727988</td>\n",
       "    </tr>\n",
       "    <tr>\n",
       "      <th>min</th>\n",
       "      <td>0.000000</td>\n",
       "      <td>1.219000e+04</td>\n",
       "      <td>12.000000</td>\n",
       "      <td>0.000000</td>\n",
       "      <td>1.000000</td>\n",
       "      <td>1.000000</td>\n",
       "      <td>2.000000</td>\n",
       "      <td>1.000000</td>\n",
       "      <td>1.300000</td>\n",
       "      <td>0.000000</td>\n",
       "      <td>0.000000</td>\n",
       "      <td>181.000000</td>\n",
       "      <td>0.000000</td>\n",
       "      <td>1.000000</td>\n",
       "      <td>0.000000</td>\n",
       "      <td>13.000000</td>\n",
       "      <td>1.000000</td>\n",
       "    </tr>\n",
       "    <tr>\n",
       "      <th>25%</th>\n",
       "      <td>6.000000</td>\n",
       "      <td>3.400000e+06</td>\n",
       "      <td>40.000000</td>\n",
       "      <td>1.000000</td>\n",
       "      <td>2.520000</td>\n",
       "      <td>5.000000</td>\n",
       "      <td>18.600000</td>\n",
       "      <td>2.000000</td>\n",
       "      <td>7.000000</td>\n",
       "      <td>0.000000</td>\n",
       "      <td>18585.000000</td>\n",
       "      <td>9238.000000</td>\n",
       "      <td>0.000000</td>\n",
       "      <td>288.000000</td>\n",
       "      <td>0.000000</td>\n",
       "      <td>294.000000</td>\n",
       "      <td>45.000000</td>\n",
       "    </tr>\n",
       "    <tr>\n",
       "      <th>50%</th>\n",
       "      <td>9.000000</td>\n",
       "      <td>4.650000e+06</td>\n",
       "      <td>52.000000</td>\n",
       "      <td>2.000000</td>\n",
       "      <td>2.650000</td>\n",
       "      <td>9.000000</td>\n",
       "      <td>30.000000</td>\n",
       "      <td>4.000000</td>\n",
       "      <td>9.100000</td>\n",
       "      <td>1.000000</td>\n",
       "      <td>26726.000000</td>\n",
       "      <td>13098.500000</td>\n",
       "      <td>0.000000</td>\n",
       "      <td>455.000000</td>\n",
       "      <td>1.000000</td>\n",
       "      <td>502.000000</td>\n",
       "      <td>95.000000</td>\n",
       "    </tr>\n",
       "    <tr>\n",
       "      <th>75%</th>\n",
       "      <td>14.000000</td>\n",
       "      <td>6.800000e+06</td>\n",
       "      <td>69.900000</td>\n",
       "      <td>3.000000</td>\n",
       "      <td>2.800000</td>\n",
       "      <td>16.000000</td>\n",
       "      <td>42.300000</td>\n",
       "      <td>8.000000</td>\n",
       "      <td>12.000000</td>\n",
       "      <td>2.000000</td>\n",
       "      <td>37273.000000</td>\n",
       "      <td>16293.000000</td>\n",
       "      <td>1.000000</td>\n",
       "      <td>612.000000</td>\n",
       "      <td>1.000000</td>\n",
       "      <td>729.000000</td>\n",
       "      <td>232.000000</td>\n",
       "    </tr>\n",
       "    <tr>\n",
       "      <th>max</th>\n",
       "      <td>50.000000</td>\n",
       "      <td>7.630000e+08</td>\n",
       "      <td>900.000000</td>\n",
       "      <td>19.000000</td>\n",
       "      <td>100.000000</td>\n",
       "      <td>60.000000</td>\n",
       "      <td>409.700000</td>\n",
       "      <td>33.000000</td>\n",
       "      <td>112.000000</td>\n",
       "      <td>5.000000</td>\n",
       "      <td>84869.000000</td>\n",
       "      <td>65968.000000</td>\n",
       "      <td>3.000000</td>\n",
       "      <td>3190.000000</td>\n",
       "      <td>3.000000</td>\n",
       "      <td>1344.000000</td>\n",
       "      <td>1580.000000</td>\n",
       "    </tr>\n",
       "  </tbody>\n",
       "</table>\n",
       "</div>"
      ],
      "text/plain": [
       "       total_images    last_price    total_area         rooms  ceiling_height  \\\n",
       "count  23699.000000  2.369900e+04  23699.000000  23699.000000    14504.000000   \n",
       "mean       9.858475  6.541549e+06     60.348651      2.070636        2.771499   \n",
       "std        5.682529  1.088701e+07     35.654083      1.078405        1.261056   \n",
       "min        0.000000  1.219000e+04     12.000000      0.000000        1.000000   \n",
       "25%        6.000000  3.400000e+06     40.000000      1.000000        2.520000   \n",
       "50%        9.000000  4.650000e+06     52.000000      2.000000        2.650000   \n",
       "75%       14.000000  6.800000e+06     69.900000      3.000000        2.800000   \n",
       "max       50.000000  7.630000e+08    900.000000     19.000000      100.000000   \n",
       "\n",
       "       floors_total   living_area         floor  kitchen_area       balcony  \\\n",
       "count  23613.000000  21796.000000  23699.000000  21421.000000  12180.000000   \n",
       "mean      10.673824     34.457852      5.892358     10.569807      1.150082   \n",
       "std        6.597173     22.030445      4.885249      5.905438      1.071300   \n",
       "min        1.000000      2.000000      1.000000      1.300000      0.000000   \n",
       "25%        5.000000     18.600000      2.000000      7.000000      0.000000   \n",
       "50%        9.000000     30.000000      4.000000      9.100000      1.000000   \n",
       "75%       16.000000     42.300000      8.000000     12.000000      2.000000   \n",
       "max       60.000000    409.700000     33.000000    112.000000      5.000000   \n",
       "\n",
       "       airports_nearest  cityCenters_nearest  parks_around3000  parks_nearest  \\\n",
       "count      18157.000000         18180.000000      18181.000000    8079.000000   \n",
       "mean       28793.672193         14191.277833          0.611408     490.804555   \n",
       "std        12630.880622          8608.386210          0.802074     342.317995   \n",
       "min            0.000000           181.000000          0.000000       1.000000   \n",
       "25%        18585.000000          9238.000000          0.000000     288.000000   \n",
       "50%        26726.000000         13098.500000          0.000000     455.000000   \n",
       "75%        37273.000000         16293.000000          1.000000     612.000000   \n",
       "max        84869.000000         65968.000000          3.000000    3190.000000   \n",
       "\n",
       "       ponds_around3000  ponds_nearest  days_exposition  \n",
       "count      18181.000000    9110.000000     20518.000000  \n",
       "mean           0.770255     517.980900       180.888634  \n",
       "std            0.938346     277.720643       219.727988  \n",
       "min            0.000000      13.000000         1.000000  \n",
       "25%            0.000000     294.000000        45.000000  \n",
       "50%            1.000000     502.000000        95.000000  \n",
       "75%            1.000000     729.000000       232.000000  \n",
       "max            3.000000    1344.000000      1580.000000  "
      ]
     },
     "execution_count": 3,
     "metadata": {},
     "output_type": "execute_result"
    }
   ],
   "source": [
    "data.describe()"
   ]
  },
  {
   "cell_type": "markdown",
   "metadata": {},
   "source": [
    "Посмотрим пропуски:"
   ]
  },
  {
   "cell_type": "code",
   "execution_count": 4,
   "metadata": {},
   "outputs": [
    {
     "name": "stdout",
     "output_type": "stream",
     "text": [
      "<class 'pandas.core.frame.DataFrame'>\n",
      "RangeIndex: 23699 entries, 0 to 23698\n",
      "Data columns (total 22 columns):\n",
      " #   Column                Non-Null Count  Dtype  \n",
      "---  ------                --------------  -----  \n",
      " 0   total_images          23699 non-null  int64  \n",
      " 1   last_price            23699 non-null  float64\n",
      " 2   total_area            23699 non-null  float64\n",
      " 3   first_day_exposition  23699 non-null  object \n",
      " 4   rooms                 23699 non-null  int64  \n",
      " 5   ceiling_height        14504 non-null  float64\n",
      " 6   floors_total          23613 non-null  float64\n",
      " 7   living_area           21796 non-null  float64\n",
      " 8   floor                 23699 non-null  int64  \n",
      " 9   is_apartment          2775 non-null   object \n",
      " 10  studio                23699 non-null  bool   \n",
      " 11  open_plan             23699 non-null  bool   \n",
      " 12  kitchen_area          21421 non-null  float64\n",
      " 13  balcony               12180 non-null  float64\n",
      " 14  locality_name         23650 non-null  object \n",
      " 15  airports_nearest      18157 non-null  float64\n",
      " 16  cityCenters_nearest   18180 non-null  float64\n",
      " 17  parks_around3000      18181 non-null  float64\n",
      " 18  parks_nearest         8079 non-null   float64\n",
      " 19  ponds_around3000      18181 non-null  float64\n",
      " 20  ponds_nearest         9110 non-null   float64\n",
      " 21  days_exposition       20518 non-null  float64\n",
      "dtypes: bool(2), float64(14), int64(3), object(3)\n",
      "memory usage: 3.7+ MB\n"
     ]
    }
   ],
   "source": [
    "data.info()"
   ]
  },
  {
   "cell_type": "markdown",
   "metadata": {},
   "source": [
    "NaN ,большое количество."
   ]
  },
  {
   "cell_type": "markdown",
   "metadata": {},
   "source": [
    "### Вывод"
   ]
  },
  {
   "cell_type": "markdown",
   "metadata": {},
   "source": [
    "is_apartment - можно предположить, что \"нет данных\" там, где ответ - \"0\", т.е. это не апартаменты. Причиной может быть следующее:  люди особо не знают разницы между апартаментами и квартирами,  люди, которые продавали квартиры, при заполнении формы для создания объявления просто пропускали этот пункт, т.к. особо не понимали, что их спрашивали. И наоборот, владельцы апартаментов точно в курсе, что у них апартаменты (раз уж они их приобрели, значит, они разбираются в этом вопросе), поэтому по ним данные оказались заполненными. Взглянем на то, какие значения присутствуют. И решим, что с ними делать\n",
    "\n",
    "parks_nearest, ponds_nearest - Эти данные не самые важные параметры,поэтому их просто могли пропустить, предлагаю здесь не трогать пропуски, т.к отсутствие возможности проставить какое-либо адекватные расстояние, которое не испортит статистику по уже присутствующим данным по этим столбцам,  учитывая, что есть достаточное количество строк, где данные присутствуют;\n",
    "\n",
    "balcony - вполне возможно, что где балкон отсутствует, там вместо 0 стоит NaN. Необходимо проверить, действительно ли по столбцу balcony присутствует только значение \"1\", говорящее, что балкон есть, а \"0\" - отсутствует;\n",
    "\n",
    "ceiling_height -   некоторые не считают это обязательным для заполнения пунктом,так как не знают высоту своих потолков, иначе бы данные присутствовали.   пропуски можно заполнить медианой ceiling_height по столбцу.\n",
    "\n",
    "days_exposition -  Информация может отсутствовать,  по причине того, что неизвестно когда было закрыто объявление о продаже, т.е., фактически, сделка была совершена, но не была закрыта на онлайн-ресурсе. По той же причине можем получить результаты в виде срока продажи квартиры в несколько лет. Взять средний параметр или медиану не совсем правильно. Так как время продажи квартиры, это не средний возраст. Пропуски оставляем как есть\n",
    "\n",
    "По airports_nearest, cityCenters_nearest: данные  полученыавтоматически на основе картографических данных. Они могут отустствовать по причине того, что относительно конкретно взятого населенного пункта  расстояние искались в определенном радиусе. Если в пределах этого радиуса нет аэропорта или парков , то указать в этом столбце системе было нечего. Оставляем как есть.\n",
    "\n",
    "По parks_around3000, ponds_around3000: аналогично как и с parks_nearest и ponds_nearest - данные просто не были заполнены. Пропуски в них не трогаем;\n",
    "\n",
    "kitchen_area, living_area - данные, которые могут быть не заполнены просто по той причине, что они не обязательны к заполнению,  потому что если квартира - студия, то там отсутствуют эти данные. Ведь в них нет явного деления площади на ту, которая относится к кухне, и ту, которая относится к жилой площади;\n",
    "\n",
    "floors_total - Эти данные не обязательны к заполнению  при продаже квартиры, люди больше смотрят на этаж где находится квартира. Посмотрим сколько значений всего и  предлагаю заменить эти данные медианой.\n",
    "\n",
    "locality_name -  странно конечно, когда не указывают населенный пункт. Но можно предположить, что когда выставляют квартиру на продажу в разделе сайта \"Санкт-Петербург\", то и квартира в Санкт-Петербурге. Тем не менее, заполним данные только по тем строкам, где указано расстояние до центра. Протяжённость Петербурга в административных границах: с севера на юг в пределах КАД — 32 км. Возмем радиус, тоесть будем учитывать, только те объявления где расстояния до центра не более 16 км.\n",
    "\n"
   ]
  },
  {
   "cell_type": "markdown",
   "metadata": {},
   "source": [
    "## Предобработка данных"
   ]
  },
  {
   "cell_type": "markdown",
   "metadata": {},
   "source": [
    "* выведем какие значения столбца \"is_apartment\" "
   ]
  },
  {
   "cell_type": "code",
   "execution_count": 5,
   "metadata": {},
   "outputs": [
    {
     "name": "stdout",
     "output_type": "stream",
     "text": [
      "Количество NaN в столбце is_apartment: 20924\n"
     ]
    },
    {
     "data": {
      "text/plain": [
       "False    2725\n",
       "True       50\n",
       "Name: is_apartment, dtype: int64"
      ]
     },
     "execution_count": 5,
     "metadata": {},
     "output_type": "execute_result"
    }
   ],
   "source": [
    "print('Количество NaN в столбце is_apartment:', data['is_apartment'].isnull().sum())\n",
    "data['is_apartment'].value_counts()"
   ]
  },
  {
   "cell_type": "markdown",
   "metadata": {},
   "source": [
    "Присутствуют оба значения . \n",
    "Заполним пропуски значением False , т.к. в задании мы анализируем архив объявлений о продаже квартир. Всего 50 апартаментов, удалим эти строки. "
   ]
  },
  {
   "cell_type": "code",
   "execution_count": 6,
   "metadata": {},
   "outputs": [
    {
     "name": "stdout",
     "output_type": "stream",
     "text": [
      "Количество NaN в столбце is_apartment: 0\n",
      "False    23649\n",
      "Name: is_apartment, dtype: int64\n"
     ]
    }
   ],
   "source": [
    "data['is_apartment'] = data['is_apartment'].fillna(False )\n",
    "print('Количество NaN в столбце is_apartment:', data['is_apartment'].isnull().sum())\n",
    "data = data.loc[data['is_apartment'] != True,]\n",
    "print(data['is_apartment'].value_counts())"
   ]
  },
  {
   "cell_type": "markdown",
   "metadata": {},
   "source": [
    "* 'parks_nearest', 'ponds_nearest' парки, водоемы в радиусе 3км оставляем как есть, так как это не самые важные значения"
   ]
  },
  {
   "cell_type": "code",
   "execution_count": 7,
   "metadata": {},
   "outputs": [
    {
     "name": "stdout",
     "output_type": "stream",
     "text": [
      "Количество NaN по parks_nearest: 5533\n",
      "Количество NaN по ponds_nearest: 5512\n"
     ]
    }
   ],
   "source": [
    "# сколько значений NAN в столбцах 'parks_nearest' и 'ponds_nearest' \n",
    "print('Количество NaN по parks_nearest:', data['airports_nearest'].isnull().sum())\n",
    "print('Количество NaN по ponds_nearest:', data['cityCenters_nearest'].isnull().sum())"
   ]
  },
  {
   "cell_type": "markdown",
   "metadata": {},
   "source": [
    "Оставим как есть"
   ]
  },
  {
   "cell_type": "markdown",
   "metadata": {},
   "source": [
    "* 'balcony' - где данные отсутствуют, проставим нули - балкон отсутствует."
   ]
  },
  {
   "cell_type": "code",
   "execution_count": 8,
   "metadata": {},
   "outputs": [
    {
     "name": "stdout",
     "output_type": "stream",
     "text": [
      "Количество NaN в столбце balcony: 11500\n",
      "Количество NaN в столбце balcony: 0\n"
     ]
    }
   ],
   "source": [
    "print('Количество NaN в столбце balcony:', data['balcony'].isnull().sum())\n",
    "data['balcony'] = data['balcony'].fillna(0)\n",
    "print('Количество NaN в столбце balcony:', data['balcony'].isnull().sum())"
   ]
  },
  {
   "cell_type": "markdown",
   "metadata": {},
   "source": [
    " * 'ceiling_height' Заполним медианой по столбцу."
   ]
  },
  {
   "cell_type": "code",
   "execution_count": 9,
   "metadata": {
    "scrolled": true
   },
   "outputs": [
    {
     "name": "stdout",
     "output_type": "stream",
     "text": [
      "9189\n",
      "2.50    3514\n",
      "2.60    1643\n",
      "2.70    1572\n",
      "3.00    1103\n",
      "2.80     988\n",
      "        ... \n",
      "3.76       1\n",
      "4.90       1\n",
      "2.89       1\n",
      "5.20       1\n",
      "4.65       1\n",
      "Name: ceiling_height, Length: 180, dtype: int64\n"
     ]
    }
   ],
   "source": [
    "#Выведем количество NaN и уникальных значений\n",
    "print(data['ceiling_height'].isnull().sum())\n",
    "print(data['ceiling_height'].value_counts())"
   ]
  },
  {
   "cell_type": "code",
   "execution_count": 10,
   "metadata": {},
   "outputs": [
    {
     "data": {
      "text/html": [
       "<div>\n",
       "<style scoped>\n",
       "    .dataframe tbody tr th:only-of-type {\n",
       "        vertical-align: middle;\n",
       "    }\n",
       "\n",
       "    .dataframe tbody tr th {\n",
       "        vertical-align: top;\n",
       "    }\n",
       "\n",
       "    .dataframe thead th {\n",
       "        text-align: right;\n",
       "    }\n",
       "</style>\n",
       "<table border=\"1\" class=\"dataframe\">\n",
       "  <thead>\n",
       "    <tr style=\"text-align: right;\">\n",
       "      <th></th>\n",
       "      <th>total_images</th>\n",
       "      <th>last_price</th>\n",
       "      <th>total_area</th>\n",
       "      <th>first_day_exposition</th>\n",
       "      <th>rooms</th>\n",
       "      <th>ceiling_height</th>\n",
       "      <th>floors_total</th>\n",
       "      <th>living_area</th>\n",
       "      <th>floor</th>\n",
       "      <th>is_apartment</th>\n",
       "      <th>...</th>\n",
       "      <th>kitchen_area</th>\n",
       "      <th>balcony</th>\n",
       "      <th>locality_name</th>\n",
       "      <th>airports_nearest</th>\n",
       "      <th>cityCenters_nearest</th>\n",
       "      <th>parks_around3000</th>\n",
       "      <th>parks_nearest</th>\n",
       "      <th>ponds_around3000</th>\n",
       "      <th>ponds_nearest</th>\n",
       "      <th>days_exposition</th>\n",
       "    </tr>\n",
       "  </thead>\n",
       "  <tbody>\n",
       "    <tr>\n",
       "      <th>0</th>\n",
       "      <td>20</td>\n",
       "      <td>13000000.0</td>\n",
       "      <td>108.0</td>\n",
       "      <td>2019-03-07T00:00:00</td>\n",
       "      <td>3</td>\n",
       "      <td>2.70</td>\n",
       "      <td>16.0</td>\n",
       "      <td>51.0</td>\n",
       "      <td>8</td>\n",
       "      <td>False</td>\n",
       "      <td>...</td>\n",
       "      <td>25.0</td>\n",
       "      <td>0.0</td>\n",
       "      <td>Санкт-Петербург</td>\n",
       "      <td>18863.0</td>\n",
       "      <td>16028.0</td>\n",
       "      <td>1.0</td>\n",
       "      <td>482.0</td>\n",
       "      <td>2.0</td>\n",
       "      <td>755.0</td>\n",
       "      <td>NaN</td>\n",
       "    </tr>\n",
       "    <tr>\n",
       "      <th>1</th>\n",
       "      <td>7</td>\n",
       "      <td>3350000.0</td>\n",
       "      <td>40.4</td>\n",
       "      <td>2018-12-04T00:00:00</td>\n",
       "      <td>1</td>\n",
       "      <td>2.65</td>\n",
       "      <td>11.0</td>\n",
       "      <td>18.6</td>\n",
       "      <td>1</td>\n",
       "      <td>False</td>\n",
       "      <td>...</td>\n",
       "      <td>11.0</td>\n",
       "      <td>2.0</td>\n",
       "      <td>посёлок Шушары</td>\n",
       "      <td>12817.0</td>\n",
       "      <td>18603.0</td>\n",
       "      <td>0.0</td>\n",
       "      <td>NaN</td>\n",
       "      <td>0.0</td>\n",
       "      <td>NaN</td>\n",
       "      <td>81.0</td>\n",
       "    </tr>\n",
       "    <tr>\n",
       "      <th>2</th>\n",
       "      <td>10</td>\n",
       "      <td>5196000.0</td>\n",
       "      <td>56.0</td>\n",
       "      <td>2015-08-20T00:00:00</td>\n",
       "      <td>2</td>\n",
       "      <td>2.65</td>\n",
       "      <td>5.0</td>\n",
       "      <td>34.3</td>\n",
       "      <td>4</td>\n",
       "      <td>False</td>\n",
       "      <td>...</td>\n",
       "      <td>8.3</td>\n",
       "      <td>0.0</td>\n",
       "      <td>Санкт-Петербург</td>\n",
       "      <td>21741.0</td>\n",
       "      <td>13933.0</td>\n",
       "      <td>1.0</td>\n",
       "      <td>90.0</td>\n",
       "      <td>2.0</td>\n",
       "      <td>574.0</td>\n",
       "      <td>558.0</td>\n",
       "    </tr>\n",
       "    <tr>\n",
       "      <th>3</th>\n",
       "      <td>0</td>\n",
       "      <td>64900000.0</td>\n",
       "      <td>159.0</td>\n",
       "      <td>2015-07-24T00:00:00</td>\n",
       "      <td>3</td>\n",
       "      <td>2.65</td>\n",
       "      <td>14.0</td>\n",
       "      <td>NaN</td>\n",
       "      <td>9</td>\n",
       "      <td>False</td>\n",
       "      <td>...</td>\n",
       "      <td>NaN</td>\n",
       "      <td>0.0</td>\n",
       "      <td>Санкт-Петербург</td>\n",
       "      <td>28098.0</td>\n",
       "      <td>6800.0</td>\n",
       "      <td>2.0</td>\n",
       "      <td>84.0</td>\n",
       "      <td>3.0</td>\n",
       "      <td>234.0</td>\n",
       "      <td>424.0</td>\n",
       "    </tr>\n",
       "    <tr>\n",
       "      <th>4</th>\n",
       "      <td>2</td>\n",
       "      <td>10000000.0</td>\n",
       "      <td>100.0</td>\n",
       "      <td>2018-06-19T00:00:00</td>\n",
       "      <td>2</td>\n",
       "      <td>3.03</td>\n",
       "      <td>14.0</td>\n",
       "      <td>32.0</td>\n",
       "      <td>13</td>\n",
       "      <td>False</td>\n",
       "      <td>...</td>\n",
       "      <td>41.0</td>\n",
       "      <td>0.0</td>\n",
       "      <td>Санкт-Петербург</td>\n",
       "      <td>31856.0</td>\n",
       "      <td>8098.0</td>\n",
       "      <td>2.0</td>\n",
       "      <td>112.0</td>\n",
       "      <td>1.0</td>\n",
       "      <td>48.0</td>\n",
       "      <td>121.0</td>\n",
       "    </tr>\n",
       "  </tbody>\n",
       "</table>\n",
       "<p>5 rows × 22 columns</p>\n",
       "</div>"
      ],
      "text/plain": [
       "   total_images  last_price  total_area first_day_exposition  rooms  \\\n",
       "0            20  13000000.0       108.0  2019-03-07T00:00:00      3   \n",
       "1             7   3350000.0        40.4  2018-12-04T00:00:00      1   \n",
       "2            10   5196000.0        56.0  2015-08-20T00:00:00      2   \n",
       "3             0  64900000.0       159.0  2015-07-24T00:00:00      3   \n",
       "4             2  10000000.0       100.0  2018-06-19T00:00:00      2   \n",
       "\n",
       "   ceiling_height  floors_total  living_area  floor  is_apartment  ...  \\\n",
       "0            2.70          16.0         51.0      8         False  ...   \n",
       "1            2.65          11.0         18.6      1         False  ...   \n",
       "2            2.65           5.0         34.3      4         False  ...   \n",
       "3            2.65          14.0          NaN      9         False  ...   \n",
       "4            3.03          14.0         32.0     13         False  ...   \n",
       "\n",
       "   kitchen_area  balcony    locality_name  airports_nearest  \\\n",
       "0          25.0      0.0  Санкт-Петербург           18863.0   \n",
       "1          11.0      2.0   посёлок Шушары           12817.0   \n",
       "2           8.3      0.0  Санкт-Петербург           21741.0   \n",
       "3           NaN      0.0  Санкт-Петербург           28098.0   \n",
       "4          41.0      0.0  Санкт-Петербург           31856.0   \n",
       "\n",
       "  cityCenters_nearest  parks_around3000  parks_nearest  ponds_around3000  \\\n",
       "0             16028.0               1.0          482.0               2.0   \n",
       "1             18603.0               0.0            NaN               0.0   \n",
       "2             13933.0               1.0           90.0               2.0   \n",
       "3              6800.0               2.0           84.0               3.0   \n",
       "4              8098.0               2.0          112.0               1.0   \n",
       "\n",
       "   ponds_nearest  days_exposition  \n",
       "0          755.0              NaN  \n",
       "1            NaN             81.0  \n",
       "2          574.0            558.0  \n",
       "3          234.0            424.0  \n",
       "4           48.0            121.0  \n",
       "\n",
       "[5 rows x 22 columns]"
      ]
     },
     "execution_count": 10,
     "metadata": {},
     "output_type": "execute_result"
    }
   ],
   "source": [
    "hight = data['ceiling_height'].median()\n",
    "data['ceiling_height'] = data['ceiling_height'].fillna(value=hight)\n",
    "data.head(5)"
   ]
  },
  {
   "cell_type": "markdown",
   "metadata": {},
   "source": [
    "* По 'airports_nearest', 'cityCenters_nearest': данные  полученым автоматически на основе картографических данных. Они могут отустствовать по причине того, что относительно конкретно взятого населенного пункта  расстояние искались в определенном радиусе. Если в пределах этого радиуса нет аэропорта или парков , то указать в этом столбце системе было нечего. Оставляем как есть,но при этом посмотрим их количество"
   ]
  },
  {
   "cell_type": "code",
   "execution_count": 11,
   "metadata": {},
   "outputs": [
    {
     "name": "stdout",
     "output_type": "stream",
     "text": [
      "Количество NaN в столбце airports_nearest: 5533\n",
      "Количество NaN в столбце cityCenters_nearest: 5512\n"
     ]
    }
   ],
   "source": [
    "# сколько значений NAN в столбцах  'airports_nearest' и 'cityCenters_nearest'\n",
    "print('Количество NaN в столбце airports_nearest:', data['airports_nearest'].isnull().sum())\n",
    "print('Количество NaN в столбце cityCenters_nearest:', data['cityCenters_nearest'].isnull().sum())"
   ]
  },
  {
   "cell_type": "markdown",
   "metadata": {},
   "source": [
    "Оставляем как есть."
   ]
  },
  {
   "cell_type": "markdown",
   "metadata": {},
   "source": [
    "* По 'parks_around3000', 'ponds_around3000': аналогично как и с parks_nearest и ponds_nearest - данные просто не были заполнены. Пропуски оставляем как есть,но при этом посмотрим их количество"
   ]
  },
  {
   "cell_type": "code",
   "execution_count": 12,
   "metadata": {},
   "outputs": [
    {
     "name": "stdout",
     "output_type": "stream",
     "text": [
      "Количество NaN по parks_nearest: 5511\n",
      "Количество NaN по ponds_nearest: 5511\n"
     ]
    }
   ],
   "source": [
    "# сколько значений NAN в столбцах  'parks_around3000' и'ponds_around3000' \n",
    "print('Количество NaN по parks_nearest:', data['parks_around3000'].isnull().sum())\n",
    "print('Количество NaN по ponds_nearest:', data['ponds_around3000'].isnull().sum())"
   ]
  },
  {
   "cell_type": "markdown",
   "metadata": {},
   "source": [
    "Пропуски оставляем как есть."
   ]
  },
  {
   "cell_type": "markdown",
   "metadata": {},
   "source": [
    "* По 'kitchen_area', 'living_area' - данные, которые могут быть не заполнены просто по той причине, что они не обязательны к заполнению,  потому что если квартира - студия, то там отсутствуют эти данные. Ведь в них нет явного деления площади на ту, которая относится к кухне, и ту, которая относится к жилой площади.  Пропуски оставляем как есть, но при этом посмотрим их количество"
   ]
  },
  {
   "cell_type": "code",
   "execution_count": 13,
   "metadata": {},
   "outputs": [
    {
     "name": "stdout",
     "output_type": "stream",
     "text": [
      "Количество NaN по kitchen_area: 2263\n",
      "Количество NaN по living_area: 1895\n"
     ]
    }
   ],
   "source": [
    "# сколько значений NAN в столбцах  'kitchen_area' и 'living_area'\n",
    "print('Количество NaN по kitchen_area:', data['kitchen_area'].isnull().sum())\n",
    "print('Количество NaN по living_area:', data['living_area'].isnull().sum())"
   ]
  },
  {
   "cell_type": "markdown",
   "metadata": {},
   "source": [
    "* days_exposition -  Информация может отсутствовать,  по причине того, что неизвестно когда было закрыто объявление о продаже, т.е., фактически, сделка была совершена, но не была закрыта на онлайн-ресурсе. По той же причине можем получить результаты в виде срока продажи квартиры в несколько лет. Взять средний параметр или медиану не совсем правильно. Так как время продажи квартиры, это не средний возраст.Пропуски оставляем как есть, ,но при этом посмотрим их количество"
   ]
  },
  {
   "cell_type": "code",
   "execution_count": 14,
   "metadata": {},
   "outputs": [
    {
     "name": "stdout",
     "output_type": "stream",
     "text": [
      "Количество NaN по days_exposition: 3169\n"
     ]
    }
   ],
   "source": [
    "# сколько значений NAN в столбцe 'days_exposition'\n",
    "print('Количество NaN по days_exposition:', data['days_exposition'].isnull().sum())"
   ]
  },
  {
   "cell_type": "markdown",
   "metadata": {},
   "source": [
    "* locality_name - странно конечно, когда не указывают населенный пункт. Но можно предположить, что когда выставляют квартиру на продажу в разделе сайта \"Санкт-Петербург\", то и квартира в Санкт-Петербурге.Посмотрим их количество"
   ]
  },
  {
   "cell_type": "code",
   "execution_count": 15,
   "metadata": {},
   "outputs": [
    {
     "name": "stdout",
     "output_type": "stream",
     "text": [
      "Санкт-Петербург            15682\n",
      "посёлок Мурино               522\n",
      "посёлок Шушары               440\n",
      "Всеволожск                   397\n",
      "Пушкин                       369\n",
      "                           ...  \n",
      "деревня Малая Романовка        1\n",
      "деревня Иссад                  1\n",
      "деревня Пикколово              1\n",
      "деревня Кривко                 1\n",
      "деревня Пельгора               1\n",
      "Name: locality_name, Length: 363, dtype: int64\n",
      "Количество NaN по locality_name: 49\n"
     ]
    }
   ],
   "source": [
    "print(data['locality_name'].value_counts())\n",
    "print('Количество NaN по locality_name:', data['locality_name'].isnull().sum())"
   ]
  },
  {
   "cell_type": "markdown",
   "metadata": {},
   "source": [
    "Пропусков всего 49, заменим их на населенный пункт \"Санкт-Петербург\""
   ]
  },
  {
   "cell_type": "code",
   "execution_count": 16,
   "metadata": {},
   "outputs": [
    {
     "name": "stdout",
     "output_type": "stream",
     "text": [
      "Количество NaN по locality_name: 0\n"
     ]
    }
   ],
   "source": [
    "data['locality_name'] = data['locality_name'].fillna('Санкт-Петербург')\n",
    "print('Количество NaN по locality_name:', data['locality_name'].isnull().sum())\n"
   ]
  },
  {
   "cell_type": "markdown",
   "metadata": {},
   "source": [
    "* floors_total - Смотрим количество уникальных значений и количество пропущенных"
   ]
  },
  {
   "cell_type": "code",
   "execution_count": 17,
   "metadata": {},
   "outputs": [
    {
     "name": "stdout",
     "output_type": "stream",
     "text": [
      "5.0     5780\n",
      "9.0     3758\n",
      "16.0    1375\n",
      "12.0    1362\n",
      "4.0     1186\n",
      "10.0    1174\n",
      "25.0    1075\n",
      "6.0      909\n",
      "17.0     833\n",
      "3.0      662\n",
      "7.0      588\n",
      "14.0     553\n",
      "18.0     505\n",
      "24.0     469\n",
      "8.0      389\n",
      "2.0      382\n",
      "15.0     364\n",
      "23.0     351\n",
      "19.0     339\n",
      "22.0     286\n",
      "20.0     270\n",
      "13.0     228\n",
      "11.0     201\n",
      "27.0     163\n",
      "21.0     158\n",
      "26.0     124\n",
      "1.0       25\n",
      "35.0      24\n",
      "28.0      21\n",
      "36.0       3\n",
      "37.0       1\n",
      "34.0       1\n",
      "33.0       1\n",
      "60.0       1\n",
      "29.0       1\n",
      "52.0       1\n",
      "Name: floors_total, dtype: int64\n",
      "Количество NaN в столбце floors_total: 86\n"
     ]
    }
   ],
   "source": [
    "print(data['floors_total'].value_counts())\n",
    "print('Количество NaN в столбце floors_total:', data['floors_total'].isnull().sum())"
   ]
  },
  {
   "cell_type": "markdown",
   "metadata": {},
   "source": [
    "Всего 86 пропущенных значений, предлагаю заменить эти данные медианой."
   ]
  },
  {
   "cell_type": "code",
   "execution_count": 18,
   "metadata": {},
   "outputs": [
    {
     "name": "stdout",
     "output_type": "stream",
     "text": [
      "Количество NaN в столбце floors_total: 0\n"
     ]
    }
   ],
   "source": [
    "floors = data['floors_total'].median()\n",
    "data['floors_total'] = data['floors_total'].fillna(floors)\n",
    "print('Количество NaN в столбце floors_total:', data['floors_total'].isnull().sum())"
   ]
  },
  {
   "cell_type": "markdown",
   "metadata": {},
   "source": [
    "Посмотрим на изменения в таблице"
   ]
  },
  {
   "cell_type": "code",
   "execution_count": 19,
   "metadata": {},
   "outputs": [
    {
     "name": "stdout",
     "output_type": "stream",
     "text": [
      "<class 'pandas.core.frame.DataFrame'>\n",
      "Int64Index: 23649 entries, 0 to 23698\n",
      "Data columns (total 22 columns):\n",
      " #   Column                Non-Null Count  Dtype  \n",
      "---  ------                --------------  -----  \n",
      " 0   total_images          23649 non-null  int64  \n",
      " 1   last_price            23649 non-null  float64\n",
      " 2   total_area            23649 non-null  float64\n",
      " 3   first_day_exposition  23649 non-null  object \n",
      " 4   rooms                 23649 non-null  int64  \n",
      " 5   ceiling_height        23649 non-null  float64\n",
      " 6   floors_total          23649 non-null  float64\n",
      " 7   living_area           21754 non-null  float64\n",
      " 8   floor                 23649 non-null  int64  \n",
      " 9   is_apartment          23649 non-null  bool   \n",
      " 10  studio                23649 non-null  bool   \n",
      " 11  open_plan             23649 non-null  bool   \n",
      " 12  kitchen_area          21386 non-null  float64\n",
      " 13  balcony               23649 non-null  float64\n",
      " 14  locality_name         23649 non-null  object \n",
      " 15  airports_nearest      18116 non-null  float64\n",
      " 16  cityCenters_nearest   18137 non-null  float64\n",
      " 17  parks_around3000      18138 non-null  float64\n",
      " 18  parks_nearest         8060 non-null   float64\n",
      " 19  ponds_around3000      18138 non-null  float64\n",
      " 20  ponds_nearest         9080 non-null   float64\n",
      " 21  days_exposition       20480 non-null  float64\n",
      "dtypes: bool(3), float64(14), int64(3), object(2)\n",
      "memory usage: 3.7+ MB\n"
     ]
    }
   ],
   "source": [
    "data.info()"
   ]
  },
  {
   "cell_type": "markdown",
   "metadata": {},
   "source": [
    "Пропущенных значений стало намного меньше. "
   ]
  },
  {
   "cell_type": "markdown",
   "metadata": {},
   "source": [
    "Приводим данные к нужным типам.\n"
   ]
  },
  {
   "cell_type": "markdown",
   "metadata": {},
   "source": [
    "* total_images , тут ничего не меняем, данные в целочисленном типе\n",
    "* last_price меняем, нам нужен целочисленный тип, тк врядли цена квартиры точна до десятых \n",
    "* total_area изменим до десятыхб площадь может измерятся в десятых после запятой\n",
    "* first_day_exposition изменим в соответствии формата: дата.месяц.год\n",
    "* rooms, тут ничего не меняем, данные в целочисленном типе      \n",
    "* ceiling_height изменим до десятых, в высоте патолке важны каждые 10 см\n",
    "* floors_total меняем, нам нужен целочисленный тип, пол этажа не может быть\n",
    "* living_area изменим до десятыхб площадь может измерятся в десятых после запятой\n",
    "* floor тут ничего не меняем, данные в целочисленном типе  \n",
    "* is_apartment тут ничего не меняем, булево значение\n",
    "* studio  тут ничего не меняем, булево значение\n",
    "* open_plan не меняем булев тип \n",
    "* kitchen_area изменим до десятыхб площадь может измерятся в десятых после запятой\n",
    "* balcony изменем в целочисленный тип, тк пол балкона не бывает\n",
    "* locality_name не меняем, тип объект\n",
    "* airports_nearest  меняем, нам нужен целочисленный тип, считаем расстояния без десятых метра\n",
    "* cityCenters_nearest  меняем, нам нужен целочисленный тип, считаем расстояния без десятых метра\n",
    "* parks_around3000 меняем, нам нужен целочисленный тип, считаем расстояния без десятых метра\n",
    "* parks_nearest    меняем, нам нужен целочисленный тип, считаем расстояния без десятых метра\n",
    "* ponds_around3000 меняем, нам нужен целочисленный тип, считаем расстояния без десятых метра\n",
    "* ponds_nearest   меняем, нам нужен целочисленный тип, считаем расстояния без десятых метра\n",
    "* days_exposition меняем, нам нужен целочисленный тип, десятых долей дня не будем считать\n"
   ]
  },
  {
   "cell_type": "code",
   "execution_count": 20,
   "metadata": {},
   "outputs": [],
   "source": [
    "#приведения к типу int\n",
    "list_int = ['last_price', 'floors_total', 'balcony', 'airports_nearest', 'cityCenters_nearest', 'parks_around3000',\n",
    "               'parks_nearest', 'ponds_around3000', 'ponds_nearest', 'days_exposition']"
   ]
  },
  {
   "cell_type": "code",
   "execution_count": 21,
   "metadata": {},
   "outputs": [],
   "source": [
    "for column in list_int:\n",
    "    data[column] = data[data[column].notnull()][column].astype('int')"
   ]
  },
  {
   "cell_type": "code",
   "execution_count": 22,
   "metadata": {},
   "outputs": [],
   "source": [
    "#Столбцы, где округляем данные до десятого знака после запятой:\n",
    "list_float = ['total_area', 'ceiling_height', 'living_area', 'kitchen_area']"
   ]
  },
  {
   "cell_type": "code",
   "execution_count": 23,
   "metadata": {},
   "outputs": [],
   "source": [
    "for column in list_float:\n",
    "    data[column] = data[data[column].notnull()][column].round(1)"
   ]
  },
  {
   "cell_type": "code",
   "execution_count": 24,
   "metadata": {},
   "outputs": [
    {
     "data": {
      "text/html": [
       "<div>\n",
       "<style scoped>\n",
       "    .dataframe tbody tr th:only-of-type {\n",
       "        vertical-align: middle;\n",
       "    }\n",
       "\n",
       "    .dataframe tbody tr th {\n",
       "        vertical-align: top;\n",
       "    }\n",
       "\n",
       "    .dataframe thead th {\n",
       "        text-align: right;\n",
       "    }\n",
       "</style>\n",
       "<table border=\"1\" class=\"dataframe\">\n",
       "  <thead>\n",
       "    <tr style=\"text-align: right;\">\n",
       "      <th></th>\n",
       "      <th>total_images</th>\n",
       "      <th>last_price</th>\n",
       "      <th>total_area</th>\n",
       "      <th>first_day_exposition</th>\n",
       "      <th>rooms</th>\n",
       "      <th>ceiling_height</th>\n",
       "      <th>floors_total</th>\n",
       "      <th>living_area</th>\n",
       "      <th>floor</th>\n",
       "      <th>is_apartment</th>\n",
       "      <th>...</th>\n",
       "      <th>kitchen_area</th>\n",
       "      <th>balcony</th>\n",
       "      <th>locality_name</th>\n",
       "      <th>airports_nearest</th>\n",
       "      <th>cityCenters_nearest</th>\n",
       "      <th>parks_around3000</th>\n",
       "      <th>parks_nearest</th>\n",
       "      <th>ponds_around3000</th>\n",
       "      <th>ponds_nearest</th>\n",
       "      <th>days_exposition</th>\n",
       "    </tr>\n",
       "  </thead>\n",
       "  <tbody>\n",
       "    <tr>\n",
       "      <th>0</th>\n",
       "      <td>20</td>\n",
       "      <td>13000000</td>\n",
       "      <td>108.0</td>\n",
       "      <td>2019-03-07T00:00:00</td>\n",
       "      <td>3</td>\n",
       "      <td>2.7</td>\n",
       "      <td>16</td>\n",
       "      <td>51.0</td>\n",
       "      <td>8</td>\n",
       "      <td>False</td>\n",
       "      <td>...</td>\n",
       "      <td>25.0</td>\n",
       "      <td>0</td>\n",
       "      <td>Санкт-Петербург</td>\n",
       "      <td>18863.0</td>\n",
       "      <td>16028.0</td>\n",
       "      <td>1.0</td>\n",
       "      <td>482.0</td>\n",
       "      <td>2.0</td>\n",
       "      <td>755.0</td>\n",
       "      <td>NaN</td>\n",
       "    </tr>\n",
       "    <tr>\n",
       "      <th>1</th>\n",
       "      <td>7</td>\n",
       "      <td>3350000</td>\n",
       "      <td>40.4</td>\n",
       "      <td>2018-12-04T00:00:00</td>\n",
       "      <td>1</td>\n",
       "      <td>2.6</td>\n",
       "      <td>11</td>\n",
       "      <td>18.6</td>\n",
       "      <td>1</td>\n",
       "      <td>False</td>\n",
       "      <td>...</td>\n",
       "      <td>11.0</td>\n",
       "      <td>2</td>\n",
       "      <td>посёлок Шушары</td>\n",
       "      <td>12817.0</td>\n",
       "      <td>18603.0</td>\n",
       "      <td>0.0</td>\n",
       "      <td>NaN</td>\n",
       "      <td>0.0</td>\n",
       "      <td>NaN</td>\n",
       "      <td>81.0</td>\n",
       "    </tr>\n",
       "    <tr>\n",
       "      <th>2</th>\n",
       "      <td>10</td>\n",
       "      <td>5196000</td>\n",
       "      <td>56.0</td>\n",
       "      <td>2015-08-20T00:00:00</td>\n",
       "      <td>2</td>\n",
       "      <td>2.6</td>\n",
       "      <td>5</td>\n",
       "      <td>34.3</td>\n",
       "      <td>4</td>\n",
       "      <td>False</td>\n",
       "      <td>...</td>\n",
       "      <td>8.3</td>\n",
       "      <td>0</td>\n",
       "      <td>Санкт-Петербург</td>\n",
       "      <td>21741.0</td>\n",
       "      <td>13933.0</td>\n",
       "      <td>1.0</td>\n",
       "      <td>90.0</td>\n",
       "      <td>2.0</td>\n",
       "      <td>574.0</td>\n",
       "      <td>558.0</td>\n",
       "    </tr>\n",
       "    <tr>\n",
       "      <th>3</th>\n",
       "      <td>0</td>\n",
       "      <td>64900000</td>\n",
       "      <td>159.0</td>\n",
       "      <td>2015-07-24T00:00:00</td>\n",
       "      <td>3</td>\n",
       "      <td>2.6</td>\n",
       "      <td>14</td>\n",
       "      <td>NaN</td>\n",
       "      <td>9</td>\n",
       "      <td>False</td>\n",
       "      <td>...</td>\n",
       "      <td>NaN</td>\n",
       "      <td>0</td>\n",
       "      <td>Санкт-Петербург</td>\n",
       "      <td>28098.0</td>\n",
       "      <td>6800.0</td>\n",
       "      <td>2.0</td>\n",
       "      <td>84.0</td>\n",
       "      <td>3.0</td>\n",
       "      <td>234.0</td>\n",
       "      <td>424.0</td>\n",
       "    </tr>\n",
       "    <tr>\n",
       "      <th>4</th>\n",
       "      <td>2</td>\n",
       "      <td>10000000</td>\n",
       "      <td>100.0</td>\n",
       "      <td>2018-06-19T00:00:00</td>\n",
       "      <td>2</td>\n",
       "      <td>3.0</td>\n",
       "      <td>14</td>\n",
       "      <td>32.0</td>\n",
       "      <td>13</td>\n",
       "      <td>False</td>\n",
       "      <td>...</td>\n",
       "      <td>41.0</td>\n",
       "      <td>0</td>\n",
       "      <td>Санкт-Петербург</td>\n",
       "      <td>31856.0</td>\n",
       "      <td>8098.0</td>\n",
       "      <td>2.0</td>\n",
       "      <td>112.0</td>\n",
       "      <td>1.0</td>\n",
       "      <td>48.0</td>\n",
       "      <td>121.0</td>\n",
       "    </tr>\n",
       "  </tbody>\n",
       "</table>\n",
       "<p>5 rows × 22 columns</p>\n",
       "</div>"
      ],
      "text/plain": [
       "   total_images  last_price  total_area first_day_exposition  rooms  \\\n",
       "0            20    13000000       108.0  2019-03-07T00:00:00      3   \n",
       "1             7     3350000        40.4  2018-12-04T00:00:00      1   \n",
       "2            10     5196000        56.0  2015-08-20T00:00:00      2   \n",
       "3             0    64900000       159.0  2015-07-24T00:00:00      3   \n",
       "4             2    10000000       100.0  2018-06-19T00:00:00      2   \n",
       "\n",
       "   ceiling_height  floors_total  living_area  floor  is_apartment  ...  \\\n",
       "0             2.7            16         51.0      8         False  ...   \n",
       "1             2.6            11         18.6      1         False  ...   \n",
       "2             2.6             5         34.3      4         False  ...   \n",
       "3             2.6            14          NaN      9         False  ...   \n",
       "4             3.0            14         32.0     13         False  ...   \n",
       "\n",
       "   kitchen_area  balcony    locality_name  airports_nearest  \\\n",
       "0          25.0        0  Санкт-Петербург           18863.0   \n",
       "1          11.0        2   посёлок Шушары           12817.0   \n",
       "2           8.3        0  Санкт-Петербург           21741.0   \n",
       "3           NaN        0  Санкт-Петербург           28098.0   \n",
       "4          41.0        0  Санкт-Петербург           31856.0   \n",
       "\n",
       "  cityCenters_nearest  parks_around3000  parks_nearest  ponds_around3000  \\\n",
       "0             16028.0               1.0          482.0               2.0   \n",
       "1             18603.0               0.0            NaN               0.0   \n",
       "2             13933.0               1.0           90.0               2.0   \n",
       "3              6800.0               2.0           84.0               3.0   \n",
       "4              8098.0               2.0          112.0               1.0   \n",
       "\n",
       "   ponds_nearest  days_exposition  \n",
       "0          755.0              NaN  \n",
       "1            NaN             81.0  \n",
       "2          574.0            558.0  \n",
       "3          234.0            424.0  \n",
       "4           48.0            121.0  \n",
       "\n",
       "[5 rows x 22 columns]"
      ]
     },
     "execution_count": 24,
     "metadata": {},
     "output_type": "execute_result"
    }
   ],
   "source": [
    "#Выведем таблицу\n",
    "data.head()"
   ]
  },
  {
   "cell_type": "markdown",
   "metadata": {},
   "source": [
    "## Расчёты и добавление результатов в таблицу"
   ]
  },
  {
   "cell_type": "markdown",
   "metadata": {},
   "source": [
    "Проведем расчет цены квадратного метра добавим его"
   ]
  },
  {
   "cell_type": "code",
   "execution_count": 25,
   "metadata": {},
   "outputs": [],
   "source": [
    "data['price_m2'] = data['last_price'] / data['living_area']"
   ]
  },
  {
   "cell_type": "markdown",
   "metadata": {},
   "source": [
    " Изменим формат столбца first_day_exposition на datetime:"
   ]
  },
  {
   "cell_type": "code",
   "execution_count": 26,
   "metadata": {},
   "outputs": [],
   "source": [
    "data['first_day_exposition'] = pd.to_datetime(data['first_day_exposition'], format='%Y-%m-%dT%H:%M:%S')"
   ]
  },
  {
   "cell_type": "markdown",
   "metadata": {},
   "source": [
    "Добавим день недели публикации объявления. Проставим день недели в формате числа (0 - понедельник, 6 - воскресенье):"
   ]
  },
  {
   "cell_type": "code",
   "execution_count": 27,
   "metadata": {},
   "outputs": [],
   "source": [
    "data['weekday']= data['first_day_exposition'].dt.weekday"
   ]
  },
  {
   "cell_type": "code",
   "execution_count": 28,
   "metadata": {},
   "outputs": [],
   "source": [
    "#Теперь создадим словарь, чтобы изменить значение с чисел на текст \n",
    "dict_weekdays = {0: ' понедельник', 1: ' вторник', 2: 'среда', 3: ' четверг', \n",
    "                    4: ' пятница', 5: ' суббота', 6: ' воскресенье'}"
   ]
  },
  {
   "cell_type": "code",
   "execution_count": 29,
   "metadata": {},
   "outputs": [],
   "source": [
    "#Меняем значения:\n",
    "data['weekday'] = data['weekday'].map(dict_weekdays)"
   ]
  },
  {
   "cell_type": "markdown",
   "metadata": {},
   "source": [
    "Добавим год  публикации объявления:"
   ]
  },
  {
   "cell_type": "code",
   "execution_count": 30,
   "metadata": {},
   "outputs": [],
   "source": [
    "data['year'] = data['first_day_exposition'].apply(lambda x: x.year)"
   ]
  },
  {
   "cell_type": "markdown",
   "metadata": {},
   "source": [
    "Добавим месяц публикации объявления:"
   ]
  },
  {
   "cell_type": "code",
   "execution_count": 31,
   "metadata": {},
   "outputs": [],
   "source": [
    "data['month'] = data['first_day_exposition'].apply(lambda x: x.month)"
   ]
  },
  {
   "cell_type": "markdown",
   "metadata": {},
   "source": [
    "Распределим этаж квартиры"
   ]
  },
  {
   "cell_type": "code",
   "execution_count": 32,
   "metadata": {},
   "outputs": [],
   "source": [
    "data['floor_categoria'] = np.where(data['floor'] == 1, 'первый', 'другой')\n",
    "data['floor_categoria'] = np.where(data['floor'] == data['floors_total'], 'последний', data['floor_categoria'])"
   ]
  },
  {
   "cell_type": "markdown",
   "metadata": {},
   "source": [
    "Добавим столбцы с соотношением жилой и общей площади, а также с отношением площади кухни к общей."
   ]
  },
  {
   "cell_type": "code",
   "execution_count": 33,
   "metadata": {},
   "outputs": [],
   "source": [
    "data['living_area_attitude'] = data['living_area']/data['total_area']\n",
    "data['kitchen_area_attitude'] = data['kitchen_area']/data['total_area']"
   ]
  },
  {
   "cell_type": "code",
   "execution_count": 34,
   "metadata": {},
   "outputs": [
    {
     "data": {
      "text/html": [
       "<div>\n",
       "<style scoped>\n",
       "    .dataframe tbody tr th:only-of-type {\n",
       "        vertical-align: middle;\n",
       "    }\n",
       "\n",
       "    .dataframe tbody tr th {\n",
       "        vertical-align: top;\n",
       "    }\n",
       "\n",
       "    .dataframe thead th {\n",
       "        text-align: right;\n",
       "    }\n",
       "</style>\n",
       "<table border=\"1\" class=\"dataframe\">\n",
       "  <thead>\n",
       "    <tr style=\"text-align: right;\">\n",
       "      <th></th>\n",
       "      <th>total_images</th>\n",
       "      <th>last_price</th>\n",
       "      <th>total_area</th>\n",
       "      <th>first_day_exposition</th>\n",
       "      <th>rooms</th>\n",
       "      <th>ceiling_height</th>\n",
       "      <th>floors_total</th>\n",
       "      <th>living_area</th>\n",
       "      <th>floor</th>\n",
       "      <th>is_apartment</th>\n",
       "      <th>...</th>\n",
       "      <th>ponds_around3000</th>\n",
       "      <th>ponds_nearest</th>\n",
       "      <th>days_exposition</th>\n",
       "      <th>price_m2</th>\n",
       "      <th>weekday</th>\n",
       "      <th>year</th>\n",
       "      <th>month</th>\n",
       "      <th>floor_categoria</th>\n",
       "      <th>living_area_attitude</th>\n",
       "      <th>kitchen_area_attitude</th>\n",
       "    </tr>\n",
       "  </thead>\n",
       "  <tbody>\n",
       "    <tr>\n",
       "      <th>0</th>\n",
       "      <td>20</td>\n",
       "      <td>13000000</td>\n",
       "      <td>108.0</td>\n",
       "      <td>2019-03-07</td>\n",
       "      <td>3</td>\n",
       "      <td>2.7</td>\n",
       "      <td>16</td>\n",
       "      <td>51.0</td>\n",
       "      <td>8</td>\n",
       "      <td>False</td>\n",
       "      <td>...</td>\n",
       "      <td>2.0</td>\n",
       "      <td>755.0</td>\n",
       "      <td>NaN</td>\n",
       "      <td>254901.960784</td>\n",
       "      <td>четверг</td>\n",
       "      <td>2019</td>\n",
       "      <td>3</td>\n",
       "      <td>другой</td>\n",
       "      <td>0.472222</td>\n",
       "      <td>0.231481</td>\n",
       "    </tr>\n",
       "    <tr>\n",
       "      <th>1</th>\n",
       "      <td>7</td>\n",
       "      <td>3350000</td>\n",
       "      <td>40.4</td>\n",
       "      <td>2018-12-04</td>\n",
       "      <td>1</td>\n",
       "      <td>2.6</td>\n",
       "      <td>11</td>\n",
       "      <td>18.6</td>\n",
       "      <td>1</td>\n",
       "      <td>False</td>\n",
       "      <td>...</td>\n",
       "      <td>0.0</td>\n",
       "      <td>NaN</td>\n",
       "      <td>81.0</td>\n",
       "      <td>180107.526882</td>\n",
       "      <td>вторник</td>\n",
       "      <td>2018</td>\n",
       "      <td>12</td>\n",
       "      <td>первый</td>\n",
       "      <td>0.460396</td>\n",
       "      <td>0.272277</td>\n",
       "    </tr>\n",
       "    <tr>\n",
       "      <th>2</th>\n",
       "      <td>10</td>\n",
       "      <td>5196000</td>\n",
       "      <td>56.0</td>\n",
       "      <td>2015-08-20</td>\n",
       "      <td>2</td>\n",
       "      <td>2.6</td>\n",
       "      <td>5</td>\n",
       "      <td>34.3</td>\n",
       "      <td>4</td>\n",
       "      <td>False</td>\n",
       "      <td>...</td>\n",
       "      <td>2.0</td>\n",
       "      <td>574.0</td>\n",
       "      <td>558.0</td>\n",
       "      <td>151486.880466</td>\n",
       "      <td>четверг</td>\n",
       "      <td>2015</td>\n",
       "      <td>8</td>\n",
       "      <td>другой</td>\n",
       "      <td>0.612500</td>\n",
       "      <td>0.148214</td>\n",
       "    </tr>\n",
       "    <tr>\n",
       "      <th>3</th>\n",
       "      <td>0</td>\n",
       "      <td>64900000</td>\n",
       "      <td>159.0</td>\n",
       "      <td>2015-07-24</td>\n",
       "      <td>3</td>\n",
       "      <td>2.6</td>\n",
       "      <td>14</td>\n",
       "      <td>NaN</td>\n",
       "      <td>9</td>\n",
       "      <td>False</td>\n",
       "      <td>...</td>\n",
       "      <td>3.0</td>\n",
       "      <td>234.0</td>\n",
       "      <td>424.0</td>\n",
       "      <td>NaN</td>\n",
       "      <td>пятница</td>\n",
       "      <td>2015</td>\n",
       "      <td>7</td>\n",
       "      <td>другой</td>\n",
       "      <td>NaN</td>\n",
       "      <td>NaN</td>\n",
       "    </tr>\n",
       "    <tr>\n",
       "      <th>4</th>\n",
       "      <td>2</td>\n",
       "      <td>10000000</td>\n",
       "      <td>100.0</td>\n",
       "      <td>2018-06-19</td>\n",
       "      <td>2</td>\n",
       "      <td>3.0</td>\n",
       "      <td>14</td>\n",
       "      <td>32.0</td>\n",
       "      <td>13</td>\n",
       "      <td>False</td>\n",
       "      <td>...</td>\n",
       "      <td>1.0</td>\n",
       "      <td>48.0</td>\n",
       "      <td>121.0</td>\n",
       "      <td>312500.000000</td>\n",
       "      <td>вторник</td>\n",
       "      <td>2018</td>\n",
       "      <td>6</td>\n",
       "      <td>другой</td>\n",
       "      <td>0.320000</td>\n",
       "      <td>0.410000</td>\n",
       "    </tr>\n",
       "    <tr>\n",
       "      <th>5</th>\n",
       "      <td>10</td>\n",
       "      <td>2890000</td>\n",
       "      <td>30.4</td>\n",
       "      <td>2018-09-10</td>\n",
       "      <td>1</td>\n",
       "      <td>2.6</td>\n",
       "      <td>12</td>\n",
       "      <td>14.4</td>\n",
       "      <td>5</td>\n",
       "      <td>False</td>\n",
       "      <td>...</td>\n",
       "      <td>NaN</td>\n",
       "      <td>NaN</td>\n",
       "      <td>55.0</td>\n",
       "      <td>200694.444444</td>\n",
       "      <td>понедельник</td>\n",
       "      <td>2018</td>\n",
       "      <td>9</td>\n",
       "      <td>другой</td>\n",
       "      <td>0.473684</td>\n",
       "      <td>0.299342</td>\n",
       "    </tr>\n",
       "    <tr>\n",
       "      <th>6</th>\n",
       "      <td>6</td>\n",
       "      <td>3700000</td>\n",
       "      <td>37.3</td>\n",
       "      <td>2017-11-02</td>\n",
       "      <td>1</td>\n",
       "      <td>2.6</td>\n",
       "      <td>26</td>\n",
       "      <td>10.6</td>\n",
       "      <td>6</td>\n",
       "      <td>False</td>\n",
       "      <td>...</td>\n",
       "      <td>0.0</td>\n",
       "      <td>NaN</td>\n",
       "      <td>155.0</td>\n",
       "      <td>349056.603774</td>\n",
       "      <td>четверг</td>\n",
       "      <td>2017</td>\n",
       "      <td>11</td>\n",
       "      <td>другой</td>\n",
       "      <td>0.284182</td>\n",
       "      <td>0.386059</td>\n",
       "    </tr>\n",
       "    <tr>\n",
       "      <th>7</th>\n",
       "      <td>5</td>\n",
       "      <td>7915000</td>\n",
       "      <td>71.6</td>\n",
       "      <td>2019-04-18</td>\n",
       "      <td>2</td>\n",
       "      <td>2.6</td>\n",
       "      <td>24</td>\n",
       "      <td>NaN</td>\n",
       "      <td>22</td>\n",
       "      <td>False</td>\n",
       "      <td>...</td>\n",
       "      <td>0.0</td>\n",
       "      <td>NaN</td>\n",
       "      <td>NaN</td>\n",
       "      <td>NaN</td>\n",
       "      <td>четверг</td>\n",
       "      <td>2019</td>\n",
       "      <td>4</td>\n",
       "      <td>другой</td>\n",
       "      <td>NaN</td>\n",
       "      <td>0.263966</td>\n",
       "    </tr>\n",
       "    <tr>\n",
       "      <th>8</th>\n",
       "      <td>20</td>\n",
       "      <td>2900000</td>\n",
       "      <td>33.2</td>\n",
       "      <td>2018-05-23</td>\n",
       "      <td>1</td>\n",
       "      <td>2.6</td>\n",
       "      <td>27</td>\n",
       "      <td>15.4</td>\n",
       "      <td>26</td>\n",
       "      <td>False</td>\n",
       "      <td>...</td>\n",
       "      <td>NaN</td>\n",
       "      <td>NaN</td>\n",
       "      <td>189.0</td>\n",
       "      <td>188311.688312</td>\n",
       "      <td>среда</td>\n",
       "      <td>2018</td>\n",
       "      <td>5</td>\n",
       "      <td>другой</td>\n",
       "      <td>0.463855</td>\n",
       "      <td>0.265060</td>\n",
       "    </tr>\n",
       "    <tr>\n",
       "      <th>9</th>\n",
       "      <td>18</td>\n",
       "      <td>5400000</td>\n",
       "      <td>61.0</td>\n",
       "      <td>2017-02-26</td>\n",
       "      <td>3</td>\n",
       "      <td>2.5</td>\n",
       "      <td>9</td>\n",
       "      <td>43.6</td>\n",
       "      <td>7</td>\n",
       "      <td>False</td>\n",
       "      <td>...</td>\n",
       "      <td>0.0</td>\n",
       "      <td>NaN</td>\n",
       "      <td>289.0</td>\n",
       "      <td>123853.211009</td>\n",
       "      <td>воскресенье</td>\n",
       "      <td>2017</td>\n",
       "      <td>2</td>\n",
       "      <td>другой</td>\n",
       "      <td>0.714754</td>\n",
       "      <td>0.106557</td>\n",
       "    </tr>\n",
       "  </tbody>\n",
       "</table>\n",
       "<p>10 rows × 29 columns</p>\n",
       "</div>"
      ],
      "text/plain": [
       "   total_images  last_price  total_area first_day_exposition  rooms  \\\n",
       "0            20    13000000       108.0           2019-03-07      3   \n",
       "1             7     3350000        40.4           2018-12-04      1   \n",
       "2            10     5196000        56.0           2015-08-20      2   \n",
       "3             0    64900000       159.0           2015-07-24      3   \n",
       "4             2    10000000       100.0           2018-06-19      2   \n",
       "5            10     2890000        30.4           2018-09-10      1   \n",
       "6             6     3700000        37.3           2017-11-02      1   \n",
       "7             5     7915000        71.6           2019-04-18      2   \n",
       "8            20     2900000        33.2           2018-05-23      1   \n",
       "9            18     5400000        61.0           2017-02-26      3   \n",
       "\n",
       "   ceiling_height  floors_total  living_area  floor  is_apartment  ...  \\\n",
       "0             2.7            16         51.0      8         False  ...   \n",
       "1             2.6            11         18.6      1         False  ...   \n",
       "2             2.6             5         34.3      4         False  ...   \n",
       "3             2.6            14          NaN      9         False  ...   \n",
       "4             3.0            14         32.0     13         False  ...   \n",
       "5             2.6            12         14.4      5         False  ...   \n",
       "6             2.6            26         10.6      6         False  ...   \n",
       "7             2.6            24          NaN     22         False  ...   \n",
       "8             2.6            27         15.4     26         False  ...   \n",
       "9             2.5             9         43.6      7         False  ...   \n",
       "\n",
       "   ponds_around3000  ponds_nearest  days_exposition       price_m2  \\\n",
       "0               2.0          755.0              NaN  254901.960784   \n",
       "1               0.0            NaN             81.0  180107.526882   \n",
       "2               2.0          574.0            558.0  151486.880466   \n",
       "3               3.0          234.0            424.0            NaN   \n",
       "4               1.0           48.0            121.0  312500.000000   \n",
       "5               NaN            NaN             55.0  200694.444444   \n",
       "6               0.0            NaN            155.0  349056.603774   \n",
       "7               0.0            NaN              NaN            NaN   \n",
       "8               NaN            NaN            189.0  188311.688312   \n",
       "9               0.0            NaN            289.0  123853.211009   \n",
       "\n",
       "        weekday  year  month  floor_categoria  living_area_attitude  \\\n",
       "0       четверг  2019      3           другой              0.472222   \n",
       "1       вторник  2018     12           первый              0.460396   \n",
       "2       четверг  2015      8           другой              0.612500   \n",
       "3       пятница  2015      7           другой                   NaN   \n",
       "4       вторник  2018      6           другой              0.320000   \n",
       "5   понедельник  2018      9           другой              0.473684   \n",
       "6       четверг  2017     11           другой              0.284182   \n",
       "7       четверг  2019      4           другой                   NaN   \n",
       "8         среда  2018      5           другой              0.463855   \n",
       "9   воскресенье  2017      2           другой              0.714754   \n",
       "\n",
       "   kitchen_area_attitude  \n",
       "0               0.231481  \n",
       "1               0.272277  \n",
       "2               0.148214  \n",
       "3                    NaN  \n",
       "4               0.410000  \n",
       "5               0.299342  \n",
       "6               0.386059  \n",
       "7               0.263966  \n",
       "8               0.265060  \n",
       "9               0.106557  \n",
       "\n",
       "[10 rows x 29 columns]"
      ]
     },
     "execution_count": 34,
     "metadata": {},
     "output_type": "execute_result"
    }
   ],
   "source": [
    "#выведем таблицу\n",
    "data.head(10)"
   ]
  },
  {
   "cell_type": "markdown",
   "metadata": {},
   "source": [
    "## Исследовательский анализ данных"
   ]
  },
  {
   "cell_type": "markdown",
   "metadata": {},
   "source": [
    "4.1 Изучем следующие параметры: площадь, цена, число комнат, высота потолков."
   ]
  },
  {
   "cell_type": "code",
   "execution_count": 35,
   "metadata": {},
   "outputs": [
    {
     "data": {
      "text/html": [
       "<div>\n",
       "<style scoped>\n",
       "    .dataframe tbody tr th:only-of-type {\n",
       "        vertical-align: middle;\n",
       "    }\n",
       "\n",
       "    .dataframe tbody tr th {\n",
       "        vertical-align: top;\n",
       "    }\n",
       "\n",
       "    .dataframe thead th {\n",
       "        text-align: right;\n",
       "    }\n",
       "</style>\n",
       "<table border=\"1\" class=\"dataframe\">\n",
       "  <thead>\n",
       "    <tr style=\"text-align: right;\">\n",
       "      <th></th>\n",
       "      <th>total_area</th>\n",
       "      <th>last_price</th>\n",
       "      <th>rooms</th>\n",
       "      <th>ceiling_height</th>\n",
       "    </tr>\n",
       "  </thead>\n",
       "  <tbody>\n",
       "    <tr>\n",
       "      <th>count</th>\n",
       "      <td>23649.000000</td>\n",
       "      <td>2.364900e+04</td>\n",
       "      <td>23649.000000</td>\n",
       "      <td>23649.000000</td>\n",
       "    </tr>\n",
       "    <tr>\n",
       "      <th>mean</th>\n",
       "      <td>60.300055</td>\n",
       "      <td>6.528054e+06</td>\n",
       "      <td>2.070616</td>\n",
       "      <td>2.700858</td>\n",
       "    </tr>\n",
       "    <tr>\n",
       "      <th>std</th>\n",
       "      <td>35.516638</td>\n",
       "      <td>1.086966e+07</td>\n",
       "      <td>1.078139</td>\n",
       "      <td>0.733050</td>\n",
       "    </tr>\n",
       "    <tr>\n",
       "      <th>min</th>\n",
       "      <td>12.000000</td>\n",
       "      <td>1.219000e+04</td>\n",
       "      <td>0.000000</td>\n",
       "      <td>1.000000</td>\n",
       "    </tr>\n",
       "    <tr>\n",
       "      <th>25%</th>\n",
       "      <td>40.000000</td>\n",
       "      <td>3.400000e+06</td>\n",
       "      <td>1.000000</td>\n",
       "      <td>2.600000</td>\n",
       "    </tr>\n",
       "    <tr>\n",
       "      <th>50%</th>\n",
       "      <td>52.000000</td>\n",
       "      <td>4.644000e+06</td>\n",
       "      <td>2.000000</td>\n",
       "      <td>2.600000</td>\n",
       "    </tr>\n",
       "    <tr>\n",
       "      <th>75%</th>\n",
       "      <td>69.700000</td>\n",
       "      <td>6.780000e+06</td>\n",
       "      <td>3.000000</td>\n",
       "      <td>2.700000</td>\n",
       "    </tr>\n",
       "    <tr>\n",
       "      <th>max</th>\n",
       "      <td>900.000000</td>\n",
       "      <td>7.630000e+08</td>\n",
       "      <td>19.000000</td>\n",
       "      <td>32.000000</td>\n",
       "    </tr>\n",
       "  </tbody>\n",
       "</table>\n",
       "</div>"
      ],
      "text/plain": [
       "         total_area    last_price         rooms  ceiling_height\n",
       "count  23649.000000  2.364900e+04  23649.000000    23649.000000\n",
       "mean      60.300055  6.528054e+06      2.070616        2.700858\n",
       "std       35.516638  1.086966e+07      1.078139        0.733050\n",
       "min       12.000000  1.219000e+04      0.000000        1.000000\n",
       "25%       40.000000  3.400000e+06      1.000000        2.600000\n",
       "50%       52.000000  4.644000e+06      2.000000        2.600000\n",
       "75%       69.700000  6.780000e+06      3.000000        2.700000\n",
       "max      900.000000  7.630000e+08     19.000000       32.000000"
      ]
     },
     "execution_count": 35,
     "metadata": {},
     "output_type": "execute_result"
    }
   ],
   "source": [
    "data[['total_area', 'last_price', 'rooms', 'ceiling_height']].describe()"
   ]
  },
  {
   "cell_type": "markdown",
   "metadata": {},
   "source": [
    "по площади есть как квартира 12 кв.м., так и 900 кв.м. В среднем 60 м2;\n",
    "по цене за квартиру - есть варианты и за 12 тысяч рублей, есть за 763 млн;\n",
    "число комнат - от 0  до 19. Возможно, это нежилые помещения;\n",
    "высота потолков - от 1 до 100 метров."
   ]
  },
  {
   "cell_type": "code",
   "execution_count": 36,
   "metadata": {},
   "outputs": [
    {
     "name": "stdout",
     "output_type": "stream",
     "text": [
      "[[<AxesSubplot:title={'center':'total_area'}>]]\n",
      "[[<AxesSubplot:title={'center':'last_price'}>]]\n",
      "[[<AxesSubplot:title={'center':'rooms'}>]]\n",
      "[[<AxesSubplot:title={'center':'ceiling_height'}>]]\n"
     ]
    },
    {
     "data": {
      "image/png": "[encoded data removed]",
      "text/plain": [
       "<Figure size 432x288 with 1 Axes>"
      ]
     },
     "metadata": {
      "needs_background": "light"
     },
     "output_type": "display_data"
    },
    {
     "data": {
      "image/png": "[encoded data removed]",
      "text/plain": [
       "<Figure size 432x288 with 1 Axes>"
      ]
     },
     "metadata": {
      "needs_background": "light"
     },
     "output_type": "display_data"
    },
    {
     "data": {
      "image/png": "[encoded data removed]",
      "text/plain": [
       "<Figure size 432x288 with 1 Axes>"
      ]
     },
     "metadata": {
      "needs_background": "light"
     },
     "output_type": "display_data"
    },
    {
     "data": {
      "image/png": "[encoded data removed]",
      "text/plain": [
       "<Figure size 432x288 with 1 Axes>"
      ]
     },
     "metadata": {
      "needs_background": "light"
     },
     "output_type": "display_data"
    }
   ],
   "source": [
    "#Построим гистограмму для площади\n",
    "#Построим гистограмму для цены\n",
    "#Построим гистограмму для числа комнат\n",
    "#Построим гистограмму для высоты потолка\n",
    "print(data.hist('total_area', bins=20))\n",
    "print(data.hist('last_price', bins=20))\n",
    "print(data.hist('rooms', bins=20))\n",
    "print(data.hist('ceiling_height', bins=20))"
   ]
  },
  {
   "cell_type": "markdown",
   "metadata": {},
   "source": [
    "4.2 Изучем время продажи квартиры"
   ]
  },
  {
   "cell_type": "code",
   "execution_count": 37,
   "metadata": {
    "scrolled": true
   },
   "outputs": [
    {
     "data": {
      "text/plain": [
       "count    20480.000000\n",
       "mean       180.744189\n",
       "std        219.281202\n",
       "min          1.000000\n",
       "25%         45.000000\n",
       "50%         95.000000\n",
       "75%        232.000000\n",
       "max       1580.000000\n",
       "Name: days_exposition, dtype: float64"
      ]
     },
     "metadata": {},
     "output_type": "display_data"
    },
    {
     "data": {
      "text/plain": [
       "95.0"
      ]
     },
     "metadata": {},
     "output_type": "display_data"
    }
   ],
   "source": [
    "display(data['days_exposition'].describe())\n",
    "display(data['days_exposition'].median())"
   ]
  },
  {
   "cell_type": "markdown",
   "metadata": {},
   "source": [
    "В среднем продажа квартиры занимает 180 дней, а по медиане 95 дней. Что очень даже не плохо для продажи квартиры. Максимальное время продаж занимает 1580 дней, возможно это квартира за 900 миллионов"
   ]
  },
  {
   "cell_type": "code",
   "execution_count": 38,
   "metadata": {},
   "outputs": [
    {
     "data": {
      "text/plain": [
       "<AxesSubplot:>"
      ]
     },
     "execution_count": 38,
     "metadata": {},
     "output_type": "execute_result"
    },
    {
     "data": {
      "image/png": "[encoded data removed]",
      "text/plain": [
       "<Figure size 432x288 with 1 Axes>"
      ]
     },
     "metadata": {
      "needs_background": "light"
     },
     "output_type": "display_data"
    }
   ],
   "source": [
    "data['days_exposition'].hist(bins=20)"
   ]
  },
  {
   "cell_type": "code",
   "execution_count": 39,
   "metadata": {},
   "outputs": [
    {
     "data": {
      "text/plain": [
       "<AxesSubplot:>"
      ]
     },
     "execution_count": 39,
     "metadata": {},
     "output_type": "execute_result"
    },
    {
     "data": {
      "image/png": "[encoded data removed]",
      "text/plain": [
       "<Figure size 432x288 with 1 Axes>"
      ]
     },
     "metadata": {
      "needs_background": "light"
     },
     "output_type": "display_data"
    }
   ],
   "source": [
    "#Построим боксплот, чтобы визуально посмотреть\n",
    "data.boxplot(column='days_exposition')"
   ]
  },
  {
   "cell_type": "markdown",
   "metadata": {},
   "source": [
    "Ограничу срок продажи 500 днями, чтоб убрать редкие и выбивающие значения."
   ]
  },
  {
   "cell_type": "code",
   "execution_count": 40,
   "metadata": {},
   "outputs": [
    {
     "data": {
      "text/plain": [
       "<AxesSubplot:>"
      ]
     },
     "execution_count": 40,
     "metadata": {},
     "output_type": "execute_result"
    },
    {
     "data": {
      "image/png": "[encoded data removed]",
      "text/plain": [
       "<Figure size 720x216 with 1 Axes>"
      ]
     },
     "metadata": {
      "needs_background": "light"
     },
     "output_type": "display_data"
    }
   ],
   "source": [
    "data.query('days_exposition<500')['days_exposition'].hist(bins=30, figsize=(10,3))"
   ]
  },
  {
   "cell_type": "markdown",
   "metadata": {},
   "source": [
    "На первый взгляд нет выбивающих значений, ограничим срок продажи до 500 дней "
   ]
  },
  {
   "cell_type": "markdown",
   "metadata": {},
   "source": [
    "4.3 Уберем редкие и выбивающие значения. Что бы их найти для этого ограничим срок продажи до 250 дней"
   ]
  },
  {
   "cell_type": "code",
   "execution_count": 41,
   "metadata": {
    "scrolled": false
   },
   "outputs": [
    {
     "data": {
      "text/plain": [
       "<AxesSubplot:>"
      ]
     },
     "execution_count": 41,
     "metadata": {},
     "output_type": "execute_result"
    },
    {
     "data": {
      "image/png": "[encoded data removed]",
      "text/plain": [
       "<Figure size 720x216 with 1 Axes>"
      ]
     },
     "metadata": {
      "needs_background": "light"
     },
     "output_type": "display_data"
    }
   ],
   "source": [
    "data.query('days_exposition<250')['days_exposition'].hist(bins=30, figsize=(10,3))"
   ]
  },
  {
   "cell_type": "markdown",
   "metadata": {},
   "source": [
    "Вот они и пики по ним видно, что чаще всего квартиры продаются в срок от 40 до 65 дней.Посмотрим значения которые входят в этот диапозон."
   ]
  },
  {
   "cell_type": "code",
   "execution_count": 42,
   "metadata": {},
   "outputs": [
    {
     "data": {
      "text/plain": [
       "<AxesSubplot:>"
      ]
     },
     "execution_count": 42,
     "metadata": {},
     "output_type": "execute_result"
    },
    {
     "data": {
      "image/png": "[encoded data removed]",
      "text/plain": [
       "<Figure size 720x216 with 1 Axes>"
      ]
     },
     "metadata": {
      "needs_background": "light"
     },
     "output_type": "display_data"
    }
   ],
   "source": [
    "data.query('40<days_exposition<65')['days_exposition'].hist(bins=30, figsize=(10,3))"
   ]
  },
  {
   "cell_type": "markdown",
   "metadata": {},
   "source": [
    "Больше всего квартир продается на 45 день и на 60 день, можно предположить что программа самостоятельно закрывает объявления, поэтому такое большое количество приходится на эти дни."
   ]
  },
  {
   "cell_type": "code",
   "execution_count": 43,
   "metadata": {},
   "outputs": [
    {
     "data": {
      "text/plain": [
       "<AxesSubplot:>"
      ]
     },
     "execution_count": 43,
     "metadata": {},
     "output_type": "execute_result"
    },
    {
     "data": {
      "image/png": "[encoded data removed]",
      "text/plain": [
       "<Figure size 432x288 with 1 Axes>"
      ]
     },
     "metadata": {
      "needs_background": "light"
     },
     "output_type": "display_data"
    }
   ],
   "source": [
    "#Построим боксплот, чтобы визуально посмотреть на выбросы\n",
    "data.boxplot(column='ceiling_height')"
   ]
  },
  {
   "cell_type": "markdown",
   "metadata": {},
   "source": [
    " Предлагаю удалить редкие и выбивающие значения 'ceiling_height' и посмотреть на гистограмму '2,25 < ceiling_height <= 3'"
   ]
  },
  {
   "cell_type": "code",
   "execution_count": 44,
   "metadata": {},
   "outputs": [
    {
     "name": "stdout",
     "output_type": "stream",
     "text": [
      "AxesSubplot(0.125,0.125;0.775x0.755)\n"
     ]
    },
    {
     "data": {
      "image/png": "[encoded data removed]",
      "text/plain": [
       "<Figure size 432x288 with 1 Axes>"
      ]
     },
     "metadata": {
      "needs_background": "light"
     },
     "output_type": "display_data"
    }
   ],
   "source": [
    "print(data.query('2.25 <ceiling_height <= 3')['ceiling_height'].hist( bins=20))"
   ]
  },
  {
   "cell_type": "code",
   "execution_count": 45,
   "metadata": {},
   "outputs": [
    {
     "data": {
      "text/plain": [
       "<AxesSubplot:>"
      ]
     },
     "execution_count": 45,
     "metadata": {},
     "output_type": "execute_result"
    },
    {
     "data": {
      "image/png": "[encoded data removed]",
      "text/plain": [
       "<Figure size 432x288 with 1 Axes>"
      ]
     },
     "metadata": {
      "needs_background": "light"
     },
     "output_type": "display_data"
    }
   ],
   "source": [
    "#Построим боксплот, чтобы визуально посмотреть на выбросы\n",
    "data.boxplot(column='last_price')"
   ]
  },
  {
   "cell_type": "markdown",
   "metadata": {},
   "source": [
    " Выбросов очень много. Предлагаю удалить редкие и выбивающие значения 'last_price' и посмотреть на гистограмму '3000000 < last_price <= 10000000'"
   ]
  },
  {
   "cell_type": "code",
   "execution_count": 46,
   "metadata": {},
   "outputs": [
    {
     "name": "stdout",
     "output_type": "stream",
     "text": [
      "AxesSubplot(0.125,0.125;0.775x0.755)\n"
     ]
    },
    {
     "data": {
      "image/png": "[encoded data removed]",
      "text/plain": [
       "<Figure size 432x288 with 1 Axes>"
      ]
     },
     "metadata": {
      "needs_background": "light"
     },
     "output_type": "display_data"
    }
   ],
   "source": [
    "print(data.query('3000000 < last_price <= 10000000')['last_price'].hist( bins=20))"
   ]
  },
  {
   "cell_type": "markdown",
   "metadata": {},
   "source": [
    "4.4 Какие факторы больше всего влияют на стоимость квартиры? Изучите, зависит ли цена от площади, числа комнат, удалённости от центра. Изучите зависимость цены от того, на каком этаже расположена квартира: первом, последнем или другом. Также изучите зависимость от даты размещения: дня недели, месяца и года.\n"
   ]
  },
  {
   "cell_type": "markdown",
   "metadata": {},
   "source": [
    "Смотрим зависимость цены от количества комнат:"
   ]
  },
  {
   "cell_type": "code",
   "execution_count": 47,
   "metadata": {},
   "outputs": [
    {
     "data": {
      "text/plain": [
       "<AxesSubplot:title={'center':'rooms'}, xlabel='rooms'>"
      ]
     },
     "execution_count": 47,
     "metadata": {},
     "output_type": "execute_result"
    },
    {
     "data": {
      "image/png": "[encoded data removed]",
      "text/plain": [
       "<Figure size 720x360 with 1 Axes>"
      ]
     },
     "metadata": {
      "needs_background": "light"
     },
     "output_type": "display_data"
    }
   ],
   "source": [
    "data_rooms = data.groupby('rooms').median()['last_price']\n",
    "data_rooms.plot(x='rooms', y='last_price', kind='bar',figsize=(10,5), title='rooms', legend=None, fontsize=15 )   \n"
   ]
  },
  {
   "cell_type": "code",
   "execution_count": 48,
   "metadata": {},
   "outputs": [
    {
     "data": {
      "text/plain": [
       "<AxesSubplot:>"
      ]
     },
     "execution_count": 48,
     "metadata": {},
     "output_type": "execute_result"
    },
    {
     "data": {
      "image/png": "[encoded data removed]",
      "text/plain": [
       "<Figure size 432x288 with 1 Axes>"
      ]
     },
     "metadata": {
      "needs_background": "light"
     },
     "output_type": "display_data"
    }
   ],
   "source": [
    "#Посмотрим на выбросы:\n",
    "data.boxplot(column='rooms')"
   ]
  },
  {
   "cell_type": "code",
   "execution_count": 49,
   "metadata": {},
   "outputs": [
    {
     "data": {
      "text/plain": [
       "<AxesSubplot:title={'center':'rooms'}, xlabel='rooms'>"
      ]
     },
     "execution_count": 49,
     "metadata": {},
     "output_type": "execute_result"
    },
    {
     "data": {
      "image/png": "[encoded data removed]",
      "text/plain": [
       "<Figure size 720x360 with 1 Axes>"
      ]
     },
     "metadata": {
      "needs_background": "light"
     },
     "output_type": "display_data"
    }
   ],
   "source": [
    " #Исключим выбросы\n",
    "data_rooms_filtered = data.query('rooms <= 6').groupby('rooms').median()['last_price']\n",
    "data_rooms_filtered.plot(x='rooms', y='last_price', kind='bar',figsize=(10,5), title='rooms', legend=None, \n",
    "                            fontsize=15 )    "
   ]
  },
  {
   "cell_type": "markdown",
   "metadata": {},
   "source": [
    "Зависимость чем больше комнат, тем выше цена наблюдается до 7 комнат. Далее - единичные значения (выбросы)."
   ]
  },
  {
   "cell_type": "markdown",
   "metadata": {},
   "source": [
    "Смотрим зависимость от площади"
   ]
  },
  {
   "cell_type": "code",
   "execution_count": 50,
   "metadata": {},
   "outputs": [
    {
     "data": {
      "text/plain": [
       "<AxesSubplot:title={'center':'total_area'}, xlabel='total_area'>"
      ]
     },
     "execution_count": 50,
     "metadata": {},
     "output_type": "execute_result"
    },
    {
     "data": {
      "image/png": "[encoded data removed]",
      "text/plain": [
       "<Figure size 720x360 with 1 Axes>"
      ]
     },
     "metadata": {
      "needs_background": "light"
     },
     "output_type": "display_data"
    }
   ],
   "source": [
    "data_filtered = data.groupby('total_area').median()['last_price']\n",
    "data_filtered.plot(x='total_area', y='last_price', kind='bar',figsize=(10,5), title='total_area', legend=None, \n",
    "                            fontsize=15 )"
   ]
  },
  {
   "cell_type": "markdown",
   "metadata": {},
   "source": [
    "Чтобы лучще оценить зависимость цены от площади, предлагаю площадь квартиры поделить на категории, сщгласно данных по столбцу методом describe()\n",
    "* \"Более 40 м2\"\n",
    "* \"От 41 до 52 м2\"\n",
    "* \"От 53 до 70 м2\"\n",
    "* \"Более 71 м2\""
   ]
  },
  {
   "cell_type": "code",
   "execution_count": 51,
   "metadata": {},
   "outputs": [
    {
     "data": {
      "text/html": [
       "<div>\n",
       "<style scoped>\n",
       "    .dataframe tbody tr th:only-of-type {\n",
       "        vertical-align: middle;\n",
       "    }\n",
       "\n",
       "    .dataframe tbody tr th {\n",
       "        vertical-align: top;\n",
       "    }\n",
       "\n",
       "    .dataframe thead th {\n",
       "        text-align: right;\n",
       "    }\n",
       "</style>\n",
       "<table border=\"1\" class=\"dataframe\">\n",
       "  <thead>\n",
       "    <tr style=\"text-align: right;\">\n",
       "      <th></th>\n",
       "      <th>total_images</th>\n",
       "      <th>last_price</th>\n",
       "      <th>total_area</th>\n",
       "      <th>first_day_exposition</th>\n",
       "      <th>rooms</th>\n",
       "      <th>ceiling_height</th>\n",
       "      <th>floors_total</th>\n",
       "      <th>living_area</th>\n",
       "      <th>floor</th>\n",
       "      <th>is_apartment</th>\n",
       "      <th>...</th>\n",
       "      <th>ponds_nearest</th>\n",
       "      <th>days_exposition</th>\n",
       "      <th>price_m2</th>\n",
       "      <th>weekday</th>\n",
       "      <th>year</th>\n",
       "      <th>month</th>\n",
       "      <th>floor_categoria</th>\n",
       "      <th>living_area_attitude</th>\n",
       "      <th>kitchen_area_attitude</th>\n",
       "      <th>total_area_category</th>\n",
       "    </tr>\n",
       "  </thead>\n",
       "  <tbody>\n",
       "    <tr>\n",
       "      <th>0</th>\n",
       "      <td>20</td>\n",
       "      <td>13000000</td>\n",
       "      <td>108.0</td>\n",
       "      <td>2019-03-07</td>\n",
       "      <td>3</td>\n",
       "      <td>2.7</td>\n",
       "      <td>16</td>\n",
       "      <td>51.0</td>\n",
       "      <td>8</td>\n",
       "      <td>False</td>\n",
       "      <td>...</td>\n",
       "      <td>755.0</td>\n",
       "      <td>NaN</td>\n",
       "      <td>254901.960784</td>\n",
       "      <td>четверг</td>\n",
       "      <td>2019</td>\n",
       "      <td>3</td>\n",
       "      <td>другой</td>\n",
       "      <td>0.472222</td>\n",
       "      <td>0.231481</td>\n",
       "      <td>Более 71 м2</td>\n",
       "    </tr>\n",
       "    <tr>\n",
       "      <th>1</th>\n",
       "      <td>7</td>\n",
       "      <td>3350000</td>\n",
       "      <td>40.4</td>\n",
       "      <td>2018-12-04</td>\n",
       "      <td>1</td>\n",
       "      <td>2.6</td>\n",
       "      <td>11</td>\n",
       "      <td>18.6</td>\n",
       "      <td>1</td>\n",
       "      <td>False</td>\n",
       "      <td>...</td>\n",
       "      <td>NaN</td>\n",
       "      <td>81.0</td>\n",
       "      <td>180107.526882</td>\n",
       "      <td>вторник</td>\n",
       "      <td>2018</td>\n",
       "      <td>12</td>\n",
       "      <td>первый</td>\n",
       "      <td>0.460396</td>\n",
       "      <td>0.272277</td>\n",
       "      <td>None</td>\n",
       "    </tr>\n",
       "    <tr>\n",
       "      <th>2</th>\n",
       "      <td>10</td>\n",
       "      <td>5196000</td>\n",
       "      <td>56.0</td>\n",
       "      <td>2015-08-20</td>\n",
       "      <td>2</td>\n",
       "      <td>2.6</td>\n",
       "      <td>5</td>\n",
       "      <td>34.3</td>\n",
       "      <td>4</td>\n",
       "      <td>False</td>\n",
       "      <td>...</td>\n",
       "      <td>574.0</td>\n",
       "      <td>558.0</td>\n",
       "      <td>151486.880466</td>\n",
       "      <td>четверг</td>\n",
       "      <td>2015</td>\n",
       "      <td>8</td>\n",
       "      <td>другой</td>\n",
       "      <td>0.612500</td>\n",
       "      <td>0.148214</td>\n",
       "      <td>От 53 до 70 м2</td>\n",
       "    </tr>\n",
       "    <tr>\n",
       "      <th>3</th>\n",
       "      <td>0</td>\n",
       "      <td>64900000</td>\n",
       "      <td>159.0</td>\n",
       "      <td>2015-07-24</td>\n",
       "      <td>3</td>\n",
       "      <td>2.6</td>\n",
       "      <td>14</td>\n",
       "      <td>NaN</td>\n",
       "      <td>9</td>\n",
       "      <td>False</td>\n",
       "      <td>...</td>\n",
       "      <td>234.0</td>\n",
       "      <td>424.0</td>\n",
       "      <td>NaN</td>\n",
       "      <td>пятница</td>\n",
       "      <td>2015</td>\n",
       "      <td>7</td>\n",
       "      <td>другой</td>\n",
       "      <td>NaN</td>\n",
       "      <td>NaN</td>\n",
       "      <td>Более 71 м2</td>\n",
       "    </tr>\n",
       "    <tr>\n",
       "      <th>4</th>\n",
       "      <td>2</td>\n",
       "      <td>10000000</td>\n",
       "      <td>100.0</td>\n",
       "      <td>2018-06-19</td>\n",
       "      <td>2</td>\n",
       "      <td>3.0</td>\n",
       "      <td>14</td>\n",
       "      <td>32.0</td>\n",
       "      <td>13</td>\n",
       "      <td>False</td>\n",
       "      <td>...</td>\n",
       "      <td>48.0</td>\n",
       "      <td>121.0</td>\n",
       "      <td>312500.000000</td>\n",
       "      <td>вторник</td>\n",
       "      <td>2018</td>\n",
       "      <td>6</td>\n",
       "      <td>другой</td>\n",
       "      <td>0.320000</td>\n",
       "      <td>0.410000</td>\n",
       "      <td>Более 71 м2</td>\n",
       "    </tr>\n",
       "  </tbody>\n",
       "</table>\n",
       "<p>5 rows × 30 columns</p>\n",
       "</div>"
      ],
      "text/plain": [
       "   total_images  last_price  total_area first_day_exposition  rooms  \\\n",
       "0            20    13000000       108.0           2019-03-07      3   \n",
       "1             7     3350000        40.4           2018-12-04      1   \n",
       "2            10     5196000        56.0           2015-08-20      2   \n",
       "3             0    64900000       159.0           2015-07-24      3   \n",
       "4             2    10000000       100.0           2018-06-19      2   \n",
       "\n",
       "   ceiling_height  floors_total  living_area  floor  is_apartment  ...  \\\n",
       "0             2.7            16         51.0      8         False  ...   \n",
       "1             2.6            11         18.6      1         False  ...   \n",
       "2             2.6             5         34.3      4         False  ...   \n",
       "3             2.6            14          NaN      9         False  ...   \n",
       "4             3.0            14         32.0     13         False  ...   \n",
       "\n",
       "   ponds_nearest  days_exposition       price_m2   weekday  year  month  \\\n",
       "0          755.0              NaN  254901.960784   четверг  2019      3   \n",
       "1            NaN             81.0  180107.526882   вторник  2018     12   \n",
       "2          574.0            558.0  151486.880466   четверг  2015      8   \n",
       "3          234.0            424.0            NaN   пятница  2015      7   \n",
       "4           48.0            121.0  312500.000000   вторник  2018      6   \n",
       "\n",
       "   floor_categoria  living_area_attitude  kitchen_area_attitude  \\\n",
       "0           другой              0.472222               0.231481   \n",
       "1           первый              0.460396               0.272277   \n",
       "2           другой              0.612500               0.148214   \n",
       "3           другой                   NaN                    NaN   \n",
       "4           другой              0.320000               0.410000   \n",
       "\n",
       "   total_area_category  \n",
       "0          Более 71 м2  \n",
       "1                 None  \n",
       "2       От 53 до 70 м2  \n",
       "3          Более 71 м2  \n",
       "4          Более 71 м2  \n",
       "\n",
       "[5 rows x 30 columns]"
      ]
     },
     "execution_count": 51,
     "metadata": {},
     "output_type": "execute_result"
    }
   ],
   "source": [
    "def total_area_category(total_area):\n",
    "    if total_area <= 40.0:\n",
    "        return 'Более 40 м2'\n",
    "    if 41.0 < total_area <= 52.0:\n",
    "        return 'От 41 до 52 м2'\n",
    "    if 53.0 < total_area <= 70.0:\n",
    "        return 'От 53 до 70 м2'\n",
    "    if total_area > 71.0:\n",
    "        return 'Более 71 м2'\n",
    "      \n",
    "data['total_area_category'] = data['total_area'].apply(total_area_category)\n",
    "data.head(5)"
   ]
  },
  {
   "cell_type": "code",
   "execution_count": 52,
   "metadata": {},
   "outputs": [
    {
     "data": {
      "text/plain": [
       "<AxesSubplot:title={'center':'total_area_category'}, xlabel='total_area_category'>"
      ]
     },
     "execution_count": 52,
     "metadata": {},
     "output_type": "execute_result"
    },
    {
     "data": {
      "image/png": "[encoded data removed]",
      "text/plain": [
       "<Figure size 720x360 with 1 Axes>"
      ]
     },
     "metadata": {
      "needs_background": "light"
     },
     "output_type": "display_data"
    }
   ],
   "source": [
    "#Зависимость от площади\n",
    "data_total_area = data.groupby('total_area_category').median()['last_price']\n",
    "data_total_area.plot(x='total_area_category', y='last_price', kind='bar',figsize=(10,5), title='total_area_category', legend=None, \n",
    "                            fontsize=15 )"
   ]
  },
  {
   "cell_type": "markdown",
   "metadata": {},
   "source": [
    "Чем больше площадь квартиры, тем выше ее стоимость."
   ]
  },
  {
   "cell_type": "markdown",
   "metadata": {},
   "source": [
    "Смотрим зависимость цены от этажа:"
   ]
  },
  {
   "cell_type": "code",
   "execution_count": 53,
   "metadata": {},
   "outputs": [
    {
     "data": {
      "text/plain": [
       "<AxesSubplot:title={'center':'floor_categoria'}, xlabel='floor_categoria'>"
      ]
     },
     "execution_count": 53,
     "metadata": {},
     "output_type": "execute_result"
    },
    {
     "data": {
      "image/png": "[encoded data removed]",
      "text/plain": [
       "<Figure size 720x360 with 1 Axes>"
      ]
     },
     "metadata": {
      "needs_background": "light"
     },
     "output_type": "display_data"
    }
   ],
   "source": [
    "data_floor_filtered = data.groupby('floor_categoria').median()['last_price']\n",
    "data_floor_filtered.plot(x='floor_categoria', y='last_price', kind='bar',figsize=(10,5), title='floor_categoria', legend=None, \n",
    "                            fontsize=15 )"
   ]
  },
  {
   "cell_type": "markdown",
   "metadata": {},
   "source": [
    "На первом этаже самые дешевые квартиры, на последнем тоже дешевле, но не как на первом."
   ]
  },
  {
   "cell_type": "markdown",
   "metadata": {},
   "source": [
    "По удалённости от центра"
   ]
  },
  {
   "cell_type": "code",
   "execution_count": 54,
   "metadata": {},
   "outputs": [
    {
     "data": {
      "text/plain": [
       "<AxesSubplot:title={'center':'cityCenters_nearest'}, xlabel='cityCenters_nearest'>"
      ]
     },
     "execution_count": 54,
     "metadata": {},
     "output_type": "execute_result"
    },
    {
     "data": {
      "image/png": "[encoded data removed]",
      "text/plain": [
       "<Figure size 720x360 with 1 Axes>"
      ]
     },
     "metadata": {
      "needs_background": "light"
     },
     "output_type": "display_data"
    }
   ],
   "source": [
    "data_cityCenter_filtered = data.groupby('cityCenters_nearest').median()['last_price']\n",
    "data_cityCenter_filtered.plot(x='cityCenters_nearest', y='last_price', kind='bar',figsize=(10,5), title='cityCenters_nearest', legend=None, \n",
    "                            fontsize=15 )"
   ]
  },
  {
   "cell_type": "markdown",
   "metadata": {},
   "source": [
    "Предлагаю расстояние поделить на группы:(0-5 центр),( 5-10 За центром), (10-15 окрайна города),(15 и более Область)"
   ]
  },
  {
   "cell_type": "code",
   "execution_count": 55,
   "metadata": {},
   "outputs": [
    {
     "data": {
      "text/html": [
       "<div>\n",
       "<style scoped>\n",
       "    .dataframe tbody tr th:only-of-type {\n",
       "        vertical-align: middle;\n",
       "    }\n",
       "\n",
       "    .dataframe tbody tr th {\n",
       "        vertical-align: top;\n",
       "    }\n",
       "\n",
       "    .dataframe thead th {\n",
       "        text-align: right;\n",
       "    }\n",
       "</style>\n",
       "<table border=\"1\" class=\"dataframe\">\n",
       "  <thead>\n",
       "    <tr style=\"text-align: right;\">\n",
       "      <th></th>\n",
       "      <th>total_images</th>\n",
       "      <th>last_price</th>\n",
       "      <th>total_area</th>\n",
       "      <th>first_day_exposition</th>\n",
       "      <th>rooms</th>\n",
       "      <th>ceiling_height</th>\n",
       "      <th>floors_total</th>\n",
       "      <th>living_area</th>\n",
       "      <th>floor</th>\n",
       "      <th>is_apartment</th>\n",
       "      <th>...</th>\n",
       "      <th>days_exposition</th>\n",
       "      <th>price_m2</th>\n",
       "      <th>weekday</th>\n",
       "      <th>year</th>\n",
       "      <th>month</th>\n",
       "      <th>floor_categoria</th>\n",
       "      <th>living_area_attitude</th>\n",
       "      <th>kitchen_area_attitude</th>\n",
       "      <th>total_area_category</th>\n",
       "      <th>cityCenters_category</th>\n",
       "    </tr>\n",
       "  </thead>\n",
       "  <tbody>\n",
       "    <tr>\n",
       "      <th>0</th>\n",
       "      <td>20</td>\n",
       "      <td>13000000</td>\n",
       "      <td>108.0</td>\n",
       "      <td>2019-03-07</td>\n",
       "      <td>3</td>\n",
       "      <td>2.7</td>\n",
       "      <td>16</td>\n",
       "      <td>51.0</td>\n",
       "      <td>8</td>\n",
       "      <td>False</td>\n",
       "      <td>...</td>\n",
       "      <td>NaN</td>\n",
       "      <td>254901.960784</td>\n",
       "      <td>четверг</td>\n",
       "      <td>2019</td>\n",
       "      <td>3</td>\n",
       "      <td>другой</td>\n",
       "      <td>0.472222</td>\n",
       "      <td>0.231481</td>\n",
       "      <td>Более 71 м2</td>\n",
       "      <td>Область</td>\n",
       "    </tr>\n",
       "    <tr>\n",
       "      <th>1</th>\n",
       "      <td>7</td>\n",
       "      <td>3350000</td>\n",
       "      <td>40.4</td>\n",
       "      <td>2018-12-04</td>\n",
       "      <td>1</td>\n",
       "      <td>2.6</td>\n",
       "      <td>11</td>\n",
       "      <td>18.6</td>\n",
       "      <td>1</td>\n",
       "      <td>False</td>\n",
       "      <td>...</td>\n",
       "      <td>81.0</td>\n",
       "      <td>180107.526882</td>\n",
       "      <td>вторник</td>\n",
       "      <td>2018</td>\n",
       "      <td>12</td>\n",
       "      <td>первый</td>\n",
       "      <td>0.460396</td>\n",
       "      <td>0.272277</td>\n",
       "      <td>None</td>\n",
       "      <td>Область</td>\n",
       "    </tr>\n",
       "    <tr>\n",
       "      <th>2</th>\n",
       "      <td>10</td>\n",
       "      <td>5196000</td>\n",
       "      <td>56.0</td>\n",
       "      <td>2015-08-20</td>\n",
       "      <td>2</td>\n",
       "      <td>2.6</td>\n",
       "      <td>5</td>\n",
       "      <td>34.3</td>\n",
       "      <td>4</td>\n",
       "      <td>False</td>\n",
       "      <td>...</td>\n",
       "      <td>558.0</td>\n",
       "      <td>151486.880466</td>\n",
       "      <td>четверг</td>\n",
       "      <td>2015</td>\n",
       "      <td>8</td>\n",
       "      <td>другой</td>\n",
       "      <td>0.612500</td>\n",
       "      <td>0.148214</td>\n",
       "      <td>От 53 до 70 м2</td>\n",
       "      <td>Окрайна города</td>\n",
       "    </tr>\n",
       "    <tr>\n",
       "      <th>3</th>\n",
       "      <td>0</td>\n",
       "      <td>64900000</td>\n",
       "      <td>159.0</td>\n",
       "      <td>2015-07-24</td>\n",
       "      <td>3</td>\n",
       "      <td>2.6</td>\n",
       "      <td>14</td>\n",
       "      <td>NaN</td>\n",
       "      <td>9</td>\n",
       "      <td>False</td>\n",
       "      <td>...</td>\n",
       "      <td>424.0</td>\n",
       "      <td>NaN</td>\n",
       "      <td>пятница</td>\n",
       "      <td>2015</td>\n",
       "      <td>7</td>\n",
       "      <td>другой</td>\n",
       "      <td>NaN</td>\n",
       "      <td>NaN</td>\n",
       "      <td>Более 71 м2</td>\n",
       "      <td>За центром</td>\n",
       "    </tr>\n",
       "    <tr>\n",
       "      <th>4</th>\n",
       "      <td>2</td>\n",
       "      <td>10000000</td>\n",
       "      <td>100.0</td>\n",
       "      <td>2018-06-19</td>\n",
       "      <td>2</td>\n",
       "      <td>3.0</td>\n",
       "      <td>14</td>\n",
       "      <td>32.0</td>\n",
       "      <td>13</td>\n",
       "      <td>False</td>\n",
       "      <td>...</td>\n",
       "      <td>121.0</td>\n",
       "      <td>312500.000000</td>\n",
       "      <td>вторник</td>\n",
       "      <td>2018</td>\n",
       "      <td>6</td>\n",
       "      <td>другой</td>\n",
       "      <td>0.320000</td>\n",
       "      <td>0.410000</td>\n",
       "      <td>Более 71 м2</td>\n",
       "      <td>За центром</td>\n",
       "    </tr>\n",
       "  </tbody>\n",
       "</table>\n",
       "<p>5 rows × 31 columns</p>\n",
       "</div>"
      ],
      "text/plain": [
       "   total_images  last_price  total_area first_day_exposition  rooms  \\\n",
       "0            20    13000000       108.0           2019-03-07      3   \n",
       "1             7     3350000        40.4           2018-12-04      1   \n",
       "2            10     5196000        56.0           2015-08-20      2   \n",
       "3             0    64900000       159.0           2015-07-24      3   \n",
       "4             2    10000000       100.0           2018-06-19      2   \n",
       "\n",
       "   ceiling_height  floors_total  living_area  floor  is_apartment  ...  \\\n",
       "0             2.7            16         51.0      8         False  ...   \n",
       "1             2.6            11         18.6      1         False  ...   \n",
       "2             2.6             5         34.3      4         False  ...   \n",
       "3             2.6            14          NaN      9         False  ...   \n",
       "4             3.0            14         32.0     13         False  ...   \n",
       "\n",
       "   days_exposition       price_m2   weekday  year month  floor_categoria  \\\n",
       "0              NaN  254901.960784   четверг  2019     3           другой   \n",
       "1             81.0  180107.526882   вторник  2018    12           первый   \n",
       "2            558.0  151486.880466   четверг  2015     8           другой   \n",
       "3            424.0            NaN   пятница  2015     7           другой   \n",
       "4            121.0  312500.000000   вторник  2018     6           другой   \n",
       "\n",
       "   living_area_attitude  kitchen_area_attitude  total_area_category  \\\n",
       "0              0.472222               0.231481          Более 71 м2   \n",
       "1              0.460396               0.272277                 None   \n",
       "2              0.612500               0.148214       От 53 до 70 м2   \n",
       "3                   NaN                    NaN          Более 71 м2   \n",
       "4              0.320000               0.410000          Более 71 м2   \n",
       "\n",
       "   cityCenters_category  \n",
       "0               Область  \n",
       "1               Область  \n",
       "2        Окрайна города  \n",
       "3            За центром  \n",
       "4            За центром  \n",
       "\n",
       "[5 rows x 31 columns]"
      ]
     },
     "execution_count": 55,
     "metadata": {},
     "output_type": "execute_result"
    }
   ],
   "source": [
    "def cityCenters_category(cityCenters_nearest):\n",
    "    if cityCenters_nearest <= 5000:\n",
    "        return 'Центр'\n",
    "    if 5001 < cityCenters_nearest <=10000:\n",
    "        return 'За центром'\n",
    "    if 10001 < cityCenters_nearest <= 15000:\n",
    "        return 'Окрайна города'\n",
    "    if cityCenters_nearest > 15000:\n",
    "        return 'Область'\n",
    "      \n",
    "data['cityCenters_category'] = data['cityCenters_nearest'].apply(cityCenters_category)\n",
    "data.head(5)"
   ]
  },
  {
   "cell_type": "markdown",
   "metadata": {},
   "source": [
    "Смотрим зависимость цены от удалённости от центра:"
   ]
  },
  {
   "cell_type": "code",
   "execution_count": 56,
   "metadata": {},
   "outputs": [
    {
     "data": {
      "text/plain": [
       "<AxesSubplot:title={'center':'cityCenters_category'}, xlabel='cityCenters_category'>"
      ]
     },
     "execution_count": 56,
     "metadata": {},
     "output_type": "execute_result"
    },
    {
     "data": {
      "image/png": "[encoded data removed]",
      "text/plain": [
       "<Figure size 720x360 with 1 Axes>"
      ]
     },
     "metadata": {
      "needs_background": "light"
     },
     "output_type": "display_data"
    }
   ],
   "source": [
    "data_filtered = data.groupby('cityCenters_category').median()['last_price']\n",
    "data_filtered.plot(x='cityCenters_category', y='last_price', kind='bar',figsize=(10,5), title='cityCenters_category', legend=None, \n",
    "                            fontsize=15 )"
   ]
  },
  {
   "cell_type": "markdown",
   "metadata": {},
   "source": [
    "Чем дальше квартира от центра, тем стоимость ее дешевле."
   ]
  },
  {
   "cell_type": "markdown",
   "metadata": {},
   "source": [
    "Изучем зависимость цены от дня недели, месяца и года."
   ]
  },
  {
   "cell_type": "markdown",
   "metadata": {},
   "source": [
    "Посмотрим (медиану) зависимость цены от дня недели"
   ]
  },
  {
   "cell_type": "code",
   "execution_count": 57,
   "metadata": {},
   "outputs": [
    {
     "data": {
      "text/plain": [
       "<AxesSubplot:title={'center':'weekday'}, xlabel='weekday'>"
      ]
     },
     "execution_count": 57,
     "metadata": {},
     "output_type": "execute_result"
    },
    {
     "data": {
      "image/png": "[encoded data removed]",
      "text/plain": [
       "<Figure size 720x360 with 1 Axes>"
      ]
     },
     "metadata": {
      "needs_background": "light"
     },
     "output_type": "display_data"
    }
   ],
   "source": [
    "data_weekday_filtered = data.groupby('weekday').median()['last_price']\n",
    "data_weekday_filtered.plot(x='weekday', y='last_price', kind='bar',figsize=(10,5), title='weekday', legend=None, \n",
    "                            fontsize=15 )"
   ]
  },
  {
   "cell_type": "markdown",
   "metadata": {},
   "source": [
    "Квартиры, размещенные к продаже в будние дни, практически не отличаются от цен в выходные."
   ]
  },
  {
   "cell_type": "markdown",
   "metadata": {},
   "source": [
    "Посмотрим (медиану) зависимость цены от месяца"
   ]
  },
  {
   "cell_type": "code",
   "execution_count": 58,
   "metadata": {},
   "outputs": [
    {
     "data": {
      "text/plain": [
       "<AxesSubplot:title={'center':'month'}, xlabel='month'>"
      ]
     },
     "execution_count": 58,
     "metadata": {},
     "output_type": "execute_result"
    },
    {
     "data": {
      "image/png": "[encoded data removed]",
      "text/plain": [
       "<Figure size 720x360 with 1 Axes>"
      ]
     },
     "metadata": {
      "needs_background": "light"
     },
     "output_type": "display_data"
    }
   ],
   "source": [
    "data_month_filtered = data.groupby('month').median()['last_price']\n",
    "data_month_filtered.plot(x='month', y='last_price', kind='bar',figsize=(10,5), title='month', legend=None, \n",
    "                            fontsize=15 )"
   ]
  },
  {
   "cell_type": "markdown",
   "metadata": {},
   "source": [
    "Квартиры, размещенные к продаже в мае и июне в среднем дешевле, чем размещенные в любые другие месяца. В начале и в конце года цены выше"
   ]
  },
  {
   "cell_type": "markdown",
   "metadata": {},
   "source": [
    "Посмотрим (медиану) зависимость цены от года"
   ]
  },
  {
   "cell_type": "code",
   "execution_count": 59,
   "metadata": {},
   "outputs": [
    {
     "data": {
      "text/plain": [
       "<AxesSubplot:title={'center':'year'}, xlabel='year'>"
      ]
     },
     "execution_count": 59,
     "metadata": {},
     "output_type": "execute_result"
    },
    {
     "data": {
      "image/png": "[encoded data removed]",
      "text/plain": [
       "<Figure size 720x360 with 1 Axes>"
      ]
     },
     "metadata": {
      "needs_background": "light"
     },
     "output_type": "display_data"
    }
   ],
   "source": [
    "data_year_filtered = data.groupby('year').median()['last_price']\n",
    "data_year_filtered.plot(x='year', y='last_price', kind='bar',figsize=(10,5), title='year', legend=None, \n",
    "                            fontsize=15 )"
   ]
  },
  {
   "cell_type": "markdown",
   "metadata": {},
   "source": [
    "Квартиры, размещенные к продаже в 2014 году, дороже всех. Период 2015-2018 - период низких цен на квартиры. 2019г - цены пошли вверх."
   ]
  },
  {
   "cell_type": "markdown",
   "metadata": {},
   "source": [
    "4.5 Выберите 10 населённых пунктов с наибольшим числом объявлений. Посчитайте среднюю цену квадратного метра в этих населённых пунктах. Выделите среди них населённые пункты с самой высокой и низкой стоимостью жилья. Данные берем из столбца locality_name.\n"
   ]
  },
  {
   "cell_type": "code",
   "execution_count": 60,
   "metadata": {
    "scrolled": true
   },
   "outputs": [
    {
     "data": {
      "text/plain": [
       "locality_name\n",
       "Санкт-Петербург      15731\n",
       "посёлок Мурино         522\n",
       "посёлок Шушары         440\n",
       "Всеволожск             397\n",
       "Пушкин                 369\n",
       "Колпино                337\n",
       "посёлок Парголово      327\n",
       "Гатчина                307\n",
       "деревня Кудрово        299\n",
       "Выборг                 234\n",
       "Name: locality_name, dtype: int64"
      ]
     },
     "execution_count": 60,
     "metadata": {},
     "output_type": "execute_result"
    }
   ],
   "source": [
    "data_grouped = data.groupby('locality_name')['locality_name'].count().sort_values(ascending=False)[:10]\n",
    "data_grouped\n"
   ]
  },
  {
   "cell_type": "code",
   "execution_count": 61,
   "metadata": {},
   "outputs": [
    {
     "data": {
      "text/html": [
       "<div>\n",
       "<style scoped>\n",
       "    .dataframe tbody tr th:only-of-type {\n",
       "        vertical-align: middle;\n",
       "    }\n",
       "\n",
       "    .dataframe tbody tr th {\n",
       "        vertical-align: top;\n",
       "    }\n",
       "\n",
       "    .dataframe thead th {\n",
       "        text-align: right;\n",
       "    }\n",
       "</style>\n",
       "<table border=\"1\" class=\"dataframe\">\n",
       "  <thead>\n",
       "    <tr style=\"text-align: right;\">\n",
       "      <th></th>\n",
       "      <th>Средняя цена за кв.м., руб.</th>\n",
       "      <th>Средняя цена за квартиру, руб.</th>\n",
       "    </tr>\n",
       "    <tr>\n",
       "      <th>locality_name</th>\n",
       "      <th></th>\n",
       "      <th></th>\n",
       "    </tr>\n",
       "  </thead>\n",
       "  <tbody>\n",
       "    <tr>\n",
       "      <th>Санкт-Петербург</th>\n",
       "      <td>214720</td>\n",
       "      <td>8042525</td>\n",
       "    </tr>\n",
       "    <tr>\n",
       "      <th>посёлок Парголово</th>\n",
       "      <td>200715</td>\n",
       "      <td>4488074</td>\n",
       "    </tr>\n",
       "    <tr>\n",
       "      <th>Пушкин</th>\n",
       "      <td>192258</td>\n",
       "      <td>6469035</td>\n",
       "    </tr>\n",
       "    <tr>\n",
       "      <th>деревня Кудрово</th>\n",
       "      <td>188191</td>\n",
       "      <td>4234157</td>\n",
       "    </tr>\n",
       "    <tr>\n",
       "      <th>посёлок Мурино</th>\n",
       "      <td>177394</td>\n",
       "      <td>3672049</td>\n",
       "    </tr>\n",
       "    <tr>\n",
       "      <th>посёлок Шушары</th>\n",
       "      <td>156336</td>\n",
       "      <td>4108081</td>\n",
       "    </tr>\n",
       "    <tr>\n",
       "      <th>Всеволожск</th>\n",
       "      <td>133547</td>\n",
       "      <td>3779720</td>\n",
       "    </tr>\n",
       "    <tr>\n",
       "      <th>Гатчина</th>\n",
       "      <td>121750</td>\n",
       "      <td>3488336</td>\n",
       "    </tr>\n",
       "    <tr>\n",
       "      <th>Выборг</th>\n",
       "      <td>98518</td>\n",
       "      <td>3195653</td>\n",
       "    </tr>\n",
       "  </tbody>\n",
       "</table>\n",
       "</div>"
      ],
      "text/plain": [
       "                   Средняя цена за кв.м., руб.  Средняя цена за квартиру, руб.\n",
       "locality_name                                                                 \n",
       "Санкт-Петербург                         214720                         8042525\n",
       "посёлок Парголово                       200715                         4488074\n",
       "Пушкин                                  192258                         6469035\n",
       "деревня Кудрово                         188191                         4234157\n",
       "посёлок Мурино                          177394                         3672049\n",
       "посёлок Шушары                          156336                         4108081\n",
       "Всеволожск                              133547                         3779720\n",
       "Гатчина                                 121750                         3488336\n",
       "Выборг                                   98518                         3195653"
      ]
     },
     "execution_count": 61,
     "metadata": {},
     "output_type": "execute_result"
    }
   ],
   "source": [
    "city=['Санкт-Петербург','посёлок Мурино', 'посёлок Шушары', 'Всеволожск', 'Пушкин', 'Колпино ', 'посёлок Парголово', 'Гатчина', 'деревня Кудрово', 'Выборг']\n",
    "data_top10 = data.query('locality_name in @city') # Отфильтруем таблицу real_estate_data, оставив там только нужные нам населенные пункты\n",
    "mean10_metr = data_top10.groupby('locality_name')['price_m2'].mean().sort_values(ascending=False).astype('int')#Сгруппируем, чтобы посчитать среднее\n",
    "mean10_price =data_top10.groupby('locality_name')['last_price'].mean().sort_values(ascending=False).astype('int')\n",
    "frame = {'Средняя цена за кв.м., руб.': mean10_metr, 'Средняя цена за квартиру, руб.': mean10_price}\n",
    "dataframe = pd.DataFrame(frame).sort_values(by='Средняя цена за кв.м., руб.', ascending=False)\n",
    "dataframe\n"
   ]
  },
  {
   "cell_type": "markdown",
   "metadata": {},
   "source": [
    "Чем дальше от города, тем дешевле. В Выборге средняя цена за квадратный метр в 2 раз ниже, чем в Санкт-Петербурге."
   ]
  },
  {
   "cell_type": "markdown",
   "metadata": {},
   "source": [
    "4.6 Изучите предложения квартир: для каждой квартиры есть информация о расстоянии до центра. Выделите квартиры в Санкт-Петербурге (locality_name). Ваша задача — выяснить, какая область входит в центр. Создайте столбец с расстоянием до центра в километрах: округлите до целых значений. После этого посчитайте среднюю цену для каждого километра. Постройте график: он должен показывать, как цена зависит от удалённости от центра. Определите границу, где график сильно меняется, — это и будет центральная зона.\n"
   ]
  },
  {
   "cell_type": "code",
   "execution_count": 62,
   "metadata": {},
   "outputs": [
    {
     "data": {
      "text/html": [
       "<div>\n",
       "<style scoped>\n",
       "    .dataframe tbody tr th:only-of-type {\n",
       "        vertical-align: middle;\n",
       "    }\n",
       "\n",
       "    .dataframe tbody tr th {\n",
       "        vertical-align: top;\n",
       "    }\n",
       "\n",
       "    .dataframe thead th {\n",
       "        text-align: right;\n",
       "    }\n",
       "</style>\n",
       "<table border=\"1\" class=\"dataframe\">\n",
       "  <thead>\n",
       "    <tr style=\"text-align: right;\">\n",
       "      <th></th>\n",
       "      <th>total_images</th>\n",
       "      <th>last_price</th>\n",
       "      <th>total_area</th>\n",
       "      <th>first_day_exposition</th>\n",
       "      <th>rooms</th>\n",
       "      <th>ceiling_height</th>\n",
       "      <th>floors_total</th>\n",
       "      <th>living_area</th>\n",
       "      <th>floor</th>\n",
       "      <th>is_apartment</th>\n",
       "      <th>...</th>\n",
       "      <th>price_m2</th>\n",
       "      <th>weekday</th>\n",
       "      <th>year</th>\n",
       "      <th>month</th>\n",
       "      <th>floor_categoria</th>\n",
       "      <th>living_area_attitude</th>\n",
       "      <th>kitchen_area_attitude</th>\n",
       "      <th>total_area_category</th>\n",
       "      <th>cityCenters_category</th>\n",
       "      <th>cityCenters_km</th>\n",
       "    </tr>\n",
       "  </thead>\n",
       "  <tbody>\n",
       "    <tr>\n",
       "      <th>0</th>\n",
       "      <td>20</td>\n",
       "      <td>13000000</td>\n",
       "      <td>108.0</td>\n",
       "      <td>2019-03-07</td>\n",
       "      <td>3</td>\n",
       "      <td>2.7</td>\n",
       "      <td>16</td>\n",
       "      <td>51.0</td>\n",
       "      <td>8</td>\n",
       "      <td>False</td>\n",
       "      <td>...</td>\n",
       "      <td>254901.960784</td>\n",
       "      <td>четверг</td>\n",
       "      <td>2019</td>\n",
       "      <td>3</td>\n",
       "      <td>другой</td>\n",
       "      <td>0.472222</td>\n",
       "      <td>0.231481</td>\n",
       "      <td>Более 71 м2</td>\n",
       "      <td>Область</td>\n",
       "      <td>16.0</td>\n",
       "    </tr>\n",
       "    <tr>\n",
       "      <th>2</th>\n",
       "      <td>10</td>\n",
       "      <td>5196000</td>\n",
       "      <td>56.0</td>\n",
       "      <td>2015-08-20</td>\n",
       "      <td>2</td>\n",
       "      <td>2.6</td>\n",
       "      <td>5</td>\n",
       "      <td>34.3</td>\n",
       "      <td>4</td>\n",
       "      <td>False</td>\n",
       "      <td>...</td>\n",
       "      <td>151486.880466</td>\n",
       "      <td>четверг</td>\n",
       "      <td>2015</td>\n",
       "      <td>8</td>\n",
       "      <td>другой</td>\n",
       "      <td>0.612500</td>\n",
       "      <td>0.148214</td>\n",
       "      <td>От 53 до 70 м2</td>\n",
       "      <td>Окрайна города</td>\n",
       "      <td>14.0</td>\n",
       "    </tr>\n",
       "    <tr>\n",
       "      <th>3</th>\n",
       "      <td>0</td>\n",
       "      <td>64900000</td>\n",
       "      <td>159.0</td>\n",
       "      <td>2015-07-24</td>\n",
       "      <td>3</td>\n",
       "      <td>2.6</td>\n",
       "      <td>14</td>\n",
       "      <td>NaN</td>\n",
       "      <td>9</td>\n",
       "      <td>False</td>\n",
       "      <td>...</td>\n",
       "      <td>NaN</td>\n",
       "      <td>пятница</td>\n",
       "      <td>2015</td>\n",
       "      <td>7</td>\n",
       "      <td>другой</td>\n",
       "      <td>NaN</td>\n",
       "      <td>NaN</td>\n",
       "      <td>Более 71 м2</td>\n",
       "      <td>За центром</td>\n",
       "      <td>7.0</td>\n",
       "    </tr>\n",
       "    <tr>\n",
       "      <th>4</th>\n",
       "      <td>2</td>\n",
       "      <td>10000000</td>\n",
       "      <td>100.0</td>\n",
       "      <td>2018-06-19</td>\n",
       "      <td>2</td>\n",
       "      <td>3.0</td>\n",
       "      <td>14</td>\n",
       "      <td>32.0</td>\n",
       "      <td>13</td>\n",
       "      <td>False</td>\n",
       "      <td>...</td>\n",
       "      <td>312500.000000</td>\n",
       "      <td>вторник</td>\n",
       "      <td>2018</td>\n",
       "      <td>6</td>\n",
       "      <td>другой</td>\n",
       "      <td>0.320000</td>\n",
       "      <td>0.410000</td>\n",
       "      <td>Более 71 м2</td>\n",
       "      <td>За центром</td>\n",
       "      <td>8.0</td>\n",
       "    </tr>\n",
       "    <tr>\n",
       "      <th>7</th>\n",
       "      <td>5</td>\n",
       "      <td>7915000</td>\n",
       "      <td>71.6</td>\n",
       "      <td>2019-04-18</td>\n",
       "      <td>2</td>\n",
       "      <td>2.6</td>\n",
       "      <td>24</td>\n",
       "      <td>NaN</td>\n",
       "      <td>22</td>\n",
       "      <td>False</td>\n",
       "      <td>...</td>\n",
       "      <td>NaN</td>\n",
       "      <td>четверг</td>\n",
       "      <td>2019</td>\n",
       "      <td>4</td>\n",
       "      <td>другой</td>\n",
       "      <td>NaN</td>\n",
       "      <td>0.263966</td>\n",
       "      <td>Более 71 м2</td>\n",
       "      <td>Окрайна города</td>\n",
       "      <td>12.0</td>\n",
       "    </tr>\n",
       "  </tbody>\n",
       "</table>\n",
       "<p>5 rows × 32 columns</p>\n",
       "</div>"
      ],
      "text/plain": [
       "   total_images  last_price  total_area first_day_exposition  rooms  \\\n",
       "0            20    13000000       108.0           2019-03-07      3   \n",
       "2            10     5196000        56.0           2015-08-20      2   \n",
       "3             0    64900000       159.0           2015-07-24      3   \n",
       "4             2    10000000       100.0           2018-06-19      2   \n",
       "7             5     7915000        71.6           2019-04-18      2   \n",
       "\n",
       "   ceiling_height  floors_total  living_area  floor  is_apartment  ...  \\\n",
       "0             2.7            16         51.0      8         False  ...   \n",
       "2             2.6             5         34.3      4         False  ...   \n",
       "3             2.6            14          NaN      9         False  ...   \n",
       "4             3.0            14         32.0     13         False  ...   \n",
       "7             2.6            24          NaN     22         False  ...   \n",
       "\n",
       "        price_m2   weekday  year  month floor_categoria  living_area_attitude  \\\n",
       "0  254901.960784   четверг  2019      3          другой              0.472222   \n",
       "2  151486.880466   четверг  2015      8          другой              0.612500   \n",
       "3            NaN   пятница  2015      7          другой                   NaN   \n",
       "4  312500.000000   вторник  2018      6          другой              0.320000   \n",
       "7            NaN   четверг  2019      4          другой                   NaN   \n",
       "\n",
       "   kitchen_area_attitude  total_area_category  cityCenters_category  \\\n",
       "0               0.231481          Более 71 м2               Область   \n",
       "2               0.148214       От 53 до 70 м2        Окрайна города   \n",
       "3                    NaN          Более 71 м2            За центром   \n",
       "4               0.410000          Более 71 м2            За центром   \n",
       "7               0.263966          Более 71 м2        Окрайна города   \n",
       "\n",
       "   cityCenters_km  \n",
       "0            16.0  \n",
       "2            14.0  \n",
       "3             7.0  \n",
       "4             8.0  \n",
       "7            12.0  \n",
       "\n",
       "[5 rows x 32 columns]"
      ]
     },
     "execution_count": 62,
     "metadata": {},
     "output_type": "execute_result"
    }
   ],
   "source": [
    "import warnings\n",
    "warnings.filterwarnings(\"ignore\")\n",
    "data_spb = data.query('locality_name == \"Санкт-Петербург\"')\n",
    "data_spb['cityCenters_km'] = (data_spb['cityCenters_nearest']/1000).round()\n",
    "data_spb.head(5)"
   ]
  },
  {
   "cell_type": "markdown",
   "metadata": {},
   "source": [
    "Строим график медианной цены в зависимости от удаленности от города:"
   ]
  },
  {
   "cell_type": "code",
   "execution_count": 63,
   "metadata": {
    "scrolled": true
   },
   "outputs": [
    {
     "data": {
      "text/plain": [
       "<AxesSubplot:title={'center':'cityCenters_km'}, xlabel='cityCenters_km'>"
      ]
     },
     "execution_count": 63,
     "metadata": {},
     "output_type": "execute_result"
    },
    {
     "data": {
      "image/png": "[encoded data removed]",
      "text/plain": [
       "<Figure size 720x360 with 1 Axes>"
      ]
     },
     "metadata": {
      "needs_background": "light"
     },
     "output_type": "display_data"
    }
   ],
   "source": [
    "data_cityCenters = data_spb.groupby('cityCenters_km').median()['last_price']\n",
    "data_cityCenters.plot(x='cityCenters_km', y='last_price', kind='bar',figsize=(10,5), title='cityCenters_km', legend=None, \n",
    "                            fontsize=15 )"
   ]
  },
  {
   "cell_type": "markdown",
   "metadata": {},
   "source": [
    "Ожидаемо, что в самом центре (в радиусе до 1 км) медианная цена на квартиру стремится к 15 млн р. Если опираться на резкое падение цены по графику, то центр ограничен радиусом в 8 км, далее медианная цена довольно заметно падает. Однако, цены на 4-8 км сравнимы с ценами на квартиры, расположенные в 2 км от центра. Предположительно на это влияет в каком районе квартира находится."
   ]
  },
  {
   "cell_type": "markdown",
   "metadata": {},
   "source": [
    "4.7 Выделите сегмент квартир в центре. Проанализируйте эту территорию и изучите следующие параметры: площадь, цена, число комнат, высота потолков. Также выделите факторы, которые влияют на стоимость квартиры (число комнат, этаж, удалённость от центра, дата размещения объявления). Сделайте выводы. Отличаются ли они от общих выводов по всей базе?\n"
   ]
  },
  {
   "cell_type": "markdown",
   "metadata": {},
   "source": [
    "Воспользуемся функцией corr() и посмотрим, как влияют определенные параметры квартиры на её финальную цену."
   ]
  },
  {
   "cell_type": "code",
   "execution_count": 64,
   "metadata": {},
   "outputs": [],
   "source": [
    "#Выделим сегмент квартир в центральной зоне (до 8 км включительно) \n",
    "data_center = data_spb.query('cityCenters_nearest <= 8000')"
   ]
  },
  {
   "cell_type": "code",
   "execution_count": 65,
   "metadata": {},
   "outputs": [
    {
     "data": {
      "text/html": [
       "<div>\n",
       "<style scoped>\n",
       "    .dataframe tbody tr th:only-of-type {\n",
       "        vertical-align: middle;\n",
       "    }\n",
       "\n",
       "    .dataframe tbody tr th {\n",
       "        vertical-align: top;\n",
       "    }\n",
       "\n",
       "    .dataframe thead th {\n",
       "        text-align: right;\n",
       "    }\n",
       "</style>\n",
       "<table border=\"1\" class=\"dataframe\">\n",
       "  <thead>\n",
       "    <tr style=\"text-align: right;\">\n",
       "      <th></th>\n",
       "      <th>total_images</th>\n",
       "      <th>last_price</th>\n",
       "      <th>total_area</th>\n",
       "      <th>rooms</th>\n",
       "      <th>ceiling_height</th>\n",
       "      <th>floors_total</th>\n",
       "      <th>living_area</th>\n",
       "      <th>floor</th>\n",
       "      <th>is_apartment</th>\n",
       "      <th>studio</th>\n",
       "      <th>...</th>\n",
       "      <th>parks_nearest</th>\n",
       "      <th>ponds_around3000</th>\n",
       "      <th>ponds_nearest</th>\n",
       "      <th>days_exposition</th>\n",
       "      <th>price_m2</th>\n",
       "      <th>year</th>\n",
       "      <th>month</th>\n",
       "      <th>living_area_attitude</th>\n",
       "      <th>kitchen_area_attitude</th>\n",
       "      <th>cityCenters_km</th>\n",
       "    </tr>\n",
       "  </thead>\n",
       "  <tbody>\n",
       "    <tr>\n",
       "      <th>total_images</th>\n",
       "      <td>1.000000</td>\n",
       "      <td>0.131720</td>\n",
       "      <td>0.096669</td>\n",
       "      <td>0.050548</td>\n",
       "      <td>0.066146</td>\n",
       "      <td>-0.025271</td>\n",
       "      <td>0.078698</td>\n",
       "      <td>0.011019</td>\n",
       "      <td>NaN</td>\n",
       "      <td>-0.031068</td>\n",
       "      <td>...</td>\n",
       "      <td>-0.051948</td>\n",
       "      <td>0.005473</td>\n",
       "      <td>-0.006965</td>\n",
       "      <td>-0.036133</td>\n",
       "      <td>0.086255</td>\n",
       "      <td>0.137084</td>\n",
       "      <td>-0.010739</td>\n",
       "      <td>-0.038707</td>\n",
       "      <td>0.042751</td>\n",
       "      <td>0.009810</td>\n",
       "    </tr>\n",
       "    <tr>\n",
       "      <th>last_price</th>\n",
       "      <td>0.131720</td>\n",
       "      <td>1.000000</td>\n",
       "      <td>0.635820</td>\n",
       "      <td>0.333563</td>\n",
       "      <td>0.068616</td>\n",
       "      <td>0.044567</td>\n",
       "      <td>0.537706</td>\n",
       "      <td>0.125079</td>\n",
       "      <td>NaN</td>\n",
       "      <td>-0.022871</td>\n",
       "      <td>...</td>\n",
       "      <td>-0.043108</td>\n",
       "      <td>0.104635</td>\n",
       "      <td>-0.077425</td>\n",
       "      <td>0.055061</td>\n",
       "      <td>0.357985</td>\n",
       "      <td>-0.037308</td>\n",
       "      <td>-0.008278</td>\n",
       "      <td>-0.018906</td>\n",
       "      <td>-0.091474</td>\n",
       "      <td>-0.044656</td>\n",
       "    </tr>\n",
       "    <tr>\n",
       "      <th>total_area</th>\n",
       "      <td>0.096669</td>\n",
       "      <td>0.635820</td>\n",
       "      <td>1.000000</td>\n",
       "      <td>0.740310</td>\n",
       "      <td>0.125604</td>\n",
       "      <td>-0.020491</td>\n",
       "      <td>0.938982</td>\n",
       "      <td>0.102936</td>\n",
       "      <td>NaN</td>\n",
       "      <td>-0.053872</td>\n",
       "      <td>...</td>\n",
       "      <td>-0.069069</td>\n",
       "      <td>0.027453</td>\n",
       "      <td>-0.075041</td>\n",
       "      <td>0.129703</td>\n",
       "      <td>0.103772</td>\n",
       "      <td>-0.069660</td>\n",
       "      <td>-0.017919</td>\n",
       "      <td>0.135943</td>\n",
       "      <td>-0.316301</td>\n",
       "      <td>-0.097553</td>\n",
       "    </tr>\n",
       "    <tr>\n",
       "      <th>rooms</th>\n",
       "      <td>0.050548</td>\n",
       "      <td>0.333563</td>\n",
       "      <td>0.740310</td>\n",
       "      <td>1.000000</td>\n",
       "      <td>0.102424</td>\n",
       "      <td>-0.182723</td>\n",
       "      <td>0.826726</td>\n",
       "      <td>-0.038437</td>\n",
       "      <td>NaN</td>\n",
       "      <td>-0.116066</td>\n",
       "      <td>...</td>\n",
       "      <td>-0.102071</td>\n",
       "      <td>-0.019342</td>\n",
       "      <td>-0.054763</td>\n",
       "      <td>0.136818</td>\n",
       "      <td>-0.050076</td>\n",
       "      <td>-0.063139</td>\n",
       "      <td>-0.021421</td>\n",
       "      <td>0.407611</td>\n",
       "      <td>-0.489954</td>\n",
       "      <td>-0.166761</td>\n",
       "    </tr>\n",
       "    <tr>\n",
       "      <th>ceiling_height</th>\n",
       "      <td>0.066146</td>\n",
       "      <td>0.068616</td>\n",
       "      <td>0.125604</td>\n",
       "      <td>0.102424</td>\n",
       "      <td>1.000000</td>\n",
       "      <td>-0.152057</td>\n",
       "      <td>0.140503</td>\n",
       "      <td>-0.084397</td>\n",
       "      <td>NaN</td>\n",
       "      <td>0.015316</td>\n",
       "      <td>...</td>\n",
       "      <td>-0.098136</td>\n",
       "      <td>0.043655</td>\n",
       "      <td>-0.028355</td>\n",
       "      <td>0.068226</td>\n",
       "      <td>0.010474</td>\n",
       "      <td>0.040792</td>\n",
       "      <td>-0.017195</td>\n",
       "      <td>0.062758</td>\n",
       "      <td>-0.049961</td>\n",
       "      <td>-0.129981</td>\n",
       "    </tr>\n",
       "    <tr>\n",
       "      <th>floors_total</th>\n",
       "      <td>-0.025271</td>\n",
       "      <td>0.044567</td>\n",
       "      <td>-0.020491</td>\n",
       "      <td>-0.182723</td>\n",
       "      <td>-0.152057</td>\n",
       "      <td>1.000000</td>\n",
       "      <td>-0.128334</td>\n",
       "      <td>0.670757</td>\n",
       "      <td>NaN</td>\n",
       "      <td>0.002887</td>\n",
       "      <td>...</td>\n",
       "      <td>0.195683</td>\n",
       "      <td>-0.040814</td>\n",
       "      <td>0.016087</td>\n",
       "      <td>-0.004040</td>\n",
       "      <td>0.096191</td>\n",
       "      <td>-0.040003</td>\n",
       "      <td>0.024528</td>\n",
       "      <td>-0.336333</td>\n",
       "      <td>0.182493</td>\n",
       "      <td>0.373597</td>\n",
       "    </tr>\n",
       "    <tr>\n",
       "      <th>living_area</th>\n",
       "      <td>0.078698</td>\n",
       "      <td>0.537706</td>\n",
       "      <td>0.938982</td>\n",
       "      <td>0.826726</td>\n",
       "      <td>0.140503</td>\n",
       "      <td>-0.128334</td>\n",
       "      <td>1.000000</td>\n",
       "      <td>0.017954</td>\n",
       "      <td>NaN</td>\n",
       "      <td>-0.041582</td>\n",
       "      <td>...</td>\n",
       "      <td>-0.089593</td>\n",
       "      <td>0.027447</td>\n",
       "      <td>-0.065464</td>\n",
       "      <td>0.127376</td>\n",
       "      <td>-0.011483</td>\n",
       "      <td>-0.062722</td>\n",
       "      <td>-0.013304</td>\n",
       "      <td>0.409799</td>\n",
       "      <td>-0.451553</td>\n",
       "      <td>-0.149793</td>\n",
       "    </tr>\n",
       "    <tr>\n",
       "      <th>floor</th>\n",
       "      <td>0.011019</td>\n",
       "      <td>0.125079</td>\n",
       "      <td>0.102936</td>\n",
       "      <td>-0.038437</td>\n",
       "      <td>-0.084397</td>\n",
       "      <td>0.670757</td>\n",
       "      <td>0.017954</td>\n",
       "      <td>1.000000</td>\n",
       "      <td>NaN</td>\n",
       "      <td>-0.015567</td>\n",
       "      <td>...</td>\n",
       "      <td>0.127528</td>\n",
       "      <td>-0.044691</td>\n",
       "      <td>-0.001337</td>\n",
       "      <td>-0.005129</td>\n",
       "      <td>0.092885</td>\n",
       "      <td>-0.028502</td>\n",
       "      <td>0.023491</td>\n",
       "      <td>-0.199744</td>\n",
       "      <td>0.058291</td>\n",
       "      <td>0.243895</td>\n",
       "    </tr>\n",
       "    <tr>\n",
       "      <th>is_apartment</th>\n",
       "      <td>NaN</td>\n",
       "      <td>NaN</td>\n",
       "      <td>NaN</td>\n",
       "      <td>NaN</td>\n",
       "      <td>NaN</td>\n",
       "      <td>NaN</td>\n",
       "      <td>NaN</td>\n",
       "      <td>NaN</td>\n",
       "      <td>NaN</td>\n",
       "      <td>NaN</td>\n",
       "      <td>...</td>\n",
       "      <td>NaN</td>\n",
       "      <td>NaN</td>\n",
       "      <td>NaN</td>\n",
       "      <td>NaN</td>\n",
       "      <td>NaN</td>\n",
       "      <td>NaN</td>\n",
       "      <td>NaN</td>\n",
       "      <td>NaN</td>\n",
       "      <td>NaN</td>\n",
       "      <td>NaN</td>\n",
       "    </tr>\n",
       "    <tr>\n",
       "      <th>studio</th>\n",
       "      <td>-0.031068</td>\n",
       "      <td>-0.022871</td>\n",
       "      <td>-0.053872</td>\n",
       "      <td>-0.116066</td>\n",
       "      <td>0.015316</td>\n",
       "      <td>0.002887</td>\n",
       "      <td>-0.041582</td>\n",
       "      <td>-0.015567</td>\n",
       "      <td>NaN</td>\n",
       "      <td>1.000000</td>\n",
       "      <td>...</td>\n",
       "      <td>-0.011493</td>\n",
       "      <td>0.012777</td>\n",
       "      <td>0.018843</td>\n",
       "      <td>-0.037798</td>\n",
       "      <td>-0.008204</td>\n",
       "      <td>0.014276</td>\n",
       "      <td>0.012756</td>\n",
       "      <td>0.061332</td>\n",
       "      <td>NaN</td>\n",
       "      <td>0.006068</td>\n",
       "    </tr>\n",
       "    <tr>\n",
       "      <th>open_plan</th>\n",
       "      <td>-0.039639</td>\n",
       "      <td>0.007882</td>\n",
       "      <td>0.004620</td>\n",
       "      <td>-0.042002</td>\n",
       "      <td>-0.001645</td>\n",
       "      <td>0.019110</td>\n",
       "      <td>-0.025268</td>\n",
       "      <td>-0.000385</td>\n",
       "      <td>NaN</td>\n",
       "      <td>-0.002857</td>\n",
       "      <td>...</td>\n",
       "      <td>0.000742</td>\n",
       "      <td>0.004306</td>\n",
       "      <td>0.000785</td>\n",
       "      <td>-0.030250</td>\n",
       "      <td>-0.009626</td>\n",
       "      <td>-0.017265</td>\n",
       "      <td>0.014431</td>\n",
       "      <td>0.055517</td>\n",
       "      <td>NaN</td>\n",
       "      <td>0.017897</td>\n",
       "    </tr>\n",
       "    <tr>\n",
       "      <th>kitchen_area</th>\n",
       "      <td>0.138100</td>\n",
       "      <td>0.506451</td>\n",
       "      <td>0.575598</td>\n",
       "      <td>0.287611</td>\n",
       "      <td>0.072216</td>\n",
       "      <td>0.094284</td>\n",
       "      <td>0.415974</td>\n",
       "      <td>0.125856</td>\n",
       "      <td>NaN</td>\n",
       "      <td>NaN</td>\n",
       "      <td>...</td>\n",
       "      <td>0.008908</td>\n",
       "      <td>0.057661</td>\n",
       "      <td>-0.070123</td>\n",
       "      <td>0.100677</td>\n",
       "      <td>0.216436</td>\n",
       "      <td>-0.038582</td>\n",
       "      <td>-0.050528</td>\n",
       "      <td>-0.325286</td>\n",
       "      <td>0.460766</td>\n",
       "      <td>-0.045782</td>\n",
       "    </tr>\n",
       "    <tr>\n",
       "      <th>balcony</th>\n",
       "      <td>0.033086</td>\n",
       "      <td>0.061776</td>\n",
       "      <td>0.004705</td>\n",
       "      <td>-0.077639</td>\n",
       "      <td>0.018938</td>\n",
       "      <td>0.359672</td>\n",
       "      <td>-0.033146</td>\n",
       "      <td>0.288476</td>\n",
       "      <td>NaN</td>\n",
       "      <td>0.008077</td>\n",
       "      <td>...</td>\n",
       "      <td>0.125002</td>\n",
       "      <td>0.039063</td>\n",
       "      <td>0.006932</td>\n",
       "      <td>-0.012045</td>\n",
       "      <td>0.084675</td>\n",
       "      <td>-0.033186</td>\n",
       "      <td>0.012376</td>\n",
       "      <td>-0.158074</td>\n",
       "      <td>0.093860</td>\n",
       "      <td>0.171751</td>\n",
       "    </tr>\n",
       "    <tr>\n",
       "      <th>airports_nearest</th>\n",
       "      <td>0.036617</td>\n",
       "      <td>0.094454</td>\n",
       "      <td>0.043832</td>\n",
       "      <td>-0.044135</td>\n",
       "      <td>-0.052686</td>\n",
       "      <td>0.117684</td>\n",
       "      <td>-0.003812</td>\n",
       "      <td>0.076208</td>\n",
       "      <td>NaN</td>\n",
       "      <td>-0.013224</td>\n",
       "      <td>...</td>\n",
       "      <td>-0.025361</td>\n",
       "      <td>0.089740</td>\n",
       "      <td>0.034034</td>\n",
       "      <td>-0.011211</td>\n",
       "      <td>0.106030</td>\n",
       "      <td>0.045735</td>\n",
       "      <td>-0.015570</td>\n",
       "      <td>-0.107731</td>\n",
       "      <td>0.081118</td>\n",
       "      <td>0.311595</td>\n",
       "    </tr>\n",
       "    <tr>\n",
       "      <th>cityCenters_nearest</th>\n",
       "      <td>0.009874</td>\n",
       "      <td>-0.045417</td>\n",
       "      <td>-0.106724</td>\n",
       "      <td>-0.178863</td>\n",
       "      <td>-0.137332</td>\n",
       "      <td>0.382428</td>\n",
       "      <td>-0.160739</td>\n",
       "      <td>0.250505</td>\n",
       "      <td>NaN</td>\n",
       "      <td>0.009238</td>\n",
       "      <td>...</td>\n",
       "      <td>0.063831</td>\n",
       "      <td>-0.283930</td>\n",
       "      <td>0.234403</td>\n",
       "      <td>-0.060461</td>\n",
       "      <td>0.027123</td>\n",
       "      <td>0.031706</td>\n",
       "      <td>0.005378</td>\n",
       "      <td>-0.147592</td>\n",
       "      <td>0.087011</td>\n",
       "      <td>0.987826</td>\n",
       "    </tr>\n",
       "    <tr>\n",
       "      <th>parks_around3000</th>\n",
       "      <td>0.053903</td>\n",
       "      <td>0.106498</td>\n",
       "      <td>0.101604</td>\n",
       "      <td>0.101927</td>\n",
       "      <td>0.061112</td>\n",
       "      <td>-0.241051</td>\n",
       "      <td>0.137476</td>\n",
       "      <td>-0.159094</td>\n",
       "      <td>NaN</td>\n",
       "      <td>-0.038990</td>\n",
       "      <td>...</td>\n",
       "      <td>-0.289725</td>\n",
       "      <td>0.162470</td>\n",
       "      <td>-0.166726</td>\n",
       "      <td>0.014433</td>\n",
       "      <td>0.041931</td>\n",
       "      <td>-0.014555</td>\n",
       "      <td>-0.022204</td>\n",
       "      <td>0.086904</td>\n",
       "      <td>-0.032391</td>\n",
       "      <td>-0.210471</td>\n",
       "    </tr>\n",
       "    <tr>\n",
       "      <th>parks_nearest</th>\n",
       "      <td>-0.051948</td>\n",
       "      <td>-0.043108</td>\n",
       "      <td>-0.069069</td>\n",
       "      <td>-0.102071</td>\n",
       "      <td>-0.098136</td>\n",
       "      <td>0.195683</td>\n",
       "      <td>-0.089593</td>\n",
       "      <td>0.127528</td>\n",
       "      <td>NaN</td>\n",
       "      <td>-0.011493</td>\n",
       "      <td>...</td>\n",
       "      <td>1.000000</td>\n",
       "      <td>-0.040521</td>\n",
       "      <td>0.087840</td>\n",
       "      <td>0.014076</td>\n",
       "      <td>0.014246</td>\n",
       "      <td>-0.040268</td>\n",
       "      <td>0.054161</td>\n",
       "      <td>-0.138100</td>\n",
       "      <td>0.100863</td>\n",
       "      <td>0.056034</td>\n",
       "    </tr>\n",
       "    <tr>\n",
       "      <th>ponds_around3000</th>\n",
       "      <td>0.005473</td>\n",
       "      <td>0.104635</td>\n",
       "      <td>0.027453</td>\n",
       "      <td>-0.019342</td>\n",
       "      <td>0.043655</td>\n",
       "      <td>-0.040814</td>\n",
       "      <td>0.027447</td>\n",
       "      <td>-0.044691</td>\n",
       "      <td>NaN</td>\n",
       "      <td>0.012777</td>\n",
       "      <td>...</td>\n",
       "      <td>-0.040521</td>\n",
       "      <td>1.000000</td>\n",
       "      <td>-0.375611</td>\n",
       "      <td>0.007645</td>\n",
       "      <td>0.083106</td>\n",
       "      <td>-0.015405</td>\n",
       "      <td>-0.022155</td>\n",
       "      <td>-0.020101</td>\n",
       "      <td>0.027325</td>\n",
       "      <td>-0.280902</td>\n",
       "    </tr>\n",
       "    <tr>\n",
       "      <th>ponds_nearest</th>\n",
       "      <td>-0.006965</td>\n",
       "      <td>-0.077425</td>\n",
       "      <td>-0.075041</td>\n",
       "      <td>-0.054763</td>\n",
       "      <td>-0.028355</td>\n",
       "      <td>0.016087</td>\n",
       "      <td>-0.065464</td>\n",
       "      <td>-0.001337</td>\n",
       "      <td>NaN</td>\n",
       "      <td>0.018843</td>\n",
       "      <td>...</td>\n",
       "      <td>0.087840</td>\n",
       "      <td>-0.375611</td>\n",
       "      <td>1.000000</td>\n",
       "      <td>-0.023725</td>\n",
       "      <td>-0.050993</td>\n",
       "      <td>0.006671</td>\n",
       "      <td>0.045089</td>\n",
       "      <td>-0.014943</td>\n",
       "      <td>0.024952</td>\n",
       "      <td>0.233028</td>\n",
       "    </tr>\n",
       "    <tr>\n",
       "      <th>days_exposition</th>\n",
       "      <td>-0.036133</td>\n",
       "      <td>0.055061</td>\n",
       "      <td>0.129703</td>\n",
       "      <td>0.136818</td>\n",
       "      <td>0.068226</td>\n",
       "      <td>-0.004040</td>\n",
       "      <td>0.127376</td>\n",
       "      <td>-0.005129</td>\n",
       "      <td>NaN</td>\n",
       "      <td>-0.037798</td>\n",
       "      <td>...</td>\n",
       "      <td>0.014076</td>\n",
       "      <td>0.007645</td>\n",
       "      <td>-0.023725</td>\n",
       "      <td>1.000000</td>\n",
       "      <td>0.012110</td>\n",
       "      <td>-0.652900</td>\n",
       "      <td>-0.042090</td>\n",
       "      <td>0.000286</td>\n",
       "      <td>-0.003063</td>\n",
       "      <td>-0.062994</td>\n",
       "    </tr>\n",
       "    <tr>\n",
       "      <th>price_m2</th>\n",
       "      <td>0.086255</td>\n",
       "      <td>0.357985</td>\n",
       "      <td>0.103772</td>\n",
       "      <td>-0.050076</td>\n",
       "      <td>0.010474</td>\n",
       "      <td>0.096191</td>\n",
       "      <td>-0.011483</td>\n",
       "      <td>0.092885</td>\n",
       "      <td>NaN</td>\n",
       "      <td>-0.008204</td>\n",
       "      <td>...</td>\n",
       "      <td>0.014246</td>\n",
       "      <td>0.083106</td>\n",
       "      <td>-0.050993</td>\n",
       "      <td>0.012110</td>\n",
       "      <td>1.000000</td>\n",
       "      <td>-0.021107</td>\n",
       "      <td>0.003072</td>\n",
       "      <td>-0.302211</td>\n",
       "      <td>0.163758</td>\n",
       "      <td>0.024875</td>\n",
       "    </tr>\n",
       "    <tr>\n",
       "      <th>year</th>\n",
       "      <td>0.137084</td>\n",
       "      <td>-0.037308</td>\n",
       "      <td>-0.069660</td>\n",
       "      <td>-0.063139</td>\n",
       "      <td>0.040792</td>\n",
       "      <td>-0.040003</td>\n",
       "      <td>-0.062722</td>\n",
       "      <td>-0.028502</td>\n",
       "      <td>NaN</td>\n",
       "      <td>0.014276</td>\n",
       "      <td>...</td>\n",
       "      <td>-0.040268</td>\n",
       "      <td>-0.015405</td>\n",
       "      <td>0.006671</td>\n",
       "      <td>-0.652900</td>\n",
       "      <td>-0.021107</td>\n",
       "      <td>1.000000</td>\n",
       "      <td>-0.236827</td>\n",
       "      <td>0.011462</td>\n",
       "      <td>0.011947</td>\n",
       "      <td>0.036989</td>\n",
       "    </tr>\n",
       "    <tr>\n",
       "      <th>month</th>\n",
       "      <td>-0.010739</td>\n",
       "      <td>-0.008278</td>\n",
       "      <td>-0.017919</td>\n",
       "      <td>-0.021421</td>\n",
       "      <td>-0.017195</td>\n",
       "      <td>0.024528</td>\n",
       "      <td>-0.013304</td>\n",
       "      <td>0.023491</td>\n",
       "      <td>NaN</td>\n",
       "      <td>0.012756</td>\n",
       "      <td>...</td>\n",
       "      <td>0.054161</td>\n",
       "      <td>-0.022155</td>\n",
       "      <td>0.045089</td>\n",
       "      <td>-0.042090</td>\n",
       "      <td>0.003072</td>\n",
       "      <td>-0.236827</td>\n",
       "      <td>1.000000</td>\n",
       "      <td>0.012728</td>\n",
       "      <td>-0.031889</td>\n",
       "      <td>0.003892</td>\n",
       "    </tr>\n",
       "    <tr>\n",
       "      <th>living_area_attitude</th>\n",
       "      <td>-0.038707</td>\n",
       "      <td>-0.018906</td>\n",
       "      <td>0.135943</td>\n",
       "      <td>0.407611</td>\n",
       "      <td>0.062758</td>\n",
       "      <td>-0.336333</td>\n",
       "      <td>0.409799</td>\n",
       "      <td>-0.199744</td>\n",
       "      <td>NaN</td>\n",
       "      <td>0.061332</td>\n",
       "      <td>...</td>\n",
       "      <td>-0.138100</td>\n",
       "      <td>-0.020101</td>\n",
       "      <td>-0.014943</td>\n",
       "      <td>0.000286</td>\n",
       "      <td>-0.302211</td>\n",
       "      <td>0.011462</td>\n",
       "      <td>0.012728</td>\n",
       "      <td>1.000000</td>\n",
       "      <td>-0.667812</td>\n",
       "      <td>-0.142513</td>\n",
       "    </tr>\n",
       "    <tr>\n",
       "      <th>kitchen_area_attitude</th>\n",
       "      <td>0.042751</td>\n",
       "      <td>-0.091474</td>\n",
       "      <td>-0.316301</td>\n",
       "      <td>-0.489954</td>\n",
       "      <td>-0.049961</td>\n",
       "      <td>0.182493</td>\n",
       "      <td>-0.451553</td>\n",
       "      <td>0.058291</td>\n",
       "      <td>NaN</td>\n",
       "      <td>NaN</td>\n",
       "      <td>...</td>\n",
       "      <td>0.100863</td>\n",
       "      <td>0.027325</td>\n",
       "      <td>0.024952</td>\n",
       "      <td>-0.003063</td>\n",
       "      <td>0.163758</td>\n",
       "      <td>0.011947</td>\n",
       "      <td>-0.031889</td>\n",
       "      <td>-0.667812</td>\n",
       "      <td>1.000000</td>\n",
       "      <td>0.080654</td>\n",
       "    </tr>\n",
       "    <tr>\n",
       "      <th>cityCenters_km</th>\n",
       "      <td>0.009810</td>\n",
       "      <td>-0.044656</td>\n",
       "      <td>-0.097553</td>\n",
       "      <td>-0.166761</td>\n",
       "      <td>-0.129981</td>\n",
       "      <td>0.373597</td>\n",
       "      <td>-0.149793</td>\n",
       "      <td>0.243895</td>\n",
       "      <td>NaN</td>\n",
       "      <td>0.006068</td>\n",
       "      <td>...</td>\n",
       "      <td>0.056034</td>\n",
       "      <td>-0.280902</td>\n",
       "      <td>0.233028</td>\n",
       "      <td>-0.062994</td>\n",
       "      <td>0.024875</td>\n",
       "      <td>0.036989</td>\n",
       "      <td>0.003892</td>\n",
       "      <td>-0.142513</td>\n",
       "      <td>0.080654</td>\n",
       "      <td>1.000000</td>\n",
       "    </tr>\n",
       "  </tbody>\n",
       "</table>\n",
       "<p>26 rows × 26 columns</p>\n",
       "</div>"
      ],
      "text/plain": [
       "                       total_images  last_price  total_area     rooms  \\\n",
       "total_images               1.000000    0.131720    0.096669  0.050548   \n",
       "last_price                 0.131720    1.000000    0.635820  0.333563   \n",
       "total_area                 0.096669    0.635820    1.000000  0.740310   \n",
       "rooms                      0.050548    0.333563    0.740310  1.000000   \n",
       "ceiling_height             0.066146    0.068616    0.125604  0.102424   \n",
       "floors_total              -0.025271    0.044567   -0.020491 -0.182723   \n",
       "living_area                0.078698    0.537706    0.938982  0.826726   \n",
       "floor                      0.011019    0.125079    0.102936 -0.038437   \n",
       "is_apartment                    NaN         NaN         NaN       NaN   \n",
       "studio                    -0.031068   -0.022871   -0.053872 -0.116066   \n",
       "open_plan                 -0.039639    0.007882    0.004620 -0.042002   \n",
       "kitchen_area               0.138100    0.506451    0.575598  0.287611   \n",
       "balcony                    0.033086    0.061776    0.004705 -0.077639   \n",
       "airports_nearest           0.036617    0.094454    0.043832 -0.044135   \n",
       "cityCenters_nearest        0.009874   -0.045417   -0.106724 -0.178863   \n",
       "parks_around3000           0.053903    0.106498    0.101604  0.101927   \n",
       "parks_nearest             -0.051948   -0.043108   -0.069069 -0.102071   \n",
       "ponds_around3000           0.005473    0.104635    0.027453 -0.019342   \n",
       "ponds_nearest             -0.006965   -0.077425   -0.075041 -0.054763   \n",
       "days_exposition           -0.036133    0.055061    0.129703  0.136818   \n",
       "price_m2                   0.086255    0.357985    0.103772 -0.050076   \n",
       "year                       0.137084   -0.037308   -0.069660 -0.063139   \n",
       "month                     -0.010739   -0.008278   -0.017919 -0.021421   \n",
       "living_area_attitude      -0.038707   -0.018906    0.135943  0.407611   \n",
       "kitchen_area_attitude      0.042751   -0.091474   -0.316301 -0.489954   \n",
       "cityCenters_km             0.009810   -0.044656   -0.097553 -0.166761   \n",
       "\n",
       "                       ceiling_height  floors_total  living_area     floor  \\\n",
       "total_images                 0.066146     -0.025271     0.078698  0.011019   \n",
       "last_price                   0.068616      0.044567     0.537706  0.125079   \n",
       "total_area                   0.125604     -0.020491     0.938982  0.102936   \n",
       "rooms                        0.102424     -0.182723     0.826726 -0.038437   \n",
       "ceiling_height               1.000000     -0.152057     0.140503 -0.084397   \n",
       "floors_total                -0.152057      1.000000    -0.128334  0.670757   \n",
       "living_area                  0.140503     -0.128334     1.000000  0.017954   \n",
       "floor                       -0.084397      0.670757     0.017954  1.000000   \n",
       "is_apartment                      NaN           NaN          NaN       NaN   \n",
       "studio                       0.015316      0.002887    -0.041582 -0.015567   \n",
       "open_plan                   -0.001645      0.019110    -0.025268 -0.000385   \n",
       "kitchen_area                 0.072216      0.094284     0.415974  0.125856   \n",
       "balcony                      0.018938      0.359672    -0.033146  0.288476   \n",
       "airports_nearest            -0.052686      0.117684    -0.003812  0.076208   \n",
       "cityCenters_nearest         -0.137332      0.382428    -0.160739  0.250505   \n",
       "parks_around3000             0.061112     -0.241051     0.137476 -0.159094   \n",
       "parks_nearest               -0.098136      0.195683    -0.089593  0.127528   \n",
       "ponds_around3000             0.043655     -0.040814     0.027447 -0.044691   \n",
       "ponds_nearest               -0.028355      0.016087    -0.065464 -0.001337   \n",
       "days_exposition              0.068226     -0.004040     0.127376 -0.005129   \n",
       "price_m2                     0.010474      0.096191    -0.011483  0.092885   \n",
       "year                         0.040792     -0.040003    -0.062722 -0.028502   \n",
       "month                       -0.017195      0.024528    -0.013304  0.023491   \n",
       "living_area_attitude         0.062758     -0.336333     0.409799 -0.199744   \n",
       "kitchen_area_attitude       -0.049961      0.182493    -0.451553  0.058291   \n",
       "cityCenters_km              -0.129981      0.373597    -0.149793  0.243895   \n",
       "\n",
       "                       is_apartment    studio  ...  parks_nearest  \\\n",
       "total_images                    NaN -0.031068  ...      -0.051948   \n",
       "last_price                      NaN -0.022871  ...      -0.043108   \n",
       "total_area                      NaN -0.053872  ...      -0.069069   \n",
       "rooms                           NaN -0.116066  ...      -0.102071   \n",
       "ceiling_height                  NaN  0.015316  ...      -0.098136   \n",
       "floors_total                    NaN  0.002887  ...       0.195683   \n",
       "living_area                     NaN -0.041582  ...      -0.089593   \n",
       "floor                           NaN -0.015567  ...       0.127528   \n",
       "is_apartment                    NaN       NaN  ...            NaN   \n",
       "studio                          NaN  1.000000  ...      -0.011493   \n",
       "open_plan                       NaN -0.002857  ...       0.000742   \n",
       "kitchen_area                    NaN       NaN  ...       0.008908   \n",
       "balcony                         NaN  0.008077  ...       0.125002   \n",
       "airports_nearest                NaN -0.013224  ...      -0.025361   \n",
       "cityCenters_nearest             NaN  0.009238  ...       0.063831   \n",
       "parks_around3000                NaN -0.038990  ...      -0.289725   \n",
       "parks_nearest                   NaN -0.011493  ...       1.000000   \n",
       "ponds_around3000                NaN  0.012777  ...      -0.040521   \n",
       "ponds_nearest                   NaN  0.018843  ...       0.087840   \n",
       "days_exposition                 NaN -0.037798  ...       0.014076   \n",
       "price_m2                        NaN -0.008204  ...       0.014246   \n",
       "year                            NaN  0.014276  ...      -0.040268   \n",
       "month                           NaN  0.012756  ...       0.054161   \n",
       "living_area_attitude            NaN  0.061332  ...      -0.138100   \n",
       "kitchen_area_attitude           NaN       NaN  ...       0.100863   \n",
       "cityCenters_km                  NaN  0.006068  ...       0.056034   \n",
       "\n",
       "                       ponds_around3000  ponds_nearest  days_exposition  \\\n",
       "total_images                   0.005473      -0.006965        -0.036133   \n",
       "last_price                     0.104635      -0.077425         0.055061   \n",
       "total_area                     0.027453      -0.075041         0.129703   \n",
       "rooms                         -0.019342      -0.054763         0.136818   \n",
       "ceiling_height                 0.043655      -0.028355         0.068226   \n",
       "floors_total                  -0.040814       0.016087        -0.004040   \n",
       "living_area                    0.027447      -0.065464         0.127376   \n",
       "floor                         -0.044691      -0.001337        -0.005129   \n",
       "is_apartment                        NaN            NaN              NaN   \n",
       "studio                         0.012777       0.018843        -0.037798   \n",
       "open_plan                      0.004306       0.000785        -0.030250   \n",
       "kitchen_area                   0.057661      -0.070123         0.100677   \n",
       "balcony                        0.039063       0.006932        -0.012045   \n",
       "airports_nearest               0.089740       0.034034        -0.011211   \n",
       "cityCenters_nearest           -0.283930       0.234403        -0.060461   \n",
       "parks_around3000               0.162470      -0.166726         0.014433   \n",
       "parks_nearest                 -0.040521       0.087840         0.014076   \n",
       "ponds_around3000               1.000000      -0.375611         0.007645   \n",
       "ponds_nearest                 -0.375611       1.000000        -0.023725   \n",
       "days_exposition                0.007645      -0.023725         1.000000   \n",
       "price_m2                       0.083106      -0.050993         0.012110   \n",
       "year                          -0.015405       0.006671        -0.652900   \n",
       "month                         -0.022155       0.045089        -0.042090   \n",
       "living_area_attitude          -0.020101      -0.014943         0.000286   \n",
       "kitchen_area_attitude          0.027325       0.024952        -0.003063   \n",
       "cityCenters_km                -0.280902       0.233028        -0.062994   \n",
       "\n",
       "                       price_m2      year     month  living_area_attitude  \\\n",
       "total_images           0.086255  0.137084 -0.010739             -0.038707   \n",
       "last_price             0.357985 -0.037308 -0.008278             -0.018906   \n",
       "total_area             0.103772 -0.069660 -0.017919              0.135943   \n",
       "rooms                 -0.050076 -0.063139 -0.021421              0.407611   \n",
       "ceiling_height         0.010474  0.040792 -0.017195              0.062758   \n",
       "floors_total           0.096191 -0.040003  0.024528             -0.336333   \n",
       "living_area           -0.011483 -0.062722 -0.013304              0.409799   \n",
       "floor                  0.092885 -0.028502  0.023491             -0.199744   \n",
       "is_apartment                NaN       NaN       NaN                   NaN   \n",
       "studio                -0.008204  0.014276  0.012756              0.061332   \n",
       "open_plan             -0.009626 -0.017265  0.014431              0.055517   \n",
       "kitchen_area           0.216436 -0.038582 -0.050528             -0.325286   \n",
       "balcony                0.084675 -0.033186  0.012376             -0.158074   \n",
       "airports_nearest       0.106030  0.045735 -0.015570             -0.107731   \n",
       "cityCenters_nearest    0.027123  0.031706  0.005378             -0.147592   \n",
       "parks_around3000       0.041931 -0.014555 -0.022204              0.086904   \n",
       "parks_nearest          0.014246 -0.040268  0.054161             -0.138100   \n",
       "ponds_around3000       0.083106 -0.015405 -0.022155             -0.020101   \n",
       "ponds_nearest         -0.050993  0.006671  0.045089             -0.014943   \n",
       "days_exposition        0.012110 -0.652900 -0.042090              0.000286   \n",
       "price_m2               1.000000 -0.021107  0.003072             -0.302211   \n",
       "year                  -0.021107  1.000000 -0.236827              0.011462   \n",
       "month                  0.003072 -0.236827  1.000000              0.012728   \n",
       "living_area_attitude  -0.302211  0.011462  0.012728              1.000000   \n",
       "kitchen_area_attitude  0.163758  0.011947 -0.031889             -0.667812   \n",
       "cityCenters_km         0.024875  0.036989  0.003892             -0.142513   \n",
       "\n",
       "                       kitchen_area_attitude  cityCenters_km  \n",
       "total_images                        0.042751        0.009810  \n",
       "last_price                         -0.091474       -0.044656  \n",
       "total_area                         -0.316301       -0.097553  \n",
       "rooms                              -0.489954       -0.166761  \n",
       "ceiling_height                     -0.049961       -0.129981  \n",
       "floors_total                        0.182493        0.373597  \n",
       "living_area                        -0.451553       -0.149793  \n",
       "floor                               0.058291        0.243895  \n",
       "is_apartment                             NaN             NaN  \n",
       "studio                                   NaN        0.006068  \n",
       "open_plan                                NaN        0.017897  \n",
       "kitchen_area                        0.460766       -0.045782  \n",
       "balcony                             0.093860        0.171751  \n",
       "airports_nearest                    0.081118        0.311595  \n",
       "cityCenters_nearest                 0.087011        0.987826  \n",
       "parks_around3000                   -0.032391       -0.210471  \n",
       "parks_nearest                       0.100863        0.056034  \n",
       "ponds_around3000                    0.027325       -0.280902  \n",
       "ponds_nearest                       0.024952        0.233028  \n",
       "days_exposition                    -0.003063       -0.062994  \n",
       "price_m2                            0.163758        0.024875  \n",
       "year                                0.011947        0.036989  \n",
       "month                              -0.031889        0.003892  \n",
       "living_area_attitude               -0.667812       -0.142513  \n",
       "kitchen_area_attitude               1.000000        0.080654  \n",
       "cityCenters_km                      0.080654        1.000000  \n",
       "\n",
       "[26 rows x 26 columns]"
      ]
     },
     "execution_count": 65,
     "metadata": {},
     "output_type": "execute_result"
    }
   ],
   "source": [
    "data_center.corr()"
   ]
  },
  {
   "cell_type": "markdown",
   "metadata": {},
   "source": [
    "Выделим только столбец last_price, чтоб детальней рассмотреть влияние различных параметров именно на цену:"
   ]
  },
  {
   "cell_type": "code",
   "execution_count": 66,
   "metadata": {},
   "outputs": [
    {
     "data": {
      "text/html": [
       "<div>\n",
       "<style scoped>\n",
       "    .dataframe tbody tr th:only-of-type {\n",
       "        vertical-align: middle;\n",
       "    }\n",
       "\n",
       "    .dataframe tbody tr th {\n",
       "        vertical-align: top;\n",
       "    }\n",
       "\n",
       "    .dataframe thead th {\n",
       "        text-align: right;\n",
       "    }\n",
       "</style>\n",
       "<table border=\"1\" class=\"dataframe\">\n",
       "  <thead>\n",
       "    <tr style=\"text-align: right;\">\n",
       "      <th></th>\n",
       "      <th>last_price</th>\n",
       "    </tr>\n",
       "  </thead>\n",
       "  <tbody>\n",
       "    <tr>\n",
       "      <th>last_price</th>\n",
       "      <td>1.000000</td>\n",
       "    </tr>\n",
       "    <tr>\n",
       "      <th>total_area</th>\n",
       "      <td>0.635820</td>\n",
       "    </tr>\n",
       "    <tr>\n",
       "      <th>living_area</th>\n",
       "      <td>0.537706</td>\n",
       "    </tr>\n",
       "    <tr>\n",
       "      <th>kitchen_area</th>\n",
       "      <td>0.506451</td>\n",
       "    </tr>\n",
       "    <tr>\n",
       "      <th>price_m2</th>\n",
       "      <td>0.357985</td>\n",
       "    </tr>\n",
       "    <tr>\n",
       "      <th>rooms</th>\n",
       "      <td>0.333563</td>\n",
       "    </tr>\n",
       "    <tr>\n",
       "      <th>total_images</th>\n",
       "      <td>0.131720</td>\n",
       "    </tr>\n",
       "    <tr>\n",
       "      <th>floor</th>\n",
       "      <td>0.125079</td>\n",
       "    </tr>\n",
       "    <tr>\n",
       "      <th>parks_around3000</th>\n",
       "      <td>0.106498</td>\n",
       "    </tr>\n",
       "    <tr>\n",
       "      <th>ponds_around3000</th>\n",
       "      <td>0.104635</td>\n",
       "    </tr>\n",
       "    <tr>\n",
       "      <th>airports_nearest</th>\n",
       "      <td>0.094454</td>\n",
       "    </tr>\n",
       "    <tr>\n",
       "      <th>ceiling_height</th>\n",
       "      <td>0.068616</td>\n",
       "    </tr>\n",
       "    <tr>\n",
       "      <th>balcony</th>\n",
       "      <td>0.061776</td>\n",
       "    </tr>\n",
       "    <tr>\n",
       "      <th>days_exposition</th>\n",
       "      <td>0.055061</td>\n",
       "    </tr>\n",
       "    <tr>\n",
       "      <th>floors_total</th>\n",
       "      <td>0.044567</td>\n",
       "    </tr>\n",
       "    <tr>\n",
       "      <th>open_plan</th>\n",
       "      <td>0.007882</td>\n",
       "    </tr>\n",
       "    <tr>\n",
       "      <th>month</th>\n",
       "      <td>-0.008278</td>\n",
       "    </tr>\n",
       "    <tr>\n",
       "      <th>living_area_attitude</th>\n",
       "      <td>-0.018906</td>\n",
       "    </tr>\n",
       "    <tr>\n",
       "      <th>studio</th>\n",
       "      <td>-0.022871</td>\n",
       "    </tr>\n",
       "    <tr>\n",
       "      <th>year</th>\n",
       "      <td>-0.037308</td>\n",
       "    </tr>\n",
       "    <tr>\n",
       "      <th>parks_nearest</th>\n",
       "      <td>-0.043108</td>\n",
       "    </tr>\n",
       "    <tr>\n",
       "      <th>cityCenters_km</th>\n",
       "      <td>-0.044656</td>\n",
       "    </tr>\n",
       "    <tr>\n",
       "      <th>cityCenters_nearest</th>\n",
       "      <td>-0.045417</td>\n",
       "    </tr>\n",
       "    <tr>\n",
       "      <th>ponds_nearest</th>\n",
       "      <td>-0.077425</td>\n",
       "    </tr>\n",
       "    <tr>\n",
       "      <th>kitchen_area_attitude</th>\n",
       "      <td>-0.091474</td>\n",
       "    </tr>\n",
       "    <tr>\n",
       "      <th>is_apartment</th>\n",
       "      <td>NaN</td>\n",
       "    </tr>\n",
       "  </tbody>\n",
       "</table>\n",
       "</div>"
      ],
      "text/plain": [
       "                       last_price\n",
       "last_price               1.000000\n",
       "total_area               0.635820\n",
       "living_area              0.537706\n",
       "kitchen_area             0.506451\n",
       "price_m2                 0.357985\n",
       "rooms                    0.333563\n",
       "total_images             0.131720\n",
       "floor                    0.125079\n",
       "parks_around3000         0.106498\n",
       "ponds_around3000         0.104635\n",
       "airports_nearest         0.094454\n",
       "ceiling_height           0.068616\n",
       "balcony                  0.061776\n",
       "days_exposition          0.055061\n",
       "floors_total             0.044567\n",
       "open_plan                0.007882\n",
       "month                   -0.008278\n",
       "living_area_attitude    -0.018906\n",
       "studio                  -0.022871\n",
       "year                    -0.037308\n",
       "parks_nearest           -0.043108\n",
       "cityCenters_km          -0.044656\n",
       "cityCenters_nearest     -0.045417\n",
       "ponds_nearest           -0.077425\n",
       "kitchen_area_attitude   -0.091474\n",
       "is_apartment                  NaN"
      ]
     },
     "execution_count": 66,
     "metadata": {},
     "output_type": "execute_result"
    }
   ],
   "source": [
    "data_center.corr()[['last_price']].sort_values(by='last_price', ascending=False)"
   ]
  },
  {
   "cell_type": "markdown",
   "metadata": {},
   "source": [
    "Если опираться на резкое падение цены по графику  в задании 4.6, то центр ограничен радиусом в 8 км. "
   ]
  },
  {
   "cell_type": "code",
   "execution_count": 67,
   "metadata": {},
   "outputs": [],
   "source": [
    "#Выделим сегмент квартир в центральной зоне (до 8 км включительно) \n",
    "data_center = data.query('cityCenters_nearest <= 8000')"
   ]
  },
  {
   "cell_type": "code",
   "execution_count": 68,
   "metadata": {},
   "outputs": [
    {
     "data": {
      "text/html": [
       "<div>\n",
       "<style scoped>\n",
       "    .dataframe tbody tr th:only-of-type {\n",
       "        vertical-align: middle;\n",
       "    }\n",
       "\n",
       "    .dataframe tbody tr th {\n",
       "        vertical-align: top;\n",
       "    }\n",
       "\n",
       "    .dataframe thead th {\n",
       "        text-align: right;\n",
       "    }\n",
       "</style>\n",
       "<table border=\"1\" class=\"dataframe\">\n",
       "  <thead>\n",
       "    <tr style=\"text-align: right;\">\n",
       "      <th></th>\n",
       "      <th>total_images</th>\n",
       "      <th>last_price</th>\n",
       "      <th>total_area</th>\n",
       "      <th>first_day_exposition</th>\n",
       "      <th>rooms</th>\n",
       "      <th>ceiling_height</th>\n",
       "      <th>floors_total</th>\n",
       "      <th>living_area</th>\n",
       "      <th>floor</th>\n",
       "      <th>is_apartment</th>\n",
       "      <th>...</th>\n",
       "      <th>days_exposition</th>\n",
       "      <th>price_m2</th>\n",
       "      <th>weekday</th>\n",
       "      <th>year</th>\n",
       "      <th>month</th>\n",
       "      <th>floor_categoria</th>\n",
       "      <th>living_area_attitude</th>\n",
       "      <th>kitchen_area_attitude</th>\n",
       "      <th>total_area_category</th>\n",
       "      <th>cityCenters_category</th>\n",
       "    </tr>\n",
       "  </thead>\n",
       "  <tbody>\n",
       "    <tr>\n",
       "      <th>3</th>\n",
       "      <td>0</td>\n",
       "      <td>64900000</td>\n",
       "      <td>159.0</td>\n",
       "      <td>2015-07-24</td>\n",
       "      <td>3</td>\n",
       "      <td>2.6</td>\n",
       "      <td>14</td>\n",
       "      <td>NaN</td>\n",
       "      <td>9</td>\n",
       "      <td>False</td>\n",
       "      <td>...</td>\n",
       "      <td>424.0</td>\n",
       "      <td>NaN</td>\n",
       "      <td>пятница</td>\n",
       "      <td>2015</td>\n",
       "      <td>7</td>\n",
       "      <td>другой</td>\n",
       "      <td>NaN</td>\n",
       "      <td>NaN</td>\n",
       "      <td>Более 71 м2</td>\n",
       "      <td>За центром</td>\n",
       "    </tr>\n",
       "    <tr>\n",
       "      <th>24</th>\n",
       "      <td>8</td>\n",
       "      <td>6500000</td>\n",
       "      <td>97.2</td>\n",
       "      <td>2015-10-31</td>\n",
       "      <td>2</td>\n",
       "      <td>2.6</td>\n",
       "      <td>3</td>\n",
       "      <td>46.5</td>\n",
       "      <td>1</td>\n",
       "      <td>False</td>\n",
       "      <td>...</td>\n",
       "      <td>265.0</td>\n",
       "      <td>1.397849e+05</td>\n",
       "      <td>суббота</td>\n",
       "      <td>2015</td>\n",
       "      <td>10</td>\n",
       "      <td>первый</td>\n",
       "      <td>0.478395</td>\n",
       "      <td>0.201646</td>\n",
       "      <td>Более 71 м2</td>\n",
       "      <td>Центр</td>\n",
       "    </tr>\n",
       "    <tr>\n",
       "      <th>35</th>\n",
       "      <td>6</td>\n",
       "      <td>15500000</td>\n",
       "      <td>149.0</td>\n",
       "      <td>2017-06-26</td>\n",
       "      <td>5</td>\n",
       "      <td>2.6</td>\n",
       "      <td>5</td>\n",
       "      <td>104.0</td>\n",
       "      <td>4</td>\n",
       "      <td>False</td>\n",
       "      <td>...</td>\n",
       "      <td>644.0</td>\n",
       "      <td>1.490385e+05</td>\n",
       "      <td>понедельник</td>\n",
       "      <td>2017</td>\n",
       "      <td>6</td>\n",
       "      <td>другой</td>\n",
       "      <td>0.697987</td>\n",
       "      <td>0.114094</td>\n",
       "      <td>Более 71 м2</td>\n",
       "      <td>Центр</td>\n",
       "    </tr>\n",
       "    <tr>\n",
       "      <th>51</th>\n",
       "      <td>7</td>\n",
       "      <td>45000000</td>\n",
       "      <td>161.0</td>\n",
       "      <td>2017-10-17</td>\n",
       "      <td>3</td>\n",
       "      <td>3.2</td>\n",
       "      <td>8</td>\n",
       "      <td>38.0</td>\n",
       "      <td>4</td>\n",
       "      <td>False</td>\n",
       "      <td>...</td>\n",
       "      <td>541.0</td>\n",
       "      <td>1.184211e+06</td>\n",
       "      <td>вторник</td>\n",
       "      <td>2017</td>\n",
       "      <td>10</td>\n",
       "      <td>другой</td>\n",
       "      <td>0.236025</td>\n",
       "      <td>0.310559</td>\n",
       "      <td>Более 71 м2</td>\n",
       "      <td>За центром</td>\n",
       "    </tr>\n",
       "    <tr>\n",
       "      <th>52</th>\n",
       "      <td>20</td>\n",
       "      <td>11795000</td>\n",
       "      <td>136.0</td>\n",
       "      <td>2017-09-22</td>\n",
       "      <td>6</td>\n",
       "      <td>3.0</td>\n",
       "      <td>2</td>\n",
       "      <td>94.0</td>\n",
       "      <td>2</td>\n",
       "      <td>False</td>\n",
       "      <td>...</td>\n",
       "      <td>NaN</td>\n",
       "      <td>1.254787e+05</td>\n",
       "      <td>пятница</td>\n",
       "      <td>2017</td>\n",
       "      <td>9</td>\n",
       "      <td>последний</td>\n",
       "      <td>0.691176</td>\n",
       "      <td>0.080882</td>\n",
       "      <td>Более 71 м2</td>\n",
       "      <td>За центром</td>\n",
       "    </tr>\n",
       "  </tbody>\n",
       "</table>\n",
       "<p>5 rows × 31 columns</p>\n",
       "</div>"
      ],
      "text/plain": [
       "    total_images  last_price  total_area first_day_exposition  rooms  \\\n",
       "3              0    64900000       159.0           2015-07-24      3   \n",
       "24             8     6500000        97.2           2015-10-31      2   \n",
       "35             6    15500000       149.0           2017-06-26      5   \n",
       "51             7    45000000       161.0           2017-10-17      3   \n",
       "52            20    11795000       136.0           2017-09-22      6   \n",
       "\n",
       "    ceiling_height  floors_total  living_area  floor  is_apartment  ...  \\\n",
       "3              2.6            14          NaN      9         False  ...   \n",
       "24             2.6             3         46.5      1         False  ...   \n",
       "35             2.6             5        104.0      4         False  ...   \n",
       "51             3.2             8         38.0      4         False  ...   \n",
       "52             3.0             2         94.0      2         False  ...   \n",
       "\n",
       "    days_exposition      price_m2       weekday  year month  floor_categoria  \\\n",
       "3             424.0           NaN       пятница  2015     7           другой   \n",
       "24            265.0  1.397849e+05       суббота  2015    10           первый   \n",
       "35            644.0  1.490385e+05   понедельник  2017     6           другой   \n",
       "51            541.0  1.184211e+06       вторник  2017    10           другой   \n",
       "52              NaN  1.254787e+05       пятница  2017     9        последний   \n",
       "\n",
       "    living_area_attitude  kitchen_area_attitude  total_area_category  \\\n",
       "3                    NaN                    NaN          Более 71 м2   \n",
       "24              0.478395               0.201646          Более 71 м2   \n",
       "35              0.697987               0.114094          Более 71 м2   \n",
       "51              0.236025               0.310559          Более 71 м2   \n",
       "52              0.691176               0.080882          Более 71 м2   \n",
       "\n",
       "    cityCenters_category  \n",
       "3             За центром  \n",
       "24                 Центр  \n",
       "35                 Центр  \n",
       "51            За центром  \n",
       "52            За центром  \n",
       "\n",
       "[5 rows x 31 columns]"
      ]
     },
     "execution_count": 68,
     "metadata": {},
     "output_type": "execute_result"
    }
   ],
   "source": [
    "data_center.head()"
   ]
  },
  {
   "cell_type": "markdown",
   "metadata": {},
   "source": [
    " Изучем следующие параметры: площадь, цена, число комнат, высота потолков."
   ]
  },
  {
   "cell_type": "code",
   "execution_count": 69,
   "metadata": {},
   "outputs": [
    {
     "data": {
      "text/html": [
       "<div>\n",
       "<style scoped>\n",
       "    .dataframe tbody tr th:only-of-type {\n",
       "        vertical-align: middle;\n",
       "    }\n",
       "\n",
       "    .dataframe tbody tr th {\n",
       "        vertical-align: top;\n",
       "    }\n",
       "\n",
       "    .dataframe thead th {\n",
       "        text-align: right;\n",
       "    }\n",
       "</style>\n",
       "<table border=\"1\" class=\"dataframe\">\n",
       "  <thead>\n",
       "    <tr style=\"text-align: right;\">\n",
       "      <th></th>\n",
       "      <th>total_area</th>\n",
       "      <th>last_price</th>\n",
       "      <th>rooms</th>\n",
       "      <th>ceiling_height</th>\n",
       "    </tr>\n",
       "  </thead>\n",
       "  <tbody>\n",
       "    <tr>\n",
       "      <th>count</th>\n",
       "      <td>3715.000000</td>\n",
       "      <td>3.715000e+03</td>\n",
       "      <td>3715.000000</td>\n",
       "      <td>3715.000000</td>\n",
       "    </tr>\n",
       "    <tr>\n",
       "      <th>mean</th>\n",
       "      <td>92.152624</td>\n",
       "      <td>1.465376e+07</td>\n",
       "      <td>2.813997</td>\n",
       "      <td>2.925787</td>\n",
       "    </tr>\n",
       "    <tr>\n",
       "      <th>std</th>\n",
       "      <td>60.062645</td>\n",
       "      <td>2.464301e+07</td>\n",
       "      <td>1.453504</td>\n",
       "      <td>0.728353</td>\n",
       "    </tr>\n",
       "    <tr>\n",
       "      <th>min</th>\n",
       "      <td>12.000000</td>\n",
       "      <td>1.600000e+06</td>\n",
       "      <td>0.000000</td>\n",
       "      <td>2.000000</td>\n",
       "    </tr>\n",
       "    <tr>\n",
       "      <th>25%</th>\n",
       "      <td>56.000000</td>\n",
       "      <td>6.550000e+06</td>\n",
       "      <td>2.000000</td>\n",
       "      <td>2.600000</td>\n",
       "    </tr>\n",
       "    <tr>\n",
       "      <th>50%</th>\n",
       "      <td>77.800000</td>\n",
       "      <td>9.000000e+06</td>\n",
       "      <td>3.000000</td>\n",
       "      <td>2.800000</td>\n",
       "    </tr>\n",
       "    <tr>\n",
       "      <th>75%</th>\n",
       "      <td>108.650000</td>\n",
       "      <td>1.402500e+07</td>\n",
       "      <td>3.000000</td>\n",
       "      <td>3.100000</td>\n",
       "    </tr>\n",
       "    <tr>\n",
       "      <th>max</th>\n",
       "      <td>900.000000</td>\n",
       "      <td>7.630000e+08</td>\n",
       "      <td>19.000000</td>\n",
       "      <td>32.000000</td>\n",
       "    </tr>\n",
       "  </tbody>\n",
       "</table>\n",
       "</div>"
      ],
      "text/plain": [
       "        total_area    last_price        rooms  ceiling_height\n",
       "count  3715.000000  3.715000e+03  3715.000000     3715.000000\n",
       "mean     92.152624  1.465376e+07     2.813997        2.925787\n",
       "std      60.062645  2.464301e+07     1.453504        0.728353\n",
       "min      12.000000  1.600000e+06     0.000000        2.000000\n",
       "25%      56.000000  6.550000e+06     2.000000        2.600000\n",
       "50%      77.800000  9.000000e+06     3.000000        2.800000\n",
       "75%     108.650000  1.402500e+07     3.000000        3.100000\n",
       "max     900.000000  7.630000e+08    19.000000       32.000000"
      ]
     },
     "execution_count": 69,
     "metadata": {},
     "output_type": "execute_result"
    }
   ],
   "source": [
    "data_center[['total_area', 'last_price', 'rooms', 'ceiling_height']].describe()"
   ]
  },
  {
   "cell_type": "markdown",
   "metadata": {},
   "source": [
    "По площади есть как квартира 12 кв.м., так и 900 кв.м. Как и в общед таблице, Эти квартиры оказались в центрею В среднем 90 м2; по цене за квартиру - есть варианты и за 1600 тысяч рублей, есть за 763 млн; число комнат - от 0 до 19. 0- Возможно, это нежилые помещения; высота потолков - от 2 до 32 метров."
   ]
  },
  {
   "cell_type": "code",
   "execution_count": 70,
   "metadata": {},
   "outputs": [
    {
     "name": "stdout",
     "output_type": "stream",
     "text": [
      "[[<AxesSubplot:title={'center':'total_area'}>]]\n",
      "[[<AxesSubplot:title={'center':'last_price'}>]]\n",
      "[[<AxesSubplot:title={'center':'rooms'}>]]\n",
      "[[<AxesSubplot:title={'center':'ceiling_height'}>]]\n"
     ]
    },
    {
     "data": {
      "image/png": "[encoded data removed]",
      "text/plain": [
       "<Figure size 432x288 with 1 Axes>"
      ]
     },
     "metadata": {
      "needs_background": "light"
     },
     "output_type": "display_data"
    },
    {
     "data": {
      "image/png": "[encoded data removed]",
      "text/plain": [
       "<Figure size 432x288 with 1 Axes>"
      ]
     },
     "metadata": {
      "needs_background": "light"
     },
     "output_type": "display_data"
    },
    {
     "data": {
      "image/png": "[encoded data removed]",
      "text/plain": [
       "<Figure size 432x288 with 1 Axes>"
      ]
     },
     "metadata": {
      "needs_background": "light"
     },
     "output_type": "display_data"
    },
    {
     "data": {
      "image/png": "[encoded data removed]",
      "text/plain": [
       "<Figure size 432x288 with 1 Axes>"
      ]
     },
     "metadata": {
      "needs_background": "light"
     },
     "output_type": "display_data"
    }
   ],
   "source": [
    "#Построим гистограмму для площади\n",
    "#Построим гистограмму для цены\n",
    "#Построим гистограмму для числа комнат\n",
    "#Построим гистограмму для высоты потолка\n",
    "print(data_center.hist('total_area', bins=20))\n",
    "print(data_center.hist('last_price', bins=20))\n",
    "print(data_center.hist('rooms', bins=20))\n",
    "print(data_center.hist('ceiling_height', bins=20))"
   ]
  },
  {
   "cell_type": "code",
   "execution_count": 71,
   "metadata": {},
   "outputs": [
    {
     "data": {
      "text/plain": [
       "<AxesSubplot:>"
      ]
     },
     "execution_count": 71,
     "metadata": {},
     "output_type": "execute_result"
    },
    {
     "data": {
      "image/png": "[encoded data removed]",
      "text/plain": [
       "<Figure size 432x288 with 1 Axes>"
      ]
     },
     "metadata": {
      "needs_background": "light"
     },
     "output_type": "display_data"
    }
   ],
   "source": [
    "#Построим боксплот, чтобы визуально посмотреть на выбросы\n",
    "data_center.boxplot(column='ceiling_height')"
   ]
  },
  {
   "cell_type": "markdown",
   "metadata": {},
   "source": [
    " Предлагаю удалить редкие и выбивающие значения 'ceiling_height' и посмотреть на гистограмму '2 < ceiling_height <= 4'"
   ]
  },
  {
   "cell_type": "code",
   "execution_count": 72,
   "metadata": {},
   "outputs": [
    {
     "name": "stdout",
     "output_type": "stream",
     "text": [
      "AxesSubplot(0.125,0.125;0.775x0.755)\n"
     ]
    },
    {
     "data": {
      "image/png": "[encoded data removed]",
      "text/plain": [
       "<Figure size 432x288 with 1 Axes>"
      ]
     },
     "metadata": {
      "needs_background": "light"
     },
     "output_type": "display_data"
    }
   ],
   "source": [
    "print(data_center.query('2 <ceiling_height <= 4')['ceiling_height'].hist( bins=20))"
   ]
  },
  {
   "cell_type": "code",
   "execution_count": 73,
   "metadata": {},
   "outputs": [
    {
     "data": {
      "text/plain": [
       "<AxesSubplot:>"
      ]
     },
     "execution_count": 73,
     "metadata": {},
     "output_type": "execute_result"
    },
    {
     "data": {
      "image/png": "[encoded data removed]",
      "text/plain": [
       "<Figure size 432x288 with 1 Axes>"
      ]
     },
     "metadata": {
      "needs_background": "light"
     },
     "output_type": "display_data"
    }
   ],
   "source": [
    "#Построим боксплот, чтобы визуально посмотреть на выбросы\n",
    "data_center.boxplot(column='last_price')"
   ]
  },
  {
   "cell_type": "markdown",
   "metadata": {},
   "source": [
    "Предлагаю удалить редкие и выбивающие значения 'last_price' и посмотреть на гистограмму ' 1600000< last_price <= 14000000'"
   ]
  },
  {
   "cell_type": "code",
   "execution_count": 74,
   "metadata": {},
   "outputs": [
    {
     "name": "stdout",
     "output_type": "stream",
     "text": [
      "AxesSubplot(0.125,0.125;0.775x0.755)\n"
     ]
    },
    {
     "data": {
      "image/png": "[encoded data removed]",
      "text/plain": [
       "<Figure size 432x288 with 1 Axes>"
      ]
     },
     "metadata": {
      "needs_background": "light"
     },
     "output_type": "display_data"
    }
   ],
   "source": [
    "print(data_center.query(' 1600000< last_price <= 12000000')['last_price'].hist( bins=20))"
   ]
  },
  {
   "cell_type": "code",
   "execution_count": 75,
   "metadata": {},
   "outputs": [
    {
     "data": {
      "text/plain": [
       "<AxesSubplot:>"
      ]
     },
     "execution_count": 75,
     "metadata": {},
     "output_type": "execute_result"
    },
    {
     "data": {
      "image/png": "[encoded data removed]",
      "text/plain": [
       "<Figure size 432x288 with 1 Axes>"
      ]
     },
     "metadata": {
      "needs_background": "light"
     },
     "output_type": "display_data"
    }
   ],
   "source": [
    "#Построим боксплот, чтобы визуально посмотреть на выбросы\n",
    "data_center.boxplot(column='total_area')"
   ]
  },
  {
   "cell_type": "markdown",
   "metadata": {},
   "source": [
    "Предлагаю удалить редкие и выбивающие значения 'last_price' и посмотреть на гистограмму ' 50 < total_area <= 180 '"
   ]
  },
  {
   "cell_type": "code",
   "execution_count": 76,
   "metadata": {},
   "outputs": [
    {
     "name": "stdout",
     "output_type": "stream",
     "text": [
      "AxesSubplot(0.125,0.125;0.775x0.755)\n"
     ]
    },
    {
     "data": {
      "image/png": "[encoded data removed]",
      "text/plain": [
       "<Figure size 432x288 with 1 Axes>"
      ]
     },
     "metadata": {
      "needs_background": "light"
     },
     "output_type": "display_data"
    }
   ],
   "source": [
    "print(data_center.query(' 50 < total_area <= 180 ')['total_area'].hist( bins=20))"
   ]
  },
  {
   "cell_type": "markdown",
   "metadata": {},
   "source": [
    "Смотрим зависимость цены от количества комнат в центре:"
   ]
  },
  {
   "cell_type": "code",
   "execution_count": 77,
   "metadata": {},
   "outputs": [
    {
     "data": {
      "text/plain": [
       "<AxesSubplot:title={'center':'rooms'}, xlabel='rooms'>"
      ]
     },
     "execution_count": 77,
     "metadata": {},
     "output_type": "execute_result"
    },
    {
     "data": {
      "image/png": "[encoded data removed]",
      "text/plain": [
       "<Figure size 720x360 with 1 Axes>"
      ]
     },
     "metadata": {
      "needs_background": "light"
     },
     "output_type": "display_data"
    }
   ],
   "source": [
    "data_rooms = data_center.groupby('rooms').median()['last_price']\n",
    "data_rooms.plot(x='rooms', y='last_price', kind='bar',figsize=(10,5), title='rooms', legend=None, fontsize=15 )"
   ]
  },
  {
   "cell_type": "code",
   "execution_count": 78,
   "metadata": {},
   "outputs": [
    {
     "data": {
      "text/plain": [
       "<AxesSubplot:>"
      ]
     },
     "execution_count": 78,
     "metadata": {},
     "output_type": "execute_result"
    },
    {
     "data": {
      "image/png": "[encoded data removed]",
      "text/plain": [
       "<Figure size 432x288 with 1 Axes>"
      ]
     },
     "metadata": {
      "needs_background": "light"
     },
     "output_type": "display_data"
    }
   ],
   "source": [
    "#Посмотрим на выбросы:\n",
    "data_center.boxplot(column='rooms')"
   ]
  },
  {
   "cell_type": "code",
   "execution_count": 79,
   "metadata": {},
   "outputs": [
    {
     "data": {
      "text/plain": [
       "<AxesSubplot:title={'center':'rooms'}, xlabel='rooms'>"
      ]
     },
     "execution_count": 79,
     "metadata": {},
     "output_type": "execute_result"
    },
    {
     "data": {
      "image/png": "[encoded data removed]",
      "text/plain": [
       "<Figure size 720x360 with 1 Axes>"
      ]
     },
     "metadata": {
      "needs_background": "light"
     },
     "output_type": "display_data"
    }
   ],
   "source": [
    " #Исключим выбросы\n",
    "data_rooms_filtered = data_center.query('rooms <= 4').groupby('rooms').median()['last_price']\n",
    "data_rooms_filtered.plot(x='rooms', y='last_price', kind='bar',figsize=(10,5), title='rooms', legend=None, \n",
    "                            fontsize=15 )    "
   ]
  },
  {
   "cell_type": "markdown",
   "metadata": {},
   "source": [
    "Зависимость: чем больше комнат, тем выше цена наблюдается до 4 комнат. Далее - единичные значения (выбросы)."
   ]
  },
  {
   "cell_type": "markdown",
   "metadata": {},
   "source": [
    "Оценим цену в зависимости от этажа"
   ]
  },
  {
   "cell_type": "code",
   "execution_count": 80,
   "metadata": {},
   "outputs": [],
   "source": [
    "data_center['floor_categoria'] = np.where(data_center['floor'] == 1, 'первый', 'другой')\n",
    "data_center['floor_categoria'] = np.where(data_center['floor'] == data_center['floors_total'], 'последний', data_center['floor_categoria'])"
   ]
  },
  {
   "cell_type": "code",
   "execution_count": 81,
   "metadata": {},
   "outputs": [
    {
     "data": {
      "text/plain": [
       "<AxesSubplot:title={'center':'floor_categoria'}, xlabel='floor_categoria'>"
      ]
     },
     "execution_count": 81,
     "metadata": {},
     "output_type": "execute_result"
    },
    {
     "data": {
      "image/png": "[encoded data removed]",
      "text/plain": [
       "<Figure size 720x360 with 1 Axes>"
      ]
     },
     "metadata": {
      "needs_background": "light"
     },
     "output_type": "display_data"
    }
   ],
   "source": [
    "data_floor_center = data_center.groupby('floor_categoria').median()['last_price']\n",
    "data_floor_center.plot(x='floor_categoria', y='last_price', kind='bar',figsize=(10,5), title='floor_categoria', legend=None, \n",
    "                            fontsize=15 )"
   ]
  },
  {
   "cell_type": "markdown",
   "metadata": {},
   "source": [
    "На первом этаже самые дешевые квартиры, на последнем тоже дешевле, но не как на первом."
   ]
  },
  {
   "cell_type": "markdown",
   "metadata": {},
   "source": [
    "По удалённости от центра"
   ]
  },
  {
   "cell_type": "code",
   "execution_count": 82,
   "metadata": {},
   "outputs": [
    {
     "data": {
      "text/html": [
       "<div>\n",
       "<style scoped>\n",
       "    .dataframe tbody tr th:only-of-type {\n",
       "        vertical-align: middle;\n",
       "    }\n",
       "\n",
       "    .dataframe tbody tr th {\n",
       "        vertical-align: top;\n",
       "    }\n",
       "\n",
       "    .dataframe thead th {\n",
       "        text-align: right;\n",
       "    }\n",
       "</style>\n",
       "<table border=\"1\" class=\"dataframe\">\n",
       "  <thead>\n",
       "    <tr style=\"text-align: right;\">\n",
       "      <th></th>\n",
       "      <th>total_images</th>\n",
       "      <th>last_price</th>\n",
       "      <th>total_area</th>\n",
       "      <th>first_day_exposition</th>\n",
       "      <th>rooms</th>\n",
       "      <th>ceiling_height</th>\n",
       "      <th>floors_total</th>\n",
       "      <th>living_area</th>\n",
       "      <th>floor</th>\n",
       "      <th>is_apartment</th>\n",
       "      <th>...</th>\n",
       "      <th>days_exposition</th>\n",
       "      <th>price_m2</th>\n",
       "      <th>weekday</th>\n",
       "      <th>year</th>\n",
       "      <th>month</th>\n",
       "      <th>floor_categoria</th>\n",
       "      <th>living_area_attitude</th>\n",
       "      <th>kitchen_area_attitude</th>\n",
       "      <th>total_area_category</th>\n",
       "      <th>cityCenters_category</th>\n",
       "    </tr>\n",
       "  </thead>\n",
       "  <tbody>\n",
       "    <tr>\n",
       "      <th>0</th>\n",
       "      <td>20</td>\n",
       "      <td>13000000</td>\n",
       "      <td>108.0</td>\n",
       "      <td>2019-03-07</td>\n",
       "      <td>3</td>\n",
       "      <td>2.7</td>\n",
       "      <td>16</td>\n",
       "      <td>51.0</td>\n",
       "      <td>8</td>\n",
       "      <td>False</td>\n",
       "      <td>...</td>\n",
       "      <td>NaN</td>\n",
       "      <td>254901.960784</td>\n",
       "      <td>четверг</td>\n",
       "      <td>2019</td>\n",
       "      <td>3</td>\n",
       "      <td>другой</td>\n",
       "      <td>0.472222</td>\n",
       "      <td>0.231481</td>\n",
       "      <td>Более 71 м2</td>\n",
       "      <td>8 км</td>\n",
       "    </tr>\n",
       "    <tr>\n",
       "      <th>1</th>\n",
       "      <td>7</td>\n",
       "      <td>3350000</td>\n",
       "      <td>40.4</td>\n",
       "      <td>2018-12-04</td>\n",
       "      <td>1</td>\n",
       "      <td>2.6</td>\n",
       "      <td>11</td>\n",
       "      <td>18.6</td>\n",
       "      <td>1</td>\n",
       "      <td>False</td>\n",
       "      <td>...</td>\n",
       "      <td>81.0</td>\n",
       "      <td>180107.526882</td>\n",
       "      <td>вторник</td>\n",
       "      <td>2018</td>\n",
       "      <td>12</td>\n",
       "      <td>первый</td>\n",
       "      <td>0.460396</td>\n",
       "      <td>0.272277</td>\n",
       "      <td>None</td>\n",
       "      <td>8 км</td>\n",
       "    </tr>\n",
       "    <tr>\n",
       "      <th>2</th>\n",
       "      <td>10</td>\n",
       "      <td>5196000</td>\n",
       "      <td>56.0</td>\n",
       "      <td>2015-08-20</td>\n",
       "      <td>2</td>\n",
       "      <td>2.6</td>\n",
       "      <td>5</td>\n",
       "      <td>34.3</td>\n",
       "      <td>4</td>\n",
       "      <td>False</td>\n",
       "      <td>...</td>\n",
       "      <td>558.0</td>\n",
       "      <td>151486.880466</td>\n",
       "      <td>четверг</td>\n",
       "      <td>2015</td>\n",
       "      <td>8</td>\n",
       "      <td>другой</td>\n",
       "      <td>0.612500</td>\n",
       "      <td>0.148214</td>\n",
       "      <td>От 53 до 70 м2</td>\n",
       "      <td>8 км</td>\n",
       "    </tr>\n",
       "    <tr>\n",
       "      <th>3</th>\n",
       "      <td>0</td>\n",
       "      <td>64900000</td>\n",
       "      <td>159.0</td>\n",
       "      <td>2015-07-24</td>\n",
       "      <td>3</td>\n",
       "      <td>2.6</td>\n",
       "      <td>14</td>\n",
       "      <td>NaN</td>\n",
       "      <td>9</td>\n",
       "      <td>False</td>\n",
       "      <td>...</td>\n",
       "      <td>424.0</td>\n",
       "      <td>NaN</td>\n",
       "      <td>пятница</td>\n",
       "      <td>2015</td>\n",
       "      <td>7</td>\n",
       "      <td>другой</td>\n",
       "      <td>NaN</td>\n",
       "      <td>NaN</td>\n",
       "      <td>Более 71 м2</td>\n",
       "      <td>7 км</td>\n",
       "    </tr>\n",
       "    <tr>\n",
       "      <th>4</th>\n",
       "      <td>2</td>\n",
       "      <td>10000000</td>\n",
       "      <td>100.0</td>\n",
       "      <td>2018-06-19</td>\n",
       "      <td>2</td>\n",
       "      <td>3.0</td>\n",
       "      <td>14</td>\n",
       "      <td>32.0</td>\n",
       "      <td>13</td>\n",
       "      <td>False</td>\n",
       "      <td>...</td>\n",
       "      <td>121.0</td>\n",
       "      <td>312500.000000</td>\n",
       "      <td>вторник</td>\n",
       "      <td>2018</td>\n",
       "      <td>6</td>\n",
       "      <td>другой</td>\n",
       "      <td>0.320000</td>\n",
       "      <td>0.410000</td>\n",
       "      <td>Более 71 м2</td>\n",
       "      <td>8 км</td>\n",
       "    </tr>\n",
       "  </tbody>\n",
       "</table>\n",
       "<p>5 rows × 31 columns</p>\n",
       "</div>"
      ],
      "text/plain": [
       "   total_images  last_price  total_area first_day_exposition  rooms  \\\n",
       "0            20    13000000       108.0           2019-03-07      3   \n",
       "1             7     3350000        40.4           2018-12-04      1   \n",
       "2            10     5196000        56.0           2015-08-20      2   \n",
       "3             0    64900000       159.0           2015-07-24      3   \n",
       "4             2    10000000       100.0           2018-06-19      2   \n",
       "\n",
       "   ceiling_height  floors_total  living_area  floor  is_apartment  ...  \\\n",
       "0             2.7            16         51.0      8         False  ...   \n",
       "1             2.6            11         18.6      1         False  ...   \n",
       "2             2.6             5         34.3      4         False  ...   \n",
       "3             2.6            14          NaN      9         False  ...   \n",
       "4             3.0            14         32.0     13         False  ...   \n",
       "\n",
       "   days_exposition       price_m2   weekday  year month  floor_categoria  \\\n",
       "0              NaN  254901.960784   четверг  2019     3           другой   \n",
       "1             81.0  180107.526882   вторник  2018    12           первый   \n",
       "2            558.0  151486.880466   четверг  2015     8           другой   \n",
       "3            424.0            NaN   пятница  2015     7           другой   \n",
       "4            121.0  312500.000000   вторник  2018     6           другой   \n",
       "\n",
       "   living_area_attitude  kitchen_area_attitude  total_area_category  \\\n",
       "0              0.472222               0.231481          Более 71 м2   \n",
       "1              0.460396               0.272277                 None   \n",
       "2              0.612500               0.148214       От 53 до 70 м2   \n",
       "3                   NaN                    NaN          Более 71 м2   \n",
       "4              0.320000               0.410000          Более 71 м2   \n",
       "\n",
       "   cityCenters_category  \n",
       "0                  8 км  \n",
       "1                  8 км  \n",
       "2                  8 км  \n",
       "3                  7 км  \n",
       "4                  8 км  \n",
       "\n",
       "[5 rows x 31 columns]"
      ]
     },
     "execution_count": 82,
     "metadata": {},
     "output_type": "execute_result"
    }
   ],
   "source": [
    "def cityCenters_category(cityCenters_nearest):\n",
    "    if cityCenters_nearest <= 1000:\n",
    "        return '1 км'\n",
    "    if 1001 < cityCenters_nearest <=2000:\n",
    "        return '2 км'\n",
    "    if 2001 < cityCenters_nearest <= 3000:\n",
    "        return '3 км'\n",
    "    if 3001 < cityCenters_nearest <=4000:\n",
    "        return '4 км'\n",
    "    if 4001 < cityCenters_nearest <= 5000:\n",
    "        return '5 км'\n",
    "    if 5001 < cityCenters_nearest <=6000:\n",
    "        return '6 км'\n",
    "    if 6001 < cityCenters_nearest <= 7000:\n",
    "        return '7 км'\n",
    "    if cityCenters_nearest > 7001:\n",
    "        return '8 км'     \n",
    "data['cityCenters_category'] = data['cityCenters_nearest'].apply(cityCenters_category)\n",
    "data.head(5)"
   ]
  },
  {
   "cell_type": "code",
   "execution_count": 83,
   "metadata": {},
   "outputs": [],
   "source": [
    "data_center = data.query('cityCenters_nearest <= 8000')"
   ]
  },
  {
   "cell_type": "code",
   "execution_count": 84,
   "metadata": {},
   "outputs": [
    {
     "data": {
      "text/plain": [
       "<AxesSubplot:title={'center':'cityCenters_category'}, xlabel='cityCenters_category'>"
      ]
     },
     "execution_count": 84,
     "metadata": {},
     "output_type": "execute_result"
    },
    {
     "data": {
      "image/png": "[encoded data removed]",
      "text/plain": [
       "<Figure size 720x360 with 1 Axes>"
      ]
     },
     "metadata": {
      "needs_background": "light"
     },
     "output_type": "display_data"
    }
   ],
   "source": [
    "data_filtered = data_center.groupby('cityCenters_category').median()['last_price']\n",
    "data_filtered.plot(x='cityCenters_category', y='last_price', kind='bar',figsize=(10,5), title='cityCenters_category', legend=None, \n",
    "                            fontsize=15 )"
   ]
  },
  {
   "cell_type": "markdown",
   "metadata": {},
   "source": [
    "Ожидаемо, что в самом центре (в радиусе до 1 км)квартиры самые дорогие. а так чем дальше от центра, тем дешевле"
   ]
  },
  {
   "cell_type": "markdown",
   "metadata": {},
   "source": [
    "Изучем зависимость цены от дня недели, месяца и года."
   ]
  },
  {
   "cell_type": "markdown",
   "metadata": {},
   "source": [
    "Посмотрим (медиану) зависимость цены от дня недели"
   ]
  },
  {
   "cell_type": "code",
   "execution_count": 85,
   "metadata": {},
   "outputs": [],
   "source": [
    "data_center['weekday'] = pd.DatetimeIndex(data_center['first_day_exposition']).weekday"
   ]
  },
  {
   "cell_type": "code",
   "execution_count": 86,
   "metadata": {},
   "outputs": [],
   "source": [
    "dict_weekdays = {0: ' понедельник', 1: ' вторник', 2: 'среда', 3: ' четверг', \n",
    "                    4: ' пятница', 5: ' суббота', 6: ' воскресенье'}"
   ]
  },
  {
   "cell_type": "code",
   "execution_count": 87,
   "metadata": {},
   "outputs": [],
   "source": [
    "data_center['weekday'] = data_center['weekday'].map(dict_weekdays)"
   ]
  },
  {
   "cell_type": "code",
   "execution_count": 88,
   "metadata": {},
   "outputs": [
    {
     "data": {
      "text/plain": [
       "<AxesSubplot:title={'center':'weekday'}, xlabel='weekday'>"
      ]
     },
     "execution_count": 88,
     "metadata": {},
     "output_type": "execute_result"
    },
    {
     "data": {
      "image/png": "[encoded data removed]",
      "text/plain": [
       "<Figure size 720x360 with 1 Axes>"
      ]
     },
     "metadata": {
      "needs_background": "light"
     },
     "output_type": "display_data"
    }
   ],
   "source": [
    "data_weekday_filtered = data_center.groupby('weekday').median()['last_price']\n",
    "data_weekday_filtered.plot(x='weekday', y='last_price', kind='bar',figsize=(10,5), title='weekday', legend=None, \n",
    "                            fontsize=15 )"
   ]
  },
  {
   "cell_type": "markdown",
   "metadata": {},
   "source": [
    "Квартиры, размещенные к продаже в будние дни, практически не отличаются от цен в выходные. Если только в субботу, меньше всего продаж"
   ]
  },
  {
   "cell_type": "markdown",
   "metadata": {},
   "source": [
    "Посмотрим (медиану) зависимость цены от месяца"
   ]
  },
  {
   "cell_type": "code",
   "execution_count": 89,
   "metadata": {},
   "outputs": [
    {
     "data": {
      "text/plain": [
       "<AxesSubplot:title={'center':'month'}, xlabel='month'>"
      ]
     },
     "execution_count": 89,
     "metadata": {},
     "output_type": "execute_result"
    },
    {
     "data": {
      "image/png": "[encoded data removed]",
      "text/plain": [
       "<Figure size 720x360 with 1 Axes>"
      ]
     },
     "metadata": {
      "needs_background": "light"
     },
     "output_type": "display_data"
    }
   ],
   "source": [
    "data_center['month'] = pd.DatetimeIndex(data_center['first_day_exposition']).month\n",
    "data_month_filtered = data_center.groupby('month').median()['last_price']\n",
    "data_month_filtered.plot(x='month', y='last_price', kind='bar',figsize=(10,5), title='month', legend=None, \n",
    "                            fontsize=15 )"
   ]
  },
  {
   "cell_type": "markdown",
   "metadata": {},
   "source": [
    "Квартиры, размещенные к продаже в апреле, мае, июне, октябре и декабре в среднем дешевле, чем размещенные в любые другие месяца. В начале года цены высокие\n"
   ]
  },
  {
   "cell_type": "markdown",
   "metadata": {},
   "source": [
    "Посмотрим (медиану) зависимость цены от года"
   ]
  },
  {
   "cell_type": "code",
   "execution_count": 90,
   "metadata": {},
   "outputs": [
    {
     "data": {
      "text/plain": [
       "<AxesSubplot:title={'center':'year'}, xlabel='year'>"
      ]
     },
     "execution_count": 90,
     "metadata": {},
     "output_type": "execute_result"
    },
    {
     "data": {
      "image/png": "[encoded data removed]",
      "text/plain": [
       "<Figure size 720x360 with 1 Axes>"
      ]
     },
     "metadata": {
      "needs_background": "light"
     },
     "output_type": "display_data"
    }
   ],
   "source": [
    "data_center['year'] = pd.DatetimeIndex(data_center['first_day_exposition']).year\n",
    "data_year_filtered = data_center.groupby('year').median()['last_price']\n",
    "data_year_filtered.plot(x='year', y='last_price', kind='bar',figsize=(10,5), title='year', legend=None, \n",
    "                            fontsize=15 )"
   ]
  },
  {
   "cell_type": "markdown",
   "metadata": {},
   "source": [
    "Квартиры, размещенные к продаже в 2014 году, дороже всех. Период 2015-2018 - период низких цен на квартиры. 2019г - цены пошли вверх. Все так же как и не только в центре."
   ]
  },
  {
   "cell_type": "markdown",
   "metadata": {},
   "source": [
    "При сравнении данных по центру и данных по всей базе могу сказать, что данные особо не отличаются, зависимость наблюдается такая же, что и по всей базе."
   ]
  },
  {
   "cell_type": "markdown",
   "metadata": {},
   "source": [
    "Из данных выше, мы можем сказать, что сильнее всего цена на квартиру зависит от общей площади квартиры (чем больше площадь, тем выше цена), от площади жилой площади и площади кухни, от стоимости м2, количества комнат, количество фотографий в объявлении и какой этаж. Небольшое влияние оказывает присутствие парков/водоемов рядом.\n",
    "Также влияние оказывает удаленность от центра - чем дальше от центра, тем ниже цена. Таким же образом небольшое влияние оказывает удаленность от аэропорта."
   ]
  },
  {
   "cell_type": "markdown",
   "metadata": {},
   "source": [
    "## Общий вывод"
   ]
  },
  {
   "cell_type": "markdown",
   "metadata": {},
   "source": [
    "* Чем больше площадь квартиры, тем выше цена\t\n",
    "* Чем больше цена за квадратный метр, тем выше цена\t\n",
    "* Чем выше доля жилой площади/площадь кухни, тем выше цена\t\n",
    "* Чем больше комнат, тем выше цена\t\n",
    "* На первом этаже квартира дешевле, чем на остальных; на последнем дороже, чем на первом, но дешевле, чем на остальных\t\n",
    "* Чем ближе к центру, тем дороже квартира. В самом центре (< 1 км до центра) квартиры стоят на порядок дороже, чем на более удаленных.\t\n",
    "* Квартиры, размещенные к продаже в будние дни, практически не отличаются от цен в выходные.\t\n",
    "* Квартиры, размещенные к продаже в мае и июне в среднем дешевле, чем размещенные в любые другие месяца. В начале и в конце года цены выше.\t\n",
    "* Квартиры, размещенные к продаже в 2014 году, дороже всех. Период 2015-2018 - период низких цен на квартиры. 2019г - цены пошли вверх."
   ]
  }
 ],
 "metadata": {
  "ExecuteTimeLog": [
   {
    "duration": 640,
    "start_time": "2022-03-22T10:17:33.263Z"
   },
   {
    "duration": 100,
    "start_time": "2022-03-22T10:18:03.423Z"
   },
   {
    "duration": 244,
    "start_time": "2022-03-22T10:26:41.497Z"
   },
   {
    "duration": 129,
    "start_time": "2022-03-22T10:28:56.372Z"
   },
   {
    "duration": 140,
    "start_time": "2022-03-22T10:29:28.970Z"
   },
   {
    "duration": 152,
    "start_time": "2022-03-22T10:36:07.214Z"
   },
   {
    "duration": 29,
    "start_time": "2022-03-22T10:39:18.185Z"
   },
   {
    "duration": 134,
    "start_time": "2022-03-22T11:46:59.525Z"
   },
   {
    "duration": 8,
    "start_time": "2022-03-22T12:49:28.677Z"
   },
   {
    "duration": 156,
    "start_time": "2022-03-22T12:50:45.318Z"
   },
   {
    "duration": 191,
    "start_time": "2022-03-22T12:50:56.358Z"
   },
   {
    "duration": 48,
    "start_time": "2022-03-22T19:13:02.317Z"
   },
   {
    "duration": 496,
    "start_time": "2022-03-22T19:13:12.778Z"
   },
   {
    "duration": 5,
    "start_time": "2022-03-22T19:13:13.478Z"
   },
   {
    "duration": 79,
    "start_time": "2022-03-22T19:13:17.967Z"
   },
   {
    "duration": 16,
    "start_time": "2022-03-22T19:13:19.288Z"
   },
   {
    "duration": 7,
    "start_time": "2022-03-22T19:13:23.488Z"
   },
   {
    "duration": 29,
    "start_time": "2022-03-22T21:41:32.631Z"
   },
   {
    "duration": 100,
    "start_time": "2022-03-22T21:41:40.061Z"
   },
   {
    "duration": 5,
    "start_time": "2022-03-22T21:41:40.542Z"
   },
   {
    "duration": 63,
    "start_time": "2022-03-22T21:41:42.391Z"
   },
   {
    "duration": 14,
    "start_time": "2022-03-22T21:41:43.912Z"
   },
   {
    "duration": 8,
    "start_time": "2022-03-22T21:41:48.141Z"
   },
   {
    "duration": 8,
    "start_time": "2022-03-22T21:42:37.830Z"
   },
   {
    "duration": 12,
    "start_time": "2022-03-22T21:47:40.245Z"
   },
   {
    "duration": 11,
    "start_time": "2022-03-22T21:48:22.483Z"
   },
   {
    "duration": 114,
    "start_time": "2022-03-22T21:49:17.144Z"
   },
   {
    "duration": 7,
    "start_time": "2022-03-22T21:49:27.495Z"
   },
   {
    "duration": 6,
    "start_time": "2022-03-22T21:58:26.952Z"
   },
   {
    "duration": 10,
    "start_time": "2022-03-22T22:02:49.554Z"
   },
   {
    "duration": 7,
    "start_time": "2022-03-22T22:03:01.644Z"
   },
   {
    "duration": 8,
    "start_time": "2022-03-22T22:03:20.043Z"
   },
   {
    "duration": 107,
    "start_time": "2022-03-22T22:03:55.684Z"
   },
   {
    "duration": 6,
    "start_time": "2022-03-22T22:04:03.313Z"
   },
   {
    "duration": 104,
    "start_time": "2022-03-22T22:04:20.714Z"
   },
   {
    "duration": 7,
    "start_time": "2022-03-22T22:04:21.194Z"
   },
   {
    "duration": 68,
    "start_time": "2022-03-22T22:04:22.693Z"
   },
   {
    "duration": 16,
    "start_time": "2022-03-22T22:04:24.033Z"
   },
   {
    "duration": 9,
    "start_time": "2022-03-22T22:04:27.794Z"
   },
   {
    "duration": 6,
    "start_time": "2022-03-22T22:05:38.832Z"
   },
   {
    "duration": 7,
    "start_time": "2022-03-22T22:06:22.132Z"
   },
   {
    "duration": 6,
    "start_time": "2022-03-22T22:06:27.573Z"
   },
   {
    "duration": 7,
    "start_time": "2022-03-22T22:06:31.332Z"
   },
   {
    "duration": 106,
    "start_time": "2022-03-22T22:06:39.812Z"
   },
   {
    "duration": 102,
    "start_time": "2022-03-22T22:06:44.132Z"
   },
   {
    "duration": 6,
    "start_time": "2022-03-22T22:06:44.801Z"
   },
   {
    "duration": 66,
    "start_time": "2022-03-22T22:06:50.132Z"
   },
   {
    "duration": 14,
    "start_time": "2022-03-22T22:06:51.843Z"
   },
   {
    "duration": 9,
    "start_time": "2022-03-22T22:06:57.253Z"
   },
   {
    "duration": 7,
    "start_time": "2022-03-22T22:07:07.512Z"
   },
   {
    "duration": 8,
    "start_time": "2022-03-22T22:07:39.292Z"
   },
   {
    "duration": 124,
    "start_time": "2022-03-22T22:07:41.522Z"
   },
   {
    "duration": 7,
    "start_time": "2022-03-22T22:07:44.202Z"
   },
   {
    "duration": 5,
    "start_time": "2022-03-22T22:08:12.342Z"
   },
   {
    "duration": 103,
    "start_time": "2022-03-22T22:08:20.652Z"
   },
   {
    "duration": 6,
    "start_time": "2022-03-22T22:08:20.842Z"
   },
   {
    "duration": 67,
    "start_time": "2022-03-22T22:08:21.572Z"
   },
   {
    "duration": 15,
    "start_time": "2022-03-22T22:08:22.012Z"
   },
   {
    "duration": 9,
    "start_time": "2022-03-22T22:08:23.732Z"
   },
   {
    "duration": 5,
    "start_time": "2022-03-22T22:08:26.692Z"
   },
   {
    "duration": 109,
    "start_time": "2022-03-22T22:08:27.572Z"
   },
   {
    "duration": 6,
    "start_time": "2022-03-22T22:11:51.816Z"
   },
   {
    "duration": 6,
    "start_time": "2022-03-22T22:12:57.131Z"
   },
   {
    "duration": 8,
    "start_time": "2022-03-22T22:20:15.856Z"
   },
   {
    "duration": 6,
    "start_time": "2022-03-22T22:22:09.216Z"
   },
   {
    "duration": 7,
    "start_time": "2022-03-22T22:26:56.721Z"
   },
   {
    "duration": 8,
    "start_time": "2022-03-22T22:27:35.680Z"
   },
   {
    "duration": 25,
    "start_time": "2022-03-22T22:27:52.371Z"
   },
   {
    "duration": 10,
    "start_time": "2022-03-22T22:28:26.751Z"
   },
   {
    "duration": 26,
    "start_time": "2022-03-22T22:28:45.830Z"
   },
   {
    "duration": 7,
    "start_time": "2022-03-22T22:45:48.470Z"
   },
   {
    "duration": 10,
    "start_time": "2022-03-22T22:46:30.551Z"
   },
   {
    "duration": 9,
    "start_time": "2022-03-22T22:46:46.171Z"
   },
   {
    "duration": 114,
    "start_time": "2022-03-22T22:47:24.071Z"
   },
   {
    "duration": 153,
    "start_time": "2022-03-22T22:47:36.551Z"
   },
   {
    "duration": 10,
    "start_time": "2022-03-22T22:47:54.791Z"
   },
   {
    "duration": 10,
    "start_time": "2022-03-22T22:48:42.402Z"
   },
   {
    "duration": 10,
    "start_time": "2022-03-22T22:50:09.312Z"
   },
   {
    "duration": 44,
    "start_time": "2022-03-22T22:51:42.512Z"
   },
   {
    "duration": 10,
    "start_time": "2022-03-22T22:51:50.032Z"
   },
   {
    "duration": 10,
    "start_time": "2022-03-22T22:51:53.022Z"
   },
   {
    "duration": 107,
    "start_time": "2022-03-22T22:52:02.991Z"
   },
   {
    "duration": 6,
    "start_time": "2022-03-22T22:52:04.031Z"
   },
   {
    "duration": 65,
    "start_time": "2022-03-22T22:52:05.231Z"
   },
   {
    "duration": 17,
    "start_time": "2022-03-22T22:52:05.651Z"
   },
   {
    "duration": 8,
    "start_time": "2022-03-22T22:52:07.151Z"
   },
   {
    "duration": 5,
    "start_time": "2022-03-22T22:52:08.832Z"
   },
   {
    "duration": 106,
    "start_time": "2022-03-22T22:52:09.241Z"
   },
   {
    "duration": 6,
    "start_time": "2022-03-22T22:52:09.883Z"
   },
   {
    "duration": 4,
    "start_time": "2022-03-22T22:52:11.212Z"
   },
   {
    "duration": 5,
    "start_time": "2022-03-22T22:53:22.912Z"
   },
   {
    "duration": 23,
    "start_time": "2022-03-22T22:53:43.362Z"
   },
   {
    "duration": 596,
    "start_time": "2022-03-23T09:48:42.807Z"
   },
   {
    "duration": 7,
    "start_time": "2022-03-23T09:48:43.406Z"
   },
   {
    "duration": 95,
    "start_time": "2022-03-23T09:48:43.725Z"
   },
   {
    "duration": 21,
    "start_time": "2022-03-23T09:48:45.023Z"
   },
   {
    "duration": 12,
    "start_time": "2022-03-23T09:48:48.345Z"
   },
   {
    "duration": 7,
    "start_time": "2022-03-23T09:48:50.984Z"
   },
   {
    "duration": 128,
    "start_time": "2022-03-23T09:48:52.422Z"
   },
   {
    "duration": 8,
    "start_time": "2022-03-23T09:49:00.743Z"
   },
   {
    "duration": 37,
    "start_time": "2022-03-23T09:49:04.124Z"
   },
   {
    "duration": 96,
    "start_time": "2022-03-23T10:38:44.417Z"
   },
   {
    "duration": 37,
    "start_time": "2022-03-23T10:38:55.337Z"
   },
   {
    "duration": 12,
    "start_time": "2022-03-23T10:39:07.698Z"
   },
   {
    "duration": 10,
    "start_time": "2022-03-23T10:39:16.056Z"
   },
   {
    "duration": 38,
    "start_time": "2022-03-23T10:39:17.456Z"
   },
   {
    "duration": 8,
    "start_time": "2022-03-23T10:39:24.496Z"
   },
   {
    "duration": 11,
    "start_time": "2022-03-23T10:39:25.577Z"
   },
   {
    "duration": 38,
    "start_time": "2022-03-23T10:39:26.237Z"
   },
   {
    "duration": 129,
    "start_time": "2022-03-23T10:39:51.247Z"
   },
   {
    "duration": 8,
    "start_time": "2022-03-23T10:39:51.628Z"
   },
   {
    "duration": 100,
    "start_time": "2022-03-23T10:39:52.406Z"
   },
   {
    "duration": 20,
    "start_time": "2022-03-23T10:39:52.936Z"
   },
   {
    "duration": 11,
    "start_time": "2022-03-23T10:39:54.817Z"
   },
   {
    "duration": 7,
    "start_time": "2022-03-23T10:39:59.217Z"
   },
   {
    "duration": 11,
    "start_time": "2022-03-23T10:40:00.176Z"
   },
   {
    "duration": 51,
    "start_time": "2022-03-23T10:40:00.666Z"
   },
   {
    "duration": 13,
    "start_time": "2022-03-23T10:40:46.337Z"
   },
   {
    "duration": 12,
    "start_time": "2022-03-23T10:40:54.657Z"
   },
   {
    "duration": 98,
    "start_time": "2022-03-23T10:41:03.537Z"
   },
   {
    "duration": 7,
    "start_time": "2022-03-23T10:41:05.966Z"
   },
   {
    "duration": 100,
    "start_time": "2022-03-23T10:41:07.217Z"
   },
   {
    "duration": 21,
    "start_time": "2022-03-23T10:41:07.598Z"
   },
   {
    "duration": 13,
    "start_time": "2022-03-23T10:41:09.008Z"
   },
   {
    "duration": 8,
    "start_time": "2022-03-23T10:41:10.578Z"
   },
   {
    "duration": 12,
    "start_time": "2022-03-23T10:41:11.228Z"
   },
   {
    "duration": 38,
    "start_time": "2022-03-23T10:41:13.297Z"
   },
   {
    "duration": 8,
    "start_time": "2022-03-23T10:41:39.377Z"
   },
   {
    "duration": 8,
    "start_time": "2022-03-23T10:41:54.418Z"
   },
   {
    "duration": 131,
    "start_time": "2022-03-23T10:42:03.276Z"
   },
   {
    "duration": 7,
    "start_time": "2022-03-23T10:42:03.451Z"
   },
   {
    "duration": 93,
    "start_time": "2022-03-23T10:42:04.017Z"
   },
   {
    "duration": 20,
    "start_time": "2022-03-23T10:42:04.327Z"
   },
   {
    "duration": 12,
    "start_time": "2022-03-23T10:42:06.585Z"
   },
   {
    "duration": 7,
    "start_time": "2022-03-23T10:42:07.699Z"
   },
   {
    "duration": 8,
    "start_time": "2022-03-23T10:42:08.896Z"
   },
   {
    "duration": 37,
    "start_time": "2022-03-23T10:42:16.016Z"
   },
   {
    "duration": 37,
    "start_time": "2022-03-23T10:42:39.857Z"
   },
   {
    "duration": 7,
    "start_time": "2022-03-23T10:44:18.519Z"
   },
   {
    "duration": 7,
    "start_time": "2022-03-23T10:49:15.222Z"
   },
   {
    "duration": 10,
    "start_time": "2022-03-23T10:50:49.241Z"
   },
   {
    "duration": 8,
    "start_time": "2022-03-23T10:53:56.174Z"
   },
   {
    "duration": 10,
    "start_time": "2022-03-23T10:59:54.340Z"
   },
   {
    "duration": 7,
    "start_time": "2022-03-23T11:00:49.780Z"
   },
   {
    "duration": 108,
    "start_time": "2022-03-23T11:06:08.731Z"
   },
   {
    "duration": 6,
    "start_time": "2022-03-23T11:06:28.852Z"
   },
   {
    "duration": 155,
    "start_time": "2022-03-23T11:06:30.211Z"
   },
   {
    "duration": 6,
    "start_time": "2022-03-23T11:07:33.182Z"
   },
   {
    "duration": 107,
    "start_time": "2022-03-23T11:15:21.990Z"
   },
   {
    "duration": 5,
    "start_time": "2022-03-23T11:15:30.742Z"
   },
   {
    "duration": 11,
    "start_time": "2022-03-23T11:15:36.863Z"
   },
   {
    "duration": 7,
    "start_time": "2022-03-23T11:20:48.165Z"
   },
   {
    "duration": 7,
    "start_time": "2022-03-23T11:22:05.934Z"
   },
   {
    "duration": 8,
    "start_time": "2022-03-23T12:39:08.992Z"
   },
   {
    "duration": 4,
    "start_time": "2022-03-23T12:39:14.093Z"
   },
   {
    "duration": 6,
    "start_time": "2022-03-23T12:39:42.813Z"
   },
   {
    "duration": 8,
    "start_time": "2022-03-23T12:45:47.083Z"
   },
   {
    "duration": 111,
    "start_time": "2022-03-23T12:49:30.164Z"
   },
   {
    "duration": 20,
    "start_time": "2022-03-23T12:49:56.994Z"
   },
   {
    "duration": 105,
    "start_time": "2022-03-23T13:03:18.273Z"
   },
   {
    "duration": 15,
    "start_time": "2022-03-23T13:03:27.153Z"
   },
   {
    "duration": 194,
    "start_time": "2022-03-23T13:05:03.392Z"
   },
   {
    "duration": 10,
    "start_time": "2022-03-23T13:05:12.032Z"
   },
   {
    "duration": 5,
    "start_time": "2022-03-23T13:24:47.945Z"
   },
   {
    "duration": 65,
    "start_time": "2022-03-23T13:25:01.172Z"
   },
   {
    "duration": 37,
    "start_time": "2022-03-23T13:25:54.674Z"
   },
   {
    "duration": 12,
    "start_time": "2022-03-23T13:26:14.443Z"
   },
   {
    "duration": 38,
    "start_time": "2022-03-23T13:26:15.383Z"
   },
   {
    "duration": 39,
    "start_time": "2022-03-23T13:27:37.993Z"
   },
   {
    "duration": 886,
    "start_time": "2022-03-23T18:07:53.031Z"
   },
   {
    "duration": 10,
    "start_time": "2022-03-23T18:07:53.921Z"
   },
   {
    "duration": 107,
    "start_time": "2022-03-23T18:07:54.071Z"
   },
   {
    "duration": 21,
    "start_time": "2022-03-23T18:07:55.220Z"
   },
   {
    "duration": 17,
    "start_time": "2022-03-23T18:07:58.341Z"
   },
   {
    "duration": 67,
    "start_time": "2022-03-23T18:08:01.941Z"
   },
   {
    "duration": 67,
    "start_time": "2022-03-23T18:08:40.810Z"
   },
   {
    "duration": 29,
    "start_time": "2022-03-23T18:08:58.940Z"
   },
   {
    "duration": 34,
    "start_time": "2022-03-23T18:10:09.801Z"
   },
   {
    "duration": 107,
    "start_time": "2022-03-23T18:16:07.780Z"
   },
   {
    "duration": 10,
    "start_time": "2022-03-23T18:16:37.382Z"
   },
   {
    "duration": 11,
    "start_time": "2022-03-23T18:17:32.350Z"
   },
   {
    "duration": 14,
    "start_time": "2022-03-23T18:19:44.803Z"
   },
   {
    "duration": 12,
    "start_time": "2022-03-23T18:20:05.484Z"
   },
   {
    "duration": 10,
    "start_time": "2022-03-23T18:20:08.925Z"
   },
   {
    "duration": 14,
    "start_time": "2022-03-23T18:20:10.285Z"
   },
   {
    "duration": 139,
    "start_time": "2022-03-23T18:20:17.166Z"
   },
   {
    "duration": 8,
    "start_time": "2022-03-23T18:20:17.633Z"
   },
   {
    "duration": 104,
    "start_time": "2022-03-23T18:20:19.263Z"
   },
   {
    "duration": 21,
    "start_time": "2022-03-23T18:20:19.803Z"
   },
   {
    "duration": 13,
    "start_time": "2022-03-23T18:20:23.642Z"
   },
   {
    "duration": 18,
    "start_time": "2022-03-23T18:20:24.443Z"
   },
   {
    "duration": 7,
    "start_time": "2022-03-23T18:20:25.801Z"
   },
   {
    "duration": 8,
    "start_time": "2022-03-23T18:20:27.431Z"
   },
   {
    "duration": 11,
    "start_time": "2022-03-23T18:20:28.763Z"
   },
   {
    "duration": 57,
    "start_time": "2022-03-23T18:20:29.321Z"
   },
   {
    "duration": 7,
    "start_time": "2022-03-23T18:20:30.126Z"
   },
   {
    "duration": 8,
    "start_time": "2022-03-23T18:20:32.290Z"
   },
   {
    "duration": 9,
    "start_time": "2022-03-23T18:20:36.585Z"
   },
   {
    "duration": 7,
    "start_time": "2022-03-23T18:20:38.692Z"
   },
   {
    "duration": 8,
    "start_time": "2022-03-23T18:21:30.923Z"
   },
   {
    "duration": 12,
    "start_time": "2022-03-23T18:26:30.540Z"
   },
   {
    "duration": 11,
    "start_time": "2022-03-23T18:26:52.235Z"
   },
   {
    "duration": 7,
    "start_time": "2022-03-23T18:26:59.969Z"
   },
   {
    "duration": 10,
    "start_time": "2022-03-23T18:27:23.263Z"
   },
   {
    "duration": 8,
    "start_time": "2022-03-23T18:27:39.402Z"
   },
   {
    "duration": 45,
    "start_time": "2022-03-23T18:27:39.841Z"
   },
   {
    "duration": 7,
    "start_time": "2022-03-23T18:27:41.015Z"
   },
   {
    "duration": 6,
    "start_time": "2022-03-23T18:27:42.525Z"
   },
   {
    "duration": 6,
    "start_time": "2022-03-23T18:27:44.127Z"
   },
   {
    "duration": 6,
    "start_time": "2022-03-23T18:27:45.406Z"
   },
   {
    "duration": 7,
    "start_time": "2022-03-23T18:27:46.762Z"
   },
   {
    "duration": 7,
    "start_time": "2022-03-23T18:27:48.007Z"
   },
   {
    "duration": 8,
    "start_time": "2022-03-23T18:27:49.017Z"
   },
   {
    "duration": 14,
    "start_time": "2022-03-23T18:37:50.366Z"
   },
   {
    "duration": 100,
    "start_time": "2022-03-23T18:38:10.682Z"
   },
   {
    "duration": 6,
    "start_time": "2022-03-23T18:38:15.404Z"
   },
   {
    "duration": 90,
    "start_time": "2022-03-23T18:38:16.432Z"
   },
   {
    "duration": 7,
    "start_time": "2022-03-23T18:38:47.201Z"
   },
   {
    "duration": 6,
    "start_time": "2022-03-23T18:40:19.220Z"
   },
   {
    "duration": 7,
    "start_time": "2022-03-23T18:41:34.342Z"
   },
   {
    "duration": 7,
    "start_time": "2022-03-23T18:41:34.978Z"
   },
   {
    "duration": 6,
    "start_time": "2022-03-23T18:56:34.183Z"
   },
   {
    "duration": 6,
    "start_time": "2022-03-23T18:57:01.485Z"
   },
   {
    "duration": 6,
    "start_time": "2022-03-23T18:57:02.762Z"
   },
   {
    "duration": 6,
    "start_time": "2022-03-23T18:57:12.344Z"
   },
   {
    "duration": 9,
    "start_time": "2022-03-23T18:58:05.583Z"
   },
   {
    "duration": 9,
    "start_time": "2022-03-23T18:58:21.941Z"
   },
   {
    "duration": 6,
    "start_time": "2022-03-23T18:58:38.781Z"
   },
   {
    "duration": 6,
    "start_time": "2022-03-23T18:58:39.401Z"
   },
   {
    "duration": 11,
    "start_time": "2022-03-23T19:00:05.023Z"
   },
   {
    "duration": 14,
    "start_time": "2022-03-23T19:00:05.803Z"
   },
   {
    "duration": 8,
    "start_time": "2022-03-23T19:00:46.279Z"
   },
   {
    "duration": 7,
    "start_time": "2022-03-23T19:00:48.021Z"
   },
   {
    "duration": 9,
    "start_time": "2022-03-23T19:00:56.139Z"
   },
   {
    "duration": 37,
    "start_time": "2022-03-23T19:00:57.270Z"
   },
   {
    "duration": 8,
    "start_time": "2022-03-23T19:00:59.880Z"
   },
   {
    "duration": 8,
    "start_time": "2022-03-23T19:01:09.821Z"
   },
   {
    "duration": 6,
    "start_time": "2022-03-23T19:01:17.741Z"
   },
   {
    "duration": 6,
    "start_time": "2022-03-23T19:01:19.761Z"
   },
   {
    "duration": 10,
    "start_time": "2022-03-23T19:01:20.560Z"
   },
   {
    "duration": 7,
    "start_time": "2022-03-23T19:01:21.821Z"
   },
   {
    "duration": 5,
    "start_time": "2022-03-23T19:01:23.635Z"
   },
   {
    "duration": 131,
    "start_time": "2022-03-23T19:02:22.988Z"
   },
   {
    "duration": 8,
    "start_time": "2022-03-23T19:02:23.667Z"
   },
   {
    "duration": 100,
    "start_time": "2022-03-23T19:02:24.707Z"
   },
   {
    "duration": 20,
    "start_time": "2022-03-23T19:02:25.167Z"
   },
   {
    "duration": 11,
    "start_time": "2022-03-23T19:02:26.508Z"
   },
   {
    "duration": 17,
    "start_time": "2022-03-23T19:02:26.967Z"
   },
   {
    "duration": 6,
    "start_time": "2022-03-23T19:02:27.408Z"
   },
   {
    "duration": 8,
    "start_time": "2022-03-23T19:02:42.368Z"
   },
   {
    "duration": 9,
    "start_time": "2022-03-23T19:02:43.207Z"
   },
   {
    "duration": 42,
    "start_time": "2022-03-23T19:02:43.667Z"
   },
   {
    "duration": 6,
    "start_time": "2022-03-23T19:02:44.907Z"
   },
   {
    "duration": 7,
    "start_time": "2022-03-23T19:02:46.347Z"
   },
   {
    "duration": 6,
    "start_time": "2022-03-23T19:02:49.108Z"
   },
   {
    "duration": 5,
    "start_time": "2022-03-23T19:02:52.828Z"
   },
   {
    "duration": 10,
    "start_time": "2022-03-23T19:03:14.667Z"
   },
   {
    "duration": 7,
    "start_time": "2022-03-23T19:03:33.507Z"
   },
   {
    "duration": 6,
    "start_time": "2022-03-23T19:03:36.887Z"
   },
   {
    "duration": 970,
    "start_time": "2022-03-23T21:35:29.222Z"
   },
   {
    "duration": 12,
    "start_time": "2022-03-23T21:35:30.195Z"
   },
   {
    "duration": 110,
    "start_time": "2022-03-23T21:35:30.305Z"
   },
   {
    "duration": 32,
    "start_time": "2022-03-23T21:35:30.694Z"
   },
   {
    "duration": 17,
    "start_time": "2022-03-23T21:35:31.894Z"
   },
   {
    "duration": 28,
    "start_time": "2022-03-23T21:35:32.224Z"
   },
   {
    "duration": 7,
    "start_time": "2022-03-23T21:35:32.594Z"
   },
   {
    "duration": 10,
    "start_time": "2022-03-23T21:35:33.786Z"
   },
   {
    "duration": 12,
    "start_time": "2022-03-23T21:35:34.815Z"
   },
   {
    "duration": 60,
    "start_time": "2022-03-23T21:35:36.255Z"
   },
   {
    "duration": 8,
    "start_time": "2022-03-23T21:35:41.616Z"
   },
   {
    "duration": 10,
    "start_time": "2022-03-23T21:35:43.134Z"
   },
   {
    "duration": 7,
    "start_time": "2022-03-23T21:35:44.676Z"
   },
   {
    "duration": 6,
    "start_time": "2022-03-23T21:36:16.174Z"
   },
   {
    "duration": 12,
    "start_time": "2022-03-23T21:36:51.672Z"
   },
   {
    "duration": 96,
    "start_time": "2022-03-23T21:40:46.415Z"
   },
   {
    "duration": 15,
    "start_time": "2022-03-23T21:41:47.302Z"
   },
   {
    "duration": 11,
    "start_time": "2022-03-23T21:43:19.063Z"
   },
   {
    "duration": 14,
    "start_time": "2022-03-23T21:45:20.264Z"
   },
   {
    "duration": 6,
    "start_time": "2022-03-23T21:45:23.214Z"
   },
   {
    "duration": 6,
    "start_time": "2022-03-23T21:45:56.744Z"
   },
   {
    "duration": 10,
    "start_time": "2022-03-23T21:46:03.254Z"
   },
   {
    "duration": 11,
    "start_time": "2022-03-23T21:51:15.374Z"
   },
   {
    "duration": 19,
    "start_time": "2022-03-23T21:56:57.112Z"
   },
   {
    "duration": 16,
    "start_time": "2022-03-23T21:57:06.214Z"
   },
   {
    "duration": 17,
    "start_time": "2022-03-23T21:57:10.654Z"
   },
   {
    "duration": 7,
    "start_time": "2022-03-23T21:57:12.974Z"
   },
   {
    "duration": 19,
    "start_time": "2022-03-23T21:57:14.844Z"
   },
   {
    "duration": 19,
    "start_time": "2022-03-23T21:57:29.053Z"
   },
   {
    "duration": 16,
    "start_time": "2022-03-23T21:57:33.053Z"
   },
   {
    "duration": 15,
    "start_time": "2022-03-23T21:58:39.219Z"
   },
   {
    "duration": 11,
    "start_time": "2022-03-23T21:58:55.722Z"
   },
   {
    "duration": 11,
    "start_time": "2022-03-23T21:59:13.915Z"
   },
   {
    "duration": 16,
    "start_time": "2022-03-23T22:04:37.462Z"
   },
   {
    "duration": 9,
    "start_time": "2022-03-23T22:05:00.374Z"
   },
   {
    "duration": 14,
    "start_time": "2022-03-23T22:05:57.145Z"
   },
   {
    "duration": 9,
    "start_time": "2022-03-23T22:06:13.455Z"
   },
   {
    "duration": 5,
    "start_time": "2022-03-23T22:07:30.016Z"
   },
   {
    "duration": 9,
    "start_time": "2022-03-23T22:08:52.176Z"
   },
   {
    "duration": 10,
    "start_time": "2022-03-23T22:19:38.504Z"
   },
   {
    "duration": 21,
    "start_time": "2022-03-23T22:21:46.846Z"
   },
   {
    "duration": 145,
    "start_time": "2022-03-23T22:30:13.934Z"
   },
   {
    "duration": 5,
    "start_time": "2022-03-23T23:01:06.134Z"
   },
   {
    "duration": 69,
    "start_time": "2022-03-23T23:02:19.293Z"
   },
   {
    "duration": 9,
    "start_time": "2022-03-23T23:17:32.975Z"
   },
   {
    "duration": 4,
    "start_time": "2022-03-23T23:17:44.013Z"
   },
   {
    "duration": 24,
    "start_time": "2022-03-23T23:17:47.213Z"
   },
   {
    "duration": 35,
    "start_time": "2022-03-23T23:18:57.033Z"
   },
   {
    "duration": 8,
    "start_time": "2022-03-23T23:24:58.274Z"
   },
   {
    "duration": 53,
    "start_time": "2022-03-24T09:40:43.570Z"
   },
   {
    "duration": 7,
    "start_time": "2022-03-24T09:54:47.108Z"
   },
   {
    "duration": 510,
    "start_time": "2022-03-24T09:54:53.938Z"
   },
   {
    "duration": 6,
    "start_time": "2022-03-24T09:54:54.450Z"
   },
   {
    "duration": 71,
    "start_time": "2022-03-24T09:54:54.879Z"
   },
   {
    "duration": 16,
    "start_time": "2022-03-24T09:54:55.209Z"
   },
   {
    "duration": 10,
    "start_time": "2022-03-24T09:54:56.530Z"
   },
   {
    "duration": 16,
    "start_time": "2022-03-24T09:54:56.978Z"
   },
   {
    "duration": 5,
    "start_time": "2022-03-24T09:54:57.370Z"
   },
   {
    "duration": 6,
    "start_time": "2022-03-24T09:54:57.990Z"
   },
   {
    "duration": 6,
    "start_time": "2022-03-24T09:54:58.379Z"
   },
   {
    "duration": 29,
    "start_time": "2022-03-24T09:54:58.579Z"
   },
   {
    "duration": 6,
    "start_time": "2022-03-24T09:54:58.989Z"
   },
   {
    "duration": 5,
    "start_time": "2022-03-24T09:54:59.619Z"
   },
   {
    "duration": 5,
    "start_time": "2022-03-24T09:55:00.219Z"
   },
   {
    "duration": 6,
    "start_time": "2022-03-24T09:55:00.430Z"
   },
   {
    "duration": 5,
    "start_time": "2022-03-24T09:55:00.909Z"
   },
   {
    "duration": 10,
    "start_time": "2022-03-24T09:55:01.358Z"
   },
   {
    "duration": 8,
    "start_time": "2022-03-24T09:55:01.818Z"
   },
   {
    "duration": 7,
    "start_time": "2022-03-24T09:55:02.298Z"
   },
   {
    "duration": 7,
    "start_time": "2022-03-24T09:55:02.818Z"
   },
   {
    "duration": 15,
    "start_time": "2022-03-24T09:55:03.380Z"
   },
   {
    "duration": 3,
    "start_time": "2022-03-24T09:55:04.418Z"
   },
   {
    "duration": 42,
    "start_time": "2022-03-24T09:55:04.779Z"
   },
   {
    "duration": 4,
    "start_time": "2022-03-24T09:55:05.188Z"
   },
   {
    "duration": 15,
    "start_time": "2022-03-24T09:55:05.740Z"
   },
   {
    "duration": 25,
    "start_time": "2022-03-24T09:55:07.177Z"
   },
   {
    "duration": 4,
    "start_time": "2022-03-24T09:55:10.178Z"
   },
   {
    "duration": 8,
    "start_time": "2022-03-24T09:56:22.478Z"
   },
   {
    "duration": 192,
    "start_time": "2022-03-24T10:51:58.705Z"
   },
   {
    "duration": 34,
    "start_time": "2022-03-24T11:24:11.431Z"
   },
   {
    "duration": 10,
    "start_time": "2022-03-24T11:27:09.091Z"
   },
   {
    "duration": 110,
    "start_time": "2022-03-24T11:28:24.512Z"
   },
   {
    "duration": 13,
    "start_time": "2022-03-24T11:28:34.801Z"
   },
   {
    "duration": 15,
    "start_time": "2022-03-24T11:28:48.432Z"
   },
   {
    "duration": 8,
    "start_time": "2022-03-24T11:33:02.112Z"
   },
   {
    "duration": 34,
    "start_time": "2022-03-24T11:33:57.961Z"
   },
   {
    "duration": 5,
    "start_time": "2022-03-24T11:37:17.934Z"
   },
   {
    "duration": 129,
    "start_time": "2022-03-24T11:39:27.252Z"
   },
   {
    "duration": 17,
    "start_time": "2022-03-24T11:39:27.385Z"
   },
   {
    "duration": 80,
    "start_time": "2022-03-24T11:39:27.942Z"
   },
   {
    "duration": 18,
    "start_time": "2022-03-24T11:39:28.272Z"
   },
   {
    "duration": 11,
    "start_time": "2022-03-24T11:39:29.392Z"
   },
   {
    "duration": 15,
    "start_time": "2022-03-24T11:39:29.781Z"
   },
   {
    "duration": 6,
    "start_time": "2022-03-24T11:39:30.222Z"
   },
   {
    "duration": 8,
    "start_time": "2022-03-24T11:39:30.913Z"
   },
   {
    "duration": 10,
    "start_time": "2022-03-24T11:39:31.542Z"
   },
   {
    "duration": 46,
    "start_time": "2022-03-24T11:39:31.853Z"
   },
   {
    "duration": 7,
    "start_time": "2022-03-24T11:39:32.462Z"
   },
   {
    "duration": 6,
    "start_time": "2022-03-24T11:39:33.252Z"
   },
   {
    "duration": 6,
    "start_time": "2022-03-24T11:39:33.942Z"
   },
   {
    "duration": 6,
    "start_time": "2022-03-24T11:39:34.172Z"
   },
   {
    "duration": 5,
    "start_time": "2022-03-24T11:39:34.742Z"
   },
   {
    "duration": 11,
    "start_time": "2022-03-24T11:39:35.382Z"
   },
   {
    "duration": 11,
    "start_time": "2022-03-24T11:39:36.011Z"
   },
   {
    "duration": 10,
    "start_time": "2022-03-24T11:39:36.692Z"
   },
   {
    "duration": 7,
    "start_time": "2022-03-24T11:39:38.182Z"
   },
   {
    "duration": 15,
    "start_time": "2022-03-24T11:39:38.902Z"
   },
   {
    "duration": 3,
    "start_time": "2022-03-24T11:39:41.122Z"
   },
   {
    "duration": 46,
    "start_time": "2022-03-24T11:39:41.542Z"
   },
   {
    "duration": 4,
    "start_time": "2022-03-24T11:39:42.022Z"
   },
   {
    "duration": 17,
    "start_time": "2022-03-24T11:39:42.384Z"
   },
   {
    "duration": 37,
    "start_time": "2022-03-24T11:39:43.382Z"
   },
   {
    "duration": 6,
    "start_time": "2022-03-24T11:39:45.474Z"
   },
   {
    "duration": 142,
    "start_time": "2022-03-24T11:39:46.022Z"
   },
   {
    "duration": 13,
    "start_time": "2022-03-24T11:39:46.342Z"
   },
   {
    "duration": 149,
    "start_time": "2022-03-24T11:39:46.662Z"
   },
   {
    "duration": 8,
    "start_time": "2022-03-24T11:39:46.983Z"
   },
   {
    "duration": 4,
    "start_time": "2022-03-24T11:39:47.382Z"
   },
   {
    "duration": 10,
    "start_time": "2022-03-24T11:39:47.862Z"
   },
   {
    "duration": 77,
    "start_time": "2022-03-24T11:39:48.821Z"
   },
   {
    "duration": 74,
    "start_time": "2022-03-24T11:39:49.752Z"
   },
   {
    "duration": 161,
    "start_time": "2022-03-24T11:39:50.142Z"
   },
   {
    "duration": 11,
    "start_time": "2022-03-24T11:39:50.662Z"
   },
   {
    "duration": 340,
    "start_time": "2022-03-24T11:39:51.062Z"
   },
   {
    "duration": 6,
    "start_time": "2022-03-24T11:39:51.541Z"
   },
   {
    "duration": 28,
    "start_time": "2022-03-24T11:39:52.102Z"
   },
   {
    "duration": 6,
    "start_time": "2022-03-24T11:40:48.823Z"
   },
   {
    "duration": 174,
    "start_time": "2022-03-24T11:40:54.581Z"
   },
   {
    "duration": 115,
    "start_time": "2022-03-24T11:40:57.302Z"
   },
   {
    "duration": 192,
    "start_time": "2022-03-24T11:40:57.972Z"
   },
   {
    "duration": 14,
    "start_time": "2022-03-24T11:41:05.262Z"
   },
   {
    "duration": 165,
    "start_time": "2022-03-24T11:41:06.932Z"
   },
   {
    "duration": 6,
    "start_time": "2022-03-24T11:41:12.662Z"
   },
   {
    "duration": 31,
    "start_time": "2022-03-24T11:41:13.782Z"
   },
   {
    "duration": 2861,
    "start_time": "2022-03-24T11:49:57.889Z"
   },
   {
    "duration": 32,
    "start_time": "2022-03-24T11:50:35.917Z"
   },
   {
    "duration": 673,
    "start_time": "2022-03-24T12:34:37.184Z"
   },
   {
    "duration": 675,
    "start_time": "2022-03-24T12:39:05.217Z"
   },
   {
    "duration": 44,
    "start_time": "2022-03-24T14:45:27.539Z"
   },
   {
    "duration": 864,
    "start_time": "2022-03-24T14:45:35.269Z"
   },
   {
    "duration": 7,
    "start_time": "2022-03-24T14:45:36.136Z"
   },
   {
    "duration": 106,
    "start_time": "2022-03-24T14:45:36.144Z"
   },
   {
    "duration": 19,
    "start_time": "2022-03-24T14:45:36.340Z"
   },
   {
    "duration": 12,
    "start_time": "2022-03-24T14:45:37.489Z"
   },
   {
    "duration": 21,
    "start_time": "2022-03-24T14:45:37.869Z"
   },
   {
    "duration": 7,
    "start_time": "2022-03-24T14:45:38.309Z"
   },
   {
    "duration": 6,
    "start_time": "2022-03-24T14:45:39.029Z"
   },
   {
    "duration": 6,
    "start_time": "2022-03-24T14:45:39.359Z"
   },
   {
    "duration": 24,
    "start_time": "2022-03-24T14:45:39.569Z"
   },
   {
    "duration": 5,
    "start_time": "2022-03-24T14:45:39.949Z"
   },
   {
    "duration": 5,
    "start_time": "2022-03-24T14:45:40.549Z"
   },
   {
    "duration": 6,
    "start_time": "2022-03-24T14:45:41.151Z"
   },
   {
    "duration": 6,
    "start_time": "2022-03-24T14:45:41.389Z"
   },
   {
    "duration": 5,
    "start_time": "2022-03-24T14:45:41.769Z"
   },
   {
    "duration": 8,
    "start_time": "2022-03-24T14:45:42.168Z"
   },
   {
    "duration": 6,
    "start_time": "2022-03-24T14:45:42.709Z"
   },
   {
    "duration": 6,
    "start_time": "2022-03-24T14:45:43.119Z"
   },
   {
    "duration": 5,
    "start_time": "2022-03-24T14:45:43.549Z"
   },
   {
    "duration": 14,
    "start_time": "2022-03-24T14:45:43.950Z"
   },
   {
    "duration": 3,
    "start_time": "2022-03-24T14:45:44.789Z"
   },
   {
    "duration": 65,
    "start_time": "2022-03-24T14:45:46.158Z"
   },
   {
    "duration": 3,
    "start_time": "2022-03-24T14:45:46.419Z"
   },
   {
    "duration": 21,
    "start_time": "2022-03-24T14:45:46.682Z"
   },
   {
    "duration": 34,
    "start_time": "2022-03-24T14:45:47.029Z"
   },
   {
    "duration": 5,
    "start_time": "2022-03-24T14:45:48.069Z"
   },
   {
    "duration": 8,
    "start_time": "2022-03-24T14:45:48.741Z"
   },
   {
    "duration": 6,
    "start_time": "2022-03-24T14:45:49.194Z"
   },
   {
    "duration": 3,
    "start_time": "2022-03-24T14:45:49.369Z"
   },
   {
    "duration": 4,
    "start_time": "2022-03-24T14:45:49.829Z"
   },
   {
    "duration": 90,
    "start_time": "2022-03-24T14:45:50.229Z"
   },
   {
    "duration": 57,
    "start_time": "2022-03-24T14:45:50.809Z"
   },
   {
    "duration": 8,
    "start_time": "2022-03-24T14:45:51.539Z"
   },
   {
    "duration": 5,
    "start_time": "2022-03-24T14:45:52.029Z"
   },
   {
    "duration": 24,
    "start_time": "2022-03-24T14:45:52.209Z"
   },
   {
    "duration": 24,
    "start_time": "2022-03-24T14:45:53.589Z"
   },
   {
    "duration": 1393,
    "start_time": "2022-03-24T14:45:54.869Z"
   },
   {
    "duration": 187,
    "start_time": "2022-03-24T14:45:56.264Z"
   },
   {
    "duration": 0,
    "start_time": "2022-03-24T14:45:56.452Z"
   },
   {
    "duration": 9,
    "start_time": "2022-03-24T14:46:18.469Z"
   },
   {
    "duration": 10,
    "start_time": "2022-03-24T14:47:53.448Z"
   },
   {
    "duration": 566,
    "start_time": "2022-03-24T15:11:54.990Z"
   },
   {
    "duration": 8,
    "start_time": "2022-03-24T15:12:32.672Z"
   },
   {
    "duration": 11,
    "start_time": "2022-03-24T15:13:26.731Z"
   },
   {
    "duration": 182,
    "start_time": "2022-03-24T15:18:35.192Z"
   },
   {
    "duration": 213,
    "start_time": "2022-03-24T15:19:11.632Z"
   },
   {
    "duration": 148,
    "start_time": "2022-03-24T15:19:50.271Z"
   },
   {
    "duration": 118,
    "start_time": "2022-03-24T15:26:13.069Z"
   },
   {
    "duration": 196,
    "start_time": "2022-03-24T15:30:22.740Z"
   },
   {
    "duration": 109,
    "start_time": "2022-03-24T15:30:29.339Z"
   },
   {
    "duration": 136,
    "start_time": "2022-03-24T15:32:11.579Z"
   },
   {
    "duration": 186,
    "start_time": "2022-03-24T15:36:53.258Z"
   },
   {
    "duration": 208,
    "start_time": "2022-03-24T15:37:02.578Z"
   },
   {
    "duration": 242,
    "start_time": "2022-03-24T15:37:21.499Z"
   },
   {
    "duration": 51,
    "start_time": "2022-03-26T09:51:20.347Z"
   },
   {
    "duration": 547,
    "start_time": "2022-03-26T09:51:25.904Z"
   },
   {
    "duration": 6,
    "start_time": "2022-03-26T09:51:26.453Z"
   },
   {
    "duration": 84,
    "start_time": "2022-03-26T09:51:26.584Z"
   },
   {
    "duration": 15,
    "start_time": "2022-03-26T09:51:26.884Z"
   },
   {
    "duration": 9,
    "start_time": "2022-03-26T09:51:27.942Z"
   },
   {
    "duration": 14,
    "start_time": "2022-03-26T09:51:28.543Z"
   },
   {
    "duration": 5,
    "start_time": "2022-03-26T09:51:28.942Z"
   },
   {
    "duration": 7,
    "start_time": "2022-03-26T09:51:29.543Z"
   },
   {
    "duration": 7,
    "start_time": "2022-03-26T09:51:29.982Z"
   },
   {
    "duration": 29,
    "start_time": "2022-03-26T09:51:30.163Z"
   },
   {
    "duration": 5,
    "start_time": "2022-03-26T09:51:30.623Z"
   },
   {
    "duration": 5,
    "start_time": "2022-03-26T09:51:31.263Z"
   },
   {
    "duration": 5,
    "start_time": "2022-03-26T09:51:31.903Z"
   },
   {
    "duration": 7,
    "start_time": "2022-03-26T09:51:32.082Z"
   },
   {
    "duration": 4,
    "start_time": "2022-03-26T09:51:32.582Z"
   },
   {
    "duration": 10,
    "start_time": "2022-03-26T09:51:32.942Z"
   },
   {
    "duration": 8,
    "start_time": "2022-03-26T09:51:33.382Z"
   },
   {
    "duration": 8,
    "start_time": "2022-03-26T09:51:33.783Z"
   },
   {
    "duration": 7,
    "start_time": "2022-03-26T09:51:34.222Z"
   },
   {
    "duration": 15,
    "start_time": "2022-03-26T09:51:34.662Z"
   },
   {
    "duration": 3,
    "start_time": "2022-03-26T09:51:36.278Z"
   },
   {
    "duration": 46,
    "start_time": "2022-03-26T09:51:36.283Z"
   },
   {
    "duration": 3,
    "start_time": "2022-03-26T09:51:36.331Z"
   },
   {
    "duration": 16,
    "start_time": "2022-03-26T09:51:36.662Z"
   },
   {
    "duration": 25,
    "start_time": "2022-03-26T09:51:36.984Z"
   },
   {
    "duration": 4,
    "start_time": "2022-03-26T09:51:37.902Z"
   },
   {
    "duration": 8,
    "start_time": "2022-03-26T09:51:38.742Z"
   },
   {
    "duration": 6,
    "start_time": "2022-03-26T09:51:39.142Z"
   },
   {
    "duration": 3,
    "start_time": "2022-03-26T09:51:39.343Z"
   },
   {
    "duration": 5,
    "start_time": "2022-03-26T09:51:39.583Z"
   },
   {
    "duration": 110,
    "start_time": "2022-03-26T09:51:39.982Z"
   },
   {
    "duration": 75,
    "start_time": "2022-03-26T09:51:40.368Z"
   },
   {
    "duration": 10,
    "start_time": "2022-03-26T09:51:40.862Z"
   },
   {
    "duration": 5,
    "start_time": "2022-03-26T09:51:41.383Z"
   },
   {
    "duration": 27,
    "start_time": "2022-03-26T09:51:41.636Z"
   },
   {
    "duration": 28,
    "start_time": "2022-03-26T09:51:42.642Z"
   },
   {
    "duration": 1226,
    "start_time": "2022-03-26T09:51:44.983Z"
   },
   {
    "duration": 25,
    "start_time": "2022-03-26T09:51:46.211Z"
   },
   {
    "duration": 178,
    "start_time": "2022-03-26T09:51:47.063Z"
   },
   {
    "duration": 132,
    "start_time": "2022-03-26T09:51:49.143Z"
   },
   {
    "duration": 191,
    "start_time": "2022-03-26T09:51:50.903Z"
   },
   {
    "duration": 160,
    "start_time": "2022-03-26T09:51:51.543Z"
   },
   {
    "duration": 174,
    "start_time": "2022-03-26T09:52:29.382Z"
   },
   {
    "duration": 192,
    "start_time": "2022-03-26T09:53:41.702Z"
   },
   {
    "duration": 221,
    "start_time": "2022-03-26T09:53:51.542Z"
   },
   {
    "duration": 168,
    "start_time": "2022-03-26T09:57:05.232Z"
   },
   {
    "duration": 194,
    "start_time": "2022-03-26T09:57:33.250Z"
   },
   {
    "duration": 202,
    "start_time": "2022-03-26T09:57:52.290Z"
   },
   {
    "duration": 195,
    "start_time": "2022-03-26T09:58:03.011Z"
   },
   {
    "duration": 190,
    "start_time": "2022-03-26T09:58:32.039Z"
   },
   {
    "duration": 187,
    "start_time": "2022-03-26T09:58:43.330Z"
   },
   {
    "duration": 191,
    "start_time": "2022-03-26T09:58:50.770Z"
   },
   {
    "duration": 186,
    "start_time": "2022-03-26T09:59:02.190Z"
   },
   {
    "duration": 174,
    "start_time": "2022-03-26T10:01:36.511Z"
   },
   {
    "duration": 168,
    "start_time": "2022-03-26T10:07:36.321Z"
   },
   {
    "duration": 231,
    "start_time": "2022-03-26T10:08:06.561Z"
   },
   {
    "duration": 221,
    "start_time": "2022-03-26T10:43:41.759Z"
   },
   {
    "duration": 184,
    "start_time": "2022-03-26T10:44:15.278Z"
   },
   {
    "duration": 181,
    "start_time": "2022-03-26T10:44:48.118Z"
   },
   {
    "duration": 161,
    "start_time": "2022-03-26T10:44:57.358Z"
   },
   {
    "duration": 269,
    "start_time": "2022-03-26T10:45:32.797Z"
   },
   {
    "duration": 317,
    "start_time": "2022-03-26T10:51:47.978Z"
   },
   {
    "duration": 516,
    "start_time": "2022-03-26T11:22:01.012Z"
   },
   {
    "duration": 6,
    "start_time": "2022-03-26T11:22:01.530Z"
   },
   {
    "duration": 63,
    "start_time": "2022-03-26T11:22:01.653Z"
   },
   {
    "duration": 14,
    "start_time": "2022-03-26T11:22:02.021Z"
   },
   {
    "duration": 9,
    "start_time": "2022-03-26T11:22:03.543Z"
   },
   {
    "duration": 14,
    "start_time": "2022-03-26T11:22:03.972Z"
   },
   {
    "duration": 5,
    "start_time": "2022-03-26T11:22:04.302Z"
   },
   {
    "duration": 6,
    "start_time": "2022-03-26T11:22:04.932Z"
   },
   {
    "duration": 6,
    "start_time": "2022-03-26T11:22:05.332Z"
   },
   {
    "duration": 23,
    "start_time": "2022-03-26T11:22:05.521Z"
   },
   {
    "duration": 5,
    "start_time": "2022-03-26T11:22:05.872Z"
   },
   {
    "duration": 6,
    "start_time": "2022-03-26T11:22:06.467Z"
   },
   {
    "duration": 5,
    "start_time": "2022-03-26T11:22:07.093Z"
   },
   {
    "duration": 7,
    "start_time": "2022-03-26T11:22:07.272Z"
   },
   {
    "duration": 4,
    "start_time": "2022-03-26T11:22:07.892Z"
   },
   {
    "duration": 8,
    "start_time": "2022-03-26T11:22:08.252Z"
   },
   {
    "duration": 7,
    "start_time": "2022-03-26T11:22:08.692Z"
   },
   {
    "duration": 6,
    "start_time": "2022-03-26T11:22:09.092Z"
   },
   {
    "duration": 6,
    "start_time": "2022-03-26T11:22:09.432Z"
   },
   {
    "duration": 15,
    "start_time": "2022-03-26T11:22:09.851Z"
   },
   {
    "duration": 3,
    "start_time": "2022-03-26T11:22:10.772Z"
   },
   {
    "duration": 37,
    "start_time": "2022-03-26T11:22:10.931Z"
   },
   {
    "duration": 3,
    "start_time": "2022-03-26T11:22:11.211Z"
   },
   {
    "duration": 15,
    "start_time": "2022-03-26T11:22:11.551Z"
   },
   {
    "duration": 23,
    "start_time": "2022-03-26T11:22:11.932Z"
   },
   {
    "duration": 8,
    "start_time": "2022-03-26T11:22:13.392Z"
   },
   {
    "duration": 11,
    "start_time": "2022-03-26T11:22:14.212Z"
   },
   {
    "duration": 6,
    "start_time": "2022-03-26T11:22:14.672Z"
   },
   {
    "duration": 3,
    "start_time": "2022-03-26T11:22:14.893Z"
   },
   {
    "duration": 5,
    "start_time": "2022-03-26T11:22:15.122Z"
   },
   {
    "duration": 95,
    "start_time": "2022-03-26T11:22:15.653Z"
   },
   {
    "duration": 65,
    "start_time": "2022-03-26T11:22:16.052Z"
   },
   {
    "duration": 8,
    "start_time": "2022-03-26T11:22:16.592Z"
   },
   {
    "duration": 5,
    "start_time": "2022-03-26T11:22:17.092Z"
   },
   {
    "duration": 25,
    "start_time": "2022-03-26T11:22:17.372Z"
   },
   {
    "duration": 24,
    "start_time": "2022-03-26T11:22:19.572Z"
   },
   {
    "duration": 1022,
    "start_time": "2022-03-26T11:22:21.253Z"
   },
   {
    "duration": 12,
    "start_time": "2022-03-26T11:22:23.892Z"
   },
   {
    "duration": 139,
    "start_time": "2022-03-26T11:22:25.252Z"
   },
   {
    "duration": 117,
    "start_time": "2022-03-26T11:22:26.292Z"
   },
   {
    "duration": 213,
    "start_time": "2022-03-26T11:22:27.902Z"
   },
   {
    "duration": 152,
    "start_time": "2022-03-26T11:22:31.013Z"
   },
   {
    "duration": 137,
    "start_time": "2022-03-26T11:22:33.900Z"
   },
   {
    "duration": 196,
    "start_time": "2022-03-26T11:22:36.212Z"
   },
   {
    "duration": 71,
    "start_time": "2022-03-26T11:22:37.232Z"
   },
   {
    "duration": 8,
    "start_time": "2022-03-26T11:22:50.211Z"
   },
   {
    "duration": 28,
    "start_time": "2022-03-26T11:23:38.460Z"
   },
   {
    "duration": 24,
    "start_time": "2022-03-26T11:24:00.448Z"
   },
   {
    "duration": 8,
    "start_time": "2022-03-26T11:24:26.329Z"
   },
   {
    "duration": 7,
    "start_time": "2022-03-26T11:24:37.130Z"
   },
   {
    "duration": 8,
    "start_time": "2022-03-26T11:25:04.870Z"
   },
   {
    "duration": 8,
    "start_time": "2022-03-26T11:25:11.850Z"
   },
   {
    "duration": 9,
    "start_time": "2022-03-26T11:25:21.611Z"
   },
   {
    "duration": 129,
    "start_time": "2022-03-26T11:36:58.174Z"
   },
   {
    "duration": 12,
    "start_time": "2022-03-26T11:36:58.509Z"
   },
   {
    "duration": 86,
    "start_time": "2022-03-26T11:36:58.858Z"
   },
   {
    "duration": 13,
    "start_time": "2022-03-26T11:36:59.061Z"
   },
   {
    "duration": 8,
    "start_time": "2022-03-26T11:36:59.201Z"
   },
   {
    "duration": 12,
    "start_time": "2022-03-26T11:36:59.303Z"
   },
   {
    "duration": 6,
    "start_time": "2022-03-26T11:36:59.317Z"
   },
   {
    "duration": 5,
    "start_time": "2022-03-26T11:36:59.412Z"
   },
   {
    "duration": 7,
    "start_time": "2022-03-26T11:36:59.419Z"
   },
   {
    "duration": 25,
    "start_time": "2022-03-26T11:36:59.427Z"
   },
   {
    "duration": 5,
    "start_time": "2022-03-26T11:36:59.453Z"
   },
   {
    "duration": 7,
    "start_time": "2022-03-26T11:36:59.459Z"
   },
   {
    "duration": 37,
    "start_time": "2022-03-26T11:36:59.468Z"
   },
   {
    "duration": 6,
    "start_time": "2022-03-26T11:36:59.507Z"
   },
   {
    "duration": 4,
    "start_time": "2022-03-26T11:36:59.515Z"
   },
   {
    "duration": 9,
    "start_time": "2022-03-26T11:36:59.520Z"
   },
   {
    "duration": 9,
    "start_time": "2022-03-26T11:36:59.531Z"
   },
   {
    "duration": 10,
    "start_time": "2022-03-26T11:36:59.541Z"
   },
   {
    "duration": 7,
    "start_time": "2022-03-26T11:36:59.553Z"
   },
   {
    "duration": 15,
    "start_time": "2022-03-26T11:36:59.600Z"
   },
   {
    "duration": 3,
    "start_time": "2022-03-26T11:36:59.616Z"
   },
   {
    "duration": 34,
    "start_time": "2022-03-26T11:36:59.620Z"
   },
   {
    "duration": 2,
    "start_time": "2022-03-26T11:36:59.656Z"
   },
   {
    "duration": 16,
    "start_time": "2022-03-26T11:36:59.660Z"
   },
   {
    "duration": 42,
    "start_time": "2022-03-26T11:36:59.677Z"
   },
   {
    "duration": 5,
    "start_time": "2022-03-26T11:36:59.721Z"
   },
   {
    "duration": 8,
    "start_time": "2022-03-26T11:36:59.727Z"
   },
   {
    "duration": 10,
    "start_time": "2022-03-26T11:36:59.737Z"
   },
   {
    "duration": 5,
    "start_time": "2022-03-26T11:36:59.748Z"
   },
   {
    "duration": 10,
    "start_time": "2022-03-26T11:36:59.755Z"
   },
   {
    "duration": 73,
    "start_time": "2022-03-26T11:36:59.766Z"
   },
   {
    "duration": 68,
    "start_time": "2022-03-26T11:36:59.841Z"
   },
   {
    "duration": 9,
    "start_time": "2022-03-26T11:36:59.911Z"
   },
   {
    "duration": 5,
    "start_time": "2022-03-26T11:36:59.922Z"
   },
   {
    "duration": 23,
    "start_time": "2022-03-26T11:36:59.928Z"
   },
   {
    "duration": 23,
    "start_time": "2022-03-26T11:36:59.953Z"
   },
   {
    "duration": 632,
    "start_time": "2022-03-26T11:36:59.978Z"
   },
   {
    "duration": 11,
    "start_time": "2022-03-26T11:37:00.612Z"
   },
   {
    "duration": 177,
    "start_time": "2022-03-26T11:37:00.624Z"
   },
   {
    "duration": 126,
    "start_time": "2022-03-26T11:37:00.802Z"
   },
   {
    "duration": 153,
    "start_time": "2022-03-26T11:37:00.930Z"
   },
   {
    "duration": 164,
    "start_time": "2022-03-26T11:37:01.085Z"
   },
   {
    "duration": 152,
    "start_time": "2022-03-26T11:37:01.251Z"
   },
   {
    "duration": 181,
    "start_time": "2022-03-26T11:37:01.405Z"
   },
   {
    "duration": 95,
    "start_time": "2022-03-26T11:54:03.469Z"
   },
   {
    "duration": 7,
    "start_time": "2022-03-26T11:54:03.806Z"
   },
   {
    "duration": 75,
    "start_time": "2022-03-26T11:54:03.976Z"
   },
   {
    "duration": 648,
    "start_time": "2022-03-26T11:56:30.753Z"
   },
   {
    "duration": 6,
    "start_time": "2022-03-26T11:56:31.403Z"
   },
   {
    "duration": 86,
    "start_time": "2022-03-26T11:56:33.460Z"
   },
   {
    "duration": 18,
    "start_time": "2022-03-26T11:56:34.834Z"
   },
   {
    "duration": 12,
    "start_time": "2022-03-26T11:56:37.553Z"
   },
   {
    "duration": 17,
    "start_time": "2022-03-26T11:56:39.274Z"
   },
   {
    "duration": 5,
    "start_time": "2022-03-26T11:56:40.159Z"
   },
   {
    "duration": 7,
    "start_time": "2022-03-26T11:56:41.029Z"
   },
   {
    "duration": 7,
    "start_time": "2022-03-26T11:56:41.372Z"
   },
   {
    "duration": 24,
    "start_time": "2022-03-26T11:56:41.534Z"
   },
   {
    "duration": 4,
    "start_time": "2022-03-26T11:56:42.114Z"
   },
   {
    "duration": 4,
    "start_time": "2022-03-26T11:56:42.850Z"
   },
   {
    "duration": 5,
    "start_time": "2022-03-26T11:56:43.483Z"
   },
   {
    "duration": 6,
    "start_time": "2022-03-26T11:56:43.713Z"
   },
   {
    "duration": 4,
    "start_time": "2022-03-26T11:56:46.285Z"
   },
   {
    "duration": 8,
    "start_time": "2022-03-26T11:56:47.096Z"
   },
   {
    "duration": 7,
    "start_time": "2022-03-26T11:56:47.834Z"
   },
   {
    "duration": 6,
    "start_time": "2022-03-26T11:56:48.420Z"
   },
   {
    "duration": 6,
    "start_time": "2022-03-26T11:56:49.075Z"
   },
   {
    "duration": 12,
    "start_time": "2022-03-26T11:56:49.823Z"
   },
   {
    "duration": 3,
    "start_time": "2022-03-26T11:56:51.156Z"
   },
   {
    "duration": 34,
    "start_time": "2022-03-26T11:56:51.553Z"
   },
   {
    "duration": 3,
    "start_time": "2022-03-26T11:56:52.015Z"
   },
   {
    "duration": 13,
    "start_time": "2022-03-26T11:56:52.504Z"
   },
   {
    "duration": 22,
    "start_time": "2022-03-26T11:56:53.015Z"
   },
   {
    "duration": 4,
    "start_time": "2022-03-26T11:56:56.602Z"
   },
   {
    "duration": 8,
    "start_time": "2022-03-26T11:56:57.473Z"
   },
   {
    "duration": 5,
    "start_time": "2022-03-26T11:56:58.513Z"
   },
   {
    "duration": 2,
    "start_time": "2022-03-26T11:56:59.002Z"
   },
   {
    "duration": 5,
    "start_time": "2022-03-26T11:56:59.541Z"
   },
   {
    "duration": 101,
    "start_time": "2022-03-26T11:57:00.784Z"
   },
   {
    "duration": 66,
    "start_time": "2022-03-26T11:57:07.393Z"
   },
   {
    "duration": 9,
    "start_time": "2022-03-26T11:57:09.043Z"
   },
   {
    "duration": 5,
    "start_time": "2022-03-26T11:57:12.990Z"
   },
   {
    "duration": 27,
    "start_time": "2022-03-26T11:57:13.577Z"
   },
   {
    "duration": 25,
    "start_time": "2022-03-26T11:57:16.365Z"
   },
   {
    "duration": 932,
    "start_time": "2022-03-26T11:57:18.195Z"
   },
   {
    "duration": 11,
    "start_time": "2022-03-26T11:57:19.814Z"
   },
   {
    "duration": 155,
    "start_time": "2022-03-26T11:57:21.724Z"
   },
   {
    "duration": 165,
    "start_time": "2022-03-26T11:57:22.349Z"
   },
   {
    "duration": 200,
    "start_time": "2022-03-26T11:57:23.633Z"
   },
   {
    "duration": 149,
    "start_time": "2022-03-26T11:57:26.034Z"
   },
   {
    "duration": 131,
    "start_time": "2022-03-26T11:57:27.793Z"
   },
   {
    "duration": 305709,
    "start_time": "2022-03-26T11:57:31.174Z"
   },
   {
    "duration": 241397,
    "start_time": "2022-03-26T12:08:58.342Z"
   },
   {
    "duration": 90,
    "start_time": "2022-03-26T12:18:30.806Z"
   },
   {
    "duration": 237036,
    "start_time": "2022-03-26T12:18:47.046Z"
   },
   {
    "duration": 183,
    "start_time": "2022-03-26T12:23:41.081Z"
   },
   {
    "duration": 177,
    "start_time": "2022-03-26T12:24:59.441Z"
   },
   {
    "duration": 187,
    "start_time": "2022-03-26T12:25:22.076Z"
   },
   {
    "duration": 153,
    "start_time": "2022-03-26T12:28:51.030Z"
   },
   {
    "duration": 251,
    "start_time": "2022-03-26T12:32:12.814Z"
   },
   {
    "duration": 199,
    "start_time": "2022-03-26T12:32:45.214Z"
   },
   {
    "duration": 275,
    "start_time": "2022-03-26T12:33:09.144Z"
   },
   {
    "duration": 120,
    "start_time": "2022-03-26T12:38:48.924Z"
   },
   {
    "duration": 166,
    "start_time": "2022-03-26T12:41:01.063Z"
   },
   {
    "duration": 233,
    "start_time": "2022-03-26T12:41:01.231Z"
   },
   {
    "duration": 0,
    "start_time": "2022-03-26T12:41:01.466Z"
   },
   {
    "duration": 152,
    "start_time": "2022-03-26T12:49:19.662Z"
   },
   {
    "duration": 95602,
    "start_time": "2022-03-26T12:54:11.331Z"
   },
   {
    "duration": 70,
    "start_time": "2022-03-26T21:45:52.979Z"
   },
   {
    "duration": 605,
    "start_time": "2022-03-26T21:45:57.298Z"
   },
   {
    "duration": 7,
    "start_time": "2022-03-26T21:45:57.905Z"
   },
   {
    "duration": 97,
    "start_time": "2022-03-26T21:45:58.289Z"
   },
   {
    "duration": 20,
    "start_time": "2022-03-26T21:45:58.899Z"
   },
   {
    "duration": 12,
    "start_time": "2022-03-26T21:46:00.099Z"
   },
   {
    "duration": 22,
    "start_time": "2022-03-26T21:46:00.468Z"
   },
   {
    "duration": 7,
    "start_time": "2022-03-26T21:46:00.839Z"
   },
   {
    "duration": 9,
    "start_time": "2022-03-26T21:46:01.539Z"
   },
   {
    "duration": 9,
    "start_time": "2022-03-26T21:46:01.929Z"
   },
   {
    "duration": 40,
    "start_time": "2022-03-26T21:46:02.090Z"
   },
   {
    "duration": 7,
    "start_time": "2022-03-26T21:46:02.498Z"
   },
   {
    "duration": 6,
    "start_time": "2022-03-26T21:46:03.059Z"
   },
   {
    "duration": 6,
    "start_time": "2022-03-26T21:46:03.609Z"
   },
   {
    "duration": 8,
    "start_time": "2022-03-26T21:46:03.799Z"
   },
   {
    "duration": 6,
    "start_time": "2022-03-26T21:46:04.178Z"
   },
   {
    "duration": 12,
    "start_time": "2022-03-26T21:46:04.528Z"
   },
   {
    "duration": 10,
    "start_time": "2022-03-26T21:46:04.898Z"
   },
   {
    "duration": 10,
    "start_time": "2022-03-26T21:46:05.318Z"
   },
   {
    "duration": 6,
    "start_time": "2022-03-26T21:46:05.779Z"
   },
   {
    "duration": 18,
    "start_time": "2022-03-26T21:46:06.129Z"
   },
   {
    "duration": 4,
    "start_time": "2022-03-26T21:46:06.979Z"
   },
   {
    "duration": 60,
    "start_time": "2022-03-26T21:46:07.138Z"
   },
   {
    "duration": 4,
    "start_time": "2022-03-26T21:46:07.498Z"
   },
   {
    "duration": 23,
    "start_time": "2022-03-26T21:46:07.818Z"
   },
   {
    "duration": 35,
    "start_time": "2022-03-26T21:46:08.011Z"
   },
   {
    "duration": 5,
    "start_time": "2022-03-26T21:46:09.459Z"
   },
   {
    "duration": 12,
    "start_time": "2022-03-26T21:46:09.819Z"
   },
   {
    "duration": 8,
    "start_time": "2022-03-26T21:46:10.218Z"
   },
   {
    "duration": 4,
    "start_time": "2022-03-26T21:46:10.400Z"
   },
   {
    "duration": 7,
    "start_time": "2022-03-26T21:46:10.589Z"
   },
   {
    "duration": 131,
    "start_time": "2022-03-26T21:46:11.059Z"
   },
   {
    "duration": 98,
    "start_time": "2022-03-26T21:46:12.018Z"
   },
   {
    "duration": 11,
    "start_time": "2022-03-26T21:46:12.938Z"
   },
   {
    "duration": 7,
    "start_time": "2022-03-26T21:46:13.648Z"
   },
   {
    "duration": 41,
    "start_time": "2022-03-26T21:46:14.658Z"
   },
   {
    "duration": 37,
    "start_time": "2022-03-26T21:46:19.699Z"
   },
   {
    "duration": 1611,
    "start_time": "2022-03-26T21:46:21.698Z"
   },
   {
    "duration": 16,
    "start_time": "2022-03-26T21:46:23.312Z"
   },
   {
    "duration": 1123,
    "start_time": "2022-03-26T21:46:40.979Z"
   },
   {
    "duration": 1196,
    "start_time": "2022-03-26T21:46:55.888Z"
   },
   {
    "duration": 1440,
    "start_time": "2022-03-26T21:47:06.738Z"
   },
   {
    "duration": 983,
    "start_time": "2022-03-26T21:47:30.079Z"
   },
   {
    "duration": 225,
    "start_time": "2022-03-26T21:47:47.619Z"
   },
   {
    "duration": 17,
    "start_time": "2022-03-26T21:48:08.658Z"
   },
   {
    "duration": 247,
    "start_time": "2022-03-26T21:48:09.458Z"
   },
   {
    "duration": 198,
    "start_time": "2022-03-26T21:48:09.778Z"
   },
   {
    "duration": 239,
    "start_time": "2022-03-26T21:48:10.298Z"
   },
   {
    "duration": 337,
    "start_time": "2022-03-26T21:48:11.319Z"
   },
   {
    "duration": 228,
    "start_time": "2022-03-26T21:48:11.848Z"
   },
   {
    "duration": 314,
    "start_time": "2022-03-26T21:48:13.300Z"
   },
   {
    "duration": 181,
    "start_time": "2022-03-26T21:48:13.908Z"
   },
   {
    "duration": 243,
    "start_time": "2022-03-26T21:48:15.298Z"
   },
   {
    "duration": 210,
    "start_time": "2022-03-26T21:48:18.188Z"
   },
   {
    "duration": 86,
    "start_time": "2022-03-26T21:48:19.018Z"
   },
   {
    "duration": 0,
    "start_time": "2022-03-26T21:50:48.166Z"
   },
   {
    "duration": 0,
    "start_time": "2022-03-26T21:50:48.168Z"
   },
   {
    "duration": 0,
    "start_time": "2022-03-26T21:50:48.170Z"
   },
   {
    "duration": 404,
    "start_time": "2022-03-26T21:58:07.002Z"
   },
   {
    "duration": 51,
    "start_time": "2022-03-26T21:58:29.922Z"
   },
   {
    "duration": 235,
    "start_time": "2022-03-26T22:02:05.260Z"
   },
   {
    "duration": 224,
    "start_time": "2022-03-26T22:14:13.784Z"
   },
   {
    "duration": 419,
    "start_time": "2022-03-26T22:15:14.962Z"
   },
   {
    "duration": 116,
    "start_time": "2022-03-26T22:16:08.121Z"
   },
   {
    "duration": 116,
    "start_time": "2022-03-26T22:16:25.592Z"
   },
   {
    "duration": 181,
    "start_time": "2022-03-26T22:16:26.432Z"
   },
   {
    "duration": 274,
    "start_time": "2022-03-26T22:16:28.832Z"
   },
   {
    "duration": 218,
    "start_time": "2022-03-26T22:16:32.141Z"
   },
   {
    "duration": 235,
    "start_time": "2022-03-26T22:16:33.711Z"
   },
   {
    "duration": 308,
    "start_time": "2022-03-26T22:17:54.431Z"
   },
   {
    "duration": 158369,
    "start_time": "2022-03-26T22:18:31.531Z"
   },
   {
    "duration": 102,
    "start_time": "2022-03-26T22:21:09.904Z"
   },
   {
    "duration": 0,
    "start_time": "2022-03-26T22:21:10.009Z"
   },
   {
    "duration": 0,
    "start_time": "2022-03-26T22:21:10.012Z"
   },
   {
    "duration": 0,
    "start_time": "2022-03-26T22:21:10.015Z"
   },
   {
    "duration": 0,
    "start_time": "2022-03-26T22:21:10.018Z"
   },
   {
    "duration": 0,
    "start_time": "2022-03-26T22:21:10.020Z"
   },
   {
    "duration": 0,
    "start_time": "2022-03-26T22:21:10.023Z"
   },
   {
    "duration": 49785,
    "start_time": "2022-03-26T22:21:31.232Z"
   },
   {
    "duration": 395,
    "start_time": "2022-03-26T22:22:21.022Z"
   },
   {
    "duration": 164400,
    "start_time": "2022-03-26T22:22:21.420Z"
   },
   {
    "duration": 178,
    "start_time": "2022-03-26T22:25:05.822Z"
   },
   {
    "duration": 0,
    "start_time": "2022-03-26T22:25:06.002Z"
   },
   {
    "duration": 0,
    "start_time": "2022-03-26T22:25:06.005Z"
   },
   {
    "duration": 0,
    "start_time": "2022-03-26T22:25:06.006Z"
   },
   {
    "duration": 48,
    "start_time": "2022-03-26T22:28:10.666Z"
   },
   {
    "duration": 89,
    "start_time": "2022-03-26T22:28:11.276Z"
   },
   {
    "duration": 236,
    "start_time": "2022-03-26T22:28:12.205Z"
   },
   {
    "duration": 47,
    "start_time": "2022-03-26T22:36:52.639Z"
   },
   {
    "duration": 105,
    "start_time": "2022-03-26T22:37:38.958Z"
   },
   {
    "duration": 90,
    "start_time": "2022-03-26T22:38:13.758Z"
   },
   {
    "duration": 345,
    "start_time": "2022-03-26T22:38:22.319Z"
   },
   {
    "duration": 375,
    "start_time": "2022-03-26T22:39:39.838Z"
   },
   {
    "duration": 357,
    "start_time": "2022-03-26T22:40:43.650Z"
   },
   {
    "duration": 51,
    "start_time": "2022-03-26T22:43:10.218Z"
   },
   {
    "duration": 222,
    "start_time": "2022-03-26T22:46:14.758Z"
   },
   {
    "duration": 247,
    "start_time": "2022-03-26T22:56:17.204Z"
   },
   {
    "duration": 263,
    "start_time": "2022-03-26T22:58:17.953Z"
   },
   {
    "duration": 239,
    "start_time": "2022-03-26T23:01:29.903Z"
   },
   {
    "duration": 515,
    "start_time": "2022-03-27T09:18:06.425Z"
   },
   {
    "duration": 6,
    "start_time": "2022-03-27T09:18:06.942Z"
   },
   {
    "duration": 74,
    "start_time": "2022-03-27T09:18:07.365Z"
   },
   {
    "duration": 15,
    "start_time": "2022-03-27T09:18:07.765Z"
   },
   {
    "duration": 9,
    "start_time": "2022-03-27T09:18:08.965Z"
   },
   {
    "duration": 14,
    "start_time": "2022-03-27T09:18:09.445Z"
   },
   {
    "duration": 5,
    "start_time": "2022-03-27T09:18:09.805Z"
   },
   {
    "duration": 7,
    "start_time": "2022-03-27T09:18:10.404Z"
   },
   {
    "duration": 6,
    "start_time": "2022-03-27T09:18:10.885Z"
   },
   {
    "duration": 27,
    "start_time": "2022-03-27T09:18:11.044Z"
   },
   {
    "duration": 5,
    "start_time": "2022-03-27T09:18:11.525Z"
   },
   {
    "duration": 6,
    "start_time": "2022-03-27T09:18:12.325Z"
   },
   {
    "duration": 5,
    "start_time": "2022-03-27T09:18:13.125Z"
   },
   {
    "duration": 6,
    "start_time": "2022-03-27T09:18:13.335Z"
   },
   {
    "duration": 4,
    "start_time": "2022-03-27T09:18:13.845Z"
   },
   {
    "duration": 9,
    "start_time": "2022-03-27T09:18:14.405Z"
   },
   {
    "duration": 7,
    "start_time": "2022-03-27T09:18:14.765Z"
   },
   {
    "duration": 7,
    "start_time": "2022-03-27T09:18:15.204Z"
   },
   {
    "duration": 6,
    "start_time": "2022-03-27T09:18:15.685Z"
   },
   {
    "duration": 15,
    "start_time": "2022-03-27T09:18:16.165Z"
   },
   {
    "duration": 5,
    "start_time": "2022-03-27T09:18:17.125Z"
   },
   {
    "duration": 42,
    "start_time": "2022-03-27T09:18:17.415Z"
   },
   {
    "duration": 2,
    "start_time": "2022-03-27T09:18:17.745Z"
   },
   {
    "duration": 16,
    "start_time": "2022-03-27T09:18:18.056Z"
   },
   {
    "duration": 26,
    "start_time": "2022-03-27T09:18:18.365Z"
   },
   {
    "duration": 4,
    "start_time": "2022-03-27T09:18:19.365Z"
   },
   {
    "duration": 8,
    "start_time": "2022-03-27T09:18:20.005Z"
   },
   {
    "duration": 5,
    "start_time": "2022-03-27T09:18:20.596Z"
   },
   {
    "duration": 3,
    "start_time": "2022-03-27T09:18:20.885Z"
   },
   {
    "duration": 5,
    "start_time": "2022-03-27T09:18:21.186Z"
   },
   {
    "duration": 106,
    "start_time": "2022-03-27T09:18:21.864Z"
   },
   {
    "duration": 70,
    "start_time": "2022-03-27T09:18:22.565Z"
   },
   {
    "duration": 8,
    "start_time": "2022-03-27T09:18:23.326Z"
   },
   {
    "duration": 5,
    "start_time": "2022-03-27T09:18:24.165Z"
   },
   {
    "duration": 28,
    "start_time": "2022-03-27T09:18:24.574Z"
   },
   {
    "duration": 26,
    "start_time": "2022-03-27T09:18:26.175Z"
   },
   {
    "duration": 1004,
    "start_time": "2022-03-27T09:18:27.985Z"
   },
   {
    "duration": 14,
    "start_time": "2022-03-27T09:18:29.285Z"
   },
   {
    "duration": 145,
    "start_time": "2022-03-27T09:18:30.885Z"
   },
   {
    "duration": 125,
    "start_time": "2022-03-27T09:18:31.665Z"
   },
   {
    "duration": 155,
    "start_time": "2022-03-27T09:18:33.045Z"
   },
   {
    "duration": 156,
    "start_time": "2022-03-27T09:18:34.324Z"
   },
   {
    "duration": 140,
    "start_time": "2022-03-27T09:18:35.685Z"
   },
   {
    "duration": 79,
    "start_time": "2022-03-27T09:18:38.165Z"
   },
   {
    "duration": 116,
    "start_time": "2022-03-27T09:18:38.625Z"
   },
   {
    "duration": 214,
    "start_time": "2022-03-27T09:18:39.045Z"
   },
   {
    "duration": 17712,
    "start_time": "2022-03-27T09:18:40.325Z"
   },
   {
    "duration": 32,
    "start_time": "2022-03-27T09:18:58.039Z"
   },
   {
    "duration": 153,
    "start_time": "2022-03-27T09:18:58.073Z"
   },
   {
    "duration": 67,
    "start_time": "2022-03-27T09:18:58.229Z"
   },
   {
    "duration": 0,
    "start_time": "2022-03-27T09:18:58.298Z"
   },
   {
    "duration": 0,
    "start_time": "2022-03-27T09:18:58.299Z"
   },
   {
    "duration": 0,
    "start_time": "2022-03-27T09:18:58.300Z"
   },
   {
    "duration": 0,
    "start_time": "2022-03-27T09:18:58.301Z"
   },
   {
    "duration": 0,
    "start_time": "2022-03-27T09:18:58.303Z"
   },
   {
    "duration": 0,
    "start_time": "2022-03-27T09:18:58.304Z"
   },
   {
    "duration": 0,
    "start_time": "2022-03-27T09:18:58.304Z"
   },
   {
    "duration": 0,
    "start_time": "2022-03-27T09:18:58.305Z"
   },
   {
    "duration": 0,
    "start_time": "2022-03-27T09:18:58.306Z"
   },
   {
    "duration": 67,
    "start_time": "2022-03-27T09:18:58.965Z"
   },
   {
    "duration": 143,
    "start_time": "2022-03-27T09:19:00.495Z"
   },
   {
    "duration": 145,
    "start_time": "2022-03-27T09:19:07.845Z"
   },
   {
    "duration": 77,
    "start_time": "2022-03-27T09:19:33.345Z"
   },
   {
    "duration": 147,
    "start_time": "2022-03-27T09:19:56.325Z"
   },
   {
    "duration": 65,
    "start_time": "2022-03-27T09:19:56.965Z"
   },
   {
    "duration": 140,
    "start_time": "2022-03-27T09:20:04.815Z"
   },
   {
    "duration": 0,
    "start_time": "2022-03-27T09:21:50.926Z"
   },
   {
    "duration": 0,
    "start_time": "2022-03-27T09:21:50.927Z"
   },
   {
    "duration": 0,
    "start_time": "2022-03-27T09:21:50.928Z"
   },
   {
    "duration": 0,
    "start_time": "2022-03-27T09:21:50.929Z"
   },
   {
    "duration": 0,
    "start_time": "2022-03-27T09:21:50.930Z"
   },
   {
    "duration": 0,
    "start_time": "2022-03-27T09:21:50.931Z"
   },
   {
    "duration": 0,
    "start_time": "2022-03-27T09:21:50.932Z"
   },
   {
    "duration": 0,
    "start_time": "2022-03-27T09:21:50.934Z"
   },
   {
    "duration": 0,
    "start_time": "2022-03-27T09:21:50.935Z"
   },
   {
    "duration": 108172,
    "start_time": "2022-03-27T09:29:04.855Z"
   },
   {
    "duration": 35,
    "start_time": "2022-03-27T09:30:53.030Z"
   },
   {
    "duration": 175,
    "start_time": "2022-03-27T09:30:53.067Z"
   },
   {
    "duration": 62,
    "start_time": "2022-03-27T09:30:53.244Z"
   },
   {
    "duration": 0,
    "start_time": "2022-03-27T09:30:53.308Z"
   },
   {
    "duration": 0,
    "start_time": "2022-03-27T09:30:53.309Z"
   },
   {
    "duration": 0,
    "start_time": "2022-03-27T09:30:53.310Z"
   },
   {
    "duration": 0,
    "start_time": "2022-03-27T09:30:53.312Z"
   },
   {
    "duration": 0,
    "start_time": "2022-03-27T09:30:53.313Z"
   },
   {
    "duration": 71,
    "start_time": "2022-03-27T09:32:09.477Z"
   },
   {
    "duration": 67,
    "start_time": "2022-03-27T09:32:21.717Z"
   },
   {
    "duration": 67,
    "start_time": "2022-03-27T09:34:36.066Z"
   },
   {
    "duration": 33,
    "start_time": "2022-03-27T09:41:34.618Z"
   },
   {
    "duration": 37,
    "start_time": "2022-03-27T09:42:13.348Z"
   },
   {
    "duration": 11,
    "start_time": "2022-03-27T09:47:49.434Z"
   },
   {
    "duration": 10,
    "start_time": "2022-03-27T09:48:31.134Z"
   },
   {
    "duration": 34,
    "start_time": "2022-03-27T09:49:29.333Z"
   },
   {
    "duration": 56,
    "start_time": "2022-03-27T09:49:52.055Z"
   },
   {
    "duration": 12,
    "start_time": "2022-03-27T09:49:54.255Z"
   },
   {
    "duration": 13,
    "start_time": "2022-03-27T09:50:07.856Z"
   },
   {
    "duration": 65,
    "start_time": "2022-03-27T09:55:14.513Z"
   },
   {
    "duration": 31,
    "start_time": "2022-03-27T09:55:56.046Z"
   },
   {
    "duration": 824,
    "start_time": "2022-03-27T09:56:41.567Z"
   },
   {
    "duration": 29,
    "start_time": "2022-03-27T09:57:53.569Z"
   },
   {
    "duration": 25,
    "start_time": "2022-03-27T09:58:08.127Z"
   },
   {
    "duration": 11,
    "start_time": "2022-03-27T09:58:16.048Z"
   },
   {
    "duration": 18,
    "start_time": "2022-03-27T10:15:46.128Z"
   },
   {
    "duration": 19,
    "start_time": "2022-03-27T10:16:06.417Z"
   },
   {
    "duration": 470,
    "start_time": "2022-03-27T11:19:54.569Z"
   },
   {
    "duration": 6,
    "start_time": "2022-03-27T11:19:55.110Z"
   },
   {
    "duration": 72,
    "start_time": "2022-03-27T11:19:56.409Z"
   },
   {
    "duration": 16,
    "start_time": "2022-03-27T11:19:57.029Z"
   },
   {
    "duration": 8,
    "start_time": "2022-03-27T11:19:58.670Z"
   },
   {
    "duration": 13,
    "start_time": "2022-03-27T11:19:59.540Z"
   },
   {
    "duration": 5,
    "start_time": "2022-03-27T11:20:00.430Z"
   },
   {
    "duration": 5,
    "start_time": "2022-03-27T11:20:02.750Z"
   },
   {
    "duration": 7,
    "start_time": "2022-03-27T11:20:03.849Z"
   },
   {
    "duration": 27,
    "start_time": "2022-03-27T11:20:04.529Z"
   },
   {
    "duration": 5,
    "start_time": "2022-03-27T11:20:06.529Z"
   },
   {
    "duration": 7,
    "start_time": "2022-03-27T11:20:08.269Z"
   },
   {
    "duration": 5,
    "start_time": "2022-03-27T11:20:09.869Z"
   },
   {
    "duration": 6,
    "start_time": "2022-03-27T11:20:10.429Z"
   },
   {
    "duration": 4,
    "start_time": "2022-03-27T11:20:11.590Z"
   },
   {
    "duration": 8,
    "start_time": "2022-03-27T11:20:12.750Z"
   },
   {
    "duration": 6,
    "start_time": "2022-03-27T11:20:13.950Z"
   },
   {
    "duration": 7,
    "start_time": "2022-03-27T11:20:15.140Z"
   },
   {
    "duration": 6,
    "start_time": "2022-03-27T11:20:24.314Z"
   },
   {
    "duration": 15,
    "start_time": "2022-03-27T11:20:25.819Z"
   },
   {
    "duration": 4,
    "start_time": "2022-03-27T11:20:28.150Z"
   },
   {
    "duration": 37,
    "start_time": "2022-03-27T11:20:28.830Z"
   },
   {
    "duration": 2,
    "start_time": "2022-03-27T11:20:29.440Z"
   },
   {
    "duration": 14,
    "start_time": "2022-03-27T11:20:30.109Z"
   },
   {
    "duration": 24,
    "start_time": "2022-03-27T11:20:30.749Z"
   },
   {
    "duration": 4,
    "start_time": "2022-03-27T11:20:32.989Z"
   },
   {
    "duration": 8,
    "start_time": "2022-03-27T11:20:34.429Z"
   },
   {
    "duration": 6,
    "start_time": "2022-03-27T11:20:35.629Z"
   },
   {
    "duration": 3,
    "start_time": "2022-03-27T11:20:36.429Z"
   },
   {
    "duration": 5,
    "start_time": "2022-03-27T11:20:38.109Z"
   },
   {
    "duration": 103,
    "start_time": "2022-03-27T11:20:39.949Z"
   },
   {
    "duration": 60,
    "start_time": "2022-03-27T11:20:42.079Z"
   },
   {
    "duration": 8,
    "start_time": "2022-03-27T11:20:51.939Z"
   },
   {
    "duration": 5,
    "start_time": "2022-03-27T11:20:53.099Z"
   },
   {
    "duration": 28,
    "start_time": "2022-03-27T11:20:54.040Z"
   },
   {
    "duration": 25,
    "start_time": "2022-03-27T11:20:56.836Z"
   },
   {
    "duration": 974,
    "start_time": "2022-03-27T11:21:00.589Z"
   },
   {
    "duration": 11,
    "start_time": "2022-03-27T11:21:02.430Z"
   },
   {
    "duration": 147,
    "start_time": "2022-03-27T11:21:03.869Z"
   },
   {
    "duration": 121,
    "start_time": "2022-03-27T11:21:05.289Z"
   },
   {
    "duration": 147,
    "start_time": "2022-03-27T11:21:07.789Z"
   },
   {
    "duration": 153,
    "start_time": "2022-03-27T11:21:10.270Z"
   },
   {
    "duration": 146,
    "start_time": "2022-03-27T11:21:12.429Z"
   },
   {
    "duration": 67,
    "start_time": "2022-03-27T11:21:17.639Z"
   },
   {
    "duration": 123,
    "start_time": "2022-03-27T11:21:22.110Z"
   },
   {
    "duration": 217,
    "start_time": "2022-03-27T11:21:23.629Z"
   },
   {
    "duration": 17557,
    "start_time": "2022-03-27T11:21:26.999Z"
   },
   {
    "duration": 32,
    "start_time": "2022-03-27T11:21:44.558Z"
   },
   {
    "duration": 159,
    "start_time": "2022-03-27T11:21:44.592Z"
   },
   {
    "duration": 140,
    "start_time": "2022-03-27T11:21:44.753Z"
   },
   {
    "duration": 100564,
    "start_time": "2022-03-27T11:21:44.895Z"
   },
   {
    "duration": 34,
    "start_time": "2022-03-27T11:23:25.460Z"
   },
   {
    "duration": 166,
    "start_time": "2022-03-27T11:23:25.496Z"
   },
   {
    "duration": 62,
    "start_time": "2022-03-27T11:23:25.665Z"
   },
   {
    "duration": 0,
    "start_time": "2022-03-27T11:23:25.729Z"
   },
   {
    "duration": 0,
    "start_time": "2022-03-27T11:23:25.730Z"
   },
   {
    "duration": 0,
    "start_time": "2022-03-27T11:23:25.731Z"
   },
   {
    "duration": 0,
    "start_time": "2022-03-27T11:23:25.732Z"
   },
   {
    "duration": 0,
    "start_time": "2022-03-27T11:23:25.733Z"
   },
   {
    "duration": 0,
    "start_time": "2022-03-27T11:23:25.735Z"
   },
   {
    "duration": 0,
    "start_time": "2022-03-27T11:23:25.736Z"
   },
   {
    "duration": 0,
    "start_time": "2022-03-27T11:23:25.737Z"
   },
   {
    "duration": 0,
    "start_time": "2022-03-27T11:23:25.739Z"
   },
   {
    "duration": 0,
    "start_time": "2022-03-27T11:23:25.740Z"
   },
   {
    "duration": 0,
    "start_time": "2022-03-27T11:23:25.741Z"
   },
   {
    "duration": 0,
    "start_time": "2022-03-27T11:23:25.742Z"
   },
   {
    "duration": 0,
    "start_time": "2022-03-27T11:23:25.743Z"
   },
   {
    "duration": 0,
    "start_time": "2022-03-27T11:23:25.744Z"
   },
   {
    "duration": 80,
    "start_time": "2022-03-27T11:25:47.649Z"
   },
   {
    "duration": 19,
    "start_time": "2022-03-27T11:28:02.029Z"
   },
   {
    "duration": 539,
    "start_time": "2022-03-27T11:29:29.213Z"
   },
   {
    "duration": 6,
    "start_time": "2022-03-27T11:29:29.754Z"
   },
   {
    "duration": 76,
    "start_time": "2022-03-27T11:29:29.761Z"
   },
   {
    "duration": 13,
    "start_time": "2022-03-27T11:29:29.839Z"
   },
   {
    "duration": 8,
    "start_time": "2022-03-27T11:29:29.854Z"
   },
   {
    "duration": 14,
    "start_time": "2022-03-27T11:29:29.863Z"
   },
   {
    "duration": 31,
    "start_time": "2022-03-27T11:29:29.878Z"
   },
   {
    "duration": 9,
    "start_time": "2022-03-27T11:29:29.911Z"
   },
   {
    "duration": 5,
    "start_time": "2022-03-27T11:29:29.922Z"
   },
   {
    "duration": 27,
    "start_time": "2022-03-27T11:29:29.929Z"
   },
   {
    "duration": 5,
    "start_time": "2022-03-27T11:29:29.958Z"
   },
   {
    "duration": 5,
    "start_time": "2022-03-27T11:29:29.965Z"
   },
   {
    "duration": 40,
    "start_time": "2022-03-27T11:29:29.972Z"
   },
   {
    "duration": 15,
    "start_time": "2022-03-27T11:29:30.015Z"
   },
   {
    "duration": 8,
    "start_time": "2022-03-27T11:29:30.032Z"
   },
   {
    "duration": 10,
    "start_time": "2022-03-27T11:29:30.041Z"
   },
   {
    "duration": 7,
    "start_time": "2022-03-27T11:29:30.053Z"
   },
   {
    "duration": 8,
    "start_time": "2022-03-27T11:29:30.062Z"
   },
   {
    "duration": 12,
    "start_time": "2022-03-27T11:29:30.072Z"
   },
   {
    "duration": 30,
    "start_time": "2022-03-27T11:29:30.086Z"
   },
   {
    "duration": 4,
    "start_time": "2022-03-27T11:29:30.118Z"
   },
   {
    "duration": 44,
    "start_time": "2022-03-27T11:29:30.124Z"
   },
   {
    "duration": 3,
    "start_time": "2022-03-27T11:29:30.170Z"
   },
   {
    "duration": 25,
    "start_time": "2022-03-27T11:29:30.174Z"
   },
   {
    "duration": 30,
    "start_time": "2022-03-27T11:29:30.201Z"
   },
   {
    "duration": 3,
    "start_time": "2022-03-27T11:29:30.233Z"
   },
   {
    "duration": 11,
    "start_time": "2022-03-27T11:29:30.238Z"
   },
   {
    "duration": 13,
    "start_time": "2022-03-27T11:29:30.251Z"
   },
   {
    "duration": 14,
    "start_time": "2022-03-27T11:29:30.266Z"
   },
   {
    "duration": 9,
    "start_time": "2022-03-27T11:29:30.281Z"
   },
   {
    "duration": 107,
    "start_time": "2022-03-27T11:29:30.291Z"
   },
   {
    "duration": 68,
    "start_time": "2022-03-27T11:29:30.400Z"
   },
   {
    "duration": 9,
    "start_time": "2022-03-27T11:29:30.469Z"
   },
   {
    "duration": 14,
    "start_time": "2022-03-27T11:29:30.479Z"
   },
   {
    "duration": 46,
    "start_time": "2022-03-27T11:29:30.494Z"
   },
   {
    "duration": 26,
    "start_time": "2022-03-27T11:29:30.542Z"
   },
   {
    "duration": 832,
    "start_time": "2022-03-27T11:29:30.570Z"
   },
   {
    "duration": 16,
    "start_time": "2022-03-27T11:29:31.403Z"
   },
   {
    "duration": 157,
    "start_time": "2022-03-27T11:29:31.421Z"
   },
   {
    "duration": 141,
    "start_time": "2022-03-27T11:29:31.580Z"
   },
   {
    "duration": 168,
    "start_time": "2022-03-27T11:29:31.725Z"
   },
   {
    "duration": 177,
    "start_time": "2022-03-27T11:29:31.895Z"
   },
   {
    "duration": 165,
    "start_time": "2022-03-27T11:29:32.074Z"
   },
   {
    "duration": 79,
    "start_time": "2022-03-27T11:29:32.240Z"
   },
   {
    "duration": 0,
    "start_time": "2022-03-27T11:29:32.322Z"
   },
   {
    "duration": 0,
    "start_time": "2022-03-27T11:29:32.323Z"
   },
   {
    "duration": 0,
    "start_time": "2022-03-27T11:29:32.324Z"
   },
   {
    "duration": 0,
    "start_time": "2022-03-27T11:29:32.325Z"
   },
   {
    "duration": 0,
    "start_time": "2022-03-27T11:29:32.327Z"
   },
   {
    "duration": 0,
    "start_time": "2022-03-27T11:29:32.328Z"
   },
   {
    "duration": 0,
    "start_time": "2022-03-27T11:29:32.329Z"
   },
   {
    "duration": 0,
    "start_time": "2022-03-27T11:29:32.330Z"
   },
   {
    "duration": 0,
    "start_time": "2022-03-27T11:29:32.331Z"
   },
   {
    "duration": 0,
    "start_time": "2022-03-27T11:29:32.332Z"
   },
   {
    "duration": 0,
    "start_time": "2022-03-27T11:29:32.333Z"
   },
   {
    "duration": 0,
    "start_time": "2022-03-27T11:29:32.334Z"
   },
   {
    "duration": 0,
    "start_time": "2022-03-27T11:29:32.335Z"
   },
   {
    "duration": 0,
    "start_time": "2022-03-27T11:29:32.337Z"
   },
   {
    "duration": 0,
    "start_time": "2022-03-27T11:29:32.338Z"
   },
   {
    "duration": 0,
    "start_time": "2022-03-27T11:29:32.339Z"
   },
   {
    "duration": 0,
    "start_time": "2022-03-27T11:29:32.341Z"
   },
   {
    "duration": 65,
    "start_time": "2022-03-27T11:30:00.602Z"
   },
   {
    "duration": 167,
    "start_time": "2022-03-27T11:30:46.933Z"
   },
   {
    "duration": 17725,
    "start_time": "2022-03-27T11:30:56.915Z"
   },
   {
    "duration": 34,
    "start_time": "2022-03-27T11:31:14.642Z"
   },
   {
    "duration": 173,
    "start_time": "2022-03-27T11:31:14.677Z"
   },
   {
    "duration": 129,
    "start_time": "2022-03-27T11:31:22.353Z"
   },
   {
    "duration": 103223,
    "start_time": "2022-03-27T11:33:08.402Z"
   },
   {
    "duration": 32,
    "start_time": "2022-03-27T11:34:51.626Z"
   },
   {
    "duration": 159,
    "start_time": "2022-03-27T11:34:51.660Z"
   },
   {
    "duration": 163,
    "start_time": "2022-03-27T11:34:51.821Z"
   },
   {
    "duration": 171,
    "start_time": "2022-03-27T11:34:51.986Z"
   },
   {
    "duration": 153,
    "start_time": "2022-03-27T11:34:52.158Z"
   },
   {
    "duration": 67,
    "start_time": "2022-03-27T11:34:52.313Z"
   },
   {
    "duration": 97,
    "start_time": "2022-03-27T11:34:52.381Z"
   },
   {
    "duration": 106,
    "start_time": "2022-03-27T11:47:33.990Z"
   },
   {
    "duration": 6,
    "start_time": "2022-03-27T11:47:34.120Z"
   },
   {
    "duration": 75,
    "start_time": "2022-03-27T11:47:35.190Z"
   },
   {
    "duration": 15,
    "start_time": "2022-03-27T11:47:36.083Z"
   },
   {
    "duration": 10,
    "start_time": "2022-03-27T11:47:37.230Z"
   },
   {
    "duration": 13,
    "start_time": "2022-03-27T11:47:37.590Z"
   },
   {
    "duration": 5,
    "start_time": "2022-03-27T11:47:37.951Z"
   },
   {
    "duration": 7,
    "start_time": "2022-03-27T11:47:38.620Z"
   },
   {
    "duration": 7,
    "start_time": "2022-03-27T11:47:38.990Z"
   },
   {
    "duration": 27,
    "start_time": "2022-03-27T11:47:39.171Z"
   },
   {
    "duration": 5,
    "start_time": "2022-03-27T11:47:39.590Z"
   },
   {
    "duration": 6,
    "start_time": "2022-03-27T11:47:40.150Z"
   },
   {
    "duration": 7,
    "start_time": "2022-03-27T11:47:40.711Z"
   },
   {
    "duration": 5,
    "start_time": "2022-03-27T11:47:40.892Z"
   },
   {
    "duration": 4,
    "start_time": "2022-03-27T11:47:41.270Z"
   },
   {
    "duration": 8,
    "start_time": "2022-03-27T11:47:41.690Z"
   },
   {
    "duration": 8,
    "start_time": "2022-03-27T11:47:42.070Z"
   },
   {
    "duration": 7,
    "start_time": "2022-03-27T11:47:42.461Z"
   },
   {
    "duration": 6,
    "start_time": "2022-03-27T11:47:42.830Z"
   },
   {
    "duration": 12,
    "start_time": "2022-03-27T11:47:43.271Z"
   },
   {
    "duration": 3,
    "start_time": "2022-03-27T11:47:44.391Z"
   },
   {
    "duration": 41,
    "start_time": "2022-03-27T11:47:44.571Z"
   },
   {
    "duration": 2,
    "start_time": "2022-03-27T11:47:44.771Z"
   },
   {
    "duration": 15,
    "start_time": "2022-03-27T11:47:44.971Z"
   },
   {
    "duration": 23,
    "start_time": "2022-03-27T11:47:45.211Z"
   },
   {
    "duration": 4,
    "start_time": "2022-03-27T11:47:46.631Z"
   },
   {
    "duration": 9,
    "start_time": "2022-03-27T11:47:47.620Z"
   },
   {
    "duration": 5,
    "start_time": "2022-03-27T11:47:48.550Z"
   },
   {
    "duration": 2,
    "start_time": "2022-03-27T11:47:48.832Z"
   },
   {
    "duration": 5,
    "start_time": "2022-03-27T11:47:49.120Z"
   },
   {
    "duration": 64,
    "start_time": "2022-03-27T11:47:50.310Z"
   },
   {
    "duration": 65,
    "start_time": "2022-03-27T11:47:51.031Z"
   },
   {
    "duration": 9,
    "start_time": "2022-03-27T11:47:51.671Z"
   },
   {
    "duration": 6,
    "start_time": "2022-03-27T11:47:52.870Z"
   },
   {
    "duration": 30,
    "start_time": "2022-03-27T11:47:53.810Z"
   },
   {
    "duration": 26,
    "start_time": "2022-03-27T11:47:57.710Z"
   },
   {
    "duration": 598,
    "start_time": "2022-03-27T11:47:59.751Z"
   },
   {
    "duration": 12,
    "start_time": "2022-03-27T11:48:13.991Z"
   },
   {
    "duration": 145,
    "start_time": "2022-03-27T11:48:18.790Z"
   },
   {
    "duration": 121,
    "start_time": "2022-03-27T11:48:20.229Z"
   },
   {
    "duration": 151,
    "start_time": "2022-03-27T11:48:22.190Z"
   },
   {
    "duration": 151,
    "start_time": "2022-03-27T11:48:24.191Z"
   },
   {
    "duration": 139,
    "start_time": "2022-03-27T11:48:25.490Z"
   },
   {
    "duration": 58,
    "start_time": "2022-03-27T11:48:31.851Z"
   },
   {
    "duration": 124,
    "start_time": "2022-03-27T11:48:39.225Z"
   },
   {
    "duration": 182,
    "start_time": "2022-03-27T11:48:48.310Z"
   },
   {
    "duration": 19200,
    "start_time": "2022-03-27T11:48:56.791Z"
   },
   {
    "duration": 37,
    "start_time": "2022-03-27T11:49:15.993Z"
   },
   {
    "duration": 173,
    "start_time": "2022-03-27T11:49:16.032Z"
   },
   {
    "duration": 138,
    "start_time": "2022-03-27T11:49:28.121Z"
   },
   {
    "duration": 100498,
    "start_time": "2022-03-27T11:49:33.621Z"
   },
   {
    "duration": 34,
    "start_time": "2022-03-27T11:51:14.121Z"
   },
   {
    "duration": 171,
    "start_time": "2022-03-27T11:51:14.156Z"
   },
   {
    "duration": 167,
    "start_time": "2022-03-27T11:51:14.329Z"
   },
   {
    "duration": 165,
    "start_time": "2022-03-27T11:51:52.070Z"
   },
   {
    "duration": 140,
    "start_time": "2022-03-27T11:51:55.631Z"
   },
   {
    "duration": 69,
    "start_time": "2022-03-27T11:52:00.951Z"
   },
   {
    "duration": 20,
    "start_time": "2022-03-27T11:52:04.483Z"
   },
   {
    "duration": 8,
    "start_time": "2022-03-27T12:03:24.752Z"
   },
   {
    "duration": 14,
    "start_time": "2022-03-27T12:05:26.720Z"
   },
   {
    "duration": 33,
    "start_time": "2022-03-27T12:06:08.152Z"
   },
   {
    "duration": 32,
    "start_time": "2022-03-27T12:06:44.632Z"
   },
   {
    "duration": 8,
    "start_time": "2022-03-27T12:10:02.071Z"
   },
   {
    "duration": 7,
    "start_time": "2022-03-27T12:10:08.552Z"
   },
   {
    "duration": 10,
    "start_time": "2022-03-27T12:10:21.592Z"
   },
   {
    "duration": 28,
    "start_time": "2022-03-27T12:15:35.836Z"
   },
   {
    "duration": 70,
    "start_time": "2022-03-27T12:19:30.786Z"
   },
   {
    "duration": 11,
    "start_time": "2022-03-27T12:20:14.867Z"
   },
   {
    "duration": 18,
    "start_time": "2022-03-27T12:20:51.998Z"
   },
   {
    "duration": 66,
    "start_time": "2022-03-27T12:21:17.235Z"
   },
   {
    "duration": 543,
    "start_time": "2022-03-27T16:21:26.562Z"
   },
   {
    "duration": 7,
    "start_time": "2022-03-27T16:21:27.152Z"
   },
   {
    "duration": 74,
    "start_time": "2022-03-27T16:21:28.943Z"
   },
   {
    "duration": 16,
    "start_time": "2022-03-27T16:21:29.823Z"
   },
   {
    "duration": 9,
    "start_time": "2022-03-27T16:21:32.463Z"
   },
   {
    "duration": 14,
    "start_time": "2022-03-27T16:21:33.262Z"
   },
   {
    "duration": 6,
    "start_time": "2022-03-27T16:21:34.129Z"
   },
   {
    "duration": 6,
    "start_time": "2022-03-27T16:21:35.433Z"
   },
   {
    "duration": 8,
    "start_time": "2022-03-27T16:21:36.383Z"
   },
   {
    "duration": 25,
    "start_time": "2022-03-27T16:21:36.773Z"
   },
   {
    "duration": 5,
    "start_time": "2022-03-27T16:21:37.743Z"
   },
   {
    "duration": 5,
    "start_time": "2022-03-27T16:21:39.023Z"
   },
   {
    "duration": 5,
    "start_time": "2022-03-27T16:21:40.303Z"
   },
   {
    "duration": 5,
    "start_time": "2022-03-27T16:21:40.662Z"
   },
   {
    "duration": 4,
    "start_time": "2022-03-27T16:21:41.512Z"
   },
   {
    "duration": 9,
    "start_time": "2022-03-27T16:21:42.382Z"
   },
   {
    "duration": 8,
    "start_time": "2022-03-27T16:21:43.353Z"
   },
   {
    "duration": 7,
    "start_time": "2022-03-27T16:21:44.463Z"
   },
   {
    "duration": 7,
    "start_time": "2022-03-27T16:21:56.142Z"
   },
   {
    "duration": 17,
    "start_time": "2022-03-27T16:21:57.103Z"
   },
   {
    "duration": 4,
    "start_time": "2022-03-27T16:22:19.742Z"
   },
   {
    "duration": 46,
    "start_time": "2022-03-27T16:22:20.493Z"
   },
   {
    "duration": 2,
    "start_time": "2022-03-27T16:22:21.902Z"
   },
   {
    "duration": 16,
    "start_time": "2022-03-27T16:22:23.023Z"
   },
   {
    "duration": 24,
    "start_time": "2022-03-27T16:22:24.162Z"
   },
   {
    "duration": 5,
    "start_time": "2022-03-27T16:22:26.952Z"
   },
   {
    "duration": 9,
    "start_time": "2022-03-27T16:22:28.302Z"
   },
   {
    "duration": 6,
    "start_time": "2022-03-27T16:22:29.502Z"
   },
   {
    "duration": 3,
    "start_time": "2022-03-27T16:22:30.082Z"
   },
   {
    "duration": 5,
    "start_time": "2022-03-27T16:22:31.186Z"
   },
   {
    "duration": 103,
    "start_time": "2022-03-27T16:22:56.312Z"
   },
   {
    "duration": 63,
    "start_time": "2022-03-27T16:23:01.062Z"
   },
   {
    "duration": 10,
    "start_time": "2022-03-27T16:23:19.192Z"
   },
   {
    "duration": 5,
    "start_time": "2022-03-27T16:23:20.222Z"
   },
   {
    "duration": 26,
    "start_time": "2022-03-27T16:23:21.343Z"
   },
   {
    "duration": 26,
    "start_time": "2022-03-27T16:23:24.341Z"
   },
   {
    "duration": 1047,
    "start_time": "2022-03-27T16:23:30.703Z"
   },
   {
    "duration": 13,
    "start_time": "2022-03-27T16:23:35.982Z"
   },
   {
    "duration": 143,
    "start_time": "2022-03-27T16:23:43.022Z"
   },
   {
    "duration": 120,
    "start_time": "2022-03-27T16:23:45.132Z"
   },
   {
    "duration": 141,
    "start_time": "2022-03-27T16:23:48.702Z"
   },
   {
    "duration": 167,
    "start_time": "2022-03-27T16:23:52.902Z"
   },
   {
    "duration": 134,
    "start_time": "2022-03-27T16:23:56.703Z"
   },
   {
    "duration": 288,
    "start_time": "2022-03-27T16:24:01.743Z"
   },
   {
    "duration": 165,
    "start_time": "2022-03-27T16:24:41.982Z"
   },
   {
    "duration": 16553,
    "start_time": "2022-03-27T16:25:18.542Z"
   },
   {
    "duration": 41,
    "start_time": "2022-03-27T16:25:35.098Z"
   },
   {
    "duration": 155,
    "start_time": "2022-03-27T16:25:35.140Z"
   },
   {
    "duration": 126,
    "start_time": "2022-03-27T16:25:41.302Z"
   },
   {
    "duration": 95594,
    "start_time": "2022-03-27T16:25:46.262Z"
   },
   {
    "duration": 35,
    "start_time": "2022-03-27T16:27:21.857Z"
   },
   {
    "duration": 179,
    "start_time": "2022-03-27T16:27:21.894Z"
   },
   {
    "duration": 151,
    "start_time": "2022-03-27T16:27:23.572Z"
   },
   {
    "duration": 166,
    "start_time": "2022-03-27T16:27:30.143Z"
   },
   {
    "duration": 161,
    "start_time": "2022-03-27T16:27:34.073Z"
   },
   {
    "duration": 18,
    "start_time": "2022-03-27T16:32:15.237Z"
   },
   {
    "duration": 14,
    "start_time": "2022-03-27T16:38:43.041Z"
   },
   {
    "duration": 90,
    "start_time": "2022-03-27T16:41:57.761Z"
   },
   {
    "duration": 25,
    "start_time": "2022-03-27T16:48:56.448Z"
   },
   {
    "duration": 25,
    "start_time": "2022-03-27T16:49:49.236Z"
   },
   {
    "duration": 33,
    "start_time": "2022-03-27T16:52:17.317Z"
   },
   {
    "duration": 19,
    "start_time": "2022-03-27T16:55:08.196Z"
   },
   {
    "duration": 12,
    "start_time": "2022-03-27T17:00:43.557Z"
   },
   {
    "duration": 34,
    "start_time": "2022-03-27T17:01:26.396Z"
   },
   {
    "duration": 35,
    "start_time": "2022-03-27T17:01:59.573Z"
   },
   {
    "duration": 282,
    "start_time": "2022-03-27T17:04:21.396Z"
   },
   {
    "duration": 68,
    "start_time": "2022-03-27T17:24:56.237Z"
   },
   {
    "duration": 9,
    "start_time": "2022-03-27T17:26:04.917Z"
   },
   {
    "duration": 68,
    "start_time": "2022-03-27T17:26:14.117Z"
   },
   {
    "duration": 9,
    "start_time": "2022-03-27T17:28:33.452Z"
   },
   {
    "duration": 268,
    "start_time": "2022-03-27T17:29:45.024Z"
   },
   {
    "duration": 8,
    "start_time": "2022-03-27T17:38:03.228Z"
   },
   {
    "duration": 130,
    "start_time": "2022-03-27T17:39:57.563Z"
   },
   {
    "duration": 9,
    "start_time": "2022-03-27T17:40:00.914Z"
   },
   {
    "duration": 901,
    "start_time": "2022-03-27T20:10:27.705Z"
   },
   {
    "duration": 5,
    "start_time": "2022-03-27T20:10:28.609Z"
   },
   {
    "duration": 69,
    "start_time": "2022-03-27T20:10:30.916Z"
   },
   {
    "duration": 15,
    "start_time": "2022-03-27T20:10:31.766Z"
   },
   {
    "duration": 9,
    "start_time": "2022-03-27T20:10:32.896Z"
   },
   {
    "duration": 13,
    "start_time": "2022-03-27T20:10:33.306Z"
   },
   {
    "duration": 5,
    "start_time": "2022-03-27T20:10:34.276Z"
   },
   {
    "duration": 6,
    "start_time": "2022-03-27T20:10:34.845Z"
   },
   {
    "duration": 6,
    "start_time": "2022-03-27T20:10:36.056Z"
   },
   {
    "duration": 24,
    "start_time": "2022-03-27T20:10:36.286Z"
   },
   {
    "duration": 5,
    "start_time": "2022-03-27T20:10:36.694Z"
   },
   {
    "duration": 5,
    "start_time": "2022-03-27T20:10:37.365Z"
   },
   {
    "duration": 6,
    "start_time": "2022-03-27T20:10:37.926Z"
   },
   {
    "duration": 6,
    "start_time": "2022-03-27T20:10:38.146Z"
   },
   {
    "duration": 4,
    "start_time": "2022-03-27T20:10:38.654Z"
   },
   {
    "duration": 9,
    "start_time": "2022-03-27T20:10:39.046Z"
   },
   {
    "duration": 7,
    "start_time": "2022-03-27T20:10:39.462Z"
   },
   {
    "duration": 7,
    "start_time": "2022-03-27T20:10:39.927Z"
   },
   {
    "duration": 6,
    "start_time": "2022-03-27T20:10:40.327Z"
   },
   {
    "duration": 13,
    "start_time": "2022-03-27T20:10:40.767Z"
   },
   {
    "duration": 3,
    "start_time": "2022-03-27T20:10:41.685Z"
   },
   {
    "duration": 38,
    "start_time": "2022-03-27T20:10:41.853Z"
   },
   {
    "duration": 3,
    "start_time": "2022-03-27T20:10:43.815Z"
   },
   {
    "duration": 16,
    "start_time": "2022-03-27T20:10:44.185Z"
   },
   {
    "duration": 24,
    "start_time": "2022-03-27T20:10:44.423Z"
   },
   {
    "duration": 4,
    "start_time": "2022-03-27T20:10:45.134Z"
   },
   {
    "duration": 8,
    "start_time": "2022-03-27T20:10:46.006Z"
   },
   {
    "duration": 6,
    "start_time": "2022-03-27T20:10:46.485Z"
   },
   {
    "duration": 3,
    "start_time": "2022-03-27T20:10:46.645Z"
   },
   {
    "duration": 4,
    "start_time": "2022-03-27T20:10:46.886Z"
   },
   {
    "duration": 63,
    "start_time": "2022-03-27T20:10:47.286Z"
   },
   {
    "duration": 113,
    "start_time": "2022-03-27T20:10:47.705Z"
   },
   {
    "duration": 9,
    "start_time": "2022-03-27T20:10:48.146Z"
   },
   {
    "duration": 6,
    "start_time": "2022-03-27T20:10:48.585Z"
   },
   {
    "duration": 27,
    "start_time": "2022-03-27T20:10:48.807Z"
   },
   {
    "duration": 25,
    "start_time": "2022-03-27T20:10:49.525Z"
   },
   {
    "duration": 586,
    "start_time": "2022-03-27T20:10:49.886Z"
   },
   {
    "duration": 11,
    "start_time": "2022-03-27T20:10:50.766Z"
   },
   {
    "duration": 137,
    "start_time": "2022-03-27T20:10:51.167Z"
   },
   {
    "duration": 115,
    "start_time": "2022-03-27T20:10:51.376Z"
   },
   {
    "duration": 137,
    "start_time": "2022-03-27T20:10:52.046Z"
   },
   {
    "duration": 148,
    "start_time": "2022-03-27T20:10:53.926Z"
   },
   {
    "duration": 134,
    "start_time": "2022-03-27T20:10:54.806Z"
   },
   {
    "duration": 197,
    "start_time": "2022-03-27T20:10:57.446Z"
   },
   {
    "duration": 109,
    "start_time": "2022-03-27T20:10:59.057Z"
   },
   {
    "duration": 193,
    "start_time": "2022-03-27T20:11:13.546Z"
   },
   {
    "duration": 123,
    "start_time": "2022-03-27T20:11:46.066Z"
   },
   {
    "duration": 121,
    "start_time": "2022-03-27T20:12:22.636Z"
   },
   {
    "duration": 157,
    "start_time": "2022-03-27T20:12:24.006Z"
   },
   {
    "duration": 605,
    "start_time": "2022-03-27T20:17:04.246Z"
   },
   {
    "duration": 12,
    "start_time": "2022-03-27T20:17:05.606Z"
   },
   {
    "duration": 136,
    "start_time": "2022-03-27T20:17:06.886Z"
   },
   {
    "duration": 114,
    "start_time": "2022-03-27T20:17:07.606Z"
   },
   {
    "duration": 145,
    "start_time": "2022-03-27T20:17:08.915Z"
   },
   {
    "duration": 155,
    "start_time": "2022-03-27T20:17:10.486Z"
   },
   {
    "duration": 205,
    "start_time": "2022-03-27T20:17:11.486Z"
   },
   {
    "duration": 123,
    "start_time": "2022-03-27T20:17:13.445Z"
   },
   {
    "duration": 112,
    "start_time": "2022-03-27T20:17:14.215Z"
   },
   {
    "duration": 130,
    "start_time": "2022-03-27T20:17:52.886Z"
   },
   {
    "duration": 124,
    "start_time": "2022-03-27T20:18:08.267Z"
   },
   {
    "duration": 111,
    "start_time": "2022-03-27T20:18:23.226Z"
   },
   {
    "duration": 152,
    "start_time": "2022-03-27T20:18:23.585Z"
   },
   {
    "duration": 81,
    "start_time": "2022-03-27T20:18:46.235Z"
   },
   {
    "duration": 125,
    "start_time": "2022-03-27T20:19:11.046Z"
   },
   {
    "duration": 127,
    "start_time": "2022-03-27T20:19:47.289Z"
   },
   {
    "duration": 110,
    "start_time": "2022-03-27T20:19:48.116Z"
   },
   {
    "duration": 151,
    "start_time": "2022-03-27T20:19:48.576Z"
   },
   {
    "duration": 16595,
    "start_time": "2022-03-27T20:19:50.846Z"
   },
   {
    "duration": 31,
    "start_time": "2022-03-27T20:20:07.443Z"
   },
   {
    "duration": 162,
    "start_time": "2022-03-27T20:20:07.475Z"
   },
   {
    "duration": 137,
    "start_time": "2022-03-27T20:20:07.639Z"
   },
   {
    "duration": 94281,
    "start_time": "2022-03-27T20:20:07.777Z"
   },
   {
    "duration": 33,
    "start_time": "2022-03-27T20:21:42.059Z"
   },
   {
    "duration": 171,
    "start_time": "2022-03-27T20:21:42.094Z"
   },
   {
    "duration": 169,
    "start_time": "2022-03-27T20:21:42.268Z"
   },
   {
    "duration": 170,
    "start_time": "2022-03-27T20:21:42.439Z"
   },
   {
    "duration": 157,
    "start_time": "2022-03-27T20:21:42.610Z"
   },
   {
    "duration": 11,
    "start_time": "2022-03-27T20:21:42.769Z"
   },
   {
    "duration": 33,
    "start_time": "2022-03-27T20:21:42.782Z"
   },
   {
    "duration": 49,
    "start_time": "2022-03-27T20:21:42.817Z"
   },
   {
    "duration": 291,
    "start_time": "2022-03-27T20:21:42.867Z"
   },
   {
    "duration": 77,
    "start_time": "2022-03-27T20:21:43.160Z"
   },
   {
    "duration": 0,
    "start_time": "2022-03-27T20:21:43.341Z"
   },
   {
    "duration": 0,
    "start_time": "2022-03-27T20:21:43.343Z"
   },
   {
    "duration": 11,
    "start_time": "2022-03-27T20:23:49.126Z"
   },
   {
    "duration": 11,
    "start_time": "2022-03-27T20:29:16.759Z"
   },
   {
    "duration": 12,
    "start_time": "2022-03-27T20:31:05.838Z"
   },
   {
    "duration": 47,
    "start_time": "2022-03-27T20:31:24.248Z"
   },
   {
    "duration": 45,
    "start_time": "2022-03-27T20:33:09.588Z"
   },
   {
    "duration": 9,
    "start_time": "2022-03-27T20:37:22.099Z"
   },
   {
    "duration": 8,
    "start_time": "2022-03-27T20:38:20.858Z"
   },
   {
    "duration": 37,
    "start_time": "2022-03-27T20:38:22.138Z"
   },
   {
    "duration": 16,
    "start_time": "2022-03-27T20:38:48.779Z"
   },
   {
    "duration": 100,
    "start_time": "2022-03-27T20:57:10.940Z"
   },
   {
    "duration": 5,
    "start_time": "2022-03-27T20:57:12.536Z"
   },
   {
    "duration": 72,
    "start_time": "2022-03-27T20:57:19.983Z"
   },
   {
    "duration": 16,
    "start_time": "2022-03-27T20:57:22.535Z"
   },
   {
    "duration": 10,
    "start_time": "2022-03-27T20:57:33.257Z"
   },
   {
    "duration": 12,
    "start_time": "2022-03-27T20:57:58.215Z"
   },
   {
    "duration": 6,
    "start_time": "2022-03-27T20:58:00.072Z"
   },
   {
    "duration": 8,
    "start_time": "2022-03-27T20:58:17.061Z"
   },
   {
    "duration": 8,
    "start_time": "2022-03-27T20:58:20.331Z"
   },
   {
    "duration": 35,
    "start_time": "2022-03-27T20:58:22.046Z"
   },
   {
    "duration": 6,
    "start_time": "2022-03-27T20:58:33.212Z"
   },
   {
    "duration": 5,
    "start_time": "2022-03-27T20:58:35.424Z"
   },
   {
    "duration": 7,
    "start_time": "2022-03-27T20:58:40.742Z"
   },
   {
    "duration": 4,
    "start_time": "2022-03-27T20:59:44.225Z"
   },
   {
    "duration": 9,
    "start_time": "2022-03-27T20:59:53.474Z"
   },
   {
    "duration": 8,
    "start_time": "2022-03-27T21:00:08.192Z"
   },
   {
    "duration": 8,
    "start_time": "2022-03-27T21:00:13.137Z"
   },
   {
    "duration": 6,
    "start_time": "2022-03-27T21:00:22.291Z"
   },
   {
    "duration": 15,
    "start_time": "2022-03-27T21:00:25.231Z"
   },
   {
    "duration": 3,
    "start_time": "2022-03-27T21:00:33.345Z"
   },
   {
    "duration": 37,
    "start_time": "2022-03-27T21:00:34.557Z"
   },
   {
    "duration": 2,
    "start_time": "2022-03-27T21:00:35.133Z"
   },
   {
    "duration": 17,
    "start_time": "2022-03-27T21:00:35.932Z"
   },
   {
    "duration": 25,
    "start_time": "2022-03-27T21:00:37.065Z"
   },
   {
    "duration": 4,
    "start_time": "2022-03-27T21:00:42.173Z"
   },
   {
    "duration": 8,
    "start_time": "2022-03-27T21:00:44.895Z"
   },
   {
    "duration": 8,
    "start_time": "2022-03-27T21:00:45.653Z"
   },
   {
    "duration": 4,
    "start_time": "2022-03-27T21:00:46.212Z"
   },
   {
    "duration": 6,
    "start_time": "2022-03-27T21:00:46.816Z"
   },
   {
    "duration": 62,
    "start_time": "2022-03-27T21:00:47.935Z"
   },
   {
    "duration": 62,
    "start_time": "2022-03-27T21:00:48.657Z"
   },
   {
    "duration": 11,
    "start_time": "2022-03-27T21:00:49.374Z"
   },
   {
    "duration": 6,
    "start_time": "2022-03-27T21:00:50.332Z"
   },
   {
    "duration": 35,
    "start_time": "2022-03-27T21:00:50.618Z"
   },
   {
    "duration": 32,
    "start_time": "2022-03-27T21:01:00.983Z"
   },
   {
    "duration": 669,
    "start_time": "2022-03-27T21:01:02.737Z"
   },
   {
    "duration": 13,
    "start_time": "2022-03-27T21:01:05.066Z"
   },
   {
    "duration": 201,
    "start_time": "2022-03-27T21:01:12.550Z"
   },
   {
    "duration": 120,
    "start_time": "2022-03-27T21:01:22.252Z"
   },
   {
    "duration": 142,
    "start_time": "2022-03-27T21:01:32.570Z"
   },
   {
    "duration": 158,
    "start_time": "2022-03-27T21:01:35.187Z"
   },
   {
    "duration": 142,
    "start_time": "2022-03-27T21:01:44.095Z"
   },
   {
    "duration": 138,
    "start_time": "2022-03-27T21:01:51.932Z"
   },
   {
    "duration": 113,
    "start_time": "2022-03-27T21:01:53.083Z"
   },
   {
    "duration": 113,
    "start_time": "2022-03-27T21:03:12.725Z"
   },
   {
    "duration": 196,
    "start_time": "2022-03-27T21:03:32.601Z"
   },
   {
    "duration": 117,
    "start_time": "2022-03-27T21:03:42.023Z"
   },
   {
    "duration": 168,
    "start_time": "2022-03-27T21:03:43.625Z"
   },
   {
    "duration": 16753,
    "start_time": "2022-03-27T21:03:46.267Z"
   },
   {
    "duration": 34,
    "start_time": "2022-03-27T21:04:05.771Z"
   },
   {
    "duration": 159,
    "start_time": "2022-03-27T21:04:09.703Z"
   },
   {
    "duration": 128,
    "start_time": "2022-03-27T21:04:22.251Z"
   },
   {
    "duration": 136,
    "start_time": "2022-03-27T21:04:36.631Z"
   },
   {
    "duration": 93952,
    "start_time": "2022-03-27T21:04:48.425Z"
   },
   {
    "duration": 12,
    "start_time": "2022-03-27T21:06:22.379Z"
   },
   {
    "duration": 11,
    "start_time": "2022-03-27T21:07:35.717Z"
   },
   {
    "duration": 34,
    "start_time": "2022-03-27T21:08:02.702Z"
   },
   {
    "duration": 154,
    "start_time": "2022-03-27T21:08:06.306Z"
   },
   {
    "duration": 150,
    "start_time": "2022-03-27T21:08:20.101Z"
   },
   {
    "duration": 31,
    "start_time": "2022-03-27T21:09:10.135Z"
   },
   {
    "duration": 1491,
    "start_time": "2022-03-27T21:10:55.702Z"
   },
   {
    "duration": 27,
    "start_time": "2022-03-27T21:11:07.986Z"
   },
   {
    "duration": 1674,
    "start_time": "2022-03-27T21:11:10.414Z"
   },
   {
    "duration": 33,
    "start_time": "2022-03-27T21:11:39.211Z"
   },
   {
    "duration": 968,
    "start_time": "2022-04-08T08:32:13.113Z"
   },
   {
    "duration": 6,
    "start_time": "2022-04-08T08:32:14.083Z"
   },
   {
    "duration": 75,
    "start_time": "2022-04-08T08:32:14.091Z"
   },
   {
    "duration": 14,
    "start_time": "2022-04-08T08:32:14.168Z"
   },
   {
    "duration": 9,
    "start_time": "2022-04-08T08:32:14.184Z"
   },
   {
    "duration": 19,
    "start_time": "2022-04-08T08:32:14.194Z"
   },
   {
    "duration": 5,
    "start_time": "2022-04-08T08:32:14.232Z"
   },
   {
    "duration": 6,
    "start_time": "2022-04-08T08:32:14.239Z"
   },
   {
    "duration": 5,
    "start_time": "2022-04-08T08:32:14.247Z"
   },
   {
    "duration": 23,
    "start_time": "2022-04-08T08:32:14.254Z"
   },
   {
    "duration": 5,
    "start_time": "2022-04-08T08:32:14.279Z"
   },
   {
    "duration": 8,
    "start_time": "2022-04-08T08:32:14.285Z"
   },
   {
    "duration": 40,
    "start_time": "2022-04-08T08:32:14.295Z"
   },
   {
    "duration": 3,
    "start_time": "2022-04-08T08:32:14.339Z"
   },
   {
    "duration": 18,
    "start_time": "2022-04-08T08:32:14.344Z"
   },
   {
    "duration": 8,
    "start_time": "2022-04-08T08:32:14.364Z"
   },
   {
    "duration": 7,
    "start_time": "2022-04-08T08:32:14.374Z"
   },
   {
    "duration": 6,
    "start_time": "2022-04-08T08:32:14.382Z"
   },
   {
    "duration": 44,
    "start_time": "2022-04-08T08:32:14.389Z"
   },
   {
    "duration": 2,
    "start_time": "2022-04-08T08:32:14.435Z"
   },
   {
    "duration": 43,
    "start_time": "2022-04-08T08:32:14.439Z"
   },
   {
    "duration": 3,
    "start_time": "2022-04-08T08:32:14.483Z"
   },
   {
    "duration": 17,
    "start_time": "2022-04-08T08:32:14.487Z"
   },
   {
    "duration": 38,
    "start_time": "2022-04-08T08:32:14.505Z"
   },
   {
    "duration": 4,
    "start_time": "2022-04-08T08:32:14.544Z"
   },
   {
    "duration": 9,
    "start_time": "2022-04-08T08:32:14.550Z"
   },
   {
    "duration": 7,
    "start_time": "2022-04-08T08:32:14.561Z"
   },
   {
    "duration": 3,
    "start_time": "2022-04-08T08:32:14.569Z"
   },
   {
    "duration": 6,
    "start_time": "2022-04-08T08:32:14.574Z"
   },
   {
    "duration": 95,
    "start_time": "2022-04-08T08:32:14.581Z"
   },
   {
    "duration": 118,
    "start_time": "2022-04-08T08:32:14.678Z"
   },
   {
    "duration": 7,
    "start_time": "2022-04-08T08:32:14.798Z"
   },
   {
    "duration": 9,
    "start_time": "2022-04-08T08:32:14.807Z"
   },
   {
    "duration": 37,
    "start_time": "2022-04-08T08:32:14.818Z"
   },
   {
    "duration": 24,
    "start_time": "2022-04-08T08:32:14.857Z"
   },
   {
    "duration": 586,
    "start_time": "2022-04-08T08:32:14.883Z"
   },
   {
    "duration": 10,
    "start_time": "2022-04-08T08:32:15.471Z"
   },
   {
    "duration": 150,
    "start_time": "2022-04-08T08:32:15.483Z"
   },
   {
    "duration": 122,
    "start_time": "2022-04-08T08:32:15.634Z"
   },
   {
    "duration": 152,
    "start_time": "2022-04-08T08:32:15.758Z"
   },
   {
    "duration": 150,
    "start_time": "2022-04-08T08:32:15.914Z"
   },
   {
    "duration": 140,
    "start_time": "2022-04-08T08:32:16.066Z"
   },
   {
    "duration": 197,
    "start_time": "2022-04-08T08:32:16.207Z"
   },
   {
    "duration": 182,
    "start_time": "2022-04-08T08:32:16.405Z"
   },
   {
    "duration": 156,
    "start_time": "2022-04-08T08:32:16.589Z"
   },
   {
    "duration": 15923,
    "start_time": "2022-04-08T08:32:16.747Z"
   },
   {
    "duration": 31,
    "start_time": "2022-04-08T08:32:32.671Z"
   },
   {
    "duration": 155,
    "start_time": "2022-04-08T08:32:32.703Z"
   },
   {
    "duration": 139,
    "start_time": "2022-04-08T08:32:32.861Z"
   },
   {
    "duration": 86479,
    "start_time": "2022-04-08T08:32:33.002Z"
   },
   {
    "duration": 33,
    "start_time": "2022-04-08T08:33:59.482Z"
   },
   {
    "duration": 164,
    "start_time": "2022-04-08T08:33:59.516Z"
   },
   {
    "duration": 158,
    "start_time": "2022-04-08T08:33:59.682Z"
   },
   {
    "duration": 162,
    "start_time": "2022-04-08T08:33:59.841Z"
   },
   {
    "duration": 154,
    "start_time": "2022-04-08T08:34:00.005Z"
   },
   {
    "duration": 9,
    "start_time": "2022-04-08T08:34:00.161Z"
   },
   {
    "duration": 24,
    "start_time": "2022-04-08T08:34:00.172Z"
   },
   {
    "duration": 56,
    "start_time": "2022-04-08T08:34:00.197Z"
   },
   {
    "duration": 271,
    "start_time": "2022-04-08T08:34:00.254Z"
   },
   {
    "duration": 12,
    "start_time": "2022-04-08T08:34:00.527Z"
   },
   {
    "duration": 40,
    "start_time": "2022-04-08T08:34:00.541Z"
   },
   {
    "duration": 15,
    "start_time": "2022-04-08T08:34:00.583Z"
   },
   {
    "duration": 115,
    "start_time": "2022-04-08T09:34:41.530Z"
   },
   {
    "duration": 105,
    "start_time": "2022-04-08T09:38:57.908Z"
   },
   {
    "duration": 207,
    "start_time": "2022-04-08T09:39:55.978Z"
   },
   {
    "duration": 113,
    "start_time": "2022-04-08T09:40:47.017Z"
   },
   {
    "duration": 135,
    "start_time": "2022-04-08T09:41:15.017Z"
   },
   {
    "duration": 117,
    "start_time": "2022-04-08T09:41:29.768Z"
   },
   {
    "duration": 144,
    "start_time": "2022-04-08T09:41:44.377Z"
   },
   {
    "duration": 137,
    "start_time": "2022-04-08T09:42:13.497Z"
   },
   {
    "duration": 136,
    "start_time": "2022-04-08T09:43:46.377Z"
   },
   {
    "duration": 640,
    "start_time": "2022-04-08T09:45:14.442Z"
   },
   {
    "duration": 112,
    "start_time": "2022-04-08T09:47:11.642Z"
   },
   {
    "duration": 123,
    "start_time": "2022-04-08T09:51:55.687Z"
   },
   {
    "duration": 145,
    "start_time": "2022-04-08T09:52:42.007Z"
   },
   {
    "duration": 8,
    "start_time": "2022-04-08T10:00:21.402Z"
   },
   {
    "duration": 13,
    "start_time": "2022-04-08T10:00:47.442Z"
   },
   {
    "duration": 22,
    "start_time": "2022-04-08T10:01:06.401Z"
   },
   {
    "duration": 95,
    "start_time": "2022-04-08T10:02:16.431Z"
   },
   {
    "duration": 5,
    "start_time": "2022-04-08T10:02:16.782Z"
   },
   {
    "duration": 31,
    "start_time": "2022-04-08T10:03:03.201Z"
   },
   {
    "duration": 19,
    "start_time": "2022-04-08T10:06:36.801Z"
   },
   {
    "duration": 560,
    "start_time": "2022-04-08T10:19:25.682Z"
   },
   {
    "duration": 185,
    "start_time": "2022-04-08T10:23:38.321Z"
   },
   {
    "duration": 96,
    "start_time": "2022-04-08T10:24:52.324Z"
   },
   {
    "duration": 120,
    "start_time": "2022-04-08T10:26:05.151Z"
   },
   {
    "duration": 125,
    "start_time": "2022-04-08T10:30:20.162Z"
   },
   {
    "duration": 131,
    "start_time": "2022-04-08T10:33:43.281Z"
   },
   {
    "duration": 11706,
    "start_time": "2022-04-08T10:34:23.523Z"
   },
   {
    "duration": 1740,
    "start_time": "2022-04-08T10:42:29.790Z"
   },
   {
    "duration": 13,
    "start_time": "2022-04-08T10:43:40.458Z"
   },
   {
    "duration": 1725,
    "start_time": "2022-04-08T10:44:38.989Z"
   },
   {
    "duration": 14,
    "start_time": "2022-04-08T10:48:31.892Z"
   },
   {
    "duration": 10,
    "start_time": "2022-04-08T10:49:17.390Z"
   },
   {
    "duration": 11,
    "start_time": "2022-04-08T10:50:37.296Z"
   },
   {
    "duration": 10,
    "start_time": "2022-04-08T10:50:40.097Z"
   },
   {
    "duration": 13,
    "start_time": "2022-04-08T10:53:10.575Z"
   },
   {
    "duration": 32,
    "start_time": "2022-04-08T10:53:40.766Z"
   },
   {
    "duration": 30,
    "start_time": "2022-04-08T10:55:15.856Z"
   },
   {
    "duration": 13,
    "start_time": "2022-04-08T10:55:58.136Z"
   },
   {
    "duration": 17,
    "start_time": "2022-04-08T10:57:38.120Z"
   },
   {
    "duration": 15,
    "start_time": "2022-04-08T10:59:48.896Z"
   },
   {
    "duration": 115,
    "start_time": "2022-04-08T11:06:50.873Z"
   },
   {
    "duration": 107,
    "start_time": "2022-04-08T11:07:16.933Z"
   },
   {
    "duration": 7,
    "start_time": "2022-04-08T11:16:05.940Z"
   },
   {
    "duration": 8,
    "start_time": "2022-04-08T11:16:14.457Z"
   },
   {
    "duration": 31,
    "start_time": "2022-04-08T11:21:35.339Z"
   },
   {
    "duration": 122,
    "start_time": "2022-04-08T11:22:29.703Z"
   },
   {
    "duration": 18,
    "start_time": "2022-04-08T11:22:53.012Z"
   },
   {
    "duration": 5,
    "start_time": "2022-04-08T11:23:12.131Z"
   },
   {
    "duration": 15,
    "start_time": "2022-04-08T11:23:23.971Z"
   },
   {
    "duration": 13,
    "start_time": "2022-04-08T11:23:58.292Z"
   },
   {
    "duration": 14,
    "start_time": "2022-04-08T11:24:12.931Z"
   },
   {
    "duration": 13,
    "start_time": "2022-04-08T11:24:17.891Z"
   },
   {
    "duration": 32,
    "start_time": "2022-04-08T11:26:14.091Z"
   },
   {
    "duration": 13,
    "start_time": "2022-04-08T11:26:51.933Z"
   },
   {
    "duration": 19,
    "start_time": "2022-04-08T11:28:46.898Z"
   },
   {
    "duration": 23,
    "start_time": "2022-04-08T11:28:53.218Z"
   },
   {
    "duration": 22,
    "start_time": "2022-04-08T11:28:56.299Z"
   },
   {
    "duration": 608,
    "start_time": "2022-04-08T11:29:10.438Z"
   },
   {
    "duration": 183,
    "start_time": "2022-04-08T11:29:14.998Z"
   },
   {
    "duration": 99,
    "start_time": "2022-04-08T11:29:16.268Z"
   },
   {
    "duration": 120,
    "start_time": "2022-04-08T11:29:17.518Z"
   },
   {
    "duration": 119,
    "start_time": "2022-04-08T11:29:22.021Z"
   },
   {
    "duration": 15428,
    "start_time": "2022-04-08T11:29:23.378Z"
   },
   {
    "duration": 31,
    "start_time": "2022-04-08T11:29:38.808Z"
   },
   {
    "duration": 11,
    "start_time": "2022-04-08T11:30:13.697Z"
   },
   {
    "duration": 1719,
    "start_time": "2022-04-08T11:30:46.545Z"
   },
   {
    "duration": 30,
    "start_time": "2022-04-08T11:31:27.426Z"
   },
   {
    "duration": 8,
    "start_time": "2022-04-08T11:32:01.082Z"
   },
   {
    "duration": 140,
    "start_time": "2022-04-08T11:32:03.904Z"
   },
   {
    "duration": 30,
    "start_time": "2022-04-08T11:33:13.861Z"
   },
   {
    "duration": 8,
    "start_time": "2022-04-08T11:33:14.828Z"
   },
   {
    "duration": 135,
    "start_time": "2022-04-08T11:33:15.583Z"
   },
   {
    "duration": 29,
    "start_time": "2022-04-08T11:36:38.835Z"
   },
   {
    "duration": 11,
    "start_time": "2022-04-08T11:39:41.659Z"
   },
   {
    "duration": 7,
    "start_time": "2022-04-08T11:40:25.659Z"
   },
   {
    "duration": 12,
    "start_time": "2022-04-08T11:40:26.700Z"
   },
   {
    "duration": 27,
    "start_time": "2022-04-08T11:42:41.637Z"
   },
   {
    "duration": 12,
    "start_time": "2022-04-08T11:42:42.758Z"
   },
   {
    "duration": 26,
    "start_time": "2022-04-08T11:47:27.147Z"
   },
   {
    "duration": 10,
    "start_time": "2022-04-08T11:47:28.346Z"
   },
   {
    "duration": 9,
    "start_time": "2022-04-08T11:49:44.934Z"
   },
   {
    "duration": 174,
    "start_time": "2022-04-08T11:49:51.395Z"
   },
   {
    "duration": 3,
    "start_time": "2022-04-08T11:58:33.739Z"
   },
   {
    "duration": 41,
    "start_time": "2022-04-08T11:58:55.659Z"
   },
   {
    "duration": 9,
    "start_time": "2022-04-08T11:59:21.819Z"
   },
   {
    "duration": 145,
    "start_time": "2022-04-08T12:00:48.939Z"
   },
   {
    "duration": 11,
    "start_time": "2022-04-08T12:17:25.550Z"
   },
   {
    "duration": 1766,
    "start_time": "2022-04-08T12:20:06.744Z"
   },
   {
    "duration": 1732,
    "start_time": "2022-04-08T12:21:28.352Z"
   },
   {
    "duration": 0,
    "start_time": "2022-04-08T12:21:30.086Z"
   },
   {
    "duration": 11,
    "start_time": "2022-04-08T12:21:30.582Z"
   },
   {
    "duration": 15,
    "start_time": "2022-04-08T12:24:16.590Z"
   },
   {
    "duration": 6,
    "start_time": "2022-04-08T12:31:12.822Z"
   },
   {
    "duration": 25,
    "start_time": "2022-04-08T12:31:40.855Z"
   },
   {
    "duration": 5,
    "start_time": "2022-04-08T12:33:21.021Z"
   },
   {
    "duration": 23,
    "start_time": "2022-04-08T12:33:23.342Z"
   },
   {
    "duration": 5,
    "start_time": "2022-04-08T12:35:47.161Z"
   },
   {
    "duration": 3,
    "start_time": "2022-04-08T12:35:48.062Z"
   },
   {
    "duration": 4,
    "start_time": "2022-04-08T12:35:48.782Z"
   },
   {
    "duration": 24,
    "start_time": "2022-04-08T12:35:50.151Z"
   },
   {
    "duration": 140,
    "start_time": "2022-04-08T12:37:02.061Z"
   },
   {
    "duration": 148,
    "start_time": "2022-04-08T12:41:04.089Z"
   },
   {
    "duration": 139,
    "start_time": "2022-04-08T12:46:50.648Z"
   },
   {
    "duration": 87699,
    "start_time": "2022-04-08T12:51:54.824Z"
   },
   {
    "duration": 31,
    "start_time": "2022-04-08T12:53:22.525Z"
   },
   {
    "duration": 87,
    "start_time": "2022-04-08T12:53:27.144Z"
   },
   {
    "duration": 135,
    "start_time": "2022-04-08T12:56:59.765Z"
   },
   {
    "duration": 102,
    "start_time": "2022-04-08T13:00:50.539Z"
   },
   {
    "duration": 120,
    "start_time": "2022-04-08T13:05:22.404Z"
   },
   {
    "duration": 111,
    "start_time": "2022-04-08T13:05:42.972Z"
   },
   {
    "duration": 87,
    "start_time": "2022-04-08T13:09:28.641Z"
   },
   {
    "duration": 135,
    "start_time": "2022-04-08T13:09:31.201Z"
   },
   {
    "duration": 104,
    "start_time": "2022-04-08T13:09:33.282Z"
   },
   {
    "duration": 116,
    "start_time": "2022-04-08T13:09:38.001Z"
   },
   {
    "duration": 83,
    "start_time": "2022-04-08T13:19:54.484Z"
   },
   {
    "duration": 131,
    "start_time": "2022-04-08T13:22:50.097Z"
   },
   {
    "duration": 128,
    "start_time": "2022-04-08T13:24:20.509Z"
   },
   {
    "duration": 55,
    "start_time": "2022-04-08T13:26:25.856Z"
   },
   {
    "duration": 1149,
    "start_time": "2022-04-08T13:26:36.097Z"
   },
   {
    "duration": 162,
    "start_time": "2022-04-08T13:26:37.247Z"
   },
   {
    "duration": 109,
    "start_time": "2022-04-08T13:36:16.848Z"
   },
   {
    "duration": 765,
    "start_time": "2022-04-08T13:39:19.300Z"
   },
   {
    "duration": 5,
    "start_time": "2022-04-08T13:39:20.067Z"
   },
   {
    "duration": 66,
    "start_time": "2022-04-08T13:39:20.074Z"
   },
   {
    "duration": 14,
    "start_time": "2022-04-08T13:39:20.142Z"
   },
   {
    "duration": 25,
    "start_time": "2022-04-08T13:39:20.158Z"
   },
   {
    "duration": 13,
    "start_time": "2022-04-08T13:39:20.185Z"
   },
   {
    "duration": 5,
    "start_time": "2022-04-08T13:39:20.199Z"
   },
   {
    "duration": 6,
    "start_time": "2022-04-08T13:39:20.205Z"
   },
   {
    "duration": 9,
    "start_time": "2022-04-08T13:39:20.212Z"
   },
   {
    "duration": 57,
    "start_time": "2022-04-08T13:39:20.224Z"
   },
   {
    "duration": 5,
    "start_time": "2022-04-08T13:39:20.282Z"
   },
   {
    "duration": 7,
    "start_time": "2022-04-08T13:39:20.289Z"
   },
   {
    "duration": 9,
    "start_time": "2022-04-08T13:39:20.298Z"
   },
   {
    "duration": 4,
    "start_time": "2022-04-08T13:39:20.309Z"
   },
   {
    "duration": 10,
    "start_time": "2022-04-08T13:39:20.315Z"
   },
   {
    "duration": 8,
    "start_time": "2022-04-08T13:39:20.327Z"
   },
   {
    "duration": 45,
    "start_time": "2022-04-08T13:39:20.336Z"
   },
   {
    "duration": 7,
    "start_time": "2022-04-08T13:39:20.383Z"
   },
   {
    "duration": 14,
    "start_time": "2022-04-08T13:39:20.392Z"
   },
   {
    "duration": 3,
    "start_time": "2022-04-08T13:39:20.408Z"
   },
   {
    "duration": 71,
    "start_time": "2022-04-08T13:39:20.413Z"
   },
   {
    "duration": 3,
    "start_time": "2022-04-08T13:39:20.486Z"
   },
   {
    "duration": 18,
    "start_time": "2022-04-08T13:39:20.490Z"
   },
   {
    "duration": 23,
    "start_time": "2022-04-08T13:39:20.510Z"
   },
   {
    "duration": 4,
    "start_time": "2022-04-08T13:39:20.534Z"
   },
   {
    "duration": 10,
    "start_time": "2022-04-08T13:39:20.539Z"
   },
   {
    "duration": 6,
    "start_time": "2022-04-08T13:39:20.579Z"
   },
   {
    "duration": 3,
    "start_time": "2022-04-08T13:39:20.589Z"
   },
   {
    "duration": 7,
    "start_time": "2022-04-08T13:39:20.593Z"
   },
   {
    "duration": 79,
    "start_time": "2022-04-08T13:39:20.601Z"
   },
   {
    "duration": 120,
    "start_time": "2022-04-08T13:39:20.682Z"
   },
   {
    "duration": 9,
    "start_time": "2022-04-08T13:39:20.804Z"
   },
   {
    "duration": 5,
    "start_time": "2022-04-08T13:39:20.814Z"
   },
   {
    "duration": 28,
    "start_time": "2022-04-08T13:39:20.820Z"
   },
   {
    "duration": 47,
    "start_time": "2022-04-08T13:39:20.850Z"
   },
   {
    "duration": 575,
    "start_time": "2022-04-08T13:39:20.898Z"
   },
   {
    "duration": 10,
    "start_time": "2022-04-08T13:39:21.478Z"
   },
   {
    "duration": 147,
    "start_time": "2022-04-08T13:39:21.490Z"
   },
   {
    "duration": 122,
    "start_time": "2022-04-08T13:39:21.640Z"
   },
   {
    "duration": 145,
    "start_time": "2022-04-08T13:39:21.764Z"
   },
   {
    "duration": 158,
    "start_time": "2022-04-08T13:39:21.911Z"
   },
   {
    "duration": 140,
    "start_time": "2022-04-08T13:39:22.078Z"
   },
   {
    "duration": 125,
    "start_time": "2022-04-08T13:39:22.220Z"
   },
   {
    "duration": 229,
    "start_time": "2022-04-08T13:39:22.349Z"
   },
   {
    "duration": 125,
    "start_time": "2022-04-08T13:39:22.581Z"
   },
   {
    "duration": 153,
    "start_time": "2022-04-08T13:39:22.708Z"
   },
   {
    "duration": 199,
    "start_time": "2022-04-08T13:39:22.863Z"
   },
   {
    "duration": 121,
    "start_time": "2022-04-08T13:39:23.064Z"
   },
   {
    "duration": 170,
    "start_time": "2022-04-08T13:39:23.187Z"
   },
   {
    "duration": 15316,
    "start_time": "2022-04-08T13:39:23.358Z"
   },
   {
    "duration": 31,
    "start_time": "2022-04-08T13:39:38.679Z"
   },
   {
    "duration": 170,
    "start_time": "2022-04-08T13:39:38.712Z"
   },
   {
    "duration": 143,
    "start_time": "2022-04-08T13:39:38.884Z"
   },
   {
    "duration": 86409,
    "start_time": "2022-04-08T13:39:39.030Z"
   },
   {
    "duration": 39,
    "start_time": "2022-04-08T13:41:05.441Z"
   },
   {
    "duration": 155,
    "start_time": "2022-04-08T13:41:05.482Z"
   },
   {
    "duration": 158,
    "start_time": "2022-04-08T13:41:05.638Z"
   },
   {
    "duration": 167,
    "start_time": "2022-04-08T13:41:05.798Z"
   },
   {
    "duration": 150,
    "start_time": "2022-04-08T13:41:05.967Z"
   },
   {
    "duration": 10,
    "start_time": "2022-04-08T13:41:06.119Z"
   },
   {
    "duration": 24,
    "start_time": "2022-04-08T13:41:06.130Z"
   },
   {
    "duration": 51,
    "start_time": "2022-04-08T13:41:06.156Z"
   },
   {
    "duration": 278,
    "start_time": "2022-04-08T13:41:06.209Z"
   },
   {
    "duration": 8,
    "start_time": "2022-04-08T13:41:06.489Z"
   },
   {
    "duration": 34,
    "start_time": "2022-04-08T13:41:06.498Z"
   },
   {
    "duration": 16,
    "start_time": "2022-04-08T13:41:06.534Z"
   },
   {
    "duration": 111,
    "start_time": "2022-04-08T13:41:06.552Z"
   },
   {
    "duration": 0,
    "start_time": "2022-04-08T13:41:06.665Z"
   },
   {
    "duration": 0,
    "start_time": "2022-04-08T13:41:06.667Z"
   },
   {
    "duration": 0,
    "start_time": "2022-04-08T13:41:06.667Z"
   },
   {
    "duration": 0,
    "start_time": "2022-04-08T13:41:06.669Z"
   },
   {
    "duration": 0,
    "start_time": "2022-04-08T13:41:06.670Z"
   },
   {
    "duration": 0,
    "start_time": "2022-04-08T13:41:06.671Z"
   },
   {
    "duration": 0,
    "start_time": "2022-04-08T13:41:06.671Z"
   },
   {
    "duration": 0,
    "start_time": "2022-04-08T13:41:06.673Z"
   },
   {
    "duration": 0,
    "start_time": "2022-04-08T13:41:06.673Z"
   },
   {
    "duration": 0,
    "start_time": "2022-04-08T13:41:06.674Z"
   },
   {
    "duration": 0,
    "start_time": "2022-04-08T13:41:06.675Z"
   },
   {
    "duration": 0,
    "start_time": "2022-04-08T13:41:06.677Z"
   },
   {
    "duration": 0,
    "start_time": "2022-04-08T13:41:06.678Z"
   },
   {
    "duration": 0,
    "start_time": "2022-04-08T13:41:06.679Z"
   },
   {
    "duration": 0,
    "start_time": "2022-04-08T13:41:06.680Z"
   },
   {
    "duration": 0,
    "start_time": "2022-04-08T13:41:06.681Z"
   },
   {
    "duration": 0,
    "start_time": "2022-04-08T13:41:06.682Z"
   },
   {
    "duration": 0,
    "start_time": "2022-04-08T13:41:06.683Z"
   },
   {
    "duration": 0,
    "start_time": "2022-04-08T13:41:06.684Z"
   },
   {
    "duration": 0,
    "start_time": "2022-04-08T13:41:06.685Z"
   },
   {
    "duration": 0,
    "start_time": "2022-04-08T13:41:06.686Z"
   },
   {
    "duration": 0,
    "start_time": "2022-04-08T13:41:06.687Z"
   },
   {
    "duration": 0,
    "start_time": "2022-04-08T13:41:06.688Z"
   },
   {
    "duration": 0,
    "start_time": "2022-04-08T13:41:06.689Z"
   },
   {
    "duration": 0,
    "start_time": "2022-04-08T13:41:06.690Z"
   },
   {
    "duration": 0,
    "start_time": "2022-04-08T13:41:06.691Z"
   },
   {
    "duration": 0,
    "start_time": "2022-04-08T13:41:06.692Z"
   },
   {
    "duration": 859,
    "start_time": "2022-04-10T10:32:58.018Z"
   },
   {
    "duration": 5,
    "start_time": "2022-04-10T10:32:58.879Z"
   },
   {
    "duration": 61,
    "start_time": "2022-04-10T10:32:58.886Z"
   },
   {
    "duration": 34,
    "start_time": "2022-04-10T10:32:58.948Z"
   },
   {
    "duration": 8,
    "start_time": "2022-04-10T10:32:58.985Z"
   },
   {
    "duration": 14,
    "start_time": "2022-04-10T10:32:58.995Z"
   },
   {
    "duration": 5,
    "start_time": "2022-04-10T10:32:59.011Z"
   },
   {
    "duration": 7,
    "start_time": "2022-04-10T10:32:59.017Z"
   },
   {
    "duration": 7,
    "start_time": "2022-04-10T10:32:59.025Z"
   },
   {
    "duration": 51,
    "start_time": "2022-04-10T10:32:59.033Z"
   },
   {
    "duration": 5,
    "start_time": "2022-04-10T10:32:59.086Z"
   },
   {
    "duration": 6,
    "start_time": "2022-04-10T10:32:59.092Z"
   },
   {
    "duration": 7,
    "start_time": "2022-04-10T10:32:59.100Z"
   },
   {
    "duration": 4,
    "start_time": "2022-04-10T10:32:59.110Z"
   },
   {
    "duration": 13,
    "start_time": "2022-04-10T10:32:59.115Z"
   },
   {
    "duration": 8,
    "start_time": "2022-04-10T10:32:59.129Z"
   },
   {
    "duration": 34,
    "start_time": "2022-04-10T10:32:59.139Z"
   },
   {
    "duration": 5,
    "start_time": "2022-04-10T10:32:59.175Z"
   },
   {
    "duration": 23,
    "start_time": "2022-04-10T10:32:59.182Z"
   },
   {
    "duration": 3,
    "start_time": "2022-04-10T10:32:59.206Z"
   },
   {
    "duration": 33,
    "start_time": "2022-04-10T10:32:59.210Z"
   },
   {
    "duration": 3,
    "start_time": "2022-04-10T10:32:59.244Z"
   },
   {
    "duration": 40,
    "start_time": "2022-04-10T10:32:59.248Z"
   },
   {
    "duration": 32,
    "start_time": "2022-04-10T10:32:59.291Z"
   },
   {
    "duration": 4,
    "start_time": "2022-04-10T10:32:59.325Z"
   },
   {
    "duration": 11,
    "start_time": "2022-04-10T10:32:59.331Z"
   },
   {
    "duration": 29,
    "start_time": "2022-04-10T10:32:59.344Z"
   },
   {
    "duration": 3,
    "start_time": "2022-04-10T10:32:59.375Z"
   },
   {
    "duration": 10,
    "start_time": "2022-04-10T10:32:59.379Z"
   },
   {
    "duration": 68,
    "start_time": "2022-04-10T10:32:59.390Z"
   },
   {
    "duration": 100,
    "start_time": "2022-04-10T10:32:59.459Z"
   },
   {
    "duration": 16,
    "start_time": "2022-04-10T10:32:59.560Z"
   },
   {
    "duration": 4,
    "start_time": "2022-04-10T10:32:59.578Z"
   },
   {
    "duration": 27,
    "start_time": "2022-04-10T10:32:59.584Z"
   },
   {
    "duration": 23,
    "start_time": "2022-04-10T10:32:59.612Z"
   },
   {
    "duration": 818,
    "start_time": "2022-04-10T10:32:59.637Z"
   },
   {
    "duration": 20,
    "start_time": "2022-04-10T10:33:00.457Z"
   },
   {
    "duration": 179,
    "start_time": "2022-04-10T10:33:00.479Z"
   },
   {
    "duration": 175,
    "start_time": "2022-04-10T10:33:00.660Z"
   },
   {
    "duration": 215,
    "start_time": "2022-04-10T10:33:00.837Z"
   },
   {
    "duration": 226,
    "start_time": "2022-04-10T10:33:01.059Z"
   },
   {
    "duration": 137,
    "start_time": "2022-04-10T10:33:01.287Z"
   },
   {
    "duration": 105,
    "start_time": "2022-04-10T10:33:01.425Z"
   },
   {
    "duration": 190,
    "start_time": "2022-04-10T10:33:01.531Z"
   },
   {
    "duration": 107,
    "start_time": "2022-04-10T10:33:01.722Z"
   },
   {
    "duration": 132,
    "start_time": "2022-04-10T10:33:01.830Z"
   },
   {
    "duration": 169,
    "start_time": "2022-04-10T10:33:01.971Z"
   },
   {
    "duration": 101,
    "start_time": "2022-04-10T10:33:02.142Z"
   },
   {
    "duration": 144,
    "start_time": "2022-04-10T10:33:02.245Z"
   },
   {
    "duration": 15300,
    "start_time": "2022-04-10T10:33:02.390Z"
   },
   {
    "duration": 42,
    "start_time": "2022-04-10T10:33:17.692Z"
   },
   {
    "duration": 181,
    "start_time": "2022-04-10T10:33:17.736Z"
   },
   {
    "duration": 154,
    "start_time": "2022-04-10T10:33:17.918Z"
   },
   {
    "duration": 11,
    "start_time": "2022-04-10T10:34:39.677Z"
   },
   {
    "duration": 29,
    "start_time": "2022-04-10T10:34:39.690Z"
   },
   {
    "duration": 54,
    "start_time": "2022-04-10T10:34:39.721Z"
   },
   {
    "duration": 388,
    "start_time": "2022-04-10T10:34:39.777Z"
   },
   {
    "duration": 11,
    "start_time": "2022-04-10T10:34:40.167Z"
   },
   {
    "duration": 51,
    "start_time": "2022-04-10T10:34:40.180Z"
   },
   {
    "duration": 20,
    "start_time": "2022-04-10T10:34:40.233Z"
   },
   {
    "duration": 6,
    "start_time": "2022-04-10T10:34:40.271Z"
   },
   {
    "duration": 19,
    "start_time": "2022-04-10T10:34:40.278Z"
   },
   {
    "duration": 17,
    "start_time": "2022-04-10T10:34:40.299Z"
   },
   {
    "duration": 963,
    "start_time": "2022-04-10T10:34:40.318Z"
   },
   {
    "duration": 91,
    "start_time": "2022-04-10T10:34:41.283Z"
   },
   {
    "duration": 138,
    "start_time": "2022-04-10T10:34:41.376Z"
   },
   {
    "duration": 101,
    "start_time": "2022-04-10T10:34:41.516Z"
   },
   {
    "duration": 112,
    "start_time": "2022-04-10T10:34:41.619Z"
   },
   {
    "duration": 87,
    "start_time": "2022-04-10T10:34:41.733Z"
   },
   {
    "duration": 120,
    "start_time": "2022-04-10T10:34:41.822Z"
   },
   {
    "duration": 167,
    "start_time": "2022-04-10T10:34:41.943Z"
   },
   {
    "duration": 98,
    "start_time": "2022-04-10T10:34:42.112Z"
   },
   {
    "duration": 119,
    "start_time": "2022-04-10T10:34:42.211Z"
   },
   {
    "duration": 129,
    "start_time": "2022-04-10T10:34:42.332Z"
   },
   {
    "duration": 0,
    "start_time": "2022-04-10T10:34:42.463Z"
   },
   {
    "duration": 0,
    "start_time": "2022-04-10T10:34:42.464Z"
   },
   {
    "duration": 0,
    "start_time": "2022-04-10T10:34:42.465Z"
   },
   {
    "duration": 0,
    "start_time": "2022-04-10T10:34:42.466Z"
   },
   {
    "duration": 0,
    "start_time": "2022-04-10T10:34:42.467Z"
   },
   {
    "duration": 0,
    "start_time": "2022-04-10T10:34:42.467Z"
   },
   {
    "duration": 0,
    "start_time": "2022-04-10T10:34:42.468Z"
   },
   {
    "duration": 0,
    "start_time": "2022-04-10T10:34:42.469Z"
   },
   {
    "duration": 0,
    "start_time": "2022-04-10T10:34:42.470Z"
   },
   {
    "duration": 0,
    "start_time": "2022-04-10T10:34:42.471Z"
   },
   {
    "duration": 0,
    "start_time": "2022-04-10T10:34:42.471Z"
   },
   {
    "duration": 0,
    "start_time": "2022-04-10T10:34:42.472Z"
   },
   {
    "duration": 0,
    "start_time": "2022-04-10T10:34:42.473Z"
   },
   {
    "duration": 0,
    "start_time": "2022-04-10T10:34:42.474Z"
   },
   {
    "duration": 0,
    "start_time": "2022-04-10T10:34:42.475Z"
   },
   {
    "duration": 0,
    "start_time": "2022-04-10T10:34:42.476Z"
   },
   {
    "duration": 0,
    "start_time": "2022-04-10T10:34:42.476Z"
   },
   {
    "duration": 0,
    "start_time": "2022-04-10T10:34:42.477Z"
   },
   {
    "duration": 0,
    "start_time": "2022-04-10T10:34:42.478Z"
   },
   {
    "duration": 0,
    "start_time": "2022-04-10T10:34:42.479Z"
   },
   {
    "duration": 0,
    "start_time": "2022-04-10T10:34:42.479Z"
   },
   {
    "duration": 22,
    "start_time": "2022-04-10T10:34:45.948Z"
   },
   {
    "duration": 125,
    "start_time": "2022-04-10T10:34:54.197Z"
   },
   {
    "duration": 81825,
    "start_time": "2022-04-10T10:34:59.547Z"
   },
   {
    "duration": 31,
    "start_time": "2022-04-10T10:36:21.374Z"
   },
   {
    "duration": 145,
    "start_time": "2022-04-10T10:36:21.407Z"
   },
   {
    "duration": 8,
    "start_time": "2022-04-10T10:36:21.554Z"
   },
   {
    "duration": 5,
    "start_time": "2022-04-10T10:37:34.269Z"
   },
   {
    "duration": 104,
    "start_time": "2022-04-10T10:37:36.269Z"
   },
   {
    "duration": 136,
    "start_time": "2022-04-10T10:37:41.467Z"
   },
   {
    "duration": 34,
    "start_time": "2022-04-10T10:37:52.116Z"
   },
   {
    "duration": 7,
    "start_time": "2022-04-10T10:37:55.608Z"
   },
   {
    "duration": 126,
    "start_time": "2022-04-10T10:37:56.909Z"
   },
   {
    "duration": 4,
    "start_time": "2022-04-10T10:38:01.788Z"
   },
   {
    "duration": 3,
    "start_time": "2022-04-10T10:38:02.847Z"
   },
   {
    "duration": 4,
    "start_time": "2022-04-10T10:38:03.868Z"
   },
   {
    "duration": 121,
    "start_time": "2022-04-10T10:38:04.608Z"
   },
   {
    "duration": 132,
    "start_time": "2022-04-10T10:38:10.708Z"
   },
   {
    "duration": 182,
    "start_time": "2022-04-10T10:38:15.867Z"
   },
   {
    "duration": 121,
    "start_time": "2022-04-10T10:38:16.588Z"
   },
   {
    "duration": 121,
    "start_time": "2022-04-10T10:38:24.588Z"
   },
   {
    "duration": 6,
    "start_time": "2022-04-10T10:39:00.078Z"
   },
   {
    "duration": 20,
    "start_time": "2022-04-10T10:39:00.638Z"
   },
   {
    "duration": 17,
    "start_time": "2022-04-10T10:39:02.188Z"
   },
   {
    "duration": 472,
    "start_time": "2022-04-10T10:39:04.708Z"
   },
   {
    "duration": 77,
    "start_time": "2022-04-10T10:39:05.796Z"
   },
   {
    "duration": 127,
    "start_time": "2022-04-10T10:39:08.347Z"
   },
   {
    "duration": 88,
    "start_time": "2022-04-10T10:39:08.907Z"
   },
   {
    "duration": 109,
    "start_time": "2022-04-10T10:39:10.268Z"
   },
   {
    "duration": 74,
    "start_time": "2022-04-10T10:39:11.237Z"
   },
   {
    "duration": 117,
    "start_time": "2022-04-10T10:39:12.579Z"
   },
   {
    "duration": 158,
    "start_time": "2022-04-10T10:39:13.707Z"
   },
   {
    "duration": 87,
    "start_time": "2022-04-10T10:39:14.308Z"
   },
   {
    "duration": 110,
    "start_time": "2022-04-10T10:39:15.178Z"
   },
   {
    "duration": 6,
    "start_time": "2022-04-10T10:39:17.277Z"
   },
   {
    "duration": 110,
    "start_time": "2022-04-10T10:39:18.348Z"
   },
   {
    "duration": 33,
    "start_time": "2022-04-10T10:39:21.958Z"
   },
   {
    "duration": 7,
    "start_time": "2022-04-10T10:39:22.947Z"
   },
   {
    "duration": 127,
    "start_time": "2022-04-10T10:39:23.748Z"
   },
   {
    "duration": 4,
    "start_time": "2022-04-10T10:39:26.845Z"
   },
   {
    "duration": 3,
    "start_time": "2022-04-10T10:39:27.238Z"
   },
   {
    "duration": 4,
    "start_time": "2022-04-10T10:39:27.558Z"
   },
   {
    "duration": 121,
    "start_time": "2022-04-10T10:39:27.907Z"
   },
   {
    "duration": 1015,
    "start_time": "2022-04-10T10:39:30.747Z"
   },
   {
    "duration": 123,
    "start_time": "2022-04-10T10:39:33.157Z"
   },
   {
    "duration": 730,
    "start_time": "2022-04-10T10:40:55.089Z"
   },
   {
    "duration": 6,
    "start_time": "2022-04-10T10:40:55.822Z"
   },
   {
    "duration": 70,
    "start_time": "2022-04-10T10:40:55.829Z"
   },
   {
    "duration": 12,
    "start_time": "2022-04-10T10:40:55.901Z"
   },
   {
    "duration": 8,
    "start_time": "2022-04-10T10:40:55.916Z"
   },
   {
    "duration": 12,
    "start_time": "2022-04-10T10:40:55.925Z"
   },
   {
    "duration": 34,
    "start_time": "2022-04-10T10:40:55.939Z"
   },
   {
    "duration": 5,
    "start_time": "2022-04-10T10:40:55.975Z"
   },
   {
    "duration": 6,
    "start_time": "2022-04-10T10:40:55.982Z"
   },
   {
    "duration": 22,
    "start_time": "2022-04-10T10:40:55.990Z"
   },
   {
    "duration": 4,
    "start_time": "2022-04-10T10:40:56.013Z"
   },
   {
    "duration": 5,
    "start_time": "2022-04-10T10:40:56.019Z"
   },
   {
    "duration": 45,
    "start_time": "2022-04-10T10:40:56.026Z"
   },
   {
    "duration": 4,
    "start_time": "2022-04-10T10:40:56.074Z"
   },
   {
    "duration": 11,
    "start_time": "2022-04-10T10:40:56.080Z"
   },
   {
    "duration": 8,
    "start_time": "2022-04-10T10:40:56.092Z"
   },
   {
    "duration": 7,
    "start_time": "2022-04-10T10:40:56.102Z"
   },
   {
    "duration": 4,
    "start_time": "2022-04-10T10:40:56.110Z"
   },
   {
    "duration": 13,
    "start_time": "2022-04-10T10:40:56.116Z"
   },
   {
    "duration": 2,
    "start_time": "2022-04-10T10:40:56.131Z"
   },
   {
    "duration": 67,
    "start_time": "2022-04-10T10:40:56.134Z"
   },
   {
    "duration": 2,
    "start_time": "2022-04-10T10:40:56.203Z"
   },
   {
    "duration": 18,
    "start_time": "2022-04-10T10:40:56.206Z"
   },
   {
    "duration": 19,
    "start_time": "2022-04-10T10:40:56.225Z"
   },
   {
    "duration": 5,
    "start_time": "2022-04-10T10:40:56.246Z"
   },
   {
    "duration": 7,
    "start_time": "2022-04-10T10:40:56.270Z"
   },
   {
    "duration": 9,
    "start_time": "2022-04-10T10:40:56.278Z"
   },
   {
    "duration": 3,
    "start_time": "2022-04-10T10:40:56.289Z"
   },
   {
    "duration": 10,
    "start_time": "2022-04-10T10:40:56.294Z"
   },
   {
    "duration": 97,
    "start_time": "2022-04-10T10:40:56.305Z"
   },
   {
    "duration": 105,
    "start_time": "2022-04-10T10:40:56.404Z"
   },
   {
    "duration": 7,
    "start_time": "2022-04-10T10:40:56.511Z"
   },
   {
    "duration": 6,
    "start_time": "2022-04-10T10:40:56.519Z"
   },
   {
    "duration": 23,
    "start_time": "2022-04-10T10:40:56.526Z"
   },
   {
    "duration": 38,
    "start_time": "2022-04-10T10:40:56.550Z"
   },
   {
    "duration": 518,
    "start_time": "2022-04-10T10:40:56.590Z"
   },
   {
    "duration": 10,
    "start_time": "2022-04-10T10:40:57.109Z"
   },
   {
    "duration": 156,
    "start_time": "2022-04-10T10:40:57.120Z"
   },
   {
    "duration": 111,
    "start_time": "2022-04-10T10:40:57.278Z"
   },
   {
    "duration": 135,
    "start_time": "2022-04-10T10:40:57.391Z"
   },
   {
    "duration": 134,
    "start_time": "2022-04-10T10:40:57.531Z"
   },
   {
    "duration": 139,
    "start_time": "2022-04-10T10:40:57.666Z"
   },
   {
    "duration": 109,
    "start_time": "2022-04-10T10:40:57.807Z"
   },
   {
    "duration": 194,
    "start_time": "2022-04-10T10:40:57.918Z"
   },
   {
    "duration": 119,
    "start_time": "2022-04-10T10:40:58.114Z"
   },
   {
    "duration": 139,
    "start_time": "2022-04-10T10:40:58.234Z"
   },
   {
    "duration": 184,
    "start_time": "2022-04-10T10:40:58.375Z"
   },
   {
    "duration": 169,
    "start_time": "2022-04-10T10:40:58.561Z"
   },
   {
    "duration": 198,
    "start_time": "2022-04-10T10:40:58.732Z"
   },
   {
    "duration": 14072,
    "start_time": "2022-04-10T10:40:58.932Z"
   },
   {
    "duration": 26,
    "start_time": "2022-04-10T10:41:13.006Z"
   },
   {
    "duration": 130,
    "start_time": "2022-04-10T10:41:13.034Z"
   },
   {
    "duration": 124,
    "start_time": "2022-04-10T10:41:13.170Z"
   },
   {
    "duration": 79949,
    "start_time": "2022-04-10T10:42:40.985Z"
   },
   {
    "duration": 41,
    "start_time": "2022-04-10T10:44:00.936Z"
   },
   {
    "duration": 136,
    "start_time": "2022-04-10T10:44:00.979Z"
   },
   {
    "duration": 139,
    "start_time": "2022-04-10T10:44:01.117Z"
   },
   {
    "duration": 165,
    "start_time": "2022-04-10T10:44:01.258Z"
   },
   {
    "duration": 140,
    "start_time": "2022-04-10T10:44:01.425Z"
   },
   {
    "duration": 8,
    "start_time": "2022-04-10T10:44:01.570Z"
   },
   {
    "duration": 22,
    "start_time": "2022-04-10T10:44:01.579Z"
   },
   {
    "duration": 32,
    "start_time": "2022-04-10T10:44:01.603Z"
   },
   {
    "duration": 258,
    "start_time": "2022-04-10T10:44:01.636Z"
   },
   {
    "duration": 6,
    "start_time": "2022-04-10T10:44:01.896Z"
   },
   {
    "duration": 31,
    "start_time": "2022-04-10T10:44:01.904Z"
   },
   {
    "duration": 13,
    "start_time": "2022-04-10T10:44:01.936Z"
   },
   {
    "duration": 25,
    "start_time": "2022-04-10T10:44:01.951Z"
   },
   {
    "duration": 34,
    "start_time": "2022-04-10T10:44:01.977Z"
   },
   {
    "duration": 25,
    "start_time": "2022-04-10T10:44:02.012Z"
   },
   {
    "duration": 1130,
    "start_time": "2022-09-12T22:16:04.590Z"
   },
   {
    "duration": 5,
    "start_time": "2022-09-12T22:16:05.723Z"
   },
   {
    "duration": 83,
    "start_time": "2022-09-12T22:16:05.730Z"
   },
   {
    "duration": 12,
    "start_time": "2022-09-12T22:16:05.815Z"
   },
   {
    "duration": 19,
    "start_time": "2022-09-12T22:16:05.829Z"
   },
   {
    "duration": 39,
    "start_time": "2022-09-12T22:16:05.849Z"
   },
   {
    "duration": 19,
    "start_time": "2022-09-12T22:16:05.890Z"
   },
   {
    "duration": 19,
    "start_time": "2022-09-12T22:16:05.910Z"
   },
   {
    "duration": 20,
    "start_time": "2022-09-12T22:16:05.931Z"
   },
   {
    "duration": 39,
    "start_time": "2022-09-12T22:16:05.953Z"
   },
   {
    "duration": 4,
    "start_time": "2022-09-12T22:16:05.994Z"
   },
   {
    "duration": 28,
    "start_time": "2022-09-12T22:16:05.999Z"
   },
   {
    "duration": 38,
    "start_time": "2022-09-12T22:16:06.029Z"
   },
   {
    "duration": 24,
    "start_time": "2022-09-12T22:16:06.071Z"
   },
   {
    "duration": 33,
    "start_time": "2022-09-12T22:16:06.097Z"
   },
   {
    "duration": 23,
    "start_time": "2022-09-12T22:16:06.132Z"
   },
   {
    "duration": 32,
    "start_time": "2022-09-12T22:16:06.157Z"
   },
   {
    "duration": 19,
    "start_time": "2022-09-12T22:16:06.192Z"
   },
   {
    "duration": 36,
    "start_time": "2022-09-12T22:16:06.213Z"
   },
   {
    "duration": 5,
    "start_time": "2022-09-12T22:16:06.250Z"
   },
   {
    "duration": 46,
    "start_time": "2022-09-12T22:16:06.257Z"
   },
   {
    "duration": 3,
    "start_time": "2022-09-12T22:16:06.305Z"
   },
   {
    "duration": 23,
    "start_time": "2022-09-12T22:16:06.309Z"
   },
   {
    "duration": 43,
    "start_time": "2022-09-12T22:16:06.334Z"
   },
   {
    "duration": 28,
    "start_time": "2022-09-12T22:16:06.379Z"
   },
   {
    "duration": 31,
    "start_time": "2022-09-12T22:16:06.409Z"
   },
   {
    "duration": 15,
    "start_time": "2022-09-12T22:16:06.441Z"
   },
   {
    "duration": 18,
    "start_time": "2022-09-12T22:16:06.457Z"
   },
   {
    "duration": 18,
    "start_time": "2022-09-12T22:16:06.476Z"
   },
   {
    "duration": 69,
    "start_time": "2022-09-12T22:16:06.496Z"
   },
   {
    "duration": 106,
    "start_time": "2022-09-12T22:16:06.567Z"
   },
   {
    "duration": 8,
    "start_time": "2022-09-12T22:16:06.674Z"
   },
   {
    "duration": 17,
    "start_time": "2022-09-12T22:16:06.684Z"
   },
   {
    "duration": 48,
    "start_time": "2022-09-12T22:16:06.702Z"
   },
   {
    "duration": 28,
    "start_time": "2022-09-12T22:16:06.752Z"
   },
   {
    "duration": 570,
    "start_time": "2022-09-12T22:16:06.781Z"
   },
   {
    "duration": 10,
    "start_time": "2022-09-12T22:16:07.353Z"
   },
   {
    "duration": 143,
    "start_time": "2022-09-12T22:16:07.364Z"
   },
   {
    "duration": 127,
    "start_time": "2022-09-12T22:16:07.508Z"
   },
   {
    "duration": 134,
    "start_time": "2022-09-12T22:16:07.637Z"
   },
   {
    "duration": 150,
    "start_time": "2022-09-12T22:16:07.775Z"
   },
   {
    "duration": 137,
    "start_time": "2022-09-12T22:16:07.927Z"
   },
   {
    "duration": 106,
    "start_time": "2022-09-12T22:16:08.066Z"
   },
   {
    "duration": 196,
    "start_time": "2022-09-12T22:16:08.173Z"
   },
   {
    "duration": 119,
    "start_time": "2022-09-12T22:16:08.370Z"
   },
   {
    "duration": 151,
    "start_time": "2022-09-12T22:16:08.491Z"
   },
   {
    "duration": 198,
    "start_time": "2022-09-12T22:16:08.644Z"
   },
   {
    "duration": 153,
    "start_time": "2022-09-12T22:16:08.844Z"
   },
   {
    "duration": 170,
    "start_time": "2022-09-12T22:16:09.000Z"
   },
   {
    "duration": 15865,
    "start_time": "2022-09-12T22:16:09.172Z"
   },
   {
    "duration": 39,
    "start_time": "2022-09-12T22:16:25.039Z"
   },
   {
    "duration": 161,
    "start_time": "2022-09-12T22:16:25.080Z"
   },
   {
    "duration": 147,
    "start_time": "2022-09-12T22:16:25.242Z"
   },
   {
    "duration": 92441,
    "start_time": "2022-09-12T22:16:25.390Z"
   },
   {
    "duration": 32,
    "start_time": "2022-09-12T22:17:57.833Z"
   },
   {
    "duration": 165,
    "start_time": "2022-09-12T22:17:57.867Z"
   },
   {
    "duration": 166,
    "start_time": "2022-09-12T22:17:58.033Z"
   },
   {
    "duration": 171,
    "start_time": "2022-09-12T22:17:58.201Z"
   },
   {
    "duration": 150,
    "start_time": "2022-09-12T22:17:58.374Z"
   },
   {
    "duration": 9,
    "start_time": "2022-09-12T22:17:58.525Z"
   },
   {
    "duration": 22,
    "start_time": "2022-09-12T22:17:58.535Z"
   },
   {
    "duration": 29,
    "start_time": "2022-09-12T22:17:58.558Z"
   },
   {
    "duration": 315,
    "start_time": "2022-09-12T22:17:58.588Z"
   },
   {
    "duration": 9,
    "start_time": "2022-09-12T22:17:58.904Z"
   },
   {
    "duration": 52,
    "start_time": "2022-09-12T22:17:58.922Z"
   },
   {
    "duration": 18,
    "start_time": "2022-09-12T22:17:58.976Z"
   },
   {
    "duration": 33,
    "start_time": "2022-09-12T22:17:58.997Z"
   },
   {
    "duration": 30,
    "start_time": "2022-09-12T22:17:59.032Z"
   },
   {
    "duration": 32,
    "start_time": "2022-09-12T22:17:59.064Z"
   },
   {
    "duration": 1224,
    "start_time": "2022-09-12T22:17:59.098Z"
   },
   {
    "duration": 104,
    "start_time": "2022-09-12T22:18:00.324Z"
   },
   {
    "duration": 314,
    "start_time": "2022-09-12T22:18:00.429Z"
   },
   {
    "duration": 205,
    "start_time": "2022-09-12T22:18:00.745Z"
   },
   {
    "duration": 290,
    "start_time": "2022-09-12T22:18:00.952Z"
   },
   {
    "duration": 192,
    "start_time": "2022-09-12T22:18:01.243Z"
   },
   {
    "duration": 293,
    "start_time": "2022-09-12T22:18:01.437Z"
   },
   {
    "duration": 302,
    "start_time": "2022-09-12T22:18:01.731Z"
   },
   {
    "duration": 108,
    "start_time": "2022-09-12T22:18:02.035Z"
   },
   {
    "duration": 131,
    "start_time": "2022-09-12T22:18:02.144Z"
   },
   {
    "duration": 5,
    "start_time": "2022-09-12T22:18:02.277Z"
   },
   {
    "duration": 125,
    "start_time": "2022-09-12T22:18:02.284Z"
   },
   {
    "duration": 45,
    "start_time": "2022-09-12T22:18:02.410Z"
   },
   {
    "duration": 8,
    "start_time": "2022-09-12T22:18:02.456Z"
   },
   {
    "duration": 159,
    "start_time": "2022-09-12T22:18:02.465Z"
   },
   {
    "duration": 4,
    "start_time": "2022-09-12T22:18:02.626Z"
   },
   {
    "duration": 4,
    "start_time": "2022-09-12T22:18:02.632Z"
   },
   {
    "duration": 8,
    "start_time": "2022-09-12T22:18:02.638Z"
   },
   {
    "duration": 150,
    "start_time": "2022-09-12T22:18:02.647Z"
   },
   {
    "duration": 162,
    "start_time": "2022-09-12T22:18:02.799Z"
   },
   {
    "duration": 147,
    "start_time": "2022-09-12T22:18:02.963Z"
   }
  ],
  "kernelspec": {
   "display_name": "Python 3 (ipykernel)",
   "language": "python",
   "name": "python3"
  },
  "language_info": {
   "codemirror_mode": {
    "name": "ipython",
    "version": 3
   },
   "file_extension": ".py",
   "mimetype": "text/x-python",
   "name": "python",
   "nbconvert_exporter": "python",
   "pygments_lexer": "ipython3",
   "version": "3.9.7"
  },
  "toc": {
   "base_numbering": 1,
   "nav_menu": {},
   "number_sections": true,
   "sideBar": true,
   "skip_h1_title": true,
   "title_cell": "Содержание",
   "title_sidebar": "Contents",
   "toc_cell": true,
   "toc_position": {
    "height": "calc(100% - 180px)",
    "left": "10px",
    "top": "150px",
    "width": "366.594px"
   },
   "toc_section_display": true,
   "toc_window_display": false
  }
 },
 "nbformat": 4,
 "nbformat_minor": 4
}
