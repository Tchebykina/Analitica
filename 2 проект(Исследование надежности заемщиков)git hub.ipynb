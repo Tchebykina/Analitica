{
 "cells": [
  {
   "cell_type": "markdown",
   "id": "fbe6bf0f",
   "metadata": {},
   "source": [
    "# Исследование надежности заемщиков."
   ]
  },
  {
   "cell_type": "markdown",
   "id": "7c07997b",
   "metadata": {},
   "source": [
    "### Шаг 1. Обзор данных"
   ]
  },
  {
   "cell_type": "code",
   "execution_count": 1,
   "id": "e49d5042",
   "metadata": {
    "scrolled": false
   },
   "outputs": [
    {
     "data": {
      "text/html": [
       "<div>\n",
       "<style scoped>\n",
       "    .dataframe tbody tr th:only-of-type {\n",
       "        vertical-align: middle;\n",
       "    }\n",
       "\n",
       "    .dataframe tbody tr th {\n",
       "        vertical-align: top;\n",
       "    }\n",
       "\n",
       "    .dataframe thead th {\n",
       "        text-align: right;\n",
       "    }\n",
       "</style>\n",
       "<table border=\"1\" class=\"dataframe\">\n",
       "  <thead>\n",
       "    <tr style=\"text-align: right;\">\n",
       "      <th></th>\n",
       "      <th>children</th>\n",
       "      <th>days_employed</th>\n",
       "      <th>dob_years</th>\n",
       "      <th>education</th>\n",
       "      <th>education_id</th>\n",
       "      <th>family_status</th>\n",
       "      <th>family_status_id</th>\n",
       "      <th>gender</th>\n",
       "      <th>income_type</th>\n",
       "      <th>debt</th>\n",
       "      <th>total_income</th>\n",
       "      <th>purpose</th>\n",
       "    </tr>\n",
       "  </thead>\n",
       "  <tbody>\n",
       "    <tr>\n",
       "      <th>0</th>\n",
       "      <td>1</td>\n",
       "      <td>-8437.673028</td>\n",
       "      <td>42</td>\n",
       "      <td>высшее</td>\n",
       "      <td>0</td>\n",
       "      <td>женат / замужем</td>\n",
       "      <td>0</td>\n",
       "      <td>F</td>\n",
       "      <td>сотрудник</td>\n",
       "      <td>0</td>\n",
       "      <td>253875.639453</td>\n",
       "      <td>покупка жилья</td>\n",
       "    </tr>\n",
       "    <tr>\n",
       "      <th>1</th>\n",
       "      <td>1</td>\n",
       "      <td>-4024.803754</td>\n",
       "      <td>36</td>\n",
       "      <td>среднее</td>\n",
       "      <td>1</td>\n",
       "      <td>женат / замужем</td>\n",
       "      <td>0</td>\n",
       "      <td>F</td>\n",
       "      <td>сотрудник</td>\n",
       "      <td>0</td>\n",
       "      <td>112080.014102</td>\n",
       "      <td>приобретение автомобиля</td>\n",
       "    </tr>\n",
       "    <tr>\n",
       "      <th>2</th>\n",
       "      <td>0</td>\n",
       "      <td>-5623.422610</td>\n",
       "      <td>33</td>\n",
       "      <td>Среднее</td>\n",
       "      <td>1</td>\n",
       "      <td>женат / замужем</td>\n",
       "      <td>0</td>\n",
       "      <td>M</td>\n",
       "      <td>сотрудник</td>\n",
       "      <td>0</td>\n",
       "      <td>145885.952297</td>\n",
       "      <td>покупка жилья</td>\n",
       "    </tr>\n",
       "    <tr>\n",
       "      <th>3</th>\n",
       "      <td>3</td>\n",
       "      <td>-4124.747207</td>\n",
       "      <td>32</td>\n",
       "      <td>среднее</td>\n",
       "      <td>1</td>\n",
       "      <td>женат / замужем</td>\n",
       "      <td>0</td>\n",
       "      <td>M</td>\n",
       "      <td>сотрудник</td>\n",
       "      <td>0</td>\n",
       "      <td>267628.550329</td>\n",
       "      <td>дополнительное образование</td>\n",
       "    </tr>\n",
       "    <tr>\n",
       "      <th>4</th>\n",
       "      <td>0</td>\n",
       "      <td>340266.072047</td>\n",
       "      <td>53</td>\n",
       "      <td>среднее</td>\n",
       "      <td>1</td>\n",
       "      <td>гражданский брак</td>\n",
       "      <td>1</td>\n",
       "      <td>F</td>\n",
       "      <td>пенсионер</td>\n",
       "      <td>0</td>\n",
       "      <td>158616.077870</td>\n",
       "      <td>сыграть свадьбу</td>\n",
       "    </tr>\n",
       "    <tr>\n",
       "      <th>5</th>\n",
       "      <td>0</td>\n",
       "      <td>-926.185831</td>\n",
       "      <td>27</td>\n",
       "      <td>высшее</td>\n",
       "      <td>0</td>\n",
       "      <td>гражданский брак</td>\n",
       "      <td>1</td>\n",
       "      <td>M</td>\n",
       "      <td>компаньон</td>\n",
       "      <td>0</td>\n",
       "      <td>255763.565419</td>\n",
       "      <td>покупка жилья</td>\n",
       "    </tr>\n",
       "    <tr>\n",
       "      <th>6</th>\n",
       "      <td>0</td>\n",
       "      <td>-2879.202052</td>\n",
       "      <td>43</td>\n",
       "      <td>высшее</td>\n",
       "      <td>0</td>\n",
       "      <td>женат / замужем</td>\n",
       "      <td>0</td>\n",
       "      <td>F</td>\n",
       "      <td>компаньон</td>\n",
       "      <td>0</td>\n",
       "      <td>240525.971920</td>\n",
       "      <td>операции с жильем</td>\n",
       "    </tr>\n",
       "    <tr>\n",
       "      <th>7</th>\n",
       "      <td>0</td>\n",
       "      <td>-152.779569</td>\n",
       "      <td>50</td>\n",
       "      <td>СРЕДНЕЕ</td>\n",
       "      <td>1</td>\n",
       "      <td>женат / замужем</td>\n",
       "      <td>0</td>\n",
       "      <td>M</td>\n",
       "      <td>сотрудник</td>\n",
       "      <td>0</td>\n",
       "      <td>135823.934197</td>\n",
       "      <td>образование</td>\n",
       "    </tr>\n",
       "    <tr>\n",
       "      <th>8</th>\n",
       "      <td>2</td>\n",
       "      <td>-6929.865299</td>\n",
       "      <td>35</td>\n",
       "      <td>ВЫСШЕЕ</td>\n",
       "      <td>0</td>\n",
       "      <td>гражданский брак</td>\n",
       "      <td>1</td>\n",
       "      <td>F</td>\n",
       "      <td>сотрудник</td>\n",
       "      <td>0</td>\n",
       "      <td>95856.832424</td>\n",
       "      <td>на проведение свадьбы</td>\n",
       "    </tr>\n",
       "    <tr>\n",
       "      <th>9</th>\n",
       "      <td>0</td>\n",
       "      <td>-2188.756445</td>\n",
       "      <td>41</td>\n",
       "      <td>среднее</td>\n",
       "      <td>1</td>\n",
       "      <td>женат / замужем</td>\n",
       "      <td>0</td>\n",
       "      <td>M</td>\n",
       "      <td>сотрудник</td>\n",
       "      <td>0</td>\n",
       "      <td>144425.938277</td>\n",
       "      <td>покупка жилья для семьи</td>\n",
       "    </tr>\n",
       "  </tbody>\n",
       "</table>\n",
       "</div>"
      ],
      "text/plain": [
       "   children  days_employed  dob_years education  education_id  \\\n",
       "0         1   -8437.673028         42    высшее             0   \n",
       "1         1   -4024.803754         36   среднее             1   \n",
       "2         0   -5623.422610         33   Среднее             1   \n",
       "3         3   -4124.747207         32   среднее             1   \n",
       "4         0  340266.072047         53   среднее             1   \n",
       "5         0    -926.185831         27    высшее             0   \n",
       "6         0   -2879.202052         43    высшее             0   \n",
       "7         0    -152.779569         50   СРЕДНЕЕ             1   \n",
       "8         2   -6929.865299         35    ВЫСШЕЕ             0   \n",
       "9         0   -2188.756445         41   среднее             1   \n",
       "\n",
       "      family_status  family_status_id gender income_type  debt   total_income  \\\n",
       "0   женат / замужем                 0      F   сотрудник     0  253875.639453   \n",
       "1   женат / замужем                 0      F   сотрудник     0  112080.014102   \n",
       "2   женат / замужем                 0      M   сотрудник     0  145885.952297   \n",
       "3   женат / замужем                 0      M   сотрудник     0  267628.550329   \n",
       "4  гражданский брак                 1      F   пенсионер     0  158616.077870   \n",
       "5  гражданский брак                 1      M   компаньон     0  255763.565419   \n",
       "6   женат / замужем                 0      F   компаньон     0  240525.971920   \n",
       "7   женат / замужем                 0      M   сотрудник     0  135823.934197   \n",
       "8  гражданский брак                 1      F   сотрудник     0   95856.832424   \n",
       "9   женат / замужем                 0      M   сотрудник     0  144425.938277   \n",
       "\n",
       "                      purpose  \n",
       "0               покупка жилья  \n",
       "1     приобретение автомобиля  \n",
       "2               покупка жилья  \n",
       "3  дополнительное образование  \n",
       "4             сыграть свадьбу  \n",
       "5               покупка жилья  \n",
       "6           операции с жильем  \n",
       "7                 образование  \n",
       "8       на проведение свадьбы  \n",
       "9     покупка жилья для семьи  "
      ]
     },
     "execution_count": 1,
     "metadata": {},
     "output_type": "execute_result"
    }
   ],
   "source": [
    "import pandas as pd\n",
    "data = pd.read_csv('/datasets/data.csv')\n",
    "data.head(10)"
   ]
  },
  {
   "cell_type": "code",
   "execution_count": 2,
   "id": "c3f8c81e",
   "metadata": {},
   "outputs": [
    {
     "name": "stdout",
     "output_type": "stream",
     "text": [
      "<class 'pandas.core.frame.DataFrame'>\n",
      "RangeIndex: 21525 entries, 0 to 21524\n",
      "Data columns (total 12 columns):\n",
      " #   Column            Non-Null Count  Dtype  \n",
      "---  ------            --------------  -----  \n",
      " 0   children          21525 non-null  int64  \n",
      " 1   days_employed     19351 non-null  float64\n",
      " 2   dob_years         21525 non-null  int64  \n",
      " 3   education         21525 non-null  object \n",
      " 4   education_id      21525 non-null  int64  \n",
      " 5   family_status     21525 non-null  object \n",
      " 6   family_status_id  21525 non-null  int64  \n",
      " 7   gender            21525 non-null  object \n",
      " 8   income_type       21525 non-null  object \n",
      " 9   debt              21525 non-null  int64  \n",
      " 10  total_income      19351 non-null  float64\n",
      " 11  purpose           21525 non-null  object \n",
      "dtypes: float64(2), int64(5), object(5)\n",
      "memory usage: 2.0+ MB\n"
     ]
    }
   ],
   "source": [
    "data.info()\n"
   ]
  },
  {
   "cell_type": "markdown",
   "id": "a11171ec",
   "metadata": {},
   "source": [
    "Отсутствуют значения только в столбцах 'days_employed' и 'total_income'.\n",
    "Столбцам 'days_employed' и 'total_income' стоит присвоить целочисленные значения (текущая точность нам не нужна)\n",
    "Получим общую информацию:"
   ]
  },
  {
   "cell_type": "markdown",
   "id": "30c91f5a",
   "metadata": {},
   "source": [
    "Проверим, это одни и те же строки, где отсутствуют данные по обоим столбцам ('days_employed' и 'total_income') или нет."
   ]
  },
  {
   "cell_type": "code",
   "execution_count": 3,
   "id": "48ebf223",
   "metadata": {},
   "outputs": [
    {
     "name": "stdout",
     "output_type": "stream",
     "text": [
      "<class 'pandas.core.frame.DataFrame'>\n",
      "Int64Index: 2174 entries, 12 to 21510\n",
      "Data columns (total 12 columns):\n",
      " #   Column            Non-Null Count  Dtype  \n",
      "---  ------            --------------  -----  \n",
      " 0   children          2174 non-null   int64  \n",
      " 1   days_employed     0 non-null      float64\n",
      " 2   dob_years         2174 non-null   int64  \n",
      " 3   education         2174 non-null   object \n",
      " 4   education_id      2174 non-null   int64  \n",
      " 5   family_status     2174 non-null   object \n",
      " 6   family_status_id  2174 non-null   int64  \n",
      " 7   gender            2174 non-null   object \n",
      " 8   income_type       2174 non-null   object \n",
      " 9   debt              2174 non-null   int64  \n",
      " 10  total_income      0 non-null      float64\n",
      " 11  purpose           2174 non-null   object \n",
      "dtypes: float64(2), int64(5), object(5)\n",
      "memory usage: 220.8+ KB\n"
     ]
    }
   ],
   "source": [
    "data[(data['total_income'].isnull() == True) & (data['days_employed'].isnull() == True)].info()"
   ]
  },
  {
   "cell_type": "markdown",
   "id": "487bf195",
   "metadata": {},
   "source": [
    "Предположение подтвердилось - в строках, где отсутствуют данные в столбце 'days_employed', отсутствуют данные и по 'total_income'.\n",
    "Проверим, из разных ли это профессий люди (если из одной, то можно будет заполнить NaN средним по этой группе)."
   ]
  },
  {
   "cell_type": "code",
   "execution_count": 4,
   "id": "2b326e66",
   "metadata": {},
   "outputs": [
    {
     "data": {
      "text/plain": [
       "сотрудник          1105\n",
       "компаньон           508\n",
       "пенсионер           413\n",
       "госслужащий         147\n",
       "предприниматель       1\n",
       "Name: income_type, dtype: int64"
      ]
     },
     "execution_count": 4,
     "metadata": {},
     "output_type": "execute_result"
    }
   ],
   "source": [
    "data[(data['total_income'].isnull() == True) & (data['days_employed'].isnull() == True)]['income_type'].value_counts()"
   ]
  },
  {
   "cell_type": "markdown",
   "id": "2dfcd4f4",
   "metadata": {},
   "source": [
    "Из разных. Значит, взять среднее по одной группе профессий ('income_type') уже нельзя, будем заполнять NaN по медиане из каждой группы."
   ]
  },
  {
   "cell_type": "code",
   "execution_count": 5,
   "id": "5a982cae",
   "metadata": {},
   "outputs": [
    {
     "name": "stdout",
     "output_type": "stream",
     "text": [
      "0.10099883855981417\n"
     ]
    }
   ],
   "source": [
    "#Найдем долю пропущенных значений в 'days_employed'\n",
    "total_lines_days_employed = len(data['days_employed'].axes[0])\n",
    "total_values_days_employed = data['days_employed'].count()\n",
    "conversion_days_employed = (total_lines_days_employed - total_values_days_employed) / total_lines_days_employed\n",
    "print(conversion_days_employed)"
   ]
  },
  {
   "cell_type": "code",
   "execution_count": 6,
   "id": "40a4634c",
   "metadata": {},
   "outputs": [
    {
     "name": "stdout",
     "output_type": "stream",
     "text": [
      "0.10099883855981417\n"
     ]
    }
   ],
   "source": [
    "#Найдем долю пропущенных значений в 'total_income'\n",
    "total_lines_total_income = len(data['total_income'].axes[0])\n",
    "total_values_total_income = data['total_income'].count()\n",
    "conversion_total_income = (total_lines_total_income - total_values_total_income)/total_lines_total_income\n",
    "print(conversion_total_income)"
   ]
  },
  {
   "cell_type": "code",
   "execution_count": 7,
   "id": "ed5c4812",
   "metadata": {},
   "outputs": [],
   "source": [
    "#Заполним пропуски 'total_income'\n",
    "median_for_total_income = data.pivot_table(index='income_type',  values = 'total_income',  aggfunc='median')\n",
    "data['median_total_income'] = data.apply(lambda row: median_for_total_income['total_income'][row['income_type']], axis=1)\n",
    "data['total_income'] =data['total_income'].fillna(data['median_total_income'])\n",
    "\n"
   ]
  },
  {
   "cell_type": "code",
   "execution_count": 8,
   "id": "629a5622",
   "metadata": {},
   "outputs": [],
   "source": [
    "#Заполним пропуски 'days_employed'\n",
    "median_for_days_employed = data.pivot_table(index='income_type',  values = 'days_employed',  aggfunc='median')\n",
    "data['median_days_employed'] = data.apply(lambda row: median_for_days_employed['days_employed'][row['income_type']], axis=1)\n",
    "data['days_employed'] =data['days_employed'].fillna(data['median_days_employed'])"
   ]
  },
  {
   "cell_type": "code",
   "execution_count": 9,
   "id": "9b4a0987",
   "metadata": {},
   "outputs": [
    {
     "name": "stdout",
     "output_type": "stream",
     "text": [
      "<class 'pandas.core.frame.DataFrame'>\n",
      "RangeIndex: 21525 entries, 0 to 21524\n",
      "Data columns (total 14 columns):\n",
      " #   Column                Non-Null Count  Dtype  \n",
      "---  ------                --------------  -----  \n",
      " 0   children              21525 non-null  int64  \n",
      " 1   days_employed         21525 non-null  float64\n",
      " 2   dob_years             21525 non-null  int64  \n",
      " 3   education             21525 non-null  object \n",
      " 4   education_id          21525 non-null  int64  \n",
      " 5   family_status         21525 non-null  object \n",
      " 6   family_status_id      21525 non-null  int64  \n",
      " 7   gender                21525 non-null  object \n",
      " 8   income_type           21525 non-null  object \n",
      " 9   debt                  21525 non-null  int64  \n",
      " 10  total_income          21525 non-null  float64\n",
      " 11  purpose               21525 non-null  object \n",
      " 12  median_total_income   21525 non-null  float64\n",
      " 13  median_days_employed  21525 non-null  float64\n",
      "dtypes: float64(4), int64(5), object(5)\n",
      "memory usage: 2.3+ MB\n"
     ]
    }
   ],
   "source": [
    "data.info()"
   ]
  },
  {
   "cell_type": "markdown",
   "id": "17946798",
   "metadata": {},
   "source": [
    "данные могут отсутствовать так как не все пишут свои доходы, хотя это кредит. а данные отсутствия трудового стажа, тк может быть новая трудовая книжка.\n"
   ]
  },
  {
   "cell_type": "markdown",
   "id": "42b5cbab",
   "metadata": {},
   "source": [
    "Трудовой стаж и ежемесячный доход это количественные переменные.Пропуски в таких переменных заполняют характерными значениями.\n",
    "чтобы примерно оценить типичные значения выборки годится медиана или средне арифметическое. Нам больше подходит медиана, так как \n",
    "некорректно считать по среднеарифметическому средний стаж и доход."
   ]
  },
  {
   "cell_type": "markdown",
   "id": "a4ebb34b",
   "metadata": {},
   "source": [
    "### Шаг 2.2. Проверка данных на аномалии и исправления. \n",
    " "
   ]
  },
  {
   "cell_type": "markdown",
   "id": "23822cb3",
   "metadata": {},
   "source": [
    " Мы видим что при первом выводе значения в столбце 'days_employed' отрицательные, исправим это\n"
   ]
  },
  {
   "cell_type": "code",
   "execution_count": 10,
   "id": "298fc1df",
   "metadata": {},
   "outputs": [
    {
     "data": {
      "text/html": [
       "<div>\n",
       "<style scoped>\n",
       "    .dataframe tbody tr th:only-of-type {\n",
       "        vertical-align: middle;\n",
       "    }\n",
       "\n",
       "    .dataframe tbody tr th {\n",
       "        vertical-align: top;\n",
       "    }\n",
       "\n",
       "    .dataframe thead th {\n",
       "        text-align: right;\n",
       "    }\n",
       "</style>\n",
       "<table border=\"1\" class=\"dataframe\">\n",
       "  <thead>\n",
       "    <tr style=\"text-align: right;\">\n",
       "      <th></th>\n",
       "      <th>children</th>\n",
       "      <th>days_employed</th>\n",
       "      <th>dob_years</th>\n",
       "      <th>education</th>\n",
       "      <th>education_id</th>\n",
       "      <th>family_status</th>\n",
       "      <th>family_status_id</th>\n",
       "      <th>gender</th>\n",
       "      <th>income_type</th>\n",
       "      <th>debt</th>\n",
       "      <th>total_income</th>\n",
       "      <th>purpose</th>\n",
       "      <th>median_total_income</th>\n",
       "      <th>median_days_employed</th>\n",
       "    </tr>\n",
       "  </thead>\n",
       "  <tbody>\n",
       "    <tr>\n",
       "      <th>0</th>\n",
       "      <td>1</td>\n",
       "      <td>8437.673028</td>\n",
       "      <td>42</td>\n",
       "      <td>высшее</td>\n",
       "      <td>0</td>\n",
       "      <td>женат / замужем</td>\n",
       "      <td>0</td>\n",
       "      <td>F</td>\n",
       "      <td>сотрудник</td>\n",
       "      <td>0</td>\n",
       "      <td>253875.639453</td>\n",
       "      <td>покупка жилья</td>\n",
       "      <td>142594.396847</td>\n",
       "      <td>-1574.202821</td>\n",
       "    </tr>\n",
       "    <tr>\n",
       "      <th>1</th>\n",
       "      <td>1</td>\n",
       "      <td>4024.803754</td>\n",
       "      <td>36</td>\n",
       "      <td>среднее</td>\n",
       "      <td>1</td>\n",
       "      <td>женат / замужем</td>\n",
       "      <td>0</td>\n",
       "      <td>F</td>\n",
       "      <td>сотрудник</td>\n",
       "      <td>0</td>\n",
       "      <td>112080.014102</td>\n",
       "      <td>приобретение автомобиля</td>\n",
       "      <td>142594.396847</td>\n",
       "      <td>-1574.202821</td>\n",
       "    </tr>\n",
       "    <tr>\n",
       "      <th>2</th>\n",
       "      <td>0</td>\n",
       "      <td>5623.422610</td>\n",
       "      <td>33</td>\n",
       "      <td>Среднее</td>\n",
       "      <td>1</td>\n",
       "      <td>женат / замужем</td>\n",
       "      <td>0</td>\n",
       "      <td>M</td>\n",
       "      <td>сотрудник</td>\n",
       "      <td>0</td>\n",
       "      <td>145885.952297</td>\n",
       "      <td>покупка жилья</td>\n",
       "      <td>142594.396847</td>\n",
       "      <td>-1574.202821</td>\n",
       "    </tr>\n",
       "    <tr>\n",
       "      <th>3</th>\n",
       "      <td>3</td>\n",
       "      <td>4124.747207</td>\n",
       "      <td>32</td>\n",
       "      <td>среднее</td>\n",
       "      <td>1</td>\n",
       "      <td>женат / замужем</td>\n",
       "      <td>0</td>\n",
       "      <td>M</td>\n",
       "      <td>сотрудник</td>\n",
       "      <td>0</td>\n",
       "      <td>267628.550329</td>\n",
       "      <td>дополнительное образование</td>\n",
       "      <td>142594.396847</td>\n",
       "      <td>-1574.202821</td>\n",
       "    </tr>\n",
       "    <tr>\n",
       "      <th>4</th>\n",
       "      <td>0</td>\n",
       "      <td>340266.072047</td>\n",
       "      <td>53</td>\n",
       "      <td>среднее</td>\n",
       "      <td>1</td>\n",
       "      <td>гражданский брак</td>\n",
       "      <td>1</td>\n",
       "      <td>F</td>\n",
       "      <td>пенсионер</td>\n",
       "      <td>0</td>\n",
       "      <td>158616.077870</td>\n",
       "      <td>сыграть свадьбу</td>\n",
       "      <td>118514.486412</td>\n",
       "      <td>365213.306266</td>\n",
       "    </tr>\n",
       "  </tbody>\n",
       "</table>\n",
       "</div>"
      ],
      "text/plain": [
       "   children  days_employed  dob_years education  education_id  \\\n",
       "0         1    8437.673028         42    высшее             0   \n",
       "1         1    4024.803754         36   среднее             1   \n",
       "2         0    5623.422610         33   Среднее             1   \n",
       "3         3    4124.747207         32   среднее             1   \n",
       "4         0  340266.072047         53   среднее             1   \n",
       "\n",
       "      family_status  family_status_id gender income_type  debt   total_income  \\\n",
       "0   женат / замужем                 0      F   сотрудник     0  253875.639453   \n",
       "1   женат / замужем                 0      F   сотрудник     0  112080.014102   \n",
       "2   женат / замужем                 0      M   сотрудник     0  145885.952297   \n",
       "3   женат / замужем                 0      M   сотрудник     0  267628.550329   \n",
       "4  гражданский брак                 1      F   пенсионер     0  158616.077870   \n",
       "\n",
       "                      purpose  median_total_income  median_days_employed  \n",
       "0               покупка жилья        142594.396847          -1574.202821  \n",
       "1     приобретение автомобиля        142594.396847          -1574.202821  \n",
       "2               покупка жилья        142594.396847          -1574.202821  \n",
       "3  дополнительное образование        142594.396847          -1574.202821  \n",
       "4             сыграть свадьбу        118514.486412         365213.306266  "
      ]
     },
     "execution_count": 10,
     "metadata": {},
     "output_type": "execute_result"
    }
   ],
   "source": [
    "#Берем значения по 'days_employed'по модулю.\n",
    "data['days_employed'] = data['days_employed'].abs()\n",
    "data.head(5)"
   ]
  },
  {
   "cell_type": "code",
   "execution_count": 11,
   "id": "86ced4f2",
   "metadata": {},
   "outputs": [
    {
     "name": "stdout",
     "output_type": "stream",
     "text": [
      "[ 1  0  3  2 -1  4 20  5]\n"
     ]
    }
   ],
   "source": [
    "#Выведем уникальные значения по столбцу 'children'\n",
    "print(data['children'].unique())"
   ]
  },
  {
   "cell_type": "markdown",
   "id": "e71af0a4",
   "metadata": {},
   "source": [
    "Мы видим странные значения -1 ребенок и 20 детей, которые явно появились по какой-то ошибке. Исправим это."
   ]
  },
  {
   "cell_type": "code",
   "execution_count": 12,
   "id": "443395eb",
   "metadata": {
    "scrolled": true
   },
   "outputs": [
    {
     "name": "stdout",
     "output_type": "stream",
     "text": [
      "Количество строк с 'children' -1 - 47\n",
      "Количество строк с 'children' 20 - 76\n"
     ]
    }
   ],
   "source": [
    "#Посмотрим какое количество этих значений\n",
    "print(\"Количество строк с 'children' -1 -\", data[data['children'] == -1].count()[0])\n",
    "print(\"Количество строк с 'children' 20 -\", data[data['children'] == 20].count()[0])"
   ]
  },
  {
   "cell_type": "markdown",
   "id": "47f2a88c",
   "metadata": {},
   "source": [
    "Всего 47 строк со значением по количеству детей равному \"-1\", изменим на \"0\".\n",
    "Те, у кого 20 детей, впоследствии отнесен к многодетным (>2 детей)."
   ]
  },
  {
   "cell_type": "code",
   "execution_count": 13,
   "id": "e79ffd37",
   "metadata": {},
   "outputs": [],
   "source": [
    "#Заменим данные с -1 на 0\n",
    "data['children'] = data['children'].replace(-1, 0)"
   ]
  },
  {
   "cell_type": "code",
   "execution_count": 14,
   "id": "a933664e",
   "metadata": {},
   "outputs": [
    {
     "name": "stdout",
     "output_type": "stream",
     "text": [
      "[ 1  0  3  2  4 20  5]\n"
     ]
    }
   ],
   "source": [
    "print(data['children'].unique())"
   ]
  },
  {
   "cell_type": "code",
   "execution_count": 15,
   "id": "ea75aac2",
   "metadata": {},
   "outputs": [
    {
     "name": "stdout",
     "output_type": "stream",
     "text": [
      "[42 36 33 32 53 27 43 50 35 41 40 65 54 56 26 48 24 21 57 67 28 63 62 47\n",
      " 34 68 25 31 30 20 49 37 45 61 64 44 52 46 23 38 39 51  0 59 29 60 55 58\n",
      " 71 22 73 66 69 19 72 70 74 75]\n"
     ]
    }
   ],
   "source": [
    "#Выведем уникальные значения по столбцу 'dob_years'\n",
    "print(data['dob_years'].unique())"
   ]
  },
  {
   "cell_type": "markdown",
   "id": "eabc5efb",
   "metadata": {},
   "source": [
    "Мы видим странные значения: нулевой возраст по некоторым строкам 'dob_years'.\n",
    "Обработаем эти значения"
   ]
  },
  {
   "cell_type": "code",
   "execution_count": 16,
   "id": "fc016f1a",
   "metadata": {},
   "outputs": [
    {
     "name": "stdout",
     "output_type": "stream",
     "text": [
      "Количество строк с 'dob_years' 0 - 101\n"
     ]
    }
   ],
   "source": [
    "## смотрим количество нулей по возрасту (столбец 'dob_years')\n",
    "print(\"Количество строк с 'dob_years' 0 -\", data[data['dob_years'] == 0].count()[0])"
   ]
  },
  {
   "cell_type": "code",
   "execution_count": 17,
   "id": "39fa9cd1",
   "metadata": {},
   "outputs": [],
   "source": [
    "#Заполним значения медианой по группе\n",
    "age = data['dob_years'].median()\n",
    "data=data.replace({'dob_years': {0: age}})"
   ]
  },
  {
   "cell_type": "code",
   "execution_count": 18,
   "id": "7237bd55",
   "metadata": {},
   "outputs": [
    {
     "name": "stdout",
     "output_type": "stream",
     "text": [
      "19.0\n"
     ]
    }
   ],
   "source": [
    "#Убедимся что все заемщики совершеннолетнии, выведем минимальный возраст в группе\n",
    "print(data['dob_years'].min())"
   ]
  },
  {
   "cell_type": "markdown",
   "id": "e8119df8",
   "metadata": {},
   "source": [
    "### Шаг 2.3. Изменение типов данных."
   ]
  },
  {
   "cell_type": "code",
   "execution_count": 19,
   "id": "279810de",
   "metadata": {},
   "outputs": [
    {
     "data": {
      "text/html": [
       "<div>\n",
       "<style scoped>\n",
       "    .dataframe tbody tr th:only-of-type {\n",
       "        vertical-align: middle;\n",
       "    }\n",
       "\n",
       "    .dataframe tbody tr th {\n",
       "        vertical-align: top;\n",
       "    }\n",
       "\n",
       "    .dataframe thead th {\n",
       "        text-align: right;\n",
       "    }\n",
       "</style>\n",
       "<table border=\"1\" class=\"dataframe\">\n",
       "  <thead>\n",
       "    <tr style=\"text-align: right;\">\n",
       "      <th></th>\n",
       "      <th>children</th>\n",
       "      <th>days_employed</th>\n",
       "      <th>dob_years</th>\n",
       "      <th>education</th>\n",
       "      <th>education_id</th>\n",
       "      <th>family_status</th>\n",
       "      <th>family_status_id</th>\n",
       "      <th>gender</th>\n",
       "      <th>income_type</th>\n",
       "      <th>debt</th>\n",
       "      <th>total_income</th>\n",
       "      <th>purpose</th>\n",
       "      <th>median_total_income</th>\n",
       "      <th>median_days_employed</th>\n",
       "    </tr>\n",
       "  </thead>\n",
       "  <tbody>\n",
       "    <tr>\n",
       "      <th>0</th>\n",
       "      <td>1</td>\n",
       "      <td>8437</td>\n",
       "      <td>42.0</td>\n",
       "      <td>высшее</td>\n",
       "      <td>0</td>\n",
       "      <td>женат / замужем</td>\n",
       "      <td>0</td>\n",
       "      <td>F</td>\n",
       "      <td>сотрудник</td>\n",
       "      <td>0</td>\n",
       "      <td>253875.639453</td>\n",
       "      <td>покупка жилья</td>\n",
       "      <td>142594.396847</td>\n",
       "      <td>-1574.202821</td>\n",
       "    </tr>\n",
       "    <tr>\n",
       "      <th>1</th>\n",
       "      <td>1</td>\n",
       "      <td>4024</td>\n",
       "      <td>36.0</td>\n",
       "      <td>среднее</td>\n",
       "      <td>1</td>\n",
       "      <td>женат / замужем</td>\n",
       "      <td>0</td>\n",
       "      <td>F</td>\n",
       "      <td>сотрудник</td>\n",
       "      <td>0</td>\n",
       "      <td>112080.014102</td>\n",
       "      <td>приобретение автомобиля</td>\n",
       "      <td>142594.396847</td>\n",
       "      <td>-1574.202821</td>\n",
       "    </tr>\n",
       "    <tr>\n",
       "      <th>2</th>\n",
       "      <td>0</td>\n",
       "      <td>5623</td>\n",
       "      <td>33.0</td>\n",
       "      <td>Среднее</td>\n",
       "      <td>1</td>\n",
       "      <td>женат / замужем</td>\n",
       "      <td>0</td>\n",
       "      <td>M</td>\n",
       "      <td>сотрудник</td>\n",
       "      <td>0</td>\n",
       "      <td>145885.952297</td>\n",
       "      <td>покупка жилья</td>\n",
       "      <td>142594.396847</td>\n",
       "      <td>-1574.202821</td>\n",
       "    </tr>\n",
       "    <tr>\n",
       "      <th>3</th>\n",
       "      <td>3</td>\n",
       "      <td>4124</td>\n",
       "      <td>32.0</td>\n",
       "      <td>среднее</td>\n",
       "      <td>1</td>\n",
       "      <td>женат / замужем</td>\n",
       "      <td>0</td>\n",
       "      <td>M</td>\n",
       "      <td>сотрудник</td>\n",
       "      <td>0</td>\n",
       "      <td>267628.550329</td>\n",
       "      <td>дополнительное образование</td>\n",
       "      <td>142594.396847</td>\n",
       "      <td>-1574.202821</td>\n",
       "    </tr>\n",
       "    <tr>\n",
       "      <th>4</th>\n",
       "      <td>0</td>\n",
       "      <td>340266</td>\n",
       "      <td>53.0</td>\n",
       "      <td>среднее</td>\n",
       "      <td>1</td>\n",
       "      <td>гражданский брак</td>\n",
       "      <td>1</td>\n",
       "      <td>F</td>\n",
       "      <td>пенсионер</td>\n",
       "      <td>0</td>\n",
       "      <td>158616.077870</td>\n",
       "      <td>сыграть свадьбу</td>\n",
       "      <td>118514.486412</td>\n",
       "      <td>365213.306266</td>\n",
       "    </tr>\n",
       "  </tbody>\n",
       "</table>\n",
       "</div>"
      ],
      "text/plain": [
       "   children  days_employed  dob_years education  education_id  \\\n",
       "0         1           8437       42.0    высшее             0   \n",
       "1         1           4024       36.0   среднее             1   \n",
       "2         0           5623       33.0   Среднее             1   \n",
       "3         3           4124       32.0   среднее             1   \n",
       "4         0         340266       53.0   среднее             1   \n",
       "\n",
       "      family_status  family_status_id gender income_type  debt   total_income  \\\n",
       "0   женат / замужем                 0      F   сотрудник     0  253875.639453   \n",
       "1   женат / замужем                 0      F   сотрудник     0  112080.014102   \n",
       "2   женат / замужем                 0      M   сотрудник     0  145885.952297   \n",
       "3   женат / замужем                 0      M   сотрудник     0  267628.550329   \n",
       "4  гражданский брак                 1      F   пенсионер     0  158616.077870   \n",
       "\n",
       "                      purpose  median_total_income  median_days_employed  \n",
       "0               покупка жилья        142594.396847          -1574.202821  \n",
       "1     приобретение автомобиля        142594.396847          -1574.202821  \n",
       "2               покупка жилья        142594.396847          -1574.202821  \n",
       "3  дополнительное образование        142594.396847          -1574.202821  \n",
       "4             сыграть свадьбу        118514.486412         365213.306266  "
      ]
     },
     "execution_count": 19,
     "metadata": {},
     "output_type": "execute_result"
    }
   ],
   "source": [
    "data['days_employed']=data['days_employed'].astype('int')\n",
    "data.head()"
   ]
  },
  {
   "cell_type": "markdown",
   "id": "d46d1087",
   "metadata": {},
   "source": [
    "### Шаг 2.4. Удаление дубликатов."
   ]
  },
  {
   "cell_type": "code",
   "execution_count": 20,
   "id": "ccca728c",
   "metadata": {},
   "outputs": [
    {
     "data": {
      "text/plain": [
       "55"
      ]
     },
     "execution_count": 20,
     "metadata": {},
     "output_type": "execute_result"
    }
   ],
   "source": [
    "data.duplicated().sum()"
   ]
  },
  {
   "cell_type": "code",
   "execution_count": 21,
   "id": "4c38f955",
   "metadata": {},
   "outputs": [
    {
     "data": {
      "text/html": [
       "<div>\n",
       "<style scoped>\n",
       "    .dataframe tbody tr th:only-of-type {\n",
       "        vertical-align: middle;\n",
       "    }\n",
       "\n",
       "    .dataframe tbody tr th {\n",
       "        vertical-align: top;\n",
       "    }\n",
       "\n",
       "    .dataframe thead th {\n",
       "        text-align: right;\n",
       "    }\n",
       "</style>\n",
       "<table border=\"1\" class=\"dataframe\">\n",
       "  <thead>\n",
       "    <tr style=\"text-align: right;\">\n",
       "      <th></th>\n",
       "      <th>children</th>\n",
       "      <th>days_employed</th>\n",
       "      <th>dob_years</th>\n",
       "      <th>education</th>\n",
       "      <th>education_id</th>\n",
       "      <th>family_status</th>\n",
       "      <th>family_status_id</th>\n",
       "      <th>gender</th>\n",
       "      <th>income_type</th>\n",
       "      <th>debt</th>\n",
       "      <th>total_income</th>\n",
       "      <th>purpose</th>\n",
       "      <th>median_total_income</th>\n",
       "      <th>median_days_employed</th>\n",
       "    </tr>\n",
       "  </thead>\n",
       "  <tbody>\n",
       "    <tr>\n",
       "      <th>1005</th>\n",
       "      <td>0</td>\n",
       "      <td>365213</td>\n",
       "      <td>62.0</td>\n",
       "      <td>среднее</td>\n",
       "      <td>1</td>\n",
       "      <td>женат / замужем</td>\n",
       "      <td>0</td>\n",
       "      <td>F</td>\n",
       "      <td>пенсионер</td>\n",
       "      <td>0</td>\n",
       "      <td>118514.486412</td>\n",
       "      <td>ремонт жилью</td>\n",
       "      <td>118514.486412</td>\n",
       "      <td>365213.306266</td>\n",
       "    </tr>\n",
       "    <tr>\n",
       "      <th>1191</th>\n",
       "      <td>0</td>\n",
       "      <td>365213</td>\n",
       "      <td>61.0</td>\n",
       "      <td>среднее</td>\n",
       "      <td>1</td>\n",
       "      <td>женат / замужем</td>\n",
       "      <td>0</td>\n",
       "      <td>F</td>\n",
       "      <td>пенсионер</td>\n",
       "      <td>0</td>\n",
       "      <td>118514.486412</td>\n",
       "      <td>операции с недвижимостью</td>\n",
       "      <td>118514.486412</td>\n",
       "      <td>365213.306266</td>\n",
       "    </tr>\n",
       "    <tr>\n",
       "      <th>1511</th>\n",
       "      <td>0</td>\n",
       "      <td>365213</td>\n",
       "      <td>58.0</td>\n",
       "      <td>высшее</td>\n",
       "      <td>0</td>\n",
       "      <td>Не женат / не замужем</td>\n",
       "      <td>4</td>\n",
       "      <td>F</td>\n",
       "      <td>пенсионер</td>\n",
       "      <td>0</td>\n",
       "      <td>118514.486412</td>\n",
       "      <td>дополнительное образование</td>\n",
       "      <td>118514.486412</td>\n",
       "      <td>365213.306266</td>\n",
       "    </tr>\n",
       "    <tr>\n",
       "      <th>1681</th>\n",
       "      <td>0</td>\n",
       "      <td>365213</td>\n",
       "      <td>57.0</td>\n",
       "      <td>среднее</td>\n",
       "      <td>1</td>\n",
       "      <td>гражданский брак</td>\n",
       "      <td>1</td>\n",
       "      <td>F</td>\n",
       "      <td>пенсионер</td>\n",
       "      <td>0</td>\n",
       "      <td>118514.486412</td>\n",
       "      <td>на проведение свадьбы</td>\n",
       "      <td>118514.486412</td>\n",
       "      <td>365213.306266</td>\n",
       "    </tr>\n",
       "    <tr>\n",
       "      <th>2052</th>\n",
       "      <td>0</td>\n",
       "      <td>365213</td>\n",
       "      <td>58.0</td>\n",
       "      <td>среднее</td>\n",
       "      <td>1</td>\n",
       "      <td>гражданский брак</td>\n",
       "      <td>1</td>\n",
       "      <td>F</td>\n",
       "      <td>пенсионер</td>\n",
       "      <td>0</td>\n",
       "      <td>118514.486412</td>\n",
       "      <td>сыграть свадьбу</td>\n",
       "      <td>118514.486412</td>\n",
       "      <td>365213.306266</td>\n",
       "    </tr>\n",
       "    <tr>\n",
       "      <th>...</th>\n",
       "      <td>...</td>\n",
       "      <td>...</td>\n",
       "      <td>...</td>\n",
       "      <td>...</td>\n",
       "      <td>...</td>\n",
       "      <td>...</td>\n",
       "      <td>...</td>\n",
       "      <td>...</td>\n",
       "      <td>...</td>\n",
       "      <td>...</td>\n",
       "      <td>...</td>\n",
       "      <td>...</td>\n",
       "      <td>...</td>\n",
       "      <td>...</td>\n",
       "    </tr>\n",
       "    <tr>\n",
       "      <th>10697</th>\n",
       "      <td>0</td>\n",
       "      <td>1547</td>\n",
       "      <td>40.0</td>\n",
       "      <td>среднее</td>\n",
       "      <td>1</td>\n",
       "      <td>гражданский брак</td>\n",
       "      <td>1</td>\n",
       "      <td>F</td>\n",
       "      <td>компаньон</td>\n",
       "      <td>0</td>\n",
       "      <td>172357.950966</td>\n",
       "      <td>сыграть свадьбу</td>\n",
       "      <td>172357.950966</td>\n",
       "      <td>-1547.382223</td>\n",
       "    </tr>\n",
       "    <tr>\n",
       "      <th>13878</th>\n",
       "      <td>1</td>\n",
       "      <td>1547</td>\n",
       "      <td>31.0</td>\n",
       "      <td>среднее</td>\n",
       "      <td>1</td>\n",
       "      <td>женат / замужем</td>\n",
       "      <td>0</td>\n",
       "      <td>F</td>\n",
       "      <td>компаньон</td>\n",
       "      <td>0</td>\n",
       "      <td>172357.950966</td>\n",
       "      <td>покупка жилья</td>\n",
       "      <td>172357.950966</td>\n",
       "      <td>-1547.382223</td>\n",
       "    </tr>\n",
       "    <tr>\n",
       "      <th>17379</th>\n",
       "      <td>0</td>\n",
       "      <td>1547</td>\n",
       "      <td>54.0</td>\n",
       "      <td>высшее</td>\n",
       "      <td>0</td>\n",
       "      <td>женат / замужем</td>\n",
       "      <td>0</td>\n",
       "      <td>M</td>\n",
       "      <td>компаньон</td>\n",
       "      <td>0</td>\n",
       "      <td>172357.950966</td>\n",
       "      <td>операции с коммерческой недвижимостью</td>\n",
       "      <td>172357.950966</td>\n",
       "      <td>-1547.382223</td>\n",
       "    </tr>\n",
       "    <tr>\n",
       "      <th>17774</th>\n",
       "      <td>1</td>\n",
       "      <td>1547</td>\n",
       "      <td>40.0</td>\n",
       "      <td>среднее</td>\n",
       "      <td>1</td>\n",
       "      <td>гражданский брак</td>\n",
       "      <td>1</td>\n",
       "      <td>F</td>\n",
       "      <td>компаньон</td>\n",
       "      <td>0</td>\n",
       "      <td>172357.950966</td>\n",
       "      <td>строительство жилой недвижимости</td>\n",
       "      <td>172357.950966</td>\n",
       "      <td>-1547.382223</td>\n",
       "    </tr>\n",
       "    <tr>\n",
       "      <th>19387</th>\n",
       "      <td>0</td>\n",
       "      <td>1547</td>\n",
       "      <td>38.0</td>\n",
       "      <td>высшее</td>\n",
       "      <td>0</td>\n",
       "      <td>гражданский брак</td>\n",
       "      <td>1</td>\n",
       "      <td>F</td>\n",
       "      <td>компаньон</td>\n",
       "      <td>0</td>\n",
       "      <td>172357.950966</td>\n",
       "      <td>на проведение свадьбы</td>\n",
       "      <td>172357.950966</td>\n",
       "      <td>-1547.382223</td>\n",
       "    </tr>\n",
       "  </tbody>\n",
       "</table>\n",
       "<p>108 rows × 14 columns</p>\n",
       "</div>"
      ],
      "text/plain": [
       "       children  days_employed  dob_years education  education_id  \\\n",
       "1005          0         365213       62.0   среднее             1   \n",
       "1191          0         365213       61.0   среднее             1   \n",
       "1511          0         365213       58.0    высшее             0   \n",
       "1681          0         365213       57.0   среднее             1   \n",
       "2052          0         365213       58.0   среднее             1   \n",
       "...         ...            ...        ...       ...           ...   \n",
       "10697         0           1547       40.0   среднее             1   \n",
       "13878         1           1547       31.0   среднее             1   \n",
       "17379         0           1547       54.0    высшее             0   \n",
       "17774         1           1547       40.0   среднее             1   \n",
       "19387         0           1547       38.0    высшее             0   \n",
       "\n",
       "               family_status  family_status_id gender income_type  debt  \\\n",
       "1005         женат / замужем                 0      F   пенсионер     0   \n",
       "1191         женат / замужем                 0      F   пенсионер     0   \n",
       "1511   Не женат / не замужем                 4      F   пенсионер     0   \n",
       "1681        гражданский брак                 1      F   пенсионер     0   \n",
       "2052        гражданский брак                 1      F   пенсионер     0   \n",
       "...                      ...               ...    ...         ...   ...   \n",
       "10697       гражданский брак                 1      F   компаньон     0   \n",
       "13878        женат / замужем                 0      F   компаньон     0   \n",
       "17379        женат / замужем                 0      M   компаньон     0   \n",
       "17774       гражданский брак                 1      F   компаньон     0   \n",
       "19387       гражданский брак                 1      F   компаньон     0   \n",
       "\n",
       "        total_income                                purpose  \\\n",
       "1005   118514.486412                           ремонт жилью   \n",
       "1191   118514.486412               операции с недвижимостью   \n",
       "1511   118514.486412             дополнительное образование   \n",
       "1681   118514.486412                  на проведение свадьбы   \n",
       "2052   118514.486412                        сыграть свадьбу   \n",
       "...              ...                                    ...   \n",
       "10697  172357.950966                        сыграть свадьбу   \n",
       "13878  172357.950966                          покупка жилья   \n",
       "17379  172357.950966  операции с коммерческой недвижимостью   \n",
       "17774  172357.950966       строительство жилой недвижимости   \n",
       "19387  172357.950966                  на проведение свадьбы   \n",
       "\n",
       "       median_total_income  median_days_employed  \n",
       "1005         118514.486412         365213.306266  \n",
       "1191         118514.486412         365213.306266  \n",
       "1511         118514.486412         365213.306266  \n",
       "1681         118514.486412         365213.306266  \n",
       "2052         118514.486412         365213.306266  \n",
       "...                    ...                   ...  \n",
       "10697        172357.950966          -1547.382223  \n",
       "13878        172357.950966          -1547.382223  \n",
       "17379        172357.950966          -1547.382223  \n",
       "17774        172357.950966          -1547.382223  \n",
       "19387        172357.950966          -1547.382223  \n",
       "\n",
       "[108 rows x 14 columns]"
      ]
     },
     "execution_count": 21,
     "metadata": {},
     "output_type": "execute_result"
    }
   ],
   "source": [
    "#Отсортируем дубликаты\n",
    "data[data.duplicated(keep=False)].sort_values(by=['total_income', 'days_employed'])"
   ]
  },
  {
   "cell_type": "code",
   "execution_count": 22,
   "id": "09d40a4f",
   "metadata": {},
   "outputs": [
    {
     "data": {
      "text/plain": [
       "array(['высшее', 'среднее', 'Среднее', 'СРЕДНЕЕ', 'ВЫСШЕЕ',\n",
       "       'неоконченное высшее', 'начальное', 'Высшее',\n",
       "       'НЕОКОНЧЕННОЕ ВЫСШЕЕ', 'Неоконченное высшее', 'НАЧАЛЬНОЕ',\n",
       "       'Начальное', 'Ученая степень', 'УЧЕНАЯ СТЕПЕНЬ', 'ученая степень'],\n",
       "      dtype=object)"
      ]
     },
     "execution_count": 22,
     "metadata": {},
     "output_type": "execute_result"
    }
   ],
   "source": [
    "data['education'].unique()"
   ]
  },
  {
   "cell_type": "markdown",
   "id": "42006130",
   "metadata": {},
   "source": [
    "-столбец 'education' имеет неоднотипные значения, необходимо привести к общему виду;"
   ]
  },
  {
   "cell_type": "code",
   "execution_count": 23,
   "id": "7059de72",
   "metadata": {},
   "outputs": [
    {
     "data": {
      "text/plain": [
       "array(['высшее', 'среднее', 'неоконченное высшее', 'начальное',\n",
       "       'ученая степень'], dtype=object)"
      ]
     },
     "execution_count": 23,
     "metadata": {},
     "output_type": "execute_result"
    }
   ],
   "source": [
    "# 'education' в low-индекс\n",
    "data['education'] = data['education'].str.lower()\n",
    "data['education'].unique()"
   ]
  },
  {
   "cell_type": "code",
   "execution_count": 24,
   "id": "0e3af19d",
   "metadata": {},
   "outputs": [],
   "source": [
    "# дубликаты. Причина? Предполагаю, что задвоение данных/ошибочное создание дублей.\n",
    "#Удаляем их.\n",
    "data = data.drop_duplicates()"
   ]
  },
  {
   "cell_type": "code",
   "execution_count": 25,
   "id": "a6e131c6",
   "metadata": {},
   "outputs": [
    {
     "data": {
      "text/plain": [
       "0"
      ]
     },
     "execution_count": 25,
     "metadata": {},
     "output_type": "execute_result"
    }
   ],
   "source": [
    "data.duplicated().sum()"
   ]
  },
  {
   "cell_type": "code",
   "execution_count": 26,
   "id": "6836f83b",
   "metadata": {},
   "outputs": [
    {
     "data": {
      "text/plain": [
       "0"
      ]
     },
     "execution_count": 26,
     "metadata": {},
     "output_type": "execute_result"
    }
   ],
   "source": [
    "data.duplicated().sum()"
   ]
  },
  {
   "cell_type": "markdown",
   "id": "cbbb8245",
   "metadata": {},
   "source": [
    "### Шаг 2.5. Формирование дополнительных датафреймов словарей, декомпозиция исходного датафрейма."
   ]
  },
  {
   "cell_type": "code",
   "execution_count": 27,
   "id": "3edd289d",
   "metadata": {},
   "outputs": [
    {
     "data": {
      "text/html": [
       "<div>\n",
       "<style scoped>\n",
       "    .dataframe tbody tr th:only-of-type {\n",
       "        vertical-align: middle;\n",
       "    }\n",
       "\n",
       "    .dataframe tbody tr th {\n",
       "        vertical-align: top;\n",
       "    }\n",
       "\n",
       "    .dataframe thead th {\n",
       "        text-align: right;\n",
       "    }\n",
       "</style>\n",
       "<table border=\"1\" class=\"dataframe\">\n",
       "  <thead>\n",
       "    <tr style=\"text-align: right;\">\n",
       "      <th></th>\n",
       "      <th>education_id</th>\n",
       "      <th>education</th>\n",
       "    </tr>\n",
       "  </thead>\n",
       "  <tbody>\n",
       "    <tr>\n",
       "      <th>0</th>\n",
       "      <td>0</td>\n",
       "      <td>высшее</td>\n",
       "    </tr>\n",
       "    <tr>\n",
       "      <th>1</th>\n",
       "      <td>1</td>\n",
       "      <td>среднее</td>\n",
       "    </tr>\n",
       "    <tr>\n",
       "      <th>2</th>\n",
       "      <td>2</td>\n",
       "      <td>неоконченное высшее</td>\n",
       "    </tr>\n",
       "    <tr>\n",
       "      <th>3</th>\n",
       "      <td>3</td>\n",
       "      <td>начальное</td>\n",
       "    </tr>\n",
       "    <tr>\n",
       "      <th>4</th>\n",
       "      <td>4</td>\n",
       "      <td>ученая степень</td>\n",
       "    </tr>\n",
       "  </tbody>\n",
       "</table>\n",
       "</div>"
      ],
      "text/plain": [
       "   education_id            education\n",
       "0             0               высшее\n",
       "1             1              среднее\n",
       "2             2  неоконченное высшее\n",
       "3             3            начальное\n",
       "4             4       ученая степень"
      ]
     },
     "execution_count": 27,
     "metadata": {},
     "output_type": "execute_result"
    }
   ],
   "source": [
    "#словарь для education\n",
    "education_log = data[['education_id', 'education']]\n",
    "# удалим дубликаты из словаря\n",
    "education_log = education_log.drop_duplicates().reset_index(drop=True)\n",
    "education_log.head(15)"
   ]
  },
  {
   "cell_type": "code",
   "execution_count": 28,
   "id": "a97acca2",
   "metadata": {},
   "outputs": [
    {
     "data": {
      "text/html": [
       "<div>\n",
       "<style scoped>\n",
       "    .dataframe tbody tr th:only-of-type {\n",
       "        vertical-align: middle;\n",
       "    }\n",
       "\n",
       "    .dataframe tbody tr th {\n",
       "        vertical-align: top;\n",
       "    }\n",
       "\n",
       "    .dataframe thead th {\n",
       "        text-align: right;\n",
       "    }\n",
       "</style>\n",
       "<table border=\"1\" class=\"dataframe\">\n",
       "  <thead>\n",
       "    <tr style=\"text-align: right;\">\n",
       "      <th></th>\n",
       "      <th>family_status_id</th>\n",
       "      <th>family_status</th>\n",
       "    </tr>\n",
       "  </thead>\n",
       "  <tbody>\n",
       "    <tr>\n",
       "      <th>0</th>\n",
       "      <td>0</td>\n",
       "      <td>женат / замужем</td>\n",
       "    </tr>\n",
       "    <tr>\n",
       "      <th>1</th>\n",
       "      <td>1</td>\n",
       "      <td>гражданский брак</td>\n",
       "    </tr>\n",
       "    <tr>\n",
       "      <th>2</th>\n",
       "      <td>2</td>\n",
       "      <td>вдовец / вдова</td>\n",
       "    </tr>\n",
       "    <tr>\n",
       "      <th>3</th>\n",
       "      <td>3</td>\n",
       "      <td>в разводе</td>\n",
       "    </tr>\n",
       "    <tr>\n",
       "      <th>4</th>\n",
       "      <td>4</td>\n",
       "      <td>Не женат / не замужем</td>\n",
       "    </tr>\n",
       "  </tbody>\n",
       "</table>\n",
       "</div>"
      ],
      "text/plain": [
       "   family_status_id          family_status\n",
       "0                 0        женат / замужем\n",
       "1                 1       гражданский брак\n",
       "2                 2         вдовец / вдова\n",
       "3                 3              в разводе\n",
       "4                 4  Не женат / не замужем"
      ]
     },
     "execution_count": 28,
     "metadata": {},
     "output_type": "execute_result"
    }
   ],
   "source": [
    "#словарь для family_status\n",
    "family_status_log = data[['family_status_id', 'family_status']]\n",
    "# удалим дубликаты из словаря\n",
    "family_status_log = family_status_log.drop_duplicates().reset_index(drop=True)\n",
    "family_status_log.head(15)"
   ]
  },
  {
   "cell_type": "code",
   "execution_count": 29,
   "id": "2e864e0b",
   "metadata": {},
   "outputs": [
    {
     "data": {
      "text/html": [
       "<div>\n",
       "<style scoped>\n",
       "    .dataframe tbody tr th:only-of-type {\n",
       "        vertical-align: middle;\n",
       "    }\n",
       "\n",
       "    .dataframe tbody tr th {\n",
       "        vertical-align: top;\n",
       "    }\n",
       "\n",
       "    .dataframe thead th {\n",
       "        text-align: right;\n",
       "    }\n",
       "</style>\n",
       "<table border=\"1\" class=\"dataframe\">\n",
       "  <thead>\n",
       "    <tr style=\"text-align: right;\">\n",
       "      <th></th>\n",
       "      <th>children</th>\n",
       "      <th>days_employed</th>\n",
       "      <th>dob_years</th>\n",
       "      <th>education_id</th>\n",
       "      <th>family_status_id</th>\n",
       "      <th>gender</th>\n",
       "      <th>income_type</th>\n",
       "      <th>debt</th>\n",
       "      <th>total_income</th>\n",
       "      <th>purpose</th>\n",
       "      <th>median_total_income</th>\n",
       "      <th>median_days_employed</th>\n",
       "    </tr>\n",
       "  </thead>\n",
       "  <tbody>\n",
       "    <tr>\n",
       "      <th>0</th>\n",
       "      <td>1</td>\n",
       "      <td>8437</td>\n",
       "      <td>42.0</td>\n",
       "      <td>0</td>\n",
       "      <td>0</td>\n",
       "      <td>F</td>\n",
       "      <td>сотрудник</td>\n",
       "      <td>0</td>\n",
       "      <td>253875.639453</td>\n",
       "      <td>покупка жилья</td>\n",
       "      <td>142594.396847</td>\n",
       "      <td>-1574.202821</td>\n",
       "    </tr>\n",
       "    <tr>\n",
       "      <th>1</th>\n",
       "      <td>1</td>\n",
       "      <td>4024</td>\n",
       "      <td>36.0</td>\n",
       "      <td>1</td>\n",
       "      <td>0</td>\n",
       "      <td>F</td>\n",
       "      <td>сотрудник</td>\n",
       "      <td>0</td>\n",
       "      <td>112080.014102</td>\n",
       "      <td>приобретение автомобиля</td>\n",
       "      <td>142594.396847</td>\n",
       "      <td>-1574.202821</td>\n",
       "    </tr>\n",
       "    <tr>\n",
       "      <th>2</th>\n",
       "      <td>0</td>\n",
       "      <td>5623</td>\n",
       "      <td>33.0</td>\n",
       "      <td>1</td>\n",
       "      <td>0</td>\n",
       "      <td>M</td>\n",
       "      <td>сотрудник</td>\n",
       "      <td>0</td>\n",
       "      <td>145885.952297</td>\n",
       "      <td>покупка жилья</td>\n",
       "      <td>142594.396847</td>\n",
       "      <td>-1574.202821</td>\n",
       "    </tr>\n",
       "    <tr>\n",
       "      <th>3</th>\n",
       "      <td>3</td>\n",
       "      <td>4124</td>\n",
       "      <td>32.0</td>\n",
       "      <td>1</td>\n",
       "      <td>0</td>\n",
       "      <td>M</td>\n",
       "      <td>сотрудник</td>\n",
       "      <td>0</td>\n",
       "      <td>267628.550329</td>\n",
       "      <td>дополнительное образование</td>\n",
       "      <td>142594.396847</td>\n",
       "      <td>-1574.202821</td>\n",
       "    </tr>\n",
       "    <tr>\n",
       "      <th>4</th>\n",
       "      <td>0</td>\n",
       "      <td>340266</td>\n",
       "      <td>53.0</td>\n",
       "      <td>1</td>\n",
       "      <td>1</td>\n",
       "      <td>F</td>\n",
       "      <td>пенсионер</td>\n",
       "      <td>0</td>\n",
       "      <td>158616.077870</td>\n",
       "      <td>сыграть свадьбу</td>\n",
       "      <td>118514.486412</td>\n",
       "      <td>365213.306266</td>\n",
       "    </tr>\n",
       "  </tbody>\n",
       "</table>\n",
       "</div>"
      ],
      "text/plain": [
       "   children  days_employed  dob_years  education_id  family_status_id gender  \\\n",
       "0         1           8437       42.0             0                 0      F   \n",
       "1         1           4024       36.0             1                 0      F   \n",
       "2         0           5623       33.0             1                 0      M   \n",
       "3         3           4124       32.0             1                 0      M   \n",
       "4         0         340266       53.0             1                 1      F   \n",
       "\n",
       "  income_type  debt   total_income                     purpose  \\\n",
       "0   сотрудник     0  253875.639453               покупка жилья   \n",
       "1   сотрудник     0  112080.014102     приобретение автомобиля   \n",
       "2   сотрудник     0  145885.952297               покупка жилья   \n",
       "3   сотрудник     0  267628.550329  дополнительное образование   \n",
       "4   пенсионер     0  158616.077870             сыграть свадьбу   \n",
       "\n",
       "   median_total_income  median_days_employed  \n",
       "0        142594.396847          -1574.202821  \n",
       "1        142594.396847          -1574.202821  \n",
       "2        142594.396847          -1574.202821  \n",
       "3        142594.396847          -1574.202821  \n",
       "4        118514.486412         365213.306266  "
      ]
     },
     "execution_count": 29,
     "metadata": {},
     "output_type": "execute_result"
    }
   ],
   "source": [
    "data = data.drop(columns = ['education', 'family_status'], axis = 1)\n",
    "data.head(5) "
   ]
  },
  {
   "cell_type": "markdown",
   "id": "bda37c8d",
   "metadata": {},
   "source": [
    "### Шаг 2.6. Категоризация дохода."
   ]
  },
  {
   "cell_type": "code",
   "execution_count": 30,
   "id": "6544b23d",
   "metadata": {},
   "outputs": [
    {
     "data": {
      "text/html": [
       "<div>\n",
       "<style scoped>\n",
       "    .dataframe tbody tr th:only-of-type {\n",
       "        vertical-align: middle;\n",
       "    }\n",
       "\n",
       "    .dataframe tbody tr th {\n",
       "        vertical-align: top;\n",
       "    }\n",
       "\n",
       "    .dataframe thead th {\n",
       "        text-align: right;\n",
       "    }\n",
       "</style>\n",
       "<table border=\"1\" class=\"dataframe\">\n",
       "  <thead>\n",
       "    <tr style=\"text-align: right;\">\n",
       "      <th></th>\n",
       "      <th>children</th>\n",
       "      <th>days_employed</th>\n",
       "      <th>dob_years</th>\n",
       "      <th>education_id</th>\n",
       "      <th>family_status_id</th>\n",
       "      <th>gender</th>\n",
       "      <th>income_type</th>\n",
       "      <th>debt</th>\n",
       "      <th>total_income</th>\n",
       "      <th>purpose</th>\n",
       "      <th>median_total_income</th>\n",
       "      <th>median_days_employed</th>\n",
       "      <th>total_income_category</th>\n",
       "    </tr>\n",
       "  </thead>\n",
       "  <tbody>\n",
       "    <tr>\n",
       "      <th>0</th>\n",
       "      <td>1</td>\n",
       "      <td>8437</td>\n",
       "      <td>42.0</td>\n",
       "      <td>0</td>\n",
       "      <td>0</td>\n",
       "      <td>F</td>\n",
       "      <td>сотрудник</td>\n",
       "      <td>0</td>\n",
       "      <td>253875.639453</td>\n",
       "      <td>покупка жилья</td>\n",
       "      <td>142594.396847</td>\n",
       "      <td>-1574.202821</td>\n",
       "      <td>B</td>\n",
       "    </tr>\n",
       "    <tr>\n",
       "      <th>1</th>\n",
       "      <td>1</td>\n",
       "      <td>4024</td>\n",
       "      <td>36.0</td>\n",
       "      <td>1</td>\n",
       "      <td>0</td>\n",
       "      <td>F</td>\n",
       "      <td>сотрудник</td>\n",
       "      <td>0</td>\n",
       "      <td>112080.014102</td>\n",
       "      <td>приобретение автомобиля</td>\n",
       "      <td>142594.396847</td>\n",
       "      <td>-1574.202821</td>\n",
       "      <td>C</td>\n",
       "    </tr>\n",
       "    <tr>\n",
       "      <th>2</th>\n",
       "      <td>0</td>\n",
       "      <td>5623</td>\n",
       "      <td>33.0</td>\n",
       "      <td>1</td>\n",
       "      <td>0</td>\n",
       "      <td>M</td>\n",
       "      <td>сотрудник</td>\n",
       "      <td>0</td>\n",
       "      <td>145885.952297</td>\n",
       "      <td>покупка жилья</td>\n",
       "      <td>142594.396847</td>\n",
       "      <td>-1574.202821</td>\n",
       "      <td>C</td>\n",
       "    </tr>\n",
       "    <tr>\n",
       "      <th>3</th>\n",
       "      <td>3</td>\n",
       "      <td>4124</td>\n",
       "      <td>32.0</td>\n",
       "      <td>1</td>\n",
       "      <td>0</td>\n",
       "      <td>M</td>\n",
       "      <td>сотрудник</td>\n",
       "      <td>0</td>\n",
       "      <td>267628.550329</td>\n",
       "      <td>дополнительное образование</td>\n",
       "      <td>142594.396847</td>\n",
       "      <td>-1574.202821</td>\n",
       "      <td>B</td>\n",
       "    </tr>\n",
       "    <tr>\n",
       "      <th>4</th>\n",
       "      <td>0</td>\n",
       "      <td>340266</td>\n",
       "      <td>53.0</td>\n",
       "      <td>1</td>\n",
       "      <td>1</td>\n",
       "      <td>F</td>\n",
       "      <td>пенсионер</td>\n",
       "      <td>0</td>\n",
       "      <td>158616.077870</td>\n",
       "      <td>сыграть свадьбу</td>\n",
       "      <td>118514.486412</td>\n",
       "      <td>365213.306266</td>\n",
       "      <td>C</td>\n",
       "    </tr>\n",
       "  </tbody>\n",
       "</table>\n",
       "</div>"
      ],
      "text/plain": [
       "   children  days_employed  dob_years  education_id  family_status_id gender  \\\n",
       "0         1           8437       42.0             0                 0      F   \n",
       "1         1           4024       36.0             1                 0      F   \n",
       "2         0           5623       33.0             1                 0      M   \n",
       "3         3           4124       32.0             1                 0      M   \n",
       "4         0         340266       53.0             1                 1      F   \n",
       "\n",
       "  income_type  debt   total_income                     purpose  \\\n",
       "0   сотрудник     0  253875.639453               покупка жилья   \n",
       "1   сотрудник     0  112080.014102     приобретение автомобиля   \n",
       "2   сотрудник     0  145885.952297               покупка жилья   \n",
       "3   сотрудник     0  267628.550329  дополнительное образование   \n",
       "4   пенсионер     0  158616.077870             сыграть свадьбу   \n",
       "\n",
       "   median_total_income  median_days_employed total_income_category  \n",
       "0        142594.396847          -1574.202821                     B  \n",
       "1        142594.396847          -1574.202821                     C  \n",
       "2        142594.396847          -1574.202821                     C  \n",
       "3        142594.396847          -1574.202821                     B  \n",
       "4        118514.486412         365213.306266                     C  "
      ]
     },
     "execution_count": 30,
     "metadata": {},
     "output_type": "execute_result"
    }
   ],
   "source": [
    "def total_income_category(total_income):\n",
    "    if total_income <= 30000:\n",
    "        return 'E'\n",
    "    if total_income <=50000:\n",
    "        return 'D'\n",
    "    if total_income <= 200000:\n",
    "        return 'C'\n",
    "    if total_income <=1000000:\n",
    "        return 'B'\n",
    "    if total_income >=1000001:\n",
    "        return 'A'    \n",
    "data['total_income_category'] = data['total_income'].apply(total_income_category)\n",
    "data.head(5)"
   ]
  },
  {
   "cell_type": "markdown",
   "id": "5bece0aa",
   "metadata": {},
   "source": [
    "### Шаг 2.7. Категоризация целей кредита."
   ]
  },
  {
   "cell_type": "code",
   "execution_count": 31,
   "id": "579a4fe2",
   "metadata": {},
   "outputs": [
    {
     "name": "stdout",
     "output_type": "stream",
     "text": [
      "['покупка жилья' 'приобретение автомобиля' 'дополнительное образование'\n",
      " 'сыграть свадьбу' 'операции с жильем' 'образование'\n",
      " 'на проведение свадьбы' 'покупка жилья для семьи' 'покупка недвижимости'\n",
      " 'покупка коммерческой недвижимости' 'покупка жилой недвижимости'\n",
      " 'строительство собственной недвижимости' 'недвижимость'\n",
      " 'строительство недвижимости' 'на покупку подержанного автомобиля'\n",
      " 'на покупку своего автомобиля' 'операции с коммерческой недвижимостью'\n",
      " 'строительство жилой недвижимости' 'жилье'\n",
      " 'операции со своей недвижимостью' 'автомобили' 'заняться образованием'\n",
      " 'сделка с подержанным автомобилем' 'получение образования' 'автомобиль'\n",
      " 'свадьба' 'получение дополнительного образования' 'покупка своего жилья'\n",
      " 'операции с недвижимостью' 'получение высшего образования'\n",
      " 'свой автомобиль' 'сделка с автомобилем' 'профильное образование'\n",
      " 'высшее образование' 'покупка жилья для сдачи' 'на покупку автомобиля'\n",
      " 'ремонт жилью' 'заняться высшим образованием']\n",
      "['операции с недвижимостью' 'операции с автомобилем'\n",
      " 'получение образования' 'проведение свадьбы']\n"
     ]
    },
    {
     "data": {
      "text/html": [
       "<div>\n",
       "<style scoped>\n",
       "    .dataframe tbody tr th:only-of-type {\n",
       "        vertical-align: middle;\n",
       "    }\n",
       "\n",
       "    .dataframe tbody tr th {\n",
       "        vertical-align: top;\n",
       "    }\n",
       "\n",
       "    .dataframe thead th {\n",
       "        text-align: right;\n",
       "    }\n",
       "</style>\n",
       "<table border=\"1\" class=\"dataframe\">\n",
       "  <thead>\n",
       "    <tr style=\"text-align: right;\">\n",
       "      <th></th>\n",
       "      <th>children</th>\n",
       "      <th>days_employed</th>\n",
       "      <th>dob_years</th>\n",
       "      <th>education_id</th>\n",
       "      <th>family_status_id</th>\n",
       "      <th>gender</th>\n",
       "      <th>income_type</th>\n",
       "      <th>debt</th>\n",
       "      <th>total_income</th>\n",
       "      <th>purpose</th>\n",
       "      <th>median_total_income</th>\n",
       "      <th>median_days_employed</th>\n",
       "      <th>total_income_category</th>\n",
       "      <th>purpose_category</th>\n",
       "    </tr>\n",
       "  </thead>\n",
       "  <tbody>\n",
       "    <tr>\n",
       "      <th>0</th>\n",
       "      <td>1</td>\n",
       "      <td>8437</td>\n",
       "      <td>42.0</td>\n",
       "      <td>0</td>\n",
       "      <td>0</td>\n",
       "      <td>F</td>\n",
       "      <td>сотрудник</td>\n",
       "      <td>0</td>\n",
       "      <td>253875.639453</td>\n",
       "      <td>покупка жилья</td>\n",
       "      <td>142594.396847</td>\n",
       "      <td>-1574.202821</td>\n",
       "      <td>B</td>\n",
       "      <td>операции с недвижимостью</td>\n",
       "    </tr>\n",
       "    <tr>\n",
       "      <th>1</th>\n",
       "      <td>1</td>\n",
       "      <td>4024</td>\n",
       "      <td>36.0</td>\n",
       "      <td>1</td>\n",
       "      <td>0</td>\n",
       "      <td>F</td>\n",
       "      <td>сотрудник</td>\n",
       "      <td>0</td>\n",
       "      <td>112080.014102</td>\n",
       "      <td>приобретение автомобиля</td>\n",
       "      <td>142594.396847</td>\n",
       "      <td>-1574.202821</td>\n",
       "      <td>C</td>\n",
       "      <td>операции с автомобилем</td>\n",
       "    </tr>\n",
       "    <tr>\n",
       "      <th>2</th>\n",
       "      <td>0</td>\n",
       "      <td>5623</td>\n",
       "      <td>33.0</td>\n",
       "      <td>1</td>\n",
       "      <td>0</td>\n",
       "      <td>M</td>\n",
       "      <td>сотрудник</td>\n",
       "      <td>0</td>\n",
       "      <td>145885.952297</td>\n",
       "      <td>покупка жилья</td>\n",
       "      <td>142594.396847</td>\n",
       "      <td>-1574.202821</td>\n",
       "      <td>C</td>\n",
       "      <td>операции с недвижимостью</td>\n",
       "    </tr>\n",
       "    <tr>\n",
       "      <th>3</th>\n",
       "      <td>3</td>\n",
       "      <td>4124</td>\n",
       "      <td>32.0</td>\n",
       "      <td>1</td>\n",
       "      <td>0</td>\n",
       "      <td>M</td>\n",
       "      <td>сотрудник</td>\n",
       "      <td>0</td>\n",
       "      <td>267628.550329</td>\n",
       "      <td>дополнительное образование</td>\n",
       "      <td>142594.396847</td>\n",
       "      <td>-1574.202821</td>\n",
       "      <td>B</td>\n",
       "      <td>получение образования</td>\n",
       "    </tr>\n",
       "    <tr>\n",
       "      <th>4</th>\n",
       "      <td>0</td>\n",
       "      <td>340266</td>\n",
       "      <td>53.0</td>\n",
       "      <td>1</td>\n",
       "      <td>1</td>\n",
       "      <td>F</td>\n",
       "      <td>пенсионер</td>\n",
       "      <td>0</td>\n",
       "      <td>158616.077870</td>\n",
       "      <td>сыграть свадьбу</td>\n",
       "      <td>118514.486412</td>\n",
       "      <td>365213.306266</td>\n",
       "      <td>C</td>\n",
       "      <td>проведение свадьбы</td>\n",
       "    </tr>\n",
       "  </tbody>\n",
       "</table>\n",
       "</div>"
      ],
      "text/plain": [
       "   children  days_employed  dob_years  education_id  family_status_id gender  \\\n",
       "0         1           8437       42.0             0                 0      F   \n",
       "1         1           4024       36.0             1                 0      F   \n",
       "2         0           5623       33.0             1                 0      M   \n",
       "3         3           4124       32.0             1                 0      M   \n",
       "4         0         340266       53.0             1                 1      F   \n",
       "\n",
       "  income_type  debt   total_income                     purpose  \\\n",
       "0   сотрудник     0  253875.639453               покупка жилья   \n",
       "1   сотрудник     0  112080.014102     приобретение автомобиля   \n",
       "2   сотрудник     0  145885.952297               покупка жилья   \n",
       "3   сотрудник     0  267628.550329  дополнительное образование   \n",
       "4   пенсионер     0  158616.077870             сыграть свадьбу   \n",
       "\n",
       "   median_total_income  median_days_employed total_income_category  \\\n",
       "0        142594.396847          -1574.202821                     B   \n",
       "1        142594.396847          -1574.202821                     C   \n",
       "2        142594.396847          -1574.202821                     C   \n",
       "3        142594.396847          -1574.202821                     B   \n",
       "4        118514.486412         365213.306266                     C   \n",
       "\n",
       "           purpose_category  \n",
       "0  операции с недвижимостью  \n",
       "1    операции с автомобилем  \n",
       "2  операции с недвижимостью  \n",
       "3     получение образования  \n",
       "4        проведение свадьбы  "
      ]
     },
     "execution_count": 31,
     "metadata": {},
     "output_type": "execute_result"
    }
   ],
   "source": [
    "\n",
    "def purpose_category(purpose):\n",
    "    if 'образов' in purpose:\n",
    "        return 'получение образования'\n",
    "    if 'свадьб' in purpose:\n",
    "        return 'проведение свадьбы'\n",
    "    if 'автомобил' in purpose:\n",
    "        return 'операции с автомобилем'\n",
    "    if 'недвижимост' or 'жиль' in purpose:\n",
    "        return 'операции с недвижимостью'    \n",
    "data['purpose_category'] = data['purpose'].apply(purpose_category)\n",
    "print(data['purpose'].unique())\n",
    "print(data['purpose_category'].unique())\n",
    "data.head(5)"
   ]
  },
  {
   "cell_type": "markdown",
   "id": "c7a9353d",
   "metadata": {},
   "source": [
    "### Ответы на вопросы."
   ]
  },
  {
   "cell_type": "markdown",
   "id": "8d060d8b",
   "metadata": {},
   "source": [
    "##### Вопрос 1:Есть ли зависимость между количеством детей и возвратом кредита в срок?"
   ]
  },
  {
   "cell_type": "code",
   "execution_count": 32,
   "id": "5fc87c53",
   "metadata": {},
   "outputs": [
    {
     "data": {
      "text/html": [
       "<div>\n",
       "<style scoped>\n",
       "    .dataframe tbody tr th:only-of-type {\n",
       "        vertical-align: middle;\n",
       "    }\n",
       "\n",
       "    .dataframe tbody tr th {\n",
       "        vertical-align: top;\n",
       "    }\n",
       "\n",
       "    .dataframe thead th {\n",
       "        text-align: right;\n",
       "    }\n",
       "</style>\n",
       "<table border=\"1\" class=\"dataframe\">\n",
       "  <thead>\n",
       "    <tr style=\"text-align: right;\">\n",
       "      <th></th>\n",
       "      <th>debt</th>\n",
       "    </tr>\n",
       "    <tr>\n",
       "      <th>children_cat</th>\n",
       "      <th></th>\n",
       "    </tr>\n",
       "  </thead>\n",
       "  <tbody>\n",
       "    <tr>\n",
       "      <th>нет детей</th>\n",
       "      <td>0.075263</td>\n",
       "    </tr>\n",
       "    <tr>\n",
       "      <th>многодетные</th>\n",
       "      <td>0.085526</td>\n",
       "    </tr>\n",
       "    <tr>\n",
       "      <th>1-2 ребенка</th>\n",
       "      <td>0.093003</td>\n",
       "    </tr>\n",
       "  </tbody>\n",
       "</table>\n",
       "</div>"
      ],
      "text/plain": [
       "                  debt\n",
       "children_cat          \n",
       "нет детей     0.075263\n",
       "многодетные   0.085526\n",
       "1-2 ребенка   0.093003"
      ]
     },
     "execution_count": 32,
     "metadata": {},
     "output_type": "execute_result"
    }
   ],
   "source": [
    "def children_cat(data):\n",
    "    if data['children'] == 0:\n",
    "        return 'нет детей'\n",
    "    elif 1 <= data['children'] <= 2:\n",
    "        return '1-2 ребенка'\n",
    "    else:\n",
    "        return 'многодетные'\n",
    "data['children_cat'] = data.apply(children_cat, axis=1)    \n",
    "def relation(category):\n",
    "    return data.groupby(category)['debt'].mean().to_frame().sort_values(by='debt')    \n",
    "relation('children_cat')\n"
   ]
  },
  {
   "cell_type": "markdown",
   "id": "b7b8bf76",
   "metadata": {},
   "source": [
    "Заемщики, не имеющие детей, меньше просрачивают по выплатам кредита."
   ]
  },
  {
   "cell_type": "markdown",
   "id": "3895d146",
   "metadata": {},
   "source": [
    "Вопрос 2 Есть ли зависимость между семейным положением и возвратом кредита в срок?"
   ]
  },
  {
   "cell_type": "code",
   "execution_count": 33,
   "id": "8e8ef25e",
   "metadata": {},
   "outputs": [
    {
     "data": {
      "text/html": [
       "<div>\n",
       "<style scoped>\n",
       "    .dataframe tbody tr th:only-of-type {\n",
       "        vertical-align: middle;\n",
       "    }\n",
       "\n",
       "    .dataframe tbody tr th {\n",
       "        vertical-align: top;\n",
       "    }\n",
       "\n",
       "    .dataframe thead th {\n",
       "        text-align: right;\n",
       "    }\n",
       "</style>\n",
       "<table border=\"1\" class=\"dataframe\">\n",
       "  <thead>\n",
       "    <tr style=\"text-align: right;\">\n",
       "      <th></th>\n",
       "      <th>debt</th>\n",
       "    </tr>\n",
       "    <tr>\n",
       "      <th>family_status_id</th>\n",
       "      <th></th>\n",
       "    </tr>\n",
       "  </thead>\n",
       "  <tbody>\n",
       "    <tr>\n",
       "      <th>2</th>\n",
       "      <td>0.065693</td>\n",
       "    </tr>\n",
       "    <tr>\n",
       "      <th>3</th>\n",
       "      <td>0.071130</td>\n",
       "    </tr>\n",
       "    <tr>\n",
       "      <th>0</th>\n",
       "      <td>0.075452</td>\n",
       "    </tr>\n",
       "    <tr>\n",
       "      <th>1</th>\n",
       "      <td>0.093494</td>\n",
       "    </tr>\n",
       "    <tr>\n",
       "      <th>4</th>\n",
       "      <td>0.097509</td>\n",
       "    </tr>\n",
       "  </tbody>\n",
       "</table>\n",
       "</div>"
      ],
      "text/plain": [
       "                      debt\n",
       "family_status_id          \n",
       "2                 0.065693\n",
       "3                 0.071130\n",
       "0                 0.075452\n",
       "1                 0.093494\n",
       "4                 0.097509"
      ]
     },
     "execution_count": 33,
     "metadata": {},
     "output_type": "execute_result"
    }
   ],
   "source": [
    "data.groupby('family_status_id')['debt'].mean().to_frame().sort_values(by='debt')"
   ]
  },
  {
   "cell_type": "markdown",
   "id": "ce460df7",
   "metadata": {},
   "source": [
    "Граждане, которые не имеют узаконенных отношений, более склонны к просрочке по выплатам кредита"
   ]
  },
  {
   "cell_type": "markdown",
   "id": "0d3fc76e",
   "metadata": {},
   "source": [
    " Вопрос 3 Есть ли зависимость между уровнем дохода и возвратом кредита в срок?"
   ]
  },
  {
   "cell_type": "code",
   "execution_count": 34,
   "id": "7070c34b",
   "metadata": {
    "scrolled": true
   },
   "outputs": [
    {
     "data": {
      "text/html": [
       "<div>\n",
       "<style scoped>\n",
       "    .dataframe tbody tr th:only-of-type {\n",
       "        vertical-align: middle;\n",
       "    }\n",
       "\n",
       "    .dataframe tbody tr th {\n",
       "        vertical-align: top;\n",
       "    }\n",
       "\n",
       "    .dataframe thead th {\n",
       "        text-align: right;\n",
       "    }\n",
       "</style>\n",
       "<table border=\"1\" class=\"dataframe\">\n",
       "  <thead>\n",
       "    <tr style=\"text-align: right;\">\n",
       "      <th></th>\n",
       "      <th>debt</th>\n",
       "    </tr>\n",
       "    <tr>\n",
       "      <th>total_income_cat</th>\n",
       "      <th></th>\n",
       "    </tr>\n",
       "  </thead>\n",
       "  <tbody>\n",
       "    <tr>\n",
       "      <th>низкий доход</th>\n",
       "      <td>0.058824</td>\n",
       "    </tr>\n",
       "    <tr>\n",
       "      <th>миллионер</th>\n",
       "      <td>0.080000</td>\n",
       "    </tr>\n",
       "    <tr>\n",
       "      <th>средний доход</th>\n",
       "      <td>0.081145</td>\n",
       "    </tr>\n",
       "    <tr>\n",
       "      <th>высокий доход</th>\n",
       "      <td>0.081214</td>\n",
       "    </tr>\n",
       "  </tbody>\n",
       "</table>\n",
       "</div>"
      ],
      "text/plain": [
       "                      debt\n",
       "total_income_cat          \n",
       "низкий доход      0.058824\n",
       "миллионер         0.080000\n",
       "средний доход     0.081145\n",
       "высокий доход     0.081214"
      ]
     },
     "execution_count": 34,
     "metadata": {},
     "output_type": "execute_result"
    }
   ],
   "source": [
    "def total_income_cat(data):\n",
    "    if data['total_income'] <= 32000:\n",
    "        return 'низкий доход'\n",
    "    if 32000 < data['total_income'] <= 120000:\n",
    "        return 'средний доход'\n",
    "    if 120000 < data['total_income'] < 1000000:\n",
    "        return 'высокий доход'\n",
    "    return 'миллионер'\n",
    "data['total_income_cat'] = data.apply(total_income_cat, axis=1)\n",
    "def relation(category):\n",
    "    return data.groupby(category)['debt'].mean().to_frame().sort_values(by='debt')    \n",
    "relation('total_income_cat')"
   ]
  },
  {
   "cell_type": "markdown",
   "id": "8bd368fa",
   "metadata": {},
   "source": [
    "Заемщики с уровнем дохода < 32000р. менее склонны нарушать обязательства по выплатам кредита в срок."
   ]
  },
  {
   "cell_type": "markdown",
   "id": "2909e3a1",
   "metadata": {},
   "source": [
    "Вопрос №4 Как разные цели кредита влияют на его возврат в срок"
   ]
  },
  {
   "cell_type": "code",
   "execution_count": 35,
   "id": "b4dc9233",
   "metadata": {},
   "outputs": [
    {
     "data": {
      "text/html": [
       "<div>\n",
       "<style scoped>\n",
       "    .dataframe tbody tr th:only-of-type {\n",
       "        vertical-align: middle;\n",
       "    }\n",
       "\n",
       "    .dataframe tbody tr th {\n",
       "        vertical-align: top;\n",
       "    }\n",
       "\n",
       "    .dataframe thead th {\n",
       "        text-align: right;\n",
       "    }\n",
       "</style>\n",
       "<table border=\"1\" class=\"dataframe\">\n",
       "  <thead>\n",
       "    <tr style=\"text-align: right;\">\n",
       "      <th></th>\n",
       "      <th>debt</th>\n",
       "    </tr>\n",
       "    <tr>\n",
       "      <th>purpose_category</th>\n",
       "      <th></th>\n",
       "    </tr>\n",
       "  </thead>\n",
       "  <tbody>\n",
       "    <tr>\n",
       "      <th>операции с недвижимостью</th>\n",
       "      <td>0.072334</td>\n",
       "    </tr>\n",
       "    <tr>\n",
       "      <th>проведение свадьбы</th>\n",
       "      <td>0.080069</td>\n",
       "    </tr>\n",
       "    <tr>\n",
       "      <th>получение образования</th>\n",
       "      <td>0.092200</td>\n",
       "    </tr>\n",
       "    <tr>\n",
       "      <th>операции с автомобилем</th>\n",
       "      <td>0.093590</td>\n",
       "    </tr>\n",
       "  </tbody>\n",
       "</table>\n",
       "</div>"
      ],
      "text/plain": [
       "                              debt\n",
       "purpose_category                  \n",
       "операции с недвижимостью  0.072334\n",
       "проведение свадьбы        0.080069\n",
       "получение образования     0.092200\n",
       "операции с автомобилем    0.093590"
      ]
     },
     "execution_count": 35,
     "metadata": {},
     "output_type": "execute_result"
    }
   ],
   "source": [
    "relation('purpose_category')"
   ]
  },
  {
   "cell_type": "code",
   "execution_count": 36,
   "id": "f9fe5abc",
   "metadata": {},
   "outputs": [
    {
     "data": {
      "text/html": [
       "<div>\n",
       "<style scoped>\n",
       "    .dataframe tbody tr th:only-of-type {\n",
       "        vertical-align: middle;\n",
       "    }\n",
       "\n",
       "    .dataframe tbody tr th {\n",
       "        vertical-align: top;\n",
       "    }\n",
       "\n",
       "    .dataframe thead th {\n",
       "        text-align: right;\n",
       "    }\n",
       "</style>\n",
       "<table border=\"1\" class=\"dataframe\">\n",
       "  <thead>\n",
       "    <tr style=\"text-align: right;\">\n",
       "      <th></th>\n",
       "      <th>debt</th>\n",
       "    </tr>\n",
       "    <tr>\n",
       "      <th>purpose_category</th>\n",
       "      <th></th>\n",
       "    </tr>\n",
       "  </thead>\n",
       "  <tbody>\n",
       "    <tr>\n",
       "      <th>операции с автомобилем</th>\n",
       "      <td>0.093590</td>\n",
       "    </tr>\n",
       "    <tr>\n",
       "      <th>операции с недвижимостью</th>\n",
       "      <td>0.072334</td>\n",
       "    </tr>\n",
       "    <tr>\n",
       "      <th>получение образования</th>\n",
       "      <td>0.092200</td>\n",
       "    </tr>\n",
       "    <tr>\n",
       "      <th>проведение свадьбы</th>\n",
       "      <td>0.080069</td>\n",
       "    </tr>\n",
       "  </tbody>\n",
       "</table>\n",
       "</div>"
      ],
      "text/plain": [
       "                              debt\n",
       "purpose_category                  \n",
       "операции с автомобилем    0.093590\n",
       "операции с недвижимостью  0.072334\n",
       "получение образования     0.092200\n",
       "проведение свадьбы        0.080069"
      ]
     },
     "execution_count": 36,
     "metadata": {},
     "output_type": "execute_result"
    }
   ],
   "source": [
    "pd.pivot_table(data,index=[\"purpose_category\"],values=[\"debt\"])"
   ]
  },
  {
   "cell_type": "markdown",
   "id": "b327a579",
   "metadata": {},
   "source": [
    "Заемщики с целью покупки недвижимости более склонны возвращать кредита в срок."
   ]
  },
  {
   "cell_type": "markdown",
   "id": "78cb6823",
   "metadata": {},
   "source": [
    "Семеное положение и количество детей влияет на факт погашения кредита в строк:\n",
    "-заемщики с официально оформленными отношениями (или которые в прошлом были в официальном в браке) и не имеющие детей - самые ответственные заемщики.\n",
    "-заемщики, состоящие в неофициальном браке или находящиеся без отношений, при этом имеющие 1 или 2 детей - самые менее ответственные заемщики.\n"
   ]
  },
  {
   "cell_type": "markdown",
   "id": "eafd1fd5",
   "metadata": {},
   "source": [
    "## Общий вывод: \n",
    "* В ходе работы изучили общую информацию о данных банка.\n",
    "Проделали предобработку данных. В ходе которых можно сделать такой вывод.\n",
    "Действительно, семейное положение и количество детей клиента влияют на факт погашения кредита. Но еще стоит отметить, что большенство кредитов выплачиваются в срок с целью приобретения недвижимости и автокредита, менее всего на свадьбу. так же люди имеющие низкий уровень дохода более ответственно подходят к погашению кредита в срок. Из всего этого следует, что банку менее рисковано выдавать кредит людям с целью приобретения жилья."
   ]
  },
  {
   "cell_type": "code",
   "execution_count": null,
   "id": "94c76fad",
   "metadata": {},
   "outputs": [],
   "source": []
  }
 ],
 "metadata": {
  "ExecuteTimeLog": [
   {
    "duration": 720,
    "start_time": "2022-03-12T11:31:10.369Z"
   },
   {
    "duration": 92,
    "start_time": "2022-03-12T11:43:24.848Z"
   },
   {
    "duration": 65,
    "start_time": "2022-03-12T12:08:24.010Z"
   },
   {
    "duration": 67,
    "start_time": "2022-03-12T12:08:49.550Z"
   },
   {
    "duration": 15,
    "start_time": "2022-03-12T12:08:51.430Z"
   },
   {
    "duration": 105,
    "start_time": "2022-03-12T13:50:38.263Z"
   },
   {
    "duration": 36,
    "start_time": "2022-03-12T13:50:42.472Z"
   },
   {
    "duration": 92,
    "start_time": "2022-03-12T13:58:21.457Z"
   },
   {
    "duration": 23,
    "start_time": "2022-03-12T13:58:30.198Z"
   },
   {
    "duration": 100,
    "start_time": "2022-03-12T14:01:38.197Z"
   },
   {
    "duration": 851,
    "start_time": "2022-03-12T21:52:02.140Z"
   },
   {
    "duration": 76,
    "start_time": "2022-03-12T21:52:18.300Z"
   },
   {
    "duration": 85,
    "start_time": "2022-03-12T21:57:59.261Z"
   },
   {
    "duration": 87,
    "start_time": "2022-03-12T21:58:45.381Z"
   },
   {
    "duration": 83,
    "start_time": "2022-03-12T21:59:31.261Z"
   },
   {
    "duration": 85,
    "start_time": "2022-03-12T21:59:44.060Z"
   },
   {
    "duration": 23,
    "start_time": "2022-03-12T22:01:02.940Z"
   },
   {
    "duration": 77,
    "start_time": "2022-03-12T22:01:23.504Z"
   },
   {
    "duration": 412,
    "start_time": "2022-03-12T22:02:03.101Z"
   },
   {
    "duration": 24,
    "start_time": "2022-03-12T22:13:55.330Z"
   },
   {
    "duration": 99,
    "start_time": "2022-03-12T22:21:27.749Z"
   },
   {
    "duration": 117,
    "start_time": "2022-03-12T22:22:04.928Z"
   },
   {
    "duration": 24,
    "start_time": "2022-03-12T22:22:46.768Z"
   },
   {
    "duration": 14,
    "start_time": "2022-03-12T22:40:27.712Z"
   },
   {
    "duration": 138,
    "start_time": "2022-03-12T22:43:37.833Z"
   },
   {
    "duration": 12,
    "start_time": "2022-03-12T22:44:35.085Z"
   },
   {
    "duration": 44,
    "start_time": "2022-03-12T22:59:29.629Z"
   },
   {
    "duration": 21,
    "start_time": "2022-03-12T23:08:01.201Z"
   },
   {
    "duration": 22,
    "start_time": "2022-03-12T23:09:03.442Z"
   },
   {
    "duration": 99,
    "start_time": "2022-03-13T13:17:09.949Z"
   },
   {
    "duration": 102,
    "start_time": "2022-03-13T13:17:18.186Z"
   },
   {
    "duration": 648,
    "start_time": "2022-03-13T13:17:25.189Z"
   },
   {
    "duration": 10,
    "start_time": "2022-03-13T13:17:25.839Z"
   },
   {
    "duration": 105,
    "start_time": "2022-03-13T13:17:26.609Z"
   },
   {
    "duration": 29,
    "start_time": "2022-03-13T13:17:27.019Z"
   },
   {
    "duration": 92,
    "start_time": "2022-03-13T13:17:27.429Z"
   },
   {
    "duration": 94,
    "start_time": "2022-03-13T13:17:28.479Z"
   },
   {
    "duration": 10,
    "start_time": "2022-03-13T13:17:28.949Z"
   },
   {
    "duration": 104,
    "start_time": "2022-03-13T13:17:29.749Z"
   },
   {
    "duration": 8,
    "start_time": "2022-03-13T13:17:30.189Z"
   },
   {
    "duration": 95,
    "start_time": "2022-03-13T13:17:31.670Z"
   },
   {
    "duration": 105,
    "start_time": "2022-03-13T13:17:32.010Z"
   },
   {
    "duration": 355,
    "start_time": "2022-03-13T13:17:33.749Z"
   },
   {
    "duration": 93,
    "start_time": "2022-03-13T13:17:34.469Z"
   },
   {
    "duration": 121,
    "start_time": "2022-03-13T13:17:37.358Z"
   },
   {
    "duration": 92,
    "start_time": "2022-03-13T13:17:38.790Z"
   },
   {
    "duration": 120,
    "start_time": "2022-03-13T13:18:15.030Z"
   },
   {
    "duration": 129,
    "start_time": "2022-03-13T13:20:18.469Z"
   },
   {
    "duration": 1273,
    "start_time": "2022-03-13T13:20:50.226Z"
   },
   {
    "duration": 1267,
    "start_time": "2022-03-13T13:23:36.457Z"
   },
   {
    "duration": 1211,
    "start_time": "2022-03-13T13:24:08.019Z"
   },
   {
    "duration": 1272,
    "start_time": "2022-03-13T13:27:46.268Z"
   },
   {
    "duration": 1233,
    "start_time": "2022-03-13T13:28:20.917Z"
   },
   {
    "duration": 106,
    "start_time": "2022-03-13T13:29:02.421Z"
   },
   {
    "duration": 1317,
    "start_time": "2022-03-13T13:29:04.299Z"
   },
   {
    "duration": 292,
    "start_time": "2022-03-13T13:31:52.686Z"
   },
   {
    "duration": 19,
    "start_time": "2022-03-13T13:32:20.941Z"
   },
   {
    "duration": 341,
    "start_time": "2022-03-14T11:43:03.929Z"
   },
   {
    "duration": 830,
    "start_time": "2022-03-14T11:43:09.081Z"
   },
   {
    "duration": 17,
    "start_time": "2022-03-14T11:43:09.915Z"
   },
   {
    "duration": 47,
    "start_time": "2022-03-14T11:44:03.400Z"
   },
   {
    "duration": 15,
    "start_time": "2022-03-14T11:45:08.144Z"
   },
   {
    "duration": 6,
    "start_time": "2022-03-14T11:54:54.802Z"
   },
   {
    "duration": 5,
    "start_time": "2022-03-14T12:08:28.066Z"
   },
   {
    "duration": 8,
    "start_time": "2022-03-14T12:10:25.606Z"
   },
   {
    "duration": 7,
    "start_time": "2022-03-14T12:10:50.865Z"
   },
   {
    "duration": 5,
    "start_time": "2022-03-14T12:20:12.437Z"
   },
   {
    "duration": 5,
    "start_time": "2022-03-14T12:20:17.277Z"
   },
   {
    "duration": 5,
    "start_time": "2022-03-14T12:21:01.616Z"
   },
   {
    "duration": 9,
    "start_time": "2022-03-14T12:25:59.708Z"
   },
   {
    "duration": 6,
    "start_time": "2022-03-14T12:28:07.583Z"
   },
   {
    "duration": 73,
    "start_time": "2022-03-14T13:04:19.454Z"
   },
   {
    "duration": 25,
    "start_time": "2022-03-14T13:05:28.598Z"
   },
   {
    "duration": 29,
    "start_time": "2022-03-14T13:06:00.374Z"
   },
   {
    "duration": 5,
    "start_time": "2022-03-14T13:08:23.895Z"
   },
   {
    "duration": 13,
    "start_time": "2022-03-14T13:08:56.295Z"
   },
   {
    "duration": 5,
    "start_time": "2022-03-14T13:17:25.599Z"
   },
   {
    "duration": 8,
    "start_time": "2022-03-14T13:19:03.834Z"
   },
   {
    "duration": 5,
    "start_time": "2022-03-14T13:19:51.192Z"
   },
   {
    "duration": 10,
    "start_time": "2022-03-14T13:22:21.622Z"
   },
   {
    "duration": 24,
    "start_time": "2022-03-14T13:23:25.593Z"
   },
   {
    "duration": 27,
    "start_time": "2022-03-14T13:38:50.001Z"
   },
   {
    "duration": 23,
    "start_time": "2022-03-14T13:39:00.421Z"
   },
   {
    "duration": 87,
    "start_time": "2022-03-14T13:45:33.420Z"
   },
   {
    "duration": 87,
    "start_time": "2022-03-14T13:45:37.472Z"
   },
   {
    "duration": 86,
    "start_time": "2022-03-14T13:45:54.481Z"
   },
   {
    "duration": 24,
    "start_time": "2022-03-14T13:53:27.296Z"
   },
   {
    "duration": 52,
    "start_time": "2022-03-14T13:54:09.297Z"
   },
   {
    "duration": 8,
    "start_time": "2022-03-14T13:54:48.877Z"
   },
   {
    "duration": 7,
    "start_time": "2022-03-14T13:54:51.868Z"
   },
   {
    "duration": 50,
    "start_time": "2022-03-14T13:55:32.507Z"
   },
   {
    "duration": 41,
    "start_time": "2022-03-14T14:06:02.327Z"
   },
   {
    "duration": 317,
    "start_time": "2022-03-14T14:17:00.038Z"
   },
   {
    "duration": 273,
    "start_time": "2022-03-14T14:17:33.706Z"
   },
   {
    "duration": 61,
    "start_time": "2022-03-14T14:18:06.776Z"
   },
   {
    "duration": 52,
    "start_time": "2022-03-14T14:18:24.507Z"
   },
   {
    "duration": 17,
    "start_time": "2022-03-14T14:21:49.489Z"
   },
   {
    "duration": 57,
    "start_time": "2022-03-14T14:21:56.628Z"
   },
   {
    "duration": 48,
    "start_time": "2022-03-14T14:22:02.698Z"
   },
   {
    "duration": 22,
    "start_time": "2022-03-14T14:24:38.106Z"
   },
   {
    "duration": 29,
    "start_time": "2022-03-14T14:26:51.788Z"
   },
   {
    "duration": 54,
    "start_time": "2022-03-14T14:30:20.458Z"
   },
   {
    "duration": 28,
    "start_time": "2022-03-14T14:33:43.237Z"
   },
   {
    "duration": 33,
    "start_time": "2022-03-14T14:34:10.528Z"
   },
   {
    "duration": 31,
    "start_time": "2022-03-14T14:37:45.668Z"
   },
   {
    "duration": 30,
    "start_time": "2022-03-14T14:38:08.528Z"
   },
   {
    "duration": 676,
    "start_time": "2022-03-15T10:00:00.547Z"
   },
   {
    "duration": 12,
    "start_time": "2022-03-15T10:00:05.106Z"
   },
   {
    "duration": 35,
    "start_time": "2022-03-15T10:00:08.967Z"
   },
   {
    "duration": 11,
    "start_time": "2022-03-15T10:00:15.115Z"
   },
   {
    "duration": 10,
    "start_time": "2022-03-15T10:00:19.506Z"
   },
   {
    "duration": 247,
    "start_time": "2022-03-15T10:00:31.667Z"
   },
   {
    "duration": 4,
    "start_time": "2022-03-15T10:00:41.867Z"
   },
   {
    "duration": 22,
    "start_time": "2022-03-15T10:01:02.487Z"
   },
   {
    "duration": 14,
    "start_time": "2022-03-15T10:01:16.467Z"
   },
   {
    "duration": 41,
    "start_time": "2022-03-15T10:01:52.142Z"
   },
   {
    "duration": 16,
    "start_time": "2022-03-15T10:02:06.346Z"
   },
   {
    "duration": 4,
    "start_time": "2022-03-15T10:02:35.987Z"
   },
   {
    "duration": 9,
    "start_time": "2022-03-15T10:02:38.467Z"
   },
   {
    "duration": 7,
    "start_time": "2022-03-15T10:02:48.667Z"
   },
   {
    "duration": 6,
    "start_time": "2022-03-15T10:02:54.467Z"
   },
   {
    "duration": 33,
    "start_time": "2022-03-15T10:02:57.987Z"
   },
   {
    "duration": 13,
    "start_time": "2022-03-15T10:03:06.467Z"
   },
   {
    "duration": 18,
    "start_time": "2022-03-15T10:03:14.307Z"
   },
   {
    "duration": 34,
    "start_time": "2022-03-15T10:03:16.707Z"
   },
   {
    "duration": 16,
    "start_time": "2022-03-15T10:04:04.237Z"
   },
   {
    "duration": 18,
    "start_time": "2022-03-15T10:04:05.328Z"
   },
   {
    "duration": 23,
    "start_time": "2022-03-15T10:04:16.306Z"
   },
   {
    "duration": 215,
    "start_time": "2022-03-15T10:04:20.807Z"
   },
   {
    "duration": 180,
    "start_time": "2022-03-15T10:04:40.146Z"
   },
   {
    "duration": 186,
    "start_time": "2022-03-15T10:14:07.210Z"
   },
   {
    "duration": 195,
    "start_time": "2022-03-15T10:17:44.490Z"
   },
   {
    "duration": 12,
    "start_time": "2022-03-15T10:18:01.369Z"
   },
   {
    "duration": 12,
    "start_time": "2022-03-15T10:25:30.630Z"
   },
   {
    "duration": 899,
    "start_time": "2022-03-15T10:40:11.845Z"
   },
   {
    "duration": 76,
    "start_time": "2022-03-15T10:43:59.444Z"
   },
   {
    "duration": 22,
    "start_time": "2022-03-15T10:44:07.454Z"
   },
   {
    "duration": 17,
    "start_time": "2022-03-15T11:37:37.236Z"
   },
   {
    "duration": 16,
    "start_time": "2022-03-15T11:38:18.116Z"
   },
   {
    "duration": 830,
    "start_time": "2022-03-15T11:40:40.250Z"
   },
   {
    "duration": 227,
    "start_time": "2022-03-15T11:40:56.091Z"
   },
   {
    "duration": 250,
    "start_time": "2022-03-15T11:42:00.811Z"
   },
   {
    "duration": 247,
    "start_time": "2022-03-15T11:43:30.616Z"
   },
   {
    "duration": 690,
    "start_time": "2022-03-15T11:52:23.210Z"
   },
   {
    "duration": 230,
    "start_time": "2022-03-15T11:52:35.127Z"
   },
   {
    "duration": 229,
    "start_time": "2022-03-15T12:12:20.004Z"
   },
   {
    "duration": 209,
    "start_time": "2022-03-15T12:12:42.544Z"
   },
   {
    "duration": 9,
    "start_time": "2022-03-15T12:12:53.365Z"
   },
   {
    "duration": 12,
    "start_time": "2022-03-15T12:13:30.184Z"
   },
   {
    "duration": 443,
    "start_time": "2022-03-15T12:24:05.039Z"
   },
   {
    "duration": 289,
    "start_time": "2022-03-15T12:24:32.579Z"
   },
   {
    "duration": 291,
    "start_time": "2022-03-15T12:24:56.358Z"
   },
   {
    "duration": 319,
    "start_time": "2022-03-15T12:25:57.858Z"
   },
   {
    "duration": 322,
    "start_time": "2022-03-15T12:27:17.657Z"
   },
   {
    "duration": 269,
    "start_time": "2022-03-15T12:30:57.160Z"
   },
   {
    "duration": 187,
    "start_time": "2022-03-15T12:32:32.659Z"
   },
   {
    "duration": 11,
    "start_time": "2022-03-15T12:35:20.239Z"
   },
   {
    "duration": 11,
    "start_time": "2022-03-15T12:37:22.179Z"
   },
   {
    "duration": 11,
    "start_time": "2022-03-15T12:37:31.638Z"
   },
   {
    "duration": 10,
    "start_time": "2022-03-15T12:45:46.677Z"
   },
   {
    "duration": 18,
    "start_time": "2022-03-15T12:57:51.629Z"
   },
   {
    "duration": 16,
    "start_time": "2022-03-15T12:58:51.009Z"
   },
   {
    "duration": 17,
    "start_time": "2022-03-15T13:00:36.094Z"
   },
   {
    "duration": 18,
    "start_time": "2022-03-15T13:01:08.234Z"
   },
   {
    "duration": 17,
    "start_time": "2022-03-15T13:02:24.274Z"
   },
   {
    "duration": 17,
    "start_time": "2022-03-15T13:05:26.343Z"
   },
   {
    "duration": 55,
    "start_time": "2022-03-15T14:16:40.884Z"
   },
   {
    "duration": 12,
    "start_time": "2022-03-15T14:16:44.723Z"
   },
   {
    "duration": 34,
    "start_time": "2022-03-15T14:16:52.203Z"
   },
   {
    "duration": 11,
    "start_time": "2022-03-15T14:16:56.603Z"
   },
   {
    "duration": 10,
    "start_time": "2022-03-15T14:16:58.167Z"
   },
   {
    "duration": 2,
    "start_time": "2022-03-15T14:17:00.123Z"
   },
   {
    "duration": 99,
    "start_time": "2022-03-15T14:17:01.724Z"
   },
   {
    "duration": 2,
    "start_time": "2022-03-15T14:17:03.273Z"
   },
   {
    "duration": 5,
    "start_time": "2022-03-15T14:17:05.483Z"
   },
   {
    "duration": 36,
    "start_time": "2022-03-15T14:17:15.083Z"
   },
   {
    "duration": 22,
    "start_time": "2022-03-15T14:17:16.284Z"
   },
   {
    "duration": 15,
    "start_time": "2022-03-15T14:17:18.403Z"
   },
   {
    "duration": 21,
    "start_time": "2022-03-15T14:17:34.383Z"
   },
   {
    "duration": 13,
    "start_time": "2022-03-15T14:17:34.693Z"
   },
   {
    "duration": 38,
    "start_time": "2022-03-15T14:17:35.083Z"
   },
   {
    "duration": 16,
    "start_time": "2022-03-15T14:17:35.423Z"
   },
   {
    "duration": 38,
    "start_time": "2022-03-15T14:17:35.574Z"
   },
   {
    "duration": 5,
    "start_time": "2022-03-15T14:17:35.773Z"
   },
   {
    "duration": 9,
    "start_time": "2022-03-15T14:17:36.143Z"
   },
   {
    "duration": 7,
    "start_time": "2022-03-15T14:17:36.523Z"
   },
   {
    "duration": 7,
    "start_time": "2022-03-15T14:17:36.663Z"
   },
   {
    "duration": 38,
    "start_time": "2022-03-15T14:17:36.863Z"
   },
   {
    "duration": 14,
    "start_time": "2022-03-15T14:17:37.643Z"
   },
   {
    "duration": 27,
    "start_time": "2022-03-15T14:17:38.043Z"
   },
   {
    "duration": 41,
    "start_time": "2022-03-15T14:17:38.253Z"
   },
   {
    "duration": 19,
    "start_time": "2022-03-15T14:17:38.473Z"
   },
   {
    "duration": 16,
    "start_time": "2022-03-15T14:17:38.703Z"
   },
   {
    "duration": 27,
    "start_time": "2022-03-15T14:17:38.963Z"
   },
   {
    "duration": 13,
    "start_time": "2022-03-15T14:17:44.324Z"
   },
   {
    "duration": 12,
    "start_time": "2022-03-15T14:17:45.083Z"
   },
   {
    "duration": 24,
    "start_time": "2022-03-15T14:17:47.184Z"
   },
   {
    "duration": 325,
    "start_time": "2022-03-15T14:17:49.163Z"
   },
   {
    "duration": 25,
    "start_time": "2022-03-15T15:33:12.107Z"
   },
   {
    "duration": 24,
    "start_time": "2022-03-15T15:34:07.517Z"
   },
   {
    "duration": 23,
    "start_time": "2022-03-15T15:34:14.676Z"
   },
   {
    "duration": 23,
    "start_time": "2022-03-15T15:34:32.997Z"
   },
   {
    "duration": 105,
    "start_time": "2022-03-15T15:36:28.396Z"
   },
   {
    "duration": 55,
    "start_time": "2022-03-15T15:36:34.996Z"
   },
   {
    "duration": 12,
    "start_time": "2022-03-15T15:36:35.626Z"
   },
   {
    "duration": 33,
    "start_time": "2022-03-15T15:36:36.156Z"
   },
   {
    "duration": 11,
    "start_time": "2022-03-15T15:36:36.676Z"
   },
   {
    "duration": 9,
    "start_time": "2022-03-15T15:36:37.016Z"
   },
   {
    "duration": 2,
    "start_time": "2022-03-15T15:36:37.387Z"
   },
   {
    "duration": 116,
    "start_time": "2022-03-15T15:36:37.546Z"
   },
   {
    "duration": 3,
    "start_time": "2022-03-15T15:36:37.717Z"
   },
   {
    "duration": 4,
    "start_time": "2022-03-15T15:36:37.897Z"
   },
   {
    "duration": 20,
    "start_time": "2022-03-15T15:36:38.796Z"
   },
   {
    "duration": 13,
    "start_time": "2022-03-15T15:36:38.958Z"
   },
   {
    "duration": 37,
    "start_time": "2022-03-15T15:36:39.126Z"
   },
   {
    "duration": 15,
    "start_time": "2022-03-15T15:36:40.347Z"
   },
   {
    "duration": 40,
    "start_time": "2022-03-15T15:36:40.364Z"
   },
   {
    "duration": 49,
    "start_time": "2022-03-15T15:36:40.357Z"
   },
   {
    "duration": 8,
    "start_time": "2022-03-15T15:36:40.486Z"
   },
   {
    "duration": 7,
    "start_time": "2022-03-15T15:36:41.437Z"
   },
   {
    "duration": 5,
    "start_time": "2022-03-15T15:36:41.917Z"
   },
   {
    "duration": 33,
    "start_time": "2022-03-15T15:36:42.276Z"
   },
   {
    "duration": 13,
    "start_time": "2022-03-15T15:36:44.493Z"
   },
   {
    "duration": 16,
    "start_time": "2022-03-15T15:36:44.508Z"
   },
   {
    "duration": 33,
    "start_time": "2022-03-15T15:36:44.596Z"
   },
   {
    "duration": 17,
    "start_time": "2022-03-15T15:36:44.746Z"
   },
   {
    "duration": 18,
    "start_time": "2022-03-15T15:36:45.237Z"
   },
   {
    "duration": 20,
    "start_time": "2022-03-15T15:36:45.636Z"
   },
   {
    "duration": 14,
    "start_time": "2022-03-15T15:36:48.396Z"
   },
   {
    "duration": 12,
    "start_time": "2022-03-15T15:36:51.381Z"
   },
   {
    "duration": 22,
    "start_time": "2022-03-15T15:36:53.896Z"
   },
   {
    "duration": 27,
    "start_time": "2022-03-15T15:37:07.347Z"
   },
   {
    "duration": 25,
    "start_time": "2022-03-15T15:37:20.716Z"
   },
   {
    "duration": 24,
    "start_time": "2022-03-15T15:37:26.717Z"
   },
   {
    "duration": 15,
    "start_time": "2022-03-15T15:37:32.396Z"
   },
   {
    "duration": 12,
    "start_time": "2022-03-15T15:37:33.036Z"
   },
   {
    "duration": 22,
    "start_time": "2022-03-15T15:37:34.716Z"
   },
   {
    "duration": 29,
    "start_time": "2022-03-15T15:37:50.196Z"
   },
   {
    "duration": 20,
    "start_time": "2022-03-15T15:42:49.277Z"
   },
   {
    "duration": 16,
    "start_time": "2022-03-15T15:43:10.192Z"
   },
   {
    "duration": 3,
    "start_time": "2022-03-15T15:43:23.757Z"
   },
   {
    "duration": 19,
    "start_time": "2022-03-15T15:43:32.083Z"
   },
   {
    "duration": 220,
    "start_time": "2022-03-15T15:44:38.127Z"
   },
   {
    "duration": 97,
    "start_time": "2022-03-15T15:47:18.478Z"
   },
   {
    "duration": 11,
    "start_time": "2022-03-15T15:50:44.878Z"
   },
   {
    "duration": 280,
    "start_time": "2022-03-15T15:52:37.319Z"
   },
   {
    "duration": 20,
    "start_time": "2022-03-15T15:58:01.503Z"
   },
   {
    "duration": 16,
    "start_time": "2022-03-15T16:00:46.123Z"
   },
   {
    "duration": 17,
    "start_time": "2022-03-15T16:00:53.083Z"
   },
   {
    "duration": 31,
    "start_time": "2022-03-15T16:01:25.664Z"
   },
   {
    "duration": 18,
    "start_time": "2022-03-15T16:01:48.123Z"
   },
   {
    "duration": 37,
    "start_time": "2022-03-15T16:02:01.303Z"
   },
   {
    "duration": 175,
    "start_time": "2022-03-15T16:02:23.724Z"
   },
   {
    "duration": 22,
    "start_time": "2022-03-15T16:03:50.763Z"
   },
   {
    "duration": 101,
    "start_time": "2022-03-15T16:04:37.683Z"
   },
   {
    "duration": 580,
    "start_time": "2022-03-15T21:40:35.000Z"
   },
   {
    "duration": 11,
    "start_time": "2022-03-15T21:40:35.658Z"
   },
   {
    "duration": 29,
    "start_time": "2022-03-15T21:40:36.438Z"
   },
   {
    "duration": 11,
    "start_time": "2022-03-15T21:40:37.076Z"
   },
   {
    "duration": 9,
    "start_time": "2022-03-15T21:40:37.477Z"
   },
   {
    "duration": 3,
    "start_time": "2022-03-15T21:40:37.857Z"
   },
   {
    "duration": 215,
    "start_time": "2022-03-15T21:40:38.060Z"
   },
   {
    "duration": -555,
    "start_time": "2022-03-15T21:40:38.832Z"
   },
   {
    "duration": 4,
    "start_time": "2022-03-15T21:40:38.476Z"
   },
   {
    "duration": 21,
    "start_time": "2022-03-15T21:40:39.480Z"
   },
   {
    "duration": 12,
    "start_time": "2022-03-15T21:40:39.702Z"
   },
   {
    "duration": 35,
    "start_time": "2022-03-15T21:40:39.867Z"
   },
   {
    "duration": 14,
    "start_time": "2022-03-15T21:40:40.758Z"
   },
   {
    "duration": 58,
    "start_time": "2022-03-15T21:40:41.077Z"
   },
   {
    "duration": 4,
    "start_time": "2022-03-15T21:40:41.357Z"
   },
   {
    "duration": 8,
    "start_time": "2022-03-15T21:40:41.639Z"
   },
   {
    "duration": 8,
    "start_time": "2022-03-15T21:40:42.276Z"
   },
   {
    "duration": 6,
    "start_time": "2022-03-15T21:40:42.636Z"
   },
   {
    "duration": 32,
    "start_time": "2022-03-15T21:40:42.959Z"
   },
   {
    "duration": 12,
    "start_time": "2022-03-15T21:40:43.646Z"
   },
   {
    "duration": 16,
    "start_time": "2022-03-15T21:40:45.206Z"
   },
   {
    "duration": 31,
    "start_time": "2022-03-15T21:40:45.810Z"
   },
   {
    "duration": 16,
    "start_time": "2022-03-15T21:40:46.196Z"
   },
   {
    "duration": 17,
    "start_time": "2022-03-15T21:40:46.518Z"
   },
   {
    "duration": 21,
    "start_time": "2022-03-15T21:40:46.818Z"
   },
   {
    "duration": 18,
    "start_time": "2022-03-15T21:40:47.426Z"
   },
   {
    "duration": 11,
    "start_time": "2022-03-15T21:40:47.742Z"
   },
   {
    "duration": 24,
    "start_time": "2022-03-15T21:40:48.425Z"
   },
   {
    "duration": 25,
    "start_time": "2022-03-15T21:40:49.218Z"
   },
   {
    "duration": 265,
    "start_time": "2022-03-15T21:42:46.038Z"
   },
   {
    "duration": 54,
    "start_time": "2022-03-15T21:44:50.036Z"
   },
   {
    "duration": 172,
    "start_time": "2022-03-15T21:45:50.440Z"
   },
   {
    "duration": 379,
    "start_time": "2022-03-15T21:46:40.838Z"
   },
   {
    "duration": 448,
    "start_time": "2022-03-15T21:49:06.546Z"
   },
   {
    "duration": 10,
    "start_time": "2022-03-15T21:59:48.795Z"
   },
   {
    "duration": 162,
    "start_time": "2022-03-15T22:15:46.309Z"
   },
   {
    "duration": 4,
    "start_time": "2022-03-15T22:16:49.190Z"
   },
   {
    "duration": 4,
    "start_time": "2022-03-15T22:16:55.403Z"
   },
   {
    "duration": 4,
    "start_time": "2022-03-15T22:17:00.532Z"
   },
   {
    "duration": 24,
    "start_time": "2022-03-15T22:19:37.287Z"
   },
   {
    "duration": 4,
    "start_time": "2022-03-15T22:39:59.042Z"
   },
   {
    "duration": 13,
    "start_time": "2022-03-15T22:42:28.682Z"
   },
   {
    "duration": 5,
    "start_time": "2022-03-15T22:49:49.791Z"
   },
   {
    "duration": 16,
    "start_time": "2022-03-15T22:49:51.767Z"
   },
   {
    "duration": 5,
    "start_time": "2022-03-15T22:49:54.878Z"
   },
   {
    "duration": 17,
    "start_time": "2022-03-15T22:50:29.358Z"
   },
   {
    "duration": 18,
    "start_time": "2022-03-15T22:51:28.559Z"
   },
   {
    "duration": 4,
    "start_time": "2022-03-15T22:51:49.810Z"
   },
   {
    "duration": 7,
    "start_time": "2022-03-15T22:52:23.921Z"
   },
   {
    "duration": 7,
    "start_time": "2022-03-15T22:52:26.334Z"
   },
   {
    "duration": 5,
    "start_time": "2022-03-15T22:52:33.920Z"
   },
   {
    "duration": 31,
    "start_time": "2022-03-15T22:52:42.961Z"
   },
   {
    "duration": 6,
    "start_time": "2022-03-15T23:00:29.444Z"
   },
   {
    "duration": 6,
    "start_time": "2022-03-15T23:01:46.723Z"
   },
   {
    "duration": 5,
    "start_time": "2022-03-15T23:02:13.281Z"
   },
   {
    "duration": 5,
    "start_time": "2022-03-15T23:03:15.441Z"
   },
   {
    "duration": 54,
    "start_time": "2022-03-15T23:07:07.841Z"
   },
   {
    "duration": 636,
    "start_time": "2022-03-17T00:04:05.514Z"
   },
   {
    "duration": 53,
    "start_time": "2022-03-17T00:05:18.939Z"
   },
   {
    "duration": 10,
    "start_time": "2022-03-17T00:05:36.169Z"
   },
   {
    "duration": 115,
    "start_time": "2022-03-17T00:09:13.933Z"
   },
   {
    "duration": 122,
    "start_time": "2022-03-17T00:13:12.696Z"
   },
   {
    "duration": 9,
    "start_time": "2022-03-17T00:19:34.162Z"
   },
   {
    "duration": 103,
    "start_time": "2022-03-17T00:20:53.764Z"
   },
   {
    "duration": 183,
    "start_time": "2022-03-17T00:40:07.142Z"
   },
   {
    "duration": 597,
    "start_time": "2022-03-17T01:53:15.038Z"
   },
   {
    "duration": 9,
    "start_time": "2022-03-17T01:53:15.637Z"
   },
   {
    "duration": 27,
    "start_time": "2022-03-17T01:53:15.648Z"
   },
   {
    "duration": 24,
    "start_time": "2022-03-17T01:53:15.677Z"
   },
   {
    "duration": 8,
    "start_time": "2022-03-17T01:53:15.702Z"
   },
   {
    "duration": 4,
    "start_time": "2022-03-17T01:53:15.711Z"
   },
   {
    "duration": 5,
    "start_time": "2022-03-17T01:53:15.716Z"
   },
   {
    "duration": 8,
    "start_time": "2022-03-17T01:53:15.723Z"
   },
   {
    "duration": 3,
    "start_time": "2022-03-17T01:53:15.734Z"
   },
   {
    "duration": 8,
    "start_time": "2022-03-17T01:53:15.738Z"
   },
   {
    "duration": 7,
    "start_time": "2022-03-17T01:53:15.747Z"
   },
   {
    "duration": 9,
    "start_time": "2022-03-17T01:53:15.755Z"
   },
   {
    "duration": 36,
    "start_time": "2022-03-17T01:53:15.766Z"
   },
   {
    "duration": 14,
    "start_time": "2022-03-17T01:53:15.803Z"
   },
   {
    "duration": 3,
    "start_time": "2022-03-17T01:53:15.819Z"
   },
   {
    "duration": 12,
    "start_time": "2022-03-17T01:53:15.823Z"
   },
   {
    "duration": 9,
    "start_time": "2022-03-17T01:53:15.836Z"
   },
   {
    "duration": 11,
    "start_time": "2022-03-17T01:53:15.846Z"
   },
   {
    "duration": 44,
    "start_time": "2022-03-17T01:53:15.858Z"
   },
   {
    "duration": 11,
    "start_time": "2022-03-17T01:53:15.903Z"
   },
   {
    "duration": 14,
    "start_time": "2022-03-17T01:53:15.915Z"
   },
   {
    "duration": 27,
    "start_time": "2022-03-17T01:53:15.930Z"
   },
   {
    "duration": 14,
    "start_time": "2022-03-17T01:53:15.958Z"
   },
   {
    "duration": 42,
    "start_time": "2022-03-17T01:53:15.973Z"
   },
   {
    "duration": 23,
    "start_time": "2022-03-17T01:53:16.017Z"
   },
   {
    "duration": 13,
    "start_time": "2022-03-17T01:53:16.042Z"
   },
   {
    "duration": 10,
    "start_time": "2022-03-17T01:53:16.058Z"
   },
   {
    "duration": 42,
    "start_time": "2022-03-17T01:53:16.070Z"
   },
   {
    "duration": 17,
    "start_time": "2022-03-17T01:53:16.114Z"
   },
   {
    "duration": 269,
    "start_time": "2022-03-17T01:53:16.133Z"
   },
   {
    "duration": 7,
    "start_time": "2022-03-17T01:53:16.403Z"
   },
   {
    "duration": 401,
    "start_time": "2022-03-17T01:53:16.412Z"
   },
   {
    "duration": 8,
    "start_time": "2022-03-17T01:53:16.814Z"
   },
   {
    "duration": 112,
    "start_time": "2022-03-17T01:57:16.858Z"
   },
   {
    "duration": 63,
    "start_time": "2022-03-17T06:34:54.892Z"
   },
   {
    "duration": 10,
    "start_time": "2022-03-17T06:34:54.957Z"
   },
   {
    "duration": 43,
    "start_time": "2022-03-17T06:34:54.970Z"
   },
   {
    "duration": 9,
    "start_time": "2022-03-17T06:34:55.015Z"
   },
   {
    "duration": 8,
    "start_time": "2022-03-17T06:34:55.025Z"
   },
   {
    "duration": 5,
    "start_time": "2022-03-17T06:34:55.035Z"
   },
   {
    "duration": 7,
    "start_time": "2022-03-17T06:34:55.041Z"
   },
   {
    "duration": 10,
    "start_time": "2022-03-17T06:34:55.051Z"
   },
   {
    "duration": 2,
    "start_time": "2022-03-17T06:34:55.063Z"
   },
   {
    "duration": 4,
    "start_time": "2022-03-17T06:34:55.102Z"
   },
   {
    "duration": 4,
    "start_time": "2022-03-17T06:34:55.107Z"
   },
   {
    "duration": 8,
    "start_time": "2022-03-17T06:34:55.112Z"
   },
   {
    "duration": 15,
    "start_time": "2022-03-17T06:34:55.122Z"
   },
   {
    "duration": 14,
    "start_time": "2022-03-17T06:34:55.139Z"
   },
   {
    "duration": 6,
    "start_time": "2022-03-17T06:35:01.247Z"
   },
   {
    "duration": 105,
    "start_time": "2022-03-17T06:42:23.690Z"
   },
   {
    "duration": 109,
    "start_time": "2022-03-17T06:50:37.542Z"
   },
   {
    "duration": 8305,
    "start_time": "2022-03-17T07:06:02.223Z"
   },
   {
    "duration": 629,
    "start_time": "2022-03-17T07:06:40.837Z"
   },
   {
    "duration": 11,
    "start_time": "2022-03-17T07:06:41.468Z"
   },
   {
    "duration": 32,
    "start_time": "2022-03-17T07:06:41.481Z"
   },
   {
    "duration": 15,
    "start_time": "2022-03-17T07:06:41.515Z"
   },
   {
    "duration": 8,
    "start_time": "2022-03-17T07:06:41.532Z"
   },
   {
    "duration": 5,
    "start_time": "2022-03-17T07:06:41.541Z"
   },
   {
    "duration": 4,
    "start_time": "2022-03-17T07:06:41.547Z"
   },
   {
    "duration": 10,
    "start_time": "2022-03-17T07:06:41.553Z"
   },
   {
    "duration": 2,
    "start_time": "2022-03-17T07:06:41.565Z"
   },
   {
    "duration": 33,
    "start_time": "2022-03-17T07:06:41.568Z"
   },
   {
    "duration": 8,
    "start_time": "2022-03-17T07:06:41.603Z"
   },
   {
    "duration": 5,
    "start_time": "2022-03-17T07:06:41.614Z"
   },
   {
    "duration": 15,
    "start_time": "2022-03-17T07:06:41.622Z"
   },
   {
    "duration": 13,
    "start_time": "2022-03-17T07:06:41.639Z"
   },
   {
    "duration": 4,
    "start_time": "2022-03-17T07:06:41.654Z"
   },
   {
    "duration": 12,
    "start_time": "2022-03-17T07:06:41.660Z"
   },
   {
    "duration": 40,
    "start_time": "2022-03-17T07:06:41.674Z"
   },
   {
    "duration": 9,
    "start_time": "2022-03-17T07:06:41.716Z"
   },
   {
    "duration": 30,
    "start_time": "2022-03-17T07:06:41.727Z"
   },
   {
    "duration": 12,
    "start_time": "2022-03-17T07:06:41.759Z"
   },
   {
    "duration": 47,
    "start_time": "2022-03-17T07:06:41.773Z"
   },
   {
    "duration": 29,
    "start_time": "2022-03-17T07:06:41.822Z"
   },
   {
    "duration": 16,
    "start_time": "2022-03-17T07:06:41.855Z"
   },
   {
    "duration": 40,
    "start_time": "2022-03-17T07:06:41.873Z"
   },
   {
    "duration": 21,
    "start_time": "2022-03-17T07:06:41.915Z"
   },
   {
    "duration": 12,
    "start_time": "2022-03-17T07:06:41.937Z"
   },
   {
    "duration": 9,
    "start_time": "2022-03-17T07:06:41.951Z"
   },
   {
    "duration": 42,
    "start_time": "2022-03-17T07:06:41.962Z"
   },
   {
    "duration": 11,
    "start_time": "2022-03-17T07:06:42.007Z"
   },
   {
    "duration": 18,
    "start_time": "2022-03-17T07:06:42.020Z"
   },
   {
    "duration": 284,
    "start_time": "2022-03-17T07:06:42.039Z"
   },
   {
    "duration": 11,
    "start_time": "2022-03-17T07:06:42.325Z"
   },
   {
    "duration": 643,
    "start_time": "2022-03-17T07:06:42.337Z"
   },
   {
    "duration": 24,
    "start_time": "2022-03-17T07:06:42.982Z"
   },
   {
    "duration": 102,
    "start_time": "2022-03-17T07:10:18.681Z"
   },
   {
    "duration": 112,
    "start_time": "2022-03-17T07:12:13.169Z"
   },
   {
    "duration": 449,
    "start_time": "2022-03-17T21:48:13.270Z"
   },
   {
    "duration": 17,
    "start_time": "2022-03-17T21:48:13.870Z"
   },
   {
    "duration": 39,
    "start_time": "2022-03-17T21:48:14.771Z"
   },
   {
    "duration": 14,
    "start_time": "2022-03-17T21:48:16.110Z"
   },
   {
    "duration": 8,
    "start_time": "2022-03-17T21:48:17.290Z"
   },
   {
    "duration": 5,
    "start_time": "2022-03-17T21:48:18.350Z"
   },
   {
    "duration": 4,
    "start_time": "2022-03-17T21:48:18.831Z"
   },
   {
    "duration": 14,
    "start_time": "2022-03-17T21:48:20.830Z"
   },
   {
    "duration": 2,
    "start_time": "2022-03-17T21:48:21.780Z"
   },
   {
    "duration": 66,
    "start_time": "2022-03-17T21:48:22.950Z"
   },
   {
    "duration": 2,
    "start_time": "2022-03-17T21:48:24.590Z"
   },
   {
    "duration": 116,
    "start_time": "2022-03-17T21:57:25.190Z"
   },
   {
    "duration": 31,
    "start_time": "2022-03-17T21:57:39.658Z"
   },
   {
    "duration": 11,
    "start_time": "2022-03-17T21:57:42.130Z"
   },
   {
    "duration": 7,
    "start_time": "2022-03-17T21:57:42.650Z"
   },
   {
    "duration": 5,
    "start_time": "2022-03-17T21:57:43.190Z"
   },
   {
    "duration": 5,
    "start_time": "2022-03-17T21:57:43.380Z"
   },
   {
    "duration": 14,
    "start_time": "2022-03-17T21:57:43.910Z"
   },
   {
    "duration": 2,
    "start_time": "2022-03-17T21:57:44.180Z"
   },
   {
    "duration": 4,
    "start_time": "2022-03-17T21:57:44.461Z"
   },
   {
    "duration": 3,
    "start_time": "2022-03-17T21:57:46.900Z"
   },
   {
    "duration": 4,
    "start_time": "2022-03-17T21:57:49.000Z"
   },
   {
    "duration": 13,
    "start_time": "2022-03-17T21:57:54.301Z"
   },
   {
    "duration": 15,
    "start_time": "2022-03-17T21:57:57.260Z"
   },
   {
    "duration": 4,
    "start_time": "2022-03-17T21:57:57.950Z"
   },
   {
    "duration": 10,
    "start_time": "2022-03-17T21:58:00.551Z"
   },
   {
    "duration": 112,
    "start_time": "2022-03-17T21:58:03.349Z"
   },
   {
    "duration": 8,
    "start_time": "2022-03-17T21:58:15.031Z"
   },
   {
    "duration": 6,
    "start_time": "2022-03-17T21:58:17.890Z"
   },
   {
    "duration": 30,
    "start_time": "2022-03-17T21:58:19.740Z"
   },
   {
    "duration": 7,
    "start_time": "2022-03-17T21:58:23.150Z"
   },
   {
    "duration": 6,
    "start_time": "2022-03-17T21:58:26.030Z"
   },
   {
    "duration": 28,
    "start_time": "2022-03-17T21:58:26.850Z"
   },
   {
    "duration": 5,
    "start_time": "2022-03-17T21:58:42.020Z"
   },
   {
    "duration": 29,
    "start_time": "2022-03-17T21:58:43.490Z"
   },
   {
    "duration": 6,
    "start_time": "2022-03-17T21:58:57.420Z"
   },
   {
    "duration": 6,
    "start_time": "2022-03-17T21:59:08.171Z"
   },
   {
    "duration": 6,
    "start_time": "2022-03-17T21:59:09.484Z"
   },
   {
    "duration": 5,
    "start_time": "2022-03-17T21:59:11.010Z"
   },
   {
    "duration": 31,
    "start_time": "2022-03-17T21:59:12.050Z"
   },
   {
    "duration": 11,
    "start_time": "2022-03-17T21:59:29.740Z"
   },
   {
    "duration": 5,
    "start_time": "2022-03-17T21:59:32.850Z"
   },
   {
    "duration": 9,
    "start_time": "2022-03-17T21:59:33.460Z"
   },
   {
    "duration": 69,
    "start_time": "2022-03-17T21:59:50.760Z"
   },
   {
    "duration": 15,
    "start_time": "2022-03-17T21:59:51.210Z"
   },
   {
    "duration": 66,
    "start_time": "2022-03-17T21:59:56.970Z"
   },
   {
    "duration": 15,
    "start_time": "2022-03-17T21:59:57.820Z"
   },
   {
    "duration": 32,
    "start_time": "2022-03-17T22:00:00.060Z"
   },
   {
    "duration": 15,
    "start_time": "2022-03-17T22:00:01.550Z"
   },
   {
    "duration": 10,
    "start_time": "2022-03-17T22:00:03.961Z"
   },
   {
    "duration": 5,
    "start_time": "2022-03-17T22:00:05.978Z"
   },
   {
    "duration": 6,
    "start_time": "2022-03-17T22:00:06.520Z"
   },
   {
    "duration": 14,
    "start_time": "2022-03-17T22:00:10.361Z"
   },
   {
    "duration": 3,
    "start_time": "2022-03-17T22:00:11.140Z"
   },
   {
    "duration": 4,
    "start_time": "2022-03-17T22:00:12.931Z"
   },
   {
    "duration": 3,
    "start_time": "2022-03-17T22:00:13.450Z"
   },
   {
    "duration": 4,
    "start_time": "2022-03-17T22:00:14.540Z"
   },
   {
    "duration": 14,
    "start_time": "2022-03-17T22:00:18.401Z"
   },
   {
    "duration": 16,
    "start_time": "2022-03-17T22:00:19.101Z"
   },
   {
    "duration": 4,
    "start_time": "2022-03-17T22:00:22.050Z"
   },
   {
    "duration": 11,
    "start_time": "2022-03-17T22:00:24.139Z"
   },
   {
    "duration": 8,
    "start_time": "2022-03-17T22:00:25.810Z"
   },
   {
    "duration": 7,
    "start_time": "2022-03-17T22:00:26.648Z"
   },
   {
    "duration": 9,
    "start_time": "2022-03-17T22:00:28.021Z"
   },
   {
    "duration": 13,
    "start_time": "2022-03-17T22:00:33.001Z"
   },
   {
    "duration": 17,
    "start_time": "2022-03-17T22:00:34.900Z"
   },
   {
    "duration": 32,
    "start_time": "2022-03-17T22:01:24.270Z"
   },
   {
    "duration": 18,
    "start_time": "2022-03-17T22:01:26.020Z"
   },
   {
    "duration": 18,
    "start_time": "2022-03-17T22:01:26.490Z"
   },
   {
    "duration": 20,
    "start_time": "2022-03-17T22:01:27.230Z"
   },
   {
    "duration": 14,
    "start_time": "2022-03-17T22:01:37.710Z"
   },
   {
    "duration": 13,
    "start_time": "2022-03-17T22:01:40.030Z"
   },
   {
    "duration": 21,
    "start_time": "2022-03-17T22:02:32.098Z"
   },
   {
    "duration": 8,
    "start_time": "2022-03-17T22:10:18.990Z"
   },
   {
    "duration": 8,
    "start_time": "2022-03-17T22:15:05.591Z"
   },
   {
    "duration": 72,
    "start_time": "2022-03-17T22:15:15.026Z"
   },
   {
    "duration": 14,
    "start_time": "2022-03-17T22:15:17.966Z"
   },
   {
    "duration": 8,
    "start_time": "2022-03-17T22:15:23.136Z"
   },
   {
    "duration": 8,
    "start_time": "2022-03-17T22:15:48.295Z"
   },
   {
    "duration": 8,
    "start_time": "2022-03-17T22:15:52.695Z"
   },
   {
    "duration": 4,
    "start_time": "2022-03-17T22:22:42.538Z"
   },
   {
    "duration": 4,
    "start_time": "2022-03-17T22:22:48.055Z"
   },
   {
    "duration": 64,
    "start_time": "2022-03-17T22:50:53.863Z"
   },
   {
    "duration": 14,
    "start_time": "2022-03-17T22:50:55.154Z"
   },
   {
    "duration": 13,
    "start_time": "2022-03-17T22:51:03.466Z"
   },
   {
    "duration": 9,
    "start_time": "2022-03-17T22:51:11.811Z"
   },
   {
    "duration": 17,
    "start_time": "2022-03-17T23:33:28.778Z"
   },
   {
    "duration": 15,
    "start_time": "2022-03-17T23:34:55.535Z"
   },
   {
    "duration": 14,
    "start_time": "2022-03-17T23:34:59.384Z"
   },
   {
    "duration": 14,
    "start_time": "2022-03-17T23:37:04.540Z"
   },
   {
    "duration": 14,
    "start_time": "2022-03-17T23:38:00.761Z"
   },
   {
    "duration": 7,
    "start_time": "2022-03-17T23:39:18.620Z"
   },
   {
    "duration": 5,
    "start_time": "2022-03-17T23:39:21.419Z"
   },
   {
    "duration": 7,
    "start_time": "2022-03-17T23:39:23.823Z"
   },
   {
    "duration": 9,
    "start_time": "2022-03-17T23:39:42.860Z"
   },
   {
    "duration": 8,
    "start_time": "2022-03-17T23:40:30.289Z"
   },
   {
    "duration": 11,
    "start_time": "2022-03-17T23:40:37.540Z"
   },
   {
    "duration": 10,
    "start_time": "2022-03-17T23:41:28.880Z"
   },
   {
    "duration": 8,
    "start_time": "2022-03-17T23:42:19.500Z"
   },
   {
    "duration": 23,
    "start_time": "2022-03-17T23:47:07.751Z"
   },
   {
    "duration": 32,
    "start_time": "2022-03-17T23:50:03.734Z"
   },
   {
    "duration": 22,
    "start_time": "2022-03-17T23:56:04.318Z"
   },
   {
    "duration": 23,
    "start_time": "2022-03-17T23:56:41.258Z"
   },
   {
    "duration": 17,
    "start_time": "2022-03-17T23:57:24.788Z"
   },
   {
    "duration": 6,
    "start_time": "2022-03-18T00:04:25.518Z"
   },
   {
    "duration": 7,
    "start_time": "2022-03-18T00:04:34.239Z"
   },
   {
    "duration": 18,
    "start_time": "2022-03-18T00:06:51.465Z"
   },
   {
    "duration": 132,
    "start_time": "2022-03-18T00:16:57.601Z"
   },
   {
    "duration": 7,
    "start_time": "2022-03-18T00:17:34.981Z"
   },
   {
    "duration": 13,
    "start_time": "2022-03-18T00:20:00.161Z"
   },
   {
    "duration": 11,
    "start_time": "2022-03-18T00:20:31.962Z"
   },
   {
    "duration": 13,
    "start_time": "2022-03-18T00:20:41.849Z"
   },
   {
    "duration": 11,
    "start_time": "2022-03-18T00:22:20.962Z"
   },
   {
    "duration": 10,
    "start_time": "2022-03-18T00:22:58.183Z"
   },
   {
    "duration": 15,
    "start_time": "2022-03-18T00:23:12.323Z"
   },
   {
    "duration": 10,
    "start_time": "2022-03-18T00:24:50.381Z"
   },
   {
    "duration": 14,
    "start_time": "2022-03-18T00:24:58.322Z"
   },
   {
    "duration": 16,
    "start_time": "2022-03-18T00:26:36.662Z"
   },
   {
    "duration": 19,
    "start_time": "2022-03-18T00:26:53.763Z"
   },
   {
    "duration": 10,
    "start_time": "2022-03-18T00:27:22.983Z"
   },
   {
    "duration": 712,
    "start_time": "2022-03-18T08:37:32.060Z"
   },
   {
    "duration": 23,
    "start_time": "2022-03-18T08:37:32.775Z"
   },
   {
    "duration": 28,
    "start_time": "2022-03-18T08:37:33.552Z"
   },
   {
    "duration": 12,
    "start_time": "2022-03-18T08:37:34.089Z"
   },
   {
    "duration": 258,
    "start_time": "2022-03-18T08:37:34.678Z"
   },
   {
    "duration": 0,
    "start_time": "2022-03-18T08:37:34.938Z"
   },
   {
    "duration": 3,
    "start_time": "2022-03-18T08:37:34.989Z"
   },
   {
    "duration": 5,
    "start_time": "2022-03-18T08:37:35.170Z"
   },
   {
    "duration": 15,
    "start_time": "2022-03-18T08:37:35.369Z"
   },
   {
    "duration": 14,
    "start_time": "2022-03-18T08:37:35.540Z"
   },
   {
    "duration": 21,
    "start_time": "2022-03-18T08:37:36.259Z"
   },
   {
    "duration": 217,
    "start_time": "2022-03-18T08:37:37.110Z"
   },
   {
    "duration": 21,
    "start_time": "2022-03-18T08:37:38.180Z"
   },
   {
    "duration": 34,
    "start_time": "2022-03-18T08:37:38.399Z"
   },
   {
    "duration": 5,
    "start_time": "2022-03-18T08:37:39.310Z"
   },
   {
    "duration": 14,
    "start_time": "2022-03-18T08:37:40.010Z"
   },
   {
    "duration": 8,
    "start_time": "2022-03-18T08:37:40.759Z"
   },
   {
    "duration": 8,
    "start_time": "2022-03-18T08:37:41.630Z"
   },
   {
    "duration": 97,
    "start_time": "2022-03-18T08:37:42.031Z"
   },
   {
    "duration": 17,
    "start_time": "2022-03-18T08:37:44.729Z"
   },
   {
    "duration": 23,
    "start_time": "2022-03-18T08:37:54.019Z"
   },
   {
    "duration": 55,
    "start_time": "2022-03-18T08:38:08.119Z"
   },
   {
    "duration": 28,
    "start_time": "2022-03-18T08:38:10.649Z"
   },
   {
    "duration": 28,
    "start_time": "2022-03-18T08:38:11.219Z"
   },
   {
    "duration": 31,
    "start_time": "2022-03-18T08:38:12.258Z"
   },
   {
    "duration": 19,
    "start_time": "2022-03-18T08:38:17.711Z"
   },
   {
    "duration": 17,
    "start_time": "2022-03-18T08:38:21.509Z"
   },
   {
    "duration": 33,
    "start_time": "2022-03-18T08:38:50.381Z"
   },
   {
    "duration": 39,
    "start_time": "2022-03-18T08:42:27.814Z"
   },
   {
    "duration": 78,
    "start_time": "2022-03-18T10:17:44.713Z"
   },
   {
    "duration": 9,
    "start_time": "2022-03-18T10:19:44.392Z"
   },
   {
    "duration": 603,
    "start_time": "2022-03-18T10:19:53.353Z"
   },
   {
    "duration": 27,
    "start_time": "2022-03-18T10:19:53.960Z"
   },
   {
    "duration": 24,
    "start_time": "2022-03-18T10:19:54.952Z"
   },
   {
    "duration": 13,
    "start_time": "2022-03-18T10:19:55.552Z"
   },
   {
    "duration": 6,
    "start_time": "2022-03-18T10:19:57.353Z"
   },
   {
    "duration": 3,
    "start_time": "2022-03-18T10:19:59.274Z"
   },
   {
    "duration": 6,
    "start_time": "2022-03-18T10:19:59.753Z"
   },
   {
    "duration": 15,
    "start_time": "2022-03-18T10:20:00.633Z"
   },
   {
    "duration": 15,
    "start_time": "2022-03-18T10:20:04.793Z"
   },
   {
    "duration": 23,
    "start_time": "2022-03-18T10:20:11.533Z"
   },
   {
    "duration": 88,
    "start_time": "2022-03-18T10:20:14.793Z"
   },
   {
    "duration": 21,
    "start_time": "2022-03-18T10:20:43.573Z"
   },
   {
    "duration": 23,
    "start_time": "2022-03-18T10:20:45.873Z"
   },
   {
    "duration": 5,
    "start_time": "2022-03-18T10:20:46.852Z"
   },
   {
    "duration": 15,
    "start_time": "2022-03-18T10:20:47.432Z"
   },
   {
    "duration": 9,
    "start_time": "2022-03-18T10:20:48.712Z"
   },
   {
    "duration": 7,
    "start_time": "2022-03-18T10:20:56.233Z"
   },
   {
    "duration": 61,
    "start_time": "2022-03-18T10:20:57.433Z"
   },
   {
    "duration": 20,
    "start_time": "2022-03-18T10:22:28.152Z"
   },
   {
    "duration": 16,
    "start_time": "2022-03-18T10:22:50.654Z"
   },
   {
    "duration": 5,
    "start_time": "2022-03-18T10:25:00.233Z"
   },
   {
    "duration": 8,
    "start_time": "2022-03-18T10:25:35.393Z"
   },
   {
    "duration": 24,
    "start_time": "2022-03-18T10:35:01.373Z"
   },
   {
    "duration": 7,
    "start_time": "2022-03-18T10:39:50.393Z"
   },
   {
    "duration": 7,
    "start_time": "2022-03-18T11:03:11.154Z"
   },
   {
    "duration": 13,
    "start_time": "2022-03-18T11:05:58.734Z"
   },
   {
    "duration": 90,
    "start_time": "2022-03-18T11:34:47.446Z"
   },
   {
    "duration": 100,
    "start_time": "2022-03-18T11:35:10.566Z"
   },
   {
    "duration": 95,
    "start_time": "2022-03-18T11:36:17.525Z"
   },
   {
    "duration": 21,
    "start_time": "2022-03-18T11:36:17.926Z"
   },
   {
    "duration": 20,
    "start_time": "2022-03-18T11:36:21.005Z"
   },
   {
    "duration": 11,
    "start_time": "2022-03-18T11:36:25.526Z"
   },
   {
    "duration": 5,
    "start_time": "2022-03-18T11:36:45.055Z"
   },
   {
    "duration": 6,
    "start_time": "2022-03-18T11:37:35.606Z"
   },
   {
    "duration": 114,
    "start_time": "2022-03-18T11:45:00.262Z"
   },
   {
    "duration": 229,
    "start_time": "2022-03-18T11:55:05.393Z"
   },
   {
    "duration": 88,
    "start_time": "2022-03-18T11:55:44.612Z"
   },
   {
    "duration": 133,
    "start_time": "2022-03-18T11:57:15.873Z"
   },
   {
    "duration": 100,
    "start_time": "2022-03-18T11:58:31.274Z"
   },
   {
    "duration": 93,
    "start_time": "2022-03-18T11:58:48.023Z"
   },
   {
    "duration": 139,
    "start_time": "2022-03-18T11:59:33.953Z"
   },
   {
    "duration": 111,
    "start_time": "2022-03-18T12:01:11.805Z"
   },
   {
    "duration": 119,
    "start_time": "2022-03-18T12:01:50.663Z"
   },
   {
    "duration": 200,
    "start_time": "2022-03-18T12:08:35.144Z"
   },
   {
    "duration": 93,
    "start_time": "2022-03-18T12:12:31.068Z"
   },
   {
    "duration": 15,
    "start_time": "2022-03-18T12:17:36.626Z"
   },
   {
    "duration": 97,
    "start_time": "2022-03-18T12:20:08.298Z"
   },
   {
    "duration": 149,
    "start_time": "2022-03-18T12:20:50.187Z"
   },
   {
    "duration": 85,
    "start_time": "2022-03-18T12:21:07.877Z"
   },
   {
    "duration": 172,
    "start_time": "2022-03-18T12:21:41.068Z"
   },
   {
    "duration": 26,
    "start_time": "2022-03-18T12:32:57.307Z"
   },
   {
    "duration": 422,
    "start_time": "2022-03-18T16:03:16.389Z"
   },
   {
    "duration": 15,
    "start_time": "2022-03-18T16:03:16.814Z"
   },
   {
    "duration": 13,
    "start_time": "2022-03-18T16:03:18.269Z"
   },
   {
    "duration": 8,
    "start_time": "2022-03-18T16:03:19.329Z"
   },
   {
    "duration": 4,
    "start_time": "2022-03-18T16:03:20.928Z"
   },
   {
    "duration": 4,
    "start_time": "2022-03-18T16:03:21.569Z"
   },
   {
    "duration": 66,
    "start_time": "2022-03-18T16:03:22.368Z"
   },
   {
    "duration": 10,
    "start_time": "2022-03-18T16:03:23.208Z"
   },
   {
    "duration": 21,
    "start_time": "2022-03-18T16:13:46.969Z"
   },
   {
    "duration": 10,
    "start_time": "2022-03-18T16:15:43.917Z"
   },
   {
    "duration": 15,
    "start_time": "2022-03-18T16:15:46.957Z"
   },
   {
    "duration": 16,
    "start_time": "2022-03-18T16:15:58.320Z"
   },
   {
    "duration": 15,
    "start_time": "2022-03-18T16:16:10.878Z"
   },
   {
    "duration": 17,
    "start_time": "2022-03-18T16:16:12.558Z"
   },
   {
    "duration": 5,
    "start_time": "2022-03-18T16:16:15.178Z"
   },
   {
    "duration": 10,
    "start_time": "2022-03-18T16:16:15.829Z"
   },
   {
    "duration": 9,
    "start_time": "2022-03-18T16:16:18.347Z"
   },
   {
    "duration": 5,
    "start_time": "2022-03-18T16:16:23.952Z"
   },
   {
    "duration": 6,
    "start_time": "2022-03-18T16:16:28.648Z"
   },
   {
    "duration": 13,
    "start_time": "2022-03-18T16:39:52.356Z"
   },
   {
    "duration": 221,
    "start_time": "2022-03-18T16:39:58.676Z"
   },
   {
    "duration": 168,
    "start_time": "2022-03-18T16:40:01.026Z"
   },
   {
    "duration": 13,
    "start_time": "2022-03-18T16:40:04.057Z"
   },
   {
    "duration": 13,
    "start_time": "2022-03-18T16:40:04.836Z"
   },
   {
    "duration": 15,
    "start_time": "2022-03-18T16:40:29.486Z"
   },
   {
    "duration": 21,
    "start_time": "2022-03-18T16:40:30.856Z"
   },
   {
    "duration": 38,
    "start_time": "2022-03-18T16:40:31.156Z"
   },
   {
    "duration": 20,
    "start_time": "2022-03-18T16:40:31.956Z"
   },
   {
    "duration": 21,
    "start_time": "2022-03-18T16:40:32.236Z"
   },
   {
    "duration": 21,
    "start_time": "2022-03-18T16:40:32.466Z"
   },
   {
    "duration": 12,
    "start_time": "2022-03-18T16:40:33.257Z"
   },
   {
    "duration": 11,
    "start_time": "2022-03-18T16:40:33.676Z"
   },
   {
    "duration": 21,
    "start_time": "2022-03-18T16:40:35.836Z"
   },
   {
    "duration": 18,
    "start_time": "2022-03-18T16:40:40.006Z"
   },
   {
    "duration": 155,
    "start_time": "2022-03-18T16:40:42.256Z"
   },
   {
    "duration": 72,
    "start_time": "2022-03-18T16:40:50.996Z"
   },
   {
    "duration": 15,
    "start_time": "2022-03-18T16:40:51.525Z"
   },
   {
    "duration": 13,
    "start_time": "2022-03-18T16:40:54.516Z"
   },
   {
    "duration": 8,
    "start_time": "2022-03-18T16:40:55.076Z"
   },
   {
    "duration": 4,
    "start_time": "2022-03-18T16:40:55.826Z"
   },
   {
    "duration": 4,
    "start_time": "2022-03-18T16:40:56.016Z"
   },
   {
    "duration": 20,
    "start_time": "2022-03-18T16:40:59.126Z"
   },
   {
    "duration": 0,
    "start_time": "2022-03-18T16:40:59.147Z"
   },
   {
    "duration": 0,
    "start_time": "2022-03-18T16:40:59.149Z"
   },
   {
    "duration": 14,
    "start_time": "2022-03-18T16:40:59.437Z"
   },
   {
    "duration": 16,
    "start_time": "2022-03-18T16:40:59.676Z"
   },
   {
    "duration": 4,
    "start_time": "2022-03-18T16:41:00.516Z"
   },
   {
    "duration": 10,
    "start_time": "2022-03-18T16:41:00.787Z"
   },
   {
    "duration": 7,
    "start_time": "2022-03-18T16:41:01.556Z"
   },
   {
    "duration": 6,
    "start_time": "2022-03-18T16:41:02.236Z"
   },
   {
    "duration": 7,
    "start_time": "2022-03-18T16:41:02.915Z"
   },
   {
    "duration": 12,
    "start_time": "2022-03-18T16:41:04.196Z"
   },
   {
    "duration": 18,
    "start_time": "2022-03-18T16:41:05.476Z"
   },
   {
    "duration": 34,
    "start_time": "2022-03-18T16:41:06.116Z"
   },
   {
    "duration": 17,
    "start_time": "2022-03-18T16:41:07.846Z"
   },
   {
    "duration": 19,
    "start_time": "2022-03-18T16:41:07.955Z"
   },
   {
    "duration": 20,
    "start_time": "2022-03-18T16:41:08.236Z"
   },
   {
    "duration": 13,
    "start_time": "2022-03-18T16:41:09.636Z"
   },
   {
    "duration": 12,
    "start_time": "2022-03-18T16:41:10.336Z"
   },
   {
    "duration": 23,
    "start_time": "2022-03-18T16:41:13.016Z"
   },
   {
    "duration": 16,
    "start_time": "2022-03-18T16:41:15.176Z"
   },
   {
    "duration": 155,
    "start_time": "2022-03-18T16:41:18.876Z"
   },
   {
    "duration": 11,
    "start_time": "2022-03-18T16:41:23.316Z"
   },
   {
    "duration": 221,
    "start_time": "2022-03-18T16:41:27.796Z"
   },
   {
    "duration": 110,
    "start_time": "2022-03-18T16:41:30.316Z"
   },
   {
    "duration": 10,
    "start_time": "2022-03-18T16:41:34.677Z"
   },
   {
    "duration": 27,
    "start_time": "2022-03-18T16:41:35.365Z"
   },
   {
    "duration": 23,
    "start_time": "2022-03-18T16:42:51.127Z"
   },
   {
    "duration": 29,
    "start_time": "2022-03-18T16:43:53.236Z"
   },
   {
    "duration": 15,
    "start_time": "2022-03-18T16:45:36.036Z"
   },
   {
    "duration": 11,
    "start_time": "2022-03-18T16:47:03.296Z"
   },
   {
    "duration": 18,
    "start_time": "2022-03-18T16:51:11.746Z"
   },
   {
    "duration": 109,
    "start_time": "2022-03-18T16:51:56.016Z"
   },
   {
    "duration": 118,
    "start_time": "2022-03-18T16:53:02.275Z"
   },
   {
    "duration": 2058,
    "start_time": "2022-03-18T16:53:45.236Z"
   },
   {
    "duration": 12,
    "start_time": "2022-03-18T16:53:59.875Z"
   },
   {
    "duration": 8,
    "start_time": "2022-03-18T16:54:42.185Z"
   },
   {
    "duration": 13,
    "start_time": "2022-03-18T16:54:56.275Z"
   },
   {
    "duration": 14,
    "start_time": "2022-03-18T16:55:12.205Z"
   },
   {
    "duration": 2234,
    "start_time": "2022-03-18T16:55:45.397Z"
   },
   {
    "duration": 955,
    "start_time": "2022-03-18T16:56:25.875Z"
   },
   {
    "duration": 12,
    "start_time": "2022-03-18T16:58:24.715Z"
   },
   {
    "duration": 30,
    "start_time": "2022-03-18T18:34:22.651Z"
   },
   {
    "duration": 18,
    "start_time": "2022-03-18T18:35:25.081Z"
   },
   {
    "duration": 65,
    "start_time": "2022-03-18T22:21:22.627Z"
   },
   {
    "duration": 15,
    "start_time": "2022-03-18T22:21:23.147Z"
   },
   {
    "duration": 13,
    "start_time": "2022-03-18T22:21:25.949Z"
   },
   {
    "duration": 8,
    "start_time": "2022-03-18T22:21:28.229Z"
   },
   {
    "duration": 5,
    "start_time": "2022-03-18T22:21:31.627Z"
   },
   {
    "duration": 4,
    "start_time": "2022-03-18T22:21:32.428Z"
   },
   {
    "duration": 18,
    "start_time": "2022-03-18T22:21:33.549Z"
   },
   {
    "duration": 145,
    "start_time": "2022-03-18T22:23:46.587Z"
   },
   {
    "duration": 116,
    "start_time": "2022-03-18T22:24:09.068Z"
   },
   {
    "duration": 8,
    "start_time": "2022-03-18T22:27:28.749Z"
   },
   {
    "duration": 2162,
    "start_time": "2022-03-18T22:31:50.108Z"
   },
   {
    "duration": 11,
    "start_time": "2022-03-18T22:31:52.467Z"
   },
   {
    "duration": 10,
    "start_time": "2022-03-18T22:32:39.868Z"
   },
   {
    "duration": 14,
    "start_time": "2022-03-18T22:32:40.908Z"
   },
   {
    "duration": 13,
    "start_time": "2022-03-18T22:32:43.070Z"
   },
   {
    "duration": 16,
    "start_time": "2022-03-18T22:32:43.348Z"
   },
   {
    "duration": 4,
    "start_time": "2022-03-18T22:32:43.869Z"
   },
   {
    "duration": 9,
    "start_time": "2022-03-18T22:32:44.149Z"
   },
   {
    "duration": 6,
    "start_time": "2022-03-18T22:32:44.668Z"
   },
   {
    "duration": 5,
    "start_time": "2022-03-18T22:32:46.188Z"
   },
   {
    "duration": 16,
    "start_time": "2022-03-18T22:32:46.830Z"
   },
   {
    "duration": 12,
    "start_time": "2022-03-18T22:32:54.269Z"
   },
   {
    "duration": 18,
    "start_time": "2022-03-18T22:33:14.948Z"
   },
   {
    "duration": 32,
    "start_time": "2022-03-18T22:33:15.628Z"
   },
   {
    "duration": 16,
    "start_time": "2022-03-18T22:33:19.549Z"
   },
   {
    "duration": 17,
    "start_time": "2022-03-18T22:33:20.589Z"
   },
   {
    "duration": 21,
    "start_time": "2022-03-18T22:33:22.589Z"
   },
   {
    "duration": 13,
    "start_time": "2022-03-18T22:33:25.629Z"
   },
   {
    "duration": 11,
    "start_time": "2022-03-18T22:33:27.869Z"
   },
   {
    "duration": 20,
    "start_time": "2022-03-18T22:33:38.028Z"
   },
   {
    "duration": 14,
    "start_time": "2022-03-18T22:33:55.149Z"
   },
   {
    "duration": 114,
    "start_time": "2022-03-18T22:47:42.951Z"
   },
   {
    "duration": 109,
    "start_time": "2022-03-18T22:47:45.730Z"
   },
   {
    "duration": 136,
    "start_time": "2022-03-18T22:48:00.311Z"
   },
   {
    "duration": 109,
    "start_time": "2022-03-18T22:48:11.071Z"
   },
   {
    "duration": 17,
    "start_time": "2022-03-18T22:50:55.672Z"
   },
   {
    "duration": 42,
    "start_time": "2022-03-18T23:03:46.952Z"
   },
   {
    "duration": 21,
    "start_time": "2022-03-18T23:04:15.434Z"
   },
   {
    "duration": 17,
    "start_time": "2022-03-18T23:04:22.793Z"
   },
   {
    "duration": 4,
    "start_time": "2022-03-18T23:04:24.398Z"
   },
   {
    "duration": 7,
    "start_time": "2022-03-18T23:04:24.952Z"
   },
   {
    "duration": 7,
    "start_time": "2022-03-18T23:04:26.472Z"
   },
   {
    "duration": 5,
    "start_time": "2022-03-18T23:04:45.792Z"
   },
   {
    "duration": 18,
    "start_time": "2022-03-18T23:04:46.792Z"
   },
   {
    "duration": 17,
    "start_time": "2022-03-18T23:12:22.533Z"
   },
   {
    "duration": 7,
    "start_time": "2022-03-18T23:14:40.874Z"
   },
   {
    "duration": 17,
    "start_time": "2022-03-18T23:14:46.433Z"
   },
   {
    "duration": 15,
    "start_time": "2022-03-18T23:18:09.194Z"
   },
   {
    "duration": 4,
    "start_time": "2022-03-18T23:18:28.873Z"
   },
   {
    "duration": 6,
    "start_time": "2022-03-18T23:18:29.835Z"
   },
   {
    "duration": 6,
    "start_time": "2022-03-18T23:26:06.233Z"
   },
   {
    "duration": 71,
    "start_time": "2022-03-18T23:26:55.594Z"
   },
   {
    "duration": 15,
    "start_time": "2022-03-18T23:26:56.154Z"
   },
   {
    "duration": 12,
    "start_time": "2022-03-18T23:27:03.594Z"
   },
   {
    "duration": 9,
    "start_time": "2022-03-18T23:27:05.434Z"
   },
   {
    "duration": 4,
    "start_time": "2022-03-18T23:27:07.114Z"
   },
   {
    "duration": 4,
    "start_time": "2022-03-18T23:27:07.535Z"
   },
   {
    "duration": 1941,
    "start_time": "2022-03-18T23:27:08.233Z"
   },
   {
    "duration": 0,
    "start_time": "2022-03-18T23:27:10.177Z"
   },
   {
    "duration": 14,
    "start_time": "2022-03-18T23:27:15.993Z"
   },
   {
    "duration": 10,
    "start_time": "2022-03-18T23:27:29.954Z"
   },
   {
    "duration": 15,
    "start_time": "2022-03-18T23:27:44.153Z"
   },
   {
    "duration": 15,
    "start_time": "2022-03-18T23:27:49.353Z"
   },
   {
    "duration": 13,
    "start_time": "2022-03-18T23:27:50.935Z"
   },
   {
    "duration": 10,
    "start_time": "2022-03-18T23:27:53.434Z"
   },
   {
    "duration": 17,
    "start_time": "2022-03-18T23:28:27.454Z"
   },
   {
    "duration": 11,
    "start_time": "2022-03-18T23:31:54.630Z"
   },
   {
    "duration": 37,
    "start_time": "2022-03-18T23:34:12.242Z"
   },
   {
    "duration": 13,
    "start_time": "2022-03-18T23:35:46.390Z"
   },
   {
    "duration": 12,
    "start_time": "2022-03-18T23:36:13.830Z"
   },
   {
    "duration": 12,
    "start_time": "2022-03-18T23:40:47.634Z"
   },
   {
    "duration": 12,
    "start_time": "2022-03-18T23:40:58.034Z"
   },
   {
    "duration": 12,
    "start_time": "2022-03-18T23:41:08.352Z"
   },
   {
    "duration": 17,
    "start_time": "2022-03-18T23:54:29.473Z"
   },
   {
    "duration": 130,
    "start_time": "2022-03-18T23:55:12.352Z"
   },
   {
    "duration": 17,
    "start_time": "2022-03-18T23:57:33.753Z"
   },
   {
    "duration": 20,
    "start_time": "2022-03-18T23:57:38.133Z"
   },
   {
    "duration": 21,
    "start_time": "2022-03-18T23:58:50.273Z"
   },
   {
    "duration": 12,
    "start_time": "2022-03-18T23:58:58.352Z"
   },
   {
    "duration": 19,
    "start_time": "2022-03-18T23:59:01.315Z"
   },
   {
    "duration": 32,
    "start_time": "2022-03-18T23:59:02.754Z"
   },
   {
    "duration": 120,
    "start_time": "2022-03-18T23:59:07.033Z"
   },
   {
    "duration": 17,
    "start_time": "2022-03-18T23:59:08.492Z"
   },
   {
    "duration": 19,
    "start_time": "2022-03-18T23:59:16.972Z"
   },
   {
    "duration": 18,
    "start_time": "2022-03-18T23:59:17.672Z"
   },
   {
    "duration": 18,
    "start_time": "2022-03-18T23:59:21.831Z"
   },
   {
    "duration": 6,
    "start_time": "2022-03-19T00:12:34.633Z"
   },
   {
    "duration": 13,
    "start_time": "2022-03-19T00:12:59.034Z"
   },
   {
    "duration": 12,
    "start_time": "2022-03-19T00:14:16.511Z"
   },
   {
    "duration": 12,
    "start_time": "2022-03-19T00:15:09.431Z"
   },
   {
    "duration": 12,
    "start_time": "2022-03-19T00:15:16.431Z"
   },
   {
    "duration": 12,
    "start_time": "2022-03-19T00:23:47.632Z"
   },
   {
    "duration": 16,
    "start_time": "2022-03-19T00:24:50.833Z"
   },
   {
    "duration": 12,
    "start_time": "2022-03-19T00:26:00.831Z"
   },
   {
    "duration": 12,
    "start_time": "2022-03-19T00:29:36.535Z"
   },
   {
    "duration": 13,
    "start_time": "2022-03-19T00:30:01.033Z"
   },
   {
    "duration": 72,
    "start_time": "2022-03-19T09:51:32.436Z"
   },
   {
    "duration": 602,
    "start_time": "2022-03-19T09:51:42.516Z"
   },
   {
    "duration": 23,
    "start_time": "2022-03-19T09:51:43.319Z"
   },
   {
    "duration": 23,
    "start_time": "2022-03-19T09:51:46.408Z"
   },
   {
    "duration": 11,
    "start_time": "2022-03-19T09:51:49.309Z"
   },
   {
    "duration": 5,
    "start_time": "2022-03-19T09:51:54.250Z"
   },
   {
    "duration": 6,
    "start_time": "2022-03-19T09:52:01.669Z"
   },
   {
    "duration": 14,
    "start_time": "2022-03-19T09:52:03.152Z"
   },
   {
    "duration": 14,
    "start_time": "2022-03-19T09:52:05.499Z"
   },
   {
    "duration": 18,
    "start_time": "2022-03-19T09:52:39.957Z"
   },
   {
    "duration": 28,
    "start_time": "2022-03-19T09:55:36.470Z"
   },
   {
    "duration": 76,
    "start_time": "2022-03-19T09:55:38.757Z"
   },
   {
    "duration": 23,
    "start_time": "2022-03-19T10:01:14.697Z"
   },
   {
    "duration": 19,
    "start_time": "2022-03-19T10:05:15.207Z"
   },
   {
    "duration": 43,
    "start_time": "2022-03-19T10:06:35.675Z"
   },
   {
    "duration": 59,
    "start_time": "2022-03-19T10:06:52.467Z"
   },
   {
    "duration": 56,
    "start_time": "2022-03-19T10:08:15.840Z"
   },
   {
    "duration": 46,
    "start_time": "2022-03-19T10:08:39.767Z"
   },
   {
    "duration": 28,
    "start_time": "2022-03-19T10:09:00.549Z"
   },
   {
    "duration": 117,
    "start_time": "2022-03-19T10:10:15.883Z"
   },
   {
    "duration": 21,
    "start_time": "2022-03-19T10:15:25.615Z"
   },
   {
    "duration": 110,
    "start_time": "2022-03-19T11:16:55.442Z"
   },
   {
    "duration": 100,
    "start_time": "2022-03-19T11:17:01.403Z"
   },
   {
    "duration": 94,
    "start_time": "2022-03-19T11:17:26.801Z"
   },
   {
    "duration": 112,
    "start_time": "2022-03-19T12:28:50.696Z"
   },
   {
    "duration": 112,
    "start_time": "2022-03-19T12:30:36.961Z"
   },
   {
    "duration": 96,
    "start_time": "2022-03-19T12:30:40.959Z"
   },
   {
    "duration": 47,
    "start_time": "2022-03-19T12:30:51.098Z"
   },
   {
    "duration": 43,
    "start_time": "2022-03-19T12:48:14.441Z"
   },
   {
    "duration": 45,
    "start_time": "2022-03-19T12:50:37.082Z"
   },
   {
    "duration": 637,
    "start_time": "2022-03-19T13:50:14.237Z"
   },
   {
    "duration": 26,
    "start_time": "2022-03-19T13:50:14.877Z"
   },
   {
    "duration": 23,
    "start_time": "2022-03-19T13:50:18.278Z"
   },
   {
    "duration": 12,
    "start_time": "2022-03-19T13:50:19.798Z"
   },
   {
    "duration": 5,
    "start_time": "2022-03-19T13:50:22.278Z"
   },
   {
    "duration": 5,
    "start_time": "2022-03-19T13:50:23.478Z"
   },
   {
    "duration": 132,
    "start_time": "2022-03-19T13:50:25.359Z"
   },
   {
    "duration": 449,
    "start_time": "2022-03-19T15:17:36.121Z"
   },
   {
    "duration": 16,
    "start_time": "2022-03-19T15:17:36.611Z"
   },
   {
    "duration": 14,
    "start_time": "2022-03-19T15:17:39.082Z"
   },
   {
    "duration": 7,
    "start_time": "2022-03-19T15:17:40.521Z"
   },
   {
    "duration": 5,
    "start_time": "2022-03-19T15:17:42.340Z"
   },
   {
    "duration": 3,
    "start_time": "2022-03-19T15:17:42.922Z"
   },
   {
    "duration": 14,
    "start_time": "2022-03-19T15:17:43.722Z"
   },
   {
    "duration": 13,
    "start_time": "2022-03-19T15:17:52.278Z"
   },
   {
    "duration": 11,
    "start_time": "2022-03-19T15:18:07.120Z"
   },
   {
    "duration": 9,
    "start_time": "2022-03-19T15:18:09.788Z"
   },
   {
    "duration": 10,
    "start_time": "2022-03-19T15:18:25.243Z"
   },
   {
    "duration": 9,
    "start_time": "2022-03-19T15:18:27.421Z"
   },
   {
    "duration": 10,
    "start_time": "2022-03-19T15:18:36.202Z"
   },
   {
    "duration": 9,
    "start_time": "2022-03-19T15:18:37.650Z"
   },
   {
    "duration": 11,
    "start_time": "2022-03-19T15:19:43.001Z"
   },
   {
    "duration": 3617,
    "start_time": "2022-03-19T15:23:04.929Z"
   },
   {
    "duration": 0,
    "start_time": "2022-03-19T15:23:08.548Z"
   },
   {
    "duration": 3792,
    "start_time": "2022-03-19T15:23:49.161Z"
   },
   {
    "duration": 613,
    "start_time": "2022-03-19T20:36:17.498Z"
   },
   {
    "duration": 25,
    "start_time": "2022-03-19T20:36:18.114Z"
   },
   {
    "duration": 24,
    "start_time": "2022-03-19T20:36:20.728Z"
   },
   {
    "duration": 12,
    "start_time": "2022-03-19T20:36:22.628Z"
   },
   {
    "duration": 6,
    "start_time": "2022-03-19T20:36:25.098Z"
   },
   {
    "duration": 6,
    "start_time": "2022-03-19T20:36:25.818Z"
   },
   {
    "duration": 417,
    "start_time": "2022-03-19T20:36:26.582Z"
   },
   {
    "duration": 13,
    "start_time": "2022-03-19T20:36:28.457Z"
   },
   {
    "duration": 29,
    "start_time": "2022-03-19T20:36:41.457Z"
   },
   {
    "duration": 2600,
    "start_time": "2022-03-19T20:39:59.598Z"
   },
   {
    "duration": 25,
    "start_time": "2022-03-19T20:40:02.466Z"
   },
   {
    "duration": 21,
    "start_time": "2022-03-19T20:40:07.999Z"
   },
   {
    "duration": 411,
    "start_time": "2022-03-19T20:40:59.898Z"
   },
   {
    "duration": 22,
    "start_time": "2022-03-19T20:41:03.207Z"
   },
   {
    "duration": 23,
    "start_time": "2022-03-19T20:41:09.908Z"
   },
   {
    "duration": 28,
    "start_time": "2022-03-19T20:41:10.667Z"
   },
   {
    "duration": 21,
    "start_time": "2022-03-19T20:41:12.267Z"
   },
   {
    "duration": 10,
    "start_time": "2022-03-19T20:41:14.699Z"
   },
   {
    "duration": 8,
    "start_time": "2022-03-19T20:41:18.937Z"
   },
   {
    "duration": 28,
    "start_time": "2022-03-19T20:41:19.982Z"
   },
   {
    "duration": 40,
    "start_time": "2022-03-19T20:41:22.858Z"
   },
   {
    "duration": 31,
    "start_time": "2022-03-19T20:41:25.739Z"
   },
   {
    "duration": 31,
    "start_time": "2022-03-19T20:41:27.586Z"
   },
   {
    "duration": 87,
    "start_time": "2022-03-19T20:41:31.018Z"
   },
   {
    "duration": 35,
    "start_time": "2022-03-19T20:41:35.978Z"
   },
   {
    "duration": 27,
    "start_time": "2022-03-19T20:41:36.544Z"
   },
   {
    "duration": 36,
    "start_time": "2022-03-19T20:41:37.898Z"
   },
   {
    "duration": 23,
    "start_time": "2022-03-19T20:41:39.927Z"
   },
   {
    "duration": 16,
    "start_time": "2022-03-19T20:41:40.728Z"
   },
   {
    "duration": 22,
    "start_time": "2022-03-19T20:41:42.537Z"
   },
   {
    "duration": 48,
    "start_time": "2022-03-19T20:41:45.748Z"
   },
   {
    "duration": 22,
    "start_time": "2022-03-19T20:41:48.299Z"
   },
   {
    "duration": 394,
    "start_time": "2022-03-19T20:41:52.070Z"
   },
   {
    "duration": 18,
    "start_time": "2022-03-19T20:41:54.297Z"
   },
   {
    "duration": 526,
    "start_time": "2022-03-19T20:42:00.167Z"
   },
   {
    "duration": 15,
    "start_time": "2022-03-19T20:42:04.293Z"
   },
   {
    "duration": 27,
    "start_time": "2022-03-19T20:42:04.707Z"
   },
   {
    "duration": 14,
    "start_time": "2022-03-19T20:42:55.498Z"
   },
   {
    "duration": 22,
    "start_time": "2022-03-19T20:44:55.979Z"
   },
   {
    "duration": 33,
    "start_time": "2022-03-19T21:00:13.626Z"
   },
   {
    "duration": 38,
    "start_time": "2022-03-19T21:00:49.837Z"
   },
   {
    "duration": 40,
    "start_time": "2022-03-19T21:02:04.027Z"
   },
   {
    "duration": 35,
    "start_time": "2022-03-19T21:05:20.425Z"
   },
   {
    "duration": 5,
    "start_time": "2022-03-19T21:17:09.516Z"
   },
   {
    "duration": 5,
    "start_time": "2022-03-19T21:18:41.244Z"
   },
   {
    "duration": 347,
    "start_time": "2022-03-19T21:20:58.796Z"
   },
   {
    "duration": 644,
    "start_time": "2022-03-19T21:22:09.687Z"
   },
   {
    "duration": 667,
    "start_time": "2022-03-19T21:22:17.196Z"
   },
   {
    "duration": 656,
    "start_time": "2022-03-19T21:22:20.157Z"
   },
   {
    "duration": 540,
    "start_time": "2022-03-19T21:24:09.506Z"
   },
   {
    "duration": 546,
    "start_time": "2022-03-19T21:55:15.513Z"
   },
   {
    "duration": 543,
    "start_time": "2022-03-19T21:56:36.374Z"
   },
   {
    "duration": 542,
    "start_time": "2022-03-19T21:57:01.674Z"
   },
   {
    "duration": 530,
    "start_time": "2022-03-19T21:57:09.273Z"
   },
   {
    "duration": 113,
    "start_time": "2022-03-19T21:57:37.687Z"
   },
   {
    "duration": 547,
    "start_time": "2022-03-19T21:58:28.193Z"
   },
   {
    "duration": 215,
    "start_time": "2022-03-19T21:58:40.193Z"
   },
   {
    "duration": 545,
    "start_time": "2022-03-19T21:58:47.487Z"
   },
   {
    "duration": 534,
    "start_time": "2022-03-19T21:59:35.995Z"
   },
   {
    "duration": 548,
    "start_time": "2022-03-19T22:00:32.314Z"
   },
   {
    "duration": 583,
    "start_time": "2022-03-19T22:04:02.644Z"
   },
   {
    "duration": 537,
    "start_time": "2022-03-19T22:04:08.804Z"
   },
   {
    "duration": 14,
    "start_time": "2022-03-19T22:06:46.322Z"
   },
   {
    "duration": 14,
    "start_time": "2022-03-19T22:06:58.890Z"
   },
   {
    "duration": 105,
    "start_time": "2022-03-19T22:30:37.553Z"
   },
   {
    "duration": 104,
    "start_time": "2022-03-19T22:32:14.952Z"
   },
   {
    "duration": 122,
    "start_time": "2022-03-19T22:33:17.654Z"
   },
   {
    "duration": 599,
    "start_time": "2022-03-20T10:39:58.768Z"
   },
   {
    "duration": 20,
    "start_time": "2022-03-20T10:39:59.370Z"
   },
   {
    "duration": 21,
    "start_time": "2022-03-20T10:39:59.392Z"
   },
   {
    "duration": 35,
    "start_time": "2022-03-20T10:39:59.415Z"
   },
   {
    "duration": 7,
    "start_time": "2022-03-20T10:39:59.458Z"
   },
   {
    "duration": 13,
    "start_time": "2022-03-20T10:39:59.467Z"
   },
   {
    "duration": 452,
    "start_time": "2022-03-20T10:39:59.483Z"
   },
   {
    "duration": 439,
    "start_time": "2022-03-20T10:39:59.937Z"
   },
   {
    "duration": 22,
    "start_time": "2022-03-20T10:40:00.379Z"
   },
   {
    "duration": 49,
    "start_time": "2022-03-20T10:40:00.403Z"
   },
   {
    "duration": 25,
    "start_time": "2022-03-20T10:40:00.454Z"
   },
   {
    "duration": 14,
    "start_time": "2022-03-20T10:40:00.482Z"
   },
   {
    "duration": 12,
    "start_time": "2022-03-20T10:40:00.498Z"
   },
   {
    "duration": 8,
    "start_time": "2022-03-20T10:40:00.548Z"
   },
   {
    "duration": 30,
    "start_time": "2022-03-20T10:40:00.562Z"
   },
   {
    "duration": 57,
    "start_time": "2022-03-20T10:40:00.595Z"
   },
   {
    "duration": 31,
    "start_time": "2022-03-20T10:40:00.654Z"
   },
   {
    "duration": 31,
    "start_time": "2022-03-20T10:40:00.688Z"
   },
   {
    "duration": 84,
    "start_time": "2022-03-20T10:40:00.721Z"
   },
   {
    "duration": 54,
    "start_time": "2022-03-20T10:40:00.807Z"
   },
   {
    "duration": 30,
    "start_time": "2022-03-20T10:40:00.863Z"
   },
   {
    "duration": 55,
    "start_time": "2022-03-20T10:40:00.895Z"
   },
   {
    "duration": 19,
    "start_time": "2022-03-20T10:40:00.955Z"
   },
   {
    "duration": 18,
    "start_time": "2022-03-20T10:40:00.977Z"
   },
   {
    "duration": 57,
    "start_time": "2022-03-20T10:40:00.998Z"
   },
   {
    "duration": 33,
    "start_time": "2022-03-20T10:40:01.058Z"
   },
   {
    "duration": 55,
    "start_time": "2022-03-20T10:40:01.094Z"
   },
   {
    "duration": 293,
    "start_time": "2022-03-20T10:40:01.151Z"
   },
   {
    "duration": 17,
    "start_time": "2022-03-20T10:40:01.447Z"
   },
   {
    "duration": 453,
    "start_time": "2022-03-20T10:40:01.466Z"
   },
   {
    "duration": 29,
    "start_time": "2022-03-20T10:40:01.922Z"
   },
   {
    "duration": 30,
    "start_time": "2022-03-20T10:40:01.954Z"
   },
   {
    "duration": 9,
    "start_time": "2022-03-20T10:40:41.124Z"
   },
   {
    "duration": 10,
    "start_time": "2022-03-20T10:44:14.164Z"
   },
   {
    "duration": 532,
    "start_time": "2022-03-20T10:46:45.904Z"
   },
   {
    "duration": 11,
    "start_time": "2022-03-20T10:50:09.257Z"
   },
   {
    "duration": 195,
    "start_time": "2022-03-20T11:04:14.898Z"
   },
   {
    "duration": 8,
    "start_time": "2022-03-20T12:03:45.360Z"
   },
   {
    "duration": 210,
    "start_time": "2022-03-20T12:15:48.085Z"
   },
   {
    "duration": 208,
    "start_time": "2022-03-20T12:22:44.202Z"
   },
   {
    "duration": 268,
    "start_time": "2022-03-20T12:36:43.683Z"
   },
   {
    "duration": 510,
    "start_time": "2022-03-20T23:43:01.529Z"
   },
   {
    "duration": 15,
    "start_time": "2022-03-20T23:43:02.040Z"
   },
   {
    "duration": 17,
    "start_time": "2022-03-20T23:43:04.018Z"
   },
   {
    "duration": 9,
    "start_time": "2022-03-20T23:43:04.737Z"
   },
   {
    "duration": 4,
    "start_time": "2022-03-20T23:43:05.857Z"
   },
   {
    "duration": 4,
    "start_time": "2022-03-20T23:43:06.097Z"
   },
   {
    "duration": 224,
    "start_time": "2022-03-20T23:43:06.367Z"
   },
   {
    "duration": 223,
    "start_time": "2022-03-20T23:43:06.817Z"
   },
   {
    "duration": 16,
    "start_time": "2022-03-20T23:43:09.217Z"
   },
   {
    "duration": 13,
    "start_time": "2022-03-20T23:43:21.867Z"
   },
   {
    "duration": 14,
    "start_time": "2022-03-20T23:45:37.688Z"
   },
   {
    "duration": 4,
    "start_time": "2022-03-20T23:47:40.697Z"
   },
   {
    "duration": 20,
    "start_time": "2022-03-20T23:54:07.857Z"
   },
   {
    "duration": 22,
    "start_time": "2022-03-20T23:54:08.098Z"
   },
   {
    "duration": 21,
    "start_time": "2022-03-20T23:54:08.289Z"
   },
   {
    "duration": 18,
    "start_time": "2022-03-20T23:54:08.727Z"
   },
   {
    "duration": 12,
    "start_time": "2022-03-20T23:54:09.359Z"
   },
   {
    "duration": 13,
    "start_time": "2022-03-20T23:54:09.539Z"
   },
   {
    "duration": 14,
    "start_time": "2022-03-20T23:54:09.937Z"
   },
   {
    "duration": 21,
    "start_time": "2022-03-20T23:54:11.128Z"
   },
   {
    "duration": 13,
    "start_time": "2022-03-20T23:56:45.857Z"
   },
   {
    "duration": 13,
    "start_time": "2022-03-20T23:57:07.418Z"
   },
   {
    "duration": 4,
    "start_time": "2022-03-20T23:58:35.057Z"
   },
   {
    "duration": 4,
    "start_time": "2022-03-20T23:58:51.917Z"
   },
   {
    "duration": 11,
    "start_time": "2022-03-21T00:02:35.219Z"
   },
   {
    "duration": 4,
    "start_time": "2022-03-21T00:04:40.699Z"
   },
   {
    "duration": 10,
    "start_time": "2022-03-21T00:13:59.377Z"
   },
   {
    "duration": 7,
    "start_time": "2022-03-21T00:14:04.820Z"
   },
   {
    "duration": 4,
    "start_time": "2022-03-21T00:27:11.386Z"
   },
   {
    "duration": 4,
    "start_time": "2022-03-21T00:27:13.557Z"
   },
   {
    "duration": 4,
    "start_time": "2022-03-21T00:29:03.819Z"
   },
   {
    "duration": 4,
    "start_time": "2022-03-21T00:29:24.896Z"
   },
   {
    "duration": 4,
    "start_time": "2022-03-21T00:29:29.496Z"
   },
   {
    "duration": 5,
    "start_time": "2022-03-21T00:31:55.298Z"
   },
   {
    "duration": 6,
    "start_time": "2022-03-21T00:33:57.096Z"
   },
   {
    "duration": 2444,
    "start_time": "2022-03-21T00:41:47.271Z"
   },
   {
    "duration": 0,
    "start_time": "2022-03-21T00:41:49.717Z"
   },
   {
    "duration": 490,
    "start_time": "2022-03-21T10:11:51.885Z"
   },
   {
    "duration": 15,
    "start_time": "2022-03-21T10:11:52.567Z"
   },
   {
    "duration": 15,
    "start_time": "2022-03-21T10:11:55.566Z"
   },
   {
    "duration": 7,
    "start_time": "2022-03-21T10:11:58.686Z"
   },
   {
    "duration": 4,
    "start_time": "2022-03-21T10:12:01.208Z"
   },
   {
    "duration": 4,
    "start_time": "2022-03-21T10:12:01.727Z"
   },
   {
    "duration": 237,
    "start_time": "2022-03-21T10:12:02.207Z"
   },
   {
    "duration": 225,
    "start_time": "2022-03-21T10:12:02.638Z"
   },
   {
    "duration": 15,
    "start_time": "2022-03-21T10:12:05.283Z"
   },
   {
    "duration": 12,
    "start_time": "2022-03-21T10:12:50.367Z"
   },
   {
    "duration": 3,
    "start_time": "2022-03-21T10:12:52.050Z"
   },
   {
    "duration": 9,
    "start_time": "2022-03-21T10:13:51.002Z"
   },
   {
    "duration": 4,
    "start_time": "2022-03-21T10:15:52.832Z"
   },
   {
    "duration": 4,
    "start_time": "2022-03-21T10:16:01.391Z"
   },
   {
    "duration": 5,
    "start_time": "2022-03-21T10:16:02.427Z"
   },
   {
    "duration": 5,
    "start_time": "2022-03-21T10:16:19.487Z"
   },
   {
    "duration": 6,
    "start_time": "2022-03-21T10:19:54.391Z"
   },
   {
    "duration": 5,
    "start_time": "2022-03-21T10:20:37.954Z"
   },
   {
    "duration": 6,
    "start_time": "2022-03-21T10:46:47.057Z"
   },
   {
    "duration": 69,
    "start_time": "2022-03-21T11:10:49.785Z"
   },
   {
    "duration": 16,
    "start_time": "2022-03-21T11:11:08.014Z"
   },
   {
    "duration": 14,
    "start_time": "2022-03-21T11:11:54.440Z"
   },
   {
    "duration": 200,
    "start_time": "2022-03-21T11:12:10.792Z"
   },
   {
    "duration": 15,
    "start_time": "2022-03-21T11:16:30.058Z"
   },
   {
    "duration": 14,
    "start_time": "2022-03-21T11:16:37.464Z"
   },
   {
    "duration": 9,
    "start_time": "2022-03-21T11:26:13.397Z"
   },
   {
    "duration": 8,
    "start_time": "2022-03-21T11:27:46.674Z"
   },
   {
    "duration": 4,
    "start_time": "2022-03-21T11:28:20.157Z"
   },
   {
    "duration": 4,
    "start_time": "2022-03-21T11:29:50.995Z"
   },
   {
    "duration": 5,
    "start_time": "2022-03-21T11:33:34.109Z"
   },
   {
    "duration": 4,
    "start_time": "2022-03-21T11:33:49.467Z"
   },
   {
    "duration": 5,
    "start_time": "2022-03-21T11:34:04.742Z"
   },
   {
    "duration": 7,
    "start_time": "2022-03-21T11:34:05.703Z"
   },
   {
    "duration": 4,
    "start_time": "2022-03-21T11:34:06.268Z"
   },
   {
    "duration": 15,
    "start_time": "2022-03-21T11:35:04.349Z"
   },
   {
    "duration": 20,
    "start_time": "2022-03-21T11:35:26.908Z"
   },
   {
    "duration": 20,
    "start_time": "2022-03-21T11:35:27.545Z"
   },
   {
    "duration": 20,
    "start_time": "2022-03-21T11:35:31.064Z"
   },
   {
    "duration": 13,
    "start_time": "2022-03-21T11:39:46.983Z"
   },
   {
    "duration": 13,
    "start_time": "2022-03-21T11:59:05.807Z"
   },
   {
    "duration": 13,
    "start_time": "2022-03-21T11:59:13.316Z"
   },
   {
    "duration": 34,
    "start_time": "2022-03-21T11:59:51.156Z"
   },
   {
    "duration": 23,
    "start_time": "2022-03-21T12:00:20.717Z"
   },
   {
    "duration": 156,
    "start_time": "2022-03-21T12:12:36.277Z"
   },
   {
    "duration": 13,
    "start_time": "2022-03-21T12:12:38.676Z"
   },
   {
    "duration": 226,
    "start_time": "2022-03-21T12:12:50.706Z"
   },
   {
    "duration": 69,
    "start_time": "2022-03-21T12:24:51.762Z"
   },
   {
    "duration": 16,
    "start_time": "2022-03-21T12:24:53.443Z"
   },
   {
    "duration": 13,
    "start_time": "2022-03-21T12:25:15.592Z"
   },
   {
    "duration": 8,
    "start_time": "2022-03-21T12:25:56.571Z"
   },
   {
    "duration": 4,
    "start_time": "2022-03-21T12:25:59.132Z"
   },
   {
    "duration": 3,
    "start_time": "2022-03-21T12:25:59.522Z"
   },
   {
    "duration": 211,
    "start_time": "2022-03-21T12:26:00.242Z"
   },
   {
    "duration": 217,
    "start_time": "2022-03-21T12:26:00.882Z"
   },
   {
    "duration": 15,
    "start_time": "2022-03-21T12:26:08.352Z"
   },
   {
    "duration": 14,
    "start_time": "2022-03-21T12:28:35.939Z"
   },
   {
    "duration": 3,
    "start_time": "2022-03-21T12:28:38.448Z"
   },
   {
    "duration": 11,
    "start_time": "2022-03-21T12:28:42.531Z"
   },
   {
    "duration": 4,
    "start_time": "2022-03-21T12:29:00.053Z"
   },
   {
    "duration": 4,
    "start_time": "2022-03-21T12:29:01.091Z"
   },
   {
    "duration": 3,
    "start_time": "2022-03-21T12:29:04.701Z"
   },
   {
    "duration": 6,
    "start_time": "2022-03-21T12:29:15.510Z"
   },
   {
    "duration": 6,
    "start_time": "2022-03-21T12:29:20.109Z"
   },
   {
    "duration": 3,
    "start_time": "2022-03-21T12:29:29.971Z"
   },
   {
    "duration": 14,
    "start_time": "2022-03-21T12:29:34.051Z"
   },
   {
    "duration": 18,
    "start_time": "2022-03-21T12:29:35.251Z"
   },
   {
    "duration": 36,
    "start_time": "2022-03-21T12:29:36.452Z"
   },
   {
    "duration": 14,
    "start_time": "2022-03-21T12:29:48.612Z"
   },
   {
    "duration": 19,
    "start_time": "2022-03-21T12:29:49.892Z"
   },
   {
    "duration": 19,
    "start_time": "2022-03-21T12:29:50.319Z"
   },
   {
    "duration": 5,
    "start_time": "2022-03-21T12:31:21.351Z"
   },
   {
    "duration": 6,
    "start_time": "2022-03-21T12:31:51.491Z"
   },
   {
    "duration": 5,
    "start_time": "2022-03-21T12:33:28.051Z"
   },
   {
    "duration": 20,
    "start_time": "2022-03-21T12:35:34.237Z"
   },
   {
    "duration": 21,
    "start_time": "2022-03-21T12:38:10.837Z"
   },
   {
    "duration": 74,
    "start_time": "2022-03-21T12:38:38.157Z"
   },
   {
    "duration": 15,
    "start_time": "2022-03-21T12:38:39.117Z"
   },
   {
    "duration": 12,
    "start_time": "2022-03-21T12:38:41.577Z"
   },
   {
    "duration": 9,
    "start_time": "2022-03-21T12:38:43.277Z"
   },
   {
    "duration": 4,
    "start_time": "2022-03-21T12:38:45.197Z"
   },
   {
    "duration": 5,
    "start_time": "2022-03-21T12:38:45.968Z"
   },
   {
    "duration": 358,
    "start_time": "2022-03-21T12:38:46.428Z"
   },
   {
    "duration": 219,
    "start_time": "2022-03-21T12:38:46.998Z"
   },
   {
    "duration": 14,
    "start_time": "2022-03-21T12:38:49.386Z"
   },
   {
    "duration": 13,
    "start_time": "2022-03-21T12:38:56.796Z"
   },
   {
    "duration": 4,
    "start_time": "2022-03-21T12:38:57.517Z"
   },
   {
    "duration": 10,
    "start_time": "2022-03-21T12:38:58.697Z"
   },
   {
    "duration": 4,
    "start_time": "2022-03-21T12:39:10.477Z"
   },
   {
    "duration": 7,
    "start_time": "2022-03-21T12:39:16.317Z"
   },
   {
    "duration": 6,
    "start_time": "2022-03-21T12:39:17.546Z"
   },
   {
    "duration": 4,
    "start_time": "2022-03-21T12:39:23.966Z"
   },
   {
    "duration": 15,
    "start_time": "2022-03-21T12:39:29.116Z"
   },
   {
    "duration": 20,
    "start_time": "2022-03-21T12:39:31.597Z"
   },
   {
    "duration": 35,
    "start_time": "2022-03-21T12:39:32.907Z"
   },
   {
    "duration": 6,
    "start_time": "2022-03-21T12:39:36.076Z"
   },
   {
    "duration": 15,
    "start_time": "2022-03-21T12:39:42.636Z"
   },
   {
    "duration": 19,
    "start_time": "2022-03-21T12:41:09.757Z"
   },
   {
    "duration": 18,
    "start_time": "2022-03-21T12:41:11.278Z"
   },
   {
    "duration": 18,
    "start_time": "2022-03-21T12:41:13.038Z"
   },
   {
    "duration": 195,
    "start_time": "2022-03-21T12:41:41.518Z"
   },
   {
    "duration": 12,
    "start_time": "2022-03-21T12:42:25.118Z"
   },
   {
    "duration": 12,
    "start_time": "2022-03-21T12:42:26.077Z"
   },
   {
    "duration": 16,
    "start_time": "2022-03-21T12:42:27.437Z"
   },
   {
    "duration": 23,
    "start_time": "2022-03-21T12:42:30.957Z"
   },
   {
    "duration": 26,
    "start_time": "2022-03-21T12:42:35.047Z"
   },
   {
    "duration": 166,
    "start_time": "2022-03-21T12:43:28.001Z"
   },
   {
    "duration": 9,
    "start_time": "2022-03-21T12:43:29.918Z"
   },
   {
    "duration": 314,
    "start_time": "2022-03-21T12:43:38.297Z"
   },
   {
    "duration": 10,
    "start_time": "2022-03-21T12:43:48.636Z"
   },
   {
    "duration": 16,
    "start_time": "2022-03-21T12:43:49.147Z"
   },
   {
    "duration": 502,
    "start_time": "2022-03-22T08:01:41.152Z"
   },
   {
    "duration": 15,
    "start_time": "2022-03-22T08:01:41.656Z"
   },
   {
    "duration": 13,
    "start_time": "2022-03-22T08:01:41.672Z"
   },
   {
    "duration": 7,
    "start_time": "2022-03-22T08:01:41.687Z"
   },
   {
    "duration": 6,
    "start_time": "2022-03-22T08:01:41.696Z"
   },
   {
    "duration": 8,
    "start_time": "2022-03-22T08:01:41.704Z"
   },
   {
    "duration": 216,
    "start_time": "2022-03-22T08:01:41.737Z"
   },
   {
    "duration": 231,
    "start_time": "2022-03-22T08:01:41.954Z"
   },
   {
    "duration": 21,
    "start_time": "2022-03-22T08:01:42.187Z"
   },
   {
    "duration": 31,
    "start_time": "2022-03-22T08:01:42.211Z"
   },
   {
    "duration": 11,
    "start_time": "2022-03-22T08:01:42.244Z"
   },
   {
    "duration": 25,
    "start_time": "2022-03-22T08:01:42.257Z"
   },
   {
    "duration": 14,
    "start_time": "2022-03-22T08:01:42.284Z"
   },
   {
    "duration": 25,
    "start_time": "2022-03-22T08:01:42.299Z"
   },
   {
    "duration": 14,
    "start_time": "2022-03-22T08:01:42.325Z"
   },
   {
    "duration": 25,
    "start_time": "2022-03-22T08:01:42.341Z"
   },
   {
    "duration": 17,
    "start_time": "2022-03-22T08:01:42.368Z"
   },
   {
    "duration": 11,
    "start_time": "2022-03-22T08:01:42.387Z"
   },
   {
    "duration": 33,
    "start_time": "2022-03-22T08:01:42.399Z"
   },
   {
    "duration": 27,
    "start_time": "2022-03-22T08:01:42.434Z"
   },
   {
    "duration": 40,
    "start_time": "2022-03-22T08:01:42.463Z"
   },
   {
    "duration": 6,
    "start_time": "2022-03-22T08:01:42.505Z"
   },
   {
    "duration": 37,
    "start_time": "2022-03-22T08:01:42.512Z"
   },
   {
    "duration": 19,
    "start_time": "2022-03-22T08:01:42.551Z"
   },
   {
    "duration": 19,
    "start_time": "2022-03-22T08:01:42.572Z"
   },
   {
    "duration": 22,
    "start_time": "2022-03-22T08:01:42.593Z"
   },
   {
    "duration": 14,
    "start_time": "2022-03-22T08:01:42.637Z"
   },
   {
    "duration": 11,
    "start_time": "2022-03-22T08:01:42.654Z"
   },
   {
    "duration": 30,
    "start_time": "2022-03-22T08:01:42.666Z"
   },
   {
    "duration": 35,
    "start_time": "2022-03-22T08:01:42.697Z"
   },
   {
    "duration": 27,
    "start_time": "2022-03-22T08:01:42.734Z"
   },
   {
    "duration": 167,
    "start_time": "2022-03-22T08:01:42.763Z"
   },
   {
    "duration": 9,
    "start_time": "2022-03-22T08:01:42.931Z"
   },
   {
    "duration": 235,
    "start_time": "2022-03-22T08:01:42.941Z"
   },
   {
    "duration": 9,
    "start_time": "2022-03-22T08:01:43.177Z"
   },
   {
    "duration": 27,
    "start_time": "2022-03-22T08:01:43.188Z"
   },
   {
    "duration": 272,
    "start_time": "2022-03-22T08:24:49.616Z"
   }
  ],
  "kernelspec": {
   "display_name": "Python 3 (ipykernel)",
   "language": "python",
   "name": "python3"
  },
  "language_info": {
   "codemirror_mode": {
    "name": "ipython",
    "version": 3
   },
   "file_extension": ".py",
   "mimetype": "text/x-python",
   "name": "python",
   "nbconvert_exporter": "python",
   "pygments_lexer": "ipython3",
   "version": "3.9.7"
  },
  "toc": {
   "base_numbering": 1,
   "nav_menu": {
    "height": "172px",
    "width": "720px"
   },
   "number_sections": true,
   "sideBar": true,
   "skip_h1_title": true,
   "title_cell": "Table of Contents",
   "title_sidebar": "Contents",
   "toc_cell": false,
   "toc_position": {
    "height": "calc(100% - 180px)",
    "left": "10px",
    "top": "150px",
    "width": "366.587px"
   },
   "toc_section_display": true,
   "toc_window_display": true
  }
 },
 "nbformat": 4,
 "nbformat_minor": 5
}
