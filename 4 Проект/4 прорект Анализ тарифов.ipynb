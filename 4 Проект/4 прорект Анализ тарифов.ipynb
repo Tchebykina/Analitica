{
 "cells": [
  {
   "cell_type": "markdown",
   "id": "97639164",
   "metadata": {},
   "source": [
    "<h1>Содержание<span class=\"tocSkip\"></span></h1>\n",
    "<div class=\"toc\"><ul class=\"toc-item\"><li><span><a href=\"#Изучение-данных-из-файла\" data-toc-modified-id=\"Изучение-данных-из-файла-1\"><span class=\"toc-item-num\">1&nbsp;&nbsp;</span>Изучение данных из файла</a></span><ul class=\"toc-item\"><li><span><a  href=\"#Предобработка-данных\" data-toc-modified-id=\"Предобработка-данных-2\"><span class=\"toc-item-num\">2&nbsp;&nbsp;</span>Предобработка данных</a></span></li><li><span><a href=\"#Проанализируйте-данные\" data-toc-modified-id=\"Проанализируйте-данные-3\"><span class=\"toc-item-num\">3&nbsp;&nbsp;</span>Проанализируйте данные</a></span></li><li><span><a href=\"#Проверьте-гипотезы\" data-toc-modified-id=\"Проверьте-гипотезы-4\"><span class=\"toc-item-num\">4&nbsp;&nbsp;</span>Проверьте гипотезы</a></span></li><li><span><a href=\"#Общий-вывод\" data-toc-modified-id=\"Общий-вывод-5\"><span class=\"toc-item-num\">5&nbsp;&nbsp;</span>Общий вывод</a></span></li><li><span><a "
   ]
  },
  {
   "cell_type": "markdown",
   "id": "3c7ae5bb",
   "metadata": {},
   "source": [
    "# Анализ тарифов \n",
    "Описание проекта\n",
    "Вы аналитик компании «Мегалайн» — федерального оператора сотовой связи. Клиентам предлагают два тарифных плана: «Смарт» и «Ультра». Чтобы скорректировать рекламный бюджет, коммерческий департамент хочет понять, какой тариф приносит больше денег.\n",
    "тариф приносит больше денег.\n",
    "\n",
    "Вам предстоит сделать предварительный анализ тарифов на небольшой выборке клиентов. В вашем распоряжении данные 500 пользователей «Мегалайна»: кто они, откуда, каким тарифом пользуются, сколько звонков и сообщений каждый отправил за 2018 год. Нужно проанализировать поведение клиентов и сделать вывод — какой тариф лучше.\n",
    "В процессе изучения данных сделаем следущее:\n",
    "* Изучим данные из файла\n",
    "* Сделаем предобработку данных\n",
    "* Проанализируем данные\n",
    "* Проверим гипотезы\n"
   ]
  },
  {
   "cell_type": "markdown",
   "id": "e982cc13",
   "metadata": {},
   "source": [
    "Описание тарифов\n",
    "Тариф «Смарт»\n",
    "Ежемесячная плата: 550 рублей\n",
    "Включено 500 минут разговора, 50 сообщений и 15 Гб интернет-трафика\n",
    "Стоимость услуг сверх тарифного пакета:\n",
    "минута разговора: 3 рубля\n",
    "сообщение: 3 рубля\n",
    "1 Гб интернет-трафика: 200 рублей\n",
    "Тариф «Ультра»\n",
    "Ежемесячная плата: 1950 рублей\n",
    "Включено 3000 минут разговора, 1000 сообщений и 30 Гб интернет-трафика\n",
    "Стоимость услуг сверх тарифного пакета:\n",
    "минута разговора: 1 рубль\n",
    "сообщение: 1 рубль\n",
    "1 Гб интернет-трафика: 150 рублей\n",
    "Примечание:\n",
    "«Мегалайн» всегда округляет секунды до минут, а мегабайты — до гигабайт. Каждый звонок округляется отдельно: даже если он длился всего 1 секунду, будет засчитан как 1 минута.\n",
    "Для веб-трафика отдельные сессии не считаются. Вместо этого общая сумма за месяц округляется в бо́льшую сторону. Если абонент использует 1025 мегабайт в этом месяце, с него возьмут плату за 2 гигабайта.\n"
   ]
  },
  {
   "cell_type": "markdown",
   "id": "6d6b3d1b",
   "metadata": {},
   "source": [
    "#  Изучение данных из файла"
   ]
  },
  {
   "cell_type": "code",
   "execution_count": 1,
   "id": "1797ac54",
   "metadata": {},
   "outputs": [
    {
     "data": {
      "text/html": [
       "<div>\n",
       "<style scoped>\n",
       "    .dataframe tbody tr th:only-of-type {\n",
       "        vertical-align: middle;\n",
       "    }\n",
       "\n",
       "    .dataframe tbody tr th {\n",
       "        vertical-align: top;\n",
       "    }\n",
       "\n",
       "    .dataframe thead th {\n",
       "        text-align: right;\n",
       "    }\n",
       "</style>\n",
       "<table border=\"1\" class=\"dataframe\">\n",
       "  <thead>\n",
       "    <tr style=\"text-align: right;\">\n",
       "      <th></th>\n",
       "      <th>messages_included</th>\n",
       "      <th>mb_per_month_included</th>\n",
       "      <th>minutes_included</th>\n",
       "      <th>rub_monthly_fee</th>\n",
       "      <th>rub_per_gb</th>\n",
       "      <th>rub_per_message</th>\n",
       "      <th>rub_per_minute</th>\n",
       "      <th>tariff_name</th>\n",
       "    </tr>\n",
       "  </thead>\n",
       "  <tbody>\n",
       "    <tr>\n",
       "      <th>0</th>\n",
       "      <td>50</td>\n",
       "      <td>15360</td>\n",
       "      <td>500</td>\n",
       "      <td>550</td>\n",
       "      <td>200</td>\n",
       "      <td>3</td>\n",
       "      <td>3</td>\n",
       "      <td>smart</td>\n",
       "    </tr>\n",
       "    <tr>\n",
       "      <th>1</th>\n",
       "      <td>1000</td>\n",
       "      <td>30720</td>\n",
       "      <td>3000</td>\n",
       "      <td>1950</td>\n",
       "      <td>150</td>\n",
       "      <td>1</td>\n",
       "      <td>1</td>\n",
       "      <td>ultra</td>\n",
       "    </tr>\n",
       "  </tbody>\n",
       "</table>\n",
       "</div>"
      ],
      "text/plain": [
       "   messages_included  mb_per_month_included  minutes_included  \\\n",
       "0                 50                  15360               500   \n",
       "1               1000                  30720              3000   \n",
       "\n",
       "   rub_monthly_fee  rub_per_gb  rub_per_message  rub_per_minute tariff_name  \n",
       "0              550         200                3               3       smart  \n",
       "1             1950         150                1               1       ultra  "
      ]
     },
     "execution_count": 1,
     "metadata": {},
     "output_type": "execute_result"
    }
   ],
   "source": [
    "import pandas as pd\n",
    "import numpy as np\n",
    "import matplotlib.pyplot as plt\n",
    "import seaborn as sns\n",
    "import warnings\n",
    "from scipy import stats as st\n",
    "warnings.filterwarnings(\"ignore\")\n",
    "tariffs = pd.read_csv('/datasets/tariffs.csv')\n",
    "tariffs.head(10)"
   ]
  },
  {
   "cell_type": "markdown",
   "id": "be9f08b8",
   "metadata": {},
   "source": [
    "Посмотрим данные в таблице tariffs"
   ]
  },
  {
   "cell_type": "markdown",
   "id": "588a55f9",
   "metadata": {},
   "source": [
    "Информационная таблица для описания тарифа. Здесь все значения в норме"
   ]
  },
  {
   "cell_type": "markdown",
   "id": "aee6bd88",
   "metadata": {},
   "source": [
    "Посмотрим данные в таблице users"
   ]
  },
  {
   "cell_type": "code",
   "execution_count": 2,
   "id": "35313bda",
   "metadata": {},
   "outputs": [
    {
     "data": {
      "text/html": [
       "<div>\n",
       "<style scoped>\n",
       "    .dataframe tbody tr th:only-of-type {\n",
       "        vertical-align: middle;\n",
       "    }\n",
       "\n",
       "    .dataframe tbody tr th {\n",
       "        vertical-align: top;\n",
       "    }\n",
       "\n",
       "    .dataframe thead th {\n",
       "        text-align: right;\n",
       "    }\n",
       "</style>\n",
       "<table border=\"1\" class=\"dataframe\">\n",
       "  <thead>\n",
       "    <tr style=\"text-align: right;\">\n",
       "      <th></th>\n",
       "      <th>user_id</th>\n",
       "      <th>age</th>\n",
       "      <th>churn_date</th>\n",
       "      <th>city</th>\n",
       "      <th>first_name</th>\n",
       "      <th>last_name</th>\n",
       "      <th>reg_date</th>\n",
       "      <th>tariff</th>\n",
       "    </tr>\n",
       "  </thead>\n",
       "  <tbody>\n",
       "    <tr>\n",
       "      <th>0</th>\n",
       "      <td>1000</td>\n",
       "      <td>52</td>\n",
       "      <td>NaN</td>\n",
       "      <td>Краснодар</td>\n",
       "      <td>Рафаил</td>\n",
       "      <td>Верещагин</td>\n",
       "      <td>2018-05-25</td>\n",
       "      <td>ultra</td>\n",
       "    </tr>\n",
       "    <tr>\n",
       "      <th>1</th>\n",
       "      <td>1001</td>\n",
       "      <td>41</td>\n",
       "      <td>NaN</td>\n",
       "      <td>Москва</td>\n",
       "      <td>Иван</td>\n",
       "      <td>Ежов</td>\n",
       "      <td>2018-11-01</td>\n",
       "      <td>smart</td>\n",
       "    </tr>\n",
       "    <tr>\n",
       "      <th>2</th>\n",
       "      <td>1002</td>\n",
       "      <td>59</td>\n",
       "      <td>NaN</td>\n",
       "      <td>Стерлитамак</td>\n",
       "      <td>Евгений</td>\n",
       "      <td>Абрамович</td>\n",
       "      <td>2018-06-17</td>\n",
       "      <td>smart</td>\n",
       "    </tr>\n",
       "    <tr>\n",
       "      <th>3</th>\n",
       "      <td>1003</td>\n",
       "      <td>23</td>\n",
       "      <td>NaN</td>\n",
       "      <td>Москва</td>\n",
       "      <td>Белла</td>\n",
       "      <td>Белякова</td>\n",
       "      <td>2018-08-17</td>\n",
       "      <td>ultra</td>\n",
       "    </tr>\n",
       "    <tr>\n",
       "      <th>4</th>\n",
       "      <td>1004</td>\n",
       "      <td>68</td>\n",
       "      <td>NaN</td>\n",
       "      <td>Новокузнецк</td>\n",
       "      <td>Татьяна</td>\n",
       "      <td>Авдеенко</td>\n",
       "      <td>2018-05-14</td>\n",
       "      <td>ultra</td>\n",
       "    </tr>\n",
       "    <tr>\n",
       "      <th>5</th>\n",
       "      <td>1005</td>\n",
       "      <td>67</td>\n",
       "      <td>NaN</td>\n",
       "      <td>Набережные Челны</td>\n",
       "      <td>Афанасий</td>\n",
       "      <td>Горлов</td>\n",
       "      <td>2018-01-25</td>\n",
       "      <td>smart</td>\n",
       "    </tr>\n",
       "    <tr>\n",
       "      <th>6</th>\n",
       "      <td>1006</td>\n",
       "      <td>21</td>\n",
       "      <td>NaN</td>\n",
       "      <td>Ульяновск</td>\n",
       "      <td>Леонид</td>\n",
       "      <td>Ермолаев</td>\n",
       "      <td>2018-02-26</td>\n",
       "      <td>smart</td>\n",
       "    </tr>\n",
       "    <tr>\n",
       "      <th>7</th>\n",
       "      <td>1007</td>\n",
       "      <td>65</td>\n",
       "      <td>NaN</td>\n",
       "      <td>Москва</td>\n",
       "      <td>Юна</td>\n",
       "      <td>Березина</td>\n",
       "      <td>2018-04-19</td>\n",
       "      <td>smart</td>\n",
       "    </tr>\n",
       "    <tr>\n",
       "      <th>8</th>\n",
       "      <td>1008</td>\n",
       "      <td>63</td>\n",
       "      <td>NaN</td>\n",
       "      <td>Челябинск</td>\n",
       "      <td>Рустэм</td>\n",
       "      <td>Пономарёв</td>\n",
       "      <td>2018-12-19</td>\n",
       "      <td>smart</td>\n",
       "    </tr>\n",
       "    <tr>\n",
       "      <th>9</th>\n",
       "      <td>1009</td>\n",
       "      <td>24</td>\n",
       "      <td>NaN</td>\n",
       "      <td>Пермь</td>\n",
       "      <td>Василиса</td>\n",
       "      <td>Блинова</td>\n",
       "      <td>2018-03-22</td>\n",
       "      <td>smart</td>\n",
       "    </tr>\n",
       "  </tbody>\n",
       "</table>\n",
       "</div>"
      ],
      "text/plain": [
       "   user_id  age churn_date              city first_name  last_name  \\\n",
       "0     1000   52        NaN         Краснодар     Рафаил  Верещагин   \n",
       "1     1001   41        NaN            Москва       Иван       Ежов   \n",
       "2     1002   59        NaN       Стерлитамак    Евгений  Абрамович   \n",
       "3     1003   23        NaN            Москва      Белла   Белякова   \n",
       "4     1004   68        NaN       Новокузнецк    Татьяна   Авдеенко   \n",
       "5     1005   67        NaN  Набережные Челны   Афанасий     Горлов   \n",
       "6     1006   21        NaN         Ульяновск     Леонид   Ермолаев   \n",
       "7     1007   65        NaN            Москва        Юна   Березина   \n",
       "8     1008   63        NaN         Челябинск     Рустэм  Пономарёв   \n",
       "9     1009   24        NaN             Пермь   Василиса    Блинова   \n",
       "\n",
       "     reg_date tariff  \n",
       "0  2018-05-25  ultra  \n",
       "1  2018-11-01  smart  \n",
       "2  2018-06-17  smart  \n",
       "3  2018-08-17  ultra  \n",
       "4  2018-05-14  ultra  \n",
       "5  2018-01-25  smart  \n",
       "6  2018-02-26  smart  \n",
       "7  2018-04-19  smart  \n",
       "8  2018-12-19  smart  \n",
       "9  2018-03-22  smart  "
      ]
     },
     "execution_count": 2,
     "metadata": {},
     "output_type": "execute_result"
    }
   ],
   "source": [
    "users = pd.read_csv('/datasets/users.csv' )\n",
    "users.head(10)"
   ]
  },
  {
   "cell_type": "markdown",
   "id": "9375261b",
   "metadata": {},
   "source": [
    "Проверим, все ли пользователи уникальные:"
   ]
  },
  {
   "cell_type": "code",
   "execution_count": 3,
   "id": "7759c3db",
   "metadata": {},
   "outputs": [
    {
     "name": "stdout",
     "output_type": "stream",
     "text": [
      "Число строк в users: 500\n",
      "Число уникальных пользователей: 500\n",
      "Число дубликатов: 0\n"
     ]
    }
   ],
   "source": [
    "print(\"Число строк в users:\", users.shape[0])\n",
    "print(\"Число уникальных пользователей:\", users['user_id'].count())\n",
    "print(\"Число дубликатов:\", users.duplicated().sum())"
   ]
  },
  {
   "cell_type": "markdown",
   "id": "55c4ac09",
   "metadata": {},
   "source": [
    "Все пользователи уникальные, дубликатов нет."
   ]
  },
  {
   "cell_type": "code",
   "execution_count": 4,
   "id": "5561939f",
   "metadata": {},
   "outputs": [
    {
     "name": "stdout",
     "output_type": "stream",
     "text": [
      "<class 'pandas.core.frame.DataFrame'>\n",
      "RangeIndex: 500 entries, 0 to 499\n",
      "Data columns (total 8 columns):\n",
      " #   Column      Non-Null Count  Dtype \n",
      "---  ------      --------------  ----- \n",
      " 0   user_id     500 non-null    int64 \n",
      " 1   age         500 non-null    int64 \n",
      " 2   churn_date  38 non-null     object\n",
      " 3   city        500 non-null    object\n",
      " 4   first_name  500 non-null    object\n",
      " 5   last_name   500 non-null    object\n",
      " 6   reg_date    500 non-null    object\n",
      " 7   tariff      500 non-null    object\n",
      "dtypes: int64(2), object(6)\n",
      "memory usage: 31.4+ KB\n"
     ]
    }
   ],
   "source": [
    "users.info()"
   ]
  },
  {
   "cell_type": "markdown",
   "id": "9bfd7a13",
   "metadata": {},
   "source": [
    "Много значений NaN в столбце \"churn_date\", но в описании проекта сказано, что если в данном столбце пропущенны данные, то это значит, что тариф еще действует у абонента на момент выгрузки данных. Это оставляем все как есть. Столбец \"reg_date\" приведем к  datetime."
   ]
  },
  {
   "cell_type": "markdown",
   "id": "ed750ccc",
   "metadata": {},
   "source": [
    "Изучим таблицу messages"
   ]
  },
  {
   "cell_type": "code",
   "execution_count": 5,
   "id": "e2f26eaf",
   "metadata": {},
   "outputs": [
    {
     "data": {
      "text/html": [
       "<div>\n",
       "<style scoped>\n",
       "    .dataframe tbody tr th:only-of-type {\n",
       "        vertical-align: middle;\n",
       "    }\n",
       "\n",
       "    .dataframe tbody tr th {\n",
       "        vertical-align: top;\n",
       "    }\n",
       "\n",
       "    .dataframe thead th {\n",
       "        text-align: right;\n",
       "    }\n",
       "</style>\n",
       "<table border=\"1\" class=\"dataframe\">\n",
       "  <thead>\n",
       "    <tr style=\"text-align: right;\">\n",
       "      <th></th>\n",
       "      <th>id</th>\n",
       "      <th>message_date</th>\n",
       "      <th>user_id</th>\n",
       "    </tr>\n",
       "  </thead>\n",
       "  <tbody>\n",
       "    <tr>\n",
       "      <th>0</th>\n",
       "      <td>1000_0</td>\n",
       "      <td>2018-06-27</td>\n",
       "      <td>1000</td>\n",
       "    </tr>\n",
       "    <tr>\n",
       "      <th>1</th>\n",
       "      <td>1000_1</td>\n",
       "      <td>2018-10-08</td>\n",
       "      <td>1000</td>\n",
       "    </tr>\n",
       "    <tr>\n",
       "      <th>2</th>\n",
       "      <td>1000_2</td>\n",
       "      <td>2018-08-04</td>\n",
       "      <td>1000</td>\n",
       "    </tr>\n",
       "    <tr>\n",
       "      <th>3</th>\n",
       "      <td>1000_3</td>\n",
       "      <td>2018-06-16</td>\n",
       "      <td>1000</td>\n",
       "    </tr>\n",
       "    <tr>\n",
       "      <th>4</th>\n",
       "      <td>1000_4</td>\n",
       "      <td>2018-12-05</td>\n",
       "      <td>1000</td>\n",
       "    </tr>\n",
       "    <tr>\n",
       "      <th>5</th>\n",
       "      <td>1000_5</td>\n",
       "      <td>2018-06-20</td>\n",
       "      <td>1000</td>\n",
       "    </tr>\n",
       "    <tr>\n",
       "      <th>6</th>\n",
       "      <td>1000_6</td>\n",
       "      <td>2018-11-19</td>\n",
       "      <td>1000</td>\n",
       "    </tr>\n",
       "    <tr>\n",
       "      <th>7</th>\n",
       "      <td>1000_7</td>\n",
       "      <td>2018-10-29</td>\n",
       "      <td>1000</td>\n",
       "    </tr>\n",
       "    <tr>\n",
       "      <th>8</th>\n",
       "      <td>1000_8</td>\n",
       "      <td>2018-06-25</td>\n",
       "      <td>1000</td>\n",
       "    </tr>\n",
       "    <tr>\n",
       "      <th>9</th>\n",
       "      <td>1000_9</td>\n",
       "      <td>2018-12-18</td>\n",
       "      <td>1000</td>\n",
       "    </tr>\n",
       "  </tbody>\n",
       "</table>\n",
       "</div>"
      ],
      "text/plain": [
       "       id message_date  user_id\n",
       "0  1000_0   2018-06-27     1000\n",
       "1  1000_1   2018-10-08     1000\n",
       "2  1000_2   2018-08-04     1000\n",
       "3  1000_3   2018-06-16     1000\n",
       "4  1000_4   2018-12-05     1000\n",
       "5  1000_5   2018-06-20     1000\n",
       "6  1000_6   2018-11-19     1000\n",
       "7  1000_7   2018-10-29     1000\n",
       "8  1000_8   2018-06-25     1000\n",
       "9  1000_9   2018-12-18     1000"
      ]
     },
     "execution_count": 5,
     "metadata": {},
     "output_type": "execute_result"
    }
   ],
   "source": [
    "messages = pd.read_csv('/datasets/messages.csv' )\n",
    "messages.head(10)"
   ]
  },
  {
   "cell_type": "code",
   "execution_count": 6,
   "id": "3112658e",
   "metadata": {},
   "outputs": [
    {
     "name": "stdout",
     "output_type": "stream",
     "text": [
      "<class 'pandas.core.frame.DataFrame'>\n",
      "RangeIndex: 123036 entries, 0 to 123035\n",
      "Data columns (total 3 columns):\n",
      " #   Column        Non-Null Count   Dtype \n",
      "---  ------        --------------   ----- \n",
      " 0   id            123036 non-null  object\n",
      " 1   message_date  123036 non-null  object\n",
      " 2   user_id       123036 non-null  int64 \n",
      "dtypes: int64(1), object(2)\n",
      "memory usage: 2.8+ MB\n"
     ]
    }
   ],
   "source": [
    "messages.info()"
   ]
  },
  {
   "cell_type": "markdown",
   "id": "bd7c8b7b",
   "metadata": {},
   "source": [
    "В таблице messages пропущенных значений не наблюдается, столбец \"message_date\" тоже приведем к datetime."
   ]
  },
  {
   "cell_type": "markdown",
   "id": "bd87f952",
   "metadata": {},
   "source": [
    "Изучим таблицу internet"
   ]
  },
  {
   "cell_type": "code",
   "execution_count": 7,
   "id": "dff2f4d9",
   "metadata": {},
   "outputs": [
    {
     "data": {
      "text/html": [
       "<div>\n",
       "<style scoped>\n",
       "    .dataframe tbody tr th:only-of-type {\n",
       "        vertical-align: middle;\n",
       "    }\n",
       "\n",
       "    .dataframe tbody tr th {\n",
       "        vertical-align: top;\n",
       "    }\n",
       "\n",
       "    .dataframe thead th {\n",
       "        text-align: right;\n",
       "    }\n",
       "</style>\n",
       "<table border=\"1\" class=\"dataframe\">\n",
       "  <thead>\n",
       "    <tr style=\"text-align: right;\">\n",
       "      <th></th>\n",
       "      <th>id</th>\n",
       "      <th>mb_used</th>\n",
       "      <th>session_date</th>\n",
       "      <th>user_id</th>\n",
       "    </tr>\n",
       "  </thead>\n",
       "  <tbody>\n",
       "    <tr>\n",
       "      <th>0</th>\n",
       "      <td>1000_0</td>\n",
       "      <td>112.95</td>\n",
       "      <td>2018-11-25</td>\n",
       "      <td>1000</td>\n",
       "    </tr>\n",
       "    <tr>\n",
       "      <th>1</th>\n",
       "      <td>1000_1</td>\n",
       "      <td>1052.81</td>\n",
       "      <td>2018-09-07</td>\n",
       "      <td>1000</td>\n",
       "    </tr>\n",
       "    <tr>\n",
       "      <th>2</th>\n",
       "      <td>1000_2</td>\n",
       "      <td>1197.26</td>\n",
       "      <td>2018-06-25</td>\n",
       "      <td>1000</td>\n",
       "    </tr>\n",
       "    <tr>\n",
       "      <th>3</th>\n",
       "      <td>1000_3</td>\n",
       "      <td>550.27</td>\n",
       "      <td>2018-08-22</td>\n",
       "      <td>1000</td>\n",
       "    </tr>\n",
       "    <tr>\n",
       "      <th>4</th>\n",
       "      <td>1000_4</td>\n",
       "      <td>302.56</td>\n",
       "      <td>2018-09-24</td>\n",
       "      <td>1000</td>\n",
       "    </tr>\n",
       "    <tr>\n",
       "      <th>5</th>\n",
       "      <td>1000_5</td>\n",
       "      <td>399.97</td>\n",
       "      <td>2018-10-02</td>\n",
       "      <td>1000</td>\n",
       "    </tr>\n",
       "    <tr>\n",
       "      <th>6</th>\n",
       "      <td>1000_6</td>\n",
       "      <td>540.08</td>\n",
       "      <td>2018-09-07</td>\n",
       "      <td>1000</td>\n",
       "    </tr>\n",
       "    <tr>\n",
       "      <th>7</th>\n",
       "      <td>1000_7</td>\n",
       "      <td>415.70</td>\n",
       "      <td>2018-07-11</td>\n",
       "      <td>1000</td>\n",
       "    </tr>\n",
       "    <tr>\n",
       "      <th>8</th>\n",
       "      <td>1000_8</td>\n",
       "      <td>505.40</td>\n",
       "      <td>2018-10-08</td>\n",
       "      <td>1000</td>\n",
       "    </tr>\n",
       "    <tr>\n",
       "      <th>9</th>\n",
       "      <td>1000_9</td>\n",
       "      <td>345.54</td>\n",
       "      <td>2018-09-03</td>\n",
       "      <td>1000</td>\n",
       "    </tr>\n",
       "  </tbody>\n",
       "</table>\n",
       "</div>"
      ],
      "text/plain": [
       "       id  mb_used session_date  user_id\n",
       "0  1000_0   112.95   2018-11-25     1000\n",
       "1  1000_1  1052.81   2018-09-07     1000\n",
       "2  1000_2  1197.26   2018-06-25     1000\n",
       "3  1000_3   550.27   2018-08-22     1000\n",
       "4  1000_4   302.56   2018-09-24     1000\n",
       "5  1000_5   399.97   2018-10-02     1000\n",
       "6  1000_6   540.08   2018-09-07     1000\n",
       "7  1000_7   415.70   2018-07-11     1000\n",
       "8  1000_8   505.40   2018-10-08     1000\n",
       "9  1000_9   345.54   2018-09-03     1000"
      ]
     },
     "execution_count": 7,
     "metadata": {},
     "output_type": "execute_result"
    }
   ],
   "source": [
    "internet = pd.read_csv('/datasets/internet.csv', index_col=0)\n",
    "internet.head(10)"
   ]
  },
  {
   "cell_type": "code",
   "execution_count": 8,
   "id": "d06a2f61",
   "metadata": {},
   "outputs": [
    {
     "name": "stdout",
     "output_type": "stream",
     "text": [
      "<class 'pandas.core.frame.DataFrame'>\n",
      "Int64Index: 149396 entries, 0 to 149395\n",
      "Data columns (total 4 columns):\n",
      " #   Column        Non-Null Count   Dtype  \n",
      "---  ------        --------------   -----  \n",
      " 0   id            149396 non-null  object \n",
      " 1   mb_used       149396 non-null  float64\n",
      " 2   session_date  149396 non-null  object \n",
      " 3   user_id       149396 non-null  int64  \n",
      "dtypes: float64(1), int64(1), object(2)\n",
      "memory usage: 5.7+ MB\n"
     ]
    }
   ],
   "source": [
    "internet.info()"
   ]
  },
  {
   "cell_type": "markdown",
   "id": "b3e50093",
   "metadata": {},
   "source": [
    "В таблице internet пропущенных значений не наблюдается, столбец \"session_date\" тоже приведем к datetime."
   ]
  },
  {
   "cell_type": "markdown",
   "id": "035488f9",
   "metadata": {},
   "source": [
    "Изучим таблицу calls"
   ]
  },
  {
   "cell_type": "code",
   "execution_count": 9,
   "id": "f05a3e1c",
   "metadata": {},
   "outputs": [
    {
     "data": {
      "text/html": [
       "<div>\n",
       "<style scoped>\n",
       "    .dataframe tbody tr th:only-of-type {\n",
       "        vertical-align: middle;\n",
       "    }\n",
       "\n",
       "    .dataframe tbody tr th {\n",
       "        vertical-align: top;\n",
       "    }\n",
       "\n",
       "    .dataframe thead th {\n",
       "        text-align: right;\n",
       "    }\n",
       "</style>\n",
       "<table border=\"1\" class=\"dataframe\">\n",
       "  <thead>\n",
       "    <tr style=\"text-align: right;\">\n",
       "      <th></th>\n",
       "      <th>id</th>\n",
       "      <th>call_date</th>\n",
       "      <th>duration</th>\n",
       "      <th>user_id</th>\n",
       "    </tr>\n",
       "  </thead>\n",
       "  <tbody>\n",
       "    <tr>\n",
       "      <th>0</th>\n",
       "      <td>1000_0</td>\n",
       "      <td>2018-07-25</td>\n",
       "      <td>0.00</td>\n",
       "      <td>1000</td>\n",
       "    </tr>\n",
       "    <tr>\n",
       "      <th>1</th>\n",
       "      <td>1000_1</td>\n",
       "      <td>2018-08-17</td>\n",
       "      <td>0.00</td>\n",
       "      <td>1000</td>\n",
       "    </tr>\n",
       "    <tr>\n",
       "      <th>2</th>\n",
       "      <td>1000_2</td>\n",
       "      <td>2018-06-11</td>\n",
       "      <td>2.85</td>\n",
       "      <td>1000</td>\n",
       "    </tr>\n",
       "    <tr>\n",
       "      <th>3</th>\n",
       "      <td>1000_3</td>\n",
       "      <td>2018-09-21</td>\n",
       "      <td>13.80</td>\n",
       "      <td>1000</td>\n",
       "    </tr>\n",
       "    <tr>\n",
       "      <th>4</th>\n",
       "      <td>1000_4</td>\n",
       "      <td>2018-12-15</td>\n",
       "      <td>5.18</td>\n",
       "      <td>1000</td>\n",
       "    </tr>\n",
       "    <tr>\n",
       "      <th>5</th>\n",
       "      <td>1000_5</td>\n",
       "      <td>2018-11-02</td>\n",
       "      <td>0.00</td>\n",
       "      <td>1000</td>\n",
       "    </tr>\n",
       "    <tr>\n",
       "      <th>6</th>\n",
       "      <td>1000_6</td>\n",
       "      <td>2018-10-18</td>\n",
       "      <td>0.00</td>\n",
       "      <td>1000</td>\n",
       "    </tr>\n",
       "    <tr>\n",
       "      <th>7</th>\n",
       "      <td>1000_7</td>\n",
       "      <td>2018-08-22</td>\n",
       "      <td>18.31</td>\n",
       "      <td>1000</td>\n",
       "    </tr>\n",
       "    <tr>\n",
       "      <th>8</th>\n",
       "      <td>1000_8</td>\n",
       "      <td>2018-09-15</td>\n",
       "      <td>18.44</td>\n",
       "      <td>1000</td>\n",
       "    </tr>\n",
       "    <tr>\n",
       "      <th>9</th>\n",
       "      <td>1000_9</td>\n",
       "      <td>2018-08-15</td>\n",
       "      <td>0.00</td>\n",
       "      <td>1000</td>\n",
       "    </tr>\n",
       "  </tbody>\n",
       "</table>\n",
       "</div>"
      ],
      "text/plain": [
       "       id   call_date  duration  user_id\n",
       "0  1000_0  2018-07-25      0.00     1000\n",
       "1  1000_1  2018-08-17      0.00     1000\n",
       "2  1000_2  2018-06-11      2.85     1000\n",
       "3  1000_3  2018-09-21     13.80     1000\n",
       "4  1000_4  2018-12-15      5.18     1000\n",
       "5  1000_5  2018-11-02      0.00     1000\n",
       "6  1000_6  2018-10-18      0.00     1000\n",
       "7  1000_7  2018-08-22     18.31     1000\n",
       "8  1000_8  2018-09-15     18.44     1000\n",
       "9  1000_9  2018-08-15      0.00     1000"
      ]
     },
     "execution_count": 9,
     "metadata": {},
     "output_type": "execute_result"
    }
   ],
   "source": [
    "calls = pd.read_csv('/datasets/calls.csv' )\n",
    "calls.head(10)"
   ]
  },
  {
   "cell_type": "code",
   "execution_count": 10,
   "id": "8ca896dd",
   "metadata": {},
   "outputs": [
    {
     "name": "stdout",
     "output_type": "stream",
     "text": [
      "<class 'pandas.core.frame.DataFrame'>\n",
      "RangeIndex: 202607 entries, 0 to 202606\n",
      "Data columns (total 4 columns):\n",
      " #   Column     Non-Null Count   Dtype  \n",
      "---  ------     --------------   -----  \n",
      " 0   id         202607 non-null  object \n",
      " 1   call_date  202607 non-null  object \n",
      " 2   duration   202607 non-null  float64\n",
      " 3   user_id    202607 non-null  int64  \n",
      "dtypes: float64(1), int64(1), object(2)\n",
      "memory usage: 6.2+ MB\n"
     ]
    }
   ],
   "source": [
    "calls.info()"
   ]
  },
  {
   "cell_type": "markdown",
   "id": "1824037b",
   "metadata": {},
   "source": [
    "В таблице calls пропущенных значений не наблюдается, столбец \"call_date\" тоже приведем к datetime."
   ]
  },
  {
   "cell_type": "markdown",
   "id": "fd6cc159",
   "metadata": {},
   "source": [
    "Вывод: Все файлы открыты и вся общая информация изучена из этих файлов. Столбец \"reg_date\", \"session_date\", \"call_date\", \"message_date\"  приведем к datetime."
   ]
  },
  {
   "cell_type": "markdown",
   "id": "ae7f1488",
   "metadata": {},
   "source": [
    "# Предобработка данных"
   ]
  },
  {
   "cell_type": "markdown",
   "id": "86dcf4ef",
   "metadata": {},
   "source": [
    "Изменение типа данных столбцов 'reg_date', 'message_date', 'session_date', 'call_date'   с датами на datetime:"
   ]
  },
  {
   "cell_type": "code",
   "execution_count": 11,
   "id": "14000708",
   "metadata": {},
   "outputs": [],
   "source": [
    "users['reg_date'] = pd.to_datetime(users['reg_date'], format='%Y-%m-%d')\n",
    "messages['message_date'] = pd.to_datetime(messages['message_date'], format='%Y-%m-%d')\n",
    "internet['session_date'] = pd.to_datetime(internet['session_date'], format='%Y-%m-%d')\n",
    "calls['call_date'] = pd.to_datetime(calls['call_date'], format='%Y-%m-%d')"
   ]
  },
  {
   "cell_type": "markdown",
   "id": "e337c928",
   "metadata": {},
   "source": [
    "Добавим столбец месяц в таблицы, чтобы в дальнейшем делать расчеты по месяцам"
   ]
  },
  {
   "cell_type": "code",
   "execution_count": 12,
   "id": "e24d108d",
   "metadata": {},
   "outputs": [],
   "source": [
    "users['month'] = pd.DatetimeIndex(users['reg_date']).month\n",
    "messages['month'] = pd.DatetimeIndex(messages['message_date']).month\n",
    "internet['month'] = pd.DatetimeIndex(internet['session_date']).month\n",
    "calls['month'] = pd.DatetimeIndex(calls['call_date']).month"
   ]
  },
  {
   "cell_type": "markdown",
   "id": "8587e624",
   "metadata": {},
   "source": [
    "По заданию: «Мегалайн» всегда округляет вверх значения минут и мегабайт. Если пользователь проговорил всего 1 секунду, в тарифе засчитывается целая минута.\n",
    "Округляем в большую сторону до мегабайта весь трафик по каждой сессии при помощи np.floor:"
   ]
  },
  {
   "cell_type": "code",
   "execution_count": 13,
   "id": "bad1dbef",
   "metadata": {},
   "outputs": [],
   "source": [
    "#internet['mb_used'] = np.ceil(internet['mb_used'])\n",
    "calls['duration'] =  np.ceil(calls['duration'])"
   ]
  },
  {
   "cell_type": "code",
   "execution_count": 14,
   "id": "523c7068",
   "metadata": {},
   "outputs": [
    {
     "data": {
      "text/html": [
       "<div>\n",
       "<style scoped>\n",
       "    .dataframe tbody tr th:only-of-type {\n",
       "        vertical-align: middle;\n",
       "    }\n",
       "\n",
       "    .dataframe tbody tr th {\n",
       "        vertical-align: top;\n",
       "    }\n",
       "\n",
       "    .dataframe thead th {\n",
       "        text-align: right;\n",
       "    }\n",
       "</style>\n",
       "<table border=\"1\" class=\"dataframe\">\n",
       "  <thead>\n",
       "    <tr style=\"text-align: right;\">\n",
       "      <th></th>\n",
       "      <th>user_id</th>\n",
       "      <th>age</th>\n",
       "      <th>churn_date</th>\n",
       "      <th>city</th>\n",
       "      <th>first_name</th>\n",
       "      <th>last_name</th>\n",
       "      <th>reg_date</th>\n",
       "      <th>tariff</th>\n",
       "      <th>month</th>\n",
       "    </tr>\n",
       "  </thead>\n",
       "  <tbody>\n",
       "    <tr>\n",
       "      <th>0</th>\n",
       "      <td>1000</td>\n",
       "      <td>52</td>\n",
       "      <td>NaN</td>\n",
       "      <td>Краснодар</td>\n",
       "      <td>Рафаил</td>\n",
       "      <td>Верещагин</td>\n",
       "      <td>2018-05-25</td>\n",
       "      <td>ultra</td>\n",
       "      <td>5</td>\n",
       "    </tr>\n",
       "    <tr>\n",
       "      <th>1</th>\n",
       "      <td>1001</td>\n",
       "      <td>41</td>\n",
       "      <td>NaN</td>\n",
       "      <td>Москва</td>\n",
       "      <td>Иван</td>\n",
       "      <td>Ежов</td>\n",
       "      <td>2018-11-01</td>\n",
       "      <td>smart</td>\n",
       "      <td>11</td>\n",
       "    </tr>\n",
       "    <tr>\n",
       "      <th>2</th>\n",
       "      <td>1002</td>\n",
       "      <td>59</td>\n",
       "      <td>NaN</td>\n",
       "      <td>Стерлитамак</td>\n",
       "      <td>Евгений</td>\n",
       "      <td>Абрамович</td>\n",
       "      <td>2018-06-17</td>\n",
       "      <td>smart</td>\n",
       "      <td>6</td>\n",
       "    </tr>\n",
       "    <tr>\n",
       "      <th>3</th>\n",
       "      <td>1003</td>\n",
       "      <td>23</td>\n",
       "      <td>NaN</td>\n",
       "      <td>Москва</td>\n",
       "      <td>Белла</td>\n",
       "      <td>Белякова</td>\n",
       "      <td>2018-08-17</td>\n",
       "      <td>ultra</td>\n",
       "      <td>8</td>\n",
       "    </tr>\n",
       "    <tr>\n",
       "      <th>4</th>\n",
       "      <td>1004</td>\n",
       "      <td>68</td>\n",
       "      <td>NaN</td>\n",
       "      <td>Новокузнецк</td>\n",
       "      <td>Татьяна</td>\n",
       "      <td>Авдеенко</td>\n",
       "      <td>2018-05-14</td>\n",
       "      <td>ultra</td>\n",
       "      <td>5</td>\n",
       "    </tr>\n",
       "  </tbody>\n",
       "</table>\n",
       "</div>"
      ],
      "text/plain": [
       "   user_id  age churn_date         city first_name  last_name   reg_date  \\\n",
       "0     1000   52        NaN    Краснодар     Рафаил  Верещагин 2018-05-25   \n",
       "1     1001   41        NaN       Москва       Иван       Ежов 2018-11-01   \n",
       "2     1002   59        NaN  Стерлитамак    Евгений  Абрамович 2018-06-17   \n",
       "3     1003   23        NaN       Москва      Белла   Белякова 2018-08-17   \n",
       "4     1004   68        NaN  Новокузнецк    Татьяна   Авдеенко 2018-05-14   \n",
       "\n",
       "  tariff  month  \n",
       "0  ultra      5  \n",
       "1  smart     11  \n",
       "2  smart      6  \n",
       "3  ultra      8  \n",
       "4  ultra      5  "
      ]
     },
     "execution_count": 14,
     "metadata": {},
     "output_type": "execute_result"
    }
   ],
   "source": [
    "users.head()"
   ]
  },
  {
   "cell_type": "code",
   "execution_count": 15,
   "id": "a1f17ff9",
   "metadata": {},
   "outputs": [
    {
     "data": {
      "text/html": [
       "<div>\n",
       "<style scoped>\n",
       "    .dataframe tbody tr th:only-of-type {\n",
       "        vertical-align: middle;\n",
       "    }\n",
       "\n",
       "    .dataframe tbody tr th {\n",
       "        vertical-align: top;\n",
       "    }\n",
       "\n",
       "    .dataframe thead th {\n",
       "        text-align: right;\n",
       "    }\n",
       "</style>\n",
       "<table border=\"1\" class=\"dataframe\">\n",
       "  <thead>\n",
       "    <tr style=\"text-align: right;\">\n",
       "      <th></th>\n",
       "      <th>id</th>\n",
       "      <th>message_date</th>\n",
       "      <th>user_id</th>\n",
       "      <th>month</th>\n",
       "    </tr>\n",
       "  </thead>\n",
       "  <tbody>\n",
       "    <tr>\n",
       "      <th>0</th>\n",
       "      <td>1000_0</td>\n",
       "      <td>2018-06-27</td>\n",
       "      <td>1000</td>\n",
       "      <td>6</td>\n",
       "    </tr>\n",
       "    <tr>\n",
       "      <th>1</th>\n",
       "      <td>1000_1</td>\n",
       "      <td>2018-10-08</td>\n",
       "      <td>1000</td>\n",
       "      <td>10</td>\n",
       "    </tr>\n",
       "    <tr>\n",
       "      <th>2</th>\n",
       "      <td>1000_2</td>\n",
       "      <td>2018-08-04</td>\n",
       "      <td>1000</td>\n",
       "      <td>8</td>\n",
       "    </tr>\n",
       "    <tr>\n",
       "      <th>3</th>\n",
       "      <td>1000_3</td>\n",
       "      <td>2018-06-16</td>\n",
       "      <td>1000</td>\n",
       "      <td>6</td>\n",
       "    </tr>\n",
       "    <tr>\n",
       "      <th>4</th>\n",
       "      <td>1000_4</td>\n",
       "      <td>2018-12-05</td>\n",
       "      <td>1000</td>\n",
       "      <td>12</td>\n",
       "    </tr>\n",
       "  </tbody>\n",
       "</table>\n",
       "</div>"
      ],
      "text/plain": [
       "       id message_date  user_id  month\n",
       "0  1000_0   2018-06-27     1000      6\n",
       "1  1000_1   2018-10-08     1000     10\n",
       "2  1000_2   2018-08-04     1000      8\n",
       "3  1000_3   2018-06-16     1000      6\n",
       "4  1000_4   2018-12-05     1000     12"
      ]
     },
     "execution_count": 15,
     "metadata": {},
     "output_type": "execute_result"
    }
   ],
   "source": [
    "messages.head()"
   ]
  },
  {
   "cell_type": "code",
   "execution_count": 16,
   "id": "d1bda33f",
   "metadata": {},
   "outputs": [
    {
     "data": {
      "text/html": [
       "<div>\n",
       "<style scoped>\n",
       "    .dataframe tbody tr th:only-of-type {\n",
       "        vertical-align: middle;\n",
       "    }\n",
       "\n",
       "    .dataframe tbody tr th {\n",
       "        vertical-align: top;\n",
       "    }\n",
       "\n",
       "    .dataframe thead th {\n",
       "        text-align: right;\n",
       "    }\n",
       "</style>\n",
       "<table border=\"1\" class=\"dataframe\">\n",
       "  <thead>\n",
       "    <tr style=\"text-align: right;\">\n",
       "      <th></th>\n",
       "      <th>id</th>\n",
       "      <th>mb_used</th>\n",
       "      <th>session_date</th>\n",
       "      <th>user_id</th>\n",
       "      <th>month</th>\n",
       "    </tr>\n",
       "  </thead>\n",
       "  <tbody>\n",
       "    <tr>\n",
       "      <th>0</th>\n",
       "      <td>1000_0</td>\n",
       "      <td>112.95</td>\n",
       "      <td>2018-11-25</td>\n",
       "      <td>1000</td>\n",
       "      <td>11</td>\n",
       "    </tr>\n",
       "    <tr>\n",
       "      <th>1</th>\n",
       "      <td>1000_1</td>\n",
       "      <td>1052.81</td>\n",
       "      <td>2018-09-07</td>\n",
       "      <td>1000</td>\n",
       "      <td>9</td>\n",
       "    </tr>\n",
       "    <tr>\n",
       "      <th>2</th>\n",
       "      <td>1000_2</td>\n",
       "      <td>1197.26</td>\n",
       "      <td>2018-06-25</td>\n",
       "      <td>1000</td>\n",
       "      <td>6</td>\n",
       "    </tr>\n",
       "    <tr>\n",
       "      <th>3</th>\n",
       "      <td>1000_3</td>\n",
       "      <td>550.27</td>\n",
       "      <td>2018-08-22</td>\n",
       "      <td>1000</td>\n",
       "      <td>8</td>\n",
       "    </tr>\n",
       "    <tr>\n",
       "      <th>4</th>\n",
       "      <td>1000_4</td>\n",
       "      <td>302.56</td>\n",
       "      <td>2018-09-24</td>\n",
       "      <td>1000</td>\n",
       "      <td>9</td>\n",
       "    </tr>\n",
       "  </tbody>\n",
       "</table>\n",
       "</div>"
      ],
      "text/plain": [
       "       id  mb_used session_date  user_id  month\n",
       "0  1000_0   112.95   2018-11-25     1000     11\n",
       "1  1000_1  1052.81   2018-09-07     1000      9\n",
       "2  1000_2  1197.26   2018-06-25     1000      6\n",
       "3  1000_3   550.27   2018-08-22     1000      8\n",
       "4  1000_4   302.56   2018-09-24     1000      9"
      ]
     },
     "execution_count": 16,
     "metadata": {},
     "output_type": "execute_result"
    }
   ],
   "source": [
    "internet.head()"
   ]
  },
  {
   "cell_type": "code",
   "execution_count": 17,
   "id": "5e0daddc",
   "metadata": {},
   "outputs": [
    {
     "data": {
      "text/html": [
       "<div>\n",
       "<style scoped>\n",
       "    .dataframe tbody tr th:only-of-type {\n",
       "        vertical-align: middle;\n",
       "    }\n",
       "\n",
       "    .dataframe tbody tr th {\n",
       "        vertical-align: top;\n",
       "    }\n",
       "\n",
       "    .dataframe thead th {\n",
       "        text-align: right;\n",
       "    }\n",
       "</style>\n",
       "<table border=\"1\" class=\"dataframe\">\n",
       "  <thead>\n",
       "    <tr style=\"text-align: right;\">\n",
       "      <th></th>\n",
       "      <th>id</th>\n",
       "      <th>call_date</th>\n",
       "      <th>duration</th>\n",
       "      <th>user_id</th>\n",
       "      <th>month</th>\n",
       "    </tr>\n",
       "  </thead>\n",
       "  <tbody>\n",
       "    <tr>\n",
       "      <th>0</th>\n",
       "      <td>1000_0</td>\n",
       "      <td>2018-07-25</td>\n",
       "      <td>0.0</td>\n",
       "      <td>1000</td>\n",
       "      <td>7</td>\n",
       "    </tr>\n",
       "    <tr>\n",
       "      <th>1</th>\n",
       "      <td>1000_1</td>\n",
       "      <td>2018-08-17</td>\n",
       "      <td>0.0</td>\n",
       "      <td>1000</td>\n",
       "      <td>8</td>\n",
       "    </tr>\n",
       "    <tr>\n",
       "      <th>2</th>\n",
       "      <td>1000_2</td>\n",
       "      <td>2018-06-11</td>\n",
       "      <td>3.0</td>\n",
       "      <td>1000</td>\n",
       "      <td>6</td>\n",
       "    </tr>\n",
       "    <tr>\n",
       "      <th>3</th>\n",
       "      <td>1000_3</td>\n",
       "      <td>2018-09-21</td>\n",
       "      <td>14.0</td>\n",
       "      <td>1000</td>\n",
       "      <td>9</td>\n",
       "    </tr>\n",
       "    <tr>\n",
       "      <th>4</th>\n",
       "      <td>1000_4</td>\n",
       "      <td>2018-12-15</td>\n",
       "      <td>6.0</td>\n",
       "      <td>1000</td>\n",
       "      <td>12</td>\n",
       "    </tr>\n",
       "  </tbody>\n",
       "</table>\n",
       "</div>"
      ],
      "text/plain": [
       "       id  call_date  duration  user_id  month\n",
       "0  1000_0 2018-07-25       0.0     1000      7\n",
       "1  1000_1 2018-08-17       0.0     1000      8\n",
       "2  1000_2 2018-06-11       3.0     1000      6\n",
       "3  1000_3 2018-09-21      14.0     1000      9\n",
       "4  1000_4 2018-12-15       6.0     1000     12"
      ]
     },
     "execution_count": 17,
     "metadata": {},
     "output_type": "execute_result"
    }
   ],
   "source": [
    "calls.head()"
   ]
  },
  {
   "cell_type": "markdown",
   "id": "911dd037",
   "metadata": {},
   "source": [
    "Посмотрим на гистограмму распределения использования интернет-трафика в сессиях:"
   ]
  },
  {
   "cell_type": "code",
   "execution_count": 18,
   "id": "164b8f5b",
   "metadata": {},
   "outputs": [
    {
     "data": {
      "image/png": "[encoded data removed]",
      "text/plain": [
       "<Figure size 432x288 with 1 Axes>"
      ]
     },
     "metadata": {
      "needs_background": "light"
     },
     "output_type": "display_data"
    }
   ],
   "source": [
    "\n",
    "internet['mb_used'].plot(kind='hist', bins=30);"
   ]
  },
  {
   "cell_type": "code",
   "execution_count": 19,
   "id": "66406867",
   "metadata": {},
   "outputs": [
    {
     "data": {
      "image/png": "[encoded data removed]",
      "text/plain": [
       "<Figure size 432x288 with 1 Axes>"
      ]
     },
     "metadata": {
      "needs_background": "light"
     },
     "output_type": "display_data"
    }
   ],
   "source": [
    "# matplotlib histogram\n",
    "plt.hist(internet['mb_used'], color = 'blue', edgecolor = 'black',\n",
    "         bins = int(180/5));\n",
    "\n",
    "# seaborn histogram\n",
    "sns.distplot(internet['mb_used'], hist=True, kde=False, \n",
    "             bins=int(180/5), color = 'blue',\n",
    "             hist_kws={'edgecolor':'black'});\n",
    "# Add labels\n",
    "plt.title('Распределения использования интернет-трафика в сессиях');\n",
    "plt.xlabel('Объем трафика');\n",
    "plt.ylabel('Количество сессий');"
   ]
  },
  {
   "cell_type": "markdown",
   "id": "59a629b3",
   "metadata": {},
   "source": [
    "Большое количество \"нулевого\" трафика, т.е интернет подключен, а загрузка страниц не происходила."
   ]
  },
  {
   "cell_type": "markdown",
   "id": "2f924b2e",
   "metadata": {},
   "source": [
    "Выведем эти данные"
   ]
  },
  {
   "cell_type": "code",
   "execution_count": 20,
   "id": "c3edc78b",
   "metadata": {},
   "outputs": [
    {
     "data": {
      "text/html": [
       "<div>\n",
       "<style scoped>\n",
       "    .dataframe tbody tr th:only-of-type {\n",
       "        vertical-align: middle;\n",
       "    }\n",
       "\n",
       "    .dataframe tbody tr th {\n",
       "        vertical-align: top;\n",
       "    }\n",
       "\n",
       "    .dataframe thead th {\n",
       "        text-align: right;\n",
       "    }\n",
       "</style>\n",
       "<table border=\"1\" class=\"dataframe\">\n",
       "  <thead>\n",
       "    <tr style=\"text-align: right;\">\n",
       "      <th></th>\n",
       "      <th>id</th>\n",
       "      <th>mb_used</th>\n",
       "      <th>session_date</th>\n",
       "      <th>user_id</th>\n",
       "      <th>month</th>\n",
       "    </tr>\n",
       "  </thead>\n",
       "  <tbody>\n",
       "    <tr>\n",
       "      <th>11</th>\n",
       "      <td>1000_11</td>\n",
       "      <td>0.0</td>\n",
       "      <td>2018-08-28</td>\n",
       "      <td>1000</td>\n",
       "      <td>8</td>\n",
       "    </tr>\n",
       "    <tr>\n",
       "      <th>38</th>\n",
       "      <td>1000_38</td>\n",
       "      <td>0.0</td>\n",
       "      <td>2018-11-27</td>\n",
       "      <td>1000</td>\n",
       "      <td>11</td>\n",
       "    </tr>\n",
       "    <tr>\n",
       "      <th>46</th>\n",
       "      <td>1000_46</td>\n",
       "      <td>0.0</td>\n",
       "      <td>2018-06-30</td>\n",
       "      <td>1000</td>\n",
       "      <td>6</td>\n",
       "    </tr>\n",
       "    <tr>\n",
       "      <th>67</th>\n",
       "      <td>1000_67</td>\n",
       "      <td>0.0</td>\n",
       "      <td>2018-06-16</td>\n",
       "      <td>1000</td>\n",
       "      <td>6</td>\n",
       "    </tr>\n",
       "    <tr>\n",
       "      <th>72</th>\n",
       "      <td>1000_72</td>\n",
       "      <td>0.0</td>\n",
       "      <td>2018-06-15</td>\n",
       "      <td>1000</td>\n",
       "      <td>6</td>\n",
       "    </tr>\n",
       "    <tr>\n",
       "      <th>...</th>\n",
       "      <td>...</td>\n",
       "      <td>...</td>\n",
       "      <td>...</td>\n",
       "      <td>...</td>\n",
       "      <td>...</td>\n",
       "    </tr>\n",
       "    <tr>\n",
       "      <th>149380</th>\n",
       "      <td>1499_141</td>\n",
       "      <td>0.0</td>\n",
       "      <td>2018-12-11</td>\n",
       "      <td>1499</td>\n",
       "      <td>12</td>\n",
       "    </tr>\n",
       "    <tr>\n",
       "      <th>149381</th>\n",
       "      <td>1499_142</td>\n",
       "      <td>0.0</td>\n",
       "      <td>2018-11-01</td>\n",
       "      <td>1499</td>\n",
       "      <td>11</td>\n",
       "    </tr>\n",
       "    <tr>\n",
       "      <th>149383</th>\n",
       "      <td>1499_144</td>\n",
       "      <td>0.0</td>\n",
       "      <td>2018-11-27</td>\n",
       "      <td>1499</td>\n",
       "      <td>11</td>\n",
       "    </tr>\n",
       "    <tr>\n",
       "      <th>149386</th>\n",
       "      <td>1499_147</td>\n",
       "      <td>0.0</td>\n",
       "      <td>2018-10-21</td>\n",
       "      <td>1499</td>\n",
       "      <td>10</td>\n",
       "    </tr>\n",
       "    <tr>\n",
       "      <th>149393</th>\n",
       "      <td>1499_154</td>\n",
       "      <td>0.0</td>\n",
       "      <td>2018-10-27</td>\n",
       "      <td>1499</td>\n",
       "      <td>10</td>\n",
       "    </tr>\n",
       "  </tbody>\n",
       "</table>\n",
       "<p>19598 rows × 5 columns</p>\n",
       "</div>"
      ],
      "text/plain": [
       "              id  mb_used session_date  user_id  month\n",
       "11       1000_11      0.0   2018-08-28     1000      8\n",
       "38       1000_38      0.0   2018-11-27     1000     11\n",
       "46       1000_46      0.0   2018-06-30     1000      6\n",
       "67       1000_67      0.0   2018-06-16     1000      6\n",
       "72       1000_72      0.0   2018-06-15     1000      6\n",
       "...          ...      ...          ...      ...    ...\n",
       "149380  1499_141      0.0   2018-12-11     1499     12\n",
       "149381  1499_142      0.0   2018-11-01     1499     11\n",
       "149383  1499_144      0.0   2018-11-27     1499     11\n",
       "149386  1499_147      0.0   2018-10-21     1499     10\n",
       "149393  1499_154      0.0   2018-10-27     1499     10\n",
       "\n",
       "[19598 rows x 5 columns]"
      ]
     },
     "execution_count": 20,
     "metadata": {},
     "output_type": "execute_result"
    }
   ],
   "source": [
    "internet.query('mb_used == 0.0')"
   ]
  },
  {
   "cell_type": "markdown",
   "id": "dd007e89",
   "metadata": {},
   "source": [
    "Удалим эти строки, так как для оценки тарифа они ни как не влияют."
   ]
  },
  {
   "cell_type": "code",
   "execution_count": 21,
   "id": "75c6c7ef",
   "metadata": {},
   "outputs": [],
   "source": [
    "internet['mb_used'] = internet['mb_used'].replace(0, np.NaN)\n",
    "internet = internet.dropna()"
   ]
  },
  {
   "cell_type": "markdown",
   "id": "a05e1bee",
   "metadata": {},
   "source": [
    "Проверяем"
   ]
  },
  {
   "cell_type": "code",
   "execution_count": 22,
   "id": "6087d26e",
   "metadata": {},
   "outputs": [
    {
     "data": {
      "image/png": "[encoded data removed]",
      "text/plain": [
       "<Figure size 432x288 with 1 Axes>"
      ]
     },
     "metadata": {
      "needs_background": "light"
     },
     "output_type": "display_data"
    }
   ],
   "source": [
    "# matplotlib histogram\n",
    "plt.hist(internet['mb_used'], color = 'blue', edgecolor = 'black',\n",
    "         bins = int(180/5));\n",
    "\n",
    "# seaborn histogram\n",
    "sns.distplot(internet['mb_used'], hist=True, kde=False, \n",
    "             bins=int(180/5), color = 'blue',\n",
    "             hist_kws={'edgecolor':'black'});\n",
    "# Add labels\n",
    "plt.title('Распределения использования интернет-трафика в сессиях');\n",
    "plt.xlabel('Объем трафика');\n",
    "plt.ylabel('Количество сессий');"
   ]
  },
  {
   "cell_type": "code",
   "execution_count": 23,
   "id": "bbc4bbf9",
   "metadata": {},
   "outputs": [
    {
     "data": {
      "text/html": [
       "<div>\n",
       "<style scoped>\n",
       "    .dataframe tbody tr th:only-of-type {\n",
       "        vertical-align: middle;\n",
       "    }\n",
       "\n",
       "    .dataframe tbody tr th {\n",
       "        vertical-align: top;\n",
       "    }\n",
       "\n",
       "    .dataframe thead th {\n",
       "        text-align: right;\n",
       "    }\n",
       "</style>\n",
       "<table border=\"1\" class=\"dataframe\">\n",
       "  <thead>\n",
       "    <tr style=\"text-align: right;\">\n",
       "      <th></th>\n",
       "      <th>id</th>\n",
       "      <th>call_date</th>\n",
       "      <th>duration</th>\n",
       "      <th>user_id</th>\n",
       "      <th>month</th>\n",
       "    </tr>\n",
       "  </thead>\n",
       "  <tbody>\n",
       "    <tr>\n",
       "      <th>0</th>\n",
       "      <td>1000_0</td>\n",
       "      <td>2018-07-25</td>\n",
       "      <td>0.0</td>\n",
       "      <td>1000</td>\n",
       "      <td>7</td>\n",
       "    </tr>\n",
       "    <tr>\n",
       "      <th>1</th>\n",
       "      <td>1000_1</td>\n",
       "      <td>2018-08-17</td>\n",
       "      <td>0.0</td>\n",
       "      <td>1000</td>\n",
       "      <td>8</td>\n",
       "    </tr>\n",
       "    <tr>\n",
       "      <th>2</th>\n",
       "      <td>1000_2</td>\n",
       "      <td>2018-06-11</td>\n",
       "      <td>3.0</td>\n",
       "      <td>1000</td>\n",
       "      <td>6</td>\n",
       "    </tr>\n",
       "    <tr>\n",
       "      <th>3</th>\n",
       "      <td>1000_3</td>\n",
       "      <td>2018-09-21</td>\n",
       "      <td>14.0</td>\n",
       "      <td>1000</td>\n",
       "      <td>9</td>\n",
       "    </tr>\n",
       "    <tr>\n",
       "      <th>4</th>\n",
       "      <td>1000_4</td>\n",
       "      <td>2018-12-15</td>\n",
       "      <td>6.0</td>\n",
       "      <td>1000</td>\n",
       "      <td>12</td>\n",
       "    </tr>\n",
       "  </tbody>\n",
       "</table>\n",
       "</div>"
      ],
      "text/plain": [
       "       id  call_date  duration  user_id  month\n",
       "0  1000_0 2018-07-25       0.0     1000      7\n",
       "1  1000_1 2018-08-17       0.0     1000      8\n",
       "2  1000_2 2018-06-11       3.0     1000      6\n",
       "3  1000_3 2018-09-21      14.0     1000      9\n",
       "4  1000_4 2018-12-15       6.0     1000     12"
      ]
     },
     "execution_count": 23,
     "metadata": {},
     "output_type": "execute_result"
    }
   ],
   "source": [
    "calls.head()"
   ]
  },
  {
   "cell_type": "markdown",
   "id": "f60207b6",
   "metadata": {},
   "source": [
    "Посмотрим на гистограмму распределения длительности звонков:"
   ]
  },
  {
   "cell_type": "code",
   "execution_count": 24,
   "id": "0b15c96d",
   "metadata": {},
   "outputs": [
    {
     "data": {
      "image/png": "[encoded data removed]",
      "text/plain": [
       "<Figure size 432x288 with 1 Axes>"
      ]
     },
     "metadata": {
      "needs_background": "light"
     },
     "output_type": "display_data"
    }
   ],
   "source": [
    "# matplotlib histogram\n",
    "plt.hist(calls['duration'], color = 'blue', edgecolor = 'black',\n",
    "         bins = int(60));\n",
    "\n",
    "# seaborn histogram\n",
    "sns.distplot(calls['duration'], hist=True, kde=False, \n",
    "             bins=int(60), color = 'blue',\n",
    "             hist_kws={'edgecolor':'black'});\n",
    "# Add labels\n",
    "plt.title('Распределения длительности звонков');\n",
    "plt.xlabel('Длительность звонков');\n",
    "plt.ylabel('Количество звонков');"
   ]
  },
  {
   "cell_type": "markdown",
   "id": "ffec1001",
   "metadata": {},
   "source": [
    "Большое количество звонков по времени \"ноль\" выведем их"
   ]
  },
  {
   "cell_type": "code",
   "execution_count": 25,
   "id": "0728d935",
   "metadata": {},
   "outputs": [
    {
     "data": {
      "text/html": [
       "<div>\n",
       "<style scoped>\n",
       "    .dataframe tbody tr th:only-of-type {\n",
       "        vertical-align: middle;\n",
       "    }\n",
       "\n",
       "    .dataframe tbody tr th {\n",
       "        vertical-align: top;\n",
       "    }\n",
       "\n",
       "    .dataframe thead th {\n",
       "        text-align: right;\n",
       "    }\n",
       "</style>\n",
       "<table border=\"1\" class=\"dataframe\">\n",
       "  <thead>\n",
       "    <tr style=\"text-align: right;\">\n",
       "      <th></th>\n",
       "      <th>id</th>\n",
       "      <th>call_date</th>\n",
       "      <th>duration</th>\n",
       "      <th>user_id</th>\n",
       "      <th>month</th>\n",
       "    </tr>\n",
       "  </thead>\n",
       "  <tbody>\n",
       "    <tr>\n",
       "      <th>0</th>\n",
       "      <td>1000_0</td>\n",
       "      <td>2018-07-25</td>\n",
       "      <td>0.0</td>\n",
       "      <td>1000</td>\n",
       "      <td>7</td>\n",
       "    </tr>\n",
       "    <tr>\n",
       "      <th>1</th>\n",
       "      <td>1000_1</td>\n",
       "      <td>2018-08-17</td>\n",
       "      <td>0.0</td>\n",
       "      <td>1000</td>\n",
       "      <td>8</td>\n",
       "    </tr>\n",
       "    <tr>\n",
       "      <th>5</th>\n",
       "      <td>1000_5</td>\n",
       "      <td>2018-11-02</td>\n",
       "      <td>0.0</td>\n",
       "      <td>1000</td>\n",
       "      <td>11</td>\n",
       "    </tr>\n",
       "    <tr>\n",
       "      <th>6</th>\n",
       "      <td>1000_6</td>\n",
       "      <td>2018-10-18</td>\n",
       "      <td>0.0</td>\n",
       "      <td>1000</td>\n",
       "      <td>10</td>\n",
       "    </tr>\n",
       "    <tr>\n",
       "      <th>9</th>\n",
       "      <td>1000_9</td>\n",
       "      <td>2018-08-15</td>\n",
       "      <td>0.0</td>\n",
       "      <td>1000</td>\n",
       "      <td>8</td>\n",
       "    </tr>\n",
       "    <tr>\n",
       "      <th>...</th>\n",
       "      <td>...</td>\n",
       "      <td>...</td>\n",
       "      <td>...</td>\n",
       "      <td>...</td>\n",
       "      <td>...</td>\n",
       "    </tr>\n",
       "    <tr>\n",
       "      <th>202590</th>\n",
       "      <td>1499_203</td>\n",
       "      <td>2018-12-03</td>\n",
       "      <td>0.0</td>\n",
       "      <td>1499</td>\n",
       "      <td>12</td>\n",
       "    </tr>\n",
       "    <tr>\n",
       "      <th>202592</th>\n",
       "      <td>1499_205</td>\n",
       "      <td>2018-10-13</td>\n",
       "      <td>0.0</td>\n",
       "      <td>1499</td>\n",
       "      <td>10</td>\n",
       "    </tr>\n",
       "    <tr>\n",
       "      <th>202593</th>\n",
       "      <td>1499_206</td>\n",
       "      <td>2018-12-26</td>\n",
       "      <td>0.0</td>\n",
       "      <td>1499</td>\n",
       "      <td>12</td>\n",
       "    </tr>\n",
       "    <tr>\n",
       "      <th>202594</th>\n",
       "      <td>1499_207</td>\n",
       "      <td>2018-10-28</td>\n",
       "      <td>0.0</td>\n",
       "      <td>1499</td>\n",
       "      <td>10</td>\n",
       "    </tr>\n",
       "    <tr>\n",
       "      <th>202596</th>\n",
       "      <td>1499_209</td>\n",
       "      <td>2018-12-16</td>\n",
       "      <td>0.0</td>\n",
       "      <td>1499</td>\n",
       "      <td>12</td>\n",
       "    </tr>\n",
       "  </tbody>\n",
       "</table>\n",
       "<p>39613 rows × 5 columns</p>\n",
       "</div>"
      ],
      "text/plain": [
       "              id  call_date  duration  user_id  month\n",
       "0         1000_0 2018-07-25       0.0     1000      7\n",
       "1         1000_1 2018-08-17       0.0     1000      8\n",
       "5         1000_5 2018-11-02       0.0     1000     11\n",
       "6         1000_6 2018-10-18       0.0     1000     10\n",
       "9         1000_9 2018-08-15       0.0     1000      8\n",
       "...          ...        ...       ...      ...    ...\n",
       "202590  1499_203 2018-12-03       0.0     1499     12\n",
       "202592  1499_205 2018-10-13       0.0     1499     10\n",
       "202593  1499_206 2018-12-26       0.0     1499     12\n",
       "202594  1499_207 2018-10-28       0.0     1499     10\n",
       "202596  1499_209 2018-12-16       0.0     1499     12\n",
       "\n",
       "[39613 rows x 5 columns]"
      ]
     },
     "execution_count": 25,
     "metadata": {},
     "output_type": "execute_result"
    }
   ],
   "source": [
    "calls.query('duration == 0.0')"
   ]
  },
  {
   "cell_type": "markdown",
   "id": "0d1f3654",
   "metadata": {},
   "source": [
    "Почти 48000 с нулевой длительностью по времени, по заданию это звонки - пропущенные, оставляем как есть"
   ]
  },
  {
   "cell_type": "markdown",
   "id": "024230b2",
   "metadata": {},
   "source": [
    "Посчитаем количество сделанных звонков и израсходованных минут разговора по месяцам"
   ]
  },
  {
   "cell_type": "code",
   "execution_count": 26,
   "id": "a546633d",
   "metadata": {},
   "outputs": [
    {
     "data": {
      "image/png": "[encoded data removed]",
      "text/plain": [
       "<Figure size 720x360 with 1 Axes>"
      ]
     },
     "metadata": {
      "needs_background": "light"
     },
     "output_type": "display_data"
    }
   ],
   "source": [
    "#Количество сделанных звонков\n",
    "calls_filtered_count = calls.groupby('month')['duration'].count();\n",
    "calls_filtered_count.plot(x='month', y ='duration', kind='bar',figsize=(10,5), title='Количество сделанных звонков', legend=None, xlabel = 'Месяц', ylabel = 'Количество звонков');"
   ]
  },
  {
   "cell_type": "code",
   "execution_count": 27,
   "id": "1dfdaf57",
   "metadata": {},
   "outputs": [
    {
     "data": {
      "image/png": "[encoded data removed]",
      "text/plain": [
       "<Figure size 720x360 with 1 Axes>"
      ]
     },
     "metadata": {
      "needs_background": "light"
     },
     "output_type": "display_data"
    }
   ],
   "source": [
    "#Количество израсходованных минут\n",
    "calls_filtered_sum = calls.groupby('month')['duration'].sum()\n",
    "calls_filtered_sum.plot(x='month', y ='duration', kind='bar',figsize=(10,5), title='Количество израсходованных минут', legend=None, xlabel = 'Месяц', ylabel = 'Количество минут');"
   ]
  },
  {
   "cell_type": "markdown",
   "id": "6a077e42",
   "metadata": {},
   "source": [
    "Посчитаем для каждого пользоввателя количество отправленных сообщений по месяцам"
   ]
  },
  {
   "cell_type": "code",
   "execution_count": 28,
   "id": "0e44ddb6",
   "metadata": {},
   "outputs": [
    {
     "data": {
      "image/png": "[encoded data removed]",
      "text/plain": [
       "<Figure size 720x360 with 1 Axes>"
      ]
     },
     "metadata": {
      "needs_background": "light"
     },
     "output_type": "display_data"
    }
   ],
   "source": [
    "messages_filtered = messages.groupby('month')['id'].count()\n",
    "messages_filtered.plot(x='month', y ='id', kind='bar',figsize=(10,5), title='Для каждого пользоввателя количество отправленных сообщений по месяцам', legend=None, xlabel = 'Месяц', ylabel = 'Количество сообщений');"
   ]
  },
  {
   "cell_type": "markdown",
   "id": "08dac71c",
   "metadata": {},
   "source": [
    "Посчитаем объем израсходованного интернет-трафика по месяцам, перед этим добавим столбец представленных Мб в Гб."
   ]
  },
  {
   "cell_type": "code",
   "execution_count": 29,
   "id": "f341120b",
   "metadata": {},
   "outputs": [],
   "source": [
    "internet['Gb_used'] = internet['mb_used']/1024"
   ]
  },
  {
   "cell_type": "code",
   "execution_count": 30,
   "id": "ade6bc55",
   "metadata": {},
   "outputs": [
    {
     "data": {
      "image/png": "[encoded data removed]",
      "text/plain": [
       "<Figure size 720x360 with 1 Axes>"
      ]
     },
     "metadata": {
      "needs_background": "light"
     },
     "output_type": "display_data"
    }
   ],
   "source": [
    "internet_filtered = internet.groupby('month')['Gb_used'].sum()\n",
    "internet_filtered.plot(x='month', y ='Gb_used', kind='bar',figsize=(10,5), title='Объем израсходованного интернет-трафика по месяцам', legend=None, xlabel = 'Месяц', ylabel = 'Объем трафика');"
   ]
  },
  {
   "cell_type": "markdown",
   "id": "1e7a93cb",
   "metadata": {},
   "source": [
    "Расчёт помесячной выручки с каждого пользователя:"
   ]
  },
  {
   "cell_type": "markdown",
   "id": "28f2d9a8",
   "metadata": {},
   "source": [
    " Для начала возьмем из каждого имеющегося датафрейма нужную информацию, в один датафрейм df_general:"
   ]
  },
  {
   "cell_type": "code",
   "execution_count": 31,
   "id": "ff7764ff",
   "metadata": {},
   "outputs": [],
   "source": [
    "df_calls = calls.groupby(['user_id', 'month' ])['duration'].agg(['count', 'sum'])\n",
    "df_messages = messages.groupby(['user_id', 'month'])['id'].count()\n",
    "df_internet = internet.groupby(['user_id', 'month']).sum()['mb_used']"
   ]
  },
  {
   "cell_type": "code",
   "execution_count": 32,
   "id": "9deb8cc8",
   "metadata": {},
   "outputs": [
    {
     "data": {
      "text/html": [
       "<div>\n",
       "<style scoped>\n",
       "    .dataframe tbody tr th:only-of-type {\n",
       "        vertical-align: middle;\n",
       "    }\n",
       "\n",
       "    .dataframe tbody tr th {\n",
       "        vertical-align: top;\n",
       "    }\n",
       "\n",
       "    .dataframe thead th {\n",
       "        text-align: right;\n",
       "    }\n",
       "</style>\n",
       "<table border=\"1\" class=\"dataframe\">\n",
       "  <thead>\n",
       "    <tr style=\"text-align: right;\">\n",
       "      <th></th>\n",
       "      <th>user_id</th>\n",
       "      <th>month</th>\n",
       "      <th>count</th>\n",
       "      <th>sum</th>\n",
       "      <th>id</th>\n",
       "      <th>mb_used</th>\n",
       "    </tr>\n",
       "  </thead>\n",
       "  <tbody>\n",
       "    <tr>\n",
       "      <th>0</th>\n",
       "      <td>1000</td>\n",
       "      <td>5</td>\n",
       "      <td>22.0</td>\n",
       "      <td>159.0</td>\n",
       "      <td>22.0</td>\n",
       "      <td>2253.49</td>\n",
       "    </tr>\n",
       "    <tr>\n",
       "      <th>1</th>\n",
       "      <td>1000</td>\n",
       "      <td>6</td>\n",
       "      <td>43.0</td>\n",
       "      <td>172.0</td>\n",
       "      <td>60.0</td>\n",
       "      <td>23233.77</td>\n",
       "    </tr>\n",
       "    <tr>\n",
       "      <th>2</th>\n",
       "      <td>1000</td>\n",
       "      <td>7</td>\n",
       "      <td>47.0</td>\n",
       "      <td>340.0</td>\n",
       "      <td>75.0</td>\n",
       "      <td>14003.64</td>\n",
       "    </tr>\n",
       "    <tr>\n",
       "      <th>3</th>\n",
       "      <td>1000</td>\n",
       "      <td>8</td>\n",
       "      <td>52.0</td>\n",
       "      <td>408.0</td>\n",
       "      <td>81.0</td>\n",
       "      <td>14055.93</td>\n",
       "    </tr>\n",
       "    <tr>\n",
       "      <th>4</th>\n",
       "      <td>1000</td>\n",
       "      <td>9</td>\n",
       "      <td>58.0</td>\n",
       "      <td>466.0</td>\n",
       "      <td>57.0</td>\n",
       "      <td>14568.91</td>\n",
       "    </tr>\n",
       "  </tbody>\n",
       "</table>\n",
       "</div>"
      ],
      "text/plain": [
       "   user_id  month  count    sum    id   mb_used\n",
       "0     1000      5   22.0  159.0  22.0   2253.49\n",
       "1     1000      6   43.0  172.0  60.0  23233.77\n",
       "2     1000      7   47.0  340.0  75.0  14003.64\n",
       "3     1000      8   52.0  408.0  81.0  14055.93\n",
       "4     1000      9   58.0  466.0  57.0  14568.91"
      ]
     },
     "execution_count": 32,
     "metadata": {},
     "output_type": "execute_result"
    }
   ],
   "source": [
    "df_general = pd.concat([df_calls , df_messages, df_internet], axis=1)\n",
    "df_general = df_general.reset_index()\n",
    "df_general.head()"
   ]
  },
  {
   "cell_type": "code",
   "execution_count": 33,
   "id": "f97d2983",
   "metadata": {},
   "outputs": [],
   "source": [
    "users_tariff = pd.Series(users['tariff'].values, index=users['user_id'])\n",
    "df_general['tariff'] = df_general['user_id'].map(users_tariff)\n"
   ]
  },
  {
   "cell_type": "code",
   "execution_count": 34,
   "id": "f52cdb04",
   "metadata": {},
   "outputs": [
    {
     "data": {
      "text/html": [
       "<div>\n",
       "<style scoped>\n",
       "    .dataframe tbody tr th:only-of-type {\n",
       "        vertical-align: middle;\n",
       "    }\n",
       "\n",
       "    .dataframe tbody tr th {\n",
       "        vertical-align: top;\n",
       "    }\n",
       "\n",
       "    .dataframe thead th {\n",
       "        text-align: right;\n",
       "    }\n",
       "</style>\n",
       "<table border=\"1\" class=\"dataframe\">\n",
       "  <thead>\n",
       "    <tr style=\"text-align: right;\">\n",
       "      <th></th>\n",
       "      <th>user_id</th>\n",
       "      <th>month</th>\n",
       "      <th>count</th>\n",
       "      <th>sum</th>\n",
       "      <th>id</th>\n",
       "      <th>mb_used</th>\n",
       "      <th>tariff</th>\n",
       "    </tr>\n",
       "  </thead>\n",
       "  <tbody>\n",
       "    <tr>\n",
       "      <th>0</th>\n",
       "      <td>1000</td>\n",
       "      <td>5</td>\n",
       "      <td>22.0</td>\n",
       "      <td>159.0</td>\n",
       "      <td>22.0</td>\n",
       "      <td>2253.49</td>\n",
       "      <td>ultra</td>\n",
       "    </tr>\n",
       "    <tr>\n",
       "      <th>1</th>\n",
       "      <td>1000</td>\n",
       "      <td>6</td>\n",
       "      <td>43.0</td>\n",
       "      <td>172.0</td>\n",
       "      <td>60.0</td>\n",
       "      <td>23233.77</td>\n",
       "      <td>ultra</td>\n",
       "    </tr>\n",
       "    <tr>\n",
       "      <th>2</th>\n",
       "      <td>1000</td>\n",
       "      <td>7</td>\n",
       "      <td>47.0</td>\n",
       "      <td>340.0</td>\n",
       "      <td>75.0</td>\n",
       "      <td>14003.64</td>\n",
       "      <td>ultra</td>\n",
       "    </tr>\n",
       "    <tr>\n",
       "      <th>3</th>\n",
       "      <td>1000</td>\n",
       "      <td>8</td>\n",
       "      <td>52.0</td>\n",
       "      <td>408.0</td>\n",
       "      <td>81.0</td>\n",
       "      <td>14055.93</td>\n",
       "      <td>ultra</td>\n",
       "    </tr>\n",
       "    <tr>\n",
       "      <th>4</th>\n",
       "      <td>1000</td>\n",
       "      <td>9</td>\n",
       "      <td>58.0</td>\n",
       "      <td>466.0</td>\n",
       "      <td>57.0</td>\n",
       "      <td>14568.91</td>\n",
       "      <td>ultra</td>\n",
       "    </tr>\n",
       "  </tbody>\n",
       "</table>\n",
       "</div>"
      ],
      "text/plain": [
       "   user_id  month  count    sum    id   mb_used tariff\n",
       "0     1000      5   22.0  159.0  22.0   2253.49  ultra\n",
       "1     1000      6   43.0  172.0  60.0  23233.77  ultra\n",
       "2     1000      7   47.0  340.0  75.0  14003.64  ultra\n",
       "3     1000      8   52.0  408.0  81.0  14055.93  ultra\n",
       "4     1000      9   58.0  466.0  57.0  14568.91  ultra"
      ]
     },
     "execution_count": 34,
     "metadata": {},
     "output_type": "execute_result"
    }
   ],
   "source": [
    "df_general.head()"
   ]
  },
  {
   "cell_type": "markdown",
   "id": "ab8cfdbf",
   "metadata": {},
   "source": [
    "Присоединим таблицу tariff к df_general "
   ]
  },
  {
   "cell_type": "code",
   "execution_count": 35,
   "id": "cdf8e2bf",
   "metadata": {},
   "outputs": [
    {
     "data": {
      "text/html": [
       "<div>\n",
       "<style scoped>\n",
       "    .dataframe tbody tr th:only-of-type {\n",
       "        vertical-align: middle;\n",
       "    }\n",
       "\n",
       "    .dataframe tbody tr th {\n",
       "        vertical-align: top;\n",
       "    }\n",
       "\n",
       "    .dataframe thead th {\n",
       "        text-align: right;\n",
       "    }\n",
       "</style>\n",
       "<table border=\"1\" class=\"dataframe\">\n",
       "  <thead>\n",
       "    <tr style=\"text-align: right;\">\n",
       "      <th></th>\n",
       "      <th>user_id</th>\n",
       "      <th>month</th>\n",
       "      <th>count</th>\n",
       "      <th>sum</th>\n",
       "      <th>id</th>\n",
       "      <th>mb_used</th>\n",
       "      <th>tariff</th>\n",
       "      <th>messages_included</th>\n",
       "      <th>mb_per_month_included</th>\n",
       "      <th>minutes_included</th>\n",
       "      <th>rub_monthly_fee</th>\n",
       "      <th>rub_per_gb</th>\n",
       "      <th>rub_per_message</th>\n",
       "      <th>rub_per_minute</th>\n",
       "      <th>tariff_name</th>\n",
       "    </tr>\n",
       "  </thead>\n",
       "  <tbody>\n",
       "    <tr>\n",
       "      <th>0</th>\n",
       "      <td>1000</td>\n",
       "      <td>5</td>\n",
       "      <td>22.0</td>\n",
       "      <td>159.0</td>\n",
       "      <td>22.0</td>\n",
       "      <td>2253.49</td>\n",
       "      <td>ultra</td>\n",
       "      <td>1000</td>\n",
       "      <td>30720</td>\n",
       "      <td>3000</td>\n",
       "      <td>1950</td>\n",
       "      <td>150</td>\n",
       "      <td>1</td>\n",
       "      <td>1</td>\n",
       "      <td>ultra</td>\n",
       "    </tr>\n",
       "    <tr>\n",
       "      <th>1</th>\n",
       "      <td>1000</td>\n",
       "      <td>6</td>\n",
       "      <td>43.0</td>\n",
       "      <td>172.0</td>\n",
       "      <td>60.0</td>\n",
       "      <td>23233.77</td>\n",
       "      <td>ultra</td>\n",
       "      <td>1000</td>\n",
       "      <td>30720</td>\n",
       "      <td>3000</td>\n",
       "      <td>1950</td>\n",
       "      <td>150</td>\n",
       "      <td>1</td>\n",
       "      <td>1</td>\n",
       "      <td>ultra</td>\n",
       "    </tr>\n",
       "    <tr>\n",
       "      <th>2</th>\n",
       "      <td>1000</td>\n",
       "      <td>7</td>\n",
       "      <td>47.0</td>\n",
       "      <td>340.0</td>\n",
       "      <td>75.0</td>\n",
       "      <td>14003.64</td>\n",
       "      <td>ultra</td>\n",
       "      <td>1000</td>\n",
       "      <td>30720</td>\n",
       "      <td>3000</td>\n",
       "      <td>1950</td>\n",
       "      <td>150</td>\n",
       "      <td>1</td>\n",
       "      <td>1</td>\n",
       "      <td>ultra</td>\n",
       "    </tr>\n",
       "    <tr>\n",
       "      <th>3</th>\n",
       "      <td>1000</td>\n",
       "      <td>8</td>\n",
       "      <td>52.0</td>\n",
       "      <td>408.0</td>\n",
       "      <td>81.0</td>\n",
       "      <td>14055.93</td>\n",
       "      <td>ultra</td>\n",
       "      <td>1000</td>\n",
       "      <td>30720</td>\n",
       "      <td>3000</td>\n",
       "      <td>1950</td>\n",
       "      <td>150</td>\n",
       "      <td>1</td>\n",
       "      <td>1</td>\n",
       "      <td>ultra</td>\n",
       "    </tr>\n",
       "    <tr>\n",
       "      <th>4</th>\n",
       "      <td>1000</td>\n",
       "      <td>9</td>\n",
       "      <td>58.0</td>\n",
       "      <td>466.0</td>\n",
       "      <td>57.0</td>\n",
       "      <td>14568.91</td>\n",
       "      <td>ultra</td>\n",
       "      <td>1000</td>\n",
       "      <td>30720</td>\n",
       "      <td>3000</td>\n",
       "      <td>1950</td>\n",
       "      <td>150</td>\n",
       "      <td>1</td>\n",
       "      <td>1</td>\n",
       "      <td>ultra</td>\n",
       "    </tr>\n",
       "    <tr>\n",
       "      <th>...</th>\n",
       "      <td>...</td>\n",
       "      <td>...</td>\n",
       "      <td>...</td>\n",
       "      <td>...</td>\n",
       "      <td>...</td>\n",
       "      <td>...</td>\n",
       "      <td>...</td>\n",
       "      <td>...</td>\n",
       "      <td>...</td>\n",
       "      <td>...</td>\n",
       "      <td>...</td>\n",
       "      <td>...</td>\n",
       "      <td>...</td>\n",
       "      <td>...</td>\n",
       "      <td>...</td>\n",
       "    </tr>\n",
       "    <tr>\n",
       "      <th>3209</th>\n",
       "      <td>1498</td>\n",
       "      <td>10</td>\n",
       "      <td>41.0</td>\n",
       "      <td>247.0</td>\n",
       "      <td>42.0</td>\n",
       "      <td>20579.36</td>\n",
       "      <td>smart</td>\n",
       "      <td>50</td>\n",
       "      <td>15360</td>\n",
       "      <td>500</td>\n",
       "      <td>550</td>\n",
       "      <td>200</td>\n",
       "      <td>3</td>\n",
       "      <td>3</td>\n",
       "      <td>smart</td>\n",
       "    </tr>\n",
       "    <tr>\n",
       "      <th>3210</th>\n",
       "      <td>1499</td>\n",
       "      <td>9</td>\n",
       "      <td>9.0</td>\n",
       "      <td>70.0</td>\n",
       "      <td>11.0</td>\n",
       "      <td>1845.75</td>\n",
       "      <td>smart</td>\n",
       "      <td>50</td>\n",
       "      <td>15360</td>\n",
       "      <td>500</td>\n",
       "      <td>550</td>\n",
       "      <td>200</td>\n",
       "      <td>3</td>\n",
       "      <td>3</td>\n",
       "      <td>smart</td>\n",
       "    </tr>\n",
       "    <tr>\n",
       "      <th>3211</th>\n",
       "      <td>1499</td>\n",
       "      <td>10</td>\n",
       "      <td>68.0</td>\n",
       "      <td>449.0</td>\n",
       "      <td>48.0</td>\n",
       "      <td>17788.51</td>\n",
       "      <td>smart</td>\n",
       "      <td>50</td>\n",
       "      <td>15360</td>\n",
       "      <td>500</td>\n",
       "      <td>550</td>\n",
       "      <td>200</td>\n",
       "      <td>3</td>\n",
       "      <td>3</td>\n",
       "      <td>smart</td>\n",
       "    </tr>\n",
       "    <tr>\n",
       "      <th>3212</th>\n",
       "      <td>1499</td>\n",
       "      <td>11</td>\n",
       "      <td>74.0</td>\n",
       "      <td>612.0</td>\n",
       "      <td>59.0</td>\n",
       "      <td>17963.31</td>\n",
       "      <td>smart</td>\n",
       "      <td>50</td>\n",
       "      <td>15360</td>\n",
       "      <td>500</td>\n",
       "      <td>550</td>\n",
       "      <td>200</td>\n",
       "      <td>3</td>\n",
       "      <td>3</td>\n",
       "      <td>smart</td>\n",
       "    </tr>\n",
       "    <tr>\n",
       "      <th>3213</th>\n",
       "      <td>1499</td>\n",
       "      <td>12</td>\n",
       "      <td>69.0</td>\n",
       "      <td>492.0</td>\n",
       "      <td>66.0</td>\n",
       "      <td>13055.58</td>\n",
       "      <td>smart</td>\n",
       "      <td>50</td>\n",
       "      <td>15360</td>\n",
       "      <td>500</td>\n",
       "      <td>550</td>\n",
       "      <td>200</td>\n",
       "      <td>3</td>\n",
       "      <td>3</td>\n",
       "      <td>smart</td>\n",
       "    </tr>\n",
       "  </tbody>\n",
       "</table>\n",
       "<p>3214 rows × 15 columns</p>\n",
       "</div>"
      ],
      "text/plain": [
       "      user_id  month  count    sum    id   mb_used tariff  messages_included  \\\n",
       "0        1000      5   22.0  159.0  22.0   2253.49  ultra               1000   \n",
       "1        1000      6   43.0  172.0  60.0  23233.77  ultra               1000   \n",
       "2        1000      7   47.0  340.0  75.0  14003.64  ultra               1000   \n",
       "3        1000      8   52.0  408.0  81.0  14055.93  ultra               1000   \n",
       "4        1000      9   58.0  466.0  57.0  14568.91  ultra               1000   \n",
       "...       ...    ...    ...    ...   ...       ...    ...                ...   \n",
       "3209     1498     10   41.0  247.0  42.0  20579.36  smart                 50   \n",
       "3210     1499      9    9.0   70.0  11.0   1845.75  smart                 50   \n",
       "3211     1499     10   68.0  449.0  48.0  17788.51  smart                 50   \n",
       "3212     1499     11   74.0  612.0  59.0  17963.31  smart                 50   \n",
       "3213     1499     12   69.0  492.0  66.0  13055.58  smart                 50   \n",
       "\n",
       "      mb_per_month_included  minutes_included  rub_monthly_fee  rub_per_gb  \\\n",
       "0                     30720              3000             1950         150   \n",
       "1                     30720              3000             1950         150   \n",
       "2                     30720              3000             1950         150   \n",
       "3                     30720              3000             1950         150   \n",
       "4                     30720              3000             1950         150   \n",
       "...                     ...               ...              ...         ...   \n",
       "3209                  15360               500              550         200   \n",
       "3210                  15360               500              550         200   \n",
       "3211                  15360               500              550         200   \n",
       "3212                  15360               500              550         200   \n",
       "3213                  15360               500              550         200   \n",
       "\n",
       "      rub_per_message  rub_per_minute tariff_name  \n",
       "0                   1               1       ultra  \n",
       "1                   1               1       ultra  \n",
       "2                   1               1       ultra  \n",
       "3                   1               1       ultra  \n",
       "4                   1               1       ultra  \n",
       "...               ...             ...         ...  \n",
       "3209                3               3       smart  \n",
       "3210                3               3       smart  \n",
       "3211                3               3       smart  \n",
       "3212                3               3       smart  \n",
       "3213                3               3       smart  \n",
       "\n",
       "[3214 rows x 15 columns]"
      ]
     },
     "execution_count": 35,
     "metadata": {},
     "output_type": "execute_result"
    }
   ],
   "source": [
    "df_general_total = pd.merge(df_general, tariffs, how ='left', left_on=('tariff'), right_on=('tariff_name'))\n",
    "df_general_total"
   ]
  },
  {
   "cell_type": "markdown",
   "id": "dc1c5f3d",
   "metadata": {},
   "source": [
    "Для создания столбцов 'minut_max', 'sms_max', 'mb_max', напишем функцию, которая будет считать превышения."
   ]
  },
  {
   "cell_type": "code",
   "execution_count": 36,
   "id": "d38b078e",
   "metadata": {},
   "outputs": [],
   "source": [
    "def calls_over(df_general_total):\n",
    "    var1 = 0\n",
    "    if df_general_total['sum'] > df_general_total['minutes_included']:\n",
    "        var1 += np.ceil(df_general_total['sum'] - df_general_total['minutes_included'])* df_general_total['rub_per_minute']\n",
    "    return np.ceil(var1)\n",
    "def sms_over(df_general_total):\n",
    "    var2 = 0\n",
    "    if df_general_total['id'] > df_general_total['messages_included']:\n",
    "        var2 += np.ceil(df_general_total['id'] - df_general_total['messages_included'])* df_general_total['rub_per_message']\n",
    "    return np.ceil(var2)\n",
    "def internet_over(df_general_total):\n",
    "    var3 = 0\n",
    "    if df_general_total['mb_used'] > df_general_total['mb_per_month_included']:\n",
    "        var3 += np.ceil((df_general_total['mb_used'] - df_general_total['mb_per_month_included'])/1024)* df_general_total['rub_per_gb']\n",
    "    return np.ceil(var3)\n",
    "    "
   ]
  },
  {
   "cell_type": "code",
   "execution_count": 37,
   "id": "41b91a67",
   "metadata": {},
   "outputs": [],
   "source": [
    "df_general_total['mb_max'] = df_general_total.apply(internet_over, axis=1)\n",
    "df_general_total['sms_max'] = df_general_total.apply(sms_over, axis=1)\n",
    "df_general_total['minut_max'] = df_general_total.apply(calls_over, axis=1)\n"
   ]
  },
  {
   "cell_type": "code",
   "execution_count": 38,
   "id": "034bb2f2",
   "metadata": {},
   "outputs": [],
   "source": [
    "#Создадим столбец, по всем превышениям тарифа\n",
    "df_general_total['price_max'] = df_general_total['mb_max'] + df_general_total['sms_max'] + df_general_total['minut_max']"
   ]
  },
  {
   "cell_type": "markdown",
   "id": "0b753f1e",
   "metadata": {},
   "source": [
    "Для создания столбца \"sum_month\" построчно просуммируем данные по 2 столбцам: Аб. плата и 'price_max':"
   ]
  },
  {
   "cell_type": "code",
   "execution_count": 39,
   "id": "e6843cd6",
   "metadata": {},
   "outputs": [],
   "source": [
    "df_general_total['sum_month'] = df_general_total['rub_monthly_fee'] + df_general_total['price_max']"
   ]
  },
  {
   "cell_type": "code",
   "execution_count": 40,
   "id": "37dba61f",
   "metadata": {},
   "outputs": [
    {
     "data": {
      "text/html": [
       "<div>\n",
       "<style scoped>\n",
       "    .dataframe tbody tr th:only-of-type {\n",
       "        vertical-align: middle;\n",
       "    }\n",
       "\n",
       "    .dataframe tbody tr th {\n",
       "        vertical-align: top;\n",
       "    }\n",
       "\n",
       "    .dataframe thead th {\n",
       "        text-align: right;\n",
       "    }\n",
       "</style>\n",
       "<table border=\"1\" class=\"dataframe\">\n",
       "  <thead>\n",
       "    <tr style=\"text-align: right;\">\n",
       "      <th></th>\n",
       "      <th>user_id</th>\n",
       "      <th>month</th>\n",
       "      <th>count</th>\n",
       "      <th>sum</th>\n",
       "      <th>id</th>\n",
       "      <th>mb_used</th>\n",
       "      <th>tariff</th>\n",
       "      <th>messages_included</th>\n",
       "      <th>mb_per_month_included</th>\n",
       "      <th>minutes_included</th>\n",
       "      <th>rub_monthly_fee</th>\n",
       "      <th>rub_per_gb</th>\n",
       "      <th>rub_per_message</th>\n",
       "      <th>rub_per_minute</th>\n",
       "      <th>tariff_name</th>\n",
       "      <th>mb_max</th>\n",
       "      <th>sms_max</th>\n",
       "      <th>minut_max</th>\n",
       "      <th>price_max</th>\n",
       "      <th>sum_month</th>\n",
       "    </tr>\n",
       "  </thead>\n",
       "  <tbody>\n",
       "    <tr>\n",
       "      <th>0</th>\n",
       "      <td>1000</td>\n",
       "      <td>5</td>\n",
       "      <td>22.0</td>\n",
       "      <td>159.0</td>\n",
       "      <td>22.0</td>\n",
       "      <td>2253.49</td>\n",
       "      <td>ultra</td>\n",
       "      <td>1000</td>\n",
       "      <td>30720</td>\n",
       "      <td>3000</td>\n",
       "      <td>1950</td>\n",
       "      <td>150</td>\n",
       "      <td>1</td>\n",
       "      <td>1</td>\n",
       "      <td>ultra</td>\n",
       "      <td>0.0</td>\n",
       "      <td>0.0</td>\n",
       "      <td>0.0</td>\n",
       "      <td>0.0</td>\n",
       "      <td>1950.0</td>\n",
       "    </tr>\n",
       "    <tr>\n",
       "      <th>1</th>\n",
       "      <td>1000</td>\n",
       "      <td>6</td>\n",
       "      <td>43.0</td>\n",
       "      <td>172.0</td>\n",
       "      <td>60.0</td>\n",
       "      <td>23233.77</td>\n",
       "      <td>ultra</td>\n",
       "      <td>1000</td>\n",
       "      <td>30720</td>\n",
       "      <td>3000</td>\n",
       "      <td>1950</td>\n",
       "      <td>150</td>\n",
       "      <td>1</td>\n",
       "      <td>1</td>\n",
       "      <td>ultra</td>\n",
       "      <td>0.0</td>\n",
       "      <td>0.0</td>\n",
       "      <td>0.0</td>\n",
       "      <td>0.0</td>\n",
       "      <td>1950.0</td>\n",
       "    </tr>\n",
       "    <tr>\n",
       "      <th>2</th>\n",
       "      <td>1000</td>\n",
       "      <td>7</td>\n",
       "      <td>47.0</td>\n",
       "      <td>340.0</td>\n",
       "      <td>75.0</td>\n",
       "      <td>14003.64</td>\n",
       "      <td>ultra</td>\n",
       "      <td>1000</td>\n",
       "      <td>30720</td>\n",
       "      <td>3000</td>\n",
       "      <td>1950</td>\n",
       "      <td>150</td>\n",
       "      <td>1</td>\n",
       "      <td>1</td>\n",
       "      <td>ultra</td>\n",
       "      <td>0.0</td>\n",
       "      <td>0.0</td>\n",
       "      <td>0.0</td>\n",
       "      <td>0.0</td>\n",
       "      <td>1950.0</td>\n",
       "    </tr>\n",
       "    <tr>\n",
       "      <th>3</th>\n",
       "      <td>1000</td>\n",
       "      <td>8</td>\n",
       "      <td>52.0</td>\n",
       "      <td>408.0</td>\n",
       "      <td>81.0</td>\n",
       "      <td>14055.93</td>\n",
       "      <td>ultra</td>\n",
       "      <td>1000</td>\n",
       "      <td>30720</td>\n",
       "      <td>3000</td>\n",
       "      <td>1950</td>\n",
       "      <td>150</td>\n",
       "      <td>1</td>\n",
       "      <td>1</td>\n",
       "      <td>ultra</td>\n",
       "      <td>0.0</td>\n",
       "      <td>0.0</td>\n",
       "      <td>0.0</td>\n",
       "      <td>0.0</td>\n",
       "      <td>1950.0</td>\n",
       "    </tr>\n",
       "    <tr>\n",
       "      <th>4</th>\n",
       "      <td>1000</td>\n",
       "      <td>9</td>\n",
       "      <td>58.0</td>\n",
       "      <td>466.0</td>\n",
       "      <td>57.0</td>\n",
       "      <td>14568.91</td>\n",
       "      <td>ultra</td>\n",
       "      <td>1000</td>\n",
       "      <td>30720</td>\n",
       "      <td>3000</td>\n",
       "      <td>1950</td>\n",
       "      <td>150</td>\n",
       "      <td>1</td>\n",
       "      <td>1</td>\n",
       "      <td>ultra</td>\n",
       "      <td>0.0</td>\n",
       "      <td>0.0</td>\n",
       "      <td>0.0</td>\n",
       "      <td>0.0</td>\n",
       "      <td>1950.0</td>\n",
       "    </tr>\n",
       "    <tr>\n",
       "      <th>...</th>\n",
       "      <td>...</td>\n",
       "      <td>...</td>\n",
       "      <td>...</td>\n",
       "      <td>...</td>\n",
       "      <td>...</td>\n",
       "      <td>...</td>\n",
       "      <td>...</td>\n",
       "      <td>...</td>\n",
       "      <td>...</td>\n",
       "      <td>...</td>\n",
       "      <td>...</td>\n",
       "      <td>...</td>\n",
       "      <td>...</td>\n",
       "      <td>...</td>\n",
       "      <td>...</td>\n",
       "      <td>...</td>\n",
       "      <td>...</td>\n",
       "      <td>...</td>\n",
       "      <td>...</td>\n",
       "      <td>...</td>\n",
       "    </tr>\n",
       "    <tr>\n",
       "      <th>3209</th>\n",
       "      <td>1498</td>\n",
       "      <td>10</td>\n",
       "      <td>41.0</td>\n",
       "      <td>247.0</td>\n",
       "      <td>42.0</td>\n",
       "      <td>20579.36</td>\n",
       "      <td>smart</td>\n",
       "      <td>50</td>\n",
       "      <td>15360</td>\n",
       "      <td>500</td>\n",
       "      <td>550</td>\n",
       "      <td>200</td>\n",
       "      <td>3</td>\n",
       "      <td>3</td>\n",
       "      <td>smart</td>\n",
       "      <td>1200.0</td>\n",
       "      <td>0.0</td>\n",
       "      <td>0.0</td>\n",
       "      <td>1200.0</td>\n",
       "      <td>1750.0</td>\n",
       "    </tr>\n",
       "    <tr>\n",
       "      <th>3210</th>\n",
       "      <td>1499</td>\n",
       "      <td>9</td>\n",
       "      <td>9.0</td>\n",
       "      <td>70.0</td>\n",
       "      <td>11.0</td>\n",
       "      <td>1845.75</td>\n",
       "      <td>smart</td>\n",
       "      <td>50</td>\n",
       "      <td>15360</td>\n",
       "      <td>500</td>\n",
       "      <td>550</td>\n",
       "      <td>200</td>\n",
       "      <td>3</td>\n",
       "      <td>3</td>\n",
       "      <td>smart</td>\n",
       "      <td>0.0</td>\n",
       "      <td>0.0</td>\n",
       "      <td>0.0</td>\n",
       "      <td>0.0</td>\n",
       "      <td>550.0</td>\n",
       "    </tr>\n",
       "    <tr>\n",
       "      <th>3211</th>\n",
       "      <td>1499</td>\n",
       "      <td>10</td>\n",
       "      <td>68.0</td>\n",
       "      <td>449.0</td>\n",
       "      <td>48.0</td>\n",
       "      <td>17788.51</td>\n",
       "      <td>smart</td>\n",
       "      <td>50</td>\n",
       "      <td>15360</td>\n",
       "      <td>500</td>\n",
       "      <td>550</td>\n",
       "      <td>200</td>\n",
       "      <td>3</td>\n",
       "      <td>3</td>\n",
       "      <td>smart</td>\n",
       "      <td>600.0</td>\n",
       "      <td>0.0</td>\n",
       "      <td>0.0</td>\n",
       "      <td>600.0</td>\n",
       "      <td>1150.0</td>\n",
       "    </tr>\n",
       "    <tr>\n",
       "      <th>3212</th>\n",
       "      <td>1499</td>\n",
       "      <td>11</td>\n",
       "      <td>74.0</td>\n",
       "      <td>612.0</td>\n",
       "      <td>59.0</td>\n",
       "      <td>17963.31</td>\n",
       "      <td>smart</td>\n",
       "      <td>50</td>\n",
       "      <td>15360</td>\n",
       "      <td>500</td>\n",
       "      <td>550</td>\n",
       "      <td>200</td>\n",
       "      <td>3</td>\n",
       "      <td>3</td>\n",
       "      <td>smart</td>\n",
       "      <td>600.0</td>\n",
       "      <td>27.0</td>\n",
       "      <td>336.0</td>\n",
       "      <td>963.0</td>\n",
       "      <td>1513.0</td>\n",
       "    </tr>\n",
       "    <tr>\n",
       "      <th>3213</th>\n",
       "      <td>1499</td>\n",
       "      <td>12</td>\n",
       "      <td>69.0</td>\n",
       "      <td>492.0</td>\n",
       "      <td>66.0</td>\n",
       "      <td>13055.58</td>\n",
       "      <td>smart</td>\n",
       "      <td>50</td>\n",
       "      <td>15360</td>\n",
       "      <td>500</td>\n",
       "      <td>550</td>\n",
       "      <td>200</td>\n",
       "      <td>3</td>\n",
       "      <td>3</td>\n",
       "      <td>smart</td>\n",
       "      <td>0.0</td>\n",
       "      <td>48.0</td>\n",
       "      <td>0.0</td>\n",
       "      <td>48.0</td>\n",
       "      <td>598.0</td>\n",
       "    </tr>\n",
       "  </tbody>\n",
       "</table>\n",
       "<p>3214 rows × 20 columns</p>\n",
       "</div>"
      ],
      "text/plain": [
       "      user_id  month  count    sum    id   mb_used tariff  messages_included  \\\n",
       "0        1000      5   22.0  159.0  22.0   2253.49  ultra               1000   \n",
       "1        1000      6   43.0  172.0  60.0  23233.77  ultra               1000   \n",
       "2        1000      7   47.0  340.0  75.0  14003.64  ultra               1000   \n",
       "3        1000      8   52.0  408.0  81.0  14055.93  ultra               1000   \n",
       "4        1000      9   58.0  466.0  57.0  14568.91  ultra               1000   \n",
       "...       ...    ...    ...    ...   ...       ...    ...                ...   \n",
       "3209     1498     10   41.0  247.0  42.0  20579.36  smart                 50   \n",
       "3210     1499      9    9.0   70.0  11.0   1845.75  smart                 50   \n",
       "3211     1499     10   68.0  449.0  48.0  17788.51  smart                 50   \n",
       "3212     1499     11   74.0  612.0  59.0  17963.31  smart                 50   \n",
       "3213     1499     12   69.0  492.0  66.0  13055.58  smart                 50   \n",
       "\n",
       "      mb_per_month_included  minutes_included  rub_monthly_fee  rub_per_gb  \\\n",
       "0                     30720              3000             1950         150   \n",
       "1                     30720              3000             1950         150   \n",
       "2                     30720              3000             1950         150   \n",
       "3                     30720              3000             1950         150   \n",
       "4                     30720              3000             1950         150   \n",
       "...                     ...               ...              ...         ...   \n",
       "3209                  15360               500              550         200   \n",
       "3210                  15360               500              550         200   \n",
       "3211                  15360               500              550         200   \n",
       "3212                  15360               500              550         200   \n",
       "3213                  15360               500              550         200   \n",
       "\n",
       "      rub_per_message  rub_per_minute tariff_name  mb_max  sms_max  minut_max  \\\n",
       "0                   1               1       ultra     0.0      0.0        0.0   \n",
       "1                   1               1       ultra     0.0      0.0        0.0   \n",
       "2                   1               1       ultra     0.0      0.0        0.0   \n",
       "3                   1               1       ultra     0.0      0.0        0.0   \n",
       "4                   1               1       ultra     0.0      0.0        0.0   \n",
       "...               ...             ...         ...     ...      ...        ...   \n",
       "3209                3               3       smart  1200.0      0.0        0.0   \n",
       "3210                3               3       smart     0.0      0.0        0.0   \n",
       "3211                3               3       smart   600.0      0.0        0.0   \n",
       "3212                3               3       smart   600.0     27.0      336.0   \n",
       "3213                3               3       smart     0.0     48.0        0.0   \n",
       "\n",
       "      price_max  sum_month  \n",
       "0           0.0     1950.0  \n",
       "1           0.0     1950.0  \n",
       "2           0.0     1950.0  \n",
       "3           0.0     1950.0  \n",
       "4           0.0     1950.0  \n",
       "...         ...        ...  \n",
       "3209     1200.0     1750.0  \n",
       "3210        0.0      550.0  \n",
       "3211      600.0     1150.0  \n",
       "3212      963.0     1513.0  \n",
       "3213       48.0      598.0  \n",
       "\n",
       "[3214 rows x 20 columns]"
      ]
     },
     "execution_count": 40,
     "metadata": {},
     "output_type": "execute_result"
    }
   ],
   "source": [
    "df_general_total"
   ]
  },
  {
   "cell_type": "markdown",
   "id": "12c71df3",
   "metadata": {},
   "source": [
    "Узнаем сколько человек пользуется тарифом \"Смарт\", а сколько тарифом \"Ультра."
   ]
  },
  {
   "cell_type": "code",
   "execution_count": 41,
   "id": "8a01d416",
   "metadata": {},
   "outputs": [
    {
     "data": {
      "text/plain": [
       "149"
      ]
     },
     "execution_count": 41,
     "metadata": {},
     "output_type": "execute_result"
    }
   ],
   "source": [
    "users_ultra = users[(users['tariff'] == 'ultra')].count()['user_id']\n",
    "users_ultra"
   ]
  },
  {
   "cell_type": "markdown",
   "id": "e3d8a20c",
   "metadata": {},
   "source": [
    "Вычислим годовую выручку по тарифу 'ultra'"
   ]
  },
  {
   "cell_type": "code",
   "execution_count": 42,
   "id": "e367c356",
   "metadata": {},
   "outputs": [
    {
     "data": {
      "text/plain": [
       "2039100.0"
      ]
     },
     "execution_count": 42,
     "metadata": {},
     "output_type": "execute_result"
    }
   ],
   "source": [
    "sum_ultra = df_general_total[(df_general_total['tariff'] == 'ultra')].sum()['sum_month']\n",
    "sum_ultra"
   ]
  },
  {
   "cell_type": "code",
   "execution_count": 43,
   "id": "1bd965f1",
   "metadata": {},
   "outputs": [
    {
     "data": {
      "text/plain": [
       "351"
      ]
     },
     "execution_count": 43,
     "metadata": {},
     "output_type": "execute_result"
    }
   ],
   "source": [
    "users_smart = users[(users['tariff'] == 'smart')].count()['user_id']\n",
    "users_smart"
   ]
  },
  {
   "cell_type": "code",
   "execution_count": 44,
   "id": "2e5c1138",
   "metadata": {},
   "outputs": [
    {
     "data": {
      "text/plain": [
       "2875351.0"
      ]
     },
     "execution_count": 44,
     "metadata": {},
     "output_type": "execute_result"
    }
   ],
   "source": [
    "sum_smart = df_general_total[(df_general_total['tariff'] == 'smart')].sum()['sum_month']\n",
    "sum_smart"
   ]
  },
  {
   "cell_type": "markdown",
   "id": "77b53e9b",
   "metadata": {},
   "source": [
    "Вывод:\n",
    "Изменила тип данных столбцов 'reg_date', 'message_date', 'session_date', 'call_date' с датами на datetime.\n",
    "Добавила столбец месяц в таблицы, чтобы в дальнейшем делать расчеты по месяцам.\n",
    "По заданию: «Мегалайн» всегда округляет вверх значения минут и мегабайт. Поэтому округлила эти значения.\n",
    "Удалила строки с нулевым трафиком, так как для оценки тарифа они ни как не влияют.\n",
    "Посчитала количество сделанных звонков и израсходованных минут разговора по месяцам.\n",
    "Посчитала количество отправленных сообщений по месяцам.\n",
    "Посчитала объем израсходованного интернет-трафика по месяцам.\n",
    "Посчитала помесячную выручку с каждого пользователя.\n",
    "Посчитала сколько всего пользователей тарифа смарт и ультра, а также годовую выручку по этим тарифам"
   ]
  },
  {
   "cell_type": "markdown",
   "id": "a9a44e4c",
   "metadata": {},
   "source": [
    "#  Проанализируйте данные"
   ]
  },
  {
   "cell_type": "markdown",
   "id": "cb9c7714",
   "metadata": {},
   "source": [
    "Опишем поведение клиентов оператора, исходя из выборки. Сколько минут разговора, сколько сообщений и какой объём интернет-трафика требуется пользователям каждого тарифа в месяц? Посчитаем среднее количество, дисперсию и стандартное отклонение. Построим гистограммы. Опишем распределения."
   ]
  },
  {
   "cell_type": "code",
   "execution_count": 45,
   "id": "f0efaa05",
   "metadata": {},
   "outputs": [
    {
     "data": {
      "image/png": "[encoded data removed]",
      "text/plain": [
       "<Figure size 720x432 with 1 Axes>"
      ]
     },
     "metadata": {
      "needs_background": "light"
     },
     "output_type": "display_data"
    }
   ],
   "source": [
    "##КОД РЕВЬЮЕРА\n",
    "import matplotlib.pyplot as plt\n",
    "smart = df_general.query('tariff == \"smart\"')['sum']\n",
    "ultra = df_general.query('tariff == \"ultra\"')['sum']\n",
    "\n",
    "plt.figure(figsize=(10,6))\n",
    "plt.hist(smart, bins=50, color='blue', edgecolor='grey', alpha=0.5, label = 'smart', density = False)\n",
    "plt.hist(ultra, bins=50, color='orange', edgecolor='grey', alpha=0.5,label = 'ultra', density = False)\n",
    "plt.legend()\n",
    "plt.show()"
   ]
  },
  {
   "cell_type": "markdown",
   "id": "6ee75ee4",
   "metadata": {},
   "source": [
    "Время разговоров в минутах в месяц по каждому тарифу"
   ]
  },
  {
   "cell_type": "code",
   "execution_count": 46,
   "id": "d6262f2b",
   "metadata": {},
   "outputs": [
    {
     "data": {
      "image/png": "[encoded data removed]",
      "text/plain": [
       "<Figure size 432x288 with 1 Axes>"
      ]
     },
     "metadata": {
      "needs_background": "light"
     },
     "output_type": "display_data"
    }
   ],
   "source": [
    "smart = df_general.query('tariff == \"smart\"')['sum']\n",
    "ultra = df_general.query('tariff == \"ultra\"')['sum']\n",
    "# matplotlib histogram\n",
    "plt.hist(smart, color = 'blue', edgecolor = 'black',label = 'ultra',\n",
    "         bins = 60);\n",
    "plt.hist(ultra, color = 'orange', edgecolor = 'black',label = 'ultra',\n",
    "         bins = 60);\n",
    "\n",
    "# seaborn histogram\n",
    "sns.distplot(smart, hist=True, kde=False, \n",
    "             bins=60, color = 'blue',\n",
    "             hist_kws={'edgecolor':'black'});\n",
    "sns.distplot(ultra, hist=True, kde=False, \n",
    "             bins=60, color = 'orange',\n",
    "             hist_kws={'edgecolor':'black'});\n",
    "# Add labels\n",
    "plt.title('Время разговоров в минутах в месяц');\n",
    "plt.xlabel('Время разговоров, мин');\n",
    "plt.ylabel('Количество абонентов');\n",
    "plt.legend();"
   ]
  },
  {
   "cell_type": "markdown",
   "id": "e619efc2",
   "metadata": {},
   "source": [
    "Время разговоров в минутах по месяцам отдельно по каждому тарифу"
   ]
  },
  {
   "cell_type": "markdown",
   "id": "f3148f65",
   "metadata": {},
   "source": [
    "Количество сообщений по месяцам отдельно по каждому тарифу."
   ]
  },
  {
   "cell_type": "code",
   "execution_count": 47,
   "id": "01b7b71d",
   "metadata": {},
   "outputs": [
    {
     "data": {
      "image/png": "[encoded data removed]",
      "text/plain": [
       "<Figure size 432x288 with 1 Axes>"
      ]
     },
     "metadata": {
      "needs_background": "light"
     },
     "output_type": "display_data"
    }
   ],
   "source": [
    "['id']\n",
    "smart = df_general.query('tariff == \"smart\"')['id']\n",
    "ultra = df_general.query('tariff == \"ultra\"')['id']\n",
    "# matplotlib histogram\n",
    "plt.hist(smart, color = 'blue', edgecolor = 'black',label = 'ultra',\n",
    "         bins = 60);\n",
    "plt.hist(ultra, color = 'orange', edgecolor = 'black',label = 'ultra',\n",
    "         bins = 60);\n",
    "\n",
    "# seaborn histogram\n",
    "sns.distplot(smart, hist=True, kde=False, \n",
    "             bins=60, color = 'blue',\n",
    "             hist_kws={'edgecolor':'black'});\n",
    "sns.distplot(ultra, hist=True, kde=False, \n",
    "             bins=60, color = 'orange',\n",
    "             hist_kws={'edgecolor':'black'});\n",
    "# Add labels\n",
    "plt.title('Количество сообщений в месяц');\n",
    "plt.xlabel('Количество сообщений, шт');\n",
    "plt.ylabel('Количество абонентов');\n",
    "plt.legend();"
   ]
  },
  {
   "cell_type": "markdown",
   "id": "7a5b6714",
   "metadata": {},
   "source": [
    "Количество объема трафика в месяц"
   ]
  },
  {
   "cell_type": "code",
   "execution_count": 48,
   "id": "1a17236e",
   "metadata": {},
   "outputs": [
    {
     "data": {
      "image/png": "[encoded data removed]",
      "text/plain": [
       "<Figure size 432x288 with 1 Axes>"
      ]
     },
     "metadata": {
      "needs_background": "light"
     },
     "output_type": "display_data"
    }
   ],
   "source": [
    "['mb_used']\n",
    "smart = df_general.query('tariff == \"smart\"')['mb_used']\n",
    "ultra = df_general.query('tariff == \"ultra\"')['mb_used']\n",
    "# matplotlib histogram\n",
    "plt.hist(smart, color = 'blue', edgecolor = 'black',label = 'ultra',\n",
    "         bins = 60);\n",
    "plt.hist(ultra, color = 'orange', edgecolor = 'black',label = 'ultra',\n",
    "         bins = 60);\n",
    "\n",
    "# seaborn histogram\n",
    "sns.distplot(smart, hist=True, kde=False, \n",
    "             bins=60, color = 'blue',\n",
    "             hist_kws={'edgecolor':'black'});\n",
    "sns.distplot(ultra, hist=True, kde=False, \n",
    "             bins=60, color = 'orange',\n",
    "             hist_kws={'edgecolor':'black'});\n",
    "# Add labels\n",
    "plt.title('Количество объема трафика в месяц');\n",
    "plt.xlabel('Объем трафика, Мб');\n",
    "plt.ylabel('Количество абонентов');\n",
    "plt.legend();"
   ]
  },
  {
   "cell_type": "markdown",
   "id": "9cb51321",
   "metadata": {},
   "source": [
    "Построим боксплот, чтобы визуально посмотреть выбросы"
   ]
  },
  {
   "cell_type": "code",
   "execution_count": 49,
   "id": "b7095488",
   "metadata": {},
   "outputs": [
    {
     "data": {
      "text/plain": [
       "149"
      ]
     },
     "execution_count": 49,
     "metadata": {},
     "output_type": "execute_result"
    }
   ],
   "source": [
    "#Узнаем сколько человек пользуется  тарифом \"Ультра.\n",
    "users_ultra = users[(users['tariff'] == 'ultra')].count()['user_id']\n",
    "users_ultra"
   ]
  },
  {
   "cell_type": "code",
   "execution_count": 50,
   "id": "99ef643d",
   "metadata": {},
   "outputs": [
    {
     "data": {
      "text/plain": [
       "351"
      ]
     },
     "execution_count": 50,
     "metadata": {},
     "output_type": "execute_result"
    }
   ],
   "source": [
    "#Узнаем сколько человек пользуется  тарифом \"Смарт\".\n",
    "users_smart = users[(users['tariff'] == 'smart')].count()['user_id']\n",
    "users_smart"
   ]
  },
  {
   "cell_type": "code",
   "execution_count": 51,
   "id": "944ed570",
   "metadata": {},
   "outputs": [
    {
     "data": {
      "image/png": "[encoded data removed]",
      "text/plain": [
       "<Figure size 432x288 with 1 Axes>"
      ]
     },
     "metadata": {
      "needs_background": "light"
     },
     "output_type": "display_data"
    }
   ],
   "source": [
    "# Выбросы по времени разговоров в вминутах\n",
    "df_general.boxplot(column='sum', by='tariff');"
   ]
  },
  {
   "cell_type": "code",
   "execution_count": 52,
   "id": "b9b81657",
   "metadata": {},
   "outputs": [
    {
     "data": {
      "image/png": "[encoded data removed]",
      "text/plain": [
       "<Figure size 432x288 with 1 Axes>"
      ]
     },
     "metadata": {
      "needs_background": "light"
     },
     "output_type": "display_data"
    }
   ],
   "source": [
    "#Выбросы по количеству сообщений в шт\n",
    "df_general.boxplot(column='id', by='tariff');"
   ]
  },
  {
   "cell_type": "code",
   "execution_count": 53,
   "id": "ed7442cd",
   "metadata": {},
   "outputs": [
    {
     "data": {
      "image/png": "[encoded data removed]",
      "text/plain": [
       "<Figure size 432x288 with 1 Axes>"
      ]
     },
     "metadata": {
      "needs_background": "light"
     },
     "output_type": "display_data"
    }
   ],
   "source": [
    "#Выбросы по количеству объема трафика в Мб\n",
    "df_general.boxplot(column='mb_used', by='tariff');"
   ]
  },
  {
   "cell_type": "markdown",
   "id": "ddfacee2",
   "metadata": {},
   "source": [
    "Посчитаем среднее количество, дисперсию и стандартное отклонение по минутам, сообщения и Интернет-траффику."
   ]
  },
  {
   "cell_type": "markdown",
   "id": "2fac75bb",
   "metadata": {},
   "source": [
    "Посчитаем среднее количество, дисперсию и стандартное отклонение по минутам"
   ]
  },
  {
   "cell_type": "code",
   "execution_count": 54,
   "id": "9545fcd6",
   "metadata": {},
   "outputs": [],
   "source": [
    "filtered_smart = df_general[(df_general['tariff'] == 'smart')]['sum']"
   ]
  },
  {
   "cell_type": "code",
   "execution_count": 55,
   "id": "37627828",
   "metadata": {},
   "outputs": [],
   "source": [
    "filtered_ultra = df_general[(df_general['tariff'] == 'ultra')]['sum']"
   ]
  },
  {
   "cell_type": "code",
   "execution_count": 56,
   "id": "9547fdf0",
   "metadata": {},
   "outputs": [],
   "source": [
    "mean_smart = filtered_smart.mean()\n",
    "mean_ultra = filtered_ultra.mean()\n",
    "dispersion_smart = filtered_smart.var()\n",
    "dispersion_ultra = filtered_ultra.var()\n",
    "std_smart = filtered_smart.std()\n",
    "std_ultra = filtered_ultra.std()"
   ]
  },
  {
   "cell_type": "code",
   "execution_count": 57,
   "id": "d0836559",
   "metadata": {},
   "outputs": [
    {
     "data": {
      "text/html": [
       "<div>\n",
       "<style scoped>\n",
       "    .dataframe tbody tr th:only-of-type {\n",
       "        vertical-align: middle;\n",
       "    }\n",
       "\n",
       "    .dataframe tbody tr th {\n",
       "        vertical-align: top;\n",
       "    }\n",
       "\n",
       "    .dataframe thead th {\n",
       "        text-align: right;\n",
       "    }\n",
       "</style>\n",
       "<table border=\"1\" class=\"dataframe\">\n",
       "  <thead>\n",
       "    <tr style=\"text-align: right;\">\n",
       "      <th></th>\n",
       "      <th>name</th>\n",
       "      <th>smart</th>\n",
       "      <th>ultra</th>\n",
       "    </tr>\n",
       "  </thead>\n",
       "  <tbody>\n",
       "    <tr>\n",
       "      <th>0</th>\n",
       "      <td>Среднее минут звонков</td>\n",
       "      <td>419.062978</td>\n",
       "      <td>545.451104</td>\n",
       "    </tr>\n",
       "    <tr>\n",
       "      <th>1</th>\n",
       "      <td>Дисперсия звонков</td>\n",
       "      <td>35844.189551</td>\n",
       "      <td>94203.418396</td>\n",
       "    </tr>\n",
       "    <tr>\n",
       "      <th>2</th>\n",
       "      <td>Стандартное отклонение звонков</td>\n",
       "      <td>189.325618</td>\n",
       "      <td>306.925754</td>\n",
       "    </tr>\n",
       "  </tbody>\n",
       "</table>\n",
       "</div>"
      ],
      "text/plain": [
       "                             name         smart         ultra\n",
       "0           Среднее минут звонков    419.062978    545.451104\n",
       "1               Дисперсия звонков  35844.189551  94203.418396\n",
       "2  Стандартное отклонение звонков    189.325618    306.925754"
      ]
     },
     "execution_count": 57,
     "metadata": {},
     "output_type": "execute_result"
    }
   ],
   "source": [
    "data_sum = [['Среднее минут звонков',mean_smart , mean_ultra ],\n",
    "       ['Дисперсия звонков', dispersion_smart, dispersion_ultra], ['Стандартное отклонение звонков',std_smart, std_ultra]]\n",
    "columns = ['name','smart','ultra']  \n",
    "table_sum = pd.DataFrame(data = data_sum, columns = columns)\n",
    "table_sum"
   ]
  },
  {
   "cell_type": "markdown",
   "id": "c289f69b",
   "metadata": {},
   "source": [
    "Посчитаем среднее количество, дисперсию и стандартное отклонение по сообщениям"
   ]
  },
  {
   "cell_type": "code",
   "execution_count": 58,
   "id": "2a38c1ba",
   "metadata": {},
   "outputs": [],
   "source": [
    "filtered_smart = df_general[(df_general['tariff'] == 'smart')]['id']\n",
    "                                          "
   ]
  },
  {
   "cell_type": "code",
   "execution_count": 59,
   "id": "c0f06806",
   "metadata": {},
   "outputs": [],
   "source": [
    "filtered_ultra = df_general[(df_general['tariff'] == 'ultra')]['id']"
   ]
  },
  {
   "cell_type": "code",
   "execution_count": 60,
   "id": "f131fe47",
   "metadata": {},
   "outputs": [],
   "source": [
    "mean_smart = filtered_smart.mean()\n",
    "mean_ultra = filtered_ultra.mean()\n",
    "dispersion_smart = filtered_smart.var()\n",
    "dispersion_ultra = filtered_ultra.var()\n",
    "std_smart = filtered_smart.std()\n",
    "std_ultra = filtered_ultra.std()"
   ]
  },
  {
   "cell_type": "code",
   "execution_count": 61,
   "id": "0e6ff34c",
   "metadata": {},
   "outputs": [
    {
     "data": {
      "text/html": [
       "<div>\n",
       "<style scoped>\n",
       "    .dataframe tbody tr th:only-of-type {\n",
       "        vertical-align: middle;\n",
       "    }\n",
       "\n",
       "    .dataframe tbody tr th {\n",
       "        vertical-align: top;\n",
       "    }\n",
       "\n",
       "    .dataframe thead th {\n",
       "        text-align: right;\n",
       "    }\n",
       "</style>\n",
       "<table border=\"1\" class=\"dataframe\">\n",
       "  <thead>\n",
       "    <tr style=\"text-align: right;\">\n",
       "      <th></th>\n",
       "      <th>name</th>\n",
       "      <th>smart</th>\n",
       "      <th>ultra</th>\n",
       "    </tr>\n",
       "  </thead>\n",
       "  <tbody>\n",
       "    <tr>\n",
       "      <th>0</th>\n",
       "      <td>Среднее количество сообщений</td>\n",
       "      <td>38.716441</td>\n",
       "      <td>61.161006</td>\n",
       "    </tr>\n",
       "    <tr>\n",
       "      <th>1</th>\n",
       "      <td>Дисперсия сообщений</td>\n",
       "      <td>717.594201</td>\n",
       "      <td>2109.659183</td>\n",
       "    </tr>\n",
       "    <tr>\n",
       "      <th>2</th>\n",
       "      <td>Стандартное отклонение сообщений</td>\n",
       "      <td>26.787949</td>\n",
       "      <td>45.931026</td>\n",
       "    </tr>\n",
       "  </tbody>\n",
       "</table>\n",
       "</div>"
      ],
      "text/plain": [
       "                               name       smart        ultra\n",
       "0      Среднее количество сообщений   38.716441    61.161006\n",
       "1               Дисперсия сообщений  717.594201  2109.659183\n",
       "2  Стандартное отклонение сообщений   26.787949    45.931026"
      ]
     },
     "execution_count": 61,
     "metadata": {},
     "output_type": "execute_result"
    }
   ],
   "source": [
    "data_id = [['Среднее количество сообщений',mean_smart , mean_ultra ],\n",
    "       ['Дисперсия сообщений', dispersion_smart, dispersion_ultra], ['Стандартное отклонение сообщений',std_smart, std_ultra]]\n",
    "columns = ['name','smart','ultra']  \n",
    "table_id = pd.DataFrame(data = data_id, columns = columns)\n",
    "table_id"
   ]
  },
  {
   "cell_type": "markdown",
   "id": "18275893",
   "metadata": {},
   "source": [
    "Посчитаем среднее количество, дисперсию и стандартное отклонение по Интернет-траффику"
   ]
  },
  {
   "cell_type": "code",
   "execution_count": 62,
   "id": "b12bc864",
   "metadata": {},
   "outputs": [],
   "source": [
    "filtered_smart = df_general[(df_general['tariff'] == 'smart')]['mb_used']                                          "
   ]
  },
  {
   "cell_type": "code",
   "execution_count": 63,
   "id": "664bcf33",
   "metadata": {},
   "outputs": [],
   "source": [
    " filtered_ultra = df_general[(df_general['tariff'] == 'ultra')]['mb_used']"
   ]
  },
  {
   "cell_type": "code",
   "execution_count": 64,
   "id": "fb1f5f36",
   "metadata": {},
   "outputs": [],
   "source": [
    "mean_smart = filtered_smart.mean()\n",
    "mean_ultra = filtered_ultra.mean()\n",
    "dispersion_smart = filtered_smart.var()\n",
    "dispersion_ultra = filtered_ultra.var()\n",
    "std_smart = filtered_smart.std()\n",
    "std_ultra = filtered_ultra.std()"
   ]
  },
  {
   "cell_type": "code",
   "execution_count": 65,
   "id": "7d6cf22f",
   "metadata": {},
   "outputs": [
    {
     "data": {
      "text/html": [
       "<div>\n",
       "<style scoped>\n",
       "    .dataframe tbody tr th:only-of-type {\n",
       "        vertical-align: middle;\n",
       "    }\n",
       "\n",
       "    .dataframe tbody tr th {\n",
       "        vertical-align: top;\n",
       "    }\n",
       "\n",
       "    .dataframe thead th {\n",
       "        text-align: right;\n",
       "    }\n",
       "</style>\n",
       "<table border=\"1\" class=\"dataframe\">\n",
       "  <thead>\n",
       "    <tr style=\"text-align: right;\">\n",
       "      <th></th>\n",
       "      <th>name</th>\n",
       "      <th>smart</th>\n",
       "      <th>ultra</th>\n",
       "    </tr>\n",
       "  </thead>\n",
       "  <tbody>\n",
       "    <tr>\n",
       "      <th>0</th>\n",
       "      <td>Среднее объем трафика</td>\n",
       "      <td>1.622294e+04</td>\n",
       "      <td>1.968868e+04</td>\n",
       "    </tr>\n",
       "    <tr>\n",
       "      <th>1</th>\n",
       "      <td>Дисперсия объем трафика</td>\n",
       "      <td>3.425721e+07</td>\n",
       "      <td>9.856786e+07</td>\n",
       "    </tr>\n",
       "    <tr>\n",
       "      <th>2</th>\n",
       "      <td>Стандартное отклонение объем трафика</td>\n",
       "      <td>5.852966e+03</td>\n",
       "      <td>9.928135e+03</td>\n",
       "    </tr>\n",
       "  </tbody>\n",
       "</table>\n",
       "</div>"
      ],
      "text/plain": [
       "                                   name         smart         ultra\n",
       "0                 Среднее объем трафика  1.622294e+04  1.968868e+04\n",
       "1               Дисперсия объем трафика  3.425721e+07  9.856786e+07\n",
       "2  Стандартное отклонение объем трафика  5.852966e+03  9.928135e+03"
      ]
     },
     "execution_count": 65,
     "metadata": {},
     "output_type": "execute_result"
    }
   ],
   "source": [
    "data_mb_used = [['Среднее объем трафика',mean_smart , mean_ultra ],\n",
    "       ['Дисперсия объем трафика', dispersion_smart, dispersion_ultra], ['Стандартное отклонение объем трафика',std_smart, std_ultra]]\n",
    "columns = ['name','smart','ultra']  \n",
    "table_mb_used = pd.DataFrame(data = data_mb_used, columns = columns)\n",
    "table_mb_used"
   ]
  },
  {
   "cell_type": "code",
   "execution_count": 66,
   "id": "4724e396",
   "metadata": {},
   "outputs": [
    {
     "data": {
      "text/html": [
       "<div>\n",
       "<style scoped>\n",
       "    .dataframe tbody tr th:only-of-type {\n",
       "        vertical-align: middle;\n",
       "    }\n",
       "\n",
       "    .dataframe tbody tr th {\n",
       "        vertical-align: top;\n",
       "    }\n",
       "\n",
       "    .dataframe thead th {\n",
       "        text-align: right;\n",
       "    }\n",
       "</style>\n",
       "<table border=\"1\" class=\"dataframe\">\n",
       "  <thead>\n",
       "    <tr style=\"text-align: right;\">\n",
       "      <th></th>\n",
       "      <th>name</th>\n",
       "      <th>smart</th>\n",
       "      <th>ultra</th>\n",
       "    </tr>\n",
       "  </thead>\n",
       "  <tbody>\n",
       "    <tr>\n",
       "      <th>0</th>\n",
       "      <td>Среднее минут звонков</td>\n",
       "      <td>4.190630e+02</td>\n",
       "      <td>5.454511e+02</td>\n",
       "    </tr>\n",
       "    <tr>\n",
       "      <th>1</th>\n",
       "      <td>Дисперсия звонков</td>\n",
       "      <td>3.584419e+04</td>\n",
       "      <td>9.420342e+04</td>\n",
       "    </tr>\n",
       "    <tr>\n",
       "      <th>2</th>\n",
       "      <td>Стандартное отклонение звонков</td>\n",
       "      <td>1.893256e+02</td>\n",
       "      <td>3.069258e+02</td>\n",
       "    </tr>\n",
       "    <tr>\n",
       "      <th>3</th>\n",
       "      <td>Среднее количество сообщений</td>\n",
       "      <td>3.871644e+01</td>\n",
       "      <td>6.116101e+01</td>\n",
       "    </tr>\n",
       "    <tr>\n",
       "      <th>4</th>\n",
       "      <td>Дисперсия сообщений</td>\n",
       "      <td>7.175942e+02</td>\n",
       "      <td>2.109659e+03</td>\n",
       "    </tr>\n",
       "    <tr>\n",
       "      <th>5</th>\n",
       "      <td>Стандартное отклонение сообщений</td>\n",
       "      <td>2.678795e+01</td>\n",
       "      <td>4.593103e+01</td>\n",
       "    </tr>\n",
       "    <tr>\n",
       "      <th>6</th>\n",
       "      <td>Среднее объем трафика</td>\n",
       "      <td>1.622294e+04</td>\n",
       "      <td>1.968868e+04</td>\n",
       "    </tr>\n",
       "    <tr>\n",
       "      <th>7</th>\n",
       "      <td>Дисперсия объем трафика</td>\n",
       "      <td>3.425721e+07</td>\n",
       "      <td>9.856786e+07</td>\n",
       "    </tr>\n",
       "    <tr>\n",
       "      <th>8</th>\n",
       "      <td>Стандартное отклонение объем трафика</td>\n",
       "      <td>5.852966e+03</td>\n",
       "      <td>9.928135e+03</td>\n",
       "    </tr>\n",
       "  </tbody>\n",
       "</table>\n",
       "</div>"
      ],
      "text/plain": [
       "                                   name         smart         ultra\n",
       "0                 Среднее минут звонков  4.190630e+02  5.454511e+02\n",
       "1                     Дисперсия звонков  3.584419e+04  9.420342e+04\n",
       "2        Стандартное отклонение звонков  1.893256e+02  3.069258e+02\n",
       "3          Среднее количество сообщений  3.871644e+01  6.116101e+01\n",
       "4                   Дисперсия сообщений  7.175942e+02  2.109659e+03\n",
       "5      Стандартное отклонение сообщений  2.678795e+01  4.593103e+01\n",
       "6                 Среднее объем трафика  1.622294e+04  1.968868e+04\n",
       "7               Дисперсия объем трафика  3.425721e+07  9.856786e+07\n",
       "8  Стандартное отклонение объем трафика  5.852966e+03  9.928135e+03"
      ]
     },
     "execution_count": 66,
     "metadata": {},
     "output_type": "execute_result"
    }
   ],
   "source": [
    "pd.concat((table_sum, table_id, table_mb_used), ignore_index=True)"
   ]
  },
  {
   "cell_type": "markdown",
   "id": "11400d71",
   "metadata": {},
   "source": [
    "В основном, на тарифе Смарт люди разговаривают в месяц в течение 350-400 минут, когда лимит общения по тарифу за абонентскую плату - 500 минут, т.е. пользователи регулярно выбирают почти полный лимит голосовой связи.\n",
    "С тарифом Ультра немного иная ситуация, люди разговаривают в месяц в течение 300-500 минут,когда лимит общения по тарифу за абонентскую плату - 3000 минут"
   ]
  },
  {
   "cell_type": "markdown",
   "id": "057ff1c3",
   "metadata": {},
   "source": [
    "Пользователи тарифа Смарт - в среднем они отправляют до 39 СМС в месяц, когда лимит по тарифу за абонентскую плату - 50 смс. Пользователи тарифа Ультра отправляют до 61 СМС, когда лимит по тарифу за абонентскую плату - 1000 смс."
   ]
  },
  {
   "cell_type": "markdown",
   "id": "f674e2dd",
   "metadata": {},
   "source": [
    "Клиенты с тарифом Смарт в среднем в месяц используют от 16200 Мб трафика. Причем, установленная абонентскаят плата - в 15 Гб. Фактически, клиенты тарифа Смарт регулярно заказывают доп. пакеты с интернетом, когда основной пакет заканчивается.\n",
    "Клиенты с тарифом Ультра активней пользуются интернетом 19600 Мб, но учитывая лимит в 30 Гб, у них есть ещё большой запас по количеству оставшегося для использования трафика."
   ]
  },
  {
   "cell_type": "markdown",
   "id": "9de31685",
   "metadata": {},
   "source": [
    "Вывод:\n",
    "* В основном, на тарифе Смарт люди разговаривают в месяц в течение 350-400 минут, когда лимит общения по тарифу за абонентскую плату - 500 минут, т.е. пользователи регулярно выбирают почти полный лимит голосовой связи.\n",
    "С тарифом Ультра немного иная ситуация, люди разговаривают в месяц в течение 300-500 минут,когда лимит общения по тарифу за абонентскую плату - 3000 минут.\n",
    "* Пользователи тарифа Смарт - в среднем они отправляют до 39 СМС в месяц, когда лимит по тарифу за абонентскую плату - 50 смс. Пользователи тарифа Ультра отправляют до 61 СМС, когда лимит по тарифу за абонентскую плату - 1000 смс.\n",
    "* Клиенты с тарифом Смарт в среднем в месяц используют от 16200 Мб трафика. Причем, установленная абонентскаят плата - в 15 Гб. Фактически, клиенты тарифа Смарт регулярно заказывают доп. пакеты с интернетом, когда основной пакет заканчивается. Клиенты с тарифом Ультра активней пользуются интернетом 19600 Мб, но учитывая лимит в 30 Гб, у них есть ещё большой запас по количеству оставшегося для использования трафика."
   ]
  },
  {
   "cell_type": "markdown",
   "id": "4df4bbd3",
   "metadata": {},
   "source": [
    "#  Проверьте гипотезы"
   ]
  },
  {
   "cell_type": "markdown",
   "id": "5d8078e3",
   "metadata": {},
   "source": [
    "Средняя выручка пользователей тарифов «Ультра» и «Смарт» различаются?"
   ]
  },
  {
   "cell_type": "markdown",
   "id": "a478f41a",
   "metadata": {},
   "source": [
    "Н0 (нулевая гипотеза) - Средняя выручка пользователей тарифов «Ультра» и «Смарт» одинаковые.\n",
    "\n",
    "Н1 (альтернативная гипотеза) -Средняя выручка пользователей тарифов «Ультра» и «Смарт» отличаются между собой."
   ]
  },
  {
   "cell_type": "code",
   "execution_count": 67,
   "id": "a1d0dd7f",
   "metadata": {},
   "outputs": [],
   "source": [
    "sum_month_mean_smart = df_general_total[(df_general_total['tariff'] == 'smart')]['sum_month'] "
   ]
  },
  {
   "cell_type": "code",
   "execution_count": 68,
   "id": "d8834f92",
   "metadata": {},
   "outputs": [],
   "source": [
    "sum_month_mean_ultra = df_general_total[(df_general_total['tariff'] == 'ultra')]['sum_month'] "
   ]
  },
  {
   "cell_type": "code",
   "execution_count": 69,
   "id": "fd1969f7",
   "metadata": {},
   "outputs": [
    {
     "name": "stdout",
     "output_type": "stream",
     "text": [
      "p-значение: 1.4229814360764067e-160\n",
      "\n",
      "Пороговое значение alpha = 0.05\n",
      "Отвергаем нулевую гипотезу\n"
     ]
    }
   ],
   "source": [
    "alpha = 0.05\n",
    "results = st.ttest_ind(sum_month_mean_smart, sum_month_mean_ultra)\n",
    "print('p-значение:', results.pvalue)\n",
    "print('\\nПороговое значение alpha = 0.05')\n",
    "if results.pvalue < alpha:\n",
    "    print(\"Отвергаем нулевую гипотезу\")\n",
    "else:\n",
    "    print(\"Не получилось отвергнуть нулевую гипотезу\")"
   ]
  },
  {
   "cell_type": "markdown",
   "id": "9e29d665",
   "metadata": {},
   "source": [
    "Вывод:\n",
    "Принимаем гипотезу, что средняя выручка пользователей тарифов Смарт и Ультра различается."
   ]
  },
  {
   "cell_type": "markdown",
   "id": "481f4487",
   "metadata": {},
   "source": [
    "Cредняя выручка пользователей из Москвы отличается от выручки пользователей из других регионов."
   ]
  },
  {
   "cell_type": "markdown",
   "id": "b2b2b27c",
   "metadata": {},
   "source": [
    "Выберем нужные нам данные - среднюю месячную выручку по Москве и по остальным регионам:\n",
    "\n",
    "Проставим признак по каждой строке - Москва или регион:"
   ]
  },
  {
   "cell_type": "code",
   "execution_count": 70,
   "id": "d058164e",
   "metadata": {},
   "outputs": [],
   "source": [
    "df_general_total['Город'] = users['city']"
   ]
  },
  {
   "cell_type": "code",
   "execution_count": 71,
   "id": "cebeae2e",
   "metadata": {},
   "outputs": [],
   "source": [
    "df_general_total['Москва'] =  np.where(df_general_total['Город'] == 'Москва', 1, 0)"
   ]
  },
  {
   "cell_type": "code",
   "execution_count": 72,
   "id": "25df93f1",
   "metadata": {},
   "outputs": [
    {
     "data": {
      "text/html": [
       "<div>\n",
       "<style scoped>\n",
       "    .dataframe tbody tr th:only-of-type {\n",
       "        vertical-align: middle;\n",
       "    }\n",
       "\n",
       "    .dataframe tbody tr th {\n",
       "        vertical-align: top;\n",
       "    }\n",
       "\n",
       "    .dataframe thead th {\n",
       "        text-align: right;\n",
       "    }\n",
       "</style>\n",
       "<table border=\"1\" class=\"dataframe\">\n",
       "  <thead>\n",
       "    <tr style=\"text-align: right;\">\n",
       "      <th></th>\n",
       "      <th>user_id</th>\n",
       "      <th>month</th>\n",
       "      <th>count</th>\n",
       "      <th>sum</th>\n",
       "      <th>id</th>\n",
       "      <th>mb_used</th>\n",
       "      <th>tariff</th>\n",
       "      <th>messages_included</th>\n",
       "      <th>mb_per_month_included</th>\n",
       "      <th>minutes_included</th>\n",
       "      <th>...</th>\n",
       "      <th>rub_per_message</th>\n",
       "      <th>rub_per_minute</th>\n",
       "      <th>tariff_name</th>\n",
       "      <th>mb_max</th>\n",
       "      <th>sms_max</th>\n",
       "      <th>minut_max</th>\n",
       "      <th>price_max</th>\n",
       "      <th>sum_month</th>\n",
       "      <th>Город</th>\n",
       "      <th>Москва</th>\n",
       "    </tr>\n",
       "  </thead>\n",
       "  <tbody>\n",
       "    <tr>\n",
       "      <th>0</th>\n",
       "      <td>1000</td>\n",
       "      <td>5</td>\n",
       "      <td>22.0</td>\n",
       "      <td>159.0</td>\n",
       "      <td>22.0</td>\n",
       "      <td>2253.49</td>\n",
       "      <td>ultra</td>\n",
       "      <td>1000</td>\n",
       "      <td>30720</td>\n",
       "      <td>3000</td>\n",
       "      <td>...</td>\n",
       "      <td>1</td>\n",
       "      <td>1</td>\n",
       "      <td>ultra</td>\n",
       "      <td>0.0</td>\n",
       "      <td>0.0</td>\n",
       "      <td>0.0</td>\n",
       "      <td>0.0</td>\n",
       "      <td>1950.0</td>\n",
       "      <td>Краснодар</td>\n",
       "      <td>0</td>\n",
       "    </tr>\n",
       "    <tr>\n",
       "      <th>1</th>\n",
       "      <td>1000</td>\n",
       "      <td>6</td>\n",
       "      <td>43.0</td>\n",
       "      <td>172.0</td>\n",
       "      <td>60.0</td>\n",
       "      <td>23233.77</td>\n",
       "      <td>ultra</td>\n",
       "      <td>1000</td>\n",
       "      <td>30720</td>\n",
       "      <td>3000</td>\n",
       "      <td>...</td>\n",
       "      <td>1</td>\n",
       "      <td>1</td>\n",
       "      <td>ultra</td>\n",
       "      <td>0.0</td>\n",
       "      <td>0.0</td>\n",
       "      <td>0.0</td>\n",
       "      <td>0.0</td>\n",
       "      <td>1950.0</td>\n",
       "      <td>Москва</td>\n",
       "      <td>1</td>\n",
       "    </tr>\n",
       "    <tr>\n",
       "      <th>2</th>\n",
       "      <td>1000</td>\n",
       "      <td>7</td>\n",
       "      <td>47.0</td>\n",
       "      <td>340.0</td>\n",
       "      <td>75.0</td>\n",
       "      <td>14003.64</td>\n",
       "      <td>ultra</td>\n",
       "      <td>1000</td>\n",
       "      <td>30720</td>\n",
       "      <td>3000</td>\n",
       "      <td>...</td>\n",
       "      <td>1</td>\n",
       "      <td>1</td>\n",
       "      <td>ultra</td>\n",
       "      <td>0.0</td>\n",
       "      <td>0.0</td>\n",
       "      <td>0.0</td>\n",
       "      <td>0.0</td>\n",
       "      <td>1950.0</td>\n",
       "      <td>Стерлитамак</td>\n",
       "      <td>0</td>\n",
       "    </tr>\n",
       "    <tr>\n",
       "      <th>3</th>\n",
       "      <td>1000</td>\n",
       "      <td>8</td>\n",
       "      <td>52.0</td>\n",
       "      <td>408.0</td>\n",
       "      <td>81.0</td>\n",
       "      <td>14055.93</td>\n",
       "      <td>ultra</td>\n",
       "      <td>1000</td>\n",
       "      <td>30720</td>\n",
       "      <td>3000</td>\n",
       "      <td>...</td>\n",
       "      <td>1</td>\n",
       "      <td>1</td>\n",
       "      <td>ultra</td>\n",
       "      <td>0.0</td>\n",
       "      <td>0.0</td>\n",
       "      <td>0.0</td>\n",
       "      <td>0.0</td>\n",
       "      <td>1950.0</td>\n",
       "      <td>Москва</td>\n",
       "      <td>1</td>\n",
       "    </tr>\n",
       "    <tr>\n",
       "      <th>4</th>\n",
       "      <td>1000</td>\n",
       "      <td>9</td>\n",
       "      <td>58.0</td>\n",
       "      <td>466.0</td>\n",
       "      <td>57.0</td>\n",
       "      <td>14568.91</td>\n",
       "      <td>ultra</td>\n",
       "      <td>1000</td>\n",
       "      <td>30720</td>\n",
       "      <td>3000</td>\n",
       "      <td>...</td>\n",
       "      <td>1</td>\n",
       "      <td>1</td>\n",
       "      <td>ultra</td>\n",
       "      <td>0.0</td>\n",
       "      <td>0.0</td>\n",
       "      <td>0.0</td>\n",
       "      <td>0.0</td>\n",
       "      <td>1950.0</td>\n",
       "      <td>Новокузнецк</td>\n",
       "      <td>0</td>\n",
       "    </tr>\n",
       "  </tbody>\n",
       "</table>\n",
       "<p>5 rows × 22 columns</p>\n",
       "</div>"
      ],
      "text/plain": [
       "   user_id  month  count    sum    id   mb_used tariff  messages_included  \\\n",
       "0     1000      5   22.0  159.0  22.0   2253.49  ultra               1000   \n",
       "1     1000      6   43.0  172.0  60.0  23233.77  ultra               1000   \n",
       "2     1000      7   47.0  340.0  75.0  14003.64  ultra               1000   \n",
       "3     1000      8   52.0  408.0  81.0  14055.93  ultra               1000   \n",
       "4     1000      9   58.0  466.0  57.0  14568.91  ultra               1000   \n",
       "\n",
       "   mb_per_month_included  minutes_included  ...  rub_per_message  \\\n",
       "0                  30720              3000  ...                1   \n",
       "1                  30720              3000  ...                1   \n",
       "2                  30720              3000  ...                1   \n",
       "3                  30720              3000  ...                1   \n",
       "4                  30720              3000  ...                1   \n",
       "\n",
       "   rub_per_minute  tariff_name  mb_max sms_max  minut_max  price_max  \\\n",
       "0               1        ultra     0.0     0.0        0.0        0.0   \n",
       "1               1        ultra     0.0     0.0        0.0        0.0   \n",
       "2               1        ultra     0.0     0.0        0.0        0.0   \n",
       "3               1        ultra     0.0     0.0        0.0        0.0   \n",
       "4               1        ultra     0.0     0.0        0.0        0.0   \n",
       "\n",
       "   sum_month        Город  Москва  \n",
       "0     1950.0    Краснодар       0  \n",
       "1     1950.0       Москва       1  \n",
       "2     1950.0  Стерлитамак       0  \n",
       "3     1950.0       Москва       1  \n",
       "4     1950.0  Новокузнецк       0  \n",
       "\n",
       "[5 rows x 22 columns]"
      ]
     },
     "execution_count": 72,
     "metadata": {},
     "output_type": "execute_result"
    }
   ],
   "source": [
    "df_general_total.head()"
   ]
  },
  {
   "cell_type": "code",
   "execution_count": 73,
   "id": "a74be4fc",
   "metadata": {},
   "outputs": [],
   "source": [
    "sum_month_mean_region =df_general_total[(df_general_total['Москва'] == 0)]['sum_month'] "
   ]
  },
  {
   "cell_type": "code",
   "execution_count": 74,
   "id": "57c42de2",
   "metadata": {},
   "outputs": [],
   "source": [
    "sum_month_mean_Moscow = df_general_total[(df_general_total['Москва'] == 1)]['sum_month'] "
   ]
  },
  {
   "cell_type": "markdown",
   "id": "9dc4a272",
   "metadata": {},
   "source": [
    "Н0 (нулевая гипотеза) - Средняя выручка  пользователей из Москвы не отличается от выручки пользователей из других регионов.\n",
    "\n",
    "Н1 (альтернативная гипотеза) -Средняя выручка  пользователей из Москвы и из других регионов отличаются между собой."
   ]
  },
  {
   "cell_type": "code",
   "execution_count": 75,
   "id": "75e35c43",
   "metadata": {},
   "outputs": [
    {
     "name": "stdout",
     "output_type": "stream",
     "text": [
      "p-значение: 0.2777237855570781\n",
      "\n",
      "Пороговое значение alpha = 0.05\n",
      "Не получилось отвергнуть нулевую гипотезу\n"
     ]
    }
   ],
   "source": [
    "alpha = 0.05\n",
    "results = st.ttest_ind(sum_month_mean_region, sum_month_mean_Moscow)\n",
    "print('p-значение:', results.pvalue)\n",
    "print('\\nПороговое значение alpha = 0.05')\n",
    "if results.pvalue < alpha:\n",
    "    print(\"Отвергаем нулевую гипотезу\")\n",
    "else:\n",
    "    print(\"Не получилось отвергнуть нулевую гипотезу\")"
   ]
  },
  {
   "cell_type": "markdown",
   "id": "77798978",
   "metadata": {},
   "source": [
    "Вывод:\n",
    "Таким образом, принимаем гипотезу, что средняя выручка пользователей из Москвы не отличается от выручки пользователей из других регионов."
   ]
  },
  {
   "cell_type": "markdown",
   "id": "40462ef2",
   "metadata": {},
   "source": [
    "### 5 Общий вывод"
   ]
  },
  {
   "cell_type": "markdown",
   "id": "2913c8c1",
   "metadata": {},
   "source": [
    "* Тариф Смарт приносит около 58% всей выручки, но при этом на него приходится 351 пользователей. Тариф Ультра дает остальные 42%, но эту выручку генерируют всего 149 пользователей.\n",
    "\n",
    "\n",
    "* В основном, на тарифе Смарт люди разговаривают в месяц в течение 350-400 минут, когда лимит общения по тарифу за абонентскую плату - 500 минут, т.е. пользователи регулярно выбирают почти полный лимит голосовой связи. С тарифом Ультра , люди разговаривают в месяц в течение 300-500 минут,когда лимит общения по тарифу за абонентскую плату - 3000 минут.\n",
    "\n",
    "\n",
    "* Пользователи тарифа Смарт - в среднем они отправляют до 39 СМС в месяц, когда лимит по тарифу за абонентскую плату - 50 смс. Пользователи тарифа Ультра отправляют до 61 СМС, когда лимит по тарифу за абонентскую плату - 1000 смс.\n",
    "\n",
    "\n",
    "* Клиенты с тарифом Смарт в среднем в месяц используют от 16200 Мб трафика. Причем, установленная абонентскаят плата - в 15 Гб. Фактически, клиенты тарифа Смарт регулярно заказывают доп. пакеты с интернетом, когда основной пакет заканчивается. Клиенты с тарифом Ультра активней пользуются интернетом 19600 Мб, но учитывая лимит в 30 Гб, у них есть ещё большой запас по количеству оставшегося для использования трафика.\n",
    "\n",
    "\n",
    "* Таким образом, в тарифной сетке есть дешевый тариф Смарт за 550 рублей, где пользователю не хватает интернета и есть тариф Ультра, стоимостью 1950 рублей, которым пользуется уже другой класс граждан, где лимитов по всем типам связи предостаточно.\n",
    "\n",
    "\n",
    "* Тариф Смарт выгоден для сотового оператора «Мегалайн», так как он приносит около 58 % всей выручки и большенство пользователей (70 %) выбирают его, так его цена более демократична."
   ]
  },
  {
   "cell_type": "code",
   "execution_count": null,
   "id": "ab983325",
   "metadata": {},
   "outputs": [],
   "source": []
  }
 ],
 "metadata": {
  "ExecuteTimeLog": [
   {
    "duration": 197,
    "start_time": "2022-04-21T08:18:32.472Z"
   },
   {
    "duration": 209,
    "start_time": "2022-04-21T08:29:58.598Z"
   },
   {
    "duration": 186,
    "start_time": "2022-04-21T08:32:54.360Z"
   },
   {
    "duration": 470,
    "start_time": "2022-04-21T08:47:03.023Z"
   },
   {
    "duration": 37,
    "start_time": "2022-04-21T08:47:03.495Z"
   },
   {
    "duration": 8,
    "start_time": "2022-04-21T08:47:03.533Z"
   },
   {
    "duration": 11,
    "start_time": "2022-04-21T08:47:03.542Z"
   },
   {
    "duration": 108,
    "start_time": "2022-04-21T08:47:03.555Z"
   },
   {
    "duration": 25,
    "start_time": "2022-04-21T08:47:03.664Z"
   },
   {
    "duration": 142,
    "start_time": "2022-04-21T08:47:03.691Z"
   },
   {
    "duration": 22,
    "start_time": "2022-04-21T08:47:03.834Z"
   },
   {
    "duration": 153,
    "start_time": "2022-04-21T08:47:03.858Z"
   },
   {
    "duration": 30,
    "start_time": "2022-04-21T08:47:04.013Z"
   },
   {
    "duration": 78,
    "start_time": "2022-04-21T08:47:04.044Z"
   },
   {
    "duration": 51,
    "start_time": "2022-04-21T08:47:04.124Z"
   },
   {
    "duration": 6,
    "start_time": "2022-04-21T08:47:04.176Z"
   },
   {
    "duration": 10,
    "start_time": "2022-04-21T08:47:04.185Z"
   },
   {
    "duration": 27,
    "start_time": "2022-04-21T08:47:04.197Z"
   },
   {
    "duration": 10,
    "start_time": "2022-04-21T08:47:04.225Z"
   },
   {
    "duration": 9,
    "start_time": "2022-04-21T08:47:04.237Z"
   },
   {
    "duration": 619,
    "start_time": "2022-04-21T08:47:04.247Z"
   },
   {
    "duration": 25,
    "start_time": "2022-04-21T08:47:04.867Z"
   },
   {
    "duration": 32,
    "start_time": "2022-04-21T08:47:04.894Z"
   },
   {
    "duration": 228,
    "start_time": "2022-04-21T08:47:04.927Z"
   },
   {
    "duration": 9,
    "start_time": "2022-04-21T08:47:05.157Z"
   },
   {
    "duration": 255,
    "start_time": "2022-04-21T08:47:05.168Z"
   },
   {
    "duration": 23,
    "start_time": "2022-04-21T08:47:05.424Z"
   },
   {
    "duration": 203,
    "start_time": "2022-04-21T08:47:05.449Z"
   },
   {
    "duration": 153,
    "start_time": "2022-04-21T08:47:05.654Z"
   },
   {
    "duration": 180,
    "start_time": "2022-04-21T08:47:05.808Z"
   },
   {
    "duration": 4,
    "start_time": "2022-04-21T08:47:05.989Z"
   },
   {
    "duration": 149,
    "start_time": "2022-04-21T08:47:05.994Z"
   },
   {
    "duration": 51,
    "start_time": "2022-04-21T08:47:06.144Z"
   },
   {
    "duration": 51,
    "start_time": "2022-04-21T08:47:06.196Z"
   },
   {
    "duration": 5,
    "start_time": "2022-04-21T08:47:06.248Z"
   },
   {
    "duration": 18,
    "start_time": "2022-04-21T08:47:06.255Z"
   },
   {
    "duration": 16,
    "start_time": "2022-04-21T08:47:06.274Z"
   },
   {
    "duration": 4,
    "start_time": "2022-04-21T08:47:06.291Z"
   },
   {
    "duration": 4,
    "start_time": "2022-04-21T08:47:06.297Z"
   },
   {
    "duration": 62,
    "start_time": "2022-04-21T08:47:06.302Z"
   },
   {
    "duration": 3,
    "start_time": "2022-04-21T08:47:06.366Z"
   },
   {
    "duration": 54,
    "start_time": "2022-04-21T08:47:06.371Z"
   },
   {
    "duration": 4,
    "start_time": "2022-04-21T08:47:06.427Z"
   },
   {
    "duration": 44,
    "start_time": "2022-04-21T08:47:06.436Z"
   },
   {
    "duration": 4,
    "start_time": "2022-04-21T08:47:06.482Z"
   },
   {
    "duration": 92,
    "start_time": "2022-04-21T08:47:06.487Z"
   },
   {
    "duration": 4,
    "start_time": "2022-04-21T08:47:06.581Z"
   },
   {
    "duration": 35,
    "start_time": "2022-04-21T08:47:06.587Z"
   },
   {
    "duration": 10,
    "start_time": "2022-04-21T08:47:06.625Z"
   },
   {
    "duration": 12,
    "start_time": "2022-04-21T08:47:06.637Z"
   },
   {
    "duration": 8,
    "start_time": "2022-04-21T08:47:06.651Z"
   },
   {
    "duration": 11,
    "start_time": "2022-04-21T08:47:06.660Z"
   },
   {
    "duration": 2,
    "start_time": "2022-04-21T08:47:06.673Z"
   },
   {
    "duration": 9,
    "start_time": "2022-04-21T08:47:06.676Z"
   },
   {
    "duration": 140,
    "start_time": "2022-04-21T08:47:06.723Z"
   },
   {
    "duration": 120,
    "start_time": "2022-04-21T08:47:06.865Z"
   },
   {
    "duration": 7,
    "start_time": "2022-04-21T08:47:06.987Z"
   },
   {
    "duration": 138,
    "start_time": "2022-04-21T08:47:06.995Z"
   },
   {
    "duration": 214,
    "start_time": "2022-04-21T08:47:07.135Z"
   },
   {
    "duration": 164,
    "start_time": "2022-04-21T08:47:07.350Z"
   },
   {
    "duration": 9,
    "start_time": "2022-04-21T08:47:07.516Z"
   },
   {
    "duration": 8,
    "start_time": "2022-04-21T08:47:07.527Z"
   },
   {
    "duration": 7,
    "start_time": "2022-04-21T08:47:07.536Z"
   },
   {
    "duration": 10,
    "start_time": "2022-04-21T08:47:07.544Z"
   },
   {
    "duration": 171,
    "start_time": "2022-04-21T08:47:07.556Z"
   },
   {
    "duration": 166,
    "start_time": "2022-04-21T08:47:07.729Z"
   },
   {
    "duration": 4,
    "start_time": "2022-04-21T08:47:07.897Z"
   },
   {
    "duration": 5,
    "start_time": "2022-04-21T08:47:07.903Z"
   },
   {
    "duration": 5,
    "start_time": "2022-04-21T08:47:07.922Z"
   },
   {
    "duration": 10,
    "start_time": "2022-04-21T08:47:07.929Z"
   },
   {
    "duration": 166,
    "start_time": "2022-04-21T08:47:07.941Z"
   },
   {
    "duration": 174,
    "start_time": "2022-04-21T08:47:08.109Z"
   },
   {
    "duration": 5,
    "start_time": "2022-04-21T08:47:08.285Z"
   },
   {
    "duration": 4,
    "start_time": "2022-04-21T08:47:08.292Z"
   },
   {
    "duration": 5,
    "start_time": "2022-04-21T08:47:08.298Z"
   },
   {
    "duration": 24,
    "start_time": "2022-04-21T08:47:08.305Z"
   },
   {
    "duration": 471,
    "start_time": "2022-04-21T08:47:08.331Z"
   },
   {
    "duration": 4,
    "start_time": "2022-04-21T08:47:08.804Z"
   },
   {
    "duration": 5,
    "start_time": "2022-04-21T08:47:08.810Z"
   },
   {
    "duration": 12,
    "start_time": "2022-04-21T08:47:08.823Z"
   },
   {
    "duration": 6,
    "start_time": "2022-04-21T08:47:08.837Z"
   },
   {
    "duration": 5,
    "start_time": "2022-04-21T08:47:08.845Z"
   },
   {
    "duration": 23,
    "start_time": "2022-04-21T08:47:08.851Z"
   },
   {
    "duration": 7,
    "start_time": "2022-04-21T08:47:08.876Z"
   },
   {
    "duration": 8,
    "start_time": "2022-04-21T08:47:08.885Z"
   },
   {
    "duration": 8,
    "start_time": "2022-04-21T08:47:08.895Z"
   },
   {
    "duration": 4,
    "start_time": "2022-04-21T08:49:08.841Z"
   },
   {
    "duration": 5,
    "start_time": "2022-04-21T08:49:49.976Z"
   },
   {
    "duration": 24,
    "start_time": "2022-04-21T08:51:48.052Z"
   },
   {
    "duration": 203,
    "start_time": "2022-04-21T09:26:44.067Z"
   },
   {
    "duration": 5,
    "start_time": "2022-04-21T09:30:23.628Z"
   },
   {
    "duration": 6,
    "start_time": "2022-04-21T09:30:40.364Z"
   },
   {
    "duration": 5,
    "start_time": "2022-04-21T09:30:47.579Z"
   },
   {
    "duration": 5,
    "start_time": "2022-04-21T09:30:54.834Z"
   },
   {
    "duration": 96,
    "start_time": "2022-04-21T09:32:49.226Z"
   },
   {
    "duration": 3,
    "start_time": "2022-04-21T09:33:04.599Z"
   },
   {
    "duration": 22,
    "start_time": "2022-04-21T09:33:19.403Z"
   },
   {
    "duration": 13386,
    "start_time": "2022-04-21T09:40:19.521Z"
   },
   {
    "duration": 14,
    "start_time": "2022-04-21T09:40:57.692Z"
   },
   {
    "duration": 283,
    "start_time": "2022-04-21T09:41:17.374Z"
   },
   {
    "duration": 202,
    "start_time": "2022-04-21T09:51:50.733Z"
   },
   {
    "duration": 618,
    "start_time": "2022-04-21T09:54:47.698Z"
   },
   {
    "duration": 38,
    "start_time": "2022-04-21T09:54:48.319Z"
   },
   {
    "duration": 7,
    "start_time": "2022-04-21T09:54:48.358Z"
   },
   {
    "duration": 10,
    "start_time": "2022-04-21T09:54:48.367Z"
   },
   {
    "duration": 96,
    "start_time": "2022-04-21T09:54:48.379Z"
   },
   {
    "duration": 20,
    "start_time": "2022-04-21T09:54:48.477Z"
   },
   {
    "duration": 139,
    "start_time": "2022-04-21T09:54:48.498Z"
   },
   {
    "duration": 22,
    "start_time": "2022-04-21T09:54:48.639Z"
   },
   {
    "duration": 160,
    "start_time": "2022-04-21T09:54:48.663Z"
   },
   {
    "duration": 26,
    "start_time": "2022-04-21T09:54:48.826Z"
   },
   {
    "duration": 92,
    "start_time": "2022-04-21T09:54:48.853Z"
   },
   {
    "duration": 54,
    "start_time": "2022-04-21T09:54:48.947Z"
   },
   {
    "duration": 19,
    "start_time": "2022-04-21T09:54:49.003Z"
   },
   {
    "duration": 11,
    "start_time": "2022-04-21T09:54:49.026Z"
   },
   {
    "duration": 8,
    "start_time": "2022-04-21T09:54:49.039Z"
   },
   {
    "duration": 11,
    "start_time": "2022-04-21T09:54:49.048Z"
   },
   {
    "duration": 9,
    "start_time": "2022-04-21T09:54:49.060Z"
   },
   {
    "duration": 469,
    "start_time": "2022-04-21T09:54:49.071Z"
   },
   {
    "duration": 25,
    "start_time": "2022-04-21T09:54:49.542Z"
   },
   {
    "duration": 23,
    "start_time": "2022-04-21T09:54:49.569Z"
   },
   {
    "duration": 260,
    "start_time": "2022-04-21T09:54:49.594Z"
   },
   {
    "duration": 10,
    "start_time": "2022-04-21T09:54:49.856Z"
   },
   {
    "duration": 202,
    "start_time": "2022-04-21T09:54:49.868Z"
   },
   {
    "duration": 20,
    "start_time": "2022-04-21T09:54:50.072Z"
   },
   {
    "duration": 214,
    "start_time": "2022-04-21T09:54:50.094Z"
   },
   {
    "duration": 153,
    "start_time": "2022-04-21T09:54:50.311Z"
   },
   {
    "duration": 175,
    "start_time": "2022-04-21T09:54:50.466Z"
   },
   {
    "duration": 5,
    "start_time": "2022-04-21T09:54:50.643Z"
   },
   {
    "duration": 156,
    "start_time": "2022-04-21T09:54:50.650Z"
   },
   {
    "duration": 51,
    "start_time": "2022-04-21T09:54:50.807Z"
   },
   {
    "duration": 29,
    "start_time": "2022-04-21T09:54:50.860Z"
   },
   {
    "duration": 4,
    "start_time": "2022-04-21T09:54:50.891Z"
   },
   {
    "duration": 28,
    "start_time": "2022-04-21T09:54:50.897Z"
   },
   {
    "duration": 10,
    "start_time": "2022-04-21T09:54:50.926Z"
   },
   {
    "duration": 15,
    "start_time": "2022-04-21T09:54:50.938Z"
   },
   {
    "duration": 51,
    "start_time": "2022-04-21T09:54:50.954Z"
   },
   {
    "duration": 3,
    "start_time": "2022-04-21T09:54:51.007Z"
   },
   {
    "duration": 48,
    "start_time": "2022-04-21T09:54:51.012Z"
   },
   {
    "duration": 4,
    "start_time": "2022-04-21T09:54:51.061Z"
   },
   {
    "duration": 47,
    "start_time": "2022-04-21T09:54:51.067Z"
   },
   {
    "duration": 4,
    "start_time": "2022-04-21T09:54:51.120Z"
   },
   {
    "duration": 82,
    "start_time": "2022-04-21T09:54:51.126Z"
   },
   {
    "duration": 4,
    "start_time": "2022-04-21T09:54:51.210Z"
   },
   {
    "duration": 36,
    "start_time": "2022-04-21T09:54:51.216Z"
   },
   {
    "duration": 8,
    "start_time": "2022-04-21T09:54:51.254Z"
   },
   {
    "duration": 14,
    "start_time": "2022-04-21T09:54:51.264Z"
   },
   {
    "duration": 20,
    "start_time": "2022-04-21T09:54:51.280Z"
   },
   {
    "duration": 19,
    "start_time": "2022-04-21T09:54:51.302Z"
   },
   {
    "duration": 273,
    "start_time": "2022-04-21T09:54:51.323Z"
   },
   {
    "duration": 3,
    "start_time": "2022-04-21T09:54:51.598Z"
   },
   {
    "duration": 20,
    "start_time": "2022-04-21T09:54:51.603Z"
   },
   {
    "duration": 128,
    "start_time": "2022-04-21T09:54:51.625Z"
   },
   {
    "duration": 120,
    "start_time": "2022-04-21T09:54:51.755Z"
   },
   {
    "duration": 8,
    "start_time": "2022-04-21T09:54:51.877Z"
   },
   {
    "duration": 202,
    "start_time": "2022-04-21T09:54:51.887Z"
   },
   {
    "duration": 153,
    "start_time": "2022-04-21T09:54:52.091Z"
   },
   {
    "duration": 181,
    "start_time": "2022-04-21T09:54:52.246Z"
   },
   {
    "duration": 5,
    "start_time": "2022-04-21T09:54:52.428Z"
   },
   {
    "duration": 19,
    "start_time": "2022-04-21T09:54:52.435Z"
   },
   {
    "duration": 22,
    "start_time": "2022-04-21T09:54:52.456Z"
   },
   {
    "duration": 16,
    "start_time": "2022-04-21T09:54:52.479Z"
   },
   {
    "duration": 165,
    "start_time": "2022-04-21T09:54:52.496Z"
   },
   {
    "duration": 160,
    "start_time": "2022-04-21T09:54:52.662Z"
   },
   {
    "duration": 5,
    "start_time": "2022-04-21T09:54:52.825Z"
   },
   {
    "duration": 6,
    "start_time": "2022-04-21T09:54:52.832Z"
   },
   {
    "duration": 7,
    "start_time": "2022-04-21T09:54:52.839Z"
   },
   {
    "duration": 9,
    "start_time": "2022-04-21T09:54:52.848Z"
   },
   {
    "duration": 167,
    "start_time": "2022-04-21T09:54:52.858Z"
   },
   {
    "duration": 167,
    "start_time": "2022-04-21T09:54:53.027Z"
   },
   {
    "duration": 5,
    "start_time": "2022-04-21T09:54:53.195Z"
   },
   {
    "duration": 23,
    "start_time": "2022-04-21T09:54:53.202Z"
   },
   {
    "duration": 12,
    "start_time": "2022-04-21T09:54:53.228Z"
   },
   {
    "duration": 16,
    "start_time": "2022-04-21T09:54:53.242Z"
   },
   {
    "duration": 475,
    "start_time": "2022-04-21T09:54:53.260Z"
   },
   {
    "duration": 5,
    "start_time": "2022-04-21T09:54:53.736Z"
   },
   {
    "duration": 8,
    "start_time": "2022-04-21T09:54:53.743Z"
   },
   {
    "duration": 6,
    "start_time": "2022-04-21T09:54:53.753Z"
   },
   {
    "duration": 3,
    "start_time": "2022-04-21T09:54:53.762Z"
   },
   {
    "duration": 5,
    "start_time": "2022-04-21T09:54:53.767Z"
   },
   {
    "duration": 17,
    "start_time": "2022-04-21T09:54:53.774Z"
   },
   {
    "duration": 32,
    "start_time": "2022-04-21T09:54:53.793Z"
   },
   {
    "duration": 4,
    "start_time": "2022-04-21T09:54:53.827Z"
   },
   {
    "duration": 9,
    "start_time": "2022-04-21T09:54:53.833Z"
   },
   {
    "duration": 479,
    "start_time": "2022-04-21T09:59:16.682Z"
   },
   {
    "duration": 54,
    "start_time": "2022-04-21T09:59:17.163Z"
   },
   {
    "duration": 8,
    "start_time": "2022-04-21T09:59:17.219Z"
   },
   {
    "duration": 11,
    "start_time": "2022-04-21T09:59:17.230Z"
   },
   {
    "duration": 103,
    "start_time": "2022-04-21T09:59:17.243Z"
   },
   {
    "duration": 19,
    "start_time": "2022-04-21T09:59:17.348Z"
   },
   {
    "duration": 144,
    "start_time": "2022-04-21T09:59:17.368Z"
   },
   {
    "duration": 27,
    "start_time": "2022-04-21T09:59:17.514Z"
   },
   {
    "duration": 156,
    "start_time": "2022-04-21T09:59:17.543Z"
   },
   {
    "duration": 27,
    "start_time": "2022-04-21T09:59:17.703Z"
   },
   {
    "duration": 73,
    "start_time": "2022-04-21T09:59:17.732Z"
   },
   {
    "duration": 69,
    "start_time": "2022-04-21T09:59:17.806Z"
   },
   {
    "duration": 7,
    "start_time": "2022-04-21T09:59:17.877Z"
   },
   {
    "duration": 11,
    "start_time": "2022-04-21T09:59:17.886Z"
   },
   {
    "duration": 33,
    "start_time": "2022-04-21T09:59:17.898Z"
   },
   {
    "duration": 11,
    "start_time": "2022-04-21T09:59:17.933Z"
   },
   {
    "duration": 11,
    "start_time": "2022-04-21T09:59:17.946Z"
   },
   {
    "duration": 477,
    "start_time": "2022-04-21T09:59:17.959Z"
   },
   {
    "duration": 26,
    "start_time": "2022-04-21T09:59:18.438Z"
   },
   {
    "duration": 22,
    "start_time": "2022-04-21T09:59:18.466Z"
   },
   {
    "duration": 257,
    "start_time": "2022-04-21T09:59:18.490Z"
   },
   {
    "duration": 10,
    "start_time": "2022-04-21T09:59:18.749Z"
   },
   {
    "duration": 217,
    "start_time": "2022-04-21T09:59:18.760Z"
   },
   {
    "duration": 21,
    "start_time": "2022-04-21T09:59:18.979Z"
   },
   {
    "duration": 228,
    "start_time": "2022-04-21T09:59:19.002Z"
   },
   {
    "duration": 149,
    "start_time": "2022-04-21T09:59:19.232Z"
   },
   {
    "duration": 173,
    "start_time": "2022-04-21T09:59:19.382Z"
   },
   {
    "duration": 4,
    "start_time": "2022-04-21T09:59:19.560Z"
   },
   {
    "duration": 171,
    "start_time": "2022-04-21T09:59:19.566Z"
   },
   {
    "duration": 51,
    "start_time": "2022-04-21T09:59:19.739Z"
   },
   {
    "duration": 34,
    "start_time": "2022-04-21T09:59:19.792Z"
   },
   {
    "duration": 5,
    "start_time": "2022-04-21T09:59:19.828Z"
   },
   {
    "duration": 21,
    "start_time": "2022-04-21T09:59:19.834Z"
   },
   {
    "duration": 31,
    "start_time": "2022-04-21T09:59:19.857Z"
   },
   {
    "duration": 18,
    "start_time": "2022-04-21T09:59:19.890Z"
   },
   {
    "duration": 61,
    "start_time": "2022-04-21T09:59:19.909Z"
   },
   {
    "duration": 4,
    "start_time": "2022-04-21T09:59:19.971Z"
   },
   {
    "duration": 66,
    "start_time": "2022-04-21T09:59:19.976Z"
   },
   {
    "duration": 3,
    "start_time": "2022-04-21T09:59:20.044Z"
   },
   {
    "duration": 61,
    "start_time": "2022-04-21T09:59:20.048Z"
   },
   {
    "duration": 4,
    "start_time": "2022-04-21T09:59:20.111Z"
   },
   {
    "duration": 94,
    "start_time": "2022-04-21T09:59:20.116Z"
   },
   {
    "duration": 5,
    "start_time": "2022-04-21T09:59:20.211Z"
   },
   {
    "duration": 43,
    "start_time": "2022-04-21T09:59:20.217Z"
   },
   {
    "duration": 10,
    "start_time": "2022-04-21T09:59:20.261Z"
   },
   {
    "duration": 28,
    "start_time": "2022-04-21T09:59:20.273Z"
   },
   {
    "duration": 24,
    "start_time": "2022-04-21T09:59:20.302Z"
   },
   {
    "duration": 13,
    "start_time": "2022-04-21T09:59:20.328Z"
   },
   {
    "duration": 284,
    "start_time": "2022-04-21T09:59:20.343Z"
   },
   {
    "duration": 3,
    "start_time": "2022-04-21T09:59:20.628Z"
   },
   {
    "duration": 17,
    "start_time": "2022-04-21T09:59:20.633Z"
   },
   {
    "duration": 123,
    "start_time": "2022-04-21T09:59:20.652Z"
   },
   {
    "duration": 159,
    "start_time": "2022-04-21T09:59:20.777Z"
   },
   {
    "duration": 7,
    "start_time": "2022-04-21T09:59:20.938Z"
   },
   {
    "duration": 300,
    "start_time": "2022-04-21T09:59:20.947Z"
   },
   {
    "duration": 158,
    "start_time": "2022-04-21T09:59:21.248Z"
   },
   {
    "duration": 159,
    "start_time": "2022-04-21T09:59:21.408Z"
   },
   {
    "duration": 5,
    "start_time": "2022-04-21T09:59:21.568Z"
   },
   {
    "duration": 22,
    "start_time": "2022-04-21T09:59:21.574Z"
   },
   {
    "duration": 18,
    "start_time": "2022-04-21T09:59:21.598Z"
   },
   {
    "duration": 30,
    "start_time": "2022-04-21T09:59:21.618Z"
   },
   {
    "duration": 170,
    "start_time": "2022-04-21T09:59:21.650Z"
   },
   {
    "duration": 154,
    "start_time": "2022-04-21T09:59:21.822Z"
   },
   {
    "duration": 4,
    "start_time": "2022-04-21T09:59:21.978Z"
   },
   {
    "duration": 26,
    "start_time": "2022-04-21T09:59:21.984Z"
   },
   {
    "duration": 26,
    "start_time": "2022-04-21T09:59:22.012Z"
   },
   {
    "duration": 32,
    "start_time": "2022-04-21T09:59:22.040Z"
   },
   {
    "duration": 156,
    "start_time": "2022-04-21T09:59:22.074Z"
   },
   {
    "duration": 162,
    "start_time": "2022-04-21T09:59:22.232Z"
   },
   {
    "duration": 4,
    "start_time": "2022-04-21T09:59:22.396Z"
   },
   {
    "duration": 10,
    "start_time": "2022-04-21T09:59:22.402Z"
   },
   {
    "duration": 12,
    "start_time": "2022-04-21T09:59:22.414Z"
   },
   {
    "duration": 23,
    "start_time": "2022-04-21T09:59:22.427Z"
   },
   {
    "duration": 470,
    "start_time": "2022-04-21T09:59:22.452Z"
   },
   {
    "duration": 4,
    "start_time": "2022-04-21T09:59:22.924Z"
   },
   {
    "duration": 14,
    "start_time": "2022-04-21T09:59:22.930Z"
   },
   {
    "duration": 18,
    "start_time": "2022-04-21T09:59:22.946Z"
   },
   {
    "duration": 10,
    "start_time": "2022-04-21T09:59:22.965Z"
   },
   {
    "duration": 18,
    "start_time": "2022-04-21T09:59:22.976Z"
   },
   {
    "duration": 17,
    "start_time": "2022-04-21T09:59:22.995Z"
   },
   {
    "duration": 15,
    "start_time": "2022-04-21T09:59:23.013Z"
   },
   {
    "duration": 14,
    "start_time": "2022-04-21T09:59:23.033Z"
   },
   {
    "duration": 9,
    "start_time": "2022-04-21T09:59:23.049Z"
   },
   {
    "duration": 73,
    "start_time": "2022-04-22T08:29:48.599Z"
   },
   {
    "duration": 576,
    "start_time": "2022-04-22T08:29:56.277Z"
   },
   {
    "duration": 43,
    "start_time": "2022-04-22T08:29:59.317Z"
   },
   {
    "duration": 11,
    "start_time": "2022-04-22T08:30:00.477Z"
   },
   {
    "duration": 16,
    "start_time": "2022-04-22T08:30:01.638Z"
   },
   {
    "duration": 168,
    "start_time": "2022-04-22T08:30:06.517Z"
   },
   {
    "duration": 37,
    "start_time": "2022-04-22T08:30:07.478Z"
   },
   {
    "duration": 259,
    "start_time": "2022-04-22T08:30:13.877Z"
   },
   {
    "duration": 29,
    "start_time": "2022-04-22T08:30:17.356Z"
   },
   {
    "duration": 191,
    "start_time": "2022-04-22T08:31:25.251Z"
   },
   {
    "duration": 238,
    "start_time": "2022-04-22T08:31:38.228Z"
   },
   {
    "duration": 50,
    "start_time": "2022-04-22T08:31:38.879Z"
   },
   {
    "duration": 458,
    "start_time": "2022-04-22T08:35:47.328Z"
   },
   {
    "duration": 6,
    "start_time": "2022-04-22T08:37:49.569Z"
   },
   {
    "duration": 14,
    "start_time": "2022-04-22T08:38:02.130Z"
   },
   {
    "duration": 11,
    "start_time": "2022-04-22T08:38:19.647Z"
   },
   {
    "duration": 13,
    "start_time": "2022-04-22T08:38:20.689Z"
   },
   {
    "duration": 19,
    "start_time": "2022-04-22T08:38:28.929Z"
   },
   {
    "duration": 941,
    "start_time": "2022-04-22T08:39:51.569Z"
   },
   {
    "duration": 306,
    "start_time": "2022-04-22T08:51:10.524Z"
   },
   {
    "duration": 287,
    "start_time": "2022-04-22T08:55:42.938Z"
   },
   {
    "duration": 493,
    "start_time": "2022-04-22T08:55:53.447Z"
   },
   {
    "duration": 493,
    "start_time": "2022-04-22T08:56:05.089Z"
   },
   {
    "duration": 351,
    "start_time": "2022-04-22T08:56:43.807Z"
   },
   {
    "duration": 364,
    "start_time": "2022-04-22T08:57:58.575Z"
   },
   {
    "duration": 206,
    "start_time": "2022-04-22T08:58:22.017Z"
   },
   {
    "duration": 259,
    "start_time": "2022-04-22T08:58:34.159Z"
   },
   {
    "duration": 527,
    "start_time": "2022-04-22T09:02:35.056Z"
   },
   {
    "duration": 261,
    "start_time": "2022-04-22T09:03:14.877Z"
   },
   {
    "duration": 273,
    "start_time": "2022-04-22T09:04:15.448Z"
   },
   {
    "duration": 36,
    "start_time": "2022-04-22T09:05:19.609Z"
   },
   {
    "duration": 522,
    "start_time": "2022-04-22T09:05:37.516Z"
   },
   {
    "duration": 295,
    "start_time": "2022-04-22T09:06:02.798Z"
   },
   {
    "duration": 174,
    "start_time": "2022-04-22T09:06:37.859Z"
   },
   {
    "duration": 311,
    "start_time": "2022-04-22T09:08:00.239Z"
   },
   {
    "duration": 160,
    "start_time": "2022-04-22T09:08:21.117Z"
   },
   {
    "duration": 389,
    "start_time": "2022-04-22T09:09:14.360Z"
   },
   {
    "duration": 1065,
    "start_time": "2022-04-22T09:20:55.123Z"
   },
   {
    "duration": 27,
    "start_time": "2022-04-22T09:21:50.533Z"
   },
   {
    "duration": 33,
    "start_time": "2022-04-22T09:25:41.858Z"
   },
   {
    "duration": 369,
    "start_time": "2022-04-22T09:25:50.016Z"
   },
   {
    "duration": 440,
    "start_time": "2022-04-22T09:26:28.685Z"
   },
   {
    "duration": 353,
    "start_time": "2022-04-22T09:26:55.069Z"
   },
   {
    "duration": 515,
    "start_time": "2022-04-22T09:27:37.553Z"
   },
   {
    "duration": 518,
    "start_time": "2022-04-22T09:27:56.807Z"
   },
   {
    "duration": 220,
    "start_time": "2022-04-22T09:28:30.815Z"
   },
   {
    "duration": 35,
    "start_time": "2022-04-22T09:29:26.347Z"
   },
   {
    "duration": 171,
    "start_time": "2022-04-22T09:29:29.548Z"
   },
   {
    "duration": 633,
    "start_time": "2022-04-22T09:29:32.188Z"
   },
   {
    "duration": 486,
    "start_time": "2022-04-22T09:29:43.624Z"
   },
   {
    "duration": 364,
    "start_time": "2022-04-22T09:29:53.467Z"
   },
   {
    "duration": 48,
    "start_time": "2022-04-22T09:30:30.025Z"
   },
   {
    "duration": 418,
    "start_time": "2022-04-22T09:30:31.258Z"
   },
   {
    "duration": 415,
    "start_time": "2022-04-22T09:30:33.386Z"
   },
   {
    "duration": 495,
    "start_time": "2022-04-22T09:31:31.145Z"
   },
   {
    "duration": 12,
    "start_time": "2022-04-22T09:31:38.138Z"
   },
   {
    "duration": 373,
    "start_time": "2022-04-22T09:33:28.574Z"
   },
   {
    "duration": 446,
    "start_time": "2022-04-22T09:34:00.940Z"
   },
   {
    "duration": 458,
    "start_time": "2022-04-22T09:34:25.059Z"
   },
   {
    "duration": 34,
    "start_time": "2022-04-22T09:34:33.373Z"
   },
   {
    "duration": 60,
    "start_time": "2022-04-22T09:35:30.491Z"
   },
   {
    "duration": 41,
    "start_time": "2022-04-22T09:35:44.692Z"
   },
   {
    "duration": 17,
    "start_time": "2022-04-22T09:35:46.654Z"
   },
   {
    "duration": 46,
    "start_time": "2022-04-22T09:36:19.841Z"
   },
   {
    "duration": 76,
    "start_time": "2022-04-22T09:36:20.509Z"
   },
   {
    "duration": 9,
    "start_time": "2022-04-22T09:36:20.819Z"
   },
   {
    "duration": 19,
    "start_time": "2022-04-22T09:36:21.199Z"
   },
   {
    "duration": 126,
    "start_time": "2022-04-22T09:36:21.841Z"
   },
   {
    "duration": 27,
    "start_time": "2022-04-22T09:36:22.002Z"
   },
   {
    "duration": 232,
    "start_time": "2022-04-22T09:36:22.548Z"
   },
   {
    "duration": 39,
    "start_time": "2022-04-22T09:36:22.783Z"
   },
   {
    "duration": 246,
    "start_time": "2022-04-22T09:36:23.588Z"
   },
   {
    "duration": 35,
    "start_time": "2022-04-22T09:36:23.837Z"
   },
   {
    "duration": 184,
    "start_time": "2022-04-22T09:36:25.352Z"
   },
   {
    "duration": 80,
    "start_time": "2022-04-22T09:36:25.981Z"
   },
   {
    "duration": 9,
    "start_time": "2022-04-22T09:36:26.547Z"
   },
   {
    "duration": 21,
    "start_time": "2022-04-22T09:36:27.189Z"
   },
   {
    "duration": 12,
    "start_time": "2022-04-22T09:36:28.231Z"
   },
   {
    "duration": 12,
    "start_time": "2022-04-22T09:36:28.469Z"
   },
   {
    "duration": 12,
    "start_time": "2022-04-22T09:36:28.621Z"
   },
   {
    "duration": 263,
    "start_time": "2022-04-22T09:36:29.121Z"
   },
   {
    "duration": 370,
    "start_time": "2022-04-22T09:36:29.387Z"
   },
   {
    "duration": 37,
    "start_time": "2022-04-22T09:36:31.189Z"
   },
   {
    "duration": 27,
    "start_time": "2022-04-22T09:36:32.233Z"
   },
   {
    "duration": 539,
    "start_time": "2022-04-22T09:36:32.792Z"
   },
   {
    "duration": 14,
    "start_time": "2022-04-22T09:36:33.334Z"
   },
   {
    "duration": 674,
    "start_time": "2022-04-22T09:36:34.314Z"
   },
   {
    "duration": 48,
    "start_time": "2022-04-22T09:36:36.322Z"
   },
   {
    "duration": 287,
    "start_time": "2022-04-22T09:36:39.108Z"
   },
   {
    "duration": 488,
    "start_time": "2022-04-22T09:39:22.109Z"
   },
   {
    "duration": 191,
    "start_time": "2022-04-22T09:40:06.818Z"
   },
   {
    "duration": 259,
    "start_time": "2022-04-22T09:41:04.289Z"
   },
   {
    "duration": 190,
    "start_time": "2022-04-22T09:41:59.330Z"
   },
   {
    "duration": 218,
    "start_time": "2022-04-22T09:42:58.891Z"
   },
   {
    "duration": 201,
    "start_time": "2022-04-22T09:43:29.423Z"
   },
   {
    "duration": 253,
    "start_time": "2022-04-22T09:43:54.610Z"
   },
   {
    "duration": 347,
    "start_time": "2022-04-22T09:44:33.330Z"
   },
   {
    "duration": 382,
    "start_time": "2022-04-22T09:45:28.134Z"
   },
   {
    "duration": 276,
    "start_time": "2022-04-22T09:46:21.172Z"
   },
   {
    "duration": 453,
    "start_time": "2022-04-22T09:46:39.123Z"
   },
   {
    "duration": 279,
    "start_time": "2022-04-22T09:46:44.774Z"
   },
   {
    "duration": 447,
    "start_time": "2022-04-22T09:48:36.062Z"
   },
   {
    "duration": 7,
    "start_time": "2022-04-22T09:48:49.650Z"
   },
   {
    "duration": 246,
    "start_time": "2022-04-22T09:48:50.929Z"
   },
   {
    "duration": 331,
    "start_time": "2022-04-22T09:49:39.487Z"
   },
   {
    "duration": 358,
    "start_time": "2022-04-22T09:50:00.414Z"
   },
   {
    "duration": 293,
    "start_time": "2022-04-22T09:50:08.445Z"
   },
   {
    "duration": 260,
    "start_time": "2022-04-22T09:50:15.245Z"
   },
   {
    "duration": 70,
    "start_time": "2022-04-22T09:50:26.842Z"
   },
   {
    "duration": 49,
    "start_time": "2022-04-22T09:50:31.723Z"
   },
   {
    "duration": 9,
    "start_time": "2022-04-22T09:50:32.183Z"
   },
   {
    "duration": 23,
    "start_time": "2022-04-22T09:50:32.607Z"
   },
   {
    "duration": 7,
    "start_time": "2022-04-22T09:50:34.525Z"
   },
   {
    "duration": 6,
    "start_time": "2022-04-22T09:50:35.843Z"
   },
   {
    "duration": 68,
    "start_time": "2022-04-22T09:59:07.168Z"
   },
   {
    "duration": 66,
    "start_time": "2022-04-22T09:59:07.917Z"
   },
   {
    "duration": 8,
    "start_time": "2022-04-22T09:59:08.256Z"
   },
   {
    "duration": 15,
    "start_time": "2022-04-22T09:59:08.715Z"
   },
   {
    "duration": 6,
    "start_time": "2022-04-22T09:59:10.815Z"
   },
   {
    "duration": 44,
    "start_time": "2022-04-22T09:59:11.436Z"
   },
   {
    "duration": 19,
    "start_time": "2022-04-22T10:00:29.960Z"
   },
   {
    "duration": 21,
    "start_time": "2022-04-22T10:00:43.019Z"
   },
   {
    "duration": 22,
    "start_time": "2022-04-22T10:01:07.078Z"
   },
   {
    "duration": 45,
    "start_time": "2022-04-22T10:01:12.661Z"
   },
   {
    "duration": 31,
    "start_time": "2022-04-22T10:01:25.902Z"
   },
   {
    "duration": 64,
    "start_time": "2022-04-22T10:01:35.115Z"
   },
   {
    "duration": 17,
    "start_time": "2022-04-22T10:07:36.295Z"
   },
   {
    "duration": 12,
    "start_time": "2022-04-22T10:11:08.377Z"
   },
   {
    "duration": 13,
    "start_time": "2022-04-22T10:11:24.919Z"
   },
   {
    "duration": 6,
    "start_time": "2022-04-22T10:13:11.722Z"
   },
   {
    "duration": 4122,
    "start_time": "2022-04-22T10:15:41.147Z"
   },
   {
    "duration": 5,
    "start_time": "2022-04-22T10:15:45.271Z"
   },
   {
    "duration": 3917,
    "start_time": "2022-04-22T10:15:45.730Z"
   },
   {
    "duration": 9,
    "start_time": "2022-04-22T10:18:50.501Z"
   },
   {
    "duration": 3813,
    "start_time": "2022-04-22T10:18:51.335Z"
   },
   {
    "duration": 7,
    "start_time": "2022-04-22T10:24:16.553Z"
   },
   {
    "duration": 19229,
    "start_time": "2022-04-22T10:24:18.236Z"
   },
   {
    "duration": 0,
    "start_time": "2022-04-22T10:24:37.468Z"
   },
   {
    "duration": 0,
    "start_time": "2022-04-22T10:24:37.471Z"
   },
   {
    "duration": 18386,
    "start_time": "2022-04-22T10:25:04.121Z"
   },
   {
    "duration": 0,
    "start_time": "2022-04-22T10:25:22.510Z"
   },
   {
    "duration": 0,
    "start_time": "2022-04-22T10:25:22.512Z"
   },
   {
    "duration": 8,
    "start_time": "2022-04-22T10:25:38.633Z"
   },
   {
    "duration": 12,
    "start_time": "2022-04-22T10:25:39.865Z"
   },
   {
    "duration": 14,
    "start_time": "2022-04-22T10:26:57.594Z"
   },
   {
    "duration": 11,
    "start_time": "2022-04-22T10:27:24.102Z"
   },
   {
    "duration": 3861,
    "start_time": "2022-04-22T10:27:25.847Z"
   },
   {
    "duration": 13,
    "start_time": "2022-04-22T10:27:29.711Z"
   },
   {
    "duration": 17016,
    "start_time": "2022-04-22T10:27:30.017Z"
   },
   {
    "duration": 0,
    "start_time": "2022-04-22T10:27:47.036Z"
   },
   {
    "duration": 0,
    "start_time": "2022-04-22T10:27:47.037Z"
   },
   {
    "duration": 4146,
    "start_time": "2022-04-22T10:28:02.809Z"
   },
   {
    "duration": 0,
    "start_time": "2022-04-22T10:28:06.957Z"
   },
   {
    "duration": 11,
    "start_time": "2022-04-22T10:28:21.318Z"
   },
   {
    "duration": 3892,
    "start_time": "2022-04-22T10:28:24.929Z"
   },
   {
    "duration": 3445,
    "start_time": "2022-04-22T10:28:34.612Z"
   },
   {
    "duration": 0,
    "start_time": "2022-04-22T10:28:38.059Z"
   },
   {
    "duration": 7,
    "start_time": "2022-04-22T10:29:00.343Z"
   },
   {
    "duration": 16218,
    "start_time": "2022-04-22T10:29:02.970Z"
   },
   {
    "duration": 25,
    "start_time": "2022-04-22T10:30:25.638Z"
   },
   {
    "duration": 6,
    "start_time": "2022-04-22T10:30:42.757Z"
   },
   {
    "duration": 26,
    "start_time": "2022-04-22T10:30:43.806Z"
   },
   {
    "duration": 5,
    "start_time": "2022-04-22T10:31:30.757Z"
   },
   {
    "duration": 4067,
    "start_time": "2022-04-22T10:31:32.467Z"
   },
   {
    "duration": 5,
    "start_time": "2022-04-22T10:31:37.520Z"
   },
   {
    "duration": 4215,
    "start_time": "2022-04-22T10:31:38.278Z"
   },
   {
    "duration": 7,
    "start_time": "2022-04-22T10:31:42.501Z"
   },
   {
    "duration": 3812,
    "start_time": "2022-04-22T10:31:42.510Z"
   },
   {
    "duration": 6,
    "start_time": "2022-04-22T10:31:46.325Z"
   },
   {
    "duration": 35,
    "start_time": "2022-04-22T10:31:46.334Z"
   },
   {
    "duration": 19056,
    "start_time": "2022-04-22T10:40:29.513Z"
   },
   {
    "duration": 31,
    "start_time": "2022-04-22T10:44:17.991Z"
   },
   {
    "duration": 16,
    "start_time": "2022-04-22T10:47:12.313Z"
   },
   {
    "duration": 30,
    "start_time": "2022-04-22T10:48:53.026Z"
   },
   {
    "duration": 15,
    "start_time": "2022-04-22T10:48:53.469Z"
   },
   {
    "duration": 48,
    "start_time": "2022-04-22T10:50:13.181Z"
   },
   {
    "duration": 62,
    "start_time": "2022-04-22T10:50:50.707Z"
   },
   {
    "duration": 14,
    "start_time": "2022-04-22T10:52:10.263Z"
   },
   {
    "duration": 5,
    "start_time": "2022-04-22T10:52:11.581Z"
   },
   {
    "duration": 3755,
    "start_time": "2022-04-22T10:52:14.620Z"
   },
   {
    "duration": 6,
    "start_time": "2022-04-22T10:52:18.378Z"
   },
   {
    "duration": 3939,
    "start_time": "2022-04-22T10:52:18.393Z"
   },
   {
    "duration": 5,
    "start_time": "2022-04-22T10:52:22.335Z"
   },
   {
    "duration": 5676,
    "start_time": "2022-04-22T10:52:22.344Z"
   },
   {
    "duration": 53,
    "start_time": "2022-04-22T11:09:33.403Z"
   },
   {
    "duration": 52,
    "start_time": "2022-04-22T11:10:43.044Z"
   },
   {
    "duration": 5,
    "start_time": "2022-04-22T11:10:45.805Z"
   },
   {
    "duration": 3761,
    "start_time": "2022-04-22T11:10:50.485Z"
   },
   {
    "duration": 5,
    "start_time": "2022-04-22T11:10:54.249Z"
   },
   {
    "duration": 11,
    "start_time": "2022-04-22T11:11:27.665Z"
   },
   {
    "duration": 50,
    "start_time": "2022-04-22T11:11:48.685Z"
   },
   {
    "duration": 81,
    "start_time": "2022-04-22T11:12:28.946Z"
   },
   {
    "duration": 62,
    "start_time": "2022-04-22T11:12:43.044Z"
   },
   {
    "duration": 23,
    "start_time": "2022-04-22T11:14:15.566Z"
   },
   {
    "duration": 51,
    "start_time": "2022-04-22T11:15:49.811Z"
   },
   {
    "duration": 18,
    "start_time": "2022-04-22T11:18:30.504Z"
   },
   {
    "duration": 19,
    "start_time": "2022-04-22T11:20:55.115Z"
   },
   {
    "duration": 207,
    "start_time": "2022-04-22T11:23:16.236Z"
   },
   {
    "duration": 16,
    "start_time": "2022-04-22T11:24:10.927Z"
   },
   {
    "duration": 11,
    "start_time": "2022-04-22T11:24:51.195Z"
   },
   {
    "duration": 50,
    "start_time": "2022-04-22T11:25:08.956Z"
   },
   {
    "duration": 18,
    "start_time": "2022-04-22T11:25:23.555Z"
   },
   {
    "duration": 21,
    "start_time": "2022-04-22T11:25:52.638Z"
   },
   {
    "duration": 31,
    "start_time": "2022-04-22T11:26:07.435Z"
   },
   {
    "duration": 52,
    "start_time": "2022-04-22T11:26:15.699Z"
   },
   {
    "duration": 9,
    "start_time": "2022-04-22T11:28:09.169Z"
   },
   {
    "duration": 60,
    "start_time": "2022-04-22T11:28:21.981Z"
   },
   {
    "duration": 72,
    "start_time": "2022-04-22T11:28:44.150Z"
   },
   {
    "duration": 19,
    "start_time": "2022-04-22T11:30:10.771Z"
   },
   {
    "duration": 12,
    "start_time": "2022-04-22T11:30:25.810Z"
   },
   {
    "duration": 39,
    "start_time": "2022-04-22T11:30:45.841Z"
   },
   {
    "duration": 17,
    "start_time": "2022-04-22T11:30:49.552Z"
   },
   {
    "duration": 15,
    "start_time": "2022-04-22T11:30:50.690Z"
   },
   {
    "duration": 69,
    "start_time": "2022-04-22T11:30:57.290Z"
   },
   {
    "duration": 45,
    "start_time": "2022-04-22T11:30:57.891Z"
   },
   {
    "duration": 6,
    "start_time": "2022-04-22T11:30:58.173Z"
   },
   {
    "duration": 16,
    "start_time": "2022-04-22T11:30:59.011Z"
   },
   {
    "duration": 15,
    "start_time": "2022-04-22T11:31:13.174Z"
   },
   {
    "duration": 10,
    "start_time": "2022-04-22T11:31:16.973Z"
   },
   {
    "duration": 15,
    "start_time": "2022-04-22T11:31:19.332Z"
   },
   {
    "duration": 20,
    "start_time": "2022-04-22T11:31:58.804Z"
   },
   {
    "duration": 823,
    "start_time": "2022-04-22T11:34:11.022Z"
   },
   {
    "duration": 39,
    "start_time": "2022-04-22T11:34:42.692Z"
   },
   {
    "duration": 37,
    "start_time": "2022-04-22T11:35:51.812Z"
   },
   {
    "duration": 5,
    "start_time": "2022-04-22T11:37:20.533Z"
   },
   {
    "duration": 5789,
    "start_time": "2022-04-22T11:37:23.972Z"
   },
   {
    "duration": 5,
    "start_time": "2022-04-22T11:37:56.803Z"
   },
   {
    "duration": 5750,
    "start_time": "2022-04-22T11:37:59.049Z"
   },
   {
    "duration": 5,
    "start_time": "2022-04-22T11:38:23.490Z"
   },
   {
    "duration": 6377,
    "start_time": "2022-04-22T11:38:24.856Z"
   },
   {
    "duration": 7,
    "start_time": "2022-04-22T11:39:42.182Z"
   },
   {
    "duration": 8,
    "start_time": "2022-04-22T11:48:14.213Z"
   },
   {
    "duration": 25628,
    "start_time": "2022-04-22T11:48:15.011Z"
   },
   {
    "duration": 255,
    "start_time": "2022-04-22T12:05:50.931Z"
   },
   {
    "duration": 267,
    "start_time": "2022-04-22T12:06:24.001Z"
   },
   {
    "duration": 316,
    "start_time": "2022-04-22T12:13:17.116Z"
   },
   {
    "duration": 480,
    "start_time": "2022-04-22T12:17:27.686Z"
   },
   {
    "duration": 210,
    "start_time": "2022-04-22T12:19:00.207Z"
   },
   {
    "duration": 437,
    "start_time": "2022-04-22T12:23:47.285Z"
   },
   {
    "duration": 310,
    "start_time": "2022-04-22T12:24:39.288Z"
   },
   {
    "duration": 523,
    "start_time": "2022-04-22T12:24:41.049Z"
   },
   {
    "duration": 514,
    "start_time": "2022-04-22T12:30:47.158Z"
   },
   {
    "duration": 435,
    "start_time": "2022-04-22T12:32:14.806Z"
   },
   {
    "duration": 342,
    "start_time": "2022-04-22T12:36:39.929Z"
   },
   {
    "duration": 333,
    "start_time": "2022-04-22T12:38:15.370Z"
   },
   {
    "duration": 291,
    "start_time": "2022-04-22T12:40:46.727Z"
   },
   {
    "duration": 338,
    "start_time": "2022-04-22T12:41:23.689Z"
   },
   {
    "duration": 276,
    "start_time": "2022-04-22T12:41:58.477Z"
   },
   {
    "duration": 207,
    "start_time": "2022-04-22T12:48:39.323Z"
   },
   {
    "duration": 55,
    "start_time": "2022-04-22T13:05:45.676Z"
   },
   {
    "duration": 19,
    "start_time": "2022-04-22T13:06:29.364Z"
   },
   {
    "duration": 103,
    "start_time": "2022-04-22T13:07:27.431Z"
   },
   {
    "duration": 811,
    "start_time": "2022-04-22T13:21:04.052Z"
   },
   {
    "duration": 326,
    "start_time": "2022-04-22T13:22:52.134Z"
   },
   {
    "duration": 762,
    "start_time": "2022-04-22T13:23:19.992Z"
   },
   {
    "duration": 313,
    "start_time": "2022-04-22T13:36:06.831Z"
   },
   {
    "duration": 325,
    "start_time": "2022-04-22T13:36:25.846Z"
   },
   {
    "duration": 753,
    "start_time": "2022-04-22T13:36:57.526Z"
   },
   {
    "duration": 325,
    "start_time": "2022-04-22T13:37:20.949Z"
   },
   {
    "duration": 509,
    "start_time": "2022-04-22T13:41:22.745Z"
   },
   {
    "duration": 528,
    "start_time": "2022-04-22T13:41:54.556Z"
   },
   {
    "duration": 525,
    "start_time": "2022-04-22T13:46:16.920Z"
   },
   {
    "duration": 476,
    "start_time": "2022-04-22T13:46:50.878Z"
   },
   {
    "duration": 356,
    "start_time": "2022-04-22T13:47:01.415Z"
   },
   {
    "duration": 206,
    "start_time": "2022-04-22T13:47:59.788Z"
   },
   {
    "duration": 203,
    "start_time": "2022-04-22T13:48:32.527Z"
   },
   {
    "duration": 202,
    "start_time": "2022-04-22T13:49:16.589Z"
   },
   {
    "duration": 810,
    "start_time": "2022-04-22T13:50:13.476Z"
   },
   {
    "duration": 774,
    "start_time": "2022-04-22T13:50:50.474Z"
   },
   {
    "duration": 929,
    "start_time": "2022-04-22T13:51:39.355Z"
   },
   {
    "duration": 798,
    "start_time": "2022-04-22T13:53:51.037Z"
   },
   {
    "duration": 1480,
    "start_time": "2022-04-22T13:54:58.620Z"
   },
   {
    "duration": 807,
    "start_time": "2022-04-22T14:02:49.435Z"
   },
   {
    "duration": 14,
    "start_time": "2022-04-22T14:20:09.681Z"
   },
   {
    "duration": 11,
    "start_time": "2022-04-22T14:20:25.362Z"
   },
   {
    "duration": 7,
    "start_time": "2022-04-22T14:20:39.010Z"
   },
   {
    "duration": 6,
    "start_time": "2022-04-22T14:20:39.342Z"
   },
   {
    "duration": 7,
    "start_time": "2022-04-22T14:20:39.622Z"
   },
   {
    "duration": 14,
    "start_time": "2022-04-22T14:20:39.868Z"
   },
   {
    "duration": 7,
    "start_time": "2022-04-22T14:20:40.561Z"
   },
   {
    "duration": 6,
    "start_time": "2022-04-22T14:20:40.824Z"
   },
   {
    "duration": 8,
    "start_time": "2022-04-22T14:20:41.041Z"
   },
   {
    "duration": 14,
    "start_time": "2022-04-22T14:20:41.303Z"
   },
   {
    "duration": 7,
    "start_time": "2022-04-22T14:20:42.166Z"
   },
   {
    "duration": 6,
    "start_time": "2022-04-22T14:20:42.425Z"
   },
   {
    "duration": 8,
    "start_time": "2022-04-22T14:20:42.704Z"
   },
   {
    "duration": 14,
    "start_time": "2022-04-22T14:20:42.961Z"
   },
   {
    "duration": 15,
    "start_time": "2022-04-22T14:20:43.203Z"
   },
   {
    "duration": 14,
    "start_time": "2022-04-22T14:23:38.481Z"
   },
   {
    "duration": 3560,
    "start_time": "2022-04-22T14:26:11.081Z"
   },
   {
    "duration": 10,
    "start_time": "2022-04-22T14:26:26.481Z"
   },
   {
    "duration": 3999,
    "start_time": "2022-04-22T14:26:26.824Z"
   },
   {
    "duration": 215,
    "start_time": "2022-04-22T14:26:39.923Z"
   },
   {
    "duration": 241,
    "start_time": "2022-04-22T14:26:48.801Z"
   },
   {
    "duration": 28,
    "start_time": "2022-04-22T14:31:24.637Z"
   },
   {
    "duration": 879,
    "start_time": "2022-04-22T14:35:17.557Z"
   },
   {
    "duration": 308,
    "start_time": "2022-04-22T14:36:58.741Z"
   },
   {
    "duration": 210,
    "start_time": "2022-04-22T14:39:17.859Z"
   },
   {
    "duration": 1468,
    "start_time": "2022-04-22T17:39:11.334Z"
   },
   {
    "duration": 39,
    "start_time": "2022-04-22T17:39:13.087Z"
   },
   {
    "duration": 9,
    "start_time": "2022-04-22T17:39:14.208Z"
   },
   {
    "duration": 13,
    "start_time": "2022-04-22T17:39:15.056Z"
   },
   {
    "duration": 122,
    "start_time": "2022-04-22T17:39:16.974Z"
   },
   {
    "duration": 29,
    "start_time": "2022-04-22T17:39:17.325Z"
   },
   {
    "duration": 183,
    "start_time": "2022-04-22T17:39:18.816Z"
   },
   {
    "duration": 27,
    "start_time": "2022-04-22T17:39:19.386Z"
   },
   {
    "duration": 177,
    "start_time": "2022-04-22T17:39:47.054Z"
   },
   {
    "duration": 174,
    "start_time": "2022-04-22T17:40:02.819Z"
   },
   {
    "duration": 178,
    "start_time": "2022-04-22T17:40:56.634Z"
   },
   {
    "duration": 40,
    "start_time": "2022-04-22T17:40:57.034Z"
   },
   {
    "duration": 220,
    "start_time": "2022-04-22T17:41:01.387Z"
   },
   {
    "duration": 43,
    "start_time": "2022-04-22T17:41:01.734Z"
   },
   {
    "duration": 82,
    "start_time": "2022-04-22T17:41:25.636Z"
   },
   {
    "duration": 56,
    "start_time": "2022-04-22T17:41:37.750Z"
   },
   {
    "duration": 8,
    "start_time": "2022-04-22T17:41:49.926Z"
   },
   {
    "duration": 15,
    "start_time": "2022-04-22T17:41:52.055Z"
   },
   {
    "duration": 11,
    "start_time": "2022-04-22T17:41:54.616Z"
   },
   {
    "duration": 10,
    "start_time": "2022-04-22T17:41:54.949Z"
   },
   {
    "duration": 12,
    "start_time": "2022-04-22T17:41:55.226Z"
   },
   {
    "duration": 218,
    "start_time": "2022-04-22T17:41:56.050Z"
   },
   {
    "duration": 271,
    "start_time": "2022-04-22T17:42:17.774Z"
   },
   {
    "duration": 23,
    "start_time": "2022-04-22T17:42:20.815Z"
   },
   {
    "duration": 32,
    "start_time": "2022-04-22T17:42:24.655Z"
   },
   {
    "duration": 255,
    "start_time": "2022-04-22T17:42:25.717Z"
   },
   {
    "duration": 10,
    "start_time": "2022-04-22T17:42:26.324Z"
   },
   {
    "duration": 317,
    "start_time": "2022-04-22T17:42:28.575Z"
   },
   {
    "duration": 25,
    "start_time": "2022-04-22T17:42:32.895Z"
   },
   {
    "duration": 273,
    "start_time": "2022-04-22T17:42:43.085Z"
   },
   {
    "duration": 182,
    "start_time": "2022-04-22T17:42:46.586Z"
   },
   {
    "duration": 204,
    "start_time": "2022-04-22T17:42:47.546Z"
   },
   {
    "duration": 5,
    "start_time": "2022-04-22T17:42:48.626Z"
   },
   {
    "duration": 189,
    "start_time": "2022-04-22T17:42:49.476Z"
   },
   {
    "duration": 67,
    "start_time": "2022-04-22T17:43:08.414Z"
   },
   {
    "duration": 34,
    "start_time": "2022-04-22T17:43:27.057Z"
   },
   {
    "duration": 115,
    "start_time": "2022-04-22T17:44:29.055Z"
   },
   {
    "duration": 253,
    "start_time": "2022-04-22T17:44:59.376Z"
   },
   {
    "duration": 12,
    "start_time": "2022-04-22T17:45:02.657Z"
   },
   {
    "duration": 23,
    "start_time": "2022-04-22T17:45:03.854Z"
   },
   {
    "duration": 263,
    "start_time": "2022-04-22T17:45:04.818Z"
   },
   {
    "duration": 14,
    "start_time": "2022-04-22T17:45:05.348Z"
   },
   {
    "duration": 437,
    "start_time": "2022-04-22T17:45:06.216Z"
   },
   {
    "duration": 22,
    "start_time": "2022-04-22T17:45:08.655Z"
   },
   {
    "duration": 198,
    "start_time": "2022-04-22T17:45:12.174Z"
   },
   {
    "duration": 185,
    "start_time": "2022-04-22T17:45:12.977Z"
   },
   {
    "duration": 261,
    "start_time": "2022-04-22T17:45:14.337Z"
   },
   {
    "duration": 5,
    "start_time": "2022-04-22T17:45:20.652Z"
   },
   {
    "duration": 180,
    "start_time": "2022-04-22T17:45:22.496Z"
   },
   {
    "duration": 58,
    "start_time": "2022-04-22T17:45:44.214Z"
   },
   {
    "duration": 35,
    "start_time": "2022-04-22T17:46:01.368Z"
   },
   {
    "duration": 8,
    "start_time": "2022-04-22T17:46:01.695Z"
   },
   {
    "duration": 14,
    "start_time": "2022-04-22T17:46:01.978Z"
   },
   {
    "duration": 8,
    "start_time": "2022-04-22T17:46:03.154Z"
   },
   {
    "duration": 17,
    "start_time": "2022-04-22T17:46:03.451Z"
   },
   {
    "duration": 43,
    "start_time": "2022-04-22T17:46:04.497Z"
   },
   {
    "duration": 8,
    "start_time": "2022-04-22T17:46:06.237Z"
   },
   {
    "duration": 3968,
    "start_time": "2022-04-22T17:46:12.825Z"
   },
   {
    "duration": 4,
    "start_time": "2022-04-22T17:46:18.897Z"
   },
   {
    "duration": 4105,
    "start_time": "2022-04-22T17:46:22.098Z"
   },
   {
    "duration": 5,
    "start_time": "2022-04-22T17:46:26.205Z"
   },
   {
    "duration": 4239,
    "start_time": "2022-04-22T17:46:26.304Z"
   },
   {
    "duration": 7,
    "start_time": "2022-04-22T17:46:30.545Z"
   },
   {
    "duration": 38,
    "start_time": "2022-04-22T17:48:28.177Z"
   },
   {
    "duration": 12,
    "start_time": "2022-04-22T17:49:02.818Z"
   },
   {
    "duration": 47,
    "start_time": "2022-04-22T17:49:03.666Z"
   },
   {
    "duration": 180,
    "start_time": "2022-04-22T17:50:05.776Z"
   },
   {
    "duration": 15,
    "start_time": "2022-04-22T17:50:13.536Z"
   },
   {
    "duration": 8,
    "start_time": "2022-04-22T17:51:23.963Z"
   },
   {
    "duration": 26,
    "start_time": "2022-04-22T17:51:27.214Z"
   },
   {
    "duration": 38,
    "start_time": "2022-04-22T17:52:00.534Z"
   },
   {
    "duration": 9,
    "start_time": "2022-04-22T17:58:23.870Z"
   },
   {
    "duration": 35,
    "start_time": "2022-04-22T17:58:24.920Z"
   },
   {
    "duration": 32,
    "start_time": "2022-04-22T17:58:35.342Z"
   },
   {
    "duration": 10,
    "start_time": "2022-04-22T17:59:26.291Z"
   },
   {
    "duration": 4,
    "start_time": "2022-04-22T18:01:36.829Z"
   },
   {
    "duration": 333,
    "start_time": "2022-04-22T18:01:38.832Z"
   },
   {
    "duration": 7,
    "start_time": "2022-04-22T18:05:32.028Z"
   },
   {
    "duration": 15,
    "start_time": "2022-04-22T18:06:59.155Z"
   },
   {
    "duration": 12,
    "start_time": "2022-04-22T18:10:28.659Z"
   },
   {
    "duration": 41,
    "start_time": "2022-04-22T18:10:51.409Z"
   },
   {
    "duration": 81,
    "start_time": "2022-04-22T18:11:05.310Z"
   },
   {
    "duration": 128,
    "start_time": "2022-04-22T18:11:06.549Z"
   },
   {
    "duration": 6,
    "start_time": "2022-04-22T18:11:07.108Z"
   },
   {
    "duration": 15,
    "start_time": "2022-04-22T18:11:07.950Z"
   },
   {
    "duration": 193,
    "start_time": "2022-04-22T18:11:09.245Z"
   },
   {
    "duration": 8,
    "start_time": "2022-04-22T18:11:17.069Z"
   },
   {
    "duration": 14,
    "start_time": "2022-04-22T18:11:18.960Z"
   },
   {
    "duration": 4,
    "start_time": "2022-04-22T18:13:01.250Z"
   },
   {
    "duration": 2642,
    "start_time": "2022-04-22T18:13:03.629Z"
   },
   {
    "duration": 5,
    "start_time": "2022-04-22T18:13:59.390Z"
   },
   {
    "duration": 2690,
    "start_time": "2022-04-22T18:14:00.268Z"
   },
   {
    "duration": 4,
    "start_time": "2022-04-22T18:14:30.950Z"
   },
   {
    "duration": 2615,
    "start_time": "2022-04-22T18:14:32.590Z"
   },
   {
    "duration": 7,
    "start_time": "2022-04-22T18:16:19.790Z"
   },
   {
    "duration": 11650,
    "start_time": "2022-04-22T18:16:32.288Z"
   },
   {
    "duration": 18,
    "start_time": "2022-04-22T18:22:05.071Z"
   },
   {
    "duration": 62,
    "start_time": "2022-04-22T18:22:28.078Z"
   },
   {
    "duration": 184,
    "start_time": "2022-04-22T18:37:26.627Z"
   },
   {
    "duration": 11455,
    "start_time": "2022-04-22T18:37:28.668Z"
   },
   {
    "duration": 190,
    "start_time": "2022-04-22T18:38:34.430Z"
   },
   {
    "duration": 170,
    "start_time": "2022-04-22T18:38:46.429Z"
   },
   {
    "duration": 185,
    "start_time": "2022-04-22T18:38:55.690Z"
   },
   {
    "duration": 189,
    "start_time": "2022-04-22T18:39:41.789Z"
   },
   {
    "duration": 178,
    "start_time": "2022-04-22T18:47:46.770Z"
   },
   {
    "duration": 1340,
    "start_time": "2022-04-22T19:24:56.946Z"
   },
   {
    "duration": 41,
    "start_time": "2022-04-22T19:24:58.288Z"
   },
   {
    "duration": 9,
    "start_time": "2022-04-22T19:24:58.331Z"
   },
   {
    "duration": 17,
    "start_time": "2022-04-22T19:24:58.342Z"
   },
   {
    "duration": 120,
    "start_time": "2022-04-22T19:24:58.362Z"
   },
   {
    "duration": 21,
    "start_time": "2022-04-22T19:24:58.483Z"
   },
   {
    "duration": 175,
    "start_time": "2022-04-22T19:24:58.506Z"
   },
   {
    "duration": 21,
    "start_time": "2022-04-22T19:24:58.683Z"
   },
   {
    "duration": 174,
    "start_time": "2022-04-22T19:24:58.706Z"
   },
   {
    "duration": 28,
    "start_time": "2022-04-22T19:24:58.881Z"
   },
   {
    "duration": 87,
    "start_time": "2022-04-22T19:24:58.911Z"
   },
   {
    "duration": 68,
    "start_time": "2022-04-22T19:24:59.000Z"
   },
   {
    "duration": 6,
    "start_time": "2022-04-22T19:24:59.069Z"
   },
   {
    "duration": 11,
    "start_time": "2022-04-22T19:24:59.079Z"
   },
   {
    "duration": 11,
    "start_time": "2022-04-22T19:24:59.092Z"
   },
   {
    "duration": 35,
    "start_time": "2022-04-22T19:24:59.105Z"
   },
   {
    "duration": 12,
    "start_time": "2022-04-22T19:24:59.142Z"
   },
   {
    "duration": 217,
    "start_time": "2022-04-22T19:24:59.156Z"
   },
   {
    "duration": 252,
    "start_time": "2022-04-22T19:24:59.375Z"
   },
   {
    "duration": 22,
    "start_time": "2022-04-22T19:24:59.633Z"
   },
   {
    "duration": 31,
    "start_time": "2022-04-22T19:24:59.657Z"
   },
   {
    "duration": 274,
    "start_time": "2022-04-22T19:24:59.690Z"
   },
   {
    "duration": 10,
    "start_time": "2022-04-22T19:24:59.966Z"
   },
   {
    "duration": 339,
    "start_time": "2022-04-22T19:24:59.977Z"
   },
   {
    "duration": 36,
    "start_time": "2022-04-22T19:25:00.318Z"
   },
   {
    "duration": 197,
    "start_time": "2022-04-22T19:25:00.356Z"
   },
   {
    "duration": 265,
    "start_time": "2022-04-22T19:25:00.555Z"
   },
   {
    "duration": 212,
    "start_time": "2022-04-22T19:25:00.822Z"
   },
   {
    "duration": 5,
    "start_time": "2022-04-22T19:25:01.035Z"
   },
   {
    "duration": 198,
    "start_time": "2022-04-22T19:25:01.042Z"
   },
   {
    "duration": 60,
    "start_time": "2022-04-22T19:25:01.242Z"
   },
   {
    "duration": 60,
    "start_time": "2022-04-22T19:25:01.304Z"
   },
   {
    "duration": 6,
    "start_time": "2022-04-22T19:25:01.366Z"
   },
   {
    "duration": 61,
    "start_time": "2022-04-22T19:25:01.374Z"
   },
   {
    "duration": 22,
    "start_time": "2022-04-22T19:25:01.437Z"
   },
   {
    "duration": 32,
    "start_time": "2022-04-22T19:25:01.462Z"
   },
   {
    "duration": 29,
    "start_time": "2022-04-22T19:25:01.497Z"
   },
   {
    "duration": 43,
    "start_time": "2022-04-22T19:25:01.529Z"
   },
   {
    "duration": 2709,
    "start_time": "2022-04-22T19:25:01.574Z"
   },
   {
    "duration": 4,
    "start_time": "2022-04-22T19:25:04.285Z"
   },
   {
    "duration": 2616,
    "start_time": "2022-04-22T19:25:04.295Z"
   },
   {
    "duration": 4,
    "start_time": "2022-04-22T19:25:06.914Z"
   },
   {
    "duration": 2643,
    "start_time": "2022-04-22T19:25:06.920Z"
   },
   {
    "duration": 171,
    "start_time": "2022-04-22T19:25:09.565Z"
   },
   {
    "duration": 0,
    "start_time": "2022-04-22T19:25:09.738Z"
   },
   {
    "duration": 0,
    "start_time": "2022-04-22T19:25:09.740Z"
   },
   {
    "duration": 0,
    "start_time": "2022-04-22T19:25:09.741Z"
   },
   {
    "duration": 0,
    "start_time": "2022-04-22T19:25:09.742Z"
   },
   {
    "duration": 0,
    "start_time": "2022-04-22T19:25:09.743Z"
   },
   {
    "duration": 0,
    "start_time": "2022-04-22T19:25:09.744Z"
   },
   {
    "duration": 0,
    "start_time": "2022-04-22T19:25:09.745Z"
   },
   {
    "duration": 0,
    "start_time": "2022-04-22T19:25:09.746Z"
   },
   {
    "duration": 0,
    "start_time": "2022-04-22T19:25:09.747Z"
   },
   {
    "duration": 0,
    "start_time": "2022-04-22T19:25:09.748Z"
   },
   {
    "duration": 0,
    "start_time": "2022-04-22T19:25:09.749Z"
   },
   {
    "duration": 0,
    "start_time": "2022-04-22T19:25:09.751Z"
   },
   {
    "duration": 0,
    "start_time": "2022-04-22T19:25:09.752Z"
   },
   {
    "duration": 0,
    "start_time": "2022-04-22T19:25:09.754Z"
   },
   {
    "duration": 0,
    "start_time": "2022-04-22T19:25:09.756Z"
   },
   {
    "duration": 0,
    "start_time": "2022-04-22T19:25:09.758Z"
   },
   {
    "duration": 0,
    "start_time": "2022-04-22T19:25:09.759Z"
   },
   {
    "duration": 0,
    "start_time": "2022-04-22T19:25:09.761Z"
   },
   {
    "duration": 0,
    "start_time": "2022-04-22T19:25:09.763Z"
   },
   {
    "duration": 0,
    "start_time": "2022-04-22T19:25:09.764Z"
   },
   {
    "duration": 0,
    "start_time": "2022-04-22T19:25:09.766Z"
   },
   {
    "duration": 0,
    "start_time": "2022-04-22T19:25:09.767Z"
   },
   {
    "duration": 0,
    "start_time": "2022-04-22T19:25:09.768Z"
   },
   {
    "duration": 0,
    "start_time": "2022-04-22T19:25:09.770Z"
   },
   {
    "duration": 0,
    "start_time": "2022-04-22T19:25:09.771Z"
   },
   {
    "duration": 0,
    "start_time": "2022-04-22T19:25:09.773Z"
   },
   {
    "duration": 0,
    "start_time": "2022-04-22T19:25:09.774Z"
   },
   {
    "duration": 0,
    "start_time": "2022-04-22T19:25:09.776Z"
   },
   {
    "duration": 0,
    "start_time": "2022-04-22T19:25:09.834Z"
   },
   {
    "duration": 0,
    "start_time": "2022-04-22T19:25:09.835Z"
   },
   {
    "duration": 0,
    "start_time": "2022-04-22T19:25:09.836Z"
   },
   {
    "duration": 0,
    "start_time": "2022-04-22T19:25:09.837Z"
   },
   {
    "duration": 0,
    "start_time": "2022-04-22T19:25:09.838Z"
   },
   {
    "duration": 0,
    "start_time": "2022-04-22T19:25:09.839Z"
   },
   {
    "duration": 0,
    "start_time": "2022-04-22T19:25:09.841Z"
   },
   {
    "duration": 0,
    "start_time": "2022-04-22T19:25:09.842Z"
   },
   {
    "duration": 0,
    "start_time": "2022-04-22T19:25:09.844Z"
   },
   {
    "duration": 0,
    "start_time": "2022-04-22T19:25:09.845Z"
   },
   {
    "duration": 0,
    "start_time": "2022-04-22T19:25:09.847Z"
   },
   {
    "duration": 0,
    "start_time": "2022-04-22T19:25:09.848Z"
   },
   {
    "duration": 167,
    "start_time": "2022-04-22T19:27:24.225Z"
   },
   {
    "duration": 185,
    "start_time": "2022-04-22T19:27:42.118Z"
   },
   {
    "duration": 4,
    "start_time": "2022-04-22T19:28:07.817Z"
   },
   {
    "duration": 176,
    "start_time": "2022-04-22T19:28:14.437Z"
   },
   {
    "duration": 165,
    "start_time": "2022-04-22T19:28:37.315Z"
   },
   {
    "duration": 176,
    "start_time": "2022-04-22T19:29:11.476Z"
   },
   {
    "duration": 177,
    "start_time": "2022-04-22T19:29:48.517Z"
   },
   {
    "duration": 187,
    "start_time": "2022-04-22T19:31:56.717Z"
   },
   {
    "duration": 7,
    "start_time": "2022-04-22T19:32:58.446Z"
   },
   {
    "duration": 65,
    "start_time": "2022-04-22T19:33:18.041Z"
   },
   {
    "duration": 31,
    "start_time": "2022-04-22T19:33:35.076Z"
   },
   {
    "duration": 12015,
    "start_time": "2022-04-22T19:33:38.118Z"
   },
   {
    "duration": 31,
    "start_time": "2022-04-22T19:42:47.191Z"
   },
   {
    "duration": 6,
    "start_time": "2022-04-22T19:47:49.686Z"
   },
   {
    "duration": 28,
    "start_time": "2022-04-22T19:47:58.259Z"
   },
   {
    "duration": 7,
    "start_time": "2022-04-22T19:49:26.575Z"
   },
   {
    "duration": 69,
    "start_time": "2022-04-22T19:49:27.459Z"
   },
   {
    "duration": 12973,
    "start_time": "2022-04-22T19:49:29.203Z"
   },
   {
    "duration": 52,
    "start_time": "2022-04-22T19:51:58.660Z"
   },
   {
    "duration": 55,
    "start_time": "2022-04-22T19:53:18.694Z"
   },
   {
    "duration": 35,
    "start_time": "2022-04-22T20:03:55.285Z"
   },
   {
    "duration": 42,
    "start_time": "2022-04-22T20:05:41.006Z"
   },
   {
    "duration": 1376,
    "start_time": "2022-04-22T20:06:34.705Z"
   },
   {
    "duration": 36,
    "start_time": "2022-04-22T20:06:36.083Z"
   },
   {
    "duration": 8,
    "start_time": "2022-04-22T20:06:36.121Z"
   },
   {
    "duration": 25,
    "start_time": "2022-04-22T20:06:36.131Z"
   },
   {
    "duration": 137,
    "start_time": "2022-04-22T20:06:36.157Z"
   },
   {
    "duration": 21,
    "start_time": "2022-04-22T20:06:36.296Z"
   },
   {
    "duration": 200,
    "start_time": "2022-04-22T20:06:36.319Z"
   },
   {
    "duration": 38,
    "start_time": "2022-04-22T20:06:36.521Z"
   },
   {
    "duration": 203,
    "start_time": "2022-04-22T20:06:36.561Z"
   },
   {
    "duration": 31,
    "start_time": "2022-04-22T20:06:36.767Z"
   },
   {
    "duration": 106,
    "start_time": "2022-04-22T20:06:36.800Z"
   },
   {
    "duration": 71,
    "start_time": "2022-04-22T20:06:36.908Z"
   },
   {
    "duration": 7,
    "start_time": "2022-04-22T20:06:36.980Z"
   },
   {
    "duration": 14,
    "start_time": "2022-04-22T20:06:36.989Z"
   },
   {
    "duration": 35,
    "start_time": "2022-04-22T20:06:37.004Z"
   },
   {
    "duration": 38,
    "start_time": "2022-04-22T20:06:37.040Z"
   },
   {
    "duration": 17,
    "start_time": "2022-04-22T20:06:37.080Z"
   },
   {
    "duration": 231,
    "start_time": "2022-04-22T20:06:37.099Z"
   },
   {
    "duration": 286,
    "start_time": "2022-04-22T20:06:37.332Z"
   },
   {
    "duration": 38,
    "start_time": "2022-04-22T20:06:37.620Z"
   },
   {
    "duration": 36,
    "start_time": "2022-04-22T20:06:37.660Z"
   },
   {
    "duration": 284,
    "start_time": "2022-04-22T20:06:37.698Z"
   },
   {
    "duration": 12,
    "start_time": "2022-04-22T20:06:37.984Z"
   },
   {
    "duration": 375,
    "start_time": "2022-04-22T20:06:37.997Z"
   },
   {
    "duration": 26,
    "start_time": "2022-04-22T20:06:38.373Z"
   },
   {
    "duration": 229,
    "start_time": "2022-04-22T20:06:38.400Z"
   },
   {
    "duration": 288,
    "start_time": "2022-04-22T20:06:38.632Z"
   },
   {
    "duration": 252,
    "start_time": "2022-04-22T20:06:38.926Z"
   },
   {
    "duration": 5,
    "start_time": "2022-04-22T20:06:39.180Z"
   },
   {
    "duration": 205,
    "start_time": "2022-04-22T20:06:39.187Z"
   },
   {
    "duration": 78,
    "start_time": "2022-04-22T20:06:39.393Z"
   },
   {
    "duration": 49,
    "start_time": "2022-04-22T20:06:39.473Z"
   },
   {
    "duration": 21,
    "start_time": "2022-04-22T20:06:39.524Z"
   },
   {
    "duration": 49,
    "start_time": "2022-04-22T20:06:39.547Z"
   },
   {
    "duration": 58,
    "start_time": "2022-04-22T20:06:39.598Z"
   },
   {
    "duration": 36,
    "start_time": "2022-04-22T20:06:39.657Z"
   },
   {
    "duration": 49,
    "start_time": "2022-04-22T20:06:39.695Z"
   },
   {
    "duration": 7,
    "start_time": "2022-04-22T20:06:39.747Z"
   },
   {
    "duration": 2671,
    "start_time": "2022-04-22T20:06:39.757Z"
   },
   {
    "duration": 4,
    "start_time": "2022-04-22T20:06:42.430Z"
   },
   {
    "duration": 2737,
    "start_time": "2022-04-22T20:06:42.435Z"
   },
   {
    "duration": 4,
    "start_time": "2022-04-22T20:06:45.175Z"
   },
   {
    "duration": 2662,
    "start_time": "2022-04-22T20:06:45.181Z"
   },
   {
    "duration": 7,
    "start_time": "2022-04-22T20:06:47.845Z"
   },
   {
    "duration": 46,
    "start_time": "2022-04-22T20:06:47.854Z"
   },
   {
    "duration": 12663,
    "start_time": "2022-04-22T20:06:47.902Z"
   },
   {
    "duration": 0,
    "start_time": "2022-04-22T20:07:00.571Z"
   },
   {
    "duration": 0,
    "start_time": "2022-04-22T20:07:00.574Z"
   },
   {
    "duration": 0,
    "start_time": "2022-04-22T20:07:00.577Z"
   },
   {
    "duration": 0,
    "start_time": "2022-04-22T20:07:00.578Z"
   },
   {
    "duration": 0,
    "start_time": "2022-04-22T20:07:00.580Z"
   },
   {
    "duration": 0,
    "start_time": "2022-04-22T20:07:00.582Z"
   },
   {
    "duration": 0,
    "start_time": "2022-04-22T20:07:00.584Z"
   },
   {
    "duration": 0,
    "start_time": "2022-04-22T20:07:00.585Z"
   },
   {
    "duration": 0,
    "start_time": "2022-04-22T20:07:00.587Z"
   },
   {
    "duration": 0,
    "start_time": "2022-04-22T20:07:00.588Z"
   },
   {
    "duration": 0,
    "start_time": "2022-04-22T20:07:00.590Z"
   },
   {
    "duration": 0,
    "start_time": "2022-04-22T20:07:00.591Z"
   },
   {
    "duration": 0,
    "start_time": "2022-04-22T20:07:00.593Z"
   },
   {
    "duration": 0,
    "start_time": "2022-04-22T20:07:00.594Z"
   },
   {
    "duration": 0,
    "start_time": "2022-04-22T20:07:00.596Z"
   },
   {
    "duration": 0,
    "start_time": "2022-04-22T20:07:00.597Z"
   },
   {
    "duration": 0,
    "start_time": "2022-04-22T20:07:00.598Z"
   },
   {
    "duration": 0,
    "start_time": "2022-04-22T20:07:00.599Z"
   },
   {
    "duration": 0,
    "start_time": "2022-04-22T20:07:00.601Z"
   },
   {
    "duration": 0,
    "start_time": "2022-04-22T20:07:00.602Z"
   },
   {
    "duration": 0,
    "start_time": "2022-04-22T20:07:00.604Z"
   },
   {
    "duration": 0,
    "start_time": "2022-04-22T20:07:00.605Z"
   },
   {
    "duration": 0,
    "start_time": "2022-04-22T20:07:00.608Z"
   },
   {
    "duration": 0,
    "start_time": "2022-04-22T20:07:00.637Z"
   },
   {
    "duration": 0,
    "start_time": "2022-04-22T20:07:00.638Z"
   },
   {
    "duration": 0,
    "start_time": "2022-04-22T20:07:00.639Z"
   },
   {
    "duration": 0,
    "start_time": "2022-04-22T20:07:00.646Z"
   },
   {
    "duration": 0,
    "start_time": "2022-04-22T20:07:00.647Z"
   },
   {
    "duration": 0,
    "start_time": "2022-04-22T20:07:00.652Z"
   },
   {
    "duration": 0,
    "start_time": "2022-04-22T20:07:00.653Z"
   },
   {
    "duration": 0,
    "start_time": "2022-04-22T20:07:00.658Z"
   },
   {
    "duration": 0,
    "start_time": "2022-04-22T20:07:00.659Z"
   },
   {
    "duration": 0,
    "start_time": "2022-04-22T20:07:00.660Z"
   },
   {
    "duration": 0,
    "start_time": "2022-04-22T20:07:00.663Z"
   },
   {
    "duration": 0,
    "start_time": "2022-04-22T20:07:00.664Z"
   },
   {
    "duration": 0,
    "start_time": "2022-04-22T20:07:00.667Z"
   },
   {
    "duration": 0,
    "start_time": "2022-04-22T20:07:00.669Z"
   },
   {
    "duration": 0,
    "start_time": "2022-04-22T20:07:00.670Z"
   },
   {
    "duration": 7,
    "start_time": "2022-04-22T20:08:09.704Z"
   },
   {
    "duration": 40,
    "start_time": "2022-04-22T20:08:42.623Z"
   },
   {
    "duration": 4,
    "start_time": "2022-04-22T20:13:06.624Z"
   },
   {
    "duration": 4633,
    "start_time": "2022-04-22T20:13:07.982Z"
   },
   {
    "duration": 60,
    "start_time": "2022-04-22T20:13:49.602Z"
   },
   {
    "duration": 4723,
    "start_time": "2022-04-22T20:14:21.372Z"
   },
   {
    "duration": 82,
    "start_time": "2022-04-22T20:14:26.097Z"
   },
   {
    "duration": 62,
    "start_time": "2022-04-22T20:15:02.623Z"
   },
   {
    "duration": 4,
    "start_time": "2022-04-22T20:23:20.804Z"
   },
   {
    "duration": 4830,
    "start_time": "2022-04-22T20:23:22.314Z"
   },
   {
    "duration": 2956,
    "start_time": "2022-04-22T20:24:33.055Z"
   },
   {
    "duration": 5,
    "start_time": "2022-04-22T20:25:13.844Z"
   },
   {
    "duration": 4522,
    "start_time": "2022-04-22T20:25:15.051Z"
   },
   {
    "duration": 7,
    "start_time": "2022-04-22T20:28:03.445Z"
   },
   {
    "duration": 4597,
    "start_time": "2022-04-22T20:28:03.934Z"
   },
   {
    "duration": 7,
    "start_time": "2022-04-22T20:28:08.533Z"
   },
   {
    "duration": 4442,
    "start_time": "2022-04-22T20:28:08.542Z"
   },
   {
    "duration": 5,
    "start_time": "2022-04-22T20:28:12.986Z"
   },
   {
    "duration": 19193,
    "start_time": "2022-04-22T20:28:12.993Z"
   },
   {
    "duration": 354,
    "start_time": "2022-04-22T20:52:36.000Z"
   },
   {
    "duration": 594,
    "start_time": "2022-04-22T20:52:42.719Z"
   },
   {
    "duration": 10,
    "start_time": "2022-04-22T20:53:11.420Z"
   },
   {
    "duration": 11,
    "start_time": "2022-04-22T20:56:34.242Z"
   },
   {
    "duration": 5,
    "start_time": "2022-04-22T20:58:46.320Z"
   },
   {
    "duration": 25,
    "start_time": "2022-04-22T20:58:47.854Z"
   },
   {
    "duration": 5,
    "start_time": "2022-04-22T20:59:54.243Z"
   },
   {
    "duration": 8,
    "start_time": "2022-04-22T21:00:22.043Z"
   },
   {
    "duration": 4585,
    "start_time": "2022-04-22T21:00:26.645Z"
   },
   {
    "duration": 60,
    "start_time": "2022-04-22T21:00:42.319Z"
   },
   {
    "duration": 9,
    "start_time": "2022-04-22T21:01:46.479Z"
   },
   {
    "duration": 5,
    "start_time": "2022-04-22T21:02:19.590Z"
   },
   {
    "duration": 9,
    "start_time": "2022-04-22T21:02:21.441Z"
   },
   {
    "duration": 16,
    "start_time": "2022-04-22T21:18:56.021Z"
   },
   {
    "duration": 4,
    "start_time": "2022-04-22T21:59:33.646Z"
   },
   {
    "duration": 171,
    "start_time": "2022-04-22T22:00:46.607Z"
   },
   {
    "duration": 173,
    "start_time": "2022-04-22T22:01:17.297Z"
   },
   {
    "duration": 156,
    "start_time": "2022-04-22T22:01:54.050Z"
   },
   {
    "duration": 168,
    "start_time": "2022-04-22T22:03:08.767Z"
   },
   {
    "duration": 175,
    "start_time": "2022-04-22T22:03:33.007Z"
   },
   {
    "duration": 7,
    "start_time": "2022-04-22T22:05:11.907Z"
   },
   {
    "duration": 4,
    "start_time": "2022-04-22T22:05:36.526Z"
   },
   {
    "duration": 16,
    "start_time": "2022-04-22T22:05:48.338Z"
   },
   {
    "duration": 179,
    "start_time": "2022-04-22T22:13:45.447Z"
   },
   {
    "duration": 183,
    "start_time": "2022-04-22T22:22:41.986Z"
   },
   {
    "duration": 192,
    "start_time": "2022-04-22T22:23:12.356Z"
   },
   {
    "duration": 164,
    "start_time": "2022-04-22T22:26:48.367Z"
   },
   {
    "duration": 169,
    "start_time": "2022-04-22T22:26:57.428Z"
   },
   {
    "duration": 174,
    "start_time": "2022-04-22T22:28:34.252Z"
   },
   {
    "duration": 167,
    "start_time": "2022-04-22T22:28:44.525Z"
   },
   {
    "duration": 209,
    "start_time": "2022-04-22T22:28:49.125Z"
   },
   {
    "duration": 216,
    "start_time": "2022-04-22T22:28:59.875Z"
   },
   {
    "duration": 184,
    "start_time": "2022-04-22T22:34:09.566Z"
   },
   {
    "duration": 188,
    "start_time": "2022-04-22T22:34:34.526Z"
   },
   {
    "duration": 159,
    "start_time": "2022-04-22T22:34:40.366Z"
   },
   {
    "duration": 382,
    "start_time": "2022-04-22T22:35:57.297Z"
   },
   {
    "duration": 178,
    "start_time": "2022-04-22T22:37:06.597Z"
   },
   {
    "duration": 185,
    "start_time": "2022-04-22T22:39:34.505Z"
   },
   {
    "duration": 108,
    "start_time": "2022-04-22T22:39:49.657Z"
   },
   {
    "duration": 173,
    "start_time": "2022-04-22T22:40:09.326Z"
   },
   {
    "duration": 172,
    "start_time": "2022-04-22T22:47:18.846Z"
   },
   {
    "duration": 206,
    "start_time": "2022-04-22T22:47:36.446Z"
   },
   {
    "duration": 182,
    "start_time": "2022-04-22T22:47:43.966Z"
   },
   {
    "duration": 184,
    "start_time": "2022-04-22T22:47:53.567Z"
   },
   {
    "duration": 184,
    "start_time": "2022-04-22T22:48:11.886Z"
   },
   {
    "duration": 184,
    "start_time": "2022-04-22T23:06:29.636Z"
   },
   {
    "duration": 162,
    "start_time": "2022-04-22T23:14:46.765Z"
   },
   {
    "duration": 220,
    "start_time": "2022-04-22T23:14:57.850Z"
   },
   {
    "duration": 6,
    "start_time": "2022-04-22T23:16:02.927Z"
   },
   {
    "duration": 110,
    "start_time": "2022-04-22T23:16:50.525Z"
   },
   {
    "duration": 189,
    "start_time": "2022-04-22T23:20:49.165Z"
   },
   {
    "duration": 97,
    "start_time": "2022-04-22T23:23:21.715Z"
   },
   {
    "duration": 175,
    "start_time": "2022-04-22T23:29:27.648Z"
   },
   {
    "duration": 5,
    "start_time": "2022-04-22T23:30:03.804Z"
   },
   {
    "duration": 93,
    "start_time": "2022-04-22T23:30:14.366Z"
   },
   {
    "duration": 2663,
    "start_time": "2022-04-22T23:31:59.617Z"
   },
   {
    "duration": 5,
    "start_time": "2022-04-22T23:32:30.816Z"
   },
   {
    "duration": 99,
    "start_time": "2022-04-22T23:33:01.027Z"
   },
   {
    "duration": 172,
    "start_time": "2022-04-22T23:33:23.177Z"
   },
   {
    "duration": 111,
    "start_time": "2022-04-22T23:33:35.496Z"
   },
   {
    "duration": 6,
    "start_time": "2022-04-22T23:34:19.471Z"
   },
   {
    "duration": 114,
    "start_time": "2022-04-22T23:34:24.137Z"
   },
   {
    "duration": 53,
    "start_time": "2022-04-22T23:34:42.856Z"
   },
   {
    "duration": 97,
    "start_time": "2022-04-22T23:35:47.378Z"
   },
   {
    "duration": 1460,
    "start_time": "2022-04-23T15:32:26.516Z"
   },
   {
    "duration": 35,
    "start_time": "2022-04-23T15:32:28.040Z"
   },
   {
    "duration": 8,
    "start_time": "2022-04-23T15:32:28.470Z"
   },
   {
    "duration": 16,
    "start_time": "2022-04-23T15:32:28.905Z"
   },
   {
    "duration": 135,
    "start_time": "2022-04-23T15:32:29.751Z"
   },
   {
    "duration": 19,
    "start_time": "2022-04-23T15:32:30.060Z"
   },
   {
    "duration": 177,
    "start_time": "2022-04-23T15:32:30.791Z"
   },
   {
    "duration": 26,
    "start_time": "2022-04-23T15:32:33.781Z"
   },
   {
    "duration": 159,
    "start_time": "2022-04-23T15:32:49.530Z"
   },
   {
    "duration": 37,
    "start_time": "2022-04-23T15:32:49.811Z"
   },
   {
    "duration": 105,
    "start_time": "2022-04-23T15:32:53.752Z"
   },
   {
    "duration": 47,
    "start_time": "2022-04-23T15:32:54.429Z"
   },
   {
    "duration": 7,
    "start_time": "2022-04-23T15:32:55.066Z"
   },
   {
    "duration": 14,
    "start_time": "2022-04-23T15:32:55.820Z"
   },
   {
    "duration": 8,
    "start_time": "2022-04-23T15:32:56.589Z"
   },
   {
    "duration": 9,
    "start_time": "2022-04-23T15:32:57.128Z"
   },
   {
    "duration": 8,
    "start_time": "2022-04-23T15:32:57.381Z"
   },
   {
    "duration": 256,
    "start_time": "2022-04-23T15:32:57.862Z"
   },
   {
    "duration": 232,
    "start_time": "2022-04-23T15:32:58.304Z"
   },
   {
    "duration": 25,
    "start_time": "2022-04-23T15:33:00.712Z"
   },
   {
    "duration": 21,
    "start_time": "2022-04-23T15:33:02.529Z"
   },
   {
    "duration": 210,
    "start_time": "2022-04-23T15:33:03.424Z"
   },
   {
    "duration": 10,
    "start_time": "2022-04-23T15:33:03.691Z"
   },
   {
    "duration": 255,
    "start_time": "2022-04-23T15:33:09.229Z"
   },
   {
    "duration": 23,
    "start_time": "2022-04-23T15:33:10.174Z"
   },
   {
    "duration": 163,
    "start_time": "2022-04-23T15:33:17.293Z"
   },
   {
    "duration": 224,
    "start_time": "2022-04-23T15:33:17.841Z"
   },
   {
    "duration": 165,
    "start_time": "2022-04-23T15:33:19.630Z"
   },
   {
    "duration": 4,
    "start_time": "2022-04-23T15:33:20.190Z"
   },
   {
    "duration": 147,
    "start_time": "2022-04-23T15:33:20.370Z"
   },
   {
    "duration": 51,
    "start_time": "2022-04-23T15:33:21.251Z"
   },
   {
    "duration": 30,
    "start_time": "2022-04-23T15:33:21.832Z"
   },
   {
    "duration": 4,
    "start_time": "2022-04-23T15:33:22.092Z"
   },
   {
    "duration": 13,
    "start_time": "2022-04-23T15:33:22.503Z"
   },
   {
    "duration": 35,
    "start_time": "2022-04-23T15:33:40.500Z"
   },
   {
    "duration": 105,
    "start_time": "2022-04-23T15:42:13.849Z"
   },
   {
    "duration": 8,
    "start_time": "2022-04-23T15:42:21.689Z"
   },
   {
    "duration": 8,
    "start_time": "2022-04-23T15:42:27.950Z"
   },
   {
    "duration": 23,
    "start_time": "2022-04-23T15:42:34.510Z"
   },
   {
    "duration": 9,
    "start_time": "2022-04-23T15:42:37.216Z"
   },
   {
    "duration": 9,
    "start_time": "2022-04-23T15:42:44.539Z"
   },
   {
    "duration": 9,
    "start_time": "2022-04-23T15:42:49.665Z"
   },
   {
    "duration": 24,
    "start_time": "2022-04-23T15:43:04.300Z"
   },
   {
    "duration": 209,
    "start_time": "2022-04-23T15:47:41.962Z"
   },
   {
    "duration": 23,
    "start_time": "2022-04-23T15:48:03.369Z"
   },
   {
    "duration": 22,
    "start_time": "2022-04-23T15:48:27.234Z"
   },
   {
    "duration": 23,
    "start_time": "2022-04-23T15:58:12.860Z"
   },
   {
    "duration": 6,
    "start_time": "2022-04-23T16:06:53.043Z"
   },
   {
    "duration": 1810,
    "start_time": "2022-04-23T20:07:03.118Z"
   },
   {
    "duration": 30,
    "start_time": "2022-04-23T20:07:04.938Z"
   },
   {
    "duration": 12,
    "start_time": "2022-04-23T20:07:05.359Z"
   },
   {
    "duration": 17,
    "start_time": "2022-04-23T20:07:05.868Z"
   },
   {
    "duration": 124,
    "start_time": "2022-04-23T20:07:06.638Z"
   },
   {
    "duration": 26,
    "start_time": "2022-04-23T20:07:06.849Z"
   },
   {
    "duration": 201,
    "start_time": "2022-04-23T20:07:07.519Z"
   },
   {
    "duration": 29,
    "start_time": "2022-04-23T20:07:07.722Z"
   },
   {
    "duration": 209,
    "start_time": "2022-04-23T20:07:08.739Z"
   },
   {
    "duration": 32,
    "start_time": "2022-04-23T20:07:08.999Z"
   },
   {
    "duration": 106,
    "start_time": "2022-04-23T20:07:10.799Z"
   },
   {
    "duration": 99,
    "start_time": "2022-04-23T20:07:11.449Z"
   },
   {
    "duration": 7,
    "start_time": "2022-04-23T20:07:12.189Z"
   },
   {
    "duration": 17,
    "start_time": "2022-04-23T20:07:12.678Z"
   },
   {
    "duration": 11,
    "start_time": "2022-04-23T20:07:13.039Z"
   },
   {
    "duration": 13,
    "start_time": "2022-04-23T20:07:13.598Z"
   },
   {
    "duration": 13,
    "start_time": "2022-04-23T20:07:14.038Z"
   },
   {
    "duration": 305,
    "start_time": "2022-04-23T20:07:14.638Z"
   },
   {
    "duration": 379,
    "start_time": "2022-04-23T20:07:14.946Z"
   },
   {
    "duration": 33,
    "start_time": "2022-04-23T20:07:16.079Z"
   },
   {
    "duration": 29,
    "start_time": "2022-04-23T20:07:16.729Z"
   },
   {
    "duration": 355,
    "start_time": "2022-04-23T20:07:17.199Z"
   },
   {
    "duration": 26,
    "start_time": "2022-04-23T20:07:17.557Z"
   },
   {
    "duration": 455,
    "start_time": "2022-04-23T20:07:18.158Z"
   },
   {
    "duration": 33,
    "start_time": "2022-04-23T20:07:18.958Z"
   },
   {
    "duration": 287,
    "start_time": "2022-04-23T20:07:19.918Z"
   },
   {
    "duration": 354,
    "start_time": "2022-04-23T20:07:20.779Z"
   },
   {
    "duration": 299,
    "start_time": "2022-04-23T20:07:22.079Z"
   },
   {
    "duration": 6,
    "start_time": "2022-04-23T20:07:23.278Z"
   },
   {
    "duration": 257,
    "start_time": "2022-04-23T20:07:24.008Z"
   },
   {
    "duration": 73,
    "start_time": "2022-04-23T20:07:25.759Z"
   },
   {
    "duration": 44,
    "start_time": "2022-04-23T20:07:27.198Z"
   },
   {
    "duration": 7,
    "start_time": "2022-04-23T20:07:27.917Z"
   },
   {
    "duration": 16,
    "start_time": "2022-04-23T20:07:28.638Z"
   },
   {
    "duration": 36,
    "start_time": "2022-04-23T20:07:30.959Z"
   },
   {
    "duration": 9,
    "start_time": "2022-04-23T20:07:33.439Z"
   },
   {
    "duration": 150,
    "start_time": "2022-04-23T20:07:39.057Z"
   },
   {
    "duration": 108,
    "start_time": "2022-04-23T20:07:57.679Z"
   },
   {
    "duration": 12,
    "start_time": "2022-04-23T20:08:00.319Z"
   },
   {
    "duration": 8,
    "start_time": "2022-04-23T20:08:39.398Z"
   },
   {
    "duration": 28,
    "start_time": "2022-04-23T20:08:41.915Z"
   },
   {
    "duration": 27,
    "start_time": "2022-04-23T20:10:03.278Z"
   },
   {
    "duration": 25,
    "start_time": "2022-04-23T20:12:29.169Z"
   },
   {
    "duration": 7,
    "start_time": "2022-04-23T20:13:36.878Z"
   },
   {
    "duration": 242,
    "start_time": "2022-04-23T20:13:38.959Z"
   },
   {
    "duration": 6,
    "start_time": "2022-04-23T20:13:44.558Z"
   },
   {
    "duration": 38,
    "start_time": "2022-04-23T20:14:19.678Z"
   },
   {
    "duration": 37,
    "start_time": "2022-04-23T20:16:43.519Z"
   },
   {
    "duration": 7,
    "start_time": "2022-04-23T20:17:42.879Z"
   },
   {
    "duration": 201,
    "start_time": "2022-04-23T20:17:44.738Z"
   },
   {
    "duration": 4,
    "start_time": "2022-04-23T20:17:47.079Z"
   },
   {
    "duration": 38,
    "start_time": "2022-04-23T20:17:48.797Z"
   },
   {
    "duration": 7,
    "start_time": "2022-04-23T20:21:40.918Z"
   },
   {
    "duration": 24,
    "start_time": "2022-04-23T20:21:42.758Z"
   },
   {
    "duration": 8,
    "start_time": "2022-04-23T20:25:23.766Z"
   },
   {
    "duration": 249,
    "start_time": "2022-04-23T20:25:24.960Z"
   },
   {
    "duration": 5,
    "start_time": "2022-04-23T20:25:28.669Z"
   },
   {
    "duration": 8,
    "start_time": "2022-04-23T20:26:00.479Z"
   },
   {
    "duration": 278,
    "start_time": "2022-04-23T20:26:02.079Z"
   },
   {
    "duration": 5,
    "start_time": "2022-04-23T20:26:05.056Z"
   },
   {
    "duration": 39,
    "start_time": "2022-04-23T20:26:07.289Z"
   },
   {
    "duration": 8,
    "start_time": "2022-04-23T20:27:05.358Z"
   },
   {
    "duration": 230,
    "start_time": "2022-04-23T20:27:06.399Z"
   },
   {
    "duration": 5,
    "start_time": "2022-04-23T20:27:07.599Z"
   },
   {
    "duration": 41,
    "start_time": "2022-04-23T20:27:08.719Z"
   },
   {
    "duration": 6,
    "start_time": "2022-04-23T20:31:56.590Z"
   },
   {
    "duration": 46,
    "start_time": "2022-04-23T20:32:17.978Z"
   },
   {
    "duration": 5,
    "start_time": "2022-04-23T20:35:21.198Z"
   },
   {
    "duration": 72,
    "start_time": "2022-04-23T20:35:23.759Z"
   },
   {
    "duration": 41,
    "start_time": "2022-04-23T20:36:00.638Z"
   },
   {
    "duration": 21,
    "start_time": "2022-04-23T20:37:23.678Z"
   },
   {
    "duration": 1615,
    "start_time": "2022-04-23T20:37:25.429Z"
   },
   {
    "duration": 15,
    "start_time": "2022-04-23T20:38:10.559Z"
   },
   {
    "duration": 11,
    "start_time": "2022-04-23T20:38:24.557Z"
   },
   {
    "duration": 11,
    "start_time": "2022-04-23T20:39:26.159Z"
   },
   {
    "duration": 526,
    "start_time": "2022-04-23T20:39:37.447Z"
   },
   {
    "duration": 995,
    "start_time": "2022-04-23T20:39:40.800Z"
   },
   {
    "duration": 833,
    "start_time": "2022-04-23T20:39:44.238Z"
   },
   {
    "duration": 827,
    "start_time": "2022-04-23T20:39:57.891Z"
   },
   {
    "duration": 11,
    "start_time": "2022-04-23T20:40:07.038Z"
   },
   {
    "duration": 11,
    "start_time": "2022-04-23T20:40:08.159Z"
   },
   {
    "duration": 327,
    "start_time": "2022-04-23T20:40:14.878Z"
   },
   {
    "duration": 197,
    "start_time": "2022-04-23T20:40:16.718Z"
   },
   {
    "duration": 316,
    "start_time": "2022-04-23T20:40:18.648Z"
   },
   {
    "duration": 8,
    "start_time": "2022-04-23T20:40:27.438Z"
   },
   {
    "duration": 7,
    "start_time": "2022-04-23T20:40:28.689Z"
   },
   {
    "duration": 11,
    "start_time": "2022-04-23T20:40:32.099Z"
   },
   {
    "duration": 20,
    "start_time": "2022-04-23T20:40:33.038Z"
   },
   {
    "duration": 7,
    "start_time": "2022-04-23T20:40:41.538Z"
   },
   {
    "duration": 8,
    "start_time": "2022-04-23T20:40:42.098Z"
   },
   {
    "duration": 8,
    "start_time": "2022-04-23T20:40:42.718Z"
   },
   {
    "duration": 13,
    "start_time": "2022-04-23T20:40:43.599Z"
   },
   {
    "duration": 7,
    "start_time": "2022-04-23T20:40:46.638Z"
   },
   {
    "duration": 7,
    "start_time": "2022-04-23T20:40:47.199Z"
   },
   {
    "duration": 9,
    "start_time": "2022-04-23T20:40:47.838Z"
   },
   {
    "duration": 17,
    "start_time": "2022-04-23T20:40:49.118Z"
   },
   {
    "duration": 11,
    "start_time": "2022-04-23T20:40:58.119Z"
   },
   {
    "duration": 15,
    "start_time": "2022-04-23T20:41:44.399Z"
   },
   {
    "duration": 11,
    "start_time": "2022-04-23T20:42:05.519Z"
   },
   {
    "duration": 13,
    "start_time": "2022-04-23T20:42:12.079Z"
   },
   {
    "duration": 11,
    "start_time": "2022-04-23T20:42:19.598Z"
   },
   {
    "duration": 12,
    "start_time": "2022-04-23T20:43:33.199Z"
   },
   {
    "duration": 20,
    "start_time": "2022-04-23T20:43:39.999Z"
   },
   {
    "duration": 13,
    "start_time": "2022-04-23T20:46:44.559Z"
   },
   {
    "duration": 13,
    "start_time": "2022-04-23T20:47:37.219Z"
   },
   {
    "duration": 19,
    "start_time": "2022-04-23T20:48:07.119Z"
   },
   {
    "duration": 14,
    "start_time": "2022-04-23T20:48:42.399Z"
   },
   {
    "duration": 11,
    "start_time": "2022-04-23T20:48:47.438Z"
   },
   {
    "duration": 15,
    "start_time": "2022-04-23T20:48:54.478Z"
   },
   {
    "duration": 106,
    "start_time": "2022-04-23T20:50:09.204Z"
   },
   {
    "duration": 1615,
    "start_time": "2022-04-23T20:50:09.808Z"
   },
   {
    "duration": 1602,
    "start_time": "2022-04-23T20:50:16.698Z"
   },
   {
    "duration": 1621,
    "start_time": "2022-04-23T20:50:18.400Z"
   },
   {
    "duration": 0,
    "start_time": "2022-04-23T20:50:20.023Z"
   },
   {
    "duration": 6,
    "start_time": "2022-04-23T20:50:58.879Z"
   },
   {
    "duration": 6,
    "start_time": "2022-04-23T20:51:10.852Z"
   },
   {
    "duration": 8,
    "start_time": "2022-04-23T20:51:13.618Z"
   },
   {
    "duration": 6,
    "start_time": "2022-04-23T20:51:23.679Z"
   },
   {
    "duration": 5,
    "start_time": "2022-04-23T20:51:24.319Z"
   },
   {
    "duration": 17,
    "start_time": "2022-04-23T20:51:25.119Z"
   },
   {
    "duration": 2206,
    "start_time": "2022-04-23T20:51:27.358Z"
   },
   {
    "duration": 1993,
    "start_time": "2022-04-23T20:51:34.599Z"
   },
   {
    "duration": 1665,
    "start_time": "2022-04-23T20:51:54.208Z"
   },
   {
    "duration": 0,
    "start_time": "2022-04-23T20:51:55.875Z"
   },
   {
    "duration": 1691,
    "start_time": "2022-04-23T20:52:07.599Z"
   },
   {
    "duration": 6,
    "start_time": "2022-04-23T20:53:00.510Z"
   },
   {
    "duration": 6,
    "start_time": "2022-04-23T20:53:01.238Z"
   },
   {
    "duration": 36,
    "start_time": "2022-04-23T20:53:02.559Z"
   },
   {
    "duration": 7,
    "start_time": "2022-04-23T20:53:05.279Z"
   },
   {
    "duration": 1723,
    "start_time": "2022-04-23T20:53:07.839Z"
   },
   {
    "duration": 6,
    "start_time": "2022-04-23T20:53:24.928Z"
   },
   {
    "duration": 7,
    "start_time": "2022-04-23T20:53:28.158Z"
   },
   {
    "duration": 1667,
    "start_time": "2022-04-24T12:55:07.482Z"
   },
   {
    "duration": 35,
    "start_time": "2022-04-24T12:55:09.152Z"
   },
   {
    "duration": 15,
    "start_time": "2022-04-24T12:55:09.189Z"
   },
   {
    "duration": 18,
    "start_time": "2022-04-24T12:55:09.206Z"
   },
   {
    "duration": 134,
    "start_time": "2022-04-24T12:55:09.227Z"
   },
   {
    "duration": 33,
    "start_time": "2022-04-24T12:55:09.363Z"
   },
   {
    "duration": 229,
    "start_time": "2022-04-24T12:55:09.398Z"
   },
   {
    "duration": 47,
    "start_time": "2022-04-24T12:55:09.629Z"
   },
   {
    "duration": 198,
    "start_time": "2022-04-24T12:55:09.678Z"
   },
   {
    "duration": 32,
    "start_time": "2022-04-24T12:55:09.878Z"
   },
   {
    "duration": 103,
    "start_time": "2022-04-24T12:55:09.912Z"
   },
   {
    "duration": 68,
    "start_time": "2022-04-24T12:55:10.017Z"
   },
   {
    "duration": 8,
    "start_time": "2022-04-24T12:55:10.087Z"
   },
   {
    "duration": 15,
    "start_time": "2022-04-24T12:55:10.101Z"
   },
   {
    "duration": 11,
    "start_time": "2022-04-24T12:55:10.118Z"
   },
   {
    "duration": 56,
    "start_time": "2022-04-24T12:55:10.132Z"
   },
   {
    "duration": 12,
    "start_time": "2022-04-24T12:55:10.191Z"
   },
   {
    "duration": 193,
    "start_time": "2022-04-24T12:55:10.205Z"
   },
   {
    "duration": 237,
    "start_time": "2022-04-24T12:55:10.399Z"
   },
   {
    "duration": 35,
    "start_time": "2022-04-24T12:55:10.638Z"
   },
   {
    "duration": 40,
    "start_time": "2022-04-24T12:55:10.679Z"
   },
   {
    "duration": 311,
    "start_time": "2022-04-24T12:55:10.722Z"
   },
   {
    "duration": 10,
    "start_time": "2022-04-24T12:55:11.035Z"
   },
   {
    "duration": 283,
    "start_time": "2022-04-24T12:55:11.061Z"
   },
   {
    "duration": 37,
    "start_time": "2022-04-24T12:55:11.346Z"
   },
   {
    "duration": 274,
    "start_time": "2022-04-24T12:55:11.385Z"
   },
   {
    "duration": 166,
    "start_time": "2022-04-24T12:55:11.660Z"
   },
   {
    "duration": 193,
    "start_time": "2022-04-24T12:55:11.828Z"
   },
   {
    "duration": 5,
    "start_time": "2022-04-24T12:55:12.022Z"
   },
   {
    "duration": 231,
    "start_time": "2022-04-24T12:55:12.029Z"
   },
   {
    "duration": 82,
    "start_time": "2022-04-24T12:55:12.262Z"
   },
   {
    "duration": 57,
    "start_time": "2022-04-24T12:55:12.346Z"
   },
   {
    "duration": 6,
    "start_time": "2022-04-24T12:55:12.405Z"
   },
   {
    "duration": 13,
    "start_time": "2022-04-24T12:55:12.413Z"
   },
   {
    "duration": 51,
    "start_time": "2022-04-24T12:55:12.428Z"
   },
   {
    "duration": 12,
    "start_time": "2022-04-24T12:55:12.482Z"
   },
   {
    "duration": 157,
    "start_time": "2022-04-24T12:55:12.499Z"
   },
   {
    "duration": 12,
    "start_time": "2022-04-24T12:55:12.657Z"
   },
   {
    "duration": 32,
    "start_time": "2022-04-24T12:55:12.675Z"
   },
   {
    "duration": 27,
    "start_time": "2022-04-24T12:55:12.709Z"
   },
   {
    "duration": 8,
    "start_time": "2022-04-24T12:55:12.742Z"
   },
   {
    "duration": 33,
    "start_time": "2022-04-24T12:55:12.752Z"
   },
   {
    "duration": 25,
    "start_time": "2022-04-24T12:55:12.786Z"
   },
   {
    "duration": 12,
    "start_time": "2022-04-24T12:55:12.813Z"
   },
   {
    "duration": 358,
    "start_time": "2022-04-24T12:55:12.827Z"
   },
   {
    "duration": 782,
    "start_time": "2022-04-24T12:55:13.187Z"
   },
   {
    "duration": 525,
    "start_time": "2022-04-24T12:55:13.971Z"
   },
   {
    "duration": 542,
    "start_time": "2022-04-24T12:55:14.498Z"
   },
   {
    "duration": 27,
    "start_time": "2022-04-24T12:55:15.042Z"
   },
   {
    "duration": 46,
    "start_time": "2022-04-24T12:55:15.071Z"
   },
   {
    "duration": 179,
    "start_time": "2022-04-24T12:55:15.118Z"
   },
   {
    "duration": 320,
    "start_time": "2022-04-24T12:55:15.299Z"
   },
   {
    "duration": 154,
    "start_time": "2022-04-24T12:55:15.621Z"
   },
   {
    "duration": 5,
    "start_time": "2022-04-24T12:55:15.781Z"
   },
   {
    "duration": 41,
    "start_time": "2022-04-24T12:55:15.788Z"
   },
   {
    "duration": 37,
    "start_time": "2022-04-24T12:55:15.831Z"
   },
   {
    "duration": 45,
    "start_time": "2022-04-24T12:55:15.870Z"
   },
   {
    "duration": 25,
    "start_time": "2022-04-24T12:55:15.917Z"
   },
   {
    "duration": 61,
    "start_time": "2022-04-24T12:55:15.944Z"
   },
   {
    "duration": 28,
    "start_time": "2022-04-24T12:55:16.007Z"
   },
   {
    "duration": 61,
    "start_time": "2022-04-24T12:55:16.037Z"
   },
   {
    "duration": 20,
    "start_time": "2022-04-24T12:55:16.101Z"
   },
   {
    "duration": 27,
    "start_time": "2022-04-24T12:55:16.122Z"
   },
   {
    "duration": 59,
    "start_time": "2022-04-24T12:55:16.151Z"
   },
   {
    "duration": 29,
    "start_time": "2022-04-24T12:55:16.212Z"
   },
   {
    "duration": 64,
    "start_time": "2022-04-24T12:55:16.244Z"
   },
   {
    "duration": 22,
    "start_time": "2022-04-24T12:55:16.311Z"
   },
   {
    "duration": 14,
    "start_time": "2022-04-24T12:55:16.335Z"
   },
   {
    "duration": 50,
    "start_time": "2022-04-24T12:55:16.351Z"
   },
   {
    "duration": 26,
    "start_time": "2022-04-24T12:55:16.404Z"
   },
   {
    "duration": 11,
    "start_time": "2022-04-24T12:55:16.433Z"
   },
   {
    "duration": 93,
    "start_time": "2022-04-24T12:55:16.446Z"
   },
   {
    "duration": 6,
    "start_time": "2022-04-24T12:55:16.542Z"
   },
   {
    "duration": 51,
    "start_time": "2022-04-24T12:55:16.551Z"
   },
   {
    "duration": 35,
    "start_time": "2022-04-24T12:55:16.604Z"
   },
   {
    "duration": 6,
    "start_time": "2022-04-24T12:57:46.895Z"
   },
   {
    "duration": 6,
    "start_time": "2022-04-24T13:00:45.391Z"
   },
   {
    "duration": 5,
    "start_time": "2022-04-24T13:01:10.421Z"
   },
   {
    "duration": 5,
    "start_time": "2022-04-24T13:01:16.842Z"
   },
   {
    "duration": 5,
    "start_time": "2022-04-24T13:06:07.537Z"
   },
   {
    "duration": 133,
    "start_time": "2022-04-24T13:06:14.978Z"
   },
   {
    "duration": 4,
    "start_time": "2022-04-24T13:06:15.610Z"
   },
   {
    "duration": 5,
    "start_time": "2022-04-24T13:06:18.923Z"
   },
   {
    "duration": 31,
    "start_time": "2022-04-24T13:06:19.680Z"
   },
   {
    "duration": 4,
    "start_time": "2022-04-24T13:06:35.245Z"
   },
   {
    "duration": 5,
    "start_time": "2022-04-24T13:07:01.780Z"
   },
   {
    "duration": 1370,
    "start_time": "2022-04-24T13:07:18.215Z"
   },
   {
    "duration": 21,
    "start_time": "2022-04-24T13:07:19.587Z"
   },
   {
    "duration": 8,
    "start_time": "2022-04-24T13:07:19.609Z"
   },
   {
    "duration": 10,
    "start_time": "2022-04-24T13:07:19.619Z"
   },
   {
    "duration": 103,
    "start_time": "2022-04-24T13:07:19.631Z"
   },
   {
    "duration": 27,
    "start_time": "2022-04-24T13:07:19.736Z"
   },
   {
    "duration": 227,
    "start_time": "2022-04-24T13:07:19.765Z"
   },
   {
    "duration": 24,
    "start_time": "2022-04-24T13:07:19.994Z"
   },
   {
    "duration": 195,
    "start_time": "2022-04-24T13:07:20.020Z"
   },
   {
    "duration": 26,
    "start_time": "2022-04-24T13:07:20.218Z"
   },
   {
    "duration": 84,
    "start_time": "2022-04-24T13:07:20.258Z"
   },
   {
    "duration": 63,
    "start_time": "2022-04-24T13:07:20.344Z"
   },
   {
    "duration": 6,
    "start_time": "2022-04-24T13:07:20.409Z"
   },
   {
    "duration": 11,
    "start_time": "2022-04-24T13:07:20.417Z"
   },
   {
    "duration": 41,
    "start_time": "2022-04-24T13:07:20.429Z"
   },
   {
    "duration": 30,
    "start_time": "2022-04-24T13:07:20.472Z"
   },
   {
    "duration": 24,
    "start_time": "2022-04-24T13:07:20.503Z"
   },
   {
    "duration": 207,
    "start_time": "2022-04-24T13:07:20.529Z"
   },
   {
    "duration": 236,
    "start_time": "2022-04-24T13:07:20.737Z"
   },
   {
    "duration": 28,
    "start_time": "2022-04-24T13:07:20.975Z"
   },
   {
    "duration": 34,
    "start_time": "2022-04-24T13:07:21.005Z"
   },
   {
    "duration": 358,
    "start_time": "2022-04-24T13:07:21.057Z"
   },
   {
    "duration": 11,
    "start_time": "2022-04-24T13:07:21.417Z"
   },
   {
    "duration": 385,
    "start_time": "2022-04-24T13:07:21.430Z"
   },
   {
    "duration": 23,
    "start_time": "2022-04-24T13:07:21.817Z"
   },
   {
    "duration": 189,
    "start_time": "2022-04-24T13:07:21.854Z"
   },
   {
    "duration": 268,
    "start_time": "2022-04-24T13:07:22.044Z"
   },
   {
    "duration": 219,
    "start_time": "2022-04-24T13:07:22.318Z"
   },
   {
    "duration": 5,
    "start_time": "2022-04-24T13:07:22.539Z"
   },
   {
    "duration": 269,
    "start_time": "2022-04-24T13:07:22.558Z"
   },
   {
    "duration": 84,
    "start_time": "2022-04-24T13:07:22.830Z"
   },
   {
    "duration": 61,
    "start_time": "2022-04-24T13:07:22.916Z"
   },
   {
    "duration": 10,
    "start_time": "2022-04-24T13:07:22.980Z"
   },
   {
    "duration": 36,
    "start_time": "2022-04-24T13:07:22.992Z"
   },
   {
    "duration": 44,
    "start_time": "2022-04-24T13:07:23.031Z"
   },
   {
    "duration": 8,
    "start_time": "2022-04-24T13:07:23.083Z"
   },
   {
    "duration": 161,
    "start_time": "2022-04-24T13:07:23.093Z"
   },
   {
    "duration": 4,
    "start_time": "2022-04-24T13:07:23.257Z"
   },
   {
    "duration": 63,
    "start_time": "2022-04-24T13:07:23.263Z"
   },
   {
    "duration": 32,
    "start_time": "2022-04-24T13:07:23.328Z"
   },
   {
    "duration": 66,
    "start_time": "2022-04-24T13:07:23.362Z"
   },
   {
    "duration": 29,
    "start_time": "2022-04-24T13:07:23.430Z"
   },
   {
    "duration": 39,
    "start_time": "2022-04-24T13:07:23.461Z"
   },
   {
    "duration": 22,
    "start_time": "2022-04-24T13:07:23.502Z"
   },
   {
    "duration": 469,
    "start_time": "2022-04-24T13:07:23.527Z"
   },
   {
    "duration": 918,
    "start_time": "2022-04-24T13:07:23.998Z"
   },
   {
    "duration": 498,
    "start_time": "2022-04-24T13:07:24.918Z"
   },
   {
    "duration": 495,
    "start_time": "2022-04-24T13:07:25.418Z"
   },
   {
    "duration": 8,
    "start_time": "2022-04-24T13:07:25.915Z"
   },
   {
    "duration": 14,
    "start_time": "2022-04-24T13:07:25.924Z"
   },
   {
    "duration": 192,
    "start_time": "2022-04-24T13:07:25.939Z"
   },
   {
    "duration": 182,
    "start_time": "2022-04-24T13:07:26.133Z"
   },
   {
    "duration": 346,
    "start_time": "2022-04-24T13:07:26.317Z"
   },
   {
    "duration": 6,
    "start_time": "2022-04-24T13:07:26.665Z"
   },
   {
    "duration": 26,
    "start_time": "2022-04-24T13:07:26.673Z"
   },
   {
    "duration": 8,
    "start_time": "2022-04-24T13:07:26.702Z"
   },
   {
    "duration": 13,
    "start_time": "2022-04-24T13:07:26.713Z"
   },
   {
    "duration": 11,
    "start_time": "2022-04-24T13:07:26.728Z"
   },
   {
    "duration": 5,
    "start_time": "2022-04-24T13:07:26.741Z"
   },
   {
    "duration": 10,
    "start_time": "2022-04-24T13:07:26.748Z"
   },
   {
    "duration": 38,
    "start_time": "2022-04-24T13:07:26.760Z"
   },
   {
    "duration": 5,
    "start_time": "2022-04-24T13:07:26.800Z"
   },
   {
    "duration": 10,
    "start_time": "2022-04-24T13:07:26.806Z"
   },
   {
    "duration": 7,
    "start_time": "2022-04-24T13:07:26.818Z"
   },
   {
    "duration": 11,
    "start_time": "2022-04-24T13:07:26.827Z"
   },
   {
    "duration": 12,
    "start_time": "2022-04-24T13:07:26.839Z"
   },
   {
    "duration": 40,
    "start_time": "2022-04-24T13:07:26.853Z"
   },
   {
    "duration": 7,
    "start_time": "2022-04-24T13:07:26.895Z"
   },
   {
    "duration": 12,
    "start_time": "2022-04-24T13:07:26.904Z"
   },
   {
    "duration": 7,
    "start_time": "2022-04-24T13:07:26.917Z"
   },
   {
    "duration": 6,
    "start_time": "2022-04-24T13:07:26.926Z"
   },
   {
    "duration": 46,
    "start_time": "2022-04-24T13:07:26.934Z"
   },
   {
    "duration": 20,
    "start_time": "2022-04-24T13:07:26.982Z"
   },
   {
    "duration": 5,
    "start_time": "2022-04-24T13:07:27.004Z"
   },
   {
    "duration": 11,
    "start_time": "2022-04-24T13:07:27.011Z"
   },
   {
    "duration": 5,
    "start_time": "2022-04-24T13:08:16.293Z"
   },
   {
    "duration": 138,
    "start_time": "2022-04-24T13:13:58.795Z"
   },
   {
    "duration": 1310,
    "start_time": "2022-04-24T13:16:26.331Z"
   },
   {
    "duration": 31,
    "start_time": "2022-04-24T13:16:27.643Z"
   },
   {
    "duration": 21,
    "start_time": "2022-04-24T13:16:27.679Z"
   },
   {
    "duration": 32,
    "start_time": "2022-04-24T13:16:27.702Z"
   },
   {
    "duration": 143,
    "start_time": "2022-04-24T13:16:27.736Z"
   },
   {
    "duration": 31,
    "start_time": "2022-04-24T13:16:27.881Z"
   },
   {
    "duration": 186,
    "start_time": "2022-04-24T13:16:27.914Z"
   },
   {
    "duration": 21,
    "start_time": "2022-04-24T13:16:28.102Z"
   },
   {
    "duration": 193,
    "start_time": "2022-04-24T13:16:28.125Z"
   },
   {
    "duration": 24,
    "start_time": "2022-04-24T13:16:28.320Z"
   },
   {
    "duration": 85,
    "start_time": "2022-04-24T13:16:28.354Z"
   },
   {
    "duration": 67,
    "start_time": "2022-04-24T13:16:28.441Z"
   },
   {
    "duration": 5,
    "start_time": "2022-04-24T13:16:28.510Z"
   },
   {
    "duration": 33,
    "start_time": "2022-04-24T13:16:28.517Z"
   },
   {
    "duration": 38,
    "start_time": "2022-04-24T13:16:28.551Z"
   },
   {
    "duration": 15,
    "start_time": "2022-04-24T13:16:28.591Z"
   },
   {
    "duration": 13,
    "start_time": "2022-04-24T13:16:28.607Z"
   },
   {
    "duration": 183,
    "start_time": "2022-04-24T13:16:28.622Z"
   },
   {
    "duration": 228,
    "start_time": "2022-04-24T13:16:28.806Z"
   },
   {
    "duration": 44,
    "start_time": "2022-04-24T13:16:29.036Z"
   },
   {
    "duration": 33,
    "start_time": "2022-04-24T13:16:29.083Z"
   },
   {
    "duration": 340,
    "start_time": "2022-04-24T13:16:29.119Z"
   },
   {
    "duration": 17,
    "start_time": "2022-04-24T13:16:29.463Z"
   },
   {
    "duration": 439,
    "start_time": "2022-04-24T13:16:29.482Z"
   },
   {
    "duration": 22,
    "start_time": "2022-04-24T13:16:29.923Z"
   },
   {
    "duration": 194,
    "start_time": "2022-04-24T13:16:29.953Z"
   },
   {
    "duration": 259,
    "start_time": "2022-04-24T13:16:30.149Z"
   },
   {
    "duration": 254,
    "start_time": "2022-04-24T13:16:30.413Z"
   },
   {
    "duration": 5,
    "start_time": "2022-04-24T13:16:30.669Z"
   },
   {
    "duration": 241,
    "start_time": "2022-04-24T13:16:30.676Z"
   },
   {
    "duration": 79,
    "start_time": "2022-04-24T13:16:30.920Z"
   },
   {
    "duration": 54,
    "start_time": "2022-04-24T13:16:31.002Z"
   },
   {
    "duration": 11,
    "start_time": "2022-04-24T13:16:31.059Z"
   },
   {
    "duration": 44,
    "start_time": "2022-04-24T13:16:31.072Z"
   },
   {
    "duration": 26,
    "start_time": "2022-04-24T13:16:31.118Z"
   },
   {
    "duration": 54,
    "start_time": "2022-04-24T13:16:31.146Z"
   },
   {
    "duration": 139,
    "start_time": "2022-04-24T13:16:31.202Z"
   },
   {
    "duration": 5,
    "start_time": "2022-04-24T13:16:31.343Z"
   },
   {
    "duration": 68,
    "start_time": "2022-04-24T13:16:31.350Z"
   },
   {
    "duration": 55,
    "start_time": "2022-04-24T13:16:31.420Z"
   },
   {
    "duration": 22,
    "start_time": "2022-04-24T13:16:31.477Z"
   },
   {
    "duration": 18,
    "start_time": "2022-04-24T13:16:31.500Z"
   },
   {
    "duration": 12,
    "start_time": "2022-04-24T13:16:31.520Z"
   },
   {
    "duration": 13,
    "start_time": "2022-04-24T13:16:31.534Z"
   },
   {
    "duration": 475,
    "start_time": "2022-04-24T13:16:31.549Z"
   },
   {
    "duration": 596,
    "start_time": "2022-04-24T13:16:32.026Z"
   },
   {
    "duration": 492,
    "start_time": "2022-04-24T13:16:32.623Z"
   },
   {
    "duration": 504,
    "start_time": "2022-04-24T13:16:33.117Z"
   },
   {
    "duration": 7,
    "start_time": "2022-04-24T13:16:33.623Z"
   },
   {
    "duration": 24,
    "start_time": "2022-04-24T13:16:33.632Z"
   },
   {
    "duration": 146,
    "start_time": "2022-04-24T13:16:33.657Z"
   },
   {
    "duration": 126,
    "start_time": "2022-04-24T13:16:33.805Z"
   },
   {
    "duration": 260,
    "start_time": "2022-04-24T13:16:33.933Z"
   },
   {
    "duration": 5,
    "start_time": "2022-04-24T13:16:34.195Z"
   },
   {
    "duration": 6,
    "start_time": "2022-04-24T13:16:34.201Z"
   },
   {
    "duration": 7,
    "start_time": "2022-04-24T13:16:34.209Z"
   },
   {
    "duration": 12,
    "start_time": "2022-04-24T13:16:34.218Z"
   },
   {
    "duration": 5,
    "start_time": "2022-04-24T13:16:34.231Z"
   },
   {
    "duration": 53,
    "start_time": "2022-04-24T13:16:34.238Z"
   },
   {
    "duration": 7,
    "start_time": "2022-04-24T13:16:34.293Z"
   },
   {
    "duration": 11,
    "start_time": "2022-04-24T13:16:34.302Z"
   },
   {
    "duration": 6,
    "start_time": "2022-04-24T13:16:34.315Z"
   },
   {
    "duration": 10,
    "start_time": "2022-04-24T13:16:34.323Z"
   },
   {
    "duration": 8,
    "start_time": "2022-04-24T13:16:34.335Z"
   },
   {
    "duration": 14,
    "start_time": "2022-04-24T13:16:34.344Z"
   },
   {
    "duration": 45,
    "start_time": "2022-04-24T13:16:34.359Z"
   },
   {
    "duration": 7,
    "start_time": "2022-04-24T13:16:34.405Z"
   },
   {
    "duration": 8,
    "start_time": "2022-04-24T13:16:34.413Z"
   },
   {
    "duration": 8,
    "start_time": "2022-04-24T13:16:34.422Z"
   },
   {
    "duration": 7,
    "start_time": "2022-04-24T13:16:34.432Z"
   },
   {
    "duration": 7,
    "start_time": "2022-04-24T13:16:34.441Z"
   },
   {
    "duration": 55,
    "start_time": "2022-04-24T13:16:34.450Z"
   },
   {
    "duration": 9,
    "start_time": "2022-04-24T13:16:34.507Z"
   },
   {
    "duration": 6,
    "start_time": "2022-04-24T13:16:34.518Z"
   },
   {
    "duration": 7,
    "start_time": "2022-04-24T13:16:34.526Z"
   },
   {
    "duration": 71,
    "start_time": "2022-04-25T08:27:05.600Z"
   },
   {
    "duration": 1789,
    "start_time": "2022-04-25T08:27:16.697Z"
   },
   {
    "duration": 49,
    "start_time": "2022-04-25T08:27:18.489Z"
   },
   {
    "duration": 11,
    "start_time": "2022-04-25T08:27:19.148Z"
   },
   {
    "duration": 22,
    "start_time": "2022-04-25T08:27:20.209Z"
   },
   {
    "duration": 172,
    "start_time": "2022-04-25T08:27:21.090Z"
   },
   {
    "duration": 38,
    "start_time": "2022-04-25T08:27:21.265Z"
   },
   {
    "duration": 202,
    "start_time": "2022-04-25T08:27:21.996Z"
   },
   {
    "duration": 29,
    "start_time": "2022-04-25T08:27:22.202Z"
   },
   {
    "duration": 202,
    "start_time": "2022-04-25T08:27:23.169Z"
   },
   {
    "duration": 34,
    "start_time": "2022-04-25T08:27:23.411Z"
   },
   {
    "duration": 101,
    "start_time": "2022-04-25T08:27:25.249Z"
   },
   {
    "duration": 72,
    "start_time": "2022-04-25T08:27:26.207Z"
   },
   {
    "duration": 90,
    "start_time": "2022-04-25T08:27:27.812Z"
   },
   {
    "duration": 8,
    "start_time": "2022-04-25T08:29:23.332Z"
   },
   {
    "duration": 22,
    "start_time": "2022-04-25T08:29:37.567Z"
   },
   {
    "duration": 11,
    "start_time": "2022-04-25T08:29:37.889Z"
   },
   {
    "duration": 13,
    "start_time": "2022-04-25T08:29:38.208Z"
   },
   {
    "duration": 12,
    "start_time": "2022-04-25T08:29:38.389Z"
   },
   {
    "duration": 269,
    "start_time": "2022-04-25T08:29:38.817Z"
   },
   {
    "duration": 360,
    "start_time": "2022-04-25T08:29:39.093Z"
   },
   {
    "duration": 28,
    "start_time": "2022-04-25T08:29:39.986Z"
   },
   {
    "duration": 26,
    "start_time": "2022-04-25T08:29:40.648Z"
   },
   {
    "duration": 336,
    "start_time": "2022-04-25T08:29:41.107Z"
   },
   {
    "duration": 13,
    "start_time": "2022-04-25T08:29:41.446Z"
   },
   {
    "duration": 467,
    "start_time": "2022-04-25T08:29:41.730Z"
   },
   {
    "duration": 29,
    "start_time": "2022-04-25T08:29:42.208Z"
   },
   {
    "duration": 262,
    "start_time": "2022-04-25T08:29:42.846Z"
   },
   {
    "duration": 339,
    "start_time": "2022-04-25T08:29:43.249Z"
   },
   {
    "duration": 286,
    "start_time": "2022-04-25T08:29:44.288Z"
   },
   {
    "duration": 6,
    "start_time": "2022-04-25T08:29:45.007Z"
   },
   {
    "duration": 249,
    "start_time": "2022-04-25T08:29:45.587Z"
   },
   {
    "duration": 67,
    "start_time": "2022-04-25T08:29:47.609Z"
   },
   {
    "duration": 42,
    "start_time": "2022-04-25T08:29:48.609Z"
   },
   {
    "duration": 6,
    "start_time": "2022-04-25T08:29:49.170Z"
   },
   {
    "duration": 16,
    "start_time": "2022-04-25T08:29:49.749Z"
   },
   {
    "duration": 37,
    "start_time": "2022-04-25T08:29:51.009Z"
   },
   {
    "duration": 7,
    "start_time": "2022-04-25T08:29:51.650Z"
   },
   {
    "duration": 6,
    "start_time": "2022-04-25T08:31:10.527Z"
   },
   {
    "duration": 224,
    "start_time": "2022-04-25T08:31:12.379Z"
   },
   {
    "duration": 8,
    "start_time": "2022-04-25T08:31:13.249Z"
   },
   {
    "duration": 7,
    "start_time": "2022-04-25T08:31:15.649Z"
   },
   {
    "duration": 58,
    "start_time": "2022-04-25T08:31:15.968Z"
   },
   {
    "duration": 14,
    "start_time": "2022-04-25T08:31:48.127Z"
   },
   {
    "duration": 14,
    "start_time": "2022-04-25T08:31:48.688Z"
   },
   {
    "duration": 13,
    "start_time": "2022-04-25T08:31:49.487Z"
   },
   {
    "duration": 18,
    "start_time": "2022-04-25T08:31:49.729Z"
   },
   {
    "duration": 707,
    "start_time": "2022-04-25T08:31:51.407Z"
   },
   {
    "duration": 1356,
    "start_time": "2022-04-25T08:31:52.117Z"
   },
   {
    "duration": 1202,
    "start_time": "2022-04-25T08:31:53.477Z"
   },
   {
    "duration": 1311,
    "start_time": "2022-04-25T08:31:54.682Z"
   },
   {
    "duration": 14,
    "start_time": "2022-04-25T08:31:55.997Z"
   },
   {
    "duration": 14,
    "start_time": "2022-04-25T08:31:56.013Z"
   },
   {
    "duration": 342,
    "start_time": "2022-04-25T08:31:56.030Z"
   },
   {
    "duration": 288,
    "start_time": "2022-04-25T08:31:56.375Z"
   },
   {
    "duration": 446,
    "start_time": "2022-04-25T08:31:56.666Z"
   },
   {
    "duration": 8,
    "start_time": "2022-04-25T08:31:57.116Z"
   },
   {
    "duration": 10,
    "start_time": "2022-04-25T08:31:57.126Z"
   },
   {
    "duration": 9,
    "start_time": "2022-04-25T08:31:57.138Z"
   },
   {
    "duration": 43,
    "start_time": "2022-04-25T08:31:57.150Z"
   },
   {
    "duration": 6,
    "start_time": "2022-04-25T08:31:57.368Z"
   },
   {
    "duration": 5,
    "start_time": "2022-04-25T08:31:57.610Z"
   },
   {
    "duration": 7,
    "start_time": "2022-04-25T08:31:57.837Z"
   },
   {
    "duration": 13,
    "start_time": "2022-04-25T08:31:58.020Z"
   },
   {
    "duration": 7,
    "start_time": "2022-04-25T08:31:58.438Z"
   },
   {
    "duration": 6,
    "start_time": "2022-04-25T08:31:58.687Z"
   },
   {
    "duration": 7,
    "start_time": "2022-04-25T08:31:58.899Z"
   },
   {
    "duration": 19,
    "start_time": "2022-04-25T08:31:59.081Z"
   },
   {
    "duration": 14,
    "start_time": "2022-04-25T08:31:59.328Z"
   },
   {
    "duration": 7,
    "start_time": "2022-04-25T08:32:02.769Z"
   },
   {
    "duration": 8,
    "start_time": "2022-04-25T08:32:03.006Z"
   },
   {
    "duration": 8,
    "start_time": "2022-04-25T08:32:03.249Z"
   },
   {
    "duration": 7,
    "start_time": "2022-04-25T08:32:07.008Z"
   },
   {
    "duration": 7,
    "start_time": "2022-04-25T08:32:07.437Z"
   },
   {
    "duration": 51,
    "start_time": "2022-04-25T08:32:07.810Z"
   },
   {
    "duration": 9,
    "start_time": "2022-04-25T08:32:08.108Z"
   },
   {
    "duration": 6,
    "start_time": "2022-04-25T08:32:08.488Z"
   },
   {
    "duration": 8,
    "start_time": "2022-04-25T08:32:09.260Z"
   },
   {
    "duration": 18,
    "start_time": "2022-04-25T08:34:06.529Z"
   },
   {
    "duration": 210,
    "start_time": "2022-04-25T08:35:00.870Z"
   },
   {
    "duration": 408,
    "start_time": "2022-04-25T08:36:25.125Z"
   },
   {
    "duration": 1595,
    "start_time": "2022-04-25T08:36:48.532Z"
   },
   {
    "duration": 73,
    "start_time": "2022-04-25T08:36:50.130Z"
   },
   {
    "duration": 11,
    "start_time": "2022-04-25T08:36:50.205Z"
   },
   {
    "duration": 17,
    "start_time": "2022-04-25T08:36:50.219Z"
   },
   {
    "duration": 188,
    "start_time": "2022-04-25T08:36:50.239Z"
   },
   {
    "duration": 40,
    "start_time": "2022-04-25T08:36:50.430Z"
   },
   {
    "duration": 204,
    "start_time": "2022-04-25T08:36:50.473Z"
   },
   {
    "duration": 39,
    "start_time": "2022-04-25T08:36:50.679Z"
   },
   {
    "duration": 294,
    "start_time": "2022-04-25T08:36:50.720Z"
   },
   {
    "duration": 34,
    "start_time": "2022-04-25T08:36:51.019Z"
   },
   {
    "duration": 122,
    "start_time": "2022-04-25T08:36:51.055Z"
   },
   {
    "duration": 79,
    "start_time": "2022-04-25T08:36:51.179Z"
   },
   {
    "duration": 7,
    "start_time": "2022-04-25T08:36:51.261Z"
   },
   {
    "duration": 37,
    "start_time": "2022-04-25T08:36:51.270Z"
   },
   {
    "duration": 13,
    "start_time": "2022-04-25T08:36:51.309Z"
   },
   {
    "duration": 14,
    "start_time": "2022-04-25T08:36:51.324Z"
   },
   {
    "duration": 14,
    "start_time": "2022-04-25T08:36:51.340Z"
   },
   {
    "duration": 283,
    "start_time": "2022-04-25T08:36:51.393Z"
   },
   {
    "duration": 446,
    "start_time": "2022-04-25T08:36:51.678Z"
   },
   {
    "duration": 27,
    "start_time": "2022-04-25T08:36:52.126Z"
   },
   {
    "duration": 46,
    "start_time": "2022-04-25T08:36:52.155Z"
   },
   {
    "duration": 520,
    "start_time": "2022-04-25T08:36:52.204Z"
   },
   {
    "duration": 17,
    "start_time": "2022-04-25T08:36:52.727Z"
   },
   {
    "duration": 465,
    "start_time": "2022-04-25T08:36:52.747Z"
   },
   {
    "duration": 29,
    "start_time": "2022-04-25T08:36:53.214Z"
   },
   {
    "duration": 293,
    "start_time": "2022-04-25T08:36:53.245Z"
   },
   {
    "duration": 346,
    "start_time": "2022-04-25T08:36:53.540Z"
   },
   {
    "duration": 289,
    "start_time": "2022-04-25T08:36:53.892Z"
   },
   {
    "duration": 11,
    "start_time": "2022-04-25T08:36:54.184Z"
   },
   {
    "duration": 257,
    "start_time": "2022-04-25T08:36:54.197Z"
   },
   {
    "duration": 81,
    "start_time": "2022-04-25T08:36:54.456Z"
   },
   {
    "duration": 59,
    "start_time": "2022-04-25T08:36:54.539Z"
   },
   {
    "duration": 7,
    "start_time": "2022-04-25T08:36:54.600Z"
   },
   {
    "duration": 21,
    "start_time": "2022-04-25T08:36:54.609Z"
   },
   {
    "duration": 45,
    "start_time": "2022-04-25T08:36:54.632Z"
   },
   {
    "duration": 7,
    "start_time": "2022-04-25T08:36:54.694Z"
   },
   {
    "duration": 242,
    "start_time": "2022-04-25T08:36:54.703Z"
   },
   {
    "duration": 6,
    "start_time": "2022-04-25T08:36:54.947Z"
   },
   {
    "duration": 22,
    "start_time": "2022-04-25T08:36:54.955Z"
   },
   {
    "duration": 44,
    "start_time": "2022-04-25T08:36:54.979Z"
   },
   {
    "duration": 11,
    "start_time": "2022-04-25T08:36:55.025Z"
   },
   {
    "duration": 12,
    "start_time": "2022-04-25T08:36:55.038Z"
   },
   {
    "duration": 10,
    "start_time": "2022-04-25T08:36:55.052Z"
   },
   {
    "duration": 12,
    "start_time": "2022-04-25T08:36:55.092Z"
   },
   {
    "duration": 496,
    "start_time": "2022-04-25T08:36:55.106Z"
   },
   {
    "duration": 884,
    "start_time": "2022-04-25T08:36:55.604Z"
   },
   {
    "duration": 766,
    "start_time": "2022-04-25T08:36:56.493Z"
   },
   {
    "duration": 790,
    "start_time": "2022-04-25T08:36:57.261Z"
   },
   {
    "duration": 11,
    "start_time": "2022-04-25T08:36:58.053Z"
   },
   {
    "duration": 29,
    "start_time": "2022-04-25T08:36:58.065Z"
   },
   {
    "duration": 216,
    "start_time": "2022-04-25T08:36:58.097Z"
   },
   {
    "duration": 197,
    "start_time": "2022-04-25T08:36:58.315Z"
   },
   {
    "duration": 406,
    "start_time": "2022-04-25T08:36:58.515Z"
   },
   {
    "duration": 6,
    "start_time": "2022-04-25T08:36:58.923Z"
   },
   {
    "duration": 7,
    "start_time": "2022-04-25T08:36:58.931Z"
   },
   {
    "duration": 9,
    "start_time": "2022-04-25T08:36:58.939Z"
   },
   {
    "duration": 45,
    "start_time": "2022-04-25T08:36:58.950Z"
   },
   {
    "duration": 12,
    "start_time": "2022-04-25T08:36:58.997Z"
   },
   {
    "duration": 9,
    "start_time": "2022-04-25T08:36:59.011Z"
   },
   {
    "duration": 7,
    "start_time": "2022-04-25T08:36:59.022Z"
   },
   {
    "duration": 13,
    "start_time": "2022-04-25T08:36:59.031Z"
   },
   {
    "duration": 8,
    "start_time": "2022-04-25T08:36:59.047Z"
   },
   {
    "duration": 38,
    "start_time": "2022-04-25T08:36:59.057Z"
   },
   {
    "duration": 9,
    "start_time": "2022-04-25T08:36:59.098Z"
   },
   {
    "duration": 14,
    "start_time": "2022-04-25T08:36:59.109Z"
   },
   {
    "duration": 15,
    "start_time": "2022-04-25T08:36:59.125Z"
   },
   {
    "duration": 8,
    "start_time": "2022-04-25T08:36:59.142Z"
   },
   {
    "duration": 7,
    "start_time": "2022-04-25T08:36:59.152Z"
   },
   {
    "duration": 7,
    "start_time": "2022-04-25T08:36:59.194Z"
   },
   {
    "duration": 6,
    "start_time": "2022-04-25T08:36:59.204Z"
   },
   {
    "duration": 6,
    "start_time": "2022-04-25T08:36:59.213Z"
   },
   {
    "duration": 33,
    "start_time": "2022-04-25T08:36:59.222Z"
   },
   {
    "duration": 40,
    "start_time": "2022-04-25T08:36:59.257Z"
   },
   {
    "duration": 7,
    "start_time": "2022-04-25T08:36:59.299Z"
   },
   {
    "duration": 8,
    "start_time": "2022-04-25T08:36:59.308Z"
   },
   {
    "duration": 1838,
    "start_time": "2022-04-25T10:00:31.745Z"
   },
   {
    "duration": 49,
    "start_time": "2022-04-25T10:00:33.586Z"
   },
   {
    "duration": 37,
    "start_time": "2022-04-25T10:00:33.637Z"
   },
   {
    "duration": 72,
    "start_time": "2022-04-25T10:00:33.677Z"
   },
   {
    "duration": 310,
    "start_time": "2022-04-25T10:00:33.754Z"
   },
   {
    "duration": 27,
    "start_time": "2022-04-25T10:00:34.066Z"
   },
   {
    "duration": 291,
    "start_time": "2022-04-25T10:00:34.095Z"
   },
   {
    "duration": 44,
    "start_time": "2022-04-25T10:00:34.389Z"
   },
   {
    "duration": 251,
    "start_time": "2022-04-25T10:00:34.437Z"
   },
   {
    "duration": 49,
    "start_time": "2022-04-25T10:00:34.690Z"
   },
   {
    "duration": 145,
    "start_time": "2022-04-25T10:00:34.741Z"
   },
   {
    "duration": 92,
    "start_time": "2022-04-25T10:00:34.889Z"
   },
   {
    "duration": 8,
    "start_time": "2022-04-25T10:00:34.983Z"
   },
   {
    "duration": 40,
    "start_time": "2022-04-25T10:00:34.996Z"
   },
   {
    "duration": 45,
    "start_time": "2022-04-25T10:00:35.039Z"
   },
   {
    "duration": 28,
    "start_time": "2022-04-25T10:00:35.086Z"
   },
   {
    "duration": 45,
    "start_time": "2022-04-25T10:00:35.117Z"
   },
   {
    "duration": 381,
    "start_time": "2022-04-25T10:00:35.164Z"
   },
   {
    "duration": 420,
    "start_time": "2022-04-25T10:00:35.551Z"
   },
   {
    "duration": 31,
    "start_time": "2022-04-25T10:00:35.973Z"
   },
   {
    "duration": 43,
    "start_time": "2022-04-25T10:00:36.026Z"
   },
   {
    "duration": 505,
    "start_time": "2022-04-25T10:00:36.072Z"
   },
   {
    "duration": 20,
    "start_time": "2022-04-25T10:00:36.580Z"
   },
   {
    "duration": 600,
    "start_time": "2022-04-25T10:00:36.604Z"
   },
   {
    "duration": 57,
    "start_time": "2022-04-25T10:00:37.207Z"
   },
   {
    "duration": 343,
    "start_time": "2022-04-25T10:00:37.266Z"
   },
   {
    "duration": 564,
    "start_time": "2022-04-25T10:00:37.612Z"
   },
   {
    "duration": 455,
    "start_time": "2022-04-25T10:00:38.179Z"
   },
   {
    "duration": 8,
    "start_time": "2022-04-25T10:00:38.637Z"
   },
   {
    "duration": 418,
    "start_time": "2022-04-25T10:00:38.647Z"
   },
   {
    "duration": 100,
    "start_time": "2022-04-25T10:00:39.068Z"
   },
   {
    "duration": 67,
    "start_time": "2022-04-25T10:00:39.171Z"
   },
   {
    "duration": 12,
    "start_time": "2022-04-25T10:00:39.241Z"
   },
   {
    "duration": 27,
    "start_time": "2022-04-25T10:00:39.256Z"
   },
   {
    "duration": 58,
    "start_time": "2022-04-25T10:00:39.285Z"
   },
   {
    "duration": 12,
    "start_time": "2022-04-25T10:00:39.348Z"
   },
   {
    "duration": 308,
    "start_time": "2022-04-25T10:00:39.362Z"
   },
   {
    "duration": 6,
    "start_time": "2022-04-25T10:00:39.673Z"
   },
   {
    "duration": 9,
    "start_time": "2022-04-25T10:00:39.681Z"
   },
   {
    "duration": 79,
    "start_time": "2022-04-25T10:00:39.693Z"
   },
   {
    "duration": 6,
    "start_time": "2022-04-25T10:00:39.779Z"
   },
   {
    "duration": 16,
    "start_time": "2022-04-25T10:00:39.788Z"
   },
   {
    "duration": 54,
    "start_time": "2022-04-25T10:00:39.807Z"
   },
   {
    "duration": 16,
    "start_time": "2022-04-25T10:00:39.865Z"
   },
   {
    "duration": 21,
    "start_time": "2022-04-25T10:00:39.883Z"
   },
   {
    "duration": 574,
    "start_time": "2022-04-25T10:00:39.907Z"
   },
   {
    "duration": 1065,
    "start_time": "2022-04-25T10:00:40.484Z"
   },
   {
    "duration": 1183,
    "start_time": "2022-04-25T10:00:41.552Z"
   },
   {
    "duration": 910,
    "start_time": "2022-04-25T10:00:42.738Z"
   },
   {
    "duration": 18,
    "start_time": "2022-04-25T10:00:43.650Z"
   },
   {
    "duration": 11,
    "start_time": "2022-04-25T10:00:43.672Z"
   },
   {
    "duration": 285,
    "start_time": "2022-04-25T10:00:43.686Z"
   },
   {
    "duration": 239,
    "start_time": "2022-04-25T10:00:43.974Z"
   },
   {
    "duration": 363,
    "start_time": "2022-04-25T10:00:44.216Z"
   },
   {
    "duration": 7,
    "start_time": "2022-04-25T10:00:44.582Z"
   },
   {
    "duration": 7,
    "start_time": "2022-04-25T10:00:44.592Z"
   },
   {
    "duration": 41,
    "start_time": "2022-04-25T10:00:44.602Z"
   },
   {
    "duration": 25,
    "start_time": "2022-04-25T10:00:44.646Z"
   },
   {
    "duration": 7,
    "start_time": "2022-04-25T10:00:44.675Z"
   },
   {
    "duration": 7,
    "start_time": "2022-04-25T10:00:44.685Z"
   },
   {
    "duration": 8,
    "start_time": "2022-04-25T10:00:44.695Z"
   },
   {
    "duration": 17,
    "start_time": "2022-04-25T10:00:44.724Z"
   },
   {
    "duration": 20,
    "start_time": "2022-04-25T10:00:44.744Z"
   },
   {
    "duration": 11,
    "start_time": "2022-04-25T10:00:44.767Z"
   },
   {
    "duration": 8,
    "start_time": "2022-04-25T10:00:44.780Z"
   },
   {
    "duration": 40,
    "start_time": "2022-04-25T10:00:44.791Z"
   },
   {
    "duration": 33,
    "start_time": "2022-04-25T10:00:44.836Z"
   },
   {
    "duration": 8,
    "start_time": "2022-04-25T10:00:44.871Z"
   },
   {
    "duration": 9,
    "start_time": "2022-04-25T10:00:44.881Z"
   },
   {
    "duration": 8,
    "start_time": "2022-04-25T10:00:44.892Z"
   },
   {
    "duration": 43,
    "start_time": "2022-04-25T10:00:44.902Z"
   },
   {
    "duration": 18,
    "start_time": "2022-04-25T10:00:44.949Z"
   },
   {
    "duration": 37,
    "start_time": "2022-04-25T10:00:44.969Z"
   },
   {
    "duration": 8,
    "start_time": "2022-04-25T10:00:45.008Z"
   },
   {
    "duration": 33,
    "start_time": "2022-04-25T10:00:45.018Z"
   },
   {
    "duration": 14,
    "start_time": "2022-04-25T10:00:45.054Z"
   },
   {
    "duration": 2128,
    "start_time": "2022-04-25T10:06:11.547Z"
   },
   {
    "duration": 32,
    "start_time": "2022-04-25T10:06:13.678Z"
   },
   {
    "duration": 19,
    "start_time": "2022-04-25T10:06:13.712Z"
   },
   {
    "duration": 40,
    "start_time": "2022-04-25T10:06:13.738Z"
   },
   {
    "duration": 141,
    "start_time": "2022-04-25T10:06:13.781Z"
   },
   {
    "duration": 38,
    "start_time": "2022-04-25T10:06:13.931Z"
   },
   {
    "duration": 241,
    "start_time": "2022-04-25T10:06:13.971Z"
   },
   {
    "duration": 57,
    "start_time": "2022-04-25T10:06:14.214Z"
   },
   {
    "duration": 236,
    "start_time": "2022-04-25T10:06:14.274Z"
   },
   {
    "duration": 49,
    "start_time": "2022-04-25T10:06:14.512Z"
   },
   {
    "duration": 134,
    "start_time": "2022-04-25T10:06:14.563Z"
   },
   {
    "duration": 85,
    "start_time": "2022-04-25T10:06:14.699Z"
   },
   {
    "duration": 6,
    "start_time": "2022-04-25T10:06:14.786Z"
   },
   {
    "duration": 42,
    "start_time": "2022-04-25T10:06:14.796Z"
   },
   {
    "duration": 26,
    "start_time": "2022-04-25T10:06:14.844Z"
   },
   {
    "duration": 17,
    "start_time": "2022-04-25T10:06:14.872Z"
   },
   {
    "duration": 18,
    "start_time": "2022-04-25T10:06:14.891Z"
   },
   {
    "duration": 334,
    "start_time": "2022-04-25T10:06:14.911Z"
   },
   {
    "duration": 415,
    "start_time": "2022-04-25T10:06:15.250Z"
   },
   {
    "duration": 42,
    "start_time": "2022-04-25T10:06:15.671Z"
   },
   {
    "duration": 59,
    "start_time": "2022-04-25T10:06:15.716Z"
   },
   {
    "duration": 602,
    "start_time": "2022-04-25T10:06:15.778Z"
   },
   {
    "duration": 13,
    "start_time": "2022-04-25T10:06:16.383Z"
   },
   {
    "duration": 571,
    "start_time": "2022-04-25T10:06:16.399Z"
   },
   {
    "duration": 62,
    "start_time": "2022-04-25T10:06:16.973Z"
   },
   {
    "duration": 457,
    "start_time": "2022-04-25T10:06:17.039Z"
   },
   {
    "duration": 668,
    "start_time": "2022-04-25T10:06:17.499Z"
   },
   {
    "duration": 351,
    "start_time": "2022-04-25T10:06:18.169Z"
   },
   {
    "duration": 7,
    "start_time": "2022-04-25T10:06:18.522Z"
   },
   {
    "duration": 328,
    "start_time": "2022-04-25T10:06:18.532Z"
   },
   {
    "duration": 88,
    "start_time": "2022-04-25T10:06:18.863Z"
   },
   {
    "duration": 48,
    "start_time": "2022-04-25T10:06:18.955Z"
   },
   {
    "duration": 24,
    "start_time": "2022-04-25T10:06:19.006Z"
   },
   {
    "duration": 51,
    "start_time": "2022-04-25T10:06:19.034Z"
   },
   {
    "duration": 80,
    "start_time": "2022-04-25T10:06:19.088Z"
   },
   {
    "duration": 8,
    "start_time": "2022-04-25T10:06:19.170Z"
   },
   {
    "duration": 298,
    "start_time": "2022-04-25T10:06:19.180Z"
   },
   {
    "duration": 6,
    "start_time": "2022-04-25T10:06:19.481Z"
   },
   {
    "duration": 32,
    "start_time": "2022-04-25T10:06:19.490Z"
   },
   {
    "duration": 75,
    "start_time": "2022-04-25T10:06:19.525Z"
   },
   {
    "duration": 15,
    "start_time": "2022-04-25T10:06:19.607Z"
   },
   {
    "duration": 46,
    "start_time": "2022-04-25T10:06:19.624Z"
   },
   {
    "duration": 22,
    "start_time": "2022-04-25T10:06:19.673Z"
   },
   {
    "duration": 15,
    "start_time": "2022-04-25T10:06:19.697Z"
   },
   {
    "duration": 51,
    "start_time": "2022-04-25T10:06:19.714Z"
   },
   {
    "duration": 711,
    "start_time": "2022-04-25T10:06:19.768Z"
   },
   {
    "duration": 1052,
    "start_time": "2022-04-25T10:06:20.482Z"
   },
   {
    "duration": 871,
    "start_time": "2022-04-25T10:06:21.537Z"
   },
   {
    "duration": 927,
    "start_time": "2022-04-25T10:06:22.411Z"
   },
   {
    "duration": 22,
    "start_time": "2022-04-25T10:06:23.341Z"
   },
   {
    "duration": 32,
    "start_time": "2022-04-25T10:06:23.368Z"
   },
   {
    "duration": 251,
    "start_time": "2022-04-25T10:06:23.402Z"
   },
   {
    "duration": 209,
    "start_time": "2022-04-25T10:06:23.660Z"
   },
   {
    "duration": 372,
    "start_time": "2022-04-25T10:06:23.877Z"
   },
   {
    "duration": 7,
    "start_time": "2022-04-25T10:06:24.252Z"
   },
   {
    "duration": 16,
    "start_time": "2022-04-25T10:06:24.261Z"
   },
   {
    "duration": 19,
    "start_time": "2022-04-25T10:06:24.280Z"
   },
   {
    "duration": 42,
    "start_time": "2022-04-25T10:06:24.302Z"
   },
   {
    "duration": 22,
    "start_time": "2022-04-25T10:06:24.349Z"
   },
   {
    "duration": 15,
    "start_time": "2022-04-25T10:06:24.374Z"
   },
   {
    "duration": 15,
    "start_time": "2022-04-25T10:06:24.392Z"
   },
   {
    "duration": 30,
    "start_time": "2022-04-25T10:06:24.409Z"
   },
   {
    "duration": 29,
    "start_time": "2022-04-25T10:06:24.443Z"
   },
   {
    "duration": 9,
    "start_time": "2022-04-25T10:06:24.474Z"
   },
   {
    "duration": 11,
    "start_time": "2022-04-25T10:06:24.485Z"
   },
   {
    "duration": 23,
    "start_time": "2022-04-25T10:06:24.498Z"
   },
   {
    "duration": 40,
    "start_time": "2022-04-25T10:06:24.523Z"
   },
   {
    "duration": 11,
    "start_time": "2022-04-25T10:06:24.566Z"
   },
   {
    "duration": 13,
    "start_time": "2022-04-25T10:06:24.578Z"
   },
   {
    "duration": 13,
    "start_time": "2022-04-25T10:06:24.593Z"
   },
   {
    "duration": 10,
    "start_time": "2022-04-25T10:06:24.609Z"
   },
   {
    "duration": 26,
    "start_time": "2022-04-25T10:06:24.621Z"
   },
   {
    "duration": 46,
    "start_time": "2022-04-25T10:06:24.650Z"
   },
   {
    "duration": 12,
    "start_time": "2022-04-25T10:06:24.698Z"
   },
   {
    "duration": 6,
    "start_time": "2022-04-25T10:06:24.713Z"
   },
   {
    "duration": 46,
    "start_time": "2022-04-25T10:06:24.721Z"
   },
   {
    "duration": 1862,
    "start_time": "2022-04-25T11:13:53.409Z"
   },
   {
    "duration": 31,
    "start_time": "2022-04-25T11:13:55.274Z"
   },
   {
    "duration": 11,
    "start_time": "2022-04-25T11:13:55.307Z"
   },
   {
    "duration": 50,
    "start_time": "2022-04-25T11:13:55.322Z"
   },
   {
    "duration": 144,
    "start_time": "2022-04-25T11:13:55.374Z"
   },
   {
    "duration": 41,
    "start_time": "2022-04-25T11:13:55.520Z"
   },
   {
    "duration": 266,
    "start_time": "2022-04-25T11:13:55.564Z"
   },
   {
    "duration": 42,
    "start_time": "2022-04-25T11:13:55.833Z"
   },
   {
    "duration": 229,
    "start_time": "2022-04-25T11:13:55.877Z"
   },
   {
    "duration": 58,
    "start_time": "2022-04-25T11:13:56.112Z"
   },
   {
    "duration": 131,
    "start_time": "2022-04-25T11:13:56.172Z"
   },
   {
    "duration": 84,
    "start_time": "2022-04-25T11:13:56.305Z"
   },
   {
    "duration": 6,
    "start_time": "2022-04-25T11:13:56.392Z"
   },
   {
    "duration": 44,
    "start_time": "2022-04-25T11:13:56.400Z"
   },
   {
    "duration": 24,
    "start_time": "2022-04-25T11:13:56.447Z"
   },
   {
    "duration": 14,
    "start_time": "2022-04-25T11:13:56.474Z"
   },
   {
    "duration": 19,
    "start_time": "2022-04-25T11:13:56.490Z"
   },
   {
    "duration": 330,
    "start_time": "2022-04-25T11:13:56.523Z"
   },
   {
    "duration": 409,
    "start_time": "2022-04-25T11:13:56.856Z"
   },
   {
    "duration": 28,
    "start_time": "2022-04-25T11:13:57.267Z"
   },
   {
    "duration": 54,
    "start_time": "2022-04-25T11:13:57.297Z"
   },
   {
    "duration": 393,
    "start_time": "2022-04-25T11:13:57.355Z"
   },
   {
    "duration": 14,
    "start_time": "2022-04-25T11:13:57.751Z"
   },
   {
    "duration": 505,
    "start_time": "2022-04-25T11:13:57.766Z"
   },
   {
    "duration": 28,
    "start_time": "2022-04-25T11:13:58.274Z"
   },
   {
    "duration": 301,
    "start_time": "2022-04-25T11:13:58.323Z"
   },
   {
    "duration": 381,
    "start_time": "2022-04-25T11:13:58.628Z"
   },
   {
    "duration": 327,
    "start_time": "2022-04-25T11:13:59.015Z"
   },
   {
    "duration": 8,
    "start_time": "2022-04-25T11:13:59.345Z"
   },
   {
    "duration": 291,
    "start_time": "2022-04-25T11:13:59.357Z"
   },
   {
    "duration": 87,
    "start_time": "2022-04-25T11:13:59.650Z"
   },
   {
    "duration": 65,
    "start_time": "2022-04-25T11:13:59.743Z"
   },
   {
    "duration": 8,
    "start_time": "2022-04-25T11:13:59.811Z"
   },
   {
    "duration": 41,
    "start_time": "2022-04-25T11:13:59.830Z"
   },
   {
    "duration": 40,
    "start_time": "2022-04-25T11:13:59.874Z"
   },
   {
    "duration": 7,
    "start_time": "2022-04-25T11:13:59.916Z"
   },
   {
    "duration": 261,
    "start_time": "2022-04-25T11:13:59.933Z"
   },
   {
    "duration": 8,
    "start_time": "2022-04-25T11:14:00.196Z"
   },
   {
    "duration": 144,
    "start_time": "2022-04-25T11:14:00.206Z"
   },
   {
    "duration": 81,
    "start_time": "2022-04-25T11:14:00.353Z"
   },
   {
    "duration": 18,
    "start_time": "2022-04-25T11:14:00.439Z"
   },
   {
    "duration": 41,
    "start_time": "2022-04-25T11:14:00.461Z"
   },
   {
    "duration": 15,
    "start_time": "2022-04-25T11:14:00.504Z"
   },
   {
    "duration": 46,
    "start_time": "2022-04-25T11:14:00.521Z"
   },
   {
    "duration": 548,
    "start_time": "2022-04-25T11:14:00.569Z"
   },
   {
    "duration": 1020,
    "start_time": "2022-04-25T11:14:01.119Z"
   },
   {
    "duration": 898,
    "start_time": "2022-04-25T11:14:02.142Z"
   },
   {
    "duration": 919,
    "start_time": "2022-04-25T11:14:03.042Z"
   },
   {
    "duration": 12,
    "start_time": "2022-04-25T11:14:03.964Z"
   },
   {
    "duration": 19,
    "start_time": "2022-04-25T11:14:03.979Z"
   },
   {
    "duration": 254,
    "start_time": "2022-04-25T11:14:04.001Z"
   },
   {
    "duration": 219,
    "start_time": "2022-04-25T11:14:04.258Z"
   },
   {
    "duration": 412,
    "start_time": "2022-04-25T11:14:04.480Z"
   },
   {
    "duration": 7,
    "start_time": "2022-04-25T11:14:04.895Z"
   },
   {
    "duration": 30,
    "start_time": "2022-04-25T11:14:04.905Z"
   },
   {
    "duration": 24,
    "start_time": "2022-04-25T11:14:04.940Z"
   },
   {
    "duration": 20,
    "start_time": "2022-04-25T11:14:04.966Z"
   },
   {
    "duration": 10,
    "start_time": "2022-04-25T11:14:04.988Z"
   },
   {
    "duration": 12,
    "start_time": "2022-04-25T11:14:05.001Z"
   },
   {
    "duration": 45,
    "start_time": "2022-04-25T11:14:05.016Z"
   },
   {
    "duration": 16,
    "start_time": "2022-04-25T11:14:05.063Z"
   },
   {
    "duration": 13,
    "start_time": "2022-04-25T11:14:05.082Z"
   },
   {
    "duration": 68,
    "start_time": "2022-04-25T11:14:05.097Z"
   },
   {
    "duration": 10,
    "start_time": "2022-04-25T11:14:05.168Z"
   },
   {
    "duration": 16,
    "start_time": "2022-04-25T11:14:05.181Z"
   },
   {
    "duration": 21,
    "start_time": "2022-04-25T11:14:05.200Z"
   },
   {
    "duration": 39,
    "start_time": "2022-04-25T11:14:05.224Z"
   },
   {
    "duration": 10,
    "start_time": "2022-04-25T11:14:05.266Z"
   },
   {
    "duration": 13,
    "start_time": "2022-04-25T11:14:05.279Z"
   },
   {
    "duration": 10,
    "start_time": "2022-04-25T11:14:05.295Z"
   },
   {
    "duration": 12,
    "start_time": "2022-04-25T11:14:05.307Z"
   },
   {
    "duration": 65,
    "start_time": "2022-04-25T11:14:05.322Z"
   },
   {
    "duration": 11,
    "start_time": "2022-04-25T11:14:05.389Z"
   },
   {
    "duration": 11,
    "start_time": "2022-04-25T11:14:05.403Z"
   },
   {
    "duration": 17,
    "start_time": "2022-04-25T11:14:05.417Z"
   },
   {
    "duration": 51,
    "start_time": "2022-04-25T12:15:41.297Z"
   },
   {
    "duration": 1383,
    "start_time": "2022-04-25T12:15:49.018Z"
   },
   {
    "duration": 33,
    "start_time": "2022-04-25T12:15:50.717Z"
   },
   {
    "duration": 8,
    "start_time": "2022-04-25T12:15:51.234Z"
   },
   {
    "duration": 11,
    "start_time": "2022-04-25T12:15:51.644Z"
   },
   {
    "duration": 103,
    "start_time": "2022-04-25T12:15:52.421Z"
   },
   {
    "duration": 17,
    "start_time": "2022-04-25T12:15:52.540Z"
   },
   {
    "duration": 145,
    "start_time": "2022-04-25T12:15:53.137Z"
   },
   {
    "duration": 20,
    "start_time": "2022-04-25T12:15:53.284Z"
   },
   {
    "duration": 180,
    "start_time": "2022-04-25T12:16:02.896Z"
   },
   {
    "duration": 23,
    "start_time": "2022-04-25T12:16:03.140Z"
   },
   {
    "duration": 78,
    "start_time": "2022-04-25T12:16:05.778Z"
   },
   {
    "duration": 57,
    "start_time": "2022-04-25T12:16:06.418Z"
   },
   {
    "duration": 5,
    "start_time": "2022-04-25T12:16:07.068Z"
   },
   {
    "duration": 14,
    "start_time": "2022-04-25T12:16:14.347Z"
   },
   {
    "duration": 9,
    "start_time": "2022-04-25T12:16:14.598Z"
   },
   {
    "duration": 12,
    "start_time": "2022-04-25T12:16:14.788Z"
   },
   {
    "duration": 9,
    "start_time": "2022-04-25T12:16:14.987Z"
   },
   {
    "duration": 189,
    "start_time": "2022-04-25T12:16:15.620Z"
   },
   {
    "duration": 234,
    "start_time": "2022-04-25T12:16:15.815Z"
   },
   {
    "duration": 37,
    "start_time": "2022-04-25T12:16:17.138Z"
   },
   {
    "duration": 36,
    "start_time": "2022-04-25T12:16:17.778Z"
   },
   {
    "duration": 329,
    "start_time": "2022-04-25T12:16:18.252Z"
   },
   {
    "duration": 12,
    "start_time": "2022-04-25T12:16:18.583Z"
   },
   {
    "duration": 489,
    "start_time": "2022-04-25T12:16:18.957Z"
   },
   {
    "duration": 26,
    "start_time": "2022-04-25T12:16:27.220Z"
   },
   {
    "duration": 165,
    "start_time": "2022-04-25T12:16:28.017Z"
   },
   {
    "duration": 250,
    "start_time": "2022-04-25T12:16:28.308Z"
   },
   {
    "duration": 171,
    "start_time": "2022-04-25T12:16:29.019Z"
   },
   {
    "duration": 4,
    "start_time": "2022-04-25T12:16:30.239Z"
   },
   {
    "duration": 154,
    "start_time": "2022-04-25T12:16:30.739Z"
   },
   {
    "duration": 47,
    "start_time": "2022-04-25T12:16:32.258Z"
   },
   {
    "duration": 29,
    "start_time": "2022-04-25T12:16:33.148Z"
   },
   {
    "duration": 5,
    "start_time": "2022-04-25T12:16:33.577Z"
   },
   {
    "duration": 10,
    "start_time": "2022-04-25T12:16:33.979Z"
   },
   {
    "duration": 22,
    "start_time": "2022-04-25T12:16:34.686Z"
   },
   {
    "duration": 5,
    "start_time": "2022-04-25T12:16:40.020Z"
   },
   {
    "duration": 149,
    "start_time": "2022-04-25T12:16:48.887Z"
   },
   {
    "duration": 5,
    "start_time": "2022-04-25T12:16:49.257Z"
   },
   {
    "duration": 5,
    "start_time": "2022-04-25T12:16:51.218Z"
   },
   {
    "duration": 24,
    "start_time": "2022-04-25T12:16:53.939Z"
   },
   {
    "duration": 7,
    "start_time": "2022-04-25T12:16:57.860Z"
   },
   {
    "duration": 7,
    "start_time": "2022-04-25T12:16:58.576Z"
   },
   {
    "duration": 8,
    "start_time": "2022-04-25T12:17:00.497Z"
   },
   {
    "duration": 9,
    "start_time": "2022-04-25T12:17:00.897Z"
   },
   {
    "duration": 416,
    "start_time": "2022-04-25T12:17:04.508Z"
   },
   {
    "duration": 571,
    "start_time": "2022-04-25T12:17:05.198Z"
   },
   {
    "duration": 493,
    "start_time": "2022-04-25T12:17:13.059Z"
   },
   {
    "duration": 488,
    "start_time": "2022-04-25T12:17:14.341Z"
   },
   {
    "duration": 8,
    "start_time": "2022-04-25T12:17:18.489Z"
   },
   {
    "duration": 7,
    "start_time": "2022-04-25T12:17:19.138Z"
   },
   {
    "duration": 133,
    "start_time": "2022-04-25T12:17:19.748Z"
   },
   {
    "duration": 164,
    "start_time": "2022-04-25T12:17:32.018Z"
   },
   {
    "duration": 226,
    "start_time": "2022-04-25T12:17:33.378Z"
   },
   {
    "duration": 167,
    "start_time": "2022-04-25T12:17:41.279Z"
   },
   {
    "duration": 6,
    "start_time": "2022-04-25T12:17:45.937Z"
   },
   {
    "duration": 5,
    "start_time": "2022-04-25T12:17:46.221Z"
   },
   {
    "duration": 5,
    "start_time": "2022-04-25T12:17:46.567Z"
   },
   {
    "duration": 10,
    "start_time": "2022-04-25T12:17:46.941Z"
   },
   {
    "duration": 5,
    "start_time": "2022-04-25T12:17:48.118Z"
   },
   {
    "duration": 5,
    "start_time": "2022-04-25T12:17:48.717Z"
   },
   {
    "duration": 7,
    "start_time": "2022-04-25T12:17:49.100Z"
   },
   {
    "duration": 15,
    "start_time": "2022-04-25T12:17:49.369Z"
   },
   {
    "duration": 6,
    "start_time": "2022-04-25T12:17:50.098Z"
   },
   {
    "duration": 7,
    "start_time": "2022-04-25T12:17:50.819Z"
   },
   {
    "duration": 7,
    "start_time": "2022-04-25T12:17:51.300Z"
   },
   {
    "duration": 20,
    "start_time": "2022-04-25T12:17:51.617Z"
   },
   {
    "duration": 12,
    "start_time": "2022-04-25T12:17:52.017Z"
   },
   {
    "duration": 5,
    "start_time": "2022-04-25T12:17:58.897Z"
   },
   {
    "duration": 4,
    "start_time": "2022-04-25T12:17:59.258Z"
   },
   {
    "duration": 6,
    "start_time": "2022-04-25T12:17:59.538Z"
   },
   {
    "duration": 8,
    "start_time": "2022-04-25T12:18:03.828Z"
   },
   {
    "duration": 4,
    "start_time": "2022-04-25T12:18:04.584Z"
   },
   {
    "duration": 34,
    "start_time": "2022-04-25T12:18:05.217Z"
   },
   {
    "duration": 5,
    "start_time": "2022-04-25T12:18:05.541Z"
   },
   {
    "duration": 4,
    "start_time": "2022-04-25T12:18:07.379Z"
   },
   {
    "duration": 5,
    "start_time": "2022-04-25T12:18:09.457Z"
   },
   {
    "duration": 1598,
    "start_time": "2022-09-19T10:45:38.442Z"
   },
   {
    "duration": 75,
    "start_time": "2022-09-19T10:45:40.042Z"
   },
   {
    "duration": 7,
    "start_time": "2022-09-19T10:45:40.118Z"
   },
   {
    "duration": 13,
    "start_time": "2022-09-19T10:45:40.127Z"
   },
   {
    "duration": 317,
    "start_time": "2022-09-19T10:45:40.142Z"
   },
   {
    "duration": 20,
    "start_time": "2022-09-19T10:45:40.461Z"
   },
   {
    "duration": 316,
    "start_time": "2022-09-19T10:45:40.482Z"
   },
   {
    "duration": 20,
    "start_time": "2022-09-19T10:45:40.800Z"
   },
   {
    "duration": 224,
    "start_time": "2022-09-19T10:45:40.821Z"
   },
   {
    "duration": 35,
    "start_time": "2022-09-19T10:45:41.046Z"
   },
   {
    "duration": 68,
    "start_time": "2022-09-19T10:45:41.083Z"
   },
   {
    "duration": 49,
    "start_time": "2022-09-19T10:45:41.152Z"
   },
   {
    "duration": 5,
    "start_time": "2022-09-19T10:45:41.202Z"
   },
   {
    "duration": 11,
    "start_time": "2022-09-19T10:45:41.221Z"
   },
   {
    "duration": 10,
    "start_time": "2022-09-19T10:45:41.233Z"
   },
   {
    "duration": 11,
    "start_time": "2022-09-19T10:45:41.244Z"
   },
   {
    "duration": 10,
    "start_time": "2022-09-19T10:45:41.257Z"
   },
   {
    "duration": 200,
    "start_time": "2022-09-19T10:45:41.268Z"
   },
   {
    "duration": 231,
    "start_time": "2022-09-19T10:45:41.469Z"
   },
   {
    "duration": 25,
    "start_time": "2022-09-19T10:45:41.702Z"
   },
   {
    "duration": 19,
    "start_time": "2022-09-19T10:45:41.729Z"
   },
   {
    "duration": 213,
    "start_time": "2022-09-19T10:45:41.749Z"
   },
   {
    "duration": 12,
    "start_time": "2022-09-19T10:45:41.965Z"
   },
   {
    "duration": 313,
    "start_time": "2022-09-19T10:45:41.979Z"
   },
   {
    "duration": 29,
    "start_time": "2022-09-19T10:45:42.294Z"
   },
   {
    "duration": 244,
    "start_time": "2022-09-19T10:45:42.325Z"
   },
   {
    "duration": 155,
    "start_time": "2022-09-19T10:45:42.570Z"
   },
   {
    "duration": 175,
    "start_time": "2022-09-19T10:45:42.726Z"
   },
   {
    "duration": 6,
    "start_time": "2022-09-19T10:45:42.903Z"
   },
   {
    "duration": 165,
    "start_time": "2022-09-19T10:45:42.910Z"
   },
   {
    "duration": 61,
    "start_time": "2022-09-19T10:45:43.077Z"
   },
   {
    "duration": 29,
    "start_time": "2022-09-19T10:45:43.139Z"
   },
   {
    "duration": 5,
    "start_time": "2022-09-19T10:45:43.169Z"
   },
   {
    "duration": 40,
    "start_time": "2022-09-19T10:45:43.175Z"
   },
   {
    "duration": 29,
    "start_time": "2022-09-19T10:45:43.217Z"
   },
   {
    "duration": 10,
    "start_time": "2022-09-19T10:45:43.248Z"
   },
   {
    "duration": 163,
    "start_time": "2022-09-19T10:45:43.259Z"
   },
   {
    "duration": 4,
    "start_time": "2022-09-19T10:45:43.424Z"
   },
   {
    "duration": 25,
    "start_time": "2022-09-19T10:45:43.430Z"
   },
   {
    "duration": 32,
    "start_time": "2022-09-19T10:45:43.456Z"
   },
   {
    "duration": 27,
    "start_time": "2022-09-19T10:45:43.492Z"
   },
   {
    "duration": 36,
    "start_time": "2022-09-19T10:45:43.521Z"
   },
   {
    "duration": 22,
    "start_time": "2022-09-19T10:45:43.559Z"
   },
   {
    "duration": 28,
    "start_time": "2022-09-19T10:45:43.582Z"
   },
   {
    "duration": 298,
    "start_time": "2022-09-19T10:45:43.611Z"
   },
   {
    "duration": 560,
    "start_time": "2022-09-19T10:45:43.910Z"
   },
   {
    "duration": 473,
    "start_time": "2022-09-19T10:45:44.471Z"
   },
   {
    "duration": 500,
    "start_time": "2022-09-19T10:45:44.946Z"
   },
   {
    "duration": 8,
    "start_time": "2022-09-19T10:45:45.448Z"
   },
   {
    "duration": 9,
    "start_time": "2022-09-19T10:45:45.457Z"
   },
   {
    "duration": 133,
    "start_time": "2022-09-19T10:45:45.468Z"
   },
   {
    "duration": 230,
    "start_time": "2022-09-19T10:45:45.603Z"
   },
   {
    "duration": 132,
    "start_time": "2022-09-19T10:45:45.836Z"
   },
   {
    "duration": 4,
    "start_time": "2022-09-19T10:45:45.970Z"
   },
   {
    "duration": 8,
    "start_time": "2022-09-19T10:45:45.975Z"
   },
   {
    "duration": 6,
    "start_time": "2022-09-19T10:45:45.985Z"
   },
   {
    "duration": 32,
    "start_time": "2022-09-19T10:45:45.992Z"
   },
   {
    "duration": 11,
    "start_time": "2022-09-19T10:45:46.025Z"
   },
   {
    "duration": 8,
    "start_time": "2022-09-19T10:45:46.038Z"
   },
   {
    "duration": 12,
    "start_time": "2022-09-19T10:45:46.048Z"
   },
   {
    "duration": 11,
    "start_time": "2022-09-19T10:45:46.061Z"
   },
   {
    "duration": 10,
    "start_time": "2022-09-19T10:45:46.073Z"
   },
   {
    "duration": 8,
    "start_time": "2022-09-19T10:45:46.085Z"
   },
   {
    "duration": 10,
    "start_time": "2022-09-19T10:45:46.095Z"
   },
   {
    "duration": 24,
    "start_time": "2022-09-19T10:45:46.107Z"
   },
   {
    "duration": 14,
    "start_time": "2022-09-19T10:45:46.133Z"
   },
   {
    "duration": 10,
    "start_time": "2022-09-19T10:45:46.149Z"
   },
   {
    "duration": 7,
    "start_time": "2022-09-19T10:45:46.160Z"
   },
   {
    "duration": 7,
    "start_time": "2022-09-19T10:45:46.169Z"
   },
   {
    "duration": 8,
    "start_time": "2022-09-19T10:45:46.177Z"
   },
   {
    "duration": 25,
    "start_time": "2022-09-19T10:45:46.186Z"
   },
   {
    "duration": 27,
    "start_time": "2022-09-19T10:45:46.213Z"
   },
   {
    "duration": 5,
    "start_time": "2022-09-19T10:45:46.241Z"
   },
   {
    "duration": 7,
    "start_time": "2022-09-19T10:45:46.248Z"
   },
   {
    "duration": 8,
    "start_time": "2022-09-19T10:45:46.257Z"
   }
  ],
  "kernelspec": {
   "display_name": "Python 3 (ipykernel)",
   "language": "python",
   "name": "python3"
  },
  "language_info": {
   "codemirror_mode": {
    "name": "ipython",
    "version": 3
   },
   "file_extension": ".py",
   "mimetype": "text/x-python",
   "name": "python",
   "nbconvert_exporter": "python",
   "pygments_lexer": "ipython3",
   "version": "3.9.7"
  },
  "toc": {
   "base_numbering": 1,
   "nav_menu": {},
   "number_sections": true,
   "sideBar": true,
   "skip_h1_title": true,
   "title_cell": "Table of Contents",
   "title_sidebar": "Contents",
   "toc_cell": false,
   "toc_position": {},
   "toc_section_display": true,
   "toc_window_display": true
  }
 },
 "nbformat": 4,
 "nbformat_minor": 5
}
