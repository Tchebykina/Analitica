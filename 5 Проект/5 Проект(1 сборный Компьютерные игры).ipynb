{
 "cells": [
  {
   "cell_type": "markdown",
   "metadata": {},
   "source": [
    "<h1>Содержание<span class=\"tocSkip\"></span></h1>\n",
    "<div class=\"toc\"><ul class=\"toc-item\"><li><span><a href=\"#Изучение-данных-из-файла\" data-toc-modified-id=\"Изучение-данных-из-файла-1\"><span class=\"toc-item-num\">1&nbsp;&nbsp;</span>Изучение данных из файла</a></span><ul class=\"toc-item\"><li><span><a  href=\"#Предобработка-данных\" data-toc-modified-id=\"Предобработка-данных-2\"><span class=\"toc-item-num\">2&nbsp;&nbsp;</span>Предобработка данных</a></span></li><li><span><a href=\"#Исследовательский-анализ-данных\" data-toc-modified-id=\"Исследовательский-анализ-данных-3\"><span class=\"toc-item-num\">3&nbsp;&nbsp;</span>Исследовательский анализ данных</a></span></li><li><span><a href=\"#Портрет-пользователя-каждого-региона\" data-toc-modified-id=\"Портрет-пользователя-каждого-региона-4\"><span class=\"toc-item-num\">4&nbsp;&nbsp;</span>Портрет пользователя каждого региона</a></span></li><li><span><a href=\"#Проверьте-гипотезы\" data-toc-modified-id=\"Проверьте-гипотезы-5\"><span class=\"toc-item-num\">5&nbsp;&nbsp;</span>Проверьте гипотезы</a></span></li><li><span><a href=\"#Общий-вывод\" data-toc-modified-id=\"Общий-вывод-6\"><span class=\"toc-item-num\">6&nbsp;&nbsp;</span>Общий вывод</a></span></li><li><span><a "
   ]
  },
  {
   "cell_type": "markdown",
   "metadata": {},
   "source": [
    "### Описание проекта\n",
    "* Вы работаете в интернет-магазине «Стримчик», который продаёт по всему миру\n",
    "компьютерные игры. Из открытых источников доступны исторические данные о\n",
    "продажах игр, оценки пользователей и экспертов, жанры и платформы (например,\n",
    "Xboxили PlayStation). Вам нужно выявить определяющие успешность игры\n",
    "закономерности. Это позволит сделать ставку на потенциально популярный продукт и\n",
    "спланировать рекламные кампании.\n",
    "* Перед вами данные до 2016 года. Представим, что сейчас декабрь 2016 г., и вы\n",
    "планируете кампанию на 2017-й. Нужно отработать принцип работы с данными.\n",
    "Неважно, прогнозируете ли вы продажи на 2017 год по данным 2016-го или же 2027-й\n",
    "— по данным 2026 года.\n",
    "* В наборе данных попадается аббревиатура ESRB (Entertainment Software Rating Board)\n",
    "— это ассоциация, определяющая возрастной рейтинг компьютерных игр. ESRB\n",
    "оценивает игровой контент и присваивает ему подходящую возрастную категорию,\n",
    "например, «Для взрослых», «Для детей младшего возраста» или «Для подростков»."
   ]
  },
  {
   "cell_type": "markdown",
   "metadata": {},
   "source": [
    "Описание данных\n",
    "\n",
    "Name — название игры\n",
    "\n",
    "Platform — платформа\n",
    "\n",
    "Year_of_Release — год выпуска\n",
    "\n",
    "Genre — жанр игры\n",
    "\n",
    "NA_sales — продажи в Северной Америке (миллионы долларов)\n",
    "\n",
    "EU_sales — продажи в Европе (миллионы долларов)\n",
    "\n",
    "JP_sales — продажи в Японии (миллионы долларов)\n",
    "\n",
    "Other_sales — продажи в других странах (миллионы долларов)\n",
    "\n",
    "Critic_Score — оценка критиков (максимум 100)\n",
    "\n",
    "User_Score — оценка пользователей (максимум 10)\n",
    "\n",
    "Rating — рейтинг от организации ESRB (англ. Entertainment Software Rating Board). Эта ассоциация определяет рейтинг компьютерных игр и присваивает им подходящую возрастную категорию."
   ]
  },
  {
   "cell_type": "code",
   "execution_count": 1,
   "metadata": {},
   "outputs": [],
   "source": [
    "import pandas as pd\n",
    "from scipy import stats as st\n",
    "import numpy as np\n",
    "import warnings\n",
    "warnings.filterwarnings(\"ignore\")"
   ]
  },
  {
   "cell_type": "code",
   "execution_count": 2,
   "metadata": {},
   "outputs": [],
   "source": [
    "games = pd.read_csv('/datasets/games.csv')"
   ]
  },
  {
   "cell_type": "code",
   "execution_count": 3,
   "metadata": {},
   "outputs": [
    {
     "data": {
      "text/html": [
       "<div>\n",
       "<style scoped>\n",
       "    .dataframe tbody tr th:only-of-type {\n",
       "        vertical-align: middle;\n",
       "    }\n",
       "\n",
       "    .dataframe tbody tr th {\n",
       "        vertical-align: top;\n",
       "    }\n",
       "\n",
       "    .dataframe thead th {\n",
       "        text-align: right;\n",
       "    }\n",
       "</style>\n",
       "<table border=\"1\" class=\"dataframe\">\n",
       "  <thead>\n",
       "    <tr style=\"text-align: right;\">\n",
       "      <th></th>\n",
       "      <th>Name</th>\n",
       "      <th>Platform</th>\n",
       "      <th>Year_of_Release</th>\n",
       "      <th>Genre</th>\n",
       "      <th>NA_sales</th>\n",
       "      <th>EU_sales</th>\n",
       "      <th>JP_sales</th>\n",
       "      <th>Other_sales</th>\n",
       "      <th>Critic_Score</th>\n",
       "      <th>User_Score</th>\n",
       "      <th>Rating</th>\n",
       "    </tr>\n",
       "  </thead>\n",
       "  <tbody>\n",
       "    <tr>\n",
       "      <th>0</th>\n",
       "      <td>Wii Sports</td>\n",
       "      <td>Wii</td>\n",
       "      <td>2006.0</td>\n",
       "      <td>Sports</td>\n",
       "      <td>41.36</td>\n",
       "      <td>28.96</td>\n",
       "      <td>3.77</td>\n",
       "      <td>8.45</td>\n",
       "      <td>76.0</td>\n",
       "      <td>8</td>\n",
       "      <td>E</td>\n",
       "    </tr>\n",
       "    <tr>\n",
       "      <th>1</th>\n",
       "      <td>Super Mario Bros.</td>\n",
       "      <td>NES</td>\n",
       "      <td>1985.0</td>\n",
       "      <td>Platform</td>\n",
       "      <td>29.08</td>\n",
       "      <td>3.58</td>\n",
       "      <td>6.81</td>\n",
       "      <td>0.77</td>\n",
       "      <td>NaN</td>\n",
       "      <td>NaN</td>\n",
       "      <td>NaN</td>\n",
       "    </tr>\n",
       "    <tr>\n",
       "      <th>2</th>\n",
       "      <td>Mario Kart Wii</td>\n",
       "      <td>Wii</td>\n",
       "      <td>2008.0</td>\n",
       "      <td>Racing</td>\n",
       "      <td>15.68</td>\n",
       "      <td>12.76</td>\n",
       "      <td>3.79</td>\n",
       "      <td>3.29</td>\n",
       "      <td>82.0</td>\n",
       "      <td>8.3</td>\n",
       "      <td>E</td>\n",
       "    </tr>\n",
       "    <tr>\n",
       "      <th>3</th>\n",
       "      <td>Wii Sports Resort</td>\n",
       "      <td>Wii</td>\n",
       "      <td>2009.0</td>\n",
       "      <td>Sports</td>\n",
       "      <td>15.61</td>\n",
       "      <td>10.93</td>\n",
       "      <td>3.28</td>\n",
       "      <td>2.95</td>\n",
       "      <td>80.0</td>\n",
       "      <td>8</td>\n",
       "      <td>E</td>\n",
       "    </tr>\n",
       "    <tr>\n",
       "      <th>4</th>\n",
       "      <td>Pokemon Red/Pokemon Blue</td>\n",
       "      <td>GB</td>\n",
       "      <td>1996.0</td>\n",
       "      <td>Role-Playing</td>\n",
       "      <td>11.27</td>\n",
       "      <td>8.89</td>\n",
       "      <td>10.22</td>\n",
       "      <td>1.00</td>\n",
       "      <td>NaN</td>\n",
       "      <td>NaN</td>\n",
       "      <td>NaN</td>\n",
       "    </tr>\n",
       "    <tr>\n",
       "      <th>5</th>\n",
       "      <td>Tetris</td>\n",
       "      <td>GB</td>\n",
       "      <td>1989.0</td>\n",
       "      <td>Puzzle</td>\n",
       "      <td>23.20</td>\n",
       "      <td>2.26</td>\n",
       "      <td>4.22</td>\n",
       "      <td>0.58</td>\n",
       "      <td>NaN</td>\n",
       "      <td>NaN</td>\n",
       "      <td>NaN</td>\n",
       "    </tr>\n",
       "    <tr>\n",
       "      <th>6</th>\n",
       "      <td>New Super Mario Bros.</td>\n",
       "      <td>DS</td>\n",
       "      <td>2006.0</td>\n",
       "      <td>Platform</td>\n",
       "      <td>11.28</td>\n",
       "      <td>9.14</td>\n",
       "      <td>6.50</td>\n",
       "      <td>2.88</td>\n",
       "      <td>89.0</td>\n",
       "      <td>8.5</td>\n",
       "      <td>E</td>\n",
       "    </tr>\n",
       "    <tr>\n",
       "      <th>7</th>\n",
       "      <td>Wii Play</td>\n",
       "      <td>Wii</td>\n",
       "      <td>2006.0</td>\n",
       "      <td>Misc</td>\n",
       "      <td>13.96</td>\n",
       "      <td>9.18</td>\n",
       "      <td>2.93</td>\n",
       "      <td>2.84</td>\n",
       "      <td>58.0</td>\n",
       "      <td>6.6</td>\n",
       "      <td>E</td>\n",
       "    </tr>\n",
       "    <tr>\n",
       "      <th>8</th>\n",
       "      <td>New Super Mario Bros. Wii</td>\n",
       "      <td>Wii</td>\n",
       "      <td>2009.0</td>\n",
       "      <td>Platform</td>\n",
       "      <td>14.44</td>\n",
       "      <td>6.94</td>\n",
       "      <td>4.70</td>\n",
       "      <td>2.24</td>\n",
       "      <td>87.0</td>\n",
       "      <td>8.4</td>\n",
       "      <td>E</td>\n",
       "    </tr>\n",
       "    <tr>\n",
       "      <th>9</th>\n",
       "      <td>Duck Hunt</td>\n",
       "      <td>NES</td>\n",
       "      <td>1984.0</td>\n",
       "      <td>Shooter</td>\n",
       "      <td>26.93</td>\n",
       "      <td>0.63</td>\n",
       "      <td>0.28</td>\n",
       "      <td>0.47</td>\n",
       "      <td>NaN</td>\n",
       "      <td>NaN</td>\n",
       "      <td>NaN</td>\n",
       "    </tr>\n",
       "  </tbody>\n",
       "</table>\n",
       "</div>"
      ],
      "text/plain": [
       "                        Name Platform  Year_of_Release         Genre  \\\n",
       "0                 Wii Sports      Wii           2006.0        Sports   \n",
       "1          Super Mario Bros.      NES           1985.0      Platform   \n",
       "2             Mario Kart Wii      Wii           2008.0        Racing   \n",
       "3          Wii Sports Resort      Wii           2009.0        Sports   \n",
       "4   Pokemon Red/Pokemon Blue       GB           1996.0  Role-Playing   \n",
       "5                     Tetris       GB           1989.0        Puzzle   \n",
       "6      New Super Mario Bros.       DS           2006.0      Platform   \n",
       "7                   Wii Play      Wii           2006.0          Misc   \n",
       "8  New Super Mario Bros. Wii      Wii           2009.0      Platform   \n",
       "9                  Duck Hunt      NES           1984.0       Shooter   \n",
       "\n",
       "   NA_sales  EU_sales  JP_sales  Other_sales  Critic_Score User_Score Rating  \n",
       "0     41.36     28.96      3.77         8.45          76.0          8      E  \n",
       "1     29.08      3.58      6.81         0.77           NaN        NaN    NaN  \n",
       "2     15.68     12.76      3.79         3.29          82.0        8.3      E  \n",
       "3     15.61     10.93      3.28         2.95          80.0          8      E  \n",
       "4     11.27      8.89     10.22         1.00           NaN        NaN    NaN  \n",
       "5     23.20      2.26      4.22         0.58           NaN        NaN    NaN  \n",
       "6     11.28      9.14      6.50         2.88          89.0        8.5      E  \n",
       "7     13.96      9.18      2.93         2.84          58.0        6.6      E  \n",
       "8     14.44      6.94      4.70         2.24          87.0        8.4      E  \n",
       "9     26.93      0.63      0.28         0.47           NaN        NaN    NaN  "
      ]
     },
     "execution_count": 3,
     "metadata": {},
     "output_type": "execute_result"
    }
   ],
   "source": [
    "games.head(10)"
   ]
  },
  {
   "cell_type": "markdown",
   "metadata": {},
   "source": [
    "Посмотрим общую информацию о датафрейме."
   ]
  },
  {
   "cell_type": "code",
   "execution_count": 4,
   "metadata": {},
   "outputs": [
    {
     "name": "stdout",
     "output_type": "stream",
     "text": [
      "<class 'pandas.core.frame.DataFrame'>\n",
      "RangeIndex: 16715 entries, 0 to 16714\n",
      "Data columns (total 11 columns):\n",
      " #   Column           Non-Null Count  Dtype  \n",
      "---  ------           --------------  -----  \n",
      " 0   Name             16713 non-null  object \n",
      " 1   Platform         16715 non-null  object \n",
      " 2   Year_of_Release  16446 non-null  float64\n",
      " 3   Genre            16713 non-null  object \n",
      " 4   NA_sales         16715 non-null  float64\n",
      " 5   EU_sales         16715 non-null  float64\n",
      " 6   JP_sales         16715 non-null  float64\n",
      " 7   Other_sales      16715 non-null  float64\n",
      " 8   Critic_Score     8137 non-null   float64\n",
      " 9   User_Score       10014 non-null  object \n",
      " 10  Rating           9949 non-null   object \n",
      "dtypes: float64(6), object(5)\n",
      "memory usage: 1.4+ MB\n"
     ]
    }
   ],
   "source": [
    "games.info()"
   ]
  },
  {
   "cell_type": "markdown",
   "metadata": {},
   "source": [
    "Пропущенных значений много в столбцах \"Critic_Score \", \"User_Score\", \"Rating\". Так же есть немного пропущенных значений в столбце \"Year_of_Release\".\n",
    "\n",
    "critic_score - оценка критиков - вполне возможно, что игры не оценивались критиками.\n",
    "\n",
    "rating - рейтинг от ESRB - может быть ранее не было такой организации.\n",
    "\n",
    "user_score - вероятно, не оставили оценку.\n",
    "\n",
    "Предлагаю пропуски в этих столбцах оставить как есть, чтобы иметь возможность максимально правдоподобно оценить оценку критиков, рейтинг и сервис по оценке. Где они есть\n",
    "\n",
    "Year_of_Release - год выпуска. По среднему и по медиане заполнять не очень правильно. Предлагаю пропуски в этих столбцах оставить как есть\n",
    "\n",
    "В столбце \"user_score\" численный показатель, а имеет тип object - меняем на float."
   ]
  },
  {
   "cell_type": "markdown",
   "metadata": {},
   "source": [
    "### Предобработка данных¶"
   ]
  },
  {
   "cell_type": "markdown",
   "metadata": {},
   "source": [
    "Заменем название столбцов(приведем к нижнему регистру).\n"
   ]
  },
  {
   "cell_type": "code",
   "execution_count": 5,
   "metadata": {},
   "outputs": [],
   "source": [
    "games.columns = games.columns.str.lower()"
   ]
  },
  {
   "cell_type": "markdown",
   "metadata": {},
   "source": [
    "Изменение типа данных по столбцу \"user_score\"."
   ]
  },
  {
   "cell_type": "code",
   "execution_count": 6,
   "metadata": {},
   "outputs": [
    {
     "data": {
      "text/plain": [
       "array(['8', nan, '8.3', '8.5', '6.6', '8.4', '8.6', '7.7', '6.3', '7.4',\n",
       "       '8.2', '9', '7.9', '8.1', '8.7', '7.1', '3.4', '5.3', '4.8', '3.2',\n",
       "       '8.9', '6.4', '7.8', '7.5', '2.6', '7.2', '9.2', '7', '7.3', '4.3',\n",
       "       '7.6', '5.7', '5', '9.1', '6.5', 'tbd', '8.8', '6.9', '9.4', '6.8',\n",
       "       '6.1', '6.7', '5.4', '4', '4.9', '4.5', '9.3', '6.2', '4.2', '6',\n",
       "       '3.7', '4.1', '5.8', '5.6', '5.5', '4.4', '4.6', '5.9', '3.9',\n",
       "       '3.1', '2.9', '5.2', '3.3', '4.7', '5.1', '3.5', '2.5', '1.9', '3',\n",
       "       '2.7', '2.2', '2', '9.5', '2.1', '3.6', '2.8', '1.8', '3.8', '0',\n",
       "       '1.6', '9.6', '2.4', '1.7', '1.1', '0.3', '1.5', '0.7', '1.2',\n",
       "       '2.3', '0.5', '1.3', '0.2', '0.6', '1.4', '0.9', '1', '9.7'],\n",
       "      dtype=object)"
      ]
     },
     "execution_count": 6,
     "metadata": {},
     "output_type": "execute_result"
    }
   ],
   "source": [
    "#Смотрим на уникальные значения столбца\n",
    "games['user_score'].unique()"
   ]
  },
  {
   "cell_type": "markdown",
   "metadata": {},
   "source": [
    "Помимо пропусков, есть \"tbd\". Посмотрим, сколько их:"
   ]
  },
  {
   "cell_type": "code",
   "execution_count": 7,
   "metadata": {},
   "outputs": [
    {
     "data": {
      "text/html": [
       "<div>\n",
       "<style scoped>\n",
       "    .dataframe tbody tr th:only-of-type {\n",
       "        vertical-align: middle;\n",
       "    }\n",
       "\n",
       "    .dataframe tbody tr th {\n",
       "        vertical-align: top;\n",
       "    }\n",
       "\n",
       "    .dataframe thead th {\n",
       "        text-align: right;\n",
       "    }\n",
       "</style>\n",
       "<table border=\"1\" class=\"dataframe\">\n",
       "  <thead>\n",
       "    <tr style=\"text-align: right;\">\n",
       "      <th></th>\n",
       "      <th>name</th>\n",
       "      <th>platform</th>\n",
       "      <th>year_of_release</th>\n",
       "      <th>genre</th>\n",
       "      <th>na_sales</th>\n",
       "      <th>eu_sales</th>\n",
       "      <th>jp_sales</th>\n",
       "      <th>other_sales</th>\n",
       "      <th>critic_score</th>\n",
       "      <th>user_score</th>\n",
       "      <th>rating</th>\n",
       "    </tr>\n",
       "  </thead>\n",
       "  <tbody>\n",
       "    <tr>\n",
       "      <th>119</th>\n",
       "      <td>Zumba Fitness</td>\n",
       "      <td>Wii</td>\n",
       "      <td>2010.0</td>\n",
       "      <td>Sports</td>\n",
       "      <td>3.45</td>\n",
       "      <td>2.59</td>\n",
       "      <td>0.0</td>\n",
       "      <td>0.66</td>\n",
       "      <td>NaN</td>\n",
       "      <td>tbd</td>\n",
       "      <td>E</td>\n",
       "    </tr>\n",
       "    <tr>\n",
       "      <th>301</th>\n",
       "      <td>Namco Museum: 50th Anniversary</td>\n",
       "      <td>PS2</td>\n",
       "      <td>2005.0</td>\n",
       "      <td>Misc</td>\n",
       "      <td>2.08</td>\n",
       "      <td>1.35</td>\n",
       "      <td>0.0</td>\n",
       "      <td>0.54</td>\n",
       "      <td>61.0</td>\n",
       "      <td>tbd</td>\n",
       "      <td>E10+</td>\n",
       "    </tr>\n",
       "    <tr>\n",
       "      <th>520</th>\n",
       "      <td>Zumba Fitness 2</td>\n",
       "      <td>Wii</td>\n",
       "      <td>2011.0</td>\n",
       "      <td>Sports</td>\n",
       "      <td>1.51</td>\n",
       "      <td>1.03</td>\n",
       "      <td>0.0</td>\n",
       "      <td>0.27</td>\n",
       "      <td>NaN</td>\n",
       "      <td>tbd</td>\n",
       "      <td>T</td>\n",
       "    </tr>\n",
       "    <tr>\n",
       "      <th>645</th>\n",
       "      <td>uDraw Studio</td>\n",
       "      <td>Wii</td>\n",
       "      <td>2010.0</td>\n",
       "      <td>Misc</td>\n",
       "      <td>1.65</td>\n",
       "      <td>0.57</td>\n",
       "      <td>0.0</td>\n",
       "      <td>0.20</td>\n",
       "      <td>71.0</td>\n",
       "      <td>tbd</td>\n",
       "      <td>E</td>\n",
       "    </tr>\n",
       "    <tr>\n",
       "      <th>657</th>\n",
       "      <td>Frogger's Adventures: Temple of the Frog</td>\n",
       "      <td>GBA</td>\n",
       "      <td>NaN</td>\n",
       "      <td>Adventure</td>\n",
       "      <td>2.15</td>\n",
       "      <td>0.18</td>\n",
       "      <td>0.0</td>\n",
       "      <td>0.07</td>\n",
       "      <td>73.0</td>\n",
       "      <td>tbd</td>\n",
       "      <td>E</td>\n",
       "    </tr>\n",
       "    <tr>\n",
       "      <th>...</th>\n",
       "      <td>...</td>\n",
       "      <td>...</td>\n",
       "      <td>...</td>\n",
       "      <td>...</td>\n",
       "      <td>...</td>\n",
       "      <td>...</td>\n",
       "      <td>...</td>\n",
       "      <td>...</td>\n",
       "      <td>...</td>\n",
       "      <td>...</td>\n",
       "      <td>...</td>\n",
       "    </tr>\n",
       "    <tr>\n",
       "      <th>16695</th>\n",
       "      <td>Planet Monsters</td>\n",
       "      <td>GBA</td>\n",
       "      <td>2001.0</td>\n",
       "      <td>Action</td>\n",
       "      <td>0.01</td>\n",
       "      <td>0.00</td>\n",
       "      <td>0.0</td>\n",
       "      <td>0.00</td>\n",
       "      <td>67.0</td>\n",
       "      <td>tbd</td>\n",
       "      <td>E</td>\n",
       "    </tr>\n",
       "    <tr>\n",
       "      <th>16697</th>\n",
       "      <td>Bust-A-Move 3000</td>\n",
       "      <td>GC</td>\n",
       "      <td>2003.0</td>\n",
       "      <td>Puzzle</td>\n",
       "      <td>0.01</td>\n",
       "      <td>0.00</td>\n",
       "      <td>0.0</td>\n",
       "      <td>0.00</td>\n",
       "      <td>53.0</td>\n",
       "      <td>tbd</td>\n",
       "      <td>E</td>\n",
       "    </tr>\n",
       "    <tr>\n",
       "      <th>16698</th>\n",
       "      <td>Mega Brain Boost</td>\n",
       "      <td>DS</td>\n",
       "      <td>2008.0</td>\n",
       "      <td>Puzzle</td>\n",
       "      <td>0.01</td>\n",
       "      <td>0.00</td>\n",
       "      <td>0.0</td>\n",
       "      <td>0.00</td>\n",
       "      <td>48.0</td>\n",
       "      <td>tbd</td>\n",
       "      <td>E</td>\n",
       "    </tr>\n",
       "    <tr>\n",
       "      <th>16704</th>\n",
       "      <td>Plushees</td>\n",
       "      <td>DS</td>\n",
       "      <td>2008.0</td>\n",
       "      <td>Simulation</td>\n",
       "      <td>0.01</td>\n",
       "      <td>0.00</td>\n",
       "      <td>0.0</td>\n",
       "      <td>0.00</td>\n",
       "      <td>NaN</td>\n",
       "      <td>tbd</td>\n",
       "      <td>E</td>\n",
       "    </tr>\n",
       "    <tr>\n",
       "      <th>16706</th>\n",
       "      <td>Men in Black II: Alien Escape</td>\n",
       "      <td>GC</td>\n",
       "      <td>2003.0</td>\n",
       "      <td>Shooter</td>\n",
       "      <td>0.01</td>\n",
       "      <td>0.00</td>\n",
       "      <td>0.0</td>\n",
       "      <td>0.00</td>\n",
       "      <td>NaN</td>\n",
       "      <td>tbd</td>\n",
       "      <td>T</td>\n",
       "    </tr>\n",
       "  </tbody>\n",
       "</table>\n",
       "<p>2424 rows × 11 columns</p>\n",
       "</div>"
      ],
      "text/plain": [
       "                                           name platform  year_of_release  \\\n",
       "119                               Zumba Fitness      Wii           2010.0   \n",
       "301              Namco Museum: 50th Anniversary      PS2           2005.0   \n",
       "520                             Zumba Fitness 2      Wii           2011.0   \n",
       "645                                uDraw Studio      Wii           2010.0   \n",
       "657    Frogger's Adventures: Temple of the Frog      GBA              NaN   \n",
       "...                                         ...      ...              ...   \n",
       "16695                           Planet Monsters      GBA           2001.0   \n",
       "16697                          Bust-A-Move 3000       GC           2003.0   \n",
       "16698                          Mega Brain Boost       DS           2008.0   \n",
       "16704                                  Plushees       DS           2008.0   \n",
       "16706             Men in Black II: Alien Escape       GC           2003.0   \n",
       "\n",
       "            genre  na_sales  eu_sales  jp_sales  other_sales  critic_score  \\\n",
       "119        Sports      3.45      2.59       0.0         0.66           NaN   \n",
       "301          Misc      2.08      1.35       0.0         0.54          61.0   \n",
       "520        Sports      1.51      1.03       0.0         0.27           NaN   \n",
       "645          Misc      1.65      0.57       0.0         0.20          71.0   \n",
       "657     Adventure      2.15      0.18       0.0         0.07          73.0   \n",
       "...           ...       ...       ...       ...          ...           ...   \n",
       "16695      Action      0.01      0.00       0.0         0.00          67.0   \n",
       "16697      Puzzle      0.01      0.00       0.0         0.00          53.0   \n",
       "16698      Puzzle      0.01      0.00       0.0         0.00          48.0   \n",
       "16704  Simulation      0.01      0.00       0.0         0.00           NaN   \n",
       "16706     Shooter      0.01      0.00       0.0         0.00           NaN   \n",
       "\n",
       "      user_score rating  \n",
       "119          tbd      E  \n",
       "301          tbd   E10+  \n",
       "520          tbd      T  \n",
       "645          tbd      E  \n",
       "657          tbd      E  \n",
       "...          ...    ...  \n",
       "16695        tbd      E  \n",
       "16697        tbd      E  \n",
       "16698        tbd      E  \n",
       "16704        tbd      E  \n",
       "16706        tbd      T  \n",
       "\n",
       "[2424 rows x 11 columns]"
      ]
     },
     "execution_count": 7,
     "metadata": {},
     "output_type": "execute_result"
    }
   ],
   "source": [
    "games[games['user_score'] == 'tbd']"
   ]
  },
  {
   "cell_type": "markdown",
   "metadata": {},
   "source": [
    "При разборе значений 'tbd', Что значит Tbd в рейтинге? Интернет выдает что: TBD - аббревиатура от английского To Be Determined (будет определено) или To Be Decided (будет решено). Используется, если какая-то информация еще не определена или решение по вопросу не принято. Поэтому предлагаю заменить 'tbd' на NaN."
   ]
  },
  {
   "cell_type": "code",
   "execution_count": 8,
   "metadata": {},
   "outputs": [],
   "source": [
    "games['user_score'] = games['user_score'].replace('tbd', np.NaN)"
   ]
  },
  {
   "cell_type": "markdown",
   "metadata": {},
   "source": [
    "И посмотрим сколько их станет."
   ]
  },
  {
   "cell_type": "code",
   "execution_count": 9,
   "metadata": {},
   "outputs": [
    {
     "name": "stdout",
     "output_type": "stream",
     "text": [
      "Количество NaN в столбце user_score: 9125\n"
     ]
    }
   ],
   "source": [
    "print('Количество NaN в столбце user_score:', games['user_score'].isnull().sum())"
   ]
  },
  {
   "cell_type": "markdown",
   "metadata": {},
   "source": [
    "Приведем значение столбца 'user_score' к числовому:"
   ]
  },
  {
   "cell_type": "code",
   "execution_count": 10,
   "metadata": {},
   "outputs": [],
   "source": [
    "games['user_score'] = games['user_score'].astype('float')"
   ]
  },
  {
   "cell_type": "markdown",
   "metadata": {},
   "source": [
    "Посчитаем суммарные продажи во всех регионах и запишем их в столбец 'sales'"
   ]
  },
  {
   "cell_type": "code",
   "execution_count": 11,
   "metadata": {},
   "outputs": [],
   "source": [
    "games['sales'] = games['na_sales'] + games['eu_sales'] + games['jp_sales'] + games['other_sales']"
   ]
  },
  {
   "cell_type": "markdown",
   "metadata": {},
   "source": [
    "<div class=\"alert alert-info\">\n",
    "\n",
    "**Артём:** ✍️ Можно так:\n",
    "        \n",
    "```py\n",
    "df['total_sales'] = df[['na_sales', 'eu_sales', 'jp_sales', 'other_sales']].sum(axis=1)\n",
    "```\n",
    "\n",
    "</div>"
   ]
  },
  {
   "cell_type": "code",
   "execution_count": 12,
   "metadata": {},
   "outputs": [
    {
     "data": {
      "text/html": [
       "<div>\n",
       "<style scoped>\n",
       "    .dataframe tbody tr th:only-of-type {\n",
       "        vertical-align: middle;\n",
       "    }\n",
       "\n",
       "    .dataframe tbody tr th {\n",
       "        vertical-align: top;\n",
       "    }\n",
       "\n",
       "    .dataframe thead th {\n",
       "        text-align: right;\n",
       "    }\n",
       "</style>\n",
       "<table border=\"1\" class=\"dataframe\">\n",
       "  <thead>\n",
       "    <tr style=\"text-align: right;\">\n",
       "      <th></th>\n",
       "      <th>name</th>\n",
       "      <th>platform</th>\n",
       "      <th>year_of_release</th>\n",
       "      <th>genre</th>\n",
       "      <th>na_sales</th>\n",
       "      <th>eu_sales</th>\n",
       "      <th>jp_sales</th>\n",
       "      <th>other_sales</th>\n",
       "      <th>critic_score</th>\n",
       "      <th>user_score</th>\n",
       "      <th>rating</th>\n",
       "      <th>sales</th>\n",
       "    </tr>\n",
       "  </thead>\n",
       "  <tbody>\n",
       "    <tr>\n",
       "      <th>0</th>\n",
       "      <td>Wii Sports</td>\n",
       "      <td>Wii</td>\n",
       "      <td>2006.0</td>\n",
       "      <td>Sports</td>\n",
       "      <td>41.36</td>\n",
       "      <td>28.96</td>\n",
       "      <td>3.77</td>\n",
       "      <td>8.45</td>\n",
       "      <td>76.0</td>\n",
       "      <td>8.0</td>\n",
       "      <td>E</td>\n",
       "      <td>82.54</td>\n",
       "    </tr>\n",
       "    <tr>\n",
       "      <th>1</th>\n",
       "      <td>Super Mario Bros.</td>\n",
       "      <td>NES</td>\n",
       "      <td>1985.0</td>\n",
       "      <td>Platform</td>\n",
       "      <td>29.08</td>\n",
       "      <td>3.58</td>\n",
       "      <td>6.81</td>\n",
       "      <td>0.77</td>\n",
       "      <td>NaN</td>\n",
       "      <td>NaN</td>\n",
       "      <td>NaN</td>\n",
       "      <td>40.24</td>\n",
       "    </tr>\n",
       "    <tr>\n",
       "      <th>2</th>\n",
       "      <td>Mario Kart Wii</td>\n",
       "      <td>Wii</td>\n",
       "      <td>2008.0</td>\n",
       "      <td>Racing</td>\n",
       "      <td>15.68</td>\n",
       "      <td>12.76</td>\n",
       "      <td>3.79</td>\n",
       "      <td>3.29</td>\n",
       "      <td>82.0</td>\n",
       "      <td>8.3</td>\n",
       "      <td>E</td>\n",
       "      <td>35.52</td>\n",
       "    </tr>\n",
       "    <tr>\n",
       "      <th>3</th>\n",
       "      <td>Wii Sports Resort</td>\n",
       "      <td>Wii</td>\n",
       "      <td>2009.0</td>\n",
       "      <td>Sports</td>\n",
       "      <td>15.61</td>\n",
       "      <td>10.93</td>\n",
       "      <td>3.28</td>\n",
       "      <td>2.95</td>\n",
       "      <td>80.0</td>\n",
       "      <td>8.0</td>\n",
       "      <td>E</td>\n",
       "      <td>32.77</td>\n",
       "    </tr>\n",
       "    <tr>\n",
       "      <th>4</th>\n",
       "      <td>Pokemon Red/Pokemon Blue</td>\n",
       "      <td>GB</td>\n",
       "      <td>1996.0</td>\n",
       "      <td>Role-Playing</td>\n",
       "      <td>11.27</td>\n",
       "      <td>8.89</td>\n",
       "      <td>10.22</td>\n",
       "      <td>1.00</td>\n",
       "      <td>NaN</td>\n",
       "      <td>NaN</td>\n",
       "      <td>NaN</td>\n",
       "      <td>31.38</td>\n",
       "    </tr>\n",
       "  </tbody>\n",
       "</table>\n",
       "</div>"
      ],
      "text/plain": [
       "                       name platform  year_of_release         genre  na_sales  \\\n",
       "0                Wii Sports      Wii           2006.0        Sports     41.36   \n",
       "1         Super Mario Bros.      NES           1985.0      Platform     29.08   \n",
       "2            Mario Kart Wii      Wii           2008.0        Racing     15.68   \n",
       "3         Wii Sports Resort      Wii           2009.0        Sports     15.61   \n",
       "4  Pokemon Red/Pokemon Blue       GB           1996.0  Role-Playing     11.27   \n",
       "\n",
       "   eu_sales  jp_sales  other_sales  critic_score  user_score rating  sales  \n",
       "0     28.96      3.77         8.45          76.0         8.0      E  82.54  \n",
       "1      3.58      6.81         0.77           NaN         NaN    NaN  40.24  \n",
       "2     12.76      3.79         3.29          82.0         8.3      E  35.52  \n",
       "3     10.93      3.28         2.95          80.0         8.0      E  32.77  \n",
       "4      8.89     10.22         1.00           NaN         NaN    NaN  31.38  "
      ]
     },
     "execution_count": 12,
     "metadata": {},
     "output_type": "execute_result"
    }
   ],
   "source": [
    "games.head()"
   ]
  },
  {
   "cell_type": "markdown",
   "metadata": {},
   "source": [
    "### Исследовательский анализ данных"
   ]
  },
  {
   "cell_type": "markdown",
   "metadata": {},
   "source": [
    "Посмотрим, сколько игр выпускалось в каждый из представленных в наших данных годов:"
   ]
  },
  {
   "cell_type": "code",
   "execution_count": 13,
   "metadata": {},
   "outputs": [
    {
     "data": {
      "text/plain": [
       "1764     1980.0\n",
       "546      1980.0\n",
       "1968     1980.0\n",
       "6300     1980.0\n",
       "6875     1980.0\n",
       "          ...  \n",
       "16373       NaN\n",
       "16405       NaN\n",
       "16448       NaN\n",
       "16458       NaN\n",
       "16522       NaN\n",
       "Name: year_of_release, Length: 16715, dtype: float64"
      ]
     },
     "execution_count": 13,
     "metadata": {},
     "output_type": "execute_result"
    }
   ],
   "source": [
    "games['year_of_release'].sort_values()"
   ]
  },
  {
   "cell_type": "code",
   "execution_count": 14,
   "metadata": {},
   "outputs": [],
   "source": [
    "#Преобразуем значение в столбеце 'year_of_release' в 'int'\n",
    "games['year_of_release'] = games['year_of_release'].fillna(0)\n",
    "games['year_of_release'] = games['year_of_release'].astype('int')\n",
    "\n"
   ]
  },
  {
   "cell_type": "code",
   "execution_count": 15,
   "metadata": {},
   "outputs": [
    {
     "data": {
      "image/png": "[encoded data removed]",
      "text/plain": [
       "<Figure size 720x360 with 1 Axes>"
      ]
     },
     "metadata": {
      "needs_background": "light"
     },
     "output_type": "display_data"
    }
   ],
   "source": [
    "games_year_of_release = games.groupby('year_of_release').count()['name']\n",
    "games_year_of_release.plot(x='year_of_release', y='name', kind='bar',figsize=(10,5), title='year_of_release', legend=None, fontsize=15);   \n"
   ]
  },
  {
   "cell_type": "markdown",
   "metadata": {},
   "source": [
    "До 1993 года игр практически не было. Потом они начали появляться. Резкий скачок по количеству игр, выпущенных в год, произошел в 2002 году. Пик - 2008-2009 года. После 2011 года начался резкий спад. "
   ]
  },
  {
   "cell_type": "markdown",
   "metadata": {},
   "source": [
    " Посмотрите, как менялись продажи по платформам. Выберите платформы с\n",
    "наибольшими суммарными продажами и постройте распределение по годам. За\n",
    "какой характерный срок появляются новые и исчезают старые платформы?"
   ]
  },
  {
   "cell_type": "code",
   "execution_count": 16,
   "metadata": {},
   "outputs": [
    {
     "data": {
      "image/png": "[encoded data removed]",
      "text/plain": [
       "<Figure size 720x360 with 1 Axes>"
      ]
     },
     "metadata": {
      "needs_background": "light"
     },
     "output_type": "display_data"
    }
   ],
   "source": [
    "games_platform = games.groupby('platform').sum()['sales']\n",
    "games_platform.plot(x='platform', y='sales', kind='bar',figsize=(10,5), title='platform', legend=None, fontsize=15 );"
   ]
  },
  {
   "cell_type": "markdown",
   "metadata": {},
   "source": [
    "Судя по графику выберем топовые платформы, это получается: 'PS2', 'X360', 'PS3', 'Wii', 'DS', 'PS'"
   ]
  },
  {
   "cell_type": "code",
   "execution_count": 17,
   "metadata": {},
   "outputs": [],
   "source": [
    "top_platform = ['PS2','X360', 'PS3', 'Wii', 'DS', 'PS']"
   ]
  },
  {
   "cell_type": "markdown",
   "metadata": {},
   "source": [
    "Построим распределение по годам top_platform"
   ]
  },
  {
   "cell_type": "code",
   "execution_count": 18,
   "metadata": {},
   "outputs": [
    {
     "data": {
      "image/png": "[encoded data removed]",
      "text/plain": [
       "<Figure size 720x360 with 1 Axes>"
      ]
     },
     "metadata": {
      "needs_background": "light"
     },
     "output_type": "display_data"
    }
   ],
   "source": [
    "#Распределение PS2\n",
    "games1 = games.query('year_of_release >= 1980')\n",
    "df_games_top_platform = games1[(games1['platform'] == 'PS2')].groupby('year_of_release')['sales'].sum()\n",
    "df_games_top_platform.plot(x='year_of_release', y='sales', kind='line',figsize=(10,5), title='PS2', legend=None, \n",
    "                            fontsize=15, by='platform');"
   ]
  },
  {
   "cell_type": "code",
   "execution_count": 19,
   "metadata": {},
   "outputs": [
    {
     "data": {
      "image/png": "[encoded data removed]",
      "text/plain": [
       "<Figure size 720x360 with 1 Axes>"
      ]
     },
     "metadata": {
      "needs_background": "light"
     },
     "output_type": "display_data"
    }
   ],
   "source": [
    "#Распределение X360\n",
    "df_games_top_platform = games1[(games1['platform'] == 'X360')].groupby('year_of_release')['sales'].sum()\n",
    "df_games_top_platform.plot(x='year_of_release', y='sales', kind='line',figsize=(10,5), title='X360', legend=None, \n",
    "                            fontsize=15, by='platform'); "
   ]
  },
  {
   "cell_type": "code",
   "execution_count": 20,
   "metadata": {},
   "outputs": [
    {
     "data": {
      "image/png": "[encoded data removed]",
      "text/plain": [
       "<Figure size 720x360 with 1 Axes>"
      ]
     },
     "metadata": {
      "needs_background": "light"
     },
     "output_type": "display_data"
    }
   ],
   "source": [
    "#Распределение PS3\n",
    "\n",
    "df_games_top_platform = games1[(games1['platform'] == 'PS3')].groupby('year_of_release')['sales'].sum()\n",
    "df_games_top_platform.plot(x='year_of_release', y='sales', kind='line',figsize=(10,5), title='PS3', legend=None, \n",
    "                            fontsize=15, by='platform'); "
   ]
  },
  {
   "cell_type": "code",
   "execution_count": 21,
   "metadata": {},
   "outputs": [
    {
     "data": {
      "image/png": "[encoded data removed]",
      "text/plain": [
       "<Figure size 720x360 with 1 Axes>"
      ]
     },
     "metadata": {
      "needs_background": "light"
     },
     "output_type": "display_data"
    }
   ],
   "source": [
    "#Распределение Wii\n",
    "df_games_top_platform = games1[(games1['platform'] == 'Wii')].groupby('year_of_release')['sales'].sum()\n",
    "df_games_top_platform.plot(x='year_of_release', y='sales', kind='line',figsize=(10,5), title='Wii', legend=None, \n",
    "                            fontsize=15, by='platform');"
   ]
  },
  {
   "cell_type": "code",
   "execution_count": 22,
   "metadata": {},
   "outputs": [
    {
     "data": {
      "image/png": "[encoded data removed]",
      "text/plain": [
       "<Figure size 720x360 with 1 Axes>"
      ]
     },
     "metadata": {
      "needs_background": "light"
     },
     "output_type": "display_data"
    }
   ],
   "source": [
    "#Распределение DS\n",
    "df_games_top_platform = games1[(games1['platform'] == 'DS')].groupby('year_of_release')['sales'].sum()\n",
    "df_games_top_platform.plot(x='year_of_release', y='sales', kind='line',figsize=(10,5), title='DS', legend=None, \n",
    "                            fontsize=15, by='platform');"
   ]
  },
  {
   "cell_type": "code",
   "execution_count": 23,
   "metadata": {},
   "outputs": [
    {
     "data": {
      "image/png": "[encoded data removed]",
      "text/plain": [
       "<Figure size 720x360 with 1 Axes>"
      ]
     },
     "metadata": {
      "needs_background": "light"
     },
     "output_type": "display_data"
    }
   ],
   "source": [
    "#Распределение X360\n",
    "df_games_top_platform = games1[(games1['platform'] == 'PS')].groupby('year_of_release')['sales'].sum()\n",
    "df_games_top_platform.plot(x='year_of_release', y='sales', kind='line',figsize=(10,5), title='PS', legend=None, \n",
    "                            fontsize=15, by='platform');"
   ]
  },
  {
   "cell_type": "markdown",
   "metadata": {},
   "source": [
    "PS - была с 1994 года до 2003, почти 10 лет;\n",
    "\n",
    "PS2 - с 2000 до 2011 года - 11 лет;\n",
    "\n",
    "PS3 - с 2006 по 2016год - 10 лет;\n",
    "\n",
    "DS - вышла в 1985, потом вообще нет данных. И с 2004 года популярность стала расти, пик в 2008, конец срока службы - 2013 год - 8 лет;\n",
    "\n",
    "Wii - с 2006 по 2016год - 10 лет.\n",
    "\n",
    "X360 - с 2005 по 2016год - 11 лет.\n",
    "\n",
    "Таким образом, в среднем платформа живет 10 лет. И жила бы больше, если б не выходили более новые платформы. Но это неизбежно, т.к. прогресс идет вперед и выходят новые игры с другими техническими характеристиками.\n",
    "Выберем актуальный период - период, за который мы будем оценивать наши данные, на основании выводов по которым будем строить предсказательные модели на 2017 год.\n",
    "\n",
    "На мой взгляд, актуальным периодом является период с 2002 по 2016 год: В 2002 это год, резкий скачок по количеству игр, выпущенных в год в этом периоде представлены данные по абсолютно всем самым популярным платформам.\n",
    "\n",
    "Предыдущие года отбросим.\n",
    "\n",
    "Построим ещё один график, отображающий динамику продаж по уже актуальным годам и ответим на вопрос: Какие платформы лидируют по продажам, растут или падают?"
   ]
  },
  {
   "cell_type": "code",
   "execution_count": 24,
   "metadata": {},
   "outputs": [
    {
     "data": {
      "text/html": [
       "<div>\n",
       "<style scoped>\n",
       "    .dataframe tbody tr th:only-of-type {\n",
       "        vertical-align: middle;\n",
       "    }\n",
       "\n",
       "    .dataframe tbody tr th {\n",
       "        vertical-align: top;\n",
       "    }\n",
       "\n",
       "    .dataframe thead th {\n",
       "        text-align: right;\n",
       "    }\n",
       "</style>\n",
       "<table border=\"1\" class=\"dataframe\">\n",
       "  <thead>\n",
       "    <tr style=\"text-align: right;\">\n",
       "      <th></th>\n",
       "      <th>name</th>\n",
       "      <th>platform</th>\n",
       "      <th>year_of_release</th>\n",
       "      <th>genre</th>\n",
       "      <th>na_sales</th>\n",
       "      <th>eu_sales</th>\n",
       "      <th>jp_sales</th>\n",
       "      <th>other_sales</th>\n",
       "      <th>critic_score</th>\n",
       "      <th>user_score</th>\n",
       "      <th>rating</th>\n",
       "      <th>sales</th>\n",
       "    </tr>\n",
       "  </thead>\n",
       "  <tbody>\n",
       "    <tr>\n",
       "      <th>16</th>\n",
       "      <td>Grand Theft Auto V</td>\n",
       "      <td>PS3</td>\n",
       "      <td>2013</td>\n",
       "      <td>Action</td>\n",
       "      <td>7.02</td>\n",
       "      <td>9.09</td>\n",
       "      <td>0.98</td>\n",
       "      <td>3.96</td>\n",
       "      <td>97.0</td>\n",
       "      <td>8.2</td>\n",
       "      <td>M</td>\n",
       "      <td>21.05</td>\n",
       "    </tr>\n",
       "    <tr>\n",
       "      <th>23</th>\n",
       "      <td>Grand Theft Auto V</td>\n",
       "      <td>X360</td>\n",
       "      <td>2013</td>\n",
       "      <td>Action</td>\n",
       "      <td>9.66</td>\n",
       "      <td>5.14</td>\n",
       "      <td>0.06</td>\n",
       "      <td>1.41</td>\n",
       "      <td>97.0</td>\n",
       "      <td>8.1</td>\n",
       "      <td>M</td>\n",
       "      <td>16.27</td>\n",
       "    </tr>\n",
       "    <tr>\n",
       "      <th>31</th>\n",
       "      <td>Call of Duty: Black Ops 3</td>\n",
       "      <td>PS4</td>\n",
       "      <td>2015</td>\n",
       "      <td>Shooter</td>\n",
       "      <td>6.03</td>\n",
       "      <td>5.86</td>\n",
       "      <td>0.36</td>\n",
       "      <td>2.38</td>\n",
       "      <td>NaN</td>\n",
       "      <td>NaN</td>\n",
       "      <td>NaN</td>\n",
       "      <td>14.63</td>\n",
       "    </tr>\n",
       "    <tr>\n",
       "      <th>33</th>\n",
       "      <td>Pokemon X/Pokemon Y</td>\n",
       "      <td>3DS</td>\n",
       "      <td>2013</td>\n",
       "      <td>Role-Playing</td>\n",
       "      <td>5.28</td>\n",
       "      <td>4.19</td>\n",
       "      <td>4.35</td>\n",
       "      <td>0.78</td>\n",
       "      <td>NaN</td>\n",
       "      <td>NaN</td>\n",
       "      <td>NaN</td>\n",
       "      <td>14.60</td>\n",
       "    </tr>\n",
       "    <tr>\n",
       "      <th>42</th>\n",
       "      <td>Grand Theft Auto V</td>\n",
       "      <td>PS4</td>\n",
       "      <td>2014</td>\n",
       "      <td>Action</td>\n",
       "      <td>3.96</td>\n",
       "      <td>6.31</td>\n",
       "      <td>0.38</td>\n",
       "      <td>1.97</td>\n",
       "      <td>97.0</td>\n",
       "      <td>8.3</td>\n",
       "      <td>M</td>\n",
       "      <td>12.62</td>\n",
       "    </tr>\n",
       "  </tbody>\n",
       "</table>\n",
       "</div>"
      ],
      "text/plain": [
       "                         name platform  year_of_release         genre  \\\n",
       "16         Grand Theft Auto V      PS3             2013        Action   \n",
       "23         Grand Theft Auto V     X360             2013        Action   \n",
       "31  Call of Duty: Black Ops 3      PS4             2015       Shooter   \n",
       "33        Pokemon X/Pokemon Y      3DS             2013  Role-Playing   \n",
       "42         Grand Theft Auto V      PS4             2014        Action   \n",
       "\n",
       "    na_sales  eu_sales  jp_sales  other_sales  critic_score  user_score  \\\n",
       "16      7.02      9.09      0.98         3.96          97.0         8.2   \n",
       "23      9.66      5.14      0.06         1.41          97.0         8.1   \n",
       "31      6.03      5.86      0.36         2.38           NaN         NaN   \n",
       "33      5.28      4.19      4.35         0.78           NaN         NaN   \n",
       "42      3.96      6.31      0.38         1.97          97.0         8.3   \n",
       "\n",
       "   rating  sales  \n",
       "16      M  21.05  \n",
       "23      M  16.27  \n",
       "31    NaN  14.63  \n",
       "33    NaN  14.60  \n",
       "42      M  12.62  "
      ]
     },
     "execution_count": 24,
     "metadata": {},
     "output_type": "execute_result"
    }
   ],
   "source": [
    "#Выделим сегмент платформ начиная с 2013 года\n",
    "games_2017 = games.query('year_of_release >= 2013')\n",
    "games_2017.head()"
   ]
  },
  {
   "cell_type": "markdown",
   "metadata": {},
   "source": [
    "<div class=\"alert alert-info\">\n",
    "\n",
    "**Артём:** ✍️ Копию датафрейма лучше сделать так, чтобы не изменить первоначальный датафрейм. Для этого в конце пишем `.copy()`:\n",
    "\n",
    "```py\n",
    "df_2 = df.loc[df['column'] >= value].copy()\n",
    "```\n",
    "\n",
    "</div>"
   ]
  },
  {
   "cell_type": "code",
   "execution_count": 25,
   "metadata": {
    "scrolled": true
   },
   "outputs": [
    {
     "data": {
      "text/plain": [
       "['PS3', 'X360', 'PS4', '3DS', 'XOne', 'WiiU', 'Wii', 'PC', 'PSV', 'DS', 'PSP']"
      ]
     },
     "execution_count": 25,
     "metadata": {},
     "output_type": "execute_result"
    }
   ],
   "source": [
    "platform = games_2017['platform'].unique().tolist()\n",
    "platform"
   ]
  },
  {
   "cell_type": "code",
   "execution_count": 26,
   "metadata": {},
   "outputs": [
    {
     "data": {
      "image/png": "[encoded data removed]",
      "text/plain": [
       "<Figure size 720x360 with 1 Axes>"
      ]
     },
     "metadata": {
      "needs_background": "light"
     },
     "output_type": "display_data"
    }
   ],
   "source": [
    "games_2017_platform = games_2017.groupby('platform').sum()['year_of_release']\n",
    "games_2017_platform.plot(x='platform', y='sales', kind='bar',figsize=(10,5), title='platform', legend=None, fontsize=15 );"
   ]
  },
  {
   "cell_type": "code",
   "execution_count": 27,
   "metadata": {},
   "outputs": [],
   "source": [
    "games_2017_2 = games_2017[(games_2017['platform']== '3DS')]\\\n",
    "                .groupby('year_of_release')['sales'].sum()\n",
    "\n",
    "games_2017_3 = games_2017[(games_2017['platform']== 'DS')]\\\n",
    "                .groupby('year_of_release')['sales'].sum()\n",
    "\n",
    "games_2017_4= games_2017[(games_2017['platform']== 'X360')]\\\n",
    "                .groupby('year_of_release')['sales'].sum()\n",
    "\n",
    "games_2017_5= games_2017[(games_2017['platform']== 'PS3')]\\\n",
    "                .groupby('year_of_release')['sales'].sum()\n",
    "\n",
    "games_2017_6= games_2017[(games_2017['platform']== 'PS4')]\\\n",
    "                .groupby('year_of_release')['sales'].sum()\n",
    "\n",
    "games_2017_7= games_2017[(games_2017['platform']== 'PC')]\\\n",
    "                .groupby('year_of_release')['sales'].sum()\n",
    "\n",
    "games_2017_8= games_2017[(games_2017['platform']== 'PSP')]\\\n",
    "                .groupby('year_of_release')['sales'].sum()\n",
    "\n",
    "games_2017_9= games_2017[(games_2017['platform']== 'XOne')]\\\n",
    "                .groupby('year_of_release')['sales'].sum()\n",
    "\n",
    "games_2017_10= games_2017[(games_2017['platform']== 'WiiU')]\\\n",
    "                .groupby('year_of_release')['sales'].sum()\n",
    "\n",
    "games_2017_1= games_2017[(games_2017['platform']== 'Wii')]\\\n",
    "                .groupby('year_of_release')['sales'].sum()\n",
    "\n",
    "games_2017_11= games_2017[(games_2017['platform']== 'PSV')]\\\n",
    "                .groupby('year_of_release')['sales'].sum()"
   ]
  },
  {
   "cell_type": "code",
   "execution_count": 28,
   "metadata": {},
   "outputs": [],
   "source": [
    "df=pd.DataFrame({'Wii':games_2017_1,'3DS':games_2017_2, 'DS':games_2017_3,\n",
    "                 'X360':games_2017_4,'PS3':games_2017_5,\n",
    "                 'PS4':games_2017_6, 'PC': games_2017_7, 'PSP':games_2017_8,\n",
    "                 'XOne': games_2017_9,'WiiU':games_2017_10,\n",
    "                 'PSV': games_2017_11});"
   ]
  },
  {
   "cell_type": "code",
   "execution_count": 29,
   "metadata": {},
   "outputs": [
    {
     "data": {
      "image/png": "[encoded data removed]",
      "text/plain": [
       "<Figure size 1080x1080 with 1 Axes>"
      ]
     },
     "metadata": {
      "needs_background": "light"
     },
     "output_type": "display_data"
    }
   ],
   "source": [
    "df.plot(style='.-', figsize=(15,15));"
   ]
  },
  {
   "cell_type": "markdown",
   "metadata": {},
   "source": [
    "На конец 2016 года лидируют по продажам следующие платформы:\n",
    "\n",
    "PS4\n",
    "\n",
    "Xone\n",
    "\n",
    "3DS\n",
    "\n",
    "Это топ-3. Причем, исходя из данных, количество продаж игр, выпущенных на каждую из этих платформ, снижается. Таким образом, можно сказать, что весь рынок игр падает.\n",
    "Boxplot по глобальным продажам игр\n",
    "\n",
    "Построим график «ящик с усами» по глобальным продажам каждой игры и разбивкой по платформам. Оценим разницу в продажах и в средних продажах на разных платформах. Опишем результат."
   ]
  },
  {
   "cell_type": "markdown",
   "metadata": {},
   "source": [
    "Если смотреть период с 2013 года, то так же остается топ-3 PS4, Xone, 3DS. Но так же платформы PS3, WiiU, Wii, PC находятся на не плохом уровне продаж"
   ]
  },
  {
   "cell_type": "code",
   "execution_count": 30,
   "metadata": {},
   "outputs": [
    {
     "data": {
      "image/png": "[encoded data removed]",
      "text/plain": [
       "<Figure size 432x288 with 1 Axes>"
      ]
     },
     "metadata": {
      "needs_background": "light"
     },
     "output_type": "display_data"
    }
   ],
   "source": [
    "games_2017.boxplot(column='sales');"
   ]
  },
  {
   "cell_type": "code",
   "execution_count": 31,
   "metadata": {},
   "outputs": [
    {
     "data": {
      "image/png": "[encoded data removed]",
      "text/plain": [
       "<Figure size 432x288 with 1 Axes>"
      ]
     },
     "metadata": {
      "needs_background": "light"
     },
     "output_type": "display_data"
    }
   ],
   "source": [
    "games_2017.query('sales <= 5').boxplot(column = 'sales');"
   ]
  },
  {
   "cell_type": "code",
   "execution_count": 32,
   "metadata": {},
   "outputs": [
    {
     "data": {
      "image/png": "[encoded data removed]",
      "text/plain": [
       "<Figure size 432x288 with 1 Axes>"
      ]
     },
     "metadata": {
      "needs_background": "light"
     },
     "output_type": "display_data"
    }
   ],
   "source": [
    "games_2017.query('sales <= 1.5').boxplot(column = 'sales');"
   ]
  },
  {
   "cell_type": "markdown",
   "metadata": {},
   "source": [
    "В среднем, продажи игр составляют до 0,7 млн долларов. Медиана - 0,15 миллиона долларов.\n",
    "\n",
    "Построим ящик с усами по наиболее популярным на конец 2016 года платформам."
   ]
  },
  {
   "cell_type": "code",
   "execution_count": 33,
   "metadata": {},
   "outputs": [
    {
     "data": {
      "image/png": "[encoded data removed]",
      "text/plain": [
       "<Figure size 1080x360 with 1 Axes>"
      ]
     },
     "metadata": {
      "needs_background": "light"
     },
     "output_type": "display_data"
    }
   ],
   "source": [
    "games_2017.query('platform in @platform').boxplot(column = 'sales', by = 'platform', figsize=(15,5));"
   ]
  },
  {
   "cell_type": "markdown",
   "metadata": {},
   "source": [
    "Посмотрим ближе:"
   ]
  },
  {
   "cell_type": "code",
   "execution_count": 34,
   "metadata": {},
   "outputs": [
    {
     "data": {
      "image/png": "[encoded data removed]",
      "text/plain": [
       "<Figure size 1080x360 with 1 Axes>"
      ]
     },
     "metadata": {
      "needs_background": "light"
     },
     "output_type": "display_data"
    }
   ],
   "source": [
    "games_2017.query('sales <= 2').query('platform in @platform').boxplot(column = 'sales', by = 'platform', figsize=(15,5));"
   ]
  },
  {
   "cell_type": "markdown",
   "metadata": {},
   "source": [
    "Медиана по  платформам изменяется от 0,15 до 0,25 млн долларов прибыли за игру. Верхняя граница предела, за которыми уже определяются аномалии, у платформы - PS3 - на уровне 1,35 млн долларов. У остальных - от 0,6 до 1,25 миллионов долларов. Среди всех выделяется PSP - у него эти показатели сильное ниже. Медиана < 0,1 миллиона долларов, верхняя граница - 0,27 млн.\n",
    "\n",
    "Посмотрим, как влияют на продажи внутри одной популярной платформы отзывы пользователей и критиков. Построим диаграмму рассеяния и посчитаем корреляцию между отзывами и продажами. Сформулируем выводы.\n",
    "\n",
    "Рассмотрим платформу PS3, самая \"топовая\" платформа по прибыли, которая еще с 2006 года.\n",
    "\n",
    "Построим диаграмму рассеивания по оценкам пользователей и критиков."
   ]
  },
  {
   "cell_type": "markdown",
   "metadata": {},
   "source": [
    "* После изменения периода, самой прибыльной платформой показывает себя X360? Предлагаю ее и рассмотреть на диаграмме рассеивания по оценке пользователей и критиков"
   ]
  },
  {
   "cell_type": "code",
   "execution_count": 35,
   "metadata": {},
   "outputs": [
    {
     "data": {
      "image/png": "[encoded data removed]",
      "text/plain": [
       "<Figure size 720x432 with 1 Axes>"
      ]
     },
     "metadata": {
      "needs_background": "light"
     },
     "output_type": "display_data"
    }
   ],
   "source": [
    "#рейтинг критиков \n",
    "games_ps3 = games_2017[(games_2017['platform'] == 'X360') & (games_2017['critic_score'] > 0)].copy()\n",
    "games_ps3.plot(kind='scatter', x='critic_score', y='sales', figsize=(10,6));"
   ]
  },
  {
   "cell_type": "markdown",
   "metadata": {},
   "source": [
    "С увеличением среднего рейтинга критиков увеличивается и средний уровень выручки с продажи игр. Не очень ярко, но все таки зависимость прослеживается."
   ]
  },
  {
   "cell_type": "code",
   "execution_count": 36,
   "metadata": {},
   "outputs": [
    {
     "data": {
      "image/png": "[encoded data removed]",
      "text/plain": [
       "<Figure size 720x432 with 1 Axes>"
      ]
     },
     "metadata": {
      "needs_background": "light"
     },
     "output_type": "display_data"
    }
   ],
   "source": [
    "#по оценке пользователей \n",
    "games_ps3 = games_2017[(games_2017['platform'] == 'X360') & (games_2017['user_score'] > 0)].copy()\n",
    "games_ps3.plot(kind='scatter', x='user_score', y='sales', figsize=(10,6));"
   ]
  },
  {
   "cell_type": "markdown",
   "metadata": {},
   "source": [
    "При оценке пользователей, только правда так называемых выбросов больше.\n",
    "\n"
   ]
  },
  {
   "cell_type": "markdown",
   "metadata": {},
   "source": [
    "Посчитаем корреляцию между отзывами и продажами."
   ]
  },
  {
   "cell_type": "code",
   "execution_count": 37,
   "metadata": {},
   "outputs": [
    {
     "data": {
      "text/html": [
       "<div>\n",
       "<style scoped>\n",
       "    .dataframe tbody tr th:only-of-type {\n",
       "        vertical-align: middle;\n",
       "    }\n",
       "\n",
       "    .dataframe tbody tr th {\n",
       "        vertical-align: top;\n",
       "    }\n",
       "\n",
       "    .dataframe thead th {\n",
       "        text-align: right;\n",
       "    }\n",
       "</style>\n",
       "<table border=\"1\" class=\"dataframe\">\n",
       "  <thead>\n",
       "    <tr style=\"text-align: right;\">\n",
       "      <th></th>\n",
       "      <th>year_of_release</th>\n",
       "      <th>na_sales</th>\n",
       "      <th>eu_sales</th>\n",
       "      <th>jp_sales</th>\n",
       "      <th>other_sales</th>\n",
       "      <th>critic_score</th>\n",
       "      <th>user_score</th>\n",
       "      <th>sales</th>\n",
       "    </tr>\n",
       "  </thead>\n",
       "  <tbody>\n",
       "    <tr>\n",
       "      <th>year_of_release</th>\n",
       "      <td>1.000000</td>\n",
       "      <td>-0.216024</td>\n",
       "      <td>-0.199516</td>\n",
       "      <td>-0.273765</td>\n",
       "      <td>-0.214572</td>\n",
       "      <td>-0.245439</td>\n",
       "      <td>-0.248736</td>\n",
       "      <td>-0.218402</td>\n",
       "    </tr>\n",
       "    <tr>\n",
       "      <th>na_sales</th>\n",
       "      <td>-0.216024</td>\n",
       "      <td>1.000000</td>\n",
       "      <td>0.846038</td>\n",
       "      <td>0.649905</td>\n",
       "      <td>0.982586</td>\n",
       "      <td>0.342724</td>\n",
       "      <td>-0.012298</td>\n",
       "      <td>0.981429</td>\n",
       "    </tr>\n",
       "    <tr>\n",
       "      <th>eu_sales</th>\n",
       "      <td>-0.199516</td>\n",
       "      <td>0.846038</td>\n",
       "      <td>1.000000</td>\n",
       "      <td>0.616022</td>\n",
       "      <td>0.925283</td>\n",
       "      <td>0.336418</td>\n",
       "      <td>-0.009435</td>\n",
       "      <td>0.932542</td>\n",
       "    </tr>\n",
       "    <tr>\n",
       "      <th>jp_sales</th>\n",
       "      <td>-0.273765</td>\n",
       "      <td>0.649905</td>\n",
       "      <td>0.616022</td>\n",
       "      <td>1.000000</td>\n",
       "      <td>0.656505</td>\n",
       "      <td>0.290613</td>\n",
       "      <td>0.112592</td>\n",
       "      <td>0.664104</td>\n",
       "    </tr>\n",
       "    <tr>\n",
       "      <th>other_sales</th>\n",
       "      <td>-0.214572</td>\n",
       "      <td>0.982586</td>\n",
       "      <td>0.925283</td>\n",
       "      <td>0.656505</td>\n",
       "      <td>1.000000</td>\n",
       "      <td>0.349204</td>\n",
       "      <td>-0.018868</td>\n",
       "      <td>0.998419</td>\n",
       "    </tr>\n",
       "    <tr>\n",
       "      <th>critic_score</th>\n",
       "      <td>-0.245439</td>\n",
       "      <td>0.342724</td>\n",
       "      <td>0.336418</td>\n",
       "      <td>0.290613</td>\n",
       "      <td>0.349204</td>\n",
       "      <td>1.000000</td>\n",
       "      <td>0.520946</td>\n",
       "      <td>0.350345</td>\n",
       "    </tr>\n",
       "    <tr>\n",
       "      <th>user_score</th>\n",
       "      <td>-0.248736</td>\n",
       "      <td>-0.012298</td>\n",
       "      <td>-0.009435</td>\n",
       "      <td>0.112592</td>\n",
       "      <td>-0.018868</td>\n",
       "      <td>0.520946</td>\n",
       "      <td>1.000000</td>\n",
       "      <td>-0.011742</td>\n",
       "    </tr>\n",
       "    <tr>\n",
       "      <th>sales</th>\n",
       "      <td>-0.218402</td>\n",
       "      <td>0.981429</td>\n",
       "      <td>0.932542</td>\n",
       "      <td>0.664104</td>\n",
       "      <td>0.998419</td>\n",
       "      <td>0.350345</td>\n",
       "      <td>-0.011742</td>\n",
       "      <td>1.000000</td>\n",
       "    </tr>\n",
       "  </tbody>\n",
       "</table>\n",
       "</div>"
      ],
      "text/plain": [
       "                 year_of_release  na_sales  eu_sales  jp_sales  other_sales  \\\n",
       "year_of_release         1.000000 -0.216024 -0.199516 -0.273765    -0.214572   \n",
       "na_sales               -0.216024  1.000000  0.846038  0.649905     0.982586   \n",
       "eu_sales               -0.199516  0.846038  1.000000  0.616022     0.925283   \n",
       "jp_sales               -0.273765  0.649905  0.616022  1.000000     0.656505   \n",
       "other_sales            -0.214572  0.982586  0.925283  0.656505     1.000000   \n",
       "critic_score           -0.245439  0.342724  0.336418  0.290613     0.349204   \n",
       "user_score             -0.248736 -0.012298 -0.009435  0.112592    -0.018868   \n",
       "sales                  -0.218402  0.981429  0.932542  0.664104     0.998419   \n",
       "\n",
       "                 critic_score  user_score     sales  \n",
       "year_of_release     -0.245439   -0.248736 -0.218402  \n",
       "na_sales             0.342724   -0.012298  0.981429  \n",
       "eu_sales             0.336418   -0.009435  0.932542  \n",
       "jp_sales             0.290613    0.112592  0.664104  \n",
       "other_sales          0.349204   -0.018868  0.998419  \n",
       "critic_score         1.000000    0.520946  0.350345  \n",
       "user_score           0.520946    1.000000 -0.011742  \n",
       "sales                0.350345   -0.011742  1.000000  "
      ]
     },
     "execution_count": 37,
     "metadata": {},
     "output_type": "execute_result"
    }
   ],
   "source": [
    "games_ps3.corr()"
   ]
  },
  {
   "cell_type": "markdown",
   "metadata": {},
   "source": [
    "Влияние оценки критиков (0.35), более влияют на продажи. А зависимости между оценкой пользователей и продажами отсутствует, так как корреляция составила -0.011742."
   ]
  },
  {
   "cell_type": "markdown",
   "metadata": {},
   "source": [
    "Посмотрим данные по корреляции по топовым платформам:"
   ]
  },
  {
   "cell_type": "code",
   "execution_count": 38,
   "metadata": {},
   "outputs": [],
   "source": [
    "games_top_1 = games[(games['platform'] == 'PS2') & (games['user_score'] > 0)].copy()\n",
    "games_top_2 = games[(games['platform'] == 'X360') & (games['user_score'] > 0)].copy()\n",
    "games_top_3 = games[(games['platform'] == 'Wii') & (games['user_score'] > 0)].copy()\n",
    "games_top_4 = games[(games['platform'] == 'DS') & (games['user_score'] > 0)].copy()\n",
    "games_top_5 = games[(games['platform'] == 'PS') & (games['user_score'] > 0)].copy()"
   ]
  },
  {
   "cell_type": "code",
   "execution_count": 39,
   "metadata": {},
   "outputs": [],
   "source": [
    "#Выделим нужные нам данные:\n",
    "games_top_1 = games_top_1[['sales' ,'critic_score', 'user_score']]\n",
    "games_top_2 = games_top_2[['sales' ,'critic_score', 'user_score']]\n",
    "games_top_3 = games_top_3[['sales' ,'critic_score', 'user_score']]\n",
    "games_top_4 = games_top_4[['sales' ,'critic_score', 'user_score']]\n",
    "games_top_5 = games_top_5[['sales' ,'critic_score', 'user_score']]"
   ]
  },
  {
   "cell_type": "code",
   "execution_count": 40,
   "metadata": {},
   "outputs": [
    {
     "data": {
      "text/plain": [
       "'PS2'"
      ]
     },
     "metadata": {},
     "output_type": "display_data"
    },
    {
     "data": {
      "text/html": [
       "<div>\n",
       "<style scoped>\n",
       "    .dataframe tbody tr th:only-of-type {\n",
       "        vertical-align: middle;\n",
       "    }\n",
       "\n",
       "    .dataframe tbody tr th {\n",
       "        vertical-align: top;\n",
       "    }\n",
       "\n",
       "    .dataframe thead th {\n",
       "        text-align: right;\n",
       "    }\n",
       "</style>\n",
       "<table border=\"1\" class=\"dataframe\">\n",
       "  <thead>\n",
       "    <tr style=\"text-align: right;\">\n",
       "      <th></th>\n",
       "      <th>sales</th>\n",
       "    </tr>\n",
       "  </thead>\n",
       "  <tbody>\n",
       "    <tr>\n",
       "      <th>user_score</th>\n",
       "      <td>0.172866</td>\n",
       "    </tr>\n",
       "    <tr>\n",
       "      <th>critic_score</th>\n",
       "      <td>0.389220</td>\n",
       "    </tr>\n",
       "    <tr>\n",
       "      <th>sales</th>\n",
       "      <td>1.000000</td>\n",
       "    </tr>\n",
       "  </tbody>\n",
       "</table>\n",
       "</div>"
      ],
      "text/plain": [
       "                 sales\n",
       "user_score    0.172866\n",
       "critic_score  0.389220\n",
       "sales         1.000000"
      ]
     },
     "metadata": {},
     "output_type": "display_data"
    },
    {
     "data": {
      "text/plain": [
       "'X360'"
      ]
     },
     "metadata": {},
     "output_type": "display_data"
    },
    {
     "data": {
      "text/html": [
       "<div>\n",
       "<style scoped>\n",
       "    .dataframe tbody tr th:only-of-type {\n",
       "        vertical-align: middle;\n",
       "    }\n",
       "\n",
       "    .dataframe tbody tr th {\n",
       "        vertical-align: top;\n",
       "    }\n",
       "\n",
       "    .dataframe thead th {\n",
       "        text-align: right;\n",
       "    }\n",
       "</style>\n",
       "<table border=\"1\" class=\"dataframe\">\n",
       "  <thead>\n",
       "    <tr style=\"text-align: right;\">\n",
       "      <th></th>\n",
       "      <th>sales</th>\n",
       "    </tr>\n",
       "  </thead>\n",
       "  <tbody>\n",
       "    <tr>\n",
       "      <th>user_score</th>\n",
       "      <td>0.114459</td>\n",
       "    </tr>\n",
       "    <tr>\n",
       "      <th>critic_score</th>\n",
       "      <td>0.389513</td>\n",
       "    </tr>\n",
       "    <tr>\n",
       "      <th>sales</th>\n",
       "      <td>1.000000</td>\n",
       "    </tr>\n",
       "  </tbody>\n",
       "</table>\n",
       "</div>"
      ],
      "text/plain": [
       "                 sales\n",
       "user_score    0.114459\n",
       "critic_score  0.389513\n",
       "sales         1.000000"
      ]
     },
     "metadata": {},
     "output_type": "display_data"
    },
    {
     "data": {
      "text/plain": [
       "'Wii'"
      ]
     },
     "metadata": {},
     "output_type": "display_data"
    },
    {
     "data": {
      "text/html": [
       "<div>\n",
       "<style scoped>\n",
       "    .dataframe tbody tr th:only-of-type {\n",
       "        vertical-align: middle;\n",
       "    }\n",
       "\n",
       "    .dataframe tbody tr th {\n",
       "        vertical-align: top;\n",
       "    }\n",
       "\n",
       "    .dataframe thead th {\n",
       "        text-align: right;\n",
       "    }\n",
       "</style>\n",
       "<table border=\"1\" class=\"dataframe\">\n",
       "  <thead>\n",
       "    <tr style=\"text-align: right;\">\n",
       "      <th></th>\n",
       "      <th>sales</th>\n",
       "    </tr>\n",
       "  </thead>\n",
       "  <tbody>\n",
       "    <tr>\n",
       "      <th>user_score</th>\n",
       "      <td>0.112414</td>\n",
       "    </tr>\n",
       "    <tr>\n",
       "      <th>critic_score</th>\n",
       "      <td>0.169668</td>\n",
       "    </tr>\n",
       "    <tr>\n",
       "      <th>sales</th>\n",
       "      <td>1.000000</td>\n",
       "    </tr>\n",
       "  </tbody>\n",
       "</table>\n",
       "</div>"
      ],
      "text/plain": [
       "                 sales\n",
       "user_score    0.112414\n",
       "critic_score  0.169668\n",
       "sales         1.000000"
      ]
     },
     "metadata": {},
     "output_type": "display_data"
    },
    {
     "data": {
      "text/plain": [
       "'DS'"
      ]
     },
     "metadata": {},
     "output_type": "display_data"
    },
    {
     "data": {
      "text/html": [
       "<div>\n",
       "<style scoped>\n",
       "    .dataframe tbody tr th:only-of-type {\n",
       "        vertical-align: middle;\n",
       "    }\n",
       "\n",
       "    .dataframe tbody tr th {\n",
       "        vertical-align: top;\n",
       "    }\n",
       "\n",
       "    .dataframe thead th {\n",
       "        text-align: right;\n",
       "    }\n",
       "</style>\n",
       "<table border=\"1\" class=\"dataframe\">\n",
       "  <thead>\n",
       "    <tr style=\"text-align: right;\">\n",
       "      <th></th>\n",
       "      <th>sales</th>\n",
       "    </tr>\n",
       "  </thead>\n",
       "  <tbody>\n",
       "    <tr>\n",
       "      <th>user_score</th>\n",
       "      <td>0.132938</td>\n",
       "    </tr>\n",
       "    <tr>\n",
       "      <th>critic_score</th>\n",
       "      <td>0.230941</td>\n",
       "    </tr>\n",
       "    <tr>\n",
       "      <th>sales</th>\n",
       "      <td>1.000000</td>\n",
       "    </tr>\n",
       "  </tbody>\n",
       "</table>\n",
       "</div>"
      ],
      "text/plain": [
       "                 sales\n",
       "user_score    0.132938\n",
       "critic_score  0.230941\n",
       "sales         1.000000"
      ]
     },
     "metadata": {},
     "output_type": "display_data"
    },
    {
     "data": {
      "text/plain": [
       "'PS'"
      ]
     },
     "metadata": {},
     "output_type": "display_data"
    },
    {
     "data": {
      "text/html": [
       "<div>\n",
       "<style scoped>\n",
       "    .dataframe tbody tr th:only-of-type {\n",
       "        vertical-align: middle;\n",
       "    }\n",
       "\n",
       "    .dataframe tbody tr th {\n",
       "        vertical-align: top;\n",
       "    }\n",
       "\n",
       "    .dataframe thead th {\n",
       "        text-align: right;\n",
       "    }\n",
       "</style>\n",
       "<table border=\"1\" class=\"dataframe\">\n",
       "  <thead>\n",
       "    <tr style=\"text-align: right;\">\n",
       "      <th></th>\n",
       "      <th>sales</th>\n",
       "    </tr>\n",
       "  </thead>\n",
       "  <tbody>\n",
       "    <tr>\n",
       "      <th>user_score</th>\n",
       "      <td>0.297978</td>\n",
       "    </tr>\n",
       "    <tr>\n",
       "      <th>critic_score</th>\n",
       "      <td>0.428601</td>\n",
       "    </tr>\n",
       "    <tr>\n",
       "      <th>sales</th>\n",
       "      <td>1.000000</td>\n",
       "    </tr>\n",
       "  </tbody>\n",
       "</table>\n",
       "</div>"
      ],
      "text/plain": [
       "                 sales\n",
       "user_score    0.297978\n",
       "critic_score  0.428601\n",
       "sales         1.000000"
      ]
     },
     "metadata": {},
     "output_type": "display_data"
    }
   ],
   "source": [
    "display('PS2', games_top_1.corr()[['sales']].sort_values(by='sales'));\n",
    "display('X360', games_top_2.corr()[['sales']].sort_values(by='sales'));\n",
    "display('Wii', games_top_3.corr()[['sales']].sort_values(by='sales'));\n",
    "display('DS', games_top_4.corr()[['sales']].sort_values(by='sales'));\n",
    "display('PS', games_top_5.corr()[['sales']].sort_values(by='sales'));"
   ]
  },
  {
   "cell_type": "markdown",
   "metadata": {},
   "source": [
    "Данные по корреляции между выручкой и оценкой по платформам PS2, X360, PS3, PS, DS совпадает с общими данными по датафрейму. Выделяется Wii по которым зависимость не такая большая. Но так же зависимости между оценкой пользователей и продажами нет, так как корреляция составила менее 0,25. \n",
    "\n"
   ]
  },
  {
   "cell_type": "markdown",
   "metadata": {},
   "source": [
    "Посмотрим на общее распределение игр по жанрам. Что можно сказать о самых прибыльных жанрах? Выделяются ли жанры с высокими и низкими продажами?"
   ]
  },
  {
   "cell_type": "code",
   "execution_count": 41,
   "metadata": {},
   "outputs": [
    {
     "data": {
      "text/html": [
       "<div>\n",
       "<style scoped>\n",
       "    .dataframe tbody tr th:only-of-type {\n",
       "        vertical-align: middle;\n",
       "    }\n",
       "\n",
       "    .dataframe tbody tr th {\n",
       "        vertical-align: top;\n",
       "    }\n",
       "\n",
       "    .dataframe thead th {\n",
       "        text-align: right;\n",
       "    }\n",
       "</style>\n",
       "<table border=\"1\" class=\"dataframe\">\n",
       "  <thead>\n",
       "    <tr style=\"text-align: right;\">\n",
       "      <th></th>\n",
       "      <th>name</th>\n",
       "      <th>platform</th>\n",
       "      <th>year_of_release</th>\n",
       "      <th>genre</th>\n",
       "      <th>na_sales</th>\n",
       "      <th>eu_sales</th>\n",
       "      <th>jp_sales</th>\n",
       "      <th>other_sales</th>\n",
       "      <th>critic_score</th>\n",
       "      <th>user_score</th>\n",
       "      <th>rating</th>\n",
       "      <th>sales</th>\n",
       "    </tr>\n",
       "  </thead>\n",
       "  <tbody>\n",
       "    <tr>\n",
       "      <th>16</th>\n",
       "      <td>Grand Theft Auto V</td>\n",
       "      <td>PS3</td>\n",
       "      <td>2013</td>\n",
       "      <td>Action</td>\n",
       "      <td>7.02</td>\n",
       "      <td>9.09</td>\n",
       "      <td>0.98</td>\n",
       "      <td>3.96</td>\n",
       "      <td>97.0</td>\n",
       "      <td>8.2</td>\n",
       "      <td>M</td>\n",
       "      <td>21.05</td>\n",
       "    </tr>\n",
       "    <tr>\n",
       "      <th>23</th>\n",
       "      <td>Grand Theft Auto V</td>\n",
       "      <td>X360</td>\n",
       "      <td>2013</td>\n",
       "      <td>Action</td>\n",
       "      <td>9.66</td>\n",
       "      <td>5.14</td>\n",
       "      <td>0.06</td>\n",
       "      <td>1.41</td>\n",
       "      <td>97.0</td>\n",
       "      <td>8.1</td>\n",
       "      <td>M</td>\n",
       "      <td>16.27</td>\n",
       "    </tr>\n",
       "    <tr>\n",
       "      <th>31</th>\n",
       "      <td>Call of Duty: Black Ops 3</td>\n",
       "      <td>PS4</td>\n",
       "      <td>2015</td>\n",
       "      <td>Shooter</td>\n",
       "      <td>6.03</td>\n",
       "      <td>5.86</td>\n",
       "      <td>0.36</td>\n",
       "      <td>2.38</td>\n",
       "      <td>NaN</td>\n",
       "      <td>NaN</td>\n",
       "      <td>NaN</td>\n",
       "      <td>14.63</td>\n",
       "    </tr>\n",
       "    <tr>\n",
       "      <th>33</th>\n",
       "      <td>Pokemon X/Pokemon Y</td>\n",
       "      <td>3DS</td>\n",
       "      <td>2013</td>\n",
       "      <td>Role-Playing</td>\n",
       "      <td>5.28</td>\n",
       "      <td>4.19</td>\n",
       "      <td>4.35</td>\n",
       "      <td>0.78</td>\n",
       "      <td>NaN</td>\n",
       "      <td>NaN</td>\n",
       "      <td>NaN</td>\n",
       "      <td>14.60</td>\n",
       "    </tr>\n",
       "    <tr>\n",
       "      <th>42</th>\n",
       "      <td>Grand Theft Auto V</td>\n",
       "      <td>PS4</td>\n",
       "      <td>2014</td>\n",
       "      <td>Action</td>\n",
       "      <td>3.96</td>\n",
       "      <td>6.31</td>\n",
       "      <td>0.38</td>\n",
       "      <td>1.97</td>\n",
       "      <td>97.0</td>\n",
       "      <td>8.3</td>\n",
       "      <td>M</td>\n",
       "      <td>12.62</td>\n",
       "    </tr>\n",
       "  </tbody>\n",
       "</table>\n",
       "</div>"
      ],
      "text/plain": [
       "                         name platform  year_of_release         genre  \\\n",
       "16         Grand Theft Auto V      PS3             2013        Action   \n",
       "23         Grand Theft Auto V     X360             2013        Action   \n",
       "31  Call of Duty: Black Ops 3      PS4             2015       Shooter   \n",
       "33        Pokemon X/Pokemon Y      3DS             2013  Role-Playing   \n",
       "42         Grand Theft Auto V      PS4             2014        Action   \n",
       "\n",
       "    na_sales  eu_sales  jp_sales  other_sales  critic_score  user_score  \\\n",
       "16      7.02      9.09      0.98         3.96          97.0         8.2   \n",
       "23      9.66      5.14      0.06         1.41          97.0         8.1   \n",
       "31      6.03      5.86      0.36         2.38           NaN         NaN   \n",
       "33      5.28      4.19      4.35         0.78           NaN         NaN   \n",
       "42      3.96      6.31      0.38         1.97          97.0         8.3   \n",
       "\n",
       "   rating  sales  \n",
       "16      M  21.05  \n",
       "23      M  16.27  \n",
       "31    NaN  14.63  \n",
       "33    NaN  14.60  \n",
       "42      M  12.62  "
      ]
     },
     "execution_count": 41,
     "metadata": {},
     "output_type": "execute_result"
    }
   ],
   "source": [
    "games_2017.head()"
   ]
  },
  {
   "cell_type": "code",
   "execution_count": 42,
   "metadata": {},
   "outputs": [
    {
     "data": {
      "text/html": [
       "<div>\n",
       "<style scoped>\n",
       "    .dataframe tbody tr th:only-of-type {\n",
       "        vertical-align: middle;\n",
       "    }\n",
       "\n",
       "    .dataframe tbody tr th {\n",
       "        vertical-align: top;\n",
       "    }\n",
       "\n",
       "    .dataframe thead th {\n",
       "        text-align: right;\n",
       "    }\n",
       "</style>\n",
       "<table border=\"1\" class=\"dataframe\">\n",
       "  <thead>\n",
       "    <tr style=\"text-align: right;\">\n",
       "      <th></th>\n",
       "      <th>name</th>\n",
       "      <th>sales</th>\n",
       "    </tr>\n",
       "    <tr>\n",
       "      <th>genre</th>\n",
       "      <th></th>\n",
       "      <th></th>\n",
       "    </tr>\n",
       "  </thead>\n",
       "  <tbody>\n",
       "    <tr>\n",
       "      <th>Action</th>\n",
       "      <td>766</td>\n",
       "      <td>321.87</td>\n",
       "    </tr>\n",
       "    <tr>\n",
       "      <th>Role-Playing</th>\n",
       "      <td>292</td>\n",
       "      <td>145.89</td>\n",
       "    </tr>\n",
       "    <tr>\n",
       "      <th>Adventure</th>\n",
       "      <td>245</td>\n",
       "      <td>23.64</td>\n",
       "    </tr>\n",
       "    <tr>\n",
       "      <th>Sports</th>\n",
       "      <td>214</td>\n",
       "      <td>150.65</td>\n",
       "    </tr>\n",
       "    <tr>\n",
       "      <th>Shooter</th>\n",
       "      <td>187</td>\n",
       "      <td>232.98</td>\n",
       "    </tr>\n",
       "    <tr>\n",
       "      <th>Misc</th>\n",
       "      <td>155</td>\n",
       "      <td>62.82</td>\n",
       "    </tr>\n",
       "    <tr>\n",
       "      <th>Racing</th>\n",
       "      <td>85</td>\n",
       "      <td>39.89</td>\n",
       "    </tr>\n",
       "    <tr>\n",
       "      <th>Fighting</th>\n",
       "      <td>80</td>\n",
       "      <td>35.31</td>\n",
       "    </tr>\n",
       "    <tr>\n",
       "      <th>Platform</th>\n",
       "      <td>74</td>\n",
       "      <td>42.63</td>\n",
       "    </tr>\n",
       "    <tr>\n",
       "      <th>Simulation</th>\n",
       "      <td>62</td>\n",
       "      <td>21.76</td>\n",
       "    </tr>\n",
       "    <tr>\n",
       "      <th>Strategy</th>\n",
       "      <td>56</td>\n",
       "      <td>10.08</td>\n",
       "    </tr>\n",
       "    <tr>\n",
       "      <th>Puzzle</th>\n",
       "      <td>17</td>\n",
       "      <td>3.17</td>\n",
       "    </tr>\n",
       "  </tbody>\n",
       "</table>\n",
       "</div>"
      ],
      "text/plain": [
       "              name   sales\n",
       "genre                     \n",
       "Action         766  321.87\n",
       "Role-Playing   292  145.89\n",
       "Adventure      245   23.64\n",
       "Sports         214  150.65\n",
       "Shooter        187  232.98\n",
       "Misc           155   62.82\n",
       "Racing          85   39.89\n",
       "Fighting        80   35.31\n",
       "Platform        74   42.63\n",
       "Simulation      62   21.76\n",
       "Strategy        56   10.08\n",
       "Puzzle          17    3.17"
      ]
     },
     "execution_count": 42,
     "metadata": {},
     "output_type": "execute_result"
    }
   ],
   "source": [
    "#Создадим таблицу\n",
    "pivot_genre = games_2017.groupby('genre').agg({'name': 'count', 'sales': 'sum'}).sort_values(by='name', ascending=False)\n",
    "pivot_genre"
   ]
  },
  {
   "cell_type": "code",
   "execution_count": 43,
   "metadata": {},
   "outputs": [],
   "source": [
    "#Создадим таблицу по медиане\n",
    "pivot_genre_med = games_2017.groupby('genre').agg({'name': 'count', 'sales': 'median'}).sort_values(by='name', ascending=False)\n"
   ]
  },
  {
   "cell_type": "code",
   "execution_count": 44,
   "metadata": {},
   "outputs": [
    {
     "data": {
      "image/png": "[encoded data removed]",
      "text/plain": [
       "<Figure size 720x360 with 1 Axes>"
      ]
     },
     "metadata": {
      "needs_background": "light"
     },
     "output_type": "display_data"
    }
   ],
   "source": [
    "games_2017_platform = games_2017.groupby('platform').sum()['year_of_release']\n",
    "games_2017_platform.plot(x='platform', y='sales', kind='bar',figsize=(10,5), title='platform', legend=None, fontsize=15 );"
   ]
  },
  {
   "cell_type": "code",
   "execution_count": 45,
   "metadata": {},
   "outputs": [
    {
     "data": {
      "image/png": "[encoded data removed]",
      "text/plain": [
       "<Figure size 1080x360 with 1 Axes>"
      ]
     },
     "metadata": {
      "needs_background": "light"
     },
     "output_type": "display_data"
    }
   ],
   "source": [
    "#Построим диаграмму по распределению суммы продаж\n",
    "\n",
    "pivot_genre['sales'].plot(kind='bar', legend = True, figsize=(15,5) );    "
   ]
  },
  {
   "cell_type": "code",
   "execution_count": 46,
   "metadata": {},
   "outputs": [
    {
     "data": {
      "image/png": "[encoded data removed]",
      "text/plain": [
       "<Figure size 1080x360 with 1 Axes>"
      ]
     },
     "metadata": {
      "needs_background": "light"
     },
     "output_type": "display_data"
    }
   ],
   "source": [
    "#Построим диаграмму по распределению суммы медианы продаж\n",
    "\n",
    "pivot_genre_med['sales'].plot(kind='bar', legend = True, figsize=(15,5) ); "
   ]
  },
  {
   "cell_type": "code",
   "execution_count": 47,
   "metadata": {},
   "outputs": [
    {
     "data": {
      "image/png": "[encoded data removed]",
      "text/plain": [
       "<Figure size 1080x360 with 1 Axes>"
      ]
     },
     "metadata": {
      "needs_background": "light"
     },
     "output_type": "display_data"
    }
   ],
   "source": [
    "#Построим диаграмму по распределению количества продаж\n",
    "pivot_genre['name'].plot(kind='bar', legend = True, figsize=(15,5));"
   ]
  },
  {
   "cell_type": "markdown",
   "metadata": {},
   "source": [
    "Больше всего игр жанра Action. Потом идет жанр Sports. А выручка от продаж у них на немного отличается. Это значит, что спортивные игры, в среднем, стоят дороже, чем Action. По Misc можно сказать, что по количеству продаж они занимают 3 место, а по сумме прибыли находятся только на 6 месте, что скорее всего говорит о том, что стоимость игр такого жанра на порядок дешевле. Точно такую же законномерность можно наблюдать по жанрам Adventure и немного Strategy. А вот обратную закономерность, где количество продаж меньше, а сумма продаж больше наблюдается по жанрам Shooter, Platform, Racing и немного Fighting.\n",
    "\n",
    "Распределение топ-3 по сумме продаж: Action, Sports, Shooter.\n",
    "Распределение топ-3 по количеству продаж: Action, Sports, Misc."
   ]
  },
  {
   "cell_type": "markdown",
   "metadata": {},
   "source": [
    "Если смотреть распределение суммы по медиане, то больше всего прибыль приносит Shooter, на 2 месте Platform и Sports. Скорее всего говорит о том, что стоимость игр такого жанра на порядок выше"
   ]
  },
  {
   "cell_type": "markdown",
   "metadata": {},
   "source": [
    "Больше всего прибыли по медиане игр жанра Action. Потом идет жанр Sports., Shooter, Role-Playing, Misc. Это 5 первых жанров по сумме медианы продаж. Посмотрим на количество продаж, тут так же первое место Action, но на 2 Role-Playing далее Adventure, Sports и Shooter. Role-Playing и Adventure по количеству продаж в лидерах, а по прибыли только на 4 и 5 месте, что скорее всего говорит о том, что стоимость игр такого жанра на порядок дешевле. А вот обратную закономерность, где количество продаж меньше, а сумма продаж больше наблюдается по жанрам Shooter, Sports.\n",
    "\n",
    "Распределение топ-3 по медиане сумме продаж: Action, Sports, Shooter.\n",
    "\n",
    "Распределение топ-3 по количеству продаж: Action, Role-Playing, Misc."
   ]
  },
  {
   "cell_type": "markdown",
   "metadata": {},
   "source": [
    "### Портрет пользователя каждого региона"
   ]
  },
  {
   "cell_type": "markdown",
   "metadata": {},
   "source": [
    "Определим для пользователя каждого региона (NA, EU, JP):\n",
    "\n",
    "самые популярные платформы (топ-5), опишем различия в долях продаж;\n",
    "самые популярные жанры (топ-5), поясним разницу;\n",
    "определим, влияет ли рейтинг ESRB на продажи в отдельном регионе."
   ]
  },
  {
   "cell_type": "markdown",
   "metadata": {},
   "source": [
    "Самые популярные платформы (топ-5) по долям продаж"
   ]
  },
  {
   "cell_type": "code",
   "execution_count": 48,
   "metadata": {},
   "outputs": [],
   "source": [
    "pivot_na = games_2017.groupby('platform').agg({'na_sales': 'sum'}).sort_values(by='na_sales', ascending=False)[:5]\n",
    "pivot_eu = games_2017.groupby('platform').agg({'eu_sales': 'sum'}).sort_values(by='eu_sales', ascending=False)[:5]\n",
    "pivot_jp = games_2017.groupby('platform').agg({'jp_sales': 'sum'}).sort_values(by='jp_sales', ascending=False)[:5]\n",
    " "
   ]
  },
  {
   "cell_type": "code",
   "execution_count": 49,
   "metadata": {},
   "outputs": [
    {
     "data": {
      "text/plain": [
       "<AxesSubplot:xlabel='platform'>"
      ]
     },
     "execution_count": 49,
     "metadata": {},
     "output_type": "execute_result"
    },
    {
     "data": {
      "image/png": "[encoded data removed]",
      "text/plain": [
       "<Figure size 432x288 with 1 Axes>"
      ]
     },
     "metadata": {
      "needs_background": "light"
     },
     "output_type": "display_data"
    },
    {
     "data": {
      "image/png": "[encoded data removed]",
      "text/plain": [
       "<Figure size 432x288 with 1 Axes>"
      ]
     },
     "metadata": {
      "needs_background": "light"
     },
     "output_type": "display_data"
    },
    {
     "data": {
      "image/png": "[encoded data removed]",
      "text/plain": [
       "<Figure size 432x288 with 1 Axes>"
      ]
     },
     "metadata": {
      "needs_background": "light"
     },
     "output_type": "display_data"
    }
   ],
   "source": [
    "pivot_na.plot(kind='bar', legend = True)\n",
    "pivot_eu.plot(kind='bar', legend = True)\n",
    "pivot_jp.plot(kind='bar', legend = True)"
   ]
  },
  {
   "cell_type": "markdown",
   "metadata": {},
   "source": [
    "В Северной Америке популярны платформы PS4 и XOne. Потом X360. Топ-4 и топ-5 - PS3 и 3DS соответственно.\n",
    "\n",
    "В Европе популярны PS4 и PS3. Потом XOne. Топ-4 и топ-5 - X360 и 3DS\n",
    "\n",
    "В Японии, всё наоборот. Популярна платформа - 3DS. Потом практически на равне PS3 и PSV. Топ-4 и топ-5 PS4 и WiiU.\n",
    "\n"
   ]
  },
  {
   "cell_type": "markdown",
   "metadata": {},
   "source": [
    "Определение самых популярных жанров в заданных регионах"
   ]
  },
  {
   "cell_type": "code",
   "execution_count": 50,
   "metadata": {},
   "outputs": [],
   "source": [
    "pivot_na_genre = games_2017.groupby('genre').agg({'na_sales': 'sum'}).sort_values(by='na_sales', ascending=False)[:5]\n",
    "pivot_eu_genre = games_2017.groupby('genre').agg({'eu_sales': 'sum'}).sort_values(by='eu_sales', ascending=False)[:5]\n",
    "pivot_jp_genre = games_2017.groupby('genre').agg({'jp_sales': 'sum'}).sort_values(by='jp_sales', ascending=False)[:5]"
   ]
  },
  {
   "cell_type": "code",
   "execution_count": 51,
   "metadata": {},
   "outputs": [
    {
     "data": {
      "image/png": "[encoded data removed]",
      "text/plain": [
       "<Figure size 432x288 with 1 Axes>"
      ]
     },
     "metadata": {
      "needs_background": "light"
     },
     "output_type": "display_data"
    },
    {
     "data": {
      "image/png": "[encoded data removed]",
      "text/plain": [
       "<Figure size 432x288 with 1 Axes>"
      ]
     },
     "metadata": {
      "needs_background": "light"
     },
     "output_type": "display_data"
    },
    {
     "data": {
      "image/png": "[encoded data removed]",
      "text/plain": [
       "<Figure size 432x288 with 1 Axes>"
      ]
     },
     "metadata": {
      "needs_background": "light"
     },
     "output_type": "display_data"
    }
   ],
   "source": [
    "pivot_na_genre.plot(kind='bar', legend = True);\n",
    "pivot_eu_genre.plot(kind='bar', legend = True);\n",
    "pivot_jp_genre.plot(kind='bar', legend = True);"
   ]
  },
  {
   "cell_type": "code",
   "execution_count": 52,
   "metadata": {},
   "outputs": [
    {
     "data": {
      "text/plain": [
       "array(['M', nan, 'E', 'T', 'E10+'], dtype=object)"
      ]
     },
     "execution_count": 52,
     "metadata": {},
     "output_type": "execute_result"
    }
   ],
   "source": [
    "games_2017['rating'].unique()"
   ]
  },
  {
   "cell_type": "code",
   "execution_count": 53,
   "metadata": {},
   "outputs": [],
   "source": [
    "games_2017['rating'] = games_2017['rating'].fillna(value = 'unknown')"
   ]
  },
  {
   "cell_type": "code",
   "execution_count": 54,
   "metadata": {},
   "outputs": [],
   "source": [
    "pivot_na_ESRB = games_2017.groupby('rating').agg({'na_sales': 'sum'}).sort_values(by='na_sales', ascending=False)[:5]\n",
    "pivot_eu_ESRB = games_2017.groupby('rating').agg({'eu_sales': 'sum'}).sort_values(by='eu_sales', ascending=False)[:5]\n",
    "pivot_jp_ESRB = games_2017.groupby('rating').agg({'jp_sales': 'sum'}).sort_values(by='jp_sales', ascending=False)[:5]"
   ]
  },
  {
   "cell_type": "code",
   "execution_count": 55,
   "metadata": {},
   "outputs": [
    {
     "data": {
      "text/plain": [
       "<AxesSubplot:xlabel='rating'>"
      ]
     },
     "execution_count": 55,
     "metadata": {},
     "output_type": "execute_result"
    },
    {
     "data": {
      "image/png": "[encoded data removed]",
      "text/plain": [
       "<Figure size 432x288 with 1 Axes>"
      ]
     },
     "metadata": {
      "needs_background": "light"
     },
     "output_type": "display_data"
    },
    {
     "data": {
      "image/png": "[encoded data removed]",
      "text/plain": [
       "<Figure size 432x288 with 1 Axes>"
      ]
     },
     "metadata": {
      "needs_background": "light"
     },
     "output_type": "display_data"
    },
    {
     "data": {
      "image/png": "[encoded data removed]",
      "text/plain": [
       "<Figure size 432x288 with 1 Axes>"
      ]
     },
     "metadata": {
      "needs_background": "light"
     },
     "output_type": "display_data"
    }
   ],
   "source": [
    "pivot_na_ESRB.plot(kind='bar', legend = True)\n",
    "pivot_eu_ESRB.plot(kind='bar', legend = True)\n",
    "pivot_jp_ESRB.plot(kind='bar', legend = True)"
   ]
  },
  {
   "cell_type": "markdown",
   "metadata": {},
   "source": [
    "По все регионам можно выявить,что по рейтингу ESRB, категория \"М\" приносит больше прибыли. Далее в Северной Америке и в Европе категория \"Е\". Потом примерно на одинаковом уровне идет категория \"Е10+\" и \"Т\" . В Японии на первом месте идет категория \"Т\" и далее категория \"Е\" и \"М\" с большим перепадом от 3 места идет категория \"Е10+\" так же как и в Европе и Америке. Без рейтинга игры больше всего продаются в Японии, на первом месте, В США игры без рейтинга на 2 месте, А в Европе занимают 3 место"
   ]
  },
  {
   "cell_type": "markdown",
   "metadata": {},
   "source": [
    "### Проверьте гипотезы¶"
   ]
  },
  {
   "cell_type": "markdown",
   "metadata": {},
   "source": [
    "Средние пользовательские рейтинги платформ Xbox One и PC одинаковые\n",
    "\n",
    "Cредние пользовательские рейтинги жанров Action и Sports разные.\n",
    "\n",
    "Определим пороговое значение alpha = 0.05\n",
    "\n",
    "Cредние пользовательские рейтинги платформ Xbox One и PC одинаковые.\n",
    "\n",
    "* Н0 (нулевая гипотеза) - средние пользовательские рейтинги платформ Xbox One и PC одинаковые.\n",
    "\n",
    "* Н1 (альтернативная гипотеза) - средние пользовательские рейтинги платформ Xbox One и PC отличаются между собой."
   ]
  },
  {
   "cell_type": "code",
   "execution_count": 56,
   "metadata": {},
   "outputs": [],
   "source": [
    "xbox_one_rating = games_2017[(games_2017['platform'] == 'XOne') & (games['user_score'] > 0)]['user_score']\n",
    "pc_rating = games_2017[(games_2017['platform'] == 'PC') & (games['user_score'] > 0)]['user_score']"
   ]
  },
  {
   "cell_type": "code",
   "execution_count": 57,
   "metadata": {},
   "outputs": [
    {
     "name": "stdout",
     "output_type": "stream",
     "text": [
      "p-значение: 0.14012658403611647\n",
      "\n",
      "Пороговое значение alpha = 0.05\n",
      "Не получилось отвергнуть нулевую гипотезу\n"
     ]
    }
   ],
   "source": [
    "alpha = 0.05\n",
    "results = st.ttest_ind(xbox_one_rating, pc_rating)\n",
    "print('p-значение:', results.pvalue)\n",
    "print('\\nПороговое значение alpha = 0.05')\n",
    "if results.pvalue < alpha:\n",
    "    print(\"Отвергаем нулевую гипотезу\")\n",
    "else:\n",
    "    print(\"Не получилось отвергнуть нулевую гипотезу\")"
   ]
  },
  {
   "cell_type": "markdown",
   "metadata": {},
   "source": [
    "У нас нет оснований утверждать, что средние пользовательские рейтинги платформ Xbox One и PC отличаются между собой.\n",
    "\n"
   ]
  },
  {
   "cell_type": "markdown",
   "metadata": {},
   "source": [
    "У нас нет оснований утверждать, что средние пользовательские рейтинги платформ Xbox One и PC отличаются между собой."
   ]
  },
  {
   "cell_type": "markdown",
   "metadata": {},
   "source": [
    "* Н0 (нулевая гипотеза) - средние пользовательские рейтинги жанров Action и Sports одинаковые.\n",
    "\n",
    "* Н1 (альтернативная гипотеза) - средние пользовательские рейтинги жанров Action и Sports отличаются между собой."
   ]
  },
  {
   "cell_type": "code",
   "execution_count": 58,
   "metadata": {},
   "outputs": [],
   "source": [
    "action_rating = games_2017[(games_2017['genre'] == 'Action') & (games['user_score'] > 0)]['user_score']\n",
    "pc_rating = games_2017[(games_2017['genre'] == 'Sports') & (games['user_score'] > 0)]['user_score']"
   ]
  },
  {
   "cell_type": "code",
   "execution_count": 59,
   "metadata": {},
   "outputs": [
    {
     "name": "stdout",
     "output_type": "stream",
     "text": [
      "p-значение: 1.0517832389140023e-27\n",
      "\n",
      "Пороговое значение alpha = 0.05\n",
      "Отвергаем нулевую гипотезу\n"
     ]
    }
   ],
   "source": [
    "alpha = 0.05\n",
    "results = st.ttest_ind(action_rating, pc_rating)\n",
    "print('p-значение:', results.pvalue)\n",
    "print('\\nПороговое значение alpha = 0.05')\n",
    "if results.pvalue < alpha:\n",
    "    print(\"Отвергаем нулевую гипотезу\")\n",
    "else:\n",
    "    print(\"Не получилось отвергнуть нулевую гипотезу\")"
   ]
  },
  {
   "cell_type": "markdown",
   "metadata": {},
   "source": [
    "Унас нет  основания утверждать, что средние пользовательские рейтинги жанров Action и Sports одинаковые."
   ]
  },
  {
   "cell_type": "markdown",
   "metadata": {},
   "source": [
    "### Общий вывод"
   ]
  },
  {
   "cell_type": "markdown",
   "metadata": {},
   "source": [
    "По проведенному анализу: самое сильное влияние на итоговую выручку оказывает, в большинстве случаев, оценка критиков. Зависимости между оценкой пользователей и продажами нет, так как корреляция составила менее 0,25. \n",
    "\n",
    "В целом в игровой индустрии: рынок компьютерных игр постепенно падает, это мы видим исходя из данных графика \" отображающий динамику продаж по уже актуальным годам \", количество продаж игр, выпущенных на каждую из этих платформ, снижается. Таким образом, можно сказать, что весь рынок игр падает.\n",
    "\n",
    "Сейчас можно выделить 3 максимально доходные платформы, которые работают, это: PS4; Xone; 3DS. Но так же платформы PS3, WiiU, Wii, PC находятся на не плохом уровне продаж"
   ]
  }
 ],
 "metadata": {
  "ExecuteTimeLog": [
   {
    "duration": 425,
    "start_time": "2022-04-25T12:28:59.662Z"
   },
   {
    "duration": 15,
    "start_time": "2022-04-25T12:29:39.293Z"
   },
   {
    "duration": 137,
    "start_time": "2022-04-25T12:32:03.853Z"
   },
   {
    "duration": 3,
    "start_time": "2022-04-25T12:32:30.372Z"
   },
   {
    "duration": 5,
    "start_time": "2022-04-25T12:33:12.719Z"
   },
   {
    "duration": 168,
    "start_time": "2022-04-25T12:33:32.653Z"
   },
   {
    "duration": 25,
    "start_time": "2022-04-25T12:33:51.212Z"
   },
   {
    "duration": 7,
    "start_time": "2022-04-25T12:34:44.894Z"
   },
   {
    "duration": 5,
    "start_time": "2022-04-25T12:35:33.453Z"
   },
   {
    "duration": 5,
    "start_time": "2022-04-25T12:36:05.384Z"
   },
   {
    "duration": 7,
    "start_time": "2022-04-25T12:36:54.974Z"
   },
   {
    "duration": 14,
    "start_time": "2022-04-25T12:37:13.772Z"
   },
   {
    "duration": 587,
    "start_time": "2022-04-25T12:38:36.892Z"
   },
   {
    "duration": 259,
    "start_time": "2022-04-25T12:40:09.601Z"
   },
   {
    "duration": 251,
    "start_time": "2022-04-25T12:40:18.252Z"
   },
   {
    "duration": 3,
    "start_time": "2022-04-25T12:44:23.111Z"
   },
   {
    "duration": 195,
    "start_time": "2022-04-25T12:45:00.992Z"
   },
   {
    "duration": 145,
    "start_time": "2022-04-25T12:45:32.753Z"
   },
   {
    "duration": 185,
    "start_time": "2022-04-25T12:45:55.392Z"
   },
   {
    "duration": 147,
    "start_time": "2022-04-25T12:46:04.544Z"
   },
   {
    "duration": 141,
    "start_time": "2022-04-25T12:46:24.550Z"
   },
   {
    "duration": 154,
    "start_time": "2022-04-25T12:46:42.839Z"
   },
   {
    "duration": 195,
    "start_time": "2022-04-25T12:47:00.912Z"
   },
   {
    "duration": 22,
    "start_time": "2022-04-25T12:48:03.552Z"
   },
   {
    "duration": 6,
    "start_time": "2022-04-25T12:48:20.670Z"
   },
   {
    "duration": 209,
    "start_time": "2022-04-25T12:48:45.072Z"
   },
   {
    "duration": 50,
    "start_time": "2022-04-25T12:49:09.785Z"
   },
   {
    "duration": 9,
    "start_time": "2022-04-25T12:49:31.062Z"
   },
   {
    "duration": 575,
    "start_time": "2022-04-25T12:49:51.713Z"
   },
   {
    "duration": 361,
    "start_time": "2022-04-25T12:50:03.729Z"
   },
   {
    "duration": 161,
    "start_time": "2022-04-25T12:51:33.236Z"
   },
   {
    "duration": 104,
    "start_time": "2022-04-25T12:51:47.892Z"
   },
   {
    "duration": 108,
    "start_time": "2022-04-25T12:52:08.751Z"
   },
   {
    "duration": 182,
    "start_time": "2022-04-25T12:52:29.951Z"
   },
   {
    "duration": 189,
    "start_time": "2022-04-25T12:53:09.512Z"
   },
   {
    "duration": 181,
    "start_time": "2022-04-25T12:53:46.692Z"
   },
   {
    "duration": 128,
    "start_time": "2022-04-25T12:54:33.441Z"
   },
   {
    "duration": 126,
    "start_time": "2022-04-25T12:55:07.553Z"
   },
   {
    "duration": 13,
    "start_time": "2022-04-25T12:55:50.195Z"
   },
   {
    "duration": 23,
    "start_time": "2022-04-25T12:56:28.132Z"
   },
   {
    "duration": 8,
    "start_time": "2022-04-25T12:56:54.590Z"
   },
   {
    "duration": 46,
    "start_time": "2022-04-25T12:57:06.220Z"
   },
   {
    "duration": 8,
    "start_time": "2022-04-25T12:57:51.091Z"
   },
   {
    "duration": 12,
    "start_time": "2022-04-25T12:58:07.873Z"
   },
   {
    "duration": 258,
    "start_time": "2022-04-25T12:58:23.241Z"
   },
   {
    "duration": 161,
    "start_time": "2022-04-25T12:58:32.524Z"
   },
   {
    "duration": 162,
    "start_time": "2022-04-25T12:58:49.152Z"
   },
   {
    "duration": 132,
    "start_time": "2022-04-25T12:59:53.852Z"
   },
   {
    "duration": 20,
    "start_time": "2022-04-25T13:00:32.411Z"
   },
   {
    "duration": 672,
    "start_time": "2022-04-25T13:00:50.751Z"
   },
   {
    "duration": 15,
    "start_time": "2022-04-25T13:01:43.863Z"
   },
   {
    "duration": 384,
    "start_time": "2022-04-25T13:02:00.992Z"
   },
   {
    "duration": 16,
    "start_time": "2022-04-25T13:02:51.470Z"
   },
   {
    "duration": 468,
    "start_time": "2022-04-25T13:03:07.950Z"
   },
   {
    "duration": 519,
    "start_time": "2022-04-25T13:05:11.151Z"
   },
   {
    "duration": 49,
    "start_time": "2022-04-25T13:05:31.950Z"
   },
   {
    "duration": 2495,
    "start_time": "2022-04-25T13:05:51.953Z"
   },
   {
    "duration": 49,
    "start_time": "2022-04-25T13:06:05.470Z"
   },
   {
    "duration": 2337,
    "start_time": "2022-04-25T13:06:10.600Z"
   },
   {
    "duration": 448,
    "start_time": "2022-04-25T13:06:24.311Z"
   },
   {
    "duration": 2731,
    "start_time": "2022-04-25T13:06:27.274Z"
   },
   {
    "duration": 5,
    "start_time": "2022-04-25T13:07:13.961Z"
   },
   {
    "duration": 389,
    "start_time": "2022-04-25T13:07:19.674Z"
   },
   {
    "duration": 16,
    "start_time": "2022-04-25T13:07:21.312Z"
   },
   {
    "duration": 369,
    "start_time": "2022-04-25T13:07:22.594Z"
   },
   {
    "duration": 2275,
    "start_time": "2022-04-25T13:07:28.442Z"
   },
   {
    "duration": 9,
    "start_time": "2022-04-25T13:07:32.032Z"
   },
   {
    "duration": 15,
    "start_time": "2022-04-25T13:07:49.231Z"
   },
   {
    "duration": 16,
    "start_time": "2022-04-25T13:09:10.833Z"
   },
   {
    "duration": 369,
    "start_time": "2022-04-25T13:09:11.872Z"
   },
   {
    "duration": 13,
    "start_time": "2022-04-25T13:09:14.151Z"
   },
   {
    "duration": 346,
    "start_time": "2022-04-25T13:09:15.550Z"
   },
   {
    "duration": 14,
    "start_time": "2022-04-25T13:09:18.262Z"
   },
   {
    "duration": 390,
    "start_time": "2022-04-25T13:09:21.101Z"
   },
   {
    "duration": 17,
    "start_time": "2022-04-25T13:10:13.713Z"
   },
   {
    "duration": 3,
    "start_time": "2022-04-25T13:10:48.272Z"
   },
   {
    "duration": 6,
    "start_time": "2022-04-25T13:10:50.112Z"
   },
   {
    "duration": 29,
    "start_time": "2022-04-25T13:10:51.523Z"
   },
   {
    "duration": 5,
    "start_time": "2022-04-25T13:10:51.992Z"
   },
   {
    "duration": 6,
    "start_time": "2022-04-25T13:10:52.434Z"
   },
   {
    "duration": 5,
    "start_time": "2022-04-25T13:10:53.550Z"
   },
   {
    "duration": 7,
    "start_time": "2022-04-25T13:10:53.910Z"
   },
   {
    "duration": 23,
    "start_time": "2022-04-25T13:10:54.071Z"
   },
   {
    "duration": 614,
    "start_time": "2022-04-25T13:10:54.652Z"
   },
   {
    "duration": 435,
    "start_time": "2022-04-25T13:10:55.310Z"
   },
   {
    "duration": 4,
    "start_time": "2022-04-25T13:10:55.748Z"
   },
   {
    "duration": 212,
    "start_time": "2022-04-25T13:10:56.081Z"
   },
   {
    "duration": 241,
    "start_time": "2022-04-25T13:10:56.296Z"
   },
   {
    "duration": 180,
    "start_time": "2022-04-25T13:10:56.540Z"
   },
   {
    "duration": 212,
    "start_time": "2022-04-25T13:10:56.723Z"
   },
   {
    "duration": 220,
    "start_time": "2022-04-25T13:10:56.938Z"
   },
   {
    "duration": 154,
    "start_time": "2022-04-25T13:10:57.160Z"
   },
   {
    "duration": 19,
    "start_time": "2022-04-25T13:10:57.337Z"
   },
   {
    "duration": 8,
    "start_time": "2022-04-25T13:10:57.511Z"
   },
   {
    "duration": 200,
    "start_time": "2022-04-25T13:10:57.750Z"
   },
   {
    "duration": 45,
    "start_time": "2022-04-25T13:10:57.953Z"
   },
   {
    "duration": 9,
    "start_time": "2022-04-25T13:10:58.090Z"
   },
   {
    "duration": 432,
    "start_time": "2022-04-25T13:10:58.311Z"
   },
   {
    "duration": 104,
    "start_time": "2022-04-25T13:10:58.745Z"
   },
   {
    "duration": 100,
    "start_time": "2022-04-25T13:10:58.862Z"
   },
   {
    "duration": 183,
    "start_time": "2022-04-25T13:10:59.072Z"
   },
   {
    "duration": 199,
    "start_time": "2022-04-25T13:10:59.532Z"
   },
   {
    "duration": 200,
    "start_time": "2022-04-25T13:11:00.202Z"
   },
   {
    "duration": 213,
    "start_time": "2022-04-25T13:11:00.631Z"
   },
   {
    "duration": 138,
    "start_time": "2022-04-25T13:11:01.113Z"
   },
   {
    "duration": 13,
    "start_time": "2022-04-25T13:11:01.750Z"
   },
   {
    "duration": 15,
    "start_time": "2022-04-25T13:11:02.200Z"
   },
   {
    "duration": 8,
    "start_time": "2022-04-25T13:11:02.420Z"
   },
   {
    "duration": 39,
    "start_time": "2022-04-25T13:11:02.660Z"
   },
   {
    "duration": 14,
    "start_time": "2022-04-25T13:11:03.080Z"
   },
   {
    "duration": 174,
    "start_time": "2022-04-25T13:11:03.310Z"
   },
   {
    "duration": 174,
    "start_time": "2022-04-25T13:11:03.493Z"
   },
   {
    "duration": 16,
    "start_time": "2022-04-25T13:11:04.911Z"
   },
   {
    "duration": 465,
    "start_time": "2022-04-25T13:11:05.150Z"
   },
   {
    "duration": 15,
    "start_time": "2022-04-25T13:11:07.391Z"
   },
   {
    "duration": 13,
    "start_time": "2022-04-25T13:11:09.150Z"
   },
   {
    "duration": 457,
    "start_time": "2022-04-25T13:11:09.873Z"
   },
   {
    "duration": 23,
    "start_time": "2022-04-25T13:11:11.313Z"
   },
   {
    "duration": 435,
    "start_time": "2022-04-25T13:11:12.110Z"
   },
   {
    "duration": 8,
    "start_time": "2022-04-25T13:11:15.101Z"
   },
   {
    "duration": 6,
    "start_time": "2022-04-25T13:11:15.872Z"
   },
   {
    "duration": 149,
    "start_time": "2022-04-25T13:12:23.143Z"
   },
   {
    "duration": 8,
    "start_time": "2022-04-25T13:13:18.510Z"
   },
   {
    "duration": 6,
    "start_time": "2022-04-25T13:13:33.260Z"
   },
   {
    "duration": 1134,
    "start_time": "2022-05-01T10:14:11.316Z"
   },
   {
    "duration": 21,
    "start_time": "2022-05-01T10:14:12.452Z"
   },
   {
    "duration": 10,
    "start_time": "2022-05-01T10:14:12.475Z"
   },
   {
    "duration": 14,
    "start_time": "2022-05-01T10:14:12.488Z"
   },
   {
    "duration": 57,
    "start_time": "2022-05-01T10:14:12.504Z"
   },
   {
    "duration": 6,
    "start_time": "2022-05-01T10:14:12.564Z"
   },
   {
    "duration": 10,
    "start_time": "2022-05-01T10:14:12.572Z"
   },
   {
    "duration": 9,
    "start_time": "2022-05-01T10:14:12.584Z"
   },
   {
    "duration": 11,
    "start_time": "2022-05-01T10:14:12.595Z"
   },
   {
    "duration": 62,
    "start_time": "2022-05-01T10:14:12.609Z"
   },
   {
    "duration": 889,
    "start_time": "2022-05-01T10:14:12.674Z"
   },
   {
    "duration": 455,
    "start_time": "2022-05-01T10:14:13.566Z"
   },
   {
    "duration": 4,
    "start_time": "2022-05-01T10:14:14.024Z"
   },
   {
    "duration": 252,
    "start_time": "2022-05-01T10:14:14.031Z"
   },
   {
    "duration": 256,
    "start_time": "2022-05-01T10:14:14.286Z"
   },
   {
    "duration": 267,
    "start_time": "2022-05-01T10:14:14.552Z"
   },
   {
    "duration": 239,
    "start_time": "2022-05-01T10:14:14.821Z"
   },
   {
    "duration": 258,
    "start_time": "2022-05-01T10:14:15.062Z"
   },
   {
    "duration": 237,
    "start_time": "2022-05-01T10:14:15.323Z"
   },
   {
    "duration": 29,
    "start_time": "2022-05-01T10:14:15.562Z"
   },
   {
    "duration": 8,
    "start_time": "2022-05-01T10:14:15.593Z"
   },
   {
    "duration": 383,
    "start_time": "2022-05-01T10:14:15.603Z"
   },
   {
    "duration": 165,
    "start_time": "2022-05-01T10:14:15.989Z"
   },
   {
    "duration": 15,
    "start_time": "2022-05-01T10:14:16.157Z"
   },
   {
    "duration": 556,
    "start_time": "2022-05-01T10:14:16.175Z"
   },
   {
    "duration": 179,
    "start_time": "2022-05-01T10:14:16.733Z"
   },
   {
    "duration": 175,
    "start_time": "2022-05-01T10:14:16.914Z"
   },
   {
    "duration": 190,
    "start_time": "2022-05-01T10:14:17.094Z"
   },
   {
    "duration": 279,
    "start_time": "2022-05-01T10:14:17.287Z"
   },
   {
    "duration": 308,
    "start_time": "2022-05-01T10:14:17.569Z"
   },
   {
    "duration": 232,
    "start_time": "2022-05-01T10:14:17.880Z"
   },
   {
    "duration": 240,
    "start_time": "2022-05-01T10:14:18.114Z"
   },
   {
    "duration": 19,
    "start_time": "2022-05-01T10:14:18.357Z"
   },
   {
    "duration": 36,
    "start_time": "2022-05-01T10:14:18.379Z"
   },
   {
    "duration": 34,
    "start_time": "2022-05-01T10:14:18.417Z"
   },
   {
    "duration": 99,
    "start_time": "2022-05-01T10:14:18.455Z"
   },
   {
    "duration": 20,
    "start_time": "2022-05-01T10:14:18.556Z"
   },
   {
    "duration": 310,
    "start_time": "2022-05-01T10:14:18.579Z"
   },
   {
    "duration": 301,
    "start_time": "2022-05-01T10:14:18.892Z"
   },
   {
    "duration": 20,
    "start_time": "2022-05-01T10:14:19.196Z"
   },
   {
    "duration": 705,
    "start_time": "2022-05-01T10:14:19.219Z"
   },
   {
    "duration": 28,
    "start_time": "2022-05-01T10:14:19.927Z"
   },
   {
    "duration": 617,
    "start_time": "2022-05-01T10:14:19.957Z"
   },
   {
    "duration": 20,
    "start_time": "2022-05-01T10:14:20.577Z"
   },
   {
    "duration": 632,
    "start_time": "2022-05-01T10:14:20.600Z"
   },
   {
    "duration": 20,
    "start_time": "2022-05-01T10:14:21.235Z"
   },
   {
    "duration": 37,
    "start_time": "2022-05-01T10:14:21.258Z"
   },
   {
    "duration": 23,
    "start_time": "2022-05-01T10:14:21.298Z"
   },
   {
    "duration": 21,
    "start_time": "2022-05-01T10:14:21.324Z"
   },
   {
    "duration": 30,
    "start_time": "2022-05-01T10:14:21.347Z"
   },
   {
    "duration": 32,
    "start_time": "2022-05-01T10:48:12.538Z"
   },
   {
    "duration": 7,
    "start_time": "2022-05-01T10:48:27.260Z"
   },
   {
    "duration": 35,
    "start_time": "2022-05-01T10:51:51.604Z"
   },
   {
    "duration": 5,
    "start_time": "2022-05-01T10:52:09.554Z"
   },
   {
    "duration": 9,
    "start_time": "2022-05-01T10:52:15.634Z"
   },
   {
    "duration": 7,
    "start_time": "2022-05-01T10:52:16.841Z"
   },
   {
    "duration": 8,
    "start_time": "2022-05-01T10:53:34.506Z"
   },
   {
    "duration": 8,
    "start_time": "2022-05-01T10:53:36.124Z"
   },
   {
    "duration": 1063,
    "start_time": "2022-05-01T11:01:38.294Z"
   },
   {
    "duration": 18,
    "start_time": "2022-05-01T11:01:39.360Z"
   },
   {
    "duration": 11,
    "start_time": "2022-05-01T11:01:39.380Z"
   },
   {
    "duration": 30,
    "start_time": "2022-05-01T11:01:39.394Z"
   },
   {
    "duration": 47,
    "start_time": "2022-05-01T11:01:39.427Z"
   },
   {
    "duration": 7,
    "start_time": "2022-05-01T11:01:39.476Z"
   },
   {
    "duration": 17,
    "start_time": "2022-05-01T11:01:39.485Z"
   },
   {
    "duration": 27,
    "start_time": "2022-05-01T11:01:39.505Z"
   },
   {
    "duration": 33,
    "start_time": "2022-05-01T11:01:39.535Z"
   },
   {
    "duration": 23,
    "start_time": "2022-05-01T11:01:39.574Z"
   },
   {
    "duration": 869,
    "start_time": "2022-05-01T11:01:39.599Z"
   },
   {
    "duration": 411,
    "start_time": "2022-05-01T11:01:40.470Z"
   },
   {
    "duration": 4,
    "start_time": "2022-05-01T11:01:40.883Z"
   },
   {
    "duration": 220,
    "start_time": "2022-05-01T11:01:40.888Z"
   },
   {
    "duration": 238,
    "start_time": "2022-05-01T11:01:41.111Z"
   },
   {
    "duration": 238,
    "start_time": "2022-05-01T11:01:41.352Z"
   },
   {
    "duration": 224,
    "start_time": "2022-05-01T11:01:41.593Z"
   },
   {
    "duration": 235,
    "start_time": "2022-05-01T11:01:41.819Z"
   },
   {
    "duration": 230,
    "start_time": "2022-05-01T11:01:42.056Z"
   },
   {
    "duration": 27,
    "start_time": "2022-05-01T11:01:42.288Z"
   },
   {
    "duration": 10,
    "start_time": "2022-05-01T11:01:42.318Z"
   },
   {
    "duration": 329,
    "start_time": "2022-05-01T11:01:42.351Z"
   },
   {
    "duration": 153,
    "start_time": "2022-05-01T11:01:42.683Z"
   },
   {
    "duration": 24,
    "start_time": "2022-05-01T11:01:42.838Z"
   },
   {
    "duration": 507,
    "start_time": "2022-05-01T11:01:42.865Z"
   },
   {
    "duration": 169,
    "start_time": "2022-05-01T11:01:43.374Z"
   },
   {
    "duration": 164,
    "start_time": "2022-05-01T11:01:43.545Z"
   },
   {
    "duration": 176,
    "start_time": "2022-05-01T11:01:43.714Z"
   },
   {
    "duration": 265,
    "start_time": "2022-05-01T11:01:43.892Z"
   },
   {
    "duration": 298,
    "start_time": "2022-05-01T11:01:44.160Z"
   },
   {
    "duration": 228,
    "start_time": "2022-05-01T11:01:44.461Z"
   },
   {
    "duration": 225,
    "start_time": "2022-05-01T11:01:44.691Z"
   },
   {
    "duration": 18,
    "start_time": "2022-05-01T11:01:44.919Z"
   },
   {
    "duration": 27,
    "start_time": "2022-05-01T11:01:44.939Z"
   },
   {
    "duration": 10,
    "start_time": "2022-05-01T11:01:44.968Z"
   },
   {
    "duration": 88,
    "start_time": "2022-05-01T11:01:44.980Z"
   },
   {
    "duration": 18,
    "start_time": "2022-05-01T11:01:45.070Z"
   },
   {
    "duration": 287,
    "start_time": "2022-05-01T11:01:45.090Z"
   },
   {
    "duration": 275,
    "start_time": "2022-05-01T11:01:45.380Z"
   },
   {
    "duration": 24,
    "start_time": "2022-05-01T11:01:45.657Z"
   },
   {
    "duration": 694,
    "start_time": "2022-05-01T11:01:45.683Z"
   },
   {
    "duration": 21,
    "start_time": "2022-05-01T11:01:46.379Z"
   },
   {
    "duration": 583,
    "start_time": "2022-05-01T11:01:46.402Z"
   },
   {
    "duration": 21,
    "start_time": "2022-05-01T11:01:46.987Z"
   },
   {
    "duration": 594,
    "start_time": "2022-05-01T11:01:47.010Z"
   },
   {
    "duration": 11,
    "start_time": "2022-05-01T11:01:47.607Z"
   },
   {
    "duration": 7,
    "start_time": "2022-05-01T11:01:47.620Z"
   },
   {
    "duration": 11,
    "start_time": "2022-05-01T11:01:47.652Z"
   },
   {
    "duration": 7,
    "start_time": "2022-05-01T11:01:47.666Z"
   },
   {
    "duration": 7,
    "start_time": "2022-05-01T11:01:47.675Z"
   },
   {
    "duration": 113,
    "start_time": "2022-05-01T21:51:20.702Z"
   },
   {
    "duration": 853,
    "start_time": "2022-05-01T21:51:55.822Z"
   },
   {
    "duration": 51,
    "start_time": "2022-05-01T21:51:56.677Z"
   },
   {
    "duration": 34,
    "start_time": "2022-05-01T21:52:30.701Z"
   },
   {
    "duration": 15,
    "start_time": "2022-05-01T21:52:31.662Z"
   },
   {
    "duration": 126,
    "start_time": "2022-05-01T21:52:58.281Z"
   },
   {
    "duration": 14,
    "start_time": "2022-05-01T21:53:06.461Z"
   },
   {
    "duration": 4,
    "start_time": "2022-05-01T21:53:12.061Z"
   },
   {
    "duration": 5,
    "start_time": "2022-05-01T21:53:17.022Z"
   },
   {
    "duration": 21,
    "start_time": "2022-05-01T21:53:18.592Z"
   },
   {
    "duration": 5,
    "start_time": "2022-05-01T21:53:20.631Z"
   },
   {
    "duration": 5,
    "start_time": "2022-05-01T21:53:21.581Z"
   },
   {
    "duration": 5,
    "start_time": "2022-05-01T21:53:22.782Z"
   },
   {
    "duration": 6,
    "start_time": "2022-05-01T21:53:34.461Z"
   },
   {
    "duration": 14,
    "start_time": "2022-05-01T21:53:39.341Z"
   },
   {
    "duration": 701,
    "start_time": "2022-05-01T21:53:43.042Z"
   },
   {
    "duration": 93,
    "start_time": "2022-05-01T21:55:45.822Z"
   },
   {
    "duration": 270,
    "start_time": "2022-05-01T21:55:47.487Z"
   },
   {
    "duration": 13,
    "start_time": "2022-05-01T21:55:58.142Z"
   },
   {
    "duration": 12,
    "start_time": "2022-05-01T21:56:00.062Z"
   },
   {
    "duration": 266,
    "start_time": "2022-05-01T21:56:01.102Z"
   },
   {
    "duration": 5,
    "start_time": "2022-05-01T22:07:42.268Z"
   },
   {
    "duration": 267,
    "start_time": "2022-05-01T22:07:45.629Z"
   },
   {
    "duration": 4,
    "start_time": "2022-05-01T22:09:38.836Z"
   },
   {
    "duration": 107,
    "start_time": "2022-05-01T22:10:09.467Z"
   },
   {
    "duration": 226,
    "start_time": "2022-05-01T22:10:21.546Z"
   },
   {
    "duration": 3,
    "start_time": "2022-05-01T22:10:26.747Z"
   },
   {
    "duration": 183,
    "start_time": "2022-05-01T22:10:29.657Z"
   },
   {
    "duration": 294,
    "start_time": "2022-05-01T22:10:31.467Z"
   },
   {
    "duration": 209,
    "start_time": "2022-05-01T22:10:32.347Z"
   },
   {
    "duration": 190,
    "start_time": "2022-05-01T22:10:34.147Z"
   },
   {
    "duration": 205,
    "start_time": "2022-05-01T22:10:36.907Z"
   },
   {
    "duration": 207,
    "start_time": "2022-05-01T22:10:41.547Z"
   },
   {
    "duration": 118,
    "start_time": "2022-05-01T22:11:16.177Z"
   },
   {
    "duration": 4,
    "start_time": "2022-05-01T22:13:36.137Z"
   },
   {
    "duration": 254,
    "start_time": "2022-05-01T22:13:37.287Z"
   },
   {
    "duration": 219,
    "start_time": "2022-05-01T22:13:38.387Z"
   },
   {
    "duration": 2,
    "start_time": "2022-05-01T22:13:38.987Z"
   },
   {
    "duration": 118,
    "start_time": "2022-05-01T22:13:39.627Z"
   },
   {
    "duration": 207,
    "start_time": "2022-05-01T22:13:40.106Z"
   },
   {
    "duration": 127,
    "start_time": "2022-05-01T22:13:40.828Z"
   },
   {
    "duration": 188,
    "start_time": "2022-05-01T22:13:41.947Z"
   },
   {
    "duration": 5,
    "start_time": "2022-05-01T22:14:48.686Z"
   },
   {
    "duration": 5,
    "start_time": "2022-05-01T22:15:05.615Z"
   },
   {
    "duration": 139,
    "start_time": "2022-05-01T22:15:07.134Z"
   },
   {
    "duration": 16,
    "start_time": "2022-05-01T22:17:40.671Z"
   },
   {
    "duration": 6,
    "start_time": "2022-05-01T22:18:27.120Z"
   },
   {
    "duration": 144,
    "start_time": "2022-05-01T22:18:34.161Z"
   },
   {
    "duration": 24,
    "start_time": "2022-05-01T22:24:05.600Z"
   },
   {
    "duration": 9,
    "start_time": "2022-05-01T22:27:23.060Z"
   },
   {
    "duration": 24,
    "start_time": "2022-05-01T22:30:02.770Z"
   },
   {
    "duration": 6,
    "start_time": "2022-05-01T22:30:03.920Z"
   },
   {
    "duration": 219,
    "start_time": "2022-05-01T22:30:44.081Z"
   },
   {
    "duration": 233,
    "start_time": "2022-05-01T22:32:09.771Z"
   },
   {
    "duration": 427,
    "start_time": "2022-05-01T22:32:24.941Z"
   },
   {
    "duration": 87,
    "start_time": "2022-05-01T22:40:40.267Z"
   },
   {
    "duration": 121,
    "start_time": "2022-05-01T22:41:58.096Z"
   },
   {
    "duration": 132,
    "start_time": "2022-05-01T22:42:19.474Z"
   },
   {
    "duration": 10,
    "start_time": "2022-05-01T22:45:26.493Z"
   },
   {
    "duration": 13,
    "start_time": "2022-05-01T22:45:34.714Z"
   },
   {
    "duration": 9,
    "start_time": "2022-05-01T22:45:36.413Z"
   },
   {
    "duration": 4,
    "start_time": "2022-05-01T22:45:37.693Z"
   },
   {
    "duration": 348,
    "start_time": "2022-05-01T22:45:38.733Z"
   },
   {
    "duration": 7,
    "start_time": "2022-05-01T22:47:00.574Z"
   },
   {
    "duration": 493,
    "start_time": "2022-05-01T23:02:02.975Z"
   },
   {
    "duration": 113,
    "start_time": "2022-05-01T23:02:05.764Z"
   },
   {
    "duration": 7,
    "start_time": "2022-05-01T23:04:11.126Z"
   },
   {
    "duration": 104,
    "start_time": "2022-05-01T23:04:12.165Z"
   },
   {
    "duration": 4,
    "start_time": "2022-05-01T23:04:24.884Z"
   },
   {
    "duration": 106,
    "start_time": "2022-05-01T23:04:25.764Z"
   },
   {
    "duration": 107,
    "start_time": "2022-05-01T23:05:05.045Z"
   },
   {
    "duration": 7,
    "start_time": "2022-05-01T23:05:14.884Z"
   },
   {
    "duration": 5,
    "start_time": "2022-05-01T23:05:53.454Z"
   },
   {
    "duration": 160,
    "start_time": "2022-05-01T23:05:54.565Z"
   },
   {
    "duration": 13,
    "start_time": "2022-05-01T23:06:21.605Z"
   },
   {
    "duration": 4,
    "start_time": "2022-05-01T23:06:38.724Z"
   },
   {
    "duration": 105,
    "start_time": "2022-05-01T23:06:40.005Z"
   },
   {
    "duration": 4,
    "start_time": "2022-05-01T23:07:48.566Z"
   },
   {
    "duration": 105,
    "start_time": "2022-05-01T23:07:49.524Z"
   },
   {
    "duration": 4,
    "start_time": "2022-05-01T23:08:14.086Z"
   },
   {
    "duration": 108,
    "start_time": "2022-05-01T23:08:14.645Z"
   },
   {
    "duration": 4,
    "start_time": "2022-05-01T23:08:19.595Z"
   },
   {
    "duration": 108,
    "start_time": "2022-05-01T23:08:20.093Z"
   },
   {
    "duration": 292,
    "start_time": "2022-05-01T23:08:33.366Z"
   },
   {
    "duration": 3,
    "start_time": "2022-05-01T23:08:34.804Z"
   },
   {
    "duration": 115,
    "start_time": "2022-05-01T23:08:35.444Z"
   },
   {
    "duration": 117,
    "start_time": "2022-05-01T23:08:35.645Z"
   },
   {
    "duration": 871,
    "start_time": "2022-05-01T23:08:48.432Z"
   },
   {
    "duration": 36,
    "start_time": "2022-05-01T23:08:49.305Z"
   },
   {
    "duration": 21,
    "start_time": "2022-05-01T23:08:49.343Z"
   },
   {
    "duration": 15,
    "start_time": "2022-05-01T23:08:49.365Z"
   },
   {
    "duration": 4,
    "start_time": "2022-05-01T23:08:49.382Z"
   },
   {
    "duration": 7,
    "start_time": "2022-05-01T23:08:49.387Z"
   },
   {
    "duration": 52,
    "start_time": "2022-05-01T23:08:49.396Z"
   },
   {
    "duration": 5,
    "start_time": "2022-05-01T23:08:49.450Z"
   },
   {
    "duration": 6,
    "start_time": "2022-05-01T23:08:49.457Z"
   },
   {
    "duration": 6,
    "start_time": "2022-05-01T23:08:49.464Z"
   },
   {
    "duration": 8,
    "start_time": "2022-05-01T23:08:49.472Z"
   },
   {
    "duration": 13,
    "start_time": "2022-05-01T23:08:49.482Z"
   },
   {
    "duration": 8,
    "start_time": "2022-05-01T23:08:49.497Z"
   },
   {
    "duration": 118,
    "start_time": "2022-05-01T23:08:49.508Z"
   },
   {
    "duration": 0,
    "start_time": "2022-05-01T23:08:49.628Z"
   },
   {
    "duration": 0,
    "start_time": "2022-05-01T23:08:49.629Z"
   },
   {
    "duration": 0,
    "start_time": "2022-05-01T23:08:49.630Z"
   },
   {
    "duration": 0,
    "start_time": "2022-05-01T23:08:49.631Z"
   },
   {
    "duration": 0,
    "start_time": "2022-05-01T23:08:49.632Z"
   },
   {
    "duration": 0,
    "start_time": "2022-05-01T23:08:49.633Z"
   },
   {
    "duration": 0,
    "start_time": "2022-05-01T23:08:49.634Z"
   },
   {
    "duration": 0,
    "start_time": "2022-05-01T23:08:49.648Z"
   },
   {
    "duration": 0,
    "start_time": "2022-05-01T23:08:49.649Z"
   },
   {
    "duration": 0,
    "start_time": "2022-05-01T23:08:49.650Z"
   },
   {
    "duration": 0,
    "start_time": "2022-05-01T23:08:49.650Z"
   },
   {
    "duration": 0,
    "start_time": "2022-05-01T23:08:49.651Z"
   },
   {
    "duration": 0,
    "start_time": "2022-05-01T23:08:49.653Z"
   },
   {
    "duration": 0,
    "start_time": "2022-05-01T23:08:49.654Z"
   },
   {
    "duration": 0,
    "start_time": "2022-05-01T23:08:49.655Z"
   },
   {
    "duration": 0,
    "start_time": "2022-05-01T23:08:49.655Z"
   },
   {
    "duration": 0,
    "start_time": "2022-05-01T23:08:49.656Z"
   },
   {
    "duration": 0,
    "start_time": "2022-05-01T23:08:49.657Z"
   },
   {
    "duration": 0,
    "start_time": "2022-05-01T23:08:49.658Z"
   },
   {
    "duration": 0,
    "start_time": "2022-05-01T23:08:49.659Z"
   },
   {
    "duration": 0,
    "start_time": "2022-05-01T23:08:49.660Z"
   },
   {
    "duration": 0,
    "start_time": "2022-05-01T23:08:49.661Z"
   },
   {
    "duration": 0,
    "start_time": "2022-05-01T23:08:49.662Z"
   },
   {
    "duration": 0,
    "start_time": "2022-05-01T23:08:49.663Z"
   },
   {
    "duration": 0,
    "start_time": "2022-05-01T23:08:49.664Z"
   },
   {
    "duration": 0,
    "start_time": "2022-05-01T23:08:49.665Z"
   },
   {
    "duration": 0,
    "start_time": "2022-05-01T23:08:49.666Z"
   },
   {
    "duration": 0,
    "start_time": "2022-05-01T23:08:49.667Z"
   },
   {
    "duration": 0,
    "start_time": "2022-05-01T23:08:49.668Z"
   },
   {
    "duration": 0,
    "start_time": "2022-05-01T23:08:49.669Z"
   },
   {
    "duration": 0,
    "start_time": "2022-05-01T23:08:49.670Z"
   },
   {
    "duration": 0,
    "start_time": "2022-05-01T23:08:49.671Z"
   },
   {
    "duration": 0,
    "start_time": "2022-05-01T23:08:49.672Z"
   },
   {
    "duration": 0,
    "start_time": "2022-05-01T23:08:49.673Z"
   },
   {
    "duration": 0,
    "start_time": "2022-05-01T23:08:49.674Z"
   },
   {
    "duration": 1,
    "start_time": "2022-05-01T23:08:49.674Z"
   },
   {
    "duration": 0,
    "start_time": "2022-05-01T23:08:49.675Z"
   },
   {
    "duration": 0,
    "start_time": "2022-05-01T23:08:49.676Z"
   },
   {
    "duration": 0,
    "start_time": "2022-05-01T23:08:49.677Z"
   },
   {
    "duration": 0,
    "start_time": "2022-05-01T23:08:49.678Z"
   },
   {
    "duration": 5,
    "start_time": "2022-05-01T23:09:41.577Z"
   },
   {
    "duration": 545,
    "start_time": "2022-05-01T23:09:44.056Z"
   },
   {
    "duration": 231,
    "start_time": "2022-05-01T23:10:05.848Z"
   },
   {
    "duration": 126,
    "start_time": "2022-05-01T23:10:11.336Z"
   },
   {
    "duration": 791,
    "start_time": "2022-05-02T10:50:20.922Z"
   },
   {
    "duration": 55,
    "start_time": "2022-05-02T10:50:21.715Z"
   },
   {
    "duration": 20,
    "start_time": "2022-05-02T10:50:22.083Z"
   },
   {
    "duration": 15,
    "start_time": "2022-05-02T10:50:24.363Z"
   },
   {
    "duration": 3,
    "start_time": "2022-05-02T10:50:25.483Z"
   },
   {
    "duration": 5,
    "start_time": "2022-05-02T10:50:26.043Z"
   },
   {
    "duration": 20,
    "start_time": "2022-05-02T10:50:26.444Z"
   },
   {
    "duration": 5,
    "start_time": "2022-05-02T10:50:27.163Z"
   },
   {
    "duration": 5,
    "start_time": "2022-05-02T10:50:27.803Z"
   },
   {
    "duration": 6,
    "start_time": "2022-05-02T10:50:28.243Z"
   },
   {
    "duration": 7,
    "start_time": "2022-05-02T10:50:28.763Z"
   },
   {
    "duration": 15,
    "start_time": "2022-05-02T10:50:29.963Z"
   },
   {
    "duration": 8,
    "start_time": "2022-05-02T10:50:32.043Z"
   },
   {
    "duration": 5,
    "start_time": "2022-05-02T10:50:33.002Z"
   },
   {
    "duration": 705,
    "start_time": "2022-05-02T10:50:33.563Z"
   },
   {
    "duration": 126,
    "start_time": "2022-05-02T10:52:50.123Z"
   },
   {
    "duration": 123,
    "start_time": "2022-05-02T10:53:08.563Z"
   },
   {
    "duration": 122,
    "start_time": "2022-05-02T10:53:59.483Z"
   },
   {
    "duration": 16,
    "start_time": "2022-05-02T10:54:15.883Z"
   },
   {
    "duration": 117,
    "start_time": "2022-05-02T10:55:08.523Z"
   },
   {
    "duration": 126,
    "start_time": "2022-05-02T10:55:34.923Z"
   },
   {
    "duration": 126,
    "start_time": "2022-05-02T10:55:41.003Z"
   },
   {
    "duration": 110,
    "start_time": "2022-05-02T10:55:46.883Z"
   },
   {
    "duration": 114,
    "start_time": "2022-05-02T10:55:52.283Z"
   },
   {
    "duration": 118,
    "start_time": "2022-05-02T10:55:58.043Z"
   },
   {
    "duration": 15,
    "start_time": "2022-05-02T10:56:46.963Z"
   },
   {
    "duration": 4,
    "start_time": "2022-05-02T10:56:48.444Z"
   },
   {
    "duration": 311,
    "start_time": "2022-05-02T10:56:48.804Z"
   },
   {
    "duration": 23,
    "start_time": "2022-05-02T10:57:04.604Z"
   },
   {
    "duration": 5,
    "start_time": "2022-05-02T10:57:07.804Z"
   },
   {
    "duration": 285,
    "start_time": "2022-05-02T10:57:10.779Z"
   },
   {
    "duration": 270,
    "start_time": "2022-05-02T10:58:30.043Z"
   },
   {
    "duration": 82,
    "start_time": "2022-05-02T10:59:21.564Z"
   },
   {
    "duration": 75,
    "start_time": "2022-05-02T11:00:17.364Z"
   },
   {
    "duration": 89,
    "start_time": "2022-05-02T11:00:50.444Z"
   },
   {
    "duration": 94,
    "start_time": "2022-05-02T11:01:05.844Z"
   },
   {
    "duration": 75,
    "start_time": "2022-05-02T11:01:34.284Z"
   },
   {
    "duration": 96,
    "start_time": "2022-05-02T11:02:53.723Z"
   },
   {
    "duration": 168,
    "start_time": "2022-05-02T11:03:56.444Z"
   },
   {
    "duration": 5,
    "start_time": "2022-05-02T11:04:23.884Z"
   },
   {
    "duration": 296,
    "start_time": "2022-05-02T11:04:52.444Z"
   },
   {
    "duration": 266,
    "start_time": "2022-05-02T11:05:26.804Z"
   },
   {
    "duration": 214,
    "start_time": "2022-05-02T11:05:40.204Z"
   },
   {
    "duration": 265,
    "start_time": "2022-05-02T11:06:05.483Z"
   },
   {
    "duration": 225,
    "start_time": "2022-05-02T11:06:18.123Z"
   },
   {
    "duration": 203,
    "start_time": "2022-05-02T11:06:25.564Z"
   },
   {
    "duration": 236,
    "start_time": "2022-05-02T11:06:50.403Z"
   },
   {
    "duration": 26,
    "start_time": "2022-05-02T11:10:59.963Z"
   },
   {
    "duration": 25,
    "start_time": "2022-05-02T11:11:06.723Z"
   },
   {
    "duration": 8,
    "start_time": "2022-05-02T11:12:50.843Z"
   },
   {
    "duration": 5,
    "start_time": "2022-05-02T11:12:57.563Z"
   },
   {
    "duration": 11,
    "start_time": "2022-05-02T11:12:58.843Z"
   },
   {
    "duration": 4,
    "start_time": "2022-05-02T11:14:30.123Z"
   },
   {
    "duration": 215,
    "start_time": "2022-05-02T11:14:32.124Z"
   },
   {
    "duration": 205,
    "start_time": "2022-05-02T11:16:20.843Z"
   },
   {
    "duration": 229,
    "start_time": "2022-05-02T11:16:33.323Z"
   },
   {
    "duration": 111,
    "start_time": "2022-05-02T11:19:55.083Z"
   },
   {
    "duration": 116,
    "start_time": "2022-05-02T11:20:34.683Z"
   },
   {
    "duration": 107,
    "start_time": "2022-05-02T11:41:21.323Z"
   },
   {
    "duration": 12,
    "start_time": "2022-05-02T11:42:13.242Z"
   },
   {
    "duration": 113,
    "start_time": "2022-05-02T12:19:15.870Z"
   },
   {
    "duration": 16,
    "start_time": "2022-05-02T12:21:26.058Z"
   },
   {
    "duration": 7,
    "start_time": "2022-05-02T12:21:27.908Z"
   },
   {
    "duration": 29,
    "start_time": "2022-05-02T12:21:29.090Z"
   },
   {
    "duration": 12,
    "start_time": "2022-05-02T12:21:45.986Z"
   },
   {
    "duration": 16,
    "start_time": "2022-05-02T12:23:58.839Z"
   },
   {
    "duration": 7,
    "start_time": "2022-05-02T12:23:59.798Z"
   },
   {
    "duration": 34,
    "start_time": "2022-05-02T12:24:00.199Z"
   },
   {
    "duration": 246,
    "start_time": "2022-05-02T12:24:19.370Z"
   },
   {
    "duration": 275,
    "start_time": "2022-05-02T12:24:22.999Z"
   },
   {
    "duration": 198,
    "start_time": "2022-05-02T12:25:54.038Z"
   },
   {
    "duration": 8,
    "start_time": "2022-05-02T12:26:02.307Z"
   },
   {
    "duration": 9,
    "start_time": "2022-05-02T12:26:29.398Z"
   },
   {
    "duration": 5,
    "start_time": "2022-05-02T12:28:16.909Z"
   },
   {
    "duration": 16,
    "start_time": "2022-05-02T12:32:05.443Z"
   },
   {
    "duration": 214,
    "start_time": "2022-05-02T12:32:49.602Z"
   },
   {
    "duration": 15,
    "start_time": "2022-05-02T12:32:59.221Z"
   },
   {
    "duration": 14,
    "start_time": "2022-05-02T12:33:16.653Z"
   },
   {
    "duration": 15,
    "start_time": "2022-05-02T12:33:33.613Z"
   },
   {
    "duration": 13,
    "start_time": "2022-05-02T13:43:40.698Z"
   },
   {
    "duration": 3548,
    "start_time": "2022-05-02T13:44:23.838Z"
   },
   {
    "duration": 3217,
    "start_time": "2022-05-02T13:44:27.497Z"
   },
   {
    "duration": 3097,
    "start_time": "2022-05-02T13:44:42.539Z"
   },
   {
    "duration": 0,
    "start_time": "2022-05-02T13:44:45.638Z"
   },
   {
    "duration": 3159,
    "start_time": "2022-05-02T13:44:54.438Z"
   },
   {
    "duration": 3,
    "start_time": "2022-05-02T13:45:09.191Z"
   },
   {
    "duration": 173,
    "start_time": "2022-05-02T13:45:09.389Z"
   },
   {
    "duration": 21,
    "start_time": "2022-05-02T13:45:09.564Z"
   },
   {
    "duration": 19,
    "start_time": "2022-05-02T13:45:10.380Z"
   },
   {
    "duration": 3,
    "start_time": "2022-05-02T13:45:11.339Z"
   },
   {
    "duration": 7,
    "start_time": "2022-05-02T13:45:11.898Z"
   },
   {
    "duration": 20,
    "start_time": "2022-05-02T13:45:13.099Z"
   },
   {
    "duration": 5,
    "start_time": "2022-05-02T13:45:13.658Z"
   },
   {
    "duration": 5,
    "start_time": "2022-05-02T13:45:14.018Z"
   },
   {
    "duration": 5,
    "start_time": "2022-05-02T13:45:14.378Z"
   },
   {
    "duration": 5,
    "start_time": "2022-05-02T13:45:14.739Z"
   },
   {
    "duration": 14,
    "start_time": "2022-05-02T13:45:15.069Z"
   },
   {
    "duration": 7,
    "start_time": "2022-05-02T13:45:15.660Z"
   },
   {
    "duration": 4,
    "start_time": "2022-05-02T13:45:15.819Z"
   },
   {
    "duration": 283,
    "start_time": "2022-05-02T13:45:16.219Z"
   },
   {
    "duration": 272,
    "start_time": "2022-05-02T13:45:18.298Z"
   },
   {
    "duration": 3,
    "start_time": "2022-05-02T13:45:18.939Z"
   },
   {
    "duration": 121,
    "start_time": "2022-05-02T13:45:19.738Z"
   },
   {
    "duration": 143,
    "start_time": "2022-05-02T13:45:19.868Z"
   },
   {
    "duration": 226,
    "start_time": "2022-05-02T13:45:20.229Z"
   },
   {
    "duration": 202,
    "start_time": "2022-05-02T13:45:20.459Z"
   },
   {
    "duration": 213,
    "start_time": "2022-05-02T13:45:20.664Z"
   },
   {
    "duration": 125,
    "start_time": "2022-05-02T13:45:21.019Z"
   },
   {
    "duration": 17,
    "start_time": "2022-05-02T13:45:22.859Z"
   },
   {
    "duration": 5,
    "start_time": "2022-05-02T13:45:23.979Z"
   },
   {
    "duration": 237,
    "start_time": "2022-05-02T13:45:24.539Z"
   },
   {
    "duration": 137,
    "start_time": "2022-05-02T13:45:25.740Z"
   },
   {
    "duration": 7,
    "start_time": "2022-05-02T13:45:26.139Z"
   },
   {
    "duration": 276,
    "start_time": "2022-05-02T13:45:28.300Z"
   },
   {
    "duration": 125,
    "start_time": "2022-05-02T13:45:30.541Z"
   },
   {
    "duration": 86,
    "start_time": "2022-05-02T13:45:31.418Z"
   },
   {
    "duration": 96,
    "start_time": "2022-05-02T13:45:31.849Z"
   },
   {
    "duration": 5,
    "start_time": "2022-05-02T13:45:32.698Z"
   },
   {
    "duration": 212,
    "start_time": "2022-05-02T13:45:33.238Z"
   },
   {
    "duration": 236,
    "start_time": "2022-05-02T13:45:35.308Z"
   },
   {
    "duration": 180,
    "start_time": "2022-05-02T13:45:46.339Z"
   },
   {
    "duration": 113,
    "start_time": "2022-05-02T13:45:51.580Z"
   },
   {
    "duration": 13,
    "start_time": "2022-05-02T13:45:54.538Z"
   },
   {
    "duration": 15,
    "start_time": "2022-05-02T13:45:56.699Z"
   },
   {
    "duration": 7,
    "start_time": "2022-05-02T13:45:57.018Z"
   },
   {
    "duration": 34,
    "start_time": "2022-05-02T13:45:57.499Z"
   },
   {
    "duration": 12,
    "start_time": "2022-05-02T13:45:59.578Z"
   },
   {
    "duration": 150,
    "start_time": "2022-05-02T13:46:02.939Z"
   },
   {
    "duration": 3229,
    "start_time": "2022-05-02T13:46:03.820Z"
   },
   {
    "duration": 0,
    "start_time": "2022-05-02T13:46:07.051Z"
   },
   {
    "duration": 3432,
    "start_time": "2022-05-02T13:46:58.184Z"
   },
   {
    "duration": 3585,
    "start_time": "2022-05-02T13:47:01.658Z"
   },
   {
    "duration": 50,
    "start_time": "2022-05-02T13:55:50.713Z"
   },
   {
    "duration": 10,
    "start_time": "2022-05-02T13:57:12.713Z"
   },
   {
    "duration": 11,
    "start_time": "2022-05-02T14:01:01.882Z"
   },
   {
    "duration": 12,
    "start_time": "2022-05-02T14:01:23.864Z"
   },
   {
    "duration": 11,
    "start_time": "2022-05-02T14:03:47.147Z"
   },
   {
    "duration": 214,
    "start_time": "2022-05-02T14:04:02.666Z"
   },
   {
    "duration": 143,
    "start_time": "2022-05-02T14:04:08.517Z"
   },
   {
    "duration": 144,
    "start_time": "2022-05-02T14:04:10.586Z"
   },
   {
    "duration": 147,
    "start_time": "2022-05-02T14:06:09.867Z"
   },
   {
    "duration": 160,
    "start_time": "2022-05-02T14:06:21.027Z"
   },
   {
    "duration": 153,
    "start_time": "2022-05-02T14:06:34.688Z"
   },
   {
    "duration": 170,
    "start_time": "2022-05-02T14:06:42.207Z"
   },
   {
    "duration": 143,
    "start_time": "2022-05-02T14:08:49.537Z"
   },
   {
    "duration": 158,
    "start_time": "2022-05-02T14:09:02.907Z"
   },
   {
    "duration": 168,
    "start_time": "2022-05-02T14:09:03.258Z"
   },
   {
    "duration": 11,
    "start_time": "2022-05-02T14:09:39.604Z"
   },
   {
    "duration": 411,
    "start_time": "2022-05-02T14:09:44.847Z"
   },
   {
    "duration": 11,
    "start_time": "2022-05-02T14:10:50.116Z"
   },
   {
    "duration": 316,
    "start_time": "2022-05-02T14:10:53.317Z"
   },
   {
    "duration": 12,
    "start_time": "2022-05-02T14:11:37.947Z"
   },
   {
    "duration": 320,
    "start_time": "2022-05-02T14:11:42.186Z"
   },
   {
    "duration": 27,
    "start_time": "2022-05-02T14:12:39.296Z"
   },
   {
    "duration": 5,
    "start_time": "2022-05-02T14:12:42.177Z"
   },
   {
    "duration": 26,
    "start_time": "2022-05-02T14:13:10.097Z"
   },
   {
    "duration": 5,
    "start_time": "2022-05-02T14:13:12.097Z"
   },
   {
    "duration": 69,
    "start_time": "2022-05-02T20:17:49.938Z"
   },
   {
    "duration": 1047,
    "start_time": "2022-05-02T20:18:00.186Z"
   },
   {
    "duration": 53,
    "start_time": "2022-05-02T20:18:01.236Z"
   },
   {
    "duration": 35,
    "start_time": "2022-05-02T20:18:01.291Z"
   },
   {
    "duration": 23,
    "start_time": "2022-05-02T20:18:01.868Z"
   },
   {
    "duration": 4,
    "start_time": "2022-05-02T20:18:03.058Z"
   },
   {
    "duration": 8,
    "start_time": "2022-05-02T20:18:03.617Z"
   },
   {
    "duration": 34,
    "start_time": "2022-05-02T20:18:04.058Z"
   },
   {
    "duration": 6,
    "start_time": "2022-05-02T20:18:04.738Z"
   },
   {
    "duration": 7,
    "start_time": "2022-05-02T20:18:05.099Z"
   },
   {
    "duration": 7,
    "start_time": "2022-05-02T20:18:05.538Z"
   },
   {
    "duration": 10,
    "start_time": "2022-05-02T20:18:05.938Z"
   },
   {
    "duration": 22,
    "start_time": "2022-05-02T20:18:06.357Z"
   },
   {
    "duration": 9,
    "start_time": "2022-05-02T20:18:08.578Z"
   },
   {
    "duration": 6,
    "start_time": "2022-05-02T20:18:09.217Z"
   },
   {
    "duration": 1172,
    "start_time": "2022-05-02T20:18:09.697Z"
   },
   {
    "duration": 424,
    "start_time": "2022-05-02T20:18:13.538Z"
   },
   {
    "duration": 4,
    "start_time": "2022-05-02T20:18:16.178Z"
   },
   {
    "duration": 228,
    "start_time": "2022-05-02T20:18:18.458Z"
   },
   {
    "duration": 234,
    "start_time": "2022-05-02T20:18:19.938Z"
   },
   {
    "duration": 234,
    "start_time": "2022-05-02T20:18:20.278Z"
   },
   {
    "duration": 216,
    "start_time": "2022-05-02T20:18:20.668Z"
   },
   {
    "duration": 233,
    "start_time": "2022-05-02T20:18:20.917Z"
   },
   {
    "duration": 238,
    "start_time": "2022-05-02T20:18:21.153Z"
   },
   {
    "duration": 26,
    "start_time": "2022-05-02T20:18:28.548Z"
   },
   {
    "duration": 7,
    "start_time": "2022-05-02T20:19:01.537Z"
   },
   {
    "duration": 280,
    "start_time": "2022-05-02T20:19:04.258Z"
   },
   {
    "duration": 121,
    "start_time": "2022-05-02T20:19:13.986Z"
   },
   {
    "duration": 8,
    "start_time": "2022-05-02T20:19:14.109Z"
   },
   {
    "duration": 38,
    "start_time": "2022-05-02T20:20:39.998Z"
   },
   {
    "duration": 8,
    "start_time": "2022-05-02T20:20:40.419Z"
   },
   {
    "duration": 558,
    "start_time": "2022-05-02T20:20:41.788Z"
   },
   {
    "duration": 153,
    "start_time": "2022-05-02T20:20:45.368Z"
   },
   {
    "duration": 156,
    "start_time": "2022-05-02T20:21:32.178Z"
   },
   {
    "duration": 169,
    "start_time": "2022-05-02T20:21:34.978Z"
   },
   {
    "duration": 6,
    "start_time": "2022-05-02T20:21:37.339Z"
   },
   {
    "duration": 402,
    "start_time": "2022-05-02T20:21:39.679Z"
   },
   {
    "duration": 397,
    "start_time": "2022-05-02T20:22:49.123Z"
   },
   {
    "duration": 469,
    "start_time": "2022-05-02T20:23:04.319Z"
   },
   {
    "duration": 263,
    "start_time": "2022-05-02T20:30:16.618Z"
   },
   {
    "duration": 344,
    "start_time": "2022-05-02T20:31:40.137Z"
   },
   {
    "duration": 19,
    "start_time": "2022-05-02T20:32:43.258Z"
   },
   {
    "duration": 107,
    "start_time": "2022-05-02T20:38:24.748Z"
   },
   {
    "duration": 105,
    "start_time": "2022-05-02T20:43:21.609Z"
   },
   {
    "duration": 90,
    "start_time": "2022-05-02T20:44:48.277Z"
   },
   {
    "duration": 4,
    "start_time": "2022-05-02T20:45:26.780Z"
   },
   {
    "duration": 63,
    "start_time": "2022-05-02T20:45:37.458Z"
   },
   {
    "duration": 62,
    "start_time": "2022-05-02T20:46:51.458Z"
   },
   {
    "duration": 61,
    "start_time": "2022-05-02T20:48:07.889Z"
   },
   {
    "duration": 19,
    "start_time": "2022-05-02T20:48:09.218Z"
   },
   {
    "duration": 96,
    "start_time": "2022-05-02T20:48:57.559Z"
   },
   {
    "duration": 277,
    "start_time": "2022-05-02T20:49:20.118Z"
   },
   {
    "duration": 310,
    "start_time": "2022-05-02T20:50:12.598Z"
   },
   {
    "duration": 329,
    "start_time": "2022-05-02T20:50:14.018Z"
   },
   {
    "duration": 18,
    "start_time": "2022-05-02T21:20:23.256Z"
   },
   {
    "duration": 599,
    "start_time": "2022-05-02T21:20:40.295Z"
   },
   {
    "duration": 93,
    "start_time": "2022-05-02T21:25:20.295Z"
   },
   {
    "duration": 19,
    "start_time": "2022-05-02T21:25:43.346Z"
   },
   {
    "duration": 602,
    "start_time": "2022-05-02T21:25:47.222Z"
   },
   {
    "duration": 697,
    "start_time": "2022-05-02T21:25:56.216Z"
   },
   {
    "duration": 688,
    "start_time": "2022-05-02T21:26:34.016Z"
   },
   {
    "duration": 19,
    "start_time": "2022-05-02T21:31:36.986Z"
   },
   {
    "duration": 624,
    "start_time": "2022-05-02T21:31:39.776Z"
   },
   {
    "duration": 97,
    "start_time": "2022-05-02T21:32:09.046Z"
   },
   {
    "duration": 106,
    "start_time": "2022-05-02T21:37:57.165Z"
   },
   {
    "duration": 46,
    "start_time": "2022-05-02T21:38:46.903Z"
   },
   {
    "duration": 6,
    "start_time": "2022-05-02T21:39:01.376Z"
   },
   {
    "duration": 223,
    "start_time": "2022-05-02T21:42:39.486Z"
   },
   {
    "duration": 45,
    "start_time": "2022-05-02T21:42:49.726Z"
   },
   {
    "duration": 7,
    "start_time": "2022-05-02T21:42:51.815Z"
   },
   {
    "duration": 97,
    "start_time": "2022-05-02T21:52:31.726Z"
   },
   {
    "duration": 1067,
    "start_time": "2022-05-02T21:53:48.703Z"
   },
   {
    "duration": 50,
    "start_time": "2022-05-02T21:53:49.773Z"
   },
   {
    "duration": 36,
    "start_time": "2022-05-02T21:53:49.825Z"
   },
   {
    "duration": 37,
    "start_time": "2022-05-02T21:53:49.863Z"
   },
   {
    "duration": 4,
    "start_time": "2022-05-02T21:53:49.903Z"
   },
   {
    "duration": 818,
    "start_time": "2022-05-03T07:26:07.527Z"
   },
   {
    "duration": 40,
    "start_time": "2022-05-03T07:26:08.346Z"
   },
   {
    "duration": 22,
    "start_time": "2022-05-03T07:26:08.387Z"
   },
   {
    "duration": 35,
    "start_time": "2022-05-03T07:26:08.411Z"
   },
   {
    "duration": 15,
    "start_time": "2022-05-03T07:26:08.448Z"
   },
   {
    "duration": 12,
    "start_time": "2022-05-03T07:26:08.465Z"
   },
   {
    "duration": 18,
    "start_time": "2022-05-03T07:26:08.478Z"
   },
   {
    "duration": 6,
    "start_time": "2022-05-03T07:26:08.497Z"
   },
   {
    "duration": 31,
    "start_time": "2022-05-03T07:26:08.504Z"
   },
   {
    "duration": 8,
    "start_time": "2022-05-03T07:26:08.536Z"
   },
   {
    "duration": 8,
    "start_time": "2022-05-03T07:26:08.545Z"
   },
   {
    "duration": 12,
    "start_time": "2022-05-03T07:26:08.555Z"
   },
   {
    "duration": 9,
    "start_time": "2022-05-03T07:26:08.568Z"
   },
   {
    "duration": 4,
    "start_time": "2022-05-03T07:26:08.580Z"
   },
   {
    "duration": 631,
    "start_time": "2022-05-03T07:26:08.585Z"
   },
   {
    "duration": 256,
    "start_time": "2022-05-03T07:26:09.219Z"
   },
   {
    "duration": 3,
    "start_time": "2022-05-03T07:26:09.476Z"
   },
   {
    "duration": 183,
    "start_time": "2022-05-03T07:26:09.480Z"
   },
   {
    "duration": 138,
    "start_time": "2022-05-03T07:26:09.665Z"
   },
   {
    "duration": 154,
    "start_time": "2022-05-03T07:26:09.805Z"
   },
   {
    "duration": 130,
    "start_time": "2022-05-03T07:26:09.961Z"
   },
   {
    "duration": 152,
    "start_time": "2022-05-03T07:26:10.093Z"
   },
   {
    "duration": 139,
    "start_time": "2022-05-03T07:26:10.247Z"
   },
   {
    "duration": 25,
    "start_time": "2022-05-03T07:26:10.387Z"
   },
   {
    "duration": 25,
    "start_time": "2022-05-03T07:26:10.414Z"
   },
   {
    "duration": 155,
    "start_time": "2022-05-03T07:26:10.441Z"
   },
   {
    "duration": 93,
    "start_time": "2022-05-03T07:26:10.598Z"
   },
   {
    "duration": 10,
    "start_time": "2022-05-03T07:26:10.692Z"
   },
   {
    "duration": 349,
    "start_time": "2022-05-03T07:26:10.704Z"
   },
   {
    "duration": 88,
    "start_time": "2022-05-03T07:26:11.054Z"
   },
   {
    "duration": 105,
    "start_time": "2022-05-03T07:26:11.144Z"
   },
   {
    "duration": 111,
    "start_time": "2022-05-03T07:26:11.251Z"
   },
   {
    "duration": 243,
    "start_time": "2022-05-03T07:26:11.364Z"
   },
   {
    "duration": 259,
    "start_time": "2022-05-03T07:26:11.609Z"
   },
   {
    "duration": 172,
    "start_time": "2022-05-03T07:26:11.870Z"
   },
   {
    "duration": 148,
    "start_time": "2022-05-03T07:26:12.044Z"
   },
   {
    "duration": 14,
    "start_time": "2022-05-03T07:26:12.193Z"
   },
   {
    "duration": 37,
    "start_time": "2022-05-03T07:26:12.210Z"
   },
   {
    "duration": 7,
    "start_time": "2022-05-03T07:26:12.249Z"
   },
   {
    "duration": 34,
    "start_time": "2022-05-03T07:26:12.257Z"
   },
   {
    "duration": 52,
    "start_time": "2022-05-03T07:26:12.295Z"
   },
   {
    "duration": 11,
    "start_time": "2022-05-03T07:26:12.348Z"
   },
   {
    "duration": 193,
    "start_time": "2022-05-03T07:26:12.360Z"
   },
   {
    "duration": 295,
    "start_time": "2022-05-03T07:26:12.555Z"
   },
   {
    "duration": 194,
    "start_time": "2022-05-03T07:26:12.852Z"
   },
   {
    "duration": 11,
    "start_time": "2022-05-03T07:26:13.048Z"
   },
   {
    "duration": 369,
    "start_time": "2022-05-03T07:26:13.061Z"
   },
   {
    "duration": 11,
    "start_time": "2022-05-03T07:26:13.432Z"
   },
   {
    "duration": 359,
    "start_time": "2022-05-03T07:26:13.444Z"
   },
   {
    "duration": 16,
    "start_time": "2022-05-03T07:26:13.805Z"
   },
   {
    "duration": 357,
    "start_time": "2022-05-03T07:26:13.822Z"
   },
   {
    "duration": 40,
    "start_time": "2022-05-03T07:26:14.181Z"
   },
   {
    "duration": 8,
    "start_time": "2022-05-03T07:26:14.223Z"
   },
   {
    "duration": 28,
    "start_time": "2022-05-03T07:26:14.234Z"
   },
   {
    "duration": 4,
    "start_time": "2022-05-03T07:26:14.264Z"
   },
   {
    "duration": 6,
    "start_time": "2022-05-03T07:26:14.270Z"
   },
   {
    "duration": 211,
    "start_time": "2022-05-03T08:03:06.314Z"
   },
   {
    "duration": 863,
    "start_time": "2022-05-03T08:03:15.363Z"
   },
   {
    "duration": 43,
    "start_time": "2022-05-03T08:03:16.229Z"
   },
   {
    "duration": 22,
    "start_time": "2022-05-03T08:03:16.274Z"
   },
   {
    "duration": 25,
    "start_time": "2022-05-03T08:03:16.301Z"
   },
   {
    "duration": 7,
    "start_time": "2022-05-03T08:03:16.327Z"
   },
   {
    "duration": 8,
    "start_time": "2022-05-03T08:03:16.336Z"
   },
   {
    "duration": 27,
    "start_time": "2022-05-03T08:03:16.346Z"
   },
   {
    "duration": 5,
    "start_time": "2022-05-03T08:03:16.375Z"
   },
   {
    "duration": 20,
    "start_time": "2022-05-03T08:03:16.381Z"
   },
   {
    "duration": 12,
    "start_time": "2022-05-03T08:03:16.405Z"
   },
   {
    "duration": 20,
    "start_time": "2022-05-03T08:03:16.418Z"
   },
   {
    "duration": 13,
    "start_time": "2022-05-03T08:03:16.440Z"
   },
   {
    "duration": 10,
    "start_time": "2022-05-03T08:03:16.454Z"
   },
   {
    "duration": 5,
    "start_time": "2022-05-03T08:03:16.466Z"
   },
   {
    "duration": 619,
    "start_time": "2022-05-03T08:03:16.473Z"
   },
   {
    "duration": 261,
    "start_time": "2022-05-03T08:03:17.100Z"
   },
   {
    "duration": 3,
    "start_time": "2022-05-03T08:03:17.363Z"
   },
   {
    "duration": 148,
    "start_time": "2022-05-03T08:03:17.368Z"
   },
   {
    "duration": 141,
    "start_time": "2022-05-03T08:03:17.517Z"
   },
   {
    "duration": 162,
    "start_time": "2022-05-03T08:03:17.660Z"
   },
   {
    "duration": 131,
    "start_time": "2022-05-03T08:03:17.824Z"
   },
   {
    "duration": 133,
    "start_time": "2022-05-03T08:03:17.957Z"
   },
   {
    "duration": 144,
    "start_time": "2022-05-03T08:03:18.092Z"
   },
   {
    "duration": 15,
    "start_time": "2022-05-03T08:03:18.238Z"
   },
   {
    "duration": 8,
    "start_time": "2022-05-03T08:03:18.254Z"
   },
   {
    "duration": 177,
    "start_time": "2022-05-03T08:03:18.263Z"
   },
   {
    "duration": 96,
    "start_time": "2022-05-03T08:03:18.442Z"
   },
   {
    "duration": 4,
    "start_time": "2022-05-03T08:03:18.542Z"
   },
   {
    "duration": 341,
    "start_time": "2022-05-03T08:03:18.548Z"
   },
   {
    "duration": 89,
    "start_time": "2022-05-03T08:03:18.891Z"
   },
   {
    "duration": 87,
    "start_time": "2022-05-03T08:03:18.981Z"
   },
   {
    "duration": 101,
    "start_time": "2022-05-03T08:03:19.070Z"
   },
   {
    "duration": 223,
    "start_time": "2022-05-03T08:03:19.173Z"
   },
   {
    "duration": 248,
    "start_time": "2022-05-03T08:03:19.397Z"
   },
   {
    "duration": 153,
    "start_time": "2022-05-03T08:03:19.647Z"
   },
   {
    "duration": 144,
    "start_time": "2022-05-03T08:03:19.806Z"
   },
   {
    "duration": 12,
    "start_time": "2022-05-03T08:03:19.951Z"
   },
   {
    "duration": 14,
    "start_time": "2022-05-03T08:03:19.964Z"
   },
   {
    "duration": 6,
    "start_time": "2022-05-03T08:03:19.979Z"
   },
   {
    "duration": 42,
    "start_time": "2022-05-03T08:03:20.008Z"
   },
   {
    "duration": 58,
    "start_time": "2022-05-03T08:03:20.052Z"
   },
   {
    "duration": 14,
    "start_time": "2022-05-03T08:03:20.113Z"
   },
   {
    "duration": 158,
    "start_time": "2022-05-03T08:03:20.129Z"
   },
   {
    "duration": 258,
    "start_time": "2022-05-03T08:03:20.289Z"
   },
   {
    "duration": 194,
    "start_time": "2022-05-03T08:03:20.549Z"
   },
   {
    "duration": 12,
    "start_time": "2022-05-03T08:03:20.744Z"
   },
   {
    "duration": 352,
    "start_time": "2022-05-03T08:03:20.757Z"
   },
   {
    "duration": 16,
    "start_time": "2022-05-03T08:03:21.111Z"
   },
   {
    "duration": 338,
    "start_time": "2022-05-03T08:03:21.129Z"
   },
   {
    "duration": 11,
    "start_time": "2022-05-03T08:03:21.469Z"
   },
   {
    "duration": 365,
    "start_time": "2022-05-03T08:03:21.482Z"
   },
   {
    "duration": 26,
    "start_time": "2022-05-03T08:03:21.849Z"
   },
   {
    "duration": 5,
    "start_time": "2022-05-03T08:03:21.877Z"
   },
   {
    "duration": 55,
    "start_time": "2022-05-03T08:03:21.883Z"
   },
   {
    "duration": 4,
    "start_time": "2022-05-03T08:03:21.940Z"
   },
   {
    "duration": 5,
    "start_time": "2022-05-03T08:03:21.945Z"
   },
   {
    "duration": 171,
    "start_time": "2022-05-03T10:23:52.465Z"
   },
   {
    "duration": 70,
    "start_time": "2022-05-03T10:24:36.205Z"
   },
   {
    "duration": 923,
    "start_time": "2022-05-03T10:24:48.864Z"
   },
   {
    "duration": 42,
    "start_time": "2022-05-03T10:24:49.789Z"
   },
   {
    "duration": 32,
    "start_time": "2022-05-03T10:24:49.834Z"
   },
   {
    "duration": 18,
    "start_time": "2022-05-03T10:24:50.124Z"
   },
   {
    "duration": 3,
    "start_time": "2022-05-03T10:24:51.065Z"
   },
   {
    "duration": 6,
    "start_time": "2022-05-03T10:24:51.585Z"
   },
   {
    "duration": 24,
    "start_time": "2022-05-03T10:24:51.947Z"
   },
   {
    "duration": 5,
    "start_time": "2022-05-03T10:24:52.425Z"
   },
   {
    "duration": 5,
    "start_time": "2022-05-03T10:24:52.785Z"
   },
   {
    "duration": 5,
    "start_time": "2022-05-03T10:24:53.185Z"
   },
   {
    "duration": 7,
    "start_time": "2022-05-03T10:24:53.527Z"
   },
   {
    "duration": 16,
    "start_time": "2022-05-03T10:24:53.914Z"
   },
   {
    "duration": 9,
    "start_time": "2022-05-03T10:24:54.547Z"
   },
   {
    "duration": 6,
    "start_time": "2022-05-03T10:24:54.686Z"
   },
   {
    "duration": 974,
    "start_time": "2022-05-03T10:24:54.827Z"
   },
   {
    "duration": 322,
    "start_time": "2022-05-03T10:24:56.546Z"
   },
   {
    "duration": 3,
    "start_time": "2022-05-03T10:24:57.147Z"
   },
   {
    "duration": 154,
    "start_time": "2022-05-03T10:24:57.725Z"
   },
   {
    "duration": 169,
    "start_time": "2022-05-03T10:24:57.925Z"
   },
   {
    "duration": 170,
    "start_time": "2022-05-03T10:24:58.124Z"
   },
   {
    "duration": 159,
    "start_time": "2022-05-03T10:24:58.313Z"
   },
   {
    "duration": 159,
    "start_time": "2022-05-03T10:24:58.549Z"
   },
   {
    "duration": 155,
    "start_time": "2022-05-03T10:24:58.747Z"
   },
   {
    "duration": 19,
    "start_time": "2022-05-03T10:24:59.905Z"
   },
   {
    "duration": 5,
    "start_time": "2022-05-03T10:25:00.265Z"
   },
   {
    "duration": 203,
    "start_time": "2022-05-03T10:25:00.425Z"
   },
   {
    "duration": 104,
    "start_time": "2022-05-03T10:25:01.273Z"
   },
   {
    "duration": 6,
    "start_time": "2022-05-03T10:25:01.565Z"
   },
   {
    "duration": 402,
    "start_time": "2022-05-03T10:25:02.404Z"
   },
   {
    "duration": 107,
    "start_time": "2022-05-03T10:25:04.046Z"
   },
   {
    "duration": 115,
    "start_time": "2022-05-03T10:25:04.946Z"
   },
   {
    "duration": 128,
    "start_time": "2022-05-03T10:25:05.129Z"
   },
   {
    "duration": 293,
    "start_time": "2022-05-03T10:25:05.513Z"
   },
   {
    "duration": 307,
    "start_time": "2022-05-03T10:25:05.905Z"
   },
   {
    "duration": 191,
    "start_time": "2022-05-03T10:25:06.908Z"
   },
   {
    "duration": 190,
    "start_time": "2022-05-03T10:25:09.905Z"
   },
   {
    "duration": 14,
    "start_time": "2022-05-03T10:25:10.505Z"
   },
   {
    "duration": 15,
    "start_time": "2022-05-03T10:25:12.107Z"
   },
   {
    "duration": 8,
    "start_time": "2022-05-03T10:25:12.304Z"
   },
   {
    "duration": 49,
    "start_time": "2022-05-03T10:25:12.504Z"
   },
   {
    "duration": 42,
    "start_time": "2022-05-03T10:25:16.947Z"
   },
   {
    "duration": 16,
    "start_time": "2022-05-03T10:25:17.425Z"
   },
   {
    "duration": 204,
    "start_time": "2022-05-03T10:25:18.624Z"
   },
   {
    "duration": 327,
    "start_time": "2022-05-03T10:25:18.830Z"
   },
   {
    "duration": 242,
    "start_time": "2022-05-03T10:25:19.159Z"
   },
   {
    "duration": 48,
    "start_time": "2022-05-03T10:25:30.425Z"
   },
   {
    "duration": 17,
    "start_time": "2022-05-03T10:25:41.425Z"
   },
   {
    "duration": 444,
    "start_time": "2022-05-03T10:25:44.065Z"
   },
   {
    "duration": 13,
    "start_time": "2022-05-03T10:25:53.666Z"
   },
   {
    "duration": 440,
    "start_time": "2022-05-03T10:25:56.665Z"
   },
   {
    "duration": 14,
    "start_time": "2022-05-03T10:26:00.065Z"
   },
   {
    "duration": 500,
    "start_time": "2022-05-03T10:26:01.505Z"
   },
   {
    "duration": 186,
    "start_time": "2022-05-03T10:33:45.904Z"
   },
   {
    "duration": 4,
    "start_time": "2022-05-03T11:15:56.570Z"
   },
   {
    "duration": 66,
    "start_time": "2022-05-03T11:18:10.310Z"
   },
   {
    "duration": 5,
    "start_time": "2022-05-03T11:26:31.151Z"
   },
   {
    "duration": 14,
    "start_time": "2022-05-03T11:26:34.410Z"
   },
   {
    "duration": 425,
    "start_time": "2022-05-03T11:26:41.951Z"
   },
   {
    "duration": 194,
    "start_time": "2022-05-03T11:28:29.870Z"
   },
   {
    "duration": 65,
    "start_time": "2022-05-03T11:34:33.392Z"
   },
   {
    "duration": 18,
    "start_time": "2022-05-03T11:35:52.591Z"
   },
   {
    "duration": 45,
    "start_time": "2022-05-03T11:36:35.391Z"
   },
   {
    "duration": 20,
    "start_time": "2022-05-03T11:36:36.351Z"
   },
   {
    "duration": 26,
    "start_time": "2022-05-03T11:37:36.752Z"
   },
   {
    "duration": 58,
    "start_time": "2022-05-03T11:38:16.032Z"
   },
   {
    "duration": 23,
    "start_time": "2022-05-03T11:39:06.752Z"
   },
   {
    "duration": 18,
    "start_time": "2022-05-03T11:39:20.293Z"
   },
   {
    "duration": 20,
    "start_time": "2022-05-03T11:39:50.433Z"
   },
   {
    "duration": 197,
    "start_time": "2022-05-03T11:40:54.531Z"
   },
   {
    "duration": 3944,
    "start_time": "2022-05-03T11:40:55.273Z"
   },
   {
    "duration": 0,
    "start_time": "2022-05-03T11:40:59.219Z"
   },
   {
    "duration": 431,
    "start_time": "2022-05-03T11:41:17.049Z"
   },
   {
    "duration": 243,
    "start_time": "2022-05-03T11:41:25.932Z"
   },
   {
    "duration": 180,
    "start_time": "2022-05-03T11:43:02.752Z"
   },
   {
    "duration": 178,
    "start_time": "2022-05-03T11:43:23.812Z"
   },
   {
    "duration": 177,
    "start_time": "2022-05-03T11:44:31.433Z"
   },
   {
    "duration": 20,
    "start_time": "2022-05-03T11:45:02.992Z"
   },
   {
    "duration": 24,
    "start_time": "2022-05-03T11:50:44.192Z"
   },
   {
    "duration": 7,
    "start_time": "2022-05-03T11:50:45.752Z"
   },
   {
    "duration": 360,
    "start_time": "2022-05-03T11:50:49.832Z"
   },
   {
    "duration": 26,
    "start_time": "2022-05-03T11:59:55.952Z"
   },
   {
    "duration": 7,
    "start_time": "2022-05-03T11:59:57.692Z"
   },
   {
    "duration": 17,
    "start_time": "2022-05-03T12:16:47.172Z"
   },
   {
    "duration": 6,
    "start_time": "2022-05-03T12:16:53.191Z"
   },
   {
    "duration": 248,
    "start_time": "2022-05-03T12:17:35.310Z"
   },
   {
    "duration": 244,
    "start_time": "2022-05-03T12:17:37.231Z"
   },
   {
    "duration": 7,
    "start_time": "2022-05-03T12:25:17.871Z"
   },
   {
    "duration": 900,
    "start_time": "2022-05-03T13:47:09.459Z"
   },
   {
    "duration": 38,
    "start_time": "2022-05-03T13:47:10.361Z"
   },
   {
    "duration": 28,
    "start_time": "2022-05-03T13:47:10.401Z"
   },
   {
    "duration": 16,
    "start_time": "2022-05-03T13:47:10.432Z"
   },
   {
    "duration": 3,
    "start_time": "2022-05-03T13:47:10.450Z"
   },
   {
    "duration": 9,
    "start_time": "2022-05-03T13:47:10.455Z"
   },
   {
    "duration": 61,
    "start_time": "2022-05-03T13:47:10.466Z"
   },
   {
    "duration": 5,
    "start_time": "2022-05-03T13:47:10.529Z"
   },
   {
    "duration": 6,
    "start_time": "2022-05-03T13:47:10.536Z"
   },
   {
    "duration": 6,
    "start_time": "2022-05-03T13:47:10.546Z"
   },
   {
    "duration": 7,
    "start_time": "2022-05-03T13:47:10.554Z"
   },
   {
    "duration": 45,
    "start_time": "2022-05-03T13:47:10.563Z"
   },
   {
    "duration": 9,
    "start_time": "2022-05-03T13:47:10.611Z"
   },
   {
    "duration": 6,
    "start_time": "2022-05-03T13:47:10.622Z"
   },
   {
    "duration": 790,
    "start_time": "2022-05-03T13:47:10.631Z"
   },
   {
    "duration": 292,
    "start_time": "2022-05-03T13:47:11.423Z"
   },
   {
    "duration": 3,
    "start_time": "2022-05-03T13:47:11.718Z"
   },
   {
    "duration": 176,
    "start_time": "2022-05-03T13:47:11.724Z"
   },
   {
    "duration": 164,
    "start_time": "2022-05-03T13:47:11.906Z"
   },
   {
    "duration": 175,
    "start_time": "2022-05-03T13:47:12.072Z"
   },
   {
    "duration": 160,
    "start_time": "2022-05-03T13:47:12.249Z"
   },
   {
    "duration": 168,
    "start_time": "2022-05-03T13:47:12.411Z"
   },
   {
    "duration": 223,
    "start_time": "2022-05-03T13:47:12.580Z"
   },
   {
    "duration": 24,
    "start_time": "2022-05-03T13:47:12.805Z"
   },
   {
    "duration": 5,
    "start_time": "2022-05-03T13:47:12.831Z"
   },
   {
    "duration": 207,
    "start_time": "2022-05-03T13:47:12.838Z"
   },
   {
    "duration": 27,
    "start_time": "2022-05-03T13:47:13.047Z"
   },
   {
    "duration": 6,
    "start_time": "2022-05-03T13:47:13.078Z"
   },
   {
    "duration": 366,
    "start_time": "2022-05-03T13:47:13.106Z"
   },
   {
    "duration": 96,
    "start_time": "2022-05-03T13:47:13.474Z"
   },
   {
    "duration": 110,
    "start_time": "2022-05-03T13:47:13.572Z"
   },
   {
    "duration": 118,
    "start_time": "2022-05-03T13:47:13.684Z"
   },
   {
    "duration": 287,
    "start_time": "2022-05-03T13:47:13.808Z"
   },
   {
    "duration": 288,
    "start_time": "2022-05-03T13:47:14.097Z"
   },
   {
    "duration": 175,
    "start_time": "2022-05-03T13:47:14.387Z"
   },
   {
    "duration": 265,
    "start_time": "2022-05-03T13:47:14.564Z"
   },
   {
    "duration": 14,
    "start_time": "2022-05-03T13:47:14.831Z"
   },
   {
    "duration": 17,
    "start_time": "2022-05-03T13:47:14.847Z"
   },
   {
    "duration": 9,
    "start_time": "2022-05-03T13:47:14.867Z"
   },
   {
    "duration": 53,
    "start_time": "2022-05-03T13:47:14.907Z"
   },
   {
    "duration": 47,
    "start_time": "2022-05-03T13:47:14.962Z"
   },
   {
    "duration": 16,
    "start_time": "2022-05-03T13:47:15.011Z"
   },
   {
    "duration": 9,
    "start_time": "2022-05-03T13:47:15.029Z"
   },
   {
    "duration": 205,
    "start_time": "2022-05-03T13:47:15.040Z"
   },
   {
    "duration": 210,
    "start_time": "2022-05-03T13:47:15.247Z"
   },
   {
    "duration": 206,
    "start_time": "2022-05-03T13:47:15.460Z"
   },
   {
    "duration": 221,
    "start_time": "2022-05-03T13:47:15.668Z"
   },
   {
    "duration": 22,
    "start_time": "2022-05-03T13:47:15.891Z"
   },
   {
    "duration": 416,
    "start_time": "2022-05-03T13:47:15.915Z"
   },
   {
    "duration": 13,
    "start_time": "2022-05-03T13:47:16.332Z"
   },
   {
    "duration": 422,
    "start_time": "2022-05-03T13:47:16.347Z"
   },
   {
    "duration": 6,
    "start_time": "2022-05-03T13:47:16.771Z"
   },
   {
    "duration": 5,
    "start_time": "2022-05-03T13:47:16.779Z"
   },
   {
    "duration": 32,
    "start_time": "2022-05-03T13:47:16.785Z"
   },
   {
    "duration": 449,
    "start_time": "2022-05-03T13:47:16.819Z"
   },
   {
    "duration": 41,
    "start_time": "2022-05-03T13:47:17.270Z"
   },
   {
    "duration": 5,
    "start_time": "2022-05-03T13:47:17.313Z"
   },
   {
    "duration": 33,
    "start_time": "2022-05-03T13:47:17.320Z"
   },
   {
    "duration": 6,
    "start_time": "2022-05-03T13:47:17.354Z"
   },
   {
    "duration": 4,
    "start_time": "2022-05-03T13:47:17.363Z"
   },
   {
    "duration": 66,
    "start_time": "2022-05-03T13:48:35.463Z"
   },
   {
    "duration": 980,
    "start_time": "2022-05-03T13:56:46.741Z"
   },
   {
    "duration": 40,
    "start_time": "2022-05-03T13:56:47.724Z"
   },
   {
    "duration": 26,
    "start_time": "2022-05-03T13:56:47.765Z"
   },
   {
    "duration": 21,
    "start_time": "2022-05-03T13:56:47.808Z"
   },
   {
    "duration": 4,
    "start_time": "2022-05-03T13:56:47.831Z"
   },
   {
    "duration": 11,
    "start_time": "2022-05-03T13:56:47.837Z"
   },
   {
    "duration": 31,
    "start_time": "2022-05-03T13:56:47.850Z"
   },
   {
    "duration": 7,
    "start_time": "2022-05-03T13:56:47.908Z"
   },
   {
    "duration": 6,
    "start_time": "2022-05-03T13:56:47.917Z"
   },
   {
    "duration": 5,
    "start_time": "2022-05-03T13:56:47.927Z"
   },
   {
    "duration": 7,
    "start_time": "2022-05-03T13:56:47.934Z"
   },
   {
    "duration": 23,
    "start_time": "2022-05-03T13:56:47.943Z"
   },
   {
    "duration": 45,
    "start_time": "2022-05-03T13:56:47.968Z"
   },
   {
    "duration": 6,
    "start_time": "2022-05-03T13:56:48.015Z"
   },
   {
    "duration": 746,
    "start_time": "2022-05-03T13:56:48.023Z"
   },
   {
    "duration": 347,
    "start_time": "2022-05-03T13:56:48.771Z"
   },
   {
    "duration": 4,
    "start_time": "2022-05-03T13:56:49.121Z"
   },
   {
    "duration": 163,
    "start_time": "2022-05-03T13:56:49.128Z"
   },
   {
    "duration": 180,
    "start_time": "2022-05-03T13:56:49.293Z"
   },
   {
    "duration": 250,
    "start_time": "2022-05-03T13:56:49.476Z"
   },
   {
    "duration": 210,
    "start_time": "2022-05-03T13:56:49.729Z"
   },
   {
    "duration": 224,
    "start_time": "2022-05-03T13:56:49.942Z"
   },
   {
    "duration": 198,
    "start_time": "2022-05-03T13:56:50.169Z"
   },
   {
    "duration": 20,
    "start_time": "2022-05-03T13:56:50.369Z"
   },
   {
    "duration": 21,
    "start_time": "2022-05-03T13:56:50.392Z"
   },
   {
    "duration": 292,
    "start_time": "2022-05-03T13:56:50.416Z"
   },
   {
    "duration": 142,
    "start_time": "2022-05-03T13:56:50.711Z"
   },
   {
    "duration": 6,
    "start_time": "2022-05-03T13:56:50.859Z"
   },
   {
    "duration": 408,
    "start_time": "2022-05-03T13:56:50.868Z"
   },
   {
    "duration": 113,
    "start_time": "2022-05-03T13:56:51.278Z"
   },
   {
    "duration": 148,
    "start_time": "2022-05-03T13:56:51.394Z"
   },
   {
    "duration": 145,
    "start_time": "2022-05-03T13:56:51.547Z"
   },
   {
    "duration": 314,
    "start_time": "2022-05-03T13:56:51.694Z"
   },
   {
    "duration": 464,
    "start_time": "2022-05-03T13:56:52.010Z"
   },
   {
    "duration": 254,
    "start_time": "2022-05-03T13:56:52.477Z"
   },
   {
    "duration": 254,
    "start_time": "2022-05-03T13:56:52.733Z"
   },
   {
    "duration": 25,
    "start_time": "2022-05-03T13:56:52.989Z"
   },
   {
    "duration": 25,
    "start_time": "2022-05-03T13:56:53.019Z"
   },
   {
    "duration": 9,
    "start_time": "2022-05-03T13:56:53.047Z"
   },
   {
    "duration": 75,
    "start_time": "2022-05-03T13:56:53.058Z"
   },
   {
    "duration": 22,
    "start_time": "2022-05-03T13:56:53.135Z"
   },
   {
    "duration": 50,
    "start_time": "2022-05-03T13:56:53.160Z"
   },
   {
    "duration": 9,
    "start_time": "2022-05-03T13:56:53.212Z"
   },
   {
    "duration": 201,
    "start_time": "2022-05-03T13:56:53.224Z"
   },
   {
    "duration": 375,
    "start_time": "2022-05-03T13:56:53.428Z"
   },
   {
    "duration": 213,
    "start_time": "2022-05-03T13:56:53.804Z"
   },
   {
    "duration": 264,
    "start_time": "2022-05-03T13:56:54.019Z"
   },
   {
    "duration": 32,
    "start_time": "2022-05-03T13:56:54.286Z"
   },
   {
    "duration": 466,
    "start_time": "2022-05-03T13:56:54.320Z"
   },
   {
    "duration": 25,
    "start_time": "2022-05-03T13:56:54.788Z"
   },
   {
    "duration": 534,
    "start_time": "2022-05-03T13:56:54.816Z"
   },
   {
    "duration": 5,
    "start_time": "2022-05-03T13:56:55.352Z"
   },
   {
    "duration": 8,
    "start_time": "2022-05-03T13:56:55.358Z"
   },
   {
    "duration": 22,
    "start_time": "2022-05-03T13:56:55.368Z"
   },
   {
    "duration": 447,
    "start_time": "2022-05-03T13:56:55.409Z"
   },
   {
    "duration": 65,
    "start_time": "2022-05-03T13:56:55.858Z"
   },
   {
    "duration": 7,
    "start_time": "2022-05-03T13:56:55.925Z"
   },
   {
    "duration": 33,
    "start_time": "2022-05-03T13:56:55.934Z"
   },
   {
    "duration": 5,
    "start_time": "2022-05-03T13:56:55.969Z"
   },
   {
    "duration": 33,
    "start_time": "2022-05-03T13:56:55.976Z"
   },
   {
    "duration": 802,
    "start_time": "2022-09-19T11:12:53.544Z"
   },
   {
    "duration": 99,
    "start_time": "2022-09-19T11:12:54.348Z"
   },
   {
    "duration": 20,
    "start_time": "2022-09-19T11:12:54.448Z"
   },
   {
    "duration": 48,
    "start_time": "2022-09-19T11:12:54.470Z"
   },
   {
    "duration": 7,
    "start_time": "2022-09-19T11:12:54.519Z"
   },
   {
    "duration": 30,
    "start_time": "2022-09-19T11:12:54.527Z"
   },
   {
    "duration": 38,
    "start_time": "2022-09-19T11:12:54.558Z"
   },
   {
    "duration": 6,
    "start_time": "2022-09-19T11:12:54.597Z"
   },
   {
    "duration": 24,
    "start_time": "2022-09-19T11:12:54.604Z"
   },
   {
    "duration": 37,
    "start_time": "2022-09-19T11:12:54.630Z"
   },
   {
    "duration": 41,
    "start_time": "2022-09-19T11:12:54.669Z"
   },
   {
    "duration": 45,
    "start_time": "2022-09-19T11:12:54.711Z"
   },
   {
    "duration": 34,
    "start_time": "2022-09-19T11:12:54.757Z"
   },
   {
    "duration": 28,
    "start_time": "2022-09-19T11:12:54.793Z"
   },
   {
    "duration": 540,
    "start_time": "2022-09-19T11:12:54.822Z"
   },
   {
    "duration": 239,
    "start_time": "2022-09-19T11:12:55.363Z"
   },
   {
    "duration": 3,
    "start_time": "2022-09-19T11:12:55.604Z"
   },
   {
    "duration": 138,
    "start_time": "2022-09-19T11:12:55.608Z"
   },
   {
    "duration": 139,
    "start_time": "2022-09-19T11:12:55.747Z"
   },
   {
    "duration": 135,
    "start_time": "2022-09-19T11:12:55.887Z"
   },
   {
    "duration": 130,
    "start_time": "2022-09-19T11:12:56.024Z"
   },
   {
    "duration": 147,
    "start_time": "2022-09-19T11:12:56.156Z"
   },
   {
    "duration": 136,
    "start_time": "2022-09-19T11:12:56.305Z"
   },
   {
    "duration": 15,
    "start_time": "2022-09-19T11:12:56.443Z"
   },
   {
    "duration": 5,
    "start_time": "2022-09-19T11:12:56.459Z"
   },
   {
    "duration": 173,
    "start_time": "2022-09-19T11:12:56.465Z"
   },
   {
    "duration": 93,
    "start_time": "2022-09-19T11:12:56.639Z"
   },
   {
    "duration": 7,
    "start_time": "2022-09-19T11:12:56.734Z"
   },
   {
    "duration": 327,
    "start_time": "2022-09-19T11:12:56.742Z"
   },
   {
    "duration": 83,
    "start_time": "2022-09-19T11:12:57.070Z"
   },
   {
    "duration": 98,
    "start_time": "2022-09-19T11:12:57.155Z"
   },
   {
    "duration": 105,
    "start_time": "2022-09-19T11:12:57.254Z"
   },
   {
    "duration": 241,
    "start_time": "2022-09-19T11:12:57.361Z"
   },
   {
    "duration": 233,
    "start_time": "2022-09-19T11:12:57.604Z"
   },
   {
    "duration": 143,
    "start_time": "2022-09-19T11:12:57.838Z"
   },
   {
    "duration": 166,
    "start_time": "2022-09-19T11:12:57.982Z"
   },
   {
    "duration": 12,
    "start_time": "2022-09-19T11:12:58.149Z"
   },
   {
    "duration": 15,
    "start_time": "2022-09-19T11:12:58.163Z"
   },
   {
    "duration": 7,
    "start_time": "2022-09-19T11:12:58.180Z"
   },
   {
    "duration": 57,
    "start_time": "2022-09-19T11:12:58.188Z"
   },
   {
    "duration": 13,
    "start_time": "2022-09-19T11:12:58.250Z"
   },
   {
    "duration": 12,
    "start_time": "2022-09-19T11:12:58.265Z"
   },
   {
    "duration": 5,
    "start_time": "2022-09-19T11:12:58.278Z"
   },
   {
    "duration": 192,
    "start_time": "2022-09-19T11:12:58.285Z"
   },
   {
    "duration": 246,
    "start_time": "2022-09-19T11:12:58.478Z"
   },
   {
    "duration": 187,
    "start_time": "2022-09-19T11:12:58.726Z"
   },
   {
    "duration": 242,
    "start_time": "2022-09-19T11:12:58.915Z"
   },
   {
    "duration": 13,
    "start_time": "2022-09-19T11:12:59.159Z"
   },
   {
    "duration": 358,
    "start_time": "2022-09-19T11:12:59.174Z"
   },
   {
    "duration": 11,
    "start_time": "2022-09-19T11:12:59.533Z"
   },
   {
    "duration": 350,
    "start_time": "2022-09-19T11:12:59.545Z"
   },
   {
    "duration": 4,
    "start_time": "2022-09-19T11:12:59.896Z"
   },
   {
    "duration": 6,
    "start_time": "2022-09-19T11:12:59.901Z"
   },
   {
    "duration": 19,
    "start_time": "2022-09-19T11:12:59.909Z"
   },
   {
    "duration": 380,
    "start_time": "2022-09-19T11:12:59.929Z"
   },
   {
    "duration": 33,
    "start_time": "2022-09-19T11:13:00.311Z"
   },
   {
    "duration": 5,
    "start_time": "2022-09-19T11:13:00.346Z"
   },
   {
    "duration": 51,
    "start_time": "2022-09-19T11:13:00.353Z"
   },
   {
    "duration": 5,
    "start_time": "2022-09-19T11:13:00.405Z"
   },
   {
    "duration": 11,
    "start_time": "2022-09-19T11:13:00.411Z"
   }
  ],
  "kernelspec": {
   "display_name": "Python 3 (ipykernel)",
   "language": "python",
   "name": "python3"
  },
  "language_info": {
   "codemirror_mode": {
    "name": "ipython",
    "version": 3
   },
   "file_extension": ".py",
   "mimetype": "text/x-python",
   "name": "python",
   "nbconvert_exporter": "python",
   "pygments_lexer": "ipython3",
   "version": "3.9.7"
  },
  "toc": {
   "base_numbering": 1,
   "nav_menu": {},
   "number_sections": true,
   "sideBar": true,
   "skip_h1_title": true,
   "title_cell": "Table of Contents",
   "title_sidebar": "Contents",
   "toc_cell": false,
   "toc_position": {},
   "toc_section_display": true,
   "toc_window_display": true
  }
 },
 "nbformat": 4,
 "nbformat_minor": 2
}
