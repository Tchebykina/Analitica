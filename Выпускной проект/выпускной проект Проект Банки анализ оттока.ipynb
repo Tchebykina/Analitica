{
 "cells": [
  {
   "cell_type": "markdown",
   "id": "7b48778f",
   "metadata": {},
   "source": [
    "# Банки — Анализ оттока клиентов"
   ]
  },
  {
   "cell_type": "markdown",
   "id": "aa88a546",
   "metadata": {},
   "source": [
    "## Задача**:**\n",
    "\n",
    "Проанализируйте клиентов регионального банка и выделите портрет клиентов, которые склонны уходить из банка."
   ]
  },
  {
   "cell_type": "markdown",
   "id": "131164ef",
   "metadata": {},
   "source": [
    "## Описание датасетов\n",
    "\n",
    "Датасет содержит данные о клиентах банка «Метанпром». Банк располагается в Ярославле и областных городах: Ростов Великий и Рыбинск.\n",
    "\n",
    "Колонки:\n",
    "\n",
    "- `userid` — идентификатор пользователя,\n",
    "- `score` — баллы кредитного скоринга,\n",
    "- `City` — город,\n",
    "- `Gender` — пол,\n",
    "- `Age` — возраст,\n",
    "- `Objects` — количество объектов в собственности,\n",
    "- `Balance` — баланс на счёте,\n",
    "- `Products` — количество продуктов, которыми пользуется клиент,\n",
    "- `CreditCard` — есть ли кредитная карта,\n",
    "- `Loyalty` — активный клиент,\n",
    "- `estimated_salary` — заработная плата клиента,\n",
    "- `Churn` — ушёл или нет."
   ]
  },
  {
   "cell_type": "markdown",
   "id": "1b531c64",
   "metadata": {},
   "source": [
    "# Шаг 1. Обзор данных"
   ]
  },
  {
   "cell_type": "markdown",
   "id": "05101849",
   "metadata": {},
   "source": [
    "### 1.1 Импорт библиотек"
   ]
  },
  {
   "cell_type": "code",
   "execution_count": 1,
   "id": "b29155d4",
   "metadata": {},
   "outputs": [],
   "source": [
    "#импортируем необходимые для работы библиотеки\n",
    "import pandas as pd\n",
    "import numpy as np\n",
    "\n",
    "import matplotlib.pyplot as plt\n",
    "import matplotlib\n",
    "import seaborn as sns\n",
    "import matplotlib.pyplot as plt\n",
    "\n",
    "import scipy.stats as stats\n",
    "from scipy import stats as st\n",
    "\n",
    "from sklearn.model_selection import train_test_split\n",
    "from sklearn.linear_model import LogisticRegression\n",
    "from sklearn.ensemble import RandomForestClassifier\n",
    "from sklearn.preprocessing import StandardScaler\n",
    "from sklearn.metrics import accuracy_score, precision_score, recall_score, f1_score\n",
    "from scipy.cluster.hierarchy import dendrogram, linkage\n",
    "from sklearn.cluster import KMeans\n",
    "from sklearn.ensemble import RandomForestRegressor, GradientBoostingClassifier\n",
    "from sklearn.model_selection import RandomizedSearchCV\n",
    "from sklearn.model_selection import cross_val_score"
   ]
  },
  {
   "cell_type": "markdown",
   "id": "5e1620bf",
   "metadata": {},
   "source": [
    "### 1.2 Открыть файл"
   ]
  },
  {
   "cell_type": "code",
   "execution_count": 2,
   "id": "493c32f7",
   "metadata": {},
   "outputs": [
    {
     "data": {
      "text/html": [
       "<div>\n",
       "<style scoped>\n",
       "    .dataframe tbody tr th:only-of-type {\n",
       "        vertical-align: middle;\n",
       "    }\n",
       "\n",
       "    .dataframe tbody tr th {\n",
       "        vertical-align: top;\n",
       "    }\n",
       "\n",
       "    .dataframe thead th {\n",
       "        text-align: right;\n",
       "    }\n",
       "</style>\n",
       "<table border=\"1\" class=\"dataframe\">\n",
       "  <thead>\n",
       "    <tr style=\"text-align: right;\">\n",
       "      <th></th>\n",
       "      <th>userid</th>\n",
       "      <th>score</th>\n",
       "      <th>City</th>\n",
       "      <th>Gender</th>\n",
       "      <th>Age</th>\n",
       "      <th>Objects</th>\n",
       "      <th>Balance</th>\n",
       "      <th>Products</th>\n",
       "      <th>CreditCard</th>\n",
       "      <th>Loyalty</th>\n",
       "      <th>estimated_salary</th>\n",
       "      <th>Churn</th>\n",
       "    </tr>\n",
       "  </thead>\n",
       "  <tbody>\n",
       "    <tr>\n",
       "      <th>8856</th>\n",
       "      <td>15802469</td>\n",
       "      <td>774</td>\n",
       "      <td>Ярославль</td>\n",
       "      <td>Ж</td>\n",
       "      <td>26</td>\n",
       "      <td>5</td>\n",
       "      <td>NaN</td>\n",
       "      <td>2</td>\n",
       "      <td>1</td>\n",
       "      <td>1</td>\n",
       "      <td>64716.08</td>\n",
       "      <td>0</td>\n",
       "    </tr>\n",
       "    <tr>\n",
       "      <th>7488</th>\n",
       "      <td>15730501</td>\n",
       "      <td>538</td>\n",
       "      <td>Ростов Великий</td>\n",
       "      <td>Ж</td>\n",
       "      <td>42</td>\n",
       "      <td>4</td>\n",
       "      <td>80380.24</td>\n",
       "      <td>1</td>\n",
       "      <td>1</td>\n",
       "      <td>0</td>\n",
       "      <td>119216.46</td>\n",
       "      <td>0</td>\n",
       "    </tr>\n",
       "    <tr>\n",
       "      <th>6930</th>\n",
       "      <td>15723421</td>\n",
       "      <td>751</td>\n",
       "      <td>Ярославль</td>\n",
       "      <td>М</td>\n",
       "      <td>30</td>\n",
       "      <td>3</td>\n",
       "      <td>165257.20</td>\n",
       "      <td>1</td>\n",
       "      <td>0</td>\n",
       "      <td>0</td>\n",
       "      <td>134822.05</td>\n",
       "      <td>0</td>\n",
       "    </tr>\n",
       "    <tr>\n",
       "      <th>8275</th>\n",
       "      <td>15780225</td>\n",
       "      <td>610</td>\n",
       "      <td>Рыбинск</td>\n",
       "      <td>Ж</td>\n",
       "      <td>46</td>\n",
       "      <td>5</td>\n",
       "      <td>116886.59</td>\n",
       "      <td>1</td>\n",
       "      <td>0</td>\n",
       "      <td>0</td>\n",
       "      <td>107973.44</td>\n",
       "      <td>0</td>\n",
       "    </tr>\n",
       "    <tr>\n",
       "      <th>4992</th>\n",
       "      <td>15825755</td>\n",
       "      <td>794</td>\n",
       "      <td>Ярославль</td>\n",
       "      <td>Ж</td>\n",
       "      <td>62</td>\n",
       "      <td>9</td>\n",
       "      <td>123681.32</td>\n",
       "      <td>3</td>\n",
       "      <td>1</td>\n",
       "      <td>0</td>\n",
       "      <td>173586.63</td>\n",
       "      <td>1</td>\n",
       "    </tr>\n",
       "  </tbody>\n",
       "</table>\n",
       "</div>"
      ],
      "text/plain": [
       "        userid  score            City Gender  Age  Objects    Balance  \\\n",
       "8856  15802469    774       Ярославль      Ж   26        5        NaN   \n",
       "7488  15730501    538  Ростов Великий      Ж   42        4   80380.24   \n",
       "6930  15723421    751       Ярославль      М   30        3  165257.20   \n",
       "8275  15780225    610         Рыбинск      Ж   46        5  116886.59   \n",
       "4992  15825755    794       Ярославль      Ж   62        9  123681.32   \n",
       "\n",
       "      Products  CreditCard  Loyalty  estimated_salary  Churn  \n",
       "8856         2           1        1          64716.08      0  \n",
       "7488         1           1        0         119216.46      0  \n",
       "6930         1           0        0         134822.05      0  \n",
       "8275         1           0        0         107973.44      0  \n",
       "4992         3           1        0         173586.63      1  "
      ]
     },
     "execution_count": 2,
     "metadata": {},
     "output_type": "execute_result"
    }
   ],
   "source": [
    "data = pd.read_csv('/datasets/bank_dataset.csv')\n",
    "data.sample(5)"
   ]
  },
  {
   "cell_type": "code",
   "execution_count": null,
   "id": "2deed1ab",
   "metadata": {},
   "outputs": [],
   "source": []
  },
  {
   "cell_type": "markdown",
   "id": "ee8d10f0",
   "metadata": {},
   "source": [
    "# Шаг 2. Предобработка данных"
   ]
  },
  {
   "cell_type": "markdown",
   "id": "bae35912",
   "metadata": {},
   "source": [
    "### 2.1 Приведем данные к нужным типам"
   ]
  },
  {
   "cell_type": "code",
   "execution_count": 3,
   "id": "01fbf30a",
   "metadata": {},
   "outputs": [
    {
     "name": "stdout",
     "output_type": "stream",
     "text": [
      "<class 'pandas.core.frame.DataFrame'>\n",
      "RangeIndex: 10000 entries, 0 to 9999\n",
      "Data columns (total 12 columns):\n",
      " #   Column            Non-Null Count  Dtype  \n",
      "---  ------            --------------  -----  \n",
      " 0   userid            10000 non-null  int64  \n",
      " 1   score             10000 non-null  int64  \n",
      " 2   City              10000 non-null  object \n",
      " 3   Gender            10000 non-null  object \n",
      " 4   Age               10000 non-null  int64  \n",
      " 5   Objects           10000 non-null  int64  \n",
      " 6   Balance           6383 non-null   float64\n",
      " 7   Products          10000 non-null  int64  \n",
      " 8   CreditCard        10000 non-null  int64  \n",
      " 9   Loyalty           10000 non-null  int64  \n",
      " 10  estimated_salary  10000 non-null  float64\n",
      " 11  Churn             10000 non-null  int64  \n",
      "dtypes: float64(2), int64(8), object(2)\n",
      "memory usage: 937.6+ KB\n"
     ]
    }
   ],
   "source": [
    "data.info()"
   ]
  },
  {
   "cell_type": "markdown",
   "id": "8cbb0a89",
   "metadata": {},
   "source": [
    "Типы данных корректны"
   ]
  },
  {
   "cell_type": "markdown",
   "id": "c40ade37",
   "metadata": {},
   "source": [
    "### 2.2 Приведем наименование столбцов к нижнему регистру"
   ]
  },
  {
   "cell_type": "code",
   "execution_count": 4,
   "id": "c84aa9eb",
   "metadata": {},
   "outputs": [],
   "source": [
    "data.columns = data.columns.str.lower()"
   ]
  },
  {
   "cell_type": "code",
   "execution_count": 5,
   "id": "0e99d46b",
   "metadata": {},
   "outputs": [
    {
     "data": {
      "text/html": [
       "<div>\n",
       "<style scoped>\n",
       "    .dataframe tbody tr th:only-of-type {\n",
       "        vertical-align: middle;\n",
       "    }\n",
       "\n",
       "    .dataframe tbody tr th {\n",
       "        vertical-align: top;\n",
       "    }\n",
       "\n",
       "    .dataframe thead th {\n",
       "        text-align: right;\n",
       "    }\n",
       "</style>\n",
       "<table border=\"1\" class=\"dataframe\">\n",
       "  <thead>\n",
       "    <tr style=\"text-align: right;\">\n",
       "      <th></th>\n",
       "      <th>userid</th>\n",
       "      <th>score</th>\n",
       "      <th>city</th>\n",
       "      <th>gender</th>\n",
       "      <th>age</th>\n",
       "      <th>objects</th>\n",
       "      <th>balance</th>\n",
       "      <th>products</th>\n",
       "      <th>creditcard</th>\n",
       "      <th>loyalty</th>\n",
       "      <th>estimated_salary</th>\n",
       "      <th>churn</th>\n",
       "    </tr>\n",
       "  </thead>\n",
       "  <tbody>\n",
       "    <tr>\n",
       "      <th>0</th>\n",
       "      <td>15677338</td>\n",
       "      <td>619</td>\n",
       "      <td>Ярославль</td>\n",
       "      <td>Ж</td>\n",
       "      <td>42</td>\n",
       "      <td>2</td>\n",
       "      <td>NaN</td>\n",
       "      <td>1</td>\n",
       "      <td>1</td>\n",
       "      <td>1</td>\n",
       "      <td>101348.88</td>\n",
       "      <td>1</td>\n",
       "    </tr>\n",
       "    <tr>\n",
       "      <th>1</th>\n",
       "      <td>15690047</td>\n",
       "      <td>608</td>\n",
       "      <td>Рыбинск</td>\n",
       "      <td>Ж</td>\n",
       "      <td>41</td>\n",
       "      <td>1</td>\n",
       "      <td>83807.86</td>\n",
       "      <td>1</td>\n",
       "      <td>0</td>\n",
       "      <td>1</td>\n",
       "      <td>112542.58</td>\n",
       "      <td>0</td>\n",
       "    </tr>\n",
       "    <tr>\n",
       "      <th>2</th>\n",
       "      <td>15662040</td>\n",
       "      <td>502</td>\n",
       "      <td>Ярославль</td>\n",
       "      <td>Ж</td>\n",
       "      <td>42</td>\n",
       "      <td>8</td>\n",
       "      <td>159660.80</td>\n",
       "      <td>3</td>\n",
       "      <td>1</td>\n",
       "      <td>0</td>\n",
       "      <td>113931.57</td>\n",
       "      <td>1</td>\n",
       "    </tr>\n",
       "    <tr>\n",
       "      <th>3</th>\n",
       "      <td>15744090</td>\n",
       "      <td>699</td>\n",
       "      <td>Ярославль</td>\n",
       "      <td>Ж</td>\n",
       "      <td>39</td>\n",
       "      <td>1</td>\n",
       "      <td>NaN</td>\n",
       "      <td>2</td>\n",
       "      <td>0</td>\n",
       "      <td>0</td>\n",
       "      <td>93826.63</td>\n",
       "      <td>0</td>\n",
       "    </tr>\n",
       "    <tr>\n",
       "      <th>4</th>\n",
       "      <td>15780624</td>\n",
       "      <td>850</td>\n",
       "      <td>Рыбинск</td>\n",
       "      <td>Ж</td>\n",
       "      <td>43</td>\n",
       "      <td>2</td>\n",
       "      <td>125510.82</td>\n",
       "      <td>1</td>\n",
       "      <td>1</td>\n",
       "      <td>1</td>\n",
       "      <td>79084.10</td>\n",
       "      <td>0</td>\n",
       "    </tr>\n",
       "    <tr>\n",
       "      <th>...</th>\n",
       "      <td>...</td>\n",
       "      <td>...</td>\n",
       "      <td>...</td>\n",
       "      <td>...</td>\n",
       "      <td>...</td>\n",
       "      <td>...</td>\n",
       "      <td>...</td>\n",
       "      <td>...</td>\n",
       "      <td>...</td>\n",
       "      <td>...</td>\n",
       "      <td>...</td>\n",
       "      <td>...</td>\n",
       "    </tr>\n",
       "    <tr>\n",
       "      <th>9995</th>\n",
       "      <td>15648965</td>\n",
       "      <td>771</td>\n",
       "      <td>Ярославль</td>\n",
       "      <td>М</td>\n",
       "      <td>39</td>\n",
       "      <td>5</td>\n",
       "      <td>NaN</td>\n",
       "      <td>2</td>\n",
       "      <td>1</td>\n",
       "      <td>0</td>\n",
       "      <td>96270.64</td>\n",
       "      <td>0</td>\n",
       "    </tr>\n",
       "    <tr>\n",
       "      <th>9996</th>\n",
       "      <td>15612628</td>\n",
       "      <td>516</td>\n",
       "      <td>Ярославль</td>\n",
       "      <td>М</td>\n",
       "      <td>35</td>\n",
       "      <td>10</td>\n",
       "      <td>57369.61</td>\n",
       "      <td>1</td>\n",
       "      <td>1</td>\n",
       "      <td>1</td>\n",
       "      <td>101699.77</td>\n",
       "      <td>0</td>\n",
       "    </tr>\n",
       "    <tr>\n",
       "      <th>9997</th>\n",
       "      <td>15627268</td>\n",
       "      <td>709</td>\n",
       "      <td>Ярославль</td>\n",
       "      <td>Ж</td>\n",
       "      <td>36</td>\n",
       "      <td>7</td>\n",
       "      <td>NaN</td>\n",
       "      <td>1</td>\n",
       "      <td>0</td>\n",
       "      <td>1</td>\n",
       "      <td>42085.58</td>\n",
       "      <td>1</td>\n",
       "    </tr>\n",
       "    <tr>\n",
       "      <th>9998</th>\n",
       "      <td>15725091</td>\n",
       "      <td>772</td>\n",
       "      <td>Ростов Великий</td>\n",
       "      <td>М</td>\n",
       "      <td>42</td>\n",
       "      <td>3</td>\n",
       "      <td>75075.31</td>\n",
       "      <td>2</td>\n",
       "      <td>1</td>\n",
       "      <td>0</td>\n",
       "      <td>92888.52</td>\n",
       "      <td>1</td>\n",
       "    </tr>\n",
       "    <tr>\n",
       "      <th>9999</th>\n",
       "      <td>15671055</td>\n",
       "      <td>792</td>\n",
       "      <td>Ярославль</td>\n",
       "      <td>Ж</td>\n",
       "      <td>28</td>\n",
       "      <td>4</td>\n",
       "      <td>130142.79</td>\n",
       "      <td>1</td>\n",
       "      <td>1</td>\n",
       "      <td>0</td>\n",
       "      <td>38190.78</td>\n",
       "      <td>0</td>\n",
       "    </tr>\n",
       "  </tbody>\n",
       "</table>\n",
       "<p>10000 rows × 12 columns</p>\n",
       "</div>"
      ],
      "text/plain": [
       "        userid  score            city gender  age  objects    balance  \\\n",
       "0     15677338    619       Ярославль      Ж   42        2        NaN   \n",
       "1     15690047    608         Рыбинск      Ж   41        1   83807.86   \n",
       "2     15662040    502       Ярославль      Ж   42        8  159660.80   \n",
       "3     15744090    699       Ярославль      Ж   39        1        NaN   \n",
       "4     15780624    850         Рыбинск      Ж   43        2  125510.82   \n",
       "...        ...    ...             ...    ...  ...      ...        ...   \n",
       "9995  15648965    771       Ярославль      М   39        5        NaN   \n",
       "9996  15612628    516       Ярославль      М   35       10   57369.61   \n",
       "9997  15627268    709       Ярославль      Ж   36        7        NaN   \n",
       "9998  15725091    772  Ростов Великий      М   42        3   75075.31   \n",
       "9999  15671055    792       Ярославль      Ж   28        4  130142.79   \n",
       "\n",
       "      products  creditcard  loyalty  estimated_salary  churn  \n",
       "0            1           1        1         101348.88      1  \n",
       "1            1           0        1         112542.58      0  \n",
       "2            3           1        0         113931.57      1  \n",
       "3            2           0        0          93826.63      0  \n",
       "4            1           1        1          79084.10      0  \n",
       "...        ...         ...      ...               ...    ...  \n",
       "9995         2           1        0          96270.64      0  \n",
       "9996         1           1        1         101699.77      0  \n",
       "9997         1           0        1          42085.58      1  \n",
       "9998         2           1        0          92888.52      1  \n",
       "9999         1           1        0          38190.78      0  \n",
       "\n",
       "[10000 rows x 12 columns]"
      ]
     },
     "execution_count": 5,
     "metadata": {},
     "output_type": "execute_result"
    }
   ],
   "source": [
    "data"
   ]
  },
  {
   "cell_type": "markdown",
   "id": "2edc4aa8",
   "metadata": {},
   "source": [
    "### 2.3 Проверим данные на пропуски"
   ]
  },
  {
   "cell_type": "code",
   "execution_count": 6,
   "id": "b9bc9791",
   "metadata": {},
   "outputs": [
    {
     "data": {
      "text/plain": [
       "userid                 0\n",
       "score                  0\n",
       "city                   0\n",
       "gender                 0\n",
       "age                    0\n",
       "objects                0\n",
       "balance             3617\n",
       "products               0\n",
       "creditcard             0\n",
       "loyalty                0\n",
       "estimated_salary       0\n",
       "churn                  0\n",
       "dtype: int64"
      ]
     },
     "execution_count": 6,
     "metadata": {},
     "output_type": "execute_result"
    }
   ],
   "source": [
    "data.isna().sum()"
   ]
  },
  {
   "cell_type": "markdown",
   "id": "111c7e69",
   "metadata": {},
   "source": [
    "Пропуски только в столбце \"balance \", не везде указана заработная плата, что достаточно странно, но оставим как есть."
   ]
  },
  {
   "cell_type": "code",
   "execution_count": 8,
   "id": "4ba2624c",
   "metadata": {},
   "outputs": [
    {
     "data": {
      "text/plain": [
       "36.17"
      ]
     },
     "execution_count": 8,
     "metadata": {},
     "output_type": "execute_result"
    }
   ],
   "source": [
    "#Найдем процент пропущенных значений в 'balance'\n",
    "total_lines_balance = len(data['balance'].axes[0])\n",
    "total_balance = data['balance'].count()\n",
    "conversion_balance = ((total_lines_balance - total_balance) / total_lines_balance)*100\n",
    "conversion_balance"
   ]
  },
  {
   "cell_type": "code",
   "execution_count": 7,
   "id": "1579fe9c",
   "metadata": {},
   "outputs": [
    {
     "data": {
      "text/plain": [
       "Ярославль    2418\n",
       "Рыбинск      1199\n",
       "Name: city, dtype: int64"
      ]
     },
     "execution_count": 7,
     "metadata": {},
     "output_type": "execute_result"
    }
   ],
   "source": [
    "#Проверим в каких городах отсутствуют данные по зарплате\n",
    "data[(data['balance'].isnull() == True)]['city'].value_counts()"
   ]
  },
  {
   "cell_type": "markdown",
   "id": "1d5ec05f",
   "metadata": {},
   "source": [
    "Данные отсутствуют в городе Ярославль и Рыбинск, больше всего в Ярославле - 2418 из 3617 значений."
   ]
  },
  {
   "cell_type": "code",
   "execution_count": 8,
   "id": "e7950085",
   "metadata": {},
   "outputs": [
    {
     "data": {
      "text/plain": [
       "1    2592\n",
       "0    1025\n",
       "Name: creditcard, dtype: int64"
      ]
     },
     "execution_count": 8,
     "metadata": {},
     "output_type": "execute_result"
    }
   ],
   "source": [
    "#Проверим у каких клиентов отсутствуют данные по зарплате, которые имеют кредитную карту а кто нет\n",
    "data[(data['balance'].isnull() == True)]['creditcard'].value_counts()"
   ]
  },
  {
   "cell_type": "markdown",
   "id": "c9e3f36d",
   "metadata": {},
   "source": [
    "У 70 %  клиентов с отсутствием счета в банке есть кредитная карта. "
   ]
  },
  {
   "cell_type": "code",
   "execution_count": 9,
   "id": "b6fbf766",
   "metadata": {},
   "outputs": [
    {
     "data": {
      "text/plain": [
       "1    1873\n",
       "0    1744\n",
       "Name: loyalty, dtype: int64"
      ]
     },
     "execution_count": 9,
     "metadata": {},
     "output_type": "execute_result"
    }
   ],
   "source": [
    "data[(data['balance'].isnull() == True)]['loyalty'].value_counts()"
   ]
  },
  {
   "cell_type": "markdown",
   "id": "8c316f1e",
   "metadata": {},
   "source": [
    "По активнсти  клиенты у которых отсутствуют данные по балансу на счете почти равны."
   ]
  },
  {
   "cell_type": "code",
   "execution_count": 10,
   "id": "b2b41b08",
   "metadata": {},
   "outputs": [
    {
     "data": {
      "text/plain": [
       "0    3117\n",
       "1     500\n",
       "Name: churn, dtype: int64"
      ]
     },
     "execution_count": 10,
     "metadata": {},
     "output_type": "execute_result"
    }
   ],
   "source": [
    "data[(data['balance'].isnull() == True)]['churn'].value_counts()"
   ]
  },
  {
   "cell_type": "markdown",
   "id": "2a924808",
   "metadata": {},
   "source": [
    "Пропуски данных по балансу на счете есть только в Ярославле и Рыбинске. По активнсти клиенты у которых отсутствуют данные по балансу на счете почти равны. У 70 % клиентов с отсутствием баланса на счету есть кредитная карта. Так же всего 500 клиентов ушли в отток, значит, что клиенты без данных о балансе на счете в большинстве остаются в банке. Я могу сделать вывод о том, что Люди которые проживают в Ярославле и Рыбинске имеют счет с дебетовыми картами в другом банке или причина появления данных пропусков может иметь технический характер, что-то произошло при выгрузке данных  "
   ]
  },
  {
   "cell_type": "markdown",
   "id": "76d6de79",
   "metadata": {},
   "source": [
    "### 2.4 Проверим данные на отсутствие дубликатов"
   ]
  },
  {
   "cell_type": "code",
   "execution_count": 11,
   "id": "65137756",
   "metadata": {},
   "outputs": [
    {
     "data": {
      "text/plain": [
       "0"
      ]
     },
     "execution_count": 11,
     "metadata": {},
     "output_type": "execute_result"
    }
   ],
   "source": [
    "data.duplicated().sum()"
   ]
  },
  {
   "cell_type": "markdown",
   "id": "d90d0bd4",
   "metadata": {},
   "source": [
    "Дубликаты отсутствуют"
   ]
  },
  {
   "cell_type": "code",
   "execution_count": 12,
   "id": "99bbe8c7",
   "metadata": {},
   "outputs": [
    {
     "data": {
      "text/plain": [
       "Ярославль         5014\n",
       "Ростов Великий    2509\n",
       "Рыбинск           2477\n",
       "Name: city, dtype: int64"
      ]
     },
     "execution_count": 12,
     "metadata": {},
     "output_type": "execute_result"
    }
   ],
   "source": [
    "data['city'].value_counts()"
   ]
  },
  {
   "cell_type": "markdown",
   "id": "5a20b040",
   "metadata": {},
   "source": [
    "Половина клиентов из Ярославля. Это можно объяснить к примеру, что в Ярославле, это рабочий банк, т.е людям туда переводят зп, А в Ростове и Рыбинске клиенты пользуются ими для держания своих накоплений и открытия кредитных карт"
   ]
  },
  {
   "cell_type": "markdown",
   "id": "0fdb1940",
   "metadata": {},
   "source": [
    "### 2.5 Категоризация данных"
   ]
  },
  {
   "cell_type": "code",
   "execution_count": 13,
   "id": "6446b21f",
   "metadata": {},
   "outputs": [],
   "source": [
    "data_new = data.copy()"
   ]
  },
  {
   "cell_type": "markdown",
   "id": "8aef73ff",
   "metadata": {},
   "source": [
    "Посмотрев данные в интернете по минимальной и средней зп в данных городах можно распределить их по уровню дохода. Минимальная зп 15279 руб., средняя зп 45000 руб."
   ]
  },
  {
   "cell_type": "code",
   "execution_count": 14,
   "id": "4bb3f9bc",
   "metadata": {},
   "outputs": [
    {
     "data": {
      "text/html": [
       "<div>\n",
       "<style scoped>\n",
       "    .dataframe tbody tr th:only-of-type {\n",
       "        vertical-align: middle;\n",
       "    }\n",
       "\n",
       "    .dataframe tbody tr th {\n",
       "        vertical-align: top;\n",
       "    }\n",
       "\n",
       "    .dataframe thead th {\n",
       "        text-align: right;\n",
       "    }\n",
       "</style>\n",
       "<table border=\"1\" class=\"dataframe\">\n",
       "  <thead>\n",
       "    <tr style=\"text-align: right;\">\n",
       "      <th></th>\n",
       "      <th>userid</th>\n",
       "      <th>score</th>\n",
       "      <th>city</th>\n",
       "      <th>gender</th>\n",
       "      <th>age</th>\n",
       "      <th>objects</th>\n",
       "      <th>balance</th>\n",
       "      <th>products</th>\n",
       "      <th>creditcard</th>\n",
       "      <th>loyalty</th>\n",
       "      <th>estimated_salary</th>\n",
       "      <th>churn</th>\n",
       "      <th>category</th>\n",
       "    </tr>\n",
       "  </thead>\n",
       "  <tbody>\n",
       "    <tr>\n",
       "      <th>0</th>\n",
       "      <td>15677338</td>\n",
       "      <td>619</td>\n",
       "      <td>Ярославль</td>\n",
       "      <td>Ж</td>\n",
       "      <td>42</td>\n",
       "      <td>2</td>\n",
       "      <td>NaN</td>\n",
       "      <td>1</td>\n",
       "      <td>1</td>\n",
       "      <td>1</td>\n",
       "      <td>101348.88</td>\n",
       "      <td>1</td>\n",
       "      <td>высокий достаток</td>\n",
       "    </tr>\n",
       "    <tr>\n",
       "      <th>1</th>\n",
       "      <td>15690047</td>\n",
       "      <td>608</td>\n",
       "      <td>Рыбинск</td>\n",
       "      <td>Ж</td>\n",
       "      <td>41</td>\n",
       "      <td>1</td>\n",
       "      <td>83807.86</td>\n",
       "      <td>1</td>\n",
       "      <td>0</td>\n",
       "      <td>1</td>\n",
       "      <td>112542.58</td>\n",
       "      <td>0</td>\n",
       "      <td>высокий достаток</td>\n",
       "    </tr>\n",
       "    <tr>\n",
       "      <th>2</th>\n",
       "      <td>15662040</td>\n",
       "      <td>502</td>\n",
       "      <td>Ярославль</td>\n",
       "      <td>Ж</td>\n",
       "      <td>42</td>\n",
       "      <td>8</td>\n",
       "      <td>159660.80</td>\n",
       "      <td>3</td>\n",
       "      <td>1</td>\n",
       "      <td>0</td>\n",
       "      <td>113931.57</td>\n",
       "      <td>1</td>\n",
       "      <td>высокий достаток</td>\n",
       "    </tr>\n",
       "  </tbody>\n",
       "</table>\n",
       "</div>"
      ],
      "text/plain": [
       "     userid  score       city gender  age  objects    balance  products  \\\n",
       "0  15677338    619  Ярославль      Ж   42        2        NaN         1   \n",
       "1  15690047    608    Рыбинск      Ж   41        1   83807.86         1   \n",
       "2  15662040    502  Ярославль      Ж   42        8  159660.80         3   \n",
       "\n",
       "   creditcard  loyalty  estimated_salary  churn          category  \n",
       "0           1        1         101348.88      1  высокий достаток  \n",
       "1           0        1         112542.58      0  высокий достаток  \n",
       "2           1        0         113931.57      1  высокий достаток  "
      ]
     },
     "execution_count": 14,
     "metadata": {},
     "output_type": "execute_result"
    }
   ],
   "source": [
    "#напишем функцию, которая распределяет уровень дохода по категориям\n",
    "def category(data_new):\n",
    "    \n",
    "    if data_new['estimated_salary'] <= 15279:\n",
    "        return 'низкий достаток'\n",
    "    \n",
    "    elif data_new['estimated_salary'] <= 45000:\n",
    "        return 'средний достаток'\n",
    "    \n",
    "    else:\n",
    "        return 'высокий достаток'\n",
    "\n",
    "#добавим новый столбец в таблицу\n",
    "data_new['category'] = data_new.apply(category, axis=1)\n",
    "\n",
    "#выведем первые 3 строки таблицы, чтобы проверить новый столбец\n",
    "data_new.head(3)"
   ]
  },
  {
   "cell_type": "code",
   "execution_count": 15,
   "id": "2c5cc4c8",
   "metadata": {},
   "outputs": [
    {
     "data": {
      "image/png": "[encoded data removed]",
      "text/plain": [
       "<Figure size 432x288 with 1 Axes>"
      ]
     },
     "metadata": {
      "needs_background": "light"
     },
     "output_type": "display_data"
    }
   ],
   "source": [
    "sns.countplot(x = 'category', data = data_new)\n",
    "plt.title('Количество клиентов по уровню достатка');"
   ]
  },
  {
   "cell_type": "markdown",
   "id": "47ec68c1",
   "metadata": {},
   "source": [
    "В данной выборке больше 70 % клиентов имеют высокий достаток."
   ]
  },
  {
   "cell_type": "markdown",
   "id": "1d10f828",
   "metadata": {},
   "source": [
    "С 11 ноября 2020 года Государственная дума одобрила проект о повышении возраста молодёжи до 35 лет (с 14 до 35 лет). И с 2019 по 2028 год. По итогу пенсионный возраст в России будет повышен на 5 лет: до 60 лет — для женщин, до 65 лет — для мужчин. Предлагаю в среднем взять еще по предыдущим данным, когда на пенсию уходили в 55 женщины и в 60 мужщины, получаем в среднем 58 лет. "
   ]
  },
  {
   "cell_type": "code",
   "execution_count": 16,
   "id": "b8a25fcc",
   "metadata": {},
   "outputs": [
    {
     "data": {
      "text/html": [
       "<div>\n",
       "<style scoped>\n",
       "    .dataframe tbody tr th:only-of-type {\n",
       "        vertical-align: middle;\n",
       "    }\n",
       "\n",
       "    .dataframe tbody tr th {\n",
       "        vertical-align: top;\n",
       "    }\n",
       "\n",
       "    .dataframe thead th {\n",
       "        text-align: right;\n",
       "    }\n",
       "</style>\n",
       "<table border=\"1\" class=\"dataframe\">\n",
       "  <thead>\n",
       "    <tr style=\"text-align: right;\">\n",
       "      <th></th>\n",
       "      <th>userid</th>\n",
       "      <th>score</th>\n",
       "      <th>city</th>\n",
       "      <th>gender</th>\n",
       "      <th>age</th>\n",
       "      <th>objects</th>\n",
       "      <th>balance</th>\n",
       "      <th>products</th>\n",
       "      <th>creditcard</th>\n",
       "      <th>loyalty</th>\n",
       "      <th>estimated_salary</th>\n",
       "      <th>churn</th>\n",
       "      <th>category</th>\n",
       "      <th>age_category</th>\n",
       "    </tr>\n",
       "  </thead>\n",
       "  <tbody>\n",
       "    <tr>\n",
       "      <th>0</th>\n",
       "      <td>15677338</td>\n",
       "      <td>619</td>\n",
       "      <td>Ярославль</td>\n",
       "      <td>Ж</td>\n",
       "      <td>42</td>\n",
       "      <td>2</td>\n",
       "      <td>NaN</td>\n",
       "      <td>1</td>\n",
       "      <td>1</td>\n",
       "      <td>1</td>\n",
       "      <td>101348.88</td>\n",
       "      <td>1</td>\n",
       "      <td>высокий достаток</td>\n",
       "      <td>среднего возраста</td>\n",
       "    </tr>\n",
       "    <tr>\n",
       "      <th>1</th>\n",
       "      <td>15690047</td>\n",
       "      <td>608</td>\n",
       "      <td>Рыбинск</td>\n",
       "      <td>Ж</td>\n",
       "      <td>41</td>\n",
       "      <td>1</td>\n",
       "      <td>83807.86</td>\n",
       "      <td>1</td>\n",
       "      <td>0</td>\n",
       "      <td>1</td>\n",
       "      <td>112542.58</td>\n",
       "      <td>0</td>\n",
       "      <td>высокий достаток</td>\n",
       "      <td>среднего возраста</td>\n",
       "    </tr>\n",
       "    <tr>\n",
       "      <th>2</th>\n",
       "      <td>15662040</td>\n",
       "      <td>502</td>\n",
       "      <td>Ярославль</td>\n",
       "      <td>Ж</td>\n",
       "      <td>42</td>\n",
       "      <td>8</td>\n",
       "      <td>159660.80</td>\n",
       "      <td>3</td>\n",
       "      <td>1</td>\n",
       "      <td>0</td>\n",
       "      <td>113931.57</td>\n",
       "      <td>1</td>\n",
       "      <td>высокий достаток</td>\n",
       "      <td>среднего возраста</td>\n",
       "    </tr>\n",
       "  </tbody>\n",
       "</table>\n",
       "</div>"
      ],
      "text/plain": [
       "     userid  score       city gender  age  objects    balance  products  \\\n",
       "0  15677338    619  Ярославль      Ж   42        2        NaN         1   \n",
       "1  15690047    608    Рыбинск      Ж   41        1   83807.86         1   \n",
       "2  15662040    502  Ярославль      Ж   42        8  159660.80         3   \n",
       "\n",
       "   creditcard  loyalty  estimated_salary  churn          category  \\\n",
       "0           1        1         101348.88      1  высокий достаток   \n",
       "1           0        1         112542.58      0  высокий достаток   \n",
       "2           1        0         113931.57      1  высокий достаток   \n",
       "\n",
       "        age_category  \n",
       "0  среднего возраста  \n",
       "1  среднего возраста  \n",
       "2  среднего возраста  "
      ]
     },
     "execution_count": 16,
     "metadata": {},
     "output_type": "execute_result"
    }
   ],
   "source": [
    "#напишем функцию, которая распределяет возраст по категориям\n",
    "def age_category(data_new):\n",
    "    \n",
    "    if data_new['age'] <= 35:\n",
    "        return 'молодой'\n",
    "    \n",
    "    elif data_new['age'] <= 58:\n",
    "        return 'среднего возраста'\n",
    "    \n",
    "    else:\n",
    "        return 'пенсионного возраста'\n",
    "\n",
    "#добавим новый столбец в таблицу\n",
    "data_new['age_category'] = data_new.apply(age_category, axis=1)\n",
    "\n",
    "data_new.head(3)"
   ]
  },
  {
   "cell_type": "code",
   "execution_count": 17,
   "id": "25ad05bc",
   "metadata": {},
   "outputs": [
    {
     "data": {
      "image/png": "[encoded data removed]",
      "text/plain": [
       "<Figure size 432x288 with 1 Axes>"
      ]
     },
     "metadata": {
      "needs_background": "light"
     },
     "output_type": "display_data"
    }
   ],
   "source": [
    "sns.countplot(x = 'age_category', data = data_new)\n",
    "plt.title('Количество клиентов в возрастных категориях');"
   ]
  },
  {
   "cell_type": "markdown",
   "id": "747f91bb",
   "metadata": {},
   "source": [
    "Более 50 % клиентов среднего возраста"
   ]
  },
  {
   "cell_type": "markdown",
   "id": "fe48e519",
   "metadata": {},
   "source": [
    "Категоризация по числу объектов в собстенности"
   ]
  },
  {
   "cell_type": "code",
   "execution_count": 18,
   "id": "840cd34c",
   "metadata": {},
   "outputs": [
    {
     "data": {
      "text/plain": [
       "array([ 2,  1,  8,  7,  4,  6,  3, 10,  5,  9,  0], dtype=int64)"
      ]
     },
     "execution_count": 18,
     "metadata": {},
     "output_type": "execute_result"
    }
   ],
   "source": [
    "data_new['objects'].unique()"
   ]
  },
  {
   "cell_type": "code",
   "execution_count": 19,
   "id": "4c867fc0",
   "metadata": {},
   "outputs": [
    {
     "data": {
      "text/html": [
       "<div>\n",
       "<style scoped>\n",
       "    .dataframe tbody tr th:only-of-type {\n",
       "        vertical-align: middle;\n",
       "    }\n",
       "\n",
       "    .dataframe tbody tr th {\n",
       "        vertical-align: top;\n",
       "    }\n",
       "\n",
       "    .dataframe thead th {\n",
       "        text-align: right;\n",
       "    }\n",
       "</style>\n",
       "<table border=\"1\" class=\"dataframe\">\n",
       "  <thead>\n",
       "    <tr style=\"text-align: right;\">\n",
       "      <th></th>\n",
       "      <th>userid</th>\n",
       "      <th>score</th>\n",
       "      <th>city</th>\n",
       "      <th>gender</th>\n",
       "      <th>age</th>\n",
       "      <th>objects</th>\n",
       "      <th>balance</th>\n",
       "      <th>products</th>\n",
       "      <th>creditcard</th>\n",
       "      <th>loyalty</th>\n",
       "      <th>estimated_salary</th>\n",
       "      <th>churn</th>\n",
       "      <th>category</th>\n",
       "      <th>age_category</th>\n",
       "      <th>objects_category</th>\n",
       "    </tr>\n",
       "  </thead>\n",
       "  <tbody>\n",
       "    <tr>\n",
       "      <th>0</th>\n",
       "      <td>15677338</td>\n",
       "      <td>619</td>\n",
       "      <td>Ярославль</td>\n",
       "      <td>Ж</td>\n",
       "      <td>42</td>\n",
       "      <td>2</td>\n",
       "      <td>NaN</td>\n",
       "      <td>1</td>\n",
       "      <td>1</td>\n",
       "      <td>1</td>\n",
       "      <td>101348.88</td>\n",
       "      <td>1</td>\n",
       "      <td>высокий достаток</td>\n",
       "      <td>среднего возраста</td>\n",
       "      <td>1-2 объекта</td>\n",
       "    </tr>\n",
       "    <tr>\n",
       "      <th>1</th>\n",
       "      <td>15690047</td>\n",
       "      <td>608</td>\n",
       "      <td>Рыбинск</td>\n",
       "      <td>Ж</td>\n",
       "      <td>41</td>\n",
       "      <td>1</td>\n",
       "      <td>83807.86</td>\n",
       "      <td>1</td>\n",
       "      <td>0</td>\n",
       "      <td>1</td>\n",
       "      <td>112542.58</td>\n",
       "      <td>0</td>\n",
       "      <td>высокий достаток</td>\n",
       "      <td>среднего возраста</td>\n",
       "      <td>1-2 объекта</td>\n",
       "    </tr>\n",
       "    <tr>\n",
       "      <th>2</th>\n",
       "      <td>15662040</td>\n",
       "      <td>502</td>\n",
       "      <td>Ярославль</td>\n",
       "      <td>Ж</td>\n",
       "      <td>42</td>\n",
       "      <td>8</td>\n",
       "      <td>159660.80</td>\n",
       "      <td>3</td>\n",
       "      <td>1</td>\n",
       "      <td>0</td>\n",
       "      <td>113931.57</td>\n",
       "      <td>1</td>\n",
       "      <td>высокий достаток</td>\n",
       "      <td>среднего возраста</td>\n",
       "      <td>боле 5 объектов</td>\n",
       "    </tr>\n",
       "  </tbody>\n",
       "</table>\n",
       "</div>"
      ],
      "text/plain": [
       "     userid  score       city gender  age  objects    balance  products  \\\n",
       "0  15677338    619  Ярославль      Ж   42        2        NaN         1   \n",
       "1  15690047    608    Рыбинск      Ж   41        1   83807.86         1   \n",
       "2  15662040    502  Ярославль      Ж   42        8  159660.80         3   \n",
       "\n",
       "   creditcard  loyalty  estimated_salary  churn          category  \\\n",
       "0           1        1         101348.88      1  высокий достаток   \n",
       "1           0        1         112542.58      0  высокий достаток   \n",
       "2           1        0         113931.57      1  высокий достаток   \n",
       "\n",
       "        age_category objects_category  \n",
       "0  среднего возраста      1-2 объекта  \n",
       "1  среднего возраста      1-2 объекта  \n",
       "2  среднего возраста  боле 5 объектов  "
      ]
     },
     "execution_count": 19,
     "metadata": {},
     "output_type": "execute_result"
    }
   ],
   "source": [
    "#напишем функцию по категоризации по числу объектов в собстенности\n",
    "def objects_category(data_new):\n",
    "    \n",
    "    if data_new['objects'] == 0:\n",
    "        return 'нет объектов'\n",
    "    \n",
    "    elif data_new['objects'] < 3:\n",
    "        return '1-2 объекта'\n",
    "    \n",
    "    elif data_new['objects'] <= 5:\n",
    "        return '3-5 объектов'\n",
    "    \n",
    "    else:\n",
    "        return 'боле 5 объектов'\n",
    "\n",
    "#добавим новый столбец в таблицу\n",
    "data_new['objects_category'] = data_new.apply(objects_category, axis=1)\n",
    "\n",
    "data_new.head(3)"
   ]
  },
  {
   "cell_type": "code",
   "execution_count": 20,
   "id": "009e99d9",
   "metadata": {
    "scrolled": true
   },
   "outputs": [
    {
     "data": {
      "image/png": "[encoded data removed]",
      "text/plain": [
       "<Figure size 432x288 with 1 Axes>"
      ]
     },
     "metadata": {
      "needs_background": "light"
     },
     "output_type": "display_data"
    }
   ],
   "source": [
    "sns.countplot(x = 'objects_category', data = data_new)\n",
    "plt.title('Количество клиентов в категорях по числу объектов в собственности');"
   ]
  },
  {
   "cell_type": "markdown",
   "id": "8a414705",
   "metadata": {},
   "source": [
    "Большее количество клиентов в данной выборки имеют более 5 объектов."
   ]
  },
  {
   "cell_type": "markdown",
   "id": "3dea7558",
   "metadata": {},
   "source": [
    "Распределение по уровню score по категориям\n",
    "\n",
    "По данным в интернете показатель от 701 до 1000 баллов позволяет рассчитывать на выгодные условия по кредиту, 501–700 — на стандартные условия, 0–500 — на невыгодные условия займов и повышенный риск отказа"
   ]
  },
  {
   "cell_type": "code",
   "execution_count": 21,
   "id": "0f563d40",
   "metadata": {},
   "outputs": [
    {
     "data": {
      "text/html": [
       "<div>\n",
       "<style scoped>\n",
       "    .dataframe tbody tr th:only-of-type {\n",
       "        vertical-align: middle;\n",
       "    }\n",
       "\n",
       "    .dataframe tbody tr th {\n",
       "        vertical-align: top;\n",
       "    }\n",
       "\n",
       "    .dataframe thead th {\n",
       "        text-align: right;\n",
       "    }\n",
       "</style>\n",
       "<table border=\"1\" class=\"dataframe\">\n",
       "  <thead>\n",
       "    <tr style=\"text-align: right;\">\n",
       "      <th></th>\n",
       "      <th>userid</th>\n",
       "      <th>score</th>\n",
       "      <th>city</th>\n",
       "      <th>gender</th>\n",
       "      <th>age</th>\n",
       "      <th>objects</th>\n",
       "      <th>balance</th>\n",
       "      <th>products</th>\n",
       "      <th>creditcard</th>\n",
       "      <th>loyalty</th>\n",
       "      <th>estimated_salary</th>\n",
       "      <th>churn</th>\n",
       "      <th>category</th>\n",
       "      <th>age_category</th>\n",
       "      <th>objects_category</th>\n",
       "      <th>score_category</th>\n",
       "    </tr>\n",
       "  </thead>\n",
       "  <tbody>\n",
       "    <tr>\n",
       "      <th>0</th>\n",
       "      <td>15677338</td>\n",
       "      <td>619</td>\n",
       "      <td>Ярославль</td>\n",
       "      <td>Ж</td>\n",
       "      <td>42</td>\n",
       "      <td>2</td>\n",
       "      <td>NaN</td>\n",
       "      <td>1</td>\n",
       "      <td>1</td>\n",
       "      <td>1</td>\n",
       "      <td>101348.88</td>\n",
       "      <td>1</td>\n",
       "      <td>высокий достаток</td>\n",
       "      <td>среднего возраста</td>\n",
       "      <td>1-2 объекта</td>\n",
       "      <td>средний уровень</td>\n",
       "    </tr>\n",
       "    <tr>\n",
       "      <th>1</th>\n",
       "      <td>15690047</td>\n",
       "      <td>608</td>\n",
       "      <td>Рыбинск</td>\n",
       "      <td>Ж</td>\n",
       "      <td>41</td>\n",
       "      <td>1</td>\n",
       "      <td>83807.86</td>\n",
       "      <td>1</td>\n",
       "      <td>0</td>\n",
       "      <td>1</td>\n",
       "      <td>112542.58</td>\n",
       "      <td>0</td>\n",
       "      <td>высокий достаток</td>\n",
       "      <td>среднего возраста</td>\n",
       "      <td>1-2 объекта</td>\n",
       "      <td>средний уровень</td>\n",
       "    </tr>\n",
       "    <tr>\n",
       "      <th>2</th>\n",
       "      <td>15662040</td>\n",
       "      <td>502</td>\n",
       "      <td>Ярославль</td>\n",
       "      <td>Ж</td>\n",
       "      <td>42</td>\n",
       "      <td>8</td>\n",
       "      <td>159660.80</td>\n",
       "      <td>3</td>\n",
       "      <td>1</td>\n",
       "      <td>0</td>\n",
       "      <td>113931.57</td>\n",
       "      <td>1</td>\n",
       "      <td>высокий достаток</td>\n",
       "      <td>среднего возраста</td>\n",
       "      <td>боле 5 объектов</td>\n",
       "      <td>средний уровень</td>\n",
       "    </tr>\n",
       "  </tbody>\n",
       "</table>\n",
       "</div>"
      ],
      "text/plain": [
       "     userid  score       city gender  age  objects    balance  products  \\\n",
       "0  15677338    619  Ярославль      Ж   42        2        NaN         1   \n",
       "1  15690047    608    Рыбинск      Ж   41        1   83807.86         1   \n",
       "2  15662040    502  Ярославль      Ж   42        8  159660.80         3   \n",
       "\n",
       "   creditcard  loyalty  estimated_salary  churn          category  \\\n",
       "0           1        1         101348.88      1  высокий достаток   \n",
       "1           0        1         112542.58      0  высокий достаток   \n",
       "2           1        0         113931.57      1  высокий достаток   \n",
       "\n",
       "        age_category objects_category   score_category  \n",
       "0  среднего возраста      1-2 объекта  средний уровень  \n",
       "1  среднего возраста      1-2 объекта  средний уровень  \n",
       "2  среднего возраста  боле 5 объектов  средний уровень  "
      ]
     },
     "execution_count": 21,
     "metadata": {},
     "output_type": "execute_result"
    }
   ],
   "source": [
    "#напишем функцию, которая распределяет уровень score по категориям\n",
    "def score_category(data_new):\n",
    "    \n",
    "    if data_new['score'] < 500:\n",
    "        return 'низкий уровень'\n",
    "    \n",
    "    elif data_new['score'] <= 700:\n",
    "        return 'средний уровень'\n",
    "    \n",
    "    else:\n",
    "        return 'высокий уровень'\n",
    "\n",
    "#добавим новый столбец в таблицу\n",
    "data_new['score_category'] = data_new.apply(score_category, axis=1)\n",
    "\n",
    "data_new.head(3)"
   ]
  },
  {
   "cell_type": "code",
   "execution_count": 22,
   "id": "28903cf8",
   "metadata": {},
   "outputs": [
    {
     "data": {
      "text/plain": [
       "Text(0.5, 1.0, 'Кол-во клиентов в категорях по банковскому скорингу')"
      ]
     },
     "execution_count": 22,
     "metadata": {},
     "output_type": "execute_result"
    },
    {
     "data": {
      "image/png": "[encoded data removed]",
      "text/plain": [
       "<Figure size 432x288 with 1 Axes>"
      ]
     },
     "metadata": {
      "needs_background": "light"
     },
     "output_type": "display_data"
    }
   ],
   "source": [
    "sns.countplot(x = 'score_category', data = data_new)\n",
    "plt.title('Кол-во клиентов в категорях по банковскому скорингу')"
   ]
  },
  {
   "cell_type": "markdown",
   "id": "2fddfb3e",
   "metadata": {},
   "source": [
    "У большинства клиентов в категорях по банковскому скорингу имеют средний уровень"
   ]
  },
  {
   "cell_type": "markdown",
   "id": "94310139",
   "metadata": {},
   "source": [
    "Распределение баланса на счету по категориям"
   ]
  },
  {
   "cell_type": "code",
   "execution_count": 23,
   "id": "e93b1923",
   "metadata": {},
   "outputs": [
    {
     "data": {
      "text/plain": [
       "count      6383.000000\n",
       "mean     119827.493793\n",
       "std       30095.056462\n",
       "min        3768.690000\n",
       "25%      100181.975000\n",
       "50%      119839.690000\n",
       "75%      139512.290000\n",
       "max      250898.090000\n",
       "Name: balance, dtype: float64"
      ]
     },
     "execution_count": 23,
     "metadata": {},
     "output_type": "execute_result"
    }
   ],
   "source": [
    "data_new['balance'].describe()"
   ]
  },
  {
   "cell_type": "markdown",
   "id": "ebdb5180",
   "metadata": {},
   "source": [
    "Посмотрим сколко человек имеют на балансе меньше 5000р, от 5000 до 30000р, от 30000 до 50000р, от 50000 до 100000р, и те кто более 100000р. "
   ]
  },
  {
   "cell_type": "code",
   "execution_count": 24,
   "id": "39de4216",
   "metadata": {},
   "outputs": [
    {
     "data": {
      "text/html": [
       "<div>\n",
       "<style scoped>\n",
       "    .dataframe tbody tr th:only-of-type {\n",
       "        vertical-align: middle;\n",
       "    }\n",
       "\n",
       "    .dataframe tbody tr th {\n",
       "        vertical-align: top;\n",
       "    }\n",
       "\n",
       "    .dataframe thead th {\n",
       "        text-align: right;\n",
       "    }\n",
       "</style>\n",
       "<table border=\"1\" class=\"dataframe\">\n",
       "  <thead>\n",
       "    <tr style=\"text-align: right;\">\n",
       "      <th></th>\n",
       "      <th>userid</th>\n",
       "      <th>score</th>\n",
       "      <th>city</th>\n",
       "      <th>gender</th>\n",
       "      <th>age</th>\n",
       "      <th>objects</th>\n",
       "      <th>balance</th>\n",
       "      <th>products</th>\n",
       "      <th>creditcard</th>\n",
       "      <th>loyalty</th>\n",
       "      <th>estimated_salary</th>\n",
       "      <th>churn</th>\n",
       "      <th>category</th>\n",
       "      <th>age_category</th>\n",
       "      <th>objects_category</th>\n",
       "      <th>score_category</th>\n",
       "      <th>balance_category</th>\n",
       "    </tr>\n",
       "  </thead>\n",
       "  <tbody>\n",
       "    <tr>\n",
       "      <th>0</th>\n",
       "      <td>15677338</td>\n",
       "      <td>619</td>\n",
       "      <td>Ярославль</td>\n",
       "      <td>Ж</td>\n",
       "      <td>42</td>\n",
       "      <td>2</td>\n",
       "      <td>NaN</td>\n",
       "      <td>1</td>\n",
       "      <td>1</td>\n",
       "      <td>1</td>\n",
       "      <td>101348.88</td>\n",
       "      <td>1</td>\n",
       "      <td>высокий достаток</td>\n",
       "      <td>среднего возраста</td>\n",
       "      <td>1-2 объекта</td>\n",
       "      <td>средний уровень</td>\n",
       "      <td>более 100 000р</td>\n",
       "    </tr>\n",
       "    <tr>\n",
       "      <th>1</th>\n",
       "      <td>15690047</td>\n",
       "      <td>608</td>\n",
       "      <td>Рыбинск</td>\n",
       "      <td>Ж</td>\n",
       "      <td>41</td>\n",
       "      <td>1</td>\n",
       "      <td>83807.86</td>\n",
       "      <td>1</td>\n",
       "      <td>0</td>\n",
       "      <td>1</td>\n",
       "      <td>112542.58</td>\n",
       "      <td>0</td>\n",
       "      <td>высокий достаток</td>\n",
       "      <td>среднего возраста</td>\n",
       "      <td>1-2 объекта</td>\n",
       "      <td>средний уровень</td>\n",
       "      <td>более 100 000р</td>\n",
       "    </tr>\n",
       "    <tr>\n",
       "      <th>2</th>\n",
       "      <td>15662040</td>\n",
       "      <td>502</td>\n",
       "      <td>Ярославль</td>\n",
       "      <td>Ж</td>\n",
       "      <td>42</td>\n",
       "      <td>8</td>\n",
       "      <td>159660.80</td>\n",
       "      <td>3</td>\n",
       "      <td>1</td>\n",
       "      <td>0</td>\n",
       "      <td>113931.57</td>\n",
       "      <td>1</td>\n",
       "      <td>высокий достаток</td>\n",
       "      <td>среднего возраста</td>\n",
       "      <td>боле 5 объектов</td>\n",
       "      <td>средний уровень</td>\n",
       "      <td>более 100 000р</td>\n",
       "    </tr>\n",
       "  </tbody>\n",
       "</table>\n",
       "</div>"
      ],
      "text/plain": [
       "     userid  score       city gender  age  objects    balance  products  \\\n",
       "0  15677338    619  Ярославль      Ж   42        2        NaN         1   \n",
       "1  15690047    608    Рыбинск      Ж   41        1   83807.86         1   \n",
       "2  15662040    502  Ярославль      Ж   42        8  159660.80         3   \n",
       "\n",
       "   creditcard  loyalty  estimated_salary  churn          category  \\\n",
       "0           1        1         101348.88      1  высокий достаток   \n",
       "1           0        1         112542.58      0  высокий достаток   \n",
       "2           1        0         113931.57      1  высокий достаток   \n",
       "\n",
       "        age_category objects_category   score_category balance_category  \n",
       "0  среднего возраста      1-2 объекта  средний уровень   более 100 000р  \n",
       "1  среднего возраста      1-2 объекта  средний уровень   более 100 000р  \n",
       "2  среднего возраста  боле 5 объектов  средний уровень   более 100 000р  "
      ]
     },
     "execution_count": 24,
     "metadata": {},
     "output_type": "execute_result"
    }
   ],
   "source": [
    "#напишем функцию, которая распределяет баланс на счету по категориям\n",
    "def balance_category(data_new):\n",
    "    \n",
    "    if data_new['balance'] <= 5000:\n",
    "        return 'менее 5000р'\n",
    "    \n",
    "    elif data_new['balance'] <= 30000:\n",
    "        return '5 000 - 30 000р'\n",
    "    \n",
    "    elif data_new['balance'] <= 50000:\n",
    "        return '30 000 - 50 000р'\n",
    "    \n",
    "    elif data_new['balance'] <= 50000:\n",
    "        return '50 000 - 100 000р'\n",
    "    \n",
    "    else:\n",
    "        return 'более 100 000р'\n",
    "\n",
    "#добавим новый столбец в таблицу\n",
    "data_new['balance_category'] = data_new.apply(balance_category, axis=1)\n",
    "\n",
    "data_new.head(3)"
   ]
  },
  {
   "cell_type": "code",
   "execution_count": 25,
   "id": "35a65610",
   "metadata": {},
   "outputs": [
    {
     "data": {
      "image/png": "[encoded data removed]",
      "text/plain": [
       "<Figure size 432x288 with 1 Axes>"
      ]
     },
     "metadata": {
      "needs_background": "light"
     },
     "output_type": "display_data"
    }
   ],
   "source": [
    "sns.countplot(x = 'balance_category', data = data_new)\n",
    "plt.title('Количество клиентов в категориях по уровню баланса счета');"
   ]
  },
  {
   "cell_type": "code",
   "execution_count": 26,
   "id": "01b38c91",
   "metadata": {},
   "outputs": [
    {
     "data": {
      "text/plain": [
       "более 100 000р      9925\n",
       "30 000 - 50 000р      63\n",
       "5 000 - 30 000р       11\n",
       "менее 5000р            1\n",
       "Name: balance_category, dtype: int64"
      ]
     },
     "execution_count": 26,
     "metadata": {},
     "output_type": "execute_result"
    }
   ],
   "source": [
    "data_new['balance_category'].value_counts()"
   ]
  },
  {
   "cell_type": "code",
   "execution_count": 27,
   "id": "7761d0ed",
   "metadata": {},
   "outputs": [
    {
     "data": {
      "text/plain": [
       "1    5151\n",
       "0    4849\n",
       "Name: loyalty, dtype: int64"
      ]
     },
     "execution_count": 27,
     "metadata": {},
     "output_type": "execute_result"
    }
   ],
   "source": [
    "data_new['loyalty'].value_counts()"
   ]
  },
  {
   "cell_type": "markdown",
   "id": "089e66a4",
   "metadata": {},
   "source": [
    "У 99 % клиентов на счете более 100000 рублей."
   ]
  },
  {
   "cell_type": "code",
   "execution_count": 28,
   "id": "88afb9ea",
   "metadata": {},
   "outputs": [
    {
     "data": {
      "text/html": [
       "<div>\n",
       "<style scoped>\n",
       "    .dataframe tbody tr th:only-of-type {\n",
       "        vertical-align: middle;\n",
       "    }\n",
       "\n",
       "    .dataframe tbody tr th {\n",
       "        vertical-align: top;\n",
       "    }\n",
       "\n",
       "    .dataframe thead th {\n",
       "        text-align: right;\n",
       "    }\n",
       "</style>\n",
       "<table border=\"1\" class=\"dataframe\">\n",
       "  <thead>\n",
       "    <tr style=\"text-align: right;\">\n",
       "      <th></th>\n",
       "      <th>userid</th>\n",
       "      <th>score</th>\n",
       "      <th>age</th>\n",
       "      <th>objects</th>\n",
       "      <th>balance</th>\n",
       "      <th>products</th>\n",
       "      <th>creditcard</th>\n",
       "      <th>loyalty</th>\n",
       "      <th>estimated_salary</th>\n",
       "      <th>churn</th>\n",
       "    </tr>\n",
       "  </thead>\n",
       "  <tbody>\n",
       "    <tr>\n",
       "      <th>count</th>\n",
       "      <td>10000.0</td>\n",
       "      <td>10000.0</td>\n",
       "      <td>10000.0</td>\n",
       "      <td>10000.0</td>\n",
       "      <td>6383.0</td>\n",
       "      <td>10000.0</td>\n",
       "      <td>10000.0</td>\n",
       "      <td>10000.0</td>\n",
       "      <td>10000.0</td>\n",
       "      <td>10000.0</td>\n",
       "    </tr>\n",
       "    <tr>\n",
       "      <th>mean</th>\n",
       "      <td>15733677.0</td>\n",
       "      <td>651.0</td>\n",
       "      <td>39.0</td>\n",
       "      <td>5.0</td>\n",
       "      <td>119827.0</td>\n",
       "      <td>2.0</td>\n",
       "      <td>1.0</td>\n",
       "      <td>1.0</td>\n",
       "      <td>100090.0</td>\n",
       "      <td>0.0</td>\n",
       "    </tr>\n",
       "    <tr>\n",
       "      <th>std</th>\n",
       "      <td>71936.0</td>\n",
       "      <td>97.0</td>\n",
       "      <td>10.0</td>\n",
       "      <td>3.0</td>\n",
       "      <td>30095.0</td>\n",
       "      <td>1.0</td>\n",
       "      <td>0.0</td>\n",
       "      <td>0.0</td>\n",
       "      <td>57510.0</td>\n",
       "      <td>0.0</td>\n",
       "    </tr>\n",
       "    <tr>\n",
       "      <th>min</th>\n",
       "      <td>15608437.0</td>\n",
       "      <td>350.0</td>\n",
       "      <td>18.0</td>\n",
       "      <td>0.0</td>\n",
       "      <td>3769.0</td>\n",
       "      <td>1.0</td>\n",
       "      <td>0.0</td>\n",
       "      <td>0.0</td>\n",
       "      <td>12.0</td>\n",
       "      <td>0.0</td>\n",
       "    </tr>\n",
       "    <tr>\n",
       "      <th>25%</th>\n",
       "      <td>15671264.0</td>\n",
       "      <td>584.0</td>\n",
       "      <td>32.0</td>\n",
       "      <td>3.0</td>\n",
       "      <td>100182.0</td>\n",
       "      <td>1.0</td>\n",
       "      <td>0.0</td>\n",
       "      <td>0.0</td>\n",
       "      <td>51002.0</td>\n",
       "      <td>0.0</td>\n",
       "    </tr>\n",
       "    <tr>\n",
       "      <th>50%</th>\n",
       "      <td>15733474.0</td>\n",
       "      <td>652.0</td>\n",
       "      <td>37.0</td>\n",
       "      <td>5.0</td>\n",
       "      <td>119840.0</td>\n",
       "      <td>1.0</td>\n",
       "      <td>1.0</td>\n",
       "      <td>1.0</td>\n",
       "      <td>100194.0</td>\n",
       "      <td>0.0</td>\n",
       "    </tr>\n",
       "    <tr>\n",
       "      <th>75%</th>\n",
       "      <td>15795970.0</td>\n",
       "      <td>718.0</td>\n",
       "      <td>44.0</td>\n",
       "      <td>7.0</td>\n",
       "      <td>139512.0</td>\n",
       "      <td>2.0</td>\n",
       "      <td>1.0</td>\n",
       "      <td>1.0</td>\n",
       "      <td>149388.0</td>\n",
       "      <td>0.0</td>\n",
       "    </tr>\n",
       "    <tr>\n",
       "      <th>max</th>\n",
       "      <td>15858426.0</td>\n",
       "      <td>850.0</td>\n",
       "      <td>92.0</td>\n",
       "      <td>10.0</td>\n",
       "      <td>250898.0</td>\n",
       "      <td>4.0</td>\n",
       "      <td>1.0</td>\n",
       "      <td>1.0</td>\n",
       "      <td>199992.0</td>\n",
       "      <td>1.0</td>\n",
       "    </tr>\n",
       "  </tbody>\n",
       "</table>\n",
       "</div>"
      ],
      "text/plain": [
       "           userid    score      age  objects   balance  products  creditcard  \\\n",
       "count     10000.0  10000.0  10000.0  10000.0    6383.0   10000.0     10000.0   \n",
       "mean   15733677.0    651.0     39.0      5.0  119827.0       2.0         1.0   \n",
       "std       71936.0     97.0     10.0      3.0   30095.0       1.0         0.0   \n",
       "min    15608437.0    350.0     18.0      0.0    3769.0       1.0         0.0   \n",
       "25%    15671264.0    584.0     32.0      3.0  100182.0       1.0         0.0   \n",
       "50%    15733474.0    652.0     37.0      5.0  119840.0       1.0         1.0   \n",
       "75%    15795970.0    718.0     44.0      7.0  139512.0       2.0         1.0   \n",
       "max    15858426.0    850.0     92.0     10.0  250898.0       4.0         1.0   \n",
       "\n",
       "       loyalty  estimated_salary    churn  \n",
       "count  10000.0           10000.0  10000.0  \n",
       "mean       1.0          100090.0      0.0  \n",
       "std        0.0           57510.0      0.0  \n",
       "min        0.0              12.0      0.0  \n",
       "25%        0.0           51002.0      0.0  \n",
       "50%        1.0          100194.0      0.0  \n",
       "75%        1.0          149388.0      0.0  \n",
       "max        1.0          199992.0      1.0  "
      ]
     },
     "execution_count": 28,
     "metadata": {},
     "output_type": "execute_result"
    }
   ],
   "source": [
    "data.describe().round()"
   ]
  },
  {
   "cell_type": "markdown",
   "id": "6ee7d83b",
   "metadata": {},
   "source": [
    "## Вывод\n",
    "\n",
    "Дубликаты отсутствуют\n",
    "\n",
    "Провели классификацию клиентов по уровню дохода, возрасту, числу объектов в собственности и кредитному скорингу. В данной выборке преобладают клиенты среднего возраста, с высоким достатком, средним уровнем кредитного скоринга, у которых во владении более 5 объектов и более 100 000р на балансе.\n",
    "\n",
    " В данной выборке у нас все клиенты уникальные и их 10 000 чел.\n",
    "\n",
    "• В среднем здесь стабильные клиенты, имеющие результат кредитного скоринга равный в среднем 650 баллов, что достаточно для получения кредита.\n",
    "\n",
    "• Клиентам от 18 до 92 лет, что означает, что все совершеннолетние и в среднем клиенту 39 лет.\n",
    "\n",
    "• Мужчин и женщин примерно поровну.\n",
    "\n",
    "• В среднем у клиентов в собственности 5 объектов.\n",
    "\n",
    "• На счету у них в среднем около 120 000р.\n",
    "\n",
    "• В среднем клиенты пользуются 1-2 продуктами. Но максимум 4.\n",
    "\n",
    "• Клиенты в среднем имеют кредитную карту, чем нет, а вот по активности картина уже так себе, активны всего около половины клиентов.\n",
    "\n",
    "• Зарплаты  в основном выше средней зп по этим городам - около 100 000р.\n",
    "\n",
    "• Более чем у половны клиентов есть действующий счет в банке.\n"
   ]
  },
  {
   "cell_type": "markdown",
   "id": "4f3b7021",
   "metadata": {},
   "source": [
    "# Шаг 3. Исследовательский анализ данных"
   ]
  },
  {
   "cell_type": "markdown",
   "id": "d674da97",
   "metadata": {},
   "source": [
    "### 3.1  распределения для тех кто ушел и кто остался"
   ]
  },
  {
   "cell_type": "code",
   "execution_count": 29,
   "id": "046b45d4",
   "metadata": {},
   "outputs": [
    {
     "data": {
      "image/png": "[encoded data removed]",
      "text/plain": [
       "<Figure size 360x360 with 1 Axes>"
      ]
     },
     "metadata": {
      "needs_background": "light"
     },
     "output_type": "display_data"
    },
    {
     "data": {
      "image/png": "[encoded data removed]",
      "text/plain": [
       "<Figure size 360x360 with 1 Axes>"
      ]
     },
     "metadata": {
      "needs_background": "light"
     },
     "output_type": "display_data"
    },
    {
     "data": {
      "image/png": "[encoded data removed]",
      "text/plain": [
       "<Figure size 360x360 with 1 Axes>"
      ]
     },
     "metadata": {
      "needs_background": "light"
     },
     "output_type": "display_data"
    },
    {
     "data": {
      "image/png": "[encoded data removed]",
      "text/plain": [
       "<Figure size 360x360 with 1 Axes>"
      ]
     },
     "metadata": {
      "needs_background": "light"
     },
     "output_type": "display_data"
    },
    {
     "data": {
      "image/png": "[encoded data removed]",
      "text/plain": [
       "<Figure size 360x360 with 1 Axes>"
      ]
     },
     "metadata": {
      "needs_background": "light"
     },
     "output_type": "display_data"
    }
   ],
   "source": [
    "#countplot-графики для бинарных признаков.\n",
    "for column in ['gender', 'creditcard', 'loyalty', 'products', 'objects']:\n",
    "    plt.figure(figsize=(5, 5))\n",
    "    sns.countplot(x = data[column], hue='churn', data=data)\n",
    "    plt.title(column)\n",
    "    plt.legend()\n",
    "    plt.show()"
   ]
  },
  {
   "cell_type": "markdown",
   "id": "ea463bc7",
   "metadata": {},
   "source": [
    "В отток  уходят:\n",
    "\n",
    "* чуть больше женщин,\n",
    "* у кого есть кредитная карта,\n",
    "* клиенты, которые являются менее активными,\n",
    "* У кого есть 1 или 2 продукта, и те у кого 4 продукта, 100% ушли в отток."
   ]
  },
  {
   "cell_type": "code",
   "execution_count": 30,
   "id": "8b87ee65",
   "metadata": {},
   "outputs": [
    {
     "data": {
      "image/png": "[encoded data removed]",
      "text/plain": [
       "<Figure size 720x432 with 1 Axes>"
      ]
     },
     "metadata": {
      "needs_background": "light"
     },
     "output_type": "display_data"
    }
   ],
   "source": [
    "data1 = data.query('churn == 1')['score']\n",
    "data0 = data.query('churn == 0')['score']\n",
    "\n",
    "plt.figure(figsize=(10,6))\n",
    "plt.hist(data0, bins=50, color='blue', edgecolor='grey', alpha=0.5, label = 'churn0', density = False)\n",
    "plt.hist(data1, bins=50, color='orange', edgecolor='grey', alpha=0.5,label = 'churn1', density = False)\n",
    "plt.legend()\n",
    "plt.show()"
   ]
  },
  {
   "cell_type": "code",
   "execution_count": 31,
   "id": "414ab051",
   "metadata": {},
   "outputs": [
    {
     "data": {
      "text/plain": [
       "Text(0.5, 1.0, 'Диаграмма размаха по score и churn')"
      ]
     },
     "execution_count": 31,
     "metadata": {},
     "output_type": "execute_result"
    },
    {
     "data": {
      "image/png": "[encoded data removed]",
      "text/plain": [
       "<Figure size 1166.4x432 with 1 Axes>"
      ]
     },
     "metadata": {
      "needs_background": "light"
     },
     "output_type": "display_data"
    }
   ],
   "source": [
    "#Построим диаграмму размаха по score.\n",
    "sns.catplot(x='churn', y=\"score\", kind=\"box\", data=data, height=6, aspect=2.7)\n",
    "plt.title('Диаграмма размаха по score и churn')\n",
    "#sns.set(rc={'figure.figsize':(14,14)})\n",
    "#_ = plt.ylim(0, 3)"
   ]
  },
  {
   "cell_type": "markdown",
   "id": "6f1931ea",
   "metadata": {},
   "source": [
    "Выбросы набдюдаются у клиентов которые ушли в отток, у них score наблюдается аж менее 400 баллов, те это те клиенты которым менее вероятно дали бы займ в банке"
   ]
  },
  {
   "cell_type": "code",
   "execution_count": 32,
   "id": "61b69671",
   "metadata": {},
   "outputs": [
    {
     "data": {
      "image/png": "[encoded data removed]",
      "text/plain": [
       "<Figure size 720x432 with 1 Axes>"
      ]
     },
     "metadata": {
      "needs_background": "light"
     },
     "output_type": "display_data"
    }
   ],
   "source": [
    "data1 = data.query('churn == 1')['balance']\n",
    "data0 = data.query('churn == 0')['balance']\n",
    "\n",
    "plt.figure(figsize=(10,6))\n",
    "plt.hist(data0, bins=50, color='blue', edgecolor='grey', alpha=0.5, label = 'churn0', density = False)\n",
    "plt.hist(data1, bins=50, color='orange', edgecolor='grey', alpha=0.5,label = 'churn1', density = False)\n",
    "plt.legend()\n",
    "plt.show()"
   ]
  },
  {
   "cell_type": "code",
   "execution_count": 33,
   "id": "88e2c821",
   "metadata": {},
   "outputs": [
    {
     "data": {
      "text/plain": [
       "Text(0.5, 1.0, 'Диаграмма размаха по balance и churn')"
      ]
     },
     "execution_count": 33,
     "metadata": {},
     "output_type": "execute_result"
    },
    {
     "data": {
      "image/png": "[encoded data removed]",
      "text/plain": [
       "<Figure size 1166.4x432 with 1 Axes>"
      ]
     },
     "metadata": {
      "needs_background": "light"
     },
     "output_type": "display_data"
    }
   ],
   "source": [
    "#Построим диаграмму размаха по balance.\n",
    "sns.catplot(x='churn', y=\"balance\", kind=\"box\", data=data, height=6, aspect=2.7)\n",
    "plt.title('Диаграмма размаха по balance и churn')\n",
    "#sns.set(rc={'figure.figsize':(14,14)})\n",
    "#_ = plt.ylim(0, 3)"
   ]
  },
  {
   "cell_type": "markdown",
   "id": "c674d0ac",
   "metadata": {},
   "source": [
    "По балансу наблюдаем выбросы как в оттоке так и у клиентов которые остались, у клиентов которые остались выбросы видим менее 40000 рублей и более 200000рублей. А у клиентов которые ушли в отток видим выбросы менее 50000рублей и более 185000 рублей"
   ]
  },
  {
   "cell_type": "code",
   "execution_count": 34,
   "id": "a32af054",
   "metadata": {},
   "outputs": [
    {
     "data": {
      "image/png": "[encoded data removed]",
      "text/plain": [
       "<Figure size 720x432 with 1 Axes>"
      ]
     },
     "metadata": {
      "needs_background": "light"
     },
     "output_type": "display_data"
    }
   ],
   "source": [
    "data1 = data.query('churn == 1')['age']\n",
    "data0 = data.query('churn == 0')['age']\n",
    "\n",
    "plt.figure(figsize=(10,6))\n",
    "plt.hist(data0, bins=50, color='blue', edgecolor='grey', alpha=0.5, label = 'churn0', density = False)\n",
    "plt.hist(data1, bins=50, color='orange', edgecolor='grey', alpha=0.5,label = 'churn1', density = False)\n",
    "plt.legend()\n",
    "plt.show()"
   ]
  },
  {
   "cell_type": "code",
   "execution_count": 35,
   "id": "09834c07",
   "metadata": {},
   "outputs": [
    {
     "data": {
      "text/plain": [
       "Text(0.5, 1.0, 'Диаграмма размаха по age и churn')"
      ]
     },
     "execution_count": 35,
     "metadata": {},
     "output_type": "execute_result"
    },
    {
     "data": {
      "image/png": "[encoded data removed]",
      "text/plain": [
       "<Figure size 1166.4x432 with 1 Axes>"
      ]
     },
     "metadata": {
      "needs_background": "light"
     },
     "output_type": "display_data"
    }
   ],
   "source": [
    "#Построим диаграмму размаха по age.\n",
    "sns.catplot(x='churn', y=\"age\", kind=\"box\", data=data, height=6, aspect=2.7)\n",
    "plt.title('Диаграмма размаха по age и churn')\n",
    "#sns.set(rc={'figure.figsize':(14,14)})\n",
    "#_ = plt.ylim(0, 3)"
   ]
  },
  {
   "cell_type": "markdown",
   "id": "d7a640d4",
   "metadata": {},
   "source": [
    "По возросту наблюдаем выбросы у клиентов которые остались в банке, это клиенты в старше 58 лет и до 92 года. У клиентов которые ушли в отток видим выбросы менее 20 лет и клиенты, которые старше 70 лет."
   ]
  },
  {
   "cell_type": "code",
   "execution_count": 36,
   "id": "761e634a",
   "metadata": {},
   "outputs": [
    {
     "data": {
      "image/png": "[encoded data removed]",
      "text/plain": [
       "<Figure size 720x432 with 1 Axes>"
      ]
     },
     "metadata": {
      "needs_background": "light"
     },
     "output_type": "display_data"
    }
   ],
   "source": [
    "data1 = data.query('churn == 1')['estimated_salary']\n",
    "data0 = data.query('churn == 0')['estimated_salary']\n",
    "\n",
    "plt.figure(figsize=(10,6))\n",
    "plt.hist(data0, bins=50, color='blue', edgecolor='grey', alpha=0.5, label = 'churn0', density = False)\n",
    "plt.hist(data1, bins=50, color='orange', edgecolor='grey', alpha=0.5,label = 'churn1', density = False)\n",
    "plt.legend()\n",
    "plt.show()"
   ]
  },
  {
   "cell_type": "code",
   "execution_count": 37,
   "id": "c92e8438",
   "metadata": {},
   "outputs": [
    {
     "data": {
      "text/plain": [
       "Text(0.5, 1.0, 'Диаграмма размаха по estimated_salary и churn')"
      ]
     },
     "execution_count": 37,
     "metadata": {},
     "output_type": "execute_result"
    },
    {
     "data": {
      "image/png": "[encoded data removed]",
      "text/plain": [
       "<Figure size 1166.4x432 with 1 Axes>"
      ]
     },
     "metadata": {
      "needs_background": "light"
     },
     "output_type": "display_data"
    }
   ],
   "source": [
    "#Построим диаграмму размаха по заработной плате.\n",
    "sns.catplot(x='churn', y=\"estimated_salary\", kind=\"box\", data=data, height=6, aspect=2.7)\n",
    "plt.title('Диаграмма размаха по estimated_salary и churn')\n",
    "#sns.set(rc={'figure.figsize':(14,14)})\n",
    "#_ = plt.ylim(0, 3)"
   ]
  },
  {
   "cell_type": "markdown",
   "id": "2f42a3ef",
   "metadata": {},
   "source": [
    "По заработной плате выбросов не наблюдаем"
   ]
  },
  {
   "cell_type": "markdown",
   "id": "2fa1104b",
   "metadata": {},
   "source": [
    "В отток  уходит чуть больше женщин, чем мужчин, у кого есть кредитная карта, действующий счет в банке и в большинстве клиенты, которые являются неактивными.По численности в отток уходит больше клиентов имеющих в собственности от 1 до 9 объектов. Так же в отток 100% уходят те у кого уровень score менее 400 баллов. "
   ]
  },
  {
   "cell_type": "markdown",
   "id": "5ff7c409",
   "metadata": {},
   "source": [
    "### 3.2 Посмотрим на средние показатели по клиентам которые ушли и которые остались"
   ]
  },
  {
   "cell_type": "code",
   "execution_count": 38,
   "id": "d925e501",
   "metadata": {},
   "outputs": [
    {
     "data": {
      "text/html": [
       "<div>\n",
       "<style scoped>\n",
       "    .dataframe tbody tr th:only-of-type {\n",
       "        vertical-align: middle;\n",
       "    }\n",
       "\n",
       "    .dataframe tbody tr th {\n",
       "        vertical-align: top;\n",
       "    }\n",
       "\n",
       "    .dataframe thead th {\n",
       "        text-align: right;\n",
       "    }\n",
       "</style>\n",
       "<table border=\"1\" class=\"dataframe\">\n",
       "  <thead>\n",
       "    <tr style=\"text-align: right;\">\n",
       "      <th></th>\n",
       "      <th>index</th>\n",
       "      <th>churn</th>\n",
       "    </tr>\n",
       "  </thead>\n",
       "  <tbody>\n",
       "    <tr>\n",
       "      <th>0</th>\n",
       "      <td>0</td>\n",
       "      <td>0.8</td>\n",
       "    </tr>\n",
       "    <tr>\n",
       "      <th>1</th>\n",
       "      <td>1</td>\n",
       "      <td>0.2</td>\n",
       "    </tr>\n",
       "  </tbody>\n",
       "</table>\n",
       "</div>"
      ],
      "text/plain": [
       "   index  churn\n",
       "0      0    0.8\n",
       "1      1    0.2"
      ]
     },
     "execution_count": 38,
     "metadata": {},
     "output_type": "execute_result"
    }
   ],
   "source": [
    "#Посмотрим на общий процент оттока\n",
    "data['churn'].value_counts(normalize = True).round(2).reset_index()"
   ]
  },
  {
   "cell_type": "markdown",
   "id": "07d8109a",
   "metadata": {},
   "source": [
    "Из общего числа клиентов банка присутствуют только 20%  которые ушли (отток)."
   ]
  },
  {
   "cell_type": "code",
   "execution_count": 39,
   "id": "fbfd2ace",
   "metadata": {},
   "outputs": [
    {
     "data": {
      "text/html": [
       "<div>\n",
       "<style scoped>\n",
       "    .dataframe tbody tr th:only-of-type {\n",
       "        vertical-align: middle;\n",
       "    }\n",
       "\n",
       "    .dataframe tbody tr th {\n",
       "        vertical-align: top;\n",
       "    }\n",
       "\n",
       "    .dataframe thead th {\n",
       "        text-align: right;\n",
       "    }\n",
       "</style>\n",
       "<table border=\"1\" class=\"dataframe\">\n",
       "  <thead>\n",
       "    <tr style=\"text-align: right;\">\n",
       "      <th></th>\n",
       "      <th>userid</th>\n",
       "      <th>score</th>\n",
       "      <th>age</th>\n",
       "      <th>objects</th>\n",
       "      <th>balance</th>\n",
       "      <th>products</th>\n",
       "      <th>creditcard</th>\n",
       "      <th>loyalty</th>\n",
       "      <th>estimated_salary</th>\n",
       "    </tr>\n",
       "    <tr>\n",
       "      <th>churn</th>\n",
       "      <th></th>\n",
       "      <th></th>\n",
       "      <th></th>\n",
       "      <th></th>\n",
       "      <th></th>\n",
       "      <th></th>\n",
       "      <th></th>\n",
       "      <th></th>\n",
       "      <th></th>\n",
       "    </tr>\n",
       "  </thead>\n",
       "  <tbody>\n",
       "    <tr>\n",
       "      <th>0</th>\n",
       "      <td>15733904.0</td>\n",
       "      <td>652.0</td>\n",
       "      <td>37.0</td>\n",
       "      <td>5.0</td>\n",
       "      <td>119536.0</td>\n",
       "      <td>2.0</td>\n",
       "      <td>1.0</td>\n",
       "      <td>1.0</td>\n",
       "      <td>99738.0</td>\n",
       "    </tr>\n",
       "    <tr>\n",
       "      <th>1</th>\n",
       "      <td>15732788.0</td>\n",
       "      <td>645.0</td>\n",
       "      <td>45.0</td>\n",
       "      <td>5.0</td>\n",
       "      <td>120747.0</td>\n",
       "      <td>1.0</td>\n",
       "      <td>1.0</td>\n",
       "      <td>0.0</td>\n",
       "      <td>101466.0</td>\n",
       "    </tr>\n",
       "  </tbody>\n",
       "</table>\n",
       "</div>"
      ],
      "text/plain": [
       "           userid  score   age  objects   balance  products  creditcard  \\\n",
       "churn                                                                     \n",
       "0      15733904.0  652.0  37.0      5.0  119536.0       2.0         1.0   \n",
       "1      15732788.0  645.0  45.0      5.0  120747.0       1.0         1.0   \n",
       "\n",
       "       loyalty  estimated_salary  \n",
       "churn                             \n",
       "0          1.0           99738.0  \n",
       "1          0.0          101466.0  "
      ]
     },
     "execution_count": 39,
     "metadata": {},
     "output_type": "execute_result"
    }
   ],
   "source": [
    "data.groupby('churn').agg('mean').round()"
   ]
  },
  {
   "cell_type": "markdown",
   "id": "56d29070",
   "metadata": {},
   "source": [
    "Если смотреть на средние показатели клиентов которые ушли и которые остались, то слишком явного различия не видно. Но остается клиент, который имеет меньшую активность и по возрасту в среднем 45 лет, а зарплата, баланс на счете и объекты в собственности в среднем одинаковые."
   ]
  },
  {
   "cell_type": "markdown",
   "id": "f345467d",
   "metadata": {},
   "source": [
    "### 3.3 Посмотрим матрицу корреляции"
   ]
  },
  {
   "cell_type": "markdown",
   "id": "7da126cd",
   "metadata": {},
   "source": [
    "Переведем названия городов в числовые значения, чтобы можно было обучить модель."
   ]
  },
  {
   "cell_type": "code",
   "execution_count": 9,
   "id": "a46a36c1",
   "metadata": {},
   "outputs": [],
   "source": [
    "data = pd.get_dummies(data, columns=['city'])"
   ]
  },
  {
   "cell_type": "markdown",
   "id": "5935ab1d",
   "metadata": {},
   "source": [
    "Заменим пол на единицы и нули, чтобы посмотреть статистику по полу."
   ]
  },
  {
   "cell_type": "code",
   "execution_count": 10,
   "id": "385e3f4e",
   "metadata": {},
   "outputs": [],
   "source": [
    "data['gender'] = data['gender'].replace({'Ж':0, 'М': 1})"
   ]
  },
  {
   "cell_type": "code",
   "execution_count": 11,
   "id": "1c82830c",
   "metadata": {},
   "outputs": [
    {
     "data": {
      "image/png": "[encoded data removed]",
      "text/plain": [
       "<Figure size 1080x720 with 2 Axes>"
      ]
     },
     "metadata": {
      "needs_background": "light"
     },
     "output_type": "display_data"
    }
   ],
   "source": [
    "corr = data.corr()\n",
    "plt.figure(figsize=(15, 10))\n",
    "sns.heatmap(corr, annot = True, fmt = '0.2f', linewidths=.5)\n",
    "plt.show()"
   ]
  },
  {
   "cell_type": "markdown",
   "id": "6d8a80fe",
   "metadata": {},
   "source": [
    "Шкала Чеддока\n",
    "\n",
    "0,1 - 0,3\tСлабая\n",
    "\n",
    "0,3 - 0,5\tУмеренная\n",
    "\n",
    "0,5 - 0,7\tЗаметная\n",
    "\n",
    "0,7 - 0,9\tВысокая\n",
    "\n",
    "0,9 - 0,99\tВесьма высокая"
   ]
  },
  {
   "cell_type": "markdown",
   "id": "e14820bd",
   "metadata": {},
   "source": [
    "## Вывод\n",
    "По матрице корреляций можно сказать, что влияние на отток имеют такие признаки как возраст (слабая корреляция), активность (очень слабая корреляция), пол (очень слабая корреляция) и продукты(так же очень слабая корреляция). Если смотреть по городам, то больше всего на отток влияет Ростов.\n",
    "\n"
   ]
  },
  {
   "cell_type": "markdown",
   "id": "061aa826",
   "metadata": {},
   "source": [
    "# Шаг 4. Сделайте кластеризацию клиентов"
   ]
  },
  {
   "cell_type": "markdown",
   "id": "8c8e38fe",
   "metadata": {},
   "source": [
    "### 4.1 Построение иерархической кластеризации"
   ]
  },
  {
   "cell_type": "code",
   "execution_count": 42,
   "id": "161f02b9",
   "metadata": {},
   "outputs": [],
   "source": [
    "data['balance'].replace(np.nan, 0, inplace=True)"
   ]
  },
  {
   "cell_type": "code",
   "execution_count": 44,
   "id": "7e50c2b6",
   "metadata": {
    "scrolled": true
   },
   "outputs": [
    {
     "data": {
      "text/html": [
       "<div>\n",
       "<style scoped>\n",
       "    .dataframe tbody tr th:only-of-type {\n",
       "        vertical-align: middle;\n",
       "    }\n",
       "\n",
       "    .dataframe tbody tr th {\n",
       "        vertical-align: top;\n",
       "    }\n",
       "\n",
       "    .dataframe thead th {\n",
       "        text-align: right;\n",
       "    }\n",
       "</style>\n",
       "<table border=\"1\" class=\"dataframe\">\n",
       "  <thead>\n",
       "    <tr style=\"text-align: right;\">\n",
       "      <th></th>\n",
       "      <th>userid</th>\n",
       "      <th>score</th>\n",
       "      <th>gender</th>\n",
       "      <th>age</th>\n",
       "      <th>objects</th>\n",
       "      <th>balance</th>\n",
       "      <th>products</th>\n",
       "      <th>creditcard</th>\n",
       "      <th>loyalty</th>\n",
       "      <th>estimated_salary</th>\n",
       "      <th>city_Ростов Великий</th>\n",
       "      <th>city_Рыбинск</th>\n",
       "      <th>city_Ярославль</th>\n",
       "    </tr>\n",
       "  </thead>\n",
       "  <tbody>\n",
       "    <tr>\n",
       "      <th>0</th>\n",
       "      <td>15677338</td>\n",
       "      <td>619</td>\n",
       "      <td>0</td>\n",
       "      <td>42</td>\n",
       "      <td>2</td>\n",
       "      <td>0.00</td>\n",
       "      <td>1</td>\n",
       "      <td>1</td>\n",
       "      <td>1</td>\n",
       "      <td>101348.88</td>\n",
       "      <td>0</td>\n",
       "      <td>0</td>\n",
       "      <td>1</td>\n",
       "    </tr>\n",
       "    <tr>\n",
       "      <th>1</th>\n",
       "      <td>15690047</td>\n",
       "      <td>608</td>\n",
       "      <td>0</td>\n",
       "      <td>41</td>\n",
       "      <td>1</td>\n",
       "      <td>83807.86</td>\n",
       "      <td>1</td>\n",
       "      <td>0</td>\n",
       "      <td>1</td>\n",
       "      <td>112542.58</td>\n",
       "      <td>0</td>\n",
       "      <td>1</td>\n",
       "      <td>0</td>\n",
       "    </tr>\n",
       "    <tr>\n",
       "      <th>2</th>\n",
       "      <td>15662040</td>\n",
       "      <td>502</td>\n",
       "      <td>0</td>\n",
       "      <td>42</td>\n",
       "      <td>8</td>\n",
       "      <td>159660.80</td>\n",
       "      <td>3</td>\n",
       "      <td>1</td>\n",
       "      <td>0</td>\n",
       "      <td>113931.57</td>\n",
       "      <td>0</td>\n",
       "      <td>0</td>\n",
       "      <td>1</td>\n",
       "    </tr>\n",
       "    <tr>\n",
       "      <th>3</th>\n",
       "      <td>15744090</td>\n",
       "      <td>699</td>\n",
       "      <td>0</td>\n",
       "      <td>39</td>\n",
       "      <td>1</td>\n",
       "      <td>0.00</td>\n",
       "      <td>2</td>\n",
       "      <td>0</td>\n",
       "      <td>0</td>\n",
       "      <td>93826.63</td>\n",
       "      <td>0</td>\n",
       "      <td>0</td>\n",
       "      <td>1</td>\n",
       "    </tr>\n",
       "    <tr>\n",
       "      <th>4</th>\n",
       "      <td>15780624</td>\n",
       "      <td>850</td>\n",
       "      <td>0</td>\n",
       "      <td>43</td>\n",
       "      <td>2</td>\n",
       "      <td>125510.82</td>\n",
       "      <td>1</td>\n",
       "      <td>1</td>\n",
       "      <td>1</td>\n",
       "      <td>79084.10</td>\n",
       "      <td>0</td>\n",
       "      <td>1</td>\n",
       "      <td>0</td>\n",
       "    </tr>\n",
       "  </tbody>\n",
       "</table>\n",
       "</div>"
      ],
      "text/plain": [
       "     userid  score  gender  age  objects    balance  products  creditcard  \\\n",
       "0  15677338    619       0   42        2       0.00         1           1   \n",
       "1  15690047    608       0   41        1   83807.86         1           0   \n",
       "2  15662040    502       0   42        8  159660.80         3           1   \n",
       "3  15744090    699       0   39        1       0.00         2           0   \n",
       "4  15780624    850       0   43        2  125510.82         1           1   \n",
       "\n",
       "   loyalty  estimated_salary  city_Ростов Великий  city_Рыбинск  \\\n",
       "0        1         101348.88                    0             0   \n",
       "1        1         112542.58                    0             1   \n",
       "2        0         113931.57                    0             0   \n",
       "3        0          93826.63                    0             0   \n",
       "4        1          79084.10                    0             1   \n",
       "\n",
       "   city_Ярославль  \n",
       "0               1  \n",
       "1               0  \n",
       "2               1  \n",
       "3               1  \n",
       "4               0  "
      ]
     },
     "execution_count": 44,
     "metadata": {},
     "output_type": "execute_result"
    }
   ],
   "source": [
    "data_cl = data.drop(['churn'], axis=1)\n",
    "data_columns_list = data_cl.columns\n",
    "data_cl.head()"
   ]
  },
  {
   "cell_type": "code",
   "execution_count": 45,
   "id": "bca7045e",
   "metadata": {},
   "outputs": [],
   "source": [
    "data_cl = StandardScaler().fit_transform(data_cl)\n",
    "data_cl = pd.DataFrame(data_cl, columns = data_columns_list).astype('float64')"
   ]
  },
  {
   "cell_type": "code",
   "execution_count": 46,
   "id": "092ce520",
   "metadata": {},
   "outputs": [
    {
     "data": {
      "text/html": [
       "<div>\n",
       "<style scoped>\n",
       "    .dataframe tbody tr th:only-of-type {\n",
       "        vertical-align: middle;\n",
       "    }\n",
       "\n",
       "    .dataframe tbody tr th {\n",
       "        vertical-align: top;\n",
       "    }\n",
       "\n",
       "    .dataframe thead th {\n",
       "        text-align: right;\n",
       "    }\n",
       "</style>\n",
       "<table border=\"1\" class=\"dataframe\">\n",
       "  <thead>\n",
       "    <tr style=\"text-align: right;\">\n",
       "      <th></th>\n",
       "      <th>userid</th>\n",
       "      <th>score</th>\n",
       "      <th>gender</th>\n",
       "      <th>age</th>\n",
       "      <th>objects</th>\n",
       "      <th>balance</th>\n",
       "      <th>products</th>\n",
       "      <th>creditcard</th>\n",
       "      <th>loyalty</th>\n",
       "      <th>estimated_salary</th>\n",
       "      <th>city_Ростов Великий</th>\n",
       "      <th>city_Рыбинск</th>\n",
       "      <th>city_Ярославль</th>\n",
       "    </tr>\n",
       "  </thead>\n",
       "  <tbody>\n",
       "    <tr>\n",
       "      <th>0</th>\n",
       "      <td>-0.783213</td>\n",
       "      <td>-0.326221</td>\n",
       "      <td>-1.095988</td>\n",
       "      <td>0.293517</td>\n",
       "      <td>-1.041760</td>\n",
       "      <td>-1.225848</td>\n",
       "      <td>-0.911583</td>\n",
       "      <td>0.646092</td>\n",
       "      <td>0.970243</td>\n",
       "      <td>0.021886</td>\n",
       "      <td>-0.578736</td>\n",
       "      <td>-0.573809</td>\n",
       "      <td>0.997204</td>\n",
       "    </tr>\n",
       "    <tr>\n",
       "      <th>1</th>\n",
       "      <td>-0.606534</td>\n",
       "      <td>-0.440036</td>\n",
       "      <td>-1.095988</td>\n",
       "      <td>0.198164</td>\n",
       "      <td>-1.387538</td>\n",
       "      <td>0.117350</td>\n",
       "      <td>-0.911583</td>\n",
       "      <td>-1.547768</td>\n",
       "      <td>0.970243</td>\n",
       "      <td>0.216534</td>\n",
       "      <td>-0.578736</td>\n",
       "      <td>1.742740</td>\n",
       "      <td>-1.002804</td>\n",
       "    </tr>\n",
       "    <tr>\n",
       "      <th>2</th>\n",
       "      <td>-0.995885</td>\n",
       "      <td>-1.536794</td>\n",
       "      <td>-1.095988</td>\n",
       "      <td>0.293517</td>\n",
       "      <td>1.032908</td>\n",
       "      <td>1.333053</td>\n",
       "      <td>2.527057</td>\n",
       "      <td>0.646092</td>\n",
       "      <td>-1.030670</td>\n",
       "      <td>0.240687</td>\n",
       "      <td>-0.578736</td>\n",
       "      <td>-0.573809</td>\n",
       "      <td>0.997204</td>\n",
       "    </tr>\n",
       "    <tr>\n",
       "      <th>3</th>\n",
       "      <td>0.144767</td>\n",
       "      <td>0.501521</td>\n",
       "      <td>-1.095988</td>\n",
       "      <td>0.007457</td>\n",
       "      <td>-1.387538</td>\n",
       "      <td>-1.225848</td>\n",
       "      <td>0.807737</td>\n",
       "      <td>-1.547768</td>\n",
       "      <td>-1.030670</td>\n",
       "      <td>-0.108918</td>\n",
       "      <td>-0.578736</td>\n",
       "      <td>-0.573809</td>\n",
       "      <td>0.997204</td>\n",
       "    </tr>\n",
       "    <tr>\n",
       "      <th>4</th>\n",
       "      <td>0.652659</td>\n",
       "      <td>2.063884</td>\n",
       "      <td>-1.095988</td>\n",
       "      <td>0.388871</td>\n",
       "      <td>-1.041760</td>\n",
       "      <td>0.785728</td>\n",
       "      <td>-0.911583</td>\n",
       "      <td>0.646092</td>\n",
       "      <td>0.970243</td>\n",
       "      <td>-0.365276</td>\n",
       "      <td>-0.578736</td>\n",
       "      <td>1.742740</td>\n",
       "      <td>-1.002804</td>\n",
       "    </tr>\n",
       "    <tr>\n",
       "      <th>...</th>\n",
       "      <td>...</td>\n",
       "      <td>...</td>\n",
       "      <td>...</td>\n",
       "      <td>...</td>\n",
       "      <td>...</td>\n",
       "      <td>...</td>\n",
       "      <td>...</td>\n",
       "      <td>...</td>\n",
       "      <td>...</td>\n",
       "      <td>...</td>\n",
       "      <td>...</td>\n",
       "      <td>...</td>\n",
       "      <td>...</td>\n",
       "    </tr>\n",
       "    <tr>\n",
       "      <th>9995</th>\n",
       "      <td>-1.177652</td>\n",
       "      <td>1.246488</td>\n",
       "      <td>0.912419</td>\n",
       "      <td>0.007457</td>\n",
       "      <td>-0.004426</td>\n",
       "      <td>-1.225848</td>\n",
       "      <td>0.807737</td>\n",
       "      <td>0.646092</td>\n",
       "      <td>-1.030670</td>\n",
       "      <td>-0.066419</td>\n",
       "      <td>-0.578736</td>\n",
       "      <td>-0.573809</td>\n",
       "      <td>0.997204</td>\n",
       "    </tr>\n",
       "    <tr>\n",
       "      <th>9996</th>\n",
       "      <td>-1.682806</td>\n",
       "      <td>-1.391939</td>\n",
       "      <td>0.912419</td>\n",
       "      <td>-0.373958</td>\n",
       "      <td>1.724464</td>\n",
       "      <td>-0.306379</td>\n",
       "      <td>-0.911583</td>\n",
       "      <td>0.646092</td>\n",
       "      <td>0.970243</td>\n",
       "      <td>0.027988</td>\n",
       "      <td>-0.578736</td>\n",
       "      <td>-0.573809</td>\n",
       "      <td>0.997204</td>\n",
       "    </tr>\n",
       "    <tr>\n",
       "      <th>9997</th>\n",
       "      <td>-1.479282</td>\n",
       "      <td>0.604988</td>\n",
       "      <td>-1.095988</td>\n",
       "      <td>-0.278604</td>\n",
       "      <td>0.687130</td>\n",
       "      <td>-1.225848</td>\n",
       "      <td>-0.911583</td>\n",
       "      <td>-1.547768</td>\n",
       "      <td>0.970243</td>\n",
       "      <td>-1.008643</td>\n",
       "      <td>-0.578736</td>\n",
       "      <td>-0.573809</td>\n",
       "      <td>0.997204</td>\n",
       "    </tr>\n",
       "    <tr>\n",
       "      <th>9998</th>\n",
       "      <td>-0.119356</td>\n",
       "      <td>1.256835</td>\n",
       "      <td>0.912419</td>\n",
       "      <td>0.293517</td>\n",
       "      <td>-0.695982</td>\n",
       "      <td>-0.022608</td>\n",
       "      <td>0.807737</td>\n",
       "      <td>0.646092</td>\n",
       "      <td>-1.030670</td>\n",
       "      <td>-0.125231</td>\n",
       "      <td>1.727904</td>\n",
       "      <td>-0.573809</td>\n",
       "      <td>-1.002804</td>\n",
       "    </tr>\n",
       "    <tr>\n",
       "      <th>9999</th>\n",
       "      <td>-0.870559</td>\n",
       "      <td>1.463771</td>\n",
       "      <td>-1.095988</td>\n",
       "      <td>-1.041433</td>\n",
       "      <td>-0.350204</td>\n",
       "      <td>0.859965</td>\n",
       "      <td>-0.911583</td>\n",
       "      <td>0.646092</td>\n",
       "      <td>-1.030670</td>\n",
       "      <td>-1.076370</td>\n",
       "      <td>-0.578736</td>\n",
       "      <td>-0.573809</td>\n",
       "      <td>0.997204</td>\n",
       "    </tr>\n",
       "  </tbody>\n",
       "</table>\n",
       "<p>10000 rows × 13 columns</p>\n",
       "</div>"
      ],
      "text/plain": [
       "        userid     score    gender       age   objects   balance  products  \\\n",
       "0    -0.783213 -0.326221 -1.095988  0.293517 -1.041760 -1.225848 -0.911583   \n",
       "1    -0.606534 -0.440036 -1.095988  0.198164 -1.387538  0.117350 -0.911583   \n",
       "2    -0.995885 -1.536794 -1.095988  0.293517  1.032908  1.333053  2.527057   \n",
       "3     0.144767  0.501521 -1.095988  0.007457 -1.387538 -1.225848  0.807737   \n",
       "4     0.652659  2.063884 -1.095988  0.388871 -1.041760  0.785728 -0.911583   \n",
       "...        ...       ...       ...       ...       ...       ...       ...   \n",
       "9995 -1.177652  1.246488  0.912419  0.007457 -0.004426 -1.225848  0.807737   \n",
       "9996 -1.682806 -1.391939  0.912419 -0.373958  1.724464 -0.306379 -0.911583   \n",
       "9997 -1.479282  0.604988 -1.095988 -0.278604  0.687130 -1.225848 -0.911583   \n",
       "9998 -0.119356  1.256835  0.912419  0.293517 -0.695982 -0.022608  0.807737   \n",
       "9999 -0.870559  1.463771 -1.095988 -1.041433 -0.350204  0.859965 -0.911583   \n",
       "\n",
       "      creditcard   loyalty  estimated_salary  city_Ростов Великий  \\\n",
       "0       0.646092  0.970243          0.021886            -0.578736   \n",
       "1      -1.547768  0.970243          0.216534            -0.578736   \n",
       "2       0.646092 -1.030670          0.240687            -0.578736   \n",
       "3      -1.547768 -1.030670         -0.108918            -0.578736   \n",
       "4       0.646092  0.970243         -0.365276            -0.578736   \n",
       "...          ...       ...               ...                  ...   \n",
       "9995    0.646092 -1.030670         -0.066419            -0.578736   \n",
       "9996    0.646092  0.970243          0.027988            -0.578736   \n",
       "9997   -1.547768  0.970243         -1.008643            -0.578736   \n",
       "9998    0.646092 -1.030670         -0.125231             1.727904   \n",
       "9999    0.646092 -1.030670         -1.076370            -0.578736   \n",
       "\n",
       "      city_Рыбинск  city_Ярославль  \n",
       "0        -0.573809        0.997204  \n",
       "1         1.742740       -1.002804  \n",
       "2        -0.573809        0.997204  \n",
       "3        -0.573809        0.997204  \n",
       "4         1.742740       -1.002804  \n",
       "...            ...             ...  \n",
       "9995     -0.573809        0.997204  \n",
       "9996     -0.573809        0.997204  \n",
       "9997     -0.573809        0.997204  \n",
       "9998     -0.573809       -1.002804  \n",
       "9999     -0.573809        0.997204  \n",
       "\n",
       "[10000 rows x 13 columns]"
      ]
     },
     "execution_count": 46,
     "metadata": {},
     "output_type": "execute_result"
    }
   ],
   "source": [
    "data_cl"
   ]
  },
  {
   "cell_type": "code",
   "execution_count": 47,
   "id": "5148ba48",
   "metadata": {},
   "outputs": [],
   "source": [
    "linked = linkage(data_cl, method = 'ward')"
   ]
  },
  {
   "cell_type": "code",
   "execution_count": 48,
   "id": "592897a2",
   "metadata": {},
   "outputs": [
    {
     "data": {
      "image/png": "[encoded data removed]",
      "text/plain": [
       "<Figure size 1152x648 with 1 Axes>"
      ]
     },
     "metadata": {
      "needs_background": "light"
     },
     "output_type": "display_data"
    }
   ],
   "source": [
    "plt.figure(figsize=(16, 9))  \n",
    "dendrogram(linked, orientation = 'top')\n",
    "plt.title('Кластеризация пользователей')\n",
    "plt.show()"
   ]
  },
  {
   "cell_type": "markdown",
   "id": "a791af4a",
   "metadata": {},
   "source": [
    "Можно выделить 3 явных кластера клиентов."
   ]
  },
  {
   "cell_type": "markdown",
   "id": "fb1a3df7",
   "metadata": {},
   "source": [
    "### 4.2 Обучение модели кластеризации на основании алгоритма k_means"
   ]
  },
  {
   "cell_type": "code",
   "execution_count": 49,
   "id": "16937fed",
   "metadata": {},
   "outputs": [],
   "source": [
    "# задаём модель k_means с числом кластеров 4 и фиксируем значение random_state\n",
    "km = KMeans(n_clusters = 3, random_state = 42)"
   ]
  },
  {
   "cell_type": "markdown",
   "id": "51461828",
   "metadata": {},
   "source": [
    "### 4.3 Прогнозируем кластеры для наблюдений "
   ]
  },
  {
   "cell_type": "code",
   "execution_count": 50,
   "id": "be40dc95",
   "metadata": {},
   "outputs": [],
   "source": [
    "# прогнозируем кластеры для наблюдений \n",
    "labels = km.fit_predict(data_cl)\n",
    "# сохраняем метки кластера в поле нашего датасета\n",
    "data['cluster'] = labels"
   ]
  },
  {
   "cell_type": "code",
   "execution_count": 51,
   "id": "310d01cd",
   "metadata": {},
   "outputs": [
    {
     "data": {
      "text/plain": [
       "2    5014\n",
       "0    2509\n",
       "1    2477\n",
       "Name: cluster, dtype: int64"
      ]
     },
     "execution_count": 51,
     "metadata": {},
     "output_type": "execute_result"
    }
   ],
   "source": [
    "data.cluster.value_counts()"
   ]
  },
  {
   "cell_type": "markdown",
   "id": "5920e668",
   "metadata": {},
   "source": [
    "### 4.4 Посмотрим на средние значения признаков для кластеров"
   ]
  },
  {
   "cell_type": "code",
   "execution_count": 52,
   "id": "8e4553ef",
   "metadata": {},
   "outputs": [
    {
     "data": {
      "text/html": [
       "<div>\n",
       "<style scoped>\n",
       "    .dataframe tbody tr th:only-of-type {\n",
       "        vertical-align: middle;\n",
       "    }\n",
       "\n",
       "    .dataframe tbody tr th {\n",
       "        vertical-align: top;\n",
       "    }\n",
       "\n",
       "    .dataframe thead th {\n",
       "        text-align: right;\n",
       "    }\n",
       "</style>\n",
       "<table border=\"1\" class=\"dataframe\">\n",
       "  <thead>\n",
       "    <tr style=\"text-align: right;\">\n",
       "      <th></th>\n",
       "      <th>userid</th>\n",
       "      <th>score</th>\n",
       "      <th>gender</th>\n",
       "      <th>age</th>\n",
       "      <th>objects</th>\n",
       "      <th>balance</th>\n",
       "      <th>products</th>\n",
       "      <th>creditcard</th>\n",
       "      <th>loyalty</th>\n",
       "      <th>estimated_salary</th>\n",
       "      <th>churn</th>\n",
       "      <th>city_Ростов Великий</th>\n",
       "      <th>city_Рыбинск</th>\n",
       "      <th>city_Ярославль</th>\n",
       "    </tr>\n",
       "    <tr>\n",
       "      <th>cluster</th>\n",
       "      <th></th>\n",
       "      <th></th>\n",
       "      <th></th>\n",
       "      <th></th>\n",
       "      <th></th>\n",
       "      <th></th>\n",
       "      <th></th>\n",
       "      <th></th>\n",
       "      <th></th>\n",
       "      <th></th>\n",
       "      <th></th>\n",
       "      <th></th>\n",
       "      <th></th>\n",
       "      <th></th>\n",
       "    </tr>\n",
       "  </thead>\n",
       "  <tbody>\n",
       "    <tr>\n",
       "      <th>0</th>\n",
       "      <td>1.573329e+07</td>\n",
       "      <td>651.453567</td>\n",
       "      <td>0.524512</td>\n",
       "      <td>39.771622</td>\n",
       "      <td>5.009964</td>\n",
       "      <td>119730.116134</td>\n",
       "      <td>1.519729</td>\n",
       "      <td>0.713830</td>\n",
       "      <td>0.497409</td>\n",
       "      <td>101113.435102</td>\n",
       "      <td>0.324432</td>\n",
       "      <td>1.0</td>\n",
       "      <td>0.0</td>\n",
       "      <td>0.0</td>\n",
       "    </tr>\n",
       "    <tr>\n",
       "      <th>1</th>\n",
       "      <td>1.573465e+07</td>\n",
       "      <td>651.333872</td>\n",
       "      <td>0.560355</td>\n",
       "      <td>38.890997</td>\n",
       "      <td>5.032297</td>\n",
       "      <td>61818.147763</td>\n",
       "      <td>1.539362</td>\n",
       "      <td>0.694792</td>\n",
       "      <td>0.529673</td>\n",
       "      <td>99440.572281</td>\n",
       "      <td>0.166734</td>\n",
       "      <td>0.0</td>\n",
       "      <td>1.0</td>\n",
       "      <td>0.0</td>\n",
       "    </tr>\n",
       "    <tr>\n",
       "      <th>2</th>\n",
       "      <td>1.573339e+07</td>\n",
       "      <td>649.668329</td>\n",
       "      <td>0.549063</td>\n",
       "      <td>38.511767</td>\n",
       "      <td>5.004587</td>\n",
       "      <td>62092.636516</td>\n",
       "      <td>1.530913</td>\n",
       "      <td>0.706621</td>\n",
       "      <td>0.516753</td>\n",
       "      <td>99899.180814</td>\n",
       "      <td>0.161548</td>\n",
       "      <td>0.0</td>\n",
       "      <td>0.0</td>\n",
       "      <td>1.0</td>\n",
       "    </tr>\n",
       "  </tbody>\n",
       "</table>\n",
       "</div>"
      ],
      "text/plain": [
       "               userid       score    gender        age   objects  \\\n",
       "cluster                                                            \n",
       "0        1.573329e+07  651.453567  0.524512  39.771622  5.009964   \n",
       "1        1.573465e+07  651.333872  0.560355  38.890997  5.032297   \n",
       "2        1.573339e+07  649.668329  0.549063  38.511767  5.004587   \n",
       "\n",
       "               balance  products  creditcard   loyalty  estimated_salary  \\\n",
       "cluster                                                                    \n",
       "0        119730.116134  1.519729    0.713830  0.497409     101113.435102   \n",
       "1         61818.147763  1.539362    0.694792  0.529673      99440.572281   \n",
       "2         62092.636516  1.530913    0.706621  0.516753      99899.180814   \n",
       "\n",
       "            churn  city_Ростов Великий  city_Рыбинск  city_Ярославль  \n",
       "cluster                                                               \n",
       "0        0.324432                  1.0           0.0             0.0  \n",
       "1        0.166734                  0.0           1.0             0.0  \n",
       "2        0.161548                  0.0           0.0             1.0  "
      ]
     },
     "execution_count": 52,
     "metadata": {},
     "output_type": "execute_result"
    }
   ],
   "source": [
    "data.groupby('cluster').mean()"
   ]
  },
  {
   "cell_type": "markdown",
   "id": "6d6b35d0",
   "metadata": {},
   "source": [
    "• Самым многочисленным кластером является 2-oй, он же на 3 месте по оттоку - 16,15%.\n",
    "• Наибольший отток в кластере 0 - 32% и он на 2 месте по численности."
   ]
  },
  {
   "cell_type": "markdown",
   "id": "82ed4301",
   "metadata": {},
   "source": [
    "### 4.5 Построим распределения признаков для кластеров"
   ]
  },
  {
   "cell_type": "code",
   "execution_count": 53,
   "id": "d281957a",
   "metadata": {},
   "outputs": [
    {
     "data": {
      "image/png": "[encoded data removed]",
      "text/plain": [
       "<Figure size 360x360 with 1 Axes>"
      ]
     },
     "metadata": {
      "needs_background": "light"
     },
     "output_type": "display_data"
    },
    {
     "data": {
      "image/png": "[encoded data removed]",
      "text/plain": [
       "<Figure size 360x360 with 1 Axes>"
      ]
     },
     "metadata": {
      "needs_background": "light"
     },
     "output_type": "display_data"
    },
    {
     "data": {
      "image/png": "[encoded data removed]",
      "text/plain": [
       "<Figure size 360x360 with 1 Axes>"
      ]
     },
     "metadata": {
      "needs_background": "light"
     },
     "output_type": "display_data"
    },
    {
     "data": {
      "image/png": "[encoded data removed]",
      "text/plain": [
       "<Figure size 360x360 with 1 Axes>"
      ]
     },
     "metadata": {
      "needs_background": "light"
     },
     "output_type": "display_data"
    }
   ],
   "source": [
    "for column in ['gender', 'creditcard', 'loyalty', 'churn']:\n",
    "    plt.figure(figsize=(5, 5))\n",
    "    sns.countplot(x = data[column], hue='cluster', data=data)\n",
    "    plt.title(column)\n",
    "    plt.show()"
   ]
  },
  {
   "cell_type": "code",
   "execution_count": 54,
   "id": "3ab54b4b",
   "metadata": {},
   "outputs": [
    {
     "name": "stderr",
     "output_type": "stream",
     "text": [
      "C:\\Users\\chebu\\anaconda3\\lib\\site-packages\\seaborn\\distributions.py:2619: FutureWarning: `distplot` is a deprecated function and will be removed in a future version. Please adapt your code to use either `displot` (a figure-level function with similar flexibility) or `histplot` (an axes-level function for histograms).\n",
      "  warnings.warn(msg, FutureWarning)\n",
      "C:\\Users\\chebu\\anaconda3\\lib\\site-packages\\seaborn\\distributions.py:2619: FutureWarning: `distplot` is a deprecated function and will be removed in a future version. Please adapt your code to use either `displot` (a figure-level function with similar flexibility) or `histplot` (an axes-level function for histograms).\n",
      "  warnings.warn(msg, FutureWarning)\n",
      "C:\\Users\\chebu\\anaconda3\\lib\\site-packages\\seaborn\\distributions.py:2619: FutureWarning: `distplot` is a deprecated function and will be removed in a future version. Please adapt your code to use either `displot` (a figure-level function with similar flexibility) or `histplot` (an axes-level function for histograms).\n",
      "  warnings.warn(msg, FutureWarning)\n"
     ]
    },
    {
     "data": {
      "image/png": "[encoded data removed]",
      "text/plain": [
       "<Figure size 1600x400 with 1 Axes>"
      ]
     },
     "metadata": {
      "needs_background": "light"
     },
     "output_type": "display_data"
    },
    {
     "name": "stderr",
     "output_type": "stream",
     "text": [
      "C:\\Users\\chebu\\anaconda3\\lib\\site-packages\\seaborn\\distributions.py:2619: FutureWarning: `distplot` is a deprecated function and will be removed in a future version. Please adapt your code to use either `displot` (a figure-level function with similar flexibility) or `histplot` (an axes-level function for histograms).\n",
      "  warnings.warn(msg, FutureWarning)\n",
      "C:\\Users\\chebu\\anaconda3\\lib\\site-packages\\seaborn\\distributions.py:316: UserWarning: Dataset has 0 variance; skipping density estimate. Pass `warn_singular=False` to disable this warning.\n",
      "  warnings.warn(msg, UserWarning)\n",
      "C:\\Users\\chebu\\anaconda3\\lib\\site-packages\\seaborn\\distributions.py:2619: FutureWarning: `distplot` is a deprecated function and will be removed in a future version. Please adapt your code to use either `displot` (a figure-level function with similar flexibility) or `histplot` (an axes-level function for histograms).\n",
      "  warnings.warn(msg, FutureWarning)\n",
      "C:\\Users\\chebu\\anaconda3\\lib\\site-packages\\seaborn\\distributions.py:316: UserWarning: Dataset has 0 variance; skipping density estimate. Pass `warn_singular=False` to disable this warning.\n",
      "  warnings.warn(msg, UserWarning)\n",
      "C:\\Users\\chebu\\anaconda3\\lib\\site-packages\\seaborn\\distributions.py:2619: FutureWarning: `distplot` is a deprecated function and will be removed in a future version. Please adapt your code to use either `displot` (a figure-level function with similar flexibility) or `histplot` (an axes-level function for histograms).\n",
      "  warnings.warn(msg, FutureWarning)\n",
      "C:\\Users\\chebu\\anaconda3\\lib\\site-packages\\seaborn\\distributions.py:316: UserWarning: Dataset has 0 variance; skipping density estimate. Pass `warn_singular=False` to disable this warning.\n",
      "  warnings.warn(msg, UserWarning)\n"
     ]
    },
    {
     "data": {
      "image/png": "[encoded data removed]",
      "text/plain": [
       "<Figure size 1600x400 with 1 Axes>"
      ]
     },
     "metadata": {},
     "output_type": "display_data"
    },
    {
     "name": "stderr",
     "output_type": "stream",
     "text": [
      "C:\\Users\\chebu\\anaconda3\\lib\\site-packages\\seaborn\\distributions.py:2619: FutureWarning: `distplot` is a deprecated function and will be removed in a future version. Please adapt your code to use either `displot` (a figure-level function with similar flexibility) or `histplot` (an axes-level function for histograms).\n",
      "  warnings.warn(msg, FutureWarning)\n",
      "C:\\Users\\chebu\\anaconda3\\lib\\site-packages\\seaborn\\distributions.py:316: UserWarning: Dataset has 0 variance; skipping density estimate. Pass `warn_singular=False` to disable this warning.\n",
      "  warnings.warn(msg, UserWarning)\n",
      "C:\\Users\\chebu\\anaconda3\\lib\\site-packages\\seaborn\\distributions.py:2619: FutureWarning: `distplot` is a deprecated function and will be removed in a future version. Please adapt your code to use either `displot` (a figure-level function with similar flexibility) or `histplot` (an axes-level function for histograms).\n",
      "  warnings.warn(msg, FutureWarning)\n",
      "C:\\Users\\chebu\\anaconda3\\lib\\site-packages\\seaborn\\distributions.py:316: UserWarning: Dataset has 0 variance; skipping density estimate. Pass `warn_singular=False` to disable this warning.\n",
      "  warnings.warn(msg, UserWarning)\n",
      "C:\\Users\\chebu\\anaconda3\\lib\\site-packages\\seaborn\\distributions.py:2619: FutureWarning: `distplot` is a deprecated function and will be removed in a future version. Please adapt your code to use either `displot` (a figure-level function with similar flexibility) or `histplot` (an axes-level function for histograms).\n",
      "  warnings.warn(msg, FutureWarning)\n",
      "C:\\Users\\chebu\\anaconda3\\lib\\site-packages\\seaborn\\distributions.py:316: UserWarning: Dataset has 0 variance; skipping density estimate. Pass `warn_singular=False` to disable this warning.\n",
      "  warnings.warn(msg, UserWarning)\n"
     ]
    },
    {
     "data": {
      "image/png": "[encoded data removed]",
      "text/plain": [
       "<Figure size 1600x400 with 1 Axes>"
      ]
     },
     "metadata": {},
     "output_type": "display_data"
    },
    {
     "name": "stderr",
     "output_type": "stream",
     "text": [
      "C:\\Users\\chebu\\anaconda3\\lib\\site-packages\\seaborn\\distributions.py:2619: FutureWarning: `distplot` is a deprecated function and will be removed in a future version. Please adapt your code to use either `displot` (a figure-level function with similar flexibility) or `histplot` (an axes-level function for histograms).\n",
      "  warnings.warn(msg, FutureWarning)\n",
      "C:\\Users\\chebu\\anaconda3\\lib\\site-packages\\seaborn\\distributions.py:316: UserWarning: Dataset has 0 variance; skipping density estimate. Pass `warn_singular=False` to disable this warning.\n",
      "  warnings.warn(msg, UserWarning)\n",
      "C:\\Users\\chebu\\anaconda3\\lib\\site-packages\\seaborn\\distributions.py:2619: FutureWarning: `distplot` is a deprecated function and will be removed in a future version. Please adapt your code to use either `displot` (a figure-level function with similar flexibility) or `histplot` (an axes-level function for histograms).\n",
      "  warnings.warn(msg, FutureWarning)\n",
      "C:\\Users\\chebu\\anaconda3\\lib\\site-packages\\seaborn\\distributions.py:316: UserWarning: Dataset has 0 variance; skipping density estimate. Pass `warn_singular=False` to disable this warning.\n",
      "  warnings.warn(msg, UserWarning)\n",
      "C:\\Users\\chebu\\anaconda3\\lib\\site-packages\\seaborn\\distributions.py:2619: FutureWarning: `distplot` is a deprecated function and will be removed in a future version. Please adapt your code to use either `displot` (a figure-level function with similar flexibility) or `histplot` (an axes-level function for histograms).\n",
      "  warnings.warn(msg, FutureWarning)\n",
      "C:\\Users\\chebu\\anaconda3\\lib\\site-packages\\seaborn\\distributions.py:316: UserWarning: Dataset has 0 variance; skipping density estimate. Pass `warn_singular=False` to disable this warning.\n",
      "  warnings.warn(msg, UserWarning)\n"
     ]
    },
    {
     "data": {
      "image/png": "[encoded data removed]",
      "text/plain": [
       "<Figure size 1600x400 with 1 Axes>"
      ]
     },
     "metadata": {},
     "output_type": "display_data"
    },
    {
     "name": "stderr",
     "output_type": "stream",
     "text": [
      "C:\\Users\\chebu\\anaconda3\\lib\\site-packages\\seaborn\\distributions.py:2619: FutureWarning: `distplot` is a deprecated function and will be removed in a future version. Please adapt your code to use either `displot` (a figure-level function with similar flexibility) or `histplot` (an axes-level function for histograms).\n",
      "  warnings.warn(msg, FutureWarning)\n",
      "C:\\Users\\chebu\\anaconda3\\lib\\site-packages\\seaborn\\distributions.py:2619: FutureWarning: `distplot` is a deprecated function and will be removed in a future version. Please adapt your code to use either `displot` (a figure-level function with similar flexibility) or `histplot` (an axes-level function for histograms).\n",
      "  warnings.warn(msg, FutureWarning)\n",
      "C:\\Users\\chebu\\anaconda3\\lib\\site-packages\\seaborn\\distributions.py:2619: FutureWarning: `distplot` is a deprecated function and will be removed in a future version. Please adapt your code to use either `displot` (a figure-level function with similar flexibility) or `histplot` (an axes-level function for histograms).\n",
      "  warnings.warn(msg, FutureWarning)\n"
     ]
    },
    {
     "data": {
      "image/png": "[encoded data removed]",
      "text/plain": [
       "<Figure size 1600x400 with 1 Axes>"
      ]
     },
     "metadata": {},
     "output_type": "display_data"
    },
    {
     "name": "stderr",
     "output_type": "stream",
     "text": [
      "C:\\Users\\chebu\\anaconda3\\lib\\site-packages\\seaborn\\distributions.py:2619: FutureWarning: `distplot` is a deprecated function and will be removed in a future version. Please adapt your code to use either `displot` (a figure-level function with similar flexibility) or `histplot` (an axes-level function for histograms).\n",
      "  warnings.warn(msg, FutureWarning)\n",
      "C:\\Users\\chebu\\anaconda3\\lib\\site-packages\\seaborn\\distributions.py:2619: FutureWarning: `distplot` is a deprecated function and will be removed in a future version. Please adapt your code to use either `displot` (a figure-level function with similar flexibility) or `histplot` (an axes-level function for histograms).\n",
      "  warnings.warn(msg, FutureWarning)\n",
      "C:\\Users\\chebu\\anaconda3\\lib\\site-packages\\seaborn\\distributions.py:2619: FutureWarning: `distplot` is a deprecated function and will be removed in a future version. Please adapt your code to use either `displot` (a figure-level function with similar flexibility) or `histplot` (an axes-level function for histograms).\n",
      "  warnings.warn(msg, FutureWarning)\n"
     ]
    },
    {
     "data": {
      "image/png": "[encoded data removed]",
      "text/plain": [
       "<Figure size 1600x400 with 1 Axes>"
      ]
     },
     "metadata": {},
     "output_type": "display_data"
    },
    {
     "name": "stderr",
     "output_type": "stream",
     "text": [
      "C:\\Users\\chebu\\anaconda3\\lib\\site-packages\\seaborn\\distributions.py:2619: FutureWarning: `distplot` is a deprecated function and will be removed in a future version. Please adapt your code to use either `displot` (a figure-level function with similar flexibility) or `histplot` (an axes-level function for histograms).\n",
      "  warnings.warn(msg, FutureWarning)\n",
      "C:\\Users\\chebu\\anaconda3\\lib\\site-packages\\seaborn\\distributions.py:2619: FutureWarning: `distplot` is a deprecated function and will be removed in a future version. Please adapt your code to use either `displot` (a figure-level function with similar flexibility) or `histplot` (an axes-level function for histograms).\n",
      "  warnings.warn(msg, FutureWarning)\n",
      "C:\\Users\\chebu\\anaconda3\\lib\\site-packages\\seaborn\\distributions.py:2619: FutureWarning: `distplot` is a deprecated function and will be removed in a future version. Please adapt your code to use either `displot` (a figure-level function with similar flexibility) or `histplot` (an axes-level function for histograms).\n",
      "  warnings.warn(msg, FutureWarning)\n"
     ]
    },
    {
     "data": {
      "image/png": "[encoded data removed]",
      "text/plain": [
       "<Figure size 1600x400 with 1 Axes>"
      ]
     },
     "metadata": {},
     "output_type": "display_data"
    },
    {
     "name": "stderr",
     "output_type": "stream",
     "text": [
      "C:\\Users\\chebu\\anaconda3\\lib\\site-packages\\seaborn\\distributions.py:2619: FutureWarning: `distplot` is a deprecated function and will be removed in a future version. Please adapt your code to use either `displot` (a figure-level function with similar flexibility) or `histplot` (an axes-level function for histograms).\n",
      "  warnings.warn(msg, FutureWarning)\n",
      "C:\\Users\\chebu\\anaconda3\\lib\\site-packages\\seaborn\\distributions.py:2619: FutureWarning: `distplot` is a deprecated function and will be removed in a future version. Please adapt your code to use either `displot` (a figure-level function with similar flexibility) or `histplot` (an axes-level function for histograms).\n",
      "  warnings.warn(msg, FutureWarning)\n",
      "C:\\Users\\chebu\\anaconda3\\lib\\site-packages\\seaborn\\distributions.py:2619: FutureWarning: `distplot` is a deprecated function and will be removed in a future version. Please adapt your code to use either `displot` (a figure-level function with similar flexibility) or `histplot` (an axes-level function for histograms).\n",
      "  warnings.warn(msg, FutureWarning)\n"
     ]
    },
    {
     "data": {
      "image/png": "[encoded data removed]",
      "text/plain": [
       "<Figure size 1600x400 with 1 Axes>"
      ]
     },
     "metadata": {},
     "output_type": "display_data"
    },
    {
     "name": "stderr",
     "output_type": "stream",
     "text": [
      "C:\\Users\\chebu\\anaconda3\\lib\\site-packages\\seaborn\\distributions.py:2619: FutureWarning: `distplot` is a deprecated function and will be removed in a future version. Please adapt your code to use either `displot` (a figure-level function with similar flexibility) or `histplot` (an axes-level function for histograms).\n",
      "  warnings.warn(msg, FutureWarning)\n",
      "C:\\Users\\chebu\\anaconda3\\lib\\site-packages\\seaborn\\distributions.py:2619: FutureWarning: `distplot` is a deprecated function and will be removed in a future version. Please adapt your code to use either `displot` (a figure-level function with similar flexibility) or `histplot` (an axes-level function for histograms).\n",
      "  warnings.warn(msg, FutureWarning)\n",
      "C:\\Users\\chebu\\anaconda3\\lib\\site-packages\\seaborn\\distributions.py:2619: FutureWarning: `distplot` is a deprecated function and will be removed in a future version. Please adapt your code to use either `displot` (a figure-level function with similar flexibility) or `histplot` (an axes-level function for histograms).\n",
      "  warnings.warn(msg, FutureWarning)\n"
     ]
    },
    {
     "data": {
      "image/png": "[encoded data removed]",
      "text/plain": [
       "<Figure size 1600x400 with 1 Axes>"
      ]
     },
     "metadata": {},
     "output_type": "display_data"
    }
   ],
   "source": [
    "for column in ['score', 'city_Ростов Великий', 'city_Рыбинск', 'city_Ярославль', 'age', 'objects', 'balance', 'products', 'estimated_salary']:\n",
    "    plt.figure(figsize=(20,5), dpi= 80)\n",
    "    plt.title(column)   \n",
    "    sns.distplot(data.query('cluster==0')[column], label = 'Кластер 0')\n",
    "    sns.distplot(data.query('cluster==1')[column], label = 'Кластер 1')\n",
    "    sns.distplot(data.query('cluster==2')[column], label = 'Кластер 2')\n",
    "    plt.legend(loc = 2)\n",
    "    sns.set_style('whitegrid')\n",
    "    plt.grid()\n",
    "    plt.legend()\n",
    "    plt.show()"
   ]
  },
  {
   "cell_type": "markdown",
   "id": "a24a013e",
   "metadata": {},
   "source": [
    "## Вывод"
   ]
  },
  {
   "cell_type": "markdown",
   "id": "532d38ca",
   "metadata": {},
   "source": [
    "Мы разбили всех наших клиентов на 3 группы\n",
    "\n",
    "Как выяснилось, клиентов мужщин больше, чем женщин; средний возраст 38-40 лет; баллов скорринга в среднем у всех одинаково; в среднем везде по 5 объектов, баланс в 0 кластере самый высокий; в среднем продуктов 2, кредитных карт больше есть, чем их нет;по лояльности клиенты одинаковы, заработная плата в среднем у всех одинакова.\n",
    "\n",
    "Распишем каждый кластер в отдельности:\n",
    "\n",
    "Кластер 0\n",
    "\n",
    "* Отток - 32,44% - самый высокий\n",
    "* Женщин в этом кластере больше всего, но мужщин по количеству все равно больше\n",
    "* возраст 40 лет\n",
    "* Продуктов в среднем 5\n",
    "* Самый высокий баланс на карточке (120 т.р)\n",
    "* Самый большой процент кредитных карт в наличии\n",
    "* менее лояльные клиенты(на 1 месте)\n",
    "* больше всего зп на карте (на 1 месте).\n",
    "* Клиенты из Ростова\n",
    "\n",
    "Кластер 1\n",
    "\n",
    "* Отток - 16,67% \n",
    "* Женщин в этом кластере меньше всего, но мужщин по количеству все равно больше\n",
    "* возраст ближе к 39 \n",
    "* Продуктов в среднем 5\n",
    "* Самый низкий баланс на карте(61,8 т.р)\n",
    "* Самый маленький  процент кредитных карт в наличии\n",
    "* по лояльности клиенты(на 1 месте)\n",
    "* меньше всего зп на карте (на 3 месте).\n",
    "* Клиенты из Рыбинска\n",
    "\n",
    "Кластер 2\n",
    "\n",
    "* Женщин в этом кластере так же меньше чем мужщин по количеству \n",
    "* возраст ближе к 39 \n",
    "* Продуктов в среднем 5\n",
    "* Баланс на карте(62 т.р)\n",
    "* на 2 месте по  проценту кредитных карт в наличии\n",
    "* по лояльности клиенты(на 2 месте)\n",
    "* Зп на карте почто так же как в 2 кластере.\n",
    "* Клиенты из Ярославля"
   ]
  },
  {
   "cell_type": "markdown",
   "id": "f890ca05",
   "metadata": {},
   "source": [
    "В отток чаще всего уходят клиенты из кластера 0"
   ]
  },
  {
   "cell_type": "markdown",
   "id": "1e8b7398",
   "metadata": {},
   "source": [
    "# Шаг 5. Сформулируйте и проверьте статистические гипотезы"
   ]
  },
  {
   "cell_type": "markdown",
   "id": "535bdfe3",
   "metadata": {},
   "source": [
    "У нас есть 2 группы: churn1 - клиенты которые ушли в отток и группа churn0 - клиенты которые остались."
   ]
  },
  {
   "cell_type": "markdown",
   "id": "3b62cf84",
   "metadata": {},
   "source": [
    "### 5.1 Посчитаем статистическую значимость различий в среднем доходе между теми, кто ушёл и теми, кто остался"
   ]
  },
  {
   "cell_type": "markdown",
   "id": "a15f30d7",
   "metadata": {},
   "source": [
    "Гипотезы\n",
    "\n",
    "H0: Между группами churn1 и churn0 нет различий в среднем доходе\n",
    "\n",
    "H1: Между группами churn1 и churn0 есть различие в среднем доходе"
   ]
  },
  {
   "cell_type": "code",
   "execution_count": 55,
   "id": "4e7512a9",
   "metadata": {},
   "outputs": [
    {
     "data": {
      "text/plain": [
       "churn\n",
       "0     99738.391772\n",
       "1    101465.677531\n",
       "Name: estimated_salary, dtype: float64"
      ]
     },
     "execution_count": 55,
     "metadata": {},
     "output_type": "execute_result"
    }
   ],
   "source": [
    "#Посмотрим на разницу в среднем доходе между группами\n",
    "data.groupby('churn')['estimated_salary'].mean()"
   ]
  },
  {
   "cell_type": "code",
   "execution_count": 56,
   "id": "97f393d6",
   "metadata": {},
   "outputs": [
    {
     "name": "stdout",
     "output_type": "stream",
     "text": [
      "p-значение: 0.22644042802223346\n",
      "Не получилось отвергнуть нулевую гипотезу\n"
     ]
    }
   ],
   "source": [
    "alpha = 0.05\n",
    "salary_1 = data.query('churn == 1')['estimated_salary']\n",
    "salary_2 = data.query('churn == 0')['estimated_salary']\n",
    "results = st.ttest_ind(salary_1, salary_2)\n",
    "\n",
    "print('p-значение:', results.pvalue)\n",
    "\n",
    "if (results.pvalue < alpha):\n",
    "    print(\"Отвергаем нулевую гипотезу\")\n",
    "else:\n",
    "    print(\"Не получилось отвергнуть нулевую гипотезу\") "
   ]
  },
  {
   "cell_type": "markdown",
   "id": "ffa5f08e",
   "metadata": {},
   "source": [
    "### 5.2  Посчитаем статистическую значимость различий в возрасте между теми, кто ушёл и теми, кто остался"
   ]
  },
  {
   "cell_type": "markdown",
   "id": "453c41e9",
   "metadata": {},
   "source": [
    "Гипотезы\n",
    "\n",
    "H0: Между группами churn и no_churn нет различий в среднем возрасте\n",
    "    \n",
    "H1: Между группами churn и no_churn есть различие в среднем возрасте"
   ]
  },
  {
   "cell_type": "code",
   "execution_count": 57,
   "id": "b9af9199",
   "metadata": {},
   "outputs": [
    {
     "data": {
      "text/plain": [
       "churn\n",
       "0    37.408389\n",
       "1    44.837997\n",
       "Name: age, dtype: float64"
      ]
     },
     "execution_count": 57,
     "metadata": {},
     "output_type": "execute_result"
    }
   ],
   "source": [
    "data.groupby('churn')['age'].mean()"
   ]
  },
  {
   "cell_type": "markdown",
   "id": "0a5d552f",
   "metadata": {},
   "source": [
    "У клиентов из оттока средний возраст выше на 8 лет. "
   ]
  },
  {
   "cell_type": "code",
   "execution_count": 58,
   "id": "34aa0394",
   "metadata": {},
   "outputs": [
    {
     "name": "stdout",
     "output_type": "stream",
     "text": [
      "p-значение: 1.2399313093427738e-186\n",
      "Отвергаем нулевую гипотезу\n"
     ]
    }
   ],
   "source": [
    "age_1 = data.query('churn == 1')['age']\n",
    "age_0 = data.query('churn == 0')['age']\n",
    "results = st.ttest_ind(age_1, age_0)\n",
    "\n",
    "print('p-значение:', results.pvalue)\n",
    "\n",
    "if (results.pvalue < alpha):\n",
    "    print(\"Отвергаем нулевую гипотезу\")\n",
    "else:\n",
    "    print(\"Не получилось отвергнуть нулевую гипотезу\") "
   ]
  },
  {
   "cell_type": "markdown",
   "id": "c3dbc03f",
   "metadata": {},
   "source": [
    "## Вывод"
   ]
  },
  {
   "cell_type": "markdown",
   "id": "76badf8a",
   "metadata": {},
   "source": [
    "Задали alpha  = 0,05\n",
    "\n",
    "Так везде использовали гипотезы о равенстве средних значений двух совокупностей, использовали тест Стьюдента\n",
    "\n",
    "После проверки гипотез можем сделать следующие выводы:\n",
    "\n",
    "Доход не влияет на отток\n",
    "\n",
    "Возраст клиента влияет на отток (чем выше возраст - вероятнее отток)"
   ]
  },
  {
   "cell_type": "markdown",
   "id": "779a3119",
   "metadata": {},
   "source": [
    "# Шаг 6. Сформулируем выводы и сделаем базовые рекомендации по работе с клиентами"
   ]
  },
  {
   "cell_type": "markdown",
   "id": "f190af46",
   "metadata": {},
   "source": [
    "Данные состоят из 10 000 уникальных клиентов, из 3 городах. Из них 80% лояльных и 20% ушедших в отток.\n",
    "\n",
    "Клиенты банка это людьми с высоким уровнем дохода (более 100 000 руб.), среднего возраста (30-55 лет) и клиенты имеют 5 и более объектов во владении, со средним уровнем кредитного скоринга, по полу выборка распределена равномерно."
   ]
  },
  {
   "cell_type": "markdown",
   "id": "372d757b",
   "metadata": {},
   "source": [
    "Признаки клиентов, которые склонны уходить в отток:\n",
    "\n",
    "* клиенты проживают в Ростове Великом\n",
    "* в отток больше попадают женщины\n",
    "* клиенты среднего возраста (45 лет). \n",
    "* клиенты имеют более 5 объектов в собственности, таких клиентов больше всего в данной выборке.\n",
    "* клиенты со средним уровнем кредитного скоринга (645 баллов).\n",
    "* неактивные клиенты\n",
    "* у клиента есть кредитная карта\n",
    "* клиенты с высоким уровнем дохода (более 100к).\n",
    "* клиенты пользующиеся 1 продуктами (в случае 4 продуктов это 100%-ый отток)."
   ]
  },
  {
   "cell_type": "markdown",
   "id": "0a2b11e2",
   "metadata": {},
   "source": [
    "Кластер 0\n",
    "\n",
    "* Отток - 32,44% - самый высокий\n",
    "* Женщина/мужчина\n",
    "* возраст 40 лет\n",
    "* Продуктов в среднем 5\n",
    "* баланс на карточке (120 т.р)\n",
    "* кредитная карта в наличии\n",
    "* менее лояльные клиенты\n",
    "* зарплата на карте 100000р\n",
    "* Клиент из Ростова\n",
    "\n",
    "Кластер 1\n",
    "* Отток - 16,67% - самый высокий\n",
    "* Женщина/мужчина\n",
    "* возраст 39 лет\n",
    "* Продуктов в среднем 5\n",
    "* баланс на карточке (61,8 т.р)\n",
    "* кредитная карта в наличии\n",
    "* лояльные клиенты\n",
    "* зарплата на карте 100000р\n",
    "* Клиент из Рыбинска\n",
    " \n",
    "Кластер 2\n",
    "\n",
    "* Отток - 16,15% \n",
    "* Женщина/мужчина\n",
    "* возраст 39 лет\n",
    "* Продуктов в среднем 5\n",
    "* баланс на карточке (62 т.р)\n",
    "* кредитная карта в наличии\n",
    "* лояльные клиенты\n",
    "* зарплата на карте 100000р\n",
    "* Клиенты из Ярославля"
   ]
  },
  {
   "cell_type": "markdown",
   "id": "e14b3273",
   "metadata": {},
   "source": [
    "Портрет клиента, склонного уходить из банка\n",
    "Вероятнее всего это:\n",
    "\n",
    "* Клиент из Ростова\n",
    "* Возраст около 45 лет\n",
    "* Женщина\n",
    "* С невысокой активностью"
   ]
  },
  {
   "cell_type": "markdown",
   "id": "d7ae3080",
   "metadata": {},
   "source": [
    "После проверки гипотез можем сделать следующие выводы:\n",
    "\n",
    "* Доход не влияет на отток\n",
    "* Возраст клиента влияет на отток (чем выше возраст - вероятнее отток)"
   ]
  },
  {
   "cell_type": "markdown",
   "id": "3b6aa49e",
   "metadata": {},
   "source": [
    "В рамках анализа были построены модели прогнозирования оттока клиентов и модель кластеризации, что позволят прогнозировать отток среди существующих и новых клиентов."
   ]
  },
  {
   "cell_type": "markdown",
   "id": "70669923",
   "metadata": {},
   "source": [
    "### Рекомендации\n",
    "\n",
    "у 36,17 % клиентов в выборке отсутствующие значения в столбце с балансом счета. Это может быть результатом того, что система так распознает тех, у кого нет дебетовой карты. \n",
    "Такие случаи выявлены только в двух городах -Ярославле и Рыбинске. Стоит изучить этот момент более детально. Я могу сделать вывод,что люди которые проживают в Ярославле и Рыбинске имеют счет с дебетовыми картами в другом банке, (работодатель пользуется другим банком). А в этом банке они просто открыли кредитку и просто хранят свои сбережения.\n",
    "\n",
    "При использовании 4 продуктов у клиентов 100% отток, это явление так же стоит изучить более детально.\n",
    "\n",
    "Для работы с клиентами наиболее склонными к оттоку внутри категорий можно разработать специальные предложения. \n",
    "Пример: \n",
    "* для людей пенсионного возраста ввести льготы на продукты и услуги, так как они наиболее склонны к оттоку.\n",
    "* пуш-уведомления в период когда клиент менее активен с работой банка\n",
    "* расширение услуг\n",
    "* возможное снижение комиссий для старых и выгодных клиентов"
   ]
  },
  {
   "cell_type": "markdown",
   "id": "77d71d74",
   "metadata": {},
   "source": [
    "# Материалы\n",
    "* Презинтация https://disk.yandex.ru/i/6tztamH3wdPNzQ"
   ]
  },
  {
   "cell_type": "code",
   "execution_count": null,
   "id": "847d5695",
   "metadata": {},
   "outputs": [],
   "source": []
  }
 ],
 "metadata": {
  "ExecuteTimeLog": [
   {
    "duration": 1714,
    "start_time": "2022-08-13T12:05:42.370Z"
   },
   {
    "duration": 100,
    "start_time": "2022-08-13T12:05:44.087Z"
   },
   {
    "duration": 3,
    "start_time": "2022-08-13T12:05:44.188Z"
   },
   {
    "duration": 16,
    "start_time": "2022-08-13T12:05:44.194Z"
   },
   {
    "duration": 12,
    "start_time": "2022-08-13T12:05:44.211Z"
   },
   {
    "duration": 5,
    "start_time": "2022-08-13T12:05:44.224Z"
   },
   {
    "duration": 37,
    "start_time": "2022-08-13T12:05:44.230Z"
   },
   {
    "duration": 2,
    "start_time": "2022-08-13T12:05:44.268Z"
   },
   {
    "duration": 105,
    "start_time": "2022-08-13T12:05:44.271Z"
   },
   {
    "duration": 141,
    "start_time": "2022-08-13T12:05:44.379Z"
   },
   {
    "duration": 108,
    "start_time": "2022-08-13T12:05:44.522Z"
   },
   {
    "duration": 126,
    "start_time": "2022-08-13T12:05:44.631Z"
   },
   {
    "duration": 109,
    "start_time": "2022-08-13T12:05:44.759Z"
   },
   {
    "duration": 121,
    "start_time": "2022-08-13T12:05:44.870Z"
   },
   {
    "duration": 88,
    "start_time": "2022-08-13T12:05:44.993Z"
   },
   {
    "duration": 101,
    "start_time": "2022-08-13T12:05:45.083Z"
   },
   {
    "duration": 157,
    "start_time": "2022-08-13T12:05:45.185Z"
   },
   {
    "duration": 158,
    "start_time": "2022-08-13T12:05:45.343Z"
   },
   {
    "duration": 9,
    "start_time": "2022-08-13T12:05:45.509Z"
   },
   {
    "duration": 7,
    "start_time": "2022-08-13T12:05:45.520Z"
   },
   {
    "duration": 10,
    "start_time": "2022-08-13T12:05:45.528Z"
   },
   {
    "duration": 15,
    "start_time": "2022-08-13T12:05:45.539Z"
   },
   {
    "duration": 12,
    "start_time": "2022-08-13T12:05:45.555Z"
   },
   {
    "duration": 42,
    "start_time": "2022-08-13T12:05:45.568Z"
   },
   {
    "duration": 246,
    "start_time": "2022-08-13T12:05:45.611Z"
   },
   {
    "duration": 254,
    "start_time": "2022-08-13T12:05:45.858Z"
   },
   {
    "duration": 219,
    "start_time": "2022-08-13T12:05:46.114Z"
   },
   {
    "duration": 250,
    "start_time": "2022-08-13T12:05:46.336Z"
   },
   {
    "duration": 264,
    "start_time": "2022-08-13T12:05:46.588Z"
   },
   {
    "duration": 320,
    "start_time": "2022-08-13T12:05:46.853Z"
   },
   {
    "duration": 257,
    "start_time": "2022-08-13T12:05:47.174Z"
   },
   {
    "duration": 252,
    "start_time": "2022-08-13T12:05:47.432Z"
   },
   {
    "duration": 236,
    "start_time": "2022-08-13T12:05:47.686Z"
   },
   {
    "duration": 280,
    "start_time": "2022-08-13T12:05:47.923Z"
   },
   {
    "duration": 887,
    "start_time": "2022-08-13T12:05:48.210Z"
   },
   {
    "duration": 3,
    "start_time": "2022-08-13T12:05:49.099Z"
   },
   {
    "duration": 14,
    "start_time": "2022-08-13T12:05:49.103Z"
   },
   {
    "duration": 10,
    "start_time": "2022-08-13T12:05:49.118Z"
   },
   {
    "duration": 9,
    "start_time": "2022-08-13T12:05:49.129Z"
   },
   {
    "duration": 12,
    "start_time": "2022-08-13T12:05:49.139Z"
   },
   {
    "duration": 4128,
    "start_time": "2022-08-13T12:05:49.153Z"
   },
   {
    "duration": 224559,
    "start_time": "2022-08-13T12:05:53.282Z"
   },
   {
    "duration": 3,
    "start_time": "2022-08-13T12:09:37.842Z"
   },
   {
    "duration": 1863,
    "start_time": "2022-08-13T12:09:37.846Z"
   },
   {
    "duration": 7,
    "start_time": "2022-08-13T12:09:39.711Z"
   },
   {
    "duration": 15,
    "start_time": "2022-08-13T12:09:39.719Z"
   },
   {
    "duration": 5,
    "start_time": "2022-08-13T12:09:39.736Z"
   },
   {
    "duration": 5184,
    "start_time": "2022-08-13T12:09:39.742Z"
   },
   {
    "duration": 6,
    "start_time": "2022-08-13T12:09:44.928Z"
   },
   {
    "duration": 10,
    "start_time": "2022-08-13T12:09:44.935Z"
   },
   {
    "duration": 7,
    "start_time": "2022-08-13T12:09:44.946Z"
   },
   {
    "duration": 8,
    "start_time": "2022-08-13T12:09:44.955Z"
   },
   {
    "duration": 51,
    "start_time": "2022-08-14T09:40:26.882Z"
   },
   {
    "duration": 1532,
    "start_time": "2022-08-14T09:40:38.543Z"
   },
   {
    "duration": 122,
    "start_time": "2022-08-14T09:40:40.077Z"
   },
   {
    "duration": 15,
    "start_time": "2022-08-14T09:40:40.202Z"
   },
   {
    "duration": 4,
    "start_time": "2022-08-14T09:40:40.219Z"
   },
   {
    "duration": 23,
    "start_time": "2022-08-14T09:40:40.226Z"
   },
   {
    "duration": 12,
    "start_time": "2022-08-14T09:40:40.251Z"
   },
   {
    "duration": 27,
    "start_time": "2022-08-14T09:40:40.265Z"
   },
   {
    "duration": 50,
    "start_time": "2022-08-14T09:40:40.294Z"
   },
   {
    "duration": 4,
    "start_time": "2022-08-14T09:40:40.345Z"
   },
   {
    "duration": 114,
    "start_time": "2022-08-14T09:40:40.350Z"
   },
   {
    "duration": 130,
    "start_time": "2022-08-14T09:40:40.466Z"
   },
   {
    "duration": 98,
    "start_time": "2022-08-14T09:40:40.598Z"
   },
   {
    "duration": 122,
    "start_time": "2022-08-14T09:40:40.698Z"
   },
   {
    "duration": 114,
    "start_time": "2022-08-14T09:40:40.823Z"
   },
   {
    "duration": 117,
    "start_time": "2022-08-14T09:40:40.939Z"
   },
   {
    "duration": 103,
    "start_time": "2022-08-14T09:40:41.058Z"
   },
   {
    "duration": 192,
    "start_time": "2022-08-14T09:40:41.162Z"
   },
   {
    "duration": 147,
    "start_time": "2022-08-14T09:40:41.356Z"
   },
   {
    "duration": 120,
    "start_time": "2022-08-14T09:40:41.504Z"
   },
   {
    "duration": 7,
    "start_time": "2022-08-14T09:40:41.626Z"
   },
   {
    "duration": 8,
    "start_time": "2022-08-14T09:40:41.635Z"
   },
   {
    "duration": 13,
    "start_time": "2022-08-14T09:40:41.645Z"
   },
   {
    "duration": 41,
    "start_time": "2022-08-14T09:40:41.660Z"
   },
   {
    "duration": 16,
    "start_time": "2022-08-14T09:40:41.703Z"
   },
   {
    "duration": 13,
    "start_time": "2022-08-14T09:40:41.721Z"
   },
   {
    "duration": 316,
    "start_time": "2022-08-14T09:40:41.736Z"
   },
   {
    "duration": 286,
    "start_time": "2022-08-14T09:40:42.054Z"
   },
   {
    "duration": 253,
    "start_time": "2022-08-14T09:40:42.342Z"
   },
   {
    "duration": 309,
    "start_time": "2022-08-14T09:40:42.597Z"
   },
   {
    "duration": 401,
    "start_time": "2022-08-14T09:40:42.908Z"
   },
   {
    "duration": 277,
    "start_time": "2022-08-14T09:40:43.310Z"
   },
   {
    "duration": 291,
    "start_time": "2022-08-14T09:40:43.589Z"
   },
   {
    "duration": 286,
    "start_time": "2022-08-14T09:40:43.887Z"
   },
   {
    "duration": 276,
    "start_time": "2022-08-14T09:40:44.175Z"
   },
   {
    "duration": 324,
    "start_time": "2022-08-14T09:40:44.453Z"
   },
   {
    "duration": 1393,
    "start_time": "2022-08-14T09:40:48.514Z"
   },
   {
    "duration": 53,
    "start_time": "2022-08-14T09:40:49.909Z"
   },
   {
    "duration": 13,
    "start_time": "2022-08-14T09:40:49.963Z"
   },
   {
    "duration": 3,
    "start_time": "2022-08-14T09:40:49.978Z"
   },
   {
    "duration": 13,
    "start_time": "2022-08-14T09:40:49.983Z"
   },
   {
    "duration": 9,
    "start_time": "2022-08-14T09:40:49.998Z"
   },
   {
    "duration": 6,
    "start_time": "2022-08-14T09:40:50.009Z"
   },
   {
    "duration": 56,
    "start_time": "2022-08-14T09:40:50.017Z"
   },
   {
    "duration": 12,
    "start_time": "2022-08-14T09:40:50.076Z"
   },
   {
    "duration": 97,
    "start_time": "2022-08-14T09:40:50.091Z"
   },
   {
    "duration": 130,
    "start_time": "2022-08-14T09:40:50.190Z"
   },
   {
    "duration": 96,
    "start_time": "2022-08-14T09:40:50.321Z"
   },
   {
    "duration": 144,
    "start_time": "2022-08-14T09:40:50.420Z"
   },
   {
    "duration": 124,
    "start_time": "2022-08-14T09:40:50.566Z"
   },
   {
    "duration": 127,
    "start_time": "2022-08-14T09:40:50.692Z"
   },
   {
    "duration": 105,
    "start_time": "2022-08-14T09:40:50.822Z"
   },
   {
    "duration": 212,
    "start_time": "2022-08-14T09:40:50.929Z"
   },
   {
    "duration": 151,
    "start_time": "2022-08-14T09:40:51.143Z"
   },
   {
    "duration": 140,
    "start_time": "2022-08-14T09:40:51.296Z"
   },
   {
    "duration": 7,
    "start_time": "2022-08-14T09:40:51.438Z"
   },
   {
    "duration": 19,
    "start_time": "2022-08-14T09:40:51.447Z"
   },
   {
    "duration": 17,
    "start_time": "2022-08-14T09:40:51.468Z"
   },
   {
    "duration": 19,
    "start_time": "2022-08-14T09:40:51.487Z"
   },
   {
    "duration": 15,
    "start_time": "2022-08-14T09:40:51.507Z"
   },
   {
    "duration": 18,
    "start_time": "2022-08-14T09:40:51.523Z"
   },
   {
    "duration": 309,
    "start_time": "2022-08-14T09:40:51.543Z"
   },
   {
    "duration": 300,
    "start_time": "2022-08-14T09:40:51.854Z"
   },
   {
    "duration": 266,
    "start_time": "2022-08-14T09:40:52.158Z"
   },
   {
    "duration": 350,
    "start_time": "2022-08-14T09:40:52.427Z"
   },
   {
    "duration": 398,
    "start_time": "2022-08-14T09:40:52.779Z"
   },
   {
    "duration": 300,
    "start_time": "2022-08-14T09:40:53.178Z"
   },
   {
    "duration": 334,
    "start_time": "2022-08-14T09:40:53.479Z"
   },
   {
    "duration": 303,
    "start_time": "2022-08-14T09:40:53.814Z"
   },
   {
    "duration": 307,
    "start_time": "2022-08-14T09:40:54.119Z"
   },
   {
    "duration": 351,
    "start_time": "2022-08-14T09:40:54.428Z"
   },
   {
    "duration": 1006,
    "start_time": "2022-08-14T09:40:54.780Z"
   },
   {
    "duration": 4,
    "start_time": "2022-08-14T09:40:55.788Z"
   },
   {
    "duration": 17,
    "start_time": "2022-08-14T09:40:55.794Z"
   },
   {
    "duration": 12,
    "start_time": "2022-08-14T09:40:55.813Z"
   },
   {
    "duration": 10,
    "start_time": "2022-08-14T09:40:55.827Z"
   },
   {
    "duration": 21,
    "start_time": "2022-08-14T09:40:55.838Z"
   },
   {
    "duration": 5437,
    "start_time": "2022-08-14T09:40:55.862Z"
   },
   {
    "duration": 1782,
    "start_time": "2022-08-18T20:50:38.518Z"
   },
   {
    "duration": 91,
    "start_time": "2022-08-18T20:50:40.949Z"
   },
   {
    "duration": 12,
    "start_time": "2022-08-18T20:50:44.041Z"
   },
   {
    "duration": 2,
    "start_time": "2022-08-18T20:50:48.239Z"
   },
   {
    "duration": 19,
    "start_time": "2022-08-18T20:50:48.722Z"
   },
   {
    "duration": 8,
    "start_time": "2022-08-18T20:50:50.460Z"
   },
   {
    "duration": 5,
    "start_time": "2022-08-18T20:50:53.811Z"
   },
   {
    "duration": 5,
    "start_time": "2022-08-18T20:51:26.250Z"
   },
   {
    "duration": 10,
    "start_time": "2022-08-18T21:14:02.922Z"
   },
   {
    "duration": 10,
    "start_time": "2022-08-18T21:14:04.422Z"
   },
   {
    "duration": 1421,
    "start_time": "2022-08-18T21:14:05.480Z"
   }
  ],
  "kernelspec": {
   "display_name": "Python 3 (ipykernel)",
   "language": "python",
   "name": "python3"
  },
  "language_info": {
   "codemirror_mode": {
    "name": "ipython",
    "version": 3
   },
   "file_extension": ".py",
   "mimetype": "text/x-python",
   "name": "python",
   "nbconvert_exporter": "python",
   "pygments_lexer": "ipython3",
   "version": "3.9.7"
  },
  "toc": {
   "base_numbering": 1,
   "nav_menu": {},
   "number_sections": true,
   "sideBar": true,
   "skip_h1_title": true,
   "title_cell": "Table of Contents",
   "title_sidebar": "Contents",
   "toc_cell": false,
   "toc_position": {},
   "toc_section_display": true,
   "toc_window_display": false
  }
 },
 "nbformat": 4,
 "nbformat_minor": 5
}
