{
 "cells": [
  {
   "cell_type": "markdown",
   "metadata": {
    "id": "E0vqbgi9ay0H"
   },
   "source": [
    "# Яндекс.Музыка"
   ]
  },
  {
   "cell_type": "markdown",
   "metadata": {
    "id": "VUC88oWjTJw2"
   },
   "source": [
    "Сравнение Москвы и Петербурга окружено мифами. Например:\n",
    " * Москва — мегаполис, подчинённый жёсткому ритму рабочей недели;\n",
    " * Петербург — культурная столица, со своими вкусами.\n",
    "\n",
    "На данных Яндекс.Музыки вы сравните поведение пользователей двух столиц.\n",
    "\n",
    "**Цель исследования** — проверьте три гипотезы:\n",
    "1. Активность пользователей зависит от дня недели. Причём в Москве и Петербурге это проявляется по-разному.\n",
    "2. В понедельник утром в Москве преобладают одни жанры, а в Петербурге — другие. Так же и вечером пятницы преобладают разные жанры — в зависимости от города. \n",
    "3. Москва и Петербург предпочитают разные жанры музыки. В Москве чаще слушают поп-музыку, в Петербурге — русский рэп.\n",
    "\n",
    "**Ход исследования**\n",
    "\n",
    "Данные о поведении пользователей вы получите из файла `yandex_music_project.csv`. О качестве данных ничего не известно. Поэтому перед проверкой гипотез понадобится обзор данных. \n",
    "\n",
    "Вы проверите данные на ошибки и оцените их влияние на исследование. Затем, на этапе предобработки вы поищете возможность исправить самые критичные ошибки данных.\n",
    " \n",
    "Таким образом, исследование пройдёт в три этапа:\n",
    " 1. Обзор данных.\n",
    " 2. Предобработка данных.\n",
    " 3. Проверка гипотез.\n",
    "\n"
   ]
  },
  {
   "cell_type": "markdown",
   "metadata": {
    "id": "Ml1hmfXC_Zcs"
   },
   "source": [
    "## Обзор данных\n",
    "\n",
    "Составьте первое представление о данных Яндекс.Музыки.\n",
    "\n",
    "\n"
   ]
  },
  {
   "cell_type": "markdown",
   "metadata": {
    "id": "57eAOGIz_Zcs"
   },
   "source": [
    "Основной инструмент аналитика — `pandas`. Импортируйте эту библиотеку."
   ]
  },
  {
   "cell_type": "code",
   "execution_count": 1,
   "metadata": {
    "id": "AXN7PHPN_Zcs"
   },
   "outputs": [],
   "source": [
    "import pandas as pd"
   ]
  },
  {
   "cell_type": "markdown",
   "metadata": {
    "id": "SG23P8tt_Zcs"
   },
   "source": [
    "Прочитайте файл `yandex_music_project.csv` из папки `/datasets` и сохраните его в переменной `df`:"
   ]
  },
  {
   "cell_type": "code",
   "execution_count": 2,
   "metadata": {
    "id": "fFVu7vqh_Zct"
   },
   "outputs": [],
   "source": [
    "df = pd.read_csv('/datasets/yandex_music_project.csv')"
   ]
  },
  {
   "cell_type": "markdown",
   "metadata": {
    "id": "rDoOMd3uTqnZ"
   },
   "source": [
    "Выведите на экран первые десять строк таблицы:"
   ]
  },
  {
   "cell_type": "code",
   "execution_count": 3,
   "metadata": {
    "id": "oWTVX3gW_Zct",
    "scrolled": true
   },
   "outputs": [
    {
     "data": {
      "text/html": [
       "<div>\n",
       "<style scoped>\n",
       "    .dataframe tbody tr th:only-of-type {\n",
       "        vertical-align: middle;\n",
       "    }\n",
       "\n",
       "    .dataframe tbody tr th {\n",
       "        vertical-align: top;\n",
       "    }\n",
       "\n",
       "    .dataframe thead th {\n",
       "        text-align: right;\n",
       "    }\n",
       "</style>\n",
       "<table border=\"1\" class=\"dataframe\">\n",
       "  <thead>\n",
       "    <tr style=\"text-align: right;\">\n",
       "      <th></th>\n",
       "      <th>userID</th>\n",
       "      <th>Track</th>\n",
       "      <th>artist</th>\n",
       "      <th>genre</th>\n",
       "      <th>City</th>\n",
       "      <th>time</th>\n",
       "      <th>Day</th>\n",
       "    </tr>\n",
       "  </thead>\n",
       "  <tbody>\n",
       "    <tr>\n",
       "      <td>0</td>\n",
       "      <td>FFB692EC</td>\n",
       "      <td>Kamigata To Boots</td>\n",
       "      <td>The Mass Missile</td>\n",
       "      <td>rock</td>\n",
       "      <td>Saint-Petersburg</td>\n",
       "      <td>20:28:33</td>\n",
       "      <td>Wednesday</td>\n",
       "    </tr>\n",
       "    <tr>\n",
       "      <td>1</td>\n",
       "      <td>55204538</td>\n",
       "      <td>Delayed Because of Accident</td>\n",
       "      <td>Andreas Rönnberg</td>\n",
       "      <td>rock</td>\n",
       "      <td>Moscow</td>\n",
       "      <td>14:07:09</td>\n",
       "      <td>Friday</td>\n",
       "    </tr>\n",
       "    <tr>\n",
       "      <td>2</td>\n",
       "      <td>20EC38</td>\n",
       "      <td>Funiculì funiculà</td>\n",
       "      <td>Mario Lanza</td>\n",
       "      <td>pop</td>\n",
       "      <td>Saint-Petersburg</td>\n",
       "      <td>20:58:07</td>\n",
       "      <td>Wednesday</td>\n",
       "    </tr>\n",
       "    <tr>\n",
       "      <td>3</td>\n",
       "      <td>A3DD03C9</td>\n",
       "      <td>Dragons in the Sunset</td>\n",
       "      <td>Fire + Ice</td>\n",
       "      <td>folk</td>\n",
       "      <td>Saint-Petersburg</td>\n",
       "      <td>08:37:09</td>\n",
       "      <td>Monday</td>\n",
       "    </tr>\n",
       "    <tr>\n",
       "      <td>4</td>\n",
       "      <td>E2DC1FAE</td>\n",
       "      <td>Soul People</td>\n",
       "      <td>Space Echo</td>\n",
       "      <td>dance</td>\n",
       "      <td>Moscow</td>\n",
       "      <td>08:34:34</td>\n",
       "      <td>Monday</td>\n",
       "    </tr>\n",
       "    <tr>\n",
       "      <td>5</td>\n",
       "      <td>842029A1</td>\n",
       "      <td>Преданная</td>\n",
       "      <td>IMPERVTOR</td>\n",
       "      <td>rusrap</td>\n",
       "      <td>Saint-Petersburg</td>\n",
       "      <td>13:09:41</td>\n",
       "      <td>Friday</td>\n",
       "    </tr>\n",
       "    <tr>\n",
       "      <td>6</td>\n",
       "      <td>4CB90AA5</td>\n",
       "      <td>True</td>\n",
       "      <td>Roman Messer</td>\n",
       "      <td>dance</td>\n",
       "      <td>Moscow</td>\n",
       "      <td>13:00:07</td>\n",
       "      <td>Wednesday</td>\n",
       "    </tr>\n",
       "    <tr>\n",
       "      <td>7</td>\n",
       "      <td>F03E1C1F</td>\n",
       "      <td>Feeling This Way</td>\n",
       "      <td>Polina Griffith</td>\n",
       "      <td>dance</td>\n",
       "      <td>Moscow</td>\n",
       "      <td>20:47:49</td>\n",
       "      <td>Wednesday</td>\n",
       "    </tr>\n",
       "    <tr>\n",
       "      <td>8</td>\n",
       "      <td>8FA1D3BE</td>\n",
       "      <td>И вновь продолжается бой</td>\n",
       "      <td>NaN</td>\n",
       "      <td>ruspop</td>\n",
       "      <td>Moscow</td>\n",
       "      <td>09:17:40</td>\n",
       "      <td>Friday</td>\n",
       "    </tr>\n",
       "    <tr>\n",
       "      <td>9</td>\n",
       "      <td>E772D5C0</td>\n",
       "      <td>Pessimist</td>\n",
       "      <td>NaN</td>\n",
       "      <td>dance</td>\n",
       "      <td>Saint-Petersburg</td>\n",
       "      <td>21:20:49</td>\n",
       "      <td>Wednesday</td>\n",
       "    </tr>\n",
       "  </tbody>\n",
       "</table>\n",
       "</div>"
      ],
      "text/plain": [
       "     userID                        Track            artist   genre  \\\n",
       "0  FFB692EC            Kamigata To Boots  The Mass Missile    rock   \n",
       "1  55204538  Delayed Because of Accident  Andreas Rönnberg    rock   \n",
       "2    20EC38            Funiculì funiculà       Mario Lanza     pop   \n",
       "3  A3DD03C9        Dragons in the Sunset        Fire + Ice    folk   \n",
       "4  E2DC1FAE                  Soul People        Space Echo   dance   \n",
       "5  842029A1                    Преданная         IMPERVTOR  rusrap   \n",
       "6  4CB90AA5                         True      Roman Messer   dance   \n",
       "7  F03E1C1F             Feeling This Way   Polina Griffith   dance   \n",
       "8  8FA1D3BE     И вновь продолжается бой               NaN  ruspop   \n",
       "9  E772D5C0                    Pessimist               NaN   dance   \n",
       "\n",
       "             City        time        Day  \n",
       "0  Saint-Petersburg  20:28:33  Wednesday  \n",
       "1            Moscow  14:07:09     Friday  \n",
       "2  Saint-Petersburg  20:58:07  Wednesday  \n",
       "3  Saint-Petersburg  08:37:09     Monday  \n",
       "4            Moscow  08:34:34     Monday  \n",
       "5  Saint-Petersburg  13:09:41     Friday  \n",
       "6            Moscow  13:00:07  Wednesday  \n",
       "7            Moscow  20:47:49  Wednesday  \n",
       "8            Moscow  09:17:40     Friday  \n",
       "9  Saint-Petersburg  21:20:49  Wednesday  "
      ]
     },
     "execution_count": 3,
     "metadata": {},
     "output_type": "execute_result"
    }
   ],
   "source": [
    "df.head(10)"
   ]
  },
  {
   "cell_type": "markdown",
   "metadata": {
    "id": "EO73Kwic_Zct"
   },
   "source": [
    "Одной командой получить общую информацию о таблице:"
   ]
  },
  {
   "cell_type": "code",
   "execution_count": 4,
   "metadata": {
    "id": "DSf2kIb-_Zct",
    "scrolled": true
   },
   "outputs": [
    {
     "name": "stdout",
     "output_type": "stream",
     "text": [
      "<class 'pandas.core.frame.DataFrame'>\n",
      "RangeIndex: 65079 entries, 0 to 65078\n",
      "Data columns (total 7 columns):\n",
      "  userID    65079 non-null object\n",
      "Track       63848 non-null object\n",
      "artist      57876 non-null object\n",
      "genre       63881 non-null object\n",
      "  City      65079 non-null object\n",
      "time        65079 non-null object\n",
      "Day         65079 non-null object\n",
      "dtypes: object(7)\n",
      "memory usage: 3.5+ MB\n"
     ]
    }
   ],
   "source": [
    "df.info()"
   ]
  },
  {
   "cell_type": "markdown",
   "metadata": {
    "id": "TaQ2Iwbr_Zct"
   },
   "source": [
    "Итак, в таблице семь столбцов. Тип данных во всех столбцах — `object`.\n",
    "\n",
    "Согласно документации к данным:\n",
    "* `userID` — идентификатор пользователя;\n",
    "* `Track` — название трека;  \n",
    "* `artist` — имя исполнителя;\n",
    "* `genre` — название жанра;\n",
    "* `City` — город пользователя;\n",
    "* `time` — время начала прослушивания;\n",
    "* `Day` — день недели.\n",
    "\n",
    "В названиях колонок видны три нарушения стиля:\n",
    "1. Строчные буквы сочетаются с прописными.\n",
    "2. Встречаются пробелы.\n",
    "3. Нижний индекс отсутствует \n",
    "\n",
    "\n",
    "\n",
    "Количество значений в столбцах различается. Значит, в данных есть пропущенные значения.\n"
   ]
  },
  {
   "cell_type": "markdown",
   "metadata": {
    "id": "MCB6-dXG_Zct"
   },
   "source": [
    "**Выводы**\n",
    "\n",
    "В каждой строке таблицы — данные о прослушанном треке. Часть колонок описывает саму композицию: название, исполнителя и жанр. Остальные данные рассказывают о пользователе: из какого он города, когда он слушал музыку. \n",
    "\n",
    "Предварительно можно утверждать, что, данных достаточно для проверки гипотез. Но встречаются пропуски в данных, а в названиях колонок — расхождения с хорошим стилем.\n",
    "\n",
    "Чтобы двигаться дальше, нужно устранить проблемы в данных."
   ]
  },
  {
   "cell_type": "markdown",
   "metadata": {
    "id": "SjYF6Ub9_Zct"
   },
   "source": [
    "## Предобработка данных\n",
    "Исправьте стиль в заголовках столбцов, исключите пропуски. Затем проверьте данные на дубликаты."
   ]
  },
  {
   "cell_type": "markdown",
   "metadata": {
    "id": "dIaKXr29_Zct"
   },
   "source": [
    "### Стиль заголовков\n",
    "Выведите на экран названия столбцов:"
   ]
  },
  {
   "cell_type": "code",
   "execution_count": 5,
   "metadata": {
    "id": "oKOTdF_Q_Zct"
   },
   "outputs": [
    {
     "data": {
      "text/plain": [
       "Index(['  userID', 'Track', 'artist', 'genre', '  City  ', 'time', 'Day'], dtype='object')"
      ]
     },
     "execution_count": 5,
     "metadata": {},
     "output_type": "execute_result"
    }
   ],
   "source": [
    "df.columns"
   ]
  },
  {
   "cell_type": "markdown",
   "metadata": {
    "id": "zj5534cv_Zct"
   },
   "source": [
    "Приведите названия в соответствие с хорошим стилем:\n",
    "* несколько слов в названии запишите в «змеином_регистре»,\n",
    "* все символы сделайте строчными,\n",
    "* устраните пробелы.\n",
    "\n",
    "Для этого переименуйте колонки так:\n",
    "* `'  userID'` → `'user_id'`;\n",
    "* `'Track'` → `'track'`;\n",
    "* `'  City  '` → `'city'`;\n",
    "* `'Day'` → `'day'`."
   ]
  },
  {
   "cell_type": "code",
   "execution_count": 6,
   "metadata": {
    "id": "ISlFqs5y_Zct"
   },
   "outputs": [],
   "source": [
    "df = df.rename(columns={'  userID': 'user_id','Track':'track', '  City  ': 'city','Day': 'day'}) \n"
   ]
  },
  {
   "cell_type": "markdown",
   "metadata": {
    "id": "1dqbh00J_Zct"
   },
   "source": [
    "Проверьте результат. Для этого ещё раз выведите на экран названия столбцов:"
   ]
  },
  {
   "cell_type": "code",
   "execution_count": 7,
   "metadata": {
    "id": "d4NOAmTW_Zct"
   },
   "outputs": [
    {
     "data": {
      "text/plain": [
       "Index(['user_id', 'track', 'artist', 'genre', 'city', 'time', 'day'], dtype='object')"
      ]
     },
     "execution_count": 7,
     "metadata": {},
     "output_type": "execute_result"
    }
   ],
   "source": [
    "df.columns"
   ]
  },
  {
   "cell_type": "markdown",
   "metadata": {
    "id": "5ISfbcfY_Zct"
   },
   "source": [
    "### Пропуски значений\n",
    "Сначала посчитайте, сколько в таблице пропущенных значений. Для этого достаточно двух методов `pandas`:"
   ]
  },
  {
   "cell_type": "code",
   "execution_count": 8,
   "metadata": {
    "id": "RskX29qr_Zct"
   },
   "outputs": [
    {
     "name": "stdout",
     "output_type": "stream",
     "text": [
      "user_id       0\n",
      "track      1231\n",
      "artist     7203\n",
      "genre      1198\n",
      "city          0\n",
      "time          0\n",
      "day           0\n",
      "dtype: int64\n"
     ]
    }
   ],
   "source": [
    "print(df.isna().sum())\n"
   ]
  },
  {
   "cell_type": "markdown",
   "metadata": {
    "id": "qubhgnlO_Zct"
   },
   "source": [
    "Не все пропущенные значения влияют на исследование. Так в `track` и `artist` пропуски не важны для вашей работы. Достаточно заменить их явными обозначениями.\n",
    "\n",
    "Но пропуски в `genre` могут помешать сравнению музыкальных вкусов в Москве и Санкт-Петербурге. На практике было бы правильно установить причину пропусков и восстановить данные. Такой возможности нет в учебном проекте. Придётся:\n",
    "* заполнить и эти пропуски явными обозначениями,\n",
    "* оценить, насколько они повредят расчётам. "
   ]
  },
  {
   "cell_type": "markdown",
   "metadata": {
    "id": "fSv2laPA_Zct"
   },
   "source": [
    "Замените пропущенные значения в столбцах `track`, `artist` и `genre` на строку `'unknown'`. Для этого создайте список `columns_to_replace`, переберите его элементы циклом `for` и для каждого столбца выполните замену пропущенных значений:"
   ]
  },
  {
   "cell_type": "code",
   "execution_count": 9,
   "metadata": {
    "id": "KplB5qWs_Zct"
   },
   "outputs": [],
   "source": [
    "columns_to_replace = ['track','artist','genre']\n",
    "for stolb in columns_to_replace:\n",
    "    df[stolb] = df[stolb].fillna('unknown')\n",
    "    \n"
   ]
  },
  {
   "cell_type": "markdown",
   "metadata": {
    "id": "Ilsm-MZo_Zct"
   },
   "source": [
    "Убедитесь, что в таблице не осталось пропусков. Для этого ещё раз посчитайте пропущенные значения."
   ]
  },
  {
   "cell_type": "code",
   "execution_count": 10,
   "metadata": {
    "id": "Tq4nYRX4_Zct",
    "scrolled": true
   },
   "outputs": [
    {
     "data": {
      "text/plain": [
       "user_id    0\n",
       "track      0\n",
       "artist     0\n",
       "genre      0\n",
       "city       0\n",
       "time       0\n",
       "day        0\n",
       "dtype: int64"
      ]
     },
     "execution_count": 10,
     "metadata": {},
     "output_type": "execute_result"
    }
   ],
   "source": [
    "df.isna().sum()"
   ]
  },
  {
   "cell_type": "markdown",
   "metadata": {
    "id": "BWKRtBJ3_Zct"
   },
   "source": [
    "### Дубликаты\n",
    "Посчитайте явные дубликаты в таблице одной командой:"
   ]
  },
  {
   "cell_type": "code",
   "execution_count": 11,
   "metadata": {
    "id": "36eES_S0_Zct"
   },
   "outputs": [
    {
     "data": {
      "text/plain": [
       "3826"
      ]
     },
     "execution_count": 11,
     "metadata": {},
     "output_type": "execute_result"
    }
   ],
   "source": [
    "df.duplicated().sum()"
   ]
  },
  {
   "cell_type": "markdown",
   "metadata": {
    "id": "Ot25h6XR_Zct"
   },
   "source": [
    "Вызовите специальный метод `pandas`, чтобы удалить явные дубликаты:"
   ]
  },
  {
   "cell_type": "code",
   "execution_count": 12,
   "metadata": {
    "id": "exFHq6tt_Zct"
   },
   "outputs": [],
   "source": [
    "df=df.drop_duplicates().reset_index(drop=True)"
   ]
  },
  {
   "cell_type": "markdown",
   "metadata": {
    "id": "Im2YwBEG_Zct"
   },
   "source": [
    "Ещё раз посчитайте явные дубликаты в таблице — убедитесь, что полностью от них избавились:"
   ]
  },
  {
   "cell_type": "code",
   "execution_count": 13,
   "metadata": {
    "id": "-8PuNWQ0_Zct",
    "scrolled": true
   },
   "outputs": [
    {
     "data": {
      "text/plain": [
       "0"
      ]
     },
     "execution_count": 13,
     "metadata": {},
     "output_type": "execute_result"
    }
   ],
   "source": [
    "df.duplicated().sum()"
   ]
  },
  {
   "cell_type": "markdown",
   "metadata": {
    "id": "QlFBsxAr_Zct"
   },
   "source": [
    "Теперь избавьтесь от неявных дубликатов в колонке `genre`. Например, название одного и того же жанра может быть записано немного по-разному. Такие ошибки тоже повлияют на результат исследования."
   ]
  },
  {
   "cell_type": "markdown",
   "metadata": {
    "id": "eSjWwsOh_Zct"
   },
   "source": [
    "Выведите на экран список уникальных названий жанров, отсортированный в алфавитном порядке. Для этого:\n",
    "* извлеките нужный столбец датафрейма, \n",
    "* примените к нему метод сортировки,\n",
    "* для отсортированного столбца вызовите метод, который вернёт уникальные значения из столбца."
   ]
  },
  {
   "cell_type": "code",
   "execution_count": 14,
   "metadata": {
    "id": "JIUcqzZN_Zct",
    "scrolled": true
   },
   "outputs": [
    {
     "data": {
      "text/plain": [
       "31916           acid\n",
       "57580       acoustic\n",
       "3636        acoustic\n",
       "14611       acoustic\n",
       "20264       acoustic\n",
       "            ...     \n",
       "41879          world\n",
       "39063      worldbeat\n",
       "27939      worldbeat\n",
       "8448             ïîï\n",
       "6465     электроника\n",
       "Name: genre, Length: 61253, dtype: object"
      ]
     },
     "execution_count": 14,
     "metadata": {},
     "output_type": "execute_result"
    }
   ],
   "source": [
    "df['genre'].sort_values()"
   ]
  },
  {
   "cell_type": "markdown",
   "metadata": {
    "id": "qej-Qmuo_Zct"
   },
   "source": [
    "Просмотрите список и найдите неявные дубликаты названия `hiphop`. Это могут быть названия с ошибками или альтернативные названия того же жанра.\n",
    "\n",
    "Вы увидите следующие неявные дубликаты:\n",
    "* *hip*,\n",
    "* *hop*,\n",
    "* *hip-hop*.\n",
    "\n",
    "Чтобы очистить от них таблицу, напишите функцию `replace_wrong_genres()` с двумя параметрами: \n",
    "* `wrong_genres` — список дубликатов,\n",
    "* `correct_genre` — строка с правильным значением.\n",
    "\n",
    "Функция должна исправить колонку `genre` в таблице `df`: заменить каждое значение из списка `wrong_genres` на значение из `correct_genre`."
   ]
  },
  {
   "cell_type": "code",
   "execution_count": 15,
   "metadata": {
    "id": "ErNDkmns_Zct"
   },
   "outputs": [],
   "source": [
    "\n",
    "def replace_wrong_genres(wrong_genres, correct_genre):\n",
    "    for wrong_genre in wrong_genres:\n",
    "        df['genre'] = df['genre'].replace(wrong_genre,correct_genre)\n"
   ]
  },
  {
   "cell_type": "markdown",
   "metadata": {
    "id": "aDoBJxbA_Zct"
   },
   "source": [
    "Вызовите `replace_wrong_genres()` и передайте ей такие аргументы, чтобы она устранила неявные дубликаты: вместо `hip`, `hop` и `hip-hop` в таблице должно быть значение `hiphop`:"
   ]
  },
  {
   "cell_type": "code",
   "execution_count": 16,
   "metadata": {
    "id": "YN5i2hpmSo09"
   },
   "outputs": [],
   "source": [
    "\n",
    "dublicat = ['hip','hop','hip-hop']\n",
    "genre = 'hiphop'\n",
    "replace_wrong_genres(dublicat, genre )\n",
    "\n"
   ]
  },
  {
   "cell_type": "markdown",
   "metadata": {
    "id": "zQKF16_RG15m"
   },
   "source": [
    "Проверьте, что заменили неправильные названия:\n",
    "\n",
    "*   hip\n",
    "*   hop\n",
    "*   hip-hop\n",
    "\n",
    "Выведите отсортированный список уникальных значений столбца `genre`:"
   ]
  },
  {
   "cell_type": "code",
   "execution_count": 17,
   "metadata": {
    "id": "wvixALnFG15m",
    "scrolled": true
   },
   "outputs": [
    {
     "name": "stdout",
     "output_type": "stream",
     "text": [
      "<class 'pandas.core.frame.DataFrame'>\n",
      "RangeIndex: 61253 entries, 0 to 61252\n",
      "Data columns (total 7 columns):\n",
      "user_id    61253 non-null object\n",
      "track      61253 non-null object\n",
      "artist     61253 non-null object\n",
      "genre      61253 non-null object\n",
      "city       61253 non-null object\n",
      "time       61253 non-null object\n",
      "day        61253 non-null object\n",
      "dtypes: object(7)\n",
      "memory usage: 3.3+ MB\n"
     ]
    },
    {
     "data": {
      "text/plain": [
       "array(['acid', 'acoustic', 'action', 'adult', 'africa', 'afrikaans',\n",
       "       'alternative', 'alternativepunk', 'ambient', 'americana',\n",
       "       'animated', 'anime', 'arabesk', 'arabic', 'arena',\n",
       "       'argentinetango', 'art', 'audiobook', 'author', 'avantgarde',\n",
       "       'axé', 'baile', 'balkan', 'beats', 'bigroom', 'black', 'bluegrass',\n",
       "       'blues', 'bollywood', 'bossa', 'brazilian', 'breakbeat', 'breaks',\n",
       "       'broadway', 'cantautori', 'cantopop', 'canzone', 'caribbean',\n",
       "       'caucasian', 'celtic', 'chamber', 'chanson', 'children', 'chill',\n",
       "       'chinese', 'choral', 'christian', 'christmas', 'classical',\n",
       "       'classicmetal', 'club', 'colombian', 'comedy', 'conjazz',\n",
       "       'contemporary', 'country', 'cuban', 'dance', 'dancehall',\n",
       "       'dancepop', 'dark', 'death', 'deep', 'deutschrock', 'deutschspr',\n",
       "       'dirty', 'disco', 'dnb', 'documentary', 'downbeat', 'downtempo',\n",
       "       'drum', 'dub', 'dubstep', 'eastern', 'easy', 'electronic',\n",
       "       'electropop', 'emo', 'entehno', 'epicmetal', 'estrada', 'ethnic',\n",
       "       'eurofolk', 'european', 'experimental', 'extrememetal', 'fado',\n",
       "       'fairytail', 'film', 'fitness', 'flamenco', 'folk', 'folklore',\n",
       "       'folkmetal', 'folkrock', 'folktronica', 'forró', 'frankreich',\n",
       "       'französisch', 'french', 'funk', 'future', 'gangsta', 'garage',\n",
       "       'german', 'ghazal', 'gitarre', 'glitch', 'gospel', 'gothic',\n",
       "       'grime', 'grunge', 'gypsy', 'handsup', \"hard'n'heavy\", 'hardcore',\n",
       "       'hardstyle', 'hardtechno', 'hiphop', 'historisch', 'holiday',\n",
       "       'horror', 'house', 'hymn', 'idm', 'independent', 'indian', 'indie',\n",
       "       'indipop', 'industrial', 'inspirational', 'instrumental',\n",
       "       'international', 'irish', 'jam', 'japanese', 'jazz', 'jewish',\n",
       "       'jpop', 'jungle', 'k-pop', 'karadeniz', 'karaoke', 'kayokyoku',\n",
       "       'korean', 'laiko', 'latin', 'latino', 'leftfield', 'local',\n",
       "       'lounge', 'loungeelectronic', 'lovers', 'malaysian', 'mandopop',\n",
       "       'marschmusik', 'meditative', 'mediterranean', 'melodic', 'metal',\n",
       "       'metalcore', 'mexican', 'middle', 'minimal', 'miscellaneous',\n",
       "       'modern', 'mood', 'mpb', 'muslim', 'native', 'neoklassik', 'neue',\n",
       "       'new', 'newage', 'newwave', 'nu', 'nujazz', 'numetal', 'oceania',\n",
       "       'old', 'opera', 'orchestral', 'other', 'piano', 'podcasts', 'pop',\n",
       "       'popdance', 'popelectronic', 'popeurodance', 'poprussian', 'post',\n",
       "       'posthardcore', 'postrock', 'power', 'progmetal', 'progressive',\n",
       "       'psychedelic', 'punjabi', 'punk', 'quebecois', 'ragga', 'ram',\n",
       "       'rancheras', 'rap', 'rave', 'reggae', 'reggaeton', 'regional',\n",
       "       'relax', 'religious', 'retro', 'rhythm', 'rnb', 'rnr', 'rock',\n",
       "       'rockabilly', 'rockalternative', 'rockindie', 'rockother',\n",
       "       'romance', 'roots', 'ruspop', 'rusrap', 'rusrock', 'russian',\n",
       "       'salsa', 'samba', 'scenic', 'schlager', 'self', 'sertanejo',\n",
       "       'shanson', 'shoegazing', 'showtunes', 'singer', 'ska', 'skarock',\n",
       "       'slow', 'smooth', 'soft', 'soul', 'soulful', 'sound', 'soundtrack',\n",
       "       'southern', 'specialty', 'speech', 'spiritual', 'sport',\n",
       "       'stonerrock', 'surf', 'swing', 'synthpop', 'synthrock',\n",
       "       'sängerportrait', 'tango', 'tanzorchester', 'taraftar', 'tatar',\n",
       "       'tech', 'techno', 'teen', 'thrash', 'top', 'traditional',\n",
       "       'tradjazz', 'trance', 'tribal', 'trip', 'triphop', 'tropical',\n",
       "       'türk', 'türkçe', 'ukrrock', 'unknown', 'urban', 'uzbek',\n",
       "       'variété', 'vi', 'videogame', 'vocal', 'western', 'world',\n",
       "       'worldbeat', 'ïîï', 'электроника'], dtype=object)"
      ]
     },
     "execution_count": 17,
     "metadata": {},
     "output_type": "execute_result"
    }
   ],
   "source": [
    "df.info()\n",
    "df['genre'].sort_values().unique() \n",
    "\n"
   ]
  },
  {
   "cell_type": "markdown",
   "metadata": {},
   "source": [
    "<div class=\"alert alert-block alert-success\">\n",
    "<b>✔️ Комментарий ревьюера 3:</b> Вот здесь у тебя получилось!\n",
    "    </div>"
   ]
  },
  {
   "cell_type": "markdown",
   "metadata": {
    "id": "jz6a9-7HQUDd"
   },
   "source": [
    "**Выводы**\n",
    "\n",
    "Предобработка обнаружила три проблемы в данных:\n",
    "\n",
    "- нарушения в стиле заголовков,\n",
    "- пропущенные значения,\n",
    "- дубликаты — явные и неявные.\n",
    "\n",
    "Вы исправили заголовки, чтобы упростить работу с таблицей. Без дубликатов исследование станет более точным.\n",
    "\n",
    "Пропущенные значения вы заменили на `'unknown'`. Ещё предстоит увидеть, не повредят ли исследованию пропуски в колонке `genre`.\n",
    "\n",
    "Теперь можно перейти к проверке гипотез. "
   ]
  },
  {
   "cell_type": "markdown",
   "metadata": {},
   "source": [
    "<div class=\"alert alert-block alert-success\">\n",
    "<b>✔️ Комментарий ревьюера:</b> Предобработка - очень важный этап, часто при работе занимающий больше всего времени и отнимающий больше всего сил. Ты успешно подготовила данные к анализу, устранив все причины, из-за которых в дальнейшем могли возникнуть ошибки. Давай посмотрим, что удасться дальше узнать про наших слушателей!\n",
    "    </div>"
   ]
  },
  {
   "cell_type": "markdown",
   "metadata": {
    "id": "WttZHXH0SqKk"
   },
   "source": [
    "## Проверка гипотез"
   ]
  },
  {
   "cell_type": "markdown",
   "metadata": {
    "id": "Im936VVi_Zcu"
   },
   "source": [
    "### Сравнение поведения пользователей двух столиц"
   ]
  },
  {
   "cell_type": "markdown",
   "metadata": {
    "id": "nwt_MuaL_Zcu"
   },
   "source": [
    "Первая гипотеза утверждает, что пользователи по-разному слушают музыку в Москве и Санкт-Петербурге. Проверьте это предположение по данным о трёх днях недели — понедельнике, среде и пятнице. Для этого:\n",
    "\n",
    "* Разделите пользователей Москвы и Санкт-Петербурга\n",
    "* Сравните, сколько треков послушала каждая группа пользователей в понедельник, среду и пятницу.\n"
   ]
  },
  {
   "cell_type": "markdown",
   "metadata": {
    "id": "8Dw_YMmT_Zcu"
   },
   "source": [
    "Для тренировки сначала выполните каждый из расчётов по отдельности. \n",
    "\n",
    "Оцените активность пользователей в каждом городе. Сгруппируйте данные по городу и посчитайте прослушивания в каждой группе.\n",
    "\n"
   ]
  },
  {
   "cell_type": "code",
   "execution_count": 18,
   "metadata": {
    "id": "0_Qs96oh_Zcu"
   },
   "outputs": [
    {
     "data": {
      "text/plain": [
       "city\n",
       "Moscow              42741\n",
       "Saint-Petersburg    18512\n",
       "Name: genre, dtype: int64"
      ]
     },
     "execution_count": 18,
     "metadata": {},
     "output_type": "execute_result"
    }
   ],
   "source": [
    "df.groupby('city')['genre'].count()"
   ]
  },
  {
   "cell_type": "markdown",
   "metadata": {
    "id": "dzli3w8o_Zcu"
   },
   "source": [
    "В Москве прослушиваний больше, чем в Петербурге. Из этого не следует, что московские пользователи чаще слушают музыку. Просто самих пользователей в Москве больше.\n",
    "\n",
    "Теперь сгруппируйте данные по дню недели и подсчитайте прослушивания в понедельник, среду и пятницу. Учтите, что в данных есть информация только о прослушиваниях только за эти дни.\n"
   ]
  },
  {
   "cell_type": "code",
   "execution_count": 19,
   "metadata": {
    "id": "uZMKjiJz_Zcu",
    "scrolled": true
   },
   "outputs": [
    {
     "data": {
      "text/plain": [
       "day\n",
       "Friday       21840\n",
       "Monday       21354\n",
       "Wednesday    18059\n",
       "Name: genre, dtype: int64"
      ]
     },
     "execution_count": 19,
     "metadata": {},
     "output_type": "execute_result"
    }
   ],
   "source": [
    "df.groupby('day')['genre'].count()"
   ]
  },
  {
   "cell_type": "markdown",
   "metadata": {},
   "source": [
    "<div class=\"alert alert-block alert-success\">\n",
    "<b>✔️ Комментарий ревьюера:</b> Правильная группировка в обоих случаях!\n",
    "    </div>"
   ]
  },
  {
   "cell_type": "markdown",
   "metadata": {
    "id": "cC2tNrlL_Zcu"
   },
   "source": [
    "В среднем пользователи из двух городов менее активны по средам. Но картина может измениться, если рассмотреть каждый город в отдельности."
   ]
  },
  {
   "cell_type": "markdown",
   "metadata": {
    "id": "POzs8bGa_Zcu"
   },
   "source": [
    "Вы видели, как работает группировка по городу и по дням недели. Теперь напишите функцию, которая объединит два эти расчёта.\n",
    "\n",
    "Создайте функцию `number_tracks()`, которая посчитает прослушивания для заданного дня и города. Ей понадобятся два параметра:\n",
    "* день недели,\n",
    "* название города.\n",
    "\n",
    "В функции сохраните в переменную строки исходной таблицы, у которых значение:\n",
    "  * в колонке `day` равно параметру `day`,\n",
    "  * в колонке `city` равно параметру `city`.\n",
    "\n",
    "Для этого примените последовательную фильтрацию с логической индексацией.\n",
    "\n",
    "Затем посчитайте значения в столбце `user_id` получившейся таблицы. Результат сохраните в новую переменную. Верните эту переменную из функции."
   ]
  },
  {
   "cell_type": "code",
   "execution_count": 20,
   "metadata": {
    "id": "Nz3GdQB1_Zcu"
   },
   "outputs": [],
   "source": [
    "\n",
    "def number_tracks( day, city):\n",
    "    track_list=df[(df['day']==day) & (df['city']==city)]\n",
    "    track_list_count = track_list['user_id'].count()\n",
    "    return track_list_count\n",
    "             \n",
    "# С помощью последовательной фильтрации с логической индексацией она \n",
    "# сначала получит из исходной таблицы строки с нужным днём,\n",
    "# затем из результата отфильтрует строки с нужным городом,\n",
    "# методом count() посчитает количество значений в колонке user_id. \n",
    "# Это количество функция вернёт в качестве результата"
   ]
  },
  {
   "cell_type": "markdown",
   "metadata": {
    "id": "ytf7xFrFJQ2r"
   },
   "source": [
    "Вызовите `number_tracks()` шесть раз, меняя значение параметров — так, чтобы получить данные для каждого города в каждый из трёх дней."
   ]
  },
  {
   "cell_type": "code",
   "execution_count": 21,
   "metadata": {
    "id": "rJcRATNQ_Zcu",
    "scrolled": true
   },
   "outputs": [
    {
     "data": {
      "text/plain": [
       "15740"
      ]
     },
     "execution_count": 21,
     "metadata": {},
     "output_type": "execute_result"
    }
   ],
   "source": [
    "number_tracks('Monday', 'Moscow')"
   ]
  },
  {
   "cell_type": "code",
   "execution_count": 22,
   "metadata": {
    "id": "hq_ncZ5T_Zcu"
   },
   "outputs": [
    {
     "data": {
      "text/plain": [
       "5614"
      ]
     },
     "execution_count": 22,
     "metadata": {},
     "output_type": "execute_result"
    }
   ],
   "source": [
    "number_tracks('Monday', 'Saint-Petersburg')"
   ]
  },
  {
   "cell_type": "code",
   "execution_count": 23,
   "metadata": {
    "id": "_NTy2VPU_Zcu"
   },
   "outputs": [
    {
     "data": {
      "text/plain": [
       "11056"
      ]
     },
     "execution_count": 23,
     "metadata": {},
     "output_type": "execute_result"
    }
   ],
   "source": [
    "number_tracks('Wednesday', 'Moscow')"
   ]
  },
  {
   "cell_type": "code",
   "execution_count": 24,
   "metadata": {
    "id": "j2y3TAwo_Zcu"
   },
   "outputs": [
    {
     "data": {
      "text/plain": [
       "7003"
      ]
     },
     "execution_count": 24,
     "metadata": {},
     "output_type": "execute_result"
    }
   ],
   "source": [
    "number_tracks('Wednesday', 'Saint-Petersburg')"
   ]
  },
  {
   "cell_type": "code",
   "execution_count": 25,
   "metadata": {
    "id": "vYDw5u_K_Zcu"
   },
   "outputs": [
    {
     "data": {
      "text/plain": [
       "15945"
      ]
     },
     "execution_count": 25,
     "metadata": {},
     "output_type": "execute_result"
    }
   ],
   "source": [
    "number_tracks('Friday', 'Moscow')"
   ]
  },
  {
   "cell_type": "code",
   "execution_count": 26,
   "metadata": {
    "id": "8_yzFtW3_Zcu",
    "scrolled": true
   },
   "outputs": [
    {
     "data": {
      "text/plain": [
       "5895"
      ]
     },
     "execution_count": 26,
     "metadata": {},
     "output_type": "execute_result"
    }
   ],
   "source": [
    "number_tracks('Friday', 'Saint-Petersburg')"
   ]
  },
  {
   "cell_type": "markdown",
   "metadata": {
    "id": "7QXffbO-_Zcu"
   },
   "source": [
    "Создайте c помощью конструктора `pd.DataFrame` таблицу, где\n",
    "* названия колонок — `['city', 'monday', 'wednesday', 'friday']`;\n",
    "* данные — результаты, которые вы получили с помощью `number_tracks`."
   ]
  },
  {
   "cell_type": "code",
   "execution_count": 27,
   "metadata": {
    "id": "APAcLpOr_Zcu"
   },
   "outputs": [
    {
     "data": {
      "text/html": [
       "<div>\n",
       "<style scoped>\n",
       "    .dataframe tbody tr th:only-of-type {\n",
       "        vertical-align: middle;\n",
       "    }\n",
       "\n",
       "    .dataframe tbody tr th {\n",
       "        vertical-align: top;\n",
       "    }\n",
       "\n",
       "    .dataframe thead th {\n",
       "        text-align: right;\n",
       "    }\n",
       "</style>\n",
       "<table border=\"1\" class=\"dataframe\">\n",
       "  <thead>\n",
       "    <tr style=\"text-align: right;\">\n",
       "      <th></th>\n",
       "      <th>city</th>\n",
       "      <th>monday</th>\n",
       "      <th>wednesday</th>\n",
       "      <th>friday</th>\n",
       "    </tr>\n",
       "  </thead>\n",
       "  <tbody>\n",
       "    <tr>\n",
       "      <td>0</td>\n",
       "      <td>Moscow</td>\n",
       "      <td>15740</td>\n",
       "      <td>11056</td>\n",
       "      <td>15945</td>\n",
       "    </tr>\n",
       "    <tr>\n",
       "      <td>1</td>\n",
       "      <td>Saint-Petersburg</td>\n",
       "      <td>5614</td>\n",
       "      <td>7003</td>\n",
       "      <td>5895</td>\n",
       "    </tr>\n",
       "  </tbody>\n",
       "</table>\n",
       "</div>"
      ],
      "text/plain": [
       "               city  monday  wednesday  friday\n",
       "0            Moscow   15740      11056   15945\n",
       "1  Saint-Petersburg    5614       7003    5895"
      ]
     },
     "execution_count": 27,
     "metadata": {},
     "output_type": "execute_result"
    }
   ],
   "source": [
    "\n",
    "data = [['Moscow', 15740, 11056, 15945],\n",
    "       ['Saint-Petersburg', 5614, 7003, 5895]]\n",
    "columns = ['city','monday','wednesday','friday']  \n",
    "table = pd.DataFrame(data = data, columns = columns)\n",
    "table"
   ]
  },
  {
   "cell_type": "markdown",
   "metadata": {
    "id": "-EgPIHYu_Zcu"
   },
   "source": [
    "**Выводы**\n",
    "\n",
    "Данные показывают разницу поведения пользователей:\n",
    "\n",
    "- В Москве пик прослушиваний приходится на понедельник и пятницу, а в среду заметен спад.\n",
    "- В Петербурге, наоборот, больше слушают музыку по средам. Активность в понедельник и пятницу здесь почти в равной мере уступает среде.\n",
    "\n",
    "Значит, данные говорят в пользу первой гипотезы."
   ]
  },
  {
   "cell_type": "markdown",
   "metadata": {
    "id": "atZAxtq4_Zcu"
   },
   "source": [
    "### Музыка в начале и в конце недели"
   ]
  },
  {
   "cell_type": "markdown",
   "metadata": {
    "id": "eXrQqXFH_Zcu"
   },
   "source": [
    "Согласно второй гипотезе, утром в понедельник в Москве преобладают одни жанры, а в Петербурге — другие. Так же и вечером пятницы преобладают разные жанры — в зависимости от города."
   ]
  },
  {
   "cell_type": "markdown",
   "metadata": {
    "id": "S8UcW6Hw_Zcu"
   },
   "source": [
    "Сохраните таблицы с данными в две переменные:\n",
    "* по Москве — в `moscow_general`;\n",
    "* по Санкт-Петербургу — в `spb_general`."
   ]
  },
  {
   "cell_type": "code",
   "execution_count": 28,
   "metadata": {
    "id": "qeaFfM_P_Zcu",
    "scrolled": true
   },
   "outputs": [],
   "source": [
    "moscow_general = df[df['city'] == 'Moscow']"
   ]
  },
  {
   "cell_type": "code",
   "execution_count": 29,
   "metadata": {
    "id": "ORaVRKto_Zcu",
    "scrolled": true
   },
   "outputs": [],
   "source": [
    "spb_general = df[df['city'] == 'Saint-Petersburg']"
   ]
  },
  {
   "cell_type": "markdown",
   "metadata": {
    "id": "MEJV-CX2_Zcu"
   },
   "source": [
    "Создайте функцию `genre_weekday()` с четырьмя параметрами:\n",
    "* таблица (датафрейм) с данными,\n",
    "* день недели,\n",
    "* начальная временная метка в формате 'hh:mm', \n",
    "* последняя временная метка в формате 'hh:mm'.\n",
    "\n",
    "Функция должна вернуть информацию о топ-10 жанров тех треков, которые прослушивали в указанный день, в промежутке между двумя отметками времени."
   ]
  },
  {
   "cell_type": "code",
   "execution_count": 30,
   "metadata": {
    "id": "laJT9BYl_Zcu"
   },
   "outputs": [],
   "source": [
    "def genre_weekday( table, day, time1, time2):\n",
    "    genre_df = table[table['day'] == day]\n",
    "    genre_df = genre_df[genre_df['time'] > time1]\n",
    "    genre_df = genre_df[genre_df['time'] < time2]\n",
    "    genre_df_count = genre_df.groupby('genre')['genre'].count()\n",
    "    genre_df_sorted = genre_df_count.sort_values(ascending = False)\n",
    "    return genre_df_sorted.head(10)\n",
    "   \n",
    "# Объявление функции genre_weekday() с параметрами table, day, time1, time2,\n",
    "# которая возвращает информацию о самых популярных жанрах в указанный день в\n",
    "# заданное время:\n",
    "# 1) в переменную genre_df сохраняются те строки переданного датафрейма table, для\n",
    "#    которых одновременно:\n",
    "#    - значение в столбце day равно значению аргумента day\n",
    "#    - значение в столбце time больше значения аргумента time1\n",
    "#    - значение в столбце time меньше значения аргумента time2\n",
    "#    Используйте последовательную фильтрацию с помощью логической индексации.\n",
    "# 2) сгруппировать датафрейм genre_df по столбцу genre, взять один из его\n",
    "#    столбцов и посчитать методом count() количество записей для каждого из\n",
    "#    присутствующих жанров, получившийся Series записать в переменную\n",
    "#    genre_df_count\n",
    "# 3) отсортировать genre_df_count по убыванию встречаемости и сохранить\n",
    "#    в переменную genre_df_sorted\n",
    "# 4) вернуть Series из 10 первых значений genre_df_sorted, это будут топ-10\n",
    "#    популярных жанров (в указанный день, в заданное время)"
   ]
  },
  {
   "cell_type": "markdown",
   "metadata": {
    "id": "la2s2_PF_Zcu"
   },
   "source": [
    "Cравните результаты функции `genre_weekday()` для Москвы и Санкт-Петербурга в понедельник утром (с 7:00 до 11:00) и в пятницу вечером (с 17:00 до 23:00):"
   ]
  },
  {
   "cell_type": "code",
   "execution_count": 31,
   "metadata": {
    "id": "yz7itPUQ_Zcu",
    "scrolled": true
   },
   "outputs": [
    {
     "data": {
      "text/plain": [
       "genre\n",
       "pop            781\n",
       "dance          549\n",
       "electronic     480\n",
       "rock           474\n",
       "hiphop         286\n",
       "ruspop         186\n",
       "world          181\n",
       "rusrap         175\n",
       "alternative    164\n",
       "unknown        161\n",
       "Name: genre, dtype: int64"
      ]
     },
     "execution_count": 31,
     "metadata": {},
     "output_type": "execute_result"
    }
   ],
   "source": [
    "\n",
    "moscow_general = df[df['city'] == 'Moscow' ]\n",
    "genre_weekday(moscow_general, 'Monday', '07:00', '11:00')\n",
    "# вызов функции для утра понедельника в Москве (вместо df — таблица moscow_general)\n",
    "# объекты, хранящие время, являются строками и сравниваются как строки\n",
    "# пример вызова: genre_weekday(moscow_general, 'Monday', '07:00', '11:00')"
   ]
  },
  {
   "cell_type": "code",
   "execution_count": 32,
   "metadata": {
    "id": "kwUcHPdy_Zcu"
   },
   "outputs": [
    {
     "data": {
      "text/plain": [
       "genre\n",
       "pop            218\n",
       "dance          182\n",
       "rock           162\n",
       "electronic     147\n",
       "hiphop          80\n",
       "ruspop          64\n",
       "alternative     58\n",
       "rusrap          55\n",
       "jazz            44\n",
       "classical       40\n",
       "Name: genre, dtype: int64"
      ]
     },
     "execution_count": 32,
     "metadata": {},
     "output_type": "execute_result"
    }
   ],
   "source": [
    "genre_weekday(df[df['city'] == 'Saint-Petersburg'], 'Monday', '07:00', '11:00') \n",
    "# вызов функции для утра понедельника в Петербурге (вместо df — таблица spb_general)"
   ]
  },
  {
   "cell_type": "code",
   "execution_count": 33,
   "metadata": {
    "id": "EzXVRE1o_Zcu"
   },
   "outputs": [
    {
     "data": {
      "text/plain": [
       "genre\n",
       "pop            713\n",
       "rock           517\n",
       "dance          495\n",
       "electronic     482\n",
       "hiphop         273\n",
       "world          208\n",
       "ruspop         170\n",
       "alternative    163\n",
       "classical      163\n",
       "rusrap         142\n",
       "Name: genre, dtype: int64"
      ]
     },
     "execution_count": 33,
     "metadata": {},
     "output_type": "execute_result"
    }
   ],
   "source": [
    "\n",
    "genre_weekday(df[df['city']=='Moscow'], 'Friday', '17:00', '23:00')\n",
    "# вызов функции для вечера пятницы в Москве"
   ]
  },
  {
   "cell_type": "code",
   "execution_count": 34,
   "metadata": {
    "id": "JZaEKu5v_Zcu",
    "scrolled": true
   },
   "outputs": [
    {
     "data": {
      "text/plain": [
       "genre\n",
       "pop            256\n",
       "rock           216\n",
       "electronic     216\n",
       "dance          210\n",
       "hiphop          97\n",
       "alternative     63\n",
       "jazz            61\n",
       "classical       60\n",
       "rusrap          59\n",
       "world           54\n",
       "Name: genre, dtype: int64"
      ]
     },
     "execution_count": 34,
     "metadata": {},
     "output_type": "execute_result"
    }
   ],
   "source": [
    "genre_weekday(df[df['city'] == 'Saint-Petersburg'], 'Friday', '17:00', '23:00')\n",
    "# вызов функции для вечера пятницы в Петербурге"
   ]
  },
  {
   "cell_type": "markdown",
   "metadata": {
    "id": "wrCe4MNX_Zcu"
   },
   "source": [
    "**Выводы**\n",
    "\n",
    "Если сравнить топ-10 жанров в понедельник утром, можно сделать такие выводы:\n",
    "\n",
    "1. В Москве и Петербурге слушают похожую музыку. Единственное отличие — в московский рейтинг вошёл жанр “world”, а в петербургский — джаз и классика.\n",
    "\n",
    "2. В Москве пропущенных значений оказалось так много, что значение `'unknown'` заняло десятое место среди самых популярных жанров. Значит, пропущенные значения занимают существенную долю в данных и угрожают достоверности исследования.\n",
    "\n",
    "Вечер пятницы не меняет эту картину. Некоторые жанры поднимаются немного выше, другие спускаются, но в целом топ-10 остаётся тем же самым.\n",
    "\n",
    "Таким образом, вторая гипотеза подтвердилась лишь частично:\n",
    "* Пользователи слушают похожую музыку в начале недели и в конце.\n",
    "* Разница между Москвой и Петербургом не слишком выражена. В Москве чаще слушают русскую популярную музыку, в Петербурге — джаз.\n",
    "\n",
    "Однако пропуски в данных ставят под сомнение этот результат. В Москве их так много, что рейтинг топ-10 мог бы выглядеть иначе, если бы не утерянные  данные о жанрах."
   ]
  },
  {
   "cell_type": "markdown",
   "metadata": {
    "id": "JolODAqr_Zcu"
   },
   "source": [
    "### Жанровые предпочтения в Москве и Петербурге\n",
    "\n",
    "Гипотеза: Петербург — столица рэпа, музыку этого жанра там слушают чаще, чем в Москве.  А Москва — город контрастов, в котором, тем не менее, преобладает поп-музыка."
   ]
  },
  {
   "cell_type": "markdown",
   "metadata": {
    "id": "DlegSvaT_Zcu"
   },
   "source": [
    "Сгруппируйте таблицу `moscow_general` по жанру и посчитайте прослушивания треков каждого жанра методом `count()`. Затем отсортируйте результат в порядке убывания и сохраните его в таблице `moscow_genres`."
   ]
  },
  {
   "cell_type": "code",
   "execution_count": 35,
   "metadata": {
    "id": "r19lIPke_Zcu"
   },
   "outputs": [],
   "source": [
    "moscow_genres = moscow_general.groupby('genre')['genre'].count().sort_values(ascending = False)\n",
    "# одной строкой: группировка таблицы moscow_general по столбцу 'genre', \n",
    "# подсчёт числа значений 'genre' в этой группировке методом count(), \n",
    "# сортировка получившегося Series в порядке убывания и сохранение в moscow_genres"
   ]
  },
  {
   "cell_type": "markdown",
   "metadata": {
    "id": "6kMuomxTiIr8"
   },
   "source": [
    "Выведите на экран первые десять строк `moscow_genres`:"
   ]
  },
  {
   "cell_type": "code",
   "execution_count": 36,
   "metadata": {
    "id": "WhCSooF8_Zcv"
   },
   "outputs": [
    {
     "data": {
      "text/plain": [
       "genre\n",
       "pop            5892\n",
       "dance          4435\n",
       "rock           3965\n",
       "electronic     3786\n",
       "hiphop         2096\n",
       "classical      1616\n",
       "world          1432\n",
       "alternative    1379\n",
       "ruspop         1372\n",
       "rusrap         1161\n",
       "Name: genre, dtype: int64"
      ]
     },
     "execution_count": 36,
     "metadata": {},
     "output_type": "execute_result"
    }
   ],
   "source": [
    "moscow_genres.head(10)\n",
    "# просмотр первых 10 строк moscow_genres"
   ]
  },
  {
   "cell_type": "markdown",
   "metadata": {
    "id": "cnPG2vnN_Zcv"
   },
   "source": [
    "Теперь повторите то же и для Петербурга.\n",
    "\n",
    "Сгруппируйте таблицу `spb_general` по жанру. Посчитайте прослушивания треков каждого жанра. Результат отсортируйте в порядке убывания и сохраните в таблице `spb_genres`:\n"
   ]
  },
  {
   "cell_type": "code",
   "execution_count": 37,
   "metadata": {
    "id": "gluLIpE7_Zcv"
   },
   "outputs": [],
   "source": [
    "spb_general = spb_general.groupby('genre')['genre'].count()\n",
    "spb_genres = spb_general.sort_values(ascending = False)\n",
    "# одной строкой: группировка таблицы spb_general по столбцу 'genre', \n",
    "# подсчёт числа значений 'genre' в этой группировке методом count(), \n",
    "# сортировка получившегося Series в порядке убывания и сохранение в spb_genres"
   ]
  },
  {
   "cell_type": "markdown",
   "metadata": {
    "id": "5Doha_ODgyQ8"
   },
   "source": [
    "Выведите на экран первые десять строк `spb_genres`:"
   ]
  },
  {
   "cell_type": "code",
   "execution_count": 38,
   "metadata": {
    "id": "uaGJHjVU_Zcv",
    "scrolled": true
   },
   "outputs": [
    {
     "data": {
      "text/plain": [
       "genre\n",
       "pop            2431\n",
       "dance          1932\n",
       "rock           1879\n",
       "electronic     1736\n",
       "hiphop          960\n",
       "alternative     649\n",
       "classical       646\n",
       "rusrap          564\n",
       "ruspop          538\n",
       "world           515\n",
       "Name: genre, dtype: int64"
      ]
     },
     "execution_count": 38,
     "metadata": {},
     "output_type": "execute_result"
    }
   ],
   "source": [
    "spb_genres.head(10)"
   ]
  },
  {
   "cell_type": "markdown",
   "metadata": {
    "id": "RY51YJYu_Zcv"
   },
   "source": [
    "**Выводы**"
   ]
  },
  {
   "cell_type": "markdown",
   "metadata": {
    "id": "nVhnJEm__Zcv"
   },
   "source": [
    "Гипотеза частично подтвердилась:\n",
    "* Поп-музыка — самый популярный жанр в Москве, как и предполагала гипотеза. Более того, в топ-10 жанров встречается близкий жанр — русская популярная музыка.\n",
    "* Вопреки ожиданиям, рэп одинаково популярен в Москве и Петербурге. \n"
   ]
  },
  {
   "cell_type": "markdown",
   "metadata": {
    "id": "ykKQ0N65_Zcv"
   },
   "source": [
    "## Итоги исследования"
   ]
  },
  {
   "cell_type": "markdown",
   "metadata": {
    "id": "tjUwbHb3_Zcv"
   },
   "source": [
    "Вы проверили три гипотезы и установили:\n",
    "\n",
    "1. День недели по-разному влияет на активность пользователей в Москве и Петербурге. \n",
    "\n",
    "Первая гипотеза полностью подтвердилась.\n",
    "\n",
    "2. Музыкальные предпочтения не сильно меняются в течение недели — будь то Москва или Петербург. Небольшие различия заметны в начале недели, по понедельникам:\n",
    "* в Москве слушают музыку жанра “world”,\n",
    "* в Петербурге — джаз и классику.\n",
    "\n",
    "Таким образом, вторая гипотеза подтвердилась лишь отчасти. Этот результат мог оказаться иным, если бы не пропуски в данных.\n",
    "\n",
    "3. Во вкусах пользователей Москвы и Петербурга больше общего чем различий. Вопреки ожиданиям, предпочтения жанров в Петербурге напоминают московские.\n",
    "\n",
    "Третья гипотеза не подтвердилась. Если различия в предпочтениях и существуют, на основной массе пользователей они незаметны.\n",
    "\n",
    "**На практике исследования содержат проверки статистических гипотез.**\n",
    "Из данных одного сервиса не всегда можно сделать вывод о всех жителях города.\n",
    "Проверки статистических гипотез покажут, насколько они достоверны, исходя из имеющихся данных. \n",
    "С методами проверок гипотез вы ещё познакомитесь в следующих темах."
   ]
  }
 ],
 "metadata": {
  "ExecuteTimeLog": [
   {
    "duration": 236,
    "start_time": "2022-02-28T15:50:13.224Z"
   },
   {
    "duration": 187,
    "start_time": "2022-02-28T15:50:25.428Z"
   },
   {
    "duration": 178,
    "start_time": "2022-02-28T15:51:11.010Z"
   },
   {
    "duration": 182,
    "start_time": "2022-02-28T15:51:57.315Z"
   },
   {
    "duration": 177,
    "start_time": "2022-02-28T15:53:55.328Z"
   },
   {
    "duration": 216,
    "start_time": "2022-02-28T15:54:31.810Z"
   },
   {
    "duration": 183,
    "start_time": "2022-02-28T15:54:52.330Z"
   },
   {
    "duration": 317,
    "start_time": "2022-02-28T15:56:17.504Z"
   },
   {
    "duration": 179,
    "start_time": "2022-02-28T16:06:59.643Z"
   },
   {
    "duration": 579,
    "start_time": "2022-02-28T16:07:06.752Z"
   },
   {
    "duration": 200,
    "start_time": "2022-02-28T16:07:15.841Z"
   },
   {
    "duration": 285,
    "start_time": "2022-03-01T10:10:35.915Z"
   },
   {
    "duration": 211,
    "start_time": "2022-03-01T10:12:40.385Z"
   },
   {
    "duration": 179,
    "start_time": "2022-03-01T10:14:17.956Z"
   },
   {
    "duration": 261,
    "start_time": "2022-03-01T10:17:32.748Z"
   },
   {
    "duration": 249,
    "start_time": "2022-03-01T10:17:54.878Z"
   },
   {
    "duration": 237,
    "start_time": "2022-03-01T10:18:03.929Z"
   },
   {
    "duration": 177,
    "start_time": "2022-03-01T10:18:10.888Z"
   },
   {
    "duration": 618,
    "start_time": "2022-03-01T10:18:31.068Z"
   },
   {
    "duration": 198,
    "start_time": "2022-03-01T10:18:37.118Z"
   },
   {
    "duration": 309,
    "start_time": "2022-03-01T10:18:45.858Z"
   },
   {
    "duration": 178,
    "start_time": "2022-03-01T10:18:54.058Z"
   },
   {
    "duration": 265,
    "start_time": "2022-03-01T10:23:34.818Z"
   },
   {
    "duration": 184,
    "start_time": "2022-03-01T10:23:41.188Z"
   },
   {
    "duration": 163,
    "start_time": "2022-03-01T10:47:18.728Z"
   },
   {
    "duration": 17,
    "start_time": "2022-03-01T10:47:28.009Z"
   },
   {
    "duration": 24,
    "start_time": "2022-03-01T10:47:39.129Z"
   },
   {
    "duration": 282,
    "start_time": "2022-03-01T10:47:51.009Z"
   },
   {
    "duration": 200,
    "start_time": "2022-03-01T10:48:58.409Z"
   },
   {
    "duration": 4,
    "start_time": "2022-03-01T10:50:39.629Z"
   },
   {
    "duration": 1129,
    "start_time": "2022-03-01T10:51:03.030Z"
   },
   {
    "duration": 4,
    "start_time": "2022-03-01T10:58:55.009Z"
   },
   {
    "duration": 22,
    "start_time": "2022-03-01T11:01:41.528Z"
   },
   {
    "duration": 5,
    "start_time": "2022-03-01T11:04:25.766Z"
   },
   {
    "duration": 21,
    "start_time": "2022-03-01T11:06:33.944Z"
   },
   {
    "duration": 17,
    "start_time": "2022-03-01T11:06:56.185Z"
   },
   {
    "duration": 24,
    "start_time": "2022-03-01T11:07:02.905Z"
   },
   {
    "duration": 55,
    "start_time": "2022-03-01T11:08:48.804Z"
   },
   {
    "duration": 73,
    "start_time": "2022-03-01T11:09:40.046Z"
   },
   {
    "duration": 51,
    "start_time": "2022-03-01T11:10:00.825Z"
   },
   {
    "duration": 7,
    "start_time": "2022-03-01T11:11:40.985Z"
   },
   {
    "duration": 59,
    "start_time": "2022-03-01T11:25:13.925Z"
   },
   {
    "duration": 56,
    "start_time": "2022-03-01T11:25:26.126Z"
   },
   {
    "duration": 61,
    "start_time": "2022-03-01T11:26:01.086Z"
   },
   {
    "duration": 62,
    "start_time": "2022-03-01T11:40:47.435Z"
   },
   {
    "duration": 164,
    "start_time": "2022-03-01T11:40:55.695Z"
   },
   {
    "duration": 7,
    "start_time": "2022-03-01T11:41:22.634Z"
   },
   {
    "duration": 10,
    "start_time": "2022-03-01T11:57:03.788Z"
   },
   {
    "duration": 7,
    "start_time": "2022-03-01T12:04:34.004Z"
   },
   {
    "duration": 11,
    "start_time": "2022-03-01T12:41:24.866Z"
   },
   {
    "duration": 10,
    "start_time": "2022-03-01T12:41:48.889Z"
   },
   {
    "duration": 443,
    "start_time": "2022-03-01T13:08:23.669Z"
   },
   {
    "duration": 465,
    "start_time": "2022-03-01T13:08:41.868Z"
   },
   {
    "duration": 5,
    "start_time": "2022-03-01T13:09:27.778Z"
   },
   {
    "duration": 6,
    "start_time": "2022-03-01T13:09:42.377Z"
   },
   {
    "duration": 6,
    "start_time": "2022-03-01T13:11:10.497Z"
   },
   {
    "duration": 6,
    "start_time": "2022-03-01T13:11:13.907Z"
   },
   {
    "duration": 191,
    "start_time": "2022-03-01T13:13:47.059Z"
   },
   {
    "duration": 6,
    "start_time": "2022-03-01T13:14:19.009Z"
   },
   {
    "duration": 6,
    "start_time": "2022-03-01T13:14:23.505Z"
   },
   {
    "duration": 186,
    "start_time": "2022-03-01T13:14:32.988Z"
   },
   {
    "duration": 231,
    "start_time": "2022-03-01T13:15:00.853Z"
   },
   {
    "duration": 5,
    "start_time": "2022-03-01T13:15:43.939Z"
   },
   {
    "duration": 179,
    "start_time": "2022-03-01T13:19:02.899Z"
   },
   {
    "duration": 187,
    "start_time": "2022-03-01T13:21:14.858Z"
   },
   {
    "duration": 5,
    "start_time": "2022-03-01T13:21:41.339Z"
   },
   {
    "duration": 202,
    "start_time": "2022-03-01T13:21:46.219Z"
   },
   {
    "duration": 61,
    "start_time": "2022-03-01T13:40:08.419Z"
   },
   {
    "duration": 3,
    "start_time": "2022-03-01T13:40:23.938Z"
   },
   {
    "duration": 353,
    "start_time": "2022-03-01T13:43:36.898Z"
   },
   {
    "duration": 391,
    "start_time": "2022-03-01T13:45:10.298Z"
   },
   {
    "duration": 3,
    "start_time": "2022-03-01T13:47:16.598Z"
   },
   {
    "duration": 377,
    "start_time": "2022-03-01T13:47:21.207Z"
   },
   {
    "duration": 2,
    "start_time": "2022-03-01T13:48:02.989Z"
   },
   {
    "duration": 357,
    "start_time": "2022-03-01T13:48:04.577Z"
   },
   {
    "duration": 350,
    "start_time": "2022-03-01T13:57:45.385Z"
   },
   {
    "duration": 3,
    "start_time": "2022-03-01T14:01:40.235Z"
   },
   {
    "duration": 328,
    "start_time": "2022-03-01T14:01:42.105Z"
   },
   {
    "duration": 190,
    "start_time": "2022-03-01T14:03:02.586Z"
   },
   {
    "duration": 3,
    "start_time": "2022-03-01T14:03:13.226Z"
   },
   {
    "duration": 173,
    "start_time": "2022-03-01T14:03:15.865Z"
   },
   {
    "duration": 3,
    "start_time": "2022-03-01T14:03:56.745Z"
   },
   {
    "duration": 181,
    "start_time": "2022-03-01T14:03:59.946Z"
   },
   {
    "duration": 3,
    "start_time": "2022-03-01T14:07:34.096Z"
   },
   {
    "duration": 175,
    "start_time": "2022-03-01T14:07:36.926Z"
   },
   {
    "duration": 2,
    "start_time": "2022-03-01T14:09:32.146Z"
   },
   {
    "duration": 210,
    "start_time": "2022-03-01T14:09:34.825Z"
   },
   {
    "duration": 2,
    "start_time": "2022-03-01T14:10:34.746Z"
   },
   {
    "duration": 337,
    "start_time": "2022-03-01T14:10:36.106Z"
   },
   {
    "duration": 3,
    "start_time": "2022-03-01T14:11:38.785Z"
   },
   {
    "duration": 335,
    "start_time": "2022-03-01T14:11:40.066Z"
   },
   {
    "duration": 3,
    "start_time": "2022-03-01T14:14:27.866Z"
   },
   {
    "duration": 321,
    "start_time": "2022-03-01T14:14:29.226Z"
   },
   {
    "duration": 4,
    "start_time": "2022-03-01T14:15:30.375Z"
   },
   {
    "duration": 10,
    "start_time": "2022-03-01T14:15:32.456Z"
   },
   {
    "duration": 3,
    "start_time": "2022-03-01T14:15:48.946Z"
   },
   {
    "duration": 9,
    "start_time": "2022-03-01T14:15:50.345Z"
   },
   {
    "duration": 3,
    "start_time": "2022-03-01T14:18:15.795Z"
   },
   {
    "duration": 8,
    "start_time": "2022-03-01T14:18:17.145Z"
   },
   {
    "duration": 169,
    "start_time": "2022-03-01T14:19:03.077Z"
   },
   {
    "duration": 200,
    "start_time": "2022-03-01T14:20:01.245Z"
   },
   {
    "duration": 25,
    "start_time": "2022-03-01T14:20:48.026Z"
   },
   {
    "duration": 3,
    "start_time": "2022-03-01T14:21:55.626Z"
   },
   {
    "duration": 12,
    "start_time": "2022-03-01T14:21:57.166Z"
   },
   {
    "duration": 192,
    "start_time": "2022-03-01T14:24:29.335Z"
   },
   {
    "duration": 10,
    "start_time": "2022-03-01T14:31:48.148Z"
   },
   {
    "duration": 10,
    "start_time": "2022-03-01T14:33:28.837Z"
   },
   {
    "duration": 61,
    "start_time": "2022-03-01T14:52:33.541Z"
   },
   {
    "duration": 25,
    "start_time": "2022-03-01T14:55:23.774Z"
   },
   {
    "duration": 56,
    "start_time": "2022-03-01T15:00:51.299Z"
   },
   {
    "duration": 57,
    "start_time": "2022-03-01T15:01:05.649Z"
   },
   {
    "duration": 56,
    "start_time": "2022-03-01T15:01:21.670Z"
   },
   {
    "duration": 64,
    "start_time": "2022-03-01T15:03:23.982Z"
   },
   {
    "duration": 58,
    "start_time": "2022-03-01T15:03:28.691Z"
   },
   {
    "duration": 58,
    "start_time": "2022-03-01T15:03:40.571Z"
   },
   {
    "duration": 66,
    "start_time": "2022-03-01T15:04:18.161Z"
   },
   {
    "duration": 177,
    "start_time": "2022-03-01T15:05:03.890Z"
   },
   {
    "duration": 63,
    "start_time": "2022-03-01T15:05:09.499Z"
   },
   {
    "duration": 169,
    "start_time": "2022-03-01T15:14:31.831Z"
   },
   {
    "duration": 227,
    "start_time": "2022-03-01T15:14:33.400Z"
   },
   {
    "duration": 165,
    "start_time": "2022-03-01T15:14:34.930Z"
   },
   {
    "duration": 171,
    "start_time": "2022-03-01T15:14:37.756Z"
   },
   {
    "duration": 175,
    "start_time": "2022-03-01T15:14:39.490Z"
   },
   {
    "duration": 168,
    "start_time": "2022-03-01T15:14:42.210Z"
   },
   {
    "duration": 3,
    "start_time": "2022-03-01T15:15:00.451Z"
   },
   {
    "duration": 3,
    "start_time": "2022-03-01T15:15:19.160Z"
   },
   {
    "duration": 2,
    "start_time": "2022-03-01T15:15:24.290Z"
   },
   {
    "duration": 3,
    "start_time": "2022-03-01T15:15:30.010Z"
   },
   {
    "duration": 3,
    "start_time": "2022-03-01T15:15:35.170Z"
   },
   {
    "duration": 3,
    "start_time": "2022-03-01T15:15:40.219Z"
   },
   {
    "duration": 4,
    "start_time": "2022-03-01T15:18:00.833Z"
   },
   {
    "duration": 3,
    "start_time": "2022-03-01T15:18:07.010Z"
   },
   {
    "duration": 3,
    "start_time": "2022-03-01T15:18:07.410Z"
   },
   {
    "duration": 3,
    "start_time": "2022-03-01T15:18:07.610Z"
   },
   {
    "duration": 2,
    "start_time": "2022-03-01T15:18:07.851Z"
   },
   {
    "duration": 3,
    "start_time": "2022-03-01T15:18:08.021Z"
   },
   {
    "duration": 2,
    "start_time": "2022-03-01T15:18:08.221Z"
   },
   {
    "duration": 203,
    "start_time": "2022-03-01T15:18:52.281Z"
   },
   {
    "duration": 177,
    "start_time": "2022-03-01T15:19:41.893Z"
   },
   {
    "duration": 169,
    "start_time": "2022-03-01T15:19:49.810Z"
   },
   {
    "duration": 197,
    "start_time": "2022-03-01T15:20:01.091Z"
   },
   {
    "duration": 1204,
    "start_time": "2022-03-01T15:21:17.251Z"
   },
   {
    "duration": 169,
    "start_time": "2022-03-01T15:21:19.270Z"
   },
   {
    "duration": 161,
    "start_time": "2022-03-01T15:21:20.691Z"
   },
   {
    "duration": 3,
    "start_time": "2022-03-01T15:27:19.961Z"
   },
   {
    "duration": 17,
    "start_time": "2022-03-01T15:27:38.391Z"
   },
   {
    "duration": 15,
    "start_time": "2022-03-01T15:27:47.330Z"
   },
   {
    "duration": 16,
    "start_time": "2022-03-01T15:27:51.010Z"
   },
   {
    "duration": 13,
    "start_time": "2022-03-01T15:28:10.611Z"
   },
   {
    "duration": 16,
    "start_time": "2022-03-01T15:28:36.131Z"
   },
   {
    "duration": 14,
    "start_time": "2022-03-01T15:28:39.690Z"
   },
   {
    "duration": 3,
    "start_time": "2022-03-01T15:29:59.972Z"
   },
   {
    "duration": 4,
    "start_time": "2022-03-01T20:27:18.166Z"
   },
   {
    "duration": 4,
    "start_time": "2022-03-01T20:27:24.235Z"
   },
   {
    "duration": 329,
    "start_time": "2022-03-01T20:28:20.539Z"
   },
   {
    "duration": 313,
    "start_time": "2022-03-01T20:30:07.014Z"
   },
   {
    "duration": 3,
    "start_time": "2022-03-01T20:34:56.525Z"
   },
   {
    "duration": 279,
    "start_time": "2022-03-01T20:45:07.366Z"
   },
   {
    "duration": 4,
    "start_time": "2022-03-01T20:45:54.654Z"
   },
   {
    "duration": 108,
    "start_time": "2022-03-01T20:48:35.574Z"
   },
   {
    "duration": 4,
    "start_time": "2022-03-01T20:56:50.894Z"
   },
   {
    "duration": 325,
    "start_time": "2022-03-01T20:56:59.895Z"
   },
   {
    "duration": 286,
    "start_time": "2022-03-01T20:58:48.864Z"
   },
   {
    "duration": 279,
    "start_time": "2022-03-01T21:00:22.142Z"
   },
   {
    "duration": 271,
    "start_time": "2022-03-01T21:00:22.673Z"
   },
   {
    "duration": 318,
    "start_time": "2022-03-01T21:00:30.054Z"
   },
   {
    "duration": 288,
    "start_time": "2022-03-01T21:01:03.863Z"
   },
   {
    "duration": 3,
    "start_time": "2022-03-01T21:02:36.295Z"
   },
   {
    "duration": 3,
    "start_time": "2022-03-01T21:04:24.149Z"
   },
   {
    "duration": 278,
    "start_time": "2022-03-01T21:05:00.153Z"
   },
   {
    "duration": 600,
    "start_time": "2022-03-01T21:08:47.192Z"
   },
   {
    "duration": 9,
    "start_time": "2022-03-01T21:08:51.991Z"
   },
   {
    "duration": 3,
    "start_time": "2022-03-01T21:10:35.303Z"
   },
   {
    "duration": 291,
    "start_time": "2022-03-01T21:12:27.532Z"
   },
   {
    "duration": 123,
    "start_time": "2022-03-01T21:12:41.111Z"
   },
   {
    "duration": 10,
    "start_time": "2022-03-01T21:12:45.510Z"
   },
   {
    "duration": 22,
    "start_time": "2022-03-01T21:13:11.232Z"
   },
   {
    "duration": 4,
    "start_time": "2022-03-01T21:13:20.392Z"
   },
   {
    "duration": 19,
    "start_time": "2022-03-01T21:13:26.952Z"
   },
   {
    "duration": 5,
    "start_time": "2022-03-01T21:13:32.712Z"
   },
   {
    "duration": 20,
    "start_time": "2022-03-01T21:13:39.872Z"
   },
   {
    "duration": 18,
    "start_time": "2022-03-01T21:13:45.721Z"
   },
   {
    "duration": 22,
    "start_time": "2022-03-01T21:13:49.511Z"
   },
   {
    "duration": 54,
    "start_time": "2022-03-01T21:14:05.832Z"
   },
   {
    "duration": 63,
    "start_time": "2022-03-01T21:14:09.192Z"
   },
   {
    "duration": 47,
    "start_time": "2022-03-01T21:14:12.232Z"
   },
   {
    "duration": 8,
    "start_time": "2022-03-01T21:14:23.642Z"
   },
   {
    "duration": 3,
    "start_time": "2022-03-01T21:14:47.072Z"
   },
   {
    "duration": 10,
    "start_time": "2022-03-01T21:14:53.559Z"
   },
   {
    "duration": 23,
    "start_time": "2022-03-01T21:14:57.992Z"
   },
   {
    "duration": 11,
    "start_time": "2022-03-01T21:15:31.751Z"
   },
   {
    "duration": 9,
    "start_time": "2022-03-01T21:15:40.952Z"
   },
   {
    "duration": 4,
    "start_time": "2022-03-01T21:16:37.592Z"
   },
   {
    "duration": 3,
    "start_time": "2022-03-01T21:16:48.904Z"
   },
   {
    "duration": 7222,
    "start_time": "2022-03-01T21:16:58.471Z"
   },
   {
    "duration": 7131,
    "start_time": "2022-03-01T21:20:28.952Z"
   },
   {
    "duration": 3,
    "start_time": "2022-03-01T21:42:51.097Z"
   },
   {
    "duration": 4,
    "start_time": "2022-03-01T21:42:52.366Z"
   },
   {
    "duration": 4,
    "start_time": "2022-03-01T21:43:36.407Z"
   },
   {
    "duration": 4,
    "start_time": "2022-03-01T21:43:39.439Z"
   },
   {
    "duration": 7032,
    "start_time": "2022-03-01T21:43:44.608Z"
   },
   {
    "duration": 3,
    "start_time": "2022-03-01T21:48:36.530Z"
   },
   {
    "duration": 6991,
    "start_time": "2022-03-01T21:48:40.516Z"
   },
   {
    "duration": 3,
    "start_time": "2022-03-01T21:53:33.254Z"
   },
   {
    "duration": 7123,
    "start_time": "2022-03-01T21:53:38.852Z"
   },
   {
    "duration": 7100,
    "start_time": "2022-03-01T21:55:50.660Z"
   },
   {
    "duration": 7142,
    "start_time": "2022-03-01T21:57:40.181Z"
   },
   {
    "duration": 7016,
    "start_time": "2022-03-01T21:58:07.221Z"
   },
   {
    "duration": 7106,
    "start_time": "2022-03-01T22:07:52.820Z"
   },
   {
    "duration": 7074,
    "start_time": "2022-03-01T22:10:05.061Z"
   },
   {
    "duration": 7152,
    "start_time": "2022-03-01T22:11:48.741Z"
   },
   {
    "duration": 7057,
    "start_time": "2022-03-01T22:15:42.821Z"
   },
   {
    "duration": 3,
    "start_time": "2022-03-01T22:16:03.301Z"
   },
   {
    "duration": 3,
    "start_time": "2022-03-01T22:16:04.421Z"
   },
   {
    "duration": 8,
    "start_time": "2022-03-01T22:16:19.941Z"
   },
   {
    "duration": 7226,
    "start_time": "2022-03-01T22:17:02.341Z"
   },
   {
    "duration": 7425,
    "start_time": "2022-03-01T22:18:06.901Z"
   },
   {
    "duration": 3,
    "start_time": "2022-03-01T22:26:12.381Z"
   },
   {
    "duration": 7427,
    "start_time": "2022-03-01T22:26:22.549Z"
   },
   {
    "duration": 7294,
    "start_time": "2022-03-01T22:40:26.380Z"
   },
   {
    "duration": -48,
    "start_time": "2022-03-01T22:40:33.724Z"
   },
   {
    "duration": 312,
    "start_time": "2022-03-01T22:43:15.020Z"
   },
   {
    "duration": 102,
    "start_time": "2022-03-01T22:47:25.460Z"
   },
   {
    "duration": 94,
    "start_time": "2022-03-01T22:47:56.729Z"
   },
   {
    "duration": 111,
    "start_time": "2022-03-01T22:51:56.582Z"
   },
   {
    "duration": 88,
    "start_time": "2022-03-01T22:52:53.782Z"
   },
   {
    "duration": 85,
    "start_time": "2022-03-01T22:53:21.212Z"
   },
   {
    "duration": 273,
    "start_time": "2022-03-01T22:54:11.372Z"
   },
   {
    "duration": 263,
    "start_time": "2022-03-01T22:56:25.193Z"
   },
   {
    "duration": 25,
    "start_time": "2022-03-01T23:02:06.871Z"
   },
   {
    "duration": 3,
    "start_time": "2022-03-01T23:07:56.189Z"
   },
   {
    "duration": 7143,
    "start_time": "2022-03-01T23:08:02.669Z"
   },
   {
    "duration": 3,
    "start_time": "2022-03-01T23:10:07.388Z"
   },
   {
    "duration": 7154,
    "start_time": "2022-03-01T23:10:11.227Z"
   },
   {
    "duration": 3,
    "start_time": "2022-03-01T23:11:16.248Z"
   },
   {
    "duration": 4,
    "start_time": "2022-03-01T23:11:19.078Z"
   },
   {
    "duration": 4,
    "start_time": "2022-03-01T23:11:54.908Z"
   },
   {
    "duration": 4,
    "start_time": "2022-03-01T23:11:57.310Z"
   },
   {
    "duration": 7830,
    "start_time": "2022-03-01T23:12:16.988Z"
   },
   {
    "duration": 94,
    "start_time": "2022-03-01T23:15:11.131Z"
   },
   {
    "duration": 281,
    "start_time": "2022-03-01T23:18:14.704Z"
   },
   {
    "duration": 4,
    "start_time": "2022-03-01T23:19:36.344Z"
   },
   {
    "duration": 7102,
    "start_time": "2022-03-01T23:19:39.674Z"
   },
   {
    "duration": 287,
    "start_time": "2022-03-01T23:25:10.039Z"
   },
   {
    "duration": 286,
    "start_time": "2022-03-01T23:25:34.160Z"
   },
   {
    "duration": 282,
    "start_time": "2022-03-01T23:25:46.799Z"
   },
   {
    "duration": 234,
    "start_time": "2022-03-02T10:00:46.407Z"
   },
   {
    "duration": 197,
    "start_time": "2022-03-02T10:01:17.717Z"
   },
   {
    "duration": 195,
    "start_time": "2022-03-02T10:01:41.048Z"
   },
   {
    "duration": 202,
    "start_time": "2022-03-02T10:01:51.608Z"
   },
   {
    "duration": 186,
    "start_time": "2022-03-02T10:08:53.450Z"
   },
   {
    "duration": 177,
    "start_time": "2022-03-02T10:08:54.971Z"
   },
   {
    "duration": 187,
    "start_time": "2022-03-02T10:22:35.529Z"
   },
   {
    "duration": 216,
    "start_time": "2022-03-02T10:23:01.580Z"
   },
   {
    "duration": 200,
    "start_time": "2022-03-02T10:57:37.313Z"
   },
   {
    "duration": 206,
    "start_time": "2022-03-02T10:57:41.623Z"
   },
   {
    "duration": 4,
    "start_time": "2022-03-02T10:57:49.968Z"
   },
   {
    "duration": 198,
    "start_time": "2022-03-02T10:58:04.584Z"
   },
   {
    "duration": 196,
    "start_time": "2022-03-02T11:23:12.878Z"
   },
   {
    "duration": 191,
    "start_time": "2022-03-02T11:23:37.729Z"
   },
   {
    "duration": 180,
    "start_time": "2022-03-02T11:24:03.478Z"
   },
   {
    "duration": 194,
    "start_time": "2022-03-02T11:35:07.904Z"
   },
   {
    "duration": 213,
    "start_time": "2022-03-02T11:35:19.934Z"
   },
   {
    "duration": 219,
    "start_time": "2022-03-02T11:36:01.424Z"
   },
   {
    "duration": 217,
    "start_time": "2022-03-02T11:36:08.332Z"
   },
   {
    "duration": 205,
    "start_time": "2022-03-02T11:36:12.784Z"
   },
   {
    "duration": 210,
    "start_time": "2022-03-02T11:40:01.993Z"
   },
   {
    "duration": 187,
    "start_time": "2022-03-02T11:40:48.021Z"
   },
   {
    "duration": 642,
    "start_time": "2022-03-02T11:41:55.544Z"
   },
   {
    "duration": 4,
    "start_time": "2022-03-02T11:42:11.134Z"
   },
   {
    "duration": 5,
    "start_time": "2022-03-02T11:42:15.423Z"
   },
   {
    "duration": 11,
    "start_time": "2022-03-02T11:42:22.779Z"
   },
   {
    "duration": 3,
    "start_time": "2022-03-02T11:50:08.705Z"
   },
   {
    "duration": 153,
    "start_time": "2022-03-02T11:50:10.965Z"
   },
   {
    "duration": 13,
    "start_time": "2022-03-02T11:50:12.485Z"
   },
   {
    "duration": 26,
    "start_time": "2022-03-02T11:50:18.026Z"
   },
   {
    "duration": 4,
    "start_time": "2022-03-02T11:50:21.845Z"
   },
   {
    "duration": 23,
    "start_time": "2022-03-02T11:50:23.445Z"
   },
   {
    "duration": 6,
    "start_time": "2022-03-02T11:50:24.466Z"
   },
   {
    "duration": 26,
    "start_time": "2022-03-02T11:50:25.886Z"
   },
   {
    "duration": 18,
    "start_time": "2022-03-02T11:50:28.335Z"
   },
   {
    "duration": 25,
    "start_time": "2022-03-02T11:50:29.704Z"
   },
   {
    "duration": 59,
    "start_time": "2022-03-02T11:50:32.805Z"
   },
   {
    "duration": 73,
    "start_time": "2022-03-02T11:50:34.605Z"
   },
   {
    "duration": 60,
    "start_time": "2022-03-02T11:50:35.845Z"
   },
   {
    "duration": 7,
    "start_time": "2022-03-02T11:50:37.737Z"
   },
   {
    "duration": 4,
    "start_time": "2022-03-02T11:50:46.415Z"
   },
   {
    "duration": 9,
    "start_time": "2022-03-02T11:50:47.526Z"
   },
   {
    "duration": 32,
    "start_time": "2022-03-02T11:50:48.878Z"
   },
   {
    "duration": 13,
    "start_time": "2022-03-02T11:50:57.686Z"
   },
   {
    "duration": 12,
    "start_time": "2022-03-02T11:51:01.845Z"
   },
   {
    "duration": 3,
    "start_time": "2022-03-02T11:51:08.646Z"
   },
   {
    "duration": 17,
    "start_time": "2022-03-02T11:51:09.926Z"
   },
   {
    "duration": 15,
    "start_time": "2022-03-02T11:51:10.524Z"
   },
   {
    "duration": 15,
    "start_time": "2022-03-02T11:51:11.015Z"
   },
   {
    "duration": 15,
    "start_time": "2022-03-02T11:51:11.615Z"
   },
   {
    "duration": 17,
    "start_time": "2022-03-02T11:51:12.246Z"
   },
   {
    "duration": 14,
    "start_time": "2022-03-02T11:51:13.045Z"
   },
   {
    "duration": 9,
    "start_time": "2022-03-02T11:51:18.645Z"
   },
   {
    "duration": 4,
    "start_time": "2022-03-02T11:51:22.005Z"
   },
   {
    "duration": 1386,
    "start_time": "2022-03-02T11:51:22.725Z"
   },
   {
    "duration": 5,
    "start_time": "2022-03-02T11:51:34.886Z"
   },
   {
    "duration": 4947,
    "start_time": "2022-03-02T11:51:36.245Z"
   },
   {
    "duration": 253,
    "start_time": "2022-03-02T11:51:40.942Z"
   },
   {
    "duration": 249,
    "start_time": "2022-03-02T11:51:40.948Z"
   },
   {
    "duration": 246,
    "start_time": "2022-03-02T11:51:40.953Z"
   },
   {
    "duration": 4,
    "start_time": "2022-03-02T11:52:13.685Z"
   },
   {
    "duration": 5,
    "start_time": "2022-03-02T11:52:15.476Z"
   },
   {
    "duration": 5282,
    "start_time": "2022-03-02T11:52:17.366Z"
   },
   {
    "duration": 215,
    "start_time": "2022-03-02T11:52:22.436Z"
   },
   {
    "duration": 5123,
    "start_time": "2022-03-02T11:55:26.733Z"
   },
   {
    "duration": 4,
    "start_time": "2022-03-02T12:40:44.726Z"
   },
   {
    "duration": 5208,
    "start_time": "2022-03-02T12:40:50.566Z"
   },
   {
    "duration": 4,
    "start_time": "2022-03-02T12:42:21.293Z"
   },
   {
    "duration": 4,
    "start_time": "2022-03-02T12:42:23.953Z"
   },
   {
    "duration": 412,
    "start_time": "2022-03-02T12:42:26.166Z"
   },
   {
    "duration": 3,
    "start_time": "2022-03-02T12:42:59.774Z"
   },
   {
    "duration": 430,
    "start_time": "2022-03-02T12:43:01.366Z"
   },
   {
    "duration": 419,
    "start_time": "2022-03-02T12:43:08.305Z"
   },
   {
    "duration": 4,
    "start_time": "2022-03-02T13:16:06.471Z"
   },
   {
    "duration": 393,
    "start_time": "2022-03-02T13:16:12.151Z"
   },
   {
    "duration": 4,
    "start_time": "2022-03-02T13:21:33.031Z"
   },
   {
    "duration": 6257,
    "start_time": "2022-03-02T13:21:34.891Z"
   },
   {
    "duration": 4,
    "start_time": "2022-03-02T13:23:48.631Z"
   },
   {
    "duration": 5212,
    "start_time": "2022-03-02T13:23:50.711Z"
   },
   {
    "duration": 4,
    "start_time": "2022-03-02T13:24:49.959Z"
   },
   {
    "duration": 376,
    "start_time": "2022-03-02T13:24:57.752Z"
   },
   {
    "duration": 3,
    "start_time": "2022-03-02T14:25:32.052Z"
   },
   {
    "duration": 5197,
    "start_time": "2022-03-02T14:25:34.653Z"
   },
   {
    "duration": 10,
    "start_time": "2022-03-02T14:29:49.924Z"
   },
   {
    "duration": 22,
    "start_time": "2022-03-02T14:29:51.133Z"
   },
   {
    "duration": 4,
    "start_time": "2022-03-02T14:29:53.003Z"
   },
   {
    "duration": 11,
    "start_time": "2022-03-02T14:29:53.663Z"
   },
   {
    "duration": 4,
    "start_time": "2022-03-02T14:29:54.123Z"
   },
   {
    "duration": 21,
    "start_time": "2022-03-02T14:29:54.573Z"
   },
   {
    "duration": 17,
    "start_time": "2022-03-02T14:29:55.413Z"
   },
   {
    "duration": 22,
    "start_time": "2022-03-02T14:29:55.943Z"
   },
   {
    "duration": 50,
    "start_time": "2022-03-02T14:29:56.474Z"
   },
   {
    "duration": 56,
    "start_time": "2022-03-02T14:29:57.083Z"
   },
   {
    "duration": 51,
    "start_time": "2022-03-02T14:29:57.633Z"
   },
   {
    "duration": 7,
    "start_time": "2022-03-02T14:29:58.983Z"
   },
   {
    "duration": 3,
    "start_time": "2022-03-02T14:30:00.663Z"
   },
   {
    "duration": 9,
    "start_time": "2022-03-02T14:30:02.844Z"
   },
   {
    "duration": 27,
    "start_time": "2022-03-02T14:30:04.353Z"
   },
   {
    "duration": 10,
    "start_time": "2022-03-02T14:30:09.413Z"
   },
   {
    "duration": 10,
    "start_time": "2022-03-02T14:30:10.834Z"
   },
   {
    "duration": 4,
    "start_time": "2022-03-02T14:30:12.813Z"
   },
   {
    "duration": 17,
    "start_time": "2022-03-02T14:30:16.973Z"
   },
   {
    "duration": 16,
    "start_time": "2022-03-02T14:30:17.343Z"
   },
   {
    "duration": 16,
    "start_time": "2022-03-02T14:30:17.713Z"
   },
   {
    "duration": 15,
    "start_time": "2022-03-02T14:30:18.083Z"
   },
   {
    "duration": 17,
    "start_time": "2022-03-02T14:30:18.503Z"
   },
   {
    "duration": 16,
    "start_time": "2022-03-02T14:30:19.043Z"
   },
   {
    "duration": 9,
    "start_time": "2022-03-02T14:30:21.193Z"
   },
   {
    "duration": 4,
    "start_time": "2022-03-02T14:30:23.523Z"
   },
   {
    "duration": 3,
    "start_time": "2022-03-02T14:30:23.854Z"
   },
   {
    "duration": 4,
    "start_time": "2022-03-02T14:30:24.744Z"
   },
   {
    "duration": 5272,
    "start_time": "2022-03-02T14:30:26.283Z"
   },
   {
    "duration": 308,
    "start_time": "2022-03-02T14:30:31.249Z"
   },
   {
    "duration": 300,
    "start_time": "2022-03-02T14:30:31.259Z"
   },
   {
    "duration": 294,
    "start_time": "2022-03-02T14:30:31.266Z"
   },
   {
    "duration": 4,
    "start_time": "2022-03-02T14:40:16.284Z"
   },
   {
    "duration": 4968,
    "start_time": "2022-03-02T14:40:18.572Z"
   },
   {
    "duration": 67,
    "start_time": "2022-03-02T14:40:50.904Z"
   },
   {
    "duration": 4852,
    "start_time": "2022-03-02T14:40:55.854Z"
   },
   {
    "duration": 60,
    "start_time": "2022-03-02T14:41:11.914Z"
   },
   {
    "duration": 4965,
    "start_time": "2022-03-02T14:41:13.904Z"
   },
   {
    "duration": 326,
    "start_time": "2022-03-02T14:41:18.546Z"
   },
   {
    "duration": 322,
    "start_time": "2022-03-02T14:41:18.552Z"
   },
   {
    "duration": 319,
    "start_time": "2022-03-02T14:41:18.556Z"
   },
   {
    "duration": 74,
    "start_time": "2022-03-02T14:41:51.772Z"
   },
   {
    "duration": 4909,
    "start_time": "2022-03-02T14:41:53.123Z"
   },
   {
    "duration": 258,
    "start_time": "2022-03-02T14:41:57.776Z"
   },
   {
    "duration": 250,
    "start_time": "2022-03-02T14:41:57.785Z"
   },
   {
    "duration": 243,
    "start_time": "2022-03-02T14:41:57.793Z"
   },
   {
    "duration": 62,
    "start_time": "2022-03-02T14:42:03.013Z"
   },
   {
    "duration": 64,
    "start_time": "2022-03-02T14:42:13.720Z"
   },
   {
    "duration": 16,
    "start_time": "2022-03-02T14:42:28.103Z"
   },
   {
    "duration": 9,
    "start_time": "2022-03-02T14:42:31.394Z"
   },
   {
    "duration": 6,
    "start_time": "2022-03-02T14:42:34.237Z"
   },
   {
    "duration": 4,
    "start_time": "2022-03-02T14:42:34.923Z"
   },
   {
    "duration": 83,
    "start_time": "2022-03-02T14:42:36.504Z"
   },
   {
    "duration": 5065,
    "start_time": "2022-03-02T14:42:38.173Z"
   },
   {
    "duration": 4,
    "start_time": "2022-03-02T14:42:57.220Z"
   },
   {
    "duration": 5584,
    "start_time": "2022-03-02T14:42:58.623Z"
   },
   {
    "duration": 8,
    "start_time": "2022-03-02T15:27:44.026Z"
   },
   {
    "duration": 4,
    "start_time": "2022-03-02T15:28:04.366Z"
   },
   {
    "duration": 6350,
    "start_time": "2022-03-02T15:28:06.246Z"
   },
   {
    "duration": 10,
    "start_time": "2022-03-02T15:28:21.446Z"
   },
   {
    "duration": 10,
    "start_time": "2022-03-02T15:28:23.046Z"
   },
   {
    "duration": 3,
    "start_time": "2022-03-02T15:28:26.104Z"
   },
   {
    "duration": 18,
    "start_time": "2022-03-02T15:28:30.246Z"
   },
   {
    "duration": 14,
    "start_time": "2022-03-02T15:28:30.886Z"
   },
   {
    "duration": 15,
    "start_time": "2022-03-02T15:28:31.206Z"
   },
   {
    "duration": 15,
    "start_time": "2022-03-02T15:28:31.545Z"
   },
   {
    "duration": 16,
    "start_time": "2022-03-02T15:28:31.885Z"
   },
   {
    "duration": 15,
    "start_time": "2022-03-02T15:28:32.245Z"
   },
   {
    "duration": 8,
    "start_time": "2022-03-02T15:28:33.205Z"
   },
   {
    "duration": 4,
    "start_time": "2022-03-02T15:28:40.508Z"
   },
   {
    "duration": 4,
    "start_time": "2022-03-02T15:28:41.212Z"
   },
   {
    "duration": 4,
    "start_time": "2022-03-02T15:28:42.166Z"
   },
   {
    "duration": 5010,
    "start_time": "2022-03-02T15:28:43.687Z"
   },
   {
    "duration": 310,
    "start_time": "2022-03-02T15:28:48.389Z"
   },
   {
    "duration": 304,
    "start_time": "2022-03-02T15:28:48.396Z"
   },
   {
    "duration": 298,
    "start_time": "2022-03-02T15:28:48.403Z"
   },
   {
    "duration": 3,
    "start_time": "2022-03-02T15:32:00.987Z"
   },
   {
    "duration": 3,
    "start_time": "2022-03-02T15:32:02.575Z"
   },
   {
    "duration": 4924,
    "start_time": "2022-03-02T15:32:04.247Z"
   },
   {
    "duration": 293,
    "start_time": "2022-03-02T16:50:23.740Z"
   },
   {
    "duration": 238,
    "start_time": "2022-03-02T16:50:48.938Z"
   },
   {
    "duration": 247,
    "start_time": "2022-03-02T16:50:59.179Z"
   },
   {
    "duration": 702,
    "start_time": "2022-03-02T16:51:08.219Z"
   },
   {
    "duration": 194,
    "start_time": "2022-03-02T16:51:09.218Z"
   },
   {
    "duration": 28,
    "start_time": "2022-03-02T16:51:09.738Z"
   },
   {
    "duration": 36,
    "start_time": "2022-03-02T16:51:10.138Z"
   },
   {
    "duration": 6,
    "start_time": "2022-03-02T16:51:11.138Z"
   },
   {
    "duration": 25,
    "start_time": "2022-03-02T16:51:11.659Z"
   },
   {
    "duration": 5,
    "start_time": "2022-03-02T16:51:12.298Z"
   },
   {
    "duration": 28,
    "start_time": "2022-03-02T16:51:12.859Z"
   },
   {
    "duration": 31,
    "start_time": "2022-03-02T16:51:13.819Z"
   },
   {
    "duration": 30,
    "start_time": "2022-03-02T16:51:14.449Z"
   },
   {
    "duration": 84,
    "start_time": "2022-03-02T16:51:15.258Z"
   },
   {
    "duration": 95,
    "start_time": "2022-03-02T16:51:16.059Z"
   },
   {
    "duration": 75,
    "start_time": "2022-03-02T16:51:17.018Z"
   },
   {
    "duration": 9,
    "start_time": "2022-03-02T16:51:18.938Z"
   },
   {
    "duration": 4,
    "start_time": "2022-03-02T16:51:21.518Z"
   },
   {
    "duration": 13,
    "start_time": "2022-03-02T16:51:22.458Z"
   },
   {
    "duration": 36,
    "start_time": "2022-03-02T16:51:23.358Z"
   },
   {
    "duration": 14,
    "start_time": "2022-03-02T16:51:26.218Z"
   },
   {
    "duration": 14,
    "start_time": "2022-03-02T16:51:27.339Z"
   },
   {
    "duration": 6,
    "start_time": "2022-03-02T16:51:28.979Z"
   },
   {
    "duration": 20,
    "start_time": "2022-03-02T16:51:29.839Z"
   },
   {
    "duration": 17,
    "start_time": "2022-03-02T16:51:30.089Z"
   },
   {
    "duration": 22,
    "start_time": "2022-03-02T16:51:30.318Z"
   },
   {
    "duration": 26,
    "start_time": "2022-03-02T16:51:30.508Z"
   },
   {
    "duration": 21,
    "start_time": "2022-03-02T16:51:30.738Z"
   },
   {
    "duration": 18,
    "start_time": "2022-03-02T16:51:31.058Z"
   },
   {
    "duration": 13,
    "start_time": "2022-03-02T16:51:32.939Z"
   },
   {
    "duration": 11,
    "start_time": "2022-03-02T16:51:35.729Z"
   },
   {
    "duration": 7,
    "start_time": "2022-03-02T16:51:36.538Z"
   },
   {
    "duration": 6,
    "start_time": "2022-03-02T16:51:38.700Z"
   },
   {
    "duration": 6573,
    "start_time": "2022-03-02T16:51:41.789Z"
   },
   {
    "duration": 310,
    "start_time": "2022-03-02T16:51:48.056Z"
   },
   {
    "duration": 12,
    "start_time": "2022-03-02T16:54:11.580Z"
   },
   {
    "duration": 6278,
    "start_time": "2022-03-02T17:02:13.179Z"
   },
   {
    "duration": 19,
    "start_time": "2022-03-02T18:27:16.894Z"
   },
   {
    "duration": 237,
    "start_time": "2022-03-02T18:27:20.233Z"
   },
   {
    "duration": 15,
    "start_time": "2022-03-02T18:27:36.653Z"
   },
   {
    "duration": 266,
    "start_time": "2022-03-02T18:35:30.796Z"
   },
   {
    "duration": 325,
    "start_time": "2022-03-02T18:35:46.995Z"
   },
   {
    "duration": 83,
    "start_time": "2022-03-02T18:36:32.656Z"
   },
   {
    "duration": 365,
    "start_time": "2022-03-02T18:37:20.536Z"
   },
   {
    "duration": 11,
    "start_time": "2022-03-02T18:38:03.156Z"
   },
   {
    "duration": 240,
    "start_time": "2022-03-02T18:46:49.638Z"
   },
   {
    "duration": 13,
    "start_time": "2022-03-02T18:47:07.237Z"
   },
   {
    "duration": 13,
    "start_time": "2022-03-02T18:47:43.399Z"
   },
   {
    "duration": 595,
    "start_time": "2022-03-02T18:47:46.997Z"
   },
   {
    "duration": 5,
    "start_time": "2022-03-02T18:52:44.077Z"
   },
   {
    "duration": 495,
    "start_time": "2022-03-02T18:52:47.730Z"
   },
   {
    "duration": 1566,
    "start_time": "2022-03-02T19:08:40.595Z"
   },
   {
    "duration": 380,
    "start_time": "2022-03-02T19:08:41.784Z"
   },
   {
    "duration": 158,
    "start_time": "2022-03-02T19:09:12.355Z"
   },
   {
    "duration": 8,
    "start_time": "2022-03-02T19:58:01.605Z"
   },
   {
    "duration": 30,
    "start_time": "2022-03-02T19:58:08.151Z"
   },
   {
    "duration": 29,
    "start_time": "2022-03-02T19:58:19.751Z"
   },
   {
    "duration": 28,
    "start_time": "2022-03-02T19:58:20.532Z"
   },
   {
    "duration": 29,
    "start_time": "2022-03-02T19:58:21.351Z"
   },
   {
    "duration": 249,
    "start_time": "2022-03-02T19:58:37.051Z"
   },
   {
    "duration": 77,
    "start_time": "2022-03-02T20:00:38.751Z"
   },
   {
    "duration": 81,
    "start_time": "2022-03-02T20:00:51.991Z"
   },
   {
    "duration": 6,
    "start_time": "2022-03-02T20:01:21.971Z"
   },
   {
    "duration": 5,
    "start_time": "2022-03-02T20:01:23.671Z"
   },
   {
    "duration": 6,
    "start_time": "2022-03-02T20:01:27.520Z"
   },
   {
    "duration": 28,
    "start_time": "2022-03-02T20:01:28.552Z"
   },
   {
    "duration": 29,
    "start_time": "2022-03-02T20:01:29.351Z"
   },
   {
    "duration": 28,
    "start_time": "2022-03-02T20:01:29.991Z"
   },
   {
    "duration": 30,
    "start_time": "2022-03-02T20:01:31.831Z"
   },
   {
    "duration": 7,
    "start_time": "2022-03-02T20:14:20.225Z"
   },
   {
    "duration": 31,
    "start_time": "2022-03-02T20:14:21.352Z"
   },
   {
    "duration": 6,
    "start_time": "2022-03-02T20:40:09.823Z"
   },
   {
    "duration": 29,
    "start_time": "2022-03-02T20:40:11.022Z"
   },
   {
    "duration": 11,
    "start_time": "2022-03-02T20:41:19.982Z"
   },
   {
    "duration": 10,
    "start_time": "2022-03-02T20:41:21.182Z"
   },
   {
    "duration": 31,
    "start_time": "2022-03-02T20:41:23.901Z"
   },
   {
    "duration": 233,
    "start_time": "2022-03-02T20:42:46.141Z"
   },
   {
    "duration": 255,
    "start_time": "2022-03-02T20:43:41.261Z"
   },
   {
    "duration": 6,
    "start_time": "2022-03-02T21:04:07.630Z"
   },
   {
    "duration": 491,
    "start_time": "2022-03-02T21:04:09.367Z"
   },
   {
    "duration": 6,
    "start_time": "2022-03-02T21:08:23.823Z"
   },
   {
    "duration": 6343,
    "start_time": "2022-03-02T21:08:28.646Z"
   },
   {
    "duration": 289,
    "start_time": "2022-03-02T21:08:34.703Z"
   },
   {
    "duration": 286,
    "start_time": "2022-03-02T21:08:34.708Z"
   },
   {
    "duration": 276,
    "start_time": "2022-03-02T21:08:34.719Z"
   },
   {
    "duration": 6,
    "start_time": "2022-03-02T21:09:59.374Z"
   },
   {
    "duration": 6256,
    "start_time": "2022-03-02T21:10:00.984Z"
   },
   {
    "duration": 334,
    "start_time": "2022-03-02T21:10:06.909Z"
   },
   {
    "duration": 331,
    "start_time": "2022-03-02T21:10:06.914Z"
   },
   {
    "duration": 324,
    "start_time": "2022-03-02T21:10:06.924Z"
   },
   {
    "duration": 248,
    "start_time": "2022-03-02T22:10:24.838Z"
   },
   {
    "duration": 6,
    "start_time": "2022-03-02T22:11:42.998Z"
   },
   {
    "duration": 86,
    "start_time": "2022-03-02T22:11:44.198Z"
   },
   {
    "duration": 5,
    "start_time": "2022-03-02T22:12:47.080Z"
   },
   {
    "duration": 34,
    "start_time": "2022-03-02T22:12:48.206Z"
   },
   {
    "duration": 6384,
    "start_time": "2022-03-02T22:12:49.317Z"
   },
   {
    "duration": 15,
    "start_time": "2022-03-02T22:13:47.637Z"
   },
   {
    "duration": 1677,
    "start_time": "2022-03-02T22:15:18.118Z"
   },
   {
    "duration": 83,
    "start_time": "2022-03-02T22:23:59.881Z"
   },
   {
    "duration": 15,
    "start_time": "2022-03-02T22:24:32.111Z"
   },
   {
    "duration": 256,
    "start_time": "2022-03-02T22:27:20.191Z"
   },
   {
    "duration": 12,
    "start_time": "2022-03-02T22:29:46.110Z"
   },
   {
    "duration": 95,
    "start_time": "2022-03-02T22:29:47.791Z"
   },
   {
    "duration": 78,
    "start_time": "2022-03-02T22:30:40.671Z"
   },
   {
    "duration": 14,
    "start_time": "2022-03-02T22:30:49.790Z"
   },
   {
    "duration": 17,
    "start_time": "2022-03-02T22:30:52.351Z"
   },
   {
    "duration": 13,
    "start_time": "2022-03-02T22:30:53.110Z"
   },
   {
    "duration": 80,
    "start_time": "2022-03-02T22:30:55.112Z"
   },
   {
    "duration": 5,
    "start_time": "2022-03-02T22:33:50.112Z"
   },
   {
    "duration": 266,
    "start_time": "2022-03-02T22:33:51.949Z"
   },
   {
    "duration": 608,
    "start_time": "2022-03-02T22:33:54.270Z"
   },
   {
    "duration": 86,
    "start_time": "2022-03-02T22:34:56.181Z"
   },
   {
    "duration": 478,
    "start_time": "2022-03-02T22:34:58.430Z"
   },
   {
    "duration": 249,
    "start_time": "2022-03-02T22:35:29.719Z"
   },
   {
    "duration": 265,
    "start_time": "2022-03-02T22:38:53.470Z"
   },
   {
    "duration": 970,
    "start_time": "2022-03-02T22:39:48.123Z"
   },
   {
    "duration": 325,
    "start_time": "2022-03-03T09:20:52.463Z"
   },
   {
    "duration": 278,
    "start_time": "2022-03-03T09:21:10.263Z"
   },
   {
    "duration": 280,
    "start_time": "2022-03-03T09:21:52.863Z"
   },
   {
    "duration": 322,
    "start_time": "2022-03-03T09:23:27.833Z"
   },
   {
    "duration": 285,
    "start_time": "2022-03-03T09:23:38.333Z"
   },
   {
    "duration": 291,
    "start_time": "2022-03-03T09:23:57.514Z"
   },
   {
    "duration": 274,
    "start_time": "2022-03-03T09:24:55.144Z"
   },
   {
    "duration": 302,
    "start_time": "2022-03-03T09:24:55.784Z"
   },
   {
    "duration": 594,
    "start_time": "2022-03-03T09:25:05.304Z"
   },
   {
    "duration": 131,
    "start_time": "2022-03-03T09:25:06.125Z"
   },
   {
    "duration": 16,
    "start_time": "2022-03-03T09:25:06.903Z"
   },
   {
    "duration": 24,
    "start_time": "2022-03-03T09:25:07.624Z"
   },
   {
    "duration": 3,
    "start_time": "2022-03-03T09:25:09.464Z"
   },
   {
    "duration": 18,
    "start_time": "2022-03-03T09:25:10.424Z"
   },
   {
    "duration": 4,
    "start_time": "2022-03-03T09:25:11.124Z"
   },
   {
    "duration": 19,
    "start_time": "2022-03-03T09:25:11.784Z"
   },
   {
    "duration": 15,
    "start_time": "2022-03-03T09:25:13.064Z"
   },
   {
    "duration": 21,
    "start_time": "2022-03-03T09:25:13.824Z"
   },
   {
    "duration": 53,
    "start_time": "2022-03-03T09:25:14.635Z"
   },
   {
    "duration": 61,
    "start_time": "2022-03-03T09:25:15.472Z"
   },
   {
    "duration": 45,
    "start_time": "2022-03-03T09:25:16.343Z"
   },
   {
    "duration": 7,
    "start_time": "2022-03-03T09:25:17.704Z"
   },
   {
    "duration": 3,
    "start_time": "2022-03-03T09:25:19.464Z"
   },
   {
    "duration": 8,
    "start_time": "2022-03-03T09:25:20.603Z"
   },
   {
    "duration": 25,
    "start_time": "2022-03-03T09:25:22.118Z"
   },
   {
    "duration": 10,
    "start_time": "2022-03-03T09:25:25.773Z"
   },
   {
    "duration": 10,
    "start_time": "2022-03-03T09:25:26.904Z"
   },
   {
    "duration": 3,
    "start_time": "2022-03-03T09:25:28.192Z"
   },
   {
    "duration": 14,
    "start_time": "2022-03-03T09:25:28.943Z"
   },
   {
    "duration": 12,
    "start_time": "2022-03-03T09:25:29.303Z"
   },
   {
    "duration": 15,
    "start_time": "2022-03-03T09:25:29.733Z"
   },
   {
    "duration": 13,
    "start_time": "2022-03-03T09:25:30.203Z"
   },
   {
    "duration": 15,
    "start_time": "2022-03-03T09:25:30.665Z"
   },
   {
    "duration": 13,
    "start_time": "2022-03-03T09:25:31.223Z"
   },
   {
    "duration": 8,
    "start_time": "2022-03-03T09:25:32.532Z"
   },
   {
    "duration": 10,
    "start_time": "2022-03-03T09:25:35.383Z"
   },
   {
    "duration": 8,
    "start_time": "2022-03-03T09:25:35.503Z"
   },
   {
    "duration": 4,
    "start_time": "2022-03-03T09:25:36.904Z"
   },
   {
    "duration": 286,
    "start_time": "2022-03-03T09:25:39.085Z"
   },
   {
    "duration": 607,
    "start_time": "2022-03-03T09:25:39.904Z"
   },
   {
    "duration": 4,
    "start_time": "2022-03-03T09:27:14.752Z"
   },
   {
    "duration": 304,
    "start_time": "2022-03-03T09:27:15.703Z"
   },
   {
    "duration": 562,
    "start_time": "2022-03-03T09:27:16.533Z"
   },
   {
    "duration": 562,
    "start_time": "2022-03-03T09:27:25.505Z"
   },
   {
    "duration": 291,
    "start_time": "2022-03-03T09:27:26.343Z"
   },
   {
    "duration": 544,
    "start_time": "2022-03-03T09:28:09.144Z"
   },
   {
    "duration": 342,
    "start_time": "2022-03-03T09:28:29.820Z"
   },
   {
    "duration": 396,
    "start_time": "2022-03-03T09:30:00.543Z"
   },
   {
    "duration": 103,
    "start_time": "2022-03-03T09:31:38.237Z"
   },
   {
    "duration": 310,
    "start_time": "2022-03-03T09:32:55.222Z"
   },
   {
    "duration": 593,
    "start_time": "2022-03-03T09:33:57.395Z"
   },
   {
    "duration": 592,
    "start_time": "2022-03-03T09:34:03.026Z"
   },
   {
    "duration": 906,
    "start_time": "2022-03-03T09:36:27.385Z"
   },
   {
    "duration": 599,
    "start_time": "2022-03-03T09:38:27.155Z"
   },
   {
    "duration": 622,
    "start_time": "2022-03-03T09:39:19.496Z"
   },
   {
    "duration": 1028,
    "start_time": "2022-03-03T09:40:23.086Z"
   },
   {
    "duration": 3,
    "start_time": "2022-03-03T09:40:30.017Z"
   },
   {
    "duration": 4685,
    "start_time": "2022-03-03T09:40:31.106Z"
   },
   {
    "duration": 1017,
    "start_time": "2022-03-03T09:40:34.776Z"
   },
   {
    "duration": 2129,
    "start_time": "2022-03-03T10:02:07.376Z"
   },
   {
    "duration": 2428,
    "start_time": "2022-03-03T10:03:35.908Z"
   },
   {
    "duration": 1163,
    "start_time": "2022-03-03T10:06:01.537Z"
   },
   {
    "duration": 1168,
    "start_time": "2022-03-03T10:07:09.297Z"
   },
   {
    "duration": 1137,
    "start_time": "2022-03-03T10:08:25.636Z"
   },
   {
    "duration": 296,
    "start_time": "2022-03-03T10:29:56.217Z"
   },
   {
    "duration": 2021,
    "start_time": "2022-03-03T10:30:50.532Z"
   },
   {
    "duration": 2138,
    "start_time": "2022-03-03T10:32:01.732Z"
   },
   {
    "duration": 2127,
    "start_time": "2022-03-03T10:33:29.732Z"
   },
   {
    "duration": 6121,
    "start_time": "2022-03-03T10:35:00.494Z"
   },
   {
    "duration": 91,
    "start_time": "2022-03-03T10:37:54.853Z"
   },
   {
    "duration": 2147,
    "start_time": "2022-03-03T10:38:15.733Z"
   },
   {
    "duration": 311,
    "start_time": "2022-03-03T10:43:23.832Z"
   },
   {
    "duration": 298,
    "start_time": "2022-03-03T10:43:48.771Z"
   },
   {
    "duration": 102,
    "start_time": "2022-03-03T10:46:46.093Z"
   },
   {
    "duration": 326,
    "start_time": "2022-03-03T10:47:05.043Z"
   },
   {
    "duration": 652,
    "start_time": "2022-03-03T10:47:29.934Z"
   },
   {
    "duration": 311,
    "start_time": "2022-03-03T10:52:45.013Z"
   },
   {
    "duration": 7505,
    "start_time": "2022-03-03T10:53:51.400Z"
   },
   {
    "duration": 7664,
    "start_time": "2022-03-03T10:53:59.932Z"
   },
   {
    "duration": 7523,
    "start_time": "2022-03-03T10:54:55.092Z"
   },
   {
    "duration": 4,
    "start_time": "2022-03-03T10:57:26.222Z"
   },
   {
    "duration": 619,
    "start_time": "2022-03-03T10:57:28.682Z"
   },
   {
    "duration": 356,
    "start_time": "2022-03-03T10:58:48.252Z"
   },
   {
    "duration": 380,
    "start_time": "2022-03-03T11:00:54.372Z"
   },
   {
    "duration": 3,
    "start_time": "2022-03-03T11:02:34.873Z"
   },
   {
    "duration": 3,
    "start_time": "2022-03-03T11:02:38.380Z"
   },
   {
    "duration": 335,
    "start_time": "2022-03-03T11:02:39.662Z"
   },
   {
    "duration": 322,
    "start_time": "2022-03-03T11:07:34.053Z"
   },
   {
    "duration": 343,
    "start_time": "2022-03-03T11:10:31.693Z"
   },
   {
    "duration": 291,
    "start_time": "2022-03-03T11:11:17.391Z"
   },
   {
    "duration": 14,
    "start_time": "2022-03-03T11:38:26.315Z"
   },
   {
    "duration": 9,
    "start_time": "2022-03-03T11:38:28.066Z"
   },
   {
    "duration": 12,
    "start_time": "2022-03-03T11:38:30.787Z"
   },
   {
    "duration": 9,
    "start_time": "2022-03-03T11:38:31.425Z"
   },
   {
    "duration": 114,
    "start_time": "2022-03-03T11:38:33.346Z"
   },
   {
    "duration": 4,
    "start_time": "2022-03-03T11:39:19.665Z"
   },
   {
    "duration": 336,
    "start_time": "2022-03-03T11:39:27.675Z"
   },
   {
    "duration": 917,
    "start_time": "2022-03-03T11:40:46.395Z"
   },
   {
    "duration": 290,
    "start_time": "2022-03-03T11:42:20.146Z"
   },
   {
    "duration": 308,
    "start_time": "2022-03-03T11:42:59.666Z"
   },
   {
    "duration": 276,
    "start_time": "2022-03-03T11:43:18.426Z"
   },
   {
    "duration": 107,
    "start_time": "2022-03-03T11:44:45.186Z"
   },
   {
    "duration": 121,
    "start_time": "2022-03-03T11:45:02.787Z"
   },
   {
    "duration": 107,
    "start_time": "2022-03-03T11:46:30.097Z"
   },
   {
    "duration": 324,
    "start_time": "2022-03-03T11:47:01.346Z"
   },
   {
    "duration": 312,
    "start_time": "2022-03-03T11:49:45.099Z"
   },
   {
    "duration": 91,
    "start_time": "2022-03-03T11:51:55.339Z"
   },
   {
    "duration": 281,
    "start_time": "2022-03-03T11:51:57.419Z"
   },
   {
    "duration": 89,
    "start_time": "2022-03-03T11:56:02.806Z"
   },
   {
    "duration": 110,
    "start_time": "2022-03-03T11:56:39.849Z"
   },
   {
    "duration": 130,
    "start_time": "2022-03-03T11:56:49.258Z"
   },
   {
    "duration": 95,
    "start_time": "2022-03-03T11:58:27.978Z"
   },
   {
    "duration": 111,
    "start_time": "2022-03-03T12:01:19.968Z"
   },
   {
    "duration": 97,
    "start_time": "2022-03-03T12:01:34.699Z"
   },
   {
    "duration": 92,
    "start_time": "2022-03-03T12:02:56.386Z"
   },
   {
    "duration": 4,
    "start_time": "2022-03-03T12:03:07.137Z"
   },
   {
    "duration": 108,
    "start_time": "2022-03-03T12:03:09.666Z"
   },
   {
    "duration": 31,
    "start_time": "2022-03-03T12:03:29.345Z"
   },
   {
    "duration": 25,
    "start_time": "2022-03-03T12:07:40.704Z"
   },
   {
    "duration": 4,
    "start_time": "2022-03-03T12:10:21.585Z"
   },
   {
    "duration": 651,
    "start_time": "2022-03-03T12:10:23.445Z"
   },
   {
    "duration": 3,
    "start_time": "2022-03-03T12:10:42.386Z"
   },
   {
    "duration": 48,
    "start_time": "2022-03-03T12:10:44.214Z"
   },
   {
    "duration": 17,
    "start_time": "2022-03-03T12:12:09.974Z"
   },
   {
    "duration": 31,
    "start_time": "2022-03-03T12:13:07.561Z"
   },
   {
    "duration": 108,
    "start_time": "2022-03-03T12:14:07.925Z"
   },
   {
    "duration": 18,
    "start_time": "2022-03-03T12:14:37.575Z"
   },
   {
    "duration": 10,
    "start_time": "2022-03-03T12:16:32.145Z"
   },
   {
    "duration": 5,
    "start_time": "2022-03-03T12:16:41.034Z"
   },
   {
    "duration": 8,
    "start_time": "2022-03-03T12:16:47.504Z"
   },
   {
    "duration": 5,
    "start_time": "2022-03-03T12:16:49.505Z"
   },
   {
    "duration": 1214,
    "start_time": "2022-03-03T12:21:39.824Z"
   },
   {
    "duration": 24,
    "start_time": "2022-03-03T12:22:16.545Z"
   },
   {
    "duration": 4,
    "start_time": "2022-03-03T12:38:17.496Z"
   },
   {
    "duration": 655,
    "start_time": "2022-03-03T12:38:19.294Z"
   },
   {
    "duration": 4,
    "start_time": "2022-03-03T12:38:52.642Z"
   },
   {
    "duration": 673,
    "start_time": "2022-03-03T12:38:53.905Z"
   },
   {
    "duration": 3,
    "start_time": "2022-03-03T12:39:13.745Z"
   },
   {
    "duration": 25,
    "start_time": "2022-03-03T12:39:15.394Z"
   },
   {
    "duration": 16,
    "start_time": "2022-03-03T12:40:11.035Z"
   },
   {
    "duration": 18,
    "start_time": "2022-03-03T12:40:12.545Z"
   },
   {
    "duration": 94,
    "start_time": "2022-03-03T12:43:54.945Z"
   },
   {
    "duration": 591,
    "start_time": "2022-03-03T12:44:04.624Z"
   },
   {
    "duration": 345,
    "start_time": "2022-03-03T12:44:18.145Z"
   },
   {
    "duration": 111,
    "start_time": "2022-03-03T12:45:27.695Z"
   },
   {
    "duration": 109,
    "start_time": "2022-03-03T12:45:37.455Z"
   },
   {
    "duration": 1683,
    "start_time": "2022-03-03T12:45:53.123Z"
   },
   {
    "duration": 18,
    "start_time": "2022-03-03T12:45:55.614Z"
   },
   {
    "duration": 26,
    "start_time": "2022-03-03T13:22:50.949Z"
   },
   {
    "duration": 4,
    "start_time": "2022-03-03T13:35:50.943Z"
   },
   {
    "duration": 1685,
    "start_time": "2022-03-03T13:35:52.358Z"
   },
   {
    "duration": 3,
    "start_time": "2022-03-03T13:37:58.071Z"
   },
   {
    "duration": 25,
    "start_time": "2022-03-03T13:37:59.342Z"
   },
   {
    "duration": 263,
    "start_time": "2022-03-03T18:10:42.336Z"
   },
   {
    "duration": 537,
    "start_time": "2022-03-03T18:11:02.495Z"
   },
   {
    "duration": 127,
    "start_time": "2022-03-03T18:11:03.614Z"
   },
   {
    "duration": 17,
    "start_time": "2022-03-03T18:11:04.076Z"
   },
   {
    "duration": 25,
    "start_time": "2022-03-03T18:11:04.486Z"
   },
   {
    "duration": 4,
    "start_time": "2022-03-03T18:11:05.375Z"
   },
   {
    "duration": 20,
    "start_time": "2022-03-03T18:11:05.743Z"
   },
   {
    "duration": 4,
    "start_time": "2022-03-03T18:11:06.135Z"
   },
   {
    "duration": 21,
    "start_time": "2022-03-03T18:11:06.495Z"
   },
   {
    "duration": 18,
    "start_time": "2022-03-03T18:11:07.303Z"
   },
   {
    "duration": 26,
    "start_time": "2022-03-03T18:11:07.695Z"
   },
   {
    "duration": 57,
    "start_time": "2022-03-03T18:11:08.175Z"
   },
   {
    "duration": 71,
    "start_time": "2022-03-03T18:11:08.756Z"
   },
   {
    "duration": 51,
    "start_time": "2022-03-03T18:11:09.295Z"
   },
   {
    "duration": 7,
    "start_time": "2022-03-03T18:11:11.305Z"
   },
   {
    "duration": 3,
    "start_time": "2022-03-03T18:11:12.225Z"
   },
   {
    "duration": 10,
    "start_time": "2022-03-03T18:11:13.294Z"
   },
   {
    "duration": 30,
    "start_time": "2022-03-03T18:11:13.935Z"
   },
   {
    "duration": 10,
    "start_time": "2022-03-03T18:11:17.461Z"
   },
   {
    "duration": 10,
    "start_time": "2022-03-03T18:11:18.335Z"
   },
   {
    "duration": 3,
    "start_time": "2022-03-03T18:11:21.536Z"
   },
   {
    "duration": 18,
    "start_time": "2022-03-03T18:11:23.216Z"
   },
   {
    "duration": 15,
    "start_time": "2022-03-03T18:11:23.513Z"
   },
   {
    "duration": 15,
    "start_time": "2022-03-03T18:11:23.965Z"
   },
   {
    "duration": 13,
    "start_time": "2022-03-03T18:11:24.335Z"
   },
   {
    "duration": 17,
    "start_time": "2022-03-03T18:11:27.135Z"
   },
   {
    "duration": 14,
    "start_time": "2022-03-03T18:11:29.135Z"
   },
   {
    "duration": 8,
    "start_time": "2022-03-03T18:11:31.915Z"
   },
   {
    "duration": 11,
    "start_time": "2022-03-03T18:11:38.676Z"
   },
   {
    "duration": 34,
    "start_time": "2022-03-03T18:11:38.689Z"
   },
   {
    "duration": 4,
    "start_time": "2022-03-03T18:11:42.102Z"
   },
   {
    "duration": 73,
    "start_time": "2022-03-03T18:11:42.107Z"
   },
   {
    "duration": 19,
    "start_time": "2022-03-03T18:11:42.275Z"
   },
   {
    "duration": 25,
    "start_time": "2022-03-03T18:11:46.814Z"
   },
   {
    "duration": 32,
    "start_time": "2022-03-03T18:12:06.585Z"
   },
   {
    "duration": 27,
    "start_time": "2022-03-03T18:13:56.336Z"
   },
   {
    "duration": 704,
    "start_time": "2022-03-04T11:36:36.009Z"
   },
   {
    "duration": 127,
    "start_time": "2022-03-04T11:36:36.716Z"
   },
   {
    "duration": 16,
    "start_time": "2022-03-04T11:36:36.845Z"
   },
   {
    "duration": 24,
    "start_time": "2022-03-04T11:36:37.177Z"
   },
   {
    "duration": 5,
    "start_time": "2022-03-04T11:36:38.250Z"
   },
   {
    "duration": 24,
    "start_time": "2022-03-04T11:36:38.570Z"
   },
   {
    "duration": 5,
    "start_time": "2022-03-04T11:36:38.930Z"
   },
   {
    "duration": 21,
    "start_time": "2022-03-04T11:36:39.290Z"
   },
   {
    "duration": 16,
    "start_time": "2022-03-04T11:36:39.810Z"
   },
   {
    "duration": 22,
    "start_time": "2022-03-04T11:36:40.210Z"
   },
   {
    "duration": 54,
    "start_time": "2022-03-04T11:36:40.570Z"
   },
   {
    "duration": 63,
    "start_time": "2022-03-04T11:36:40.929Z"
   },
   {
    "duration": 49,
    "start_time": "2022-03-04T11:36:41.290Z"
   },
   {
    "duration": 7,
    "start_time": "2022-03-04T11:36:41.851Z"
   },
   {
    "duration": 3,
    "start_time": "2022-03-04T11:36:42.210Z"
   },
   {
    "duration": 10,
    "start_time": "2022-03-04T11:36:42.649Z"
   },
   {
    "duration": 26,
    "start_time": "2022-03-04T11:36:43.029Z"
   },
   {
    "duration": 11,
    "start_time": "2022-03-04T11:36:44.309Z"
   },
   {
    "duration": 11,
    "start_time": "2022-03-04T11:36:45.529Z"
   },
   {
    "duration": 3,
    "start_time": "2022-03-04T11:36:47.210Z"
   },
   {
    "duration": 15,
    "start_time": "2022-03-04T11:36:48.030Z"
   },
   {
    "duration": 15,
    "start_time": "2022-03-04T11:36:48.330Z"
   },
   {
    "duration": 16,
    "start_time": "2022-03-04T11:36:48.569Z"
   },
   {
    "duration": 15,
    "start_time": "2022-03-04T11:36:48.739Z"
   },
   {
    "duration": 17,
    "start_time": "2022-03-04T11:36:48.969Z"
   },
   {
    "duration": 15,
    "start_time": "2022-03-04T11:36:49.289Z"
   },
   {
    "duration": 9,
    "start_time": "2022-03-04T11:36:50.169Z"
   },
   {
    "duration": 11,
    "start_time": "2022-03-04T11:36:52.490Z"
   },
   {
    "duration": 10,
    "start_time": "2022-03-04T11:36:52.759Z"
   },
   {
    "duration": 3,
    "start_time": "2022-03-04T11:36:53.539Z"
   },
   {
    "duration": 60,
    "start_time": "2022-03-04T11:36:56.419Z"
   },
   {
    "duration": 18,
    "start_time": "2022-03-04T11:36:57.610Z"
   },
   {
    "duration": 23,
    "start_time": "2022-03-04T11:36:58.829Z"
   },
   {
    "duration": 59,
    "start_time": "2022-03-04T11:37:37.689Z"
   },
   {
    "duration": 19,
    "start_time": "2022-03-04T11:37:38.810Z"
   },
   {
    "duration": 57,
    "start_time": "2022-03-04T11:37:41.170Z"
   },
   {
    "duration": 65,
    "start_time": "2022-03-04T11:38:09.449Z"
   },
   {
    "duration": 45,
    "start_time": "2022-03-04T11:38:29.730Z"
   },
   {
    "duration": 48,
    "start_time": "2022-03-04T11:38:41.851Z"
   },
   {
    "duration": 45,
    "start_time": "2022-03-04T11:38:53.290Z"
   },
   {
    "duration": 44,
    "start_time": "2022-03-04T11:39:38.170Z"
   },
   {
    "duration": 43,
    "start_time": "2022-03-04T11:39:41.770Z"
   },
   {
    "duration": 346,
    "start_time": "2022-03-10T23:36:51.279Z"
   },
   {
    "duration": 313,
    "start_time": "2022-03-10T23:37:07.039Z"
   },
   {
    "duration": 769,
    "start_time": "2022-03-10T23:37:15.278Z"
   },
   {
    "duration": 198,
    "start_time": "2022-03-10T23:37:16.469Z"
   },
   {
    "duration": 25,
    "start_time": "2022-03-10T23:37:17.650Z"
   },
   {
    "duration": 35,
    "start_time": "2022-03-10T23:37:19.298Z"
   },
   {
    "duration": 6,
    "start_time": "2022-03-10T23:37:24.959Z"
   },
   {
    "duration": 28,
    "start_time": "2022-03-10T23:37:25.759Z"
   },
   {
    "duration": 6,
    "start_time": "2022-03-10T23:37:26.959Z"
   },
   {
    "duration": 30,
    "start_time": "2022-03-10T23:37:30.159Z"
   },
   {
    "duration": 91,
    "start_time": "2022-03-10T23:37:40.400Z"
   },
   {
    "duration": 37,
    "start_time": "2022-03-10T23:37:44.959Z"
   },
   {
    "duration": 110,
    "start_time": "2022-03-10T23:38:52.100Z"
   },
   {
    "duration": 9,
    "start_time": "2022-03-10T23:38:53.360Z"
   },
   {
    "duration": 4,
    "start_time": "2022-03-10T23:38:54.719Z"
   },
   {
    "duration": 15,
    "start_time": "2022-03-10T23:38:57.360Z"
   },
   {
    "duration": 88,
    "start_time": "2022-03-10T23:38:59.121Z"
   },
   {
    "duration": 24,
    "start_time": "2022-03-10T23:49:06.959Z"
   },
   {
    "duration": 31,
    "start_time": "2022-03-10T23:53:33.313Z"
   },
   {
    "duration": 24,
    "start_time": "2022-03-10T23:53:43.152Z"
   },
   {
    "duration": 36,
    "start_time": "2022-03-10T23:53:45.472Z"
   },
   {
    "duration": 17,
    "start_time": "2022-03-10T23:53:59.954Z"
   },
   {
    "duration": 32,
    "start_time": "2022-03-10T23:54:01.583Z"
   },
   {
    "duration": 6,
    "start_time": "2022-03-10T23:54:04.594Z"
   },
   {
    "duration": 26,
    "start_time": "2022-03-10T23:54:05.634Z"
   },
   {
    "duration": 6,
    "start_time": "2022-03-10T23:54:06.804Z"
   },
   {
    "duration": 31,
    "start_time": "2022-03-10T23:54:08.503Z"
   },
   {
    "duration": 24,
    "start_time": "2022-03-10T23:54:21.555Z"
   },
   {
    "duration": 35,
    "start_time": "2022-03-10T23:54:41.880Z"
   },
   {
    "duration": 91,
    "start_time": "2022-03-10T23:54:44.034Z"
   },
   {
    "duration": 102,
    "start_time": "2022-03-10T23:54:44.993Z"
   },
   {
    "duration": 77,
    "start_time": "2022-03-10T23:54:45.553Z"
   },
   {
    "duration": 10,
    "start_time": "2022-03-10T23:54:53.152Z"
   },
   {
    "duration": 4,
    "start_time": "2022-03-10T23:54:56.273Z"
   },
   {
    "duration": 14,
    "start_time": "2022-03-10T23:55:00.434Z"
   },
   {
    "duration": 84,
    "start_time": "2022-03-10T23:55:01.794Z"
   },
   {
    "duration": 100,
    "start_time": "2022-03-11T06:45:39.381Z"
   },
   {
    "duration": 95,
    "start_time": "2022-03-11T06:46:42.462Z"
   },
   {
    "duration": 557,
    "start_time": "2022-03-11T11:16:34.736Z"
   },
   {
    "duration": 130,
    "start_time": "2022-03-11T11:16:36.306Z"
   },
   {
    "duration": 15,
    "start_time": "2022-03-11T11:16:37.487Z"
   },
   {
    "duration": 22,
    "start_time": "2022-03-11T11:16:38.846Z"
   },
   {
    "duration": 4,
    "start_time": "2022-03-11T11:16:44.476Z"
   },
   {
    "duration": 19,
    "start_time": "2022-03-11T11:16:45.647Z"
   },
   {
    "duration": 3,
    "start_time": "2022-03-11T11:16:47.538Z"
   },
   {
    "duration": 20,
    "start_time": "2022-03-11T11:16:49.336Z"
   },
   {
    "duration": 16,
    "start_time": "2022-03-11T11:16:51.326Z"
   },
   {
    "duration": 21,
    "start_time": "2022-03-11T11:16:54.255Z"
   },
   {
    "duration": 59,
    "start_time": "2022-03-11T11:17:02.176Z"
   },
   {
    "duration": 71,
    "start_time": "2022-03-11T11:17:04.736Z"
   },
   {
    "duration": 48,
    "start_time": "2022-03-11T11:17:05.696Z"
   },
   {
    "duration": 36,
    "start_time": "2022-03-11T11:17:09.277Z"
   },
   {
    "duration": 3,
    "start_time": "2022-03-11T11:17:18.996Z"
   },
   {
    "duration": 10,
    "start_time": "2022-03-11T11:17:20.336Z"
   },
   {
    "duration": 57,
    "start_time": "2022-03-11T11:17:21.438Z"
   },
   {
    "duration": 39,
    "start_time": "2022-03-11T11:17:58.817Z"
   },
   {
    "duration": 55,
    "start_time": "2022-03-11T11:19:19.495Z"
   },
   {
    "duration": 56,
    "start_time": "2022-03-11T11:19:26.447Z"
   },
   {
    "duration": 9,
    "start_time": "2022-03-11T11:19:55.757Z"
   },
   {
    "duration": 54,
    "start_time": "2022-03-11T11:19:58.042Z"
   },
   {
    "duration": 10,
    "start_time": "2022-03-11T11:20:02.976Z"
   },
   {
    "duration": 9,
    "start_time": "2022-03-11T11:20:03.297Z"
   },
   {
    "duration": 3,
    "start_time": "2022-03-11T11:20:05.298Z"
   },
   {
    "duration": 15,
    "start_time": "2022-03-11T11:20:26.736Z"
   },
   {
    "duration": 13,
    "start_time": "2022-03-11T11:20:26.916Z"
   },
   {
    "duration": 15,
    "start_time": "2022-03-11T11:20:27.137Z"
   },
   {
    "duration": 14,
    "start_time": "2022-03-11T11:20:27.327Z"
   },
   {
    "duration": 15,
    "start_time": "2022-03-11T11:20:27.486Z"
   },
   {
    "duration": 13,
    "start_time": "2022-03-11T11:20:27.676Z"
   },
   {
    "duration": 8,
    "start_time": "2022-03-11T11:20:28.738Z"
   },
   {
    "duration": 588,
    "start_time": "2022-03-11T11:22:29.776Z"
   },
   {
    "duration": 9,
    "start_time": "2022-03-11T11:22:41.445Z"
   },
   {
    "duration": 315,
    "start_time": "2022-03-11T11:22:43.627Z"
   },
   {
    "duration": 398,
    "start_time": "2022-03-11T15:32:55.460Z"
   },
   {
    "duration": 337,
    "start_time": "2022-03-11T15:33:02.330Z"
   },
   {
    "duration": 347,
    "start_time": "2022-03-11T15:33:03.011Z"
   },
   {
    "duration": 331,
    "start_time": "2022-03-11T15:33:06.826Z"
   },
   {
    "duration": 803,
    "start_time": "2022-03-11T15:33:15.940Z"
   },
   {
    "duration": 189,
    "start_time": "2022-03-11T15:33:17.460Z"
   },
   {
    "duration": 25,
    "start_time": "2022-03-11T15:33:18.542Z"
   },
   {
    "duration": 32,
    "start_time": "2022-03-11T15:33:18.570Z"
   },
   {
    "duration": 8,
    "start_time": "2022-03-11T15:33:21.530Z"
   },
   {
    "duration": 25,
    "start_time": "2022-03-11T15:33:23.808Z"
   },
   {
    "duration": 6,
    "start_time": "2022-03-11T15:33:25.010Z"
   },
   {
    "duration": 33,
    "start_time": "2022-03-11T15:33:26.570Z"
   },
   {
    "duration": 22,
    "start_time": "2022-03-11T15:33:27.790Z"
   },
   {
    "duration": 29,
    "start_time": "2022-03-11T15:33:30.730Z"
   },
   {
    "duration": 87,
    "start_time": "2022-03-11T15:33:33.400Z"
   },
   {
    "duration": 99,
    "start_time": "2022-03-11T15:33:34.940Z"
   },
   {
    "duration": 82,
    "start_time": "2022-03-11T15:33:35.730Z"
   },
   {
    "duration": 69,
    "start_time": "2022-03-11T15:33:37.530Z"
   },
   {
    "duration": 137,
    "start_time": "2022-03-11T15:36:06.804Z"
   },
   {
    "duration": 3,
    "start_time": "2022-03-11T15:36:26.037Z"
   },
   {
    "duration": 185,
    "start_time": "2022-03-11T15:36:26.975Z"
   },
   {
    "duration": 16,
    "start_time": "2022-03-11T15:36:27.575Z"
   },
   {
    "duration": 31,
    "start_time": "2022-03-11T15:36:28.415Z"
   },
   {
    "duration": 6,
    "start_time": "2022-03-11T15:36:30.095Z"
   },
   {
    "duration": 25,
    "start_time": "2022-03-11T15:36:30.476Z"
   },
   {
    "duration": 6,
    "start_time": "2022-03-11T15:36:31.135Z"
   },
   {
    "duration": 33,
    "start_time": "2022-03-11T15:36:31.855Z"
   },
   {
    "duration": 23,
    "start_time": "2022-03-11T15:36:33.215Z"
   },
   {
    "duration": 32,
    "start_time": "2022-03-11T15:36:34.335Z"
   },
   {
    "duration": 83,
    "start_time": "2022-03-11T15:36:35.375Z"
   },
   {
    "duration": 87,
    "start_time": "2022-03-11T15:36:36.175Z"
   },
   {
    "duration": 82,
    "start_time": "2022-03-11T15:36:36.495Z"
   },
   {
    "duration": 74,
    "start_time": "2022-03-11T15:36:37.975Z"
   },
   {
    "duration": 4,
    "start_time": "2022-03-11T15:36:38.984Z"
   },
   {
    "duration": 14,
    "start_time": "2022-03-11T15:36:40.256Z"
   },
   {
    "duration": 166,
    "start_time": "2022-03-11T15:36:41.455Z"
   },
   {
    "duration": 164,
    "start_time": "2022-03-11T15:36:55.934Z"
   },
   {
    "duration": 627,
    "start_time": "2022-03-11T21:17:40.220Z"
   },
   {
    "duration": 147,
    "start_time": "2022-03-11T21:17:42.219Z"
   },
   {
    "duration": 18,
    "start_time": "2022-03-11T21:17:42.470Z"
   },
   {
    "duration": 25,
    "start_time": "2022-03-11T21:17:45.340Z"
   },
   {
    "duration": 5,
    "start_time": "2022-03-11T21:18:08.329Z"
   },
   {
    "duration": 24,
    "start_time": "2022-03-11T21:18:08.336Z"
   },
   {
    "duration": 11,
    "start_time": "2022-03-11T21:18:08.363Z"
   },
   {
    "duration": 25,
    "start_time": "2022-03-11T21:18:08.618Z"
   },
   {
    "duration": 23,
    "start_time": "2022-03-11T21:18:08.645Z"
   },
   {
    "duration": 25,
    "start_time": "2022-03-11T21:18:08.670Z"
   },
   {
    "duration": 65,
    "start_time": "2022-03-11T21:18:14.089Z"
   },
   {
    "duration": 76,
    "start_time": "2022-03-11T21:18:15.219Z"
   },
   {
    "duration": 55,
    "start_time": "2022-03-11T21:18:16.139Z"
   },
   {
    "duration": 804,
    "start_time": "2022-03-12T08:03:44.039Z"
   },
   {
    "duration": 201,
    "start_time": "2022-03-12T08:03:44.846Z"
   },
   {
    "duration": 35,
    "start_time": "2022-03-12T08:03:45.051Z"
   },
   {
    "duration": 35,
    "start_time": "2022-03-12T08:03:45.090Z"
   },
   {
    "duration": 5,
    "start_time": "2022-03-12T08:03:45.128Z"
   },
   {
    "duration": 28,
    "start_time": "2022-03-12T08:03:45.173Z"
   },
   {
    "duration": 13,
    "start_time": "2022-03-12T08:03:45.203Z"
   },
   {
    "duration": 33,
    "start_time": "2022-03-12T08:03:45.220Z"
   },
   {
    "duration": 28,
    "start_time": "2022-03-12T08:03:45.273Z"
   },
   {
    "duration": 31,
    "start_time": "2022-03-12T08:03:45.303Z"
   },
   {
    "duration": 120,
    "start_time": "2022-03-12T08:03:45.337Z"
   },
   {
    "duration": 114,
    "start_time": "2022-03-12T08:03:45.459Z"
   },
   {
    "duration": 80,
    "start_time": "2022-03-12T08:03:45.576Z"
   },
   {
    "duration": 67,
    "start_time": "2022-03-12T08:03:45.659Z"
   },
   {
    "duration": 4,
    "start_time": "2022-03-12T08:03:45.728Z"
   },
   {
    "duration": 39,
    "start_time": "2022-03-12T08:03:45.734Z"
   },
   {
    "duration": 85,
    "start_time": "2022-03-12T08:03:45.775Z"
   },
   {
    "duration": 14,
    "start_time": "2022-03-12T08:03:45.874Z"
   },
   {
    "duration": 15,
    "start_time": "2022-03-12T08:03:45.890Z"
   },
   {
    "duration": 5,
    "start_time": "2022-03-12T08:03:45.907Z"
   },
   {
    "duration": 27,
    "start_time": "2022-03-12T08:03:45.914Z"
   },
   {
    "duration": 18,
    "start_time": "2022-03-12T08:03:45.974Z"
   },
   {
    "duration": 19,
    "start_time": "2022-03-12T08:03:45.997Z"
   },
   {
    "duration": 18,
    "start_time": "2022-03-12T08:03:46.019Z"
   },
   {
    "duration": 22,
    "start_time": "2022-03-12T08:03:46.074Z"
   },
   {
    "duration": 19,
    "start_time": "2022-03-12T08:03:46.098Z"
   },
   {
    "duration": 12,
    "start_time": "2022-03-12T08:03:46.119Z"
   },
   {
    "duration": 50,
    "start_time": "2022-03-12T08:03:46.133Z"
   },
   {
    "duration": 11,
    "start_time": "2022-03-12T08:03:46.186Z"
   },
   {
    "duration": 5,
    "start_time": "2022-03-12T08:03:46.200Z"
   },
   {
    "duration": 68,
    "start_time": "2022-03-12T08:03:46.207Z"
   },
   {
    "duration": 27,
    "start_time": "2022-03-12T08:03:46.278Z"
   },
   {
    "duration": 35,
    "start_time": "2022-03-12T08:03:46.307Z"
   },
   {
    "duration": 50,
    "start_time": "2022-03-12T08:03:46.344Z"
   },
   {
    "duration": 11,
    "start_time": "2022-03-12T08:03:46.397Z"
   },
   {
    "duration": 7,
    "start_time": "2022-03-12T08:03:46.410Z"
   },
   {
    "duration": 16,
    "start_time": "2022-03-12T08:03:46.419Z"
   },
   {
    "duration": 39,
    "start_time": "2022-03-12T08:03:46.437Z"
   },
   {
    "duration": 90,
    "start_time": "2022-03-12T08:10:12.761Z"
   },
   {
    "duration": 97,
    "start_time": "2022-03-12T11:24:12.725Z"
   },
   {
    "duration": 5,
    "start_time": "2022-03-12T11:25:16.743Z"
   }
  ],
  "colab": {
   "collapsed_sections": [
    "E0vqbgi9ay0H",
    "VUC88oWjTJw2"
   ],
   "name": "yandex_music_project_2021.2.ipynb",
   "provenance": []
  },
  "kernelspec": {
   "display_name": "Python 3 (ipykernel)",
   "language": "python",
   "name": "python3"
  },
  "language_info": {
   "codemirror_mode": {
    "name": "ipython",
    "version": 3
   },
   "file_extension": ".py",
   "mimetype": "text/x-python",
   "name": "python",
   "nbconvert_exporter": "python",
   "pygments_lexer": "ipython3",
   "version": "3.9.7"
  },
  "toc": {
   "base_numbering": 1,
   "nav_menu": {},
   "number_sections": true,
   "sideBar": true,
   "skip_h1_title": true,
   "title_cell": "Table of Contents",
   "title_sidebar": "Contents",
   "toc_cell": false,
   "toc_position": {
    "height": "calc(100% - 180px)",
    "left": "10px",
    "top": "150px",
    "width": "366.594px"
   },
   "toc_section_display": true,
   "toc_window_display": true
  }
 },
 "nbformat": 4,
 "nbformat_minor": 1
}
